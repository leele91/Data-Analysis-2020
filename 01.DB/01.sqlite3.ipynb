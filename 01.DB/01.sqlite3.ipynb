{
 "metadata": {
  "language_info": {
   "codemirror_mode": {
    "name": "ipython",
    "version": 3
   },
   "file_extension": ".py",
   "mimetype": "text/x-python",
   "name": "python",
   "nbconvert_exporter": "python",
   "pygments_lexer": "ipython3",
   "version": "3.8.3-final"
  },
  "orig_nbformat": 2,
  "kernelspec": {
   "name": "Python 3.8.3 64-bit (conda)",
   "display_name": "Python 3.8.3 64-bit (conda)",
   "metadata": {
    "interpreter": {
     "hash": "b3ba2566441a7c06988d0923437866b63cedc61552a5af99d1f4fb67d367b25f"
    }
   }
  }
 },
 "nbformat": 4,
 "nbformat_minor": 2,
 "cells": [
  {
   "source": [
    "#  SQLite3 활용"
   ],
   "cell_type": "markdown",
   "metadata": {}
  },
  {
   "source": [
    "### 접속"
   ],
   "cell_type": "markdown",
   "metadata": {}
  },
  {
   "cell_type": "code",
   "execution_count": 1,
   "metadata": {},
   "outputs": [
    {
     "output_type": "stream",
     "name": "stdout",
     "text": [
      "(1, '홍길동')\n(2, '대조영')\n"
     ]
    }
   ],
   "source": [
    "import sqlite3 # sqlite3 모듈사용 \n",
    "conn = sqlite3.connect('./test.db')\n",
    "cur = conn.cursor()\n",
    "cur.execute('select * from test;')\n",
    "rows = cur.fetchall()\n",
    "for row in rows:\n",
    "    print(row)\n",
    "conn.close() # 다끝나면 cnn.close()"
   ]
  },
  {
   "cell_type": "code",
   "execution_count": 2,
   "metadata": {},
   "outputs": [
    {
     "output_type": "stream",
     "name": "stdout",
     "text": [
      "(1, '홍길동')\n(2, '대조영')\n"
     ]
    }
   ],
   "source": [
    "conn = sqlite3.connect('./test.db')\n",
    "with conn:\n",
    "    cur = conn.cursor()\n",
    "    cur.execute('select * from test;')\n",
    "    rows = cur.fetchall()\n",
    "    for row in rows:\n",
    "        print(row)"
   ]
  },
  {
   "cell_type": "code",
   "execution_count": 3,
   "metadata": {},
   "outputs": [],
   "source": [
    "conn = sqlite3.connect('./test.db')\n",
    "cur = conn.cursor()"
   ]
  },
  {
   "cell_type": "code",
   "execution_count": 4,
   "metadata": {},
   "outputs": [
    {
     "output_type": "execute_result",
     "data": {
      "text/plain": [
       "<sqlite3.Cursor at 0x12e852b98f0>"
      ]
     },
     "metadata": {},
     "execution_count": 4
    }
   ],
   "source": [
    "# 테이블 구조 변경\n",
    "sql = 'alter table test add column age integer;'\n",
    "cur.execute(sql)"
   ]
  },
  {
   "cell_type": "code",
   "execution_count": 5,
   "metadata": {},
   "outputs": [],
   "source": [
    "conn.commit() # 변경사항 저장"
   ]
  },
  {
   "source": [
    "### 데이터 추가"
   ],
   "cell_type": "markdown",
   "metadata": {}
  },
  {
   "cell_type": "code",
   "execution_count": 6,
   "metadata": {},
   "outputs": [
    {
     "output_type": "execute_result",
     "data": {
      "text/plain": [
       "<sqlite3.Cursor at 0x12e852e3500>"
      ]
     },
     "metadata": {},
     "execution_count": 6
    }
   ],
   "source": [
    "cur = conn.cursor()\n",
    "sql = \"insert into test(name, age) values('장보고', 1000);\"\n",
    "cur.execute(sql)"
   ]
  },
  {
   "cell_type": "code",
   "execution_count": 7,
   "metadata": {},
   "outputs": [],
   "source": [
    "conn.commit()"
   ]
  },
  {
   "cell_type": "code",
   "execution_count": 10,
   "metadata": {},
   "outputs": [],
   "source": [
    "# 파라메타는 튜플로 전달\n",
    "writers = [('이우정', 40),('김은숙', 45)]\n",
    "sql = \"insert into test(name, age) values(?, ?);\"\n",
    "for writer in writers:\n",
    "    cur.execute(sql, writer)\n",
    "conn.commit()"
   ]
  },
  {
   "cell_type": "code",
   "execution_count": 12,
   "metadata": {},
   "outputs": [],
   "source": [
    "cur.execute(sql, ('김수현', 60))\n",
    "conn.commit()"
   ]
  },
  {
   "cell_type": "code",
   "execution_count": 13,
   "metadata": {},
   "outputs": [],
   "source": [
    "writers = [('노희경', 30), ('송지나', 30), ('임성한',40)]\n",
    "cur.executemany(sql, writers) # 안에 전달할 내용만 튜플이 되면 됨\n",
    "conn.commit()"
   ]
  },
  {
   "source": [
    "### 데이터 조회"
   ],
   "cell_type": "markdown",
   "metadata": {}
  },
  {
   "cell_type": "code",
   "execution_count": 14,
   "metadata": {},
   "outputs": [
    {
     "output_type": "stream",
     "name": "stdout",
     "text": [
      "(1, '홍길동', 300)\n"
     ]
    }
   ],
   "source": [
    "### 단건 조회\n",
    "cur = conn.cursor()# 커서 리셋시키는것\n",
    "select_sql = 'select * from test;'\n",
    "cur.execute(select_sql)\n",
    "row = cur.fetchone() # 데이터를 가지고 오는것\n",
    "print(row)"
   ]
  },
  {
   "cell_type": "code",
   "execution_count": 15,
   "metadata": {},
   "outputs": [
    {
     "output_type": "stream",
     "name": "stdout",
     "text": [
      "(2, '대조영', 300)\n(3, '장보고', 1000)\n(4, '이우정', 40)\n"
     ]
    }
   ],
   "source": [
    "# 여러건 조회\n",
    "rows = cur.fetchmany(3) # 3건을 가지고 오겠다.\n",
    "for row in rows:\n",
    "    print(row)"
   ]
  },
  {
   "cell_type": "code",
   "execution_count": 16,
   "metadata": {},
   "outputs": [
    {
     "output_type": "stream",
     "name": "stdout",
     "text": [
      "(5, '김은숙', 45)\n(6, '김수현', 60)\n(7, '김수현', 60)\n(8, '노희경', 30)\n(9, '송지나', 30)\n(10, '임성한', 40)\n"
     ]
    }
   ],
   "source": [
    "# 모두 가져오기\n",
    "rows = cur.fetchall()\n",
    "for row in rows:\n",
    "    print(row)"
   ]
  },
  {
   "cell_type": "code",
   "execution_count": 17,
   "metadata": {},
   "outputs": [
    {
     "output_type": "stream",
     "name": "stdout",
     "text": [
      "(1, '홍길동', 300)\n(2, '대조영', 300)\n(3, '장보고', 1000)\n(4, '이우정', 40)\n(5, '김은숙', 45)\n(6, '김수현', 60)\n(7, '김수현', 60)\n(8, '노희경', 30)\n(9, '송지나', 30)\n(10, '임성한', 40)\n"
     ]
    }
   ],
   "source": [
    "# 모두 조호ㅣ\n",
    "cur = conn.cursor()\n",
    "cur.execute(select_sql)\n",
    "rows = cur.fetchall()\n",
    "for row in rows:\n",
    "    print(row)"
   ]
  },
  {
   "cell_type": "code",
   "execution_count": 18,
   "metadata": {},
   "outputs": [
    {
     "output_type": "stream",
     "name": "stdout",
     "text": [
      "(1, '홍길동', 300)\n(2, '대조영', 300)\n(3, '장보고', 1000)\n(4, '이우정', 40)\n(5, '김은숙', 45)\n(6, '김수현', 60)\n(7, '김수현', 60)\n(8, '노희경', 30)\n(9, '송지나', 30)\n(10, '임성한', 40)\n"
     ]
    }
   ],
   "source": [
    "# 순회 조회\n",
    "cur = conn.cursor() # cur: 커서 / 데이터가 있는 곳의 포인팅\n",
    "cur.execute(select_sql)\n",
    "for row in cur: # 커서가 가르키는 곳으로\n",
    "    print(row)"
   ]
  },
  {
   "cell_type": "code",
   "execution_count": 22,
   "metadata": {},
   "outputs": [
    {
     "output_type": "stream",
     "name": "stdout",
     "text": [
      "('김수현', 60)\n('김수현', 60)\n('김은숙', 45)\n('노희경', 30)\n('대조영', 300)\n('송지나', 30)\n('이우정', 40)\n('임성한', 40)\n('장보고', 1000)\n('홍길동', 300)\n"
     ]
    }
   ],
   "source": [
    "# 필요한 컬럼만 조회\n",
    "cur = conn.cursor()\n",
    "cur.execute(\"select name, age from test order by name;\")\n",
    "rows = cur.fetchall()\n",
    "for row in rows:\n",
    "    print(row)"
   ]
  },
  {
   "cell_type": "code",
   "execution_count": 24,
   "metadata": {},
   "outputs": [
    {
     "output_type": "stream",
     "name": "stdout",
     "text": [
      "(3, '장보고', 1000)\n(2, '대조영', 300)\n(1, '홍길동', 300)\n"
     ]
    }
   ],
   "source": [
    "# 원하는 순서 및 갯수\n",
    "cur = conn.cursor()\n",
    "cur.execute(\"select * from test order by age desc, name limit 3;\")\n",
    "rows = cur.fetchall()\n",
    "for row in rows:\n",
    "    print(row)"
   ]
  },
  {
   "cell_type": "code",
   "execution_count": 27,
   "metadata": {},
   "outputs": [
    {
     "output_type": "stream",
     "name": "stdout",
     "text": [
      "(10,) 10\n"
     ]
    }
   ],
   "source": [
    "# 함수\n",
    "cur = conn.cursor()\n",
    "cur.execute('select count(*) from test;')\n",
    "count = cur.fetchone()\n",
    "print(count, count[0])"
   ]
  },
  {
   "cell_type": "code",
   "execution_count": 31,
   "metadata": {},
   "outputs": [
    {
     "output_type": "stream",
     "name": "stdout",
     "text": [
      "10\n"
     ]
    }
   ],
   "source": [
    "cur = conn.cursor()\n",
    "cur.execute('select count(*) from test;')\n",
    "count, = cur.fetchone() # 카운터\n",
    "print(count)"
   ]
  },
  {
   "cell_type": "code",
   "execution_count": 26,
   "metadata": {},
   "outputs": [
    {
     "output_type": "execute_result",
     "data": {
      "text/plain": [
       "(10,)"
      ]
     },
     "metadata": {},
     "execution_count": 26
    }
   ],
   "source": [
    "count"
   ]
  },
  {
   "cell_type": "code",
   "execution_count": 28,
   "metadata": {},
   "outputs": [
    {
     "output_type": "stream",
     "name": "stdout",
     "text": [
      "(1000, 30, 1905, 190.5)\n"
     ]
    }
   ],
   "source": [
    "cur.execute('select max(age), min(age), sum(age), avg(age) from test;')\n",
    "row = cur.fetchone()\n",
    "print(row)"
   ]
  },
  {
   "cell_type": "code",
   "execution_count": 30,
   "metadata": {},
   "outputs": [
    {
     "output_type": "stream",
     "name": "stdout",
     "text": [
      "1000 30 1905 190.5\n"
     ]
    }
   ],
   "source": [
    "cur.execute('select max(age), min(age), sum(age), avg(age) from test;')\n",
    "max_age,min_age, sum_age, avg_age = cur.fetchone()\n",
    "print(max_age,min_age, sum_age, avg_age)"
   ]
  },
  {
   "cell_type": "code",
   "execution_count": 32,
   "metadata": {},
   "outputs": [
    {
     "output_type": "stream",
     "name": "stdout",
     "text": [
      "(4, '이우정', 40)\n(5, '김은숙', 45)\n(8, '노희경', 30)\n(9, '송지나', 30)\n(10, '임성한', 40)\n"
     ]
    }
   ],
   "source": [
    "cul = conn.cursor()\n",
    "# ?로 있을 때 파라메타를 튜플()로 줘야함\n",
    "cur.execute('select * from test where age < ?',(50,)) \n",
    "rows = cur.fetchall()\n",
    "for row in rows:\n",
    "    print(row)"
   ]
  },
  {
   "source": [
    "### 데이터 변경"
   ],
   "cell_type": "markdown",
   "metadata": {}
  },
  {
   "cell_type": "code",
   "execution_count": 33,
   "metadata": {},
   "outputs": [],
   "source": [
    "cur.execute('update test set age=1300 where id =2;')\n",
    "conn.commit()"
   ]
  },
  {
   "source": [
    "### 데이터 삭제\n"
   ],
   "cell_type": "markdown",
   "metadata": {}
  },
  {
   "cell_type": "code",
   "execution_count": 35,
   "metadata": {},
   "outputs": [],
   "source": [
    "cur.execute('delete from test where id =6;')\n",
    "conn.commit()"
   ]
  },
  {
   "source": [
    "### 연습문제"
   ],
   "cell_type": "markdown",
   "metadata": {}
  },
  {
   "cell_type": "code",
   "execution_count": 39,
   "metadata": {},
   "outputs": [
    {
     "output_type": "execute_result",
     "data": {
      "text/plain": [
       "<sqlite3.Cursor at 0x12e864f8570>"
      ]
     },
     "metadata": {},
     "execution_count": 39
    }
   ],
   "source": [
    "cur = conn.cursor()\n",
    "cur.execute('CREATE TABLE IF NOT EXISTS Eagles \\\n",
    "(back_no INT NOT NULL, \\\n",
    "name TEXT, \\\n",
    "position TEXT, \\\n",
    "PRIMARY KEY(back_no));')"
   ]
  },
  {
   "cell_type": "code",
   "execution_count": 40,
   "metadata": {},
   "outputs": [
    {
     "output_type": "execute_result",
     "data": {
      "text/plain": [
       "<sqlite3.Cursor at 0x12e864f8340>"
      ]
     },
     "metadata": {},
     "execution_count": 40
    }
   ],
   "source": [
    "cur = conn.cursor()\n",
    "cur.execute(\"insert into Eagles values(1, '하주석', '내야수'),(57,'정우람','투수'),(8, '정근우','내야수');\")"
   ]
  },
  {
   "cell_type": "code",
   "execution_count": 41,
   "metadata": {},
   "outputs": [],
   "source": [
    "cur = conn.cursor()\n",
    "cur.execute(\"insert into Eagles values(50, '이성열', '외야수'),(22,'이태양','투수'),(13, '최재훈','포수');\")\n",
    "conn.commit()"
   ]
  },
  {
   "cell_type": "code",
   "execution_count": 47,
   "metadata": {},
   "outputs": [],
   "source": [
    "cur = conn.cursor()\n",
    "cur.execute(\"insert into Pitcher_stats(back_no, name, era, ip, so) \\\n",
    "values(57,'정우람',4.80,9,53),(22,'이태양', 5.46,15,45);\")\n",
    "conn.commit()"
   ]
  },
  {
   "cell_type": "code",
   "execution_count": 61,
   "metadata": {},
   "outputs": [
    {
     "output_type": "stream",
     "name": "stdout",
     "text": [
      "('정우람', 57, '투수', '9', '4.8', '53')\n('이태양', 22, '투수', '15', '5.46', '45')\n"
     ]
    }
   ],
   "source": [
    "cur = conn.cursor()\n",
    "cur.execute(\"select Ea.name, Pi.back_no, Ea.position, Pi.ip, Pi.era, Pi.so from Pitcher_stats as Pi inner join Eagles as Ea on Ea.name = Pi.name;\")\n",
    "row = cur.fetchone()\n",
    "for row in cur:\n",
    "    print(row)"
   ]
  },
  {
   "source": [
    "### 연습문제 2"
   ],
   "cell_type": "markdown",
   "metadata": {}
  },
  {
   "cell_type": "code",
   "execution_count": 62,
   "metadata": {},
   "outputs": [],
   "source": [
    "cur = conn.cursor()\n",
    "cur.execute('CREATE TABLE groupsinger \\\n",
    "(id integer PRIMARY KEY autoincrement, \\\n",
    "guoup_name TEXT, \\\n",
    "구성원수 TEXT, \\\n",
    "데뷔일자 TEXT, \\\n",
    "소속사 TEXT);')\n",
    "conn.commit()"
   ]
  },
  {
   "cell_type": "code",
   "execution_count": 64,
   "metadata": {},
   "outputs": [],
   "source": [
    "cur = conn.cursor()\n",
    "cur.execute(\"insert into groupsinger(guoup_name, 구성원수, 데뷔일자, 소속사)\\\n",
    "    values('방탄소년단', 7, '2013-06-13','bighit'),('블랙핑크', 4, '2016-08-08','yg'),('트와이스', 9, '2015-10-20','jyp'), ('신화', 6,'1998-03-24', '신화컴퍼니');\")\n",
    "conn.commit()"
   ]
  },
  {
   "cell_type": "code",
   "execution_count": 65,
   "metadata": {},
   "outputs": [],
   "source": [
    "cur = conn.cursor()\n",
    "cur.execute('CREATE TABLE song \\\n",
    "(song_id integer PRIMARY KEY autoincrement, \\\n",
    "song_name TEXT, \\\n",
    "그룹id TEXT, \\\n",
    "발표년도 TEXT, \\\n",
    "작곡가 TEXT, \\\n",
    "도입부가사 TEXT);')\n",
    "conn.commit()"
   ]
  },
  {
   "cell_type": "code",
   "execution_count": 66,
   "metadata": {},
   "outputs": [],
   "source": [
    "cur = conn.cursor()\n",
    "cur.execute(\"insert into song(song_name, 그룹id, 발표년도, 작곡가, 도입부가사)\\\n",
    "    values('신화', 5, '1998-05-09', '유영진', 'You never give up the more passion easy'),('마마무', 1, '2016-02-12', '김도훈', '딩가딩가할래 친구들 모아 한잔 할래'),('방탄소년단','2', '2019-04-12', 'RM','모든 게 궁금해 How’s your day Oh tell me 뭐가 널 행복하게 하는지 Oh text me'), ('블랙핑크', 3, '2020-10-02','TEDDY','보란 듯이 무너졌어 바닥을 뚫고 저 지하까지 옷 끝자락 잡겠다고'),('트와이스', 4, '2020-10-26','Melanie Joy','알람이 울려대 Ring ring a ling 서로의 눈길이 닿을 때마다 알면서 빙빙 도는데');\")\n",
    "conn.commit()"
   ]
  },
  {
   "cell_type": "code",
   "execution_count": 152,
   "metadata": {},
   "outputs": [
    {
     "output_type": "stream",
     "name": "stdout",
     "text": [
      "('마마무', '4', '2014-06-19', '딩가딩가', '2016-02-12')\n('방탄소년단', '7', '2013-06-13', '작은 것들을 위한 시', '2019-04-12')\n('블랙핑크', '4', '2016-08-08', 'How You Like That', '2020-10-02')\n('트와이스', '9', '2015-10-20', 'I CANT STOP ME', '2020-10-26')\n"
     ]
    }
   ],
   "source": [
    "cur = conn.cursor()\n",
    "cur.execute(\"select gr.guoup_name, gr.구성원수, gr.데뷔일자, so.song_name,so.발표년도 from groupsinger as gr inner join song as so on gr.id = so.그룹id;\")\n",
    "row = cur.fetchone()\n",
    "for row in cur:\n",
    "    print(row)"
   ]
  },
  {
   "cell_type": "code",
   "execution_count": 79,
   "metadata": {},
   "outputs": [],
   "source": [
    "cur = conn.cursor()\n",
    "cur.execute('CREATE TABLE userss \\\n",
    "(uid VARCHAR(10) NOT NULL PRIMARY KEY, \\\n",
    "`name` TEXT,\\\n",
    "pwd CHAR(44) NOT NULL);')\n",
    "conn.commit()"
   ]
  },
  {
   "cell_type": "code",
   "execution_count": 80,
   "metadata": {},
   "outputs": [],
   "source": [
    "cur = conn.cursor()\n",
    "cur.execute(\"insert into userss values('kim','김민아','1234'),('wkk','박한','12345');\")\n",
    "conn.commit()"
   ]
  },
  {
   "cell_type": "code",
   "execution_count": 164,
   "metadata": {},
   "outputs": [
    {
     "output_type": "stream",
     "name": "stdout",
     "text": [
      "실패\n성공\n실패\n"
     ]
    }
   ],
   "source": [
    "names = str(input('이름을 입력하세요'))\n",
    "\n",
    "cur = conn.cursor()# 커서 리셋시키는것\n",
    "cur.execute('select * from userss where name like ?;',(names,))\n",
    "rows = cur.fetchone() # 데이터를 가지고 오는것\n",
    "for row in rows:\n",
    "    if names == row:\n",
    "        print('성공')\n",
    "    if names != row:\n",
    "        print('실패')"
   ]
  },
  {
   "cell_type": "code",
   "execution_count": 240,
   "metadata": {},
   "outputs": [
    {
     "output_type": "stream",
     "name": "stdout",
     "text": [
      "성공\n성공\n"
     ]
    }
   ],
   "source": [
    "names = str(input('이름을 입력하세요'))\n",
    "pwd = input('')\n",
    "cur = conn.cursor()# 커서 리셋시키는것\n",
    "cur.execute('select name,pwd from userss where name = ? and pwd = ?;',(names,pwd,))\n",
    "rows = cur.fetchone() # 데이터를 가지고 오는것\n",
    "for row in rows:\n",
    "    if names == row:\n",
    "        print('성공')\n",
    "    if pwd == row:\n",
    "        print('성공')"
   ]
  },
  {
   "cell_type": "code",
   "execution_count": 282,
   "metadata": {},
   "outputs": [
    {
     "output_type": "stream",
     "name": "stdout",
     "text": [
      "실패\n"
     ]
    }
   ],
   "source": [
    "names = str(input('이름을 입력하세요'))\n",
    "pwd = input('')\n",
    "cur = conn.cursor()# 커서 리셋시키는것\n",
    "cur.execute('select * from userss')\n",
    "rows = cur.fetchone() # 데이터를 가지고 오는것\n",
    "\n",
    "if rows[1] == names and rows[2] == pwd:\n",
    "    print('성공')\n",
    "elif rows[1] == names and rows[2] != pwd:\n",
    "    print('실패')\n",
    "else:\n",
    "    print('실패')"
   ]
  },
  {
   "cell_type": "code",
   "execution_count": 328,
   "metadata": {},
   "outputs": [
    {
     "output_type": "stream",
     "name": "stdout",
     "text": [
      "실패\n"
     ]
    }
   ],
   "source": [
    "names = str(input('이름을 입력하세요'))\n",
    "pwd = input('')\n",
    "cur = conn.cursor()# 커서 리셋시키는것\n",
    "cur.execute('select * from userss')\n",
    "rows = cur.fetchall() # 데이터를 가지고 오는것\n",
    "\n",
    "if rows[0][1] == names and rows[1][2] == pwd:\n",
    "    print('성공')\n",
    "elif rows[1] == names and rows[2] != pwd:\n",
    "    print('실패')\n",
    "else:\n",
    "    print('실패')"
   ]
  },
  {
   "cell_type": "code",
   "execution_count": 326,
   "metadata": {},
   "outputs": [
    {
     "output_type": "stream",
     "name": "stdout",
     "text": [
      "12345\n"
     ]
    }
   ],
   "source": [
    "cur = conn.cursor()# 커서 리셋시키는것\n",
    "cur.execute('select * from userss')\n",
    "rows = cur.fetchall() # 데이터를 가지고 오는것\n",
    "print(rows[1][2])"
   ]
  },
  {
   "cell_type": "code",
   "execution_count": null,
   "metadata": {},
   "outputs": [],
   "source": [
    "names = str(input('이름을 입력하세요'))\n",
    "pwd = input('')\n",
    "cur = conn.cursor()# 커서 리셋시키는것\n",
    "cur.execute('select * from userss')\n",
    "rows = cur.fetchone() # 데이터를 가지고 오는것\n",
    "\n",
    "if (row):\n",
    "    rows[1] == names and rows[2] == pwd\n",
    "    print('성공')\n",
    "elif rows[1] == names and rows[2] != pwd:\n",
    "    print('실패')\n",
    "else:\n",
    "    print('실패')"
   ]
  },
  {
   "cell_type": "code",
   "execution_count": 263,
   "metadata": {},
   "outputs": [
    {
     "output_type": "stream",
     "name": "stdout",
     "text": [
      "실패\n"
     ]
    }
   ],
   "source": [
    "try:\n",
    "    names = str(input('이름을 입력하세요'))\n",
    "    pwd = input('')\n",
    "    cur = conn.cursor()# 커서 리셋시키는것\n",
    "    cur.execute('select name,pwd from userss where name = ? and pwd = ?;',(names,pwd,))\n",
    "    rows = cur.fetchone() # 데이터를 가지고 오는것\n",
    "    row,row2 = rows\n",
    "    if row == names and row2 == pwd:\n",
    "        print('성공')\n",
    "except TypeError:\n",
    "    print('실패')"
   ]
  },
  {
   "cell_type": "code",
   "execution_count": 71,
   "metadata": {},
   "outputs": [],
   "source": [
    "## 노래 제목 수정\n",
    "cur = conn.cursor()\n",
    "cur.execute(\"update song set song_name = 'How You Like That' where song_name = '블랙핑크';\")\n",
    "conn.commit()"
   ]
  },
  {
   "cell_type": "code",
   "execution_count": null,
   "metadata": {},
   "outputs": [],
   "source": [
    "# login"
   ]
  },
  {
   "cell_type": "code",
   "execution_count": null,
   "metadata": {},
   "outputs": [],
   "source": [
    "uid = input('uid>')\n",
    "pwd = input('pwd>')"
   ]
  },
  {
   "cell_type": "code",
   "execution_count": null,
   "metadata": {},
   "outputs": [],
   "source": [
    "\n",
    "    sql = 'select * from users where uid like %s and isDeleted=0;'\n"
   ]
  }
 ]
}