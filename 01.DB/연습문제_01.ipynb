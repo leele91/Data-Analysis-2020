{
 "metadata": {
  "language_info": {
   "codemirror_mode": {
    "name": "ipython",
    "version": 3
   },
   "file_extension": ".py",
   "mimetype": "text/x-python",
   "name": "python",
   "nbconvert_exporter": "python",
   "pygments_lexer": "ipython3",
   "version": "3.8.3-final"
  },
  "orig_nbformat": 2,
  "kernelspec": {
   "name": "Python 3.8.3 64-bit (conda)",
   "display_name": "Python 3.8.3 64-bit (conda)",
   "metadata": {
    "interpreter": {
     "hash": "b3ba2566441a7c06988d0923437866b63cedc61552a5af99d1f4fb67d367b25f"
    }
   }
  }
 },
 "nbformat": 4,
 "nbformat_minor": 2,
 "cells": [
  {
   "source": [
    "### 연습문제"
   ],
   "cell_type": "markdown",
   "metadata": {}
  },
  {
   "cell_type": "code",
   "execution_count": 39,
   "metadata": {},
   "outputs": [
    {
     "output_type": "execute_result",
     "data": {
      "text/plain": [
       "<sqlite3.Cursor at 0x12e864f8570>"
      ]
     },
     "metadata": {},
     "execution_count": 39
    }
   ],
   "source": [
    "cur = conn.cursor()\n",
    "cur.execute('CREATE TABLE IF NOT EXISTS Eagles \\\n",
    "(back_no INT NOT NULL, \\\n",
    "name TEXT, \\\n",
    "position TEXT, \\\n",
    "PRIMARY KEY(back_no));')"
   ]
  },
  {
   "cell_type": "code",
   "execution_count": 40,
   "metadata": {},
   "outputs": [
    {
     "output_type": "execute_result",
     "data": {
      "text/plain": [
       "<sqlite3.Cursor at 0x12e864f8340>"
      ]
     },
     "metadata": {},
     "execution_count": 40
    }
   ],
   "source": [
    "cur = conn.cursor()\n",
    "cur.execute(\"insert into Eagles values(1, '하주석', '내야수'),(57,'정우람','투수'),(8, '정근우','내야수');\")"
   ]
  },
  {
   "cell_type": "code",
   "execution_count": 41,
   "metadata": {},
   "outputs": [],
   "source": [
    "cur = conn.cursor()\n",
    "cur.execute(\"insert into Eagles values(50, '이성열', '외야수'),(22,'이태양','투수'),(13, '최재훈','포수');\")\n",
    "conn.commit()"
   ]
  },
  {
   "cell_type": "code",
   "execution_count": 47,
   "metadata": {},
   "outputs": [],
   "source": [
    "cur = conn.cursor()\n",
    "cur.execute(\"insert into Pitcher_stats(back_no, name, era, ip, so) \\\n",
    "values(57,'정우람',4.80,9,53),(22,'이태양', 5.46,15,45);\")\n",
    "conn.commit()"
   ]
  },
  {
   "cell_type": "code",
   "execution_count": 61,
   "metadata": {},
   "outputs": [
    {
     "output_type": "stream",
     "name": "stdout",
     "text": [
      "('정우람', 57, '투수', '9', '4.8', '53')\n('이태양', 22, '투수', '15', '5.46', '45')\n"
     ]
    }
   ],
   "source": [
    "cur = conn.cursor()\n",
    "cur.execute(\"select Ea.name, Pi.back_no, Ea.position, Pi.ip, Pi.era, Pi.so from Pitcher_stats as Pi inner join Eagles as Ea on Ea.name = Pi.name;\")\n",
    "row = cur.fetchone()\n",
    "for row in cur:\n",
    "    print(row)"
   ]
  },
  {
   "source": [
    "### 연습문제 2"
   ],
   "cell_type": "markdown",
   "metadata": {}
  },
  {
   "cell_type": "code",
   "execution_count": 62,
   "metadata": {},
   "outputs": [],
   "source": [
    "cur = conn.cursor()\n",
    "cur.execute('CREATE TABLE groupsinger \\\n",
    "(id integer PRIMARY KEY autoincrement, \\\n",
    "guoup_name TEXT, \\\n",
    "구성원수 TEXT, \\\n",
    "데뷔일자 TEXT, \\\n",
    "소속사 TEXT);')\n",
    "conn.commit()"
   ]
  },
  {
   "cell_type": "code",
   "execution_count": 64,
   "metadata": {},
   "outputs": [],
   "source": [
    "cur = conn.cursor()\n",
    "cur.execute(\"insert into groupsinger(guoup_name, 구성원수, 데뷔일자, 소속사)\\\n",
    "    values('방탄소년단', 7, '2013-06-13','bighit'),('블랙핑크', 4, '2016-08-08','yg'),('트와이스', 9, '2015-10-20','jyp'), ('신화', 6,'1998-03-24', '신화컴퍼니');\")\n",
    "conn.commit()"
   ]
  },
  {
   "cell_type": "code",
   "execution_count": 65,
   "metadata": {},
   "outputs": [],
   "source": [
    "cur = conn.cursor()\n",
    "cur.execute('CREATE TABLE song \\\n",
    "(song_id integer PRIMARY KEY autoincrement, \\\n",
    "song_name TEXT, \\\n",
    "그룹id TEXT, \\\n",
    "발표년도 TEXT, \\\n",
    "작곡가 TEXT, \\\n",
    "도입부가사 TEXT);')\n",
    "conn.commit()"
   ]
  },
  {
   "cell_type": "code",
   "execution_count": 66,
   "metadata": {},
   "outputs": [],
   "source": [
    "cur = conn.cursor()\n",
    "cur.execute(\"insert into song(song_name, 그룹id, 발표년도, 작곡가, 도입부가사)\\\n",
    "    values('신화', 5, '1998-05-09', '유영진', 'You never give up the more passion easy'),('마마무', 1, '2016-02-12', '김도훈', '딩가딩가할래 친구들 모아 한잔 할래'),('방탄소년단','2', '2019-04-12', 'RM','모든 게 궁금해 How’s your day Oh tell me 뭐가 널 행복하게 하는지 Oh text me'), ('블랙핑크', 3, '2020-10-02','TEDDY','보란 듯이 무너졌어 바닥을 뚫고 저 지하까지 옷 끝자락 잡겠다고'),('트와이스', 4, '2020-10-26','Melanie Joy','알람이 울려대 Ring ring a ling 서로의 눈길이 닿을 때마다 알면서 빙빙 도는데');\")\n",
    "conn.commit()"
   ]
  },
  {
   "cell_type": "code",
   "execution_count": 152,
   "metadata": {},
   "outputs": [
    {
     "output_type": "stream",
     "name": "stdout",
     "text": [
      "('마마무', '4', '2014-06-19', '딩가딩가', '2016-02-12')\n('방탄소년단', '7', '2013-06-13', '작은 것들을 위한 시', '2019-04-12')\n('블랙핑크', '4', '2016-08-08', 'How You Like That', '2020-10-02')\n('트와이스', '9', '2015-10-20', 'I CANT STOP ME', '2020-10-26')\n"
     ]
    }
   ],
   "source": [
    "cur = conn.cursor()\n",
    "cur.execute(\"select gr.guoup_name, gr.구성원수, gr.데뷔일자, so.song_name,so.발표년도 from groupsinger as gr inner join song as so on gr.id = so.그룹id;\")\n",
    "row = cur.fetchone()\n",
    "for row in cur:\n",
    "    print(row)"
   ]
  },
  {
   "cell_type": "code",
   "execution_count": 79,
   "metadata": {},
   "outputs": [],
   "source": [
    "cur = conn.cursor()\n",
    "cur.execute('CREATE TABLE userss \\\n",
    "(uid VARCHAR(10) NOT NULL PRIMARY KEY, \\\n",
    "`name` TEXT,\\\n",
    "pwd CHAR(44) NOT NULL);')\n",
    "conn.commit()"
   ]
  },
  {
   "cell_type": "code",
   "execution_count": 80,
   "metadata": {},
   "outputs": [],
   "source": [
    "cur = conn.cursor()\n",
    "cur.execute(\"insert into userss values('kim','김민아','1234'),('wkk','박한','12345');\")\n",
    "conn.commit()"
   ]
  },
  {
   "cell_type": "code",
   "execution_count": 164,
   "metadata": {},
   "outputs": [
    {
     "output_type": "stream",
     "name": "stdout",
     "text": [
      "실패\n성공\n실패\n"
     ]
    }
   ],
   "source": [
    "names = str(input('이름을 입력하세요'))\n",
    "\n",
    "cur = conn.cursor()# 커서 리셋시키는것\n",
    "cur.execute('select * from userss where name like ?;',(names,))\n",
    "rows = cur.fetchone() # 데이터를 가지고 오는것\n",
    "for row in rows:\n",
    "    if names == row:\n",
    "        print('성공')\n",
    "    if names != row:\n",
    "        print('실패')"
   ]
  },
  {
   "cell_type": "code",
   "execution_count": 240,
   "metadata": {},
   "outputs": [
    {
     "output_type": "stream",
     "name": "stdout",
     "text": [
      "성공\n성공\n"
     ]
    }
   ],
   "source": [
    "names = str(input('이름을 입력하세요'))\n",
    "pwd = input('')\n",
    "cur = conn.cursor()# 커서 리셋시키는것\n",
    "cur.execute('select name,pwd from userss where name = ? and pwd = ?;',(names,pwd,))\n",
    "rows = cur.fetchone() # 데이터를 가지고 오는것\n",
    "for row in rows:\n",
    "    if names == row:\n",
    "        print('성공')\n",
    "    if pwd == row:\n",
    "        print('성공')"
   ]
  },
  {
   "cell_type": "code",
   "execution_count": 282,
   "metadata": {},
   "outputs": [
    {
     "output_type": "stream",
     "name": "stdout",
     "text": [
      "실패\n"
     ]
    }
   ],
   "source": [
    "names = str(input('이름을 입력하세요'))\n",
    "pwd = input('')\n",
    "cur = conn.cursor()# 커서 리셋시키는것\n",
    "cur.execute('select * from userss')\n",
    "rows = cur.fetchone() # 데이터를 가지고 오는것\n",
    "\n",
    "if rows[1] == names and rows[2] == pwd:\n",
    "    print('성공')\n",
    "elif rows[1] == names and rows[2] != pwd:\n",
    "    print('실패')\n",
    "else:\n",
    "    print('실패')"
   ]
  },
  {
   "cell_type": "code",
   "execution_count": 328,
   "metadata": {},
   "outputs": [
    {
     "output_type": "stream",
     "name": "stdout",
     "text": [
      "실패\n"
     ]
    }
   ],
   "source": [
    "names = str(input('이름을 입력하세요'))\n",
    "pwd = input('')\n",
    "cur = conn.cursor()# 커서 리셋시키는것\n",
    "cur.execute('select * from userss')\n",
    "rows = cur.fetchall() # 데이터를 가지고 오는것\n",
    "\n",
    "if rows[0][1] == names and rows[1][2] == pwd:\n",
    "    print('성공')\n",
    "elif rows[1] == names and rows[2] != pwd:\n",
    "    print('실패')\n",
    "else:\n",
    "    print('실패')"
   ]
  },
  {
   "cell_type": "code",
   "execution_count": 326,
   "metadata": {},
   "outputs": [
    {
     "output_type": "stream",
     "name": "stdout",
     "text": [
      "12345\n"
     ]
    }
   ],
   "source": [
    "cur = conn.cursor()# 커서 리셋시키는것\n",
    "cur.execute('select * from userss')\n",
    "rows = cur.fetchall() # 데이터를 가지고 오는것\n",
    "print(rows[1][2])"
   ]
  },
  {
   "cell_type": "code",
   "execution_count": null,
   "metadata": {},
   "outputs": [],
   "source": [
    "names = str(input('이름을 입력하세요'))\n",
    "pwd = input('')\n",
    "cur = conn.cursor()# 커서 리셋시키는것\n",
    "cur.execute('select * from userss')\n",
    "rows = cur.fetchone() # 데이터를 가지고 오는것\n",
    "\n",
    "if (row):\n",
    "    rows[1] == names and rows[2] == pwd\n",
    "    print('성공')\n",
    "elif rows[1] == names and rows[2] != pwd:\n",
    "    print('실패')\n",
    "else:\n",
    "    print('실패')"
   ]
  },
  {
   "cell_type": "code",
   "execution_count": 263,
   "metadata": {},
   "outputs": [
    {
     "output_type": "stream",
     "name": "stdout",
     "text": [
      "실패\n"
     ]
    }
   ],
   "source": [
    "try:\n",
    "    names = str(input('이름을 입력하세요'))\n",
    "    pwd = input('')\n",
    "    cur = conn.cursor()# 커서 리셋시키는것\n",
    "    cur.execute('select name,pwd from userss where name = ? and pwd = ?;',(names,pwd,))\n",
    "    rows = cur.fetchone() # 데이터를 가지고 오는것\n",
    "    row,row2 = rows\n",
    "    if row == names and row2 == pwd:\n",
    "        print('성공')\n",
    "except TypeError:\n",
    "    print('실패')"
   ]
  }
 ]
}