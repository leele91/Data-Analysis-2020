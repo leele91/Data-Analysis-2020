{
 "metadata": {
  "language_info": {
   "codemirror_mode": {
    "name": "ipython",
    "version": 3
   },
   "file_extension": ".py",
   "mimetype": "text/x-python",
   "name": "python",
   "nbconvert_exporter": "python",
   "pygments_lexer": "ipython3",
   "version": "3.8.3-final"
  },
  "orig_nbformat": 2,
  "kernelspec": {
   "name": "Python 3.8.3 64-bit (conda)",
   "display_name": "Python 3.8.3 64-bit (conda)",
   "metadata": {
    "interpreter": {
     "hash": "b3ba2566441a7c06988d0923437866b63cedc61552a5af99d1f4fb67d367b25f"
    }
   }
  }
 },
 "nbformat": 4,
 "nbformat_minor": 2,
 "cells": [
  {
   "cell_type": "code",
   "execution_count": 1,
   "metadata": {},
   "outputs": [],
   "source": [
    "import pandas as pd\n",
    "import numpy as np"
   ]
  },
  {
   "cell_type": "code",
   "execution_count": 2,
   "metadata": {},
   "outputs": [
    {
     "output_type": "execute_result",
     "data": {
      "text/plain": [
       "      지역      총인구수     0~9세   10~19세   20~29세   30~39세   40~49세   50~59세  \\\n",
       "0     서울   9736962   658355   813563  1455903  1505729  1563968  1539385   \n",
       "1     부산   3410925   241624   281120   434692   431911   518321   580966   \n",
       "2     대구   2432883   186623   234528   321487   303397   391997   428622   \n",
       "3     인천   2954955   239941   281097   405835   417708   490716   515758   \n",
       "4     광주   1456121   125396   162728   207554   191432   244903   234048   \n",
       "5     대전   1473125   120476   151861   212143   199106   242381   243526   \n",
       "6     울산   1145710   103399   115623   147745   158271   190698   211255   \n",
       "7     세종    343788    47454    40574    36273    61442    65714    42907   \n",
       "8    경기도  13265377  1178548  1347854  1769080  1917785  2299179  2205106   \n",
       "9    강원도   1539521   108694   141975   179813   169694   227950   269666   \n",
       "10  충청북도   1598599   128290   153119   198910   198768   243982   273857   \n",
       "11  충청남도   2120995   179808   206578   243748   276553   329789   340568   \n",
       "12  전라북도   1815112   135297   180675   212339   195971   274471   303074   \n",
       "13  전라남도   1861894   137868   172888   202760   193083   265366   317226   \n",
       "14  경상북도   2658956   198214   233506   291097   303472   390995   464427   \n",
       "15  경상남도   3358828   282751   331566   384750   418383   543911   585186   \n",
       "16   제주도    670876    62086    71539    81968    84145   113076   111221   \n",
       "\n",
       "     60~69세  70~79세  80~89세  90~99세  100세 이상  \n",
       "0   1200518  688818  263939   40404     6380  \n",
       "1    511174  285602  109312   14396     1807  \n",
       "2    311274  171217   74227    8817      694  \n",
       "3    344843  172269   74306   11574      908  \n",
       "4    155056   91020   38050    5529      405  \n",
       "5    170291   88289   39190    5523      339  \n",
       "6    136520   57438   21610    2991      160  \n",
       "7     27813   13609    6863    1084       55  \n",
       "8   1422638  742296  330231   48650     4010  \n",
       "9    226444  135668   68321   10493      803  \n",
       "10   209926  119037   63513    8656      541  \n",
       "11   264305  167339   97941   13481      885  \n",
       "12   244901  165445   89352   12770      817  \n",
       "13   259385  191719  105793   14984      822  \n",
       "14   389498  238482  130716   17589      960  \n",
       "15   435315  240111  119977   16139      739  \n",
       "16    75172   44621   22963    3819      266  "
      ],
      "text/html": "<div>\n<style scoped>\n    .dataframe tbody tr th:only-of-type {\n        vertical-align: middle;\n    }\n\n    .dataframe tbody tr th {\n        vertical-align: top;\n    }\n\n    .dataframe thead th {\n        text-align: right;\n    }\n</style>\n<table border=\"1\" class=\"dataframe\">\n  <thead>\n    <tr style=\"text-align: right;\">\n      <th></th>\n      <th>지역</th>\n      <th>총인구수</th>\n      <th>0~9세</th>\n      <th>10~19세</th>\n      <th>20~29세</th>\n      <th>30~39세</th>\n      <th>40~49세</th>\n      <th>50~59세</th>\n      <th>60~69세</th>\n      <th>70~79세</th>\n      <th>80~89세</th>\n      <th>90~99세</th>\n      <th>100세 이상</th>\n    </tr>\n  </thead>\n  <tbody>\n    <tr>\n      <th>0</th>\n      <td>서울</td>\n      <td>9736962</td>\n      <td>658355</td>\n      <td>813563</td>\n      <td>1455903</td>\n      <td>1505729</td>\n      <td>1563968</td>\n      <td>1539385</td>\n      <td>1200518</td>\n      <td>688818</td>\n      <td>263939</td>\n      <td>40404</td>\n      <td>6380</td>\n    </tr>\n    <tr>\n      <th>1</th>\n      <td>부산</td>\n      <td>3410925</td>\n      <td>241624</td>\n      <td>281120</td>\n      <td>434692</td>\n      <td>431911</td>\n      <td>518321</td>\n      <td>580966</td>\n      <td>511174</td>\n      <td>285602</td>\n      <td>109312</td>\n      <td>14396</td>\n      <td>1807</td>\n    </tr>\n    <tr>\n      <th>2</th>\n      <td>대구</td>\n      <td>2432883</td>\n      <td>186623</td>\n      <td>234528</td>\n      <td>321487</td>\n      <td>303397</td>\n      <td>391997</td>\n      <td>428622</td>\n      <td>311274</td>\n      <td>171217</td>\n      <td>74227</td>\n      <td>8817</td>\n      <td>694</td>\n    </tr>\n    <tr>\n      <th>3</th>\n      <td>인천</td>\n      <td>2954955</td>\n      <td>239941</td>\n      <td>281097</td>\n      <td>405835</td>\n      <td>417708</td>\n      <td>490716</td>\n      <td>515758</td>\n      <td>344843</td>\n      <td>172269</td>\n      <td>74306</td>\n      <td>11574</td>\n      <td>908</td>\n    </tr>\n    <tr>\n      <th>4</th>\n      <td>광주</td>\n      <td>1456121</td>\n      <td>125396</td>\n      <td>162728</td>\n      <td>207554</td>\n      <td>191432</td>\n      <td>244903</td>\n      <td>234048</td>\n      <td>155056</td>\n      <td>91020</td>\n      <td>38050</td>\n      <td>5529</td>\n      <td>405</td>\n    </tr>\n    <tr>\n      <th>5</th>\n      <td>대전</td>\n      <td>1473125</td>\n      <td>120476</td>\n      <td>151861</td>\n      <td>212143</td>\n      <td>199106</td>\n      <td>242381</td>\n      <td>243526</td>\n      <td>170291</td>\n      <td>88289</td>\n      <td>39190</td>\n      <td>5523</td>\n      <td>339</td>\n    </tr>\n    <tr>\n      <th>6</th>\n      <td>울산</td>\n      <td>1145710</td>\n      <td>103399</td>\n      <td>115623</td>\n      <td>147745</td>\n      <td>158271</td>\n      <td>190698</td>\n      <td>211255</td>\n      <td>136520</td>\n      <td>57438</td>\n      <td>21610</td>\n      <td>2991</td>\n      <td>160</td>\n    </tr>\n    <tr>\n      <th>7</th>\n      <td>세종</td>\n      <td>343788</td>\n      <td>47454</td>\n      <td>40574</td>\n      <td>36273</td>\n      <td>61442</td>\n      <td>65714</td>\n      <td>42907</td>\n      <td>27813</td>\n      <td>13609</td>\n      <td>6863</td>\n      <td>1084</td>\n      <td>55</td>\n    </tr>\n    <tr>\n      <th>8</th>\n      <td>경기도</td>\n      <td>13265377</td>\n      <td>1178548</td>\n      <td>1347854</td>\n      <td>1769080</td>\n      <td>1917785</td>\n      <td>2299179</td>\n      <td>2205106</td>\n      <td>1422638</td>\n      <td>742296</td>\n      <td>330231</td>\n      <td>48650</td>\n      <td>4010</td>\n    </tr>\n    <tr>\n      <th>9</th>\n      <td>강원도</td>\n      <td>1539521</td>\n      <td>108694</td>\n      <td>141975</td>\n      <td>179813</td>\n      <td>169694</td>\n      <td>227950</td>\n      <td>269666</td>\n      <td>226444</td>\n      <td>135668</td>\n      <td>68321</td>\n      <td>10493</td>\n      <td>803</td>\n    </tr>\n    <tr>\n      <th>10</th>\n      <td>충청북도</td>\n      <td>1598599</td>\n      <td>128290</td>\n      <td>153119</td>\n      <td>198910</td>\n      <td>198768</td>\n      <td>243982</td>\n      <td>273857</td>\n      <td>209926</td>\n      <td>119037</td>\n      <td>63513</td>\n      <td>8656</td>\n      <td>541</td>\n    </tr>\n    <tr>\n      <th>11</th>\n      <td>충청남도</td>\n      <td>2120995</td>\n      <td>179808</td>\n      <td>206578</td>\n      <td>243748</td>\n      <td>276553</td>\n      <td>329789</td>\n      <td>340568</td>\n      <td>264305</td>\n      <td>167339</td>\n      <td>97941</td>\n      <td>13481</td>\n      <td>885</td>\n    </tr>\n    <tr>\n      <th>12</th>\n      <td>전라북도</td>\n      <td>1815112</td>\n      <td>135297</td>\n      <td>180675</td>\n      <td>212339</td>\n      <td>195971</td>\n      <td>274471</td>\n      <td>303074</td>\n      <td>244901</td>\n      <td>165445</td>\n      <td>89352</td>\n      <td>12770</td>\n      <td>817</td>\n    </tr>\n    <tr>\n      <th>13</th>\n      <td>전라남도</td>\n      <td>1861894</td>\n      <td>137868</td>\n      <td>172888</td>\n      <td>202760</td>\n      <td>193083</td>\n      <td>265366</td>\n      <td>317226</td>\n      <td>259385</td>\n      <td>191719</td>\n      <td>105793</td>\n      <td>14984</td>\n      <td>822</td>\n    </tr>\n    <tr>\n      <th>14</th>\n      <td>경상북도</td>\n      <td>2658956</td>\n      <td>198214</td>\n      <td>233506</td>\n      <td>291097</td>\n      <td>303472</td>\n      <td>390995</td>\n      <td>464427</td>\n      <td>389498</td>\n      <td>238482</td>\n      <td>130716</td>\n      <td>17589</td>\n      <td>960</td>\n    </tr>\n    <tr>\n      <th>15</th>\n      <td>경상남도</td>\n      <td>3358828</td>\n      <td>282751</td>\n      <td>331566</td>\n      <td>384750</td>\n      <td>418383</td>\n      <td>543911</td>\n      <td>585186</td>\n      <td>435315</td>\n      <td>240111</td>\n      <td>119977</td>\n      <td>16139</td>\n      <td>739</td>\n    </tr>\n    <tr>\n      <th>16</th>\n      <td>제주도</td>\n      <td>670876</td>\n      <td>62086</td>\n      <td>71539</td>\n      <td>81968</td>\n      <td>84145</td>\n      <td>113076</td>\n      <td>111221</td>\n      <td>75172</td>\n      <td>44621</td>\n      <td>22963</td>\n      <td>3819</td>\n      <td>266</td>\n    </tr>\n  </tbody>\n</table>\n</div>"
     },
     "metadata": {},
     "execution_count": 2
    }
   ],
   "source": [
    "pod = pd.read_csv('samples/population_age_2020.csv')\n",
    "pod"
   ]
  },
  {
   "cell_type": "code",
   "execution_count": 3,
   "metadata": {},
   "outputs": [
    {
     "output_type": "execute_result",
     "data": {
      "text/plain": [
       "array([['서울', 9736962, 658355, 813563, 1455903, 1505729, 1563968,\n",
       "        1539385, 1200518, 688818, 263939, 40404, 6380],\n",
       "       ['부산', 3410925, 241624, 281120, 434692, 431911, 518321, 580966,\n",
       "        511174, 285602, 109312, 14396, 1807],\n",
       "       ['대구', 2432883, 186623, 234528, 321487, 303397, 391997, 428622,\n",
       "        311274, 171217, 74227, 8817, 694],\n",
       "       ['인천', 2954955, 239941, 281097, 405835, 417708, 490716, 515758,\n",
       "        344843, 172269, 74306, 11574, 908],\n",
       "       ['광주', 1456121, 125396, 162728, 207554, 191432, 244903, 234048,\n",
       "        155056, 91020, 38050, 5529, 405],\n",
       "       ['대전', 1473125, 120476, 151861, 212143, 199106, 242381, 243526,\n",
       "        170291, 88289, 39190, 5523, 339],\n",
       "       ['울산', 1145710, 103399, 115623, 147745, 158271, 190698, 211255,\n",
       "        136520, 57438, 21610, 2991, 160],\n",
       "       ['세종', 343788, 47454, 40574, 36273, 61442, 65714, 42907, 27813,\n",
       "        13609, 6863, 1084, 55],\n",
       "       ['경기도', 13265377, 1178548, 1347854, 1769080, 1917785, 2299179,\n",
       "        2205106, 1422638, 742296, 330231, 48650, 4010],\n",
       "       ['강원도', 1539521, 108694, 141975, 179813, 169694, 227950, 269666,\n",
       "        226444, 135668, 68321, 10493, 803],\n",
       "       ['충청북도', 1598599, 128290, 153119, 198910, 198768, 243982, 273857,\n",
       "        209926, 119037, 63513, 8656, 541],\n",
       "       ['충청남도', 2120995, 179808, 206578, 243748, 276553, 329789, 340568,\n",
       "        264305, 167339, 97941, 13481, 885],\n",
       "       ['전라북도', 1815112, 135297, 180675, 212339, 195971, 274471, 303074,\n",
       "        244901, 165445, 89352, 12770, 817],\n",
       "       ['전라남도', 1861894, 137868, 172888, 202760, 193083, 265366, 317226,\n",
       "        259385, 191719, 105793, 14984, 822],\n",
       "       ['경상북도', 2658956, 198214, 233506, 291097, 303472, 390995, 464427,\n",
       "        389498, 238482, 130716, 17589, 960],\n",
       "       ['경상남도', 3358828, 282751, 331566, 384750, 418383, 543911, 585186,\n",
       "        435315, 240111, 119977, 16139, 739],\n",
       "       ['제주도', 670876, 62086, 71539, 81968, 84145, 113076, 111221, 75172,\n",
       "        44621, 22963, 3819, 266]], dtype=object)"
      ]
     },
     "metadata": {},
     "execution_count": 3
    }
   ],
   "source": [
    "# 연습문제 1.\n",
    "pod2 = pod.values\n",
    "pod2"
   ]
  },
  {
   "cell_type": "code",
   "execution_count": 4,
   "metadata": {},
   "outputs": [
    {
     "output_type": "execute_result",
     "data": {
      "text/plain": [
       "array([['서울', '부산', '대구', '인천', '광주', '대전', '울산', '세종', '경기도', '강원도',\n",
       "        '충청북도', '충청남도', '전라북도', '전라남도', '경상북도', '경상남도', '제주도'],\n",
       "       [9736962, 3410925, 2432883, 2954955, 1456121, 1473125, 1145710,\n",
       "        343788, 13265377, 1539521, 1598599, 2120995, 1815112, 1861894,\n",
       "        2658956, 3358828, 670876],\n",
       "       [658355, 241624, 186623, 239941, 125396, 120476, 103399, 47454,\n",
       "        1178548, 108694, 128290, 179808, 135297, 137868, 198214, 282751,\n",
       "        62086],\n",
       "       [813563, 281120, 234528, 281097, 162728, 151861, 115623, 40574,\n",
       "        1347854, 141975, 153119, 206578, 180675, 172888, 233506, 331566,\n",
       "        71539],\n",
       "       [1455903, 434692, 321487, 405835, 207554, 212143, 147745, 36273,\n",
       "        1769080, 179813, 198910, 243748, 212339, 202760, 291097, 384750,\n",
       "        81968],\n",
       "       [1505729, 431911, 303397, 417708, 191432, 199106, 158271, 61442,\n",
       "        1917785, 169694, 198768, 276553, 195971, 193083, 303472, 418383,\n",
       "        84145],\n",
       "       [1563968, 518321, 391997, 490716, 244903, 242381, 190698, 65714,\n",
       "        2299179, 227950, 243982, 329789, 274471, 265366, 390995, 543911,\n",
       "        113076],\n",
       "       [1539385, 580966, 428622, 515758, 234048, 243526, 211255, 42907,\n",
       "        2205106, 269666, 273857, 340568, 303074, 317226, 464427, 585186,\n",
       "        111221],\n",
       "       [1200518, 511174, 311274, 344843, 155056, 170291, 136520, 27813,\n",
       "        1422638, 226444, 209926, 264305, 244901, 259385, 389498, 435315,\n",
       "        75172],\n",
       "       [688818, 285602, 171217, 172269, 91020, 88289, 57438, 13609,\n",
       "        742296, 135668, 119037, 167339, 165445, 191719, 238482, 240111,\n",
       "        44621],\n",
       "       [263939, 109312, 74227, 74306, 38050, 39190, 21610, 6863, 330231,\n",
       "        68321, 63513, 97941, 89352, 105793, 130716, 119977, 22963],\n",
       "       [40404, 14396, 8817, 11574, 5529, 5523, 2991, 1084, 48650, 10493,\n",
       "        8656, 13481, 12770, 14984, 17589, 16139, 3819],\n",
       "       [6380, 1807, 694, 908, 405, 339, 160, 55, 4010, 803, 541, 885,\n",
       "        817, 822, 960, 739, 266]], dtype=object)"
      ]
     },
     "metadata": {},
     "execution_count": 4
    }
   ],
   "source": [
    "# 연습문제 2\n",
    "pod3 = pod2.T\n",
    "pod3"
   ]
  },
  {
   "cell_type": "code",
   "execution_count": 17,
   "metadata": {},
   "outputs": [
    {
     "output_type": "execute_result",
     "data": {
      "text/plain": [
       "{'지역': ['서울',\n",
       "  '부산',\n",
       "  '대구',\n",
       "  '인천',\n",
       "  '광주',\n",
       "  '대전',\n",
       "  '울산',\n",
       "  '세종',\n",
       "  '경기도',\n",
       "  '강원도',\n",
       "  '충청북도',\n",
       "  '충청남도',\n",
       "  '전라북도',\n",
       "  '전라남도',\n",
       "  '경상북도',\n",
       "  '경상남도',\n",
       "  '제주도'],\n",
       " '총인구수': [9736962,\n",
       "  3410925,\n",
       "  2432883,\n",
       "  2954955,\n",
       "  1456121,\n",
       "  1473125,\n",
       "  1145710,\n",
       "  343788,\n",
       "  13265377,\n",
       "  1539521,\n",
       "  1598599,\n",
       "  2120995,\n",
       "  1815112,\n",
       "  1861894,\n",
       "  2658956,\n",
       "  3358828,\n",
       "  670876],\n",
       " '0~9세': [658355,\n",
       "  241624,\n",
       "  186623,\n",
       "  239941,\n",
       "  125396,\n",
       "  120476,\n",
       "  103399,\n",
       "  47454,\n",
       "  1178548,\n",
       "  108694,\n",
       "  128290,\n",
       "  179808,\n",
       "  135297,\n",
       "  137868,\n",
       "  198214,\n",
       "  282751,\n",
       "  62086],\n",
       " '10~19세': [813563,\n",
       "  281120,\n",
       "  234528,\n",
       "  281097,\n",
       "  162728,\n",
       "  151861,\n",
       "  115623,\n",
       "  40574,\n",
       "  1347854,\n",
       "  141975,\n",
       "  153119,\n",
       "  206578,\n",
       "  180675,\n",
       "  172888,\n",
       "  233506,\n",
       "  331566,\n",
       "  71539],\n",
       " '20~29세': [1455903,\n",
       "  434692,\n",
       "  321487,\n",
       "  405835,\n",
       "  207554,\n",
       "  212143,\n",
       "  147745,\n",
       "  36273,\n",
       "  1769080,\n",
       "  179813,\n",
       "  198910,\n",
       "  243748,\n",
       "  212339,\n",
       "  202760,\n",
       "  291097,\n",
       "  384750,\n",
       "  81968],\n",
       " '30~39세': [1505729,\n",
       "  431911,\n",
       "  303397,\n",
       "  417708,\n",
       "  191432,\n",
       "  199106,\n",
       "  158271,\n",
       "  61442,\n",
       "  1917785,\n",
       "  169694,\n",
       "  198768,\n",
       "  276553,\n",
       "  195971,\n",
       "  193083,\n",
       "  303472,\n",
       "  418383,\n",
       "  84145],\n",
       " '40~49세': [1563968,\n",
       "  518321,\n",
       "  391997,\n",
       "  490716,\n",
       "  244903,\n",
       "  242381,\n",
       "  190698,\n",
       "  65714,\n",
       "  2299179,\n",
       "  227950,\n",
       "  243982,\n",
       "  329789,\n",
       "  274471,\n",
       "  265366,\n",
       "  390995,\n",
       "  543911,\n",
       "  113076],\n",
       " '50~59세': [1539385,\n",
       "  580966,\n",
       "  428622,\n",
       "  515758,\n",
       "  234048,\n",
       "  243526,\n",
       "  211255,\n",
       "  42907,\n",
       "  2205106,\n",
       "  269666,\n",
       "  273857,\n",
       "  340568,\n",
       "  303074,\n",
       "  317226,\n",
       "  464427,\n",
       "  585186,\n",
       "  111221],\n",
       " '60~69세': [1200518,\n",
       "  511174,\n",
       "  311274,\n",
       "  344843,\n",
       "  155056,\n",
       "  170291,\n",
       "  136520,\n",
       "  27813,\n",
       "  1422638,\n",
       "  226444,\n",
       "  209926,\n",
       "  264305,\n",
       "  244901,\n",
       "  259385,\n",
       "  389498,\n",
       "  435315,\n",
       "  75172],\n",
       " '70~79세': [688818,\n",
       "  285602,\n",
       "  171217,\n",
       "  172269,\n",
       "  91020,\n",
       "  88289,\n",
       "  57438,\n",
       "  13609,\n",
       "  742296,\n",
       "  135668,\n",
       "  119037,\n",
       "  167339,\n",
       "  165445,\n",
       "  191719,\n",
       "  238482,\n",
       "  240111,\n",
       "  44621],\n",
       " '80~89세': [263939,\n",
       "  109312,\n",
       "  74227,\n",
       "  74306,\n",
       "  38050,\n",
       "  39190,\n",
       "  21610,\n",
       "  6863,\n",
       "  330231,\n",
       "  68321,\n",
       "  63513,\n",
       "  97941,\n",
       "  89352,\n",
       "  105793,\n",
       "  130716,\n",
       "  119977,\n",
       "  22963],\n",
       " '90~99세': [40404,\n",
       "  14396,\n",
       "  8817,\n",
       "  11574,\n",
       "  5529,\n",
       "  5523,\n",
       "  2991,\n",
       "  1084,\n",
       "  48650,\n",
       "  10493,\n",
       "  8656,\n",
       "  13481,\n",
       "  12770,\n",
       "  14984,\n",
       "  17589,\n",
       "  16139,\n",
       "  3819],\n",
       " '100세 이상': [6380,\n",
       "  1807,\n",
       "  694,\n",
       "  908,\n",
       "  405,\n",
       "  339,\n",
       "  160,\n",
       "  55,\n",
       "  4010,\n",
       "  803,\n",
       "  541,\n",
       "  885,\n",
       "  817,\n",
       "  822,\n",
       "  960,\n",
       "  739,\n",
       "  266]}"
      ]
     },
     "metadata": {},
     "execution_count": 17
    }
   ],
   "source": [
    "pod4 = pod.to_dict('list')\n",
    "pod4"
   ]
  },
  {
   "cell_type": "code",
   "execution_count": 21,
   "metadata": {},
   "outputs": [
    {
     "output_type": "error",
     "ename": "TypeError",
     "evalue": "unhashable type: 'dict'",
     "traceback": [
      "\u001b[1;31m---------------------------------------------------------------------------\u001b[0m",
      "\u001b[1;31mTypeError\u001b[0m                                 Traceback (most recent call last)",
      "\u001b[1;32m<ipython-input-21-24462276748c>\u001b[0m in \u001b[0;36m<module>\u001b[1;34m\u001b[0m\n\u001b[1;32m----> 1\u001b[1;33m \u001b[0mdict\u001b[0m \u001b[1;33m=\u001b[0m \u001b[1;33m{\u001b[0m\u001b[0mpod4\u001b[0m\u001b[1;33m,\u001b[0m \u001b[0mpod4\u001b[0m\u001b[1;33m}\u001b[0m\u001b[1;33m\u001b[0m\u001b[1;33m\u001b[0m\u001b[0m\n\u001b[0m\u001b[0;32m      2\u001b[0m \u001b[0mdi\u001b[0m \u001b[1;33m=\u001b[0m \u001b[0mpd\u001b[0m\u001b[1;33m.\u001b[0m\u001b[0mDataFrame\u001b[0m\u001b[1;33m(\u001b[0m\u001b[0mdict\u001b[0m\u001b[1;33m)\u001b[0m\u001b[1;33m\u001b[0m\u001b[1;33m\u001b[0m\u001b[0m\n\u001b[0;32m      3\u001b[0m \u001b[0mdi\u001b[0m\u001b[1;33m\u001b[0m\u001b[1;33m\u001b[0m\u001b[0m\n",
      "\u001b[1;31mTypeError\u001b[0m: unhashable type: 'dict'"
     ]
    }
   ],
   "source": [
    "dict = {pod4, pod4}\n",
    "di = pd.DataFrame(dict)\n",
    "di"
   ]
  },
  {
   "cell_type": "code",
   "execution_count": null,
   "metadata": {},
   "outputs": [],
   "source": [
    "data = {\n",
    "    \"국어\": [80, 90, 70, 30],\n",
    "    \"영어\": [90, 70, 60, 40],\n",
    "    \"수학\": [90, 60, 80, 70],\n",
    "}\n",
    "columns = [\"국어\", \"영어\", \"수학\"]\n",
    "index = [\"춘향\", \"몽룡\", \"향단\", \"방자\"]\n",
    "df = pd.DataFrame(data, index=index, columns=columns)\n",
    "df"
   ]
  },
  {
   "cell_type": "code",
   "execution_count": 2,
   "metadata": {},
   "outputs": [
    {
     "output_type": "execute_result",
     "data": {
      "text/plain": [
       "   survived  pclass     sex   age  sibsp  parch     fare embarked  class  \\\n",
       "0         0       3    male  22.0      1      0   7.2500        S  Third   \n",
       "1         1       1  female  38.0      1      0  71.2833        C  First   \n",
       "2         1       3  female  26.0      0      0   7.9250        S  Third   \n",
       "3         1       1  female  35.0      1      0  53.1000        S  First   \n",
       "4         0       3    male  35.0      0      0   8.0500        S  Third   \n",
       "\n",
       "     who  adult_male deck  embark_town alive  alone  \n",
       "0    man        True  NaN  Southampton    no  False  \n",
       "1  woman       False    C    Cherbourg   yes  False  \n",
       "2  woman       False  NaN  Southampton   yes   True  \n",
       "3  woman       False    C  Southampton   yes  False  \n",
       "4    man        True  NaN  Southampton    no   True  "
      ],
      "text/html": "<div>\n<style scoped>\n    .dataframe tbody tr th:only-of-type {\n        vertical-align: middle;\n    }\n\n    .dataframe tbody tr th {\n        vertical-align: top;\n    }\n\n    .dataframe thead th {\n        text-align: right;\n    }\n</style>\n<table border=\"1\" class=\"dataframe\">\n  <thead>\n    <tr style=\"text-align: right;\">\n      <th></th>\n      <th>survived</th>\n      <th>pclass</th>\n      <th>sex</th>\n      <th>age</th>\n      <th>sibsp</th>\n      <th>parch</th>\n      <th>fare</th>\n      <th>embarked</th>\n      <th>class</th>\n      <th>who</th>\n      <th>adult_male</th>\n      <th>deck</th>\n      <th>embark_town</th>\n      <th>alive</th>\n      <th>alone</th>\n    </tr>\n  </thead>\n  <tbody>\n    <tr>\n      <th>0</th>\n      <td>0</td>\n      <td>3</td>\n      <td>male</td>\n      <td>22.0</td>\n      <td>1</td>\n      <td>0</td>\n      <td>7.2500</td>\n      <td>S</td>\n      <td>Third</td>\n      <td>man</td>\n      <td>True</td>\n      <td>NaN</td>\n      <td>Southampton</td>\n      <td>no</td>\n      <td>False</td>\n    </tr>\n    <tr>\n      <th>1</th>\n      <td>1</td>\n      <td>1</td>\n      <td>female</td>\n      <td>38.0</td>\n      <td>1</td>\n      <td>0</td>\n      <td>71.2833</td>\n      <td>C</td>\n      <td>First</td>\n      <td>woman</td>\n      <td>False</td>\n      <td>C</td>\n      <td>Cherbourg</td>\n      <td>yes</td>\n      <td>False</td>\n    </tr>\n    <tr>\n      <th>2</th>\n      <td>1</td>\n      <td>3</td>\n      <td>female</td>\n      <td>26.0</td>\n      <td>0</td>\n      <td>0</td>\n      <td>7.9250</td>\n      <td>S</td>\n      <td>Third</td>\n      <td>woman</td>\n      <td>False</td>\n      <td>NaN</td>\n      <td>Southampton</td>\n      <td>yes</td>\n      <td>True</td>\n    </tr>\n    <tr>\n      <th>3</th>\n      <td>1</td>\n      <td>1</td>\n      <td>female</td>\n      <td>35.0</td>\n      <td>1</td>\n      <td>0</td>\n      <td>53.1000</td>\n      <td>S</td>\n      <td>First</td>\n      <td>woman</td>\n      <td>False</td>\n      <td>C</td>\n      <td>Southampton</td>\n      <td>yes</td>\n      <td>False</td>\n    </tr>\n    <tr>\n      <th>4</th>\n      <td>0</td>\n      <td>3</td>\n      <td>male</td>\n      <td>35.0</td>\n      <td>0</td>\n      <td>0</td>\n      <td>8.0500</td>\n      <td>S</td>\n      <td>Third</td>\n      <td>man</td>\n      <td>True</td>\n      <td>NaN</td>\n      <td>Southampton</td>\n      <td>no</td>\n      <td>True</td>\n    </tr>\n  </tbody>\n</table>\n</div>"
     },
     "metadata": {},
     "execution_count": 2
    }
   ],
   "source": [
    "import seaborn as sns #타이타닉호의 승객데이터를 불러올수있다\n",
    "titanic = sns.load_dataset(\"titanic\")\n",
    "titanic.head()"
   ]
  },
  {
   "cell_type": "code",
   "execution_count": 3,
   "metadata": {},
   "outputs": [],
   "source": [
    "## 연습 문제 4.4.7\n",
    "# 타이타닉호 승객을 ‘미성년자’, ‘청년’, ‘중년’, ‘장년’, ‘노년’ 나이 그룹으로 나눈다.\n",
    "# 그리고 각 나이 그룹의 승객 비율을 구한다. 비율의 전체 합은 1이 되어야 한다."
   ]
  },
  {
   "cell_type": "code",
   "execution_count": 4,
   "metadata": {},
   "outputs": [
    {
     "output_type": "execute_result",
     "data": {
      "text/plain": [
       "0        청년\n",
       "1        중년\n",
       "2        청년\n",
       "3        중년\n",
       "4        중년\n",
       "       ... \n",
       "886      청년\n",
       "887    미성년자\n",
       "888     NaN\n",
       "889      청년\n",
       "890      중년\n",
       "Name: age, Length: 891, dtype: category\n",
       "Categories (5, object): [미성년자 < 청년 < 중년 < 장년 < 노년]"
      ]
     },
     "metadata": {},
     "execution_count": 4
    }
   ],
   "source": [
    "bins = [1, 20, 30, 50, 70, 100]\n",
    "labels = [\"미성년자\", \"청년\", \"중년\", \"장년\", \"노년\"]\n",
    "cats = pd.cut(titanic.age, bins, labels=labels)\n",
    "cats"
   ]
  },
  {
   "cell_type": "code",
   "execution_count": 5,
   "metadata": {},
   "outputs": [
    {
     "output_type": "execute_result",
     "data": {
      "text/plain": [
       "      age age_cat\n",
       "0    22.0      청년\n",
       "1    38.0      중년\n",
       "2    26.0      청년\n",
       "3    35.0      중년\n",
       "4    35.0      중년\n",
       "..    ...     ...\n",
       "886  27.0      청년\n",
       "887  19.0    미성년자\n",
       "888   NaN     NaN\n",
       "889  26.0      청년\n",
       "890  32.0      중년\n",
       "\n",
       "[891 rows x 2 columns]"
      ],
      "text/html": "<div>\n<style scoped>\n    .dataframe tbody tr th:only-of-type {\n        vertical-align: middle;\n    }\n\n    .dataframe tbody tr th {\n        vertical-align: top;\n    }\n\n    .dataframe thead th {\n        text-align: right;\n    }\n</style>\n<table border=\"1\" class=\"dataframe\">\n  <thead>\n    <tr style=\"text-align: right;\">\n      <th></th>\n      <th>age</th>\n      <th>age_cat</th>\n    </tr>\n  </thead>\n  <tbody>\n    <tr>\n      <th>0</th>\n      <td>22.0</td>\n      <td>청년</td>\n    </tr>\n    <tr>\n      <th>1</th>\n      <td>38.0</td>\n      <td>중년</td>\n    </tr>\n    <tr>\n      <th>2</th>\n      <td>26.0</td>\n      <td>청년</td>\n    </tr>\n    <tr>\n      <th>3</th>\n      <td>35.0</td>\n      <td>중년</td>\n    </tr>\n    <tr>\n      <th>4</th>\n      <td>35.0</td>\n      <td>중년</td>\n    </tr>\n    <tr>\n      <th>...</th>\n      <td>...</td>\n      <td>...</td>\n    </tr>\n    <tr>\n      <th>886</th>\n      <td>27.0</td>\n      <td>청년</td>\n    </tr>\n    <tr>\n      <th>887</th>\n      <td>19.0</td>\n      <td>미성년자</td>\n    </tr>\n    <tr>\n      <th>888</th>\n      <td>NaN</td>\n      <td>NaN</td>\n    </tr>\n    <tr>\n      <th>889</th>\n      <td>26.0</td>\n      <td>청년</td>\n    </tr>\n    <tr>\n      <th>890</th>\n      <td>32.0</td>\n      <td>중년</td>\n    </tr>\n  </tbody>\n</table>\n<p>891 rows × 2 columns</p>\n</div>"
     },
     "metadata": {},
     "execution_count": 5
    }
   ],
   "source": [
    "af = pd.DataFrame(titanic.age, columns=[\"age\"])\n",
    "af[\"age_cat\"] = pd.cut(af.age, bins, labels=labels)\n",
    "af"
   ]
  },
  {
   "cell_type": "code",
   "execution_count": 6,
   "metadata": {},
   "outputs": [
    {
     "output_type": "execute_result",
     "data": {
      "text/plain": [
       "      age age_cat\n",
       "0    22.0      청년\n",
       "1    38.0      중년\n",
       "2    26.0      청년\n",
       "3    35.0      중년\n",
       "4    35.0      중년\n",
       "..    ...     ...\n",
       "886  27.0      청년\n",
       "887  19.0    미성년자\n",
       "888   NaN     NaN\n",
       "889  26.0      청년\n",
       "890  32.0      중년\n",
       "\n",
       "[891 rows x 2 columns]"
      ],
      "text/html": "<div>\n<style scoped>\n    .dataframe tbody tr th:only-of-type {\n        vertical-align: middle;\n    }\n\n    .dataframe tbody tr th {\n        vertical-align: top;\n    }\n\n    .dataframe thead th {\n        text-align: right;\n    }\n</style>\n<table border=\"1\" class=\"dataframe\">\n  <thead>\n    <tr style=\"text-align: right;\">\n      <th></th>\n      <th>age</th>\n      <th>age_cat</th>\n    </tr>\n  </thead>\n  <tbody>\n    <tr>\n      <th>0</th>\n      <td>22.0</td>\n      <td>청년</td>\n    </tr>\n    <tr>\n      <th>1</th>\n      <td>38.0</td>\n      <td>중년</td>\n    </tr>\n    <tr>\n      <th>2</th>\n      <td>26.0</td>\n      <td>청년</td>\n    </tr>\n    <tr>\n      <th>3</th>\n      <td>35.0</td>\n      <td>중년</td>\n    </tr>\n    <tr>\n      <th>4</th>\n      <td>35.0</td>\n      <td>중년</td>\n    </tr>\n    <tr>\n      <th>...</th>\n      <td>...</td>\n      <td>...</td>\n    </tr>\n    <tr>\n      <th>886</th>\n      <td>27.0</td>\n      <td>청년</td>\n    </tr>\n    <tr>\n      <th>887</th>\n      <td>19.0</td>\n      <td>미성년자</td>\n    </tr>\n    <tr>\n      <th>888</th>\n      <td>NaN</td>\n      <td>NaN</td>\n    </tr>\n    <tr>\n      <th>889</th>\n      <td>26.0</td>\n      <td>청년</td>\n    </tr>\n    <tr>\n      <th>890</th>\n      <td>32.0</td>\n      <td>중년</td>\n    </tr>\n  </tbody>\n</table>\n<p>891 rows × 2 columns</p>\n</div>"
     },
     "metadata": {},
     "execution_count": 6
    }
   ],
   "source": [
    "af.apply(pd.value_counts).fillna(0)\n",
    "af"
   ]
  },
  {
   "cell_type": "code",
   "execution_count": 7,
   "metadata": {},
   "outputs": [],
   "source": [
    "## 연습 문제 4.4.8\n",
    "#타이타닉호의 승객에 대해 나이와 성별에 의한 카테고리 열인 category3 열을 만들어라. category3 카테고리는 다음과 같이 정의된다.\n",
    "\n",
    "# 20살 미만이면 성별에 관계없이 “미성년자”라고 한다.\n",
    "\n",
    "# 20살 이상이면 나이에 따라 “청년”, “중년”, “장년”, “노년”을 구분하고 그 뒤에 성별을 나타내는 “남성”, “여성”을 붙인다."
   ]
  }
 ]
}