{
 "metadata": {
  "language_info": {
   "codemirror_mode": {
    "name": "ipython",
    "version": 3
   },
   "file_extension": ".py",
   "mimetype": "text/x-python",
   "name": "python",
   "nbconvert_exporter": "python",
   "pygments_lexer": "ipython3",
   "version": "3.8.3-final"
  },
  "orig_nbformat": 2,
  "kernelspec": {
   "name": "Python 3.8.3 64-bit (conda)",
   "display_name": "Python 3.8.3 64-bit (conda)",
   "metadata": {
    "interpreter": {
     "hash": "b3ba2566441a7c06988d0923437866b63cedc61552a5af99d1f4fb67d367b25f"
    }
   }
  }
 },
 "nbformat": 4,
 "nbformat_minor": 2,
 "cells": [
  {
   "source": [
    "## 데이터프레임 인덱스 조작\n",
    "- set_index : 기존의 행 인덱스를 제거하고 데이터 열 중 하나를 인덱스로 설정\n",
    "- reset_index : 기존의 행 인덱스를 제거하고 인덱스를 데이터 열로 추가"
   ],
   "cell_type": "markdown",
   "metadata": {}
  },
  {
   "cell_type": "code",
   "execution_count": 3,
   "metadata": {},
   "outputs": [],
   "source": [
    "import numpy as np\n",
    "import pandas as pd"
   ]
  },
  {
   "cell_type": "code",
   "execution_count": 8,
   "metadata": {},
   "outputs": [
    {
     "output_type": "execute_result",
     "data": {
      "text/plain": [
       "  C1    C2    C3    C4\n",
       "0  A  0.55  0.65  0.79\n",
       "1  B  0.72  0.44  0.53\n",
       "2  C   0.6  0.89  0.57\n",
       "3  D  0.54  0.96  0.93\n",
       "4  E  0.42  0.38  0.07"
      ],
      "text/html": "<div>\n<style scoped>\n    .dataframe tbody tr th:only-of-type {\n        vertical-align: middle;\n    }\n\n    .dataframe tbody tr th {\n        vertical-align: top;\n    }\n\n    .dataframe thead th {\n        text-align: right;\n    }\n</style>\n<table border=\"1\" class=\"dataframe\">\n  <thead>\n    <tr style=\"text-align: right;\">\n      <th></th>\n      <th>C1</th>\n      <th>C2</th>\n      <th>C3</th>\n      <th>C4</th>\n    </tr>\n  </thead>\n  <tbody>\n    <tr>\n      <th>0</th>\n      <td>A</td>\n      <td>0.55</td>\n      <td>0.65</td>\n      <td>0.79</td>\n    </tr>\n    <tr>\n      <th>1</th>\n      <td>B</td>\n      <td>0.72</td>\n      <td>0.44</td>\n      <td>0.53</td>\n    </tr>\n    <tr>\n      <th>2</th>\n      <td>C</td>\n      <td>0.6</td>\n      <td>0.89</td>\n      <td>0.57</td>\n    </tr>\n    <tr>\n      <th>3</th>\n      <td>D</td>\n      <td>0.54</td>\n      <td>0.96</td>\n      <td>0.93</td>\n    </tr>\n    <tr>\n      <th>4</th>\n      <td>E</td>\n      <td>0.42</td>\n      <td>0.38</td>\n      <td>0.07</td>\n    </tr>\n  </tbody>\n</table>\n</div>"
     },
     "metadata": {},
     "execution_count": 8
    }
   ],
   "source": [
    "np.random.seed(0)\n",
    "df1 = pd.DataFrame(np.vstack([list('ABCDE'),\n",
    "                              np.round(np.random.rand(3, 5), 2)]).T,\n",
    "                   columns=[\"C1\", \"C2\", \"C3\", \"C4\"])\n",
    "df1"
   ]
  },
  {
   "cell_type": "code",
   "execution_count": 9,
   "metadata": {},
   "outputs": [
    {
     "output_type": "execute_result",
     "data": {
      "text/plain": [
       "      C2    C3    C4\n",
       "C1                  \n",
       "A   0.55  0.65  0.79\n",
       "B   0.72  0.44  0.53\n",
       "C    0.6  0.89  0.57\n",
       "D   0.54  0.96  0.93\n",
       "E   0.42  0.38  0.07"
      ],
      "text/html": "<div>\n<style scoped>\n    .dataframe tbody tr th:only-of-type {\n        vertical-align: middle;\n    }\n\n    .dataframe tbody tr th {\n        vertical-align: top;\n    }\n\n    .dataframe thead th {\n        text-align: right;\n    }\n</style>\n<table border=\"1\" class=\"dataframe\">\n  <thead>\n    <tr style=\"text-align: right;\">\n      <th></th>\n      <th>C2</th>\n      <th>C3</th>\n      <th>C4</th>\n    </tr>\n    <tr>\n      <th>C1</th>\n      <th></th>\n      <th></th>\n      <th></th>\n    </tr>\n  </thead>\n  <tbody>\n    <tr>\n      <th>A</th>\n      <td>0.55</td>\n      <td>0.65</td>\n      <td>0.79</td>\n    </tr>\n    <tr>\n      <th>B</th>\n      <td>0.72</td>\n      <td>0.44</td>\n      <td>0.53</td>\n    </tr>\n    <tr>\n      <th>C</th>\n      <td>0.6</td>\n      <td>0.89</td>\n      <td>0.57</td>\n    </tr>\n    <tr>\n      <th>D</th>\n      <td>0.54</td>\n      <td>0.96</td>\n      <td>0.93</td>\n    </tr>\n    <tr>\n      <th>E</th>\n      <td>0.42</td>\n      <td>0.38</td>\n      <td>0.07</td>\n    </tr>\n  </tbody>\n</table>\n</div>"
     },
     "metadata": {},
     "execution_count": 9
    }
   ],
   "source": [
    "df2 = df1.set_index(\"C1\") # C1 열을 인덱스로 설정\n",
    "df2"
   ]
  },
  {
   "cell_type": "code",
   "execution_count": 5,
   "metadata": {},
   "outputs": [
    {
     "output_type": "execute_result",
     "data": {
      "text/plain": [
       "        C3    C4\n",
       "C2              \n",
       "0.55  0.65  0.79\n",
       "0.72  0.44  0.53\n",
       "0.6   0.89  0.57\n",
       "0.54  0.96  0.93\n",
       "0.42  0.38  0.07"
      ],
      "text/html": "<div>\n<style scoped>\n    .dataframe tbody tr th:only-of-type {\n        vertical-align: middle;\n    }\n\n    .dataframe tbody tr th {\n        vertical-align: top;\n    }\n\n    .dataframe thead th {\n        text-align: right;\n    }\n</style>\n<table border=\"1\" class=\"dataframe\">\n  <thead>\n    <tr style=\"text-align: right;\">\n      <th></th>\n      <th>C3</th>\n      <th>C4</th>\n    </tr>\n    <tr>\n      <th>C2</th>\n      <th></th>\n      <th></th>\n    </tr>\n  </thead>\n  <tbody>\n    <tr>\n      <th>0.55</th>\n      <td>0.65</td>\n      <td>0.79</td>\n    </tr>\n    <tr>\n      <th>0.72</th>\n      <td>0.44</td>\n      <td>0.53</td>\n    </tr>\n    <tr>\n      <th>0.6</th>\n      <td>0.89</td>\n      <td>0.57</td>\n    </tr>\n    <tr>\n      <th>0.54</th>\n      <td>0.96</td>\n      <td>0.93</td>\n    </tr>\n    <tr>\n      <th>0.42</th>\n      <td>0.38</td>\n      <td>0.07</td>\n    </tr>\n  </tbody>\n</table>\n</div>"
     },
     "metadata": {},
     "execution_count": 5
    }
   ],
   "source": [
    "df2.set_index(\"C2\") # 새로운 인덱스를 넣을 시 기존 인덱스가 사라짐"
   ]
  },
  {
   "cell_type": "code",
   "execution_count": 6,
   "metadata": {},
   "outputs": [
    {
     "output_type": "execute_result",
     "data": {
      "text/plain": [
       "  C1    C2    C3    C4\n",
       "0  A  0.55  0.65  0.79\n",
       "1  B  0.72  0.44  0.53\n",
       "2  C   0.6  0.89  0.57\n",
       "3  D  0.54  0.96  0.93\n",
       "4  E  0.42  0.38  0.07"
      ],
      "text/html": "<div>\n<style scoped>\n    .dataframe tbody tr th:only-of-type {\n        vertical-align: middle;\n    }\n\n    .dataframe tbody tr th {\n        vertical-align: top;\n    }\n\n    .dataframe thead th {\n        text-align: right;\n    }\n</style>\n<table border=\"1\" class=\"dataframe\">\n  <thead>\n    <tr style=\"text-align: right;\">\n      <th></th>\n      <th>C1</th>\n      <th>C2</th>\n      <th>C3</th>\n      <th>C4</th>\n    </tr>\n  </thead>\n  <tbody>\n    <tr>\n      <th>0</th>\n      <td>A</td>\n      <td>0.55</td>\n      <td>0.65</td>\n      <td>0.79</td>\n    </tr>\n    <tr>\n      <th>1</th>\n      <td>B</td>\n      <td>0.72</td>\n      <td>0.44</td>\n      <td>0.53</td>\n    </tr>\n    <tr>\n      <th>2</th>\n      <td>C</td>\n      <td>0.6</td>\n      <td>0.89</td>\n      <td>0.57</td>\n    </tr>\n    <tr>\n      <th>3</th>\n      <td>D</td>\n      <td>0.54</td>\n      <td>0.96</td>\n      <td>0.93</td>\n    </tr>\n    <tr>\n      <th>4</th>\n      <td>E</td>\n      <td>0.42</td>\n      <td>0.38</td>\n      <td>0.07</td>\n    </tr>\n  </tbody>\n</table>\n</div>"
     },
     "metadata": {},
     "execution_count": 6
    }
   ],
   "source": [
    "df2.reset_index()"
   ]
  },
  {
   "cell_type": "code",
   "execution_count": 8,
   "metadata": {},
   "outputs": [
    {
     "output_type": "execute_result",
     "data": {
      "text/plain": [
       "     C2    C3    C4\n",
       "0  0.55  0.65  0.79\n",
       "1  0.72  0.44  0.53\n",
       "2   0.6  0.89  0.57\n",
       "3  0.54  0.96  0.93\n",
       "4  0.42  0.38  0.07"
      ],
      "text/html": "<div>\n<style scoped>\n    .dataframe tbody tr th:only-of-type {\n        vertical-align: middle;\n    }\n\n    .dataframe tbody tr th {\n        vertical-align: top;\n    }\n\n    .dataframe thead th {\n        text-align: right;\n    }\n</style>\n<table border=\"1\" class=\"dataframe\">\n  <thead>\n    <tr style=\"text-align: right;\">\n      <th></th>\n      <th>C2</th>\n      <th>C3</th>\n      <th>C4</th>\n    </tr>\n  </thead>\n  <tbody>\n    <tr>\n      <th>0</th>\n      <td>0.55</td>\n      <td>0.65</td>\n      <td>0.79</td>\n    </tr>\n    <tr>\n      <th>1</th>\n      <td>0.72</td>\n      <td>0.44</td>\n      <td>0.53</td>\n    </tr>\n    <tr>\n      <th>2</th>\n      <td>0.6</td>\n      <td>0.89</td>\n      <td>0.57</td>\n    </tr>\n    <tr>\n      <th>3</th>\n      <td>0.54</td>\n      <td>0.96</td>\n      <td>0.93</td>\n    </tr>\n    <tr>\n      <th>4</th>\n      <td>0.42</td>\n      <td>0.38</td>\n      <td>0.07</td>\n    </tr>\n  </tbody>\n</table>\n</div>"
     },
     "metadata": {},
     "execution_count": 8
    }
   ],
   "source": [
    "df3 = df2.reset_index(drop=True) #옵션을 주면 인덱스 열을 사라지게 됨\n",
    "df3"
   ]
  },
  {
   "cell_type": "code",
   "execution_count": null,
   "metadata": {},
   "outputs": [],
   "source": [
    "### 연습 문제 4.5.1\n",
    "#5명의 학생의 국어, 영어, 수학 점수를 나타내는 데이터프레임을 다음과 같이 만든다.\n",
    "\n",
    "#학생 이름을 나타내는 열을 포함시키지 않고 데이터프레임 df_score1 을 생성한 후, df_score1.index 속성에 학생 이름을 나타내는 열을 지정하여 인덱스를 지정한다. reset_index 명령으로 이 인덱스 열을 명령으로 일반 데이터열로 바꾸여 데이터프레임 df_score2을 만든다.\n",
    "\n",
    "df_score1 = pd.DataFrame(np.round(np.random))"
   ]
  },
  {
   "cell_type": "code",
   "execution_count": null,
   "metadata": {},
   "outputs": [],
   "source": [
    "#학생 이름을 나타내는 열이 일반 데이터 열을 포함하는 데이터프레임 df_score2에 set_index 명령을 적용하여 다시 학생 이름을 나타내는 열을 인덱스로 변경한다."
   ]
  },
  {
   "source": [
    "### 다중 인덱스"
   ],
   "cell_type": "markdown",
   "metadata": {}
  },
  {
   "cell_type": "code",
   "execution_count": 4,
   "metadata": {},
   "outputs": [
    {
     "output_type": "execute_result",
     "data": {
      "text/plain": [
       "Cidx1           A           B      \n",
       "Cidx2           C     D     C     D\n",
       "Ridx1 Ridx2                        \n",
       "M     id_1   1.76  0.40  0.98  2.24\n",
       "      id_2   1.87 -0.98  0.95 -0.15\n",
       "      id_3  -0.10  0.41  0.14  1.45\n",
       "F     id_1   0.76  0.12  0.44  0.33\n",
       "      id_2   1.49 -0.21  0.31 -0.85\n",
       "      id_3  -2.55  0.65  0.86 -0.74"
      ],
      "text/html": "<div>\n<style scoped>\n    .dataframe tbody tr th:only-of-type {\n        vertical-align: middle;\n    }\n\n    .dataframe tbody tr th {\n        vertical-align: top;\n    }\n\n    .dataframe thead tr th {\n        text-align: left;\n    }\n\n    .dataframe thead tr:last-of-type th {\n        text-align: right;\n    }\n</style>\n<table border=\"1\" class=\"dataframe\">\n  <thead>\n    <tr>\n      <th></th>\n      <th>Cidx1</th>\n      <th colspan=\"2\" halign=\"left\">A</th>\n      <th colspan=\"2\" halign=\"left\">B</th>\n    </tr>\n    <tr>\n      <th></th>\n      <th>Cidx2</th>\n      <th>C</th>\n      <th>D</th>\n      <th>C</th>\n      <th>D</th>\n    </tr>\n    <tr>\n      <th>Ridx1</th>\n      <th>Ridx2</th>\n      <th></th>\n      <th></th>\n      <th></th>\n      <th></th>\n    </tr>\n  </thead>\n  <tbody>\n    <tr>\n      <th rowspan=\"3\" valign=\"top\">M</th>\n      <th>id_1</th>\n      <td>1.76</td>\n      <td>0.40</td>\n      <td>0.98</td>\n      <td>2.24</td>\n    </tr>\n    <tr>\n      <th>id_2</th>\n      <td>1.87</td>\n      <td>-0.98</td>\n      <td>0.95</td>\n      <td>-0.15</td>\n    </tr>\n    <tr>\n      <th>id_3</th>\n      <td>-0.10</td>\n      <td>0.41</td>\n      <td>0.14</td>\n      <td>1.45</td>\n    </tr>\n    <tr>\n      <th rowspan=\"3\" valign=\"top\">F</th>\n      <th>id_1</th>\n      <td>0.76</td>\n      <td>0.12</td>\n      <td>0.44</td>\n      <td>0.33</td>\n    </tr>\n    <tr>\n      <th>id_2</th>\n      <td>1.49</td>\n      <td>-0.21</td>\n      <td>0.31</td>\n      <td>-0.85</td>\n    </tr>\n    <tr>\n      <th>id_3</th>\n      <td>-2.55</td>\n      <td>0.65</td>\n      <td>0.86</td>\n      <td>-0.74</td>\n    </tr>\n  </tbody>\n</table>\n</div>"
     },
     "metadata": {},
     "execution_count": 4
    }
   ],
   "source": [
    "np.random.seed(0)\n",
    "df4 = pd.DataFrame(np.round(np.random.randn(6, 4), 2),\n",
    "                   columns=[[\"A\", \"A\", \"B\", \"B\"], \n",
    "                   # columns 같은 리스트를 줄때 다중 인덱스를 주면 중첩리스트가 됨\n",
    "                            [\"C\", \"D\", \"C\", \"D\"]],\n",
    "                   index=[[\"M\", \"M\", \"M\", \"F\", \"F\", \"F\"],\n",
    "                          [\"id_\" + str(i + 1) for i in range(3)] * 2])\n",
    "df4.columns.names = [\"Cidx1\", \"Cidx2\"]\n",
    "df4.index.names = [\"Ridx1\", \"Ridx2\"]\n",
    "df4"
   ]
  },
  {
   "cell_type": "code",
   "execution_count": 5,
   "metadata": {},
   "outputs": [
    {
     "output_type": "execute_result",
     "data": {
      "text/plain": [
       "0.12"
      ]
     },
     "metadata": {},
     "execution_count": 5
    }
   ],
   "source": [
    "df4[('A','D')][('F','id_1')]"
   ]
  },
  {
   "source": [
    "### 행 인덱스와 열 인덱스 교환\n",
    "- stack :열 인덱스 -> 행 인덱스로 변환\n",
    "- stack 메서드를 실행하면 열 인덱스가 반시계 방향으로 90도 회전한 것과 비슷한 모양이 됨\n",
    "- unstack: 행 인덱스 -> 열 인덱스로 변환\n",
    "-  unstack 메서드를 실행하면 행 인덱스가 시계 방향으로 90도 회전한 것과 비슷하다. 인덱스를 지정할 때는 문자열 이름과 순서를 표시하는 숫자 인덱스를 모두 사용"
   ],
   "cell_type": "markdown",
   "metadata": {}
  },
  {
   "cell_type": "code",
   "execution_count": 10,
   "metadata": {},
   "outputs": [
    {
     "output_type": "execute_result",
     "data": {
      "text/plain": [
       "C1    \n",
       "A   C2    0.55\n",
       "    C3    0.65\n",
       "    C4    0.79\n",
       "B   C2    0.72\n",
       "    C3    0.44\n",
       "    C4    0.53\n",
       "C   C2     0.6\n",
       "    C3    0.89\n",
       "    C4    0.57\n",
       "D   C2    0.54\n",
       "    C3    0.96\n",
       "    C4    0.93\n",
       "E   C2    0.42\n",
       "    C3    0.38\n",
       "    C4    0.07\n",
       "dtype: object"
      ]
     },
     "metadata": {},
     "execution_count": 10
    }
   ],
   "source": [
    "df2.stack() # 열인덱스가 반시계 방향으로 행으로 차곡차곡 쌓임"
   ]
  },
  {
   "cell_type": "code",
   "execution_count": 11,
   "metadata": {},
   "outputs": [
    {
     "output_type": "execute_result",
     "data": {
      "text/plain": [
       "    C1\n",
       "C2  A     0.55\n",
       "    B     0.72\n",
       "    C      0.6\n",
       "    D     0.54\n",
       "    E     0.42\n",
       "C3  A     0.65\n",
       "    B     0.44\n",
       "    C     0.89\n",
       "    D     0.96\n",
       "    E     0.38\n",
       "C4  A     0.79\n",
       "    B     0.53\n",
       "    C     0.57\n",
       "    D     0.93\n",
       "    E     0.07\n",
       "dtype: object"
      ]
     },
     "metadata": {},
     "execution_count": 11
    }
   ],
   "source": [
    "df2.unstack() # 열인덱스가 밖에 행인덱스가 열인덱스로 "
   ]
  },
  {
   "cell_type": "code",
   "execution_count": 12,
   "metadata": {},
   "outputs": [
    {
     "output_type": "execute_result",
     "data": {
      "text/plain": [
       "      C2    C3    C4\n",
       "C1                  \n",
       "A   0.55  0.65  0.79\n",
       "B   0.72  0.44  0.53\n",
       "C    0.6  0.89  0.57\n",
       "D   0.54  0.96  0.93\n",
       "E   0.42  0.38  0.07"
      ],
      "text/html": "<div>\n<style scoped>\n    .dataframe tbody tr th:only-of-type {\n        vertical-align: middle;\n    }\n\n    .dataframe tbody tr th {\n        vertical-align: top;\n    }\n\n    .dataframe thead th {\n        text-align: right;\n    }\n</style>\n<table border=\"1\" class=\"dataframe\">\n  <thead>\n    <tr style=\"text-align: right;\">\n      <th></th>\n      <th>C2</th>\n      <th>C3</th>\n      <th>C4</th>\n    </tr>\n    <tr>\n      <th>C1</th>\n      <th></th>\n      <th></th>\n      <th></th>\n    </tr>\n  </thead>\n  <tbody>\n    <tr>\n      <th>A</th>\n      <td>0.55</td>\n      <td>0.65</td>\n      <td>0.79</td>\n    </tr>\n    <tr>\n      <th>B</th>\n      <td>0.72</td>\n      <td>0.44</td>\n      <td>0.53</td>\n    </tr>\n    <tr>\n      <th>C</th>\n      <td>0.6</td>\n      <td>0.89</td>\n      <td>0.57</td>\n    </tr>\n    <tr>\n      <th>D</th>\n      <td>0.54</td>\n      <td>0.96</td>\n      <td>0.93</td>\n    </tr>\n    <tr>\n      <th>E</th>\n      <td>0.42</td>\n      <td>0.38</td>\n      <td>0.07</td>\n    </tr>\n  </tbody>\n</table>\n</div>"
     },
     "metadata": {},
     "execution_count": 12
    }
   ],
   "source": [
    "df2"
   ]
  },
  {
   "cell_type": "code",
   "execution_count": null,
   "metadata": {},
   "outputs": [],
   "source": []
  }
 ]
}