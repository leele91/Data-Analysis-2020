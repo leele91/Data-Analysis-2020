{
 "metadata": {
  "language_info": {
   "codemirror_mode": {
    "name": "ipython",
    "version": 3
   },
   "file_extension": ".py",
   "mimetype": "text/x-python",
   "name": "python",
   "nbconvert_exporter": "python",
   "pygments_lexer": "ipython3",
   "version": "3.8.3-final"
  },
  "orig_nbformat": 2,
  "kernelspec": {
   "name": "python3",
   "display_name": "Python 3.8.3 64-bit (conda)",
   "metadata": {
    "interpreter": {
     "hash": "b3ba2566441a7c06988d0923437866b63cedc61552a5af99d1f4fb67d367b25f"
    }
   }
  }
 },
 "nbformat": 4,
 "nbformat_minor": 2,
 "cells": [
  {
   "cell_type": "code",
   "execution_count": 18,
   "metadata": {},
   "outputs": [],
   "source": [
    "import pandas as pd\n",
    "import numpy as np\n",
    "import seaborn as sns\n",
    "import matplotlib as mpl\n",
    "import matplotlib.pyplot as plt\n",
    "%matplotlib inline\n",
    "## 한글 폰트 사용\n",
    "# 폰트 설정\n",
    "mpl.rc('font', family='Malgun Gothic') #family에 사용할 폰트를 넣음\n",
    "# 유니코드에서  음수 부호설정\n",
    "mpl.rc('axes', unicode_minus=False)"
   ]
  },
  {
   "cell_type": "code",
   "execution_count": 2,
   "metadata": {},
   "outputs": [],
   "source": [
    "### 심화문제"
   ]
  },
  {
   "cell_type": "code",
   "execution_count": 6,
   "metadata": {},
   "outputs": [
    {
     "output_type": "execute_result",
     "data": {
      "text/plain": [
       "   sepal_length  sepal_width  petal_length  petal_width species\n",
       "0           5.1          3.5           1.4          0.2  setosa\n",
       "1           4.9          3.0           1.4          0.2  setosa\n",
       "2           4.7          3.2           1.3          0.2  setosa\n",
       "3           4.6          3.1           1.5          0.2  setosa\n",
       "4           5.0          3.6           1.4          0.2  setosa"
      ],
      "text/html": "<div>\n<style scoped>\n    .dataframe tbody tr th:only-of-type {\n        vertical-align: middle;\n    }\n\n    .dataframe tbody tr th {\n        vertical-align: top;\n    }\n\n    .dataframe thead th {\n        text-align: right;\n    }\n</style>\n<table border=\"1\" class=\"dataframe\">\n  <thead>\n    <tr style=\"text-align: right;\">\n      <th></th>\n      <th>sepal_length</th>\n      <th>sepal_width</th>\n      <th>petal_length</th>\n      <th>petal_width</th>\n      <th>species</th>\n    </tr>\n  </thead>\n  <tbody>\n    <tr>\n      <th>0</th>\n      <td>5.1</td>\n      <td>3.5</td>\n      <td>1.4</td>\n      <td>0.2</td>\n      <td>setosa</td>\n    </tr>\n    <tr>\n      <th>1</th>\n      <td>4.9</td>\n      <td>3.0</td>\n      <td>1.4</td>\n      <td>0.2</td>\n      <td>setosa</td>\n    </tr>\n    <tr>\n      <th>2</th>\n      <td>4.7</td>\n      <td>3.2</td>\n      <td>1.3</td>\n      <td>0.2</td>\n      <td>setosa</td>\n    </tr>\n    <tr>\n      <th>3</th>\n      <td>4.6</td>\n      <td>3.1</td>\n      <td>1.5</td>\n      <td>0.2</td>\n      <td>setosa</td>\n    </tr>\n    <tr>\n      <th>4</th>\n      <td>5.0</td>\n      <td>3.6</td>\n      <td>1.4</td>\n      <td>0.2</td>\n      <td>setosa</td>\n    </tr>\n  </tbody>\n</table>\n</div>"
     },
     "metadata": {},
     "execution_count": 6
    }
   ],
   "source": [
    "#1번\n",
    "import seaborn as sns\n",
    "iris = sns.load_dataset(\"iris\")\n",
    "iris.head()"
   ]
  },
  {
   "cell_type": "code",
   "execution_count": 4,
   "metadata": {},
   "outputs": [
    {
     "output_type": "execute_result",
     "data": {
      "text/plain": [
       "       sepal_length  sepal_width  petal_length  petal_width\n",
       "count    150.000000   150.000000    150.000000   150.000000\n",
       "mean       5.843333     3.057333      3.758000     1.199333\n",
       "std        0.828066     0.435866      1.765298     0.762238\n",
       "min        4.300000     2.000000      1.000000     0.100000\n",
       "25%        5.100000     2.800000      1.600000     0.300000\n",
       "50%        5.800000     3.000000      4.350000     1.300000\n",
       "75%        6.400000     3.300000      5.100000     1.800000\n",
       "max        7.900000     4.400000      6.900000     2.500000"
      ],
      "text/html": "<div>\n<style scoped>\n    .dataframe tbody tr th:only-of-type {\n        vertical-align: middle;\n    }\n\n    .dataframe tbody tr th {\n        vertical-align: top;\n    }\n\n    .dataframe thead th {\n        text-align: right;\n    }\n</style>\n<table border=\"1\" class=\"dataframe\">\n  <thead>\n    <tr style=\"text-align: right;\">\n      <th></th>\n      <th>sepal_length</th>\n      <th>sepal_width</th>\n      <th>petal_length</th>\n      <th>petal_width</th>\n    </tr>\n  </thead>\n  <tbody>\n    <tr>\n      <th>count</th>\n      <td>150.000000</td>\n      <td>150.000000</td>\n      <td>150.000000</td>\n      <td>150.000000</td>\n    </tr>\n    <tr>\n      <th>mean</th>\n      <td>5.843333</td>\n      <td>3.057333</td>\n      <td>3.758000</td>\n      <td>1.199333</td>\n    </tr>\n    <tr>\n      <th>std</th>\n      <td>0.828066</td>\n      <td>0.435866</td>\n      <td>1.765298</td>\n      <td>0.762238</td>\n    </tr>\n    <tr>\n      <th>min</th>\n      <td>4.300000</td>\n      <td>2.000000</td>\n      <td>1.000000</td>\n      <td>0.100000</td>\n    </tr>\n    <tr>\n      <th>25%</th>\n      <td>5.100000</td>\n      <td>2.800000</td>\n      <td>1.600000</td>\n      <td>0.300000</td>\n    </tr>\n    <tr>\n      <th>50%</th>\n      <td>5.800000</td>\n      <td>3.000000</td>\n      <td>4.350000</td>\n      <td>1.300000</td>\n    </tr>\n    <tr>\n      <th>75%</th>\n      <td>6.400000</td>\n      <td>3.300000</td>\n      <td>5.100000</td>\n      <td>1.800000</td>\n    </tr>\n    <tr>\n      <th>max</th>\n      <td>7.900000</td>\n      <td>4.400000</td>\n      <td>6.900000</td>\n      <td>2.500000</td>\n    </tr>\n  </tbody>\n</table>\n</div>"
     },
     "metadata": {},
     "execution_count": 4
    }
   ],
   "source": [
    "#1-a 붓꽃 종(species)별로 꽃잎길이(sepal_length), 꽃잎폭(sepal_width), 꽃받침길이(petal_length), 꽃받침폭(petal_width)의 평균, 표준편차 등 기초통계량(describe())을 구하시오\n",
    "iris.describe()"
   ]
  },
  {
   "cell_type": "code",
   "execution_count": 51,
   "metadata": {},
   "outputs": [
    {
     "output_type": "execute_result",
     "data": {
      "text/plain": [
       "           sepal_length           sepal_width           petal_length  \\\n",
       "                   mean       std        mean       std         mean   \n",
       "species                                                                \n",
       "setosa            5.006  0.352490       3.428  0.379064        1.462   \n",
       "versicolor        5.936  0.516171       2.770  0.313798        4.260   \n",
       "virginica         6.588  0.635880       2.974  0.322497        5.552   \n",
       "\n",
       "                     petal_width            \n",
       "                 std        mean       std  \n",
       "species                                     \n",
       "setosa      0.173664       0.246  0.105386  \n",
       "versicolor  0.469911       1.326  0.197753  \n",
       "virginica   0.551895       2.026  0.274650  "
      ],
      "text/html": "<div>\n<style scoped>\n    .dataframe tbody tr th:only-of-type {\n        vertical-align: middle;\n    }\n\n    .dataframe tbody tr th {\n        vertical-align: top;\n    }\n\n    .dataframe thead tr th {\n        text-align: left;\n    }\n\n    .dataframe thead tr:last-of-type th {\n        text-align: right;\n    }\n</style>\n<table border=\"1\" class=\"dataframe\">\n  <thead>\n    <tr>\n      <th></th>\n      <th colspan=\"2\" halign=\"left\">sepal_length</th>\n      <th colspan=\"2\" halign=\"left\">sepal_width</th>\n      <th colspan=\"2\" halign=\"left\">petal_length</th>\n      <th colspan=\"2\" halign=\"left\">petal_width</th>\n    </tr>\n    <tr>\n      <th></th>\n      <th>mean</th>\n      <th>std</th>\n      <th>mean</th>\n      <th>std</th>\n      <th>mean</th>\n      <th>std</th>\n      <th>mean</th>\n      <th>std</th>\n    </tr>\n    <tr>\n      <th>species</th>\n      <th></th>\n      <th></th>\n      <th></th>\n      <th></th>\n      <th></th>\n      <th></th>\n      <th></th>\n      <th></th>\n    </tr>\n  </thead>\n  <tbody>\n    <tr>\n      <th>setosa</th>\n      <td>5.006</td>\n      <td>0.352490</td>\n      <td>3.428</td>\n      <td>0.379064</td>\n      <td>1.462</td>\n      <td>0.173664</td>\n      <td>0.246</td>\n      <td>0.105386</td>\n    </tr>\n    <tr>\n      <th>versicolor</th>\n      <td>5.936</td>\n      <td>0.516171</td>\n      <td>2.770</td>\n      <td>0.313798</td>\n      <td>4.260</td>\n      <td>0.469911</td>\n      <td>1.326</td>\n      <td>0.197753</td>\n    </tr>\n    <tr>\n      <th>virginica</th>\n      <td>6.588</td>\n      <td>0.635880</td>\n      <td>2.974</td>\n      <td>0.322497</td>\n      <td>5.552</td>\n      <td>0.551895</td>\n      <td>2.026</td>\n      <td>0.274650</td>\n    </tr>\n  </tbody>\n</table>\n</div>"
     },
     "metadata": {},
     "execution_count": 51
    }
   ],
   "source": [
    "#1-a 교수님꺼\n",
    "iris.groupby(iris.species).agg(['mean','std'])"
   ]
  },
  {
   "cell_type": "code",
   "execution_count": 5,
   "metadata": {},
   "outputs": [
    {
     "output_type": "execute_result",
     "data": {
      "text/plain": [
       "            sepal_length  sepal_width  petal_length  petal_width\n",
       "species                                                         \n",
       "setosa             5.006        3.428         1.462        0.246\n",
       "versicolor         5.936        2.770         4.260        1.326\n",
       "virginica          6.588        2.974         5.552        2.026"
      ],
      "text/html": "<div>\n<style scoped>\n    .dataframe tbody tr th:only-of-type {\n        vertical-align: middle;\n    }\n\n    .dataframe tbody tr th {\n        vertical-align: top;\n    }\n\n    .dataframe thead th {\n        text-align: right;\n    }\n</style>\n<table border=\"1\" class=\"dataframe\">\n  <thead>\n    <tr style=\"text-align: right;\">\n      <th></th>\n      <th>sepal_length</th>\n      <th>sepal_width</th>\n      <th>petal_length</th>\n      <th>petal_width</th>\n    </tr>\n    <tr>\n      <th>species</th>\n      <th></th>\n      <th></th>\n      <th></th>\n      <th></th>\n    </tr>\n  </thead>\n  <tbody>\n    <tr>\n      <th>setosa</th>\n      <td>5.006</td>\n      <td>3.428</td>\n      <td>1.462</td>\n      <td>0.246</td>\n    </tr>\n    <tr>\n      <th>versicolor</th>\n      <td>5.936</td>\n      <td>2.770</td>\n      <td>4.260</td>\n      <td>1.326</td>\n    </tr>\n    <tr>\n      <th>virginica</th>\n      <td>6.588</td>\n      <td>2.974</td>\n      <td>5.552</td>\n      <td>2.026</td>\n    </tr>\n  </tbody>\n</table>\n</div>"
     },
     "metadata": {},
     "execution_count": 5
    }
   ],
   "source": [
    "# 평균\n",
    "iris.groupby('species')[['sepal_length','sepal_width','petal_length','petal_width']].mean()"
   ]
  },
  {
   "cell_type": "code",
   "execution_count": 6,
   "metadata": {},
   "outputs": [
    {
     "output_type": "execute_result",
     "data": {
      "text/plain": [
       "            sepal_length  sepal_width  petal_length  petal_width\n",
       "species                                                         \n",
       "setosa          0.352490     0.379064      0.173664     0.105386\n",
       "versicolor      0.516171     0.313798      0.469911     0.197753\n",
       "virginica       0.635880     0.322497      0.551895     0.274650"
      ],
      "text/html": "<div>\n<style scoped>\n    .dataframe tbody tr th:only-of-type {\n        vertical-align: middle;\n    }\n\n    .dataframe tbody tr th {\n        vertical-align: top;\n    }\n\n    .dataframe thead th {\n        text-align: right;\n    }\n</style>\n<table border=\"1\" class=\"dataframe\">\n  <thead>\n    <tr style=\"text-align: right;\">\n      <th></th>\n      <th>sepal_length</th>\n      <th>sepal_width</th>\n      <th>petal_length</th>\n      <th>petal_width</th>\n    </tr>\n    <tr>\n      <th>species</th>\n      <th></th>\n      <th></th>\n      <th></th>\n      <th></th>\n    </tr>\n  </thead>\n  <tbody>\n    <tr>\n      <th>setosa</th>\n      <td>0.352490</td>\n      <td>0.379064</td>\n      <td>0.173664</td>\n      <td>0.105386</td>\n    </tr>\n    <tr>\n      <th>versicolor</th>\n      <td>0.516171</td>\n      <td>0.313798</td>\n      <td>0.469911</td>\n      <td>0.197753</td>\n    </tr>\n    <tr>\n      <th>virginica</th>\n      <td>0.635880</td>\n      <td>0.322497</td>\n      <td>0.551895</td>\n      <td>0.274650</td>\n    </tr>\n  </tbody>\n</table>\n</div>"
     },
     "metadata": {},
     "execution_count": 6
    }
   ],
   "source": [
    "# 표준편차\n",
    "iris.groupby('species')[['sepal_length','sepal_width','petal_length','petal_width']].std()"
   ]
  },
  {
   "cell_type": "code",
   "execution_count": 98,
   "metadata": {},
   "outputs": [],
   "source": [
    "#1-b. 3분위수(Q3)와 1분위수(Q1)의 차이보다 1.5\n",
    "def outliers_iqr(data):\n",
    "    q1, q3 = np.percentile(data, [27,75])\n",
    "    iqr = q3-q1\n",
    "    lower_bound = q1 - (iqr*1.5)\n",
    "    upper_bound = q3 + (iqr*1.5)\n",
    "    return np.where((data > upper_bound) | (data<lower_bound))"
   ]
  },
  {
   "cell_type": "code",
   "execution_count": 67,
   "metadata": {},
   "outputs": [],
   "source": [
    "#1-B 교수님꺼 정답\n",
    "def get_new_stat(x): #시리즈로 받음  각각 50개짜리 \n",
    "    q1 = x.quantile(.25) #새로운 스텟을 줌 (.25)는 1분위 25%\n",
    "    q3 = x.quantile(.75)\n",
    "    iqr = q3-q1\n",
    "    lower = q1 - 1.5 * iqr\n",
    "    higher = q3 + 1.5 *iqr\n",
    "    x[(x > higher) | (x < lower)] = np.nan\n",
    "    outliers = x.value_counts().sum() != 50 \n",
    "    # value_counts()를 더한값(sum)이 50이 아니라면 true, 맞다면 fales 트루\n",
    "    return outlier, x.mean(), x.std()"
   ]
  },
  {
   "cell_type": "code",
   "execution_count": 107,
   "metadata": {},
   "outputs": [
    {
     "output_type": "execute_result",
     "data": {
      "text/plain": [
       "pandas.core.series.Series"
      ]
     },
     "metadata": {},
     "execution_count": 107
    }
   ],
   "source": [
    "s_sl = iris[iris.species == 'setosa']['sepal_length']\n",
    "type(s_sl) #시리즈인지 아닌지 확인"
   ]
  },
  {
   "cell_type": "code",
   "execution_count": 108,
   "metadata": {},
   "outputs": [],
   "source": [
    "def get_outlier(x):\n",
    "    q1 = x.quantile(0.25) #quantile: 백분위수\n",
    "    q3 = x.quantile(0.75)\n",
    "    iqr = q3 - q1\n",
    "    lower  = q1 - 1.5 * iqr\n",
    "    upper = q3 + 1.5 * iqr\n",
    "    x[(x < lower) | (x > upper)] = np.nan\n",
    "    # outlier = x.value_counts().sum() != 50 \n",
    "    outlier = x.isnull().sum() != 0  # 위에 있는 것보다 이게 더 좋다\n",
    "    # value_counts()를 더한값(sum)이 50이 아니라면 true, 맞다면 fales\n",
    "    return outlier, x.mean(), x.std()"
   ]
  },
  {
   "cell_type": "code",
   "execution_count": 104,
   "metadata": {},
   "outputs": [],
   "source": [
    "species = []\n",
    "columns = []\n",
    "outlier_list = []\n",
    "mean_list = []\n",
    "std_list = []\n",
    "for spec in ['setosa', 'versicolor', 'virginica']:\n",
    "    for sci in ['sepal_length', 'sepal_width', 'petal_length', 'petal_width']:\n",
    "        s = iris[iris.species == spec][sci]\n",
    "        outlier, new_mean, new_std = get_outlier(s)\n",
    "\n",
    "        species.append(spec)\n",
    "        columns.append(sci)\n",
    "        outlier_list.append(outlier)\n",
    "        mean_list.append(new_mean)\n",
    "        std_list.append(new_std)"
   ]
  },
  {
   "cell_type": "code",
   "execution_count": 106,
   "metadata": {},
   "outputs": [
    {
     "output_type": "execute_result",
     "data": {
      "text/plain": [
       "                         outlier  new_mean   new_std\n",
       "species    versicolor                               \n",
       "setosa     sepal_length    False  5.006000  0.352490\n",
       "           sepal_width      True  3.431250  0.320343\n",
       "           petal_length     True  1.460870  0.129062\n",
       "           petal_width      True  0.233333  0.085883\n",
       "versicolor sepal_length    False  5.936000  0.516171\n",
       "           sepal_width     False  2.770000  0.313798\n",
       "           petal_length     True  4.285714  0.437798\n",
       "           petal_width     False  1.326000  0.197753\n",
       "virginica  sepal_length     True  6.622449  0.593459\n",
       "           sepal_width      True  2.955319  0.260275\n",
       "           petal_length    False  5.552000  0.551895\n",
       "           petal_width     False  2.026000  0.274650"
      ],
      "text/html": "<div>\n<style scoped>\n    .dataframe tbody tr th:only-of-type {\n        vertical-align: middle;\n    }\n\n    .dataframe tbody tr th {\n        vertical-align: top;\n    }\n\n    .dataframe thead th {\n        text-align: right;\n    }\n</style>\n<table border=\"1\" class=\"dataframe\">\n  <thead>\n    <tr style=\"text-align: right;\">\n      <th></th>\n      <th></th>\n      <th>outlier</th>\n      <th>new_mean</th>\n      <th>new_std</th>\n    </tr>\n    <tr>\n      <th>species</th>\n      <th>versicolor</th>\n      <th></th>\n      <th></th>\n      <th></th>\n    </tr>\n  </thead>\n  <tbody>\n    <tr>\n      <th rowspan=\"4\" valign=\"top\">setosa</th>\n      <th>sepal_length</th>\n      <td>False</td>\n      <td>5.006000</td>\n      <td>0.352490</td>\n    </tr>\n    <tr>\n      <th>sepal_width</th>\n      <td>True</td>\n      <td>3.431250</td>\n      <td>0.320343</td>\n    </tr>\n    <tr>\n      <th>petal_length</th>\n      <td>True</td>\n      <td>1.460870</td>\n      <td>0.129062</td>\n    </tr>\n    <tr>\n      <th>petal_width</th>\n      <td>True</td>\n      <td>0.233333</td>\n      <td>0.085883</td>\n    </tr>\n    <tr>\n      <th rowspan=\"4\" valign=\"top\">versicolor</th>\n      <th>sepal_length</th>\n      <td>False</td>\n      <td>5.936000</td>\n      <td>0.516171</td>\n    </tr>\n    <tr>\n      <th>sepal_width</th>\n      <td>False</td>\n      <td>2.770000</td>\n      <td>0.313798</td>\n    </tr>\n    <tr>\n      <th>petal_length</th>\n      <td>True</td>\n      <td>4.285714</td>\n      <td>0.437798</td>\n    </tr>\n    <tr>\n      <th>petal_width</th>\n      <td>False</td>\n      <td>1.326000</td>\n      <td>0.197753</td>\n    </tr>\n    <tr>\n      <th rowspan=\"4\" valign=\"top\">virginica</th>\n      <th>sepal_length</th>\n      <td>True</td>\n      <td>6.622449</td>\n      <td>0.593459</td>\n    </tr>\n    <tr>\n      <th>sepal_width</th>\n      <td>True</td>\n      <td>2.955319</td>\n      <td>0.260275</td>\n    </tr>\n    <tr>\n      <th>petal_length</th>\n      <td>False</td>\n      <td>5.552000</td>\n      <td>0.551895</td>\n    </tr>\n    <tr>\n      <th>petal_width</th>\n      <td>False</td>\n      <td>2.026000</td>\n      <td>0.274650</td>\n    </tr>\n  </tbody>\n</table>\n</div>"
     },
     "metadata": {},
     "execution_count": 106
    }
   ],
   "source": [
    "tmp_iris = pd.DataFrame({\n",
    "    'species': species,\n",
    "    'versicolor': columns,\n",
    "    'outlier': outlier_list,\n",
    "    'new_mean': mean_list,\n",
    "    'new_std': std_list\n",
    "})\n",
    "new_iris = tmp_iris.set_index(['species', 'versicolor'])\n",
    "new_iris"
   ]
  },
  {
   "cell_type": "code",
   "execution_count": 108,
   "metadata": {},
   "outputs": [],
   "source": [
    "old_mean_list = []; old_std_list = []\n",
    "for spec in ['setosa', 'versicolor', 'virginica']:\n",
    "    for wl in ['sepal_length','sepal_width','petal_length','petal_width']:\n",
    "        s = iris[iris.species == spec][wl]\n",
    "        #print(f'{spec} {wl}: {s.mean().round(3)}, {s.std().round(3)}')\n",
    "        old_mean_list.append(s.mean())\n",
    "        old_std_list.append(s.std())"
   ]
  },
  {
   "cell_type": "code",
   "execution_count": 109,
   "metadata": {},
   "outputs": [
    {
     "output_type": "execute_result",
     "data": {
      "text/plain": [
       "                         outlier  new_mean   new_std  old_mean   old_std\n",
       "species    versicolor                                                   \n",
       "setosa     sepal_length    False  5.006000  0.352490     5.006  0.352490\n",
       "           sepal_width      True  3.431250  0.320343     3.428  0.379064\n",
       "           petal_length     True  1.460870  0.129062     1.462  0.173664\n",
       "           petal_width      True  0.233333  0.085883     0.246  0.105386\n",
       "versicolor sepal_length    False  5.936000  0.516171     5.936  0.516171\n",
       "           sepal_width     False  2.770000  0.313798     2.770  0.313798\n",
       "           petal_length     True  4.285714  0.437798     4.260  0.469911\n",
       "           petal_width     False  1.326000  0.197753     1.326  0.197753\n",
       "virginica  sepal_length     True  6.622449  0.593459     6.588  0.635880\n",
       "           sepal_width      True  2.955319  0.260275     2.974  0.322497\n",
       "           petal_length    False  5.552000  0.551895     5.552  0.551895\n",
       "           petal_width     False  2.026000  0.274650     2.026  0.274650"
      ],
      "text/html": "<div>\n<style scoped>\n    .dataframe tbody tr th:only-of-type {\n        vertical-align: middle;\n    }\n\n    .dataframe tbody tr th {\n        vertical-align: top;\n    }\n\n    .dataframe thead th {\n        text-align: right;\n    }\n</style>\n<table border=\"1\" class=\"dataframe\">\n  <thead>\n    <tr style=\"text-align: right;\">\n      <th></th>\n      <th></th>\n      <th>outlier</th>\n      <th>new_mean</th>\n      <th>new_std</th>\n      <th>old_mean</th>\n      <th>old_std</th>\n    </tr>\n    <tr>\n      <th>species</th>\n      <th>versicolor</th>\n      <th></th>\n      <th></th>\n      <th></th>\n      <th></th>\n      <th></th>\n    </tr>\n  </thead>\n  <tbody>\n    <tr>\n      <th rowspan=\"4\" valign=\"top\">setosa</th>\n      <th>sepal_length</th>\n      <td>False</td>\n      <td>5.006000</td>\n      <td>0.352490</td>\n      <td>5.006</td>\n      <td>0.352490</td>\n    </tr>\n    <tr>\n      <th>sepal_width</th>\n      <td>True</td>\n      <td>3.431250</td>\n      <td>0.320343</td>\n      <td>3.428</td>\n      <td>0.379064</td>\n    </tr>\n    <tr>\n      <th>petal_length</th>\n      <td>True</td>\n      <td>1.460870</td>\n      <td>0.129062</td>\n      <td>1.462</td>\n      <td>0.173664</td>\n    </tr>\n    <tr>\n      <th>petal_width</th>\n      <td>True</td>\n      <td>0.233333</td>\n      <td>0.085883</td>\n      <td>0.246</td>\n      <td>0.105386</td>\n    </tr>\n    <tr>\n      <th rowspan=\"4\" valign=\"top\">versicolor</th>\n      <th>sepal_length</th>\n      <td>False</td>\n      <td>5.936000</td>\n      <td>0.516171</td>\n      <td>5.936</td>\n      <td>0.516171</td>\n    </tr>\n    <tr>\n      <th>sepal_width</th>\n      <td>False</td>\n      <td>2.770000</td>\n      <td>0.313798</td>\n      <td>2.770</td>\n      <td>0.313798</td>\n    </tr>\n    <tr>\n      <th>petal_length</th>\n      <td>True</td>\n      <td>4.285714</td>\n      <td>0.437798</td>\n      <td>4.260</td>\n      <td>0.469911</td>\n    </tr>\n    <tr>\n      <th>petal_width</th>\n      <td>False</td>\n      <td>1.326000</td>\n      <td>0.197753</td>\n      <td>1.326</td>\n      <td>0.197753</td>\n    </tr>\n    <tr>\n      <th rowspan=\"4\" valign=\"top\">virginica</th>\n      <th>sepal_length</th>\n      <td>True</td>\n      <td>6.622449</td>\n      <td>0.593459</td>\n      <td>6.588</td>\n      <td>0.635880</td>\n    </tr>\n    <tr>\n      <th>sepal_width</th>\n      <td>True</td>\n      <td>2.955319</td>\n      <td>0.260275</td>\n      <td>2.974</td>\n      <td>0.322497</td>\n    </tr>\n    <tr>\n      <th>petal_length</th>\n      <td>False</td>\n      <td>5.552000</td>\n      <td>0.551895</td>\n      <td>5.552</td>\n      <td>0.551895</td>\n    </tr>\n    <tr>\n      <th>petal_width</th>\n      <td>False</td>\n      <td>2.026000</td>\n      <td>0.274650</td>\n      <td>2.026</td>\n      <td>0.274650</td>\n    </tr>\n  </tbody>\n</table>\n</div>"
     },
     "metadata": {},
     "execution_count": 109
    }
   ],
   "source": [
    "new_iris['old_mean'] = old_mean_list\n",
    "new_iris['old_std'] = old_std_list\n",
    "new_iris"
   ]
  },
  {
   "cell_type": "code",
   "execution_count": 2,
   "metadata": {},
   "outputs": [
    {
     "output_type": "execute_result",
     "data": {
      "text/plain": [
       "   survived  pclass     sex   age  sibsp  parch     fare embarked  class  \\\n",
       "0         0       3    male  22.0      1      0   7.2500        S  Third   \n",
       "1         1       1  female  38.0      1      0  71.2833        C  First   \n",
       "2         1       3  female  26.0      0      0   7.9250        S  Third   \n",
       "3         1       1  female  35.0      1      0  53.1000        S  First   \n",
       "4         0       3    male  35.0      0      0   8.0500        S  Third   \n",
       "\n",
       "     who  adult_male deck  embark_town alive  alone  \n",
       "0    man        True  NaN  Southampton    no  False  \n",
       "1  woman       False    C    Cherbourg   yes  False  \n",
       "2  woman       False  NaN  Southampton   yes   True  \n",
       "3  woman       False    C  Southampton   yes  False  \n",
       "4    man        True  NaN  Southampton    no   True  "
      ],
      "text/html": "<div>\n<style scoped>\n    .dataframe tbody tr th:only-of-type {\n        vertical-align: middle;\n    }\n\n    .dataframe tbody tr th {\n        vertical-align: top;\n    }\n\n    .dataframe thead th {\n        text-align: right;\n    }\n</style>\n<table border=\"1\" class=\"dataframe\">\n  <thead>\n    <tr style=\"text-align: right;\">\n      <th></th>\n      <th>survived</th>\n      <th>pclass</th>\n      <th>sex</th>\n      <th>age</th>\n      <th>sibsp</th>\n      <th>parch</th>\n      <th>fare</th>\n      <th>embarked</th>\n      <th>class</th>\n      <th>who</th>\n      <th>adult_male</th>\n      <th>deck</th>\n      <th>embark_town</th>\n      <th>alive</th>\n      <th>alone</th>\n    </tr>\n  </thead>\n  <tbody>\n    <tr>\n      <th>0</th>\n      <td>0</td>\n      <td>3</td>\n      <td>male</td>\n      <td>22.0</td>\n      <td>1</td>\n      <td>0</td>\n      <td>7.2500</td>\n      <td>S</td>\n      <td>Third</td>\n      <td>man</td>\n      <td>True</td>\n      <td>NaN</td>\n      <td>Southampton</td>\n      <td>no</td>\n      <td>False</td>\n    </tr>\n    <tr>\n      <th>1</th>\n      <td>1</td>\n      <td>1</td>\n      <td>female</td>\n      <td>38.0</td>\n      <td>1</td>\n      <td>0</td>\n      <td>71.2833</td>\n      <td>C</td>\n      <td>First</td>\n      <td>woman</td>\n      <td>False</td>\n      <td>C</td>\n      <td>Cherbourg</td>\n      <td>yes</td>\n      <td>False</td>\n    </tr>\n    <tr>\n      <th>2</th>\n      <td>1</td>\n      <td>3</td>\n      <td>female</td>\n      <td>26.0</td>\n      <td>0</td>\n      <td>0</td>\n      <td>7.9250</td>\n      <td>S</td>\n      <td>Third</td>\n      <td>woman</td>\n      <td>False</td>\n      <td>NaN</td>\n      <td>Southampton</td>\n      <td>yes</td>\n      <td>True</td>\n    </tr>\n    <tr>\n      <th>3</th>\n      <td>1</td>\n      <td>1</td>\n      <td>female</td>\n      <td>35.0</td>\n      <td>1</td>\n      <td>0</td>\n      <td>53.1000</td>\n      <td>S</td>\n      <td>First</td>\n      <td>woman</td>\n      <td>False</td>\n      <td>C</td>\n      <td>Southampton</td>\n      <td>yes</td>\n      <td>False</td>\n    </tr>\n    <tr>\n      <th>4</th>\n      <td>0</td>\n      <td>3</td>\n      <td>male</td>\n      <td>35.0</td>\n      <td>0</td>\n      <td>0</td>\n      <td>8.0500</td>\n      <td>S</td>\n      <td>Third</td>\n      <td>man</td>\n      <td>True</td>\n      <td>NaN</td>\n      <td>Southampton</td>\n      <td>no</td>\n      <td>True</td>\n    </tr>\n  </tbody>\n</table>\n</div>"
     },
     "metadata": {},
     "execution_count": 2
    }
   ],
   "source": [
    "#2번\n",
    "import seaborn as sns\n",
    "titanic = sns.load_dataset(\"titanic\")\n",
    "titanic.head()"
   ]
  },
  {
   "cell_type": "code",
   "execution_count": 8,
   "metadata": {},
   "outputs": [
    {
     "output_type": "execute_result",
     "data": {
      "text/plain": [
       "     survived  pclass     sex   age  sibsp  parch   fare embarked   class  \\\n",
       "886         0       2    male  27.0      0      0  13.00        S  Second   \n",
       "887         1       1  female  19.0      0      0  30.00        S   First   \n",
       "888         0       3  female   NaN      1      2  23.45        S   Third   \n",
       "889         1       1    male  26.0      0      0  30.00        C   First   \n",
       "890         0       3    male  32.0      0      0   7.75        Q   Third   \n",
       "\n",
       "       who  adult_male deck  embark_town alive  alone category1  \n",
       "886    man        True  NaN  Southampton    no   True      male  \n",
       "887  woman       False    B  Southampton   yes   True     child  \n",
       "888  woman       False  NaN  Southampton    no  False     child  \n",
       "889    man        True    C    Cherbourg   yes   True      male  \n",
       "890    man        True  NaN   Queenstown    no   True      male  "
      ],
      "text/html": "<div>\n<style scoped>\n    .dataframe tbody tr th:only-of-type {\n        vertical-align: middle;\n    }\n\n    .dataframe tbody tr th {\n        vertical-align: top;\n    }\n\n    .dataframe thead th {\n        text-align: right;\n    }\n</style>\n<table border=\"1\" class=\"dataframe\">\n  <thead>\n    <tr style=\"text-align: right;\">\n      <th></th>\n      <th>survived</th>\n      <th>pclass</th>\n      <th>sex</th>\n      <th>age</th>\n      <th>sibsp</th>\n      <th>parch</th>\n      <th>fare</th>\n      <th>embarked</th>\n      <th>class</th>\n      <th>who</th>\n      <th>adult_male</th>\n      <th>deck</th>\n      <th>embark_town</th>\n      <th>alive</th>\n      <th>alone</th>\n      <th>category1</th>\n    </tr>\n  </thead>\n  <tbody>\n    <tr>\n      <th>886</th>\n      <td>0</td>\n      <td>2</td>\n      <td>male</td>\n      <td>27.0</td>\n      <td>0</td>\n      <td>0</td>\n      <td>13.00</td>\n      <td>S</td>\n      <td>Second</td>\n      <td>man</td>\n      <td>True</td>\n      <td>NaN</td>\n      <td>Southampton</td>\n      <td>no</td>\n      <td>True</td>\n      <td>male</td>\n    </tr>\n    <tr>\n      <th>887</th>\n      <td>1</td>\n      <td>1</td>\n      <td>female</td>\n      <td>19.0</td>\n      <td>0</td>\n      <td>0</td>\n      <td>30.00</td>\n      <td>S</td>\n      <td>First</td>\n      <td>woman</td>\n      <td>False</td>\n      <td>B</td>\n      <td>Southampton</td>\n      <td>yes</td>\n      <td>True</td>\n      <td>child</td>\n    </tr>\n    <tr>\n      <th>888</th>\n      <td>0</td>\n      <td>3</td>\n      <td>female</td>\n      <td>NaN</td>\n      <td>1</td>\n      <td>2</td>\n      <td>23.45</td>\n      <td>S</td>\n      <td>Third</td>\n      <td>woman</td>\n      <td>False</td>\n      <td>NaN</td>\n      <td>Southampton</td>\n      <td>no</td>\n      <td>False</td>\n      <td>child</td>\n    </tr>\n    <tr>\n      <th>889</th>\n      <td>1</td>\n      <td>1</td>\n      <td>male</td>\n      <td>26.0</td>\n      <td>0</td>\n      <td>0</td>\n      <td>30.00</td>\n      <td>C</td>\n      <td>First</td>\n      <td>man</td>\n      <td>True</td>\n      <td>C</td>\n      <td>Cherbourg</td>\n      <td>yes</td>\n      <td>True</td>\n      <td>male</td>\n    </tr>\n    <tr>\n      <th>890</th>\n      <td>0</td>\n      <td>3</td>\n      <td>male</td>\n      <td>32.0</td>\n      <td>0</td>\n      <td>0</td>\n      <td>7.75</td>\n      <td>Q</td>\n      <td>Third</td>\n      <td>man</td>\n      <td>True</td>\n      <td>NaN</td>\n      <td>Queenstown</td>\n      <td>no</td>\n      <td>True</td>\n      <td>male</td>\n    </tr>\n  </tbody>\n</table>\n</div>"
     },
     "metadata": {},
     "execution_count": 8
    }
   ],
   "source": [
    "#2-a\n",
    "titanic['category1'] = titanic.apply(lambda r: r.sex if r.age >=20 else 'child', axis=1)\n",
    "titanic.tail()"
   ]
  },
  {
   "cell_type": "code",
   "execution_count": 3,
   "metadata": {},
   "outputs": [
    {
     "output_type": "execute_result",
     "data": {
      "text/plain": [
       "     survived  pclass     sex        age  sibsp  parch   fare embarked  \\\n",
       "886         0       2    male  27.000000      0      0  13.00        S   \n",
       "887         1       1  female  19.000000      0      0  30.00        S   \n",
       "888         0       3  female  29.699118      1      2  23.45        S   \n",
       "889         1       1    male  26.000000      0      0  30.00        C   \n",
       "890         0       3    male  32.000000      0      0   7.75        Q   \n",
       "\n",
       "      class    who  adult_male deck  embark_town alive  alone  \n",
       "886  Second    man        True  NaN  Southampton    no   True  \n",
       "887   First  woman       False    B  Southampton   yes   True  \n",
       "888   Third  woman       False  NaN  Southampton    no  False  \n",
       "889   First    man        True    C    Cherbourg   yes   True  \n",
       "890   Third    man        True  NaN   Queenstown    no   True  "
      ],
      "text/html": "<div>\n<style scoped>\n    .dataframe tbody tr th:only-of-type {\n        vertical-align: middle;\n    }\n\n    .dataframe tbody tr th {\n        vertical-align: top;\n    }\n\n    .dataframe thead th {\n        text-align: right;\n    }\n</style>\n<table border=\"1\" class=\"dataframe\">\n  <thead>\n    <tr style=\"text-align: right;\">\n      <th></th>\n      <th>survived</th>\n      <th>pclass</th>\n      <th>sex</th>\n      <th>age</th>\n      <th>sibsp</th>\n      <th>parch</th>\n      <th>fare</th>\n      <th>embarked</th>\n      <th>class</th>\n      <th>who</th>\n      <th>adult_male</th>\n      <th>deck</th>\n      <th>embark_town</th>\n      <th>alive</th>\n      <th>alone</th>\n    </tr>\n  </thead>\n  <tbody>\n    <tr>\n      <th>886</th>\n      <td>0</td>\n      <td>2</td>\n      <td>male</td>\n      <td>27.000000</td>\n      <td>0</td>\n      <td>0</td>\n      <td>13.00</td>\n      <td>S</td>\n      <td>Second</td>\n      <td>man</td>\n      <td>True</td>\n      <td>NaN</td>\n      <td>Southampton</td>\n      <td>no</td>\n      <td>True</td>\n    </tr>\n    <tr>\n      <th>887</th>\n      <td>1</td>\n      <td>1</td>\n      <td>female</td>\n      <td>19.000000</td>\n      <td>0</td>\n      <td>0</td>\n      <td>30.00</td>\n      <td>S</td>\n      <td>First</td>\n      <td>woman</td>\n      <td>False</td>\n      <td>B</td>\n      <td>Southampton</td>\n      <td>yes</td>\n      <td>True</td>\n    </tr>\n    <tr>\n      <th>888</th>\n      <td>0</td>\n      <td>3</td>\n      <td>female</td>\n      <td>29.699118</td>\n      <td>1</td>\n      <td>2</td>\n      <td>23.45</td>\n      <td>S</td>\n      <td>Third</td>\n      <td>woman</td>\n      <td>False</td>\n      <td>NaN</td>\n      <td>Southampton</td>\n      <td>no</td>\n      <td>False</td>\n    </tr>\n    <tr>\n      <th>889</th>\n      <td>1</td>\n      <td>1</td>\n      <td>male</td>\n      <td>26.000000</td>\n      <td>0</td>\n      <td>0</td>\n      <td>30.00</td>\n      <td>C</td>\n      <td>First</td>\n      <td>man</td>\n      <td>True</td>\n      <td>C</td>\n      <td>Cherbourg</td>\n      <td>yes</td>\n      <td>True</td>\n    </tr>\n    <tr>\n      <th>890</th>\n      <td>0</td>\n      <td>3</td>\n      <td>male</td>\n      <td>32.000000</td>\n      <td>0</td>\n      <td>0</td>\n      <td>7.75</td>\n      <td>Q</td>\n      <td>Third</td>\n      <td>man</td>\n      <td>True</td>\n      <td>NaN</td>\n      <td>Queenstown</td>\n      <td>no</td>\n      <td>True</td>\n    </tr>\n  </tbody>\n</table>\n</div>"
     },
     "metadata": {},
     "execution_count": 3
    }
   ],
   "source": [
    "#2-b 타이타닉호의 승객 중 나이를 명시하지 않은 고객은 나이를 명시한 고객의 평균 나이 값이 되도록 titanic 데이터프레임을 고치시오\n",
    "titanic['age'] = titanic['age'].fillna(titanic['age'].mean())\n",
    "titanic.tail()"
   ]
  },
  {
   "cell_type": "code",
   "execution_count": 54,
   "metadata": {},
   "outputs": [
    {
     "output_type": "execute_result",
     "data": {
      "text/plain": [
       "        survived\n",
       "sex             \n",
       "female  0.742038\n",
       "male    0.188908"
      ],
      "text/html": "<div>\n<style scoped>\n    .dataframe tbody tr th:only-of-type {\n        vertical-align: middle;\n    }\n\n    .dataframe tbody tr th {\n        vertical-align: top;\n    }\n\n    .dataframe thead th {\n        text-align: right;\n    }\n</style>\n<table border=\"1\" class=\"dataframe\">\n  <thead>\n    <tr style=\"text-align: right;\">\n      <th></th>\n      <th>survived</th>\n    </tr>\n    <tr>\n      <th>sex</th>\n      <th></th>\n    </tr>\n  </thead>\n  <tbody>\n    <tr>\n      <th>female</th>\n      <td>0.742038</td>\n    </tr>\n    <tr>\n      <th>male</th>\n      <td>0.188908</td>\n    </tr>\n  </tbody>\n</table>\n</div>"
     },
     "metadata": {},
     "execution_count": 54
    }
   ],
   "source": [
    "# 2-c 강사님\n",
    "# 'alive :범주형 -> survived: 정수형\n",
    "titanic.pivot_table('survived','sex')"
   ]
  },
  {
   "cell_type": "code",
   "execution_count": 3,
   "metadata": {},
   "outputs": [
    {
     "output_type": "execute_result",
     "data": {
      "text/plain": [
       "<pandas.io.formats.style.Styler at 0x1fd7bb67ca0>"
      ],
      "text/html": "<style  type=\"text/css\" >\n    #T_87b19bce_24be_11eb_abc1_24f5aae51597row0_col0 {\n            background-color:  #008066;\n            color:  #f1f1f1;\n        }    #T_87b19bce_24be_11eb_abc1_24f5aae51597row1_col0 {\n            background-color:  #ffff66;\n            color:  #000000;\n        }</style><table id=\"T_87b19bce_24be_11eb_abc1_24f5aae51597\" ><thead>    <tr>        <th class=\"blank level0\" ></th>        <th class=\"col_heading level0 col0\" >survived</th>    </tr>    <tr>        <th class=\"index_name level0\" >sex</th>        <th class=\"blank\" ></th>    </tr></thead><tbody>\n                <tr>\n                        <th id=\"T_87b19bce_24be_11eb_abc1_24f5aae51597level0_row0\" class=\"row_heading level0 row0\" >female</th>\n                        <td id=\"T_87b19bce_24be_11eb_abc1_24f5aae51597row0_col0\" class=\"data row0 col0\" >0.742038</td>\n            </tr>\n            <tr>\n                        <th id=\"T_87b19bce_24be_11eb_abc1_24f5aae51597level0_row1\" class=\"row_heading level0 row1\" >male</th>\n                        <td id=\"T_87b19bce_24be_11eb_abc1_24f5aae51597row1_col0\" class=\"data row1 col0\" >0.188908</td>\n            </tr>\n    </tbody></table>"
     },
     "metadata": {},
     "execution_count": 3
    }
   ],
   "source": [
    "# 2-c 강사님\n",
    "titanic[['sex','survived']].groupby(['sex']).mean().style.background_gradient(cmap='summer_r')"
   ]
  },
  {
   "cell_type": "code",
   "execution_count": 78,
   "metadata": {},
   "outputs": [
    {
     "output_type": "execute_result",
     "data": {
      "text/plain": [
       "        survived\n",
       "sex             \n",
       "female  0.742038\n",
       "male    0.188908"
      ],
      "text/html": "<div>\n<style scoped>\n    .dataframe tbody tr th:only-of-type {\n        vertical-align: middle;\n    }\n\n    .dataframe tbody tr th {\n        vertical-align: top;\n    }\n\n    .dataframe thead th {\n        text-align: right;\n    }\n</style>\n<table border=\"1\" class=\"dataframe\">\n  <thead>\n    <tr style=\"text-align: right;\">\n      <th></th>\n      <th>survived</th>\n    </tr>\n    <tr>\n      <th>sex</th>\n      <th></th>\n    </tr>\n  </thead>\n  <tbody>\n    <tr>\n      <th>female</th>\n      <td>0.742038</td>\n    </tr>\n    <tr>\n      <th>male</th>\n      <td>0.188908</td>\n    </tr>\n  </tbody>\n</table>\n</div>"
     },
     "metadata": {},
     "execution_count": 78
    }
   ],
   "source": [
    "# 2-c 성별, 선실(class)별, 출발지(embark_town)별 생존율을 구하시오\n",
    "titanic.groupby(['sex'])[['survived']].mean()"
   ]
  },
  {
   "cell_type": "code",
   "execution_count": 4,
   "metadata": {},
   "outputs": [
    {
     "output_type": "execute_result",
     "data": {
      "text/plain": [
       "        survived\n",
       "class           \n",
       "First   0.629630\n",
       "Second  0.472826\n",
       "Third   0.242363"
      ],
      "text/html": "<div>\n<style scoped>\n    .dataframe tbody tr th:only-of-type {\n        vertical-align: middle;\n    }\n\n    .dataframe tbody tr th {\n        vertical-align: top;\n    }\n\n    .dataframe thead th {\n        text-align: right;\n    }\n</style>\n<table border=\"1\" class=\"dataframe\">\n  <thead>\n    <tr style=\"text-align: right;\">\n      <th></th>\n      <th>survived</th>\n    </tr>\n    <tr>\n      <th>class</th>\n      <th></th>\n    </tr>\n  </thead>\n  <tbody>\n    <tr>\n      <th>First</th>\n      <td>0.629630</td>\n    </tr>\n    <tr>\n      <th>Second</th>\n      <td>0.472826</td>\n    </tr>\n    <tr>\n      <th>Third</th>\n      <td>0.242363</td>\n    </tr>\n  </tbody>\n</table>\n</div>"
     },
     "metadata": {},
     "execution_count": 4
    }
   ],
   "source": [
    "# 2-c 강사님/ 선실(class)별 생존율\n",
    "titanic.pivot_table('survived', 'class')"
   ]
  },
  {
   "cell_type": "code",
   "execution_count": 79,
   "metadata": {},
   "outputs": [
    {
     "output_type": "execute_result",
     "data": {
      "text/plain": [
       "        survived\n",
       "class           \n",
       "First   0.629630\n",
       "Second  0.472826\n",
       "Third   0.242363"
      ],
      "text/html": "<div>\n<style scoped>\n    .dataframe tbody tr th:only-of-type {\n        vertical-align: middle;\n    }\n\n    .dataframe tbody tr th {\n        vertical-align: top;\n    }\n\n    .dataframe thead th {\n        text-align: right;\n    }\n</style>\n<table border=\"1\" class=\"dataframe\">\n  <thead>\n    <tr style=\"text-align: right;\">\n      <th></th>\n      <th>survived</th>\n    </tr>\n    <tr>\n      <th>class</th>\n      <th></th>\n    </tr>\n  </thead>\n  <tbody>\n    <tr>\n      <th>First</th>\n      <td>0.629630</td>\n    </tr>\n    <tr>\n      <th>Second</th>\n      <td>0.472826</td>\n    </tr>\n    <tr>\n      <th>Third</th>\n      <td>0.242363</td>\n    </tr>\n  </tbody>\n</table>\n</div>"
     },
     "metadata": {},
     "execution_count": 79
    }
   ],
   "source": [
    "# 선실(class)별 생존율\n",
    "titanic.groupby(['class'])[['survived']].mean()"
   ]
  },
  {
   "cell_type": "code",
   "execution_count": 5,
   "metadata": {},
   "outputs": [
    {
     "output_type": "execute_result",
     "data": {
      "text/plain": [
       "             survived\n",
       "embark_town          \n",
       "Cherbourg    0.553571\n",
       "Queenstown   0.389610\n",
       "Southampton  0.336957"
      ],
      "text/html": "<div>\n<style scoped>\n    .dataframe tbody tr th:only-of-type {\n        vertical-align: middle;\n    }\n\n    .dataframe tbody tr th {\n        vertical-align: top;\n    }\n\n    .dataframe thead th {\n        text-align: right;\n    }\n</style>\n<table border=\"1\" class=\"dataframe\">\n  <thead>\n    <tr style=\"text-align: right;\">\n      <th></th>\n      <th>survived</th>\n    </tr>\n    <tr>\n      <th>embark_town</th>\n      <th></th>\n    </tr>\n  </thead>\n  <tbody>\n    <tr>\n      <th>Cherbourg</th>\n      <td>0.553571</td>\n    </tr>\n    <tr>\n      <th>Queenstown</th>\n      <td>0.389610</td>\n    </tr>\n    <tr>\n      <th>Southampton</th>\n      <td>0.336957</td>\n    </tr>\n  </tbody>\n</table>\n</div>"
     },
     "metadata": {},
     "execution_count": 5
    }
   ],
   "source": [
    "# 2-c 강사님/ 출발지(embark_town)별 생존율\n",
    "titanic.pivot_table('survived', 'embark_town')"
   ]
  },
  {
   "cell_type": "code",
   "execution_count": 6,
   "metadata": {},
   "outputs": [
    {
     "output_type": "execute_result",
     "data": {
      "text/plain": [
       "             survived\n",
       "embark_town          \n",
       "Cherbourg    0.553571\n",
       "Queenstown   0.389610\n",
       "Southampton  0.336957"
      ],
      "text/html": "<div>\n<style scoped>\n    .dataframe tbody tr th:only-of-type {\n        vertical-align: middle;\n    }\n\n    .dataframe tbody tr th {\n        vertical-align: top;\n    }\n\n    .dataframe thead th {\n        text-align: right;\n    }\n</style>\n<table border=\"1\" class=\"dataframe\">\n  <thead>\n    <tr style=\"text-align: right;\">\n      <th></th>\n      <th>survived</th>\n    </tr>\n    <tr>\n      <th>embark_town</th>\n      <th></th>\n    </tr>\n  </thead>\n  <tbody>\n    <tr>\n      <th>Cherbourg</th>\n      <td>0.553571</td>\n    </tr>\n    <tr>\n      <th>Queenstown</th>\n      <td>0.389610</td>\n    </tr>\n    <tr>\n      <th>Southampton</th>\n      <td>0.336957</td>\n    </tr>\n  </tbody>\n</table>\n</div>"
     },
     "metadata": {},
     "execution_count": 6
    }
   ],
   "source": [
    "# 출발지(embark_town)별 생존율\n",
    "titanic.groupby(['embark_town'])[['survived']].mean()"
   ]
  },
  {
   "cell_type": "code",
   "execution_count": 7,
   "metadata": {},
   "outputs": [
    {
     "output_type": "execute_result",
     "data": {
      "text/plain": [
       "               survived\n",
       "sex    class           \n",
       "female First   0.968085\n",
       "       Second  0.921053\n",
       "       Third   0.500000\n",
       "male   First   0.368852\n",
       "       Second  0.157407\n",
       "       Third   0.135447"
      ],
      "text/html": "<div>\n<style scoped>\n    .dataframe tbody tr th:only-of-type {\n        vertical-align: middle;\n    }\n\n    .dataframe tbody tr th {\n        vertical-align: top;\n    }\n\n    .dataframe thead th {\n        text-align: right;\n    }\n</style>\n<table border=\"1\" class=\"dataframe\">\n  <thead>\n    <tr style=\"text-align: right;\">\n      <th></th>\n      <th></th>\n      <th>survived</th>\n    </tr>\n    <tr>\n      <th>sex</th>\n      <th>class</th>\n      <th></th>\n    </tr>\n  </thead>\n  <tbody>\n    <tr>\n      <th rowspan=\"3\" valign=\"top\">female</th>\n      <th>First</th>\n      <td>0.968085</td>\n    </tr>\n    <tr>\n      <th>Second</th>\n      <td>0.921053</td>\n    </tr>\n    <tr>\n      <th>Third</th>\n      <td>0.500000</td>\n    </tr>\n    <tr>\n      <th rowspan=\"3\" valign=\"top\">male</th>\n      <th>First</th>\n      <td>0.368852</td>\n    </tr>\n    <tr>\n      <th>Second</th>\n      <td>0.157407</td>\n    </tr>\n    <tr>\n      <th>Third</th>\n      <td>0.135447</td>\n    </tr>\n  </tbody>\n</table>\n</div>"
     },
     "metadata": {},
     "execution_count": 7
    }
   ],
   "source": [
    "# 2-c 강사님 /성별, 클레스별 생존율?\n",
    "titanic.pivot_table('survived', ['sex','class'])"
   ]
  },
  {
   "cell_type": "code",
   "execution_count": 11,
   "metadata": {},
   "outputs": [
    {
     "output_type": "execute_result",
     "data": {
      "text/plain": [
       "pclass             1    2    3  All\n",
       "sex    survived                    \n",
       "female 0           3    6   72   81\n",
       "       1          91   70   72  233\n",
       "male   0          77   91  300  468\n",
       "       1          45   17   47  109\n",
       "All              216  184  491  891"
      ],
      "text/html": "<div>\n<style scoped>\n    .dataframe tbody tr th:only-of-type {\n        vertical-align: middle;\n    }\n\n    .dataframe tbody tr th {\n        vertical-align: top;\n    }\n\n    .dataframe thead th {\n        text-align: right;\n    }\n</style>\n<table border=\"1\" class=\"dataframe\">\n  <thead>\n    <tr style=\"text-align: right;\">\n      <th></th>\n      <th>pclass</th>\n      <th>1</th>\n      <th>2</th>\n      <th>3</th>\n      <th>All</th>\n    </tr>\n    <tr>\n      <th>sex</th>\n      <th>survived</th>\n      <th></th>\n      <th></th>\n      <th></th>\n      <th></th>\n    </tr>\n  </thead>\n  <tbody>\n    <tr>\n      <th rowspan=\"2\" valign=\"top\">female</th>\n      <th>0</th>\n      <td>3</td>\n      <td>6</td>\n      <td>72</td>\n      <td>81</td>\n    </tr>\n    <tr>\n      <th>1</th>\n      <td>91</td>\n      <td>70</td>\n      <td>72</td>\n      <td>233</td>\n    </tr>\n    <tr>\n      <th rowspan=\"2\" valign=\"top\">male</th>\n      <th>0</th>\n      <td>77</td>\n      <td>91</td>\n      <td>300</td>\n      <td>468</td>\n    </tr>\n    <tr>\n      <th>1</th>\n      <td>45</td>\n      <td>17</td>\n      <td>47</td>\n      <td>109</td>\n    </tr>\n    <tr>\n      <th>All</th>\n      <th></th>\n      <td>216</td>\n      <td>184</td>\n      <td>491</td>\n      <td>891</td>\n    </tr>\n  </tbody>\n</table>\n</div>"
     },
     "metadata": {},
     "execution_count": 11
    }
   ],
   "source": [
    "# # 2-c 강사님\n",
    "pd.crosstab([titanic.sex, titanic.survived], titanic.pclass, margins=True)"
   ]
  },
  {
   "cell_type": "code",
   "execution_count": 12,
   "metadata": {},
   "outputs": [
    {
     "output_type": "execute_result",
     "data": {
      "text/plain": [
       "<pandas.io.formats.style.Styler at 0x1fd7fdade20>"
      ],
      "text/html": "<style  type=\"text/css\" >\n    #T_4ced841c_24bf_11eb_9f30_24f5aae51597row0_col0 {\n            background-color:  #fff7f3;\n            color:  #000000;\n        }    #T_4ced841c_24bf_11eb_9f30_24f5aae51597row0_col1 {\n            background-color:  #fff7f3;\n            color:  #000000;\n        }    #T_4ced841c_24bf_11eb_9f30_24f5aae51597row0_col2 {\n            background-color:  #feede9;\n            color:  #000000;\n        }    #T_4ced841c_24bf_11eb_9f30_24f5aae51597row0_col3 {\n            background-color:  #fff7f3;\n            color:  #000000;\n        }    #T_4ced841c_24bf_11eb_9f30_24f5aae51597row1_col0 {\n            background-color:  #f98faf;\n            color:  #000000;\n        }    #T_4ced841c_24bf_11eb_9f30_24f5aae51597row1_col1 {\n            background-color:  #faa3b6;\n            color:  #000000;\n        }    #T_4ced841c_24bf_11eb_9f30_24f5aae51597row1_col2 {\n            background-color:  #feede9;\n            color:  #000000;\n        }    #T_4ced841c_24bf_11eb_9f30_24f5aae51597row1_col3 {\n            background-color:  #fcd2ce;\n            color:  #000000;\n        }    #T_4ced841c_24bf_11eb_9f30_24f5aae51597row2_col0 {\n            background-color:  #faa8b8;\n            color:  #000000;\n        }    #T_4ced841c_24bf_11eb_9f30_24f5aae51597row2_col1 {\n            background-color:  #f871a4;\n            color:  #000000;\n        }    #T_4ced841c_24bf_11eb_9f30_24f5aae51597row2_col2 {\n            background-color:  #e94b9c;\n            color:  #000000;\n        }    #T_4ced841c_24bf_11eb_9f30_24f5aae51597row2_col3 {\n            background-color:  #f871a4;\n            color:  #000000;\n        }    #T_4ced841c_24bf_11eb_9f30_24f5aae51597row3_col0 {\n            background-color:  #fcd1cd;\n            color:  #000000;\n        }    #T_4ced841c_24bf_11eb_9f30_24f5aae51597row3_col1 {\n            background-color:  #feece9;\n            color:  #000000;\n        }    #T_4ced841c_24bf_11eb_9f30_24f5aae51597row3_col2 {\n            background-color:  #fff7f3;\n            color:  #000000;\n        }    #T_4ced841c_24bf_11eb_9f30_24f5aae51597row3_col3 {\n            background-color:  #fef1ed;\n            color:  #000000;\n        }    #T_4ced841c_24bf_11eb_9f30_24f5aae51597row4_col0 {\n            background-color:  #49006a;\n            color:  #f1f1f1;\n        }    #T_4ced841c_24bf_11eb_9f30_24f5aae51597row4_col1 {\n            background-color:  #49006a;\n            color:  #f1f1f1;\n        }    #T_4ced841c_24bf_11eb_9f30_24f5aae51597row4_col2 {\n            background-color:  #49006a;\n            color:  #f1f1f1;\n        }    #T_4ced841c_24bf_11eb_9f30_24f5aae51597row4_col3 {\n            background-color:  #49006a;\n            color:  #f1f1f1;\n        }</style><table id=\"T_4ced841c_24bf_11eb_9f30_24f5aae51597\" ><thead>    <tr>        <th class=\"blank\" ></th>        <th class=\"index_name level0\" >pclass</th>        <th class=\"col_heading level0 col0\" >1</th>        <th class=\"col_heading level0 col1\" >2</th>        <th class=\"col_heading level0 col2\" >3</th>        <th class=\"col_heading level0 col3\" >All</th>    </tr>    <tr>        <th class=\"index_name level0\" >sex</th>        <th class=\"index_name level1\" >survived</th>        <th class=\"blank\" ></th>        <th class=\"blank\" ></th>        <th class=\"blank\" ></th>        <th class=\"blank\" ></th>    </tr></thead><tbody>\n                <tr>\n                        <th id=\"T_4ced841c_24bf_11eb_9f30_24f5aae51597level0_row0\" class=\"row_heading level0 row0\" rowspan=2>female</th>\n                        <th id=\"T_4ced841c_24bf_11eb_9f30_24f5aae51597level1_row0\" class=\"row_heading level1 row0\" >0</th>\n                        <td id=\"T_4ced841c_24bf_11eb_9f30_24f5aae51597row0_col0\" class=\"data row0 col0\" >3</td>\n                        <td id=\"T_4ced841c_24bf_11eb_9f30_24f5aae51597row0_col1\" class=\"data row0 col1\" >6</td>\n                        <td id=\"T_4ced841c_24bf_11eb_9f30_24f5aae51597row0_col2\" class=\"data row0 col2\" >72</td>\n                        <td id=\"T_4ced841c_24bf_11eb_9f30_24f5aae51597row0_col3\" class=\"data row0 col3\" >81</td>\n            </tr>\n            <tr>\n                                <th id=\"T_4ced841c_24bf_11eb_9f30_24f5aae51597level1_row1\" class=\"row_heading level1 row1\" >1</th>\n                        <td id=\"T_4ced841c_24bf_11eb_9f30_24f5aae51597row1_col0\" class=\"data row1 col0\" >91</td>\n                        <td id=\"T_4ced841c_24bf_11eb_9f30_24f5aae51597row1_col1\" class=\"data row1 col1\" >70</td>\n                        <td id=\"T_4ced841c_24bf_11eb_9f30_24f5aae51597row1_col2\" class=\"data row1 col2\" >72</td>\n                        <td id=\"T_4ced841c_24bf_11eb_9f30_24f5aae51597row1_col3\" class=\"data row1 col3\" >233</td>\n            </tr>\n            <tr>\n                        <th id=\"T_4ced841c_24bf_11eb_9f30_24f5aae51597level0_row2\" class=\"row_heading level0 row2\" rowspan=2>male</th>\n                        <th id=\"T_4ced841c_24bf_11eb_9f30_24f5aae51597level1_row2\" class=\"row_heading level1 row2\" >0</th>\n                        <td id=\"T_4ced841c_24bf_11eb_9f30_24f5aae51597row2_col0\" class=\"data row2 col0\" >77</td>\n                        <td id=\"T_4ced841c_24bf_11eb_9f30_24f5aae51597row2_col1\" class=\"data row2 col1\" >91</td>\n                        <td id=\"T_4ced841c_24bf_11eb_9f30_24f5aae51597row2_col2\" class=\"data row2 col2\" >300</td>\n                        <td id=\"T_4ced841c_24bf_11eb_9f30_24f5aae51597row2_col3\" class=\"data row2 col3\" >468</td>\n            </tr>\n            <tr>\n                                <th id=\"T_4ced841c_24bf_11eb_9f30_24f5aae51597level1_row3\" class=\"row_heading level1 row3\" >1</th>\n                        <td id=\"T_4ced841c_24bf_11eb_9f30_24f5aae51597row3_col0\" class=\"data row3 col0\" >45</td>\n                        <td id=\"T_4ced841c_24bf_11eb_9f30_24f5aae51597row3_col1\" class=\"data row3 col1\" >17</td>\n                        <td id=\"T_4ced841c_24bf_11eb_9f30_24f5aae51597row3_col2\" class=\"data row3 col2\" >47</td>\n                        <td id=\"T_4ced841c_24bf_11eb_9f30_24f5aae51597row3_col3\" class=\"data row3 col3\" >109</td>\n            </tr>\n            <tr>\n                        <th id=\"T_4ced841c_24bf_11eb_9f30_24f5aae51597level0_row4\" class=\"row_heading level0 row4\" >All</th>\n                        <th id=\"T_4ced841c_24bf_11eb_9f30_24f5aae51597level1_row4\" class=\"row_heading level1 row4\" ></th>\n                        <td id=\"T_4ced841c_24bf_11eb_9f30_24f5aae51597row4_col0\" class=\"data row4 col0\" >216</td>\n                        <td id=\"T_4ced841c_24bf_11eb_9f30_24f5aae51597row4_col1\" class=\"data row4 col1\" >184</td>\n                        <td id=\"T_4ced841c_24bf_11eb_9f30_24f5aae51597row4_col2\" class=\"data row4 col2\" >491</td>\n                        <td id=\"T_4ced841c_24bf_11eb_9f30_24f5aae51597row4_col3\" class=\"data row4 col3\" >891</td>\n            </tr>\n    </tbody></table>"
     },
     "metadata": {},
     "execution_count": 12
    }
   ],
   "source": [
    "# # 2-c 강사님\n",
    "pd.crosstab([titanic.sex, titanic.survived], titanic.pclass,margins=True).style.background_gradient(cmap='RdPu')"
   ]
  },
  {
   "cell_type": "code",
   "execution_count": 9,
   "metadata": {},
   "outputs": [
    {
     "output_type": "display_data",
     "data": {
      "text/plain": "<Figure size 432x288 with 2 Axes>",
      "image/svg+xml": "<?xml version=\"1.0\" encoding=\"utf-8\" standalone=\"no\"?>\r\n<!DOCTYPE svg PUBLIC \"-//W3C//DTD SVG 1.1//EN\"\r\n  \"http://www.w3.org/Graphics/SVG/1.1/DTD/svg11.dtd\">\r\n<!-- Created with matplotlib (https://matplotlib.org/) -->\r\n<svg height=\"277.314375pt\" version=\"1.1\" viewBox=\"0 0 366.29575 277.314375\" width=\"366.29575pt\" xmlns=\"http://www.w3.org/2000/svg\" xmlns:xlink=\"http://www.w3.org/1999/xlink\">\r\n <defs>\r\n  <style type=\"text/css\">\r\n*{stroke-linecap:butt;stroke-linejoin:round;}\r\n  </style>\r\n </defs>\r\n <g id=\"figure_1\">\r\n  <g id=\"patch_1\">\r\n   <path d=\"M 0 277.314375 \r\nL 366.29575 277.314375 \r\nL 366.29575 0 \r\nL 0 0 \r\nz\r\n\" style=\"fill:none;\"/>\r\n  </g>\r\n  <g id=\"axes_1\">\r\n   <g id=\"patch_2\">\r\n    <path d=\"M 37.55625 239.758125 \r\nL 305.39625 239.758125 \r\nL 305.39625 22.318125 \r\nL 37.55625 22.318125 \r\nz\r\n\" style=\"fill:#ffffff;\"/>\r\n   </g>\r\n   <g id=\"QuadMesh_1\">\r\n    <path clip-path=\"url(#p7c51496268)\" d=\"M 37.55625 22.318125 \r\nL 126.83625 22.318125 \r\nL 126.83625 76.678125 \r\nL 37.55625 76.678125 \r\nL 37.55625 22.318125 \r\n\" style=\"fill:#fff7f3;\"/>\r\n    <path clip-path=\"url(#p7c51496268)\" d=\"M 126.83625 22.318125 \r\nL 216.11625 22.318125 \r\nL 216.11625 76.678125 \r\nL 126.83625 76.678125 \r\nL 126.83625 22.318125 \r\n\" style=\"fill:#fff6f2;\"/>\r\n    <path clip-path=\"url(#p7c51496268)\" d=\"M 216.11625 22.318125 \r\nL 305.39625 22.318125 \r\nL 305.39625 76.678125 \r\nL 216.11625 76.678125 \r\nL 216.11625 22.318125 \r\n\" style=\"fill:#fcc9c4;\"/>\r\n    <path clip-path=\"url(#p7c51496268)\" d=\"M 37.55625 76.678125 \r\nL 126.83625 76.678125 \r\nL 126.83625 131.038125 \r\nL 37.55625 131.038125 \r\nL 37.55625 76.678125 \r\n\" style=\"fill:#fbb8bc;\"/>\r\n    <path clip-path=\"url(#p7c51496268)\" d=\"M 126.83625 76.678125 \r\nL 216.11625 76.678125 \r\nL 216.11625 131.038125 \r\nL 126.83625 131.038125 \r\nL 126.83625 76.678125 \r\n\" style=\"fill:#fccbc6;\"/>\r\n    <path clip-path=\"url(#p7c51496268)\" d=\"M 216.11625 76.678125 \r\nL 305.39625 76.678125 \r\nL 305.39625 131.038125 \r\nL 216.11625 131.038125 \r\nL 216.11625 76.678125 \r\n\" style=\"fill:#fcc9c4;\"/>\r\n    <path clip-path=\"url(#p7c51496268)\" d=\"M 37.55625 131.038125 \r\nL 126.83625 131.038125 \r\nL 126.83625 185.398125 \r\nL 37.55625 185.398125 \r\nL 37.55625 131.038125 \r\n\" style=\"fill:#fcc6c1;\"/>\r\n    <path clip-path=\"url(#p7c51496268)\" d=\"M 126.83625 131.038125 \r\nL 216.11625 131.038125 \r\nL 216.11625 185.398125 \r\nL 126.83625 185.398125 \r\nL 126.83625 131.038125 \r\n\" style=\"fill:#fbb8bc;\"/>\r\n    <path clip-path=\"url(#p7c51496268)\" d=\"M 216.11625 131.038125 \r\nL 305.39625 131.038125 \r\nL 305.39625 185.398125 \r\nL 216.11625 185.398125 \r\nL 216.11625 131.038125 \r\n\" style=\"fill:#49006a;\"/>\r\n    <path clip-path=\"url(#p7c51496268)\" d=\"M 37.55625 185.398125 \r\nL 126.83625 185.398125 \r\nL 126.83625 239.758125 \r\nL 37.55625 239.758125 \r\nL 37.55625 185.398125 \r\n\" style=\"fill:#fdddd9;\"/>\r\n    <path clip-path=\"url(#p7c51496268)\" d=\"M 126.83625 185.398125 \r\nL 216.11625 185.398125 \r\nL 216.11625 239.758125 \r\nL 126.83625 239.758125 \r\nL 126.83625 185.398125 \r\n\" style=\"fill:#feeeeb;\"/>\r\n    <path clip-path=\"url(#p7c51496268)\" d=\"M 216.11625 185.398125 \r\nL 305.39625 185.398125 \r\nL 305.39625 239.758125 \r\nL 216.11625 239.758125 \r\nL 216.11625 185.398125 \r\n\" style=\"fill:#fddcd8;\"/>\r\n   </g>\r\n   <g id=\"matplotlib.axis_1\">\r\n    <g id=\"xtick_1\">\r\n     <g id=\"line2d_1\">\r\n      <defs>\r\n       <path d=\"M 0 0 \r\nL 0 3.5 \r\n\" id=\"m0a00dd7cc7\" style=\"stroke:#000000;stroke-width:0.8;\"/>\r\n      </defs>\r\n      <g>\r\n       <use style=\"stroke:#000000;stroke-width:0.8;\" x=\"82.19625\" xlink:href=\"#m0a00dd7cc7\" y=\"239.758125\"/>\r\n      </g>\r\n     </g>\r\n     <g id=\"text_1\">\r\n      <!-- 1 -->\r\n      <defs>\r\n       <path d=\"M 12.40625 8.296875 \r\nL 28.515625 8.296875 \r\nL 28.515625 63.921875 \r\nL 10.984375 60.40625 \r\nL 10.984375 69.390625 \r\nL 28.421875 72.90625 \r\nL 38.28125 72.90625 \r\nL 38.28125 8.296875 \r\nL 54.390625 8.296875 \r\nL 54.390625 0 \r\nL 12.40625 0 \r\nz\r\n\" id=\"DejaVuSans-49\"/>\r\n      </defs>\r\n      <g transform=\"translate(79.015 254.356562)scale(0.1 -0.1)\">\r\n       <use xlink:href=\"#DejaVuSans-49\"/>\r\n      </g>\r\n     </g>\r\n    </g>\r\n    <g id=\"xtick_2\">\r\n     <g id=\"line2d_2\">\r\n      <g>\r\n       <use style=\"stroke:#000000;stroke-width:0.8;\" x=\"171.47625\" xlink:href=\"#m0a00dd7cc7\" y=\"239.758125\"/>\r\n      </g>\r\n     </g>\r\n     <g id=\"text_2\">\r\n      <!-- 2 -->\r\n      <defs>\r\n       <path d=\"M 19.1875 8.296875 \r\nL 53.609375 8.296875 \r\nL 53.609375 0 \r\nL 7.328125 0 \r\nL 7.328125 8.296875 \r\nQ 12.9375 14.109375 22.625 23.890625 \r\nQ 32.328125 33.6875 34.8125 36.53125 \r\nQ 39.546875 41.84375 41.421875 45.53125 \r\nQ 43.3125 49.21875 43.3125 52.78125 \r\nQ 43.3125 58.59375 39.234375 62.25 \r\nQ 35.15625 65.921875 28.609375 65.921875 \r\nQ 23.96875 65.921875 18.8125 64.3125 \r\nQ 13.671875 62.703125 7.8125 59.421875 \r\nL 7.8125 69.390625 \r\nQ 13.765625 71.78125 18.9375 73 \r\nQ 24.125 74.21875 28.421875 74.21875 \r\nQ 39.75 74.21875 46.484375 68.546875 \r\nQ 53.21875 62.890625 53.21875 53.421875 \r\nQ 53.21875 48.921875 51.53125 44.890625 \r\nQ 49.859375 40.875 45.40625 35.40625 \r\nQ 44.1875 33.984375 37.640625 27.21875 \r\nQ 31.109375 20.453125 19.1875 8.296875 \r\nz\r\n\" id=\"DejaVuSans-50\"/>\r\n      </defs>\r\n      <g transform=\"translate(168.295 254.356562)scale(0.1 -0.1)\">\r\n       <use xlink:href=\"#DejaVuSans-50\"/>\r\n      </g>\r\n     </g>\r\n    </g>\r\n    <g id=\"xtick_3\">\r\n     <g id=\"line2d_3\">\r\n      <g>\r\n       <use style=\"stroke:#000000;stroke-width:0.8;\" x=\"260.75625\" xlink:href=\"#m0a00dd7cc7\" y=\"239.758125\"/>\r\n      </g>\r\n     </g>\r\n     <g id=\"text_3\">\r\n      <!-- 3 -->\r\n      <defs>\r\n       <path d=\"M 40.578125 39.3125 \r\nQ 47.65625 37.796875 51.625 33 \r\nQ 55.609375 28.21875 55.609375 21.1875 \r\nQ 55.609375 10.40625 48.1875 4.484375 \r\nQ 40.765625 -1.421875 27.09375 -1.421875 \r\nQ 22.515625 -1.421875 17.65625 -0.515625 \r\nQ 12.796875 0.390625 7.625 2.203125 \r\nL 7.625 11.71875 \r\nQ 11.71875 9.328125 16.59375 8.109375 \r\nQ 21.484375 6.890625 26.8125 6.890625 \r\nQ 36.078125 6.890625 40.9375 10.546875 \r\nQ 45.796875 14.203125 45.796875 21.1875 \r\nQ 45.796875 27.640625 41.28125 31.265625 \r\nQ 36.765625 34.90625 28.71875 34.90625 \r\nL 20.21875 34.90625 \r\nL 20.21875 43.015625 \r\nL 29.109375 43.015625 \r\nQ 36.375 43.015625 40.234375 45.921875 \r\nQ 44.09375 48.828125 44.09375 54.296875 \r\nQ 44.09375 59.90625 40.109375 62.90625 \r\nQ 36.140625 65.921875 28.71875 65.921875 \r\nQ 24.65625 65.921875 20.015625 65.03125 \r\nQ 15.375 64.15625 9.8125 62.3125 \r\nL 9.8125 71.09375 \r\nQ 15.4375 72.65625 20.34375 73.4375 \r\nQ 25.25 74.21875 29.59375 74.21875 \r\nQ 40.828125 74.21875 47.359375 69.109375 \r\nQ 53.90625 64.015625 53.90625 55.328125 \r\nQ 53.90625 49.265625 50.4375 45.09375 \r\nQ 46.96875 40.921875 40.578125 39.3125 \r\nz\r\n\" id=\"DejaVuSans-51\"/>\r\n      </defs>\r\n      <g transform=\"translate(257.575 254.356562)scale(0.1 -0.1)\">\r\n       <use xlink:href=\"#DejaVuSans-51\"/>\r\n      </g>\r\n     </g>\r\n    </g>\r\n    <g id=\"text_4\">\r\n     <!-- pclass -->\r\n     <defs>\r\n      <path d=\"M 18.109375 8.203125 \r\nL 18.109375 -20.796875 \r\nL 9.078125 -20.796875 \r\nL 9.078125 54.6875 \r\nL 18.109375 54.6875 \r\nL 18.109375 46.390625 \r\nQ 20.953125 51.265625 25.265625 53.625 \r\nQ 29.59375 56 35.59375 56 \r\nQ 45.5625 56 51.78125 48.09375 \r\nQ 58.015625 40.1875 58.015625 27.296875 \r\nQ 58.015625 14.40625 51.78125 6.484375 \r\nQ 45.5625 -1.421875 35.59375 -1.421875 \r\nQ 29.59375 -1.421875 25.265625 0.953125 \r\nQ 20.953125 3.328125 18.109375 8.203125 \r\nz\r\nM 48.6875 27.296875 \r\nQ 48.6875 37.203125 44.609375 42.84375 \r\nQ 40.53125 48.484375 33.40625 48.484375 \r\nQ 26.265625 48.484375 22.1875 42.84375 \r\nQ 18.109375 37.203125 18.109375 27.296875 \r\nQ 18.109375 17.390625 22.1875 11.75 \r\nQ 26.265625 6.109375 33.40625 6.109375 \r\nQ 40.53125 6.109375 44.609375 11.75 \r\nQ 48.6875 17.390625 48.6875 27.296875 \r\nz\r\n\" id=\"DejaVuSans-112\"/>\r\n      <path d=\"M 48.78125 52.59375 \r\nL 48.78125 44.1875 \r\nQ 44.96875 46.296875 41.140625 47.34375 \r\nQ 37.3125 48.390625 33.40625 48.390625 \r\nQ 24.65625 48.390625 19.8125 42.84375 \r\nQ 14.984375 37.3125 14.984375 27.296875 \r\nQ 14.984375 17.28125 19.8125 11.734375 \r\nQ 24.65625 6.203125 33.40625 6.203125 \r\nQ 37.3125 6.203125 41.140625 7.25 \r\nQ 44.96875 8.296875 48.78125 10.40625 \r\nL 48.78125 2.09375 \r\nQ 45.015625 0.34375 40.984375 -0.53125 \r\nQ 36.96875 -1.421875 32.421875 -1.421875 \r\nQ 20.0625 -1.421875 12.78125 6.34375 \r\nQ 5.515625 14.109375 5.515625 27.296875 \r\nQ 5.515625 40.671875 12.859375 48.328125 \r\nQ 20.21875 56 33.015625 56 \r\nQ 37.15625 56 41.109375 55.140625 \r\nQ 45.0625 54.296875 48.78125 52.59375 \r\nz\r\n\" id=\"DejaVuSans-99\"/>\r\n      <path d=\"M 9.421875 75.984375 \r\nL 18.40625 75.984375 \r\nL 18.40625 0 \r\nL 9.421875 0 \r\nz\r\n\" id=\"DejaVuSans-108\"/>\r\n      <path d=\"M 34.28125 27.484375 \r\nQ 23.390625 27.484375 19.1875 25 \r\nQ 14.984375 22.515625 14.984375 16.5 \r\nQ 14.984375 11.71875 18.140625 8.90625 \r\nQ 21.296875 6.109375 26.703125 6.109375 \r\nQ 34.1875 6.109375 38.703125 11.40625 \r\nQ 43.21875 16.703125 43.21875 25.484375 \r\nL 43.21875 27.484375 \r\nz\r\nM 52.203125 31.203125 \r\nL 52.203125 0 \r\nL 43.21875 0 \r\nL 43.21875 8.296875 \r\nQ 40.140625 3.328125 35.546875 0.953125 \r\nQ 30.953125 -1.421875 24.3125 -1.421875 \r\nQ 15.921875 -1.421875 10.953125 3.296875 \r\nQ 6 8.015625 6 15.921875 \r\nQ 6 25.140625 12.171875 29.828125 \r\nQ 18.359375 34.515625 30.609375 34.515625 \r\nL 43.21875 34.515625 \r\nL 43.21875 35.40625 \r\nQ 43.21875 41.609375 39.140625 45 \r\nQ 35.0625 48.390625 27.6875 48.390625 \r\nQ 23 48.390625 18.546875 47.265625 \r\nQ 14.109375 46.140625 10.015625 43.890625 \r\nL 10.015625 52.203125 \r\nQ 14.9375 54.109375 19.578125 55.046875 \r\nQ 24.21875 56 28.609375 56 \r\nQ 40.484375 56 46.34375 49.84375 \r\nQ 52.203125 43.703125 52.203125 31.203125 \r\nz\r\n\" id=\"DejaVuSans-97\"/>\r\n      <path d=\"M 44.28125 53.078125 \r\nL 44.28125 44.578125 \r\nQ 40.484375 46.53125 36.375 47.5 \r\nQ 32.28125 48.484375 27.875 48.484375 \r\nQ 21.1875 48.484375 17.84375 46.4375 \r\nQ 14.5 44.390625 14.5 40.28125 \r\nQ 14.5 37.15625 16.890625 35.375 \r\nQ 19.28125 33.59375 26.515625 31.984375 \r\nL 29.59375 31.296875 \r\nQ 39.15625 29.25 43.1875 25.515625 \r\nQ 47.21875 21.78125 47.21875 15.09375 \r\nQ 47.21875 7.46875 41.1875 3.015625 \r\nQ 35.15625 -1.421875 24.609375 -1.421875 \r\nQ 20.21875 -1.421875 15.453125 -0.5625 \r\nQ 10.6875 0.296875 5.421875 2 \r\nL 5.421875 11.28125 \r\nQ 10.40625 8.6875 15.234375 7.390625 \r\nQ 20.0625 6.109375 24.8125 6.109375 \r\nQ 31.15625 6.109375 34.5625 8.28125 \r\nQ 37.984375 10.453125 37.984375 14.40625 \r\nQ 37.984375 18.0625 35.515625 20.015625 \r\nQ 33.0625 21.96875 24.703125 23.78125 \r\nL 21.578125 24.515625 \r\nQ 13.234375 26.265625 9.515625 29.90625 \r\nQ 5.8125 33.546875 5.8125 39.890625 \r\nQ 5.8125 47.609375 11.28125 51.796875 \r\nQ 16.75 56 26.8125 56 \r\nQ 31.78125 56 36.171875 55.265625 \r\nQ 40.578125 54.546875 44.28125 53.078125 \r\nz\r\n\" id=\"DejaVuSans-115\"/>\r\n     </defs>\r\n     <g transform=\"translate(155.890313 268.034687)scale(0.1 -0.1)\">\r\n      <use xlink:href=\"#DejaVuSans-112\"/>\r\n      <use x=\"63.476562\" xlink:href=\"#DejaVuSans-99\"/>\r\n      <use x=\"118.457031\" xlink:href=\"#DejaVuSans-108\"/>\r\n      <use x=\"146.240234\" xlink:href=\"#DejaVuSans-97\"/>\r\n      <use x=\"207.519531\" xlink:href=\"#DejaVuSans-115\"/>\r\n      <use x=\"259.619141\" xlink:href=\"#DejaVuSans-115\"/>\r\n     </g>\r\n    </g>\r\n   </g>\r\n   <g id=\"matplotlib.axis_2\">\r\n    <g id=\"ytick_1\">\r\n     <g id=\"line2d_4\">\r\n      <defs>\r\n       <path d=\"M 0 0 \r\nL -3.5 0 \r\n\" id=\"m95bf11bc4e\" style=\"stroke:#000000;stroke-width:0.8;\"/>\r\n      </defs>\r\n      <g>\r\n       <use style=\"stroke:#000000;stroke-width:0.8;\" x=\"37.55625\" xlink:href=\"#m95bf11bc4e\" y=\"49.498125\"/>\r\n      </g>\r\n     </g>\r\n     <g id=\"text_5\">\r\n      <!-- female-0 -->\r\n      <defs>\r\n       <path d=\"M 37.109375 75.984375 \r\nL 37.109375 68.5 \r\nL 28.515625 68.5 \r\nQ 23.6875 68.5 21.796875 66.546875 \r\nQ 19.921875 64.59375 19.921875 59.515625 \r\nL 19.921875 54.6875 \r\nL 34.71875 54.6875 \r\nL 34.71875 47.703125 \r\nL 19.921875 47.703125 \r\nL 19.921875 0 \r\nL 10.890625 0 \r\nL 10.890625 47.703125 \r\nL 2.296875 47.703125 \r\nL 2.296875 54.6875 \r\nL 10.890625 54.6875 \r\nL 10.890625 58.5 \r\nQ 10.890625 67.625 15.140625 71.796875 \r\nQ 19.390625 75.984375 28.609375 75.984375 \r\nz\r\n\" id=\"DejaVuSans-102\"/>\r\n       <path d=\"M 56.203125 29.59375 \r\nL 56.203125 25.203125 \r\nL 14.890625 25.203125 \r\nQ 15.484375 15.921875 20.484375 11.0625 \r\nQ 25.484375 6.203125 34.421875 6.203125 \r\nQ 39.59375 6.203125 44.453125 7.46875 \r\nQ 49.3125 8.734375 54.109375 11.28125 \r\nL 54.109375 2.78125 \r\nQ 49.265625 0.734375 44.1875 -0.34375 \r\nQ 39.109375 -1.421875 33.890625 -1.421875 \r\nQ 20.796875 -1.421875 13.15625 6.1875 \r\nQ 5.515625 13.8125 5.515625 26.8125 \r\nQ 5.515625 40.234375 12.765625 48.109375 \r\nQ 20.015625 56 32.328125 56 \r\nQ 43.359375 56 49.78125 48.890625 \r\nQ 56.203125 41.796875 56.203125 29.59375 \r\nz\r\nM 47.21875 32.234375 \r\nQ 47.125 39.59375 43.09375 43.984375 \r\nQ 39.0625 48.390625 32.421875 48.390625 \r\nQ 24.90625 48.390625 20.390625 44.140625 \r\nQ 15.875 39.890625 15.1875 32.171875 \r\nz\r\n\" id=\"DejaVuSans-101\"/>\r\n       <path d=\"M 52 44.1875 \r\nQ 55.375 50.25 60.0625 53.125 \r\nQ 64.75 56 71.09375 56 \r\nQ 79.640625 56 84.28125 50.015625 \r\nQ 88.921875 44.046875 88.921875 33.015625 \r\nL 88.921875 0 \r\nL 79.890625 0 \r\nL 79.890625 32.71875 \r\nQ 79.890625 40.578125 77.09375 44.375 \r\nQ 74.3125 48.1875 68.609375 48.1875 \r\nQ 61.625 48.1875 57.5625 43.546875 \r\nQ 53.515625 38.921875 53.515625 30.90625 \r\nL 53.515625 0 \r\nL 44.484375 0 \r\nL 44.484375 32.71875 \r\nQ 44.484375 40.625 41.703125 44.40625 \r\nQ 38.921875 48.1875 33.109375 48.1875 \r\nQ 26.21875 48.1875 22.15625 43.53125 \r\nQ 18.109375 38.875 18.109375 30.90625 \r\nL 18.109375 0 \r\nL 9.078125 0 \r\nL 9.078125 54.6875 \r\nL 18.109375 54.6875 \r\nL 18.109375 46.1875 \r\nQ 21.1875 51.21875 25.484375 53.609375 \r\nQ 29.78125 56 35.6875 56 \r\nQ 41.65625 56 45.828125 52.96875 \r\nQ 50 49.953125 52 44.1875 \r\nz\r\n\" id=\"DejaVuSans-109\"/>\r\n       <path d=\"M 4.890625 31.390625 \r\nL 31.203125 31.390625 \r\nL 31.203125 23.390625 \r\nL 4.890625 23.390625 \r\nz\r\n\" id=\"DejaVuSans-45\"/>\r\n       <path d=\"M 31.78125 66.40625 \r\nQ 24.171875 66.40625 20.328125 58.90625 \r\nQ 16.5 51.421875 16.5 36.375 \r\nQ 16.5 21.390625 20.328125 13.890625 \r\nQ 24.171875 6.390625 31.78125 6.390625 \r\nQ 39.453125 6.390625 43.28125 13.890625 \r\nQ 47.125 21.390625 47.125 36.375 \r\nQ 47.125 51.421875 43.28125 58.90625 \r\nQ 39.453125 66.40625 31.78125 66.40625 \r\nz\r\nM 31.78125 74.21875 \r\nQ 44.046875 74.21875 50.515625 64.515625 \r\nQ 56.984375 54.828125 56.984375 36.375 \r\nQ 56.984375 17.96875 50.515625 8.265625 \r\nQ 44.046875 -1.421875 31.78125 -1.421875 \r\nQ 19.53125 -1.421875 13.0625 8.265625 \r\nQ 6.59375 17.96875 6.59375 36.375 \r\nQ 6.59375 54.828125 13.0625 64.515625 \r\nQ 19.53125 74.21875 31.78125 74.21875 \r\nz\r\n\" id=\"DejaVuSans-48\"/>\r\n      </defs>\r\n      <g transform=\"translate(28.476563 90.142656)rotate(-90)scale(0.1 -0.1)\">\r\n       <use xlink:href=\"#DejaVuSans-102\"/>\r\n       <use x=\"35.205078\" xlink:href=\"#DejaVuSans-101\"/>\r\n       <use x=\"96.728516\" xlink:href=\"#DejaVuSans-109\"/>\r\n       <use x=\"194.140625\" xlink:href=\"#DejaVuSans-97\"/>\r\n       <use x=\"255.419922\" xlink:href=\"#DejaVuSans-108\"/>\r\n       <use x=\"283.203125\" xlink:href=\"#DejaVuSans-101\"/>\r\n       <use x=\"344.726562\" xlink:href=\"#DejaVuSans-45\"/>\r\n       <use x=\"380.810547\" xlink:href=\"#DejaVuSans-48\"/>\r\n      </g>\r\n     </g>\r\n    </g>\r\n    <g id=\"ytick_2\">\r\n     <g id=\"line2d_5\">\r\n      <g>\r\n       <use style=\"stroke:#000000;stroke-width:0.8;\" x=\"37.55625\" xlink:href=\"#m95bf11bc4e\" y=\"103.858125\"/>\r\n      </g>\r\n     </g>\r\n     <g id=\"text_6\">\r\n      <!-- female-1 -->\r\n      <g transform=\"translate(28.476563 144.502656)rotate(-90)scale(0.1 -0.1)\">\r\n       <use xlink:href=\"#DejaVuSans-102\"/>\r\n       <use x=\"35.205078\" xlink:href=\"#DejaVuSans-101\"/>\r\n       <use x=\"96.728516\" xlink:href=\"#DejaVuSans-109\"/>\r\n       <use x=\"194.140625\" xlink:href=\"#DejaVuSans-97\"/>\r\n       <use x=\"255.419922\" xlink:href=\"#DejaVuSans-108\"/>\r\n       <use x=\"283.203125\" xlink:href=\"#DejaVuSans-101\"/>\r\n       <use x=\"344.726562\" xlink:href=\"#DejaVuSans-45\"/>\r\n       <use x=\"380.810547\" xlink:href=\"#DejaVuSans-49\"/>\r\n      </g>\r\n     </g>\r\n    </g>\r\n    <g id=\"ytick_3\">\r\n     <g id=\"line2d_6\">\r\n      <g>\r\n       <use style=\"stroke:#000000;stroke-width:0.8;\" x=\"37.55625\" xlink:href=\"#m95bf11bc4e\" y=\"158.218125\"/>\r\n      </g>\r\n     </g>\r\n     <g id=\"text_7\">\r\n      <!-- male-0 -->\r\n      <g transform=\"translate(28.476563 189.189219)rotate(-90)scale(0.1 -0.1)\">\r\n       <use xlink:href=\"#DejaVuSans-109\"/>\r\n       <use x=\"97.412109\" xlink:href=\"#DejaVuSans-97\"/>\r\n       <use x=\"158.691406\" xlink:href=\"#DejaVuSans-108\"/>\r\n       <use x=\"186.474609\" xlink:href=\"#DejaVuSans-101\"/>\r\n       <use x=\"247.998047\" xlink:href=\"#DejaVuSans-45\"/>\r\n       <use x=\"284.082031\" xlink:href=\"#DejaVuSans-48\"/>\r\n      </g>\r\n     </g>\r\n    </g>\r\n    <g id=\"ytick_4\">\r\n     <g id=\"line2d_7\">\r\n      <g>\r\n       <use style=\"stroke:#000000;stroke-width:0.8;\" x=\"37.55625\" xlink:href=\"#m95bf11bc4e\" y=\"212.578125\"/>\r\n      </g>\r\n     </g>\r\n     <g id=\"text_8\">\r\n      <!-- male-1 -->\r\n      <g transform=\"translate(28.476563 243.549219)rotate(-90)scale(0.1 -0.1)\">\r\n       <use xlink:href=\"#DejaVuSans-109\"/>\r\n       <use x=\"97.412109\" xlink:href=\"#DejaVuSans-97\"/>\r\n       <use x=\"158.691406\" xlink:href=\"#DejaVuSans-108\"/>\r\n       <use x=\"186.474609\" xlink:href=\"#DejaVuSans-101\"/>\r\n       <use x=\"247.998047\" xlink:href=\"#DejaVuSans-45\"/>\r\n       <use x=\"284.082031\" xlink:href=\"#DejaVuSans-49\"/>\r\n      </g>\r\n     </g>\r\n    </g>\r\n    <g id=\"text_9\">\r\n     <!-- sex-survived -->\r\n     <defs>\r\n      <path d=\"M 54.890625 54.6875 \r\nL 35.109375 28.078125 \r\nL 55.90625 0 \r\nL 45.3125 0 \r\nL 29.390625 21.484375 \r\nL 13.484375 0 \r\nL 2.875 0 \r\nL 24.125 28.609375 \r\nL 4.6875 54.6875 \r\nL 15.28125 54.6875 \r\nL 29.78125 35.203125 \r\nL 44.28125 54.6875 \r\nz\r\n\" id=\"DejaVuSans-120\"/>\r\n      <path d=\"M 8.5 21.578125 \r\nL 8.5 54.6875 \r\nL 17.484375 54.6875 \r\nL 17.484375 21.921875 \r\nQ 17.484375 14.15625 20.5 10.265625 \r\nQ 23.53125 6.390625 29.59375 6.390625 \r\nQ 36.859375 6.390625 41.078125 11.03125 \r\nQ 45.3125 15.671875 45.3125 23.6875 \r\nL 45.3125 54.6875 \r\nL 54.296875 54.6875 \r\nL 54.296875 0 \r\nL 45.3125 0 \r\nL 45.3125 8.40625 \r\nQ 42.046875 3.421875 37.71875 1 \r\nQ 33.40625 -1.421875 27.6875 -1.421875 \r\nQ 18.265625 -1.421875 13.375 4.4375 \r\nQ 8.5 10.296875 8.5 21.578125 \r\nz\r\nM 31.109375 56 \r\nz\r\n\" id=\"DejaVuSans-117\"/>\r\n      <path d=\"M 41.109375 46.296875 \r\nQ 39.59375 47.171875 37.8125 47.578125 \r\nQ 36.03125 48 33.890625 48 \r\nQ 26.265625 48 22.1875 43.046875 \r\nQ 18.109375 38.09375 18.109375 28.8125 \r\nL 18.109375 0 \r\nL 9.078125 0 \r\nL 9.078125 54.6875 \r\nL 18.109375 54.6875 \r\nL 18.109375 46.1875 \r\nQ 20.953125 51.171875 25.484375 53.578125 \r\nQ 30.03125 56 36.53125 56 \r\nQ 37.453125 56 38.578125 55.875 \r\nQ 39.703125 55.765625 41.0625 55.515625 \r\nz\r\n\" id=\"DejaVuSans-114\"/>\r\n      <path d=\"M 2.984375 54.6875 \r\nL 12.5 54.6875 \r\nL 29.59375 8.796875 \r\nL 46.6875 54.6875 \r\nL 56.203125 54.6875 \r\nL 35.6875 0 \r\nL 23.484375 0 \r\nz\r\n\" id=\"DejaVuSans-118\"/>\r\n      <path d=\"M 9.421875 54.6875 \r\nL 18.40625 54.6875 \r\nL 18.40625 0 \r\nL 9.421875 0 \r\nz\r\nM 9.421875 75.984375 \r\nL 18.40625 75.984375 \r\nL 18.40625 64.59375 \r\nL 9.421875 64.59375 \r\nz\r\n\" id=\"DejaVuSans-105\"/>\r\n      <path d=\"M 45.40625 46.390625 \r\nL 45.40625 75.984375 \r\nL 54.390625 75.984375 \r\nL 54.390625 0 \r\nL 45.40625 0 \r\nL 45.40625 8.203125 \r\nQ 42.578125 3.328125 38.25 0.953125 \r\nQ 33.9375 -1.421875 27.875 -1.421875 \r\nQ 17.96875 -1.421875 11.734375 6.484375 \r\nQ 5.515625 14.40625 5.515625 27.296875 \r\nQ 5.515625 40.1875 11.734375 48.09375 \r\nQ 17.96875 56 27.875 56 \r\nQ 33.9375 56 38.25 53.625 \r\nQ 42.578125 51.265625 45.40625 46.390625 \r\nz\r\nM 14.796875 27.296875 \r\nQ 14.796875 17.390625 18.875 11.75 \r\nQ 22.953125 6.109375 30.078125 6.109375 \r\nQ 37.203125 6.109375 41.296875 11.75 \r\nQ 45.40625 17.390625 45.40625 27.296875 \r\nQ 45.40625 37.203125 41.296875 42.84375 \r\nQ 37.203125 48.484375 30.078125 48.484375 \r\nQ 22.953125 48.484375 18.875 42.84375 \r\nQ 14.796875 37.203125 14.796875 27.296875 \r\nz\r\n\" id=\"DejaVuSans-100\"/>\r\n     </defs>\r\n     <g transform=\"translate(14.798438 162.782656)rotate(-90)scale(0.1 -0.1)\">\r\n      <use xlink:href=\"#DejaVuSans-115\"/>\r\n      <use x=\"52.099609\" xlink:href=\"#DejaVuSans-101\"/>\r\n      <use x=\"111.873047\" xlink:href=\"#DejaVuSans-120\"/>\r\n      <use x=\"171.052734\" xlink:href=\"#DejaVuSans-45\"/>\r\n      <use x=\"207.136719\" xlink:href=\"#DejaVuSans-115\"/>\r\n      <use x=\"259.236328\" xlink:href=\"#DejaVuSans-117\"/>\r\n      <use x=\"322.615234\" xlink:href=\"#DejaVuSans-114\"/>\r\n      <use x=\"363.728516\" xlink:href=\"#DejaVuSans-118\"/>\r\n      <use x=\"422.908203\" xlink:href=\"#DejaVuSans-105\"/>\r\n      <use x=\"450.691406\" xlink:href=\"#DejaVuSans-118\"/>\r\n      <use x=\"509.871094\" xlink:href=\"#DejaVuSans-101\"/>\r\n      <use x=\"571.394531\" xlink:href=\"#DejaVuSans-100\"/>\r\n     </g>\r\n    </g>\r\n   </g>\r\n   <g id=\"text_10\">\r\n    <!-- 3 -->\r\n    <g style=\"fill:#262626;\" transform=\"translate(79.015 52.2575)scale(0.1 -0.1)\">\r\n     <use xlink:href=\"#DejaVuSans-51\"/>\r\n    </g>\r\n   </g>\r\n   <g id=\"text_11\">\r\n    <!-- 6 -->\r\n    <defs>\r\n     <path d=\"M 33.015625 40.375 \r\nQ 26.375 40.375 22.484375 35.828125 \r\nQ 18.609375 31.296875 18.609375 23.390625 \r\nQ 18.609375 15.53125 22.484375 10.953125 \r\nQ 26.375 6.390625 33.015625 6.390625 \r\nQ 39.65625 6.390625 43.53125 10.953125 \r\nQ 47.40625 15.53125 47.40625 23.390625 \r\nQ 47.40625 31.296875 43.53125 35.828125 \r\nQ 39.65625 40.375 33.015625 40.375 \r\nz\r\nM 52.59375 71.296875 \r\nL 52.59375 62.3125 \r\nQ 48.875 64.0625 45.09375 64.984375 \r\nQ 41.3125 65.921875 37.59375 65.921875 \r\nQ 27.828125 65.921875 22.671875 59.328125 \r\nQ 17.53125 52.734375 16.796875 39.40625 \r\nQ 19.671875 43.65625 24.015625 45.921875 \r\nQ 28.375 48.1875 33.59375 48.1875 \r\nQ 44.578125 48.1875 50.953125 41.515625 \r\nQ 57.328125 34.859375 57.328125 23.390625 \r\nQ 57.328125 12.15625 50.6875 5.359375 \r\nQ 44.046875 -1.421875 33.015625 -1.421875 \r\nQ 20.359375 -1.421875 13.671875 8.265625 \r\nQ 6.984375 17.96875 6.984375 36.375 \r\nQ 6.984375 53.65625 15.1875 63.9375 \r\nQ 23.390625 74.21875 37.203125 74.21875 \r\nQ 40.921875 74.21875 44.703125 73.484375 \r\nQ 48.484375 72.75 52.59375 71.296875 \r\nz\r\n\" id=\"DejaVuSans-54\"/>\r\n    </defs>\r\n    <g style=\"fill:#262626;\" transform=\"translate(168.295 52.2575)scale(0.1 -0.1)\">\r\n     <use xlink:href=\"#DejaVuSans-54\"/>\r\n    </g>\r\n   </g>\r\n   <g id=\"text_12\">\r\n    <!-- 72 -->\r\n    <defs>\r\n     <path d=\"M 8.203125 72.90625 \r\nL 55.078125 72.90625 \r\nL 55.078125 68.703125 \r\nL 28.609375 0 \r\nL 18.3125 0 \r\nL 43.21875 64.59375 \r\nL 8.203125 64.59375 \r\nz\r\n\" id=\"DejaVuSans-55\"/>\r\n    </defs>\r\n    <g style=\"fill:#262626;\" transform=\"translate(254.39375 52.2575)scale(0.1 -0.1)\">\r\n     <use xlink:href=\"#DejaVuSans-55\"/>\r\n     <use x=\"63.623047\" xlink:href=\"#DejaVuSans-50\"/>\r\n    </g>\r\n   </g>\r\n   <g id=\"text_13\">\r\n    <!-- 91 -->\r\n    <defs>\r\n     <path d=\"M 10.984375 1.515625 \r\nL 10.984375 10.5 \r\nQ 14.703125 8.734375 18.5 7.8125 \r\nQ 22.3125 6.890625 25.984375 6.890625 \r\nQ 35.75 6.890625 40.890625 13.453125 \r\nQ 46.046875 20.015625 46.78125 33.40625 \r\nQ 43.953125 29.203125 39.59375 26.953125 \r\nQ 35.25 24.703125 29.984375 24.703125 \r\nQ 19.046875 24.703125 12.671875 31.3125 \r\nQ 6.296875 37.9375 6.296875 49.421875 \r\nQ 6.296875 60.640625 12.9375 67.421875 \r\nQ 19.578125 74.21875 30.609375 74.21875 \r\nQ 43.265625 74.21875 49.921875 64.515625 \r\nQ 56.59375 54.828125 56.59375 36.375 \r\nQ 56.59375 19.140625 48.40625 8.859375 \r\nQ 40.234375 -1.421875 26.421875 -1.421875 \r\nQ 22.703125 -1.421875 18.890625 -0.6875 \r\nQ 15.09375 0.046875 10.984375 1.515625 \r\nz\r\nM 30.609375 32.421875 \r\nQ 37.25 32.421875 41.125 36.953125 \r\nQ 45.015625 41.5 45.015625 49.421875 \r\nQ 45.015625 57.28125 41.125 61.84375 \r\nQ 37.25 66.40625 30.609375 66.40625 \r\nQ 23.96875 66.40625 20.09375 61.84375 \r\nQ 16.21875 57.28125 16.21875 49.421875 \r\nQ 16.21875 41.5 20.09375 36.953125 \r\nQ 23.96875 32.421875 30.609375 32.421875 \r\nz\r\n\" id=\"DejaVuSans-57\"/>\r\n    </defs>\r\n    <g style=\"fill:#262626;\" transform=\"translate(75.83375 106.6175)scale(0.1 -0.1)\">\r\n     <use xlink:href=\"#DejaVuSans-57\"/>\r\n     <use x=\"63.623047\" xlink:href=\"#DejaVuSans-49\"/>\r\n    </g>\r\n   </g>\r\n   <g id=\"text_14\">\r\n    <!-- 70 -->\r\n    <g style=\"fill:#262626;\" transform=\"translate(165.11375 106.6175)scale(0.1 -0.1)\">\r\n     <use xlink:href=\"#DejaVuSans-55\"/>\r\n     <use x=\"63.623047\" xlink:href=\"#DejaVuSans-48\"/>\r\n    </g>\r\n   </g>\r\n   <g id=\"text_15\">\r\n    <!-- 72 -->\r\n    <g style=\"fill:#262626;\" transform=\"translate(254.39375 106.6175)scale(0.1 -0.1)\">\r\n     <use xlink:href=\"#DejaVuSans-55\"/>\r\n     <use x=\"63.623047\" xlink:href=\"#DejaVuSans-50\"/>\r\n    </g>\r\n   </g>\r\n   <g id=\"text_16\">\r\n    <!-- 77 -->\r\n    <g style=\"fill:#262626;\" transform=\"translate(75.83375 160.9775)scale(0.1 -0.1)\">\r\n     <use xlink:href=\"#DejaVuSans-55\"/>\r\n     <use x=\"63.623047\" xlink:href=\"#DejaVuSans-55\"/>\r\n    </g>\r\n   </g>\r\n   <g id=\"text_17\">\r\n    <!-- 91 -->\r\n    <g style=\"fill:#262626;\" transform=\"translate(165.11375 160.9775)scale(0.1 -0.1)\">\r\n     <use xlink:href=\"#DejaVuSans-57\"/>\r\n     <use x=\"63.623047\" xlink:href=\"#DejaVuSans-49\"/>\r\n    </g>\r\n   </g>\r\n   <g id=\"text_18\">\r\n    <!-- 300 -->\r\n    <g style=\"fill:#ffffff;\" transform=\"translate(251.2125 160.9775)scale(0.1 -0.1)\">\r\n     <use xlink:href=\"#DejaVuSans-51\"/>\r\n     <use x=\"63.623047\" xlink:href=\"#DejaVuSans-48\"/>\r\n     <use x=\"127.246094\" xlink:href=\"#DejaVuSans-48\"/>\r\n    </g>\r\n   </g>\r\n   <g id=\"text_19\">\r\n    <!-- 45 -->\r\n    <defs>\r\n     <path d=\"M 37.796875 64.3125 \r\nL 12.890625 25.390625 \r\nL 37.796875 25.390625 \r\nz\r\nM 35.203125 72.90625 \r\nL 47.609375 72.90625 \r\nL 47.609375 25.390625 \r\nL 58.015625 25.390625 \r\nL 58.015625 17.1875 \r\nL 47.609375 17.1875 \r\nL 47.609375 0 \r\nL 37.796875 0 \r\nL 37.796875 17.1875 \r\nL 4.890625 17.1875 \r\nL 4.890625 26.703125 \r\nz\r\n\" id=\"DejaVuSans-52\"/>\r\n     <path d=\"M 10.796875 72.90625 \r\nL 49.515625 72.90625 \r\nL 49.515625 64.59375 \r\nL 19.828125 64.59375 \r\nL 19.828125 46.734375 \r\nQ 21.96875 47.46875 24.109375 47.828125 \r\nQ 26.265625 48.1875 28.421875 48.1875 \r\nQ 40.625 48.1875 47.75 41.5 \r\nQ 54.890625 34.8125 54.890625 23.390625 \r\nQ 54.890625 11.625 47.5625 5.09375 \r\nQ 40.234375 -1.421875 26.90625 -1.421875 \r\nQ 22.3125 -1.421875 17.546875 -0.640625 \r\nQ 12.796875 0.140625 7.71875 1.703125 \r\nL 7.71875 11.625 \r\nQ 12.109375 9.234375 16.796875 8.0625 \r\nQ 21.484375 6.890625 26.703125 6.890625 \r\nQ 35.15625 6.890625 40.078125 11.328125 \r\nQ 45.015625 15.765625 45.015625 23.390625 \r\nQ 45.015625 31 40.078125 35.4375 \r\nQ 35.15625 39.890625 26.703125 39.890625 \r\nQ 22.75 39.890625 18.8125 39.015625 \r\nQ 14.890625 38.140625 10.796875 36.28125 \r\nz\r\n\" id=\"DejaVuSans-53\"/>\r\n    </defs>\r\n    <g style=\"fill:#262626;\" transform=\"translate(75.83375 215.3375)scale(0.1 -0.1)\">\r\n     <use xlink:href=\"#DejaVuSans-52\"/>\r\n     <use x=\"63.623047\" xlink:href=\"#DejaVuSans-53\"/>\r\n    </g>\r\n   </g>\r\n   <g id=\"text_20\">\r\n    <!-- 17 -->\r\n    <g style=\"fill:#262626;\" transform=\"translate(165.11375 215.3375)scale(0.1 -0.1)\">\r\n     <use xlink:href=\"#DejaVuSans-49\"/>\r\n     <use x=\"63.623047\" xlink:href=\"#DejaVuSans-55\"/>\r\n    </g>\r\n   </g>\r\n   <g id=\"text_21\">\r\n    <!-- 47 -->\r\n    <g style=\"fill:#262626;\" transform=\"translate(254.39375 215.3375)scale(0.1 -0.1)\">\r\n     <use xlink:href=\"#DejaVuSans-52\"/>\r\n     <use x=\"63.623047\" xlink:href=\"#DejaVuSans-55\"/>\r\n    </g>\r\n   </g>\r\n   <g id=\"text_22\">\r\n    <!-- 성별, 선실별 생존자/사망자 수 -->\r\n    <defs>\r\n     <path d=\"M 4.984375 -17.671875 \r\nL 4.984375 70.515625 \r\nL 54.984375 70.515625 \r\nL 54.984375 -17.671875 \r\nz\r\nM 10.59375 -12.109375 \r\nL 49.421875 -12.109375 \r\nL 49.421875 64.890625 \r\nL 10.59375 64.890625 \r\nz\r\n\" id=\"DejaVuSans-49457\"/>\r\n     <path d=\"M 4.984375 -17.671875 \r\nL 4.984375 70.515625 \r\nL 54.984375 70.515625 \r\nL 54.984375 -17.671875 \r\nz\r\nM 10.59375 -12.109375 \r\nL 49.421875 -12.109375 \r\nL 49.421875 64.890625 \r\nL 10.59375 64.890625 \r\nz\r\n\" id=\"DejaVuSans-48324\"/>\r\n     <path d=\"M 11.71875 12.40625 \r\nL 22.015625 12.40625 \r\nL 22.015625 4 \r\nL 14.015625 -11.625 \r\nL 7.71875 -11.625 \r\nL 11.71875 4 \r\nz\r\n\" id=\"DejaVuSans-44\"/>\r\n     <path id=\"DejaVuSans-32\"/>\r\n     <path d=\"M 4.984375 -17.671875 \r\nL 4.984375 70.515625 \r\nL 54.984375 70.515625 \r\nL 54.984375 -17.671875 \r\nz\r\nM 10.59375 -12.109375 \r\nL 49.421875 -12.109375 \r\nL 49.421875 64.890625 \r\nL 10.59375 64.890625 \r\nz\r\n\" id=\"DejaVuSans-49440\"/>\r\n     <path d=\"M 4.984375 -17.671875 \r\nL 4.984375 70.515625 \r\nL 54.984375 70.515625 \r\nL 54.984375 -17.671875 \r\nz\r\nM 10.59375 -12.109375 \r\nL 49.421875 -12.109375 \r\nL 49.421875 64.890625 \r\nL 10.59375 64.890625 \r\nz\r\n\" id=\"DejaVuSans-49892\"/>\r\n     <path d=\"M 4.984375 -17.671875 \r\nL 4.984375 70.515625 \r\nL 54.984375 70.515625 \r\nL 54.984375 -17.671875 \r\nz\r\nM 10.59375 -12.109375 \r\nL 49.421875 -12.109375 \r\nL 49.421875 64.890625 \r\nL 10.59375 64.890625 \r\nz\r\n\" id=\"DejaVuSans-49373\"/>\r\n     <path d=\"M 4.984375 -17.671875 \r\nL 4.984375 70.515625 \r\nL 54.984375 70.515625 \r\nL 54.984375 -17.671875 \r\nz\r\nM 10.59375 -12.109375 \r\nL 49.421875 -12.109375 \r\nL 49.421875 64.890625 \r\nL 10.59375 64.890625 \r\nz\r\n\" id=\"DejaVuSans-51316\"/>\r\n     <path d=\"M 4.984375 -17.671875 \r\nL 4.984375 70.515625 \r\nL 54.984375 70.515625 \r\nL 54.984375 -17.671875 \r\nz\r\nM 10.59375 -12.109375 \r\nL 49.421875 -12.109375 \r\nL 49.421875 64.890625 \r\nL 10.59375 64.890625 \r\nz\r\n\" id=\"DejaVuSans-51088\"/>\r\n     <path d=\"M 25.390625 72.90625 \r\nL 33.6875 72.90625 \r\nL 8.296875 -9.28125 \r\nL 0 -9.28125 \r\nz\r\n\" id=\"DejaVuSans-47\"/>\r\n     <path d=\"M 4.984375 -17.671875 \r\nL 4.984375 70.515625 \r\nL 54.984375 70.515625 \r\nL 54.984375 -17.671875 \r\nz\r\nM 10.59375 -12.109375 \r\nL 49.421875 -12.109375 \r\nL 49.421875 64.890625 \r\nL 10.59375 64.890625 \r\nz\r\n\" id=\"DejaVuSans-49324\"/>\r\n     <path d=\"M 4.984375 -17.671875 \r\nL 4.984375 70.515625 \r\nL 54.984375 70.515625 \r\nL 54.984375 -17.671875 \r\nz\r\nM 10.59375 -12.109375 \r\nL 49.421875 -12.109375 \r\nL 49.421875 64.890625 \r\nL 10.59375 64.890625 \r\nz\r\n\" id=\"DejaVuSans-47581\"/>\r\n     <path d=\"M 4.984375 -17.671875 \r\nL 4.984375 70.515625 \r\nL 54.984375 70.515625 \r\nL 54.984375 -17.671875 \r\nz\r\nM 10.59375 -12.109375 \r\nL 49.421875 -12.109375 \r\nL 49.421875 64.890625 \r\nL 10.59375 64.890625 \r\nz\r\n\" id=\"DejaVuSans-49688\"/>\r\n    </defs>\r\n    <g transform=\"translate(118.61625 16.318125)scale(0.12 -0.12)\">\r\n     <use xlink:href=\"#DejaVuSans-49457\"/>\r\n     <use x=\"60.009766\" xlink:href=\"#DejaVuSans-48324\"/>\r\n     <use x=\"120.019531\" xlink:href=\"#DejaVuSans-44\"/>\r\n     <use x=\"151.806641\" xlink:href=\"#DejaVuSans-32\"/>\r\n     <use x=\"183.59375\" xlink:href=\"#DejaVuSans-49440\"/>\r\n     <use x=\"243.603516\" xlink:href=\"#DejaVuSans-49892\"/>\r\n     <use x=\"303.613281\" xlink:href=\"#DejaVuSans-48324\"/>\r\n     <use x=\"363.623047\" xlink:href=\"#DejaVuSans-32\"/>\r\n     <use x=\"395.410156\" xlink:href=\"#DejaVuSans-49373\"/>\r\n     <use x=\"455.419922\" xlink:href=\"#DejaVuSans-51316\"/>\r\n     <use x=\"515.429688\" xlink:href=\"#DejaVuSans-51088\"/>\r\n     <use x=\"575.439453\" xlink:href=\"#DejaVuSans-47\"/>\r\n     <use x=\"609.130859\" xlink:href=\"#DejaVuSans-49324\"/>\r\n     <use x=\"669.140625\" xlink:href=\"#DejaVuSans-47581\"/>\r\n     <use x=\"729.150391\" xlink:href=\"#DejaVuSans-51088\"/>\r\n     <use x=\"789.160156\" xlink:href=\"#DejaVuSans-32\"/>\r\n     <use x=\"820.947266\" xlink:href=\"#DejaVuSans-49688\"/>\r\n    </g>\r\n   </g>\r\n  </g>\r\n  <g id=\"axes_2\">\r\n   <g id=\"patch_3\">\r\n    <path clip-path=\"url(#p326e547f8b)\" d=\"M 322.13625 239.758125 \r\nL 322.13625 238.90875 \r\nL 322.13625 23.1675 \r\nL 322.13625 22.318125 \r\nL 333.00825 22.318125 \r\nL 333.00825 23.1675 \r\nL 333.00825 238.90875 \r\nL 333.00825 239.758125 \r\nz\r\n\" style=\"fill:#ffffff;stroke:#ffffff;stroke-linejoin:miter;stroke-width:0.01;\"/>\r\n   </g>\r\n   <image height=\"217\" id=\"imageba64d1bcd0\" transform=\"scale(1 -1)translate(0 -217)\" width=\"11\" x=\"322\" xlink:href=\"data:image/png;base64,\r\niVBORw0KGgoAAAANSUhEUgAAAAsAAADZCAYAAAD2WsoCAAAABHNCSVQICAgIfAhkiAAAATdJREFUaIHtmTEOwzAMA9XC/39sh06x1C/ohgPkpJkJgiJpOUFe9f1UNJ93FxgRsSITgNsiIlYA9IoC4ALg+7vBZJQ2INLM3LBk1N+NZ4FR3LcPxXNjwuafonkM+Ly4zWOlbf70BkRgImOjM4hkILBmHRlwSij9hs6pqMYMW6f5fPfTLbpBwCxuJIO54YHbWBr3dWAo3rHS3JiyZFCC3ipgblgyEr3JEGav/J4Mzw1vbzA3WPk1GegbVou7yK6DoYwYELUuWdzn9TlJ6/YGH7xIczLryICEebNdZ/kMmdtYyAzjHqEZxk0GRJcm23VekdpY6AYbsK8iFpAcq8hfD8QMFj9kTqLZs25r1nmavW5cjBmAh8T9gG6QzU+Yx8RtMV8HavZWwZTyo4ueMMO4Z7ihFcmM+zjmHzaJjh87AotiAAAAAElFTkSuQmCC\" y=\"-22\"/>\r\n   <g id=\"matplotlib.axis_3\"/>\r\n   <g id=\"matplotlib.axis_4\">\r\n    <g id=\"ytick_5\">\r\n     <g id=\"line2d_8\">\r\n      <defs>\r\n       <path d=\"M 0 0 \r\nL 3.5 0 \r\n\" id=\"m0b12cb3a84\" style=\"stroke:#000000;stroke-width:0.8;\"/>\r\n      </defs>\r\n      <g>\r\n       <use style=\"stroke:#000000;stroke-width:0.8;\" x=\"333.00825\" xlink:href=\"#m0b12cb3a84\" y=\"205.348428\"/>\r\n      </g>\r\n     </g>\r\n     <g id=\"text_23\">\r\n      <!-- 50 -->\r\n      <g transform=\"translate(340.00825 209.147647)scale(0.1 -0.1)\">\r\n       <use xlink:href=\"#DejaVuSans-53\"/>\r\n       <use x=\"63.623047\" xlink:href=\"#DejaVuSans-48\"/>\r\n      </g>\r\n     </g>\r\n    </g>\r\n    <g id=\"ytick_6\">\r\n     <g id=\"line2d_9\">\r\n      <g>\r\n       <use style=\"stroke:#000000;stroke-width:0.8;\" x=\"333.00825\" xlink:href=\"#m0b12cb3a84\" y=\"168.742367\"/>\r\n      </g>\r\n     </g>\r\n     <g id=\"text_24\">\r\n      <!-- 100 -->\r\n      <g transform=\"translate(340.00825 172.541586)scale(0.1 -0.1)\">\r\n       <use xlink:href=\"#DejaVuSans-49\"/>\r\n       <use x=\"63.623047\" xlink:href=\"#DejaVuSans-48\"/>\r\n       <use x=\"127.246094\" xlink:href=\"#DejaVuSans-48\"/>\r\n      </g>\r\n     </g>\r\n    </g>\r\n    <g id=\"ytick_7\">\r\n     <g id=\"line2d_10\">\r\n      <g>\r\n       <use style=\"stroke:#000000;stroke-width:0.8;\" x=\"333.00825\" xlink:href=\"#m0b12cb3a84\" y=\"132.136307\"/>\r\n      </g>\r\n     </g>\r\n     <g id=\"text_25\">\r\n      <!-- 150 -->\r\n      <g transform=\"translate(340.00825 135.935526)scale(0.1 -0.1)\">\r\n       <use xlink:href=\"#DejaVuSans-49\"/>\r\n       <use x=\"63.623047\" xlink:href=\"#DejaVuSans-53\"/>\r\n       <use x=\"127.246094\" xlink:href=\"#DejaVuSans-48\"/>\r\n      </g>\r\n     </g>\r\n    </g>\r\n    <g id=\"ytick_8\">\r\n     <g id=\"line2d_11\">\r\n      <g>\r\n       <use style=\"stroke:#000000;stroke-width:0.8;\" x=\"333.00825\" xlink:href=\"#m0b12cb3a84\" y=\"95.530246\"/>\r\n      </g>\r\n     </g>\r\n     <g id=\"text_26\">\r\n      <!-- 200 -->\r\n      <g transform=\"translate(340.00825 99.329465)scale(0.1 -0.1)\">\r\n       <use xlink:href=\"#DejaVuSans-50\"/>\r\n       <use x=\"63.623047\" xlink:href=\"#DejaVuSans-48\"/>\r\n       <use x=\"127.246094\" xlink:href=\"#DejaVuSans-48\"/>\r\n      </g>\r\n     </g>\r\n    </g>\r\n    <g id=\"ytick_9\">\r\n     <g id=\"line2d_12\">\r\n      <g>\r\n       <use style=\"stroke:#000000;stroke-width:0.8;\" x=\"333.00825\" xlink:href=\"#m0b12cb3a84\" y=\"58.924186\"/>\r\n      </g>\r\n     </g>\r\n     <g id=\"text_27\">\r\n      <!-- 250 -->\r\n      <g transform=\"translate(340.00825 62.723404)scale(0.1 -0.1)\">\r\n       <use xlink:href=\"#DejaVuSans-50\"/>\r\n       <use x=\"63.623047\" xlink:href=\"#DejaVuSans-53\"/>\r\n       <use x=\"127.246094\" xlink:href=\"#DejaVuSans-48\"/>\r\n      </g>\r\n     </g>\r\n    </g>\r\n    <g id=\"ytick_10\">\r\n     <g id=\"line2d_13\">\r\n      <g>\r\n       <use style=\"stroke:#000000;stroke-width:0.8;\" x=\"333.00825\" xlink:href=\"#m0b12cb3a84\" y=\"22.318125\"/>\r\n      </g>\r\n     </g>\r\n     <g id=\"text_28\">\r\n      <!-- 300 -->\r\n      <g transform=\"translate(340.00825 26.117344)scale(0.1 -0.1)\">\r\n       <use xlink:href=\"#DejaVuSans-51\"/>\r\n       <use x=\"63.623047\" xlink:href=\"#DejaVuSans-48\"/>\r\n       <use x=\"127.246094\" xlink:href=\"#DejaVuSans-48\"/>\r\n      </g>\r\n     </g>\r\n    </g>\r\n   </g>\r\n   <g id=\"patch_4\">\r\n    <path d=\"M 322.13625 239.758125 \r\nL 322.13625 238.90875 \r\nL 322.13625 23.1675 \r\nL 322.13625 22.318125 \r\nL 333.00825 22.318125 \r\nL 333.00825 23.1675 \r\nL 333.00825 238.90875 \r\nL 333.00825 239.758125 \r\nz\r\n\" style=\"fill:none;\"/>\r\n   </g>\r\n  </g>\r\n </g>\r\n <defs>\r\n  <clipPath id=\"p7c51496268\">\r\n   <rect height=\"217.44\" width=\"267.84\" x=\"37.55625\" y=\"22.318125\"/>\r\n  </clipPath>\r\n  <clipPath id=\"p326e547f8b\">\r\n   <rect height=\"217.44\" width=\"10.872\" x=\"322.13625\" y=\"22.318125\"/>\r\n  </clipPath>\r\n </defs>\r\n</svg>\r\n",
      "image/png": "[encoded data removed]"
     },
     "metadata": {
      "needs_background": "light"
     }
    }
   ],
   "source": [
    "tsdf = pd.crosstab([titanic.sex, titanic.survived], titanic.pclass)\n",
    "sns.heatmap(tsdf, cmap='RdPu', annot=True, fmt=\"d\")\n",
    "plt.title(\"성별, 선실별 생존자/사망자 수\")\n",
    "plt.show()"
   ]
  },
  {
   "cell_type": "code",
   "execution_count": 13,
   "metadata": {},
   "outputs": [
    {
     "output_type": "execute_result",
     "data": {
      "text/plain": [
       "     survived  pclass     sex   age  sibsp  parch   fare embarked   class  \\\n",
       "886         0       2    male  27.0      0      0  13.00        S  Second   \n",
       "887         1       1  female  19.0      0      0  30.00        S   First   \n",
       "888         0       3  female   NaN      1      2  23.45        S   Third   \n",
       "889         1       1    male  26.0      0      0  30.00        C   First   \n",
       "890         0       3    male  32.0      0      0   7.75        Q   Third   \n",
       "\n",
       "       who  adult_male deck  embark_town alive  alone age_cat  \n",
       "886    man        True  NaN  Southampton    no   True      청년  \n",
       "887  woman       False    B  Southampton   yes   True    미성년자  \n",
       "888  woman       False  NaN  Southampton    no  False     NaN  \n",
       "889    man        True    C    Cherbourg   yes   True      청년  \n",
       "890    man        True  NaN   Queenstown    no   True      중년  "
      ],
      "text/html": "<div>\n<style scoped>\n    .dataframe tbody tr th:only-of-type {\n        vertical-align: middle;\n    }\n\n    .dataframe tbody tr th {\n        vertical-align: top;\n    }\n\n    .dataframe thead th {\n        text-align: right;\n    }\n</style>\n<table border=\"1\" class=\"dataframe\">\n  <thead>\n    <tr style=\"text-align: right;\">\n      <th></th>\n      <th>survived</th>\n      <th>pclass</th>\n      <th>sex</th>\n      <th>age</th>\n      <th>sibsp</th>\n      <th>parch</th>\n      <th>fare</th>\n      <th>embarked</th>\n      <th>class</th>\n      <th>who</th>\n      <th>adult_male</th>\n      <th>deck</th>\n      <th>embark_town</th>\n      <th>alive</th>\n      <th>alone</th>\n      <th>age_cat</th>\n    </tr>\n  </thead>\n  <tbody>\n    <tr>\n      <th>886</th>\n      <td>0</td>\n      <td>2</td>\n      <td>male</td>\n      <td>27.0</td>\n      <td>0</td>\n      <td>0</td>\n      <td>13.00</td>\n      <td>S</td>\n      <td>Second</td>\n      <td>man</td>\n      <td>True</td>\n      <td>NaN</td>\n      <td>Southampton</td>\n      <td>no</td>\n      <td>True</td>\n      <td>청년</td>\n    </tr>\n    <tr>\n      <th>887</th>\n      <td>1</td>\n      <td>1</td>\n      <td>female</td>\n      <td>19.0</td>\n      <td>0</td>\n      <td>0</td>\n      <td>30.00</td>\n      <td>S</td>\n      <td>First</td>\n      <td>woman</td>\n      <td>False</td>\n      <td>B</td>\n      <td>Southampton</td>\n      <td>yes</td>\n      <td>True</td>\n      <td>미성년자</td>\n    </tr>\n    <tr>\n      <th>888</th>\n      <td>0</td>\n      <td>3</td>\n      <td>female</td>\n      <td>NaN</td>\n      <td>1</td>\n      <td>2</td>\n      <td>23.45</td>\n      <td>S</td>\n      <td>Third</td>\n      <td>woman</td>\n      <td>False</td>\n      <td>NaN</td>\n      <td>Southampton</td>\n      <td>no</td>\n      <td>False</td>\n      <td>NaN</td>\n    </tr>\n    <tr>\n      <th>889</th>\n      <td>1</td>\n      <td>1</td>\n      <td>male</td>\n      <td>26.0</td>\n      <td>0</td>\n      <td>0</td>\n      <td>30.00</td>\n      <td>C</td>\n      <td>First</td>\n      <td>man</td>\n      <td>True</td>\n      <td>C</td>\n      <td>Cherbourg</td>\n      <td>yes</td>\n      <td>True</td>\n      <td>청년</td>\n    </tr>\n    <tr>\n      <th>890</th>\n      <td>0</td>\n      <td>3</td>\n      <td>male</td>\n      <td>32.0</td>\n      <td>0</td>\n      <td>0</td>\n      <td>7.75</td>\n      <td>Q</td>\n      <td>Third</td>\n      <td>man</td>\n      <td>True</td>\n      <td>NaN</td>\n      <td>Queenstown</td>\n      <td>no</td>\n      <td>True</td>\n      <td>중년</td>\n    </tr>\n  </tbody>\n</table>\n</div>"
     },
     "metadata": {},
     "execution_count": 13
    }
   ],
   "source": [
    "# 2-d 강사님\n",
    "bins = [1, 20, 30, 50, 70, 100]\n",
    "labels = [\"미성년자\", \"청년\", \"중년\", \"장년\", \"노년\"]\n",
    "titanic[\"age_cat\"] = pd.cut(titanic.age, bins, labels=labels)\n",
    "titanic.tail()"
   ]
  },
  {
   "cell_type": "code",
   "execution_count": 14,
   "metadata": {},
   "outputs": [
    {
     "output_type": "execute_result",
     "data": {
      "text/plain": [
       "0        청년\n",
       "1        중년\n",
       "2        청년\n",
       "3        중년\n",
       "4        중년\n",
       "       ... \n",
       "886      청년\n",
       "887    미성년자\n",
       "888      청년\n",
       "889      청년\n",
       "890      중년\n",
       "Name: age, Length: 891, dtype: category\n",
       "Categories (5, object): [미성년자 < 청년 < 중년 < 장년 < 노년]"
      ]
     },
     "metadata": {},
     "execution_count": 14
    }
   ],
   "source": [
    "#2-d 타이타닉호 승객을 ‘미성년자’, ‘청년’, ‘중년’, ‘장년’, ‘노년’ 나이 그룹으로 나누고, 각 그룹별 생존율을 구하시오\n",
    "bins = [1, 20, 30, 50, 70, 100]\n",
    "labels = [\"미성년자\", \"청년\", \"중년\", \"장년\", \"노년\"]\n",
    "cats = pd.cut(titanic.age, bins, labels=labels)\n",
    "cats"
   ]
  },
  {
   "cell_type": "code",
   "execution_count": 15,
   "metadata": {},
   "outputs": [
    {
     "output_type": "execute_result",
     "data": {
      "text/plain": [
       "     survived  pclass     sex        age  sibsp  parch     fare embarked  \\\n",
       "0           0       3    male  22.000000      1      0   7.2500        S   \n",
       "1           1       1  female  38.000000      1      0  71.2833        C   \n",
       "2           1       3  female  26.000000      0      0   7.9250        S   \n",
       "3           1       1  female  35.000000      1      0  53.1000        S   \n",
       "4           0       3    male  35.000000      0      0   8.0500        S   \n",
       "..        ...     ...     ...        ...    ...    ...      ...      ...   \n",
       "886         0       2    male  27.000000      0      0  13.0000        S   \n",
       "887         1       1  female  19.000000      0      0  30.0000        S   \n",
       "888         0       3  female  29.699118      1      2  23.4500        S   \n",
       "889         1       1    male  26.000000      0      0  30.0000        C   \n",
       "890         0       3    male  32.000000      0      0   7.7500        Q   \n",
       "\n",
       "      class    who  adult_male deck  embark_town alive  alone category1  \\\n",
       "0     Third    man        True  NaN  Southampton    no  False      male   \n",
       "1     First  woman       False    C    Cherbourg   yes  False    female   \n",
       "2     Third  woman       False  NaN  Southampton   yes   True    female   \n",
       "3     First  woman       False    C  Southampton   yes  False    female   \n",
       "4     Third    man        True  NaN  Southampton    no   True      male   \n",
       "..      ...    ...         ...  ...          ...   ...    ...       ...   \n",
       "886  Second    man        True  NaN  Southampton    no   True      male   \n",
       "887   First  woman       False    B  Southampton   yes   True     child   \n",
       "888   Third  woman       False  NaN  Southampton    no  False     child   \n",
       "889   First    man        True    C    Cherbourg   yes   True      male   \n",
       "890   Third    man        True  NaN   Queenstown    no   True      male   \n",
       "\n",
       "    age_cat  \n",
       "0        청년  \n",
       "1        중년  \n",
       "2        청년  \n",
       "3        중년  \n",
       "4        중년  \n",
       "..      ...  \n",
       "886      청년  \n",
       "887    미성년자  \n",
       "888      청년  \n",
       "889      청년  \n",
       "890      중년  \n",
       "\n",
       "[891 rows x 17 columns]"
      ],
      "text/html": "<div>\n<style scoped>\n    .dataframe tbody tr th:only-of-type {\n        vertical-align: middle;\n    }\n\n    .dataframe tbody tr th {\n        vertical-align: top;\n    }\n\n    .dataframe thead th {\n        text-align: right;\n    }\n</style>\n<table border=\"1\" class=\"dataframe\">\n  <thead>\n    <tr style=\"text-align: right;\">\n      <th></th>\n      <th>survived</th>\n      <th>pclass</th>\n      <th>sex</th>\n      <th>age</th>\n      <th>sibsp</th>\n      <th>parch</th>\n      <th>fare</th>\n      <th>embarked</th>\n      <th>class</th>\n      <th>who</th>\n      <th>adult_male</th>\n      <th>deck</th>\n      <th>embark_town</th>\n      <th>alive</th>\n      <th>alone</th>\n      <th>category1</th>\n      <th>age_cat</th>\n    </tr>\n  </thead>\n  <tbody>\n    <tr>\n      <th>0</th>\n      <td>0</td>\n      <td>3</td>\n      <td>male</td>\n      <td>22.000000</td>\n      <td>1</td>\n      <td>0</td>\n      <td>7.2500</td>\n      <td>S</td>\n      <td>Third</td>\n      <td>man</td>\n      <td>True</td>\n      <td>NaN</td>\n      <td>Southampton</td>\n      <td>no</td>\n      <td>False</td>\n      <td>male</td>\n      <td>청년</td>\n    </tr>\n    <tr>\n      <th>1</th>\n      <td>1</td>\n      <td>1</td>\n      <td>female</td>\n      <td>38.000000</td>\n      <td>1</td>\n      <td>0</td>\n      <td>71.2833</td>\n      <td>C</td>\n      <td>First</td>\n      <td>woman</td>\n      <td>False</td>\n      <td>C</td>\n      <td>Cherbourg</td>\n      <td>yes</td>\n      <td>False</td>\n      <td>female</td>\n      <td>중년</td>\n    </tr>\n    <tr>\n      <th>2</th>\n      <td>1</td>\n      <td>3</td>\n      <td>female</td>\n      <td>26.000000</td>\n      <td>0</td>\n      <td>0</td>\n      <td>7.9250</td>\n      <td>S</td>\n      <td>Third</td>\n      <td>woman</td>\n      <td>False</td>\n      <td>NaN</td>\n      <td>Southampton</td>\n      <td>yes</td>\n      <td>True</td>\n      <td>female</td>\n      <td>청년</td>\n    </tr>\n    <tr>\n      <th>3</th>\n      <td>1</td>\n      <td>1</td>\n      <td>female</td>\n      <td>35.000000</td>\n      <td>1</td>\n      <td>0</td>\n      <td>53.1000</td>\n      <td>S</td>\n      <td>First</td>\n      <td>woman</td>\n      <td>False</td>\n      <td>C</td>\n      <td>Southampton</td>\n      <td>yes</td>\n      <td>False</td>\n      <td>female</td>\n      <td>중년</td>\n    </tr>\n    <tr>\n      <th>4</th>\n      <td>0</td>\n      <td>3</td>\n      <td>male</td>\n      <td>35.000000</td>\n      <td>0</td>\n      <td>0</td>\n      <td>8.0500</td>\n      <td>S</td>\n      <td>Third</td>\n      <td>man</td>\n      <td>True</td>\n      <td>NaN</td>\n      <td>Southampton</td>\n      <td>no</td>\n      <td>True</td>\n      <td>male</td>\n      <td>중년</td>\n    </tr>\n    <tr>\n      <th>...</th>\n      <td>...</td>\n      <td>...</td>\n      <td>...</td>\n      <td>...</td>\n      <td>...</td>\n      <td>...</td>\n      <td>...</td>\n      <td>...</td>\n      <td>...</td>\n      <td>...</td>\n      <td>...</td>\n      <td>...</td>\n      <td>...</td>\n      <td>...</td>\n      <td>...</td>\n      <td>...</td>\n      <td>...</td>\n    </tr>\n    <tr>\n      <th>886</th>\n      <td>0</td>\n      <td>2</td>\n      <td>male</td>\n      <td>27.000000</td>\n      <td>0</td>\n      <td>0</td>\n      <td>13.0000</td>\n      <td>S</td>\n      <td>Second</td>\n      <td>man</td>\n      <td>True</td>\n      <td>NaN</td>\n      <td>Southampton</td>\n      <td>no</td>\n      <td>True</td>\n      <td>male</td>\n      <td>청년</td>\n    </tr>\n    <tr>\n      <th>887</th>\n      <td>1</td>\n      <td>1</td>\n      <td>female</td>\n      <td>19.000000</td>\n      <td>0</td>\n      <td>0</td>\n      <td>30.0000</td>\n      <td>S</td>\n      <td>First</td>\n      <td>woman</td>\n      <td>False</td>\n      <td>B</td>\n      <td>Southampton</td>\n      <td>yes</td>\n      <td>True</td>\n      <td>child</td>\n      <td>미성년자</td>\n    </tr>\n    <tr>\n      <th>888</th>\n      <td>0</td>\n      <td>3</td>\n      <td>female</td>\n      <td>29.699118</td>\n      <td>1</td>\n      <td>2</td>\n      <td>23.4500</td>\n      <td>S</td>\n      <td>Third</td>\n      <td>woman</td>\n      <td>False</td>\n      <td>NaN</td>\n      <td>Southampton</td>\n      <td>no</td>\n      <td>False</td>\n      <td>child</td>\n      <td>청년</td>\n    </tr>\n    <tr>\n      <th>889</th>\n      <td>1</td>\n      <td>1</td>\n      <td>male</td>\n      <td>26.000000</td>\n      <td>0</td>\n      <td>0</td>\n      <td>30.0000</td>\n      <td>C</td>\n      <td>First</td>\n      <td>man</td>\n      <td>True</td>\n      <td>C</td>\n      <td>Cherbourg</td>\n      <td>yes</td>\n      <td>True</td>\n      <td>male</td>\n      <td>청년</td>\n    </tr>\n    <tr>\n      <th>890</th>\n      <td>0</td>\n      <td>3</td>\n      <td>male</td>\n      <td>32.000000</td>\n      <td>0</td>\n      <td>0</td>\n      <td>7.7500</td>\n      <td>Q</td>\n      <td>Third</td>\n      <td>man</td>\n      <td>True</td>\n      <td>NaN</td>\n      <td>Queenstown</td>\n      <td>no</td>\n      <td>True</td>\n      <td>male</td>\n      <td>중년</td>\n    </tr>\n  </tbody>\n</table>\n<p>891 rows × 17 columns</p>\n</div>"
     },
     "metadata": {},
     "execution_count": 15
    }
   ],
   "source": [
    "titanic['age_cat'] = pd.DataFrame(titanic.age, columns=['age'])\n",
    "titanic[\"age_cat\"] = pd.cut(titanic.age, bins,labels=labels)\n",
    "titanic"
   ]
  },
  {
   "cell_type": "code",
   "execution_count": 14,
   "metadata": {},
   "outputs": [
    {
     "output_type": "execute_result",
     "data": {
      "text/plain": [
       "         survived\n",
       "age_cat          \n",
       "미성년자     0.424242\n",
       "청년       0.365217\n",
       "중년       0.423237\n",
       "장년       0.355932\n",
       "노년       0.200000"
      ],
      "text/html": "<div>\n<style scoped>\n    .dataframe tbody tr th:only-of-type {\n        vertical-align: middle;\n    }\n\n    .dataframe tbody tr th {\n        vertical-align: top;\n    }\n\n    .dataframe thead th {\n        text-align: right;\n    }\n</style>\n<table border=\"1\" class=\"dataframe\">\n  <thead>\n    <tr style=\"text-align: right;\">\n      <th></th>\n      <th>survived</th>\n    </tr>\n    <tr>\n      <th>age_cat</th>\n      <th></th>\n    </tr>\n  </thead>\n  <tbody>\n    <tr>\n      <th>미성년자</th>\n      <td>0.424242</td>\n    </tr>\n    <tr>\n      <th>청년</th>\n      <td>0.365217</td>\n    </tr>\n    <tr>\n      <th>중년</th>\n      <td>0.423237</td>\n    </tr>\n    <tr>\n      <th>장년</th>\n      <td>0.355932</td>\n    </tr>\n    <tr>\n      <th>노년</th>\n      <td>0.200000</td>\n    </tr>\n  </tbody>\n</table>\n</div>"
     },
     "metadata": {},
     "execution_count": 14
    }
   ],
   "source": [
    "# 2-d 강사님\n",
    "titanic.pivot_table('survived', 'age_cat')"
   ]
  },
  {
   "cell_type": "code",
   "execution_count": 60,
   "metadata": {},
   "outputs": [
    {
     "output_type": "execute_result",
     "data": {
      "text/plain": [
       "         survived\n",
       "age_cat          \n",
       "미성년자     0.424242\n",
       "청년       0.334152\n",
       "중년       0.423237\n",
       "장년       0.355932\n",
       "노년       0.200000"
      ],
      "text/html": "<div>\n<style scoped>\n    .dataframe tbody tr th:only-of-type {\n        vertical-align: middle;\n    }\n\n    .dataframe tbody tr th {\n        vertical-align: top;\n    }\n\n    .dataframe thead th {\n        text-align: right;\n    }\n</style>\n<table border=\"1\" class=\"dataframe\">\n  <thead>\n    <tr style=\"text-align: right;\">\n      <th></th>\n      <th>survived</th>\n    </tr>\n    <tr>\n      <th>age_cat</th>\n      <th></th>\n    </tr>\n  </thead>\n  <tbody>\n    <tr>\n      <th>미성년자</th>\n      <td>0.424242</td>\n    </tr>\n    <tr>\n      <th>청년</th>\n      <td>0.334152</td>\n    </tr>\n    <tr>\n      <th>중년</th>\n      <td>0.423237</td>\n    </tr>\n    <tr>\n      <th>장년</th>\n      <td>0.355932</td>\n    </tr>\n    <tr>\n      <th>노년</th>\n      <td>0.200000</td>\n    </tr>\n  </tbody>\n</table>\n</div>"
     },
     "metadata": {},
     "execution_count": 60
    }
   ],
   "source": [
    "# 2-d\n",
    "titanic.groupby(['age_cat'])[['survived']].mean()"
   ]
  },
  {
   "cell_type": "code",
   "execution_count": 19,
   "metadata": {},
   "outputs": [
    {
     "output_type": "execute_result",
     "data": {
      "text/plain": [
       "[미성년자, 중년, 노년]\n",
       "Categories (3, object): [미성년자 < 중년 < 노년]"
      ]
     },
     "metadata": {},
     "execution_count": 19
    }
   ],
   "source": [
    "# 2-e qcut 명령으로 세 개의 나이 그룹을 만들고, 나이 그룹별 남녀 성비와 생존율을 구하시오\n",
    "bins = [1, 50, 100]\n",
    "labels = [\"미성년자\", \"중년\", \"노년\"]\n",
    "cats = pd.qcut(bins, 3, labels=labels)\n",
    "cats"
   ]
  },
  {
   "cell_type": "code",
   "execution_count": 20,
   "metadata": {},
   "outputs": [
    {
     "output_type": "execute_result",
     "data": {
      "text/plain": [
       "      age age_cat1\n",
       "0    22.0     미성년자\n",
       "1    38.0       노년\n",
       "2    26.0       중년\n",
       "3    35.0       노년\n",
       "4    35.0       노년\n",
       "..    ...      ...\n",
       "886  27.0       중년\n",
       "887  19.0     미성년자\n",
       "888   NaN      NaN\n",
       "889  26.0       중년\n",
       "890  32.0       중년\n",
       "\n",
       "[891 rows x 2 columns]"
      ],
      "text/html": "<div>\n<style scoped>\n    .dataframe tbody tr th:only-of-type {\n        vertical-align: middle;\n    }\n\n    .dataframe tbody tr th {\n        vertical-align: top;\n    }\n\n    .dataframe thead th {\n        text-align: right;\n    }\n</style>\n<table border=\"1\" class=\"dataframe\">\n  <thead>\n    <tr style=\"text-align: right;\">\n      <th></th>\n      <th>age</th>\n      <th>age_cat1</th>\n    </tr>\n  </thead>\n  <tbody>\n    <tr>\n      <th>0</th>\n      <td>22.0</td>\n      <td>미성년자</td>\n    </tr>\n    <tr>\n      <th>1</th>\n      <td>38.0</td>\n      <td>노년</td>\n    </tr>\n    <tr>\n      <th>2</th>\n      <td>26.0</td>\n      <td>중년</td>\n    </tr>\n    <tr>\n      <th>3</th>\n      <td>35.0</td>\n      <td>노년</td>\n    </tr>\n    <tr>\n      <th>4</th>\n      <td>35.0</td>\n      <td>노년</td>\n    </tr>\n    <tr>\n      <th>...</th>\n      <td>...</td>\n      <td>...</td>\n    </tr>\n    <tr>\n      <th>886</th>\n      <td>27.0</td>\n      <td>중년</td>\n    </tr>\n    <tr>\n      <th>887</th>\n      <td>19.0</td>\n      <td>미성년자</td>\n    </tr>\n    <tr>\n      <th>888</th>\n      <td>NaN</td>\n      <td>NaN</td>\n    </tr>\n    <tr>\n      <th>889</th>\n      <td>26.0</td>\n      <td>중년</td>\n    </tr>\n    <tr>\n      <th>890</th>\n      <td>32.0</td>\n      <td>중년</td>\n    </tr>\n  </tbody>\n</table>\n<p>891 rows × 2 columns</p>\n</div>"
     },
     "metadata": {},
     "execution_count": 20
    }
   ],
   "source": [
    "ti1 = pd.DataFrame(titanic.age, columns=['age'])\n",
    "ti1['age_cat1'] = pd.qcut(ti1.age, 3, labels=labels)\n",
    "ti1"
   ]
  },
  {
   "cell_type": "code",
   "execution_count": 15,
   "metadata": {},
   "outputs": [
    {
     "output_type": "execute_result",
     "data": {
      "text/plain": [
       "     survived  pclass     sex   age  sibsp  parch   fare embarked   class  \\\n",
       "886         0       2    male  27.0      0      0  13.00        S  Second   \n",
       "887         1       1  female  19.0      0      0  30.00        S   First   \n",
       "888         0       3  female   NaN      1      2  23.45        S   Third   \n",
       "889         1       1    male  26.0      0      0  30.00        C   First   \n",
       "890         0       3    male  32.0      0      0   7.75        Q   Third   \n",
       "\n",
       "       who  adult_male deck  embark_town alive  alone age_cat age_group  \n",
       "886    man        True  NaN  Southampton    no   True      청년        A2  \n",
       "887  woman       False    B  Southampton   yes   True    미성년자        A1  \n",
       "888  woman       False  NaN  Southampton    no  False     NaN       NaN  \n",
       "889    man        True    C    Cherbourg   yes   True      청년        A2  \n",
       "890    man        True  NaN   Queenstown    no   True      중년        A2  "
      ],
      "text/html": "<div>\n<style scoped>\n    .dataframe tbody tr th:only-of-type {\n        vertical-align: middle;\n    }\n\n    .dataframe tbody tr th {\n        vertical-align: top;\n    }\n\n    .dataframe thead th {\n        text-align: right;\n    }\n</style>\n<table border=\"1\" class=\"dataframe\">\n  <thead>\n    <tr style=\"text-align: right;\">\n      <th></th>\n      <th>survived</th>\n      <th>pclass</th>\n      <th>sex</th>\n      <th>age</th>\n      <th>sibsp</th>\n      <th>parch</th>\n      <th>fare</th>\n      <th>embarked</th>\n      <th>class</th>\n      <th>who</th>\n      <th>adult_male</th>\n      <th>deck</th>\n      <th>embark_town</th>\n      <th>alive</th>\n      <th>alone</th>\n      <th>age_cat</th>\n      <th>age_group</th>\n    </tr>\n  </thead>\n  <tbody>\n    <tr>\n      <th>886</th>\n      <td>0</td>\n      <td>2</td>\n      <td>male</td>\n      <td>27.0</td>\n      <td>0</td>\n      <td>0</td>\n      <td>13.00</td>\n      <td>S</td>\n      <td>Second</td>\n      <td>man</td>\n      <td>True</td>\n      <td>NaN</td>\n      <td>Southampton</td>\n      <td>no</td>\n      <td>True</td>\n      <td>청년</td>\n      <td>A2</td>\n    </tr>\n    <tr>\n      <th>887</th>\n      <td>1</td>\n      <td>1</td>\n      <td>female</td>\n      <td>19.0</td>\n      <td>0</td>\n      <td>0</td>\n      <td>30.00</td>\n      <td>S</td>\n      <td>First</td>\n      <td>woman</td>\n      <td>False</td>\n      <td>B</td>\n      <td>Southampton</td>\n      <td>yes</td>\n      <td>True</td>\n      <td>미성년자</td>\n      <td>A1</td>\n    </tr>\n    <tr>\n      <th>888</th>\n      <td>0</td>\n      <td>3</td>\n      <td>female</td>\n      <td>NaN</td>\n      <td>1</td>\n      <td>2</td>\n      <td>23.45</td>\n      <td>S</td>\n      <td>Third</td>\n      <td>woman</td>\n      <td>False</td>\n      <td>NaN</td>\n      <td>Southampton</td>\n      <td>no</td>\n      <td>False</td>\n      <td>NaN</td>\n      <td>NaN</td>\n    </tr>\n    <tr>\n      <th>889</th>\n      <td>1</td>\n      <td>1</td>\n      <td>male</td>\n      <td>26.0</td>\n      <td>0</td>\n      <td>0</td>\n      <td>30.00</td>\n      <td>C</td>\n      <td>First</td>\n      <td>man</td>\n      <td>True</td>\n      <td>C</td>\n      <td>Cherbourg</td>\n      <td>yes</td>\n      <td>True</td>\n      <td>청년</td>\n      <td>A2</td>\n    </tr>\n    <tr>\n      <th>890</th>\n      <td>0</td>\n      <td>3</td>\n      <td>male</td>\n      <td>32.0</td>\n      <td>0</td>\n      <td>0</td>\n      <td>7.75</td>\n      <td>Q</td>\n      <td>Third</td>\n      <td>man</td>\n      <td>True</td>\n      <td>NaN</td>\n      <td>Queenstown</td>\n      <td>no</td>\n      <td>True</td>\n      <td>중년</td>\n      <td>A2</td>\n    </tr>\n  </tbody>\n</table>\n</div>"
     },
     "metadata": {},
     "execution_count": 15
    }
   ],
   "source": [
    "# 2-e 강사님/\n",
    "titanic['age_group'] = pd.qcut(titanic.age, 3, labels=[\"A1\", \"A2\", \"A3\"])\n",
    "titanic.tail() # tail: 하위 5줄 출력"
   ]
  },
  {
   "cell_type": "code",
   "execution_count": 37,
   "metadata": {},
   "outputs": [
    {
     "output_type": "execute_result",
     "data": {
      "text/plain": [
       "     survived  pclass     sex   age  sibsp  parch   fare embarked   class  \\\n",
       "886         0       2    male  27.0      0      0  13.00        S  Second   \n",
       "887         1       1  female  19.0      0      0  30.00        S   First   \n",
       "888         0       3  female   NaN      1      2  23.45        S   Third   \n",
       "889         1       1    male  26.0      0      0  30.00        C   First   \n",
       "890         0       3    male  32.0      0      0   7.75        Q   Third   \n",
       "\n",
       "       who  adult_male deck  embark_town alive  alone age_cat age_group  \\\n",
       "886    man        True  NaN  Southampton    no   True      청년        A2   \n",
       "887  woman       False    B  Southampton   yes   True    미성년자        A1   \n",
       "888  woman       False  NaN  Southampton    no  False     NaN       NaN   \n",
       "889    man        True    C    Cherbourg   yes   True      청년        A2   \n",
       "890    man        True  NaN   Queenstown    no   True      중년        A2   \n",
       "\n",
       "    age_cat1  \n",
       "886       중년  \n",
       "887     미성년자  \n",
       "888      NaN  \n",
       "889       중년  \n",
       "890       중년  "
      ],
      "text/html": "<div>\n<style scoped>\n    .dataframe tbody tr th:only-of-type {\n        vertical-align: middle;\n    }\n\n    .dataframe tbody tr th {\n        vertical-align: top;\n    }\n\n    .dataframe thead th {\n        text-align: right;\n    }\n</style>\n<table border=\"1\" class=\"dataframe\">\n  <thead>\n    <tr style=\"text-align: right;\">\n      <th></th>\n      <th>survived</th>\n      <th>pclass</th>\n      <th>sex</th>\n      <th>age</th>\n      <th>sibsp</th>\n      <th>parch</th>\n      <th>fare</th>\n      <th>embarked</th>\n      <th>class</th>\n      <th>who</th>\n      <th>adult_male</th>\n      <th>deck</th>\n      <th>embark_town</th>\n      <th>alive</th>\n      <th>alone</th>\n      <th>age_cat</th>\n      <th>age_group</th>\n      <th>age_cat1</th>\n    </tr>\n  </thead>\n  <tbody>\n    <tr>\n      <th>886</th>\n      <td>0</td>\n      <td>2</td>\n      <td>male</td>\n      <td>27.0</td>\n      <td>0</td>\n      <td>0</td>\n      <td>13.00</td>\n      <td>S</td>\n      <td>Second</td>\n      <td>man</td>\n      <td>True</td>\n      <td>NaN</td>\n      <td>Southampton</td>\n      <td>no</td>\n      <td>True</td>\n      <td>청년</td>\n      <td>A2</td>\n      <td>중년</td>\n    </tr>\n    <tr>\n      <th>887</th>\n      <td>1</td>\n      <td>1</td>\n      <td>female</td>\n      <td>19.0</td>\n      <td>0</td>\n      <td>0</td>\n      <td>30.00</td>\n      <td>S</td>\n      <td>First</td>\n      <td>woman</td>\n      <td>False</td>\n      <td>B</td>\n      <td>Southampton</td>\n      <td>yes</td>\n      <td>True</td>\n      <td>미성년자</td>\n      <td>A1</td>\n      <td>미성년자</td>\n    </tr>\n    <tr>\n      <th>888</th>\n      <td>0</td>\n      <td>3</td>\n      <td>female</td>\n      <td>NaN</td>\n      <td>1</td>\n      <td>2</td>\n      <td>23.45</td>\n      <td>S</td>\n      <td>Third</td>\n      <td>woman</td>\n      <td>False</td>\n      <td>NaN</td>\n      <td>Southampton</td>\n      <td>no</td>\n      <td>False</td>\n      <td>NaN</td>\n      <td>NaN</td>\n      <td>NaN</td>\n    </tr>\n    <tr>\n      <th>889</th>\n      <td>1</td>\n      <td>1</td>\n      <td>male</td>\n      <td>26.0</td>\n      <td>0</td>\n      <td>0</td>\n      <td>30.00</td>\n      <td>C</td>\n      <td>First</td>\n      <td>man</td>\n      <td>True</td>\n      <td>C</td>\n      <td>Cherbourg</td>\n      <td>yes</td>\n      <td>True</td>\n      <td>청년</td>\n      <td>A2</td>\n      <td>중년</td>\n    </tr>\n    <tr>\n      <th>890</th>\n      <td>0</td>\n      <td>3</td>\n      <td>male</td>\n      <td>32.0</td>\n      <td>0</td>\n      <td>0</td>\n      <td>7.75</td>\n      <td>Q</td>\n      <td>Third</td>\n      <td>man</td>\n      <td>True</td>\n      <td>NaN</td>\n      <td>Queenstown</td>\n      <td>no</td>\n      <td>True</td>\n      <td>중년</td>\n      <td>A2</td>\n      <td>중년</td>\n    </tr>\n  </tbody>\n</table>\n</div>"
     },
     "metadata": {},
     "execution_count": 37
    }
   ],
   "source": [
    "titanic['age_cat1'] = pd.DataFrame(titanic.age, columns=['age'])\n",
    "titanic['age_cat1'] = pd.qcut(titanic.age, 3, labels=labels)\n",
    "titanic.tail()"
   ]
  },
  {
   "cell_type": "code",
   "execution_count": 24,
   "metadata": {},
   "outputs": [
    {
     "output_type": "execute_result",
     "data": {
      "text/plain": [
       "           survived\n",
       "age_group          \n",
       "A1         0.418699\n",
       "A2         0.400862\n",
       "A3         0.398305"
      ],
      "text/html": "<div>\n<style scoped>\n    .dataframe tbody tr th:only-of-type {\n        vertical-align: middle;\n    }\n\n    .dataframe tbody tr th {\n        vertical-align: top;\n    }\n\n    .dataframe thead th {\n        text-align: right;\n    }\n</style>\n<table border=\"1\" class=\"dataframe\">\n  <thead>\n    <tr style=\"text-align: right;\">\n      <th></th>\n      <th>survived</th>\n    </tr>\n    <tr>\n      <th>age_group</th>\n      <th></th>\n    </tr>\n  </thead>\n  <tbody>\n    <tr>\n      <th>A1</th>\n      <td>0.418699</td>\n    </tr>\n    <tr>\n      <th>A2</th>\n      <td>0.400862</td>\n    </tr>\n    <tr>\n      <th>A3</th>\n      <td>0.398305</td>\n    </tr>\n  </tbody>\n</table>\n</div>"
     },
     "metadata": {},
     "execution_count": 24
    }
   ],
   "source": [
    "# 강사님\n",
    "titanic.pivot_table('survived', 'age_group')"
   ]
  },
  {
   "cell_type": "code",
   "execution_count": 23,
   "metadata": {},
   "outputs": [
    {
     "output_type": "execute_result",
     "data": {
      "text/plain": [
       "          survived\n",
       "age_cat1          \n",
       "미성년자      0.418699\n",
       "중년        0.400862\n",
       "노년        0.398305"
      ],
      "text/html": "<div>\n<style scoped>\n    .dataframe tbody tr th:only-of-type {\n        vertical-align: middle;\n    }\n\n    .dataframe tbody tr th {\n        vertical-align: top;\n    }\n\n    .dataframe thead th {\n        text-align: right;\n    }\n</style>\n<table border=\"1\" class=\"dataframe\">\n  <thead>\n    <tr style=\"text-align: right;\">\n      <th></th>\n      <th>survived</th>\n    </tr>\n    <tr>\n      <th>age_cat1</th>\n      <th></th>\n    </tr>\n  </thead>\n  <tbody>\n    <tr>\n      <th>미성년자</th>\n      <td>0.418699</td>\n    </tr>\n    <tr>\n      <th>중년</th>\n      <td>0.400862</td>\n    </tr>\n    <tr>\n      <th>노년</th>\n      <td>0.398305</td>\n    </tr>\n  </tbody>\n</table>\n</div>"
     },
     "metadata": {},
     "execution_count": 23
    }
   ],
   "source": [
    "titanic.groupby(['age_cat1',])[['survived']].mean()"
   ]
  },
  {
   "cell_type": "code",
   "execution_count": 47,
   "metadata": {},
   "outputs": [
    {
     "output_type": "execute_result",
     "data": {
      "text/plain": [
       "     survived  pclass     sex   age  sibsp  parch   fare embarked   class  \\\n",
       "886         0       2    male  27.0      0      0  13.00        S  Second   \n",
       "887         1       1  female  19.0      0      0  30.00        S   First   \n",
       "888         0       3  female   NaN      1      2  23.45        S   Third   \n",
       "889         1       1    male  26.0      0      0  30.00        C   First   \n",
       "890         0       3    male  32.0      0      0   7.75        Q   Third   \n",
       "\n",
       "       who  adult_male deck  embark_town alive  alone age_cat age_group  \\\n",
       "886    man        True  NaN  Southampton    no   True      청년        A2   \n",
       "887  woman       False    B  Southampton   yes   True    미성년자        A1   \n",
       "888  woman       False  NaN  Southampton    no  False     NaN       NaN   \n",
       "889    man        True    C    Cherbourg   yes   True      청년        A2   \n",
       "890    man        True  NaN   Queenstown    no   True      중년        A2   \n",
       "\n",
       "    age_cat1  gender  \n",
       "886       중년       1  \n",
       "887     미성년자       0  \n",
       "888      NaN       0  \n",
       "889       중년       1  \n",
       "890       중년       1  "
      ],
      "text/html": "<div>\n<style scoped>\n    .dataframe tbody tr th:only-of-type {\n        vertical-align: middle;\n    }\n\n    .dataframe tbody tr th {\n        vertical-align: top;\n    }\n\n    .dataframe thead th {\n        text-align: right;\n    }\n</style>\n<table border=\"1\" class=\"dataframe\">\n  <thead>\n    <tr style=\"text-align: right;\">\n      <th></th>\n      <th>survived</th>\n      <th>pclass</th>\n      <th>sex</th>\n      <th>age</th>\n      <th>sibsp</th>\n      <th>parch</th>\n      <th>fare</th>\n      <th>embarked</th>\n      <th>class</th>\n      <th>who</th>\n      <th>adult_male</th>\n      <th>deck</th>\n      <th>embark_town</th>\n      <th>alive</th>\n      <th>alone</th>\n      <th>age_cat</th>\n      <th>age_group</th>\n      <th>age_cat1</th>\n      <th>gender</th>\n    </tr>\n  </thead>\n  <tbody>\n    <tr>\n      <th>886</th>\n      <td>0</td>\n      <td>2</td>\n      <td>male</td>\n      <td>27.0</td>\n      <td>0</td>\n      <td>0</td>\n      <td>13.00</td>\n      <td>S</td>\n      <td>Second</td>\n      <td>man</td>\n      <td>True</td>\n      <td>NaN</td>\n      <td>Southampton</td>\n      <td>no</td>\n      <td>True</td>\n      <td>청년</td>\n      <td>A2</td>\n      <td>중년</td>\n      <td>1</td>\n    </tr>\n    <tr>\n      <th>887</th>\n      <td>1</td>\n      <td>1</td>\n      <td>female</td>\n      <td>19.0</td>\n      <td>0</td>\n      <td>0</td>\n      <td>30.00</td>\n      <td>S</td>\n      <td>First</td>\n      <td>woman</td>\n      <td>False</td>\n      <td>B</td>\n      <td>Southampton</td>\n      <td>yes</td>\n      <td>True</td>\n      <td>미성년자</td>\n      <td>A1</td>\n      <td>미성년자</td>\n      <td>0</td>\n    </tr>\n    <tr>\n      <th>888</th>\n      <td>0</td>\n      <td>3</td>\n      <td>female</td>\n      <td>NaN</td>\n      <td>1</td>\n      <td>2</td>\n      <td>23.45</td>\n      <td>S</td>\n      <td>Third</td>\n      <td>woman</td>\n      <td>False</td>\n      <td>NaN</td>\n      <td>Southampton</td>\n      <td>no</td>\n      <td>False</td>\n      <td>NaN</td>\n      <td>NaN</td>\n      <td>NaN</td>\n      <td>0</td>\n    </tr>\n    <tr>\n      <th>889</th>\n      <td>1</td>\n      <td>1</td>\n      <td>male</td>\n      <td>26.0</td>\n      <td>0</td>\n      <td>0</td>\n      <td>30.00</td>\n      <td>C</td>\n      <td>First</td>\n      <td>man</td>\n      <td>True</td>\n      <td>C</td>\n      <td>Cherbourg</td>\n      <td>yes</td>\n      <td>True</td>\n      <td>청년</td>\n      <td>A2</td>\n      <td>중년</td>\n      <td>1</td>\n    </tr>\n    <tr>\n      <th>890</th>\n      <td>0</td>\n      <td>3</td>\n      <td>male</td>\n      <td>32.0</td>\n      <td>0</td>\n      <td>0</td>\n      <td>7.75</td>\n      <td>Q</td>\n      <td>Third</td>\n      <td>man</td>\n      <td>True</td>\n      <td>NaN</td>\n      <td>Queenstown</td>\n      <td>no</td>\n      <td>True</td>\n      <td>중년</td>\n      <td>A2</td>\n      <td>중년</td>\n      <td>1</td>\n    </tr>\n  </tbody>\n</table>\n</div>"
     },
     "metadata": {},
     "execution_count": 47
    }
   ],
   "source": [
    "# 강사님\n",
    "# gender: 남성이면 1, 여성이면 0\n",
    "titanic['gender'] = titanic.apply(lambda r: 1 if r.sex == 'male' else 0, axis=1)\n",
    "titanic.tail()"
   ]
  },
  {
   "cell_type": "code",
   "execution_count": 48,
   "metadata": {},
   "outputs": [
    {
     "output_type": "execute_result",
     "data": {
      "text/plain": [
       "             gender\n",
       "age_group          \n",
       "A1         0.589431\n",
       "A2         0.659483\n",
       "A3         0.656780"
      ],
      "text/html": "<div>\n<style scoped>\n    .dataframe tbody tr th:only-of-type {\n        vertical-align: middle;\n    }\n\n    .dataframe tbody tr th {\n        vertical-align: top;\n    }\n\n    .dataframe thead th {\n        text-align: right;\n    }\n</style>\n<table border=\"1\" class=\"dataframe\">\n  <thead>\n    <tr style=\"text-align: right;\">\n      <th></th>\n      <th>gender</th>\n    </tr>\n    <tr>\n      <th>age_group</th>\n      <th></th>\n    </tr>\n  </thead>\n  <tbody>\n    <tr>\n      <th>A1</th>\n      <td>0.589431</td>\n    </tr>\n    <tr>\n      <th>A2</th>\n      <td>0.659483</td>\n    </tr>\n    <tr>\n      <th>A3</th>\n      <td>0.656780</td>\n    </tr>\n  </tbody>\n</table>\n</div>"
     },
     "metadata": {},
     "execution_count": 48
    }
   ],
   "source": [
    "# 강사님\n",
    "titanic.pivot_table('gender', 'age_group')"
   ]
  },
  {
   "cell_type": "code",
   "execution_count": 58,
   "metadata": {},
   "outputs": [
    {
     "output_type": "execute_result",
     "data": {
      "text/plain": [
       "             gender  survived\n",
       "age_group                    \n",
       "A1         0.589431  0.418699\n",
       "A2         0.659483  0.400862\n",
       "A3         0.656780  0.398305"
      ],
      "text/html": "<div>\n<style scoped>\n    .dataframe tbody tr th:only-of-type {\n        vertical-align: middle;\n    }\n\n    .dataframe tbody tr th {\n        vertical-align: top;\n    }\n\n    .dataframe thead th {\n        text-align: right;\n    }\n</style>\n<table border=\"1\" class=\"dataframe\">\n  <thead>\n    <tr style=\"text-align: right;\">\n      <th></th>\n      <th>gender</th>\n      <th>survived</th>\n    </tr>\n    <tr>\n      <th>age_group</th>\n      <th></th>\n      <th></th>\n    </tr>\n  </thead>\n  <tbody>\n    <tr>\n      <th>A1</th>\n      <td>0.589431</td>\n      <td>0.418699</td>\n    </tr>\n    <tr>\n      <th>A2</th>\n      <td>0.659483</td>\n      <td>0.400862</td>\n    </tr>\n    <tr>\n      <th>A3</th>\n      <td>0.656780</td>\n      <td>0.398305</td>\n    </tr>\n  </tbody>\n</table>\n</div>"
     },
     "metadata": {},
     "execution_count": 58
    }
   ],
   "source": [
    "# 강사님\n",
    "titanic.pivot_table(['survived','gender'], 'age_group')"
   ]
  },
  {
   "cell_type": "code",
   "execution_count": 59,
   "metadata": {},
   "outputs": [
    {
     "output_type": "execute_result",
     "data": {
      "text/plain": [
       "           survived    gender\n",
       "age_group                    \n",
       "A1         0.418699  0.589431\n",
       "A2         0.400862  0.659483\n",
       "A3         0.398305  0.656780"
      ],
      "text/html": "<div>\n<style scoped>\n    .dataframe tbody tr th:only-of-type {\n        vertical-align: middle;\n    }\n\n    .dataframe tbody tr th {\n        vertical-align: top;\n    }\n\n    .dataframe thead th {\n        text-align: right;\n    }\n</style>\n<table border=\"1\" class=\"dataframe\">\n  <thead>\n    <tr style=\"text-align: right;\">\n      <th></th>\n      <th>survived</th>\n      <th>gender</th>\n    </tr>\n    <tr>\n      <th>age_group</th>\n      <th></th>\n      <th></th>\n    </tr>\n  </thead>\n  <tbody>\n    <tr>\n      <th>A1</th>\n      <td>0.418699</td>\n      <td>0.589431</td>\n    </tr>\n    <tr>\n      <th>A2</th>\n      <td>0.400862</td>\n      <td>0.659483</td>\n    </tr>\n    <tr>\n      <th>A3</th>\n      <td>0.398305</td>\n      <td>0.656780</td>\n    </tr>\n  </tbody>\n</table>\n</div>"
     },
     "metadata": {},
     "execution_count": 59
    }
   ],
   "source": [
    "# 강사님\n",
    "titanic[['age_group','survived','gender']].groupby(['age_group']).mean()"
   ]
  },
  {
   "cell_type": "code",
   "execution_count": 64,
   "metadata": {},
   "outputs": [
    {
     "output_type": "execute_result",
     "data": {
      "text/plain": [
       "                 survived\n",
       "age_cat1 sex             \n",
       "미성년자     female  0.702970\n",
       "         male    0.220690\n",
       "중년       female  0.772152\n",
       "         male    0.209150\n",
       "노년       female  0.802469\n",
       "         male    0.187097"
      ],
      "text/html": "<div>\n<style scoped>\n    .dataframe tbody tr th:only-of-type {\n        vertical-align: middle;\n    }\n\n    .dataframe tbody tr th {\n        vertical-align: top;\n    }\n\n    .dataframe thead th {\n        text-align: right;\n    }\n</style>\n<table border=\"1\" class=\"dataframe\">\n  <thead>\n    <tr style=\"text-align: right;\">\n      <th></th>\n      <th></th>\n      <th>survived</th>\n    </tr>\n    <tr>\n      <th>age_cat1</th>\n      <th>sex</th>\n      <th></th>\n    </tr>\n  </thead>\n  <tbody>\n    <tr>\n      <th rowspan=\"2\" valign=\"top\">미성년자</th>\n      <th>female</th>\n      <td>0.702970</td>\n    </tr>\n    <tr>\n      <th>male</th>\n      <td>0.220690</td>\n    </tr>\n    <tr>\n      <th rowspan=\"2\" valign=\"top\">중년</th>\n      <th>female</th>\n      <td>0.772152</td>\n    </tr>\n    <tr>\n      <th>male</th>\n      <td>0.209150</td>\n    </tr>\n    <tr>\n      <th rowspan=\"2\" valign=\"top\">노년</th>\n      <th>female</th>\n      <td>0.802469</td>\n    </tr>\n    <tr>\n      <th>male</th>\n      <td>0.187097</td>\n    </tr>\n  </tbody>\n</table>\n</div>"
     },
     "metadata": {},
     "execution_count": 64
    }
   ],
   "source": [
    "#2-e\n",
    "titanic.groupby(['age_cat1','sex'])[['sex','survived']].mean()"
   ]
  },
  {
   "cell_type": "code",
   "execution_count": 10,
   "metadata": {},
   "outputs": [
    {
     "output_type": "execute_result",
     "data": {
      "text/plain": [
       "    mpg  cylinders  displacement  horsepower  weight  acceleration  \\\n",
       "0  18.0          8         307.0       130.0    3504          12.0   \n",
       "1  15.0          8         350.0       165.0    3693          11.5   \n",
       "2  18.0          8         318.0       150.0    3436          11.0   \n",
       "3  16.0          8         304.0       150.0    3433          12.0   \n",
       "4  17.0          8         302.0       140.0    3449          10.5   \n",
       "\n",
       "   model_year origin                       name  \n",
       "0          70    usa  chevrolet chevelle malibu  \n",
       "1          70    usa          buick skylark 320  \n",
       "2          70    usa         plymouth satellite  \n",
       "3          70    usa              amc rebel sst  \n",
       "4          70    usa                ford torino  "
      ],
      "text/html": "<div>\n<style scoped>\n    .dataframe tbody tr th:only-of-type {\n        vertical-align: middle;\n    }\n\n    .dataframe tbody tr th {\n        vertical-align: top;\n    }\n\n    .dataframe thead th {\n        text-align: right;\n    }\n</style>\n<table border=\"1\" class=\"dataframe\">\n  <thead>\n    <tr style=\"text-align: right;\">\n      <th></th>\n      <th>mpg</th>\n      <th>cylinders</th>\n      <th>displacement</th>\n      <th>horsepower</th>\n      <th>weight</th>\n      <th>acceleration</th>\n      <th>model_year</th>\n      <th>origin</th>\n      <th>name</th>\n    </tr>\n  </thead>\n  <tbody>\n    <tr>\n      <th>0</th>\n      <td>18.0</td>\n      <td>8</td>\n      <td>307.0</td>\n      <td>130.0</td>\n      <td>3504</td>\n      <td>12.0</td>\n      <td>70</td>\n      <td>usa</td>\n      <td>chevrolet chevelle malibu</td>\n    </tr>\n    <tr>\n      <th>1</th>\n      <td>15.0</td>\n      <td>8</td>\n      <td>350.0</td>\n      <td>165.0</td>\n      <td>3693</td>\n      <td>11.5</td>\n      <td>70</td>\n      <td>usa</td>\n      <td>buick skylark 320</td>\n    </tr>\n    <tr>\n      <th>2</th>\n      <td>18.0</td>\n      <td>8</td>\n      <td>318.0</td>\n      <td>150.0</td>\n      <td>3436</td>\n      <td>11.0</td>\n      <td>70</td>\n      <td>usa</td>\n      <td>plymouth satellite</td>\n    </tr>\n    <tr>\n      <th>3</th>\n      <td>16.0</td>\n      <td>8</td>\n      <td>304.0</td>\n      <td>150.0</td>\n      <td>3433</td>\n      <td>12.0</td>\n      <td>70</td>\n      <td>usa</td>\n      <td>amc rebel sst</td>\n    </tr>\n    <tr>\n      <th>4</th>\n      <td>17.0</td>\n      <td>8</td>\n      <td>302.0</td>\n      <td>140.0</td>\n      <td>3449</td>\n      <td>10.5</td>\n      <td>70</td>\n      <td>usa</td>\n      <td>ford torino</td>\n    </tr>\n  </tbody>\n</table>\n</div>"
     },
     "metadata": {},
     "execution_count": 10
    }
   ],
   "source": [
    "#3번 \n",
    "import seaborn as sns\n",
    "mpg = sns.load_dataset(\"mpg\")\n",
    "mpg.head()"
   ]
  },
  {
   "cell_type": "code",
   "execution_count": 67,
   "metadata": {},
   "outputs": [
    {
     "output_type": "execute_result",
     "data": {
      "text/plain": [
       "              mpg   cylinders  displacement  horsepower       weight  \\\n",
       "count  398.000000  398.000000    398.000000  392.000000   398.000000   \n",
       "mean    23.514573    5.454774    193.425879  104.469388  2970.424623   \n",
       "std      7.815984    1.701004    104.269838   38.491160   846.841774   \n",
       "min      9.000000    3.000000     68.000000   46.000000  1613.000000   \n",
       "25%     17.500000    4.000000    104.250000   75.000000  2223.750000   \n",
       "50%     23.000000    4.000000    148.500000   93.500000  2803.500000   \n",
       "75%     29.000000    8.000000    262.000000  126.000000  3608.000000   \n",
       "max     46.600000    8.000000    455.000000  230.000000  5140.000000   \n",
       "\n",
       "       acceleration  model_year  \n",
       "count    398.000000  398.000000  \n",
       "mean      15.568090   76.010050  \n",
       "std        2.757689    3.697627  \n",
       "min        8.000000   70.000000  \n",
       "25%       13.825000   73.000000  \n",
       "50%       15.500000   76.000000  \n",
       "75%       17.175000   79.000000  \n",
       "max       24.800000   82.000000  "
      ],
      "text/html": "<div>\n<style scoped>\n    .dataframe tbody tr th:only-of-type {\n        vertical-align: middle;\n    }\n\n    .dataframe tbody tr th {\n        vertical-align: top;\n    }\n\n    .dataframe thead th {\n        text-align: right;\n    }\n</style>\n<table border=\"1\" class=\"dataframe\">\n  <thead>\n    <tr style=\"text-align: right;\">\n      <th></th>\n      <th>mpg</th>\n      <th>cylinders</th>\n      <th>displacement</th>\n      <th>horsepower</th>\n      <th>weight</th>\n      <th>acceleration</th>\n      <th>model_year</th>\n    </tr>\n  </thead>\n  <tbody>\n    <tr>\n      <th>count</th>\n      <td>398.000000</td>\n      <td>398.000000</td>\n      <td>398.000000</td>\n      <td>392.000000</td>\n      <td>398.000000</td>\n      <td>398.000000</td>\n      <td>398.000000</td>\n    </tr>\n    <tr>\n      <th>mean</th>\n      <td>23.514573</td>\n      <td>5.454774</td>\n      <td>193.425879</td>\n      <td>104.469388</td>\n      <td>2970.424623</td>\n      <td>15.568090</td>\n      <td>76.010050</td>\n    </tr>\n    <tr>\n      <th>std</th>\n      <td>7.815984</td>\n      <td>1.701004</td>\n      <td>104.269838</td>\n      <td>38.491160</td>\n      <td>846.841774</td>\n      <td>2.757689</td>\n      <td>3.697627</td>\n    </tr>\n    <tr>\n      <th>min</th>\n      <td>9.000000</td>\n      <td>3.000000</td>\n      <td>68.000000</td>\n      <td>46.000000</td>\n      <td>1613.000000</td>\n      <td>8.000000</td>\n      <td>70.000000</td>\n    </tr>\n    <tr>\n      <th>25%</th>\n      <td>17.500000</td>\n      <td>4.000000</td>\n      <td>104.250000</td>\n      <td>75.000000</td>\n      <td>2223.750000</td>\n      <td>13.825000</td>\n      <td>73.000000</td>\n    </tr>\n    <tr>\n      <th>50%</th>\n      <td>23.000000</td>\n      <td>4.000000</td>\n      <td>148.500000</td>\n      <td>93.500000</td>\n      <td>2803.500000</td>\n      <td>15.500000</td>\n      <td>76.000000</td>\n    </tr>\n    <tr>\n      <th>75%</th>\n      <td>29.000000</td>\n      <td>8.000000</td>\n      <td>262.000000</td>\n      <td>126.000000</td>\n      <td>3608.000000</td>\n      <td>17.175000</td>\n      <td>79.000000</td>\n    </tr>\n    <tr>\n      <th>max</th>\n      <td>46.600000</td>\n      <td>8.000000</td>\n      <td>455.000000</td>\n      <td>230.000000</td>\n      <td>5140.000000</td>\n      <td>24.800000</td>\n      <td>82.000000</td>\n    </tr>\n  </tbody>\n</table>\n</div>"
     },
     "metadata": {},
     "execution_count": 67
    }
   ],
   "source": [
    "mpg.describe()"
   ]
  },
  {
   "cell_type": "code",
   "execution_count": 12,
   "metadata": {},
   "outputs": [
    {
     "output_type": "execute_result",
     "data": {
      "text/plain": [
       "    mpg  cylinders  displacement  horsepower  weight  acceleration  \\\n",
       "0  18.0          8         307.0       130.0    3504          12.0   \n",
       "1  15.0          8         350.0       165.0    3693          11.5   \n",
       "2  18.0          8         318.0       150.0    3436          11.0   \n",
       "3  16.0          8         304.0       150.0    3433          12.0   \n",
       "4  17.0          8         302.0       140.0    3449          10.5   \n",
       "\n",
       "   model_year origin                       name  hp_per_cc  \n",
       "0          70    usa  chevrolet chevelle malibu   0.423453  \n",
       "1          70    usa          buick skylark 320   0.471429  \n",
       "2          70    usa         plymouth satellite   0.471698  \n",
       "3          70    usa              amc rebel sst   0.493421  \n",
       "4          70    usa                ford torino   0.463576  "
      ],
      "text/html": "<div>\n<style scoped>\n    .dataframe tbody tr th:only-of-type {\n        vertical-align: middle;\n    }\n\n    .dataframe tbody tr th {\n        vertical-align: top;\n    }\n\n    .dataframe thead th {\n        text-align: right;\n    }\n</style>\n<table border=\"1\" class=\"dataframe\">\n  <thead>\n    <tr style=\"text-align: right;\">\n      <th></th>\n      <th>mpg</th>\n      <th>cylinders</th>\n      <th>displacement</th>\n      <th>horsepower</th>\n      <th>weight</th>\n      <th>acceleration</th>\n      <th>model_year</th>\n      <th>origin</th>\n      <th>name</th>\n      <th>hp_per_cc</th>\n    </tr>\n  </thead>\n  <tbody>\n    <tr>\n      <th>0</th>\n      <td>18.0</td>\n      <td>8</td>\n      <td>307.0</td>\n      <td>130.0</td>\n      <td>3504</td>\n      <td>12.0</td>\n      <td>70</td>\n      <td>usa</td>\n      <td>chevrolet chevelle malibu</td>\n      <td>0.423453</td>\n    </tr>\n    <tr>\n      <th>1</th>\n      <td>15.0</td>\n      <td>8</td>\n      <td>350.0</td>\n      <td>165.0</td>\n      <td>3693</td>\n      <td>11.5</td>\n      <td>70</td>\n      <td>usa</td>\n      <td>buick skylark 320</td>\n      <td>0.471429</td>\n    </tr>\n    <tr>\n      <th>2</th>\n      <td>18.0</td>\n      <td>8</td>\n      <td>318.0</td>\n      <td>150.0</td>\n      <td>3436</td>\n      <td>11.0</td>\n      <td>70</td>\n      <td>usa</td>\n      <td>plymouth satellite</td>\n      <td>0.471698</td>\n    </tr>\n    <tr>\n      <th>3</th>\n      <td>16.0</td>\n      <td>8</td>\n      <td>304.0</td>\n      <td>150.0</td>\n      <td>3433</td>\n      <td>12.0</td>\n      <td>70</td>\n      <td>usa</td>\n      <td>amc rebel sst</td>\n      <td>0.493421</td>\n    </tr>\n    <tr>\n      <th>4</th>\n      <td>17.0</td>\n      <td>8</td>\n      <td>302.0</td>\n      <td>140.0</td>\n      <td>3449</td>\n      <td>10.5</td>\n      <td>70</td>\n      <td>usa</td>\n      <td>ford torino</td>\n      <td>0.463576</td>\n    </tr>\n  </tbody>\n</table>\n</div>"
     },
     "metadata": {},
     "execution_count": 12
    }
   ],
   "source": [
    "#3-a 배기량(displacement) 대비 마력(horsepower) 열(hp_per_cc)을 추가하시오.\n",
    "mpg['hp_per_cc'] =  mpg.horsepower / mpg.displacement\n",
    "mpg.head()"
   ]
  },
  {
   "cell_type": "code",
   "execution_count": 13,
   "metadata": {},
   "outputs": [
    {
     "output_type": "execute_result",
     "data": {
      "text/plain": [
       "      mpg  cylinders  displacement  horsepower  weight  acceleration  \\\n",
       "0    18.0          8         307.0       130.0    3504          12.0   \n",
       "1    15.0          8         350.0       165.0    3693          11.5   \n",
       "2    18.0          8         318.0       150.0    3436          11.0   \n",
       "3    16.0          8         304.0       150.0    3433          12.0   \n",
       "4    17.0          8         302.0       140.0    3449          10.5   \n",
       "..    ...        ...           ...         ...     ...           ...   \n",
       "393  27.0          4         140.0        86.0    2790          15.6   \n",
       "394  44.0          4          97.0        52.0    2130          24.6   \n",
       "395  32.0          4         135.0        84.0    2295          11.6   \n",
       "396  28.0          4         120.0        79.0    2625          18.6   \n",
       "397  31.0          4         119.0        82.0    2720          19.4   \n",
       "\n",
       "     model_year  origin                       name  hp_per_cc  \n",
       "0            70     usa  chevrolet chevelle malibu   0.423453  \n",
       "1            70     usa          buick skylark 320   0.471429  \n",
       "2            70     usa         plymouth satellite   0.471698  \n",
       "3            70     usa              amc rebel sst   0.493421  \n",
       "4            70     usa                ford torino   0.463576  \n",
       "..          ...     ...                        ...        ...  \n",
       "393          82     usa            ford mustang gl   0.614286  \n",
       "394          82  europe                  vw pickup   0.536082  \n",
       "395          82     usa              dodge rampage   0.622222  \n",
       "396          82     usa                ford ranger   0.658333  \n",
       "397          82     usa                 chevy s-10   0.689076  \n",
       "\n",
       "[398 rows x 10 columns]"
      ],
      "text/html": "<div>\n<style scoped>\n    .dataframe tbody tr th:only-of-type {\n        vertical-align: middle;\n    }\n\n    .dataframe tbody tr th {\n        vertical-align: top;\n    }\n\n    .dataframe thead th {\n        text-align: right;\n    }\n</style>\n<table border=\"1\" class=\"dataframe\">\n  <thead>\n    <tr style=\"text-align: right;\">\n      <th></th>\n      <th>mpg</th>\n      <th>cylinders</th>\n      <th>displacement</th>\n      <th>horsepower</th>\n      <th>weight</th>\n      <th>acceleration</th>\n      <th>model_year</th>\n      <th>origin</th>\n      <th>name</th>\n      <th>hp_per_cc</th>\n    </tr>\n  </thead>\n  <tbody>\n    <tr>\n      <th>0</th>\n      <td>18.0</td>\n      <td>8</td>\n      <td>307.0</td>\n      <td>130.0</td>\n      <td>3504</td>\n      <td>12.0</td>\n      <td>70</td>\n      <td>usa</td>\n      <td>chevrolet chevelle malibu</td>\n      <td>0.423453</td>\n    </tr>\n    <tr>\n      <th>1</th>\n      <td>15.0</td>\n      <td>8</td>\n      <td>350.0</td>\n      <td>165.0</td>\n      <td>3693</td>\n      <td>11.5</td>\n      <td>70</td>\n      <td>usa</td>\n      <td>buick skylark 320</td>\n      <td>0.471429</td>\n    </tr>\n    <tr>\n      <th>2</th>\n      <td>18.0</td>\n      <td>8</td>\n      <td>318.0</td>\n      <td>150.0</td>\n      <td>3436</td>\n      <td>11.0</td>\n      <td>70</td>\n      <td>usa</td>\n      <td>plymouth satellite</td>\n      <td>0.471698</td>\n    </tr>\n    <tr>\n      <th>3</th>\n      <td>16.0</td>\n      <td>8</td>\n      <td>304.0</td>\n      <td>150.0</td>\n      <td>3433</td>\n      <td>12.0</td>\n      <td>70</td>\n      <td>usa</td>\n      <td>amc rebel sst</td>\n      <td>0.493421</td>\n    </tr>\n    <tr>\n      <th>4</th>\n      <td>17.0</td>\n      <td>8</td>\n      <td>302.0</td>\n      <td>140.0</td>\n      <td>3449</td>\n      <td>10.5</td>\n      <td>70</td>\n      <td>usa</td>\n      <td>ford torino</td>\n      <td>0.463576</td>\n    </tr>\n    <tr>\n      <th>...</th>\n      <td>...</td>\n      <td>...</td>\n      <td>...</td>\n      <td>...</td>\n      <td>...</td>\n      <td>...</td>\n      <td>...</td>\n      <td>...</td>\n      <td>...</td>\n      <td>...</td>\n    </tr>\n    <tr>\n      <th>393</th>\n      <td>27.0</td>\n      <td>4</td>\n      <td>140.0</td>\n      <td>86.0</td>\n      <td>2790</td>\n      <td>15.6</td>\n      <td>82</td>\n      <td>usa</td>\n      <td>ford mustang gl</td>\n      <td>0.614286</td>\n    </tr>\n    <tr>\n      <th>394</th>\n      <td>44.0</td>\n      <td>4</td>\n      <td>97.0</td>\n      <td>52.0</td>\n      <td>2130</td>\n      <td>24.6</td>\n      <td>82</td>\n      <td>europe</td>\n      <td>vw pickup</td>\n      <td>0.536082</td>\n    </tr>\n    <tr>\n      <th>395</th>\n      <td>32.0</td>\n      <td>4</td>\n      <td>135.0</td>\n      <td>84.0</td>\n      <td>2295</td>\n      <td>11.6</td>\n      <td>82</td>\n      <td>usa</td>\n      <td>dodge rampage</td>\n      <td>0.622222</td>\n    </tr>\n    <tr>\n      <th>396</th>\n      <td>28.0</td>\n      <td>4</td>\n      <td>120.0</td>\n      <td>79.0</td>\n      <td>2625</td>\n      <td>18.6</td>\n      <td>82</td>\n      <td>usa</td>\n      <td>ford ranger</td>\n      <td>0.658333</td>\n    </tr>\n    <tr>\n      <th>397</th>\n      <td>31.0</td>\n      <td>4</td>\n      <td>119.0</td>\n      <td>82.0</td>\n      <td>2720</td>\n      <td>19.4</td>\n      <td>82</td>\n      <td>usa</td>\n      <td>chevy s-10</td>\n      <td>0.689076</td>\n    </tr>\n  </tbody>\n</table>\n<p>398 rows × 10 columns</p>\n</div>"
     },
     "metadata": {},
     "execution_count": 13
    }
   ],
   "source": [
    "mpg"
   ]
  },
  {
   "cell_type": "code",
   "execution_count": 14,
   "metadata": {},
   "outputs": [
    {
     "output_type": "execute_result",
     "data": {
      "text/plain": [
       "      mpg  cylinders  displacement  horsepower  weight  acceleration  \\\n",
       "0    18.0          8         307.0       130.0    3504          12.0   \n",
       "1    15.0          8         350.0       165.0    3693          11.5   \n",
       "2    18.0          8         318.0       150.0    3436          11.0   \n",
       "3    16.0          8         304.0       150.0    3433          12.0   \n",
       "4    17.0          8         302.0       140.0    3449          10.5   \n",
       "..    ...        ...           ...         ...     ...           ...   \n",
       "393  27.0          4         140.0        86.0    2790          15.6   \n",
       "394  44.0          4          97.0        52.0    2130          24.6   \n",
       "395  32.0          4         135.0        84.0    2295          11.6   \n",
       "396  28.0          4         120.0        79.0    2625          18.6   \n",
       "397  31.0          4         119.0        82.0    2720          19.4   \n",
       "\n",
       "     model_year  origin                       name  hp_per_cc manufacturer  \\\n",
       "0            70     usa  chevrolet chevelle malibu   0.423453    chevrolet   \n",
       "1            70     usa          buick skylark 320   0.471429        buick   \n",
       "2            70     usa         plymouth satellite   0.471698     plymouth   \n",
       "3            70     usa              amc rebel sst   0.493421          amc   \n",
       "4            70     usa                ford torino   0.463576         ford   \n",
       "..          ...     ...                        ...        ...          ...   \n",
       "393          82     usa            ford mustang gl   0.614286         ford   \n",
       "394          82  europe                  vw pickup   0.536082           vw   \n",
       "395          82     usa              dodge rampage   0.622222        dodge   \n",
       "396          82     usa                ford ranger   0.658333         ford   \n",
       "397          82     usa                 chevy s-10   0.689076        chevy   \n",
       "\n",
       "              model  \n",
       "0    chevellemalibu  \n",
       "1        skylark320  \n",
       "2                    \n",
       "3          rebelsst  \n",
       "4                    \n",
       "..              ...  \n",
       "393       mustanggl  \n",
       "394                  \n",
       "395                  \n",
       "396                  \n",
       "397                  \n",
       "\n",
       "[398 rows x 12 columns]"
      ],
      "text/html": "<div>\n<style scoped>\n    .dataframe tbody tr th:only-of-type {\n        vertical-align: middle;\n    }\n\n    .dataframe tbody tr th {\n        vertical-align: top;\n    }\n\n    .dataframe thead th {\n        text-align: right;\n    }\n</style>\n<table border=\"1\" class=\"dataframe\">\n  <thead>\n    <tr style=\"text-align: right;\">\n      <th></th>\n      <th>mpg</th>\n      <th>cylinders</th>\n      <th>displacement</th>\n      <th>horsepower</th>\n      <th>weight</th>\n      <th>acceleration</th>\n      <th>model_year</th>\n      <th>origin</th>\n      <th>name</th>\n      <th>hp_per_cc</th>\n      <th>manufacturer</th>\n      <th>model</th>\n    </tr>\n  </thead>\n  <tbody>\n    <tr>\n      <th>0</th>\n      <td>18.0</td>\n      <td>8</td>\n      <td>307.0</td>\n      <td>130.0</td>\n      <td>3504</td>\n      <td>12.0</td>\n      <td>70</td>\n      <td>usa</td>\n      <td>chevrolet chevelle malibu</td>\n      <td>0.423453</td>\n      <td>chevrolet</td>\n      <td>chevellemalibu</td>\n    </tr>\n    <tr>\n      <th>1</th>\n      <td>15.0</td>\n      <td>8</td>\n      <td>350.0</td>\n      <td>165.0</td>\n      <td>3693</td>\n      <td>11.5</td>\n      <td>70</td>\n      <td>usa</td>\n      <td>buick skylark 320</td>\n      <td>0.471429</td>\n      <td>buick</td>\n      <td>skylark320</td>\n    </tr>\n    <tr>\n      <th>2</th>\n      <td>18.0</td>\n      <td>8</td>\n      <td>318.0</td>\n      <td>150.0</td>\n      <td>3436</td>\n      <td>11.0</td>\n      <td>70</td>\n      <td>usa</td>\n      <td>plymouth satellite</td>\n      <td>0.471698</td>\n      <td>plymouth</td>\n      <td></td>\n    </tr>\n    <tr>\n      <th>3</th>\n      <td>16.0</td>\n      <td>8</td>\n      <td>304.0</td>\n      <td>150.0</td>\n      <td>3433</td>\n      <td>12.0</td>\n      <td>70</td>\n      <td>usa</td>\n      <td>amc rebel sst</td>\n      <td>0.493421</td>\n      <td>amc</td>\n      <td>rebelsst</td>\n    </tr>\n    <tr>\n      <th>4</th>\n      <td>17.0</td>\n      <td>8</td>\n      <td>302.0</td>\n      <td>140.0</td>\n      <td>3449</td>\n      <td>10.5</td>\n      <td>70</td>\n      <td>usa</td>\n      <td>ford torino</td>\n      <td>0.463576</td>\n      <td>ford</td>\n      <td></td>\n    </tr>\n    <tr>\n      <th>...</th>\n      <td>...</td>\n      <td>...</td>\n      <td>...</td>\n      <td>...</td>\n      <td>...</td>\n      <td>...</td>\n      <td>...</td>\n      <td>...</td>\n      <td>...</td>\n      <td>...</td>\n      <td>...</td>\n      <td>...</td>\n    </tr>\n    <tr>\n      <th>393</th>\n      <td>27.0</td>\n      <td>4</td>\n      <td>140.0</td>\n      <td>86.0</td>\n      <td>2790</td>\n      <td>15.6</td>\n      <td>82</td>\n      <td>usa</td>\n      <td>ford mustang gl</td>\n      <td>0.614286</td>\n      <td>ford</td>\n      <td>mustanggl</td>\n    </tr>\n    <tr>\n      <th>394</th>\n      <td>44.0</td>\n      <td>4</td>\n      <td>97.0</td>\n      <td>52.0</td>\n      <td>2130</td>\n      <td>24.6</td>\n      <td>82</td>\n      <td>europe</td>\n      <td>vw pickup</td>\n      <td>0.536082</td>\n      <td>vw</td>\n      <td></td>\n    </tr>\n    <tr>\n      <th>395</th>\n      <td>32.0</td>\n      <td>4</td>\n      <td>135.0</td>\n      <td>84.0</td>\n      <td>2295</td>\n      <td>11.6</td>\n      <td>82</td>\n      <td>usa</td>\n      <td>dodge rampage</td>\n      <td>0.622222</td>\n      <td>dodge</td>\n      <td></td>\n    </tr>\n    <tr>\n      <th>396</th>\n      <td>28.0</td>\n      <td>4</td>\n      <td>120.0</td>\n      <td>79.0</td>\n      <td>2625</td>\n      <td>18.6</td>\n      <td>82</td>\n      <td>usa</td>\n      <td>ford ranger</td>\n      <td>0.658333</td>\n      <td>ford</td>\n      <td></td>\n    </tr>\n    <tr>\n      <th>397</th>\n      <td>31.0</td>\n      <td>4</td>\n      <td>119.0</td>\n      <td>82.0</td>\n      <td>2720</td>\n      <td>19.4</td>\n      <td>82</td>\n      <td>usa</td>\n      <td>chevy s-10</td>\n      <td>0.689076</td>\n      <td>chevy</td>\n      <td></td>\n    </tr>\n  </tbody>\n</table>\n<p>398 rows × 12 columns</p>\n</div>"
     },
     "metadata": {},
     "execution_count": 14
    }
   ],
   "source": [
    "# 3-b  name으로부터 manufacturer(제조사)와 모델을 추출하여 새로운 열 manufacturer와 model을 추가하고, name 열은 삭제하시오\n",
    "a = mpg['name'].str.split(' ')\n",
    "manufacturer = a.str[0]\n",
    "modela = a.str[1]\n",
    "modelb = a.str[2]\n",
    "model = modela+modelb\n",
    "\n",
    "mpg['manufacturer'] = manufacturer\n",
    "mpg['model'] = model.fillna('')\n",
    "mpg"
   ]
  },
  {
   "cell_type": "code",
   "execution_count": 71,
   "metadata": {},
   "outputs": [
    {
     "output_type": "execute_result",
     "data": {
      "text/plain": [
       "      mpg  cylinders  displacement  horsepower  weight  acceleration  \\\n",
       "0    18.0          8         307.0       130.0    3504          12.0   \n",
       "1    15.0          8         350.0       165.0    3693          11.5   \n",
       "2    18.0          8         318.0       150.0    3436          11.0   \n",
       "3    16.0          8         304.0       150.0    3433          12.0   \n",
       "4    17.0          8         302.0       140.0    3449          10.5   \n",
       "..    ...        ...           ...         ...     ...           ...   \n",
       "393  27.0          4         140.0        86.0    2790          15.6   \n",
       "394  44.0          4          97.0        52.0    2130          24.6   \n",
       "395  32.0          4         135.0        84.0    2295          11.6   \n",
       "396  28.0          4         120.0        79.0    2625          18.6   \n",
       "397  31.0          4         119.0        82.0    2720          19.4   \n",
       "\n",
       "     model_year  origin  hp_per_cc manufacturer           model  \n",
       "0            70     usa   0.423453    chevrolet  chevellemalibu  \n",
       "1            70     usa   0.471429        buick      skylark320  \n",
       "2            70     usa   0.471698     plymouth                  \n",
       "3            70     usa   0.493421          amc        rebelsst  \n",
       "4            70     usa   0.463576         ford                  \n",
       "..          ...     ...        ...          ...             ...  \n",
       "393          82     usa   0.614286         ford       mustanggl  \n",
       "394          82  europe   0.536082           vw                  \n",
       "395          82     usa   0.622222        dodge                  \n",
       "396          82     usa   0.658333         ford                  \n",
       "397          82     usa   0.689076        chevy                  \n",
       "\n",
       "[398 rows x 11 columns]"
      ],
      "text/html": "<div>\n<style scoped>\n    .dataframe tbody tr th:only-of-type {\n        vertical-align: middle;\n    }\n\n    .dataframe tbody tr th {\n        vertical-align: top;\n    }\n\n    .dataframe thead th {\n        text-align: right;\n    }\n</style>\n<table border=\"1\" class=\"dataframe\">\n  <thead>\n    <tr style=\"text-align: right;\">\n      <th></th>\n      <th>mpg</th>\n      <th>cylinders</th>\n      <th>displacement</th>\n      <th>horsepower</th>\n      <th>weight</th>\n      <th>acceleration</th>\n      <th>model_year</th>\n      <th>origin</th>\n      <th>hp_per_cc</th>\n      <th>manufacturer</th>\n      <th>model</th>\n    </tr>\n  </thead>\n  <tbody>\n    <tr>\n      <th>0</th>\n      <td>18.0</td>\n      <td>8</td>\n      <td>307.0</td>\n      <td>130.0</td>\n      <td>3504</td>\n      <td>12.0</td>\n      <td>70</td>\n      <td>usa</td>\n      <td>0.423453</td>\n      <td>chevrolet</td>\n      <td>chevellemalibu</td>\n    </tr>\n    <tr>\n      <th>1</th>\n      <td>15.0</td>\n      <td>8</td>\n      <td>350.0</td>\n      <td>165.0</td>\n      <td>3693</td>\n      <td>11.5</td>\n      <td>70</td>\n      <td>usa</td>\n      <td>0.471429</td>\n      <td>buick</td>\n      <td>skylark320</td>\n    </tr>\n    <tr>\n      <th>2</th>\n      <td>18.0</td>\n      <td>8</td>\n      <td>318.0</td>\n      <td>150.0</td>\n      <td>3436</td>\n      <td>11.0</td>\n      <td>70</td>\n      <td>usa</td>\n      <td>0.471698</td>\n      <td>plymouth</td>\n      <td></td>\n    </tr>\n    <tr>\n      <th>3</th>\n      <td>16.0</td>\n      <td>8</td>\n      <td>304.0</td>\n      <td>150.0</td>\n      <td>3433</td>\n      <td>12.0</td>\n      <td>70</td>\n      <td>usa</td>\n      <td>0.493421</td>\n      <td>amc</td>\n      <td>rebelsst</td>\n    </tr>\n    <tr>\n      <th>4</th>\n      <td>17.0</td>\n      <td>8</td>\n      <td>302.0</td>\n      <td>140.0</td>\n      <td>3449</td>\n      <td>10.5</td>\n      <td>70</td>\n      <td>usa</td>\n      <td>0.463576</td>\n      <td>ford</td>\n      <td></td>\n    </tr>\n    <tr>\n      <th>...</th>\n      <td>...</td>\n      <td>...</td>\n      <td>...</td>\n      <td>...</td>\n      <td>...</td>\n      <td>...</td>\n      <td>...</td>\n      <td>...</td>\n      <td>...</td>\n      <td>...</td>\n      <td>...</td>\n    </tr>\n    <tr>\n      <th>393</th>\n      <td>27.0</td>\n      <td>4</td>\n      <td>140.0</td>\n      <td>86.0</td>\n      <td>2790</td>\n      <td>15.6</td>\n      <td>82</td>\n      <td>usa</td>\n      <td>0.614286</td>\n      <td>ford</td>\n      <td>mustanggl</td>\n    </tr>\n    <tr>\n      <th>394</th>\n      <td>44.0</td>\n      <td>4</td>\n      <td>97.0</td>\n      <td>52.0</td>\n      <td>2130</td>\n      <td>24.6</td>\n      <td>82</td>\n      <td>europe</td>\n      <td>0.536082</td>\n      <td>vw</td>\n      <td></td>\n    </tr>\n    <tr>\n      <th>395</th>\n      <td>32.0</td>\n      <td>4</td>\n      <td>135.0</td>\n      <td>84.0</td>\n      <td>2295</td>\n      <td>11.6</td>\n      <td>82</td>\n      <td>usa</td>\n      <td>0.622222</td>\n      <td>dodge</td>\n      <td></td>\n    </tr>\n    <tr>\n      <th>396</th>\n      <td>28.0</td>\n      <td>4</td>\n      <td>120.0</td>\n      <td>79.0</td>\n      <td>2625</td>\n      <td>18.6</td>\n      <td>82</td>\n      <td>usa</td>\n      <td>0.658333</td>\n      <td>ford</td>\n      <td></td>\n    </tr>\n    <tr>\n      <th>397</th>\n      <td>31.0</td>\n      <td>4</td>\n      <td>119.0</td>\n      <td>82.0</td>\n      <td>2720</td>\n      <td>19.4</td>\n      <td>82</td>\n      <td>usa</td>\n      <td>0.689076</td>\n      <td>chevy</td>\n      <td></td>\n    </tr>\n  </tbody>\n</table>\n<p>398 rows × 11 columns</p>\n</div>"
     },
     "metadata": {},
     "execution_count": 71
    }
   ],
   "source": [
    "del mpg['name']\n",
    "mpg"
   ]
  },
  {
   "cell_type": "code",
   "execution_count": 77,
   "metadata": {},
   "outputs": [
    {
     "output_type": "execute_result",
     "data": {
      "text/plain": [
       "                 mpg\n",
       "cylinders           \n",
       "3          20.550000\n",
       "4          29.286765\n",
       "5          27.366667\n",
       "6          19.985714\n",
       "8          14.963107"
      ],
      "text/html": "<div>\n<style scoped>\n    .dataframe tbody tr th:only-of-type {\n        vertical-align: middle;\n    }\n\n    .dataframe tbody tr th {\n        vertical-align: top;\n    }\n\n    .dataframe thead th {\n        text-align: right;\n    }\n</style>\n<table border=\"1\" class=\"dataframe\">\n  <thead>\n    <tr style=\"text-align: right;\">\n      <th></th>\n      <th>mpg</th>\n    </tr>\n    <tr>\n      <th>cylinders</th>\n      <th></th>\n    </tr>\n  </thead>\n  <tbody>\n    <tr>\n      <th>3</th>\n      <td>20.550000</td>\n    </tr>\n    <tr>\n      <th>4</th>\n      <td>29.286765</td>\n    </tr>\n    <tr>\n      <th>5</th>\n      <td>27.366667</td>\n    </tr>\n    <tr>\n      <th>6</th>\n      <td>19.985714</td>\n    </tr>\n    <tr>\n      <th>8</th>\n      <td>14.963107</td>\n    </tr>\n  </tbody>\n</table>\n</div>"
     },
     "metadata": {},
     "execution_count": 77
    }
   ],
   "source": [
    "# 강사님\n",
    "mpg[['cylinders','mpg']].groupby('cylinders').mean()"
   ]
  },
  {
   "cell_type": "code",
   "execution_count": 78,
   "metadata": {},
   "outputs": [
    {
     "output_type": "execute_result",
     "data": {
      "text/plain": [
       "                 mpg\n",
       "cylinders           \n",
       "3          20.550000\n",
       "4          29.286765\n",
       "5          27.366667\n",
       "6          19.985714\n",
       "8          14.963107"
      ],
      "text/html": "<div>\n<style scoped>\n    .dataframe tbody tr th:only-of-type {\n        vertical-align: middle;\n    }\n\n    .dataframe tbody tr th {\n        vertical-align: top;\n    }\n\n    .dataframe thead th {\n        text-align: right;\n    }\n</style>\n<table border=\"1\" class=\"dataframe\">\n  <thead>\n    <tr style=\"text-align: right;\">\n      <th></th>\n      <th>mpg</th>\n    </tr>\n    <tr>\n      <th>cylinders</th>\n      <th></th>\n    </tr>\n  </thead>\n  <tbody>\n    <tr>\n      <th>3</th>\n      <td>20.550000</td>\n    </tr>\n    <tr>\n      <th>4</th>\n      <td>29.286765</td>\n    </tr>\n    <tr>\n      <th>5</th>\n      <td>27.366667</td>\n    </tr>\n    <tr>\n      <th>6</th>\n      <td>19.985714</td>\n    </tr>\n    <tr>\n      <th>8</th>\n      <td>14.963107</td>\n    </tr>\n  </tbody>\n</table>\n</div>"
     },
     "metadata": {},
     "execution_count": 78
    }
   ],
   "source": [
    "# 강사님\n",
    "# 아래와 같이 pivot_table을 사용해서 구할 수 있음\n",
    "mpg.pivot_table('mpg','cylinders')"
   ]
  },
  {
   "cell_type": "code",
   "execution_count": 72,
   "metadata": {},
   "outputs": [
    {
     "output_type": "execute_result",
     "data": {
      "text/plain": [
       "                 mpg\n",
       "cylinders           \n",
       "3          20.550000\n",
       "4          29.286765\n",
       "5          27.366667\n",
       "6          19.985714\n",
       "8          14.963107"
      ],
      "text/html": "<div>\n<style scoped>\n    .dataframe tbody tr th:only-of-type {\n        vertical-align: middle;\n    }\n\n    .dataframe tbody tr th {\n        vertical-align: top;\n    }\n\n    .dataframe thead th {\n        text-align: right;\n    }\n</style>\n<table border=\"1\" class=\"dataframe\">\n  <thead>\n    <tr style=\"text-align: right;\">\n      <th></th>\n      <th>mpg</th>\n    </tr>\n    <tr>\n      <th>cylinders</th>\n      <th></th>\n    </tr>\n  </thead>\n  <tbody>\n    <tr>\n      <th>3</th>\n      <td>20.550000</td>\n    </tr>\n    <tr>\n      <th>4</th>\n      <td>29.286765</td>\n    </tr>\n    <tr>\n      <th>5</th>\n      <td>27.366667</td>\n    </tr>\n    <tr>\n      <th>6</th>\n      <td>19.985714</td>\n    </tr>\n    <tr>\n      <th>8</th>\n      <td>14.963107</td>\n    </tr>\n  </tbody>\n</table>\n</div>"
     },
     "metadata": {},
     "execution_count": 72
    }
   ],
   "source": [
    "#3-c 엔진의 실린더(cylinders) 갯수별 연비(mpg)의 평균을 구하시오\n",
    "mpg.groupby(['cylinders'])[['mpg']].mean()"
   ]
  },
  {
   "cell_type": "code",
   "execution_count": 79,
   "metadata": {},
   "outputs": [
    {
     "output_type": "execute_result",
     "data": {
      "text/plain": [
       "        hp_per_cc\n",
       "origin           \n",
       "europe   0.740005\n",
       "japan    0.789485\n",
       "usa      0.512063"
      ],
      "text/html": "<div>\n<style scoped>\n    .dataframe tbody tr th:only-of-type {\n        vertical-align: middle;\n    }\n\n    .dataframe tbody tr th {\n        vertical-align: top;\n    }\n\n    .dataframe thead th {\n        text-align: right;\n    }\n</style>\n<table border=\"1\" class=\"dataframe\">\n  <thead>\n    <tr style=\"text-align: right;\">\n      <th></th>\n      <th>hp_per_cc</th>\n    </tr>\n    <tr>\n      <th>origin</th>\n      <th></th>\n    </tr>\n  </thead>\n  <tbody>\n    <tr>\n      <th>europe</th>\n      <td>0.740005</td>\n    </tr>\n    <tr>\n      <th>japan</th>\n      <td>0.789485</td>\n    </tr>\n    <tr>\n      <th>usa</th>\n      <td>0.512063</td>\n    </tr>\n  </tbody>\n</table>\n</div>"
     },
     "metadata": {},
     "execution_count": 79
    }
   ],
   "source": [
    "# 강사님\n",
    "mpg[['origin','hp_per_cc']].groupby('origin').mean()"
   ]
  },
  {
   "cell_type": "code",
   "execution_count": 73,
   "metadata": {},
   "outputs": [
    {
     "output_type": "execute_result",
     "data": {
      "text/plain": [
       "        hp_per_cc\n",
       "origin           \n",
       "europe   0.740005\n",
       "japan    0.789485\n",
       "usa      0.512063"
      ],
      "text/html": "<div>\n<style scoped>\n    .dataframe tbody tr th:only-of-type {\n        vertical-align: middle;\n    }\n\n    .dataframe tbody tr th {\n        vertical-align: top;\n    }\n\n    .dataframe thead th {\n        text-align: right;\n    }\n</style>\n<table border=\"1\" class=\"dataframe\">\n  <thead>\n    <tr style=\"text-align: right;\">\n      <th></th>\n      <th>hp_per_cc</th>\n    </tr>\n    <tr>\n      <th>origin</th>\n      <th></th>\n    </tr>\n  </thead>\n  <tbody>\n    <tr>\n      <th>europe</th>\n      <td>0.740005</td>\n    </tr>\n    <tr>\n      <th>japan</th>\n      <td>0.789485</td>\n    </tr>\n    <tr>\n      <th>usa</th>\n      <td>0.512063</td>\n    </tr>\n  </tbody>\n</table>\n</div>"
     },
     "metadata": {},
     "execution_count": 73
    }
   ],
   "source": [
    "#3-d 생산지(origin)별 배기량 대비 마력(hp_per_cc)의 평균을 구하시오\n",
    "mpg.groupby(['origin'])[['hp_per_cc']].mean()"
   ]
  },
  {
   "cell_type": "code",
   "execution_count": 80,
   "metadata": {},
   "outputs": [
    {
     "output_type": "execute_result",
     "data": {
      "text/plain": [
       "ford             51\n",
       "chevrolet        43\n",
       "plymouth         31\n",
       "dodge            28\n",
       "amc              28\n",
       "toyota           25\n",
       "datsun           23\n",
       "buick            17\n",
       "pontiac          16\n",
       "volkswagen       15\n",
       "honda            13\n",
       "mercury          11\n",
       "oldsmobile       10\n",
       "mazda            10\n",
       "peugeot           8\n",
       "fiat              8\n",
       "audi              7\n",
       "volvo             6\n",
       "vw                6\n",
       "chrysler          6\n",
       "renault           5\n",
       "subaru            4\n",
       "opel              4\n",
       "saab              4\n",
       "chevy             3\n",
       "bmw               2\n",
       "cadillac          2\n",
       "maxda             2\n",
       "mercedes-benz     2\n",
       "chevroelt         1\n",
       "toyouta           1\n",
       "triumph           1\n",
       "hi                1\n",
       "vokswagen         1\n",
       "mercedes          1\n",
       "capri             1\n",
       "nissan            1\n",
       "Name: manufacturer, dtype: int64"
      ]
     },
     "metadata": {},
     "execution_count": 80
    }
   ],
   "source": [
    "#3-e 강사님\n",
    "mpg.manufacturer.value_counts()"
   ]
  },
  {
   "cell_type": "code",
   "execution_count": 94,
   "metadata": {},
   "outputs": [
    {
     "output_type": "execute_result",
     "data": {
      "text/plain": [
       "              model\n",
       "manufacturer       \n",
       "ford             51\n",
       "chevrolet        43\n",
       "plymouth         31\n",
       "amc              28\n",
       "dodge            28\n",
       "toyota           25\n",
       "datsun           23\n",
       "buick            17\n",
       "pontiac          16\n",
       "volkswagen       15"
      ],
      "text/html": "<div>\n<style scoped>\n    .dataframe tbody tr th:only-of-type {\n        vertical-align: middle;\n    }\n\n    .dataframe tbody tr th {\n        vertical-align: top;\n    }\n\n    .dataframe thead th {\n        text-align: right;\n    }\n</style>\n<table border=\"1\" class=\"dataframe\">\n  <thead>\n    <tr style=\"text-align: right;\">\n      <th></th>\n      <th>model</th>\n    </tr>\n    <tr>\n      <th>manufacturer</th>\n      <th></th>\n    </tr>\n  </thead>\n  <tbody>\n    <tr>\n      <th>ford</th>\n      <td>51</td>\n    </tr>\n    <tr>\n      <th>chevrolet</th>\n      <td>43</td>\n    </tr>\n    <tr>\n      <th>plymouth</th>\n      <td>31</td>\n    </tr>\n    <tr>\n      <th>amc</th>\n      <td>28</td>\n    </tr>\n    <tr>\n      <th>dodge</th>\n      <td>28</td>\n    </tr>\n    <tr>\n      <th>toyota</th>\n      <td>25</td>\n    </tr>\n    <tr>\n      <th>datsun</th>\n      <td>23</td>\n    </tr>\n    <tr>\n      <th>buick</th>\n      <td>17</td>\n    </tr>\n    <tr>\n      <th>pontiac</th>\n      <td>16</td>\n    </tr>\n    <tr>\n      <th>volkswagen</th>\n      <td>15</td>\n    </tr>\n  </tbody>\n</table>\n</div>"
     },
     "metadata": {},
     "execution_count": 94
    }
   ],
   "source": [
    "#3-e. 모델이 5개 이상인 제조사에 대하여 연비(mpg)의 평균이 가장 좋은 제조사 top 5를 구하시오.\n",
    "mpg1 = mpg.groupby('manufacturer')[['model']].count().sort_values(by='model',ascending=False)\n",
    "mpg1.head(10)"
   ]
  },
  {
   "cell_type": "code",
   "execution_count": 16,
   "metadata": {},
   "outputs": [
    {
     "output_type": "stream",
     "name": "stdout",
     "text": [
      "['ford', 'chevrolet', 'plymouth', 'amc', 'dodge', 'toyota', 'datsun', 'buick', 'pontiac', 'volkswagen', 'honda', 'mercury', 'oldsmobile', 'mazda', 'fiat', 'peugeot', 'audi', 'volvo', 'chrysler', 'vw', 'renault']\n"
     ]
    }
   ],
   "source": [
    "# 강사님\n",
    "s = mpg.manufacturer.value_counts()\n",
    "big = s[s >= 5].index.tolist()\n",
    "print(big)"
   ]
  },
  {
   "cell_type": "code",
   "execution_count": 82,
   "metadata": {},
   "outputs": [
    {
     "output_type": "execute_result",
     "data": {
      "text/plain": [
       "    mpg  cylinders  displacement  horsepower  weight  acceleration  \\\n",
       "0  18.0          8         307.0       130.0    3504          12.0   \n",
       "1  15.0          8         350.0       165.0    3693          11.5   \n",
       "2  18.0          8         318.0       150.0    3436          11.0   \n",
       "3  16.0          8         304.0       150.0    3433          12.0   \n",
       "4  17.0          8         302.0       140.0    3449          10.5   \n",
       "\n",
       "   model_year origin  hp_per_cc manufacturer           model  \n",
       "0          70    usa   0.423453    chevrolet  chevellemalibu  \n",
       "1          70    usa   0.471429        buick      skylark320  \n",
       "2          70    usa   0.471698     plymouth                  \n",
       "3          70    usa   0.493421          amc        rebelsst  \n",
       "4          70    usa   0.463576         ford                  "
      ],
      "text/html": "<div>\n<style scoped>\n    .dataframe tbody tr th:only-of-type {\n        vertical-align: middle;\n    }\n\n    .dataframe tbody tr th {\n        vertical-align: top;\n    }\n\n    .dataframe thead th {\n        text-align: right;\n    }\n</style>\n<table border=\"1\" class=\"dataframe\">\n  <thead>\n    <tr style=\"text-align: right;\">\n      <th></th>\n      <th>mpg</th>\n      <th>cylinders</th>\n      <th>displacement</th>\n      <th>horsepower</th>\n      <th>weight</th>\n      <th>acceleration</th>\n      <th>model_year</th>\n      <th>origin</th>\n      <th>hp_per_cc</th>\n      <th>manufacturer</th>\n      <th>model</th>\n    </tr>\n  </thead>\n  <tbody>\n    <tr>\n      <th>0</th>\n      <td>18.0</td>\n      <td>8</td>\n      <td>307.0</td>\n      <td>130.0</td>\n      <td>3504</td>\n      <td>12.0</td>\n      <td>70</td>\n      <td>usa</td>\n      <td>0.423453</td>\n      <td>chevrolet</td>\n      <td>chevellemalibu</td>\n    </tr>\n    <tr>\n      <th>1</th>\n      <td>15.0</td>\n      <td>8</td>\n      <td>350.0</td>\n      <td>165.0</td>\n      <td>3693</td>\n      <td>11.5</td>\n      <td>70</td>\n      <td>usa</td>\n      <td>0.471429</td>\n      <td>buick</td>\n      <td>skylark320</td>\n    </tr>\n    <tr>\n      <th>2</th>\n      <td>18.0</td>\n      <td>8</td>\n      <td>318.0</td>\n      <td>150.0</td>\n      <td>3436</td>\n      <td>11.0</td>\n      <td>70</td>\n      <td>usa</td>\n      <td>0.471698</td>\n      <td>plymouth</td>\n      <td></td>\n    </tr>\n    <tr>\n      <th>3</th>\n      <td>16.0</td>\n      <td>8</td>\n      <td>304.0</td>\n      <td>150.0</td>\n      <td>3433</td>\n      <td>12.0</td>\n      <td>70</td>\n      <td>usa</td>\n      <td>0.493421</td>\n      <td>amc</td>\n      <td>rebelsst</td>\n    </tr>\n    <tr>\n      <th>4</th>\n      <td>17.0</td>\n      <td>8</td>\n      <td>302.0</td>\n      <td>140.0</td>\n      <td>3449</td>\n      <td>10.5</td>\n      <td>70</td>\n      <td>usa</td>\n      <td>0.463576</td>\n      <td>ford</td>\n      <td></td>\n    </tr>\n  </tbody>\n</table>\n</div>"
     },
     "metadata": {},
     "execution_count": 82
    }
   ],
   "source": [
    "# 강사님\n",
    "# in 연산자 대신에 isin() method 사용\n",
    "mpg[mpg['manufacturer'].isin(big)].head()"
   ]
  },
  {
   "cell_type": "code",
   "execution_count": 92,
   "metadata": {},
   "outputs": [
    {
     "output_type": "execute_result",
     "data": {
      "text/plain": [
       "                    mpg\n",
       "manufacturer           \n",
       "amc           18.246429\n",
       "audi          26.714286\n",
       "buick         19.182353\n",
       "chevrolet     20.472093\n",
       "chrysler      17.266667\n",
       "datsun        31.113043\n",
       "dodge         22.060714\n",
       "fiat          28.912500\n",
       "ford          19.694118\n",
       "honda         33.761538\n",
       "mazda         30.860000\n",
       "mercury       19.118182\n",
       "oldsmobile    21.100000\n",
       "peugeot       23.687500\n",
       "plymouth      21.703226\n",
       "pontiac       20.012500\n",
       "renault       32.880000\n",
       "toyota        28.372000\n",
       "volkswagen    29.106667\n",
       "volvo         21.116667\n",
       "vw            39.016667"
      ],
      "text/html": "<div>\n<style scoped>\n    .dataframe tbody tr th:only-of-type {\n        vertical-align: middle;\n    }\n\n    .dataframe tbody tr th {\n        vertical-align: top;\n    }\n\n    .dataframe thead th {\n        text-align: right;\n    }\n</style>\n<table border=\"1\" class=\"dataframe\">\n  <thead>\n    <tr style=\"text-align: right;\">\n      <th></th>\n      <th>mpg</th>\n    </tr>\n    <tr>\n      <th>manufacturer</th>\n      <th></th>\n    </tr>\n  </thead>\n  <tbody>\n    <tr>\n      <th>amc</th>\n      <td>18.246429</td>\n    </tr>\n    <tr>\n      <th>audi</th>\n      <td>26.714286</td>\n    </tr>\n    <tr>\n      <th>buick</th>\n      <td>19.182353</td>\n    </tr>\n    <tr>\n      <th>chevrolet</th>\n      <td>20.472093</td>\n    </tr>\n    <tr>\n      <th>chrysler</th>\n      <td>17.266667</td>\n    </tr>\n    <tr>\n      <th>datsun</th>\n      <td>31.113043</td>\n    </tr>\n    <tr>\n      <th>dodge</th>\n      <td>22.060714</td>\n    </tr>\n    <tr>\n      <th>fiat</th>\n      <td>28.912500</td>\n    </tr>\n    <tr>\n      <th>ford</th>\n      <td>19.694118</td>\n    </tr>\n    <tr>\n      <th>honda</th>\n      <td>33.761538</td>\n    </tr>\n    <tr>\n      <th>mazda</th>\n      <td>30.860000</td>\n    </tr>\n    <tr>\n      <th>mercury</th>\n      <td>19.118182</td>\n    </tr>\n    <tr>\n      <th>oldsmobile</th>\n      <td>21.100000</td>\n    </tr>\n    <tr>\n      <th>peugeot</th>\n      <td>23.687500</td>\n    </tr>\n    <tr>\n      <th>plymouth</th>\n      <td>21.703226</td>\n    </tr>\n    <tr>\n      <th>pontiac</th>\n      <td>20.012500</td>\n    </tr>\n    <tr>\n      <th>renault</th>\n      <td>32.880000</td>\n    </tr>\n    <tr>\n      <th>toyota</th>\n      <td>28.372000</td>\n    </tr>\n    <tr>\n      <th>volkswagen</th>\n      <td>29.106667</td>\n    </tr>\n    <tr>\n      <th>volvo</th>\n      <td>21.116667</td>\n    </tr>\n    <tr>\n      <th>vw</th>\n      <td>39.016667</td>\n    </tr>\n  </tbody>\n</table>\n</div>"
     },
     "metadata": {},
     "execution_count": 92
    }
   ],
   "source": [
    "# 강사님\n",
    "mpg[mpg['manufacturer'].isin(big)][['manufacturer','mpg']].groupby('manufacturer').mean()"
   ]
  },
  {
   "cell_type": "code",
   "execution_count": 106,
   "metadata": {},
   "outputs": [
    {
     "output_type": "execute_result",
     "data": {
      "text/plain": [
       "                    mpg\n",
       "manufacturer           \n",
       "amc           18.246429\n",
       "audi          26.714286\n",
       "buick         19.182353\n",
       "chevrolet     20.472093\n",
       "chrysler      17.266667\n",
       "datsun        31.113043\n",
       "dodge         22.060714\n",
       "fiat          28.912500\n",
       "ford          19.694118\n",
       "honda         33.761538\n",
       "mazda         30.860000\n",
       "mercury       19.118182\n",
       "oldsmobile    21.100000\n",
       "peugeot       23.687500\n",
       "plymouth      21.703226\n",
       "pontiac       20.012500\n",
       "renault       32.880000\n",
       "toyota        28.372000\n",
       "volkswagen    29.106667\n",
       "volvo         21.116667\n",
       "vw            39.016667"
      ],
      "text/html": "<div>\n<style scoped>\n    .dataframe tbody tr th:only-of-type {\n        vertical-align: middle;\n    }\n\n    .dataframe tbody tr th {\n        vertical-align: top;\n    }\n\n    .dataframe thead th {\n        text-align: right;\n    }\n</style>\n<table border=\"1\" class=\"dataframe\">\n  <thead>\n    <tr style=\"text-align: right;\">\n      <th></th>\n      <th>mpg</th>\n    </tr>\n    <tr>\n      <th>manufacturer</th>\n      <th></th>\n    </tr>\n  </thead>\n  <tbody>\n    <tr>\n      <th>amc</th>\n      <td>18.246429</td>\n    </tr>\n    <tr>\n      <th>audi</th>\n      <td>26.714286</td>\n    </tr>\n    <tr>\n      <th>buick</th>\n      <td>19.182353</td>\n    </tr>\n    <tr>\n      <th>chevrolet</th>\n      <td>20.472093</td>\n    </tr>\n    <tr>\n      <th>chrysler</th>\n      <td>17.266667</td>\n    </tr>\n    <tr>\n      <th>datsun</th>\n      <td>31.113043</td>\n    </tr>\n    <tr>\n      <th>dodge</th>\n      <td>22.060714</td>\n    </tr>\n    <tr>\n      <th>fiat</th>\n      <td>28.912500</td>\n    </tr>\n    <tr>\n      <th>ford</th>\n      <td>19.694118</td>\n    </tr>\n    <tr>\n      <th>honda</th>\n      <td>33.761538</td>\n    </tr>\n    <tr>\n      <th>mazda</th>\n      <td>30.860000</td>\n    </tr>\n    <tr>\n      <th>mercury</th>\n      <td>19.118182</td>\n    </tr>\n    <tr>\n      <th>oldsmobile</th>\n      <td>21.100000</td>\n    </tr>\n    <tr>\n      <th>peugeot</th>\n      <td>23.687500</td>\n    </tr>\n    <tr>\n      <th>plymouth</th>\n      <td>21.703226</td>\n    </tr>\n    <tr>\n      <th>pontiac</th>\n      <td>20.012500</td>\n    </tr>\n    <tr>\n      <th>renault</th>\n      <td>32.880000</td>\n    </tr>\n    <tr>\n      <th>toyota</th>\n      <td>28.372000</td>\n    </tr>\n    <tr>\n      <th>volkswagen</th>\n      <td>29.106667</td>\n    </tr>\n    <tr>\n      <th>volvo</th>\n      <td>21.116667</td>\n    </tr>\n    <tr>\n      <th>vw</th>\n      <td>39.016667</td>\n    </tr>\n  </tbody>\n</table>\n</div>"
     },
     "metadata": {},
     "execution_count": 106
    }
   ],
   "source": [
    "# 강사님\n",
    "mpg[mpg['manufacturer'].isin(big)].pivot_table('mpg','manufacturer')"
   ]
  },
  {
   "cell_type": "code",
   "execution_count": 107,
   "metadata": {},
   "outputs": [
    {
     "output_type": "execute_result",
     "data": {
      "text/plain": [
       "                    mpg\n",
       "manufacturer           \n",
       "vw            39.016667\n",
       "honda         33.761538\n",
       "renault       32.880000\n",
       "datsun        31.113043\n",
       "mazda         30.860000"
      ],
      "text/html": "<div>\n<style scoped>\n    .dataframe tbody tr th:only-of-type {\n        vertical-align: middle;\n    }\n\n    .dataframe tbody tr th {\n        vertical-align: top;\n    }\n\n    .dataframe thead th {\n        text-align: right;\n    }\n</style>\n<table border=\"1\" class=\"dataframe\">\n  <thead>\n    <tr style=\"text-align: right;\">\n      <th></th>\n      <th>mpg</th>\n    </tr>\n    <tr>\n      <th>manufacturer</th>\n      <th></th>\n    </tr>\n  </thead>\n  <tbody>\n    <tr>\n      <th>vw</th>\n      <td>39.016667</td>\n    </tr>\n    <tr>\n      <th>honda</th>\n      <td>33.761538</td>\n    </tr>\n    <tr>\n      <th>renault</th>\n      <td>32.880000</td>\n    </tr>\n    <tr>\n      <th>datsun</th>\n      <td>31.113043</td>\n    </tr>\n    <tr>\n      <th>mazda</th>\n      <td>30.860000</td>\n    </tr>\n  </tbody>\n</table>\n</div>"
     },
     "metadata": {},
     "execution_count": 107
    }
   ],
   "source": [
    "# 강사님\n",
    "mpg[mpg['manufacturer'].isin(big)].pivot_table('mpg','manufacturer').sort_values(by='mpg', ascending=False)[:5]"
   ]
  },
  {
   "cell_type": "code",
   "execution_count": 105,
   "metadata": {},
   "outputs": [
    {
     "output_type": "execute_result",
     "data": {
      "text/plain": [
       "              model   mpg_mean\n",
       "manufacturer                  \n",
       "datsun           23  31.113043\n",
       "volkswagen       15  29.106667\n",
       "toyota           25  28.372000\n",
       "dodge            28  22.060714\n",
       "plymouth         31  21.703226\n",
       "chevrolet        43  20.472093\n",
       "pontiac          16  20.012500\n",
       "ford             51  19.694118\n",
       "buick            17  19.182353\n",
       "amc              28  18.246429"
      ],
      "text/html": "<div>\n<style scoped>\n    .dataframe tbody tr th:only-of-type {\n        vertical-align: middle;\n    }\n\n    .dataframe tbody tr th {\n        vertical-align: top;\n    }\n\n    .dataframe thead th {\n        text-align: right;\n    }\n</style>\n<table border=\"1\" class=\"dataframe\">\n  <thead>\n    <tr style=\"text-align: right;\">\n      <th></th>\n      <th>model</th>\n      <th>mpg_mean</th>\n    </tr>\n    <tr>\n      <th>manufacturer</th>\n      <th></th>\n      <th></th>\n    </tr>\n  </thead>\n  <tbody>\n    <tr>\n      <th>datsun</th>\n      <td>23</td>\n      <td>31.113043</td>\n    </tr>\n    <tr>\n      <th>volkswagen</th>\n      <td>15</td>\n      <td>29.106667</td>\n    </tr>\n    <tr>\n      <th>toyota</th>\n      <td>25</td>\n      <td>28.372000</td>\n    </tr>\n    <tr>\n      <th>dodge</th>\n      <td>28</td>\n      <td>22.060714</td>\n    </tr>\n    <tr>\n      <th>plymouth</th>\n      <td>31</td>\n      <td>21.703226</td>\n    </tr>\n    <tr>\n      <th>chevrolet</th>\n      <td>43</td>\n      <td>20.472093</td>\n    </tr>\n    <tr>\n      <th>pontiac</th>\n      <td>16</td>\n      <td>20.012500</td>\n    </tr>\n    <tr>\n      <th>ford</th>\n      <td>51</td>\n      <td>19.694118</td>\n    </tr>\n    <tr>\n      <th>buick</th>\n      <td>17</td>\n      <td>19.182353</td>\n    </tr>\n    <tr>\n      <th>amc</th>\n      <td>28</td>\n      <td>18.246429</td>\n    </tr>\n  </tbody>\n</table>\n</div>"
     },
     "metadata": {},
     "execution_count": 105
    }
   ],
   "source": [
    "mpg1['mpg_mean'] = mpg.groupby(['manufacturer'])[['mpg']].mean()\n",
    "mpg1.head(10).sort_values(by='mpg_mean',ascending=False)"
   ]
  },
  {
   "cell_type": "code",
   "execution_count": 19,
   "metadata": {},
   "outputs": [
    {
     "output_type": "display_data",
     "data": {
      "text/plain": "<Figure size 864x432 with 1 Axes>",
      "image/svg+xml": "<?xml version=\"1.0\" encoding=\"utf-8\" standalone=\"no\"?>\r\n<!DOCTYPE svg PUBLIC \"-//W3C//DTD SVG 1.1//EN\"\r\n  \"http://www.w3.org/Graphics/SVG/1.1/DTD/svg11.dtd\">\r\n<!-- Created with matplotlib (https://matplotlib.org/) -->\r\n<svg height=\"388.722812pt\" version=\"1.1\" viewBox=\"0 0 757.326563 388.722812\" width=\"757.326563pt\" xmlns=\"http://www.w3.org/2000/svg\" xmlns:xlink=\"http://www.w3.org/1999/xlink\">\r\n <defs>\r\n  <style type=\"text/css\">\r\n*{stroke-linecap:butt;stroke-linejoin:round;}\r\n  </style>\r\n </defs>\r\n <g id=\"figure_1\">\r\n  <g id=\"patch_1\">\r\n   <path d=\"M 0 388.722812 \r\nL 757.326563 388.722812 \r\nL 757.326563 0 \r\nL 0 0 \r\nz\r\n\" style=\"fill:none;\"/>\r\n  </g>\r\n  <g id=\"axes_1\">\r\n   <g id=\"patch_2\">\r\n    <path d=\"M 80.526563 349.60875 \r\nL 750.126562 349.60875 \r\nL 750.126562 23.44875 \r\nL 80.526563 23.44875 \r\nz\r\n\" style=\"fill:#ffffff;\"/>\r\n   </g>\r\n   <g id=\"patch_3\">\r\n    <path clip-path=\"url(#p34ce73dac8)\" d=\"M 80.526563 334.783295 \r\nL 362.744418 334.783295 \r\nL 362.744418 323.3791 \r\nL 80.526563 323.3791 \r\nz\r\n\" style=\"fill:#ffff36;\"/>\r\n   </g>\r\n   <g id=\"patch_4\">\r\n    <path clip-path=\"url(#p34ce73dac8)\" d=\"M 80.526563 320.528051 \r\nL 378.758297 320.528051 \r\nL 378.758297 309.123855 \r\nL 80.526563 309.123855 \r\nz\r\n\" style=\"fill:#ffff1b;\"/>\r\n   </g>\r\n   <g id=\"patch_5\">\r\n    <path clip-path=\"url(#p34ce73dac8)\" d=\"M 80.526563 306.272806 \r\nL 393.00681 306.272806 \r\nL 393.00681 294.86861 \r\nL 80.526563 294.86861 \r\nz\r\n\" style=\"fill:#fffc00;\"/>\r\n   </g>\r\n   <g id=\"patch_6\">\r\n    <path clip-path=\"url(#p34ce73dac8)\" d=\"M 80.526563 292.017561 \r\nL 394.055666 292.017561 \r\nL 394.055666 280.613365 \r\nL 80.526563 280.613365 \r\nz\r\n\" style=\"fill:#ffe700;\"/>\r\n   </g>\r\n   <g id=\"patch_7\">\r\n    <path clip-path=\"url(#p34ce73dac8)\" d=\"M 80.526563 277.762316 \r\nL 402.420287 277.762316 \r\nL 402.420287 266.358121 \r\nL 80.526563 266.358121 \r\nz\r\n\" style=\"fill:#ffd400;\"/>\r\n   </g>\r\n   <g id=\"patch_8\">\r\n    <path clip-path=\"url(#p34ce73dac8)\" d=\"M 80.526563 263.507072 \r\nL 407.62414 263.507072 \r\nL 407.62414 252.102876 \r\nL 80.526563 252.102876 \r\nz\r\n\" style=\"fill:#ffbf00;\"/>\r\n   </g>\r\n   <g id=\"patch_9\">\r\n    <path clip-path=\"url(#p34ce73dac8)\" d=\"M 80.526563 249.251827 \r\nL 415.136033 249.251827 \r\nL 415.136033 237.847631 \r\nL 80.526563 237.847631 \r\nz\r\n\" style=\"fill:#ffaa00;\"/>\r\n   </g>\r\n   <g id=\"patch_10\">\r\n    <path clip-path=\"url(#p34ce73dac8)\" d=\"M 80.526563 234.996582 \r\nL 425.398961 234.996582 \r\nL 425.398961 223.592386 \r\nL 80.526563 223.592386 \r\nz\r\n\" style=\"fill:#ff9800;\"/>\r\n   </g>\r\n   <g id=\"patch_11\">\r\n    <path clip-path=\"url(#p34ce73dac8)\" d=\"M 80.526563 220.741337 \r\nL 425.671372 220.741337 \r\nL 425.671372 209.337142 \r\nL 80.526563 209.337142 \r\nz\r\n\" style=\"fill:#ff8300;\"/>\r\n   </g>\r\n   <g id=\"patch_12\">\r\n    <path clip-path=\"url(#p34ce73dac8)\" d=\"M 80.526563 206.486093 \r\nL 435.258484 206.486093 \r\nL 435.258484 195.081897 \r\nL 80.526563 195.081897 \r\nz\r\n\" style=\"fill:#ff6e00;\"/>\r\n   </g>\r\n   <g id=\"patch_13\">\r\n    <path clip-path=\"url(#p34ce73dac8)\" d=\"M 80.526563 192.230848 \r\nL 441.101513 192.230848 \r\nL 441.101513 180.826652 \r\nL 80.526563 180.826652 \r\nz\r\n\" style=\"fill:#ff5c00;\"/>\r\n   </g>\r\n   <g id=\"patch_14\">\r\n    <path clip-path=\"url(#p34ce73dac8)\" d=\"M 80.526563 177.975603 \r\nL 467.690778 177.975603 \r\nL 467.690778 166.571407 \r\nL 80.526563 166.571407 \r\nz\r\n\" style=\"fill:#ff4700;\"/>\r\n   </g>\r\n   <g id=\"patch_15\">\r\n    <path clip-path=\"url(#p34ce73dac8)\" d=\"M 80.526563 163.720358 \r\nL 517.162572 163.720358 \r\nL 517.162572 152.316163 \r\nL 80.526563 152.316163 \r\nz\r\n\" style=\"fill:#ff3200;\"/>\r\n   </g>\r\n   <g id=\"patch_16\">\r\n    <path clip-path=\"url(#p34ce73dac8)\" d=\"M 80.526563 149.465114 \r\nL 544.257354 149.465114 \r\nL 544.257354 138.060918 \r\nL 80.526563 138.060918 \r\nz\r\n\" style=\"fill:#ff1d00;\"/>\r\n   </g>\r\n   <g id=\"patch_17\">\r\n    <path clip-path=\"url(#p34ce73dac8)\" d=\"M 80.526563 135.209869 \r\nL 553.091645 135.209869 \r\nL 553.091645 123.805673 \r\nL 80.526563 123.805673 \r\nz\r\n\" style=\"fill:#ff0a00;\"/>\r\n   </g>\r\n   <g id=\"patch_18\">\r\n    <path clip-path=\"url(#p34ce73dac8)\" d=\"M 80.526563 120.954624 \r\nL 556.265233 120.954624 \r\nL 556.265233 109.550428 \r\nL 80.526563 109.550428 \r\nz\r\n\" style=\"fill:#f40000;\"/>\r\n   </g>\r\n   <g id=\"patch_19\">\r\n    <path clip-path=\"url(#p34ce73dac8)\" d=\"M 80.526563 106.699379 \r\nL 584.922877 106.699379 \r\nL 584.922877 95.295184 \r\nL 80.526563 95.295184 \r\nz\r\n\" style=\"fill:#df0000;\"/>\r\n   </g>\r\n   <g id=\"patch_20\">\r\n    <path clip-path=\"url(#p34ce73dac8)\" d=\"M 80.526563 92.444135 \r\nL 589.058787 92.444135 \r\nL 589.058787 81.039939 \r\nL 80.526563 81.039939 \r\nz\r\n\" style=\"fill:#cd0000;\"/>\r\n   </g>\r\n   <g id=\"patch_21\">\r\n    <path clip-path=\"url(#p34ce73dac8)\" d=\"M 80.526563 78.18889 \r\nL 617.939097 78.18889 \r\nL 617.939097 66.784694 \r\nL 80.526563 66.784694 \r\nz\r\n\" style=\"fill:#b80000;\"/>\r\n   </g>\r\n   <g id=\"patch_22\">\r\n    <path clip-path=\"url(#p34ce73dac8)\" d=\"M 80.526563 63.933645 \r\nL 632.347546 63.933645 \r\nL 632.347546 52.529449 \r\nL 80.526563 52.529449 \r\nz\r\n\" style=\"fill:#a30000;\"/>\r\n   </g>\r\n   <g id=\"patch_23\">\r\n    <path clip-path=\"url(#p34ce73dac8)\" d=\"M 80.526563 49.6784 \r\nL 718.240848 49.6784 \r\nL 718.240848 38.274205 \r\nL 80.526563 38.274205 \r\nz\r\n\" style=\"fill:#900000;\"/>\r\n   </g>\r\n   <g id=\"matplotlib.axis_1\">\r\n    <g id=\"xtick_1\">\r\n     <g id=\"line2d_1\">\r\n      <defs>\r\n       <path d=\"M 0 0 \r\nL 0 3.5 \r\n\" id=\"mabe647edc7\" style=\"stroke:#000000;stroke-width:0.8;\"/>\r\n      </defs>\r\n      <g>\r\n       <use style=\"stroke:#000000;stroke-width:0.8;\" x=\"80.526563\" xlink:href=\"#mabe647edc7\" y=\"349.60875\"/>\r\n      </g>\r\n     </g>\r\n     <g id=\"text_1\">\r\n      <!-- 0 -->\r\n      <defs>\r\n       <path d=\"M 4.34375 34.46875 \r\nQ 4.34375 53.515625 10.546875 63.28125 \r\nQ 16.75 73.046875 28.421875 73.046875 \r\nQ 50.828125 73.046875 50.828125 36.234375 \r\nQ 50.828125 18.0625 44.59375 8.421875 \r\nQ 38.375 -1.21875 26.8125 -1.21875 \r\nQ 15.875 -1.21875 10.109375 8.125 \r\nQ 4.34375 17.484375 4.34375 34.46875 \r\nz\r\nM 12.25 34.859375 \r\nQ 12.25 5.375 27.640625 5.375 \r\nQ 42.921875 5.375 42.921875 35.296875 \r\nQ 42.921875 66.40625 28.03125 66.40625 \r\nQ 12.25 66.40625 12.25 34.859375 \r\nz\r\n\" id=\"MalgunGothic-48\"/>\r\n      </defs>\r\n      <g transform=\"translate(77.772656 364.200937)scale(0.1 -0.1)\">\r\n       <use xlink:href=\"#MalgunGothic-48\"/>\r\n      </g>\r\n     </g>\r\n    </g>\r\n    <g id=\"xtick_2\">\r\n     <g id=\"line2d_2\">\r\n      <g>\r\n       <use style=\"stroke:#000000;stroke-width:0.8;\" x=\"162.24988\" xlink:href=\"#mabe647edc7\" y=\"349.60875\"/>\r\n      </g>\r\n     </g>\r\n     <g id=\"text_2\">\r\n      <!-- 5 -->\r\n      <defs>\r\n       <path d=\"M 48 21.921875 \r\nQ 48 11.28125 41.1875 5.03125 \r\nQ 34.375 -1.21875 22.953125 -1.21875 \r\nQ 12.9375 -1.21875 8.0625 1.765625 \r\nL 8.0625 10.15625 \r\nQ 15.53125 5.375 23.046875 5.375 \r\nQ 30.765625 5.375 35.46875 9.84375 \r\nQ 40.1875 14.3125 40.1875 21.4375 \r\nQ 40.1875 28.71875 35.390625 32.6875 \r\nQ 30.609375 36.671875 21.578125 36.671875 \r\nQ 15.53125 36.671875 9.421875 35.9375 \r\nL 11.859375 71.875 \r\nL 44.828125 71.875 \r\nL 44.828125 64.796875 \r\nL 18.84375 64.796875 \r\nL 17.28125 43.171875 \r\nQ 21.046875 43.5 24.171875 43.5 \r\nQ 35.359375 43.5 41.671875 37.71875 \r\nQ 48 31.9375 48 21.921875 \r\nz\r\n\" id=\"MalgunGothic-53\"/>\r\n      </defs>\r\n      <g transform=\"translate(159.495974 364.200937)scale(0.1 -0.1)\">\r\n       <use xlink:href=\"#MalgunGothic-53\"/>\r\n      </g>\r\n     </g>\r\n    </g>\r\n    <g id=\"xtick_3\">\r\n     <g id=\"line2d_3\">\r\n      <g>\r\n       <use style=\"stroke:#000000;stroke-width:0.8;\" x=\"243.973197\" xlink:href=\"#mabe647edc7\" y=\"349.60875\"/>\r\n      </g>\r\n     </g>\r\n     <g id=\"text_3\">\r\n      <!-- 10 -->\r\n      <defs>\r\n       <path d=\"M 34.859375 0 \r\nL 27.09375 0 \r\nL 27.09375 62.0625 \r\nQ 24.859375 59.8125 19.78125 57.203125 \r\nQ 14.703125 54.59375 10.5 53.5625 \r\nL 10.5 61.859375 \r\nQ 15.875 63.375 22.015625 66.796875 \r\nQ 28.171875 70.21875 31.734375 73.4375 \r\nL 34.859375 73.4375 \r\nz\r\n\" id=\"MalgunGothic-49\"/>\r\n      </defs>\r\n      <g transform=\"translate(238.465385 364.200937)scale(0.1 -0.1)\">\r\n       <use xlink:href=\"#MalgunGothic-49\"/>\r\n       <use x=\"55.078125\" xlink:href=\"#MalgunGothic-48\"/>\r\n      </g>\r\n     </g>\r\n    </g>\r\n    <g id=\"xtick_4\">\r\n     <g id=\"line2d_4\">\r\n      <g>\r\n       <use style=\"stroke:#000000;stroke-width:0.8;\" x=\"325.696514\" xlink:href=\"#mabe647edc7\" y=\"349.60875\"/>\r\n      </g>\r\n     </g>\r\n     <g id=\"text_4\">\r\n      <!-- 15 -->\r\n      <g transform=\"translate(320.188702 364.200937)scale(0.1 -0.1)\">\r\n       <use xlink:href=\"#MalgunGothic-49\"/>\r\n       <use x=\"55.078125\" xlink:href=\"#MalgunGothic-53\"/>\r\n      </g>\r\n     </g>\r\n    </g>\r\n    <g id=\"xtick_5\">\r\n     <g id=\"line2d_5\">\r\n      <g>\r\n       <use style=\"stroke:#000000;stroke-width:0.8;\" x=\"407.419832\" xlink:href=\"#mabe647edc7\" y=\"349.60875\"/>\r\n      </g>\r\n     </g>\r\n     <g id=\"text_5\">\r\n      <!-- 20 -->\r\n      <defs>\r\n       <path d=\"M 39.359375 52.6875 \r\nQ 39.359375 59.125 35.546875 62.78125 \r\nQ 31.734375 66.453125 25.4375 66.453125 \r\nQ 20.953125 66.453125 16.453125 64.125 \r\nQ 11.96875 61.8125 8.34375 57.765625 \r\nL 8.34375 66.15625 \r\nQ 15.328125 73.046875 26.421875 73.046875 \r\nQ 35.640625 73.046875 41.28125 67.71875 \r\nQ 46.921875 62.40625 46.921875 53.375 \r\nQ 46.921875 45.609375 43.3125 39.765625 \r\nQ 39.703125 33.9375 31 27.734375 \r\nQ 22.796875 21.96875 19.59375 18.984375 \r\nQ 16.40625 16.015625 15.109375 13.34375 \r\nQ 13.8125 10.6875 13.8125 7.03125 \r\nL 48.6875 7.03125 \r\nL 48.6875 0 \r\nL 5.5625 0 \r\nL 5.5625 3.515625 \r\nQ 5.5625 9.421875 7.203125 13.59375 \r\nQ 8.84375 17.78125 12.671875 21.75 \r\nQ 16.5 25.734375 24.953125 31.59375 \r\nQ 32.671875 36.921875 36.015625 41.71875 \r\nQ 39.359375 46.53125 39.359375 52.6875 \r\nz\r\n\" id=\"MalgunGothic-50\"/>\r\n      </defs>\r\n      <g transform=\"translate(401.912019 364.200937)scale(0.1 -0.1)\">\r\n       <use xlink:href=\"#MalgunGothic-50\"/>\r\n       <use x=\"55.078125\" xlink:href=\"#MalgunGothic-48\"/>\r\n      </g>\r\n     </g>\r\n    </g>\r\n    <g id=\"xtick_6\">\r\n     <g id=\"line2d_6\">\r\n      <g>\r\n       <use style=\"stroke:#000000;stroke-width:0.8;\" x=\"489.143149\" xlink:href=\"#mabe647edc7\" y=\"349.60875\"/>\r\n      </g>\r\n     </g>\r\n     <g id=\"text_6\">\r\n      <!-- 25 -->\r\n      <g transform=\"translate(483.635336 364.200937)scale(0.1 -0.1)\">\r\n       <use xlink:href=\"#MalgunGothic-50\"/>\r\n       <use x=\"55.078125\" xlink:href=\"#MalgunGothic-53\"/>\r\n      </g>\r\n     </g>\r\n    </g>\r\n    <g id=\"xtick_7\">\r\n     <g id=\"line2d_7\">\r\n      <g>\r\n       <use style=\"stroke:#000000;stroke-width:0.8;\" x=\"570.866466\" xlink:href=\"#mabe647edc7\" y=\"349.60875\"/>\r\n      </g>\r\n     </g>\r\n     <g id=\"text_7\">\r\n      <!-- 30 -->\r\n      <defs>\r\n       <path d=\"M 6.5 11.234375 \r\nQ 13.921875 5.375 23.09375 5.375 \r\nQ 30.609375 5.375 35.21875 9.171875 \r\nQ 39.84375 12.984375 39.84375 19.484375 \r\nQ 39.84375 33.890625 19.578125 33.890625 \r\nL 13.625 33.890625 \r\nL 13.625 40.484375 \r\nL 19.28125 40.484375 \r\nQ 37.3125 40.484375 37.3125 53.953125 \r\nQ 37.3125 66.40625 23.578125 66.40625 \r\nQ 15.96875 66.40625 9.28125 61.1875 \r\nL 9.28125 68.953125 \r\nQ 16.109375 73.046875 25.53125 73.046875 \r\nQ 34.125 73.046875 39.671875 68.3125 \r\nQ 45.21875 63.578125 45.21875 55.953125 \r\nQ 45.21875 41.84375 30.8125 37.640625 \r\nL 30.8125 37.5 \r\nQ 38.578125 36.8125 43.1875 32.078125 \r\nQ 47.796875 27.34375 47.796875 20.3125 \r\nQ 47.796875 10.5 40.6875 4.640625 \r\nQ 33.59375 -1.21875 22.65625 -1.21875 \r\nQ 12.59375 -1.21875 6.5 2.640625 \r\nz\r\n\" id=\"MalgunGothic-51\"/>\r\n      </defs>\r\n      <g transform=\"translate(565.358654 364.200937)scale(0.1 -0.1)\">\r\n       <use xlink:href=\"#MalgunGothic-51\"/>\r\n       <use x=\"55.078125\" xlink:href=\"#MalgunGothic-48\"/>\r\n      </g>\r\n     </g>\r\n    </g>\r\n    <g id=\"xtick_8\">\r\n     <g id=\"line2d_8\">\r\n      <g>\r\n       <use style=\"stroke:#000000;stroke-width:0.8;\" x=\"652.589783\" xlink:href=\"#mabe647edc7\" y=\"349.60875\"/>\r\n      </g>\r\n     </g>\r\n     <g id=\"text_8\">\r\n      <!-- 35 -->\r\n      <g transform=\"translate(647.081971 364.200937)scale(0.1 -0.1)\">\r\n       <use xlink:href=\"#MalgunGothic-51\"/>\r\n       <use x=\"55.078125\" xlink:href=\"#MalgunGothic-53\"/>\r\n      </g>\r\n     </g>\r\n    </g>\r\n    <g id=\"xtick_9\">\r\n     <g id=\"line2d_9\">\r\n      <g>\r\n       <use style=\"stroke:#000000;stroke-width:0.8;\" x=\"734.313101\" xlink:href=\"#mabe647edc7\" y=\"349.60875\"/>\r\n      </g>\r\n     </g>\r\n     <g id=\"text_9\">\r\n      <!-- 40 -->\r\n      <defs>\r\n       <path d=\"M 42.234375 71.875 \r\nL 42.234375 24.421875 \r\nL 51.703125 24.421875 \r\nL 51.703125 17.390625 \r\nL 42.234375 17.390625 \r\nL 42.234375 0 \r\nL 34.578125 0 \r\nL 34.578125 17.390625 \r\nL 0.78125 17.390625 \r\nL 0.78125 23.96875 \r\nQ 11.375 35.890625 20.234375 48.578125 \r\nQ 29.109375 61.28125 33.9375 71.875 \r\nz\r\nM 9.765625 24.421875 \r\nL 34.578125 24.421875 \r\nL 34.578125 59.859375 \r\nQ 25.203125 43.5625 14.984375 30.953125 \r\nz\r\n\" id=\"MalgunGothic-52\"/>\r\n      </defs>\r\n      <g transform=\"translate(728.805288 364.200937)scale(0.1 -0.1)\">\r\n       <use xlink:href=\"#MalgunGothic-52\"/>\r\n       <use x=\"55.078125\" xlink:href=\"#MalgunGothic-48\"/>\r\n      </g>\r\n     </g>\r\n    </g>\r\n    <g id=\"text_10\">\r\n     <!-- 평균 mpg -->\r\n     <defs>\r\n      <path d=\"M 60.6875 46.78125 \r\nL 60.6875 52.984375 \r\nL 77.296875 52.984375 \r\nL 77.296875 62.015625 \r\nL 60.6875 62.015625 \r\nL 60.6875 68.21875 \r\nL 77.296875 68.21875 \r\nL 77.296875 85.40625 \r\nL 84.625 85.40625 \r\nL 84.625 29.390625 \r\nL 77.296875 29.390625 \r\nL 77.296875 46.78125 \r\nz\r\nM 12.40625 74.21875 \r\nL 12.40625 80.609375 \r\nL 63.375 80.609375 \r\nL 63.375 74.21875 \r\nz\r\nM 67.28125 35.109375 \r\nQ 61.140625 33.890625 50.484375 33.890625 \r\nL 10.109375 33.890625 \r\nL 10.109375 40.28125 \r\nL 22.90625 40.28125 \r\nL 21.78125 69.921875 \r\nL 28.90625 69.921875 \r\nL 29.78125 40.28125 \r\nL 45.3125 40.28125 \r\nL 46.1875 69.921875 \r\nL 53.328125 69.921875 \r\nL 52.09375 40.375 \r\nQ 60.890625 40.375 66.796875 41.40625 \r\nz\r\nM 55.421875 -8.40625 \r\nQ 40.53125 -8.40625 32.515625 -3.546875 \r\nQ 24.515625 1.3125 24.515625 9.28125 \r\nQ 24.515625 17.1875 32.4375 22.046875 \r\nQ 40.375 26.90625 55.421875 26.90625 \r\nQ 70.40625 26.90625 78.390625 22.046875 \r\nQ 86.375 17.1875 86.375 9.28125 \r\nQ 86.375 1.3125 78.3125 -3.546875 \r\nQ 70.265625 -8.40625 55.421875 -8.40625 \r\nz\r\nM 55.421875 20.703125 \r\nQ 44.28125 20.703125 38.296875 17.625 \r\nQ 32.328125 14.546875 32.328125 9.28125 \r\nQ 32.328125 4.046875 38.328125 0.96875 \r\nQ 44.34375 -2.09375 55.421875 -2.09375 \r\nQ 66.5 -2.09375 72.609375 0.96875 \r\nQ 78.71875 4.046875 78.71875 9.28125 \r\nQ 78.71875 14.546875 72.625 17.625 \r\nQ 66.546875 20.703125 55.421875 20.703125 \r\nz\r\n\" id=\"MalgunGothic-54217\"/>\r\n      <path d=\"M 36.625 12.984375 \r\nL 36.625 39.015625 \r\nL 6.296875 39.015625 \r\nL 6.296875 45.609375 \r\nL 71.390625 45.609375 \r\nQ 72.21875 53.71875 72.21875 74.8125 \r\nL 20.90625 74.8125 \r\nL 20.90625 81.296875 \r\nL 79.5 81.296875 \r\nQ 79.5 56.984375 78.515625 45.609375 \r\nL 93.703125 45.609375 \r\nL 93.703125 39.015625 \r\nL 68.21875 39.015625 \r\nL 68.21875 12.984375 \r\nL 60.984375 12.984375 \r\nL 60.984375 39.015625 \r\nL 43.796875 39.015625 \r\nL 43.796875 12.984375 \r\nz\r\nM 20.515625 -4.6875 \r\nL 20.515625 25.59375 \r\nL 27.6875 25.59375 \r\nL 27.6875 1.8125 \r\nL 81.390625 1.8125 \r\nL 81.390625 -4.6875 \r\nz\r\n\" id=\"MalgunGothic-44512\"/>\r\n      <path id=\"MalgunGothic-32\"/>\r\n      <path d=\"M 80.71875 0 \r\nL 72.953125 0 \r\nL 72.953125 29.4375 \r\nQ 72.953125 38.484375 70.234375 42.21875 \r\nQ 67.53125 45.953125 61.28125 45.953125 \r\nQ 56 45.953125 52.21875 40.984375 \r\nQ 48.4375 36.03125 48.4375 29.296875 \r\nL 48.4375 0 \r\nL 40.71875 0 \r\nL 40.71875 30.515625 \r\nQ 40.71875 45.953125 28.8125 45.953125 \r\nQ 23.390625 45.953125 19.765625 41.28125 \r\nQ 16.15625 36.625 16.15625 29.296875 \r\nL 16.15625 0 \r\nL 8.40625 0 \r\nL 8.40625 51.3125 \r\nL 16.15625 51.3125 \r\nL 16.15625 43.171875 \r\nL 16.359375 43.171875 \r\nQ 21.734375 52.484375 32.234375 52.484375 \r\nQ 37.203125 52.484375 41.1875 49.625 \r\nQ 45.171875 46.78125 46.734375 41.796875 \r\nQ 52.4375 52.484375 63.765625 52.484375 \r\nQ 80.71875 52.484375 80.71875 31.59375 \r\nz\r\n\" id=\"MalgunGothic-109\"/>\r\n      <path d=\"M 16.15625 7.515625 \r\nL 16.15625 -23.640625 \r\nL 8.40625 -23.640625 \r\nL 8.40625 51.3125 \r\nL 16.15625 51.3125 \r\nL 16.15625 42.234375 \r\nL 16.359375 42.234375 \r\nQ 22.46875 52.484375 34.125 52.484375 \r\nQ 43.890625 52.484375 49.546875 45.625 \r\nQ 55.21875 38.765625 55.21875 27.15625 \r\nQ 55.21875 14.15625 48.84375 6.46875 \r\nQ 42.484375 -1.21875 31.78125 -1.21875 \r\nQ 21.78125 -1.21875 16.359375 7.515625 \r\nz\r\nM 16.15625 20.796875 \r\nQ 16.15625 14.40625 20.421875 9.890625 \r\nQ 24.703125 5.375 31.109375 5.375 \r\nQ 38.671875 5.375 42.984375 11.1875 \r\nQ 47.3125 17 47.3125 27.390625 \r\nQ 47.3125 35.9375 43.234375 40.9375 \r\nQ 39.15625 45.953125 32.375 45.953125 \r\nQ 25.296875 45.953125 20.71875 40.921875 \r\nQ 16.15625 35.890625 16.15625 28.21875 \r\nz\r\n\" id=\"MalgunGothic-112\"/>\r\n      <path d=\"M 51.765625 4.046875 \r\nQ 51.765625 -24.171875 25.046875 -24.171875 \r\nQ 15.671875 -24.171875 8.40625 -20.515625 \r\nL 8.40625 -12.59375 \r\nQ 17 -17.4375 25 -17.4375 \r\nQ 44.09375 -17.4375 44.09375 3.03125 \r\nL 44.09375 8.734375 \r\nL 43.890625 8.734375 \r\nQ 37.84375 -1.21875 26.171875 -1.21875 \r\nQ 16.65625 -1.21875 10.796875 5.65625 \r\nQ 4.9375 12.546875 4.9375 23.96875 \r\nQ 4.9375 37.109375 11.28125 44.796875 \r\nQ 17.625 52.484375 28.375 52.484375 \r\nQ 38.8125 52.484375 43.890625 44.09375 \r\nL 44.09375 44.09375 \r\nL 44.09375 51.3125 \r\nL 51.765625 51.3125 \r\nz\r\nM 44.09375 30.90625 \r\nQ 44.09375 37.15625 39.796875 41.546875 \r\nQ 35.5 45.953125 29.34375 45.953125 \r\nQ 21.625 45.953125 17.203125 40.265625 \r\nQ 12.796875 34.578125 12.796875 24.5625 \r\nQ 12.796875 15.875 17.0625 10.625 \r\nQ 21.34375 5.375 28.171875 5.375 \r\nQ 35.109375 5.375 39.59375 10.40625 \r\nQ 44.09375 15.4375 44.09375 23.09375 \r\nz\r\n\" id=\"MalgunGothic-103\"/>\r\n     </defs>\r\n     <g transform=\"translate(393.15625 379.105625)scale(0.1 -0.1)\">\r\n      <use xlink:href=\"#MalgunGothic-54217\"/>\r\n      <use x=\"100\" xlink:href=\"#MalgunGothic-44512\"/>\r\n      <use x=\"200\" xlink:href=\"#MalgunGothic-32\"/>\r\n      <use x=\"235.15625\" xlink:href=\"#MalgunGothic-109\"/>\r\n      <use x=\"323.144531\" xlink:href=\"#MalgunGothic-112\"/>\r\n      <use x=\"383.203125\" xlink:href=\"#MalgunGothic-103\"/>\r\n     </g>\r\n    </g>\r\n   </g>\r\n   <g id=\"matplotlib.axis_2\">\r\n    <g id=\"ytick_1\">\r\n     <g id=\"line2d_10\">\r\n      <defs>\r\n       <path d=\"M 0 0 \r\nL -3.5 0 \r\n\" id=\"m88e0bb8e9c\" style=\"stroke:#000000;stroke-width:0.8;\"/>\r\n      </defs>\r\n      <g>\r\n       <use style=\"stroke:#000000;stroke-width:0.8;\" x=\"80.526563\" xlink:href=\"#m88e0bb8e9c\" y=\"329.081198\"/>\r\n      </g>\r\n     </g>\r\n     <g id=\"text_11\">\r\n      <!-- chrysler -->\r\n      <defs>\r\n       <path d=\"M 43.171875 2.390625 \r\nQ 37.109375 -1.21875 29.25 -1.21875 \r\nQ 18.5 -1.21875 11.71875 5.8125 \r\nQ 4.9375 12.84375 4.9375 24.46875 \r\nQ 4.9375 37.203125 12.140625 44.84375 \r\nQ 19.34375 52.484375 31.390625 52.484375 \r\nQ 38.03125 52.484375 43.21875 50 \r\nL 43.21875 41.890625 \r\nQ 37.453125 45.953125 30.953125 45.953125 \r\nQ 23.09375 45.953125 17.9375 40.265625 \r\nQ 12.796875 34.578125 12.796875 25.140625 \r\nQ 12.796875 16.15625 17.5 10.765625 \r\nQ 22.21875 5.375 30.421875 5.375 \r\nQ 37.203125 5.375 43.171875 9.859375 \r\nz\r\n\" id=\"MalgunGothic-99\"/>\r\n       <path d=\"M 50.59375 0 \r\nL 42.875 0 \r\nL 42.875 29.59375 \r\nQ 42.875 45.953125 30.671875 45.953125 \r\nQ 24.5625 45.953125 20.359375 41.203125 \r\nQ 16.15625 36.46875 16.15625 29.046875 \r\nL 16.15625 0 \r\nL 8.40625 0 \r\nL 8.40625 75.921875 \r\nL 16.15625 75.921875 \r\nL 16.15625 42.71875 \r\nL 16.359375 42.71875 \r\nQ 22.265625 52.484375 33.25 52.484375 \r\nQ 50.59375 52.484375 50.59375 31.59375 \r\nz\r\n\" id=\"MalgunGothic-104\"/>\r\n       <path d=\"M 34.765625 43.359375 \r\nQ 32.5625 45.015625 28.5625 45.015625 \r\nQ 23.296875 45.015625 19.71875 39.890625 \r\nQ 16.15625 34.765625 16.15625 26.265625 \r\nL 16.15625 0 \r\nL 8.40625 0 \r\nL 8.40625 51.3125 \r\nL 16.15625 51.3125 \r\nL 16.15625 40.671875 \r\nL 16.359375 40.671875 \r\nQ 18.109375 46.09375 21.703125 49.140625 \r\nQ 25.296875 52.203125 29.734375 52.203125 \r\nQ 32.953125 52.203125 34.765625 51.515625 \r\nz\r\n\" id=\"MalgunGothic-114\"/>\r\n       <path d=\"M 48.734375 51.3125 \r\nL 24.953125 -8.5 \r\nQ 18.703125 -24.171875 7.515625 -24.171875 \r\nQ 4.890625 -24.171875 2.4375 -23.578125 \r\nL 2.4375 -16.5 \r\nQ 4.9375 -17.328125 7.171875 -17.328125 \r\nQ 13.421875 -17.328125 16.546875 -9.8125 \r\nL 20.75 0.09375 \r\nL 0.734375 51.3125 \r\nL 9.328125 51.3125 \r\nL 23.484375 11.28125 \r\nQ 23.640625 10.890625 24.5625 7.625 \r\nL 24.8125 7.625 \r\nL 25.78125 11.1875 \r\nL 40.671875 51.3125 \r\nz\r\n\" id=\"MalgunGothic-121\"/>\r\n       <path d=\"M 5.171875 10.453125 \r\nQ 11.921875 5.46875 19.96875 5.46875 \r\nQ 30.90625 5.46875 30.90625 12.84375 \r\nQ 30.90625 16.015625 28.515625 18.09375 \r\nQ 26.125 20.171875 19.09375 22.796875 \r\nQ 10.984375 26.03125 8.125 29.34375 \r\nQ 5.28125 32.671875 5.28125 37.75 \r\nQ 5.28125 44.28125 10.9375 48.375 \r\nQ 16.609375 52.484375 24.75 52.484375 \r\nQ 31.296875 52.484375 36.578125 50.203125 \r\nL 36.578125 42.140625 \r\nQ 30.859375 45.84375 23.53125 45.84375 \r\nQ 18.75 45.84375 16.015625 43.71875 \r\nQ 13.28125 41.609375 13.28125 38.421875 \r\nQ 13.28125 35.015625 15.296875 33.203125 \r\nQ 17.328125 31.390625 24.125 28.71875 \r\nQ 33.296875 25.140625 36.078125 21.71875 \r\nQ 38.875 18.3125 38.875 13.578125 \r\nQ 38.875 6.734375 33.234375 2.75 \r\nQ 27.59375 -1.21875 18.796875 -1.21875 \r\nQ 10.84375 -1.21875 5.171875 1.90625 \r\nz\r\n\" id=\"MalgunGothic-115\"/>\r\n       <path d=\"M 8.453125 0 \r\nL 8.453125 75.921875 \r\nL 16.15625 75.921875 \r\nL 16.15625 0 \r\nz\r\n\" id=\"MalgunGothic-108\"/>\r\n       <path d=\"M 49.3125 23.734375 \r\nL 12.9375 23.734375 \r\nQ 13.1875 14.84375 17.703125 10.125 \r\nQ 22.21875 5.421875 29.828125 5.421875 \r\nQ 38.625 5.421875 45.84375 11.234375 \r\nL 45.84375 3.8125 \r\nQ 38.96875 -1.21875 28.03125 -1.21875 \r\nQ 17.1875 -1.21875 11.0625 5.875 \r\nQ 4.9375 12.984375 4.9375 25.53125 \r\nQ 4.9375 37.203125 11.671875 44.84375 \r\nQ 18.40625 52.484375 28.375 52.484375 \r\nQ 38.328125 52.484375 43.8125 45.96875 \r\nQ 49.3125 39.453125 49.3125 27.9375 \r\nz\r\nM 41.3125 30.5625 \r\nQ 41.3125 37.75 37.859375 41.796875 \r\nQ 34.421875 45.84375 28.265625 45.84375 \r\nQ 22.46875 45.84375 18.265625 41.671875 \r\nQ 14.0625 37.5 13.03125 30.5625 \r\nz\r\n\" id=\"MalgunGothic-101\"/>\r\n      </defs>\r\n      <g transform=\"translate(38.434375 332.877291)scale(0.1 -0.1)\">\r\n       <use xlink:href=\"#MalgunGothic-99\"/>\r\n       <use x=\"47.265625\" xlink:href=\"#MalgunGothic-104\"/>\r\n       <use x=\"105.126953\" xlink:href=\"#MalgunGothic-114\"/>\r\n       <use x=\"144.853516\" xlink:href=\"#MalgunGothic-121\"/>\r\n       <use x=\"194.121094\" xlink:href=\"#MalgunGothic-115\"/>\r\n       <use x=\"237.431641\" xlink:href=\"#MalgunGothic-108\"/>\r\n       <use x=\"262.041016\" xlink:href=\"#MalgunGothic-101\"/>\r\n       <use x=\"315.556641\" xlink:href=\"#MalgunGothic-114\"/>\r\n      </g>\r\n     </g>\r\n    </g>\r\n    <g id=\"ytick_2\">\r\n     <g id=\"line2d_11\">\r\n      <g>\r\n       <use style=\"stroke:#000000;stroke-width:0.8;\" x=\"80.526563\" xlink:href=\"#m88e0bb8e9c\" y=\"314.825953\"/>\r\n      </g>\r\n     </g>\r\n     <g id=\"text_12\">\r\n      <!-- amc -->\r\n      <defs>\r\n       <path d=\"M 9.625 47.65625 \r\nQ 17.140625 52.484375 26.90625 52.484375 \r\nQ 44.78125 52.484375 44.78125 33.546875 \r\nL 44.78125 0 \r\nL 37.015625 0 \r\nL 37.015625 8.0625 \r\nL 36.71875 8.0625 \r\nQ 31.390625 -1.21875 20.953125 -1.21875 \r\nQ 13.421875 -1.21875 9 2.8125 \r\nQ 4.59375 6.84375 4.59375 13.578125 \r\nQ 4.59375 27.875 21.484375 30.21875 \r\nL 36.96875 32.46875 \r\nQ 36.96875 45.84375 26.3125 45.84375 \r\nQ 16.9375 45.84375 9.625 39.453125 \r\nz\r\nM 24.421875 24.359375 \r\nQ 18.40625 23.578125 15.515625 21.421875 \r\nQ 12.640625 19.28125 12.640625 14.109375 \r\nQ 12.640625 10.203125 15.40625 7.8125 \r\nQ 18.171875 5.421875 22.65625 5.421875 \r\nQ 28.859375 5.421875 32.90625 9.8125 \r\nQ 36.96875 14.203125 36.96875 20.84375 \r\nL 36.96875 26.03125 \r\nz\r\n\" id=\"MalgunGothic-97\"/>\r\n      </defs>\r\n      <g transform=\"translate(54.801563 318.622047)scale(0.1 -0.1)\">\r\n       <use xlink:href=\"#MalgunGothic-97\"/>\r\n       <use x=\"52.001953\" xlink:href=\"#MalgunGothic-109\"/>\r\n       <use x=\"139.990234\" xlink:href=\"#MalgunGothic-99\"/>\r\n      </g>\r\n     </g>\r\n    </g>\r\n    <g id=\"ytick_3\">\r\n     <g id=\"line2d_12\">\r\n      <g>\r\n       <use style=\"stroke:#000000;stroke-width:0.8;\" x=\"80.526563\" xlink:href=\"#m88e0bb8e9c\" y=\"300.570708\"/>\r\n      </g>\r\n     </g>\r\n     <g id=\"text_13\">\r\n      <!-- mercury -->\r\n      <defs>\r\n       <path d=\"M 49.46875 0 \r\nL 41.703125 0 \r\nL 41.703125 8.109375 \r\nL 41.5 8.109375 \r\nQ 36.421875 -1.21875 25.6875 -1.21875 \r\nQ 7.328125 -1.21875 7.328125 20.65625 \r\nL 7.328125 51.3125 \r\nL 14.984375 51.3125 \r\nL 14.984375 21.921875 \r\nQ 14.984375 5.375 27.59375 5.375 \r\nQ 33.734375 5.375 37.71875 9.9375 \r\nQ 41.703125 14.5 41.703125 21.78125 \r\nL 41.703125 51.3125 \r\nL 49.46875 51.3125 \r\nz\r\n\" id=\"MalgunGothic-117\"/>\r\n      </defs>\r\n      <g transform=\"translate(36.570313 304.340239)scale(0.1 -0.1)\">\r\n       <use xlink:href=\"#MalgunGothic-109\"/>\r\n       <use x=\"87.988281\" xlink:href=\"#MalgunGothic-101\"/>\r\n       <use x=\"141.503906\" xlink:href=\"#MalgunGothic-114\"/>\r\n       <use x=\"175.480469\" xlink:href=\"#MalgunGothic-99\"/>\r\n       <use x=\"222.746094\" xlink:href=\"#MalgunGothic-117\"/>\r\n       <use x=\"280.558594\" xlink:href=\"#MalgunGothic-114\"/>\r\n       <use x=\"320.285156\" xlink:href=\"#MalgunGothic-121\"/>\r\n      </g>\r\n     </g>\r\n    </g>\r\n    <g id=\"ytick_4\">\r\n     <g id=\"line2d_13\">\r\n      <g>\r\n       <use style=\"stroke:#000000;stroke-width:0.8;\" x=\"80.526563\" xlink:href=\"#m88e0bb8e9c\" y=\"286.315463\"/>\r\n      </g>\r\n     </g>\r\n     <g id=\"text_14\">\r\n      <!-- buick -->\r\n      <defs>\r\n       <path d=\"M 16.15625 7.515625 \r\nL 16.15625 0 \r\nL 8.40625 0 \r\nL 8.40625 75.921875 \r\nL 16.15625 75.921875 \r\nL 16.15625 42.234375 \r\nL 16.359375 42.234375 \r\nQ 22.46875 52.484375 34.125 52.484375 \r\nQ 43.953125 52.484375 49.578125 45.578125 \r\nQ 55.21875 38.671875 55.21875 27.15625 \r\nQ 55.21875 14.15625 48.84375 6.46875 \r\nQ 42.484375 -1.21875 31.78125 -1.21875 \r\nQ 21.625 -1.21875 16.359375 7.515625 \r\nz\r\nM 16.15625 20.84375 \r\nQ 16.15625 14.40625 20.421875 9.890625 \r\nQ 24.703125 5.375 31.109375 5.375 \r\nQ 38.671875 5.375 42.984375 11.1875 \r\nQ 47.3125 17 47.3125 27.390625 \r\nQ 47.3125 35.984375 43.234375 40.96875 \r\nQ 39.15625 45.953125 32.375 45.953125 \r\nQ 25.25 45.953125 20.703125 40.875 \r\nQ 16.15625 35.796875 16.15625 28.171875 \r\nz\r\n\" id=\"MalgunGothic-98\"/>\r\n       <path d=\"M 7.375 69.78125 \r\nQ 7.375 71.96875 8.828125 73.453125 \r\nQ 10.296875 74.953125 12.40625 74.953125 \r\nQ 14.59375 74.953125 16.078125 73.4375 \r\nQ 17.578125 71.921875 17.578125 69.78125 \r\nQ 17.578125 67.578125 16.078125 66.109375 \r\nQ 14.59375 64.65625 12.40625 64.65625 \r\nQ 10.296875 64.65625 8.828125 66.09375 \r\nQ 7.375 67.53125 7.375 69.78125 \r\nz\r\nM 8.453125 0 \r\nL 8.453125 51.3125 \r\nL 16.15625 51.3125 \r\nL 16.15625 0 \r\nz\r\n\" id=\"MalgunGothic-105\"/>\r\n       <path d=\"M 50.4375 0 \r\nL 39.453125 0 \r\nL 16.359375 24.609375 \r\nL 16.15625 24.609375 \r\nL 16.15625 0 \r\nL 8.40625 0 \r\nL 8.40625 75.921875 \r\nL 16.15625 75.921875 \r\nL 16.15625 27.78125 \r\nL 16.359375 27.78125 \r\nL 38.28125 51.3125 \r\nL 48.53125 51.3125 \r\nL 24.421875 26.46875 \r\nz\r\n\" id=\"MalgunGothic-107\"/>\r\n      </defs>\r\n      <g transform=\"translate(49.492188 290.111557)scale(0.1 -0.1)\">\r\n       <use xlink:href=\"#MalgunGothic-98\"/>\r\n       <use x=\"60.058594\" xlink:href=\"#MalgunGothic-117\"/>\r\n       <use x=\"117.871094\" xlink:href=\"#MalgunGothic-105\"/>\r\n       <use x=\"142.480469\" xlink:href=\"#MalgunGothic-99\"/>\r\n       <use x=\"189.746094\" xlink:href=\"#MalgunGothic-107\"/>\r\n      </g>\r\n     </g>\r\n    </g>\r\n    <g id=\"ytick_5\">\r\n     <g id=\"line2d_14\">\r\n      <g>\r\n       <use style=\"stroke:#000000;stroke-width:0.8;\" x=\"80.526563\" xlink:href=\"#m88e0bb8e9c\" y=\"272.060219\"/>\r\n      </g>\r\n     </g>\r\n     <g id=\"text_15\">\r\n      <!-- ford -->\r\n      <defs>\r\n       <path d=\"M 33.25 69.09375 \r\nQ 30.859375 70.40625 27.78125 70.40625 \r\nQ 19.09375 70.40625 19.09375 59.375 \r\nL 19.09375 51.3125 \r\nL 31.109375 51.3125 \r\nL 31.109375 44.625 \r\nL 19.09375 44.625 \r\nL 19.09375 0 \r\nL 11.46875 0 \r\nL 11.46875 44.625 \r\nL 2.6875 44.625 \r\nL 2.6875 51.3125 \r\nL 11.46875 51.3125 \r\nL 11.46875 59.765625 \r\nQ 11.46875 67.828125 16.03125 72.4375 \r\nQ 20.609375 77.046875 27.390625 77.046875 \r\nQ 31.15625 77.046875 33.25 76.171875 \r\nz\r\n\" id=\"MalgunGothic-102\"/>\r\n       <path d=\"M 4.9375 25 \r\nQ 4.9375 37.796875 11.890625 45.140625 \r\nQ 18.84375 52.484375 30.90625 52.484375 \r\nQ 42.140625 52.484375 48.609375 45.421875 \r\nQ 55.078125 38.375 55.078125 25.78125 \r\nQ 55.078125 13.578125 48.09375 6.171875 \r\nQ 41.109375 -1.21875 29.6875 -1.21875 \r\nQ 18.5 -1.21875 11.71875 6 \r\nQ 4.9375 13.234375 4.9375 25 \r\nz\r\nM 12.796875 25.34375 \r\nQ 12.796875 16.265625 17.546875 10.8125 \r\nQ 22.3125 5.375 30.21875 5.375 \r\nQ 38.421875 5.375 42.796875 10.625 \r\nQ 47.171875 15.875 47.171875 25.53125 \r\nQ 47.171875 35.25 42.765625 40.59375 \r\nQ 38.375 45.953125 30.21875 45.953125 \r\nQ 22.265625 45.953125 17.53125 40.421875 \r\nQ 12.796875 34.90625 12.796875 25.34375 \r\nz\r\n\" id=\"MalgunGothic-111\"/>\r\n       <path d=\"M 51.765625 0 \r\nL 44.09375 0 \r\nL 44.09375 8.84375 \r\nL 43.890625 8.84375 \r\nQ 38.1875 -1.21875 26.171875 -1.21875 \r\nQ 16.5 -1.21875 10.71875 5.6875 \r\nQ 4.9375 12.59375 4.9375 24.46875 \r\nQ 4.9375 37.109375 11.375 44.796875 \r\nQ 17.828125 52.484375 28.375 52.484375 \r\nQ 38.96875 52.484375 43.890625 44.09375 \r\nL 44.09375 44.09375 \r\nL 44.09375 75.921875 \r\nL 51.765625 75.921875 \r\nz\r\nM 44.09375 30.90625 \r\nQ 44.09375 37.15625 39.84375 41.546875 \r\nQ 35.59375 45.953125 29.25 45.953125 \r\nQ 21.625 45.953125 17.203125 40.265625 \r\nQ 12.796875 34.578125 12.796875 24.859375 \r\nQ 12.796875 16.015625 16.96875 10.6875 \r\nQ 21.140625 5.375 28.328125 5.375 \r\nQ 35.15625 5.375 39.625 10.40625 \r\nQ 44.09375 15.4375 44.09375 23.09375 \r\nz\r\n\" id=\"MalgunGothic-100\"/>\r\n      </defs>\r\n      <g transform=\"translate(54.953125 275.856312)scale(0.1 -0.1)\">\r\n       <use xlink:href=\"#MalgunGothic-102\"/>\r\n       <use x=\"31.640625\" xlink:href=\"#MalgunGothic-111\"/>\r\n       <use x=\"91.552734\" xlink:href=\"#MalgunGothic-114\"/>\r\n       <use x=\"125.529297\" xlink:href=\"#MalgunGothic-100\"/>\r\n      </g>\r\n     </g>\r\n    </g>\r\n    <g id=\"ytick_6\">\r\n     <g id=\"line2d_15\">\r\n      <g>\r\n       <use style=\"stroke:#000000;stroke-width:0.8;\" x=\"80.526563\" xlink:href=\"#m88e0bb8e9c\" y=\"257.804974\"/>\r\n      </g>\r\n     </g>\r\n     <g id=\"text_16\">\r\n      <!-- pontiac -->\r\n      <defs>\r\n       <path d=\"M 50.59375 0 \r\nL 42.828125 0 \r\nL 42.828125 29.296875 \r\nQ 42.828125 45.953125 30.671875 45.953125 \r\nQ 24.421875 45.953125 20.28125 41.234375 \r\nQ 16.15625 36.53125 16.15625 29.25 \r\nL 16.15625 0 \r\nL 8.40625 0 \r\nL 8.40625 51.3125 \r\nL 16.15625 51.3125 \r\nL 16.15625 42.71875 \r\nL 16.359375 42.71875 \r\nQ 22.125 52.484375 33.203125 52.484375 \r\nQ 41.65625 52.484375 46.125 47.0625 \r\nQ 50.59375 41.65625 50.59375 31.34375 \r\nz\r\n\" id=\"MalgunGothic-110\"/>\r\n       <path d=\"M 31.734375 0.484375 \r\nQ 28.8125 -1.125 24.265625 -1.125 \r\nQ 11.03125 -1.125 11.03125 13.765625 \r\nL 11.03125 44.625 \r\nL 2.15625 44.625 \r\nL 2.15625 51.3125 \r\nL 11.03125 51.3125 \r\nL 11.03125 63.921875 \r\nL 18.75 66.40625 \r\nL 18.75 51.3125 \r\nL 31.734375 51.3125 \r\nL 31.734375 44.625 \r\nL 18.75 44.625 \r\nL 18.75 15.1875 \r\nQ 18.75 9.765625 20.546875 7.609375 \r\nQ 22.359375 5.46875 26.421875 5.46875 \r\nQ 29.5 5.46875 31.734375 7.171875 \r\nz\r\n\" id=\"MalgunGothic-116\"/>\r\n      </defs>\r\n      <g transform=\"translate(39.914063 261.601068)scale(0.1 -0.1)\">\r\n       <use xlink:href=\"#MalgunGothic-112\"/>\r\n       <use x=\"60.058594\" xlink:href=\"#MalgunGothic-111\"/>\r\n       <use x=\"119.970703\" xlink:href=\"#MalgunGothic-110\"/>\r\n       <use x=\"177.783203\" xlink:href=\"#MalgunGothic-116\"/>\r\n       <use x=\"212.255859\" xlink:href=\"#MalgunGothic-105\"/>\r\n       <use x=\"236.865234\" xlink:href=\"#MalgunGothic-97\"/>\r\n       <use x=\"288.867188\" xlink:href=\"#MalgunGothic-99\"/>\r\n      </g>\r\n     </g>\r\n    </g>\r\n    <g id=\"ytick_7\">\r\n     <g id=\"line2d_16\">\r\n      <g>\r\n       <use style=\"stroke:#000000;stroke-width:0.8;\" x=\"80.526563\" xlink:href=\"#m88e0bb8e9c\" y=\"243.549729\"/>\r\n      </g>\r\n     </g>\r\n     <g id=\"text_17\">\r\n      <!-- chevrolet -->\r\n      <defs>\r\n       <path d=\"M 48.1875 51.3125 \r\nL 27.640625 0 \r\nL 20.21875 0 \r\nL 0.734375 51.3125 \r\nL 9.28125 51.3125 \r\nL 22.515625 13.625 \r\nQ 23.921875 9.515625 24.3125 6.640625 \r\nL 24.5625 6.640625 \r\nQ 25.046875 10.453125 26.125 13.484375 \r\nL 40.046875 51.3125 \r\nz\r\n\" id=\"MalgunGothic-118\"/>\r\n      </defs>\r\n      <g transform=\"translate(32.140625 247.345823)scale(0.1 -0.1)\">\r\n       <use xlink:href=\"#MalgunGothic-99\"/>\r\n       <use x=\"47.265625\" xlink:href=\"#MalgunGothic-104\"/>\r\n       <use x=\"105.126953\" xlink:href=\"#MalgunGothic-101\"/>\r\n       <use x=\"158.642578\" xlink:href=\"#MalgunGothic-118\"/>\r\n       <use x=\"207.373047\" xlink:href=\"#MalgunGothic-114\"/>\r\n       <use x=\"241.349609\" xlink:href=\"#MalgunGothic-111\"/>\r\n       <use x=\"301.261719\" xlink:href=\"#MalgunGothic-108\"/>\r\n       <use x=\"325.871094\" xlink:href=\"#MalgunGothic-101\"/>\r\n       <use x=\"379.386719\" xlink:href=\"#MalgunGothic-116\"/>\r\n      </g>\r\n     </g>\r\n    </g>\r\n    <g id=\"ytick_8\">\r\n     <g id=\"line2d_17\">\r\n      <g>\r\n       <use style=\"stroke:#000000;stroke-width:0.8;\" x=\"80.526563\" xlink:href=\"#m88e0bb8e9c\" y=\"229.294484\"/>\r\n      </g>\r\n     </g>\r\n     <g id=\"text_18\">\r\n      <!-- oldsmobile -->\r\n      <g transform=\"translate(23.654688 233.090578)scale(0.1 -0.1)\">\r\n       <use xlink:href=\"#MalgunGothic-111\"/>\r\n       <use x=\"59.912109\" xlink:href=\"#MalgunGothic-108\"/>\r\n       <use x=\"84.521484\" xlink:href=\"#MalgunGothic-100\"/>\r\n       <use x=\"144.726562\" xlink:href=\"#MalgunGothic-115\"/>\r\n       <use x=\"188.037109\" xlink:href=\"#MalgunGothic-109\"/>\r\n       <use x=\"276.025391\" xlink:href=\"#MalgunGothic-111\"/>\r\n       <use x=\"335.9375\" xlink:href=\"#MalgunGothic-98\"/>\r\n       <use x=\"395.996094\" xlink:href=\"#MalgunGothic-105\"/>\r\n       <use x=\"420.605469\" xlink:href=\"#MalgunGothic-108\"/>\r\n       <use x=\"445.214844\" xlink:href=\"#MalgunGothic-101\"/>\r\n      </g>\r\n     </g>\r\n    </g>\r\n    <g id=\"ytick_9\">\r\n     <g id=\"line2d_18\">\r\n      <g>\r\n       <use style=\"stroke:#000000;stroke-width:0.8;\" x=\"80.526563\" xlink:href=\"#m88e0bb8e9c\" y=\"215.03924\"/>\r\n      </g>\r\n     </g>\r\n     <g id=\"text_19\">\r\n      <!-- volvo -->\r\n      <g transform=\"translate(49.4625 218.835333)scale(0.1 -0.1)\">\r\n       <use xlink:href=\"#MalgunGothic-118\"/>\r\n       <use x=\"48.105469\" xlink:href=\"#MalgunGothic-111\"/>\r\n       <use x=\"108.017578\" xlink:href=\"#MalgunGothic-108\"/>\r\n       <use x=\"132.626953\" xlink:href=\"#MalgunGothic-118\"/>\r\n       <use x=\"180.732422\" xlink:href=\"#MalgunGothic-111\"/>\r\n      </g>\r\n     </g>\r\n    </g>\r\n    <g id=\"ytick_10\">\r\n     <g id=\"line2d_19\">\r\n      <g>\r\n       <use style=\"stroke:#000000;stroke-width:0.8;\" x=\"80.526563\" xlink:href=\"#m88e0bb8e9c\" y=\"200.783995\"/>\r\n      </g>\r\n     </g>\r\n     <g id=\"text_20\">\r\n      <!-- plymouth -->\r\n      <g transform=\"translate(30.329688 204.580089)scale(0.1 -0.1)\">\r\n       <use xlink:href=\"#MalgunGothic-112\"/>\r\n       <use x=\"60.058594\" xlink:href=\"#MalgunGothic-108\"/>\r\n       <use x=\"84.667969\" xlink:href=\"#MalgunGothic-121\"/>\r\n       <use x=\"133.935547\" xlink:href=\"#MalgunGothic-109\"/>\r\n       <use x=\"221.923828\" xlink:href=\"#MalgunGothic-111\"/>\r\n       <use x=\"281.835938\" xlink:href=\"#MalgunGothic-117\"/>\r\n       <use x=\"339.648438\" xlink:href=\"#MalgunGothic-116\"/>\r\n       <use x=\"374.121094\" xlink:href=\"#MalgunGothic-104\"/>\r\n      </g>\r\n     </g>\r\n    </g>\r\n    <g id=\"ytick_11\">\r\n     <g id=\"line2d_20\">\r\n      <g>\r\n       <use style=\"stroke:#000000;stroke-width:0.8;\" x=\"80.526563\" xlink:href=\"#m88e0bb8e9c\" y=\"186.52875\"/>\r\n      </g>\r\n     </g>\r\n     <g id=\"text_21\">\r\n      <!-- dodge -->\r\n      <g transform=\"translate(44.123438 190.324844)scale(0.1 -0.1)\">\r\n       <use xlink:href=\"#MalgunGothic-100\"/>\r\n       <use x=\"60.205078\" xlink:href=\"#MalgunGothic-111\"/>\r\n       <use x=\"120.117188\" xlink:href=\"#MalgunGothic-100\"/>\r\n       <use x=\"180.322266\" xlink:href=\"#MalgunGothic-103\"/>\r\n       <use x=\"240.527344\" xlink:href=\"#MalgunGothic-101\"/>\r\n      </g>\r\n     </g>\r\n    </g>\r\n    <g id=\"ytick_12\">\r\n     <g id=\"line2d_21\">\r\n      <g>\r\n       <use style=\"stroke:#000000;stroke-width:0.8;\" x=\"80.526563\" xlink:href=\"#m88e0bb8e9c\" y=\"172.273505\"/>\r\n      </g>\r\n     </g>\r\n     <g id=\"text_22\">\r\n      <!-- peugeot -->\r\n      <g transform=\"translate(35.578125 176.043036)scale(0.1 -0.1)\">\r\n       <use xlink:href=\"#MalgunGothic-112\"/>\r\n       <use x=\"60.058594\" xlink:href=\"#MalgunGothic-101\"/>\r\n       <use x=\"113.574219\" xlink:href=\"#MalgunGothic-117\"/>\r\n       <use x=\"171.386719\" xlink:href=\"#MalgunGothic-103\"/>\r\n       <use x=\"231.591797\" xlink:href=\"#MalgunGothic-101\"/>\r\n       <use x=\"285.107422\" xlink:href=\"#MalgunGothic-111\"/>\r\n       <use x=\"345.019531\" xlink:href=\"#MalgunGothic-116\"/>\r\n      </g>\r\n     </g>\r\n    </g>\r\n    <g id=\"ytick_13\">\r\n     <g id=\"line2d_22\">\r\n      <g>\r\n       <use style=\"stroke:#000000;stroke-width:0.8;\" x=\"80.526563\" xlink:href=\"#m88e0bb8e9c\" y=\"158.01826\"/>\r\n      </g>\r\n     </g>\r\n     <g id=\"text_23\">\r\n      <!-- audi -->\r\n      <g transform=\"translate(54.064063 161.814354)scale(0.1 -0.1)\">\r\n       <use xlink:href=\"#MalgunGothic-97\"/>\r\n       <use x=\"52.001953\" xlink:href=\"#MalgunGothic-117\"/>\r\n       <use x=\"109.814453\" xlink:href=\"#MalgunGothic-100\"/>\r\n       <use x=\"170.019531\" xlink:href=\"#MalgunGothic-105\"/>\r\n      </g>\r\n     </g>\r\n    </g>\r\n    <g id=\"ytick_14\">\r\n     <g id=\"line2d_23\">\r\n      <g>\r\n       <use style=\"stroke:#000000;stroke-width:0.8;\" x=\"80.526563\" xlink:href=\"#m88e0bb8e9c\" y=\"143.763016\"/>\r\n      </g>\r\n     </g>\r\n     <g id=\"text_24\">\r\n      <!-- toyota -->\r\n      <g transform=\"translate(44.6625 147.532547)scale(0.1 -0.1)\">\r\n       <use xlink:href=\"#MalgunGothic-116\"/>\r\n       <use x=\"33.597656\" xlink:href=\"#MalgunGothic-111\"/>\r\n       <use x=\"93.509766\" xlink:href=\"#MalgunGothic-121\"/>\r\n       <use x=\"142.277344\" xlink:href=\"#MalgunGothic-111\"/>\r\n       <use x=\"202.189453\" xlink:href=\"#MalgunGothic-116\"/>\r\n       <use x=\"236.662109\" xlink:href=\"#MalgunGothic-97\"/>\r\n      </g>\r\n     </g>\r\n    </g>\r\n    <g id=\"ytick_15\">\r\n     <g id=\"line2d_24\">\r\n      <g>\r\n       <use style=\"stroke:#000000;stroke-width:0.8;\" x=\"80.526563\" xlink:href=\"#m88e0bb8e9c\" y=\"129.507771\"/>\r\n      </g>\r\n     </g>\r\n     <g id=\"text_25\">\r\n      <!-- fiat -->\r\n      <g transform=\"translate(59.254688 133.303865)scale(0.1 -0.1)\">\r\n       <use xlink:href=\"#MalgunGothic-102\"/>\r\n       <use x=\"31.640625\" xlink:href=\"#MalgunGothic-105\"/>\r\n       <use x=\"56.25\" xlink:href=\"#MalgunGothic-97\"/>\r\n       <use x=\"108.251953\" xlink:href=\"#MalgunGothic-116\"/>\r\n      </g>\r\n     </g>\r\n    </g>\r\n    <g id=\"ytick_16\">\r\n     <g id=\"line2d_25\">\r\n      <g>\r\n       <use style=\"stroke:#000000;stroke-width:0.8;\" x=\"80.526563\" xlink:href=\"#m88e0bb8e9c\" y=\"115.252526\"/>\r\n      </g>\r\n     </g>\r\n     <g id=\"text_26\">\r\n      <!-- volkswagen -->\r\n      <defs>\r\n       <path d=\"M 72.40625 51.3125 \r\nL 57.03125 0 \r\nL 48.96875 0 \r\nL 38.234375 37.15625 \r\nQ 37.640625 39.15625 37.453125 41.796875 \r\nL 37.25 41.796875 \r\nQ 37.25 40.765625 36.1875 37.25 \r\nL 24.5625 0 \r\nL 16.84375 0 \r\nL 1.265625 51.3125 \r\nL 9.375 51.3125 \r\nL 20.21875 12.40625 \r\nQ 20.703125 10.640625 20.90625 7.859375 \r\nL 21.296875 7.859375 \r\nQ 21.53125 10.25 22.21875 12.5 \r\nL 34.234375 51.3125 \r\nL 41.3125 51.3125 \r\nL 52.09375 12.3125 \r\nQ 52.484375 10.9375 52.828125 7.765625 \r\nL 53.265625 7.765625 \r\nQ 53.375 9.859375 54.109375 12.3125 \r\nL 64.75 51.3125 \r\nz\r\n\" id=\"MalgunGothic-119\"/>\r\n      </defs>\r\n      <g transform=\"translate(21.15625 119.04862)scale(0.1 -0.1)\">\r\n       <use xlink:href=\"#MalgunGothic-118\"/>\r\n       <use x=\"48.105469\" xlink:href=\"#MalgunGothic-111\"/>\r\n       <use x=\"108.017578\" xlink:href=\"#MalgunGothic-108\"/>\r\n       <use x=\"132.626953\" xlink:href=\"#MalgunGothic-107\"/>\r\n       <use x=\"183.212891\" xlink:href=\"#MalgunGothic-115\"/>\r\n       <use x=\"226.523438\" xlink:href=\"#MalgunGothic-119\"/>\r\n       <use x=\"300.15625\" xlink:href=\"#MalgunGothic-97\"/>\r\n       <use x=\"352.158203\" xlink:href=\"#MalgunGothic-103\"/>\r\n       <use x=\"412.363281\" xlink:href=\"#MalgunGothic-101\"/>\r\n       <use x=\"465.878906\" xlink:href=\"#MalgunGothic-110\"/>\r\n      </g>\r\n     </g>\r\n    </g>\r\n    <g id=\"ytick_17\">\r\n     <g id=\"line2d_26\">\r\n      <g>\r\n       <use style=\"stroke:#000000;stroke-width:0.8;\" x=\"80.526563\" xlink:href=\"#m88e0bb8e9c\" y=\"100.997281\"/>\r\n      </g>\r\n     </g>\r\n     <g id=\"text_27\">\r\n      <!-- mazda -->\r\n      <defs>\r\n       <path d=\"M 43.5625 0 \r\nL 1.703125 0 \r\nL 1.703125 2.296875 \r\nL 32.328125 44.625 \r\nL 4.546875 44.625 \r\nL 4.546875 51.3125 \r\nL 43.890625 51.3125 \r\nL 43.890625 49.3125 \r\nL 13.140625 6.6875 \r\nL 43.5625 6.6875 \r\nz\r\n\" id=\"MalgunGothic-122\"/>\r\n      </defs>\r\n      <g transform=\"translate(43.689063 104.793375)scale(0.1 -0.1)\">\r\n       <use xlink:href=\"#MalgunGothic-109\"/>\r\n       <use x=\"87.988281\" xlink:href=\"#MalgunGothic-97\"/>\r\n       <use x=\"139.990234\" xlink:href=\"#MalgunGothic-122\"/>\r\n       <use x=\"186.181641\" xlink:href=\"#MalgunGothic-100\"/>\r\n       <use x=\"246.386719\" xlink:href=\"#MalgunGothic-97\"/>\r\n      </g>\r\n     </g>\r\n    </g>\r\n    <g id=\"ytick_18\">\r\n     <g id=\"line2d_27\">\r\n      <g>\r\n       <use style=\"stroke:#000000;stroke-width:0.8;\" x=\"80.526563\" xlink:href=\"#m88e0bb8e9c\" y=\"86.742037\"/>\r\n      </g>\r\n     </g>\r\n     <g id=\"text_28\">\r\n      <!-- datsun -->\r\n      <g transform=\"translate(42.965625 90.53813)scale(0.1 -0.1)\">\r\n       <use xlink:href=\"#MalgunGothic-100\"/>\r\n       <use x=\"60.205078\" xlink:href=\"#MalgunGothic-97\"/>\r\n       <use x=\"112.207031\" xlink:href=\"#MalgunGothic-116\"/>\r\n       <use x=\"146.679688\" xlink:href=\"#MalgunGothic-115\"/>\r\n       <use x=\"189.990234\" xlink:href=\"#MalgunGothic-117\"/>\r\n       <use x=\"247.802734\" xlink:href=\"#MalgunGothic-110\"/>\r\n      </g>\r\n     </g>\r\n    </g>\r\n    <g id=\"ytick_19\">\r\n     <g id=\"line2d_28\">\r\n      <g>\r\n       <use style=\"stroke:#000000;stroke-width:0.8;\" x=\"80.526563\" xlink:href=\"#m88e0bb8e9c\" y=\"72.486792\"/>\r\n      </g>\r\n     </g>\r\n     <g id=\"text_29\">\r\n      <!-- renault -->\r\n      <g transform=\"translate(42.10625 76.282886)scale(0.1 -0.1)\">\r\n       <use xlink:href=\"#MalgunGothic-114\"/>\r\n       <use x=\"33.976562\" xlink:href=\"#MalgunGothic-101\"/>\r\n       <use x=\"87.492188\" xlink:href=\"#MalgunGothic-110\"/>\r\n       <use x=\"145.304688\" xlink:href=\"#MalgunGothic-97\"/>\r\n       <use x=\"197.306641\" xlink:href=\"#MalgunGothic-117\"/>\r\n       <use x=\"255.119141\" xlink:href=\"#MalgunGothic-108\"/>\r\n       <use x=\"279.728516\" xlink:href=\"#MalgunGothic-116\"/>\r\n      </g>\r\n     </g>\r\n    </g>\r\n    <g id=\"ytick_20\">\r\n     <g id=\"line2d_29\">\r\n      <g>\r\n       <use style=\"stroke:#000000;stroke-width:0.8;\" x=\"80.526563\" xlink:href=\"#m88e0bb8e9c\" y=\"58.231547\"/>\r\n      </g>\r\n     </g>\r\n     <g id=\"text_30\">\r\n      <!-- honda -->\r\n      <g transform=\"translate(44.748438 62.027641)scale(0.1 -0.1)\">\r\n       <use xlink:href=\"#MalgunGothic-104\"/>\r\n       <use x=\"57.861328\" xlink:href=\"#MalgunGothic-111\"/>\r\n       <use x=\"117.773438\" xlink:href=\"#MalgunGothic-110\"/>\r\n       <use x=\"175.585938\" xlink:href=\"#MalgunGothic-100\"/>\r\n       <use x=\"235.791016\" xlink:href=\"#MalgunGothic-97\"/>\r\n      </g>\r\n     </g>\r\n    </g>\r\n    <g id=\"ytick_21\">\r\n     <g id=\"line2d_30\">\r\n      <g>\r\n       <use style=\"stroke:#000000;stroke-width:0.8;\" x=\"80.526563\" xlink:href=\"#m88e0bb8e9c\" y=\"43.976302\"/>\r\n      </g>\r\n     </g>\r\n     <g id=\"text_31\">\r\n      <!-- vw -->\r\n      <g transform=\"translate(61.289063 47.772396)scale(0.1 -0.1)\">\r\n       <use xlink:href=\"#MalgunGothic-118\"/>\r\n       <use x=\"48.730469\" xlink:href=\"#MalgunGothic-119\"/>\r\n      </g>\r\n     </g>\r\n    </g>\r\n    <g id=\"text_32\">\r\n     <!-- 제조사 -->\r\n     <defs>\r\n      <path d=\"M 78.71875 -8.796875 \r\nL 78.71875 85.40625 \r\nL 85.984375 85.40625 \r\nL 85.984375 -8.796875 \r\nz\r\nM 61.625 -5.90625 \r\nL 61.625 46.484375 \r\nL 45.21875 46.484375 \r\nL 45.21875 52.984375 \r\nL 61.625 52.984375 \r\nL 61.625 83.5 \r\nL 68.796875 83.5 \r\nL 68.796875 -5.90625 \r\nz\r\nM 48.6875 13.28125 \r\nQ 36.03125 25.734375 31 42.71875 \r\nQ 29.390625 35.796875 23.890625 26.90625 \r\nQ 18.40625 18.015625 12.109375 12.015625 \r\nL 6.390625 16.609375 \r\nQ 14.703125 22.46875 21.09375 35.125 \r\nQ 27.484375 47.796875 27.484375 59.90625 \r\nL 27.484375 70.703125 \r\nL 9.90625 70.703125 \r\nL 9.90625 77.203125 \r\nL 52.484375 77.203125 \r\nL 52.484375 70.703125 \r\nL 34.71875 70.703125 \r\nL 34.71875 59.8125 \r\nQ 34.71875 48.046875 40.453125 36.375 \r\nQ 46.1875 24.703125 54.203125 18.015625 \r\nz\r\n\" id=\"MalgunGothic-51228\"/>\r\n      <path d=\"M 53.71875 70.21875 \r\nL 53.71875 69.390625 \r\nQ 53.71875 60.984375 63.59375 51.34375 \r\nQ 73.484375 41.703125 89.984375 37.890625 \r\nL 84.8125 31.890625 \r\nQ 73.1875 35.546875 63.28125 43.03125 \r\nQ 53.375 50.53125 49.90625 57.625 \r\nQ 46.296875 50.484375 36.578125 43.109375 \r\nQ 26.859375 35.75 15.1875 31.78125 \r\nL 10.015625 37.796875 \r\nQ 26.03125 41.0625 36.109375 51.0625 \r\nQ 46.1875 61.078125 46.1875 69.390625 \r\nL 46.1875 70.21875 \r\nL 16.015625 70.21875 \r\nL 16.015625 76.703125 \r\nL 83.984375 76.703125 \r\nL 83.984375 70.21875 \r\nz\r\nM 6.296875 6.109375 \r\nL 6.296875 12.5 \r\nL 46.296875 12.5 \r\nL 46.296875 36.28125 \r\nL 53.71875 36.28125 \r\nL 53.71875 12.5 \r\nL 93.703125 12.5 \r\nL 93.703125 6.109375 \r\nz\r\n\" id=\"MalgunGothic-51312\"/>\r\n      <path d=\"M 79.59375 40.625 \r\nL 79.59375 -8.796875 \r\nL 72.3125 -8.796875 \r\nL 72.3125 85.40625 \r\nL 79.59375 85.40625 \r\nL 79.59375 47.125 \r\nL 95.90625 47.125 \r\nL 95.90625 40.625 \r\nz\r\nM 58.5 15.09375 \r\nQ 50.53125 21.1875 43.75 30.25 \r\nQ 36.96875 39.3125 34.90625 46.09375 \r\nQ 32.71875 38.625 26.125 29.421875 \r\nQ 19.53125 20.21875 11.53125 13.921875 \r\nL 5.90625 18.796875 \r\nQ 17.4375 26.609375 24.3125 38.734375 \r\nQ 31.203125 50.875 31.203125 63.484375 \r\nL 31.203125 78.90625 \r\nL 38.484375 78.90625 \r\nL 38.484375 63.8125 \r\nQ 38.484375 51.515625 45.28125 39.890625 \r\nQ 52.09375 28.265625 63.625 20.796875 \r\nz\r\n\" id=\"MalgunGothic-49324\"/>\r\n     </defs>\r\n     <g transform=\"translate(14.792188 201.52875)rotate(-90)scale(0.1 -0.1)\">\r\n      <use xlink:href=\"#MalgunGothic-51228\"/>\r\n      <use x=\"100\" xlink:href=\"#MalgunGothic-51312\"/>\r\n      <use x=\"200\" xlink:href=\"#MalgunGothic-49324\"/>\r\n     </g>\r\n    </g>\r\n   </g>\r\n   <g id=\"patch_24\">\r\n    <path d=\"M 80.526563 349.60875 \r\nL 80.526563 23.44875 \r\n\" style=\"fill:none;stroke:#000000;stroke-linecap:square;stroke-linejoin:miter;stroke-width:0.8;\"/>\r\n   </g>\r\n   <g id=\"patch_25\">\r\n    <path d=\"M 750.126562 349.60875 \r\nL 750.126562 23.44875 \r\n\" style=\"fill:none;stroke:#000000;stroke-linecap:square;stroke-linejoin:miter;stroke-width:0.8;\"/>\r\n   </g>\r\n   <g id=\"patch_26\">\r\n    <path d=\"M 80.526563 349.60875 \r\nL 750.126562 349.60875 \r\n\" style=\"fill:none;stroke:#000000;stroke-linecap:square;stroke-linejoin:miter;stroke-width:0.8;\"/>\r\n   </g>\r\n   <g id=\"patch_27\">\r\n    <path d=\"M 80.526563 23.44875 \r\nL 750.126562 23.44875 \r\n\" style=\"fill:none;stroke:#000000;stroke-linecap:square;stroke-linejoin:miter;stroke-width:0.8;\"/>\r\n   </g>\r\n   <g id=\"text_33\">\r\n    <!-- 제조사별 평균 mpg -->\r\n    <defs>\r\n     <path d=\"M 16.21875 40.28125 \r\nL 16.21875 82.625 \r\nL 23.390625 82.625 \r\nL 23.390625 67.09375 \r\nL 52.59375 67.09375 \r\nL 52.59375 82.625 \r\nL 59.8125 82.625 \r\nL 59.8125 72.90625 \r\nL 77.296875 72.90625 \r\nL 77.296875 85.40625 \r\nL 84.625 85.40625 \r\nL 84.625 35.296875 \r\nL 77.296875 35.296875 \r\nL 77.296875 48.875 \r\nL 59.8125 48.875 \r\nL 59.8125 40.28125 \r\nz\r\nM 59.8125 66.609375 \r\nL 59.8125 55.078125 \r\nL 77.296875 55.078125 \r\nL 77.296875 66.609375 \r\nz\r\nM 52.59375 60.6875 \r\nL 23.390625 60.6875 \r\nL 23.390625 46.78125 \r\nL 52.59375 46.78125 \r\nz\r\nM 27 -7.625 \r\nL 27 14.796875 \r\nL 77.390625 14.796875 \r\nL 77.390625 23.6875 \r\nL 27 23.6875 \r\nL 27 30.078125 \r\nL 84.625 30.078125 \r\nL 84.625 8.59375 \r\nL 34.28125 8.59375 \r\nL 34.28125 -1.125 \r\nL 87.203125 -1.125 \r\nL 87.203125 -7.625 \r\nz\r\n\" id=\"MalgunGothic-48324\"/>\r\n    </defs>\r\n    <g transform=\"translate(362.612812 17.44875)scale(0.12 -0.12)\">\r\n     <use xlink:href=\"#MalgunGothic-51228\"/>\r\n     <use x=\"100\" xlink:href=\"#MalgunGothic-51312\"/>\r\n     <use x=\"200\" xlink:href=\"#MalgunGothic-49324\"/>\r\n     <use x=\"300\" xlink:href=\"#MalgunGothic-48324\"/>\r\n     <use x=\"400\" xlink:href=\"#MalgunGothic-32\"/>\r\n     <use x=\"435.15625\" xlink:href=\"#MalgunGothic-54217\"/>\r\n     <use x=\"535.15625\" xlink:href=\"#MalgunGothic-44512\"/>\r\n     <use x=\"635.15625\" xlink:href=\"#MalgunGothic-32\"/>\r\n     <use x=\"670.3125\" xlink:href=\"#MalgunGothic-109\"/>\r\n     <use x=\"758.300781\" xlink:href=\"#MalgunGothic-112\"/>\r\n     <use x=\"818.359375\" xlink:href=\"#MalgunGothic-103\"/>\r\n    </g>\r\n   </g>\r\n  </g>\r\n </g>\r\n <defs>\r\n  <clipPath id=\"p34ce73dac8\">\r\n   <rect height=\"326.16\" width=\"669.6\" x=\"80.526563\" y=\"23.44875\"/>\r\n  </clipPath>\r\n </defs>\r\n</svg>\r\n",
      "image/png": "[encoded data removed]"
     },
     "metadata": {
      "needs_background": "light"
     }
    }
   ],
   "source": [
    "df = mpg[mpg['manufacturer'].isin(big)].pivot_table('mpg','manufacturer').sort_values(by='mpg')\n",
    "y = np.arange(len(df.mpg))\n",
    "category_colors = plt.get_cmap('hot')(np.linspace(0.8, 0.2, len(df.mpg)))\n",
    "plt.figure(figsize=(12,6))\n",
    "plt.barh(y, df.mpg, color=category_colors)\n",
    "plt.yticks(y, df.index)\n",
    "plt.xlabel('평균 mpg'); plt.ylabel('제조사')\n",
    "plt.title('제조사별 평균 mpg')\n",
    "plt.show()"
   ]
  },
  {
   "cell_type": "code",
   "execution_count": null,
   "metadata": {},
   "outputs": [],
   "source": []
  }
 ]
}