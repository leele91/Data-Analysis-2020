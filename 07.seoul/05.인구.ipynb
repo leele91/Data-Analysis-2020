{
 "metadata": {
  "language_info": {
   "codemirror_mode": {
    "name": "ipython",
    "version": 3
   },
   "file_extension": ".py",
   "mimetype": "text/x-python",
   "name": "python",
   "nbconvert_exporter": "python",
   "pygments_lexer": "ipython3",
   "version": "3.8.3-final"
  },
  "orig_nbformat": 2,
  "kernelspec": {
   "name": "Python 3.8.3 64-bit ('base': conda)",
   "display_name": "Python 3.8.3 64-bit ('base': conda)",
   "metadata": {
    "interpreter": {
     "hash": "c2224539028b414c7f0940cdc86eeb3c7deaf138deef25179eca5056c4d821b9"
    }
   }
  }
 },
 "nbformat": 4,
 "nbformat_minor": 2,
 "cells": [
  {
   "cell_type": "code",
   "execution_count": 1,
   "metadata": {},
   "outputs": [],
   "source": [
    "import numpy as np\n",
    "import pandas as pd\n",
    "import seaborn as sns\n",
    "import matplotlib as mpl\n",
    "import matplotlib.pyplot as plt\n",
    "%matplotlib inline\n",
    "\n",
    "## 한글 폰트 사용\n",
    "# 폰트 설정\n",
    "mpl.rc('font', family='Malgun Gothic') #family에 사용할 폰트를 넣음\n",
    "# 유니코드에서  음수 부호설정\n",
    "mpl.rc('axes', unicode_minus=False)"
   ]
  },
  {
   "cell_type": "markdown",
   "metadata": {},
   "source": [
    "## 우리나라 인구 소멸 위기 지역 분석"
   ]
  },
  {
   "cell_type": "code",
   "execution_count": 2,
   "metadata": {},
   "outputs": [],
   "source": [
    "import platform\n",
    "\n",
    "path = \"c:/Windows/Fonts/malgun.ttf\""
   ]
  },
  {
   "cell_type": "code",
   "execution_count": 3,
   "metadata": {},
   "outputs": [
    {
     "output_type": "execute_result",
     "data": {
      "text/plain": [
       "  광역시도   시군구  행정구  구분       합계   15세미만  15~19세  20~24세  25~29세  30~34세  ...  \\\n",
       "0   서울    소계  NaN   계  9096901  983091  402343  548245  768413  687804  ...   \n",
       "1   서울    소계  NaN  남자  4386287  505543  201751  233761  377349  341858  ...   \n",
       "2   서울    소계  NaN  여자  4710614  477548  200592  314484  391064  345946  ...   \n",
       "3   서울   종로구  NaN   계   136649   12204    5801    9816   11972    9459  ...   \n",
       "4   서울   종로구  NaN  남자    65594    6183    2803    4230    6167    4747  ...   \n",
       "\n",
       "   40~44세  45~49세  50~54세  55~59세  60~64세  65~69세  70~74세  75~79세  80~84세  \\\n",
       "0  677660  782455  731258  728273  664875  465250  370242  280007  163363   \n",
       "1  335606  385491  354886  349208  313417  218378  170303  126711   66754   \n",
       "2  342054  396964  376372  379065  351458  246872  199939  153296   96609   \n",
       "3    9034   11784   11462   11781   10125    7057    5960    5277    3341   \n",
       "4    4341    5709    5511    5773    5021    3369    2659    2290    1387   \n",
       "\n",
       "   85세이상  \n",
       "0  96792  \n",
       "1  30757  \n",
       "2  66035  \n",
       "3   2065  \n",
       "4    747  \n",
       "\n",
       "[5 rows x 21 columns]"
      ],
      "text/html": "<div>\n<style scoped>\n    .dataframe tbody tr th:only-of-type {\n        vertical-align: middle;\n    }\n\n    .dataframe tbody tr th {\n        vertical-align: top;\n    }\n\n    .dataframe thead th {\n        text-align: right;\n    }\n</style>\n<table border=\"1\" class=\"dataframe\">\n  <thead>\n    <tr style=\"text-align: right;\">\n      <th></th>\n      <th>광역시도</th>\n      <th>시군구</th>\n      <th>행정구</th>\n      <th>구분</th>\n      <th>합계</th>\n      <th>15세미만</th>\n      <th>15~19세</th>\n      <th>20~24세</th>\n      <th>25~29세</th>\n      <th>30~34세</th>\n      <th>...</th>\n      <th>40~44세</th>\n      <th>45~49세</th>\n      <th>50~54세</th>\n      <th>55~59세</th>\n      <th>60~64세</th>\n      <th>65~69세</th>\n      <th>70~74세</th>\n      <th>75~79세</th>\n      <th>80~84세</th>\n      <th>85세이상</th>\n    </tr>\n  </thead>\n  <tbody>\n    <tr>\n      <th>0</th>\n      <td>서울</td>\n      <td>소계</td>\n      <td>NaN</td>\n      <td>계</td>\n      <td>9096901</td>\n      <td>983091</td>\n      <td>402343</td>\n      <td>548245</td>\n      <td>768413</td>\n      <td>687804</td>\n      <td>...</td>\n      <td>677660</td>\n      <td>782455</td>\n      <td>731258</td>\n      <td>728273</td>\n      <td>664875</td>\n      <td>465250</td>\n      <td>370242</td>\n      <td>280007</td>\n      <td>163363</td>\n      <td>96792</td>\n    </tr>\n    <tr>\n      <th>1</th>\n      <td>서울</td>\n      <td>소계</td>\n      <td>NaN</td>\n      <td>남자</td>\n      <td>4386287</td>\n      <td>505543</td>\n      <td>201751</td>\n      <td>233761</td>\n      <td>377349</td>\n      <td>341858</td>\n      <td>...</td>\n      <td>335606</td>\n      <td>385491</td>\n      <td>354886</td>\n      <td>349208</td>\n      <td>313417</td>\n      <td>218378</td>\n      <td>170303</td>\n      <td>126711</td>\n      <td>66754</td>\n      <td>30757</td>\n    </tr>\n    <tr>\n      <th>2</th>\n      <td>서울</td>\n      <td>소계</td>\n      <td>NaN</td>\n      <td>여자</td>\n      <td>4710614</td>\n      <td>477548</td>\n      <td>200592</td>\n      <td>314484</td>\n      <td>391064</td>\n      <td>345946</td>\n      <td>...</td>\n      <td>342054</td>\n      <td>396964</td>\n      <td>376372</td>\n      <td>379065</td>\n      <td>351458</td>\n      <td>246872</td>\n      <td>199939</td>\n      <td>153296</td>\n      <td>96609</td>\n      <td>66035</td>\n    </tr>\n    <tr>\n      <th>3</th>\n      <td>서울</td>\n      <td>종로구</td>\n      <td>NaN</td>\n      <td>계</td>\n      <td>136649</td>\n      <td>12204</td>\n      <td>5801</td>\n      <td>9816</td>\n      <td>11972</td>\n      <td>9459</td>\n      <td>...</td>\n      <td>9034</td>\n      <td>11784</td>\n      <td>11462</td>\n      <td>11781</td>\n      <td>10125</td>\n      <td>7057</td>\n      <td>5960</td>\n      <td>5277</td>\n      <td>3341</td>\n      <td>2065</td>\n    </tr>\n    <tr>\n      <th>4</th>\n      <td>서울</td>\n      <td>종로구</td>\n      <td>NaN</td>\n      <td>남자</td>\n      <td>65594</td>\n      <td>6183</td>\n      <td>2803</td>\n      <td>4230</td>\n      <td>6167</td>\n      <td>4747</td>\n      <td>...</td>\n      <td>4341</td>\n      <td>5709</td>\n      <td>5511</td>\n      <td>5773</td>\n      <td>5021</td>\n      <td>3369</td>\n      <td>2659</td>\n      <td>2290</td>\n      <td>1387</td>\n      <td>747</td>\n    </tr>\n  </tbody>\n</table>\n<p>5 rows × 21 columns</p>\n</div>"
     },
     "metadata": {},
     "execution_count": 3
    }
   ],
   "source": [
    "population = pd.read_csv('./data/성별, 연령별 인구 - 시군구(2019).csv', sep=',', encoding='cp949')\n",
    "population.head()"
   ]
  },
  {
   "cell_type": "code",
   "execution_count": 4,
   "metadata": {},
   "outputs": [
    {
     "output_type": "execute_result",
     "data": {
      "text/plain": [
       "  광역시도   시군구  행정구  구분       합계   15세미만  15~19세  20~24세  25~29세  30~34세  ...  \\\n",
       "0   서울    소계  NaN   계  9096901  983091  402343  548245  768413  687804  ...   \n",
       "1   서울    소계  NaN  남자  4386287  505543  201751  233761  377349  341858  ...   \n",
       "2   서울    소계  NaN  여자  4710614  477548  200592  314484  391064  345946  ...   \n",
       "3   서울   종로구  NaN   계   136649   12204    5801    9816   11972    9459  ...   \n",
       "4   서울   종로구  NaN  남자    65594    6183    2803    4230    6167    4747  ...   \n",
       "\n",
       "   40~44세  45~49세  50~54세  55~59세  60~64세  65~69세  70~74세  75~79세  80~84세  \\\n",
       "0  677660  782455  731258  728273  664875  465250  370242  280007  163363   \n",
       "1  335606  385491  354886  349208  313417  218378  170303  126711   66754   \n",
       "2  342054  396964  376372  379065  351458  246872  199939  153296   96609   \n",
       "3    9034   11784   11462   11781   10125    7057    5960    5277    3341   \n",
       "4    4341    5709    5511    5773    5021    3369    2659    2290    1387   \n",
       "\n",
       "   85세이상  \n",
       "0  96792  \n",
       "1  30757  \n",
       "2  66035  \n",
       "3   2065  \n",
       "4    747  \n",
       "\n",
       "[5 rows x 21 columns]"
      ],
      "text/html": "<div>\n<style scoped>\n    .dataframe tbody tr th:only-of-type {\n        vertical-align: middle;\n    }\n\n    .dataframe tbody tr th {\n        vertical-align: top;\n    }\n\n    .dataframe thead th {\n        text-align: right;\n    }\n</style>\n<table border=\"1\" class=\"dataframe\">\n  <thead>\n    <tr style=\"text-align: right;\">\n      <th></th>\n      <th>광역시도</th>\n      <th>시군구</th>\n      <th>행정구</th>\n      <th>구분</th>\n      <th>합계</th>\n      <th>15세미만</th>\n      <th>15~19세</th>\n      <th>20~24세</th>\n      <th>25~29세</th>\n      <th>30~34세</th>\n      <th>...</th>\n      <th>40~44세</th>\n      <th>45~49세</th>\n      <th>50~54세</th>\n      <th>55~59세</th>\n      <th>60~64세</th>\n      <th>65~69세</th>\n      <th>70~74세</th>\n      <th>75~79세</th>\n      <th>80~84세</th>\n      <th>85세이상</th>\n    </tr>\n  </thead>\n  <tbody>\n    <tr>\n      <th>0</th>\n      <td>서울</td>\n      <td>소계</td>\n      <td>NaN</td>\n      <td>계</td>\n      <td>9096901</td>\n      <td>983091</td>\n      <td>402343</td>\n      <td>548245</td>\n      <td>768413</td>\n      <td>687804</td>\n      <td>...</td>\n      <td>677660</td>\n      <td>782455</td>\n      <td>731258</td>\n      <td>728273</td>\n      <td>664875</td>\n      <td>465250</td>\n      <td>370242</td>\n      <td>280007</td>\n      <td>163363</td>\n      <td>96792</td>\n    </tr>\n    <tr>\n      <th>1</th>\n      <td>서울</td>\n      <td>소계</td>\n      <td>NaN</td>\n      <td>남자</td>\n      <td>4386287</td>\n      <td>505543</td>\n      <td>201751</td>\n      <td>233761</td>\n      <td>377349</td>\n      <td>341858</td>\n      <td>...</td>\n      <td>335606</td>\n      <td>385491</td>\n      <td>354886</td>\n      <td>349208</td>\n      <td>313417</td>\n      <td>218378</td>\n      <td>170303</td>\n      <td>126711</td>\n      <td>66754</td>\n      <td>30757</td>\n    </tr>\n    <tr>\n      <th>2</th>\n      <td>서울</td>\n      <td>소계</td>\n      <td>NaN</td>\n      <td>여자</td>\n      <td>4710614</td>\n      <td>477548</td>\n      <td>200592</td>\n      <td>314484</td>\n      <td>391064</td>\n      <td>345946</td>\n      <td>...</td>\n      <td>342054</td>\n      <td>396964</td>\n      <td>376372</td>\n      <td>379065</td>\n      <td>351458</td>\n      <td>246872</td>\n      <td>199939</td>\n      <td>153296</td>\n      <td>96609</td>\n      <td>66035</td>\n    </tr>\n    <tr>\n      <th>3</th>\n      <td>서울</td>\n      <td>종로구</td>\n      <td>NaN</td>\n      <td>계</td>\n      <td>136649</td>\n      <td>12204</td>\n      <td>5801</td>\n      <td>9816</td>\n      <td>11972</td>\n      <td>9459</td>\n      <td>...</td>\n      <td>9034</td>\n      <td>11784</td>\n      <td>11462</td>\n      <td>11781</td>\n      <td>10125</td>\n      <td>7057</td>\n      <td>5960</td>\n      <td>5277</td>\n      <td>3341</td>\n      <td>2065</td>\n    </tr>\n    <tr>\n      <th>4</th>\n      <td>서울</td>\n      <td>종로구</td>\n      <td>NaN</td>\n      <td>남자</td>\n      <td>65594</td>\n      <td>6183</td>\n      <td>2803</td>\n      <td>4230</td>\n      <td>6167</td>\n      <td>4747</td>\n      <td>...</td>\n      <td>4341</td>\n      <td>5709</td>\n      <td>5511</td>\n      <td>5773</td>\n      <td>5021</td>\n      <td>3369</td>\n      <td>2659</td>\n      <td>2290</td>\n      <td>1387</td>\n      <td>747</td>\n    </tr>\n  </tbody>\n</table>\n<p>5 rows × 21 columns</p>\n</div>"
     },
     "metadata": {},
     "execution_count": 4
    }
   ],
   "source": [
    "# 결측치를 nan처리 하지 않고, 그 앞의 내용들로 채우게끔 처리\n",
    "# 즉, method = 'pad'로 설정해서 결측치를 앞 방향으로 채우기\n",
    "population.fillna(method='pad', inplace=True)\n",
    "population.head()"
   ]
  },
  {
   "cell_type": "code",
   "execution_count": 5,
   "metadata": {},
   "outputs": [
    {
     "output_type": "execute_result",
     "data": {
      "text/plain": [
       "  광역시도   시군구  행정구  구분      인구수   15세미만  15~19세  20~24세  25~29세  30~34세  ...  \\\n",
       "0   서울    소계  NaN   계  9096901  983091  402343  548245  768413  687804  ...   \n",
       "1   서울    소계  NaN  남자  4386287  505543  201751  233761  377349  341858  ...   \n",
       "2   서울    소계  NaN  여자  4710614  477548  200592  314484  391064  345946  ...   \n",
       "3   서울   종로구  NaN   계   136649   12204    5801    9816   11972    9459  ...   \n",
       "4   서울   종로구  NaN  남자    65594    6183    2803    4230    6167    4747  ...   \n",
       "\n",
       "   40~44세  45~49세  50~54세  55~59세  60~64세  65~69세  70~74세  75~79세  80~84세  \\\n",
       "0  677660  782455  731258  728273  664875  465250  370242  280007  163363   \n",
       "1  335606  385491  354886  349208  313417  218378  170303  126711   66754   \n",
       "2  342054  396964  376372  379065  351458  246872  199939  153296   96609   \n",
       "3    9034   11784   11462   11781   10125    7057    5960    5277    3341   \n",
       "4    4341    5709    5511    5773    5021    3369    2659    2290    1387   \n",
       "\n",
       "   85세이상  \n",
       "0  96792  \n",
       "1  30757  \n",
       "2  66035  \n",
       "3   2065  \n",
       "4    747  \n",
       "\n",
       "[5 rows x 21 columns]"
      ],
      "text/html": "<div>\n<style scoped>\n    .dataframe tbody tr th:only-of-type {\n        vertical-align: middle;\n    }\n\n    .dataframe tbody tr th {\n        vertical-align: top;\n    }\n\n    .dataframe thead th {\n        text-align: right;\n    }\n</style>\n<table border=\"1\" class=\"dataframe\">\n  <thead>\n    <tr style=\"text-align: right;\">\n      <th></th>\n      <th>광역시도</th>\n      <th>시군구</th>\n      <th>행정구</th>\n      <th>구분</th>\n      <th>인구수</th>\n      <th>15세미만</th>\n      <th>15~19세</th>\n      <th>20~24세</th>\n      <th>25~29세</th>\n      <th>30~34세</th>\n      <th>...</th>\n      <th>40~44세</th>\n      <th>45~49세</th>\n      <th>50~54세</th>\n      <th>55~59세</th>\n      <th>60~64세</th>\n      <th>65~69세</th>\n      <th>70~74세</th>\n      <th>75~79세</th>\n      <th>80~84세</th>\n      <th>85세이상</th>\n    </tr>\n  </thead>\n  <tbody>\n    <tr>\n      <th>0</th>\n      <td>서울</td>\n      <td>소계</td>\n      <td>NaN</td>\n      <td>계</td>\n      <td>9096901</td>\n      <td>983091</td>\n      <td>402343</td>\n      <td>548245</td>\n      <td>768413</td>\n      <td>687804</td>\n      <td>...</td>\n      <td>677660</td>\n      <td>782455</td>\n      <td>731258</td>\n      <td>728273</td>\n      <td>664875</td>\n      <td>465250</td>\n      <td>370242</td>\n      <td>280007</td>\n      <td>163363</td>\n      <td>96792</td>\n    </tr>\n    <tr>\n      <th>1</th>\n      <td>서울</td>\n      <td>소계</td>\n      <td>NaN</td>\n      <td>남자</td>\n      <td>4386287</td>\n      <td>505543</td>\n      <td>201751</td>\n      <td>233761</td>\n      <td>377349</td>\n      <td>341858</td>\n      <td>...</td>\n      <td>335606</td>\n      <td>385491</td>\n      <td>354886</td>\n      <td>349208</td>\n      <td>313417</td>\n      <td>218378</td>\n      <td>170303</td>\n      <td>126711</td>\n      <td>66754</td>\n      <td>30757</td>\n    </tr>\n    <tr>\n      <th>2</th>\n      <td>서울</td>\n      <td>소계</td>\n      <td>NaN</td>\n      <td>여자</td>\n      <td>4710614</td>\n      <td>477548</td>\n      <td>200592</td>\n      <td>314484</td>\n      <td>391064</td>\n      <td>345946</td>\n      <td>...</td>\n      <td>342054</td>\n      <td>396964</td>\n      <td>376372</td>\n      <td>379065</td>\n      <td>351458</td>\n      <td>246872</td>\n      <td>199939</td>\n      <td>153296</td>\n      <td>96609</td>\n      <td>66035</td>\n    </tr>\n    <tr>\n      <th>3</th>\n      <td>서울</td>\n      <td>종로구</td>\n      <td>NaN</td>\n      <td>계</td>\n      <td>136649</td>\n      <td>12204</td>\n      <td>5801</td>\n      <td>9816</td>\n      <td>11972</td>\n      <td>9459</td>\n      <td>...</td>\n      <td>9034</td>\n      <td>11784</td>\n      <td>11462</td>\n      <td>11781</td>\n      <td>10125</td>\n      <td>7057</td>\n      <td>5960</td>\n      <td>5277</td>\n      <td>3341</td>\n      <td>2065</td>\n    </tr>\n    <tr>\n      <th>4</th>\n      <td>서울</td>\n      <td>종로구</td>\n      <td>NaN</td>\n      <td>남자</td>\n      <td>65594</td>\n      <td>6183</td>\n      <td>2803</td>\n      <td>4230</td>\n      <td>6167</td>\n      <td>4747</td>\n      <td>...</td>\n      <td>4341</td>\n      <td>5709</td>\n      <td>5511</td>\n      <td>5773</td>\n      <td>5021</td>\n      <td>3369</td>\n      <td>2659</td>\n      <td>2290</td>\n      <td>1387</td>\n      <td>747</td>\n    </tr>\n  </tbody>\n</table>\n<p>5 rows × 21 columns</p>\n</div>"
     },
     "metadata": {},
     "execution_count": 5
    }
   ],
   "source": [
    "population.rename(columns= {'합계':'인구수'}, inplace=True)\n",
    "population.head()"
   ]
  },
  {
   "cell_type": "code",
   "execution_count": 6,
   "metadata": {},
   "outputs": [
    {
     "output_type": "execute_result",
     "data": {
      "text/plain": [
       "  광역시도   시군구  행정구  구분     인구수  15세미만  15~19세  20~24세  25~29세  30~34세  ...  \\\n",
       "3   서울   종로구  NaN   계  136649  12204    5801    9816   11972    9459  ...   \n",
       "4   서울   종로구  NaN  남자   65594   6183    2803    4230    6167    4747  ...   \n",
       "5   서울   종로구  NaN  여자   71055   6021    2998    5586    5805    4712  ...   \n",
       "6   서울    중구  NaN   계  115665   9839    3896    7511   10304    9636  ...   \n",
       "7   서울    중구  NaN  남자   55820   4988    1896    3103    5115    4790  ...   \n",
       "\n",
       "   40~44세  45~49세  50~54세  55~59세  60~64세  65~69세  70~74세  75~79세  80~84세  \\\n",
       "3    9034   11784   11462   11781   10125    7057    5960    5277    3341   \n",
       "4    4341    5709    5511    5773    5021    3369    2659    2290    1387   \n",
       "5    4693    6075    5951    6008    5104    3688    3301    2987    1954   \n",
       "6    7836    8903    9313    9786    9002    6211    5077    4201    2581   \n",
       "7    4054    4423    4587    4830    4430    2998    2295    1795    1003   \n",
       "\n",
       "   85세이상  \n",
       "3   2065  \n",
       "4    747  \n",
       "5   1318  \n",
       "6   1695  \n",
       "7    523  \n",
       "\n",
       "[5 rows x 21 columns]"
      ],
      "text/html": "<div>\n<style scoped>\n    .dataframe tbody tr th:only-of-type {\n        vertical-align: middle;\n    }\n\n    .dataframe tbody tr th {\n        vertical-align: top;\n    }\n\n    .dataframe thead th {\n        text-align: right;\n    }\n</style>\n<table border=\"1\" class=\"dataframe\">\n  <thead>\n    <tr style=\"text-align: right;\">\n      <th></th>\n      <th>광역시도</th>\n      <th>시군구</th>\n      <th>행정구</th>\n      <th>구분</th>\n      <th>인구수</th>\n      <th>15세미만</th>\n      <th>15~19세</th>\n      <th>20~24세</th>\n      <th>25~29세</th>\n      <th>30~34세</th>\n      <th>...</th>\n      <th>40~44세</th>\n      <th>45~49세</th>\n      <th>50~54세</th>\n      <th>55~59세</th>\n      <th>60~64세</th>\n      <th>65~69세</th>\n      <th>70~74세</th>\n      <th>75~79세</th>\n      <th>80~84세</th>\n      <th>85세이상</th>\n    </tr>\n  </thead>\n  <tbody>\n    <tr>\n      <th>3</th>\n      <td>서울</td>\n      <td>종로구</td>\n      <td>NaN</td>\n      <td>계</td>\n      <td>136649</td>\n      <td>12204</td>\n      <td>5801</td>\n      <td>9816</td>\n      <td>11972</td>\n      <td>9459</td>\n      <td>...</td>\n      <td>9034</td>\n      <td>11784</td>\n      <td>11462</td>\n      <td>11781</td>\n      <td>10125</td>\n      <td>7057</td>\n      <td>5960</td>\n      <td>5277</td>\n      <td>3341</td>\n      <td>2065</td>\n    </tr>\n    <tr>\n      <th>4</th>\n      <td>서울</td>\n      <td>종로구</td>\n      <td>NaN</td>\n      <td>남자</td>\n      <td>65594</td>\n      <td>6183</td>\n      <td>2803</td>\n      <td>4230</td>\n      <td>6167</td>\n      <td>4747</td>\n      <td>...</td>\n      <td>4341</td>\n      <td>5709</td>\n      <td>5511</td>\n      <td>5773</td>\n      <td>5021</td>\n      <td>3369</td>\n      <td>2659</td>\n      <td>2290</td>\n      <td>1387</td>\n      <td>747</td>\n    </tr>\n    <tr>\n      <th>5</th>\n      <td>서울</td>\n      <td>종로구</td>\n      <td>NaN</td>\n      <td>여자</td>\n      <td>71055</td>\n      <td>6021</td>\n      <td>2998</td>\n      <td>5586</td>\n      <td>5805</td>\n      <td>4712</td>\n      <td>...</td>\n      <td>4693</td>\n      <td>6075</td>\n      <td>5951</td>\n      <td>6008</td>\n      <td>5104</td>\n      <td>3688</td>\n      <td>3301</td>\n      <td>2987</td>\n      <td>1954</td>\n      <td>1318</td>\n    </tr>\n    <tr>\n      <th>6</th>\n      <td>서울</td>\n      <td>중구</td>\n      <td>NaN</td>\n      <td>계</td>\n      <td>115665</td>\n      <td>9839</td>\n      <td>3896</td>\n      <td>7511</td>\n      <td>10304</td>\n      <td>9636</td>\n      <td>...</td>\n      <td>7836</td>\n      <td>8903</td>\n      <td>9313</td>\n      <td>9786</td>\n      <td>9002</td>\n      <td>6211</td>\n      <td>5077</td>\n      <td>4201</td>\n      <td>2581</td>\n      <td>1695</td>\n    </tr>\n    <tr>\n      <th>7</th>\n      <td>서울</td>\n      <td>중구</td>\n      <td>NaN</td>\n      <td>남자</td>\n      <td>55820</td>\n      <td>4988</td>\n      <td>1896</td>\n      <td>3103</td>\n      <td>5115</td>\n      <td>4790</td>\n      <td>...</td>\n      <td>4054</td>\n      <td>4423</td>\n      <td>4587</td>\n      <td>4830</td>\n      <td>4430</td>\n      <td>2998</td>\n      <td>2295</td>\n      <td>1795</td>\n      <td>1003</td>\n      <td>523</td>\n    </tr>\n  </tbody>\n</table>\n<p>5 rows × 21 columns</p>\n</div>"
     },
     "metadata": {},
     "execution_count": 6
    }
   ],
   "source": [
    "# '시군구'컬럼에서 소계 부분 제외\n",
    "population = population[(population['시군구'] != '소계')]\n",
    "population.head()"
   ]
  },
  {
   "cell_type": "code",
   "execution_count": 7,
   "metadata": {},
   "outputs": [
    {
     "output_type": "execute_result",
     "data": {
      "text/plain": [
       "  광역시도   시군구  행정구  구분     인구수  15세미만  15~19세  20~24세  25~29세  30~34세  ...  \\\n",
       "3   서울   종로구  NaN  합계  136649  12204    5801    9816   11972    9459  ...   \n",
       "4   서울   종로구  NaN  남자   65594   6183    2803    4230    6167    4747  ...   \n",
       "5   서울   종로구  NaN  여자   71055   6021    2998    5586    5805    4712  ...   \n",
       "6   서울    중구  NaN  합계  115665   9839    3896    7511   10304    9636  ...   \n",
       "7   서울    중구  NaN  남자   55820   4988    1896    3103    5115    4790  ...   \n",
       "\n",
       "   40~44세  45~49세  50~54세  55~59세  60~64세  65~69세  70~74세  75~79세  80~84세  \\\n",
       "3    9034   11784   11462   11781   10125    7057    5960    5277    3341   \n",
       "4    4341    5709    5511    5773    5021    3369    2659    2290    1387   \n",
       "5    4693    6075    5951    6008    5104    3688    3301    2987    1954   \n",
       "6    7836    8903    9313    9786    9002    6211    5077    4201    2581   \n",
       "7    4054    4423    4587    4830    4430    2998    2295    1795    1003   \n",
       "\n",
       "   85세이상  \n",
       "3   2065  \n",
       "4    747  \n",
       "5   1318  \n",
       "6   1695  \n",
       "7    523  \n",
       "\n",
       "[5 rows x 21 columns]"
      ],
      "text/html": "<div>\n<style scoped>\n    .dataframe tbody tr th:only-of-type {\n        vertical-align: middle;\n    }\n\n    .dataframe tbody tr th {\n        vertical-align: top;\n    }\n\n    .dataframe thead th {\n        text-align: right;\n    }\n</style>\n<table border=\"1\" class=\"dataframe\">\n  <thead>\n    <tr style=\"text-align: right;\">\n      <th></th>\n      <th>광역시도</th>\n      <th>시군구</th>\n      <th>행정구</th>\n      <th>구분</th>\n      <th>인구수</th>\n      <th>15세미만</th>\n      <th>15~19세</th>\n      <th>20~24세</th>\n      <th>25~29세</th>\n      <th>30~34세</th>\n      <th>...</th>\n      <th>40~44세</th>\n      <th>45~49세</th>\n      <th>50~54세</th>\n      <th>55~59세</th>\n      <th>60~64세</th>\n      <th>65~69세</th>\n      <th>70~74세</th>\n      <th>75~79세</th>\n      <th>80~84세</th>\n      <th>85세이상</th>\n    </tr>\n  </thead>\n  <tbody>\n    <tr>\n      <th>3</th>\n      <td>서울</td>\n      <td>종로구</td>\n      <td>NaN</td>\n      <td>합계</td>\n      <td>136649</td>\n      <td>12204</td>\n      <td>5801</td>\n      <td>9816</td>\n      <td>11972</td>\n      <td>9459</td>\n      <td>...</td>\n      <td>9034</td>\n      <td>11784</td>\n      <td>11462</td>\n      <td>11781</td>\n      <td>10125</td>\n      <td>7057</td>\n      <td>5960</td>\n      <td>5277</td>\n      <td>3341</td>\n      <td>2065</td>\n    </tr>\n    <tr>\n      <th>4</th>\n      <td>서울</td>\n      <td>종로구</td>\n      <td>NaN</td>\n      <td>남자</td>\n      <td>65594</td>\n      <td>6183</td>\n      <td>2803</td>\n      <td>4230</td>\n      <td>6167</td>\n      <td>4747</td>\n      <td>...</td>\n      <td>4341</td>\n      <td>5709</td>\n      <td>5511</td>\n      <td>5773</td>\n      <td>5021</td>\n      <td>3369</td>\n      <td>2659</td>\n      <td>2290</td>\n      <td>1387</td>\n      <td>747</td>\n    </tr>\n    <tr>\n      <th>5</th>\n      <td>서울</td>\n      <td>종로구</td>\n      <td>NaN</td>\n      <td>여자</td>\n      <td>71055</td>\n      <td>6021</td>\n      <td>2998</td>\n      <td>5586</td>\n      <td>5805</td>\n      <td>4712</td>\n      <td>...</td>\n      <td>4693</td>\n      <td>6075</td>\n      <td>5951</td>\n      <td>6008</td>\n      <td>5104</td>\n      <td>3688</td>\n      <td>3301</td>\n      <td>2987</td>\n      <td>1954</td>\n      <td>1318</td>\n    </tr>\n    <tr>\n      <th>6</th>\n      <td>서울</td>\n      <td>중구</td>\n      <td>NaN</td>\n      <td>합계</td>\n      <td>115665</td>\n      <td>9839</td>\n      <td>3896</td>\n      <td>7511</td>\n      <td>10304</td>\n      <td>9636</td>\n      <td>...</td>\n      <td>7836</td>\n      <td>8903</td>\n      <td>9313</td>\n      <td>9786</td>\n      <td>9002</td>\n      <td>6211</td>\n      <td>5077</td>\n      <td>4201</td>\n      <td>2581</td>\n      <td>1695</td>\n    </tr>\n    <tr>\n      <th>7</th>\n      <td>서울</td>\n      <td>중구</td>\n      <td>NaN</td>\n      <td>남자</td>\n      <td>55820</td>\n      <td>4988</td>\n      <td>1896</td>\n      <td>3103</td>\n      <td>5115</td>\n      <td>4790</td>\n      <td>...</td>\n      <td>4054</td>\n      <td>4423</td>\n      <td>4587</td>\n      <td>4830</td>\n      <td>4430</td>\n      <td>2998</td>\n      <td>2295</td>\n      <td>1795</td>\n      <td>1003</td>\n      <td>523</td>\n    </tr>\n  </tbody>\n</table>\n<p>5 rows × 21 columns</p>\n</div>"
     },
     "metadata": {},
     "execution_count": 7
    }
   ],
   "source": [
    "# 계를 합계로 변경/ 데이터 처리에서 copy 관련 warning을 피하기 위해 .copy() 옵션으로 재지정\n",
    "population.is_copy = False\n",
    "population.loc[population['구분'] == '계', '구분'] = '합계'\n",
    "population.head()"
   ]
  },
  {
   "cell_type": "code",
   "execution_count": 10,
   "metadata": {},
   "outputs": [
    {
     "output_type": "execute_result",
     "data": {
      "text/plain": [
       "  광역시도  시군구  행정구  구분     인구수  15세미만  15~19세  20~24세  25~29세  30~34세  ...  \\\n",
       "3   서울  종로구  NaN  합계  136649  12204    5801    9816   11972    9459  ...   \n",
       "4   서울  종로구  NaN  남자   65594   6183    2803    4230    6167    4747  ...   \n",
       "5   서울  종로구  NaN  여자   71055   6021    2998    5586    5805    4712  ...   \n",
       "6   서울   중구  NaN  합계  115665   9839    3896    7511   10304    9636  ...   \n",
       "7   서울   중구  NaN  남자   55820   4988    1896    3103    5115    4790  ...   \n",
       "\n",
       "   40~44세  45~49세  50~54세  55~59세  60~64세  65~69세  70~74세  75~79세  80~84세  \\\n",
       "3    9034   11784   11462   11781   10125    7057    5960    5277    3341   \n",
       "4    4341    5709    5511    5773    5021    3369    2659    2290    1387   \n",
       "5    4693    6075    5951    6008    5104    3688    3301    2987    1954   \n",
       "6    7836    8903    9313    9786    9002    6211    5077    4201    2581   \n",
       "7    4054    4423    4587    4830    4430    2998    2295    1795    1003   \n",
       "\n",
       "   85세이상  \n",
       "3   2065  \n",
       "4    747  \n",
       "5   1318  \n",
       "6   1695  \n",
       "7    523  \n",
       "\n",
       "[5 rows x 21 columns]"
      ],
      "text/html": "<div>\n<style scoped>\n    .dataframe tbody tr th:only-of-type {\n        vertical-align: middle;\n    }\n\n    .dataframe tbody tr th {\n        vertical-align: top;\n    }\n\n    .dataframe thead th {\n        text-align: right;\n    }\n</style>\n<table border=\"1\" class=\"dataframe\">\n  <thead>\n    <tr style=\"text-align: right;\">\n      <th></th>\n      <th>광역시도</th>\n      <th>시군구</th>\n      <th>행정구</th>\n      <th>구분</th>\n      <th>인구수</th>\n      <th>15세미만</th>\n      <th>15~19세</th>\n      <th>20~24세</th>\n      <th>25~29세</th>\n      <th>30~34세</th>\n      <th>...</th>\n      <th>40~44세</th>\n      <th>45~49세</th>\n      <th>50~54세</th>\n      <th>55~59세</th>\n      <th>60~64세</th>\n      <th>65~69세</th>\n      <th>70~74세</th>\n      <th>75~79세</th>\n      <th>80~84세</th>\n      <th>85세이상</th>\n    </tr>\n  </thead>\n  <tbody>\n    <tr>\n      <th>3</th>\n      <td>서울</td>\n      <td>종로구</td>\n      <td>NaN</td>\n      <td>합계</td>\n      <td>136649</td>\n      <td>12204</td>\n      <td>5801</td>\n      <td>9816</td>\n      <td>11972</td>\n      <td>9459</td>\n      <td>...</td>\n      <td>9034</td>\n      <td>11784</td>\n      <td>11462</td>\n      <td>11781</td>\n      <td>10125</td>\n      <td>7057</td>\n      <td>5960</td>\n      <td>5277</td>\n      <td>3341</td>\n      <td>2065</td>\n    </tr>\n    <tr>\n      <th>4</th>\n      <td>서울</td>\n      <td>종로구</td>\n      <td>NaN</td>\n      <td>남자</td>\n      <td>65594</td>\n      <td>6183</td>\n      <td>2803</td>\n      <td>4230</td>\n      <td>6167</td>\n      <td>4747</td>\n      <td>...</td>\n      <td>4341</td>\n      <td>5709</td>\n      <td>5511</td>\n      <td>5773</td>\n      <td>5021</td>\n      <td>3369</td>\n      <td>2659</td>\n      <td>2290</td>\n      <td>1387</td>\n      <td>747</td>\n    </tr>\n    <tr>\n      <th>5</th>\n      <td>서울</td>\n      <td>종로구</td>\n      <td>NaN</td>\n      <td>여자</td>\n      <td>71055</td>\n      <td>6021</td>\n      <td>2998</td>\n      <td>5586</td>\n      <td>5805</td>\n      <td>4712</td>\n      <td>...</td>\n      <td>4693</td>\n      <td>6075</td>\n      <td>5951</td>\n      <td>6008</td>\n      <td>5104</td>\n      <td>3688</td>\n      <td>3301</td>\n      <td>2987</td>\n      <td>1954</td>\n      <td>1318</td>\n    </tr>\n    <tr>\n      <th>6</th>\n      <td>서울</td>\n      <td>중구</td>\n      <td>NaN</td>\n      <td>합계</td>\n      <td>115665</td>\n      <td>9839</td>\n      <td>3896</td>\n      <td>7511</td>\n      <td>10304</td>\n      <td>9636</td>\n      <td>...</td>\n      <td>7836</td>\n      <td>8903</td>\n      <td>9313</td>\n      <td>9786</td>\n      <td>9002</td>\n      <td>6211</td>\n      <td>5077</td>\n      <td>4201</td>\n      <td>2581</td>\n      <td>1695</td>\n    </tr>\n    <tr>\n      <th>7</th>\n      <td>서울</td>\n      <td>중구</td>\n      <td>NaN</td>\n      <td>남자</td>\n      <td>55820</td>\n      <td>4988</td>\n      <td>1896</td>\n      <td>3103</td>\n      <td>5115</td>\n      <td>4790</td>\n      <td>...</td>\n      <td>4054</td>\n      <td>4423</td>\n      <td>4587</td>\n      <td>4830</td>\n      <td>4430</td>\n      <td>2998</td>\n      <td>2295</td>\n      <td>1795</td>\n      <td>1003</td>\n      <td>523</td>\n    </tr>\n  </tbody>\n</table>\n<p>5 rows × 21 columns</p>\n</div>"
     },
     "metadata": {},
     "execution_count": 10
    }
   ],
   "source": [
    "population['시군구'] = population['시군구'].replace(' ', '')\n",
    "population['행정구'] = population['행정구'].replace(' ', '')\n",
    "population.head()"
   ]
  },
  {
   "cell_type": "code",
   "execution_count": null,
   "metadata": {},
   "outputs": [],
   "source": [
    "pd.to_csv"
   ]
  },
  {
   "cell_type": "markdown",
   "metadata": {},
   "source": [
    "## 인구 소멸 위기 지역 계산하고 데이터 정리"
   ]
  },
  {
   "cell_type": "code",
   "execution_count": 8,
   "metadata": {},
   "outputs": [
    {
     "output_type": "execute_result",
     "data": {
      "text/plain": [
       "   광역시도   시군구  행정구  구분     인구수  15세미만  15~19세  20~24세  25~29세  30~34세  ...  \\\n",
       "3    서울   종로구  NaN  합계  136649  12204    5801    9816   11972    9459  ...   \n",
       "4    서울   종로구  NaN  남자   65594   6183    2803    4230    6167    4747  ...   \n",
       "5    서울   종로구  NaN  여자   71055   6021    2998    5586    5805    4712  ...   \n",
       "6    서울    중구  NaN  합계  115665   9839    3896    7511   10304    9636  ...   \n",
       "7    서울    중구  NaN  남자   55820   4988    1896    3103    5115    4790  ...   \n",
       "8    서울    중구  NaN  여자   59845   4851    2000    4408    5189    4846  ...   \n",
       "9    서울   용산구  NaN  합계  204196  19559    7501   11472   17506   17246  ...   \n",
       "10   서울   용산구  NaN  남자   97390  10065    3759    4330    8410    8569  ...   \n",
       "11   서울   용산구  NaN  여자  106806   9494    3742    7142    9096    8677  ...   \n",
       "12   서울   성동구  NaN  합계  283330  30197   10671   18283   24581   23496  ...   \n",
       "\n",
       "    50~54세  55~59세  60~64세  65~69세  70~74세  75~79세  80~84세  85세이상  20-39세  \\\n",
       "3    11462   11781   10125    7057    5960    5277    3341   2065   40758   \n",
       "4     5511    5773    5021    3369    2659    2290    1387    747   19801   \n",
       "5     5951    6008    5104    3688    3301    2987    1954   1318   20957   \n",
       "6     9313    9786    9002    6211    5077    4201    2581   1695   37325   \n",
       "7     4587    4830    4430    2998    2295    1795    1003    523   17998   \n",
       "8     4726    4956    4572    3213    2782    2406    1578   1172   19327   \n",
       "9    16489   16246   14708    9927    8197    7027    4763   3009   64265   \n",
       "10    8072    7884    7103    4649    3653    2997    1831    998   30377   \n",
       "11    8417    8362    7605    5278    4544    4030    2932   2011   33888   \n",
       "12   22648   23060   20026   13394   10709    8671    5088   2895   91871   \n",
       "\n",
       "    65세이상  \n",
       "3   23700  \n",
       "4   10452  \n",
       "5   13248  \n",
       "6   19765  \n",
       "7    8614  \n",
       "8   11151  \n",
       "9   32923  \n",
       "10  14128  \n",
       "11  18795  \n",
       "12  40757  \n",
       "\n",
       "[10 rows x 23 columns]"
      ],
      "text/html": "<div>\n<style scoped>\n    .dataframe tbody tr th:only-of-type {\n        vertical-align: middle;\n    }\n\n    .dataframe tbody tr th {\n        vertical-align: top;\n    }\n\n    .dataframe thead th {\n        text-align: right;\n    }\n</style>\n<table border=\"1\" class=\"dataframe\">\n  <thead>\n    <tr style=\"text-align: right;\">\n      <th></th>\n      <th>광역시도</th>\n      <th>시군구</th>\n      <th>행정구</th>\n      <th>구분</th>\n      <th>인구수</th>\n      <th>15세미만</th>\n      <th>15~19세</th>\n      <th>20~24세</th>\n      <th>25~29세</th>\n      <th>30~34세</th>\n      <th>...</th>\n      <th>50~54세</th>\n      <th>55~59세</th>\n      <th>60~64세</th>\n      <th>65~69세</th>\n      <th>70~74세</th>\n      <th>75~79세</th>\n      <th>80~84세</th>\n      <th>85세이상</th>\n      <th>20-39세</th>\n      <th>65세이상</th>\n    </tr>\n  </thead>\n  <tbody>\n    <tr>\n      <th>3</th>\n      <td>서울</td>\n      <td>종로구</td>\n      <td>NaN</td>\n      <td>합계</td>\n      <td>136649</td>\n      <td>12204</td>\n      <td>5801</td>\n      <td>9816</td>\n      <td>11972</td>\n      <td>9459</td>\n      <td>...</td>\n      <td>11462</td>\n      <td>11781</td>\n      <td>10125</td>\n      <td>7057</td>\n      <td>5960</td>\n      <td>5277</td>\n      <td>3341</td>\n      <td>2065</td>\n      <td>40758</td>\n      <td>23700</td>\n    </tr>\n    <tr>\n      <th>4</th>\n      <td>서울</td>\n      <td>종로구</td>\n      <td>NaN</td>\n      <td>남자</td>\n      <td>65594</td>\n      <td>6183</td>\n      <td>2803</td>\n      <td>4230</td>\n      <td>6167</td>\n      <td>4747</td>\n      <td>...</td>\n      <td>5511</td>\n      <td>5773</td>\n      <td>5021</td>\n      <td>3369</td>\n      <td>2659</td>\n      <td>2290</td>\n      <td>1387</td>\n      <td>747</td>\n      <td>19801</td>\n      <td>10452</td>\n    </tr>\n    <tr>\n      <th>5</th>\n      <td>서울</td>\n      <td>종로구</td>\n      <td>NaN</td>\n      <td>여자</td>\n      <td>71055</td>\n      <td>6021</td>\n      <td>2998</td>\n      <td>5586</td>\n      <td>5805</td>\n      <td>4712</td>\n      <td>...</td>\n      <td>5951</td>\n      <td>6008</td>\n      <td>5104</td>\n      <td>3688</td>\n      <td>3301</td>\n      <td>2987</td>\n      <td>1954</td>\n      <td>1318</td>\n      <td>20957</td>\n      <td>13248</td>\n    </tr>\n    <tr>\n      <th>6</th>\n      <td>서울</td>\n      <td>중구</td>\n      <td>NaN</td>\n      <td>합계</td>\n      <td>115665</td>\n      <td>9839</td>\n      <td>3896</td>\n      <td>7511</td>\n      <td>10304</td>\n      <td>9636</td>\n      <td>...</td>\n      <td>9313</td>\n      <td>9786</td>\n      <td>9002</td>\n      <td>6211</td>\n      <td>5077</td>\n      <td>4201</td>\n      <td>2581</td>\n      <td>1695</td>\n      <td>37325</td>\n      <td>19765</td>\n    </tr>\n    <tr>\n      <th>7</th>\n      <td>서울</td>\n      <td>중구</td>\n      <td>NaN</td>\n      <td>남자</td>\n      <td>55820</td>\n      <td>4988</td>\n      <td>1896</td>\n      <td>3103</td>\n      <td>5115</td>\n      <td>4790</td>\n      <td>...</td>\n      <td>4587</td>\n      <td>4830</td>\n      <td>4430</td>\n      <td>2998</td>\n      <td>2295</td>\n      <td>1795</td>\n      <td>1003</td>\n      <td>523</td>\n      <td>17998</td>\n      <td>8614</td>\n    </tr>\n    <tr>\n      <th>8</th>\n      <td>서울</td>\n      <td>중구</td>\n      <td>NaN</td>\n      <td>여자</td>\n      <td>59845</td>\n      <td>4851</td>\n      <td>2000</td>\n      <td>4408</td>\n      <td>5189</td>\n      <td>4846</td>\n      <td>...</td>\n      <td>4726</td>\n      <td>4956</td>\n      <td>4572</td>\n      <td>3213</td>\n      <td>2782</td>\n      <td>2406</td>\n      <td>1578</td>\n      <td>1172</td>\n      <td>19327</td>\n      <td>11151</td>\n    </tr>\n    <tr>\n      <th>9</th>\n      <td>서울</td>\n      <td>용산구</td>\n      <td>NaN</td>\n      <td>합계</td>\n      <td>204196</td>\n      <td>19559</td>\n      <td>7501</td>\n      <td>11472</td>\n      <td>17506</td>\n      <td>17246</td>\n      <td>...</td>\n      <td>16489</td>\n      <td>16246</td>\n      <td>14708</td>\n      <td>9927</td>\n      <td>8197</td>\n      <td>7027</td>\n      <td>4763</td>\n      <td>3009</td>\n      <td>64265</td>\n      <td>32923</td>\n    </tr>\n    <tr>\n      <th>10</th>\n      <td>서울</td>\n      <td>용산구</td>\n      <td>NaN</td>\n      <td>남자</td>\n      <td>97390</td>\n      <td>10065</td>\n      <td>3759</td>\n      <td>4330</td>\n      <td>8410</td>\n      <td>8569</td>\n      <td>...</td>\n      <td>8072</td>\n      <td>7884</td>\n      <td>7103</td>\n      <td>4649</td>\n      <td>3653</td>\n      <td>2997</td>\n      <td>1831</td>\n      <td>998</td>\n      <td>30377</td>\n      <td>14128</td>\n    </tr>\n    <tr>\n      <th>11</th>\n      <td>서울</td>\n      <td>용산구</td>\n      <td>NaN</td>\n      <td>여자</td>\n      <td>106806</td>\n      <td>9494</td>\n      <td>3742</td>\n      <td>7142</td>\n      <td>9096</td>\n      <td>8677</td>\n      <td>...</td>\n      <td>8417</td>\n      <td>8362</td>\n      <td>7605</td>\n      <td>5278</td>\n      <td>4544</td>\n      <td>4030</td>\n      <td>2932</td>\n      <td>2011</td>\n      <td>33888</td>\n      <td>18795</td>\n    </tr>\n    <tr>\n      <th>12</th>\n      <td>서울</td>\n      <td>성동구</td>\n      <td>NaN</td>\n      <td>합계</td>\n      <td>283330</td>\n      <td>30197</td>\n      <td>10671</td>\n      <td>18283</td>\n      <td>24581</td>\n      <td>23496</td>\n      <td>...</td>\n      <td>22648</td>\n      <td>23060</td>\n      <td>20026</td>\n      <td>13394</td>\n      <td>10709</td>\n      <td>8671</td>\n      <td>5088</td>\n      <td>2895</td>\n      <td>91871</td>\n      <td>40757</td>\n    </tr>\n  </tbody>\n</table>\n<p>10 rows × 23 columns</p>\n</div>"
     },
     "metadata": {},
     "execution_count": 8
    }
   ],
   "source": [
    "population['20-39세'] = population['20~24세'] + population['25~29세'] + population['30~34세'] + population['35~39세']\n",
    "population['65세이상'] = population['65~69세'] + population['70~74세'] + population['75~79세'] + population['80~84세'] + population['85세이상']\n",
    "population.head(10)"
   ]
  },
  {
   "cell_type": "code",
   "execution_count": 9,
   "metadata": {},
   "outputs": [
    {
     "output_type": "execute_result",
     "data": {
      "text/plain": [
       "            20-39세                      65세이상                         인구수  \\\n",
       "구분              남자       여자       합계       남자       여자       합계        남자   \n",
       "광역시도 시군구                                                                    \n",
       "강원    강릉시  25015.0  20993.0  46008.0  17378.0  23119.0  40497.0  101154.0   \n",
       "      고성군   2307.0   1699.0   4006.0   2957.0   4048.0   7005.0   11933.0   \n",
       "      동해시   8801.0   7510.0  16311.0   7075.0   9077.0  16152.0   42093.0   \n",
       "      삼척시   7148.0   5280.0  12428.0   6314.0   8639.0  14953.0   31630.0   \n",
       "      속초시   8517.0   7411.0  15928.0   5866.0   8144.0  14010.0   37488.0   \n",
       "\n",
       "                               \n",
       "구분               여자        합계  \n",
       "광역시도 시군구                       \n",
       "강원    강릉시  101903.0  203057.0  \n",
       "      고성군   11688.0   23621.0  \n",
       "      동해시   41795.0   83888.0  \n",
       "      삼척시   30203.0   61833.0  \n",
       "      속초시   38814.0   76302.0  "
      ],
      "text/html": "<div>\n<style scoped>\n    .dataframe tbody tr th:only-of-type {\n        vertical-align: middle;\n    }\n\n    .dataframe tbody tr th {\n        vertical-align: top;\n    }\n\n    .dataframe thead tr th {\n        text-align: left;\n    }\n\n    .dataframe thead tr:last-of-type th {\n        text-align: right;\n    }\n</style>\n<table border=\"1\" class=\"dataframe\">\n  <thead>\n    <tr>\n      <th></th>\n      <th></th>\n      <th colspan=\"3\" halign=\"left\">20-39세</th>\n      <th colspan=\"3\" halign=\"left\">65세이상</th>\n      <th colspan=\"3\" halign=\"left\">인구수</th>\n    </tr>\n    <tr>\n      <th></th>\n      <th>구분</th>\n      <th>남자</th>\n      <th>여자</th>\n      <th>합계</th>\n      <th>남자</th>\n      <th>여자</th>\n      <th>합계</th>\n      <th>남자</th>\n      <th>여자</th>\n      <th>합계</th>\n    </tr>\n    <tr>\n      <th>광역시도</th>\n      <th>시군구</th>\n      <th></th>\n      <th></th>\n      <th></th>\n      <th></th>\n      <th></th>\n      <th></th>\n      <th></th>\n      <th></th>\n      <th></th>\n    </tr>\n  </thead>\n  <tbody>\n    <tr>\n      <th rowspan=\"5\" valign=\"top\">강원</th>\n      <th>강릉시</th>\n      <td>25015.0</td>\n      <td>20993.0</td>\n      <td>46008.0</td>\n      <td>17378.0</td>\n      <td>23119.0</td>\n      <td>40497.0</td>\n      <td>101154.0</td>\n      <td>101903.0</td>\n      <td>203057.0</td>\n    </tr>\n    <tr>\n      <th>고성군</th>\n      <td>2307.0</td>\n      <td>1699.0</td>\n      <td>4006.0</td>\n      <td>2957.0</td>\n      <td>4048.0</td>\n      <td>7005.0</td>\n      <td>11933.0</td>\n      <td>11688.0</td>\n      <td>23621.0</td>\n    </tr>\n    <tr>\n      <th>동해시</th>\n      <td>8801.0</td>\n      <td>7510.0</td>\n      <td>16311.0</td>\n      <td>7075.0</td>\n      <td>9077.0</td>\n      <td>16152.0</td>\n      <td>42093.0</td>\n      <td>41795.0</td>\n      <td>83888.0</td>\n    </tr>\n    <tr>\n      <th>삼척시</th>\n      <td>7148.0</td>\n      <td>5280.0</td>\n      <td>12428.0</td>\n      <td>6314.0</td>\n      <td>8639.0</td>\n      <td>14953.0</td>\n      <td>31630.0</td>\n      <td>30203.0</td>\n      <td>61833.0</td>\n    </tr>\n    <tr>\n      <th>속초시</th>\n      <td>8517.0</td>\n      <td>7411.0</td>\n      <td>15928.0</td>\n      <td>5866.0</td>\n      <td>8144.0</td>\n      <td>14010.0</td>\n      <td>37488.0</td>\n      <td>38814.0</td>\n      <td>76302.0</td>\n    </tr>\n  </tbody>\n</table>\n</div>"
     },
     "metadata": {},
     "execution_count": 9
    }
   ],
   "source": [
    "pop = pd.pivot_table(population,\n",
    "            index= ['광역시도', '시군구'],\n",
    "            columns= ['구분'],\n",
    "            values= ['인구수','20-39세','65세이상'])\n",
    "pop.head()"
   ]
  },
  {
   "cell_type": "code",
   "execution_count": 10,
   "metadata": {},
   "outputs": [
    {
     "output_type": "execute_result",
     "data": {
      "text/plain": [
       "            20-39세                      65세이상                         인구수  \\\n",
       "구분              남자       여자       합계       남자       여자       합계        남자   \n",
       "광역시도 시군구                                                                    \n",
       "강원    강릉시  25015.0  20993.0  46008.0  17378.0  23119.0  40497.0  101154.0   \n",
       "      고성군   2307.0   1699.0   4006.0   2957.0   4048.0   7005.0   11933.0   \n",
       "      동해시   8801.0   7510.0  16311.0   7075.0   9077.0  16152.0   42093.0   \n",
       "      삼척시   7148.0   5280.0  12428.0   6314.0   8639.0  14953.0   31630.0   \n",
       "      속초시   8517.0   7411.0  15928.0   5866.0   8144.0  14010.0   37488.0   \n",
       "\n",
       "                                   소멸비율  \n",
       "구분               여자        합계            \n",
       "광역시도 시군구                                 \n",
       "강원    강릉시  101903.0  203057.0  1.036768  \n",
       "      고성군   11688.0   23621.0  0.485082  \n",
       "      동해시   41795.0   83888.0  0.929916  \n",
       "      삼척시   30203.0   61833.0  0.706213  \n",
       "      속초시   38814.0   76302.0  1.057959  "
      ],
      "text/html": "<div>\n<style scoped>\n    .dataframe tbody tr th:only-of-type {\n        vertical-align: middle;\n    }\n\n    .dataframe tbody tr th {\n        vertical-align: top;\n    }\n\n    .dataframe thead tr th {\n        text-align: left;\n    }\n\n    .dataframe thead tr:last-of-type th {\n        text-align: right;\n    }\n</style>\n<table border=\"1\" class=\"dataframe\">\n  <thead>\n    <tr>\n      <th></th>\n      <th></th>\n      <th colspan=\"3\" halign=\"left\">20-39세</th>\n      <th colspan=\"3\" halign=\"left\">65세이상</th>\n      <th colspan=\"3\" halign=\"left\">인구수</th>\n      <th>소멸비율</th>\n    </tr>\n    <tr>\n      <th></th>\n      <th>구분</th>\n      <th>남자</th>\n      <th>여자</th>\n      <th>합계</th>\n      <th>남자</th>\n      <th>여자</th>\n      <th>합계</th>\n      <th>남자</th>\n      <th>여자</th>\n      <th>합계</th>\n      <th></th>\n    </tr>\n    <tr>\n      <th>광역시도</th>\n      <th>시군구</th>\n      <th></th>\n      <th></th>\n      <th></th>\n      <th></th>\n      <th></th>\n      <th></th>\n      <th></th>\n      <th></th>\n      <th></th>\n      <th></th>\n    </tr>\n  </thead>\n  <tbody>\n    <tr>\n      <th rowspan=\"5\" valign=\"top\">강원</th>\n      <th>강릉시</th>\n      <td>25015.0</td>\n      <td>20993.0</td>\n      <td>46008.0</td>\n      <td>17378.0</td>\n      <td>23119.0</td>\n      <td>40497.0</td>\n      <td>101154.0</td>\n      <td>101903.0</td>\n      <td>203057.0</td>\n      <td>1.036768</td>\n    </tr>\n    <tr>\n      <th>고성군</th>\n      <td>2307.0</td>\n      <td>1699.0</td>\n      <td>4006.0</td>\n      <td>2957.0</td>\n      <td>4048.0</td>\n      <td>7005.0</td>\n      <td>11933.0</td>\n      <td>11688.0</td>\n      <td>23621.0</td>\n      <td>0.485082</td>\n    </tr>\n    <tr>\n      <th>동해시</th>\n      <td>8801.0</td>\n      <td>7510.0</td>\n      <td>16311.0</td>\n      <td>7075.0</td>\n      <td>9077.0</td>\n      <td>16152.0</td>\n      <td>42093.0</td>\n      <td>41795.0</td>\n      <td>83888.0</td>\n      <td>0.929916</td>\n    </tr>\n    <tr>\n      <th>삼척시</th>\n      <td>7148.0</td>\n      <td>5280.0</td>\n      <td>12428.0</td>\n      <td>6314.0</td>\n      <td>8639.0</td>\n      <td>14953.0</td>\n      <td>31630.0</td>\n      <td>30203.0</td>\n      <td>61833.0</td>\n      <td>0.706213</td>\n    </tr>\n    <tr>\n      <th>속초시</th>\n      <td>8517.0</td>\n      <td>7411.0</td>\n      <td>15928.0</td>\n      <td>5866.0</td>\n      <td>8144.0</td>\n      <td>14010.0</td>\n      <td>37488.0</td>\n      <td>38814.0</td>\n      <td>76302.0</td>\n      <td>1.057959</td>\n    </tr>\n  </tbody>\n</table>\n</div>"
     },
     "metadata": {},
     "execution_count": 10
    }
   ],
   "source": [
    "# 인구 소멸비율 계산\n",
    "pop['소멸비율'] = pop['20-39세','여자'] / (pop['65세이상','합계'] / 2)\n",
    "pop.head()"
   ]
  },
  {
   "cell_type": "code",
   "execution_count": 11,
   "metadata": {},
   "outputs": [
    {
     "output_type": "execute_result",
     "data": {
      "text/plain": [
       "            20-39세                      65세이상                         인구수  \\\n",
       "구분              남자       여자       합계       남자       여자       합계        남자   \n",
       "광역시도 시군구                                                                    \n",
       "강원    강릉시  25015.0  20993.0  46008.0  17378.0  23119.0  40497.0  101154.0   \n",
       "      고성군   2307.0   1699.0   4006.0   2957.0   4048.0   7005.0   11933.0   \n",
       "      동해시   8801.0   7510.0  16311.0   7075.0   9077.0  16152.0   42093.0   \n",
       "      삼척시   7148.0   5280.0  12428.0   6314.0   8639.0  14953.0   31630.0   \n",
       "      속초시   8517.0   7411.0  15928.0   5866.0   8144.0  14010.0   37488.0   \n",
       "\n",
       "                                   소멸비율 소멸위기지역  \n",
       "구분               여자        합계                   \n",
       "광역시도 시군구                                        \n",
       "강원    강릉시  101903.0  203057.0  1.036768  False  \n",
       "      고성군   11688.0   23621.0  0.485082   True  \n",
       "      동해시   41795.0   83888.0  0.929916   True  \n",
       "      삼척시   30203.0   61833.0  0.706213   True  \n",
       "      속초시   38814.0   76302.0  1.057959  False  "
      ],
      "text/html": "<div>\n<style scoped>\n    .dataframe tbody tr th:only-of-type {\n        vertical-align: middle;\n    }\n\n    .dataframe tbody tr th {\n        vertical-align: top;\n    }\n\n    .dataframe thead tr th {\n        text-align: left;\n    }\n\n    .dataframe thead tr:last-of-type th {\n        text-align: right;\n    }\n</style>\n<table border=\"1\" class=\"dataframe\">\n  <thead>\n    <tr>\n      <th></th>\n      <th></th>\n      <th colspan=\"3\" halign=\"left\">20-39세</th>\n      <th colspan=\"3\" halign=\"left\">65세이상</th>\n      <th colspan=\"3\" halign=\"left\">인구수</th>\n      <th>소멸비율</th>\n      <th>소멸위기지역</th>\n    </tr>\n    <tr>\n      <th></th>\n      <th>구분</th>\n      <th>남자</th>\n      <th>여자</th>\n      <th>합계</th>\n      <th>남자</th>\n      <th>여자</th>\n      <th>합계</th>\n      <th>남자</th>\n      <th>여자</th>\n      <th>합계</th>\n      <th></th>\n      <th></th>\n    </tr>\n    <tr>\n      <th>광역시도</th>\n      <th>시군구</th>\n      <th></th>\n      <th></th>\n      <th></th>\n      <th></th>\n      <th></th>\n      <th></th>\n      <th></th>\n      <th></th>\n      <th></th>\n      <th></th>\n      <th></th>\n    </tr>\n  </thead>\n  <tbody>\n    <tr>\n      <th rowspan=\"5\" valign=\"top\">강원</th>\n      <th>강릉시</th>\n      <td>25015.0</td>\n      <td>20993.0</td>\n      <td>46008.0</td>\n      <td>17378.0</td>\n      <td>23119.0</td>\n      <td>40497.0</td>\n      <td>101154.0</td>\n      <td>101903.0</td>\n      <td>203057.0</td>\n      <td>1.036768</td>\n      <td>False</td>\n    </tr>\n    <tr>\n      <th>고성군</th>\n      <td>2307.0</td>\n      <td>1699.0</td>\n      <td>4006.0</td>\n      <td>2957.0</td>\n      <td>4048.0</td>\n      <td>7005.0</td>\n      <td>11933.0</td>\n      <td>11688.0</td>\n      <td>23621.0</td>\n      <td>0.485082</td>\n      <td>True</td>\n    </tr>\n    <tr>\n      <th>동해시</th>\n      <td>8801.0</td>\n      <td>7510.0</td>\n      <td>16311.0</td>\n      <td>7075.0</td>\n      <td>9077.0</td>\n      <td>16152.0</td>\n      <td>42093.0</td>\n      <td>41795.0</td>\n      <td>83888.0</td>\n      <td>0.929916</td>\n      <td>True</td>\n    </tr>\n    <tr>\n      <th>삼척시</th>\n      <td>7148.0</td>\n      <td>5280.0</td>\n      <td>12428.0</td>\n      <td>6314.0</td>\n      <td>8639.0</td>\n      <td>14953.0</td>\n      <td>31630.0</td>\n      <td>30203.0</td>\n      <td>61833.0</td>\n      <td>0.706213</td>\n      <td>True</td>\n    </tr>\n    <tr>\n      <th>속초시</th>\n      <td>8517.0</td>\n      <td>7411.0</td>\n      <td>15928.0</td>\n      <td>5866.0</td>\n      <td>8144.0</td>\n      <td>14010.0</td>\n      <td>37488.0</td>\n      <td>38814.0</td>\n      <td>76302.0</td>\n      <td>1.057959</td>\n      <td>False</td>\n    </tr>\n  </tbody>\n</table>\n</div>"
     },
     "metadata": {},
     "execution_count": 11
    }
   ],
   "source": [
    "# 인구 소멸위기 지역 계산\n",
    "# 소멸비율이 1 이하면 소멸 위기지역이라고 기록\n",
    "pop['소멸위기지역'] = pop['소멸비율'] < 1.0\n",
    "pop.head()"
   ]
  },
  {
   "cell_type": "code",
   "execution_count": 12,
   "metadata": {},
   "outputs": [
    {
     "output_type": "execute_result",
     "data": {
      "text/plain": [
       "Index([' 고성군', ' 동해시', ' 삼척시', ' 양구군', ' 양양군', ' 영월군', ' 인제군', ' 정선군', ' 철원군',\n",
       "       ' 태백시', ' 평창군', ' 홍천군', ' 화천군', ' 횡성군', ' 가평군', ' 양평군', ' 여주시', ' 연천군',\n",
       "       ' 거창군', ' 고성군', ' 남해군', ' 밀양시', ' 사천시', ' 산청군', ' 의령군', ' 창녕군', ' 하동군',\n",
       "       ' 함안군', ' 함양군', ' 합천군', ' 경주시', ' 고령군', ' 군위군', ' 김천시', ' 문경시', ' 봉화군',\n",
       "       ' 상주시', ' 성주군', ' 안동시', ' 영덕군', ' 영양군', ' 영주시', ' 영천시', ' 예천군', ' 울릉군',\n",
       "       ' 울진군', ' 의성군', ' 청도군', ' 청송군', ' 동구', ' 영도구', ' 중구', ' 강화군', ' 옹진군',\n",
       "       ' 강진군', ' 고흥군', ' 곡성군', ' 구례군', ' 담양군', ' 보성군', ' 신안군', ' 영광군', ' 영암군',\n",
       "       ' 완도군', ' 장성군', ' 장흥군', ' 진도군', ' 함평군', ' 해남군', ' 화순군', ' 고창군', ' 김제시',\n",
       "       ' 남원시', ' 무주군', ' 부안군', ' 순창군', ' 완주군', ' 임실군', ' 장수군', ' 정읍시', ' 진안군',\n",
       "       ' 공주시', ' 금산군', ' 논산시', ' 보령시', ' 부여군', ' 서천군', ' 예산군', ' 청양군', ' 태안군',\n",
       "       ' 홍성군', ' 괴산군', ' 단양군', ' 보은군', ' 영동군', ' 옥천군', ' 제천시'],\n",
       "      dtype='object', name='시군구')"
      ]
     },
     "metadata": {},
     "execution_count": 12
    }
   ],
   "source": [
    "## df.index.get_level_values(level = None) 또는 df.index.get_level_values('컬럼명')\n",
    "## df.index.get_level_values(level = 1): df라는 데이터 프레임에서 두 번째 인덱스에 대한 값들을 가져오겠다는 의미\n",
    "## df.index.get_level_values('A'): df라는 데이터 프레임에서 'A'라는 컬럼의 값들을 가져오겠다는 의미\n",
    "\n",
    "# 소멸위기 분류된 지역 리스트로 뽑기\n",
    "pop[pop['소멸위기지역'] == True].index.get_level_values(1)"
   ]
  },
  {
   "cell_type": "code",
   "execution_count": 13,
   "metadata": {},
   "outputs": [
    {
     "output_type": "execute_result",
     "data": {
      "text/plain": [
       "   광역시도   시군구   20-39세                      65세이상                         인구수  \\\n",
       "구분                  남자       여자       합계       남자       여자       합계        남자   \n",
       "0    강원   강릉시  25015.0  20993.0  46008.0  17378.0  23119.0  40497.0  101154.0   \n",
       "1    강원   고성군   2307.0   1699.0   4006.0   2957.0   4048.0   7005.0   11933.0   \n",
       "2    강원   동해시   8801.0   7510.0  16311.0   7075.0   9077.0  16152.0   42093.0   \n",
       "3    강원   삼척시   7148.0   5280.0  12428.0   6314.0   8639.0  14953.0   31630.0   \n",
       "4    강원   속초시   8517.0   7411.0  15928.0   5866.0   8144.0  14010.0   37488.0   \n",
       "\n",
       "                            소멸비율 소멸위기지역  \n",
       "구분        여자        합계                   \n",
       "0   101903.0  203057.0  1.036768  False  \n",
       "1    11688.0   23621.0  0.485082   True  \n",
       "2    41795.0   83888.0  0.929916   True  \n",
       "3    30203.0   61833.0  0.706213   True  \n",
       "4    38814.0   76302.0  1.057959  False  "
      ],
      "text/html": "<div>\n<style scoped>\n    .dataframe tbody tr th:only-of-type {\n        vertical-align: middle;\n    }\n\n    .dataframe tbody tr th {\n        vertical-align: top;\n    }\n\n    .dataframe thead tr th {\n        text-align: left;\n    }\n</style>\n<table border=\"1\" class=\"dataframe\">\n  <thead>\n    <tr>\n      <th></th>\n      <th>광역시도</th>\n      <th>시군구</th>\n      <th colspan=\"3\" halign=\"left\">20-39세</th>\n      <th colspan=\"3\" halign=\"left\">65세이상</th>\n      <th colspan=\"3\" halign=\"left\">인구수</th>\n      <th>소멸비율</th>\n      <th>소멸위기지역</th>\n    </tr>\n    <tr>\n      <th>구분</th>\n      <th></th>\n      <th></th>\n      <th>남자</th>\n      <th>여자</th>\n      <th>합계</th>\n      <th>남자</th>\n      <th>여자</th>\n      <th>합계</th>\n      <th>남자</th>\n      <th>여자</th>\n      <th>합계</th>\n      <th></th>\n      <th></th>\n    </tr>\n  </thead>\n  <tbody>\n    <tr>\n      <th>0</th>\n      <td>강원</td>\n      <td>강릉시</td>\n      <td>25015.0</td>\n      <td>20993.0</td>\n      <td>46008.0</td>\n      <td>17378.0</td>\n      <td>23119.0</td>\n      <td>40497.0</td>\n      <td>101154.0</td>\n      <td>101903.0</td>\n      <td>203057.0</td>\n      <td>1.036768</td>\n      <td>False</td>\n    </tr>\n    <tr>\n      <th>1</th>\n      <td>강원</td>\n      <td>고성군</td>\n      <td>2307.0</td>\n      <td>1699.0</td>\n      <td>4006.0</td>\n      <td>2957.0</td>\n      <td>4048.0</td>\n      <td>7005.0</td>\n      <td>11933.0</td>\n      <td>11688.0</td>\n      <td>23621.0</td>\n      <td>0.485082</td>\n      <td>True</td>\n    </tr>\n    <tr>\n      <th>2</th>\n      <td>강원</td>\n      <td>동해시</td>\n      <td>8801.0</td>\n      <td>7510.0</td>\n      <td>16311.0</td>\n      <td>7075.0</td>\n      <td>9077.0</td>\n      <td>16152.0</td>\n      <td>42093.0</td>\n      <td>41795.0</td>\n      <td>83888.0</td>\n      <td>0.929916</td>\n      <td>True</td>\n    </tr>\n    <tr>\n      <th>3</th>\n      <td>강원</td>\n      <td>삼척시</td>\n      <td>7148.0</td>\n      <td>5280.0</td>\n      <td>12428.0</td>\n      <td>6314.0</td>\n      <td>8639.0</td>\n      <td>14953.0</td>\n      <td>31630.0</td>\n      <td>30203.0</td>\n      <td>61833.0</td>\n      <td>0.706213</td>\n      <td>True</td>\n    </tr>\n    <tr>\n      <th>4</th>\n      <td>강원</td>\n      <td>속초시</td>\n      <td>8517.0</td>\n      <td>7411.0</td>\n      <td>15928.0</td>\n      <td>5866.0</td>\n      <td>8144.0</td>\n      <td>14010.0</td>\n      <td>37488.0</td>\n      <td>38814.0</td>\n      <td>76302.0</td>\n      <td>1.057959</td>\n      <td>False</td>\n    </tr>\n  </tbody>\n</table>\n</div>"
     },
     "metadata": {},
     "execution_count": 13
    }
   ],
   "source": [
    "# reset_index를 사용하여 기존의 행 인덱스를 제거하고, 인덱스를 데이터 열로 추가\n",
    "# 원래는 행 인덱스인 '광역시도'와 '시도'를 데이터의 컬럼(열)들로 추가\n",
    "pop.reset_index(inplace=True)\n",
    "pop.head()"
   ]
  },
  {
   "cell_type": "code",
   "execution_count": 14,
   "metadata": {},
   "outputs": [
    {
     "output_type": "execute_result",
     "data": {
      "text/plain": [
       "  광역시도   시군구  20-39세남자  20-39세여자  20-39세합계  65세이상남자  65세이상여자  65세이상합계  \\\n",
       "0   강원   강릉시   25015.0   20993.0   46008.0  17378.0  23119.0  40497.0   \n",
       "1   강원   고성군    2307.0    1699.0    4006.0   2957.0   4048.0   7005.0   \n",
       "2   강원   동해시    8801.0    7510.0   16311.0   7075.0   9077.0  16152.0   \n",
       "3   강원   삼척시    7148.0    5280.0   12428.0   6314.0   8639.0  14953.0   \n",
       "4   강원   속초시    8517.0    7411.0   15928.0   5866.0   8144.0  14010.0   \n",
       "\n",
       "      인구수남자     인구수여자     인구수합계      소멸비율  소멸위기지역  \n",
       "0  101154.0  101903.0  203057.0  1.036768   False  \n",
       "1   11933.0   11688.0   23621.0  0.485082    True  \n",
       "2   42093.0   41795.0   83888.0  0.929916    True  \n",
       "3   31630.0   30203.0   61833.0  0.706213    True  \n",
       "4   37488.0   38814.0   76302.0  1.057959   False  "
      ],
      "text/html": "<div>\n<style scoped>\n    .dataframe tbody tr th:only-of-type {\n        vertical-align: middle;\n    }\n\n    .dataframe tbody tr th {\n        vertical-align: top;\n    }\n\n    .dataframe thead th {\n        text-align: right;\n    }\n</style>\n<table border=\"1\" class=\"dataframe\">\n  <thead>\n    <tr style=\"text-align: right;\">\n      <th></th>\n      <th>광역시도</th>\n      <th>시군구</th>\n      <th>20-39세남자</th>\n      <th>20-39세여자</th>\n      <th>20-39세합계</th>\n      <th>65세이상남자</th>\n      <th>65세이상여자</th>\n      <th>65세이상합계</th>\n      <th>인구수남자</th>\n      <th>인구수여자</th>\n      <th>인구수합계</th>\n      <th>소멸비율</th>\n      <th>소멸위기지역</th>\n    </tr>\n  </thead>\n  <tbody>\n    <tr>\n      <th>0</th>\n      <td>강원</td>\n      <td>강릉시</td>\n      <td>25015.0</td>\n      <td>20993.0</td>\n      <td>46008.0</td>\n      <td>17378.0</td>\n      <td>23119.0</td>\n      <td>40497.0</td>\n      <td>101154.0</td>\n      <td>101903.0</td>\n      <td>203057.0</td>\n      <td>1.036768</td>\n      <td>False</td>\n    </tr>\n    <tr>\n      <th>1</th>\n      <td>강원</td>\n      <td>고성군</td>\n      <td>2307.0</td>\n      <td>1699.0</td>\n      <td>4006.0</td>\n      <td>2957.0</td>\n      <td>4048.0</td>\n      <td>7005.0</td>\n      <td>11933.0</td>\n      <td>11688.0</td>\n      <td>23621.0</td>\n      <td>0.485082</td>\n      <td>True</td>\n    </tr>\n    <tr>\n      <th>2</th>\n      <td>강원</td>\n      <td>동해시</td>\n      <td>8801.0</td>\n      <td>7510.0</td>\n      <td>16311.0</td>\n      <td>7075.0</td>\n      <td>9077.0</td>\n      <td>16152.0</td>\n      <td>42093.0</td>\n      <td>41795.0</td>\n      <td>83888.0</td>\n      <td>0.929916</td>\n      <td>True</td>\n    </tr>\n    <tr>\n      <th>3</th>\n      <td>강원</td>\n      <td>삼척시</td>\n      <td>7148.0</td>\n      <td>5280.0</td>\n      <td>12428.0</td>\n      <td>6314.0</td>\n      <td>8639.0</td>\n      <td>14953.0</td>\n      <td>31630.0</td>\n      <td>30203.0</td>\n      <td>61833.0</td>\n      <td>0.706213</td>\n      <td>True</td>\n    </tr>\n    <tr>\n      <th>4</th>\n      <td>강원</td>\n      <td>속초시</td>\n      <td>8517.0</td>\n      <td>7411.0</td>\n      <td>15928.0</td>\n      <td>5866.0</td>\n      <td>8144.0</td>\n      <td>14010.0</td>\n      <td>37488.0</td>\n      <td>38814.0</td>\n      <td>76302.0</td>\n      <td>1.057959</td>\n      <td>False</td>\n    </tr>\n  </tbody>\n</table>\n</div>"
     },
     "metadata": {},
     "execution_count": 14
    }
   ],
   "source": [
    "# 다단으로 구성된 index를 다시 초기화\n",
    "tmp_coloumns = [pop.columns.get_level_values(0)[n] + pop.columns.get_level_values(1)[n] for n in range(0, len(pop.columns.get_level_values(0)))]\n",
    "# index가 초기화된 컬럼들로 다시 변경 = 다단으로 표시된 컬럼을 하나로 합침\n",
    "pop.columns = tmp_coloumns\n",
    "pop.head()"
   ]
  },
  {
   "cell_type": "code",
   "execution_count": 15,
   "metadata": {},
   "outputs": [
    {
     "output_type": "stream",
     "name": "stdout",
     "text": [
      "<class 'pandas.core.frame.DataFrame'>\nRangeIndex: 229 entries, 0 to 228\nData columns (total 13 columns):\n #   Column    Non-Null Count  Dtype  \n---  ------    --------------  -----  \n 0   광역시도      229 non-null    object \n 1   시군구       229 non-null    object \n 2   20-39세남자  229 non-null    float64\n 3   20-39세여자  229 non-null    float64\n 4   20-39세합계  229 non-null    float64\n 5   65세이상남자   229 non-null    float64\n 6   65세이상여자   229 non-null    float64\n 7   65세이상합계   229 non-null    float64\n 8   인구수남자     229 non-null    float64\n 9   인구수여자     229 non-null    float64\n 10  인구수합계     229 non-null    float64\n 11  소멸비율      229 non-null    float64\n 12  소멸위기지역    229 non-null    bool   \ndtypes: bool(1), float64(10), object(2)\nmemory usage: 21.8+ KB\n"
     ]
    }
   ],
   "source": [
    "# 최종 정리된 데이터(pop)의 요약 정보를 확인해보기\n",
    "# 인구수 관련 변수들은 '숫자형', '소멸위기지역' 변수는 'bool형'인 것을 확인\n",
    "pop.info()"
   ]
  },
  {
   "cell_type": "markdown",
   "metadata": {},
   "source": [
    "## 대한민국 지도 그리는 방법에 대한 소개"
   ]
  },
  {
   "cell_type": "markdown",
   "metadata": {},
   "source": [
    "### 지도 시각화를 위해 지역별 고유 id만들기"
   ]
  },
  {
   "cell_type": "code",
   "execution_count": 16,
   "metadata": {},
   "outputs": [
    {
     "output_type": "execute_result",
     "data": {
      "text/plain": [
       "array([' 강릉시', ' 고성군', ' 동해시', ' 삼척시', ' 속초시', ' 양구군', ' 양양군', ' 영월군',\n",
       "       ' 원주시', ' 인제군', ' 정선군', ' 철원군', ' 춘천시', ' 태백시', ' 평창군', ' 홍천군',\n",
       "       ' 화천군', ' 횡성군', ' 가평군', ' 고양시', ' 과천시', ' 광명시', ' 광주시', ' 구리시',\n",
       "       ' 군포시', ' 김포시', ' 남양주시', ' 동두천시', ' 부천시', ' 성남시', ' 수원시', ' 시흥시',\n",
       "       ' 안산시', ' 안성시', ' 안양시', ' 양주시', ' 양평군', ' 여주시', ' 연천군', ' 오산시',\n",
       "       ' 용인시', ' 의왕시', ' 의정부시', ' 이천시', ' 파주시', ' 평택시', ' 포천시', ' 하남시',\n",
       "       ' 화성시', ' 거제시', ' 거창군', ' 김해시', ' 남해군', ' 밀양시', ' 사천시', ' 산청군',\n",
       "       ' 양산시', ' 의령군', ' 진주시', ' 창녕군', ' 창원시', ' 통영시', ' 하동군', ' 함안군',\n",
       "       ' 함양군', ' 합천군', ' 경산시', ' 경주시', ' 고령군', ' 구미시', ' 군위군', ' 김천시',\n",
       "       ' 문경시', ' 봉화군', ' 상주시', ' 성주군', ' 안동시', ' 영덕군', ' 영양군', ' 영주시',\n",
       "       ' 영천시', ' 예천군', ' 울릉군', ' 울진군', ' 의성군', ' 청도군', ' 청송군', ' 칠곡군',\n",
       "       ' 포항시', ' 광산구', ' 남구', ' 동구', ' 북구', ' 서구', ' 달서구', ' 달성군', ' 수성구',\n",
       "       ' 중구', ' 대덕구', ' 유성구', ' 강서구', ' 금정구', ' 기장군', ' 동래구', ' 부산진구',\n",
       "       ' 사상구', ' 사하구', ' 수영구', ' 연제구', ' 영도구', ' 해운대구', ' 강남구', ' 강동구',\n",
       "       ' 강북구', ' 관악구', ' 광진구', ' 구로구', ' 금천구', ' 노원구', ' 도봉구', ' 동대문구',\n",
       "       ' 동작구', ' 마포구', ' 서대문구', ' 서초구', ' 성동구', ' 성북구', ' 송파구', ' 양천구',\n",
       "       ' 영등포구', ' 용산구', ' 은평구', ' 종로구', ' 중랑구', ' 세종시', ' 울주군', ' 강화군',\n",
       "       ' 계양구', ' 남동구', ' 미추홀구', ' 부평구', ' 연수구', ' 옹진군', ' 강진군', ' 고흥군',\n",
       "       ' 곡성군', ' 광양시', ' 구례군', ' 나주시', ' 담양군', ' 목포시', ' 무안군', ' 보성군',\n",
       "       ' 순천시', ' 신안군', ' 여수시', ' 영광군', ' 영암군', ' 완도군', ' 장성군', ' 장흥군',\n",
       "       ' 진도군', ' 함평군', ' 해남군', ' 화순군', ' 고창군', ' 군산시', ' 김제시', ' 남원시',\n",
       "       ' 무주군', ' 부안군', ' 순창군', ' 완주군', ' 익산시', ' 임실군', ' 장수군', ' 전주시',\n",
       "       ' 정읍시', ' 진안군', ' 서귀포시', ' 제주시', ' 계룡시', ' 공주시', ' 금산군', ' 논산시',\n",
       "       ' 당진시', ' 보령시', ' 부여군', ' 서산시', ' 서천군', ' 아산시', ' 예산군', ' 천안시',\n",
       "       ' 청양군', ' 태안군', ' 홍성군', ' 괴산군', ' 단양군', ' 보은군', ' 영동군', ' 옥천군',\n",
       "       ' 음성군', ' 제천시', ' 증평군', ' 진천군', ' 청주시', ' 충주시'], dtype=object)"
      ]
     },
     "metadata": {},
     "execution_count": 16
    }
   ],
   "source": [
    "pop['시군구'].unique()"
   ]
  },
  {
   "cell_type": "code",
   "execution_count": 23,
   "metadata": {},
   "outputs": [],
   "source": [
    "# '시'를 담을 리스트를 len(pop)만큼 생성\n",
    "si_name = [None] * len(pop)\n",
    "\n",
    "tmp_gu_dict = {'수원': ['장안구', '권선구', '팔달구', '영통구'],\n",
    "                '성남': ['수정구', '중원구', '분당구'],\n",
    "                '안양': ['만안구', '동안구'],\n",
    "                '안산': ['상록구', '단원구'],\n",
    "                '고양': ['덕양구', '일산동구', '일산서구'],\n",
    "                '용인': ['처인구', '기흥구', '수지구'],\n",
    "                '청주': ['상당구', '서원구', '흥덕구', '청원구'],\n",
    "                '천안': ['동남구', '서북구'],\n",
    "                '전주': ['완산구', '던진구'],\n",
    "                '포항': ['남구', '북구'],\n",
    "                '창원': ['의창구', '성산구', '진해구', '마산합포구', '마산회원구']}"
   ]
  },
  {
   "cell_type": "code",
   "execution_count": 24,
   "metadata": {},
   "outputs": [],
   "source": [
    "for n in pop.index:\n",
    "    if pop['광역시도'][n][-3:] not in ['광역시', '특별시', '자치시']:\n",
    "        if pop['시군구'][n][:-1]=='고성' and pop['광역시도'][n]=='강원도':\n",
    "            si_name[n] = '고성(강원)'\n",
    "        elif pop['시군구'][n][:-1]=='고성' and pop['광역시도'][n]=='경상남도':\n",
    "            si_name[n] = '고성(경남)'\n",
    "        else:\n",
    "            si_name[n] = pop['시군구'][n][:-1]\n",
    "        \n",
    "        for keys, values in tmp_gu_dict.items():\n",
    "            if pop['시군구'][n] in values:\n",
    "                if len(pop['시군구'][n])==2:\n",
    "                    si_name[n] = keys + ' ' + pop['시군구'][n]\n",
    "                elif pop['시군구'][n] in ['마산합포구','마산회원구']:\n",
    "                    si_name[n] = keys + ' ' + pop['시군구'][n][2:-1]\n",
    "                else:\n",
    "                    si_name[n] = keys + ' ' + pop['시군구'][n][:-1]\n",
    "    elif pop['광역시도'][n] == '세종특별자치시':\n",
    "        si_name[n] = '세종'\n",
    "    else:\n",
    "        if len(pop['시군구'][n])==2:\n",
    "            si_name[n] = pop['광역시도'][n][:2] + ' ' + pop['시도'][n]\n",
    "        else:\n",
    "            si_name[n] = pop['광역시도'][n][:2] + ' ' + pop['시도'][n]"
   ]
  },
  {
   "cell_type": "code",
   "execution_count": 25,
   "metadata": {},
   "outputs": [
    {
     "output_type": "execute_result",
     "data": {
      "text/plain": [
       "[' 강릉',\n",
       " ' 고성',\n",
       " ' 동해',\n",
       " ' 삼척',\n",
       " ' 속초',\n",
       " ' 양구',\n",
       " ' 양양',\n",
       " ' 영월',\n",
       " ' 원주',\n",
       " ' 인제',\n",
       " ' 정선',\n",
       " ' 철원',\n",
       " ' 춘천',\n",
       " ' 태백',\n",
       " ' 평창',\n",
       " ' 홍천',\n",
       " ' 화천',\n",
       " ' 횡성',\n",
       " ' 가평',\n",
       " ' 고양',\n",
       " ' 과천',\n",
       " ' 광명',\n",
       " ' 광주',\n",
       " ' 구리',\n",
       " ' 군포',\n",
       " ' 김포',\n",
       " ' 남양주',\n",
       " ' 동두천',\n",
       " ' 부천',\n",
       " ' 성남',\n",
       " ' 수원',\n",
       " ' 시흥',\n",
       " ' 안산',\n",
       " ' 안성',\n",
       " ' 안양',\n",
       " ' 양주',\n",
       " ' 양평',\n",
       " ' 여주',\n",
       " ' 연천',\n",
       " ' 오산',\n",
       " ' 용인',\n",
       " ' 의왕',\n",
       " ' 의정부',\n",
       " ' 이천',\n",
       " ' 파주',\n",
       " ' 평택',\n",
       " ' 포천',\n",
       " ' 하남',\n",
       " ' 화성',\n",
       " ' 거제',\n",
       " ' 거창',\n",
       " ' 고성',\n",
       " ' 김해',\n",
       " ' 남해',\n",
       " ' 밀양',\n",
       " ' 사천',\n",
       " ' 산청',\n",
       " ' 양산',\n",
       " ' 의령',\n",
       " ' 진주',\n",
       " ' 창녕',\n",
       " ' 창원',\n",
       " ' 통영',\n",
       " ' 하동',\n",
       " ' 함안',\n",
       " ' 함양',\n",
       " ' 합천',\n",
       " ' 경산',\n",
       " ' 경주',\n",
       " ' 고령',\n",
       " ' 구미',\n",
       " ' 군위',\n",
       " ' 김천',\n",
       " ' 문경',\n",
       " ' 봉화',\n",
       " ' 상주',\n",
       " ' 성주',\n",
       " ' 안동',\n",
       " ' 영덕',\n",
       " ' 영양',\n",
       " ' 영주',\n",
       " ' 영천',\n",
       " ' 예천',\n",
       " ' 울릉',\n",
       " ' 울진',\n",
       " ' 의성',\n",
       " ' 청도',\n",
       " ' 청송',\n",
       " ' 칠곡',\n",
       " ' 포항',\n",
       " ' 광산',\n",
       " ' 남',\n",
       " ' 동',\n",
       " ' 북',\n",
       " ' 서',\n",
       " ' 남',\n",
       " ' 달서',\n",
       " ' 달성',\n",
       " ' 동',\n",
       " ' 북',\n",
       " ' 서',\n",
       " ' 수성',\n",
       " ' 중',\n",
       " ' 대덕',\n",
       " ' 동',\n",
       " ' 서',\n",
       " ' 유성',\n",
       " ' 중',\n",
       " ' 강서',\n",
       " ' 금정',\n",
       " ' 기장',\n",
       " ' 남',\n",
       " ' 동',\n",
       " ' 동래',\n",
       " ' 부산진',\n",
       " ' 북',\n",
       " ' 사상',\n",
       " ' 사하',\n",
       " ' 서',\n",
       " ' 수영',\n",
       " ' 연제',\n",
       " ' 영도',\n",
       " ' 중',\n",
       " ' 해운대',\n",
       " ' 강남',\n",
       " ' 강동',\n",
       " ' 강북',\n",
       " ' 강서',\n",
       " ' 관악',\n",
       " ' 광진',\n",
       " ' 구로',\n",
       " ' 금천',\n",
       " ' 노원',\n",
       " ' 도봉',\n",
       " ' 동대문',\n",
       " ' 동작',\n",
       " ' 마포',\n",
       " ' 서대문',\n",
       " ' 서초',\n",
       " ' 성동',\n",
       " ' 성북',\n",
       " ' 송파',\n",
       " ' 양천',\n",
       " ' 영등포',\n",
       " ' 용산',\n",
       " ' 은평',\n",
       " ' 종로',\n",
       " ' 중',\n",
       " ' 중랑',\n",
       " ' 세종',\n",
       " ' 남',\n",
       " ' 동',\n",
       " ' 북',\n",
       " ' 울주',\n",
       " ' 중',\n",
       " ' 강화',\n",
       " ' 계양',\n",
       " ' 남동',\n",
       " ' 동',\n",
       " ' 미추홀',\n",
       " ' 부평',\n",
       " ' 서',\n",
       " ' 연수',\n",
       " ' 옹진',\n",
       " ' 중',\n",
       " ' 강진',\n",
       " ' 고흥',\n",
       " ' 곡성',\n",
       " ' 광양',\n",
       " ' 구례',\n",
       " ' 나주',\n",
       " ' 담양',\n",
       " ' 목포',\n",
       " ' 무안',\n",
       " ' 보성',\n",
       " ' 순천',\n",
       " ' 신안',\n",
       " ' 여수',\n",
       " ' 영광',\n",
       " ' 영암',\n",
       " ' 완도',\n",
       " ' 장성',\n",
       " ' 장흥',\n",
       " ' 진도',\n",
       " ' 함평',\n",
       " ' 해남',\n",
       " ' 화순',\n",
       " ' 고창',\n",
       " ' 군산',\n",
       " ' 김제',\n",
       " ' 남원',\n",
       " ' 무주',\n",
       " ' 부안',\n",
       " ' 순창',\n",
       " ' 완주',\n",
       " ' 익산',\n",
       " ' 임실',\n",
       " ' 장수',\n",
       " ' 전주',\n",
       " ' 정읍',\n",
       " ' 진안',\n",
       " ' 서귀포',\n",
       " ' 제주',\n",
       " ' 계룡',\n",
       " ' 공주',\n",
       " ' 금산',\n",
       " ' 논산',\n",
       " ' 당진',\n",
       " ' 보령',\n",
       " ' 부여',\n",
       " ' 서산',\n",
       " ' 서천',\n",
       " ' 아산',\n",
       " ' 예산',\n",
       " ' 천안',\n",
       " ' 청양',\n",
       " ' 태안',\n",
       " ' 홍성',\n",
       " ' 괴산',\n",
       " ' 단양',\n",
       " ' 보은',\n",
       " ' 영동',\n",
       " ' 옥천',\n",
       " ' 음성',\n",
       " ' 제천',\n",
       " ' 증평',\n",
       " ' 진천',\n",
       " ' 청주',\n",
       " ' 충주']"
      ]
     },
     "metadata": {},
     "execution_count": 25
    }
   ],
   "source": [
    "si_name"
   ]
  },
  {
   "cell_type": "code",
   "execution_count": null,
   "metadata": {},
   "outputs": [],
   "source": []
  }
 ]
}