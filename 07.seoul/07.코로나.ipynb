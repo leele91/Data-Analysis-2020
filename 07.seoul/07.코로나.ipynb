{
 "metadata": {
  "language_info": {
   "codemirror_mode": {
    "name": "ipython",
    "version": 3
   },
   "file_extension": ".py",
   "mimetype": "text/x-python",
   "name": "python",
   "nbconvert_exporter": "python",
   "pygments_lexer": "ipython3",
   "version": "3.8.3-final"
  },
  "orig_nbformat": 2,
  "kernelspec": {
   "name": "Python 3.8.3 64-bit ('base': conda)",
   "display_name": "Python 3.8.3 64-bit ('base': conda)",
   "metadata": {
    "interpreter": {
     "hash": "c2224539028b414c7f0940cdc86eeb3c7deaf138deef25179eca5056c4d821b9"
    }
   }
  }
 },
 "nbformat": 4,
 "nbformat_minor": 2,
 "cells": [
  {
   "cell_type": "code",
   "execution_count": 1,
   "metadata": {},
   "outputs": [],
   "source": [
    "import numpy as np\n",
    "import seaborn as sns\n",
    "import requests\n",
    "from urllib.parse import quote\n",
    "import pandas as pd\n",
    "from bs4 import BeautifulSoup\n",
    "import matplotlib as mpl\n",
    "import matplotlib.pyplot as plt \n",
    "%matplotlib inline\n",
    "\n",
    "# 한글폰트 사용\n",
    "mpl.rc('font', family='Malgun Gothic')\n",
    "mpl.rc('axes', unicode_minus=False)"
   ]
  },
  {
   "cell_type": "markdown",
   "metadata": {},
   "source": [
    "## 시도 발생현황"
   ]
  },
  {
   "cell_type": "code",
   "execution_count": 2,
   "metadata": {},
   "outputs": [],
   "source": [
    "key_fd = open('./key/Covid19key.txt', mode='r')\n",
    "govapi_key = key_fd.read(100)\n",
    "key_fd.close()"
   ]
  },
  {
   "cell_type": "code",
   "execution_count": 3,
   "metadata": {},
   "outputs": [],
   "source": [
    "\"\"\"# 데이터 생성일 시작범위/ 데이터 생성일 종료범위\n",
    "start_date = '20201121'\n",
    "end_date = '20201130'\n",
    "page = 1\"\"\""
   ]
  },
  {
   "cell_type": "code",
   "execution_count": 4,
   "metadata": {},
   "outputs": [],
   "source": [
    "\"\"\"corona_url = 'http://openapi.data.go.kr/openapi/service/rest/Covid19/getCovid19SidoInfStateJson'\n",
    "url = f'{corona_url}?ServiceKey={govapi_key}&pageNo={page}&numOfRows=10&startCreateDt={start_date}&endCreateDt={end_date}'\"\"\""
   ]
  },
  {
   "cell_type": "code",
   "execution_count": 5,
   "metadata": {},
   "outputs": [
    {
     "output_type": "execute_result",
     "data": {
      "text/plain": [
       "'00'"
      ]
     },
     "metadata": {},
     "execution_count": 5
    }
   ],
   "source": [
    "\"\"\"result = requests.get(url)\n",
    "soup = BeautifulSoup(result.text, 'xml')\n",
    "soup.find('resultCode').get_text() # 00이면 정상\"\"\""
   ]
  },
  {
   "cell_type": "code",
   "execution_count": 6,
   "metadata": {},
   "outputs": [],
   "source": [
    "# result = requests.get(url)\n",
    "# soup = BeautifulSoup(result.text, 'xml')\n",
    "# soup"
   ]
  },
  {
   "cell_type": "code",
   "execution_count": 7,
   "metadata": {},
   "outputs": [],
   "source": [
    "# soup.find('resultCode').get_text() # 00이면 정상"
   ]
  },
  {
   "cell_type": "code",
   "execution_count": 8,
   "metadata": {},
   "outputs": [
    {
     "output_type": "execute_result",
     "data": {
      "text/plain": [
       "'NORMAL SERVICE.'"
      ]
     },
     "metadata": {},
     "execution_count": 8
    }
   ],
   "source": [
    "\"\"\"soup.find('resultMsg').string\"\"\""
   ]
  },
  {
   "cell_type": "code",
   "execution_count": 9,
   "metadata": {},
   "outputs": [
    {
     "output_type": "execute_result",
     "data": {
      "text/plain": [
       "5</defCnt><gubun>충북</gubun><gubunCn>忠北</gubunCn><gubunEn>Chungcheongbuk-do</gubunEn><incDec>0</incDec><isolClearCnt>197</isolClearCnt><isolIngCnt>25</isolIngCnt><localOccCnt>0</localOccCnt><overFlowCnt>0</overFlowCnt><qurRate>14.07</qurRate><seq>5833</seq><stdDay>2020년 11월 23일 00시</stdDay><updateDt>null</updateDt></item>,\n",
       " <item><createDt>2020-11-23 09:33:42.565</createDt><deathCnt>6</deathCnt><defCnt>516</defCnt><gubun>강원</gubun><gubunCn>江原</gubunCn><gubunEn>Gangwon-do</gubunEn><incDec>12</incDec><isolClearCnt>306</isolClearCnt><isolIngCnt>204</isolIngCnt><localOccCnt>11</localOccCnt><overFlowCnt>1</overFlowCnt><qurRate>33.49</qurRate><seq>5832</seq><stdDay>2020년 11월 23일 00시</stdDay><updateDt>null</updateDt></item>,\n",
       " <item><createDt>2020-11-23 09:33:42.565</createDt><deathCnt>110</deathCnt><defCnt>6518</defCnt><gubun>경기</gubun><gubunCn>京畿</gubunCn><gubunEn>Gyeonggi-do</gubunEn><incDec>76</incDec><isolClearCnt>5544</isolClearCnt><isolIngCnt>864</isolIngCnt><localOccCnt>74</localOccCnt><overFlowCnt>2</overFlowCnt><qurRate>49.19</qurRate><seq>5831</seq><stdDay>2020년 11월 23일 00시</stdDay><updateDt>null</updateDt></item>,\n",
       " <item><createDt>2020-11-23 09:33:42.565</createDt><deathCnt>0</deathCnt><defCnt>87</defCnt><gubun>세종</gubun><gubunCn>世宗</gubunCn><gubunEn>Sejong</gubunEn><incDec>1</incDec><isolClearCnt>82</isolClearCnt><isolIngCnt>5</isolIngCnt><localOccCnt>0</localOccCnt><overFlowCnt>1</overFlowCnt><qurRate>25.41</qurRate><seq>5830</seq><stdDay>2020년 11월 23일 00시</stdDay><updateDt>null</updateDt></item>,\n",
       " <item><createDt>2020-11-23 09:33:42.565</createDt><deathCnt>2</deathCnt><defCnt>173</defCnt><gubun>울산</gubun><gubunCn>蔚山</gubunCn><gubunEn>Ulsan</gubunEn><incDec>1</incDec><isolClearCnt>163</isolClearCnt><isolIngCnt>8</isolIngCnt><localOccCnt>1</localOccCnt><overFlowCnt>0</overFlowCnt><qurRate>15.08</qurRate><seq>5829</seq><stdDay>2020년 11월 23일 00시</stdDay><updateDt>null</updateDt></item>,\n",
       " <item><createDt>2020-11-23 09:33:42.565</createDt><deathCnt>6</deathCnt><defCnt>460</defCnt><gubun>대전</gubun><gubunCn>大田</gubunCn><gubunEn>Daejeon</gubunEn><incDec>3</incDec><isolClearCnt>437</isolClearCnt><isolIngCnt>17</isolIngCnt><localOccCnt>2</localOccCnt><overFlowCnt>1</overFlowCnt><qurRate>31.20</qurRate><seq>5828</seq><stdDay>2020년 11월 23일 00시</stdDay><updateDt>null</updateDt></item>,\n",
       " <item><createDt>2020-11-23 09:33:42.565</createDt><deathCnt>3</deathCnt><defCnt>615</defCnt><gubun>광주</gubun><gubunCn>光州</gubunCn><gubunEn>Gwangju</gubunEn><incDec>1</incDec><isolClearCnt>526</isolClearCnt><isolIngCnt>86</isolIngCnt><localOccCnt>1</localOccCnt><overFlowCnt>0</overFlowCnt><qurRate>42.22</qurRate><seq>5827</seq><stdDay>2020년 11월 23일 00시</stdDay><updateDt>null</updateDt></item>,\n",
       " <item><createDt>2020-11-23 09:33:42.564</createDt><deathCnt>11</deathCnt><defCnt>1229</defCnt><gubun>인천</gubun><gubunCn>仁川</gubunCn><gubunEn>Incheon</gubunEn><incDec>23</incDec><isolClearCnt>1054</isolClearCnt><isolIngCnt>164</isolIngCnt><localOccCnt>23</localOccCnt><overFlowCnt>0</overFlowCnt><qurRate>41.57</qurRate><seq>5826</seq><stdDay>2020년 11월 23일 00시</stdDay><updateDt>null</updateDt></item>,\n",
       " <item><createDt>2020-11-23 09:33:42.564</createDt><deathCnt>198</deathCnt><defCnt>7215</defCnt><gubun>대구</gubun><gubunCn>大邱</gubunCn><gubunEn>Daegu</gubunEn><incDec>2</incDec><isolClearCnt>6987</isolClearCnt><isolIngCnt>30</isolIngCnt><localOccCnt>1</localOccCnt><overFlowCnt>1</overFlowCnt><qurRate>296.12</qurRate><seq>5825</seq><stdDay>2020년 11월 23일 00시</stdDay><updateDt>null</updateDt></item>,\n",
       " <item><createDt>2020-11-23 09:33:42.564</createDt><deathCnt>15</deathCnt><defCnt>637</defCnt><gubun>부산</gubun><gubunCn>釜山</gubunCn><gubunEn>Busan</gubunEn><incDec>5</incDec><isolClearCnt>583</isolClearCnt><isolIngCnt>39</isolIngCnt><localOccCnt>4</localOccCnt><overFlowCnt>1</overFlowCnt><qurRate>18.67</qurRate><seq>5824</seq><stdDay>2020년 11월 23일 00시</stdDay><updateDt>null</updateDt></item>,\n",
       " <item><createDt>2020-11-23 09:33:42.564</createDt><deathCnt>86</deathCnt><defCnt>7625</defCnt><gubun>서울</gubun><gubunCn>首尔</gubunCn><gubunEn>Seoul</gubunEn><incDec>112</incDec><isolClearCnt>6172</isolClearCnt><isolIngCnt>1367</isolIngCnt><localOccCnt>109</localOccCnt><overFlowCnt>3</overFlowCnt><qurRate>78.34</qurRate><seq>5823</seq><stdDay>2020년 11월 23일 00시</stdDay><updateDt>null</updateDt></item>,\n",
       " <item><createDt>2020-11-23 09:33:42.564</createDt><deathCnt>509</deathCnt><defCnt>31004</defCnt><gubun>합계</gubun><gubunCn>合计</gubunCn><gubunEn>Total</gubunEn><incDec>271</incDec><isolClearCnt>26539</isolClearCnt><isolIngCnt>3956</isolIngCnt><localOccCnt>255</localOccCnt><overFlowCnt>16</overFlowCnt><qurRate>59.80</qurRate><seq>5822</seq><stdDay>2020년 11월 23일 00시</stdDay><updateDt>null</updateDt></item>,\n",
       " <item><createDt>2020-11-22 09:35:42.118</createDt><deathCnt>0</deathCnt><defCnt>2110</defCnt><gubun>검역</gubun><gubunCn>隔離區</gubunCn><gubunEn>Lazaretto</gubunEn><incDec>20</incDec><isolClearCnt>1558</isolClearCnt><isolIngCnt>552</isolIngCnt><localOccCnt>0</localOccCnt><overFlowCnt>20</overFlowCnt><qurRate>-</qurRate><seq>5821</seq><stdDay>2020년 11월 22일 00시</stdDay><updateDt>null</updateDt></item>,\n",
       " <item><createDt>2020-11-22 09:35:42.118</createDt><deathCnt>0</deathCnt><defCnt>65</defCnt><gubun>제주</gubun><gubunCn>济州</gubunCn><gubunEn>Jeju</gubunEn><incDec>0</incDec><isolClearCnt>59</isolClearCnt><isolIngCnt>6</isolIngCnt><localOccCnt>0</localOccCnt><overFlowCnt>0</overFlowCnt><qurRate>9.69</qurRate><seq>5820</seq><stdDay>2020년 11월 22일 00시</stdDay><updateDt>null</updateDt></item>,\n",
       " <item><createDt>2020-11-22 09:35:42.118</createDt><deathCnt>0</deathCnt><defCnt>476</defCnt><gubun>경남</gubun><gubunCn>庆南</gubunCn><gubunEn>Gyeongsangnam-do</gubunEn><incDec>19</incDec><isolClearCnt>350</isolClearCnt><isolIngCnt>126</isolIngCnt><localOccCnt>19</localOccCnt><overFlowCnt>0</overFlowCnt><qurRate>14.16</qurRate><seq>5819</seq><stdDay>2020년 11월 22일 00시</stdDay><updateDt>null</updateDt></item>,\n",
       " <item><createDt>2020-11-22 09:35:42.118</createDt><deathCnt>57</deathCnt><defCnt>1663</defCnt><gubun>경북</gubun><gubunCn>庆北</gubunCn><gubunEn>Gyeongsangbuk-do</gubunEn><incDec>6</incDec><isolClearCnt>1537</isolClearCnt><isolIngCnt>69</isolIngCnt><localOccCnt>6</localOccCnt><overFlowCnt>0</overFlowCnt><qurRate>62.46</qurRate><seq>5818</seq><stdDay>2020년 11월 22일 00시</stdDay><updateDt>null</updateDt></item>,\n",
       " <item><createDt>2020-11-22 09:35:42.118</createDt><deathCnt>2</deathCnt><defCnt>353</defCnt><gubun>전남</gubun><gubunCn>全南</gubunCn><gubunEn>Jeollanam-do</gubunEn><incDec>13</incDec><isolClearCnt>189</isolClearCnt><isolIngCnt>162</isolIngCnt><localOccCnt>13</localOccCnt><overFlowCnt>0</overFlowCnt><qurRate>18.93</qurRate><seq>5817</seq><stdDay>2020년 11월 22일 00시</stdDay><updateDt>null</updateDt></item>,\n",
       " <item><createDt>2020-11-22 09:35:42.118</createDt><deathCnt>1</deathCnt><defCnt>220</defCnt><gubun>전북</gubun><gubunCn>全北</gubunCn><gubunEn>Jeollabuk-do</gubunEn><incDec>12</incDec><isolClearCnt>165</isolClearCnt><isolIngCnt>54</isolIngCnt><localOccCnt>12</localOccCnt><overFlowCnt>0</overFlowCnt><qurRate>12.11</qurRate><seq>5816</seq><stdDay>2020년 11월 22일 00시</stdDay><updateDt>null</updateDt></item>,\n",
       " <item><createDt>2020-11-22 09:35:42.118</createDt><deathCnt>8</deathCnt><defCnt>782</defCnt><gubun>충남</gubun><gubunCn>忠南</gubunCn><gubunEn>Chungcheongnam-do</gubunEn><incDec>13</incDec><isolClearCnt>609</isolClearCnt><isolIngCnt>165</isolIngCnt><localOccCnt>11</localOccCnt><overFlowCnt>2</overFlowCnt><qurRate>36.84</qurRate><seq>5815</seq><stdDay>2020년 11월 22일 00시</stdDay><updateDt>null</updateDt></item>,\n",
       " <item><createDt>2020-11-22 09:35:42.117</createDt><deathCnt>3</deathCnt><defCnt>225</defCnt><gubun>충북</gubun><gubunCn>忠北</gubunCn><gubunEn>Chungcheongbuk-do</gubunEn><incDec>0</incDec><isolClearCnt>196</isolClearCnt><isolIngCnt>26</isolIngCnt><localOccCnt>0</localOccCnt><overFlowCnt>0</overFlowCnt><qurRate>14.07</qurRate><seq>5814</seq><stdDay>2020년 11월 22일 00시</stdDay><updateDt>null</updateDt></item>,\n",
       " <item><createDt>2020-11-22 09:35:42.117</createDt><deathCnt>5</deathCnt><defCnt>504</defCnt><gubun>강원</gubun><gubunCn>江原</gubunCn><gubunEn>Gangwon-do</gubunEn><incDec>13</incDec><isolClearCnt>301</isolClearCnt><isolIngCnt>198</isolIngCnt><localOccCnt>12</localOccCnt><overFlowCnt>1</overFlowCnt><qurRate>32.72</qurRate><seq>5813</seq><stdDay>2020년 11월 22일 00시</stdDay><updateDt>null</updateDt></item>,\n",
       " <item><createDt>2020-11-22 09:35:42.117</createDt><deathCnt>110</deathCnt><defCnt>6442</defCnt><gubun>경기</gubun><gubunCn>京畿</gubunCn><gubunEn>Gyeonggi-do</gubunEn><incDec>75</incDec><isolClearCnt>5514</isolClearCnt><isolIngCnt>818</isolIngCnt><localOccCnt>74</localOccCnt><overFlowCnt>1</overFlowCnt><qurRate>48.62</qurRate><seq>5812</seq><stdDay>2020년 11월 22일 00시</stdDay><updateDt>null</updateDt></item>,\n",
       " <item><createDt>2020-11-22 09:35:42.117</createDt><deathCnt>0</deathCnt><defCnt>86</defCnt><gubun>세종</gubun><gubunCn>世宗</gubunCn><gubunEn>Sejong</gubunEn><incDec>0</incDec><isolClearCnt>82</isolClearCnt><isolIngCnt>4</isolIngCnt><localOccCnt>0</localOccCnt><overFlowCnt>0</overFlowCnt><qurRate>25.12</qurRate><seq>5811</seq><stdDay>2020년 11월 22일 00시</stdDay><updateDt>null</updateDt></item>,\n",
       " <item><createDt>2020-11-22 09:35:42.117</createDt><deathCnt>2</deathCnt><defCnt>172</defCnt><gubun>울산</gubun><gubunCn>蔚山</gubunCn><gubunEn>Ulsan</gubunEn><incDec>1</incDec><isolClearCnt>163</isolClearCnt><isolIngCnt>7</isolIngCnt><localOccCnt>1</localOccCnt><overFlowCnt>0</overFlowCnt><qurRate>15.00</qurRate><seq>5810</seq><stdDay>2020년 11월 22일 00시</stdDay><updateDt>null</updateDt></item>,\n",
       " <item><createDt>2020-11-22 09:35:42.117</createDt><deathCnt>6</deathCnt><defCnt>457</defCnt><gubun>대전</gubun><gubunCn>大田</gubunCn><gubunEn>Daejeon</gubunEn><incDec>0</incDec><isolClearCnt>437</isolClearCnt><isolIngCnt>14</isolIngCnt><localOccCnt>0</localOccCnt><overFlowCnt>0</overFlowCnt><qurRate>31.00</qurRate><seq>5809</seq><stdDay>2020년 11월 22일 00시</stdDay><updateDt>null</updateDt></item>,\n",
       " <item><createDt>2020-11-22 09:35:42.117</createDt><deathCnt>3</deathCnt><defCnt>614</defCnt><gubun>광주</gubun><gubunCn>光州</gubunCn><gubunEn>Gwangju</gubunEn><incDec>8</incDec><isolClearCnt>514</isolClearCnt><isolIngCnt>97</isolIngCnt><localOccCnt>8</localOccCnt><overFlowCnt>0</overFlowCnt><qurRate>42.15</qurRate><seq>5808</seq><stdDay>2020년 11월 22일 00시</stdDay><updateDt>null</updateDt></item>,\n",
       " <item><createDt>2020-11-22 09:35:42.116</createDt><deathCnt>11</deathCnt><defCnt>1206</defCnt><gubun>인천</gubun><gubunCn>仁川</gubunCn><gubunEn>Incheon</gubunEn><incDec>27</incDec><isolClearCnt>1052</isolClearCnt><isolIngCnt>143</isolIngCnt><localOccCnt>26</localOccCnt><overFlowCnt>1</overFlowCnt><qurRate>40.80</qurRate><seq>5807</seq><stdDay>2020년 11월 22일 00시</stdDay><updateDt>null</updateDt></item>,\n",
       " <item><createDt>2020-11-22 09:35:42.116</createDt><deathCnt>197</deathCnt><defCnt>7213</defCnt><gubun>대구</gubun><gubunCn>大邱</gubunCn><gubunEn>Daegu</gubunEn><incDec>1</incDec><isolClearCnt>6986</isolClearCnt><isolIngCnt>30</isolIngCnt><localOccCnt>0</localOccCnt><overFlowCnt>1</overFlowCnt><qurRate>296.04</qurRate><seq>5806</seq><stdDay>2020년 11월 22일 00시</stdDay><updateDt>null</updateDt></item>,\n",
       " <item><createDt>2020-11-22 09:35:42.116</createDt><deathCnt>15</deathCnt><defCnt>632</defCnt><gubun>부산</gubun><gubunCn>釜山</gubunCn><gubunEn>Busan</gubunEn><incDec>1</incDec><isolClearCnt>583</isolClearCnt><isolIngCnt>34</isolIngCnt><localOccCnt>1</localOccCnt><overFlowCnt>0</overFlowCnt><qurRate>18.52</qurRate><seq>5805</seq><stdDay>2020년 11월 22일 00시</stdDay><updateDt>null</updateDt></item>,\n",
       " <item><createDt>2020-11-22 09:35:42.116</createDt><deathCnt>85</deathCnt><defCnt>7513</defCnt><gubun>서울</gubun><gubunCn>首尔</gubunCn><gubunEn>Seoul</gubunEn><incDec>121</incDec><isolClearCnt>6171</isolClearCnt><isolIngCnt>1257</isolIngCnt><localOccCnt>119</localOccCnt><overFlowCnt>2</overFlowCnt><qurRate>77.19</qurRate><seq>5804</seq><stdDay>2020년 11월 22일 00시</stdDay><updateDt>null</updateDt></item>,\n",
       " <item><createDt>2020-11-22 09:35:42.116</createDt><deathCnt>505</deathCnt><defCnt>30733</defCnt><gubun>합계</gubun><gubunCn>合计</gubunCn><gubunEn>Total</gubunEn><incDec>330</incDec><isolClearCnt>26466</isolClearCnt><isolIngCnt>3762</isolIngCnt><localOccCnt>302</localOccCnt><overFlowCnt>28</overFlowCnt><qurRate>59.28</qurRate><seq>5803</seq><stdDay>2020년 11월 22일 00시</stdDay><updateDt>null</updateDt></item>,\n",
       " <item><createDt>2020-11-21 09:44:25.227</createDt><deathCnt>0</deathCnt><defCnt>2090</defCnt><gubun>검역</gubun><gubunCn>隔離區</gubunCn><gubunEn>Lazaretto</gubunEn><incDec>9</incDec><isolClearCnt>1556</isolClearCnt><isolIngCnt>534</isolIngCnt><localOccCnt>0</localOccCnt><overFlowCnt>9</overFlowCnt><qurRate>-</qurRate><seq>5802</seq><stdDay>2020년 11월 21일 00시</stdDay><updateDt>null</updateDt></item>,\n",
       " <item><createDt>2020-11-21 09:44:25.227</createDt><deathCnt>0</deathCnt><defCnt>65</defCnt><gubun>제주</gubun><gubunCn>济州</gubunCn><gubunEn>Jeju</gubunEn><incDec>0</incDec><isolClearCnt>59</isolClearCnt><isolIngCnt>6</isolIngCnt><localOccCnt>0</localOccCnt><overFlowCnt>0</overFlowCnt><qurRate>9.69</qurRate><seq>5801</seq><stdDay>2020년 11월 21일 00시</stdDay><updateDt>null</updateDt></item>,\n",
       " <item><createDt>2020-11-21 09:44:25.227</createDt><deathCnt>0</deathCnt><defCnt>457</defCnt><gubun>경남</gubun><gubunCn>庆南</gubunCn><gubunEn>Gyeongsangnam-do</gubunEn><incDec>11</incDec><isolClearCnt>342</isolClearCnt><isolIngCnt>115</isolIngCnt><localOccCnt>11</localOccCnt><overFlowCnt>0</overFlowCnt><qurRate>13.60</qurRate><seq>5800</seq><stdDay>2020년 11월 21일 00시</stdDay><updateDt>null</updateDt></item>,\n",
       " <item><createDt>2020-11-21 09:44:25.226</createDt><deathCnt>57</deathCnt><defCnt>1657</defCnt><gubun>경북</gubun><gubunCn>庆北</gubunCn><gubunEn>Gyeongsangbuk-do</gubunEn><incDec>8</incDec><isolClearCnt>1535</isolClearCnt><isolIngCnt>65</isolIngCnt><localOccCnt>8</localOccCnt><overFlowCnt>0</overFlowCnt><qurRate>62.23</qurRate><seq>5799</seq><stdDay>2020년 11월 21일 00시</stdDay><updateDt>null</updateDt></item>,\n",
       " <item><createDt>2020-11-21 09:44:25.226</createDt><deathCnt>2</deathCnt><defCnt>340</defCnt><gubun>전남</gubun><gubunCn>全南</gubunCn><gubunEn>Jeollanam-do</gubunEn><incDec>19</incDec><isolClearCnt>189</isolClearCnt><isolIngCnt>149</isolIngCnt><localOccCnt>18</localOccCnt><overFlowCnt>1</overFlowCnt><qurRate>18.23</qurRate><seq>5798</seq><stdDay>2020년 11월 21일 00시</stdDay><updateDt>null</updateDt></item>,\n",
       " <item><createDt>2020-11-21 09:44:25.226</createDt><deathCnt>1</deathCnt><defCnt>208</defCnt><gubun>전북</gubun><gubunCn>全北</gubunCn><gubunEn>Jeollabuk-do</gubunEn><incDec>14</incDec><isolClearCnt>165</isolClearCnt><isolIngCnt>42</isolIngCnt><localOccCnt>13</localOccCnt><overFlowCnt>1</overFlowCnt><qurRate>11.45</qurRate><seq>5797</seq><stdDay>2020년 11월 21일 00시</stdDay><updateDt>null</updateDt></item>,\n",
       " <item><createDt>2020-11-21 09:44:25.226</createDt><deathCnt>8</deathCnt><defCnt>769</defCnt><gubun>충남</gubun><gubunCn>忠南</gubunCn><gubunEn>Chungcheongnam-do</gubunEn><incDec>21</incDec><isolClearCnt>598</isolClearCnt><isolIngCnt>163</isolIngCnt><localOccCnt>19</localOccCnt><overFlowCnt>2</overFlowCnt><qurRate>36.23</qurRate><seq>5796</seq><stdDay>2020년 11월 21일 00시</stdDay><updateDt>null</updateDt></item>,\n",
       " <item><createDt>2020-11-21 09:44:25.226</createDt><deathCnt>3</deathCnt><defCnt>225</defCnt><gubun>충북</gubun><gubunCn>忠北</gubunCn><gubunEn>Chungcheongbuk-do</gubunEn><incDec>1</incDec><isolClearCnt>194</isolClearCnt><isolIngCnt>28</isolIngCnt><localOccCnt>1</localOccCnt><overFlowCnt>0</overFlowCnt><qurRate>14.07</qurRate><seq>5795</seq><stdDay>2020년 11월 21일 00시</stdDay><updateDt>null</updateDt></item>,\n",
       " <item><createDt>2020-11-21 09:44:25.226</createDt><deathCnt>5</deathCnt><defCnt>491</defCnt><gubun>강원</gubun><gubunCn>江原</gubunCn><gubunEn>Gangwon-do</gubunEn><incDec>15</incDec><isolClearCnt>295</isolClearCnt><isolIngCnt>191</isolIngCnt><localOccCnt>14</localOccCnt><overFlowCnt>1</overFlowCnt><qurRate>31.87</qurRate><seq>5794</seq><stdDay>2020년 11월 21일 00시</stdDay><updateDt>null</updateDt></item>,\n",
       " <item><createDt>2020-11-21 09:44:25.226</createDt><deathCnt>108</deathCnt><defCnt>6367</defCnt><gubun>경기</gubun><gubunCn>京畿</gubunCn><gubunEn>Gyeonggi-do</gubunEn><incDec>93</incDec><isolClearCnt>5486</isolClearCnt><isolIngCnt>773</isolIngCnt><localOccCnt>86</localOccCnt><overFlowCnt>7</overFlowCnt><qurRate>48.05</qurRate><seq>5793</seq><stdDay>2020년 11월 21일 00시</stdDay><updateDt>null</updateDt></item>,\n",
       " <item><createDt>2020-11-21 09:44:25.226</createDt><deathCnt>0</deathCnt><defCnt>86</defCnt><gubun>세종</gubun><gubunCn>世宗</gubunCn><gubunEn>Sejong</gubunEn><incDec>0</incDec><isolClearCnt>82</isolClearCnt><isolIngCnt>4</isolIngCnt><localOccCnt>0</localOccCnt><overFlowCnt>0</overFlowCnt><qurRate>25.12</qurRate><seq>5792</seq><stdDay>2020년 11월 21일 00시</stdDay><updateDt>null</updateDt></item>,\n",
       " <item><createDt>2020-11-21 09:44:25.225</createDt><deathCnt>2</deathCnt><defCnt>171</defCnt><gubun>울산</gubun><gubunCn>蔚山</gubunCn><gubunEn>Ulsan</gubunEn><incDec>1</incDec><isolClearCnt>163</isolClearCnt><isolIngCnt>6</isolIngCnt><localOccCnt>1</localOccCnt><overFlowCnt>0</overFlowCnt><qurRate>14.91</qurRate><seq>5791</seq><stdDay>2020년 11월 21일 00시</stdDay><updateDt>null</updateDt></item>,\n",
       " <item><createDt>2020-11-21 09:44:25.225</createDt><deathCnt>6</deathCnt><defCnt>457</defCnt><gubun>대전</gubun><gubunCn>大田</gubunCn><gubunEn>Daejeon</gubunEn><incDec>1</incDec><isolClearCnt>437</isolClearCnt><isolIngCnt>14</isolIngCnt><localOccCnt>1</localOccCnt><overFlowCnt>0</overFlowCnt><qurRate>31.00</qurRate><seq>5790</seq><stdDay>2020년 11월 21일 00시</stdDay><updateDt>null</updateDt></item>,\n",
       " <item><createDt>2020-11-21 09:44:25.225</createDt><deathCnt>3</deathCnt><defCnt>606</defCnt><gubun>광주</gubun><gubunCn>光州</gubunCn><gubunEn>Gwangju</gubunEn><incDec>7</incDec><isolClearCnt>514</isolClearCnt><isolIngCnt>89</isolIngCnt><localOccCnt>6</localOccCnt><overFlowCnt>1</overFlowCnt><qurRate>41.60</qurRate><seq>5789</seq><stdDay>2020년 11월 21일 00시</stdDay><updateDt>null</updateDt></item>,\n",
       " <item><createDt>2020-11-21 09:44:25.225</createDt><deathCnt>11</deathCnt><defCnt>1179</defCnt><gubun>인천</gubun><gubunCn>仁川</gubunCn><gubunEn>Incheon</gubunEn><incDec>22</incDec><isolClearCnt>1051</isolClearCnt><isolIngCnt>117</isolIngCnt><localOccCnt>22</localOccCnt><overFlowCnt>0</overFlowCnt><qurRate>39.88</qurRate><seq>5788</seq><stdDay>2020년 11월 21일 00시</stdDay><updateDt>null</updateDt></item>,\n",
       " <item><createDt>2020-11-21 09:44:25.225</createDt><deathCnt>197</deathCnt><defCnt>7212</defCnt><gubun>대구</gubun><gubunCn>大邱</gubunCn><gubunEn>Daegu</gubunEn><incDec>1</incDec><isolClearCnt>6983</isolClearCnt><isolIngCnt>32</isolIngCnt><localOccCnt>0</localOccCnt><overFlowCnt>1</overFlowCnt><qurRate>296.00</qurRate><seq>5787</seq><stdDay>2020년 11월 21일 00시</stdDay><updateDt>null</updateDt></item>,\n",
       " <item><createDt>2020-11-21 09:44:25.225</createDt><deathCnt>15</deathCnt><defCnt>631</defCnt><gubun>부산</gubun><gubunCn>釜山</gubunCn><gubunEn>Busan</gubunEn><incDec>7</incDec><isolClearCnt>580</isolClearCnt><isolIngCnt>36</isolIngCnt><localOccCnt>7</localOccCnt><overFlowCnt>0</overFlowCnt><qurRate>18.49</qurRate><seq>5786</seq><stdDay>2020년 11월 21일 00시</stdDay><updateDt>null</updateDt></item>,\n",
       " <item><createDt>2020-11-21 09:44:25.224</createDt><deathCnt>85</deathCnt><defCnt>7392</defCnt><gubun>서울</gubun><gubunCn>首尔</gubunCn><gubunEn>Seoul</gubunEn><incDec>156</incDec><isolClearCnt>6136</isolClearCnt><isolIngCnt>1171</isolIngCnt><localOccCnt>154</localOccCnt><overFlowCnt>2</overFlowCnt><qurRate>75.94</qurRate><seq>5785</seq><stdDay>2020년 11월 21일 00시</stdDay><updateDt>null</updateDt></item>,\n",
       " <item><createDt>2020-11-21 09:44:25.224</createDt><deathCnt>503</deathCnt><defCnt>30403</defCnt><gubun>합계</gubun><gubunCn>合计</gubunCn><gubunEn>Total</gubunEn><incDec>386</incDec><isolClearCnt>26365</isolClearCnt><isolIngCnt>3535</isolIngCnt><localOccCnt>361</localOccCnt><overFlowCnt>25</overFlowCnt><qurRate>58.64</qurRate><seq>5784</seq><stdDay>2020년 11월 21일 00시</stdDay><updateDt>null</updateDt></item>]"
      ]
     },
     "metadata": {},
     "execution_count": 9
    }
   ],
   "source": [
    "\"\"\"cosi = soup.find_all('item')\n",
    "cosi\"\"\""
   ]
  },
  {
   "cell_type": "code",
   "execution_count": 10,
   "metadata": {},
   "outputs": [
    {
     "output_type": "execute_result",
     "data": {
      "text/plain": [
       "230"
      ]
     },
     "metadata": {},
     "execution_count": 10
    }
   ],
   "source": [
    "len(cosi)"
   ]
  },
  {
   "cell_type": "code",
   "execution_count": 11,
   "metadata": {},
   "outputs": [
    {
     "output_type": "execute_result",
     "data": {
      "text/plain": [
       "'2020-11-30 14:29:36.528'"
      ]
     },
     "metadata": {},
     "execution_count": 11
    }
   ],
   "source": [
    "\"\"\"dfcr = cosi[0].find('createDt').get_text()\n",
    "dfcr\"\"\""
   ]
  },
  {
   "cell_type": "code",
   "execution_count": 12,
   "metadata": {},
   "outputs": [
    {
     "output_type": "stream",
     "name": "stdout",
     "text": [
      "시도명:검역, 전일대비증감:10, 격리해제수:1618, 10만명당발생율:-, 기준일시: 2020년 11월 30일 00시\n확진자수:21301, 격리중환자수:512, 해외유입수:10, 지역발생수:0\n"
     ]
    }
   ],
   "source": [
    "\"\"\"dfgu = cosi[0].find('gubun').get_text()\n",
    "dfin = cosi[0].find('incDec').get_text()\n",
    "dfis = cosi[0].find('isolClearCnt').get_text()\n",
    "dfqu = cosi[0].find('qurRate').get_text()\n",
    "dfst = cosi[0].find('stdDay').get_text()\n",
    "dfde = cosi[0].find('defCnt').get_text()\n",
    "dfiic = cosi[0].find('isolIngCnt').get_text()\n",
    "dfov = cosi[0].find('overFlowCnt').get_text()\n",
    "dflo = cosi[0].find('localOccCnt').get_text()\n",
    "print(f'시도명:{dfgu}, 전일대비증감:{dfin}, 격리해제수:{dfis}, 10만명당발생율:{dfqu}, 기준일시: {dfst}')\n",
    "print(f'확진자수:{dfde}, 격리중환자수:{dfiic}, 해외유입수:{dfov}, 지역발생수:{dflo}')\"\"\""
   ]
  },
  {
   "cell_type": "code",
   "execution_count": 13,
   "metadata": {},
   "outputs": [],
   "source": [
    "\"\"\"dfcr_list = []; dfgu_list = []; dfin_list = []\n",
    "dfis_list = []; dfqu_list = []; dfst_list = []\n",
    "dfde_list =[]; dfiic_list = []; dfov_list = []; dflo_list = []\n",
    "cosi = soup.find_all('item')\"\"\""
   ]
  },
  {
   "cell_type": "code",
   "execution_count": 14,
   "metadata": {},
   "outputs": [
    {
     "output_type": "stream",
     "name": "stdout",
     "text": [
      "2020-11-30 14:29:36.528 검역\n2020-11-30 14:29:36.528 검역\n2020-11-30 14:29:36.528 제주\n2020-11-30 14:29:36.527 경남\n2020-11-30 14:29:36.527 경북\n2020-11-30 14:29:36.527 전남\n2020-11-30 14:29:36.527 전북\n2020-11-30 14:29:36.527 충남\n2020-11-30 14:29:36.527 충북\n2020-11-30 14:29:36.527 강원\n2020-11-30 14:29:36.526 경기\n2020-11-30 14:29:36.526 세종\n2020-11-30 14:29:36.526 울산\n2020-11-30 14:29:36.526 대전\n2020-11-30 14:29:36.526 광주\n2020-11-30 14:29:36.526 인천\n2020-11-30 14:29:36.525 대구\n2020-11-30 14:29:36.525 부산\n2020-11-30 14:29:36.525 서울\n2020-11-30 14:29:36.525 합계\n2020-11-30 14:29:36.525 합계\n2020-11-29 14:14:46.518 검역\n2020-11-29 14:14:46.518 제주\n2020-11-29 14:14:46.518 경남\n2020-11-29 14:14:46.518 경북\n2020-11-29 14:14:46.518 전남\n2020-11-29 14:14:46.518 전북\n2020-11-29 14:14:46.518 충남\n2020-11-29 14:14:46.517 충북\n2020-11-29 14:14:46.517 강원\n2020-11-29 14:14:46.517 경기\n2020-11-29 14:14:46.517 세종\n2020-11-29 14:14:46.517 울산\n2020-11-29 14:14:46.517 대전\n2020-11-29 14:14:46.517 광주\n2020-11-29 14:14:46.516 인천\n2020-11-29 14:14:46.516 대구\n2020-11-29 14:14:46.516 부산\n2020-11-29 14:14:46.516 서울\n2020-11-29 14:14:46.516 합계\n2020-11-29 09:42:34.126 검역\n2020-11-29 09:42:34.126 제주\n2020-11-29 09:42:34.126 경남\n2020-11-29 09:42:34.126 경북\n2020-11-29 09:42:34.126 전남\n2020-11-29 09:42:34.126 전북\n2020-11-29 09:42:34.125 충남\n2020-11-29 09:42:34.125 충북\n2020-11-29 09:42:34.125 강원\n2020-11-29 09:42:34.125 경기\n2020-11-29 09:42:34.125 세종\n2020-11-29 09:42:34.125 울산\n2020-11-29 09:42:34.125 대전\n2020-11-29 09:42:34.125 광주\n2020-11-29 09:42:34.124 인천\n2020-11-29 09:42:34.124 대구\n2020-11-29 09:42:34.124 부산\n2020-11-29 09:42:34.124 서울\n2020-11-29 09:42:34.124 합계\n2020-11-28 09:39:41.798 검역\n2020-11-28 09:39:41.798 제주\n2020-11-28 09:39:41.798 경남\n2020-11-28 09:39:41.798 경북\n2020-11-28 09:39:41.797 전남\n2020-11-28 09:39:41.797 전북\n2020-11-28 09:39:41.797 충남\n2020-11-28 09:39:41.797 충북\n2020-11-28 09:39:41.797 강원\n2020-11-28 09:39:41.797 경기\n2020-11-28 09:39:41.797 세종\n2020-11-28 09:39:41.796 울산\n2020-11-28 09:39:41.796 대전\n2020-11-28 09:39:41.796 광주\n2020-11-28 09:39:41.796 인천\n2020-11-28 09:39:41.796 대구\n2020-11-28 09:39:41.796 부산\n2020-11-28 09:39:41.795 서울\n2020-11-28 09:39:41.795 합계\n2020-11-27 09:39:51.818 검역\n2020-11-27 09:39:51.818 제주\n2020-11-27 09:39:51.818 경남\n2020-11-27 09:39:51.818 경북\n2020-11-27 09:39:51.818 전남\n2020-11-27 09:39:51.818 전북\n2020-11-27 09:39:51.818 충남\n2020-11-27 09:39:51.818 충북\n2020-11-27 09:39:51.817 강원\n2020-11-27 09:39:51.817 경기\n2020-11-27 09:39:51.817 세종\n2020-11-27 09:39:51.817 울산\n2020-11-27 09:39:51.817 대전\n2020-11-27 09:39:51.817 광주\n2020-11-27 09:39:51.817 인천\n2020-11-27 09:39:51.816 대구\n2020-11-27 09:39:51.816 부산\n2020-11-27 09:39:51.816 서울\n2020-11-27 09:39:51.816 합계\n2020-11-26 09:50:25.395 검역\n2020-11-26 09:50:25.395 제주\n2020-11-26 09:50:25.395 경남\n2020-11-26 09:50:25.395 경북\n2020-11-26 09:50:25.395 전남\n2020-11-26 09:50:25.395 전북\n2020-11-26 09:50:25.395 충남\n2020-11-26 09:50:25.394 충북\n2020-11-26 09:50:25.394 강원\n2020-11-26 09:50:25.394 경기\n2020-11-26 09:50:25.394 세종\n2020-11-26 09:50:25.394 울산\n2020-11-26 09:50:25.394 대전\n2020-11-26 09:50:25.394 광주\n2020-11-26 09:50:25.393 인천\n2020-11-26 09:50:25.393 대구\n2020-11-26 09:50:25.393 부산\n2020-11-26 09:50:25.393 서울\n2020-11-26 09:50:25.393 합계\n2020-11-25 16:50:24.794 검역\n2020-11-25 16:50:24.793 제주\n2020-11-25 16:50:24.793 경남\n2020-11-25 16:50:24.793 경북\n2020-11-25 16:50:24.793 전남\n2020-11-25 16:50:24.793 전북\n2020-11-25 16:50:24.793 충남\n2020-11-25 16:50:24.793 충북\n2020-11-25 16:50:24.793 강원\n2020-11-25 16:50:24.792 경기\n2020-11-25 16:50:24.792 세종\n2020-11-25 16:50:24.792 울산\n2020-11-25 16:50:24.791 대전\n2020-11-25 16:50:24.791 광주\n2020-11-25 16:50:24.791 인천\n2020-11-25 16:50:24.791 대구\n2020-11-25 16:50:24.791 부산\n2020-11-25 16:50:24.791 서울\n2020-11-25 16:50:24.791 합계\n2020-11-25 09:48:19.563 검역\n2020-11-25 09:48:19.563 제주\n2020-11-25 09:48:19.562 경남\n2020-11-25 09:48:19.562 경북\n2020-11-25 09:48:19.562 전남\n2020-11-25 09:48:19.562 전북\n2020-11-25 09:48:19.562 충남\n2020-11-25 09:48:19.561 충북\n2020-11-25 09:48:19.561 강원\n2020-11-25 09:48:19.561 경기\n2020-11-25 09:48:19.561 세종\n2020-11-25 09:48:19.561 울산\n2020-11-25 09:48:19.561 대전\n2020-11-25 09:48:19.561 광주\n2020-11-25 09:48:19.561 인천\n2020-11-25 09:48:19.56 대구\n2020-11-25 09:48:19.56 부산\n2020-11-25 09:48:19.56 서울\n2020-11-25 09:48:19.56 합계\n2020-11-24 09:34:46.909 검역\n2020-11-24 09:34:46.909 제주\n2020-11-24 09:34:46.909 경남\n2020-11-24 09:34:46.908 경북\n2020-11-24 09:34:46.908 전남\n2020-11-24 09:34:46.908 전북\n2020-11-24 09:34:46.908 충남\n2020-11-24 09:34:46.908 충북\n2020-11-24 09:34:46.908 강원\n2020-11-24 09:34:46.908 경기\n2020-11-24 09:34:46.908 세종\n2020-11-24 09:34:46.908 울산\n2020-11-24 09:34:46.907 대전\n2020-11-24 09:34:46.907 광주\n2020-11-24 09:34:46.907 인천\n2020-11-24 09:34:46.907 대구\n2020-11-24 09:34:46.907 부산\n2020-11-24 09:34:46.907 서울\n2020-11-24 09:34:46.907 합계\n2020-11-23 09:33:42.566 검역\n2020-11-23 09:33:42.566 제주\n2020-11-23 09:33:42.566 경남\n2020-11-23 09:33:42.566 경북\n2020-11-23 09:33:42.566 전남\n2020-11-23 09:33:42.565 전북\n2020-11-23 09:33:42.565 충남\n2020-11-23 09:33:42.565 충북\n2020-11-23 09:33:42.565 강원\n2020-11-23 09:33:42.565 경기\n2020-11-23 09:33:42.565 세종\n2020-11-23 09:33:42.565 울산\n2020-11-23 09:33:42.565 대전\n2020-11-23 09:33:42.565 광주\n2020-11-23 09:33:42.564 인천\n2020-11-23 09:33:42.564 대구\n2020-11-23 09:33:42.564 부산\n2020-11-23 09:33:42.564 서울\n2020-11-23 09:33:42.564 합계\n2020-11-22 09:35:42.118 검역\n2020-11-22 09:35:42.118 제주\n2020-11-22 09:35:42.118 경남\n2020-11-22 09:35:42.118 경북\n2020-11-22 09:35:42.118 전남\n2020-11-22 09:35:42.118 전북\n2020-11-22 09:35:42.118 충남\n2020-11-22 09:35:42.117 충북\n2020-11-22 09:35:42.117 강원\n2020-11-22 09:35:42.117 경기\n2020-11-22 09:35:42.117 세종\n2020-11-22 09:35:42.117 울산\n2020-11-22 09:35:42.117 대전\n2020-11-22 09:35:42.117 광주\n2020-11-22 09:35:42.116 인천\n2020-11-22 09:35:42.116 대구\n2020-11-22 09:35:42.116 부산\n2020-11-22 09:35:42.116 서울\n2020-11-22 09:35:42.116 합계\n2020-11-21 09:44:25.227 검역\n2020-11-21 09:44:25.227 제주\n2020-11-21 09:44:25.227 경남\n2020-11-21 09:44:25.226 경북\n2020-11-21 09:44:25.226 전남\n2020-11-21 09:44:25.226 전북\n2020-11-21 09:44:25.226 충남\n2020-11-21 09:44:25.226 충북\n2020-11-21 09:44:25.226 강원\n2020-11-21 09:44:25.226 경기\n2020-11-21 09:44:25.226 세종\n2020-11-21 09:44:25.225 울산\n2020-11-21 09:44:25.225 대전\n2020-11-21 09:44:25.225 광주\n2020-11-21 09:44:25.225 인천\n2020-11-21 09:44:25.225 대구\n2020-11-21 09:44:25.225 부산\n2020-11-21 09:44:25.224 서울\n2020-11-21 09:44:25.224 합계\n"
     ]
    }
   ],
   "source": [
    "\"\"\"for co in cosi:\n",
    "    dfcr = co.find('createDt').get_text()\n",
    "    dfgu = co.find('gubun').get_text()\n",
    "    dfin = co.find('incDec').get_text()\n",
    "    dfis = co.find('isolClearCnt').get_text()\n",
    "    dfqu = co.find('qurRate').get_text()\n",
    "    dfst = co.find('stdDay').get_text()\n",
    "    dfde = co.find('defCnt').get_text()\n",
    "    dfiic = co.find('isolIngCnt').get_text()\n",
    "    dfov = co.find('overFlowCnt').get_text()\n",
    "    dflo = co.find('localOccCnt').get_text()\n",
    "    print(dfcr,dfgu)\n",
    "\n",
    "    dfcr_list.append(dfcr)\n",
    "    dfgu_list.append(dfgu)\n",
    "    dfin_list.append(dfin)\n",
    "    dfis_list.append(dfis)\n",
    "    dfqu_list.append(dfqu)\n",
    "    dfst_list.append(dfst)\n",
    "    dfde_list.append(dfde)\n",
    "    dfiic_list.append(dfiic)\n",
    "    dfov_list.append(dfov)\n",
    "    dflo_list.append(dflo)\"\"\""
   ]
  },
  {
   "cell_type": "code",
   "execution_count": 15,
   "metadata": {},
   "outputs": [
    {
     "output_type": "execute_result",
     "data": {
      "text/plain": [
       "                        등록일시 시도명 전일대비증감수  격리해제수  만명당발생율               기준일시  \\\n",
       "0    2020-11-30 14:29:36.528  검역      10   1618       -  2020년 11월 30일 00시   \n",
       "1    2020-11-30 14:29:36.528  검역      10   1618       -  2020년 11월 30일 00시   \n",
       "2    2020-11-30 14:29:36.528  제주       1     60   11.93  2020년 11월 30일 00시   \n",
       "3    2020-11-30 14:29:36.527  경남      20    388   18.59  2020년 11월 30일 00시   \n",
       "4    2020-11-30 14:29:36.527  경북       4   1560   64.00  2020년 11월 30일 00시   \n",
       "..                       ...  ..     ...    ...     ...                ...   \n",
       "225  2020-11-21 09:44:25.225  인천      22   1051   39.88  2020년 11월 21일 00시   \n",
       "226  2020-11-21 09:44:25.225  대구       1   6983  296.00  2020년 11월 21일 00시   \n",
       "227  2020-11-21 09:44:25.225  부산       7    580   18.49  2020년 11월 21일 00시   \n",
       "228  2020-11-21 09:44:25.224  서울     156   6136   75.94  2020년 11월 21일 00시   \n",
       "229  2020-11-21 09:44:25.224  합계     386  26365   58.64  2020년 11월 21일 00시   \n",
       "\n",
       "      확진자수 격리중환자수 해외유입수 지역발생수  \n",
       "0    21301    512    10     0  \n",
       "1     2130    512    10     0  \n",
       "2       80     20     1     0  \n",
       "3      625    236     1    19  \n",
       "4     1704     87     0     4  \n",
       "..     ...    ...   ...   ...  \n",
       "225   1179    117     0    22  \n",
       "226   7212     32     1     0  \n",
       "227    631     36     0     7  \n",
       "228   7392   1171     2   154  \n",
       "229  30403   3535    25   361  \n",
       "\n",
       "[230 rows x 10 columns]"
      ],
      "text/html": "<div>\n<style scoped>\n    .dataframe tbody tr th:only-of-type {\n        vertical-align: middle;\n    }\n\n    .dataframe tbody tr th {\n        vertical-align: top;\n    }\n\n    .dataframe thead th {\n        text-align: right;\n    }\n</style>\n<table border=\"1\" class=\"dataframe\">\n  <thead>\n    <tr style=\"text-align: right;\">\n      <th></th>\n      <th>등록일시</th>\n      <th>시도명</th>\n      <th>전일대비증감수</th>\n      <th>격리해제수</th>\n      <th>만명당발생율</th>\n      <th>기준일시</th>\n      <th>확진자수</th>\n      <th>격리중환자수</th>\n      <th>해외유입수</th>\n      <th>지역발생수</th>\n    </tr>\n  </thead>\n  <tbody>\n    <tr>\n      <th>0</th>\n      <td>2020-11-30 14:29:36.528</td>\n      <td>검역</td>\n      <td>10</td>\n      <td>1618</td>\n      <td>-</td>\n      <td>2020년 11월 30일 00시</td>\n      <td>21301</td>\n      <td>512</td>\n      <td>10</td>\n      <td>0</td>\n    </tr>\n    <tr>\n      <th>1</th>\n      <td>2020-11-30 14:29:36.528</td>\n      <td>검역</td>\n      <td>10</td>\n      <td>1618</td>\n      <td>-</td>\n      <td>2020년 11월 30일 00시</td>\n      <td>2130</td>\n      <td>512</td>\n      <td>10</td>\n      <td>0</td>\n    </tr>\n    <tr>\n      <th>2</th>\n      <td>2020-11-30 14:29:36.528</td>\n      <td>제주</td>\n      <td>1</td>\n      <td>60</td>\n      <td>11.93</td>\n      <td>2020년 11월 30일 00시</td>\n      <td>80</td>\n      <td>20</td>\n      <td>1</td>\n      <td>0</td>\n    </tr>\n    <tr>\n      <th>3</th>\n      <td>2020-11-30 14:29:36.527</td>\n      <td>경남</td>\n      <td>20</td>\n      <td>388</td>\n      <td>18.59</td>\n      <td>2020년 11월 30일 00시</td>\n      <td>625</td>\n      <td>236</td>\n      <td>1</td>\n      <td>19</td>\n    </tr>\n    <tr>\n      <th>4</th>\n      <td>2020-11-30 14:29:36.527</td>\n      <td>경북</td>\n      <td>4</td>\n      <td>1560</td>\n      <td>64.00</td>\n      <td>2020년 11월 30일 00시</td>\n      <td>1704</td>\n      <td>87</td>\n      <td>0</td>\n      <td>4</td>\n    </tr>\n    <tr>\n      <th>...</th>\n      <td>...</td>\n      <td>...</td>\n      <td>...</td>\n      <td>...</td>\n      <td>...</td>\n      <td>...</td>\n      <td>...</td>\n      <td>...</td>\n      <td>...</td>\n      <td>...</td>\n    </tr>\n    <tr>\n      <th>225</th>\n      <td>2020-11-21 09:44:25.225</td>\n      <td>인천</td>\n      <td>22</td>\n      <td>1051</td>\n      <td>39.88</td>\n      <td>2020년 11월 21일 00시</td>\n      <td>1179</td>\n      <td>117</td>\n      <td>0</td>\n      <td>22</td>\n    </tr>\n    <tr>\n      <th>226</th>\n      <td>2020-11-21 09:44:25.225</td>\n      <td>대구</td>\n      <td>1</td>\n      <td>6983</td>\n      <td>296.00</td>\n      <td>2020년 11월 21일 00시</td>\n      <td>7212</td>\n      <td>32</td>\n      <td>1</td>\n      <td>0</td>\n    </tr>\n    <tr>\n      <th>227</th>\n      <td>2020-11-21 09:44:25.225</td>\n      <td>부산</td>\n      <td>7</td>\n      <td>580</td>\n      <td>18.49</td>\n      <td>2020년 11월 21일 00시</td>\n      <td>631</td>\n      <td>36</td>\n      <td>0</td>\n      <td>7</td>\n    </tr>\n    <tr>\n      <th>228</th>\n      <td>2020-11-21 09:44:25.224</td>\n      <td>서울</td>\n      <td>156</td>\n      <td>6136</td>\n      <td>75.94</td>\n      <td>2020년 11월 21일 00시</td>\n      <td>7392</td>\n      <td>1171</td>\n      <td>2</td>\n      <td>154</td>\n    </tr>\n    <tr>\n      <th>229</th>\n      <td>2020-11-21 09:44:25.224</td>\n      <td>합계</td>\n      <td>386</td>\n      <td>26365</td>\n      <td>58.64</td>\n      <td>2020년 11월 21일 00시</td>\n      <td>30403</td>\n      <td>3535</td>\n      <td>25</td>\n      <td>361</td>\n    </tr>\n  </tbody>\n</table>\n<p>230 rows × 10 columns</p>\n</div>"
     },
     "metadata": {},
     "execution_count": 15
    }
   ],
   "source": [
    "\"\"\"df = pd.DataFrame({\n",
    "    '등록일시': dfcr_list,\n",
    "    '시도명': dfgu_list,\n",
    "    '전일대비증감수' : dfin_list,\n",
    "    '격리해제수': dfis_list,\n",
    "    '만명당발생율': dfqu_list,\n",
    "    '기준일시': dfst_list,\n",
    "    '확진자수': dfde_list,\n",
    "    '격리중환자수': dfiic_list,\n",
    "    '해외유입수': dfov_list,\n",
    "    '지역발생수': dflo_list\n",
    "})\n",
    "df\"\"\""
   ]
  },
  {
   "cell_type": "code",
   "execution_count": 41,
   "metadata": {},
   "outputs": [],
   "source": [
    "# df.to_excel('./results/전국코로나원본.xlsx')"
   ]
  },
  {
   "cell_type": "code",
   "execution_count": 16,
   "metadata": {},
   "outputs": [],
   "source": [
    "from tqdm import tqdm_notebook\n",
    "mw_list = {3:31, 4:30, 5:31, 6:30, 7:31, 8:31, 9:30, 10:31, 11:30}"
   ]
  },
  {
   "cell_type": "code",
   "execution_count": 17,
   "metadata": {},
   "outputs": [],
   "source": [
    "mwo_list = {10:4, 11:4}"
   ]
  },
  {
   "cell_type": "code",
   "execution_count": 18,
   "metadata": {},
   "outputs": [
    {
     "output_type": "stream",
     "name": "stdout",
     "text": [
      "2020301-2020331\n2020401-2020430\n2020501-2020531\n2020601-2020630\n2020701-2020731\n2020801-2020831\n2020901-2020930\n20201001-20201031\n20201101-20201130\n"
     ]
    }
   ],
   "source": [
    "for j,k in mw_list.items():\n",
    "    start_date = f'2020{j}01'\n",
    "    end_date = f'2020{j}{k}'\n",
    "    print(start_date+'-' +end_date)"
   ]
  },
  {
   "cell_type": "code",
   "execution_count": 19,
   "metadata": {},
   "outputs": [
    {
     "output_type": "execute_result",
     "data": {
      "text/plain": [
       "\"for j,k in tqdm_notebook(mwo_list.items()):\\n    mo = j if j >= j else f'0{j}'\\n    print(mo)\\n    for i in range(1, k+1):\\n        day =  f'0{i}' if k >= i else f'{k}'\\n        data1 = f'{mo}{day}'\\n        a_dict = {'일자':f'2020{data1}', '서울':0, '부산':0, '대구':0}\\n        number = a_dict.keys()\\n        print(f'{day} /{data1}/{a_dict}/{number}')\\n        # print(f'{a_dict}')\""
      ]
     },
     "metadata": {},
     "execution_count": 19
    }
   ],
   "source": [
    "\"\"\"for j,k in tqdm_notebook(mwo_list.items()):\n",
    "    mo = j if j >= j else f'0{j}'\n",
    "    print(mo)\n",
    "    for i in range(1, k+1):\n",
    "        day =  f'0{i}' if k >= i else f'{k}'\n",
    "        data1 = f'{mo}{day}'\n",
    "        a_dict = {'일자':f'2020{data1}', '서울':0, '부산':0, '대구':0}\n",
    "        number = a_dict.keys()\n",
    "        print(f'{day} /{data1}/{a_dict}/{number}')\n",
    "        # print(f'{a_dict}')\"\"\""
   ]
  },
  {
   "cell_type": "code",
   "execution_count": 20,
   "metadata": {},
   "outputs": [],
   "source": [
    "from datetime import datetime, timedelta"
   ]
  },
  {
   "cell_type": "code",
   "execution_count": 21,
   "metadata": {},
   "outputs": [],
   "source": [
    "import datetime"
   ]
  },
  {
   "cell_type": "code",
   "execution_count": 22,
   "metadata": {},
   "outputs": [
    {
     "output_type": "stream",
     "name": "stdout",
     "text": [
      "2020-11-01\n2020-11-02\n2020-11-03\n"
     ]
    }
   ],
   "source": [
    "day_delta = datetime.timedelta(days=1)\n",
    "\n",
    "start_date = datetime.date(2020,11,1)\n",
    "end_date = start_date + 3*day_delta\n",
    "\n",
    "for i in range((end_date - start_date).days):\n",
    "    \n",
    "    #print(start_date + i*day_delta )\n",
    "    print(f'{start_date + i*day_delta}')"
   ]
  },
  {
   "cell_type": "code",
   "execution_count": 23,
   "metadata": {},
   "outputs": [
    {
     "output_type": "stream",
     "name": "stdout",
     "text": [
      "20201101\n",
      "20201102\n",
      "20201103\n"
     ]
    }
   ],
   "source": [
    "import pandas\n",
    "dt_index = pandas.date_range(start='20201101', end='20201103')\n",
    "# pandas.date_range(start='20160901', end='20161031',freq='W-MON')\n",
    "# 을 하면 해당 기간 매주 월요일들만 추출합니다.\n",
    "\n",
    "# type(dt_index) => DatetimeIndex\n",
    "# DatetimeIndex => list(str)\n",
    "dt_list = dt_index.strftime(\"%Y%m%d\").tolist()\n",
    "\n",
    "for i in dt_list:\n",
    "    print(i)"
   ]
  },
  {
   "cell_type": "code",
   "execution_count": 31,
   "metadata": {},
   "outputs": [],
   "source": [
    "start_date = '20200331'\n",
    "end_date = '20201130'"
   ]
  },
  {
   "cell_type": "code",
   "execution_count": 32,
   "metadata": {},
   "outputs": [
    {
     "output_type": "stream",
     "name": "stdout",
     "text": [
      "244\n"
     ]
    }
   ],
   "source": [
    "start_date = pd.to_datetime(start_date)\n",
    "end_date = pd.to_datetime(end_date)\n",
    "\n",
    "print((end_date-start_date).days)"
   ]
  },
  {
   "cell_type": "code",
   "execution_count": 33,
   "metadata": {},
   "outputs": [
    {
     "output_type": "execute_result",
     "data": {
      "text/plain": [
       "'20201128'"
      ]
     },
     "metadata": {},
     "execution_count": 33
    }
   ],
   "source": [
    "date = (end_date - datetime.timedelta(days=j)).strftime(\"%Y%m%d\")\n",
    "date"
   ]
  },
  {
   "cell_type": "code",
   "execution_count": 34,
   "metadata": {
    "tags": [
     "outputPrepend"
    ]
   },
   "outputs": [
    {
     "output_type": "stream",
     "name": "stdout",
     "text": [
      "0, '경북': 0, '경남': 0, '전북': 0, '전남': 0, '제주': 0}\n{'일자': '20200724', '서울': 0, '부산': 0, '대구': 0, '인천': 0, '대전': 0, '광주': 0, '울산': 0, '세종': 0, '경기': 0, '강원': 0, '충북': 0, '충남': 0, '경북': 0, '경남': 0, '전북': 0, '전남': 0, '제주': 0}\n{'일자': '20200723', '서울': 0, '부산': 0, '대구': 0, '인천': 0, '대전': 0, '광주': 0, '울산': 0, '세종': 0, '경기': 0, '강원': 0, '충북': 0, '충남': 0, '경북': 0, '경남': 0, '전북': 0, '전남': 0, '제주': 0}\n{'일자': '20200722', '서울': 0, '부산': 0, '대구': 0, '인천': 0, '대전': 0, '광주': 0, '울산': 0, '세종': 0, '경기': 0, '강원': 0, '충북': 0, '충남': 0, '경북': 0, '경남': 0, '전북': 0, '전남': 0, '제주': 0}\n{'일자': '20200721', '서울': 0, '부산': 0, '대구': 0, '인천': 0, '대전': 0, '광주': 0, '울산': 0, '세종': 0, '경기': 0, '강원': 0, '충북': 0, '충남': 0, '경북': 0, '경남': 0, '전북': 0, '전남': 0, '제주': 0}\n{'일자': '20200720', '서울': 0, '부산': 0, '대구': 0, '인천': 0, '대전': 0, '광주': 0, '울산': 0, '세종': 0, '경기': 0, '강원': 0, '충북': 0, '충남': 0, '경북': 0, '경남': 0, '전북': 0, '전남': 0, '제주': 0}\n{'일자': '20200719', '서울': 0, '부산': 0, '대구': 0, '인천': 0, '대전': 0, '광주': 0, '울산': 0, '세종': 0, '경기': 0, '강원': 0, '충북': 0, '충남': 0, '경북': 0, '경남': 0, '전북': 0, '전남': 0, '제주': 0}\n{'일자': '20200718', '서울': 0, '부산': 0, '대구': 0, '인천': 0, '대전': 0, '광주': 0, '울산': 0, '세종': 0, '경기': 0, '강원': 0, '충북': 0, '충남': 0, '경북': 0, '경남': 0, '전북': 0, '전남': 0, '제주': 0}\n{'일자': '20200717', '서울': 0, '부산': 0, '대구': 0, '인천': 0, '대전': 0, '광주': 0, '울산': 0, '세종': 0, '경기': 0, '강원': 0, '충북': 0, '충남': 0, '경북': 0, '경남': 0, '전북': 0, '전남': 0, '제주': 0}\n{'일자': '20200716', '서울': 0, '부산': 0, '대구': 0, '인천': 0, '대전': 0, '광주': 0, '울산': 0, '세종': 0, '경기': 0, '강원': 0, '충북': 0, '충남': 0, '경북': 0, '경남': 0, '전북': 0, '전남': 0, '제주': 0}\n{'일자': '20200715', '서울': 0, '부산': 0, '대구': 0, '인천': 0, '대전': 0, '광주': 0, '울산': 0, '세종': 0, '경기': 0, '강원': 0, '충북': 0, '충남': 0, '경북': 0, '경남': 0, '전북': 0, '전남': 0, '제주': 0}\n{'일자': '20200714', '서울': 0, '부산': 0, '대구': 0, '인천': 0, '대전': 0, '광주': 0, '울산': 0, '세종': 0, '경기': 0, '강원': 0, '충북': 0, '충남': 0, '경북': 0, '경남': 0, '전북': 0, '전남': 0, '제주': 0}\n{'일자': '20200713', '서울': 0, '부산': 0, '대구': 0, '인천': 0, '대전': 0, '광주': 0, '울산': 0, '세종': 0, '경기': 0, '강원': 0, '충북': 0, '충남': 0, '경북': 0, '경남': 0, '전북': 0, '전남': 0, '제주': 0}\n{'일자': '20200712', '서울': 0, '부산': 0, '대구': 0, '인천': 0, '대전': 0, '광주': 0, '울산': 0, '세종': 0, '경기': 0, '강원': 0, '충북': 0, '충남': 0, '경북': 0, '경남': 0, '전북': 0, '전남': 0, '제주': 0}\n{'일자': '20200711', '서울': 0, '부산': 0, '대구': 0, '인천': 0, '대전': 0, '광주': 0, '울산': 0, '세종': 0, '경기': 0, '강원': 0, '충북': 0, '충남': 0, '경북': 0, '경남': 0, '전북': 0, '전남': 0, '제주': 0}\n{'일자': '20200710', '서울': 0, '부산': 0, '대구': 0, '인천': 0, '대전': 0, '광주': 0, '울산': 0, '세종': 0, '경기': 0, '강원': 0, '충북': 0, '충남': 0, '경북': 0, '경남': 0, '전북': 0, '전남': 0, '제주': 0}\n{'일자': '20200709', '서울': 0, '부산': 0, '대구': 0, '인천': 0, '대전': 0, '광주': 0, '울산': 0, '세종': 0, '경기': 0, '강원': 0, '충북': 0, '충남': 0, '경북': 0, '경남': 0, '전북': 0, '전남': 0, '제주': 0}\n{'일자': '20200708', '서울': 0, '부산': 0, '대구': 0, '인천': 0, '대전': 0, '광주': 0, '울산': 0, '세종': 0, '경기': 0, '강원': 0, '충북': 0, '충남': 0, '경북': 0, '경남': 0, '전북': 0, '전남': 0, '제주': 0}\n{'일자': '20200707', '서울': 0, '부산': 0, '대구': 0, '인천': 0, '대전': 0, '광주': 0, '울산': 0, '세종': 0, '경기': 0, '강원': 0, '충북': 0, '충남': 0, '경북': 0, '경남': 0, '전북': 0, '전남': 0, '제주': 0}\n{'일자': '20200706', '서울': 0, '부산': 0, '대구': 0, '인천': 0, '대전': 0, '광주': 0, '울산': 0, '세종': 0, '경기': 0, '강원': 0, '충북': 0, '충남': 0, '경북': 0, '경남': 0, '전북': 0, '전남': 0, '제주': 0}\n{'일자': '20200705', '서울': 0, '부산': 0, '대구': 0, '인천': 0, '대전': 0, '광주': 0, '울산': 0, '세종': 0, '경기': 0, '강원': 0, '충북': 0, '충남': 0, '경북': 0, '경남': 0, '전북': 0, '전남': 0, '제주': 0}\n{'일자': '20200704', '서울': 0, '부산': 0, '대구': 0, '인천': 0, '대전': 0, '광주': 0, '울산': 0, '세종': 0, '경기': 0, '강원': 0, '충북': 0, '충남': 0, '경북': 0, '경남': 0, '전북': 0, '전남': 0, '제주': 0}\n{'일자': '20200703', '서울': 0, '부산': 0, '대구': 0, '인천': 0, '대전': 0, '광주': 0, '울산': 0, '세종': 0, '경기': 0, '강원': 0, '충북': 0, '충남': 0, '경북': 0, '경남': 0, '전북': 0, '전남': 0, '제주': 0}\n{'일자': '20200702', '서울': 0, '부산': 0, '대구': 0, '인천': 0, '대전': 0, '광주': 0, '울산': 0, '세종': 0, '경기': 0, '강원': 0, '충북': 0, '충남': 0, '경북': 0, '경남': 0, '전북': 0, '전남': 0, '제주': 0}\n{'일자': '20200701', '서울': 0, '부산': 0, '대구': 0, '인천': 0, '대전': 0, '광주': 0, '울산': 0, '세종': 0, '경기': 0, '강원': 0, '충북': 0, '충남': 0, '경북': 0, '경남': 0, '전북': 0, '전남': 0, '제주': 0}\n{'일자': '20200630', '서울': 0, '부산': 0, '대구': 0, '인천': 0, '대전': 0, '광주': 0, '울산': 0, '세종': 0, '경기': 0, '강원': 0, '충북': 0, '충남': 0, '경북': 0, '경남': 0, '전북': 0, '전남': 0, '제주': 0}\n{'일자': '20200629', '서울': 0, '부산': 0, '대구': 0, '인천': 0, '대전': 0, '광주': 0, '울산': 0, '세종': 0, '경기': 0, '강원': 0, '충북': 0, '충남': 0, '경북': 0, '경남': 0, '전북': 0, '전남': 0, '제주': 0}\n{'일자': '20200628', '서울': 0, '부산': 0, '대구': 0, '인천': 0, '대전': 0, '광주': 0, '울산': 0, '세종': 0, '경기': 0, '강원': 0, '충북': 0, '충남': 0, '경북': 0, '경남': 0, '전북': 0, '전남': 0, '제주': 0}\n{'일자': '20200627', '서울': 0, '부산': 0, '대구': 0, '인천': 0, '대전': 0, '광주': 0, '울산': 0, '세종': 0, '경기': 0, '강원': 0, '충북': 0, '충남': 0, '경북': 0, '경남': 0, '전북': 0, '전남': 0, '제주': 0}\n{'일자': '20200626', '서울': 0, '부산': 0, '대구': 0, '인천': 0, '대전': 0, '광주': 0, '울산': 0, '세종': 0, '경기': 0, '강원': 0, '충북': 0, '충남': 0, '경북': 0, '경남': 0, '전북': 0, '전남': 0, '제주': 0}\n{'일자': '20200625', '서울': 0, '부산': 0, '대구': 0, '인천': 0, '대전': 0, '광주': 0, '울산': 0, '세종': 0, '경기': 0, '강원': 0, '충북': 0, '충남': 0, '경북': 0, '경남': 0, '전북': 0, '전남': 0, '제주': 0}\n{'일자': '20200624', '서울': 0, '부산': 0, '대구': 0, '인천': 0, '대전': 0, '광주': 0, '울산': 0, '세종': 0, '경기': 0, '강원': 0, '충북': 0, '충남': 0, '경북': 0, '경남': 0, '전북': 0, '전남': 0, '제주': 0}\n{'일자': '20200623', '서울': 0, '부산': 0, '대구': 0, '인천': 0, '대전': 0, '광주': 0, '울산': 0, '세종': 0, '경기': 0, '강원': 0, '충북': 0, '충남': 0, '경북': 0, '경남': 0, '전북': 0, '전남': 0, '제주': 0}\n{'일자': '20200622', '서울': 0, '부산': 0, '대구': 0, '인천': 0, '대전': 0, '광주': 0, '울산': 0, '세종': 0, '경기': 0, '강원': 0, '충북': 0, '충남': 0, '경북': 0, '경남': 0, '전북': 0, '전남': 0, '제주': 0}\n{'일자': '20200621', '서울': 0, '부산': 0, '대구': 0, '인천': 0, '대전': 0, '광주': 0, '울산': 0, '세종': 0, '경기': 0, '강원': 0, '충북': 0, '충남': 0, '경북': 0, '경남': 0, '전북': 0, '전남': 0, '제주': 0}\n{'일자': '20200620', '서울': 0, '부산': 0, '대구': 0, '인천': 0, '대전': 0, '광주': 0, '울산': 0, '세종': 0, '경기': 0, '강원': 0, '충북': 0, '충남': 0, '경북': 0, '경남': 0, '전북': 0, '전남': 0, '제주': 0}\n{'일자': '20200619', '서울': 0, '부산': 0, '대구': 0, '인천': 0, '대전': 0, '광주': 0, '울산': 0, '세종': 0, '경기': 0, '강원': 0, '충북': 0, '충남': 0, '경북': 0, '경남': 0, '전북': 0, '전남': 0, '제주': 0}\n{'일자': '20200618', '서울': 0, '부산': 0, '대구': 0, '인천': 0, '대전': 0, '광주': 0, '울산': 0, '세종': 0, '경기': 0, '강원': 0, '충북': 0, '충남': 0, '경북': 0, '경남': 0, '전북': 0, '전남': 0, '제주': 0}\n{'일자': '20200617', '서울': 0, '부산': 0, '대구': 0, '인천': 0, '대전': 0, '광주': 0, '울산': 0, '세종': 0, '경기': 0, '강원': 0, '충북': 0, '충남': 0, '경북': 0, '경남': 0, '전북': 0, '전남': 0, '제주': 0}\n{'일자': '20200616', '서울': 0, '부산': 0, '대구': 0, '인천': 0, '대전': 0, '광주': 0, '울산': 0, '세종': 0, '경기': 0, '강원': 0, '충북': 0, '충남': 0, '경북': 0, '경남': 0, '전북': 0, '전남': 0, '제주': 0}\n{'일자': '20200615', '서울': 0, '부산': 0, '대구': 0, '인천': 0, '대전': 0, '광주': 0, '울산': 0, '세종': 0, '경기': 0, '강원': 0, '충북': 0, '충남': 0, '경북': 0, '경남': 0, '전북': 0, '전남': 0, '제주': 0}\n{'일자': '20200614', '서울': 0, '부산': 0, '대구': 0, '인천': 0, '대전': 0, '광주': 0, '울산': 0, '세종': 0, '경기': 0, '강원': 0, '충북': 0, '충남': 0, '경북': 0, '경남': 0, '전북': 0, '전남': 0, '제주': 0}\n{'일자': '20200613', '서울': 0, '부산': 0, '대구': 0, '인천': 0, '대전': 0, '광주': 0, '울산': 0, '세종': 0, '경기': 0, '강원': 0, '충북': 0, '충남': 0, '경북': 0, '경남': 0, '전북': 0, '전남': 0, '제주': 0}\n{'일자': '20200612', '서울': 0, '부산': 0, '대구': 0, '인천': 0, '대전': 0, '광주': 0, '울산': 0, '세종': 0, '경기': 0, '강원': 0, '충북': 0, '충남': 0, '경북': 0, '경남': 0, '전북': 0, '전남': 0, '제주': 0}\n{'일자': '20200611', '서울': 0, '부산': 0, '대구': 0, '인천': 0, '대전': 0, '광주': 0, '울산': 0, '세종': 0, '경기': 0, '강원': 0, '충북': 0, '충남': 0, '경북': 0, '경남': 0, '전북': 0, '전남': 0, '제주': 0}\n{'일자': '20200610', '서울': 0, '부산': 0, '대구': 0, '인천': 0, '대전': 0, '광주': 0, '울산': 0, '세종': 0, '경기': 0, '강원': 0, '충북': 0, '충남': 0, '경북': 0, '경남': 0, '전북': 0, '전남': 0, '제주': 0}\n{'일자': '20200609', '서울': 0, '부산': 0, '대구': 0, '인천': 0, '대전': 0, '광주': 0, '울산': 0, '세종': 0, '경기': 0, '강원': 0, '충북': 0, '충남': 0, '경북': 0, '경남': 0, '전북': 0, '전남': 0, '제주': 0}\n{'일자': '20200608', '서울': 0, '부산': 0, '대구': 0, '인천': 0, '대전': 0, '광주': 0, '울산': 0, '세종': 0, '경기': 0, '강원': 0, '충북': 0, '충남': 0, '경북': 0, '경남': 0, '전북': 0, '전남': 0, '제주': 0}\n{'일자': '20200607', '서울': 0, '부산': 0, '대구': 0, '인천': 0, '대전': 0, '광주': 0, '울산': 0, '세종': 0, '경기': 0, '강원': 0, '충북': 0, '충남': 0, '경북': 0, '경남': 0, '전북': 0, '전남': 0, '제주': 0}\n{'일자': '20200606', '서울': 0, '부산': 0, '대구': 0, '인천': 0, '대전': 0, '광주': 0, '울산': 0, '세종': 0, '경기': 0, '강원': 0, '충북': 0, '충남': 0, '경북': 0, '경남': 0, '전북': 0, '전남': 0, '제주': 0}\n{'일자': '20200605', '서울': 0, '부산': 0, '대구': 0, '인천': 0, '대전': 0, '광주': 0, '울산': 0, '세종': 0, '경기': 0, '강원': 0, '충북': 0, '충남': 0, '경북': 0, '경남': 0, '전북': 0, '전남': 0, '제주': 0}\n{'일자': '20200604', '서울': 0, '부산': 0, '대구': 0, '인천': 0, '대전': 0, '광주': 0, '울산': 0, '세종': 0, '경기': 0, '강원': 0, '충북': 0, '충남': 0, '경북': 0, '경남': 0, '전북': 0, '전남': 0, '제주': 0}\n{'일자': '20200603', '서울': 0, '부산': 0, '대구': 0, '인천': 0, '대전': 0, '광주': 0, '울산': 0, '세종': 0, '경기': 0, '강원': 0, '충북': 0, '충남': 0, '경북': 0, '경남': 0, '전북': 0, '전남': 0, '제주': 0}\n{'일자': '20200602', '서울': 0, '부산': 0, '대구': 0, '인천': 0, '대전': 0, '광주': 0, '울산': 0, '세종': 0, '경기': 0, '강원': 0, '충북': 0, '충남': 0, '경북': 0, '경남': 0, '전북': 0, '전남': 0, '제주': 0}\n{'일자': '20200601', '서울': 0, '부산': 0, '대구': 0, '인천': 0, '대전': 0, '광주': 0, '울산': 0, '세종': 0, '경기': 0, '강원': 0, '충북': 0, '충남': 0, '경북': 0, '경남': 0, '전북': 0, '전남': 0, '제주': 0}\n{'일자': '20200531', '서울': 0, '부산': 0, '대구': 0, '인천': 0, '대전': 0, '광주': 0, '울산': 0, '세종': 0, '경기': 0, '강원': 0, '충북': 0, '충남': 0, '경북': 0, '경남': 0, '전북': 0, '전남': 0, '제주': 0}\n{'일자': '20200530', '서울': 0, '부산': 0, '대구': 0, '인천': 0, '대전': 0, '광주': 0, '울산': 0, '세종': 0, '경기': 0, '강원': 0, '충북': 0, '충남': 0, '경북': 0, '경남': 0, '전북': 0, '전남': 0, '제주': 0}\n{'일자': '20200529', '서울': 0, '부산': 0, '대구': 0, '인천': 0, '대전': 0, '광주': 0, '울산': 0, '세종': 0, '경기': 0, '강원': 0, '충북': 0, '충남': 0, '경북': 0, '경남': 0, '전북': 0, '전남': 0, '제주': 0}\n{'일자': '20200528', '서울': 0, '부산': 0, '대구': 0, '인천': 0, '대전': 0, '광주': 0, '울산': 0, '세종': 0, '경기': 0, '강원': 0, '충북': 0, '충남': 0, '경북': 0, '경남': 0, '전북': 0, '전남': 0, '제주': 0}\n{'일자': '20200527', '서울': 0, '부산': 0, '대구': 0, '인천': 0, '대전': 0, '광주': 0, '울산': 0, '세종': 0, '경기': 0, '강원': 0, '충북': 0, '충남': 0, '경북': 0, '경남': 0, '전북': 0, '전남': 0, '제주': 0}\n{'일자': '20200526', '서울': 0, '부산': 0, '대구': 0, '인천': 0, '대전': 0, '광주': 0, '울산': 0, '세종': 0, '경기': 0, '강원': 0, '충북': 0, '충남': 0, '경북': 0, '경남': 0, '전북': 0, '전남': 0, '제주': 0}\n{'일자': '20200525', '서울': 0, '부산': 0, '대구': 0, '인천': 0, '대전': 0, '광주': 0, '울산': 0, '세종': 0, '경기': 0, '강원': 0, '충북': 0, '충남': 0, '경북': 0, '경남': 0, '전북': 0, '전남': 0, '제주': 0}\n{'일자': '20200524', '서울': 0, '부산': 0, '대구': 0, '인천': 0, '대전': 0, '광주': 0, '울산': 0, '세종': 0, '경기': 0, '강원': 0, '충북': 0, '충남': 0, '경북': 0, '경남': 0, '전북': 0, '전남': 0, '제주': 0}\n{'일자': '20200523', '서울': 0, '부산': 0, '대구': 0, '인천': 0, '대전': 0, '광주': 0, '울산': 0, '세종': 0, '경기': 0, '강원': 0, '충북': 0, '충남': 0, '경북': 0, '경남': 0, '전북': 0, '전남': 0, '제주': 0}\n{'일자': '20200522', '서울': 0, '부산': 0, '대구': 0, '인천': 0, '대전': 0, '광주': 0, '울산': 0, '세종': 0, '경기': 0, '강원': 0, '충북': 0, '충남': 0, '경북': 0, '경남': 0, '전북': 0, '전남': 0, '제주': 0}\n{'일자': '20200521', '서울': 0, '부산': 0, '대구': 0, '인천': 0, '대전': 0, '광주': 0, '울산': 0, '세종': 0, '경기': 0, '강원': 0, '충북': 0, '충남': 0, '경북': 0, '경남': 0, '전북': 0, '전남': 0, '제주': 0}\n{'일자': '20200520', '서울': 0, '부산': 0, '대구': 0, '인천': 0, '대전': 0, '광주': 0, '울산': 0, '세종': 0, '경기': 0, '강원': 0, '충북': 0, '충남': 0, '경북': 0, '경남': 0, '전북': 0, '전남': 0, '제주': 0}\n{'일자': '20200519', '서울': 0, '부산': 0, '대구': 0, '인천': 0, '대전': 0, '광주': 0, '울산': 0, '세종': 0, '경기': 0, '강원': 0, '충북': 0, '충남': 0, '경북': 0, '경남': 0, '전북': 0, '전남': 0, '제주': 0}\n{'일자': '20200518', '서울': 0, '부산': 0, '대구': 0, '인천': 0, '대전': 0, '광주': 0, '울산': 0, '세종': 0, '경기': 0, '강원': 0, '충북': 0, '충남': 0, '경북': 0, '경남': 0, '전북': 0, '전남': 0, '제주': 0}\n{'일자': '20200517', '서울': 0, '부산': 0, '대구': 0, '인천': 0, '대전': 0, '광주': 0, '울산': 0, '세종': 0, '경기': 0, '강원': 0, '충북': 0, '충남': 0, '경북': 0, '경남': 0, '전북': 0, '전남': 0, '제주': 0}\n{'일자': '20200516', '서울': 0, '부산': 0, '대구': 0, '인천': 0, '대전': 0, '광주': 0, '울산': 0, '세종': 0, '경기': 0, '강원': 0, '충북': 0, '충남': 0, '경북': 0, '경남': 0, '전북': 0, '전남': 0, '제주': 0}\n{'일자': '20200515', '서울': 0, '부산': 0, '대구': 0, '인천': 0, '대전': 0, '광주': 0, '울산': 0, '세종': 0, '경기': 0, '강원': 0, '충북': 0, '충남': 0, '경북': 0, '경남': 0, '전북': 0, '전남': 0, '제주': 0}\n{'일자': '20200514', '서울': 0, '부산': 0, '대구': 0, '인천': 0, '대전': 0, '광주': 0, '울산': 0, '세종': 0, '경기': 0, '강원': 0, '충북': 0, '충남': 0, '경북': 0, '경남': 0, '전북': 0, '전남': 0, '제주': 0}\n{'일자': '20200513', '서울': 0, '부산': 0, '대구': 0, '인천': 0, '대전': 0, '광주': 0, '울산': 0, '세종': 0, '경기': 0, '강원': 0, '충북': 0, '충남': 0, '경북': 0, '경남': 0, '전북': 0, '전남': 0, '제주': 0}\n{'일자': '20200512', '서울': 0, '부산': 0, '대구': 0, '인천': 0, '대전': 0, '광주': 0, '울산': 0, '세종': 0, '경기': 0, '강원': 0, '충북': 0, '충남': 0, '경북': 0, '경남': 0, '전북': 0, '전남': 0, '제주': 0}\n{'일자': '20200511', '서울': 0, '부산': 0, '대구': 0, '인천': 0, '대전': 0, '광주': 0, '울산': 0, '세종': 0, '경기': 0, '강원': 0, '충북': 0, '충남': 0, '경북': 0, '경남': 0, '전북': 0, '전남': 0, '제주': 0}\n{'일자': '20200510', '서울': 0, '부산': 0, '대구': 0, '인천': 0, '대전': 0, '광주': 0, '울산': 0, '세종': 0, '경기': 0, '강원': 0, '충북': 0, '충남': 0, '경북': 0, '경남': 0, '전북': 0, '전남': 0, '제주': 0}\n{'일자': '20200509', '서울': 0, '부산': 0, '대구': 0, '인천': 0, '대전': 0, '광주': 0, '울산': 0, '세종': 0, '경기': 0, '강원': 0, '충북': 0, '충남': 0, '경북': 0, '경남': 0, '전북': 0, '전남': 0, '제주': 0}\n{'일자': '20200508', '서울': 0, '부산': 0, '대구': 0, '인천': 0, '대전': 0, '광주': 0, '울산': 0, '세종': 0, '경기': 0, '강원': 0, '충북': 0, '충남': 0, '경북': 0, '경남': 0, '전북': 0, '전남': 0, '제주': 0}\n{'일자': '20200507', '서울': 0, '부산': 0, '대구': 0, '인천': 0, '대전': 0, '광주': 0, '울산': 0, '세종': 0, '경기': 0, '강원': 0, '충북': 0, '충남': 0, '경북': 0, '경남': 0, '전북': 0, '전남': 0, '제주': 0}\n{'일자': '20200506', '서울': 0, '부산': 0, '대구': 0, '인천': 0, '대전': 0, '광주': 0, '울산': 0, '세종': 0, '경기': 0, '강원': 0, '충북': 0, '충남': 0, '경북': 0, '경남': 0, '전북': 0, '전남': 0, '제주': 0}\n{'일자': '20200505', '서울': 0, '부산': 0, '대구': 0, '인천': 0, '대전': 0, '광주': 0, '울산': 0, '세종': 0, '경기': 0, '강원': 0, '충북': 0, '충남': 0, '경북': 0, '경남': 0, '전북': 0, '전남': 0, '제주': 0}\n{'일자': '20200504', '서울': 0, '부산': 0, '대구': 0, '인천': 0, '대전': 0, '광주': 0, '울산': 0, '세종': 0, '경기': 0, '강원': 0, '충북': 0, '충남': 0, '경북': 0, '경남': 0, '전북': 0, '전남': 0, '제주': 0}\n{'일자': '20200503', '서울': 0, '부산': 0, '대구': 0, '인천': 0, '대전': 0, '광주': 0, '울산': 0, '세종': 0, '경기': 0, '강원': 0, '충북': 0, '충남': 0, '경북': 0, '경남': 0, '전북': 0, '전남': 0, '제주': 0}\n{'일자': '20200502', '서울': 0, '부산': 0, '대구': 0, '인천': 0, '대전': 0, '광주': 0, '울산': 0, '세종': 0, '경기': 0, '강원': 0, '충북': 0, '충남': 0, '경북': 0, '경남': 0, '전북': 0, '전남': 0, '제주': 0}\n{'일자': '20200501', '서울': 0, '부산': 0, '대구': 0, '인천': 0, '대전': 0, '광주': 0, '울산': 0, '세종': 0, '경기': 0, '강원': 0, '충북': 0, '충남': 0, '경북': 0, '경남': 0, '전북': 0, '전남': 0, '제주': 0}\n{'일자': '20200430', '서울': 0, '부산': 0, '대구': 0, '인천': 0, '대전': 0, '광주': 0, '울산': 0, '세종': 0, '경기': 0, '강원': 0, '충북': 0, '충남': 0, '경북': 0, '경남': 0, '전북': 0, '전남': 0, '제주': 0}\n{'일자': '20200429', '서울': 0, '부산': 0, '대구': 0, '인천': 0, '대전': 0, '광주': 0, '울산': 0, '세종': 0, '경기': 0, '강원': 0, '충북': 0, '충남': 0, '경북': 0, '경남': 0, '전북': 0, '전남': 0, '제주': 0}\n{'일자': '20200428', '서울': 0, '부산': 0, '대구': 0, '인천': 0, '대전': 0, '광주': 0, '울산': 0, '세종': 0, '경기': 0, '강원': 0, '충북': 0, '충남': 0, '경북': 0, '경남': 0, '전북': 0, '전남': 0, '제주': 0}\n{'일자': '20200427', '서울': 0, '부산': 0, '대구': 0, '인천': 0, '대전': 0, '광주': 0, '울산': 0, '세종': 0, '경기': 0, '강원': 0, '충북': 0, '충남': 0, '경북': 0, '경남': 0, '전북': 0, '전남': 0, '제주': 0}\n{'일자': '20200426', '서울': 0, '부산': 0, '대구': 0, '인천': 0, '대전': 0, '광주': 0, '울산': 0, '세종': 0, '경기': 0, '강원': 0, '충북': 0, '충남': 0, '경북': 0, '경남': 0, '전북': 0, '전남': 0, '제주': 0}\n{'일자': '20200425', '서울': 0, '부산': 0, '대구': 0, '인천': 0, '대전': 0, '광주': 0, '울산': 0, '세종': 0, '경기': 0, '강원': 0, '충북': 0, '충남': 0, '경북': 0, '경남': 0, '전북': 0, '전남': 0, '제주': 0}\n{'일자': '20200424', '서울': 0, '부산': 0, '대구': 0, '인천': 0, '대전': 0, '광주': 0, '울산': 0, '세종': 0, '경기': 0, '강원': 0, '충북': 0, '충남': 0, '경북': 0, '경남': 0, '전북': 0, '전남': 0, '제주': 0}\n{'일자': '20200423', '서울': 0, '부산': 0, '대구': 0, '인천': 0, '대전': 0, '광주': 0, '울산': 0, '세종': 0, '경기': 0, '강원': 0, '충북': 0, '충남': 0, '경북': 0, '경남': 0, '전북': 0, '전남': 0, '제주': 0}\n{'일자': '20200422', '서울': 0, '부산': 0, '대구': 0, '인천': 0, '대전': 0, '광주': 0, '울산': 0, '세종': 0, '경기': 0, '강원': 0, '충북': 0, '충남': 0, '경북': 0, '경남': 0, '전북': 0, '전남': 0, '제주': 0}\n{'일자': '20200421', '서울': 0, '부산': 0, '대구': 0, '인천': 0, '대전': 0, '광주': 0, '울산': 0, '세종': 0, '경기': 0, '강원': 0, '충북': 0, '충남': 0, '경북': 0, '경남': 0, '전북': 0, '전남': 0, '제주': 0}\n{'일자': '20200420', '서울': 0, '부산': 0, '대구': 0, '인천': 0, '대전': 0, '광주': 0, '울산': 0, '세종': 0, '경기': 0, '강원': 0, '충북': 0, '충남': 0, '경북': 0, '경남': 0, '전북': 0, '전남': 0, '제주': 0}\n{'일자': '20200419', '서울': 0, '부산': 0, '대구': 0, '인천': 0, '대전': 0, '광주': 0, '울산': 0, '세종': 0, '경기': 0, '강원': 0, '충북': 0, '충남': 0, '경북': 0, '경남': 0, '전북': 0, '전남': 0, '제주': 0}\n{'일자': '20200418', '서울': 0, '부산': 0, '대구': 0, '인천': 0, '대전': 0, '광주': 0, '울산': 0, '세종': 0, '경기': 0, '강원': 0, '충북': 0, '충남': 0, '경북': 0, '경남': 0, '전북': 0, '전남': 0, '제주': 0}\n{'일자': '20200417', '서울': 0, '부산': 0, '대구': 0, '인천': 0, '대전': 0, '광주': 0, '울산': 0, '세종': 0, '경기': 0, '강원': 0, '충북': 0, '충남': 0, '경북': 0, '경남': 0, '전북': 0, '전남': 0, '제주': 0}\n{'일자': '20200416', '서울': 0, '부산': 0, '대구': 0, '인천': 0, '대전': 0, '광주': 0, '울산': 0, '세종': 0, '경기': 0, '강원': 0, '충북': 0, '충남': 0, '경북': 0, '경남': 0, '전북': 0, '전남': 0, '제주': 0}\n{'일자': '20200415', '서울': 0, '부산': 0, '대구': 0, '인천': 0, '대전': 0, '광주': 0, '울산': 0, '세종': 0, '경기': 0, '강원': 0, '충북': 0, '충남': 0, '경북': 0, '경남': 0, '전북': 0, '전남': 0, '제주': 0}\n{'일자': '20200414', '서울': 0, '부산': 0, '대구': 0, '인천': 0, '대전': 0, '광주': 0, '울산': 0, '세종': 0, '경기': 0, '강원': 0, '충북': 0, '충남': 0, '경북': 0, '경남': 0, '전북': 0, '전남': 0, '제주': 0}\n{'일자': '20200413', '서울': 0, '부산': 0, '대구': 0, '인천': 0, '대전': 0, '광주': 0, '울산': 0, '세종': 0, '경기': 0, '강원': 0, '충북': 0, '충남': 0, '경북': 0, '경남': 0, '전북': 0, '전남': 0, '제주': 0}\n{'일자': '20200412', '서울': 0, '부산': 0, '대구': 0, '인천': 0, '대전': 0, '광주': 0, '울산': 0, '세종': 0, '경기': 0, '강원': 0, '충북': 0, '충남': 0, '경북': 0, '경남': 0, '전북': 0, '전남': 0, '제주': 0}\n{'일자': '20200411', '서울': 0, '부산': 0, '대구': 0, '인천': 0, '대전': 0, '광주': 0, '울산': 0, '세종': 0, '경기': 0, '강원': 0, '충북': 0, '충남': 0, '경북': 0, '경남': 0, '전북': 0, '전남': 0, '제주': 0}\n{'일자': '20200410', '서울': 0, '부산': 0, '대구': 0, '인천': 0, '대전': 0, '광주': 0, '울산': 0, '세종': 0, '경기': 0, '강원': 0, '충북': 0, '충남': 0, '경북': 0, '경남': 0, '전북': 0, '전남': 0, '제주': 0}\n{'일자': '20200409', '서울': 0, '부산': 0, '대구': 0, '인천': 0, '대전': 0, '광주': 0, '울산': 0, '세종': 0, '경기': 0, '강원': 0, '충북': 0, '충남': 0, '경북': 0, '경남': 0, '전북': 0, '전남': 0, '제주': 0}\n{'일자': '20200408', '서울': 0, '부산': 0, '대구': 0, '인천': 0, '대전': 0, '광주': 0, '울산': 0, '세종': 0, '경기': 0, '강원': 0, '충북': 0, '충남': 0, '경북': 0, '경남': 0, '전북': 0, '전남': 0, '제주': 0}\n{'일자': '20200407', '서울': 0, '부산': 0, '대구': 0, '인천': 0, '대전': 0, '광주': 0, '울산': 0, '세종': 0, '경기': 0, '강원': 0, '충북': 0, '충남': 0, '경북': 0, '경남': 0, '전북': 0, '전남': 0, '제주': 0}\n{'일자': '20200406', '서울': 0, '부산': 0, '대구': 0, '인천': 0, '대전': 0, '광주': 0, '울산': 0, '세종': 0, '경기': 0, '강원': 0, '충북': 0, '충남': 0, '경북': 0, '경남': 0, '전북': 0, '전남': 0, '제주': 0}\n{'일자': '20200405', '서울': 0, '부산': 0, '대구': 0, '인천': 0, '대전': 0, '광주': 0, '울산': 0, '세종': 0, '경기': 0, '강원': 0, '충북': 0, '충남': 0, '경북': 0, '경남': 0, '전북': 0, '전남': 0, '제주': 0}\n{'일자': '20200404', '서울': 0, '부산': 0, '대구': 0, '인천': 0, '대전': 0, '광주': 0, '울산': 0, '세종': 0, '경기': 0, '강원': 0, '충북': 0, '충남': 0, '경북': 0, '경남': 0, '전북': 0, '전남': 0, '제주': 0}\n{'일자': '20200403', '서울': 0, '부산': 0, '대구': 0, '인천': 0, '대전': 0, '광주': 0, '울산': 0, '세종': 0, '경기': 0, '강원': 0, '충북': 0, '충남': 0, '경북': 0, '경남': 0, '전북': 0, '전남': 0, '제주': 0}\n{'일자': '20200402', '서울': 0, '부산': 0, '대구': 0, '인천': 0, '대전': 0, '광주': 0, '울산': 0, '세종': 0, '경기': 0, '강원': 0, '충북': 0, '충남': 0, '경북': 0, '경남': 0, '전북': 0, '전남': 0, '제주': 0}\n{'일자': '20200401', '서울': 0, '부산': 0, '대구': 0, '인천': 0, '대전': 0, '광주': 0, '울산': 0, '세종': 0, '경기': 0, '강원': 0, '충북': 0, '충남': 0, '경북': 0, '경남': 0, '전북': 0, '전남': 0, '제주': 0}\n{'일자': '20200331', '서울': 0, '부산': 0, '대구': 0, '인천': 0, '대전': 0, '광주': 0, '울산': 0, '세종': 0, '경기': 0, '강원': 0, '충북': 0, '충남': 0, '경북': 0, '경남': 0, '전북': 0, '전남': 0, '제주': 0}\n"
     ]
    }
   ],
   "source": [
    "for j in range((end_date-start_date).days+1):\n",
    "    da = (end_date - datetime.timedelta(days=j)).strftime(\"%Y%m%d\")\n",
    "    a_dict = {'일자':da, '서울':0, '부산':0, '대구':0, '인천':0,'대전':0, '광주':0, '울산':0, '세종':0, '경기':0,'강원':0, '충북':0,'충남':0, '경북':0, '경남':0,'전북':0,'전남':0,'제주':0}\n",
    "    print(f'{a_dict}')\n",
    "        # print(f'{a_dict}')"
   ]
  },
  {
   "cell_type": "code",
   "execution_count": 36,
   "metadata": {},
   "outputs": [
    {
     "output_type": "display_data",
     "data": {
      "text/plain": "HBox(children=(FloatProgress(value=0.0, max=245.0), HTML(value='')))",
      "application/vnd.jupyter.widget-view+json": {
       "version_major": 2,
       "version_minor": 0,
       "model_id": "090653470e454f8fa0572a044298f272"
      }
     },
     "metadata": {}
    },
    {
     "output_type": "stream",
     "name": "stdout",
     "text": [
      "\n"
     ]
    }
   ],
   "source": [
    "\"\"\"cosi_dict_list = []\n",
    "\n",
    "for j in tqdm_notebook(range((end_date-start_date).days+1)):\n",
    "    da = (end_date - datetime.timedelta(days=j)).strftime(\"%Y%m%d\")\n",
    "    a_dict = {'일자':da, '서울':0, '부산':0, '대구':0, '인천':0,'대전':0, '광주':0, '울산':0, '세종':0, '경기':0,'강원':0, '충북':0,'충남':0, '경북':0, '경남':0,'전북':0,'전남':0,'제주':0}\n",
    "    page = 1\n",
    "    corona_url = 'http://openapi.data.go.kr/openapi/service/rest/Covid19/getCovid19SidoInfStateJson'\n",
    "    url = f'{corona_url}?ServiceKey={govapi_key}&pageNo={page}&numOfRows=10&startCreateDt={da}&endCreateDt={da}'\n",
    "    result = requests.get(url)\n",
    "    soup = BeautifulSoup(result.text, 'xml')\n",
    "    cosi = soup.find_all('item')\n",
    "    for co in cosi:        \n",
    "        area = co.find('gubun').get_text()\n",
    "        number = co.find('incDec').get_text()\n",
    "        a_dict[area] = number\n",
    "\n",
    "    cosi_dict_list.append(a_dict)\n",
    "dd = pd.DataFrame(cosi_dict_list)\"\"\""
   ]
  },
  {
   "cell_type": "code",
   "execution_count": 37,
   "metadata": {},
   "outputs": [
    {
     "output_type": "execute_result",
     "data": {
      "text/plain": [
       "           일자   서울  부산  대구  인천  대전  광주 울산 세종   경기  강원  충북  충남  경북  경남  전북  전남  \\\n",
       "0    20201130  159  52   4  34   5  13  3  1   77   8  22   5   4  20  16   4   \n",
       "1    20201129  150  22   3  22   6   8  0  3  101  19  23  13  11  15  17  19   \n",
       "2    20201128  178  28   1  25  13  16  3  0  126  33  24  17   5  14   9   7   \n",
       "3    20201127  204  24   0  25   5  13  7  3  117   9  20  31   3  39  24  11   \n",
       "4    20201126  213  22   1  19   1  14  7  4  183   8   8  16   2  45  16   9   \n",
       "..        ...  ...  ..  ..  ..  ..  .. .. ..  ...  ..  ..  ..  ..  ..  ..  ..   \n",
       "240  20200404   22   0  27   3   0   0  0  0   23   1   0   1   1   1   0   0   \n",
       "241  20200403   18   0   9   1   0   1  0  0   23   2   1   1   5   1   1   1   \n",
       "242  20200402   14   0  21   4   0   1  1  0   17   1   0   2   2   6   0   2   \n",
       "243  20200401   24   3  20   5   0   4  0  0   23   2   0   3   2   4   1   3   \n",
       "244  20200331   24   1  60   6   2   0  0  0   13   0   0   1   2   1   0   0   \n",
       "\n",
       "    제주  검역   합계  \n",
       "0    1  10  438  \n",
       "1    1  17  450  \n",
       "2    2   3  504  \n",
       "3    3  31  569  \n",
       "4    3  12  583  \n",
       "..  ..  ..  ...  \n",
       "240  0  15   94  \n",
       "241  0  22   86  \n",
       "242  0  18   89  \n",
       "243  0   7  101  \n",
       "244  0  15  125  \n",
       "\n",
       "[245 rows x 20 columns]"
      ],
      "text/html": "<div>\n<style scoped>\n    .dataframe tbody tr th:only-of-type {\n        vertical-align: middle;\n    }\n\n    .dataframe tbody tr th {\n        vertical-align: top;\n    }\n\n    .dataframe thead th {\n        text-align: right;\n    }\n</style>\n<table border=\"1\" class=\"dataframe\">\n  <thead>\n    <tr style=\"text-align: right;\">\n      <th></th>\n      <th>일자</th>\n      <th>서울</th>\n      <th>부산</th>\n      <th>대구</th>\n      <th>인천</th>\n      <th>대전</th>\n      <th>광주</th>\n      <th>울산</th>\n      <th>세종</th>\n      <th>경기</th>\n      <th>강원</th>\n      <th>충북</th>\n      <th>충남</th>\n      <th>경북</th>\n      <th>경남</th>\n      <th>전북</th>\n      <th>전남</th>\n      <th>제주</th>\n      <th>검역</th>\n      <th>합계</th>\n    </tr>\n  </thead>\n  <tbody>\n    <tr>\n      <th>0</th>\n      <td>20201130</td>\n      <td>159</td>\n      <td>52</td>\n      <td>4</td>\n      <td>34</td>\n      <td>5</td>\n      <td>13</td>\n      <td>3</td>\n      <td>1</td>\n      <td>77</td>\n      <td>8</td>\n      <td>22</td>\n      <td>5</td>\n      <td>4</td>\n      <td>20</td>\n      <td>16</td>\n      <td>4</td>\n      <td>1</td>\n      <td>10</td>\n      <td>438</td>\n    </tr>\n    <tr>\n      <th>1</th>\n      <td>20201129</td>\n      <td>150</td>\n      <td>22</td>\n      <td>3</td>\n      <td>22</td>\n      <td>6</td>\n      <td>8</td>\n      <td>0</td>\n      <td>3</td>\n      <td>101</td>\n      <td>19</td>\n      <td>23</td>\n      <td>13</td>\n      <td>11</td>\n      <td>15</td>\n      <td>17</td>\n      <td>19</td>\n      <td>1</td>\n      <td>17</td>\n      <td>450</td>\n    </tr>\n    <tr>\n      <th>2</th>\n      <td>20201128</td>\n      <td>178</td>\n      <td>28</td>\n      <td>1</td>\n      <td>25</td>\n      <td>13</td>\n      <td>16</td>\n      <td>3</td>\n      <td>0</td>\n      <td>126</td>\n      <td>33</td>\n      <td>24</td>\n      <td>17</td>\n      <td>5</td>\n      <td>14</td>\n      <td>9</td>\n      <td>7</td>\n      <td>2</td>\n      <td>3</td>\n      <td>504</td>\n    </tr>\n    <tr>\n      <th>3</th>\n      <td>20201127</td>\n      <td>204</td>\n      <td>24</td>\n      <td>0</td>\n      <td>25</td>\n      <td>5</td>\n      <td>13</td>\n      <td>7</td>\n      <td>3</td>\n      <td>117</td>\n      <td>9</td>\n      <td>20</td>\n      <td>31</td>\n      <td>3</td>\n      <td>39</td>\n      <td>24</td>\n      <td>11</td>\n      <td>3</td>\n      <td>31</td>\n      <td>569</td>\n    </tr>\n    <tr>\n      <th>4</th>\n      <td>20201126</td>\n      <td>213</td>\n      <td>22</td>\n      <td>1</td>\n      <td>19</td>\n      <td>1</td>\n      <td>14</td>\n      <td>7</td>\n      <td>4</td>\n      <td>183</td>\n      <td>8</td>\n      <td>8</td>\n      <td>16</td>\n      <td>2</td>\n      <td>45</td>\n      <td>16</td>\n      <td>9</td>\n      <td>3</td>\n      <td>12</td>\n      <td>583</td>\n    </tr>\n    <tr>\n      <th>...</th>\n      <td>...</td>\n      <td>...</td>\n      <td>...</td>\n      <td>...</td>\n      <td>...</td>\n      <td>...</td>\n      <td>...</td>\n      <td>...</td>\n      <td>...</td>\n      <td>...</td>\n      <td>...</td>\n      <td>...</td>\n      <td>...</td>\n      <td>...</td>\n      <td>...</td>\n      <td>...</td>\n      <td>...</td>\n      <td>...</td>\n      <td>...</td>\n      <td>...</td>\n    </tr>\n    <tr>\n      <th>240</th>\n      <td>20200404</td>\n      <td>22</td>\n      <td>0</td>\n      <td>27</td>\n      <td>3</td>\n      <td>0</td>\n      <td>0</td>\n      <td>0</td>\n      <td>0</td>\n      <td>23</td>\n      <td>1</td>\n      <td>0</td>\n      <td>1</td>\n      <td>1</td>\n      <td>1</td>\n      <td>0</td>\n      <td>0</td>\n      <td>0</td>\n      <td>15</td>\n      <td>94</td>\n    </tr>\n    <tr>\n      <th>241</th>\n      <td>20200403</td>\n      <td>18</td>\n      <td>0</td>\n      <td>9</td>\n      <td>1</td>\n      <td>0</td>\n      <td>1</td>\n      <td>0</td>\n      <td>0</td>\n      <td>23</td>\n      <td>2</td>\n      <td>1</td>\n      <td>1</td>\n      <td>5</td>\n      <td>1</td>\n      <td>1</td>\n      <td>1</td>\n      <td>0</td>\n      <td>22</td>\n      <td>86</td>\n    </tr>\n    <tr>\n      <th>242</th>\n      <td>20200402</td>\n      <td>14</td>\n      <td>0</td>\n      <td>21</td>\n      <td>4</td>\n      <td>0</td>\n      <td>1</td>\n      <td>1</td>\n      <td>0</td>\n      <td>17</td>\n      <td>1</td>\n      <td>0</td>\n      <td>2</td>\n      <td>2</td>\n      <td>6</td>\n      <td>0</td>\n      <td>2</td>\n      <td>0</td>\n      <td>18</td>\n      <td>89</td>\n    </tr>\n    <tr>\n      <th>243</th>\n      <td>20200401</td>\n      <td>24</td>\n      <td>3</td>\n      <td>20</td>\n      <td>5</td>\n      <td>0</td>\n      <td>4</td>\n      <td>0</td>\n      <td>0</td>\n      <td>23</td>\n      <td>2</td>\n      <td>0</td>\n      <td>3</td>\n      <td>2</td>\n      <td>4</td>\n      <td>1</td>\n      <td>3</td>\n      <td>0</td>\n      <td>7</td>\n      <td>101</td>\n    </tr>\n    <tr>\n      <th>244</th>\n      <td>20200331</td>\n      <td>24</td>\n      <td>1</td>\n      <td>60</td>\n      <td>6</td>\n      <td>2</td>\n      <td>0</td>\n      <td>0</td>\n      <td>0</td>\n      <td>13</td>\n      <td>0</td>\n      <td>0</td>\n      <td>1</td>\n      <td>2</td>\n      <td>1</td>\n      <td>0</td>\n      <td>0</td>\n      <td>0</td>\n      <td>15</td>\n      <td>125</td>\n    </tr>\n  </tbody>\n</table>\n<p>245 rows × 20 columns</p>\n</div>"
     },
     "metadata": {},
     "execution_count": 37
    }
   ],
   "source": [
    "dd"
   ]
  },
  {
   "cell_type": "code",
   "execution_count": 40,
   "metadata": {},
   "outputs": [],
   "source": [
    "# dd.to_excel('./results/전국코로나.xlsx')"
   ]
  }
 ]
}