{
 "metadata": {
  "language_info": {
   "codemirror_mode": {
    "name": "ipython",
    "version": 3
   },
   "file_extension": ".py",
   "mimetype": "text/x-python",
   "name": "python",
   "nbconvert_exporter": "python",
   "pygments_lexer": "ipython3",
   "version": "3.8.3-final"
  },
  "orig_nbformat": 2,
  "kernelspec": {
   "name": "Python 3.8.3 64-bit ('base': conda)",
   "display_name": "Python 3.8.3 64-bit ('base': conda)",
   "metadata": {
    "interpreter": {
     "hash": "c2224539028b414c7f0940cdc86eeb3c7deaf138deef25179eca5056c4d821b9"
    }
   }
  }
 },
 "nbformat": 4,
 "nbformat_minor": 2,
 "cells": [
  {
   "cell_type": "code",
   "execution_count": 1,
   "metadata": {},
   "outputs": [],
   "source": [
    "import numpy as np\n",
    "import seaborn as sns\n",
    "import requests\n",
    "from urllib.parse import quote\n",
    "import pandas as pd\n",
    "from bs4 import BeautifulSoup\n",
    "import matplotlib as mpl\n",
    "import matplotlib.pyplot as plt \n",
    "%matplotlib inline\n",
    "\n",
    "# 한글폰트 사용\n",
    "mpl.rc('font', family='Malgun Gothic')\n",
    "mpl.rc('axes', unicode_minus=False)"
   ]
  },
  {
   "cell_type": "markdown",
   "metadata": {},
   "source": [
    "## 시도 발생현황"
   ]
  },
  {
   "cell_type": "code",
   "execution_count": 2,
   "metadata": {},
   "outputs": [],
   "source": [
    "key_fd = open('./key/Covid19key.txt', mode='r')\n",
    "govapi_key = key_fd.read(100)\n",
    "key_fd.close()"
   ]
  },
  {
   "cell_type": "code",
   "execution_count": 3,
   "metadata": {},
   "outputs": [],
   "source": [
    "\"\"\"# 데이터 생성일 시작범위/ 데이터 생성일 종료범위\n",
    "start_date = '20201121'\n",
    "end_date = '20201130'\n",
    "page = 1\"\"\""
   ]
  },
  {
   "cell_type": "code",
   "execution_count": 4,
   "metadata": {},
   "outputs": [],
   "source": [
    "\"\"\"corona_url = 'http://openapi.data.go.kr/openapi/service/rest/Covid19/getCovid19SidoInfStateJson'\n",
    "url = f'{corona_url}?ServiceKey={govapi_key}&pageNo={page}&numOfRows=10&startCreateDt={start_date}&endCreateDt={end_date}'\"\"\""
   ]
  },
  {
   "cell_type": "code",
   "execution_count": 5,
   "metadata": {},
   "outputs": [
    {
     "output_type": "execute_result",
     "data": {
      "text/plain": [
       "'00'"
      ]
     },
     "metadata": {},
     "execution_count": 5
    }
   ],
   "source": [
    "\"\"\"result = requests.get(url)\n",
    "soup = BeautifulSoup(result.text, 'xml')\n",
    "soup.find('resultCode').get_text() # 00이면 정상\"\"\""
   ]
  },
  {
   "cell_type": "code",
   "execution_count": 6,
   "metadata": {},
   "outputs": [],
   "source": [
    "# result = requests.get(url)\n",
    "# soup = BeautifulSoup(result.text, 'xml')\n",
    "# soup"
   ]
  },
  {
   "cell_type": "code",
   "execution_count": 7,
   "metadata": {},
   "outputs": [],
   "source": [
    "# soup.find('resultCode').get_text() # 00이면 정상"
   ]
  },
  {
   "cell_type": "code",
   "execution_count": 8,
   "metadata": {},
   "outputs": [
    {
     "output_type": "execute_result",
     "data": {
      "text/plain": [
       "'NORMAL SERVICE.'"
      ]
     },
     "metadata": {},
     "execution_count": 8
    }
   ],
   "source": [
    "\"\"\"soup.find('resultMsg').string\"\"\""
   ]
  },
  {
   "cell_type": "code",
   "execution_count": 9,
   "metadata": {},
   "outputs": [
    {
     "output_type": "execute_result",
     "data": {
      "text/plain": [
       "5</defCnt><gubun>충북</gubun><gubunCn>忠北</gubunCn><gubunEn>Chungcheongbuk-do</gubunEn><incDec>0</incDec><isolClearCnt>197</isolClearCnt><isolIngCnt>25</isolIngCnt><localOccCnt>0</localOccCnt><overFlowCnt>0</overFlowCnt><qurRate>14.07</qurRate><seq>5833</seq><stdDay>2020년 11월 23일 00시</stdDay><updateDt>null</updateDt></item>,\n",
       " <item><createDt>2020-11-23 09:33:42.565</createDt><deathCnt>6</deathCnt><defCnt>516</defCnt><gubun>강원</gubun><gubunCn>江原</gubunCn><gubunEn>Gangwon-do</gubunEn><incDec>12</incDec><isolClearCnt>306</isolClearCnt><isolIngCnt>204</isolIngCnt><localOccCnt>11</localOccCnt><overFlowCnt>1</overFlowCnt><qurRate>33.49</qurRate><seq>5832</seq><stdDay>2020년 11월 23일 00시</stdDay><updateDt>null</updateDt></item>,\n",
       " <item><createDt>2020-11-23 09:33:42.565</createDt><deathCnt>110</deathCnt><defCnt>6518</defCnt><gubun>경기</gubun><gubunCn>京畿</gubunCn><gubunEn>Gyeonggi-do</gubunEn><incDec>76</incDec><isolClearCnt>5544</isolClearCnt><isolIngCnt>864</isolIngCnt><localOccCnt>74</localOccCnt><overFlowCnt>2</overFlowCnt><qurRate>49.19</qurRate><seq>5831</seq><stdDay>2020년 11월 23일 00시</stdDay><updateDt>null</updateDt></item>,\n",
       " <item><createDt>2020-11-23 09:33:42.565</createDt><deathCnt>0</deathCnt><defCnt>87</defCnt><gubun>세종</gubun><gubunCn>世宗</gubunCn><gubunEn>Sejong</gubunEn><incDec>1</incDec><isolClearCnt>82</isolClearCnt><isolIngCnt>5</isolIngCnt><localOccCnt>0</localOccCnt><overFlowCnt>1</overFlowCnt><qurRate>25.41</qurRate><seq>5830</seq><stdDay>2020년 11월 23일 00시</stdDay><updateDt>null</updateDt></item>,\n",
       " <item><createDt>2020-11-23 09:33:42.565</createDt><deathCnt>2</deathCnt><defCnt>173</defCnt><gubun>울산</gubun><gubunCn>蔚山</gubunCn><gubunEn>Ulsan</gubunEn><incDec>1</incDec><isolClearCnt>163</isolClearCnt><isolIngCnt>8</isolIngCnt><localOccCnt>1</localOccCnt><overFlowCnt>0</overFlowCnt><qurRate>15.08</qurRate><seq>5829</seq><stdDay>2020년 11월 23일 00시</stdDay><updateDt>null</updateDt></item>,\n",
       " <item><createDt>2020-11-23 09:33:42.565</createDt><deathCnt>6</deathCnt><defCnt>460</defCnt><gubun>대전</gubun><gubunCn>大田</gubunCn><gubunEn>Daejeon</gubunEn><incDec>3</incDec><isolClearCnt>437</isolClearCnt><isolIngCnt>17</isolIngCnt><localOccCnt>2</localOccCnt><overFlowCnt>1</overFlowCnt><qurRate>31.20</qurRate><seq>5828</seq><stdDay>2020년 11월 23일 00시</stdDay><updateDt>null</updateDt></item>,\n",
       " <item><createDt>2020-11-23 09:33:42.565</createDt><deathCnt>3</deathCnt><defCnt>615</defCnt><gubun>광주</gubun><gubunCn>光州</gubunCn><gubunEn>Gwangju</gubunEn><incDec>1</incDec><isolClearCnt>526</isolClearCnt><isolIngCnt>86</isolIngCnt><localOccCnt>1</localOccCnt><overFlowCnt>0</overFlowCnt><qurRate>42.22</qurRate><seq>5827</seq><stdDay>2020년 11월 23일 00시</stdDay><updateDt>null</updateDt></item>,\n",
       " <item><createDt>2020-11-23 09:33:42.564</createDt><deathCnt>11</deathCnt><defCnt>1229</defCnt><gubun>인천</gubun><gubunCn>仁川</gubunCn><gubunEn>Incheon</gubunEn><incDec>23</incDec><isolClearCnt>1054</isolClearCnt><isolIngCnt>164</isolIngCnt><localOccCnt>23</localOccCnt><overFlowCnt>0</overFlowCnt><qurRate>41.57</qurRate><seq>5826</seq><stdDay>2020년 11월 23일 00시</stdDay><updateDt>null</updateDt></item>,\n",
       " <item><createDt>2020-11-23 09:33:42.564</createDt><deathCnt>198</deathCnt><defCnt>7215</defCnt><gubun>대구</gubun><gubunCn>大邱</gubunCn><gubunEn>Daegu</gubunEn><incDec>2</incDec><isolClearCnt>6987</isolClearCnt><isolIngCnt>30</isolIngCnt><localOccCnt>1</localOccCnt><overFlowCnt>1</overFlowCnt><qurRate>296.12</qurRate><seq>5825</seq><stdDay>2020년 11월 23일 00시</stdDay><updateDt>null</updateDt></item>,\n",
       " <item><createDt>2020-11-23 09:33:42.564</createDt><deathCnt>15</deathCnt><defCnt>637</defCnt><gubun>부산</gubun><gubunCn>釜山</gubunCn><gubunEn>Busan</gubunEn><incDec>5</incDec><isolClearCnt>583</isolClearCnt><isolIngCnt>39</isolIngCnt><localOccCnt>4</localOccCnt><overFlowCnt>1</overFlowCnt><qurRate>18.67</qurRate><seq>5824</seq><stdDay>2020년 11월 23일 00시</stdDay><updateDt>null</updateDt></item>,\n",
       " <item><createDt>2020-11-23 09:33:42.564</createDt><deathCnt>86</deathCnt><defCnt>7625</defCnt><gubun>서울</gubun><gubunCn>首尔</gubunCn><gubunEn>Seoul</gubunEn><incDec>112</incDec><isolClearCnt>6172</isolClearCnt><isolIngCnt>1367</isolIngCnt><localOccCnt>109</localOccCnt><overFlowCnt>3</overFlowCnt><qurRate>78.34</qurRate><seq>5823</seq><stdDay>2020년 11월 23일 00시</stdDay><updateDt>null</updateDt></item>,\n",
       " <item><createDt>2020-11-23 09:33:42.564</createDt><deathCnt>509</deathCnt><defCnt>31004</defCnt><gubun>합계</gubun><gubunCn>合计</gubunCn><gubunEn>Total</gubunEn><incDec>271</incDec><isolClearCnt>26539</isolClearCnt><isolIngCnt>3956</isolIngCnt><localOccCnt>255</localOccCnt><overFlowCnt>16</overFlowCnt><qurRate>59.80</qurRate><seq>5822</seq><stdDay>2020년 11월 23일 00시</stdDay><updateDt>null</updateDt></item>,\n",
       " <item><createDt>2020-11-22 09:35:42.118</createDt><deathCnt>0</deathCnt><defCnt>2110</defCnt><gubun>검역</gubun><gubunCn>隔離區</gubunCn><gubunEn>Lazaretto</gubunEn><incDec>20</incDec><isolClearCnt>1558</isolClearCnt><isolIngCnt>552</isolIngCnt><localOccCnt>0</localOccCnt><overFlowCnt>20</overFlowCnt><qurRate>-</qurRate><seq>5821</seq><stdDay>2020년 11월 22일 00시</stdDay><updateDt>null</updateDt></item>,\n",
       " <item><createDt>2020-11-22 09:35:42.118</createDt><deathCnt>0</deathCnt><defCnt>65</defCnt><gubun>제주</gubun><gubunCn>济州</gubunCn><gubunEn>Jeju</gubunEn><incDec>0</incDec><isolClearCnt>59</isolClearCnt><isolIngCnt>6</isolIngCnt><localOccCnt>0</localOccCnt><overFlowCnt>0</overFlowCnt><qurRate>9.69</qurRate><seq>5820</seq><stdDay>2020년 11월 22일 00시</stdDay><updateDt>null</updateDt></item>,\n",
       " <item><createDt>2020-11-22 09:35:42.118</createDt><deathCnt>0</deathCnt><defCnt>476</defCnt><gubun>경남</gubun><gubunCn>庆南</gubunCn><gubunEn>Gyeongsangnam-do</gubunEn><incDec>19</incDec><isolClearCnt>350</isolClearCnt><isolIngCnt>126</isolIngCnt><localOccCnt>19</localOccCnt><overFlowCnt>0</overFlowCnt><qurRate>14.16</qurRate><seq>5819</seq><stdDay>2020년 11월 22일 00시</stdDay><updateDt>null</updateDt></item>,\n",
       " <item><createDt>2020-11-22 09:35:42.118</createDt><deathCnt>57</deathCnt><defCnt>1663</defCnt><gubun>경북</gubun><gubunCn>庆北</gubunCn><gubunEn>Gyeongsangbuk-do</gubunEn><incDec>6</incDec><isolClearCnt>1537</isolClearCnt><isolIngCnt>69</isolIngCnt><localOccCnt>6</localOccCnt><overFlowCnt>0</overFlowCnt><qurRate>62.46</qurRate><seq>5818</seq><stdDay>2020년 11월 22일 00시</stdDay><updateDt>null</updateDt></item>,\n",
       " <item><createDt>2020-11-22 09:35:42.118</createDt><deathCnt>2</deathCnt><defCnt>353</defCnt><gubun>전남</gubun><gubunCn>全南</gubunCn><gubunEn>Jeollanam-do</gubunEn><incDec>13</incDec><isolClearCnt>189</isolClearCnt><isolIngCnt>162</isolIngCnt><localOccCnt>13</localOccCnt><overFlowCnt>0</overFlowCnt><qurRate>18.93</qurRate><seq>5817</seq><stdDay>2020년 11월 22일 00시</stdDay><updateDt>null</updateDt></item>,\n",
       " <item><createDt>2020-11-22 09:35:42.118</createDt><deathCnt>1</deathCnt><defCnt>220</defCnt><gubun>전북</gubun><gubunCn>全北</gubunCn><gubunEn>Jeollabuk-do</gubunEn><incDec>12</incDec><isolClearCnt>165</isolClearCnt><isolIngCnt>54</isolIngCnt><localOccCnt>12</localOccCnt><overFlowCnt>0</overFlowCnt><qurRate>12.11</qurRate><seq>5816</seq><stdDay>2020년 11월 22일 00시</stdDay><updateDt>null</updateDt></item>,\n",
       " <item><createDt>2020-11-22 09:35:42.118</createDt><deathCnt>8</deathCnt><defCnt>782</defCnt><gubun>충남</gubun><gubunCn>忠南</gubunCn><gubunEn>Chungcheongnam-do</gubunEn><incDec>13</incDec><isolClearCnt>609</isolClearCnt><isolIngCnt>165</isolIngCnt><localOccCnt>11</localOccCnt><overFlowCnt>2</overFlowCnt><qurRate>36.84</qurRate><seq>5815</seq><stdDay>2020년 11월 22일 00시</stdDay><updateDt>null</updateDt></item>,\n",
       " <item><createDt>2020-11-22 09:35:42.117</createDt><deathCnt>3</deathCnt><defCnt>225</defCnt><gubun>충북</gubun><gubunCn>忠北</gubunCn><gubunEn>Chungcheongbuk-do</gubunEn><incDec>0</incDec><isolClearCnt>196</isolClearCnt><isolIngCnt>26</isolIngCnt><localOccCnt>0</localOccCnt><overFlowCnt>0</overFlowCnt><qurRate>14.07</qurRate><seq>5814</seq><stdDay>2020년 11월 22일 00시</stdDay><updateDt>null</updateDt></item>,\n",
       " <item><createDt>2020-11-22 09:35:42.117</createDt><deathCnt>5</deathCnt><defCnt>504</defCnt><gubun>강원</gubun><gubunCn>江原</gubunCn><gubunEn>Gangwon-do</gubunEn><incDec>13</incDec><isolClearCnt>301</isolClearCnt><isolIngCnt>198</isolIngCnt><localOccCnt>12</localOccCnt><overFlowCnt>1</overFlowCnt><qurRate>32.72</qurRate><seq>5813</seq><stdDay>2020년 11월 22일 00시</stdDay><updateDt>null</updateDt></item>,\n",
       " <item><createDt>2020-11-22 09:35:42.117</createDt><deathCnt>110</deathCnt><defCnt>6442</defCnt><gubun>경기</gubun><gubunCn>京畿</gubunCn><gubunEn>Gyeonggi-do</gubunEn><incDec>75</incDec><isolClearCnt>5514</isolClearCnt><isolIngCnt>818</isolIngCnt><localOccCnt>74</localOccCnt><overFlowCnt>1</overFlowCnt><qurRate>48.62</qurRate><seq>5812</seq><stdDay>2020년 11월 22일 00시</stdDay><updateDt>null</updateDt></item>,\n",
       " <item><createDt>2020-11-22 09:35:42.117</createDt><deathCnt>0</deathCnt><defCnt>86</defCnt><gubun>세종</gubun><gubunCn>世宗</gubunCn><gubunEn>Sejong</gubunEn><incDec>0</incDec><isolClearCnt>82</isolClearCnt><isolIngCnt>4</isolIngCnt><localOccCnt>0</localOccCnt><overFlowCnt>0</overFlowCnt><qurRate>25.12</qurRate><seq>5811</seq><stdDay>2020년 11월 22일 00시</stdDay><updateDt>null</updateDt></item>,\n",
       " <item><createDt>2020-11-22 09:35:42.117</createDt><deathCnt>2</deathCnt><defCnt>172</defCnt><gubun>울산</gubun><gubunCn>蔚山</gubunCn><gubunEn>Ulsan</gubunEn><incDec>1</incDec><isolClearCnt>163</isolClearCnt><isolIngCnt>7</isolIngCnt><localOccCnt>1</localOccCnt><overFlowCnt>0</overFlowCnt><qurRate>15.00</qurRate><seq>5810</seq><stdDay>2020년 11월 22일 00시</stdDay><updateDt>null</updateDt></item>,\n",
       " <item><createDt>2020-11-22 09:35:42.117</createDt><deathCnt>6</deathCnt><defCnt>457</defCnt><gubun>대전</gubun><gubunCn>大田</gubunCn><gubunEn>Daejeon</gubunEn><incDec>0</incDec><isolClearCnt>437</isolClearCnt><isolIngCnt>14</isolIngCnt><localOccCnt>0</localOccCnt><overFlowCnt>0</overFlowCnt><qurRate>31.00</qurRate><seq>5809</seq><stdDay>2020년 11월 22일 00시</stdDay><updateDt>null</updateDt></item>,\n",
       " <item><createDt>2020-11-22 09:35:42.117</createDt><deathCnt>3</deathCnt><defCnt>614</defCnt><gubun>광주</gubun><gubunCn>光州</gubunCn><gubunEn>Gwangju</gubunEn><incDec>8</incDec><isolClearCnt>514</isolClearCnt><isolIngCnt>97</isolIngCnt><localOccCnt>8</localOccCnt><overFlowCnt>0</overFlowCnt><qurRate>42.15</qurRate><seq>5808</seq><stdDay>2020년 11월 22일 00시</stdDay><updateDt>null</updateDt></item>,\n",
       " <item><createDt>2020-11-22 09:35:42.116</createDt><deathCnt>11</deathCnt><defCnt>1206</defCnt><gubun>인천</gubun><gubunCn>仁川</gubunCn><gubunEn>Incheon</gubunEn><incDec>27</incDec><isolClearCnt>1052</isolClearCnt><isolIngCnt>143</isolIngCnt><localOccCnt>26</localOccCnt><overFlowCnt>1</overFlowCnt><qurRate>40.80</qurRate><seq>5807</seq><stdDay>2020년 11월 22일 00시</stdDay><updateDt>null</updateDt></item>,\n",
       " <item><createDt>2020-11-22 09:35:42.116</createDt><deathCnt>197</deathCnt><defCnt>7213</defCnt><gubun>대구</gubun><gubunCn>大邱</gubunCn><gubunEn>Daegu</gubunEn><incDec>1</incDec><isolClearCnt>6986</isolClearCnt><isolIngCnt>30</isolIngCnt><localOccCnt>0</localOccCnt><overFlowCnt>1</overFlowCnt><qurRate>296.04</qurRate><seq>5806</seq><stdDay>2020년 11월 22일 00시</stdDay><updateDt>null</updateDt></item>,\n",
       " <item><createDt>2020-11-22 09:35:42.116</createDt><deathCnt>15</deathCnt><defCnt>632</defCnt><gubun>부산</gubun><gubunCn>釜山</gubunCn><gubunEn>Busan</gubunEn><incDec>1</incDec><isolClearCnt>583</isolClearCnt><isolIngCnt>34</isolIngCnt><localOccCnt>1</localOccCnt><overFlowCnt>0</overFlowCnt><qurRate>18.52</qurRate><seq>5805</seq><stdDay>2020년 11월 22일 00시</stdDay><updateDt>null</updateDt></item>,\n",
       " <item><createDt>2020-11-22 09:35:42.116</createDt><deathCnt>85</deathCnt><defCnt>7513</defCnt><gubun>서울</gubun><gubunCn>首尔</gubunCn><gubunEn>Seoul</gubunEn><incDec>121</incDec><isolClearCnt>6171</isolClearCnt><isolIngCnt>1257</isolIngCnt><localOccCnt>119</localOccCnt><overFlowCnt>2</overFlowCnt><qurRate>77.19</qurRate><seq>5804</seq><stdDay>2020년 11월 22일 00시</stdDay><updateDt>null</updateDt></item>,\n",
       " <item><createDt>2020-11-22 09:35:42.116</createDt><deathCnt>505</deathCnt><defCnt>30733</defCnt><gubun>합계</gubun><gubunCn>合计</gubunCn><gubunEn>Total</gubunEn><incDec>330</incDec><isolClearCnt>26466</isolClearCnt><isolIngCnt>3762</isolIngCnt><localOccCnt>302</localOccCnt><overFlowCnt>28</overFlowCnt><qurRate>59.28</qurRate><seq>5803</seq><stdDay>2020년 11월 22일 00시</stdDay><updateDt>null</updateDt></item>,\n",
       " <item><createDt>2020-11-21 09:44:25.227</createDt><deathCnt>0</deathCnt><defCnt>2090</defCnt><gubun>검역</gubun><gubunCn>隔離區</gubunCn><gubunEn>Lazaretto</gubunEn><incDec>9</incDec><isolClearCnt>1556</isolClearCnt><isolIngCnt>534</isolIngCnt><localOccCnt>0</localOccCnt><overFlowCnt>9</overFlowCnt><qurRate>-</qurRate><seq>5802</seq><stdDay>2020년 11월 21일 00시</stdDay><updateDt>null</updateDt></item>,\n",
       " <item><createDt>2020-11-21 09:44:25.227</createDt><deathCnt>0</deathCnt><defCnt>65</defCnt><gubun>제주</gubun><gubunCn>济州</gubunCn><gubunEn>Jeju</gubunEn><incDec>0</incDec><isolClearCnt>59</isolClearCnt><isolIngCnt>6</isolIngCnt><localOccCnt>0</localOccCnt><overFlowCnt>0</overFlowCnt><qurRate>9.69</qurRate><seq>5801</seq><stdDay>2020년 11월 21일 00시</stdDay><updateDt>null</updateDt></item>,\n",
       " <item><createDt>2020-11-21 09:44:25.227</createDt><deathCnt>0</deathCnt><defCnt>457</defCnt><gubun>경남</gubun><gubunCn>庆南</gubunCn><gubunEn>Gyeongsangnam-do</gubunEn><incDec>11</incDec><isolClearCnt>342</isolClearCnt><isolIngCnt>115</isolIngCnt><localOccCnt>11</localOccCnt><overFlowCnt>0</overFlowCnt><qurRate>13.60</qurRate><seq>5800</seq><stdDay>2020년 11월 21일 00시</stdDay><updateDt>null</updateDt></item>,\n",
       " <item><createDt>2020-11-21 09:44:25.226</createDt><deathCnt>57</deathCnt><defCnt>1657</defCnt><gubun>경북</gubun><gubunCn>庆北</gubunCn><gubunEn>Gyeongsangbuk-do</gubunEn><incDec>8</incDec><isolClearCnt>1535</isolClearCnt><isolIngCnt>65</isolIngCnt><localOccCnt>8</localOccCnt><overFlowCnt>0</overFlowCnt><qurRate>62.23</qurRate><seq>5799</seq><stdDay>2020년 11월 21일 00시</stdDay><updateDt>null</updateDt></item>,\n",
       " <item><createDt>2020-11-21 09:44:25.226</createDt><deathCnt>2</deathCnt><defCnt>340</defCnt><gubun>전남</gubun><gubunCn>全南</gubunCn><gubunEn>Jeollanam-do</gubunEn><incDec>19</incDec><isolClearCnt>189</isolClearCnt><isolIngCnt>149</isolIngCnt><localOccCnt>18</localOccCnt><overFlowCnt>1</overFlowCnt><qurRate>18.23</qurRate><seq>5798</seq><stdDay>2020년 11월 21일 00시</stdDay><updateDt>null</updateDt></item>,\n",
       " <item><createDt>2020-11-21 09:44:25.226</createDt><deathCnt>1</deathCnt><defCnt>208</defCnt><gubun>전북</gubun><gubunCn>全北</gubunCn><gubunEn>Jeollabuk-do</gubunEn><incDec>14</incDec><isolClearCnt>165</isolClearCnt><isolIngCnt>42</isolIngCnt><localOccCnt>13</localOccCnt><overFlowCnt>1</overFlowCnt><qurRate>11.45</qurRate><seq>5797</seq><stdDay>2020년 11월 21일 00시</stdDay><updateDt>null</updateDt></item>,\n",
       " <item><createDt>2020-11-21 09:44:25.226</createDt><deathCnt>8</deathCnt><defCnt>769</defCnt><gubun>충남</gubun><gubunCn>忠南</gubunCn><gubunEn>Chungcheongnam-do</gubunEn><incDec>21</incDec><isolClearCnt>598</isolClearCnt><isolIngCnt>163</isolIngCnt><localOccCnt>19</localOccCnt><overFlowCnt>2</overFlowCnt><qurRate>36.23</qurRate><seq>5796</seq><stdDay>2020년 11월 21일 00시</stdDay><updateDt>null</updateDt></item>,\n",
       " <item><createDt>2020-11-21 09:44:25.226</createDt><deathCnt>3</deathCnt><defCnt>225</defCnt><gubun>충북</gubun><gubunCn>忠北</gubunCn><gubunEn>Chungcheongbuk-do</gubunEn><incDec>1</incDec><isolClearCnt>194</isolClearCnt><isolIngCnt>28</isolIngCnt><localOccCnt>1</localOccCnt><overFlowCnt>0</overFlowCnt><qurRate>14.07</qurRate><seq>5795</seq><stdDay>2020년 11월 21일 00시</stdDay><updateDt>null</updateDt></item>,\n",
       " <item><createDt>2020-11-21 09:44:25.226</createDt><deathCnt>5</deathCnt><defCnt>491</defCnt><gubun>강원</gubun><gubunCn>江原</gubunCn><gubunEn>Gangwon-do</gubunEn><incDec>15</incDec><isolClearCnt>295</isolClearCnt><isolIngCnt>191</isolIngCnt><localOccCnt>14</localOccCnt><overFlowCnt>1</overFlowCnt><qurRate>31.87</qurRate><seq>5794</seq><stdDay>2020년 11월 21일 00시</stdDay><updateDt>null</updateDt></item>,\n",
       " <item><createDt>2020-11-21 09:44:25.226</createDt><deathCnt>108</deathCnt><defCnt>6367</defCnt><gubun>경기</gubun><gubunCn>京畿</gubunCn><gubunEn>Gyeonggi-do</gubunEn><incDec>93</incDec><isolClearCnt>5486</isolClearCnt><isolIngCnt>773</isolIngCnt><localOccCnt>86</localOccCnt><overFlowCnt>7</overFlowCnt><qurRate>48.05</qurRate><seq>5793</seq><stdDay>2020년 11월 21일 00시</stdDay><updateDt>null</updateDt></item>,\n",
       " <item><createDt>2020-11-21 09:44:25.226</createDt><deathCnt>0</deathCnt><defCnt>86</defCnt><gubun>세종</gubun><gubunCn>世宗</gubunCn><gubunEn>Sejong</gubunEn><incDec>0</incDec><isolClearCnt>82</isolClearCnt><isolIngCnt>4</isolIngCnt><localOccCnt>0</localOccCnt><overFlowCnt>0</overFlowCnt><qurRate>25.12</qurRate><seq>5792</seq><stdDay>2020년 11월 21일 00시</stdDay><updateDt>null</updateDt></item>,\n",
       " <item><createDt>2020-11-21 09:44:25.225</createDt><deathCnt>2</deathCnt><defCnt>171</defCnt><gubun>울산</gubun><gubunCn>蔚山</gubunCn><gubunEn>Ulsan</gubunEn><incDec>1</incDec><isolClearCnt>163</isolClearCnt><isolIngCnt>6</isolIngCnt><localOccCnt>1</localOccCnt><overFlowCnt>0</overFlowCnt><qurRate>14.91</qurRate><seq>5791</seq><stdDay>2020년 11월 21일 00시</stdDay><updateDt>null</updateDt></item>,\n",
       " <item><createDt>2020-11-21 09:44:25.225</createDt><deathCnt>6</deathCnt><defCnt>457</defCnt><gubun>대전</gubun><gubunCn>大田</gubunCn><gubunEn>Daejeon</gubunEn><incDec>1</incDec><isolClearCnt>437</isolClearCnt><isolIngCnt>14</isolIngCnt><localOccCnt>1</localOccCnt><overFlowCnt>0</overFlowCnt><qurRate>31.00</qurRate><seq>5790</seq><stdDay>2020년 11월 21일 00시</stdDay><updateDt>null</updateDt></item>,\n",
       " <item><createDt>2020-11-21 09:44:25.225</createDt><deathCnt>3</deathCnt><defCnt>606</defCnt><gubun>광주</gubun><gubunCn>光州</gubunCn><gubunEn>Gwangju</gubunEn><incDec>7</incDec><isolClearCnt>514</isolClearCnt><isolIngCnt>89</isolIngCnt><localOccCnt>6</localOccCnt><overFlowCnt>1</overFlowCnt><qurRate>41.60</qurRate><seq>5789</seq><stdDay>2020년 11월 21일 00시</stdDay><updateDt>null</updateDt></item>,\n",
       " <item><createDt>2020-11-21 09:44:25.225</createDt><deathCnt>11</deathCnt><defCnt>1179</defCnt><gubun>인천</gubun><gubunCn>仁川</gubunCn><gubunEn>Incheon</gubunEn><incDec>22</incDec><isolClearCnt>1051</isolClearCnt><isolIngCnt>117</isolIngCnt><localOccCnt>22</localOccCnt><overFlowCnt>0</overFlowCnt><qurRate>39.88</qurRate><seq>5788</seq><stdDay>2020년 11월 21일 00시</stdDay><updateDt>null</updateDt></item>,\n",
       " <item><createDt>2020-11-21 09:44:25.225</createDt><deathCnt>197</deathCnt><defCnt>7212</defCnt><gubun>대구</gubun><gubunCn>大邱</gubunCn><gubunEn>Daegu</gubunEn><incDec>1</incDec><isolClearCnt>6983</isolClearCnt><isolIngCnt>32</isolIngCnt><localOccCnt>0</localOccCnt><overFlowCnt>1</overFlowCnt><qurRate>296.00</qurRate><seq>5787</seq><stdDay>2020년 11월 21일 00시</stdDay><updateDt>null</updateDt></item>,\n",
       " <item><createDt>2020-11-21 09:44:25.225</createDt><deathCnt>15</deathCnt><defCnt>631</defCnt><gubun>부산</gubun><gubunCn>釜山</gubunCn><gubunEn>Busan</gubunEn><incDec>7</incDec><isolClearCnt>580</isolClearCnt><isolIngCnt>36</isolIngCnt><localOccCnt>7</localOccCnt><overFlowCnt>0</overFlowCnt><qurRate>18.49</qurRate><seq>5786</seq><stdDay>2020년 11월 21일 00시</stdDay><updateDt>null</updateDt></item>,\n",
       " <item><createDt>2020-11-21 09:44:25.224</createDt><deathCnt>85</deathCnt><defCnt>7392</defCnt><gubun>서울</gubun><gubunCn>首尔</gubunCn><gubunEn>Seoul</gubunEn><incDec>156</incDec><isolClearCnt>6136</isolClearCnt><isolIngCnt>1171</isolIngCnt><localOccCnt>154</localOccCnt><overFlowCnt>2</overFlowCnt><qurRate>75.94</qurRate><seq>5785</seq><stdDay>2020년 11월 21일 00시</stdDay><updateDt>null</updateDt></item>,\n",
       " <item><createDt>2020-11-21 09:44:25.224</createDt><deathCnt>503</deathCnt><defCnt>30403</defCnt><gubun>합계</gubun><gubunCn>合计</gubunCn><gubunEn>Total</gubunEn><incDec>386</incDec><isolClearCnt>26365</isolClearCnt><isolIngCnt>3535</isolIngCnt><localOccCnt>361</localOccCnt><overFlowCnt>25</overFlowCnt><qurRate>58.64</qurRate><seq>5784</seq><stdDay>2020년 11월 21일 00시</stdDay><updateDt>null</updateDt></item>]"
      ]
     },
     "metadata": {},
     "execution_count": 9
    }
   ],
   "source": [
    "\"\"\"cosi = soup.find_all('item')\n",
    "cosi\"\"\""
   ]
  },
  {
   "cell_type": "code",
   "execution_count": 10,
   "metadata": {},
   "outputs": [
    {
     "output_type": "execute_result",
     "data": {
      "text/plain": [
       "230"
      ]
     },
     "metadata": {},
     "execution_count": 10
    }
   ],
   "source": [
    "len(cosi)"
   ]
  },
  {
   "cell_type": "code",
   "execution_count": 11,
   "metadata": {},
   "outputs": [
    {
     "output_type": "execute_result",
     "data": {
      "text/plain": [
       "'2020-11-30 14:29:36.528'"
      ]
     },
     "metadata": {},
     "execution_count": 11
    }
   ],
   "source": [
    "\"\"\"dfcr = cosi[0].find('createDt').get_text()\n",
    "dfcr\"\"\""
   ]
  },
  {
   "cell_type": "code",
   "execution_count": 12,
   "metadata": {},
   "outputs": [
    {
     "output_type": "stream",
     "name": "stdout",
     "text": [
      "시도명:검역, 전일대비증감:10, 격리해제수:1618, 10만명당발생율:-, 기준일시: 2020년 11월 30일 00시\n확진자수:21301, 격리중환자수:512, 해외유입수:10, 지역발생수:0\n"
     ]
    }
   ],
   "source": [
    "\"\"\"dfgu = cosi[0].find('gubun').get_text()\n",
    "dfin = cosi[0].find('incDec').get_text()\n",
    "dfis = cosi[0].find('isolClearCnt').get_text()\n",
    "dfqu = cosi[0].find('qurRate').get_text()\n",
    "dfst = cosi[0].find('stdDay').get_text()\n",
    "dfde = cosi[0].find('defCnt').get_text()\n",
    "dfiic = cosi[0].find('isolIngCnt').get_text()\n",
    "dfov = cosi[0].find('overFlowCnt').get_text()\n",
    "dflo = cosi[0].find('localOccCnt').get_text()\n",
    "print(f'시도명:{dfgu}, 전일대비증감:{dfin}, 격리해제수:{dfis}, 10만명당발생율:{dfqu}, 기준일시: {dfst}')\n",
    "print(f'확진자수:{dfde}, 격리중환자수:{dfiic}, 해외유입수:{dfov}, 지역발생수:{dflo}')\"\"\""
   ]
  },
  {
   "cell_type": "code",
   "execution_count": 13,
   "metadata": {},
   "outputs": [],
   "source": [
    "\"\"\"dfcr_list = []; dfgu_list = []; dfin_list = []\n",
    "dfis_list = []; dfqu_list = []; dfst_list = []\n",
    "dfde_list =[]; dfiic_list = []; dfov_list = []; dflo_list = []\n",
    "cosi = soup.find_all('item')\"\"\""
   ]
  },
  {
   "cell_type": "code",
   "execution_count": 14,
   "metadata": {},
   "outputs": [
    {
     "output_type": "stream",
     "name": "stdout",
     "text": [
      "2020-11-30 14:29:36.528 검역\n2020-11-30 14:29:36.528 검역\n2020-11-30 14:29:36.528 제주\n2020-11-30 14:29:36.527 경남\n2020-11-30 14:29:36.527 경북\n2020-11-30 14:29:36.527 전남\n2020-11-30 14:29:36.527 전북\n2020-11-30 14:29:36.527 충남\n2020-11-30 14:29:36.527 충북\n2020-11-30 14:29:36.527 강원\n2020-11-30 14:29:36.526 경기\n2020-11-30 14:29:36.526 세종\n2020-11-30 14:29:36.526 울산\n2020-11-30 14:29:36.526 대전\n2020-11-30 14:29:36.526 광주\n2020-11-30 14:29:36.526 인천\n2020-11-30 14:29:36.525 대구\n2020-11-30 14:29:36.525 부산\n2020-11-30 14:29:36.525 서울\n2020-11-30 14:29:36.525 합계\n2020-11-30 14:29:36.525 합계\n2020-11-29 14:14:46.518 검역\n2020-11-29 14:14:46.518 제주\n2020-11-29 14:14:46.518 경남\n2020-11-29 14:14:46.518 경북\n2020-11-29 14:14:46.518 전남\n2020-11-29 14:14:46.518 전북\n2020-11-29 14:14:46.518 충남\n2020-11-29 14:14:46.517 충북\n2020-11-29 14:14:46.517 강원\n2020-11-29 14:14:46.517 경기\n2020-11-29 14:14:46.517 세종\n2020-11-29 14:14:46.517 울산\n2020-11-29 14:14:46.517 대전\n2020-11-29 14:14:46.517 광주\n2020-11-29 14:14:46.516 인천\n2020-11-29 14:14:46.516 대구\n2020-11-29 14:14:46.516 부산\n2020-11-29 14:14:46.516 서울\n2020-11-29 14:14:46.516 합계\n2020-11-29 09:42:34.126 검역\n2020-11-29 09:42:34.126 제주\n2020-11-29 09:42:34.126 경남\n2020-11-29 09:42:34.126 경북\n2020-11-29 09:42:34.126 전남\n2020-11-29 09:42:34.126 전북\n2020-11-29 09:42:34.125 충남\n2020-11-29 09:42:34.125 충북\n2020-11-29 09:42:34.125 강원\n2020-11-29 09:42:34.125 경기\n2020-11-29 09:42:34.125 세종\n2020-11-29 09:42:34.125 울산\n2020-11-29 09:42:34.125 대전\n2020-11-29 09:42:34.125 광주\n2020-11-29 09:42:34.124 인천\n2020-11-29 09:42:34.124 대구\n2020-11-29 09:42:34.124 부산\n2020-11-29 09:42:34.124 서울\n2020-11-29 09:42:34.124 합계\n2020-11-28 09:39:41.798 검역\n2020-11-28 09:39:41.798 제주\n2020-11-28 09:39:41.798 경남\n2020-11-28 09:39:41.798 경북\n2020-11-28 09:39:41.797 전남\n2020-11-28 09:39:41.797 전북\n2020-11-28 09:39:41.797 충남\n2020-11-28 09:39:41.797 충북\n2020-11-28 09:39:41.797 강원\n2020-11-28 09:39:41.797 경기\n2020-11-28 09:39:41.797 세종\n2020-11-28 09:39:41.796 울산\n2020-11-28 09:39:41.796 대전\n2020-11-28 09:39:41.796 광주\n2020-11-28 09:39:41.796 인천\n2020-11-28 09:39:41.796 대구\n2020-11-28 09:39:41.796 부산\n2020-11-28 09:39:41.795 서울\n2020-11-28 09:39:41.795 합계\n2020-11-27 09:39:51.818 검역\n2020-11-27 09:39:51.818 제주\n2020-11-27 09:39:51.818 경남\n2020-11-27 09:39:51.818 경북\n2020-11-27 09:39:51.818 전남\n2020-11-27 09:39:51.818 전북\n2020-11-27 09:39:51.818 충남\n2020-11-27 09:39:51.818 충북\n2020-11-27 09:39:51.817 강원\n2020-11-27 09:39:51.817 경기\n2020-11-27 09:39:51.817 세종\n2020-11-27 09:39:51.817 울산\n2020-11-27 09:39:51.817 대전\n2020-11-27 09:39:51.817 광주\n2020-11-27 09:39:51.817 인천\n2020-11-27 09:39:51.816 대구\n2020-11-27 09:39:51.816 부산\n2020-11-27 09:39:51.816 서울\n2020-11-27 09:39:51.816 합계\n2020-11-26 09:50:25.395 검역\n2020-11-26 09:50:25.395 제주\n2020-11-26 09:50:25.395 경남\n2020-11-26 09:50:25.395 경북\n2020-11-26 09:50:25.395 전남\n2020-11-26 09:50:25.395 전북\n2020-11-26 09:50:25.395 충남\n2020-11-26 09:50:25.394 충북\n2020-11-26 09:50:25.394 강원\n2020-11-26 09:50:25.394 경기\n2020-11-26 09:50:25.394 세종\n2020-11-26 09:50:25.394 울산\n2020-11-26 09:50:25.394 대전\n2020-11-26 09:50:25.394 광주\n2020-11-26 09:50:25.393 인천\n2020-11-26 09:50:25.393 대구\n2020-11-26 09:50:25.393 부산\n2020-11-26 09:50:25.393 서울\n2020-11-26 09:50:25.393 합계\n2020-11-25 16:50:24.794 검역\n2020-11-25 16:50:24.793 제주\n2020-11-25 16:50:24.793 경남\n2020-11-25 16:50:24.793 경북\n2020-11-25 16:50:24.793 전남\n2020-11-25 16:50:24.793 전북\n2020-11-25 16:50:24.793 충남\n2020-11-25 16:50:24.793 충북\n2020-11-25 16:50:24.793 강원\n2020-11-25 16:50:24.792 경기\n2020-11-25 16:50:24.792 세종\n2020-11-25 16:50:24.792 울산\n2020-11-25 16:50:24.791 대전\n2020-11-25 16:50:24.791 광주\n2020-11-25 16:50:24.791 인천\n2020-11-25 16:50:24.791 대구\n2020-11-25 16:50:24.791 부산\n2020-11-25 16:50:24.791 서울\n2020-11-25 16:50:24.791 합계\n2020-11-25 09:48:19.563 검역\n2020-11-25 09:48:19.563 제주\n2020-11-25 09:48:19.562 경남\n2020-11-25 09:48:19.562 경북\n2020-11-25 09:48:19.562 전남\n2020-11-25 09:48:19.562 전북\n2020-11-25 09:48:19.562 충남\n2020-11-25 09:48:19.561 충북\n2020-11-25 09:48:19.561 강원\n2020-11-25 09:48:19.561 경기\n2020-11-25 09:48:19.561 세종\n2020-11-25 09:48:19.561 울산\n2020-11-25 09:48:19.561 대전\n2020-11-25 09:48:19.561 광주\n2020-11-25 09:48:19.561 인천\n2020-11-25 09:48:19.56 대구\n2020-11-25 09:48:19.56 부산\n2020-11-25 09:48:19.56 서울\n2020-11-25 09:48:19.56 합계\n2020-11-24 09:34:46.909 검역\n2020-11-24 09:34:46.909 제주\n2020-11-24 09:34:46.909 경남\n2020-11-24 09:34:46.908 경북\n2020-11-24 09:34:46.908 전남\n2020-11-24 09:34:46.908 전북\n2020-11-24 09:34:46.908 충남\n2020-11-24 09:34:46.908 충북\n2020-11-24 09:34:46.908 강원\n2020-11-24 09:34:46.908 경기\n2020-11-24 09:34:46.908 세종\n2020-11-24 09:34:46.908 울산\n2020-11-24 09:34:46.907 대전\n2020-11-24 09:34:46.907 광주\n2020-11-24 09:34:46.907 인천\n2020-11-24 09:34:46.907 대구\n2020-11-24 09:34:46.907 부산\n2020-11-24 09:34:46.907 서울\n2020-11-24 09:34:46.907 합계\n2020-11-23 09:33:42.566 검역\n2020-11-23 09:33:42.566 제주\n2020-11-23 09:33:42.566 경남\n2020-11-23 09:33:42.566 경북\n2020-11-23 09:33:42.566 전남\n2020-11-23 09:33:42.565 전북\n2020-11-23 09:33:42.565 충남\n2020-11-23 09:33:42.565 충북\n2020-11-23 09:33:42.565 강원\n2020-11-23 09:33:42.565 경기\n2020-11-23 09:33:42.565 세종\n2020-11-23 09:33:42.565 울산\n2020-11-23 09:33:42.565 대전\n2020-11-23 09:33:42.565 광주\n2020-11-23 09:33:42.564 인천\n2020-11-23 09:33:42.564 대구\n2020-11-23 09:33:42.564 부산\n2020-11-23 09:33:42.564 서울\n2020-11-23 09:33:42.564 합계\n2020-11-22 09:35:42.118 검역\n2020-11-22 09:35:42.118 제주\n2020-11-22 09:35:42.118 경남\n2020-11-22 09:35:42.118 경북\n2020-11-22 09:35:42.118 전남\n2020-11-22 09:35:42.118 전북\n2020-11-22 09:35:42.118 충남\n2020-11-22 09:35:42.117 충북\n2020-11-22 09:35:42.117 강원\n2020-11-22 09:35:42.117 경기\n2020-11-22 09:35:42.117 세종\n2020-11-22 09:35:42.117 울산\n2020-11-22 09:35:42.117 대전\n2020-11-22 09:35:42.117 광주\n2020-11-22 09:35:42.116 인천\n2020-11-22 09:35:42.116 대구\n2020-11-22 09:35:42.116 부산\n2020-11-22 09:35:42.116 서울\n2020-11-22 09:35:42.116 합계\n2020-11-21 09:44:25.227 검역\n2020-11-21 09:44:25.227 제주\n2020-11-21 09:44:25.227 경남\n2020-11-21 09:44:25.226 경북\n2020-11-21 09:44:25.226 전남\n2020-11-21 09:44:25.226 전북\n2020-11-21 09:44:25.226 충남\n2020-11-21 09:44:25.226 충북\n2020-11-21 09:44:25.226 강원\n2020-11-21 09:44:25.226 경기\n2020-11-21 09:44:25.226 세종\n2020-11-21 09:44:25.225 울산\n2020-11-21 09:44:25.225 대전\n2020-11-21 09:44:25.225 광주\n2020-11-21 09:44:25.225 인천\n2020-11-21 09:44:25.225 대구\n2020-11-21 09:44:25.225 부산\n2020-11-21 09:44:25.224 서울\n2020-11-21 09:44:25.224 합계\n"
     ]
    }
   ],
   "source": [
    "\"\"\"for co in cosi:\n",
    "    dfcr = co.find('createDt').get_text()\n",
    "    dfgu = co.find('gubun').get_text()\n",
    "    dfin = co.find('incDec').get_text()\n",
    "    dfis = co.find('isolClearCnt').get_text()\n",
    "    dfqu = co.find('qurRate').get_text()\n",
    "    dfst = co.find('stdDay').get_text()\n",
    "    dfde = co.find('defCnt').get_text()\n",
    "    dfiic = co.find('isolIngCnt').get_text()\n",
    "    dfov = co.find('overFlowCnt').get_text()\n",
    "    dflo = co.find('localOccCnt').get_text()\n",
    "    print(dfcr,dfgu)\n",
    "\n",
    "    dfcr_list.append(dfcr)\n",
    "    dfgu_list.append(dfgu)\n",
    "    dfin_list.append(dfin)\n",
    "    dfis_list.append(dfis)\n",
    "    dfqu_list.append(dfqu)\n",
    "    dfst_list.append(dfst)\n",
    "    dfde_list.append(dfde)\n",
    "    dfiic_list.append(dfiic)\n",
    "    dfov_list.append(dfov)\n",
    "    dflo_list.append(dflo)\"\"\""
   ]
  },
  {
   "cell_type": "code",
   "execution_count": 15,
   "metadata": {},
   "outputs": [
    {
     "output_type": "execute_result",
     "data": {
      "text/plain": [
       "                        등록일시 시도명 전일대비증감수  격리해제수  만명당발생율               기준일시  \\\n",
       "0    2020-11-30 14:29:36.528  검역      10   1618       -  2020년 11월 30일 00시   \n",
       "1    2020-11-30 14:29:36.528  검역      10   1618       -  2020년 11월 30일 00시   \n",
       "2    2020-11-30 14:29:36.528  제주       1     60   11.93  2020년 11월 30일 00시   \n",
       "3    2020-11-30 14:29:36.527  경남      20    388   18.59  2020년 11월 30일 00시   \n",
       "4    2020-11-30 14:29:36.527  경북       4   1560   64.00  2020년 11월 30일 00시   \n",
       "..                       ...  ..     ...    ...     ...                ...   \n",
       "225  2020-11-21 09:44:25.225  인천      22   1051   39.88  2020년 11월 21일 00시   \n",
       "226  2020-11-21 09:44:25.225  대구       1   6983  296.00  2020년 11월 21일 00시   \n",
       "227  2020-11-21 09:44:25.225  부산       7    580   18.49  2020년 11월 21일 00시   \n",
       "228  2020-11-21 09:44:25.224  서울     156   6136   75.94  2020년 11월 21일 00시   \n",
       "229  2020-11-21 09:44:25.224  합계     386  26365   58.64  2020년 11월 21일 00시   \n",
       "\n",
       "      확진자수 격리중환자수 해외유입수 지역발생수  \n",
       "0    21301    512    10     0  \n",
       "1     2130    512    10     0  \n",
       "2       80     20     1     0  \n",
       "3      625    236     1    19  \n",
       "4     1704     87     0     4  \n",
       "..     ...    ...   ...   ...  \n",
       "225   1179    117     0    22  \n",
       "226   7212     32     1     0  \n",
       "227    631     36     0     7  \n",
       "228   7392   1171     2   154  \n",
       "229  30403   3535    25   361  \n",
       "\n",
       "[230 rows x 10 columns]"
      ],
      "text/html": "<div>\n<style scoped>\n    .dataframe tbody tr th:only-of-type {\n        vertical-align: middle;\n    }\n\n    .dataframe tbody tr th {\n        vertical-align: top;\n    }\n\n    .dataframe thead th {\n        text-align: right;\n    }\n</style>\n<table border=\"1\" class=\"dataframe\">\n  <thead>\n    <tr style=\"text-align: right;\">\n      <th></th>\n      <th>등록일시</th>\n      <th>시도명</th>\n      <th>전일대비증감수</th>\n      <th>격리해제수</th>\n      <th>만명당발생율</th>\n      <th>기준일시</th>\n      <th>확진자수</th>\n      <th>격리중환자수</th>\n      <th>해외유입수</th>\n      <th>지역발생수</th>\n    </tr>\n  </thead>\n  <tbody>\n    <tr>\n      <th>0</th>\n      <td>2020-11-30 14:29:36.528</td>\n      <td>검역</td>\n      <td>10</td>\n      <td>1618</td>\n      <td>-</td>\n      <td>2020년 11월 30일 00시</td>\n      <td>21301</td>\n      <td>512</td>\n      <td>10</td>\n      <td>0</td>\n    </tr>\n    <tr>\n      <th>1</th>\n      <td>2020-11-30 14:29:36.528</td>\n      <td>검역</td>\n      <td>10</td>\n      <td>1618</td>\n      <td>-</td>\n      <td>2020년 11월 30일 00시</td>\n      <td>2130</td>\n      <td>512</td>\n      <td>10</td>\n      <td>0</td>\n    </tr>\n    <tr>\n      <th>2</th>\n      <td>2020-11-30 14:29:36.528</td>\n      <td>제주</td>\n      <td>1</td>\n      <td>60</td>\n      <td>11.93</td>\n      <td>2020년 11월 30일 00시</td>\n      <td>80</td>\n      <td>20</td>\n      <td>1</td>\n      <td>0</td>\n    </tr>\n    <tr>\n      <th>3</th>\n      <td>2020-11-30 14:29:36.527</td>\n      <td>경남</td>\n      <td>20</td>\n      <td>388</td>\n      <td>18.59</td>\n      <td>2020년 11월 30일 00시</td>\n      <td>625</td>\n      <td>236</td>\n      <td>1</td>\n      <td>19</td>\n    </tr>\n    <tr>\n      <th>4</th>\n      <td>2020-11-30 14:29:36.527</td>\n      <td>경북</td>\n      <td>4</td>\n      <td>1560</td>\n      <td>64.00</td>\n      <td>2020년 11월 30일 00시</td>\n      <td>1704</td>\n      <td>87</td>\n      <td>0</td>\n      <td>4</td>\n    </tr>\n    <tr>\n      <th>...</th>\n      <td>...</td>\n      <td>...</td>\n      <td>...</td>\n      <td>...</td>\n      <td>...</td>\n      <td>...</td>\n      <td>...</td>\n      <td>...</td>\n      <td>...</td>\n      <td>...</td>\n    </tr>\n    <tr>\n      <th>225</th>\n      <td>2020-11-21 09:44:25.225</td>\n      <td>인천</td>\n      <td>22</td>\n      <td>1051</td>\n      <td>39.88</td>\n      <td>2020년 11월 21일 00시</td>\n      <td>1179</td>\n      <td>117</td>\n      <td>0</td>\n      <td>22</td>\n    </tr>\n    <tr>\n      <th>226</th>\n      <td>2020-11-21 09:44:25.225</td>\n      <td>대구</td>\n      <td>1</td>\n      <td>6983</td>\n      <td>296.00</td>\n      <td>2020년 11월 21일 00시</td>\n      <td>7212</td>\n      <td>32</td>\n      <td>1</td>\n      <td>0</td>\n    </tr>\n    <tr>\n      <th>227</th>\n      <td>2020-11-21 09:44:25.225</td>\n      <td>부산</td>\n      <td>7</td>\n      <td>580</td>\n      <td>18.49</td>\n      <td>2020년 11월 21일 00시</td>\n      <td>631</td>\n      <td>36</td>\n      <td>0</td>\n      <td>7</td>\n    </tr>\n    <tr>\n      <th>228</th>\n      <td>2020-11-21 09:44:25.224</td>\n      <td>서울</td>\n      <td>156</td>\n      <td>6136</td>\n      <td>75.94</td>\n      <td>2020년 11월 21일 00시</td>\n      <td>7392</td>\n      <td>1171</td>\n      <td>2</td>\n      <td>154</td>\n    </tr>\n    <tr>\n      <th>229</th>\n      <td>2020-11-21 09:44:25.224</td>\n      <td>합계</td>\n      <td>386</td>\n      <td>26365</td>\n      <td>58.64</td>\n      <td>2020년 11월 21일 00시</td>\n      <td>30403</td>\n      <td>3535</td>\n      <td>25</td>\n      <td>361</td>\n    </tr>\n  </tbody>\n</table>\n<p>230 rows × 10 columns</p>\n</div>"
     },
     "metadata": {},
     "execution_count": 15
    }
   ],
   "source": [
    "\"\"\"df = pd.DataFrame({\n",
    "    '등록일시': dfcr_list,\n",
    "    '시도명': dfgu_list,\n",
    "    '전일대비증감수' : dfin_list,\n",
    "    '격리해제수': dfis_list,\n",
    "    '만명당발생율': dfqu_list,\n",
    "    '기준일시': dfst_list,\n",
    "    '확진자수': dfde_list,\n",
    "    '격리중환자수': dfiic_list,\n",
    "    '해외유입수': dfov_list,\n",
    "    '지역발생수': dflo_list\n",
    "})\n",
    "df\"\"\""
   ]
  },
  {
   "cell_type": "code",
   "execution_count": 41,
   "metadata": {},
   "outputs": [],
   "source": [
    "# df.to_excel('./results/전국코로나원본.xlsx')"
   ]
  },
  {
   "cell_type": "code",
   "execution_count": 16,
   "metadata": {},
   "outputs": [],
   "source": [
    "from tqdm import tqdm_notebook\n",
    "mw_list = {3:31, 4:30, 5:31, 6:30, 7:31, 8:31, 9:30, 10:31, 11:30}"
   ]
  },
  {
   "cell_type": "code",
   "execution_count": 17,
   "metadata": {},
   "outputs": [],
   "source": [
    "mwo_list = {10:4, 11:4}"
   ]
  },
  {
   "cell_type": "code",
   "execution_count": 18,
   "metadata": {},
   "outputs": [
    {
     "output_type": "stream",
     "name": "stdout",
     "text": [
      "2020301-2020331\n2020401-2020430\n2020501-2020531\n2020601-2020630\n2020701-2020731\n2020801-2020831\n2020901-2020930\n20201001-20201031\n20201101-20201130\n"
     ]
    }
   ],
   "source": [
    "for j,k in mw_list.items():\n",
    "    start_date = f'2020{j}01'\n",
    "    end_date = f'2020{j}{k}'\n",
    "    print(start_date+'-' +end_date)"
   ]
  },
  {
   "cell_type": "code",
   "execution_count": 19,
   "metadata": {},
   "outputs": [
    {
     "output_type": "execute_result",
     "data": {
      "text/plain": [
       "\"for j,k in tqdm_notebook(mwo_list.items()):\\n    mo = j if j >= j else f'0{j}'\\n    print(mo)\\n    for i in range(1, k+1):\\n        day =  f'0{i}' if k >= i else f'{k}'\\n        data1 = f'{mo}{day}'\\n        a_dict = {'일자':f'2020{data1}', '서울':0, '부산':0, '대구':0}\\n        number = a_dict.keys()\\n        print(f'{day} /{data1}/{a_dict}/{number}')\\n        # print(f'{a_dict}')\""
      ]
     },
     "metadata": {},
     "execution_count": 19
    }
   ],
   "source": [
    "\"\"\"for j,k in tqdm_notebook(mwo_list.items()):\n",
    "    mo = j if j >= j else f'0{j}'\n",
    "    print(mo)\n",
    "    for i in range(1, k+1):\n",
    "        day =  f'0{i}' if k >= i else f'{k}'\n",
    "        data1 = f'{mo}{day}'\n",
    "        a_dict = {'일자':f'2020{data1}', '서울':0, '부산':0, '대구':0}\n",
    "        number = a_dict.keys()\n",
    "        print(f'{day} /{data1}/{a_dict}/{number}')\n",
    "        # print(f'{a_dict}')\"\"\""
   ]
  },
  {
   "cell_type": "code",
   "execution_count": 20,
   "metadata": {},
   "outputs": [],
   "source": [
    "from datetime import datetime, timedelta"
   ]
  },
  {
   "cell_type": "code",
   "execution_count": 21,
   "metadata": {},
   "outputs": [],
   "source": [
    "import datetime"
   ]
  },
  {
   "cell_type": "code",
   "execution_count": 22,
   "metadata": {},
   "outputs": [
    {
     "output_type": "stream",
     "name": "stdout",
     "text": [
      "2020-11-01\n2020-11-02\n2020-11-03\n"
     ]
    }
   ],
   "source": [
    "day_delta = datetime.timedelta(days=1)\n",
    "\n",
    "start_date = datetime.date(2020,11,1)\n",
    "end_date = start_date + 3*day_delta\n",
    "\n",
    "for i in range((end_date - start_date).days):\n",
    "    \n",
    "    #print(start_date + i*day_delta )\n",
    "    print(f'{start_date + i*day_delta}')"
   ]
  },
  {
   "cell_type": "code",
   "execution_count": 23,
   "metadata": {},
   "outputs": [
    {
     "output_type": "stream",
     "name": "stdout",
     "text": [
      "20201101\n",
      "20201102\n",
      "20201103\n"
     ]
    }
   ],
   "source": [
    "import pandas\n",
    "dt_index = pandas.date_range(start='20201101', end='20201103')\n",
    "# pandas.date_range(start='20160901', end='20161031',freq='W-MON')\n",
    "# 을 하면 해당 기간 매주 월요일들만 추출합니다.\n",
    "\n",
    "# type(dt_index) => DatetimeIndex\n",
    "# DatetimeIndex => list(str)\n",
    "dt_list = dt_index.strftime(\"%Y%m%d\").tolist()\n",
    "\n",
    "for i in dt_list:\n",
    "    print(i)"
   ]
  },
  {
   "cell_type": "code",
   "execution_count": 31,
   "metadata": {},
   "outputs": [],
   "source": [
    "start_date = '20200331'\n",
    "end_date = '20201130'"
   ]
  },
  {
   "cell_type": "code",
   "execution_count": 32,
   "metadata": {},
   "outputs": [
    {
     "output_type": "stream",
     "name": "stdout",
     "text": [
      "244\n"
     ]
    }
   ],
   "source": [
    "start_date = pd.to_datetime(start_date)\n",
    "end_date = pd.to_datetime(end_date)\n",
    "\n",
    "print((end_date-start_date).days)"
   ]
  },
  {
   "cell_type": "code",
   "execution_count": 33,
   "metadata": {},
   "outputs": [
    {
     "output_type": "execute_result",
     "data": {
      "text/plain": [
       "'20201128'"
      ]
     },
     "metadata": {},
     "execution_count": 33
    }
   ],
   "source": [
    "date = (end_date - datetime.timedelta(days=j)).strftime(\"%Y%m%d\")\n",
    "date"
   ]
  },
  {
   "cell_type": "code",
   "execution_count": 34,
   "metadata": {
    "tags": [
     "outputPrepend"
    ]
   },
   "outputs": [
    {
     "output_type": "stream",
     "name": "stdout",
     "text": [
      "0, '경북': 0, '경남': 0, '전북': 0, '전남': 0, '제주': 0}\n{'일자': '20200724', '서울': 0, '부산': 0, '대구': 0, '인천': 0, '대전': 0, '광주': 0, '울산': 0, '세종': 0, '경기': 0, '강원': 0, '충북': 0, '충남': 0, '경북': 0, '경남': 0, '전북': 0, '전남': 0, '제주': 0}\n{'일자': '20200723', '서울': 0, '부산': 0, '대구': 0, '인천': 0, '대전': 0, '광주': 0, '울산': 0, '세종': 0, '경기': 0, '강원': 0, '충북': 0, '충남': 0, '경북': 0, '경남': 0, '전북': 0, '전남': 0, '제주': 0}\n{'일자': '20200722', '서울': 0, '부산': 0, '대구': 0, '인천': 0, '대전': 0, '광주': 0, '울산': 0, '세종': 0, '경기': 0, '강원': 0, '충북': 0, '충남': 0, '경북': 0, '경남': 0, '전북': 0, '전남': 0, '제주': 0}\n{'일자': '20200721', '서울': 0, '부산': 0, '대구': 0, '인천': 0, '대전': 0, '광주': 0, '울산': 0, '세종': 0, '경기': 0, '강원': 0, '충북': 0, '충남': 0, '경북': 0, '경남': 0, '전북': 0, '전남': 0, '제주': 0}\n{'일자': '20200720', '서울': 0, '부산': 0, '대구': 0, '인천': 0, '대전': 0, '광주': 0, '울산': 0, '세종': 0, '경기': 0, '강원': 0, '충북': 0, '충남': 0, '경북': 0, '경남': 0, '전북': 0, '전남': 0, '제주': 0}\n{'일자': '20200719', '서울': 0, '부산': 0, '대구': 0, '인천': 0, '대전': 0, '광주': 0, '울산': 0, '세종': 0, '경기': 0, '강원': 0, '충북': 0, '충남': 0, '경북': 0, '경남': 0, '전북': 0, '전남': 0, '제주': 0}\n{'일자': '20200718', '서울': 0, '부산': 0, '대구': 0, '인천': 0, '대전': 0, '광주': 0, '울산': 0, '세종': 0, '경기': 0, '강원': 0, '충북': 0, '충남': 0, '경북': 0, '경남': 0, '전북': 0, '전남': 0, '제주': 0}\n{'일자': '20200717', '서울': 0, '부산': 0, '대구': 0, '인천': 0, '대전': 0, '광주': 0, '울산': 0, '세종': 0, '경기': 0, '강원': 0, '충북': 0, '충남': 0, '경북': 0, '경남': 0, '전북': 0, '전남': 0, '제주': 0}\n{'일자': '20200716', '서울': 0, '부산': 0, '대구': 0, '인천': 0, '대전': 0, '광주': 0, '울산': 0, '세종': 0, '경기': 0, '강원': 0, '충북': 0, '충남': 0, '경북': 0, '경남': 0, '전북': 0, '전남': 0, '제주': 0}\n{'일자': '20200715', '서울': 0, '부산': 0, '대구': 0, '인천': 0, '대전': 0, '광주': 0, '울산': 0, '세종': 0, '경기': 0, '강원': 0, '충북': 0, '충남': 0, '경북': 0, '경남': 0, '전북': 0, '전남': 0, '제주': 0}\n{'일자': '20200714', '서울': 0, '부산': 0, '대구': 0, '인천': 0, '대전': 0, '광주': 0, '울산': 0, '세종': 0, '경기': 0, '강원': 0, '충북': 0, '충남': 0, '경북': 0, '경남': 0, '전북': 0, '전남': 0, '제주': 0}\n{'일자': '20200713', '서울': 0, '부산': 0, '대구': 0, '인천': 0, '대전': 0, '광주': 0, '울산': 0, '세종': 0, '경기': 0, '강원': 0, '충북': 0, '충남': 0, '경북': 0, '경남': 0, '전북': 0, '전남': 0, '제주': 0}\n{'일자': '20200712', '서울': 0, '부산': 0, '대구': 0, '인천': 0, '대전': 0, '광주': 0, '울산': 0, '세종': 0, '경기': 0, '강원': 0, '충북': 0, '충남': 0, '경북': 0, '경남': 0, '전북': 0, '전남': 0, '제주': 0}\n{'일자': '20200711', '서울': 0, '부산': 0, '대구': 0, '인천': 0, '대전': 0, '광주': 0, '울산': 0, '세종': 0, '경기': 0, '강원': 0, '충북': 0, '충남': 0, '경북': 0, '경남': 0, '전북': 0, '전남': 0, '제주': 0}\n{'일자': '20200710', '서울': 0, '부산': 0, '대구': 0, '인천': 0, '대전': 0, '광주': 0, '울산': 0, '세종': 0, '경기': 0, '강원': 0, '충북': 0, '충남': 0, '경북': 0, '경남': 0, '전북': 0, '전남': 0, '제주': 0}\n{'일자': '20200709', '서울': 0, '부산': 0, '대구': 0, '인천': 0, '대전': 0, '광주': 0, '울산': 0, '세종': 0, '경기': 0, '강원': 0, '충북': 0, '충남': 0, '경북': 0, '경남': 0, '전북': 0, '전남': 0, '제주': 0}\n{'일자': '20200708', '서울': 0, '부산': 0, '대구': 0, '인천': 0, '대전': 0, '광주': 0, '울산': 0, '세종': 0, '경기': 0, '강원': 0, '충북': 0, '충남': 0, '경북': 0, '경남': 0, '전북': 0, '전남': 0, '제주': 0}\n{'일자': '20200707', '서울': 0, '부산': 0, '대구': 0, '인천': 0, '대전': 0, '광주': 0, '울산': 0, '세종': 0, '경기': 0, '강원': 0, '충북': 0, '충남': 0, '경북': 0, '경남': 0, '전북': 0, '전남': 0, '제주': 0}\n{'일자': '20200706', '서울': 0, '부산': 0, '대구': 0, '인천': 0, '대전': 0, '광주': 0, '울산': 0, '세종': 0, '경기': 0, '강원': 0, '충북': 0, '충남': 0, '경북': 0, '경남': 0, '전북': 0, '전남': 0, '제주': 0}\n{'일자': '20200705', '서울': 0, '부산': 0, '대구': 0, '인천': 0, '대전': 0, '광주': 0, '울산': 0, '세종': 0, '경기': 0, '강원': 0, '충북': 0, '충남': 0, '경북': 0, '경남': 0, '전북': 0, '전남': 0, '제주': 0}\n{'일자': '20200704', '서울': 0, '부산': 0, '대구': 0, '인천': 0, '대전': 0, '광주': 0, '울산': 0, '세종': 0, '경기': 0, '강원': 0, '충북': 0, '충남': 0, '경북': 0, '경남': 0, '전북': 0, '전남': 0, '제주': 0}\n{'일자': '20200703', '서울': 0, '부산': 0, '대구': 0, '인천': 0, '대전': 0, '광주': 0, '울산': 0, '세종': 0, '경기': 0, '강원': 0, '충북': 0, '충남': 0, '경북': 0, '경남': 0, '전북': 0, '전남': 0, '제주': 0}\n{'일자': '20200702', '서울': 0, '부산': 0, '대구': 0, '인천': 0, '대전': 0, '광주': 0, '울산': 0, '세종': 0, '경기': 0, '강원': 0, '충북': 0, '충남': 0, '경북': 0, '경남': 0, '전북': 0, '전남': 0, '제주': 0}\n{'일자': '20200701', '서울': 0, '부산': 0, '대구': 0, '인천': 0, '대전': 0, '광주': 0, '울산': 0, '세종': 0, '경기': 0, '강원': 0, '충북': 0, '충남': 0, '경북': 0, '경남': 0, '전북': 0, '전남': 0, '제주': 0}\n{'일자': '20200630', '서울': 0, '부산': 0, '대구': 0, '인천': 0, '대전': 0, '광주': 0, '울산': 0, '세종': 0, '경기': 0, '강원': 0, '충북': 0, '충남': 0, '경북': 0, '경남': 0, '전북': 0, '전남': 0, '제주': 0}\n{'일자': '20200629', '서울': 0, '부산': 0, '대구': 0, '인천': 0, '대전': 0, '광주': 0, '울산': 0, '세종': 0, '경기': 0, '강원': 0, '충북': 0, '충남': 0, '경북': 0, '경남': 0, '전북': 0, '전남': 0, '제주': 0}\n{'일자': '20200628', '서울': 0, '부산': 0, '대구': 0, '인천': 0, '대전': 0, '광주': 0, '울산': 0, '세종': 0, '경기': 0, '강원': 0, '충북': 0, '충남': 0, '경북': 0, '경남': 0, '전북': 0, '전남': 0, '제주': 0}\n{'일자': '20200627', '서울': 0, '부산': 0, '대구': 0, '인천': 0, '대전': 0, '광주': 0, '울산': 0, '세종': 0, '경기': 0, '강원': 0, '충북': 0, '충남': 0, '경북': 0, '경남': 0, '전북': 0, '전남': 0, '제주': 0}\n{'일자': '20200626', '서울': 0, '부산': 0, '대구': 0, '인천': 0, '대전': 0, '광주': 0, '울산': 0, '세종': 0, '경기': 0, '강원': 0, '충북': 0, '충남': 0, '경북': 0, '경남': 0, '전북': 0, '전남': 0, '제주': 0}\n{'일자': '20200625', '서울': 0, '부산': 0, '대구': 0, '인천': 0, '대전': 0, '광주': 0, '울산': 0, '세종': 0, '경기': 0, '강원': 0, '충북': 0, '충남': 0, '경북': 0, '경남': 0, '전북': 0, '전남': 0, '제주': 0}\n{'일자': '20200624', '서울': 0, '부산': 0, '대구': 0, '인천': 0, '대전': 0, '광주': 0, '울산': 0, '세종': 0, '경기': 0, '강원': 0, '충북': 0, '충남': 0, '경북': 0, '경남': 0, '전북': 0, '전남': 0, '제주': 0}\n{'일자': '20200623', '서울': 0, '부산': 0, '대구': 0, '인천': 0, '대전': 0, '광주': 0, '울산': 0, '세종': 0, '경기': 0, '강원': 0, '충북': 0, '충남': 0, '경북': 0, '경남': 0, '전북': 0, '전남': 0, '제주': 0}\n{'일자': '20200622', '서울': 0, '부산': 0, '대구': 0, '인천': 0, '대전': 0, '광주': 0, '울산': 0, '세종': 0, '경기': 0, '강원': 0, '충북': 0, '충남': 0, '경북': 0, '경남': 0, '전북': 0, '전남': 0, '제주': 0}\n{'일자': '20200621', '서울': 0, '부산': 0, '대구': 0, '인천': 0, '대전': 0, '광주': 0, '울산': 0, '세종': 0, '경기': 0, '강원': 0, '충북': 0, '충남': 0, '경북': 0, '경남': 0, '전북': 0, '전남': 0, '제주': 0}\n{'일자': '20200620', '서울': 0, '부산': 0, '대구': 0, '인천': 0, '대전': 0, '광주': 0, '울산': 0, '세종': 0, '경기': 0, '강원': 0, '충북': 0, '충남': 0, '경북': 0, '경남': 0, '전북': 0, '전남': 0, '제주': 0}\n{'일자': '20200619', '서울': 0, '부산': 0, '대구': 0, '인천': 0, '대전': 0, '광주': 0, '울산': 0, '세종': 0, '경기': 0, '강원': 0, '충북': 0, '충남': 0, '경북': 0, '경남': 0, '전북': 0, '전남': 0, '제주': 0}\n{'일자': '20200618', '서울': 0, '부산': 0, '대구': 0, '인천': 0, '대전': 0, '광주': 0, '울산': 0, '세종': 0, '경기': 0, '강원': 0, '충북': 0, '충남': 0, '경북': 0, '경남': 0, '전북': 0, '전남': 0, '제주': 0}\n{'일자': '20200617', '서울': 0, '부산': 0, '대구': 0, '인천': 0, '대전': 0, '광주': 0, '울산': 0, '세종': 0, '경기': 0, '강원': 0, '충북': 0, '충남': 0, '경북': 0, '경남': 0, '전북': 0, '전남': 0, '제주': 0}\n{'일자': '20200616', '서울': 0, '부산': 0, '대구': 0, '인천': 0, '대전': 0, '광주': 0, '울산': 0, '세종': 0, '경기': 0, '강원': 0, '충북': 0, '충남': 0, '경북': 0, '경남': 0, '전북': 0, '전남': 0, '제주': 0}\n{'일자': '20200615', '서울': 0, '부산': 0, '대구': 0, '인천': 0, '대전': 0, '광주': 0, '울산': 0, '세종': 0, '경기': 0, '강원': 0, '충북': 0, '충남': 0, '경북': 0, '경남': 0, '전북': 0, '전남': 0, '제주': 0}\n{'일자': '20200614', '서울': 0, '부산': 0, '대구': 0, '인천': 0, '대전': 0, '광주': 0, '울산': 0, '세종': 0, '경기': 0, '강원': 0, '충북': 0, '충남': 0, '경북': 0, '경남': 0, '전북': 0, '전남': 0, '제주': 0}\n{'일자': '20200613', '서울': 0, '부산': 0, '대구': 0, '인천': 0, '대전': 0, '광주': 0, '울산': 0, '세종': 0, '경기': 0, '강원': 0, '충북': 0, '충남': 0, '경북': 0, '경남': 0, '전북': 0, '전남': 0, '제주': 0}\n{'일자': '20200612', '서울': 0, '부산': 0, '대구': 0, '인천': 0, '대전': 0, '광주': 0, '울산': 0, '세종': 0, '경기': 0, '강원': 0, '충북': 0, '충남': 0, '경북': 0, '경남': 0, '전북': 0, '전남': 0, '제주': 0}\n{'일자': '20200611', '서울': 0, '부산': 0, '대구': 0, '인천': 0, '대전': 0, '광주': 0, '울산': 0, '세종': 0, '경기': 0, '강원': 0, '충북': 0, '충남': 0, '경북': 0, '경남': 0, '전북': 0, '전남': 0, '제주': 0}\n{'일자': '20200610', '서울': 0, '부산': 0, '대구': 0, '인천': 0, '대전': 0, '광주': 0, '울산': 0, '세종': 0, '경기': 0, '강원': 0, '충북': 0, '충남': 0, '경북': 0, '경남': 0, '전북': 0, '전남': 0, '제주': 0}\n{'일자': '20200609', '서울': 0, '부산': 0, '대구': 0, '인천': 0, '대전': 0, '광주': 0, '울산': 0, '세종': 0, '경기': 0, '강원': 0, '충북': 0, '충남': 0, '경북': 0, '경남': 0, '전북': 0, '전남': 0, '제주': 0}\n{'일자': '20200608', '서울': 0, '부산': 0, '대구': 0, '인천': 0, '대전': 0, '광주': 0, '울산': 0, '세종': 0, '경기': 0, '강원': 0, '충북': 0, '충남': 0, '경북': 0, '경남': 0, '전북': 0, '전남': 0, '제주': 0}\n{'일자': '20200607', '서울': 0, '부산': 0, '대구': 0, '인천': 0, '대전': 0, '광주': 0, '울산': 0, '세종': 0, '경기': 0, '강원': 0, '충북': 0, '충남': 0, '경북': 0, '경남': 0, '전북': 0, '전남': 0, '제주': 0}\n{'일자': '20200606', '서울': 0, '부산': 0, '대구': 0, '인천': 0, '대전': 0, '광주': 0, '울산': 0, '세종': 0, '경기': 0, '강원': 0, '충북': 0, '충남': 0, '경북': 0, '경남': 0, '전북': 0, '전남': 0, '제주': 0}\n{'일자': '20200605', '서울': 0, '부산': 0, '대구': 0, '인천': 0, '대전': 0, '광주': 0, '울산': 0, '세종': 0, '경기': 0, '강원': 0, '충북': 0, '충남': 0, '경북': 0, '경남': 0, '전북': 0, '전남': 0, '제주': 0}\n{'일자': '20200604', '서울': 0, '부산': 0, '대구': 0, '인천': 0, '대전': 0, '광주': 0, '울산': 0, '세종': 0, '경기': 0, '강원': 0, '충북': 0, '충남': 0, '경북': 0, '경남': 0, '전북': 0, '전남': 0, '제주': 0}\n{'일자': '20200603', '서울': 0, '부산': 0, '대구': 0, '인천': 0, '대전': 0, '광주': 0, '울산': 0, '세종': 0, '경기': 0, '강원': 0, '충북': 0, '충남': 0, '경북': 0, '경남': 0, '전북': 0, '전남': 0, '제주': 0}\n{'일자': '20200602', '서울': 0, '부산': 0, '대구': 0, '인천': 0, '대전': 0, '광주': 0, '울산': 0, '세종': 0, '경기': 0, '강원': 0, '충북': 0, '충남': 0, '경북': 0, '경남': 0, '전북': 0, '전남': 0, '제주': 0}\n{'일자': '20200601', '서울': 0, '부산': 0, '대구': 0, '인천': 0, '대전': 0, '광주': 0, '울산': 0, '세종': 0, '경기': 0, '강원': 0, '충북': 0, '충남': 0, '경북': 0, '경남': 0, '전북': 0, '전남': 0, '제주': 0}\n{'일자': '20200531', '서울': 0, '부산': 0, '대구': 0, '인천': 0, '대전': 0, '광주': 0, '울산': 0, '세종': 0, '경기': 0, '강원': 0, '충북': 0, '충남': 0, '경북': 0, '경남': 0, '전북': 0, '전남': 0, '제주': 0}\n{'일자': '20200530', '서울': 0, '부산': 0, '대구': 0, '인천': 0, '대전': 0, '광주': 0, '울산': 0, '세종': 0, '경기': 0, '강원': 0, '충북': 0, '충남': 0, '경북': 0, '경남': 0, '전북': 0, '전남': 0, '제주': 0}\n{'일자': '20200529', '서울': 0, '부산': 0, '대구': 0, '인천': 0, '대전': 0, '광주': 0, '울산': 0, '세종': 0, '경기': 0, '강원': 0, '충북': 0, '충남': 0, '경북': 0, '경남': 0, '전북': 0, '전남': 0, '제주': 0}\n{'일자': '20200528', '서울': 0, '부산': 0, '대구': 0, '인천': 0, '대전': 0, '광주': 0, '울산': 0, '세종': 0, '경기': 0, '강원': 0, '충북': 0, '충남': 0, '경북': 0, '경남': 0, '전북': 0, '전남': 0, '제주': 0}\n{'일자': '20200527', '서울': 0, '부산': 0, '대구': 0, '인천': 0, '대전': 0, '광주': 0, '울산': 0, '세종': 0, '경기': 0, '강원': 0, '충북': 0, '충남': 0, '경북': 0, '경남': 0, '전북': 0, '전남': 0, '제주': 0}\n{'일자': '20200526', '서울': 0, '부산': 0, '대구': 0, '인천': 0, '대전': 0, '광주': 0, '울산': 0, '세종': 0, '경기': 0, '강원': 0, '충북': 0, '충남': 0, '경북': 0, '경남': 0, '전북': 0, '전남': 0, '제주': 0}\n{'일자': '20200525', '서울': 0, '부산': 0, '대구': 0, '인천': 0, '대전': 0, '광주': 0, '울산': 0, '세종': 0, '경기': 0, '강원': 0, '충북': 0, '충남': 0, '경북': 0, '경남': 0, '전북': 0, '전남': 0, '제주': 0}\n{'일자': '20200524', '서울': 0, '부산': 0, '대구': 0, '인천': 0, '대전': 0, '광주': 0, '울산': 0, '세종': 0, '경기': 0, '강원': 0, '충북': 0, '충남': 0, '경북': 0, '경남': 0, '전북': 0, '전남': 0, '제주': 0}\n{'일자': '20200523', '서울': 0, '부산': 0, '대구': 0, '인천': 0, '대전': 0, '광주': 0, '울산': 0, '세종': 0, '경기': 0, '강원': 0, '충북': 0, '충남': 0, '경북': 0, '경남': 0, '전북': 0, '전남': 0, '제주': 0}\n{'일자': '20200522', '서울': 0, '부산': 0, '대구': 0, '인천': 0, '대전': 0, '광주': 0, '울산': 0, '세종': 0, '경기': 0, '강원': 0, '충북': 0, '충남': 0, '경북': 0, '경남': 0, '전북': 0, '전남': 0, '제주': 0}\n{'일자': '20200521', '서울': 0, '부산': 0, '대구': 0, '인천': 0, '대전': 0, '광주': 0, '울산': 0, '세종': 0, '경기': 0, '강원': 0, '충북': 0, '충남': 0, '경북': 0, '경남': 0, '전북': 0, '전남': 0, '제주': 0}\n{'일자': '20200520', '서울': 0, '부산': 0, '대구': 0, '인천': 0, '대전': 0, '광주': 0, '울산': 0, '세종': 0, '경기': 0, '강원': 0, '충북': 0, '충남': 0, '경북': 0, '경남': 0, '전북': 0, '전남': 0, '제주': 0}\n{'일자': '20200519', '서울': 0, '부산': 0, '대구': 0, '인천': 0, '대전': 0, '광주': 0, '울산': 0, '세종': 0, '경기': 0, '강원': 0, '충북': 0, '충남': 0, '경북': 0, '경남': 0, '전북': 0, '전남': 0, '제주': 0}\n{'일자': '20200518', '서울': 0, '부산': 0, '대구': 0, '인천': 0, '대전': 0, '광주': 0, '울산': 0, '세종': 0, '경기': 0, '강원': 0, '충북': 0, '충남': 0, '경북': 0, '경남': 0, '전북': 0, '전남': 0, '제주': 0}\n{'일자': '20200517', '서울': 0, '부산': 0, '대구': 0, '인천': 0, '대전': 0, '광주': 0, '울산': 0, '세종': 0, '경기': 0, '강원': 0, '충북': 0, '충남': 0, '경북': 0, '경남': 0, '전북': 0, '전남': 0, '제주': 0}\n{'일자': '20200516', '서울': 0, '부산': 0, '대구': 0, '인천': 0, '대전': 0, '광주': 0, '울산': 0, '세종': 0, '경기': 0, '강원': 0, '충북': 0, '충남': 0, '경북': 0, '경남': 0, '전북': 0, '전남': 0, '제주': 0}\n{'일자': '20200515', '서울': 0, '부산': 0, '대구': 0, '인천': 0, '대전': 0, '광주': 0, '울산': 0, '세종': 0, '경기': 0, '강원': 0, '충북': 0, '충남': 0, '경북': 0, '경남': 0, '전북': 0, '전남': 0, '제주': 0}\n{'일자': '20200514', '서울': 0, '부산': 0, '대구': 0, '인천': 0, '대전': 0, '광주': 0, '울산': 0, '세종': 0, '경기': 0, '강원': 0, '충북': 0, '충남': 0, '경북': 0, '경남': 0, '전북': 0, '전남': 0, '제주': 0}\n{'일자': '20200513', '서울': 0, '부산': 0, '대구': 0, '인천': 0, '대전': 0, '광주': 0, '울산': 0, '세종': 0, '경기': 0, '강원': 0, '충북': 0, '충남': 0, '경북': 0, '경남': 0, '전북': 0, '전남': 0, '제주': 0}\n{'일자': '20200512', '서울': 0, '부산': 0, '대구': 0, '인천': 0, '대전': 0, '광주': 0, '울산': 0, '세종': 0, '경기': 0, '강원': 0, '충북': 0, '충남': 0, '경북': 0, '경남': 0, '전북': 0, '전남': 0, '제주': 0}\n{'일자': '20200511', '서울': 0, '부산': 0, '대구': 0, '인천': 0, '대전': 0, '광주': 0, '울산': 0, '세종': 0, '경기': 0, '강원': 0, '충북': 0, '충남': 0, '경북': 0, '경남': 0, '전북': 0, '전남': 0, '제주': 0}\n{'일자': '20200510', '서울': 0, '부산': 0, '대구': 0, '인천': 0, '대전': 0, '광주': 0, '울산': 0, '세종': 0, '경기': 0, '강원': 0, '충북': 0, '충남': 0, '경북': 0, '경남': 0, '전북': 0, '전남': 0, '제주': 0}\n{'일자': '20200509', '서울': 0, '부산': 0, '대구': 0, '인천': 0, '대전': 0, '광주': 0, '울산': 0, '세종': 0, '경기': 0, '강원': 0, '충북': 0, '충남': 0, '경북': 0, '경남': 0, '전북': 0, '전남': 0, '제주': 0}\n{'일자': '20200508', '서울': 0, '부산': 0, '대구': 0, '인천': 0, '대전': 0, '광주': 0, '울산': 0, '세종': 0, '경기': 0, '강원': 0, '충북': 0, '충남': 0, '경북': 0, '경남': 0, '전북': 0, '전남': 0, '제주': 0}\n{'일자': '20200507', '서울': 0, '부산': 0, '대구': 0, '인천': 0, '대전': 0, '광주': 0, '울산': 0, '세종': 0, '경기': 0, '강원': 0, '충북': 0, '충남': 0, '경북': 0, '경남': 0, '전북': 0, '전남': 0, '제주': 0}\n{'일자': '20200506', '서울': 0, '부산': 0, '대구': 0, '인천': 0, '대전': 0, '광주': 0, '울산': 0, '세종': 0, '경기': 0, '강원': 0, '충북': 0, '충남': 0, '경북': 0, '경남': 0, '전북': 0, '전남': 0, '제주': 0}\n{'일자': '20200505', '서울': 0, '부산': 0, '대구': 0, '인천': 0, '대전': 0, '광주': 0, '울산': 0, '세종': 0, '경기': 0, '강원': 0, '충북': 0, '충남': 0, '경북': 0, '경남': 0, '전북': 0, '전남': 0, '제주': 0}\n{'일자': '20200504', '서울': 0, '부산': 0, '대구': 0, '인천': 0, '대전': 0, '광주': 0, '울산': 0, '세종': 0, '경기': 0, '강원': 0, '충북': 0, '충남': 0, '경북': 0, '경남': 0, '전북': 0, '전남': 0, '제주': 0}\n{'일자': '20200503', '서울': 0, '부산': 0, '대구': 0, '인천': 0, '대전': 0, '광주': 0, '울산': 0, '세종': 0, '경기': 0, '강원': 0, '충북': 0, '충남': 0, '경북': 0, '경남': 0, '전북': 0, '전남': 0, '제주': 0}\n{'일자': '20200502', '서울': 0, '부산': 0, '대구': 0, '인천': 0, '대전': 0, '광주': 0, '울산': 0, '세종': 0, '경기': 0, '강원': 0, '충북': 0, '충남': 0, '경북': 0, '경남': 0, '전북': 0, '전남': 0, '제주': 0}\n{'일자': '20200501', '서울': 0, '부산': 0, '대구': 0, '인천': 0, '대전': 0, '광주': 0, '울산': 0, '세종': 0, '경기': 0, '강원': 0, '충북': 0, '충남': 0, '경북': 0, '경남': 0, '전북': 0, '전남': 0, '제주': 0}\n{'일자': '20200430', '서울': 0, '부산': 0, '대구': 0, '인천': 0, '대전': 0, '광주': 0, '울산': 0, '세종': 0, '경기': 0, '강원': 0, '충북': 0, '충남': 0, '경북': 0, '경남': 0, '전북': 0, '전남': 0, '제주': 0}\n{'일자': '20200429', '서울': 0, '부산': 0, '대구': 0, '인천': 0, '대전': 0, '광주': 0, '울산': 0, '세종': 0, '경기': 0, '강원': 0, '충북': 0, '충남': 0, '경북': 0, '경남': 0, '전북': 0, '전남': 0, '제주': 0}\n{'일자': '20200428', '서울': 0, '부산': 0, '대구': 0, '인천': 0, '대전': 0, '광주': 0, '울산': 0, '세종': 0, '경기': 0, '강원': 0, '충북': 0, '충남': 0, '경북': 0, '경남': 0, '전북': 0, '전남': 0, '제주': 0}\n{'일자': '20200427', '서울': 0, '부산': 0, '대구': 0, '인천': 0, '대전': 0, '광주': 0, '울산': 0, '세종': 0, '경기': 0, '강원': 0, '충북': 0, '충남': 0, '경북': 0, '경남': 0, '전북': 0, '전남': 0, '제주': 0}\n{'일자': '20200426', '서울': 0, '부산': 0, '대구': 0, '인천': 0, '대전': 0, '광주': 0, '울산': 0, '세종': 0, '경기': 0, '강원': 0, '충북': 0, '충남': 0, '경북': 0, '경남': 0, '전북': 0, '전남': 0, '제주': 0}\n{'일자': '20200425', '서울': 0, '부산': 0, '대구': 0, '인천': 0, '대전': 0, '광주': 0, '울산': 0, '세종': 0, '경기': 0, '강원': 0, '충북': 0, '충남': 0, '경북': 0, '경남': 0, '전북': 0, '전남': 0, '제주': 0}\n{'일자': '20200424', '서울': 0, '부산': 0, '대구': 0, '인천': 0, '대전': 0, '광주': 0, '울산': 0, '세종': 0, '경기': 0, '강원': 0, '충북': 0, '충남': 0, '경북': 0, '경남': 0, '전북': 0, '전남': 0, '제주': 0}\n{'일자': '20200423', '서울': 0, '부산': 0, '대구': 0, '인천': 0, '대전': 0, '광주': 0, '울산': 0, '세종': 0, '경기': 0, '강원': 0, '충북': 0, '충남': 0, '경북': 0, '경남': 0, '전북': 0, '전남': 0, '제주': 0}\n{'일자': '20200422', '서울': 0, '부산': 0, '대구': 0, '인천': 0, '대전': 0, '광주': 0, '울산': 0, '세종': 0, '경기': 0, '강원': 0, '충북': 0, '충남': 0, '경북': 0, '경남': 0, '전북': 0, '전남': 0, '제주': 0}\n{'일자': '20200421', '서울': 0, '부산': 0, '대구': 0, '인천': 0, '대전': 0, '광주': 0, '울산': 0, '세종': 0, '경기': 0, '강원': 0, '충북': 0, '충남': 0, '경북': 0, '경남': 0, '전북': 0, '전남': 0, '제주': 0}\n{'일자': '20200420', '서울': 0, '부산': 0, '대구': 0, '인천': 0, '대전': 0, '광주': 0, '울산': 0, '세종': 0, '경기': 0, '강원': 0, '충북': 0, '충남': 0, '경북': 0, '경남': 0, '전북': 0, '전남': 0, '제주': 0}\n{'일자': '20200419', '서울': 0, '부산': 0, '대구': 0, '인천': 0, '대전': 0, '광주': 0, '울산': 0, '세종': 0, '경기': 0, '강원': 0, '충북': 0, '충남': 0, '경북': 0, '경남': 0, '전북': 0, '전남': 0, '제주': 0}\n{'일자': '20200418', '서울': 0, '부산': 0, '대구': 0, '인천': 0, '대전': 0, '광주': 0, '울산': 0, '세종': 0, '경기': 0, '강원': 0, '충북': 0, '충남': 0, '경북': 0, '경남': 0, '전북': 0, '전남': 0, '제주': 0}\n{'일자': '20200417', '서울': 0, '부산': 0, '대구': 0, '인천': 0, '대전': 0, '광주': 0, '울산': 0, '세종': 0, '경기': 0, '강원': 0, '충북': 0, '충남': 0, '경북': 0, '경남': 0, '전북': 0, '전남': 0, '제주': 0}\n{'일자': '20200416', '서울': 0, '부산': 0, '대구': 0, '인천': 0, '대전': 0, '광주': 0, '울산': 0, '세종': 0, '경기': 0, '강원': 0, '충북': 0, '충남': 0, '경북': 0, '경남': 0, '전북': 0, '전남': 0, '제주': 0}\n{'일자': '20200415', '서울': 0, '부산': 0, '대구': 0, '인천': 0, '대전': 0, '광주': 0, '울산': 0, '세종': 0, '경기': 0, '강원': 0, '충북': 0, '충남': 0, '경북': 0, '경남': 0, '전북': 0, '전남': 0, '제주': 0}\n{'일자': '20200414', '서울': 0, '부산': 0, '대구': 0, '인천': 0, '대전': 0, '광주': 0, '울산': 0, '세종': 0, '경기': 0, '강원': 0, '충북': 0, '충남': 0, '경북': 0, '경남': 0, '전북': 0, '전남': 0, '제주': 0}\n{'일자': '20200413', '서울': 0, '부산': 0, '대구': 0, '인천': 0, '대전': 0, '광주': 0, '울산': 0, '세종': 0, '경기': 0, '강원': 0, '충북': 0, '충남': 0, '경북': 0, '경남': 0, '전북': 0, '전남': 0, '제주': 0}\n{'일자': '20200412', '서울': 0, '부산': 0, '대구': 0, '인천': 0, '대전': 0, '광주': 0, '울산': 0, '세종': 0, '경기': 0, '강원': 0, '충북': 0, '충남': 0, '경북': 0, '경남': 0, '전북': 0, '전남': 0, '제주': 0}\n{'일자': '20200411', '서울': 0, '부산': 0, '대구': 0, '인천': 0, '대전': 0, '광주': 0, '울산': 0, '세종': 0, '경기': 0, '강원': 0, '충북': 0, '충남': 0, '경북': 0, '경남': 0, '전북': 0, '전남': 0, '제주': 0}\n{'일자': '20200410', '서울': 0, '부산': 0, '대구': 0, '인천': 0, '대전': 0, '광주': 0, '울산': 0, '세종': 0, '경기': 0, '강원': 0, '충북': 0, '충남': 0, '경북': 0, '경남': 0, '전북': 0, '전남': 0, '제주': 0}\n{'일자': '20200409', '서울': 0, '부산': 0, '대구': 0, '인천': 0, '대전': 0, '광주': 0, '울산': 0, '세종': 0, '경기': 0, '강원': 0, '충북': 0, '충남': 0, '경북': 0, '경남': 0, '전북': 0, '전남': 0, '제주': 0}\n{'일자': '20200408', '서울': 0, '부산': 0, '대구': 0, '인천': 0, '대전': 0, '광주': 0, '울산': 0, '세종': 0, '경기': 0, '강원': 0, '충북': 0, '충남': 0, '경북': 0, '경남': 0, '전북': 0, '전남': 0, '제주': 0}\n{'일자': '20200407', '서울': 0, '부산': 0, '대구': 0, '인천': 0, '대전': 0, '광주': 0, '울산': 0, '세종': 0, '경기': 0, '강원': 0, '충북': 0, '충남': 0, '경북': 0, '경남': 0, '전북': 0, '전남': 0, '제주': 0}\n{'일자': '20200406', '서울': 0, '부산': 0, '대구': 0, '인천': 0, '대전': 0, '광주': 0, '울산': 0, '세종': 0, '경기': 0, '강원': 0, '충북': 0, '충남': 0, '경북': 0, '경남': 0, '전북': 0, '전남': 0, '제주': 0}\n{'일자': '20200405', '서울': 0, '부산': 0, '대구': 0, '인천': 0, '대전': 0, '광주': 0, '울산': 0, '세종': 0, '경기': 0, '강원': 0, '충북': 0, '충남': 0, '경북': 0, '경남': 0, '전북': 0, '전남': 0, '제주': 0}\n{'일자': '20200404', '서울': 0, '부산': 0, '대구': 0, '인천': 0, '대전': 0, '광주': 0, '울산': 0, '세종': 0, '경기': 0, '강원': 0, '충북': 0, '충남': 0, '경북': 0, '경남': 0, '전북': 0, '전남': 0, '제주': 0}\n{'일자': '20200403', '서울': 0, '부산': 0, '대구': 0, '인천': 0, '대전': 0, '광주': 0, '울산': 0, '세종': 0, '경기': 0, '강원': 0, '충북': 0, '충남': 0, '경북': 0, '경남': 0, '전북': 0, '전남': 0, '제주': 0}\n{'일자': '20200402', '서울': 0, '부산': 0, '대구': 0, '인천': 0, '대전': 0, '광주': 0, '울산': 0, '세종': 0, '경기': 0, '강원': 0, '충북': 0, '충남': 0, '경북': 0, '경남': 0, '전북': 0, '전남': 0, '제주': 0}\n{'일자': '20200401', '서울': 0, '부산': 0, '대구': 0, '인천': 0, '대전': 0, '광주': 0, '울산': 0, '세종': 0, '경기': 0, '강원': 0, '충북': 0, '충남': 0, '경북': 0, '경남': 0, '전북': 0, '전남': 0, '제주': 0}\n{'일자': '20200331', '서울': 0, '부산': 0, '대구': 0, '인천': 0, '대전': 0, '광주': 0, '울산': 0, '세종': 0, '경기': 0, '강원': 0, '충북': 0, '충남': 0, '경북': 0, '경남': 0, '전북': 0, '전남': 0, '제주': 0}\n"
     ]
    }
   ],
   "source": [
    "for j in range((end_date-start_date).days+1):\n",
    "    da = (end_date - datetime.timedelta(days=j)).strftime(\"%Y%m%d\")\n",
    "    a_dict = {'일자':da, '서울':0, '부산':0, '대구':0, '인천':0,'대전':0, '광주':0, '울산':0, '세종':0, '경기':0,'강원':0, '충북':0,'충남':0, '경북':0, '경남':0,'전북':0,'전남':0,'제주':0}\n",
    "    print(f'{a_dict}')\n",
    "        # print(f'{a_dict}')"
   ]
  },
  {
   "cell_type": "code",
   "execution_count": 36,
   "metadata": {},
   "outputs": [
    {
     "output_type": "display_data",
     "data": {
      "text/plain": "HBox(children=(FloatProgress(value=0.0, max=245.0), HTML(value='')))",
      "application/vnd.jupyter.widget-view+json": {
       "version_major": 2,
       "version_minor": 0,
       "model_id": "090653470e454f8fa0572a044298f272"
      }
     },
     "metadata": {}
    },
    {
     "output_type": "stream",
     "name": "stdout",
     "text": [
      "\n"
     ]
    }
   ],
   "source": [
    "\"\"\"cosi_dict_list = []\n",
    "\n",
    "for j in tqdm_notebook(range((end_date-start_date).days+1)):\n",
    "    da = (end_date - datetime.timedelta(days=j)).strftime(\"%Y%m%d\")\n",
    "    a_dict = {'일자':da, '서울':0, '부산':0, '대구':0, '인천':0,'대전':0, '광주':0, '울산':0, '세종':0, '경기':0,'강원':0, '충북':0,'충남':0, '경북':0, '경남':0,'전북':0,'전남':0,'제주':0}\n",
    "    page = 1\n",
    "    corona_url = 'http://openapi.data.go.kr/openapi/service/rest/Covid19/getCovid19SidoInfStateJson'\n",
    "    url = f'{corona_url}?ServiceKey={govapi_key}&pageNo={page}&numOfRows=10&startCreateDt={da}&endCreateDt={da}'\n",
    "    result = requests.get(url)\n",
    "    soup = BeautifulSoup(result.text, 'xml')\n",
    "    cosi = soup.find_all('item')\n",
    "    for co in cosi:        \n",
    "        area = co.find('gubun').get_text()\n",
    "        number = co.find('incDec').get_text()\n",
    "        a_dict[area] = number\n",
    "\n",
    "    cosi_dict_list.append(a_dict)\n",
    "dd = pd.DataFrame(cosi_dict_list)\"\"\""
   ]
  },
  {
   "cell_type": "code",
   "execution_count": 37,
   "metadata": {},
   "outputs": [
    {
     "output_type": "execute_result",
     "data": {
      "text/plain": [
       "           일자   서울  부산  대구  인천  대전  광주 울산 세종   경기  강원  충북  충남  경북  경남  전북  전남  \\\n",
       "0    20201130  159  52   4  34   5  13  3  1   77   8  22   5   4  20  16   4   \n",
       "1    20201129  150  22   3  22   6   8  0  3  101  19  23  13  11  15  17  19   \n",
       "2    20201128  178  28   1  25  13  16  3  0  126  33  24  17   5  14   9   7   \n",
       "3    20201127  204  24   0  25   5  13  7  3  117   9  20  31   3  39  24  11   \n",
       "4    20201126  213  22   1  19   1  14  7  4  183   8   8  16   2  45  16   9   \n",
       "..        ...  ...  ..  ..  ..  ..  .. .. ..  ...  ..  ..  ..  ..  ..  ..  ..   \n",
       "240  20200404   22   0  27   3   0   0  0  0   23   1   0   1   1   1   0   0   \n",
       "241  20200403   18   0   9   1   0   1  0  0   23   2   1   1   5   1   1   1   \n",
       "242  20200402   14   0  21   4   0   1  1  0   17   1   0   2   2   6   0   2   \n",
       "243  20200401   24   3  20   5   0   4  0  0   23   2   0   3   2   4   1   3   \n",
       "244  20200331   24   1  60   6   2   0  0  0   13   0   0   1   2   1   0   0   \n",
       "\n",
       "    제주  검역   합계  \n",
       "0    1  10  438  \n",
       "1    1  17  450  \n",
       "2    2   3  504  \n",
       "3    3  31  569  \n",
       "4    3  12  583  \n",
       "..  ..  ..  ...  \n",
       "240  0  15   94  \n",
       "241  0  22   86  \n",
       "242  0  18   89  \n",
       "243  0   7  101  \n",
       "244  0  15  125  \n",
       "\n",
       "[245 rows x 20 columns]"
      ],
      "text/html": "<div>\n<style scoped>\n    .dataframe tbody tr th:only-of-type {\n        vertical-align: middle;\n    }\n\n    .dataframe tbody tr th {\n        vertical-align: top;\n    }\n\n    .dataframe thead th {\n        text-align: right;\n    }\n</style>\n<table border=\"1\" class=\"dataframe\">\n  <thead>\n    <tr style=\"text-align: right;\">\n      <th></th>\n      <th>일자</th>\n      <th>서울</th>\n      <th>부산</th>\n      <th>대구</th>\n      <th>인천</th>\n      <th>대전</th>\n      <th>광주</th>\n      <th>울산</th>\n      <th>세종</th>\n      <th>경기</th>\n      <th>강원</th>\n      <th>충북</th>\n      <th>충남</th>\n      <th>경북</th>\n      <th>경남</th>\n      <th>전북</th>\n      <th>전남</th>\n      <th>제주</th>\n      <th>검역</th>\n      <th>합계</th>\n    </tr>\n  </thead>\n  <tbody>\n    <tr>\n      <th>0</th>\n      <td>20201130</td>\n      <td>159</td>\n      <td>52</td>\n      <td>4</td>\n      <td>34</td>\n      <td>5</td>\n      <td>13</td>\n      <td>3</td>\n      <td>1</td>\n      <td>77</td>\n      <td>8</td>\n      <td>22</td>\n      <td>5</td>\n      <td>4</td>\n      <td>20</td>\n      <td>16</td>\n      <td>4</td>\n      <td>1</td>\n      <td>10</td>\n      <td>438</td>\n    </tr>\n    <tr>\n      <th>1</th>\n      <td>20201129</td>\n      <td>150</td>\n      <td>22</td>\n      <td>3</td>\n      <td>22</td>\n      <td>6</td>\n      <td>8</td>\n      <td>0</td>\n      <td>3</td>\n      <td>101</td>\n      <td>19</td>\n      <td>23</td>\n      <td>13</td>\n      <td>11</td>\n      <td>15</td>\n      <td>17</td>\n      <td>19</td>\n      <td>1</td>\n      <td>17</td>\n      <td>450</td>\n    </tr>\n    <tr>\n      <th>2</th>\n      <td>20201128</td>\n      <td>178</td>\n      <td>28</td>\n      <td>1</td>\n      <td>25</td>\n      <td>13</td>\n      <td>16</td>\n      <td>3</td>\n      <td>0</td>\n      <td>126</td>\n      <td>33</td>\n      <td>24</td>\n      <td>17</td>\n      <td>5</td>\n      <td>14</td>\n      <td>9</td>\n      <td>7</td>\n      <td>2</td>\n      <td>3</td>\n      <td>504</td>\n    </tr>\n    <tr>\n      <th>3</th>\n      <td>20201127</td>\n      <td>204</td>\n      <td>24</td>\n      <td>0</td>\n      <td>25</td>\n      <td>5</td>\n      <td>13</td>\n      <td>7</td>\n      <td>3</td>\n      <td>117</td>\n      <td>9</td>\n      <td>20</td>\n      <td>31</td>\n      <td>3</td>\n      <td>39</td>\n      <td>24</td>\n      <td>11</td>\n      <td>3</td>\n      <td>31</td>\n      <td>569</td>\n    </tr>\n    <tr>\n      <th>4</th>\n      <td>20201126</td>\n      <td>213</td>\n      <td>22</td>\n      <td>1</td>\n      <td>19</td>\n      <td>1</td>\n      <td>14</td>\n      <td>7</td>\n      <td>4</td>\n      <td>183</td>\n      <td>8</td>\n      <td>8</td>\n      <td>16</td>\n      <td>2</td>\n      <td>45</td>\n      <td>16</td>\n      <td>9</td>\n      <td>3</td>\n      <td>12</td>\n      <td>583</td>\n    </tr>\n    <tr>\n      <th>...</th>\n      <td>...</td>\n      <td>...</td>\n      <td>...</td>\n      <td>...</td>\n      <td>...</td>\n      <td>...</td>\n      <td>...</td>\n      <td>...</td>\n      <td>...</td>\n      <td>...</td>\n      <td>...</td>\n      <td>...</td>\n      <td>...</td>\n      <td>...</td>\n      <td>...</td>\n      <td>...</td>\n      <td>...</td>\n      <td>...</td>\n      <td>...</td>\n      <td>...</td>\n    </tr>\n    <tr>\n      <th>240</th>\n      <td>20200404</td>\n      <td>22</td>\n      <td>0</td>\n      <td>27</td>\n      <td>3</td>\n      <td>0</td>\n      <td>0</td>\n      <td>0</td>\n      <td>0</td>\n      <td>23</td>\n      <td>1</td>\n      <td>0</td>\n      <td>1</td>\n      <td>1</td>\n      <td>1</td>\n      <td>0</td>\n      <td>0</td>\n      <td>0</td>\n      <td>15</td>\n      <td>94</td>\n    </tr>\n    <tr>\n      <th>241</th>\n      <td>20200403</td>\n      <td>18</td>\n      <td>0</td>\n      <td>9</td>\n      <td>1</td>\n      <td>0</td>\n      <td>1</td>\n      <td>0</td>\n      <td>0</td>\n      <td>23</td>\n      <td>2</td>\n      <td>1</td>\n      <td>1</td>\n      <td>5</td>\n      <td>1</td>\n      <td>1</td>\n      <td>1</td>\n      <td>0</td>\n      <td>22</td>\n      <td>86</td>\n    </tr>\n    <tr>\n      <th>242</th>\n      <td>20200402</td>\n      <td>14</td>\n      <td>0</td>\n      <td>21</td>\n      <td>4</td>\n      <td>0</td>\n      <td>1</td>\n      <td>1</td>\n      <td>0</td>\n      <td>17</td>\n      <td>1</td>\n      <td>0</td>\n      <td>2</td>\n      <td>2</td>\n      <td>6</td>\n      <td>0</td>\n      <td>2</td>\n      <td>0</td>\n      <td>18</td>\n      <td>89</td>\n    </tr>\n    <tr>\n      <th>243</th>\n      <td>20200401</td>\n      <td>24</td>\n      <td>3</td>\n      <td>20</td>\n      <td>5</td>\n      <td>0</td>\n      <td>4</td>\n      <td>0</td>\n      <td>0</td>\n      <td>23</td>\n      <td>2</td>\n      <td>0</td>\n      <td>3</td>\n      <td>2</td>\n      <td>4</td>\n      <td>1</td>\n      <td>3</td>\n      <td>0</td>\n      <td>7</td>\n      <td>101</td>\n    </tr>\n    <tr>\n      <th>244</th>\n      <td>20200331</td>\n      <td>24</td>\n      <td>1</td>\n      <td>60</td>\n      <td>6</td>\n      <td>2</td>\n      <td>0</td>\n      <td>0</td>\n      <td>0</td>\n      <td>13</td>\n      <td>0</td>\n      <td>0</td>\n      <td>1</td>\n      <td>2</td>\n      <td>1</td>\n      <td>0</td>\n      <td>0</td>\n      <td>0</td>\n      <td>15</td>\n      <td>125</td>\n    </tr>\n  </tbody>\n</table>\n<p>245 rows × 20 columns</p>\n</div>"
     },
     "metadata": {},
     "execution_count": 37
    }
   ],
   "source": [
    "dd"
   ]
  },
  {
   "cell_type": "code",
   "execution_count": 218,
   "metadata": {},
   "outputs": [
    {
     "output_type": "execute_result",
     "data": {
      "text/plain": [
       "           일자   서울  부산  대구  인천  대전  광주 울산 세종   경기  강원  충북  충남  경북  경남  전북  전남  \\\n",
       "0    20201130  159  52   4  34   5  13  3  1   77   8  22   5   4  20  16   4   \n",
       "1    20201129  150  22   3  22   6   8  0  3  101  19  23  13  11  15  17  19   \n",
       "2    20201128  178  28   1  25  13  16  3  0  126  33  24  17   5  14   9   7   \n",
       "3    20201127  204  24   0  25   5  13  7  3  117   9  20  31   3  39  24  11   \n",
       "4    20201126  213  22   1  19   1  14  7  4  183   8   8  16   2  45  16   9   \n",
       "..        ...  ...  ..  ..  ..  ..  .. .. ..  ...  ..  ..  ..  ..  ..  ..  ..   \n",
       "240  20200404   22   0  27   3   0   0  0  0   23   1   0   1   1   1   0   0   \n",
       "241  20200403   18   0   9   1   0   1  0  0   23   2   1   1   5   1   1   1   \n",
       "242  20200402   14   0  21   4   0   1  1  0   17   1   0   2   2   6   0   2   \n",
       "243  20200401   24   3  20   5   0   4  0  0   23   2   0   3   2   4   1   3   \n",
       "244  20200331   24   1  60   6   2   0  0  0   13   0   0   1   2   1   0   0   \n",
       "\n",
       "    제주   합계  \n",
       "0    1  438  \n",
       "1    1  450  \n",
       "2    2  504  \n",
       "3    3  569  \n",
       "4    3  583  \n",
       "..  ..  ...  \n",
       "240  0   94  \n",
       "241  0   86  \n",
       "242  0   89  \n",
       "243  0  101  \n",
       "244  0  125  \n",
       "\n",
       "[245 rows x 19 columns]"
      ],
      "text/html": "<div>\n<style scoped>\n    .dataframe tbody tr th:only-of-type {\n        vertical-align: middle;\n    }\n\n    .dataframe tbody tr th {\n        vertical-align: top;\n    }\n\n    .dataframe thead th {\n        text-align: right;\n    }\n</style>\n<table border=\"1\" class=\"dataframe\">\n  <thead>\n    <tr style=\"text-align: right;\">\n      <th></th>\n      <th>일자</th>\n      <th>서울</th>\n      <th>부산</th>\n      <th>대구</th>\n      <th>인천</th>\n      <th>대전</th>\n      <th>광주</th>\n      <th>울산</th>\n      <th>세종</th>\n      <th>경기</th>\n      <th>강원</th>\n      <th>충북</th>\n      <th>충남</th>\n      <th>경북</th>\n      <th>경남</th>\n      <th>전북</th>\n      <th>전남</th>\n      <th>제주</th>\n      <th>합계</th>\n    </tr>\n  </thead>\n  <tbody>\n    <tr>\n      <th>0</th>\n      <td>20201130</td>\n      <td>159</td>\n      <td>52</td>\n      <td>4</td>\n      <td>34</td>\n      <td>5</td>\n      <td>13</td>\n      <td>3</td>\n      <td>1</td>\n      <td>77</td>\n      <td>8</td>\n      <td>22</td>\n      <td>5</td>\n      <td>4</td>\n      <td>20</td>\n      <td>16</td>\n      <td>4</td>\n      <td>1</td>\n      <td>438</td>\n    </tr>\n    <tr>\n      <th>1</th>\n      <td>20201129</td>\n      <td>150</td>\n      <td>22</td>\n      <td>3</td>\n      <td>22</td>\n      <td>6</td>\n      <td>8</td>\n      <td>0</td>\n      <td>3</td>\n      <td>101</td>\n      <td>19</td>\n      <td>23</td>\n      <td>13</td>\n      <td>11</td>\n      <td>15</td>\n      <td>17</td>\n      <td>19</td>\n      <td>1</td>\n      <td>450</td>\n    </tr>\n    <tr>\n      <th>2</th>\n      <td>20201128</td>\n      <td>178</td>\n      <td>28</td>\n      <td>1</td>\n      <td>25</td>\n      <td>13</td>\n      <td>16</td>\n      <td>3</td>\n      <td>0</td>\n      <td>126</td>\n      <td>33</td>\n      <td>24</td>\n      <td>17</td>\n      <td>5</td>\n      <td>14</td>\n      <td>9</td>\n      <td>7</td>\n      <td>2</td>\n      <td>504</td>\n    </tr>\n    <tr>\n      <th>3</th>\n      <td>20201127</td>\n      <td>204</td>\n      <td>24</td>\n      <td>0</td>\n      <td>25</td>\n      <td>5</td>\n      <td>13</td>\n      <td>7</td>\n      <td>3</td>\n      <td>117</td>\n      <td>9</td>\n      <td>20</td>\n      <td>31</td>\n      <td>3</td>\n      <td>39</td>\n      <td>24</td>\n      <td>11</td>\n      <td>3</td>\n      <td>569</td>\n    </tr>\n    <tr>\n      <th>4</th>\n      <td>20201126</td>\n      <td>213</td>\n      <td>22</td>\n      <td>1</td>\n      <td>19</td>\n      <td>1</td>\n      <td>14</td>\n      <td>7</td>\n      <td>4</td>\n      <td>183</td>\n      <td>8</td>\n      <td>8</td>\n      <td>16</td>\n      <td>2</td>\n      <td>45</td>\n      <td>16</td>\n      <td>9</td>\n      <td>3</td>\n      <td>583</td>\n    </tr>\n    <tr>\n      <th>...</th>\n      <td>...</td>\n      <td>...</td>\n      <td>...</td>\n      <td>...</td>\n      <td>...</td>\n      <td>...</td>\n      <td>...</td>\n      <td>...</td>\n      <td>...</td>\n      <td>...</td>\n      <td>...</td>\n      <td>...</td>\n      <td>...</td>\n      <td>...</td>\n      <td>...</td>\n      <td>...</td>\n      <td>...</td>\n      <td>...</td>\n      <td>...</td>\n    </tr>\n    <tr>\n      <th>240</th>\n      <td>20200404</td>\n      <td>22</td>\n      <td>0</td>\n      <td>27</td>\n      <td>3</td>\n      <td>0</td>\n      <td>0</td>\n      <td>0</td>\n      <td>0</td>\n      <td>23</td>\n      <td>1</td>\n      <td>0</td>\n      <td>1</td>\n      <td>1</td>\n      <td>1</td>\n      <td>0</td>\n      <td>0</td>\n      <td>0</td>\n      <td>94</td>\n    </tr>\n    <tr>\n      <th>241</th>\n      <td>20200403</td>\n      <td>18</td>\n      <td>0</td>\n      <td>9</td>\n      <td>1</td>\n      <td>0</td>\n      <td>1</td>\n      <td>0</td>\n      <td>0</td>\n      <td>23</td>\n      <td>2</td>\n      <td>1</td>\n      <td>1</td>\n      <td>5</td>\n      <td>1</td>\n      <td>1</td>\n      <td>1</td>\n      <td>0</td>\n      <td>86</td>\n    </tr>\n    <tr>\n      <th>242</th>\n      <td>20200402</td>\n      <td>14</td>\n      <td>0</td>\n      <td>21</td>\n      <td>4</td>\n      <td>0</td>\n      <td>1</td>\n      <td>1</td>\n      <td>0</td>\n      <td>17</td>\n      <td>1</td>\n      <td>0</td>\n      <td>2</td>\n      <td>2</td>\n      <td>6</td>\n      <td>0</td>\n      <td>2</td>\n      <td>0</td>\n      <td>89</td>\n    </tr>\n    <tr>\n      <th>243</th>\n      <td>20200401</td>\n      <td>24</td>\n      <td>3</td>\n      <td>20</td>\n      <td>5</td>\n      <td>0</td>\n      <td>4</td>\n      <td>0</td>\n      <td>0</td>\n      <td>23</td>\n      <td>2</td>\n      <td>0</td>\n      <td>3</td>\n      <td>2</td>\n      <td>4</td>\n      <td>1</td>\n      <td>3</td>\n      <td>0</td>\n      <td>101</td>\n    </tr>\n    <tr>\n      <th>244</th>\n      <td>20200331</td>\n      <td>24</td>\n      <td>1</td>\n      <td>60</td>\n      <td>6</td>\n      <td>2</td>\n      <td>0</td>\n      <td>0</td>\n      <td>0</td>\n      <td>13</td>\n      <td>0</td>\n      <td>0</td>\n      <td>1</td>\n      <td>2</td>\n      <td>1</td>\n      <td>0</td>\n      <td>0</td>\n      <td>0</td>\n      <td>125</td>\n    </tr>\n  </tbody>\n</table>\n<p>245 rows × 19 columns</p>\n</div>"
     },
     "metadata": {},
     "execution_count": 218
    }
   ],
   "source": [
    "del dd['검역']\n",
    "dd"
   ]
  },
  {
   "cell_type": "code",
   "execution_count": 40,
   "metadata": {},
   "outputs": [],
   "source": [
    "# dd.to_excel('./results/전국코로나.xlsx')"
   ]
  },
  {
   "cell_type": "code",
   "execution_count": 219,
   "metadata": {},
   "outputs": [
    {
     "output_type": "execute_result",
     "data": {
      "text/plain": [
       "False"
      ]
     },
     "metadata": {},
     "execution_count": 219
    }
   ],
   "source": [
    "# nan값확인\n",
    "dd.isnull().values.any()"
   ]
  },
  {
   "cell_type": "code",
   "execution_count": 221,
   "metadata": {},
   "outputs": [
    {
     "output_type": "execute_result",
     "data": {
      "text/plain": [
       "          확진일   서울  부산  대구  인천  대전  광주 울산 세종   경기  강원  충북  충남  경북  경남  전북  전남  \\\n",
       "0    20201130  159  52   4  34   5  13  3  1   77   8  22   5   4  20  16   4   \n",
       "1    20201129  150  22   3  22   6   8  0  3  101  19  23  13  11  15  17  19   \n",
       "2    20201128  178  28   1  25  13  16  3  0  126  33  24  17   5  14   9   7   \n",
       "3    20201127  204  24   0  25   5  13  7  3  117   9  20  31   3  39  24  11   \n",
       "4    20201126  213  22   1  19   1  14  7  4  183   8   8  16   2  45  16   9   \n",
       "..        ...  ...  ..  ..  ..  ..  .. .. ..  ...  ..  ..  ..  ..  ..  ..  ..   \n",
       "240  20200404   22   0  27   3   0   0  0  0   23   1   0   1   1   1   0   0   \n",
       "241  20200403   18   0   9   1   0   1  0  0   23   2   1   1   5   1   1   1   \n",
       "242  20200402   14   0  21   4   0   1  1  0   17   1   0   2   2   6   0   2   \n",
       "243  20200401   24   3  20   5   0   4  0  0   23   2   0   3   2   4   1   3   \n",
       "244  20200331   24   1  60   6   2   0  0  0   13   0   0   1   2   1   0   0   \n",
       "\n",
       "    제주   합계  \n",
       "0    1  438  \n",
       "1    1  450  \n",
       "2    2  504  \n",
       "3    3  569  \n",
       "4    3  583  \n",
       "..  ..  ...  \n",
       "240  0   94  \n",
       "241  0   86  \n",
       "242  0   89  \n",
       "243  0  101  \n",
       "244  0  125  \n",
       "\n",
       "[245 rows x 19 columns]"
      ],
      "text/html": "<div>\n<style scoped>\n    .dataframe tbody tr th:only-of-type {\n        vertical-align: middle;\n    }\n\n    .dataframe tbody tr th {\n        vertical-align: top;\n    }\n\n    .dataframe thead th {\n        text-align: right;\n    }\n</style>\n<table border=\"1\" class=\"dataframe\">\n  <thead>\n    <tr style=\"text-align: right;\">\n      <th></th>\n      <th>확진일</th>\n      <th>서울</th>\n      <th>부산</th>\n      <th>대구</th>\n      <th>인천</th>\n      <th>대전</th>\n      <th>광주</th>\n      <th>울산</th>\n      <th>세종</th>\n      <th>경기</th>\n      <th>강원</th>\n      <th>충북</th>\n      <th>충남</th>\n      <th>경북</th>\n      <th>경남</th>\n      <th>전북</th>\n      <th>전남</th>\n      <th>제주</th>\n      <th>합계</th>\n    </tr>\n  </thead>\n  <tbody>\n    <tr>\n      <th>0</th>\n      <td>20201130</td>\n      <td>159</td>\n      <td>52</td>\n      <td>4</td>\n      <td>34</td>\n      <td>5</td>\n      <td>13</td>\n      <td>3</td>\n      <td>1</td>\n      <td>77</td>\n      <td>8</td>\n      <td>22</td>\n      <td>5</td>\n      <td>4</td>\n      <td>20</td>\n      <td>16</td>\n      <td>4</td>\n      <td>1</td>\n      <td>438</td>\n    </tr>\n    <tr>\n      <th>1</th>\n      <td>20201129</td>\n      <td>150</td>\n      <td>22</td>\n      <td>3</td>\n      <td>22</td>\n      <td>6</td>\n      <td>8</td>\n      <td>0</td>\n      <td>3</td>\n      <td>101</td>\n      <td>19</td>\n      <td>23</td>\n      <td>13</td>\n      <td>11</td>\n      <td>15</td>\n      <td>17</td>\n      <td>19</td>\n      <td>1</td>\n      <td>450</td>\n    </tr>\n    <tr>\n      <th>2</th>\n      <td>20201128</td>\n      <td>178</td>\n      <td>28</td>\n      <td>1</td>\n      <td>25</td>\n      <td>13</td>\n      <td>16</td>\n      <td>3</td>\n      <td>0</td>\n      <td>126</td>\n      <td>33</td>\n      <td>24</td>\n      <td>17</td>\n      <td>5</td>\n      <td>14</td>\n      <td>9</td>\n      <td>7</td>\n      <td>2</td>\n      <td>504</td>\n    </tr>\n    <tr>\n      <th>3</th>\n      <td>20201127</td>\n      <td>204</td>\n      <td>24</td>\n      <td>0</td>\n      <td>25</td>\n      <td>5</td>\n      <td>13</td>\n      <td>7</td>\n      <td>3</td>\n      <td>117</td>\n      <td>9</td>\n      <td>20</td>\n      <td>31</td>\n      <td>3</td>\n      <td>39</td>\n      <td>24</td>\n      <td>11</td>\n      <td>3</td>\n      <td>569</td>\n    </tr>\n    <tr>\n      <th>4</th>\n      <td>20201126</td>\n      <td>213</td>\n      <td>22</td>\n      <td>1</td>\n      <td>19</td>\n      <td>1</td>\n      <td>14</td>\n      <td>7</td>\n      <td>4</td>\n      <td>183</td>\n      <td>8</td>\n      <td>8</td>\n      <td>16</td>\n      <td>2</td>\n      <td>45</td>\n      <td>16</td>\n      <td>9</td>\n      <td>3</td>\n      <td>583</td>\n    </tr>\n    <tr>\n      <th>...</th>\n      <td>...</td>\n      <td>...</td>\n      <td>...</td>\n      <td>...</td>\n      <td>...</td>\n      <td>...</td>\n      <td>...</td>\n      <td>...</td>\n      <td>...</td>\n      <td>...</td>\n      <td>...</td>\n      <td>...</td>\n      <td>...</td>\n      <td>...</td>\n      <td>...</td>\n      <td>...</td>\n      <td>...</td>\n      <td>...</td>\n      <td>...</td>\n    </tr>\n    <tr>\n      <th>240</th>\n      <td>20200404</td>\n      <td>22</td>\n      <td>0</td>\n      <td>27</td>\n      <td>3</td>\n      <td>0</td>\n      <td>0</td>\n      <td>0</td>\n      <td>0</td>\n      <td>23</td>\n      <td>1</td>\n      <td>0</td>\n      <td>1</td>\n      <td>1</td>\n      <td>1</td>\n      <td>0</td>\n      <td>0</td>\n      <td>0</td>\n      <td>94</td>\n    </tr>\n    <tr>\n      <th>241</th>\n      <td>20200403</td>\n      <td>18</td>\n      <td>0</td>\n      <td>9</td>\n      <td>1</td>\n      <td>0</td>\n      <td>1</td>\n      <td>0</td>\n      <td>0</td>\n      <td>23</td>\n      <td>2</td>\n      <td>1</td>\n      <td>1</td>\n      <td>5</td>\n      <td>1</td>\n      <td>1</td>\n      <td>1</td>\n      <td>0</td>\n      <td>86</td>\n    </tr>\n    <tr>\n      <th>242</th>\n      <td>20200402</td>\n      <td>14</td>\n      <td>0</td>\n      <td>21</td>\n      <td>4</td>\n      <td>0</td>\n      <td>1</td>\n      <td>1</td>\n      <td>0</td>\n      <td>17</td>\n      <td>1</td>\n      <td>0</td>\n      <td>2</td>\n      <td>2</td>\n      <td>6</td>\n      <td>0</td>\n      <td>2</td>\n      <td>0</td>\n      <td>89</td>\n    </tr>\n    <tr>\n      <th>243</th>\n      <td>20200401</td>\n      <td>24</td>\n      <td>3</td>\n      <td>20</td>\n      <td>5</td>\n      <td>0</td>\n      <td>4</td>\n      <td>0</td>\n      <td>0</td>\n      <td>23</td>\n      <td>2</td>\n      <td>0</td>\n      <td>3</td>\n      <td>2</td>\n      <td>4</td>\n      <td>1</td>\n      <td>3</td>\n      <td>0</td>\n      <td>101</td>\n    </tr>\n    <tr>\n      <th>244</th>\n      <td>20200331</td>\n      <td>24</td>\n      <td>1</td>\n      <td>60</td>\n      <td>6</td>\n      <td>2</td>\n      <td>0</td>\n      <td>0</td>\n      <td>0</td>\n      <td>13</td>\n      <td>0</td>\n      <td>0</td>\n      <td>1</td>\n      <td>2</td>\n      <td>1</td>\n      <td>0</td>\n      <td>0</td>\n      <td>0</td>\n      <td>125</td>\n    </tr>\n  </tbody>\n</table>\n<p>245 rows × 19 columns</p>\n</div>"
     },
     "metadata": {},
     "execution_count": 221
    }
   ],
   "source": [
    "cov = pd.DataFrame({'확진일': dd.일자, '서울': dd.서울, '부산':dd.부산, '대구':dd.대구,'인천':dd.인천,'대전':dd.대전,\\\n",
    "    '광주':dd.광주,'울산':dd.울산,'세종':dd.세종,'경기':dd.경기,'강원':dd.강원,'충북':dd.충북,'충남':dd.충남,'경북':dd.경북,\\\n",
    "        '경남':dd.경남,'전북':dd.전북,'전남':dd.전남,'제주':dd.제주,'합계':dd.합계})\n",
    "cov"
   ]
  },
  {
   "cell_type": "code",
   "execution_count": 222,
   "metadata": {},
   "outputs": [
    {
     "output_type": "execute_result",
     "data": {
      "text/plain": [
       "           확진일   서울  부산  대구  인천  대전  광주 울산 세종   경기  강원  충북  충남  경북  경남  전북  \\\n",
       "0   2020-11-30  159  52   4  34   5  13  3  1   77   8  22   5   4  20  16   \n",
       "1   2020-11-29  150  22   3  22   6   8  0  3  101  19  23  13  11  15  17   \n",
       "2   2020-11-28  178  28   1  25  13  16  3  0  126  33  24  17   5  14   9   \n",
       "3   2020-11-27  204  24   0  25   5  13  7  3  117   9  20  31   3  39  24   \n",
       "4   2020-11-26  213  22   1  19   1  14  7  4  183   8   8  16   2  45  16   \n",
       "..         ...  ...  ..  ..  ..  ..  .. .. ..  ...  ..  ..  ..  ..  ..  ..   \n",
       "240 2020-04-04   22   0  27   3   0   0  0  0   23   1   0   1   1   1   0   \n",
       "241 2020-04-03   18   0   9   1   0   1  0  0   23   2   1   1   5   1   1   \n",
       "242 2020-04-02   14   0  21   4   0   1  1  0   17   1   0   2   2   6   0   \n",
       "243 2020-04-01   24   3  20   5   0   4  0  0   23   2   0   3   2   4   1   \n",
       "244 2020-03-31   24   1  60   6   2   0  0  0   13   0   0   1   2   1   0   \n",
       "\n",
       "     전남 제주   합계  \n",
       "0     4  1  438  \n",
       "1    19  1  450  \n",
       "2     7  2  504  \n",
       "3    11  3  569  \n",
       "4     9  3  583  \n",
       "..   .. ..  ...  \n",
       "240   0  0   94  \n",
       "241   1  0   86  \n",
       "242   2  0   89  \n",
       "243   3  0  101  \n",
       "244   0  0  125  \n",
       "\n",
       "[245 rows x 19 columns]"
      ],
      "text/html": "<div>\n<style scoped>\n    .dataframe tbody tr th:only-of-type {\n        vertical-align: middle;\n    }\n\n    .dataframe tbody tr th {\n        vertical-align: top;\n    }\n\n    .dataframe thead th {\n        text-align: right;\n    }\n</style>\n<table border=\"1\" class=\"dataframe\">\n  <thead>\n    <tr style=\"text-align: right;\">\n      <th></th>\n      <th>확진일</th>\n      <th>서울</th>\n      <th>부산</th>\n      <th>대구</th>\n      <th>인천</th>\n      <th>대전</th>\n      <th>광주</th>\n      <th>울산</th>\n      <th>세종</th>\n      <th>경기</th>\n      <th>강원</th>\n      <th>충북</th>\n      <th>충남</th>\n      <th>경북</th>\n      <th>경남</th>\n      <th>전북</th>\n      <th>전남</th>\n      <th>제주</th>\n      <th>합계</th>\n    </tr>\n  </thead>\n  <tbody>\n    <tr>\n      <th>0</th>\n      <td>2020-11-30</td>\n      <td>159</td>\n      <td>52</td>\n      <td>4</td>\n      <td>34</td>\n      <td>5</td>\n      <td>13</td>\n      <td>3</td>\n      <td>1</td>\n      <td>77</td>\n      <td>8</td>\n      <td>22</td>\n      <td>5</td>\n      <td>4</td>\n      <td>20</td>\n      <td>16</td>\n      <td>4</td>\n      <td>1</td>\n      <td>438</td>\n    </tr>\n    <tr>\n      <th>1</th>\n      <td>2020-11-29</td>\n      <td>150</td>\n      <td>22</td>\n      <td>3</td>\n      <td>22</td>\n      <td>6</td>\n      <td>8</td>\n      <td>0</td>\n      <td>3</td>\n      <td>101</td>\n      <td>19</td>\n      <td>23</td>\n      <td>13</td>\n      <td>11</td>\n      <td>15</td>\n      <td>17</td>\n      <td>19</td>\n      <td>1</td>\n      <td>450</td>\n    </tr>\n    <tr>\n      <th>2</th>\n      <td>2020-11-28</td>\n      <td>178</td>\n      <td>28</td>\n      <td>1</td>\n      <td>25</td>\n      <td>13</td>\n      <td>16</td>\n      <td>3</td>\n      <td>0</td>\n      <td>126</td>\n      <td>33</td>\n      <td>24</td>\n      <td>17</td>\n      <td>5</td>\n      <td>14</td>\n      <td>9</td>\n      <td>7</td>\n      <td>2</td>\n      <td>504</td>\n    </tr>\n    <tr>\n      <th>3</th>\n      <td>2020-11-27</td>\n      <td>204</td>\n      <td>24</td>\n      <td>0</td>\n      <td>25</td>\n      <td>5</td>\n      <td>13</td>\n      <td>7</td>\n      <td>3</td>\n      <td>117</td>\n      <td>9</td>\n      <td>20</td>\n      <td>31</td>\n      <td>3</td>\n      <td>39</td>\n      <td>24</td>\n      <td>11</td>\n      <td>3</td>\n      <td>569</td>\n    </tr>\n    <tr>\n      <th>4</th>\n      <td>2020-11-26</td>\n      <td>213</td>\n      <td>22</td>\n      <td>1</td>\n      <td>19</td>\n      <td>1</td>\n      <td>14</td>\n      <td>7</td>\n      <td>4</td>\n      <td>183</td>\n      <td>8</td>\n      <td>8</td>\n      <td>16</td>\n      <td>2</td>\n      <td>45</td>\n      <td>16</td>\n      <td>9</td>\n      <td>3</td>\n      <td>583</td>\n    </tr>\n    <tr>\n      <th>...</th>\n      <td>...</td>\n      <td>...</td>\n      <td>...</td>\n      <td>...</td>\n      <td>...</td>\n      <td>...</td>\n      <td>...</td>\n      <td>...</td>\n      <td>...</td>\n      <td>...</td>\n      <td>...</td>\n      <td>...</td>\n      <td>...</td>\n      <td>...</td>\n      <td>...</td>\n      <td>...</td>\n      <td>...</td>\n      <td>...</td>\n      <td>...</td>\n    </tr>\n    <tr>\n      <th>240</th>\n      <td>2020-04-04</td>\n      <td>22</td>\n      <td>0</td>\n      <td>27</td>\n      <td>3</td>\n      <td>0</td>\n      <td>0</td>\n      <td>0</td>\n      <td>0</td>\n      <td>23</td>\n      <td>1</td>\n      <td>0</td>\n      <td>1</td>\n      <td>1</td>\n      <td>1</td>\n      <td>0</td>\n      <td>0</td>\n      <td>0</td>\n      <td>94</td>\n    </tr>\n    <tr>\n      <th>241</th>\n      <td>2020-04-03</td>\n      <td>18</td>\n      <td>0</td>\n      <td>9</td>\n      <td>1</td>\n      <td>0</td>\n      <td>1</td>\n      <td>0</td>\n      <td>0</td>\n      <td>23</td>\n      <td>2</td>\n      <td>1</td>\n      <td>1</td>\n      <td>5</td>\n      <td>1</td>\n      <td>1</td>\n      <td>1</td>\n      <td>0</td>\n      <td>86</td>\n    </tr>\n    <tr>\n      <th>242</th>\n      <td>2020-04-02</td>\n      <td>14</td>\n      <td>0</td>\n      <td>21</td>\n      <td>4</td>\n      <td>0</td>\n      <td>1</td>\n      <td>1</td>\n      <td>0</td>\n      <td>17</td>\n      <td>1</td>\n      <td>0</td>\n      <td>2</td>\n      <td>2</td>\n      <td>6</td>\n      <td>0</td>\n      <td>2</td>\n      <td>0</td>\n      <td>89</td>\n    </tr>\n    <tr>\n      <th>243</th>\n      <td>2020-04-01</td>\n      <td>24</td>\n      <td>3</td>\n      <td>20</td>\n      <td>5</td>\n      <td>0</td>\n      <td>4</td>\n      <td>0</td>\n      <td>0</td>\n      <td>23</td>\n      <td>2</td>\n      <td>0</td>\n      <td>3</td>\n      <td>2</td>\n      <td>4</td>\n      <td>1</td>\n      <td>3</td>\n      <td>0</td>\n      <td>101</td>\n    </tr>\n    <tr>\n      <th>244</th>\n      <td>2020-03-31</td>\n      <td>24</td>\n      <td>1</td>\n      <td>60</td>\n      <td>6</td>\n      <td>2</td>\n      <td>0</td>\n      <td>0</td>\n      <td>0</td>\n      <td>13</td>\n      <td>0</td>\n      <td>0</td>\n      <td>1</td>\n      <td>2</td>\n      <td>1</td>\n      <td>0</td>\n      <td>0</td>\n      <td>0</td>\n      <td>125</td>\n    </tr>\n  </tbody>\n</table>\n<p>245 rows × 19 columns</p>\n</div>"
     },
     "metadata": {},
     "execution_count": 222
    }
   ],
   "source": [
    "cov['확진일'] = pd.to_datetime(cov['확진일'] )\n",
    "cov"
   ]
  },
  {
   "cell_type": "code",
   "execution_count": 223,
   "metadata": {},
   "outputs": [
    {
     "output_type": "execute_result",
     "data": {
      "text/plain": [
       "             서울  부산  대구  인천  대전  광주 울산 세종   경기  강원  충북  충남  경북  경남  전북  전남 제주  \\\n",
       "확진일                                                                             \n",
       "2020-11-30  159  52   4  34   5  13  3  1   77   8  22   5   4  20  16   4  1   \n",
       "2020-11-29  150  22   3  22   6   8  0  3  101  19  23  13  11  15  17  19  1   \n",
       "2020-11-28  178  28   1  25  13  16  3  0  126  33  24  17   5  14   9   7  2   \n",
       "2020-11-27  204  24   0  25   5  13  7  3  117   9  20  31   3  39  24  11  3   \n",
       "2020-11-26  213  22   1  19   1  14  7  4  183   8   8  16   2  45  16   9  3   \n",
       "...         ...  ..  ..  ..  ..  .. .. ..  ...  ..  ..  ..  ..  ..  ..  .. ..   \n",
       "2020-04-04   22   0  27   3   0   0  0  0   23   1   0   1   1   1   0   0  0   \n",
       "2020-04-03   18   0   9   1   0   1  0  0   23   2   1   1   5   1   1   1  0   \n",
       "2020-04-02   14   0  21   4   0   1  1  0   17   1   0   2   2   6   0   2  0   \n",
       "2020-04-01   24   3  20   5   0   4  0  0   23   2   0   3   2   4   1   3  0   \n",
       "2020-03-31   24   1  60   6   2   0  0  0   13   0   0   1   2   1   0   0  0   \n",
       "\n",
       "             합계  \n",
       "확진일              \n",
       "2020-11-30  438  \n",
       "2020-11-29  450  \n",
       "2020-11-28  504  \n",
       "2020-11-27  569  \n",
       "2020-11-26  583  \n",
       "...         ...  \n",
       "2020-04-04   94  \n",
       "2020-04-03   86  \n",
       "2020-04-02   89  \n",
       "2020-04-01  101  \n",
       "2020-03-31  125  \n",
       "\n",
       "[245 rows x 18 columns]"
      ],
      "text/html": "<div>\n<style scoped>\n    .dataframe tbody tr th:only-of-type {\n        vertical-align: middle;\n    }\n\n    .dataframe tbody tr th {\n        vertical-align: top;\n    }\n\n    .dataframe thead th {\n        text-align: right;\n    }\n</style>\n<table border=\"1\" class=\"dataframe\">\n  <thead>\n    <tr style=\"text-align: right;\">\n      <th></th>\n      <th>서울</th>\n      <th>부산</th>\n      <th>대구</th>\n      <th>인천</th>\n      <th>대전</th>\n      <th>광주</th>\n      <th>울산</th>\n      <th>세종</th>\n      <th>경기</th>\n      <th>강원</th>\n      <th>충북</th>\n      <th>충남</th>\n      <th>경북</th>\n      <th>경남</th>\n      <th>전북</th>\n      <th>전남</th>\n      <th>제주</th>\n      <th>합계</th>\n    </tr>\n    <tr>\n      <th>확진일</th>\n      <th></th>\n      <th></th>\n      <th></th>\n      <th></th>\n      <th></th>\n      <th></th>\n      <th></th>\n      <th></th>\n      <th></th>\n      <th></th>\n      <th></th>\n      <th></th>\n      <th></th>\n      <th></th>\n      <th></th>\n      <th></th>\n      <th></th>\n      <th></th>\n    </tr>\n  </thead>\n  <tbody>\n    <tr>\n      <th>2020-11-30</th>\n      <td>159</td>\n      <td>52</td>\n      <td>4</td>\n      <td>34</td>\n      <td>5</td>\n      <td>13</td>\n      <td>3</td>\n      <td>1</td>\n      <td>77</td>\n      <td>8</td>\n      <td>22</td>\n      <td>5</td>\n      <td>4</td>\n      <td>20</td>\n      <td>16</td>\n      <td>4</td>\n      <td>1</td>\n      <td>438</td>\n    </tr>\n    <tr>\n      <th>2020-11-29</th>\n      <td>150</td>\n      <td>22</td>\n      <td>3</td>\n      <td>22</td>\n      <td>6</td>\n      <td>8</td>\n      <td>0</td>\n      <td>3</td>\n      <td>101</td>\n      <td>19</td>\n      <td>23</td>\n      <td>13</td>\n      <td>11</td>\n      <td>15</td>\n      <td>17</td>\n      <td>19</td>\n      <td>1</td>\n      <td>450</td>\n    </tr>\n    <tr>\n      <th>2020-11-28</th>\n      <td>178</td>\n      <td>28</td>\n      <td>1</td>\n      <td>25</td>\n      <td>13</td>\n      <td>16</td>\n      <td>3</td>\n      <td>0</td>\n      <td>126</td>\n      <td>33</td>\n      <td>24</td>\n      <td>17</td>\n      <td>5</td>\n      <td>14</td>\n      <td>9</td>\n      <td>7</td>\n      <td>2</td>\n      <td>504</td>\n    </tr>\n    <tr>\n      <th>2020-11-27</th>\n      <td>204</td>\n      <td>24</td>\n      <td>0</td>\n      <td>25</td>\n      <td>5</td>\n      <td>13</td>\n      <td>7</td>\n      <td>3</td>\n      <td>117</td>\n      <td>9</td>\n      <td>20</td>\n      <td>31</td>\n      <td>3</td>\n      <td>39</td>\n      <td>24</td>\n      <td>11</td>\n      <td>3</td>\n      <td>569</td>\n    </tr>\n    <tr>\n      <th>2020-11-26</th>\n      <td>213</td>\n      <td>22</td>\n      <td>1</td>\n      <td>19</td>\n      <td>1</td>\n      <td>14</td>\n      <td>7</td>\n      <td>4</td>\n      <td>183</td>\n      <td>8</td>\n      <td>8</td>\n      <td>16</td>\n      <td>2</td>\n      <td>45</td>\n      <td>16</td>\n      <td>9</td>\n      <td>3</td>\n      <td>583</td>\n    </tr>\n    <tr>\n      <th>...</th>\n      <td>...</td>\n      <td>...</td>\n      <td>...</td>\n      <td>...</td>\n      <td>...</td>\n      <td>...</td>\n      <td>...</td>\n      <td>...</td>\n      <td>...</td>\n      <td>...</td>\n      <td>...</td>\n      <td>...</td>\n      <td>...</td>\n      <td>...</td>\n      <td>...</td>\n      <td>...</td>\n      <td>...</td>\n      <td>...</td>\n    </tr>\n    <tr>\n      <th>2020-04-04</th>\n      <td>22</td>\n      <td>0</td>\n      <td>27</td>\n      <td>3</td>\n      <td>0</td>\n      <td>0</td>\n      <td>0</td>\n      <td>0</td>\n      <td>23</td>\n      <td>1</td>\n      <td>0</td>\n      <td>1</td>\n      <td>1</td>\n      <td>1</td>\n      <td>0</td>\n      <td>0</td>\n      <td>0</td>\n      <td>94</td>\n    </tr>\n    <tr>\n      <th>2020-04-03</th>\n      <td>18</td>\n      <td>0</td>\n      <td>9</td>\n      <td>1</td>\n      <td>0</td>\n      <td>1</td>\n      <td>0</td>\n      <td>0</td>\n      <td>23</td>\n      <td>2</td>\n      <td>1</td>\n      <td>1</td>\n      <td>5</td>\n      <td>1</td>\n      <td>1</td>\n      <td>1</td>\n      <td>0</td>\n      <td>86</td>\n    </tr>\n    <tr>\n      <th>2020-04-02</th>\n      <td>14</td>\n      <td>0</td>\n      <td>21</td>\n      <td>4</td>\n      <td>0</td>\n      <td>1</td>\n      <td>1</td>\n      <td>0</td>\n      <td>17</td>\n      <td>1</td>\n      <td>0</td>\n      <td>2</td>\n      <td>2</td>\n      <td>6</td>\n      <td>0</td>\n      <td>2</td>\n      <td>0</td>\n      <td>89</td>\n    </tr>\n    <tr>\n      <th>2020-04-01</th>\n      <td>24</td>\n      <td>3</td>\n      <td>20</td>\n      <td>5</td>\n      <td>0</td>\n      <td>4</td>\n      <td>0</td>\n      <td>0</td>\n      <td>23</td>\n      <td>2</td>\n      <td>0</td>\n      <td>3</td>\n      <td>2</td>\n      <td>4</td>\n      <td>1</td>\n      <td>3</td>\n      <td>0</td>\n      <td>101</td>\n    </tr>\n    <tr>\n      <th>2020-03-31</th>\n      <td>24</td>\n      <td>1</td>\n      <td>60</td>\n      <td>6</td>\n      <td>2</td>\n      <td>0</td>\n      <td>0</td>\n      <td>0</td>\n      <td>13</td>\n      <td>0</td>\n      <td>0</td>\n      <td>1</td>\n      <td>2</td>\n      <td>1</td>\n      <td>0</td>\n      <td>0</td>\n      <td>0</td>\n      <td>125</td>\n    </tr>\n  </tbody>\n</table>\n<p>245 rows × 18 columns</p>\n</div>"
     },
     "metadata": {},
     "execution_count": 223
    }
   ],
   "source": [
    "# 날짜 포맷팅\n",
    "cov.set_index('확진일', inplace=True)\n",
    "cov"
   ]
  },
  {
   "cell_type": "code",
   "execution_count": 237,
   "metadata": {},
   "outputs": [
    {
     "output_type": "execute_result",
     "data": {
      "text/plain": [
       "             서울  부산  대구  인천  대전  광주  울산  세종   경기  강원  충북  충남  경북  경남  전북  전남  \\\n",
       "확진일                                                                            \n",
       "2020-11-30  159  52   4  34   5  13   3   1   77   8  22   5   4  20  16   4   \n",
       "2020-11-29  150  22   3  22   6   8   0   3  101  19  23  13  11  15  17  19   \n",
       "2020-11-28  178  28   1  25  13  16   3   0  126  33  24  17   5  14   9   7   \n",
       "2020-11-27  204  24   0  25   5  13   7   3  117   9  20  31   3  39  24  11   \n",
       "2020-11-26  213  22   1  19   1  14   7   4  183   8   8  16   2  45  16   9   \n",
       "...         ...  ..  ..  ..  ..  ..  ..  ..  ...  ..  ..  ..  ..  ..  ..  ..   \n",
       "2020-04-04   22   0  27   3   0   0   0   0   23   1   0   1   1   1   0   0   \n",
       "2020-04-03   18   0   9   1   0   1   0   0   23   2   1   1   5   1   1   1   \n",
       "2020-04-02   14   0  21   4   0   1   1   0   17   1   0   2   2   6   0   2   \n",
       "2020-04-01   24   3  20   5   0   4   0   0   23   2   0   3   2   4   1   3   \n",
       "2020-03-31   24   1  60   6   2   0   0   0   13   0   0   1   2   1   0   0   \n",
       "\n",
       "            제주   합계  \n",
       "확진일                  \n",
       "2020-11-30   1  438  \n",
       "2020-11-29   1  450  \n",
       "2020-11-28   2  504  \n",
       "2020-11-27   3  569  \n",
       "2020-11-26   3  583  \n",
       "...         ..  ...  \n",
       "2020-04-04   0   94  \n",
       "2020-04-03   0   86  \n",
       "2020-04-02   0   89  \n",
       "2020-04-01   0  101  \n",
       "2020-03-31   0  125  \n",
       "\n",
       "[245 rows x 18 columns]"
      ],
      "text/html": "<div>\n<style scoped>\n    .dataframe tbody tr th:only-of-type {\n        vertical-align: middle;\n    }\n\n    .dataframe tbody tr th {\n        vertical-align: top;\n    }\n\n    .dataframe thead th {\n        text-align: right;\n    }\n</style>\n<table border=\"1\" class=\"dataframe\">\n  <thead>\n    <tr style=\"text-align: right;\">\n      <th></th>\n      <th>서울</th>\n      <th>부산</th>\n      <th>대구</th>\n      <th>인천</th>\n      <th>대전</th>\n      <th>광주</th>\n      <th>울산</th>\n      <th>세종</th>\n      <th>경기</th>\n      <th>강원</th>\n      <th>충북</th>\n      <th>충남</th>\n      <th>경북</th>\n      <th>경남</th>\n      <th>전북</th>\n      <th>전남</th>\n      <th>제주</th>\n      <th>합계</th>\n    </tr>\n    <tr>\n      <th>확진일</th>\n      <th></th>\n      <th></th>\n      <th></th>\n      <th></th>\n      <th></th>\n      <th></th>\n      <th></th>\n      <th></th>\n      <th></th>\n      <th></th>\n      <th></th>\n      <th></th>\n      <th></th>\n      <th></th>\n      <th></th>\n      <th></th>\n      <th></th>\n      <th></th>\n    </tr>\n  </thead>\n  <tbody>\n    <tr>\n      <th>2020-11-30</th>\n      <td>159</td>\n      <td>52</td>\n      <td>4</td>\n      <td>34</td>\n      <td>5</td>\n      <td>13</td>\n      <td>3</td>\n      <td>1</td>\n      <td>77</td>\n      <td>8</td>\n      <td>22</td>\n      <td>5</td>\n      <td>4</td>\n      <td>20</td>\n      <td>16</td>\n      <td>4</td>\n      <td>1</td>\n      <td>438</td>\n    </tr>\n    <tr>\n      <th>2020-11-29</th>\n      <td>150</td>\n      <td>22</td>\n      <td>3</td>\n      <td>22</td>\n      <td>6</td>\n      <td>8</td>\n      <td>0</td>\n      <td>3</td>\n      <td>101</td>\n      <td>19</td>\n      <td>23</td>\n      <td>13</td>\n      <td>11</td>\n      <td>15</td>\n      <td>17</td>\n      <td>19</td>\n      <td>1</td>\n      <td>450</td>\n    </tr>\n    <tr>\n      <th>2020-11-28</th>\n      <td>178</td>\n      <td>28</td>\n      <td>1</td>\n      <td>25</td>\n      <td>13</td>\n      <td>16</td>\n      <td>3</td>\n      <td>0</td>\n      <td>126</td>\n      <td>33</td>\n      <td>24</td>\n      <td>17</td>\n      <td>5</td>\n      <td>14</td>\n      <td>9</td>\n      <td>7</td>\n      <td>2</td>\n      <td>504</td>\n    </tr>\n    <tr>\n      <th>2020-11-27</th>\n      <td>204</td>\n      <td>24</td>\n      <td>0</td>\n      <td>25</td>\n      <td>5</td>\n      <td>13</td>\n      <td>7</td>\n      <td>3</td>\n      <td>117</td>\n      <td>9</td>\n      <td>20</td>\n      <td>31</td>\n      <td>3</td>\n      <td>39</td>\n      <td>24</td>\n      <td>11</td>\n      <td>3</td>\n      <td>569</td>\n    </tr>\n    <tr>\n      <th>2020-11-26</th>\n      <td>213</td>\n      <td>22</td>\n      <td>1</td>\n      <td>19</td>\n      <td>1</td>\n      <td>14</td>\n      <td>7</td>\n      <td>4</td>\n      <td>183</td>\n      <td>8</td>\n      <td>8</td>\n      <td>16</td>\n      <td>2</td>\n      <td>45</td>\n      <td>16</td>\n      <td>9</td>\n      <td>3</td>\n      <td>583</td>\n    </tr>\n    <tr>\n      <th>...</th>\n      <td>...</td>\n      <td>...</td>\n      <td>...</td>\n      <td>...</td>\n      <td>...</td>\n      <td>...</td>\n      <td>...</td>\n      <td>...</td>\n      <td>...</td>\n      <td>...</td>\n      <td>...</td>\n      <td>...</td>\n      <td>...</td>\n      <td>...</td>\n      <td>...</td>\n      <td>...</td>\n      <td>...</td>\n      <td>...</td>\n    </tr>\n    <tr>\n      <th>2020-04-04</th>\n      <td>22</td>\n      <td>0</td>\n      <td>27</td>\n      <td>3</td>\n      <td>0</td>\n      <td>0</td>\n      <td>0</td>\n      <td>0</td>\n      <td>23</td>\n      <td>1</td>\n      <td>0</td>\n      <td>1</td>\n      <td>1</td>\n      <td>1</td>\n      <td>0</td>\n      <td>0</td>\n      <td>0</td>\n      <td>94</td>\n    </tr>\n    <tr>\n      <th>2020-04-03</th>\n      <td>18</td>\n      <td>0</td>\n      <td>9</td>\n      <td>1</td>\n      <td>0</td>\n      <td>1</td>\n      <td>0</td>\n      <td>0</td>\n      <td>23</td>\n      <td>2</td>\n      <td>1</td>\n      <td>1</td>\n      <td>5</td>\n      <td>1</td>\n      <td>1</td>\n      <td>1</td>\n      <td>0</td>\n      <td>86</td>\n    </tr>\n    <tr>\n      <th>2020-04-02</th>\n      <td>14</td>\n      <td>0</td>\n      <td>21</td>\n      <td>4</td>\n      <td>0</td>\n      <td>1</td>\n      <td>1</td>\n      <td>0</td>\n      <td>17</td>\n      <td>1</td>\n      <td>0</td>\n      <td>2</td>\n      <td>2</td>\n      <td>6</td>\n      <td>0</td>\n      <td>2</td>\n      <td>0</td>\n      <td>89</td>\n    </tr>\n    <tr>\n      <th>2020-04-01</th>\n      <td>24</td>\n      <td>3</td>\n      <td>20</td>\n      <td>5</td>\n      <td>0</td>\n      <td>4</td>\n      <td>0</td>\n      <td>0</td>\n      <td>23</td>\n      <td>2</td>\n      <td>0</td>\n      <td>3</td>\n      <td>2</td>\n      <td>4</td>\n      <td>1</td>\n      <td>3</td>\n      <td>0</td>\n      <td>101</td>\n    </tr>\n    <tr>\n      <th>2020-03-31</th>\n      <td>24</td>\n      <td>1</td>\n      <td>60</td>\n      <td>6</td>\n      <td>2</td>\n      <td>0</td>\n      <td>0</td>\n      <td>0</td>\n      <td>13</td>\n      <td>0</td>\n      <td>0</td>\n      <td>1</td>\n      <td>2</td>\n      <td>1</td>\n      <td>0</td>\n      <td>0</td>\n      <td>0</td>\n      <td>125</td>\n    </tr>\n  </tbody>\n</table>\n<p>245 rows × 18 columns</p>\n</div>"
     },
     "metadata": {},
     "execution_count": 237
    }
   ],
   "source": [
    "cov = cov.astype('int')\n",
    "cov"
   ]
  },
  {
   "cell_type": "code",
   "execution_count": 238,
   "metadata": {},
   "outputs": [
    {
     "output_type": "stream",
     "name": "stdout",
     "text": [
      "<class 'pandas.core.frame.DataFrame'>\nDatetimeIndex: 245 entries, 2020-11-30 to 2020-03-31\nData columns (total 18 columns):\n #   Column  Non-Null Count  Dtype\n---  ------  --------------  -----\n 0   서울      245 non-null    int32\n 1   부산      245 non-null    int32\n 2   대구      245 non-null    int32\n 3   인천      245 non-null    int32\n 4   대전      245 non-null    int32\n 5   광주      245 non-null    int32\n 6   울산      245 non-null    int32\n 7   세종      245 non-null    int32\n 8   경기      245 non-null    int32\n 9   강원      245 non-null    int32\n 10  충북      245 non-null    int32\n 11  충남      245 non-null    int32\n 12  경북      245 non-null    int32\n 13  경남      245 non-null    int32\n 14  전북      245 non-null    int32\n 15  전남      245 non-null    int32\n 16  제주      245 non-null    int32\n 17  합계      245 non-null    int32\ndtypes: int32(18)\nmemory usage: 19.1 KB\n"
     ]
    }
   ],
   "source": [
    "cov.info()"
   ]
  },
  {
   "cell_type": "code",
   "execution_count": 224,
   "metadata": {},
   "outputs": [],
   "source": [
    "# cov.to_excel('./results/전국코로나02.xlsx')"
   ]
  },
  {
   "cell_type": "markdown",
   "metadata": {},
   "source": [
    "### 월별, 구별 확진자 수 구하기"
   ]
  },
  {
   "cell_type": "code",
   "execution_count": 239,
   "metadata": {},
   "outputs": [
    {
     "output_type": "execute_result",
     "data": {
      "text/plain": [
       "            서울  부산  대구  인천  대전  광주  울산  세종  경기  강원  충북  충남  경북  경남  전북  전남  \\\n",
       "확진일                                                                          \n",
       "2020-03-01  24   1  60   6   2   0   0   0  13   0   0   1   2   1   0   0   \n",
       "2020-04-01  24   3  20   5   0   4   0   0  23   2   0   3   2   4   1   3   \n",
       "2020-05-01   1   0   0   1   0   0   0   0   2   0   0   0   1   0   0   0   \n",
       "2020-06-01   1   0   1  18   0   0   0   0  12   0   0   0   0   0   0   1   \n",
       "2020-07-01   9   0   1   2   4  12   0   0  16   0   0   1   0   0   0   1   \n",
       "\n",
       "            제주   합계  \n",
       "확진일                  \n",
       "2020-03-01   0  125  \n",
       "2020-04-01   0  101  \n",
       "2020-05-01   0    9  \n",
       "2020-06-01   0   35  \n",
       "2020-07-01   0   51  "
      ],
      "text/html": "<div>\n<style scoped>\n    .dataframe tbody tr th:only-of-type {\n        vertical-align: middle;\n    }\n\n    .dataframe tbody tr th {\n        vertical-align: top;\n    }\n\n    .dataframe thead th {\n        text-align: right;\n    }\n</style>\n<table border=\"1\" class=\"dataframe\">\n  <thead>\n    <tr style=\"text-align: right;\">\n      <th></th>\n      <th>서울</th>\n      <th>부산</th>\n      <th>대구</th>\n      <th>인천</th>\n      <th>대전</th>\n      <th>광주</th>\n      <th>울산</th>\n      <th>세종</th>\n      <th>경기</th>\n      <th>강원</th>\n      <th>충북</th>\n      <th>충남</th>\n      <th>경북</th>\n      <th>경남</th>\n      <th>전북</th>\n      <th>전남</th>\n      <th>제주</th>\n      <th>합계</th>\n    </tr>\n    <tr>\n      <th>확진일</th>\n      <th></th>\n      <th></th>\n      <th></th>\n      <th></th>\n      <th></th>\n      <th></th>\n      <th></th>\n      <th></th>\n      <th></th>\n      <th></th>\n      <th></th>\n      <th></th>\n      <th></th>\n      <th></th>\n      <th></th>\n      <th></th>\n      <th></th>\n      <th></th>\n    </tr>\n  </thead>\n  <tbody>\n    <tr>\n      <th>2020-03-01</th>\n      <td>24</td>\n      <td>1</td>\n      <td>60</td>\n      <td>6</td>\n      <td>2</td>\n      <td>0</td>\n      <td>0</td>\n      <td>0</td>\n      <td>13</td>\n      <td>0</td>\n      <td>0</td>\n      <td>1</td>\n      <td>2</td>\n      <td>1</td>\n      <td>0</td>\n      <td>0</td>\n      <td>0</td>\n      <td>125</td>\n    </tr>\n    <tr>\n      <th>2020-04-01</th>\n      <td>24</td>\n      <td>3</td>\n      <td>20</td>\n      <td>5</td>\n      <td>0</td>\n      <td>4</td>\n      <td>0</td>\n      <td>0</td>\n      <td>23</td>\n      <td>2</td>\n      <td>0</td>\n      <td>3</td>\n      <td>2</td>\n      <td>4</td>\n      <td>1</td>\n      <td>3</td>\n      <td>0</td>\n      <td>101</td>\n    </tr>\n    <tr>\n      <th>2020-05-01</th>\n      <td>1</td>\n      <td>0</td>\n      <td>0</td>\n      <td>1</td>\n      <td>0</td>\n      <td>0</td>\n      <td>0</td>\n      <td>0</td>\n      <td>2</td>\n      <td>0</td>\n      <td>0</td>\n      <td>0</td>\n      <td>1</td>\n      <td>0</td>\n      <td>0</td>\n      <td>0</td>\n      <td>0</td>\n      <td>9</td>\n    </tr>\n    <tr>\n      <th>2020-06-01</th>\n      <td>1</td>\n      <td>0</td>\n      <td>1</td>\n      <td>18</td>\n      <td>0</td>\n      <td>0</td>\n      <td>0</td>\n      <td>0</td>\n      <td>12</td>\n      <td>0</td>\n      <td>0</td>\n      <td>0</td>\n      <td>0</td>\n      <td>0</td>\n      <td>0</td>\n      <td>1</td>\n      <td>0</td>\n      <td>35</td>\n    </tr>\n    <tr>\n      <th>2020-07-01</th>\n      <td>9</td>\n      <td>0</td>\n      <td>1</td>\n      <td>2</td>\n      <td>4</td>\n      <td>12</td>\n      <td>0</td>\n      <td>0</td>\n      <td>16</td>\n      <td>0</td>\n      <td>0</td>\n      <td>1</td>\n      <td>0</td>\n      <td>0</td>\n      <td>0</td>\n      <td>1</td>\n      <td>0</td>\n      <td>51</td>\n    </tr>\n  </tbody>\n</table>\n</div>"
     },
     "metadata": {},
     "execution_count": 239
    }
   ],
   "source": [
    "cov_m = cov.resample('MS').first()\n",
    "cov_m.head()"
   ]
  },
  {
   "cell_type": "code",
   "execution_count": 240,
   "metadata": {},
   "outputs": [],
   "source": [
    "# cov_m.to_excel('./results/전국코로나03.xlsx')"
   ]
  },
  {
   "cell_type": "code",
   "execution_count": 241,
   "metadata": {},
   "outputs": [
    {
     "output_type": "execute_result",
     "data": {
      "text/plain": [
       "     서울  부산  대구  인천  대전  광주  울산  세종  경기  강원  충북  충남  경북  경남  전북  전남  제주   합계\n",
       "3월   24   1  60   6   2   0   0   0  13   0   0   1   2   1   0   0   0  125\n",
       "4월   24   3  20   5   0   4   0   0  23   2   0   3   2   4   1   3   0  101\n",
       "5월    1   0   0   1   0   0   0   0   2   0   0   0   1   0   0   0   0    9\n",
       "6월    1   0   1  18   0   0   0   0  12   0   0   0   0   0   0   1   0   35\n",
       "7월    9   0   1   2   4  12   0   0  16   0   0   1   0   0   0   1   0   51\n",
       "8월    2   1   0   1   0   0   0   0   7   0   0   0   1   0   0   0   0   31\n",
       "9월   94   3   2  22   8   4   6   0  63   4   1   7   9   3   0   4   1  235\n",
       "10월  30   6   1   3   0   0   0   0  21   0   1   3   5   0   0   1   0   77\n",
       "11월  45   0   2   4   0   3   0   0  38   3   1   9   0   2   0   3   0  124"
      ],
      "text/html": "<div>\n<style scoped>\n    .dataframe tbody tr th:only-of-type {\n        vertical-align: middle;\n    }\n\n    .dataframe tbody tr th {\n        vertical-align: top;\n    }\n\n    .dataframe thead th {\n        text-align: right;\n    }\n</style>\n<table border=\"1\" class=\"dataframe\">\n  <thead>\n    <tr style=\"text-align: right;\">\n      <th></th>\n      <th>서울</th>\n      <th>부산</th>\n      <th>대구</th>\n      <th>인천</th>\n      <th>대전</th>\n      <th>광주</th>\n      <th>울산</th>\n      <th>세종</th>\n      <th>경기</th>\n      <th>강원</th>\n      <th>충북</th>\n      <th>충남</th>\n      <th>경북</th>\n      <th>경남</th>\n      <th>전북</th>\n      <th>전남</th>\n      <th>제주</th>\n      <th>합계</th>\n    </tr>\n  </thead>\n  <tbody>\n    <tr>\n      <th>3월</th>\n      <td>24</td>\n      <td>1</td>\n      <td>60</td>\n      <td>6</td>\n      <td>2</td>\n      <td>0</td>\n      <td>0</td>\n      <td>0</td>\n      <td>13</td>\n      <td>0</td>\n      <td>0</td>\n      <td>1</td>\n      <td>2</td>\n      <td>1</td>\n      <td>0</td>\n      <td>0</td>\n      <td>0</td>\n      <td>125</td>\n    </tr>\n    <tr>\n      <th>4월</th>\n      <td>24</td>\n      <td>3</td>\n      <td>20</td>\n      <td>5</td>\n      <td>0</td>\n      <td>4</td>\n      <td>0</td>\n      <td>0</td>\n      <td>23</td>\n      <td>2</td>\n      <td>0</td>\n      <td>3</td>\n      <td>2</td>\n      <td>4</td>\n      <td>1</td>\n      <td>3</td>\n      <td>0</td>\n      <td>101</td>\n    </tr>\n    <tr>\n      <th>5월</th>\n      <td>1</td>\n      <td>0</td>\n      <td>0</td>\n      <td>1</td>\n      <td>0</td>\n      <td>0</td>\n      <td>0</td>\n      <td>0</td>\n      <td>2</td>\n      <td>0</td>\n      <td>0</td>\n      <td>0</td>\n      <td>1</td>\n      <td>0</td>\n      <td>0</td>\n      <td>0</td>\n      <td>0</td>\n      <td>9</td>\n    </tr>\n    <tr>\n      <th>6월</th>\n      <td>1</td>\n      <td>0</td>\n      <td>1</td>\n      <td>18</td>\n      <td>0</td>\n      <td>0</td>\n      <td>0</td>\n      <td>0</td>\n      <td>12</td>\n      <td>0</td>\n      <td>0</td>\n      <td>0</td>\n      <td>0</td>\n      <td>0</td>\n      <td>0</td>\n      <td>1</td>\n      <td>0</td>\n      <td>35</td>\n    </tr>\n    <tr>\n      <th>7월</th>\n      <td>9</td>\n      <td>0</td>\n      <td>1</td>\n      <td>2</td>\n      <td>4</td>\n      <td>12</td>\n      <td>0</td>\n      <td>0</td>\n      <td>16</td>\n      <td>0</td>\n      <td>0</td>\n      <td>1</td>\n      <td>0</td>\n      <td>0</td>\n      <td>0</td>\n      <td>1</td>\n      <td>0</td>\n      <td>51</td>\n    </tr>\n    <tr>\n      <th>8월</th>\n      <td>2</td>\n      <td>1</td>\n      <td>0</td>\n      <td>1</td>\n      <td>0</td>\n      <td>0</td>\n      <td>0</td>\n      <td>0</td>\n      <td>7</td>\n      <td>0</td>\n      <td>0</td>\n      <td>0</td>\n      <td>1</td>\n      <td>0</td>\n      <td>0</td>\n      <td>0</td>\n      <td>0</td>\n      <td>31</td>\n    </tr>\n    <tr>\n      <th>9월</th>\n      <td>94</td>\n      <td>3</td>\n      <td>2</td>\n      <td>22</td>\n      <td>8</td>\n      <td>4</td>\n      <td>6</td>\n      <td>0</td>\n      <td>63</td>\n      <td>4</td>\n      <td>1</td>\n      <td>7</td>\n      <td>9</td>\n      <td>3</td>\n      <td>0</td>\n      <td>4</td>\n      <td>1</td>\n      <td>235</td>\n    </tr>\n    <tr>\n      <th>10월</th>\n      <td>30</td>\n      <td>6</td>\n      <td>1</td>\n      <td>3</td>\n      <td>0</td>\n      <td>0</td>\n      <td>0</td>\n      <td>0</td>\n      <td>21</td>\n      <td>0</td>\n      <td>1</td>\n      <td>3</td>\n      <td>5</td>\n      <td>0</td>\n      <td>0</td>\n      <td>1</td>\n      <td>0</td>\n      <td>77</td>\n    </tr>\n    <tr>\n      <th>11월</th>\n      <td>45</td>\n      <td>0</td>\n      <td>2</td>\n      <td>4</td>\n      <td>0</td>\n      <td>3</td>\n      <td>0</td>\n      <td>0</td>\n      <td>38</td>\n      <td>3</td>\n      <td>1</td>\n      <td>9</td>\n      <td>0</td>\n      <td>2</td>\n      <td>0</td>\n      <td>3</td>\n      <td>0</td>\n      <td>124</td>\n    </tr>\n  </tbody>\n</table>\n</div>"
     },
     "metadata": {},
     "execution_count": 241
    }
   ],
   "source": [
    "cov_m.index = ['3월','4월','5월','6월','7월','8월','9월','10월','11월']\n",
    "cov_m"
   ]
  },
  {
   "cell_type": "code",
   "execution_count": 242,
   "metadata": {},
   "outputs": [
    {
     "output_type": "execute_result",
     "data": {
      "text/plain": [
       "     3월   4월  5월  6월  7월  8월   9월  10월  11월\n",
       "서울   24   24   1   1   9   2   94   30   45\n",
       "부산    1    3   0   0   0   1    3    6    0\n",
       "대구   60   20   0   1   1   0    2    1    2\n",
       "인천    6    5   1  18   2   1   22    3    4\n",
       "대전    2    0   0   0   4   0    8    0    0\n",
       "광주    0    4   0   0  12   0    4    0    3\n",
       "울산    0    0   0   0   0   0    6    0    0\n",
       "세종    0    0   0   0   0   0    0    0    0\n",
       "경기   13   23   2  12  16   7   63   21   38\n",
       "강원    0    2   0   0   0   0    4    0    3\n",
       "충북    0    0   0   0   0   0    1    1    1\n",
       "충남    1    3   0   0   1   0    7    3    9\n",
       "경북    2    2   1   0   0   1    9    5    0\n",
       "경남    1    4   0   0   0   0    3    0    2\n",
       "전북    0    1   0   0   0   0    0    0    0\n",
       "전남    0    3   0   1   1   0    4    1    3\n",
       "제주    0    0   0   0   0   0    1    0    0\n",
       "합계  125  101   9  35  51  31  235   77  124"
      ],
      "text/html": "<div>\n<style scoped>\n    .dataframe tbody tr th:only-of-type {\n        vertical-align: middle;\n    }\n\n    .dataframe tbody tr th {\n        vertical-align: top;\n    }\n\n    .dataframe thead th {\n        text-align: right;\n    }\n</style>\n<table border=\"1\" class=\"dataframe\">\n  <thead>\n    <tr style=\"text-align: right;\">\n      <th></th>\n      <th>3월</th>\n      <th>4월</th>\n      <th>5월</th>\n      <th>6월</th>\n      <th>7월</th>\n      <th>8월</th>\n      <th>9월</th>\n      <th>10월</th>\n      <th>11월</th>\n    </tr>\n  </thead>\n  <tbody>\n    <tr>\n      <th>서울</th>\n      <td>24</td>\n      <td>24</td>\n      <td>1</td>\n      <td>1</td>\n      <td>9</td>\n      <td>2</td>\n      <td>94</td>\n      <td>30</td>\n      <td>45</td>\n    </tr>\n    <tr>\n      <th>부산</th>\n      <td>1</td>\n      <td>3</td>\n      <td>0</td>\n      <td>0</td>\n      <td>0</td>\n      <td>1</td>\n      <td>3</td>\n      <td>6</td>\n      <td>0</td>\n    </tr>\n    <tr>\n      <th>대구</th>\n      <td>60</td>\n      <td>20</td>\n      <td>0</td>\n      <td>1</td>\n      <td>1</td>\n      <td>0</td>\n      <td>2</td>\n      <td>1</td>\n      <td>2</td>\n    </tr>\n    <tr>\n      <th>인천</th>\n      <td>6</td>\n      <td>5</td>\n      <td>1</td>\n      <td>18</td>\n      <td>2</td>\n      <td>1</td>\n      <td>22</td>\n      <td>3</td>\n      <td>4</td>\n    </tr>\n    <tr>\n      <th>대전</th>\n      <td>2</td>\n      <td>0</td>\n      <td>0</td>\n      <td>0</td>\n      <td>4</td>\n      <td>0</td>\n      <td>8</td>\n      <td>0</td>\n      <td>0</td>\n    </tr>\n    <tr>\n      <th>광주</th>\n      <td>0</td>\n      <td>4</td>\n      <td>0</td>\n      <td>0</td>\n      <td>12</td>\n      <td>0</td>\n      <td>4</td>\n      <td>0</td>\n      <td>3</td>\n    </tr>\n    <tr>\n      <th>울산</th>\n      <td>0</td>\n      <td>0</td>\n      <td>0</td>\n      <td>0</td>\n      <td>0</td>\n      <td>0</td>\n      <td>6</td>\n      <td>0</td>\n      <td>0</td>\n    </tr>\n    <tr>\n      <th>세종</th>\n      <td>0</td>\n      <td>0</td>\n      <td>0</td>\n      <td>0</td>\n      <td>0</td>\n      <td>0</td>\n      <td>0</td>\n      <td>0</td>\n      <td>0</td>\n    </tr>\n    <tr>\n      <th>경기</th>\n      <td>13</td>\n      <td>23</td>\n      <td>2</td>\n      <td>12</td>\n      <td>16</td>\n      <td>7</td>\n      <td>63</td>\n      <td>21</td>\n      <td>38</td>\n    </tr>\n    <tr>\n      <th>강원</th>\n      <td>0</td>\n      <td>2</td>\n      <td>0</td>\n      <td>0</td>\n      <td>0</td>\n      <td>0</td>\n      <td>4</td>\n      <td>0</td>\n      <td>3</td>\n    </tr>\n    <tr>\n      <th>충북</th>\n      <td>0</td>\n      <td>0</td>\n      <td>0</td>\n      <td>0</td>\n      <td>0</td>\n      <td>0</td>\n      <td>1</td>\n      <td>1</td>\n      <td>1</td>\n    </tr>\n    <tr>\n      <th>충남</th>\n      <td>1</td>\n      <td>3</td>\n      <td>0</td>\n      <td>0</td>\n      <td>1</td>\n      <td>0</td>\n      <td>7</td>\n      <td>3</td>\n      <td>9</td>\n    </tr>\n    <tr>\n      <th>경북</th>\n      <td>2</td>\n      <td>2</td>\n      <td>1</td>\n      <td>0</td>\n      <td>0</td>\n      <td>1</td>\n      <td>9</td>\n      <td>5</td>\n      <td>0</td>\n    </tr>\n    <tr>\n      <th>경남</th>\n      <td>1</td>\n      <td>4</td>\n      <td>0</td>\n      <td>0</td>\n      <td>0</td>\n      <td>0</td>\n      <td>3</td>\n      <td>0</td>\n      <td>2</td>\n    </tr>\n    <tr>\n      <th>전북</th>\n      <td>0</td>\n      <td>1</td>\n      <td>0</td>\n      <td>0</td>\n      <td>0</td>\n      <td>0</td>\n      <td>0</td>\n      <td>0</td>\n      <td>0</td>\n    </tr>\n    <tr>\n      <th>전남</th>\n      <td>0</td>\n      <td>3</td>\n      <td>0</td>\n      <td>1</td>\n      <td>1</td>\n      <td>0</td>\n      <td>4</td>\n      <td>1</td>\n      <td>3</td>\n    </tr>\n    <tr>\n      <th>제주</th>\n      <td>0</td>\n      <td>0</td>\n      <td>0</td>\n      <td>0</td>\n      <td>0</td>\n      <td>0</td>\n      <td>1</td>\n      <td>0</td>\n      <td>0</td>\n    </tr>\n    <tr>\n      <th>합계</th>\n      <td>125</td>\n      <td>101</td>\n      <td>9</td>\n      <td>35</td>\n      <td>51</td>\n      <td>31</td>\n      <td>235</td>\n      <td>77</td>\n      <td>124</td>\n    </tr>\n  </tbody>\n</table>\n</div>"
     },
     "metadata": {},
     "execution_count": 242
    }
   ],
   "source": [
    "cov_m_T = cov_m.T\n",
    "cov_m_T"
   ]
  },
  {
   "cell_type": "code",
   "execution_count": 243,
   "metadata": {},
   "outputs": [
    {
     "output_type": "execute_result",
     "data": {
      "text/plain": [
       "     3월   4월  5월  6월  7월  8월   9월  10월  11월   합계\n",
       "서울   24   24   1   1   9   2   94   30   45  230\n",
       "부산    1    3   0   0   0   1    3    6    0   14\n",
       "대구   60   20   0   1   1   0    2    1    2   87\n",
       "인천    6    5   1  18   2   1   22    3    4   62\n",
       "대전    2    0   0   0   4   0    8    0    0   14\n",
       "광주    0    4   0   0  12   0    4    0    3   23\n",
       "울산    0    0   0   0   0   0    6    0    0    6\n",
       "세종    0    0   0   0   0   0    0    0    0    0\n",
       "경기   13   23   2  12  16   7   63   21   38  195\n",
       "강원    0    2   0   0   0   0    4    0    3    9\n",
       "충북    0    0   0   0   0   0    1    1    1    3\n",
       "충남    1    3   0   0   1   0    7    3    9   24\n",
       "경북    2    2   1   0   0   1    9    5    0   20\n",
       "경남    1    4   0   0   0   0    3    0    2   10\n",
       "전북    0    1   0   0   0   0    0    0    0    1\n",
       "전남    0    3   0   1   1   0    4    1    3   13\n",
       "제주    0    0   0   0   0   0    1    0    0    1\n",
       "합계  125  101   9  35  51  31  235   77  124  788"
      ],
      "text/html": "<div>\n<style scoped>\n    .dataframe tbody tr th:only-of-type {\n        vertical-align: middle;\n    }\n\n    .dataframe tbody tr th {\n        vertical-align: top;\n    }\n\n    .dataframe thead th {\n        text-align: right;\n    }\n</style>\n<table border=\"1\" class=\"dataframe\">\n  <thead>\n    <tr style=\"text-align: right;\">\n      <th></th>\n      <th>3월</th>\n      <th>4월</th>\n      <th>5월</th>\n      <th>6월</th>\n      <th>7월</th>\n      <th>8월</th>\n      <th>9월</th>\n      <th>10월</th>\n      <th>11월</th>\n      <th>합계</th>\n    </tr>\n  </thead>\n  <tbody>\n    <tr>\n      <th>서울</th>\n      <td>24</td>\n      <td>24</td>\n      <td>1</td>\n      <td>1</td>\n      <td>9</td>\n      <td>2</td>\n      <td>94</td>\n      <td>30</td>\n      <td>45</td>\n      <td>230</td>\n    </tr>\n    <tr>\n      <th>부산</th>\n      <td>1</td>\n      <td>3</td>\n      <td>0</td>\n      <td>0</td>\n      <td>0</td>\n      <td>1</td>\n      <td>3</td>\n      <td>6</td>\n      <td>0</td>\n      <td>14</td>\n    </tr>\n    <tr>\n      <th>대구</th>\n      <td>60</td>\n      <td>20</td>\n      <td>0</td>\n      <td>1</td>\n      <td>1</td>\n      <td>0</td>\n      <td>2</td>\n      <td>1</td>\n      <td>2</td>\n      <td>87</td>\n    </tr>\n    <tr>\n      <th>인천</th>\n      <td>6</td>\n      <td>5</td>\n      <td>1</td>\n      <td>18</td>\n      <td>2</td>\n      <td>1</td>\n      <td>22</td>\n      <td>3</td>\n      <td>4</td>\n      <td>62</td>\n    </tr>\n    <tr>\n      <th>대전</th>\n      <td>2</td>\n      <td>0</td>\n      <td>0</td>\n      <td>0</td>\n      <td>4</td>\n      <td>0</td>\n      <td>8</td>\n      <td>0</td>\n      <td>0</td>\n      <td>14</td>\n    </tr>\n    <tr>\n      <th>광주</th>\n      <td>0</td>\n      <td>4</td>\n      <td>0</td>\n      <td>0</td>\n      <td>12</td>\n      <td>0</td>\n      <td>4</td>\n      <td>0</td>\n      <td>3</td>\n      <td>23</td>\n    </tr>\n    <tr>\n      <th>울산</th>\n      <td>0</td>\n      <td>0</td>\n      <td>0</td>\n      <td>0</td>\n      <td>0</td>\n      <td>0</td>\n      <td>6</td>\n      <td>0</td>\n      <td>0</td>\n      <td>6</td>\n    </tr>\n    <tr>\n      <th>세종</th>\n      <td>0</td>\n      <td>0</td>\n      <td>0</td>\n      <td>0</td>\n      <td>0</td>\n      <td>0</td>\n      <td>0</td>\n      <td>0</td>\n      <td>0</td>\n      <td>0</td>\n    </tr>\n    <tr>\n      <th>경기</th>\n      <td>13</td>\n      <td>23</td>\n      <td>2</td>\n      <td>12</td>\n      <td>16</td>\n      <td>7</td>\n      <td>63</td>\n      <td>21</td>\n      <td>38</td>\n      <td>195</td>\n    </tr>\n    <tr>\n      <th>강원</th>\n      <td>0</td>\n      <td>2</td>\n      <td>0</td>\n      <td>0</td>\n      <td>0</td>\n      <td>0</td>\n      <td>4</td>\n      <td>0</td>\n      <td>3</td>\n      <td>9</td>\n    </tr>\n    <tr>\n      <th>충북</th>\n      <td>0</td>\n      <td>0</td>\n      <td>0</td>\n      <td>0</td>\n      <td>0</td>\n      <td>0</td>\n      <td>1</td>\n      <td>1</td>\n      <td>1</td>\n      <td>3</td>\n    </tr>\n    <tr>\n      <th>충남</th>\n      <td>1</td>\n      <td>3</td>\n      <td>0</td>\n      <td>0</td>\n      <td>1</td>\n      <td>0</td>\n      <td>7</td>\n      <td>3</td>\n      <td>9</td>\n      <td>24</td>\n    </tr>\n    <tr>\n      <th>경북</th>\n      <td>2</td>\n      <td>2</td>\n      <td>1</td>\n      <td>0</td>\n      <td>0</td>\n      <td>1</td>\n      <td>9</td>\n      <td>5</td>\n      <td>0</td>\n      <td>20</td>\n    </tr>\n    <tr>\n      <th>경남</th>\n      <td>1</td>\n      <td>4</td>\n      <td>0</td>\n      <td>0</td>\n      <td>0</td>\n      <td>0</td>\n      <td>3</td>\n      <td>0</td>\n      <td>2</td>\n      <td>10</td>\n    </tr>\n    <tr>\n      <th>전북</th>\n      <td>0</td>\n      <td>1</td>\n      <td>0</td>\n      <td>0</td>\n      <td>0</td>\n      <td>0</td>\n      <td>0</td>\n      <td>0</td>\n      <td>0</td>\n      <td>1</td>\n    </tr>\n    <tr>\n      <th>전남</th>\n      <td>0</td>\n      <td>3</td>\n      <td>0</td>\n      <td>1</td>\n      <td>1</td>\n      <td>0</td>\n      <td>4</td>\n      <td>1</td>\n      <td>3</td>\n      <td>13</td>\n    </tr>\n    <tr>\n      <th>제주</th>\n      <td>0</td>\n      <td>0</td>\n      <td>0</td>\n      <td>0</td>\n      <td>0</td>\n      <td>0</td>\n      <td>1</td>\n      <td>0</td>\n      <td>0</td>\n      <td>1</td>\n    </tr>\n    <tr>\n      <th>합계</th>\n      <td>125</td>\n      <td>101</td>\n      <td>9</td>\n      <td>35</td>\n      <td>51</td>\n      <td>31</td>\n      <td>235</td>\n      <td>77</td>\n      <td>124</td>\n      <td>788</td>\n    </tr>\n  </tbody>\n</table>\n</div>"
     },
     "metadata": {},
     "execution_count": 243
    }
   ],
   "source": [
    "# 가로로 계산할 경우 값이 소수로 나오기에 해당 숫자를 먼저 정수로 변경후 합계를 계산\n",
    "cov_m_T['합계'] = cov_m_T.astype('int').sum(axis=1)\n",
    "cov_m_T"
   ]
  },
  {
   "cell_type": "code",
   "execution_count": 244,
   "metadata": {},
   "outputs": [
    {
     "output_type": "stream",
     "name": "stdout",
     "text": [
      "<class 'pandas.core.frame.DataFrame'>\nIndex: 18 entries, 서울 to 합계\nData columns (total 10 columns):\n #   Column  Non-Null Count  Dtype\n---  ------  --------------  -----\n 0   3월      18 non-null     int32\n 1   4월      18 non-null     int32\n 2   5월      18 non-null     int32\n 3   6월      18 non-null     int32\n 4   7월      18 non-null     int32\n 5   8월      18 non-null     int32\n 6   9월      18 non-null     int32\n 7   10월     18 non-null     int32\n 8   11월     18 non-null     int32\n 9   합계      18 non-null     int64\ndtypes: int32(9), int64(1)\nmemory usage: 1.5+ KB\n"
     ]
    }
   ],
   "source": [
    "cov_m_T.info()"
   ]
  },
  {
   "cell_type": "code",
   "execution_count": 245,
   "metadata": {},
   "outputs": [
    {
     "output_type": "execute_result",
     "data": {
      "text/plain": [
       "    3월  4월  5월  6월  7월  8월  9월  10월  11월   합계\n",
       "서울  24  24   1   1   9   2  94   30   45  230\n",
       "부산   1   3   0   0   0   1   3    6    0   14\n",
       "대구  60  20   0   1   1   0   2    1    2   87\n",
       "인천   6   5   1  18   2   1  22    3    4   62\n",
       "대전   2   0   0   0   4   0   8    0    0   14\n",
       "광주   0   4   0   0  12   0   4    0    3   23\n",
       "울산   0   0   0   0   0   0   6    0    0    6\n",
       "세종   0   0   0   0   0   0   0    0    0    0\n",
       "경기  13  23   2  12  16   7  63   21   38  195\n",
       "강원   0   2   0   0   0   0   4    0    3    9\n",
       "충북   0   0   0   0   0   0   1    1    1    3\n",
       "충남   1   3   0   0   1   0   7    3    9   24\n",
       "경북   2   2   1   0   0   1   9    5    0   20\n",
       "경남   1   4   0   0   0   0   3    0    2   10\n",
       "전북   0   1   0   0   0   0   0    0    0    1\n",
       "전남   0   3   0   1   1   0   4    1    3   13\n",
       "제주   0   0   0   0   0   0   1    0    0    1"
      ],
      "text/html": "<div>\n<style scoped>\n    .dataframe tbody tr th:only-of-type {\n        vertical-align: middle;\n    }\n\n    .dataframe tbody tr th {\n        vertical-align: top;\n    }\n\n    .dataframe thead th {\n        text-align: right;\n    }\n</style>\n<table border=\"1\" class=\"dataframe\">\n  <thead>\n    <tr style=\"text-align: right;\">\n      <th></th>\n      <th>3월</th>\n      <th>4월</th>\n      <th>5월</th>\n      <th>6월</th>\n      <th>7월</th>\n      <th>8월</th>\n      <th>9월</th>\n      <th>10월</th>\n      <th>11월</th>\n      <th>합계</th>\n    </tr>\n  </thead>\n  <tbody>\n    <tr>\n      <th>서울</th>\n      <td>24</td>\n      <td>24</td>\n      <td>1</td>\n      <td>1</td>\n      <td>9</td>\n      <td>2</td>\n      <td>94</td>\n      <td>30</td>\n      <td>45</td>\n      <td>230</td>\n    </tr>\n    <tr>\n      <th>부산</th>\n      <td>1</td>\n      <td>3</td>\n      <td>0</td>\n      <td>0</td>\n      <td>0</td>\n      <td>1</td>\n      <td>3</td>\n      <td>6</td>\n      <td>0</td>\n      <td>14</td>\n    </tr>\n    <tr>\n      <th>대구</th>\n      <td>60</td>\n      <td>20</td>\n      <td>0</td>\n      <td>1</td>\n      <td>1</td>\n      <td>0</td>\n      <td>2</td>\n      <td>1</td>\n      <td>2</td>\n      <td>87</td>\n    </tr>\n    <tr>\n      <th>인천</th>\n      <td>6</td>\n      <td>5</td>\n      <td>1</td>\n      <td>18</td>\n      <td>2</td>\n      <td>1</td>\n      <td>22</td>\n      <td>3</td>\n      <td>4</td>\n      <td>62</td>\n    </tr>\n    <tr>\n      <th>대전</th>\n      <td>2</td>\n      <td>0</td>\n      <td>0</td>\n      <td>0</td>\n      <td>4</td>\n      <td>0</td>\n      <td>8</td>\n      <td>0</td>\n      <td>0</td>\n      <td>14</td>\n    </tr>\n    <tr>\n      <th>광주</th>\n      <td>0</td>\n      <td>4</td>\n      <td>0</td>\n      <td>0</td>\n      <td>12</td>\n      <td>0</td>\n      <td>4</td>\n      <td>0</td>\n      <td>3</td>\n      <td>23</td>\n    </tr>\n    <tr>\n      <th>울산</th>\n      <td>0</td>\n      <td>0</td>\n      <td>0</td>\n      <td>0</td>\n      <td>0</td>\n      <td>0</td>\n      <td>6</td>\n      <td>0</td>\n      <td>0</td>\n      <td>6</td>\n    </tr>\n    <tr>\n      <th>세종</th>\n      <td>0</td>\n      <td>0</td>\n      <td>0</td>\n      <td>0</td>\n      <td>0</td>\n      <td>0</td>\n      <td>0</td>\n      <td>0</td>\n      <td>0</td>\n      <td>0</td>\n    </tr>\n    <tr>\n      <th>경기</th>\n      <td>13</td>\n      <td>23</td>\n      <td>2</td>\n      <td>12</td>\n      <td>16</td>\n      <td>7</td>\n      <td>63</td>\n      <td>21</td>\n      <td>38</td>\n      <td>195</td>\n    </tr>\n    <tr>\n      <th>강원</th>\n      <td>0</td>\n      <td>2</td>\n      <td>0</td>\n      <td>0</td>\n      <td>0</td>\n      <td>0</td>\n      <td>4</td>\n      <td>0</td>\n      <td>3</td>\n      <td>9</td>\n    </tr>\n    <tr>\n      <th>충북</th>\n      <td>0</td>\n      <td>0</td>\n      <td>0</td>\n      <td>0</td>\n      <td>0</td>\n      <td>0</td>\n      <td>1</td>\n      <td>1</td>\n      <td>1</td>\n      <td>3</td>\n    </tr>\n    <tr>\n      <th>충남</th>\n      <td>1</td>\n      <td>3</td>\n      <td>0</td>\n      <td>0</td>\n      <td>1</td>\n      <td>0</td>\n      <td>7</td>\n      <td>3</td>\n      <td>9</td>\n      <td>24</td>\n    </tr>\n    <tr>\n      <th>경북</th>\n      <td>2</td>\n      <td>2</td>\n      <td>1</td>\n      <td>0</td>\n      <td>0</td>\n      <td>1</td>\n      <td>9</td>\n      <td>5</td>\n      <td>0</td>\n      <td>20</td>\n    </tr>\n    <tr>\n      <th>경남</th>\n      <td>1</td>\n      <td>4</td>\n      <td>0</td>\n      <td>0</td>\n      <td>0</td>\n      <td>0</td>\n      <td>3</td>\n      <td>0</td>\n      <td>2</td>\n      <td>10</td>\n    </tr>\n    <tr>\n      <th>전북</th>\n      <td>0</td>\n      <td>1</td>\n      <td>0</td>\n      <td>0</td>\n      <td>0</td>\n      <td>0</td>\n      <td>0</td>\n      <td>0</td>\n      <td>0</td>\n      <td>1</td>\n    </tr>\n    <tr>\n      <th>전남</th>\n      <td>0</td>\n      <td>3</td>\n      <td>0</td>\n      <td>1</td>\n      <td>1</td>\n      <td>0</td>\n      <td>4</td>\n      <td>1</td>\n      <td>3</td>\n      <td>13</td>\n    </tr>\n    <tr>\n      <th>제주</th>\n      <td>0</td>\n      <td>0</td>\n      <td>0</td>\n      <td>0</td>\n      <td>0</td>\n      <td>0</td>\n      <td>1</td>\n      <td>0</td>\n      <td>0</td>\n      <td>1</td>\n    </tr>\n  </tbody>\n</table>\n</div>"
     },
     "metadata": {},
     "execution_count": 245
    }
   ],
   "source": [
    "cov_m_T = cov_m_T.iloc[:-1, :]\n",
    "cov_m_T"
   ]
  },
  {
   "cell_type": "code",
   "execution_count": 246,
   "metadata": {},
   "outputs": [],
   "source": [
    "# del cov_m_T['합계']"
   ]
  },
  {
   "cell_type": "code",
   "execution_count": 247,
   "metadata": {},
   "outputs": [],
   "source": [
    "# cov_m_T.to_excel('./results/전국코로나03_T.xlsx')"
   ]
  },
  {
   "cell_type": "markdown",
   "metadata": {},
   "source": [
    "### 카카오맵 api로 주소 받아오기"
   ]
  },
  {
   "cell_type": "code",
   "execution_count": 266,
   "metadata": {},
   "outputs": [],
   "source": [
    "from urllib.parse import urlparse"
   ]
  },
  {
   "cell_type": "code",
   "execution_count": 268,
   "metadata": {},
   "outputs": [
    {
     "output_type": "execute_result",
     "data": {
      "text/plain": [
       "    3월  4월  5월  6월  7월  8월  9월  10월  11월   합계\n",
       "서울  24  24   1   1   9   2  94   30   45  230\n",
       "부산   1   3   0   0   0   1   3    6    0   14\n",
       "대구  60  20   0   1   1   0   2    1    2   87"
      ],
      "text/html": "<div>\n<style scoped>\n    .dataframe tbody tr th:only-of-type {\n        vertical-align: middle;\n    }\n\n    .dataframe tbody tr th {\n        vertical-align: top;\n    }\n\n    .dataframe thead th {\n        text-align: right;\n    }\n</style>\n<table border=\"1\" class=\"dataframe\">\n  <thead>\n    <tr style=\"text-align: right;\">\n      <th></th>\n      <th>3월</th>\n      <th>4월</th>\n      <th>5월</th>\n      <th>6월</th>\n      <th>7월</th>\n      <th>8월</th>\n      <th>9월</th>\n      <th>10월</th>\n      <th>11월</th>\n      <th>합계</th>\n    </tr>\n  </thead>\n  <tbody>\n    <tr>\n      <th>서울</th>\n      <td>24</td>\n      <td>24</td>\n      <td>1</td>\n      <td>1</td>\n      <td>9</td>\n      <td>2</td>\n      <td>94</td>\n      <td>30</td>\n      <td>45</td>\n      <td>230</td>\n    </tr>\n    <tr>\n      <th>부산</th>\n      <td>1</td>\n      <td>3</td>\n      <td>0</td>\n      <td>0</td>\n      <td>0</td>\n      <td>1</td>\n      <td>3</td>\n      <td>6</td>\n      <td>0</td>\n      <td>14</td>\n    </tr>\n    <tr>\n      <th>대구</th>\n      <td>60</td>\n      <td>20</td>\n      <td>0</td>\n      <td>1</td>\n      <td>1</td>\n      <td>0</td>\n      <td>2</td>\n      <td>1</td>\n      <td>2</td>\n      <td>87</td>\n    </tr>\n  </tbody>\n</table>\n</div>"
     },
     "metadata": {},
     "execution_count": 268
    }
   ],
   "source": [
    "cov_m_T.head(3)"
   ]
  },
  {
   "cell_type": "code",
   "execution_count": 290,
   "metadata": {},
   "outputs": [
    {
     "output_type": "execute_result",
     "data": {
      "text/plain": [
       "    3월  4월  5월  6월  7월  8월  9월  10월  11월   합계      시청\n",
       "서울  24  24   1   1   9   2  94   30   45  230    서울시청\n",
       "부산   1   3   0   0   0   1   3    6    0   14  부산광역시청\n",
       "대구  60  20   0   1   1   0   2    1    2   87  대구광역시청\n",
       "인천   6   5   1  18   2   1  22    3    4   62    인천시청\n",
       "대전   2   0   0   0   4   0   8    0    0   14  대전광역시청"
      ],
      "text/html": "<div>\n<style scoped>\n    .dataframe tbody tr th:only-of-type {\n        vertical-align: middle;\n    }\n\n    .dataframe tbody tr th {\n        vertical-align: top;\n    }\n\n    .dataframe thead th {\n        text-align: right;\n    }\n</style>\n<table border=\"1\" class=\"dataframe\">\n  <thead>\n    <tr style=\"text-align: right;\">\n      <th></th>\n      <th>3월</th>\n      <th>4월</th>\n      <th>5월</th>\n      <th>6월</th>\n      <th>7월</th>\n      <th>8월</th>\n      <th>9월</th>\n      <th>10월</th>\n      <th>11월</th>\n      <th>합계</th>\n      <th>시청</th>\n    </tr>\n  </thead>\n  <tbody>\n    <tr>\n      <th>서울</th>\n      <td>24</td>\n      <td>24</td>\n      <td>1</td>\n      <td>1</td>\n      <td>9</td>\n      <td>2</td>\n      <td>94</td>\n      <td>30</td>\n      <td>45</td>\n      <td>230</td>\n      <td>서울시청</td>\n    </tr>\n    <tr>\n      <th>부산</th>\n      <td>1</td>\n      <td>3</td>\n      <td>0</td>\n      <td>0</td>\n      <td>0</td>\n      <td>1</td>\n      <td>3</td>\n      <td>6</td>\n      <td>0</td>\n      <td>14</td>\n      <td>부산광역시청</td>\n    </tr>\n    <tr>\n      <th>대구</th>\n      <td>60</td>\n      <td>20</td>\n      <td>0</td>\n      <td>1</td>\n      <td>1</td>\n      <td>0</td>\n      <td>2</td>\n      <td>1</td>\n      <td>2</td>\n      <td>87</td>\n      <td>대구광역시청</td>\n    </tr>\n    <tr>\n      <th>인천</th>\n      <td>6</td>\n      <td>5</td>\n      <td>1</td>\n      <td>18</td>\n      <td>2</td>\n      <td>1</td>\n      <td>22</td>\n      <td>3</td>\n      <td>4</td>\n      <td>62</td>\n      <td>인천시청</td>\n    </tr>\n    <tr>\n      <th>대전</th>\n      <td>2</td>\n      <td>0</td>\n      <td>0</td>\n      <td>0</td>\n      <td>4</td>\n      <td>0</td>\n      <td>8</td>\n      <td>0</td>\n      <td>0</td>\n      <td>14</td>\n      <td>대전광역시청</td>\n    </tr>\n  </tbody>\n</table>\n</div>"
     },
     "metadata": {},
     "execution_count": 290
    }
   ],
   "source": [
    "cov_m_T_i = []\n",
    "\n",
    "for i in cov_m_T.index:\n",
    "    if i in ['서울','인천','세종','제주']:\n",
    "        cov_m_T_i.append(f'{i}시청')\n",
    "    elif i in ['부산','대구','인천','대전','광주','울산','제주']:\n",
    "        cov_m_T_i.append(f'{i}광역시청')\n",
    "    elif i in ['세종','제주']:\n",
    "        cov_m_T_i.append(f'{i}특별자치시청')\n",
    "    elif i in ['제주']:\n",
    "        cov_m_T_i.append(f'{i}특별자치도청')\n",
    "    elif i in ['강원', '충북', '충남', '전북', '전남', '경북', '경남', '경기']:\n",
    "        cov_m_T_i.append(f'{i}도청')\n",
    "\n",
    "cov_m_T['시청'] = cov_m_T_i\n",
    "cov_m_T.head()"
   ]
  },
  {
   "cell_type": "code",
   "execution_count": 267,
   "metadata": {},
   "outputs": [],
   "source": [
    "key_fd = open('../06.reapi/kakaomapkey.txt', mode='r')\n",
    "kmap_key = key_fd.read(100)\n",
    "key_fd.close()"
   ]
  },
  {
   "cell_type": "code",
   "execution_count": 294,
   "metadata": {},
   "outputs": [
    {
     "output_type": "execute_result",
     "data": {
      "text/plain": [
       "{'address_name': '충북 청주시 상당구 문화동 89',\n",
       " 'category_group_code': 'PO3',\n",
       " 'category_group_name': '공공기관',\n",
       " 'category_name': '사회,공공기관 > 지방행정기관 > 도청',\n",
       " 'distance': '',\n",
       " 'id': '12474840',\n",
       " 'phone': '043-220-2114',\n",
       " 'place_name': '충청북도청',\n",
       " 'place_url': 'http://place.map.kakao.com/12474840',\n",
       " 'road_address_name': '충북 청주시 상당구 상당로 82',\n",
       " 'x': '127.491457326504',\n",
       " 'y': '36.6353581960153'}"
      ]
     },
     "metadata": {},
     "execution_count": 294
    }
   ],
   "source": [
    "addr = '충북도청'\n",
    "url = 'https://dapi.kakao.com/v2/local/search/keyword.json?query=' + addr\n",
    "result = requests.get(urlparse(url).geturl(),\n",
    "            headers={\"Authorization\": \"KakaoAK \"+ kmap_key}).json()\n",
    "result['documents'][0]"
   ]
  },
  {
   "cell_type": "code",
   "execution_count": 295,
   "metadata": {},
   "outputs": [
    {
     "output_type": "execute_result",
     "data": {
      "text/plain": [
       "'127.491457326504'"
      ]
     },
     "metadata": {},
     "execution_count": 295
    }
   ],
   "source": [
    "# 경도\n",
    "result['documents'][0]['x']"
   ]
  },
  {
   "cell_type": "code",
   "execution_count": 296,
   "metadata": {},
   "outputs": [
    {
     "output_type": "execute_result",
     "data": {
      "text/plain": [
       "'36.6353581960153'"
      ]
     },
     "metadata": {},
     "execution_count": 296
    }
   ],
   "source": [
    "# 위도\n",
    "result['documents'][0]['y']"
   ]
  },
  {
   "cell_type": "code",
   "execution_count": 297,
   "metadata": {},
   "outputs": [
    {
     "output_type": "execute_result",
     "data": {
      "text/plain": [
       "(36.6353581960153, 127.491457326504)"
      ]
     },
     "metadata": {},
     "execution_count": 297
    }
   ],
   "source": [
    "# lat: 위도 lng: 경도\n",
    "lat = float(result['documents'][0]['y'])\n",
    "lng = float(result['documents'][0]['x'])\n",
    "lat, lng"
   ]
  },
  {
   "cell_type": "markdown",
   "metadata": {},
   "source": [
    "### 위도 경도 추가"
   ]
  },
  {
   "cell_type": "code",
   "execution_count": null,
   "metadata": {},
   "outputs": [],
   "source": [
    "addr = '충북도청'\n",
    "url = 'https://dapi.kakao.com/v2/local/search/keyword.json?query=' + addr\n",
    "result = requests.get(urlparse(url).geturl(),\n",
    "            headers={\"Authorization\": \"KakaoAK \"+ kmap_key}).json()"
   ]
  },
  {
   "cell_type": "code",
   "execution_count": 298,
   "metadata": {},
   "outputs": [],
   "source": [
    "#데이터 프레임은 index로 돌리는게 쉽다\n",
    "lat_list = []; lng_list = []\n",
    "for i in cov_m_T.index:\n",
    "    addr = '충북도청'\n",
    "    url = 'https://dapi.kakao.com/v2/local/search/keyword.json?query=' + cov_m_T['시청'][i]\n",
    "    result = requests.get(urlparse(url).geturl(),\n",
    "                headers={\"Authorization\": \"KakaoAK \"+ kmap_key}).json()\n",
    "    lat = float(result['documents'][0]['y'])\n",
    "    lng = float(result['documents'][0]['x'])\n",
    "    \n",
    "    lat_list.append(lat)\n",
    "    lng_list.append(lng)"
   ]
  },
  {
   "cell_type": "code",
   "execution_count": 300,
   "metadata": {},
   "outputs": [
    {
     "output_type": "execute_result",
     "data": {
      "text/plain": [
       "    3월  4월  5월  6월  7월  8월  9월  10월  11월   합계      시청        lat         lng\n",
       "서울  24  24   1   1   9   2  94   30   45  230    서울시청  37.566824  126.978652\n",
       "부산   1   3   0   0   0   1   3    6    0   14  부산광역시청  35.179737  129.075068\n",
       "대구  60  20   0   1   1   0   2    1    2   87  대구광역시청  35.871380  128.601805\n",
       "인천   6   5   1  18   2   1  22    3    4   62    인천시청  37.456004  126.705258\n",
       "대전   2   0   0   0   4   0   8    0    0   14  대전광역시청  36.350539  127.384835\n",
       "광주   0   4   0   0  12   0   4    0    3   23  광주광역시청  35.160102  126.851630\n",
       "울산   0   0   0   0   0   0   6    0    0    6  울산광역시청  35.539479  129.311468\n",
       "세종   0   0   0   0   0   0   0    0    0    0    세종시청  36.480063  127.289195\n",
       "경기  13  23   2  12  16   7  63   21   38  195    경기도청  37.274977  127.008930\n",
       "강원   0   2   0   0   0   0   4    0    3    9    강원도청  37.885326  127.729829\n",
       "충북   0   0   0   0   0   0   1    1    1    3    충북도청  36.635358  127.491457\n",
       "충남   1   3   0   0   1   0   7    3    9   24    충남도청  36.658829  126.672776\n",
       "경북   2   2   1   0   0   1   9    5    0   20    경북도청  36.575994  128.505800\n",
       "경남   1   4   0   0   0   0   3    0    2   10    경남도청  35.237707  128.691922\n",
       "전북   0   1   0   0   0   0   0    0    0    1    전북도청  35.820196  127.108977\n",
       "전남   0   3   0   1   1   0   4    1    3   13    전남도청  34.816082  126.462788\n",
       "제주   0   0   0   0   0   0   1    0    0    1    제주시청  33.499534  126.531171"
      ],
      "text/html": "<div>\n<style scoped>\n    .dataframe tbody tr th:only-of-type {\n        vertical-align: middle;\n    }\n\n    .dataframe tbody tr th {\n        vertical-align: top;\n    }\n\n    .dataframe thead th {\n        text-align: right;\n    }\n</style>\n<table border=\"1\" class=\"dataframe\">\n  <thead>\n    <tr style=\"text-align: right;\">\n      <th></th>\n      <th>3월</th>\n      <th>4월</th>\n      <th>5월</th>\n      <th>6월</th>\n      <th>7월</th>\n      <th>8월</th>\n      <th>9월</th>\n      <th>10월</th>\n      <th>11월</th>\n      <th>합계</th>\n      <th>시청</th>\n      <th>lat</th>\n      <th>lng</th>\n    </tr>\n  </thead>\n  <tbody>\n    <tr>\n      <th>서울</th>\n      <td>24</td>\n      <td>24</td>\n      <td>1</td>\n      <td>1</td>\n      <td>9</td>\n      <td>2</td>\n      <td>94</td>\n      <td>30</td>\n      <td>45</td>\n      <td>230</td>\n      <td>서울시청</td>\n      <td>37.566824</td>\n      <td>126.978652</td>\n    </tr>\n    <tr>\n      <th>부산</th>\n      <td>1</td>\n      <td>3</td>\n      <td>0</td>\n      <td>0</td>\n      <td>0</td>\n      <td>1</td>\n      <td>3</td>\n      <td>6</td>\n      <td>0</td>\n      <td>14</td>\n      <td>부산광역시청</td>\n      <td>35.179737</td>\n      <td>129.075068</td>\n    </tr>\n    <tr>\n      <th>대구</th>\n      <td>60</td>\n      <td>20</td>\n      <td>0</td>\n      <td>1</td>\n      <td>1</td>\n      <td>0</td>\n      <td>2</td>\n      <td>1</td>\n      <td>2</td>\n      <td>87</td>\n      <td>대구광역시청</td>\n      <td>35.871380</td>\n      <td>128.601805</td>\n    </tr>\n    <tr>\n      <th>인천</th>\n      <td>6</td>\n      <td>5</td>\n      <td>1</td>\n      <td>18</td>\n      <td>2</td>\n      <td>1</td>\n      <td>22</td>\n      <td>3</td>\n      <td>4</td>\n      <td>62</td>\n      <td>인천시청</td>\n      <td>37.456004</td>\n      <td>126.705258</td>\n    </tr>\n    <tr>\n      <th>대전</th>\n      <td>2</td>\n      <td>0</td>\n      <td>0</td>\n      <td>0</td>\n      <td>4</td>\n      <td>0</td>\n      <td>8</td>\n      <td>0</td>\n      <td>0</td>\n      <td>14</td>\n      <td>대전광역시청</td>\n      <td>36.350539</td>\n      <td>127.384835</td>\n    </tr>\n    <tr>\n      <th>광주</th>\n      <td>0</td>\n      <td>4</td>\n      <td>0</td>\n      <td>0</td>\n      <td>12</td>\n      <td>0</td>\n      <td>4</td>\n      <td>0</td>\n      <td>3</td>\n      <td>23</td>\n      <td>광주광역시청</td>\n      <td>35.160102</td>\n      <td>126.851630</td>\n    </tr>\n    <tr>\n      <th>울산</th>\n      <td>0</td>\n      <td>0</td>\n      <td>0</td>\n      <td>0</td>\n      <td>0</td>\n      <td>0</td>\n      <td>6</td>\n      <td>0</td>\n      <td>0</td>\n      <td>6</td>\n      <td>울산광역시청</td>\n      <td>35.539479</td>\n      <td>129.311468</td>\n    </tr>\n    <tr>\n      <th>세종</th>\n      <td>0</td>\n      <td>0</td>\n      <td>0</td>\n      <td>0</td>\n      <td>0</td>\n      <td>0</td>\n      <td>0</td>\n      <td>0</td>\n      <td>0</td>\n      <td>0</td>\n      <td>세종시청</td>\n      <td>36.480063</td>\n      <td>127.289195</td>\n    </tr>\n    <tr>\n      <th>경기</th>\n      <td>13</td>\n      <td>23</td>\n      <td>2</td>\n      <td>12</td>\n      <td>16</td>\n      <td>7</td>\n      <td>63</td>\n      <td>21</td>\n      <td>38</td>\n      <td>195</td>\n      <td>경기도청</td>\n      <td>37.274977</td>\n      <td>127.008930</td>\n    </tr>\n    <tr>\n      <th>강원</th>\n      <td>0</td>\n      <td>2</td>\n      <td>0</td>\n      <td>0</td>\n      <td>0</td>\n      <td>0</td>\n      <td>4</td>\n      <td>0</td>\n      <td>3</td>\n      <td>9</td>\n      <td>강원도청</td>\n      <td>37.885326</td>\n      <td>127.729829</td>\n    </tr>\n    <tr>\n      <th>충북</th>\n      <td>0</td>\n      <td>0</td>\n      <td>0</td>\n      <td>0</td>\n      <td>0</td>\n      <td>0</td>\n      <td>1</td>\n      <td>1</td>\n      <td>1</td>\n      <td>3</td>\n      <td>충북도청</td>\n      <td>36.635358</td>\n      <td>127.491457</td>\n    </tr>\n    <tr>\n      <th>충남</th>\n      <td>1</td>\n      <td>3</td>\n      <td>0</td>\n      <td>0</td>\n      <td>1</td>\n      <td>0</td>\n      <td>7</td>\n      <td>3</td>\n      <td>9</td>\n      <td>24</td>\n      <td>충남도청</td>\n      <td>36.658829</td>\n      <td>126.672776</td>\n    </tr>\n    <tr>\n      <th>경북</th>\n      <td>2</td>\n      <td>2</td>\n      <td>1</td>\n      <td>0</td>\n      <td>0</td>\n      <td>1</td>\n      <td>9</td>\n      <td>5</td>\n      <td>0</td>\n      <td>20</td>\n      <td>경북도청</td>\n      <td>36.575994</td>\n      <td>128.505800</td>\n    </tr>\n    <tr>\n      <th>경남</th>\n      <td>1</td>\n      <td>4</td>\n      <td>0</td>\n      <td>0</td>\n      <td>0</td>\n      <td>0</td>\n      <td>3</td>\n      <td>0</td>\n      <td>2</td>\n      <td>10</td>\n      <td>경남도청</td>\n      <td>35.237707</td>\n      <td>128.691922</td>\n    </tr>\n    <tr>\n      <th>전북</th>\n      <td>0</td>\n      <td>1</td>\n      <td>0</td>\n      <td>0</td>\n      <td>0</td>\n      <td>0</td>\n      <td>0</td>\n      <td>0</td>\n      <td>0</td>\n      <td>1</td>\n      <td>전북도청</td>\n      <td>35.820196</td>\n      <td>127.108977</td>\n    </tr>\n    <tr>\n      <th>전남</th>\n      <td>0</td>\n      <td>3</td>\n      <td>0</td>\n      <td>1</td>\n      <td>1</td>\n      <td>0</td>\n      <td>4</td>\n      <td>1</td>\n      <td>3</td>\n      <td>13</td>\n      <td>전남도청</td>\n      <td>34.816082</td>\n      <td>126.462788</td>\n    </tr>\n    <tr>\n      <th>제주</th>\n      <td>0</td>\n      <td>0</td>\n      <td>0</td>\n      <td>0</td>\n      <td>0</td>\n      <td>0</td>\n      <td>1</td>\n      <td>0</td>\n      <td>0</td>\n      <td>1</td>\n      <td>제주시청</td>\n      <td>33.499534</td>\n      <td>126.531171</td>\n    </tr>\n  </tbody>\n</table>\n</div>"
     },
     "metadata": {},
     "execution_count": 300
    }
   ],
   "source": [
    "cov_m_T['lat'] = lat_list\n",
    "cov_m_T['lng'] = lng_list\n",
    "cov_m_T"
   ]
  },
  {
   "cell_type": "code",
   "execution_count": 248,
   "metadata": {},
   "outputs": [
    {
     "output_type": "execute_result",
     "data": {
      "text/plain": [
       "             서울  부산  대구  인천  대전  광주  울산  세종   경기  강원  충북  충남  경북  경남  전북  전남  \\\n",
       "확진일                                                                            \n",
       "2020-11-30  159  52   4  34   5  13   3   1   77   8  22   5   4  20  16   4   \n",
       "2020-11-29  150  22   3  22   6   8   0   3  101  19  23  13  11  15  17  19   \n",
       "2020-11-28  178  28   1  25  13  16   3   0  126  33  24  17   5  14   9   7   \n",
       "\n",
       "            제주   합계  \n",
       "확진일                  \n",
       "2020-11-30   1  438  \n",
       "2020-11-29   1  450  \n",
       "2020-11-28   2  504  "
      ],
      "text/html": "<div>\n<style scoped>\n    .dataframe tbody tr th:only-of-type {\n        vertical-align: middle;\n    }\n\n    .dataframe tbody tr th {\n        vertical-align: top;\n    }\n\n    .dataframe thead th {\n        text-align: right;\n    }\n</style>\n<table border=\"1\" class=\"dataframe\">\n  <thead>\n    <tr style=\"text-align: right;\">\n      <th></th>\n      <th>서울</th>\n      <th>부산</th>\n      <th>대구</th>\n      <th>인천</th>\n      <th>대전</th>\n      <th>광주</th>\n      <th>울산</th>\n      <th>세종</th>\n      <th>경기</th>\n      <th>강원</th>\n      <th>충북</th>\n      <th>충남</th>\n      <th>경북</th>\n      <th>경남</th>\n      <th>전북</th>\n      <th>전남</th>\n      <th>제주</th>\n      <th>합계</th>\n    </tr>\n    <tr>\n      <th>확진일</th>\n      <th></th>\n      <th></th>\n      <th></th>\n      <th></th>\n      <th></th>\n      <th></th>\n      <th></th>\n      <th></th>\n      <th></th>\n      <th></th>\n      <th></th>\n      <th></th>\n      <th></th>\n      <th></th>\n      <th></th>\n      <th></th>\n      <th></th>\n      <th></th>\n    </tr>\n  </thead>\n  <tbody>\n    <tr>\n      <th>2020-11-30</th>\n      <td>159</td>\n      <td>52</td>\n      <td>4</td>\n      <td>34</td>\n      <td>5</td>\n      <td>13</td>\n      <td>3</td>\n      <td>1</td>\n      <td>77</td>\n      <td>8</td>\n      <td>22</td>\n      <td>5</td>\n      <td>4</td>\n      <td>20</td>\n      <td>16</td>\n      <td>4</td>\n      <td>1</td>\n      <td>438</td>\n    </tr>\n    <tr>\n      <th>2020-11-29</th>\n      <td>150</td>\n      <td>22</td>\n      <td>3</td>\n      <td>22</td>\n      <td>6</td>\n      <td>8</td>\n      <td>0</td>\n      <td>3</td>\n      <td>101</td>\n      <td>19</td>\n      <td>23</td>\n      <td>13</td>\n      <td>11</td>\n      <td>15</td>\n      <td>17</td>\n      <td>19</td>\n      <td>1</td>\n      <td>450</td>\n    </tr>\n    <tr>\n      <th>2020-11-28</th>\n      <td>178</td>\n      <td>28</td>\n      <td>1</td>\n      <td>25</td>\n      <td>13</td>\n      <td>16</td>\n      <td>3</td>\n      <td>0</td>\n      <td>126</td>\n      <td>33</td>\n      <td>24</td>\n      <td>17</td>\n      <td>5</td>\n      <td>14</td>\n      <td>9</td>\n      <td>7</td>\n      <td>2</td>\n      <td>504</td>\n    </tr>\n  </tbody>\n</table>\n</div>"
     },
     "metadata": {},
     "execution_count": 248
    }
   ],
   "source": [
    "cov.head(3)"
   ]
  },
  {
   "cell_type": "code",
   "execution_count": 249,
   "metadata": {},
   "outputs": [
    {
     "output_type": "execute_result",
     "data": {
      "text/plain": [
       "    서울  부산  대구  인천  대전  광주  울산  세종  경기  강원  충북  충남  경북  경남  전북  전남  제주   합계\n",
       "3월  24   1  60   6   2   0   0   0  13   0   0   1   2   1   0   0   0  125\n",
       "4월  24   3  20   5   0   4   0   0  23   2   0   3   2   4   1   3   0  101\n",
       "5월   1   0   0   1   0   0   0   0   2   0   0   0   1   0   0   0   0    9"
      ],
      "text/html": "<div>\n<style scoped>\n    .dataframe tbody tr th:only-of-type {\n        vertical-align: middle;\n    }\n\n    .dataframe tbody tr th {\n        vertical-align: top;\n    }\n\n    .dataframe thead th {\n        text-align: right;\n    }\n</style>\n<table border=\"1\" class=\"dataframe\">\n  <thead>\n    <tr style=\"text-align: right;\">\n      <th></th>\n      <th>서울</th>\n      <th>부산</th>\n      <th>대구</th>\n      <th>인천</th>\n      <th>대전</th>\n      <th>광주</th>\n      <th>울산</th>\n      <th>세종</th>\n      <th>경기</th>\n      <th>강원</th>\n      <th>충북</th>\n      <th>충남</th>\n      <th>경북</th>\n      <th>경남</th>\n      <th>전북</th>\n      <th>전남</th>\n      <th>제주</th>\n      <th>합계</th>\n    </tr>\n  </thead>\n  <tbody>\n    <tr>\n      <th>3월</th>\n      <td>24</td>\n      <td>1</td>\n      <td>60</td>\n      <td>6</td>\n      <td>2</td>\n      <td>0</td>\n      <td>0</td>\n      <td>0</td>\n      <td>13</td>\n      <td>0</td>\n      <td>0</td>\n      <td>1</td>\n      <td>2</td>\n      <td>1</td>\n      <td>0</td>\n      <td>0</td>\n      <td>0</td>\n      <td>125</td>\n    </tr>\n    <tr>\n      <th>4월</th>\n      <td>24</td>\n      <td>3</td>\n      <td>20</td>\n      <td>5</td>\n      <td>0</td>\n      <td>4</td>\n      <td>0</td>\n      <td>0</td>\n      <td>23</td>\n      <td>2</td>\n      <td>0</td>\n      <td>3</td>\n      <td>2</td>\n      <td>4</td>\n      <td>1</td>\n      <td>3</td>\n      <td>0</td>\n      <td>101</td>\n    </tr>\n    <tr>\n      <th>5월</th>\n      <td>1</td>\n      <td>0</td>\n      <td>0</td>\n      <td>1</td>\n      <td>0</td>\n      <td>0</td>\n      <td>0</td>\n      <td>0</td>\n      <td>2</td>\n      <td>0</td>\n      <td>0</td>\n      <td>0</td>\n      <td>1</td>\n      <td>0</td>\n      <td>0</td>\n      <td>0</td>\n      <td>0</td>\n      <td>9</td>\n    </tr>\n  </tbody>\n</table>\n</div>"
     },
     "metadata": {},
     "execution_count": 249
    }
   ],
   "source": [
    "cov_m.head(3)"
   ]
  },
  {
   "cell_type": "code",
   "execution_count": 301,
   "metadata": {},
   "outputs": [
    {
     "output_type": "execute_result",
     "data": {
      "text/plain": [
       "    3월  4월  5월  6월  7월  8월  9월  10월  11월   합계      시청        lat         lng\n",
       "서울  24  24   1   1   9   2  94   30   45  230    서울시청  37.566824  126.978652\n",
       "부산   1   3   0   0   0   1   3    6    0   14  부산광역시청  35.179737  129.075068\n",
       "대구  60  20   0   1   1   0   2    1    2   87  대구광역시청  35.871380  128.601805"
      ],
      "text/html": "<div>\n<style scoped>\n    .dataframe tbody tr th:only-of-type {\n        vertical-align: middle;\n    }\n\n    .dataframe tbody tr th {\n        vertical-align: top;\n    }\n\n    .dataframe thead th {\n        text-align: right;\n    }\n</style>\n<table border=\"1\" class=\"dataframe\">\n  <thead>\n    <tr style=\"text-align: right;\">\n      <th></th>\n      <th>3월</th>\n      <th>4월</th>\n      <th>5월</th>\n      <th>6월</th>\n      <th>7월</th>\n      <th>8월</th>\n      <th>9월</th>\n      <th>10월</th>\n      <th>11월</th>\n      <th>합계</th>\n      <th>시청</th>\n      <th>lat</th>\n      <th>lng</th>\n    </tr>\n  </thead>\n  <tbody>\n    <tr>\n      <th>서울</th>\n      <td>24</td>\n      <td>24</td>\n      <td>1</td>\n      <td>1</td>\n      <td>9</td>\n      <td>2</td>\n      <td>94</td>\n      <td>30</td>\n      <td>45</td>\n      <td>230</td>\n      <td>서울시청</td>\n      <td>37.566824</td>\n      <td>126.978652</td>\n    </tr>\n    <tr>\n      <th>부산</th>\n      <td>1</td>\n      <td>3</td>\n      <td>0</td>\n      <td>0</td>\n      <td>0</td>\n      <td>1</td>\n      <td>3</td>\n      <td>6</td>\n      <td>0</td>\n      <td>14</td>\n      <td>부산광역시청</td>\n      <td>35.179737</td>\n      <td>129.075068</td>\n    </tr>\n    <tr>\n      <th>대구</th>\n      <td>60</td>\n      <td>20</td>\n      <td>0</td>\n      <td>1</td>\n      <td>1</td>\n      <td>0</td>\n      <td>2</td>\n      <td>1</td>\n      <td>2</td>\n      <td>87</td>\n      <td>대구광역시청</td>\n      <td>35.871380</td>\n      <td>128.601805</td>\n    </tr>\n  </tbody>\n</table>\n</div>"
     },
     "metadata": {},
     "execution_count": 301
    }
   ],
   "source": [
    "cov_m_T.head(3)"
   ]
  },
  {
   "cell_type": "code",
   "execution_count": 325,
   "metadata": {},
   "outputs": [
    {
     "output_type": "execute_result",
     "data": {
      "text/plain": [
       "    3월  4월  5월  6월  7월  8월  9월  10월  11월   합계      시청        lat         lng  \\\n",
       "서울  24  24   1   1   9   2  94   30   45  230    서울시청  37.566824  126.978652   \n",
       "부산   1   3   0   0   0   1   3    6    0   14  부산광역시청  35.179737  129.075068   \n",
       "대구  60  20   0   1   1   0   2    1    2   87  대구광역시청  35.871380  128.601805   \n",
       "인천   6   5   1  18   2   1  22    3    4   62    인천시청  37.456004  126.705258   \n",
       "대전   2   0   0   0   4   0   8    0    0   14  대전광역시청  36.350539  127.384835   \n",
       "\n",
       "      합계1  \n",
       "서울  230.0  \n",
       "부산   14.0  \n",
       "대구   87.0  \n",
       "인천   62.0  \n",
       "대전   14.0  "
      ],
      "text/html": "<div>\n<style scoped>\n    .dataframe tbody tr th:only-of-type {\n        vertical-align: middle;\n    }\n\n    .dataframe tbody tr th {\n        vertical-align: top;\n    }\n\n    .dataframe thead th {\n        text-align: right;\n    }\n</style>\n<table border=\"1\" class=\"dataframe\">\n  <thead>\n    <tr style=\"text-align: right;\">\n      <th></th>\n      <th>3월</th>\n      <th>4월</th>\n      <th>5월</th>\n      <th>6월</th>\n      <th>7월</th>\n      <th>8월</th>\n      <th>9월</th>\n      <th>10월</th>\n      <th>11월</th>\n      <th>합계</th>\n      <th>시청</th>\n      <th>lat</th>\n      <th>lng</th>\n      <th>합계1</th>\n    </tr>\n  </thead>\n  <tbody>\n    <tr>\n      <th>서울</th>\n      <td>24</td>\n      <td>24</td>\n      <td>1</td>\n      <td>1</td>\n      <td>9</td>\n      <td>2</td>\n      <td>94</td>\n      <td>30</td>\n      <td>45</td>\n      <td>230</td>\n      <td>서울시청</td>\n      <td>37.566824</td>\n      <td>126.978652</td>\n      <td>230.0</td>\n    </tr>\n    <tr>\n      <th>부산</th>\n      <td>1</td>\n      <td>3</td>\n      <td>0</td>\n      <td>0</td>\n      <td>0</td>\n      <td>1</td>\n      <td>3</td>\n      <td>6</td>\n      <td>0</td>\n      <td>14</td>\n      <td>부산광역시청</td>\n      <td>35.179737</td>\n      <td>129.075068</td>\n      <td>14.0</td>\n    </tr>\n    <tr>\n      <th>대구</th>\n      <td>60</td>\n      <td>20</td>\n      <td>0</td>\n      <td>1</td>\n      <td>1</td>\n      <td>0</td>\n      <td>2</td>\n      <td>1</td>\n      <td>2</td>\n      <td>87</td>\n      <td>대구광역시청</td>\n      <td>35.871380</td>\n      <td>128.601805</td>\n      <td>87.0</td>\n    </tr>\n    <tr>\n      <th>인천</th>\n      <td>6</td>\n      <td>5</td>\n      <td>1</td>\n      <td>18</td>\n      <td>2</td>\n      <td>1</td>\n      <td>22</td>\n      <td>3</td>\n      <td>4</td>\n      <td>62</td>\n      <td>인천시청</td>\n      <td>37.456004</td>\n      <td>126.705258</td>\n      <td>62.0</td>\n    </tr>\n    <tr>\n      <th>대전</th>\n      <td>2</td>\n      <td>0</td>\n      <td>0</td>\n      <td>0</td>\n      <td>4</td>\n      <td>0</td>\n      <td>8</td>\n      <td>0</td>\n      <td>0</td>\n      <td>14</td>\n      <td>대전광역시청</td>\n      <td>36.350539</td>\n      <td>127.384835</td>\n      <td>14.0</td>\n    </tr>\n  </tbody>\n</table>\n</div>"
     },
     "metadata": {},
     "execution_count": 325
    }
   ],
   "source": [
    "cov_m_T['합계1'] = cov_m_T['합계'].astype('float')\n",
    "cov_m_T.head()"
   ]
  },
  {
   "cell_type": "markdown",
   "metadata": {},
   "source": [
    "### 데이터 시각화"
   ]
  },
  {
   "cell_type": "code",
   "execution_count": 250,
   "metadata": {},
   "outputs": [
    {
     "output_type": "display_data",
     "data": {
      "text/plain": "<Figure size 864x576 with 1 Axes>",
      "image/svg+xml": "<?xml version=\"1.0\" encoding=\"utf-8\" standalone=\"no\"?>\r\n<!DOCTYPE svg PUBLIC \"-//W3C//DTD SVG 1.1//EN\"\r\n  \"http://www.w3.org/Graphics/SVG/1.1/DTD/svg11.dtd\">\r\n<!-- Created with matplotlib (https://matplotlib.org/) -->\r\n<svg height=\"483.624531pt\" version=\"1.1\" viewBox=\"0 0 711 483.624531\" width=\"711pt\" xmlns=\"http://www.w3.org/2000/svg\" xmlns:xlink=\"http://www.w3.org/1999/xlink\">\r\n <defs>\r\n  <style type=\"text/css\">\r\n*{stroke-linecap:butt;stroke-linejoin:round;}\r\n  </style>\r\n </defs>\r\n <g id=\"figure_1\">\r\n  <g id=\"patch_1\">\r\n   <path d=\"M 0 483.624531 \r\nL 711 483.624531 \r\nL 711 0 \r\nL 0 0 \r\nz\r\n\" style=\"fill:none;\"/>\r\n  </g>\r\n  <g id=\"axes_1\">\r\n   <g id=\"patch_2\">\r\n    <path d=\"M 34.2 459.468281 \r\nL 703.8 459.468281 \r\nL 703.8 24.588281 \r\nL 34.2 24.588281 \r\nz\r\n\" style=\"fill:#ffffff;\"/>\r\n   </g>\r\n   <g id=\"patch_3\">\r\n    <path clip-path=\"url(#p54dba288ca)\" d=\"M 34.2 453.072987 \r\nL 34.2 453.072987 \r\nL 34.2 440.282399 \r\nL 34.2 440.282399 \r\nz\r\n\" style=\"fill:#1f77b4;\"/>\r\n   </g>\r\n   <g id=\"patch_4\">\r\n    <path clip-path=\"url(#p54dba288ca)\" d=\"M 34.2 427.491811 \r\nL 34.2 427.491811 \r\nL 34.2 414.701222 \r\nL 34.2 414.701222 \r\nz\r\n\" style=\"fill:#1f77b4;\"/>\r\n   </g>\r\n   <g id=\"patch_5\">\r\n    <path clip-path=\"url(#p54dba288ca)\" d=\"M 34.2 401.910634 \r\nL 34.2 401.910634 \r\nL 34.2 389.120046 \r\nL 34.2 389.120046 \r\nz\r\n\" style=\"fill:#1f77b4;\"/>\r\n   </g>\r\n   <g id=\"patch_6\">\r\n    <path clip-path=\"url(#p54dba288ca)\" d=\"M 34.2 376.329458 \r\nL 34.2 376.329458 \r\nL 34.2 363.538869 \r\nL 34.2 363.538869 \r\nz\r\n\" style=\"fill:#1f77b4;\"/>\r\n   </g>\r\n   <g id=\"patch_7\">\r\n    <path clip-path=\"url(#p54dba288ca)\" d=\"M 34.2 350.748281 \r\nL 69.628571 350.748281 \r\nL 69.628571 337.957693 \r\nL 34.2 337.957693 \r\nz\r\n\" style=\"fill:#1f77b4;\"/>\r\n   </g>\r\n   <g id=\"patch_8\">\r\n    <path clip-path=\"url(#p54dba288ca)\" d=\"M 34.2 325.167105 \r\nL 671.914286 325.167105 \r\nL 671.914286 312.376517 \r\nL 34.2 312.376517 \r\nz\r\n\" style=\"fill:#1f77b4;\"/>\r\n   </g>\r\n   <g id=\"patch_9\">\r\n    <path clip-path=\"url(#p54dba288ca)\" d=\"M 34.2 299.585928 \r\nL 34.2 299.585928 \r\nL 34.2 286.79534 \r\nL 34.2 286.79534 \r\nz\r\n\" style=\"fill:#1f77b4;\"/>\r\n   </g>\r\n   <g id=\"patch_10\">\r\n    <path clip-path=\"url(#p54dba288ca)\" d=\"M 34.2 274.004752 \r\nL 34.2 274.004752 \r\nL 34.2 261.214164 \r\nL 34.2 261.214164 \r\nz\r\n\" style=\"fill:#1f77b4;\"/>\r\n   </g>\r\n   <g id=\"patch_11\">\r\n    <path clip-path=\"url(#p54dba288ca)\" d=\"M 34.2 248.423575 \r\nL 69.628571 248.423575 \r\nL 69.628571 235.632987 \r\nL 34.2 235.632987 \r\nz\r\n\" style=\"fill:#1f77b4;\"/>\r\n   </g>\r\n   <g id=\"patch_12\">\r\n    <path clip-path=\"url(#p54dba288ca)\" d=\"M 34.2 222.842399 \r\nL 34.2 222.842399 \r\nL 34.2 210.051811 \r\nL 34.2 210.051811 \r\nz\r\n\" style=\"fill:#1f77b4;\"/>\r\n   </g>\r\n   <g id=\"patch_13\">\r\n    <path clip-path=\"url(#p54dba288ca)\" d=\"M 34.2 197.261222 \r\nL 34.2 197.261222 \r\nL 34.2 184.470634 \r\nL 34.2 184.470634 \r\nz\r\n\" style=\"fill:#1f77b4;\"/>\r\n   </g>\r\n   <g id=\"patch_14\">\r\n    <path clip-path=\"url(#p54dba288ca)\" d=\"M 34.2 171.680046 \r\nL 69.628571 171.680046 \r\nL 69.628571 158.889458 \r\nL 34.2 158.889458 \r\nz\r\n\" style=\"fill:#1f77b4;\"/>\r\n   </g>\r\n   <g id=\"patch_15\">\r\n    <path clip-path=\"url(#p54dba288ca)\" d=\"M 34.2 146.098869 \r\nL 34.2 146.098869 \r\nL 34.2 133.308281 \r\nL 34.2 133.308281 \r\nz\r\n\" style=\"fill:#1f77b4;\"/>\r\n   </g>\r\n   <g id=\"patch_16\">\r\n    <path clip-path=\"url(#p54dba288ca)\" d=\"M 34.2 120.517693 \r\nL 34.2 120.517693 \r\nL 34.2 107.727105 \r\nL 34.2 107.727105 \r\nz\r\n\" style=\"fill:#1f77b4;\"/>\r\n   </g>\r\n   <g id=\"patch_17\">\r\n    <path clip-path=\"url(#p54dba288ca)\" d=\"M 34.2 94.936517 \r\nL 34.2 94.936517 \r\nL 34.2 82.145928 \r\nL 34.2 82.145928 \r\nz\r\n\" style=\"fill:#1f77b4;\"/>\r\n   </g>\r\n   <g id=\"patch_18\">\r\n    <path clip-path=\"url(#p54dba288ca)\" d=\"M 34.2 69.35534 \r\nL 459.342857 69.35534 \r\nL 459.342857 56.564752 \r\nL 34.2 56.564752 \r\nz\r\n\" style=\"fill:#1f77b4;\"/>\r\n   </g>\r\n   <g id=\"patch_19\">\r\n    <path clip-path=\"url(#p54dba288ca)\" d=\"M 34.2 43.774164 \r\nL 34.2 43.774164 \r\nL 34.2 30.983575 \r\nL 34.2 30.983575 \r\nz\r\n\" style=\"fill:#1f77b4;\"/>\r\n   </g>\r\n   <g id=\"matplotlib.axis_1\">\r\n    <g id=\"xtick_1\">\r\n     <g id=\"line2d_1\">\r\n      <path clip-path=\"url(#p54dba288ca)\" d=\"M 34.2 459.468281 \r\nL 34.2 24.588281 \r\n\" style=\"fill:none;stroke:#b0b0b0;stroke-linecap:square;stroke-width:0.8;\"/>\r\n     </g>\r\n     <g id=\"line2d_2\">\r\n      <defs>\r\n       <path d=\"M 0 0 \r\nL 0 3.5 \r\n\" id=\"m49e543c2be\" style=\"stroke:#000000;stroke-width:0.8;\"/>\r\n      </defs>\r\n      <g>\r\n       <use style=\"stroke:#000000;stroke-width:0.8;\" x=\"34.2\" xlink:href=\"#m49e543c2be\" y=\"459.468281\"/>\r\n      </g>\r\n     </g>\r\n     <g id=\"text_1\">\r\n      <!-- 0.0 -->\r\n      <defs>\r\n       <path d=\"M 4.34375 34.46875 \r\nQ 4.34375 53.515625 10.546875 63.28125 \r\nQ 16.75 73.046875 28.421875 73.046875 \r\nQ 50.828125 73.046875 50.828125 36.234375 \r\nQ 50.828125 18.0625 44.59375 8.421875 \r\nQ 38.375 -1.21875 26.8125 -1.21875 \r\nQ 15.875 -1.21875 10.109375 8.125 \r\nQ 4.34375 17.484375 4.34375 34.46875 \r\nz\r\nM 12.25 34.859375 \r\nQ 12.25 5.375 27.640625 5.375 \r\nQ 42.921875 5.375 42.921875 35.296875 \r\nQ 42.921875 66.40625 28.03125 66.40625 \r\nQ 12.25 66.40625 12.25 34.859375 \r\nz\r\n\" id=\"MalgunGothic-48\"/>\r\n       <path d=\"M 5.5625 4.296875 \r\nQ 5.5625 6.59375 7.171875 8.171875 \r\nQ 8.796875 9.765625 10.9375 9.765625 \r\nQ 13.09375 9.765625 14.703125 8.171875 \r\nQ 16.3125 6.59375 16.3125 4.296875 \r\nQ 16.3125 2.15625 14.71875 0.515625 \r\nQ 13.140625 -1.125 10.9375 -1.125 \r\nQ 8.734375 -1.125 7.140625 0.453125 \r\nQ 5.5625 2.046875 5.5625 4.296875 \r\nz\r\n\" id=\"MalgunGothic-46\"/>\r\n      </defs>\r\n      <g transform=\"translate(27.598438 474.060469)scale(0.1 -0.1)\">\r\n       <use xlink:href=\"#MalgunGothic-48\"/>\r\n       <use x=\"55.078125\" xlink:href=\"#MalgunGothic-46\"/>\r\n       <use x=\"76.953125\" xlink:href=\"#MalgunGothic-48\"/>\r\n      </g>\r\n     </g>\r\n    </g>\r\n    <g id=\"xtick_2\">\r\n     <g id=\"line2d_3\">\r\n      <path clip-path=\"url(#p54dba288ca)\" d=\"M 122.771429 459.468281 \r\nL 122.771429 24.588281 \r\n\" style=\"fill:none;stroke:#b0b0b0;stroke-linecap:square;stroke-width:0.8;\"/>\r\n     </g>\r\n     <g id=\"line2d_4\">\r\n      <g>\r\n       <use style=\"stroke:#000000;stroke-width:0.8;\" x=\"122.771429\" xlink:href=\"#m49e543c2be\" y=\"459.468281\"/>\r\n      </g>\r\n     </g>\r\n     <g id=\"text_2\">\r\n      <!-- 2.5 -->\r\n      <defs>\r\n       <path d=\"M 39.359375 52.6875 \r\nQ 39.359375 59.125 35.546875 62.78125 \r\nQ 31.734375 66.453125 25.4375 66.453125 \r\nQ 20.953125 66.453125 16.453125 64.125 \r\nQ 11.96875 61.8125 8.34375 57.765625 \r\nL 8.34375 66.15625 \r\nQ 15.328125 73.046875 26.421875 73.046875 \r\nQ 35.640625 73.046875 41.28125 67.71875 \r\nQ 46.921875 62.40625 46.921875 53.375 \r\nQ 46.921875 45.609375 43.3125 39.765625 \r\nQ 39.703125 33.9375 31 27.734375 \r\nQ 22.796875 21.96875 19.59375 18.984375 \r\nQ 16.40625 16.015625 15.109375 13.34375 \r\nQ 13.8125 10.6875 13.8125 7.03125 \r\nL 48.6875 7.03125 \r\nL 48.6875 0 \r\nL 5.5625 0 \r\nL 5.5625 3.515625 \r\nQ 5.5625 9.421875 7.203125 13.59375 \r\nQ 8.84375 17.78125 12.671875 21.75 \r\nQ 16.5 25.734375 24.953125 31.59375 \r\nQ 32.671875 36.921875 36.015625 41.71875 \r\nQ 39.359375 46.53125 39.359375 52.6875 \r\nz\r\n\" id=\"MalgunGothic-50\"/>\r\n       <path d=\"M 48 21.921875 \r\nQ 48 11.28125 41.1875 5.03125 \r\nQ 34.375 -1.21875 22.953125 -1.21875 \r\nQ 12.9375 -1.21875 8.0625 1.765625 \r\nL 8.0625 10.15625 \r\nQ 15.53125 5.375 23.046875 5.375 \r\nQ 30.765625 5.375 35.46875 9.84375 \r\nQ 40.1875 14.3125 40.1875 21.4375 \r\nQ 40.1875 28.71875 35.390625 32.6875 \r\nQ 30.609375 36.671875 21.578125 36.671875 \r\nQ 15.53125 36.671875 9.421875 35.9375 \r\nL 11.859375 71.875 \r\nL 44.828125 71.875 \r\nL 44.828125 64.796875 \r\nL 18.84375 64.796875 \r\nL 17.28125 43.171875 \r\nQ 21.046875 43.5 24.171875 43.5 \r\nQ 35.359375 43.5 41.671875 37.71875 \r\nQ 48 31.9375 48 21.921875 \r\nz\r\n\" id=\"MalgunGothic-53\"/>\r\n      </defs>\r\n      <g transform=\"translate(116.169866 474.060469)scale(0.1 -0.1)\">\r\n       <use xlink:href=\"#MalgunGothic-50\"/>\r\n       <use x=\"55.078125\" xlink:href=\"#MalgunGothic-46\"/>\r\n       <use x=\"76.953125\" xlink:href=\"#MalgunGothic-53\"/>\r\n      </g>\r\n     </g>\r\n    </g>\r\n    <g id=\"xtick_3\">\r\n     <g id=\"line2d_5\">\r\n      <path clip-path=\"url(#p54dba288ca)\" d=\"M 211.342857 459.468281 \r\nL 211.342857 24.588281 \r\n\" style=\"fill:none;stroke:#b0b0b0;stroke-linecap:square;stroke-width:0.8;\"/>\r\n     </g>\r\n     <g id=\"line2d_6\">\r\n      <g>\r\n       <use style=\"stroke:#000000;stroke-width:0.8;\" x=\"211.342857\" xlink:href=\"#m49e543c2be\" y=\"459.468281\"/>\r\n      </g>\r\n     </g>\r\n     <g id=\"text_3\">\r\n      <!-- 5.0 -->\r\n      <g transform=\"translate(204.741295 474.060469)scale(0.1 -0.1)\">\r\n       <use xlink:href=\"#MalgunGothic-53\"/>\r\n       <use x=\"55.078125\" xlink:href=\"#MalgunGothic-46\"/>\r\n       <use x=\"76.953125\" xlink:href=\"#MalgunGothic-48\"/>\r\n      </g>\r\n     </g>\r\n    </g>\r\n    <g id=\"xtick_4\">\r\n     <g id=\"line2d_7\">\r\n      <path clip-path=\"url(#p54dba288ca)\" d=\"M 299.914286 459.468281 \r\nL 299.914286 24.588281 \r\n\" style=\"fill:none;stroke:#b0b0b0;stroke-linecap:square;stroke-width:0.8;\"/>\r\n     </g>\r\n     <g id=\"line2d_8\">\r\n      <g>\r\n       <use style=\"stroke:#000000;stroke-width:0.8;\" x=\"299.914286\" xlink:href=\"#m49e543c2be\" y=\"459.468281\"/>\r\n      </g>\r\n     </g>\r\n     <g id=\"text_4\">\r\n      <!-- 7.5 -->\r\n      <defs>\r\n       <path d=\"M 50.203125 67.140625 \r\nQ 38.71875 46.96875 32.25 29.96875 \r\nQ 25.78125 12.984375 24.21875 0 \r\nL 15.765625 0 \r\nQ 16.9375 8.296875 20.15625 18.375 \r\nQ 23.390625 28.46875 28.359375 39.640625 \r\nQ 33.34375 50.828125 41.109375 64.796875 \r\nL 4.546875 64.796875 \r\nL 4.546875 71.875 \r\nL 50.203125 71.875 \r\nz\r\n\" id=\"MalgunGothic-55\"/>\r\n      </defs>\r\n      <g transform=\"translate(293.312723 474.060469)scale(0.1 -0.1)\">\r\n       <use xlink:href=\"#MalgunGothic-55\"/>\r\n       <use x=\"55.078125\" xlink:href=\"#MalgunGothic-46\"/>\r\n       <use x=\"76.953125\" xlink:href=\"#MalgunGothic-53\"/>\r\n      </g>\r\n     </g>\r\n    </g>\r\n    <g id=\"xtick_5\">\r\n     <g id=\"line2d_9\">\r\n      <path clip-path=\"url(#p54dba288ca)\" d=\"M 388.485714 459.468281 \r\nL 388.485714 24.588281 \r\n\" style=\"fill:none;stroke:#b0b0b0;stroke-linecap:square;stroke-width:0.8;\"/>\r\n     </g>\r\n     <g id=\"line2d_10\">\r\n      <g>\r\n       <use style=\"stroke:#000000;stroke-width:0.8;\" x=\"388.485714\" xlink:href=\"#m49e543c2be\" y=\"459.468281\"/>\r\n      </g>\r\n     </g>\r\n     <g id=\"text_5\">\r\n      <!-- 10.0 -->\r\n      <defs>\r\n       <path d=\"M 34.859375 0 \r\nL 27.09375 0 \r\nL 27.09375 62.0625 \r\nQ 24.859375 59.8125 19.78125 57.203125 \r\nQ 14.703125 54.59375 10.5 53.5625 \r\nL 10.5 61.859375 \r\nQ 15.875 63.375 22.015625 66.796875 \r\nQ 28.171875 70.21875 31.734375 73.4375 \r\nL 34.859375 73.4375 \r\nz\r\n\" id=\"MalgunGothic-49\"/>\r\n      </defs>\r\n      <g transform=\"translate(379.130246 474.060469)scale(0.1 -0.1)\">\r\n       <use xlink:href=\"#MalgunGothic-49\"/>\r\n       <use x=\"55.078125\" xlink:href=\"#MalgunGothic-48\"/>\r\n       <use x=\"110.15625\" xlink:href=\"#MalgunGothic-46\"/>\r\n       <use x=\"132.03125\" xlink:href=\"#MalgunGothic-48\"/>\r\n      </g>\r\n     </g>\r\n    </g>\r\n    <g id=\"xtick_6\">\r\n     <g id=\"line2d_11\">\r\n      <path clip-path=\"url(#p54dba288ca)\" d=\"M 477.057143 459.468281 \r\nL 477.057143 24.588281 \r\n\" style=\"fill:none;stroke:#b0b0b0;stroke-linecap:square;stroke-width:0.8;\"/>\r\n     </g>\r\n     <g id=\"line2d_12\">\r\n      <g>\r\n       <use style=\"stroke:#000000;stroke-width:0.8;\" x=\"477.057143\" xlink:href=\"#m49e543c2be\" y=\"459.468281\"/>\r\n      </g>\r\n     </g>\r\n     <g id=\"text_6\">\r\n      <!-- 12.5 -->\r\n      <g transform=\"translate(467.701674 474.060469)scale(0.1 -0.1)\">\r\n       <use xlink:href=\"#MalgunGothic-49\"/>\r\n       <use x=\"55.078125\" xlink:href=\"#MalgunGothic-50\"/>\r\n       <use x=\"110.15625\" xlink:href=\"#MalgunGothic-46\"/>\r\n       <use x=\"132.03125\" xlink:href=\"#MalgunGothic-53\"/>\r\n      </g>\r\n     </g>\r\n    </g>\r\n    <g id=\"xtick_7\">\r\n     <g id=\"line2d_13\">\r\n      <path clip-path=\"url(#p54dba288ca)\" d=\"M 565.628571 459.468281 \r\nL 565.628571 24.588281 \r\n\" style=\"fill:none;stroke:#b0b0b0;stroke-linecap:square;stroke-width:0.8;\"/>\r\n     </g>\r\n     <g id=\"line2d_14\">\r\n      <g>\r\n       <use style=\"stroke:#000000;stroke-width:0.8;\" x=\"565.628571\" xlink:href=\"#m49e543c2be\" y=\"459.468281\"/>\r\n      </g>\r\n     </g>\r\n     <g id=\"text_7\">\r\n      <!-- 15.0 -->\r\n      <g transform=\"translate(556.273103 474.060469)scale(0.1 -0.1)\">\r\n       <use xlink:href=\"#MalgunGothic-49\"/>\r\n       <use x=\"55.078125\" xlink:href=\"#MalgunGothic-53\"/>\r\n       <use x=\"110.15625\" xlink:href=\"#MalgunGothic-46\"/>\r\n       <use x=\"132.03125\" xlink:href=\"#MalgunGothic-48\"/>\r\n      </g>\r\n     </g>\r\n    </g>\r\n    <g id=\"xtick_8\">\r\n     <g id=\"line2d_15\">\r\n      <path clip-path=\"url(#p54dba288ca)\" d=\"M 654.2 459.468281 \r\nL 654.2 24.588281 \r\n\" style=\"fill:none;stroke:#b0b0b0;stroke-linecap:square;stroke-width:0.8;\"/>\r\n     </g>\r\n     <g id=\"line2d_16\">\r\n      <g>\r\n       <use style=\"stroke:#000000;stroke-width:0.8;\" x=\"654.2\" xlink:href=\"#m49e543c2be\" y=\"459.468281\"/>\r\n      </g>\r\n     </g>\r\n     <g id=\"text_8\">\r\n      <!-- 17.5 -->\r\n      <g transform=\"translate(644.844531 474.060469)scale(0.1 -0.1)\">\r\n       <use xlink:href=\"#MalgunGothic-49\"/>\r\n       <use x=\"55.078125\" xlink:href=\"#MalgunGothic-55\"/>\r\n       <use x=\"110.15625\" xlink:href=\"#MalgunGothic-46\"/>\r\n       <use x=\"132.03125\" xlink:href=\"#MalgunGothic-53\"/>\r\n      </g>\r\n     </g>\r\n    </g>\r\n   </g>\r\n   <g id=\"matplotlib.axis_2\">\r\n    <g id=\"ytick_1\">\r\n     <g id=\"line2d_17\">\r\n      <path clip-path=\"url(#p54dba288ca)\" d=\"M 34.2 446.677693 \r\nL 703.8 446.677693 \r\n\" style=\"fill:none;stroke:#b0b0b0;stroke-linecap:square;stroke-width:0.8;\"/>\r\n     </g>\r\n     <g id=\"line2d_18\">\r\n      <defs>\r\n       <path d=\"M 0 0 \r\nL -3.5 0 \r\n\" id=\"maeba479b6c\" style=\"stroke:#000000;stroke-width:0.8;\"/>\r\n      </defs>\r\n      <g>\r\n       <use style=\"stroke:#000000;stroke-width:0.8;\" x=\"34.2\" xlink:href=\"#maeba479b6c\" y=\"446.677693\"/>\r\n      </g>\r\n     </g>\r\n     <g id=\"text_9\">\r\n      <!-- 충북 -->\r\n      <defs>\r\n       <path d=\"M 85.40625 48.6875 \r\nQ 74.90625 49.75 64.109375 54.875 \r\nQ 53.328125 60.015625 50.09375 64.703125 \r\nQ 46.4375 59.625 36.0625 54.765625 \r\nQ 25.6875 49.90625 15.09375 48.78125 \r\nL 10.890625 55.421875 \r\nQ 21.234375 55.421875 31.96875 59.9375 \r\nQ 42.71875 64.453125 45.609375 70.90625 \r\nL 16.5 70.90625 \r\nL 16.5 77.390625 \r\nL 46.390625 77.390625 \r\nL 46.390625 86.1875 \r\nL 53.8125 86.1875 \r\nL 53.8125 77.390625 \r\nL 83.5 77.390625 \r\nL 83.5 70.90625 \r\nL 54.390625 70.90625 \r\nQ 57.328125 64.359375 68.015625 59.9375 \r\nQ 78.71875 55.515625 89.109375 55.515625 \r\nz\r\nM 46.296875 27.09375 \r\nL 46.296875 35.296875 \r\nL 6.296875 35.296875 \r\nL 6.296875 41.796875 \r\nL 93.703125 41.796875 \r\nL 93.703125 35.296875 \r\nL 53.71875 35.296875 \r\nL 53.71875 27.09375 \r\nQ 66.703125 26.515625 73.4375 21.875 \r\nQ 80.171875 17.234375 80.171875 9.8125 \r\nQ 80.171875 1.5625 72.40625 -3.125 \r\nQ 64.65625 -7.8125 50 -7.8125 \r\nQ 35.359375 -7.8125 27.59375 -3.125 \r\nQ 19.828125 1.5625 19.828125 9.8125 \r\nQ 19.828125 17.234375 26.5625 21.875 \r\nQ 33.296875 26.515625 46.296875 27.09375 \r\nz\r\nM 50 21 \r\nQ 38.765625 21 33.078125 18.046875 \r\nQ 27.390625 15.09375 27.390625 9.8125 \r\nQ 27.390625 4.4375 33.171875 1.40625 \r\nQ 38.96875 -1.609375 50 -1.609375 \r\nQ 60.984375 -1.609375 66.796875 1.40625 \r\nQ 72.609375 4.4375 72.609375 9.8125 \r\nQ 72.609375 15.09375 66.890625 18.046875 \r\nQ 61.1875 21 50 21 \r\nz\r\n\" id=\"MalgunGothic-52649\"/>\r\n       <path d=\"M 20.90625 49.609375 \r\nL 20.90625 83.890625 \r\nL 28.21875 83.890625 \r\nL 28.21875 72.515625 \r\nL 71.78125 72.515625 \r\nL 71.78125 83.890625 \r\nL 79 83.890625 \r\nL 79 49.609375 \r\nz\r\nM 71.78125 66.015625 \r\nL 28.21875 66.015625 \r\nL 28.21875 56 \r\nL 71.78125 56 \r\nz\r\nM 72.21875 -8.796875 \r\nL 72.21875 15.828125 \r\nL 18.890625 15.828125 \r\nL 18.890625 22.3125 \r\nL 46.296875 22.3125 \r\nL 46.296875 33.59375 \r\nL 6.296875 33.59375 \r\nL 6.296875 40.1875 \r\nL 93.703125 40.1875 \r\nL 93.703125 33.59375 \r\nL 53.71875 33.59375 \r\nL 53.71875 22.3125 \r\nL 79.5 22.3125 \r\nL 79.5 -8.796875 \r\nz\r\n\" id=\"MalgunGothic-48513\"/>\r\n      </defs>\r\n      <g transform=\"translate(7.2 450.473787)scale(0.1 -0.1)\">\r\n       <use xlink:href=\"#MalgunGothic-52649\"/>\r\n       <use x=\"100\" xlink:href=\"#MalgunGothic-48513\"/>\r\n      </g>\r\n     </g>\r\n    </g>\r\n    <g id=\"ytick_2\">\r\n     <g id=\"line2d_19\">\r\n      <path clip-path=\"url(#p54dba288ca)\" d=\"M 34.2 421.096517 \r\nL 703.8 421.096517 \r\n\" style=\"fill:none;stroke:#b0b0b0;stroke-linecap:square;stroke-width:0.8;\"/>\r\n     </g>\r\n     <g id=\"line2d_20\">\r\n      <g>\r\n       <use style=\"stroke:#000000;stroke-width:0.8;\" x=\"34.2\" xlink:href=\"#maeba479b6c\" y=\"421.096517\"/>\r\n      </g>\r\n     </g>\r\n     <g id=\"text_10\">\r\n      <!-- 충남 -->\r\n      <defs>\r\n       <path d=\"M 80.078125 55.90625 \r\nL 80.078125 33.109375 \r\nL 72.796875 33.109375 \r\nL 72.796875 85.40625 \r\nL 80.078125 85.40625 \r\nL 80.078125 62.5 \r\nL 94.28125 62.5 \r\nL 94.28125 55.90625 \r\nz\r\nM 66.609375 44.28125 \r\nQ 58.453125 42.09375 14.3125 42.09375 \r\nL 14.3125 81.59375 \r\nL 21.578125 81.59375 \r\nL 21.578125 48.578125 \r\nL 28.03125 48.578125 \r\nQ 55.515625 48.578125 65.71875 50.59375 \r\nz\r\nM 22.90625 -6.59375 \r\nL 22.90625 27.875 \r\nL 80.078125 27.875 \r\nL 80.078125 -6.59375 \r\nz\r\nM 72.90625 21.390625 \r\nL 30.078125 21.390625 \r\nL 30.078125 -0.09375 \r\nL 72.90625 -0.09375 \r\nz\r\n\" id=\"MalgunGothic-45224\"/>\r\n      </defs>\r\n      <g transform=\"translate(7.2 424.89261)scale(0.1 -0.1)\">\r\n       <use xlink:href=\"#MalgunGothic-52649\"/>\r\n       <use x=\"100\" xlink:href=\"#MalgunGothic-45224\"/>\r\n      </g>\r\n     </g>\r\n    </g>\r\n    <g id=\"ytick_3\">\r\n     <g id=\"line2d_21\">\r\n      <path clip-path=\"url(#p54dba288ca)\" d=\"M 34.2 395.51534 \r\nL 703.8 395.51534 \r\n\" style=\"fill:none;stroke:#b0b0b0;stroke-linecap:square;stroke-width:0.8;\"/>\r\n     </g>\r\n     <g id=\"line2d_22\">\r\n      <g>\r\n       <use style=\"stroke:#000000;stroke-width:0.8;\" x=\"34.2\" xlink:href=\"#maeba479b6c\" y=\"395.51534\"/>\r\n      </g>\r\n     </g>\r\n     <g id=\"text_11\">\r\n      <!-- 제주 -->\r\n      <defs>\r\n       <path d=\"M 78.71875 -8.796875 \r\nL 78.71875 85.40625 \r\nL 85.984375 85.40625 \r\nL 85.984375 -8.796875 \r\nz\r\nM 61.625 -5.90625 \r\nL 61.625 46.484375 \r\nL 45.21875 46.484375 \r\nL 45.21875 52.984375 \r\nL 61.625 52.984375 \r\nL 61.625 83.5 \r\nL 68.796875 83.5 \r\nL 68.796875 -5.90625 \r\nz\r\nM 48.6875 13.28125 \r\nQ 36.03125 25.734375 31 42.71875 \r\nQ 29.390625 35.796875 23.890625 26.90625 \r\nQ 18.40625 18.015625 12.109375 12.015625 \r\nL 6.390625 16.609375 \r\nQ 14.703125 22.46875 21.09375 35.125 \r\nQ 27.484375 47.796875 27.484375 59.90625 \r\nL 27.484375 70.703125 \r\nL 9.90625 70.703125 \r\nL 9.90625 77.203125 \r\nL 52.484375 77.203125 \r\nL 52.484375 70.703125 \r\nL 34.71875 70.703125 \r\nL 34.71875 59.8125 \r\nQ 34.71875 48.046875 40.453125 36.375 \r\nQ 46.1875 24.703125 54.203125 18.015625 \r\nz\r\n\" id=\"MalgunGothic-51228\"/>\r\n       <path d=\"M 85.796875 46.390625 \r\nQ 74.609375 47.953125 64.125 54.125 \r\nQ 53.65625 60.296875 50 66.5 \r\nQ 46.578125 60.453125 36.203125 54.046875 \r\nQ 25.828125 47.65625 14.40625 45.796875 \r\nL 9.90625 51.90625 \r\nQ 22.859375 53.21875 33.625 60.046875 \r\nQ 44.390625 66.890625 46.09375 75.390625 \r\nL 16.015625 75.390625 \r\nL 16.015625 81.890625 \r\nL 83.984375 81.890625 \r\nL 83.984375 75.390625 \r\nL 53.8125 75.390625 \r\nQ 55.46875 66.75 66.015625 60.15625 \r\nQ 76.5625 53.5625 90.09375 52.296875 \r\nz\r\nM 53.71875 29.109375 \r\nL 53.71875 -8.796875 \r\nL 46.296875 -8.796875 \r\nL 46.296875 29.109375 \r\nL 6.296875 29.109375 \r\nL 6.296875 35.59375 \r\nL 93.703125 35.59375 \r\nL 93.703125 29.109375 \r\nz\r\n\" id=\"MalgunGothic-51452\"/>\r\n      </defs>\r\n      <g transform=\"translate(7.2 399.311434)scale(0.1 -0.1)\">\r\n       <use xlink:href=\"#MalgunGothic-51228\"/>\r\n       <use x=\"100\" xlink:href=\"#MalgunGothic-51452\"/>\r\n      </g>\r\n     </g>\r\n    </g>\r\n    <g id=\"ytick_4\">\r\n     <g id=\"line2d_23\">\r\n      <path clip-path=\"url(#p54dba288ca)\" d=\"M 34.2 369.934164 \r\nL 703.8 369.934164 \r\n\" style=\"fill:none;stroke:#b0b0b0;stroke-linecap:square;stroke-width:0.8;\"/>\r\n     </g>\r\n     <g id=\"line2d_24\">\r\n      <g>\r\n       <use style=\"stroke:#000000;stroke-width:0.8;\" x=\"34.2\" xlink:href=\"#maeba479b6c\" y=\"369.934164\"/>\r\n      </g>\r\n     </g>\r\n     <g id=\"text_12\">\r\n      <!-- 전북 -->\r\n      <defs>\r\n       <path d=\"M 76.21875 18.40625 \r\nL 76.21875 55.078125 \r\nL 54.203125 55.078125 \r\nL 54.203125 61.625 \r\nL 76.21875 61.625 \r\nL 76.21875 85.40625 \r\nL 83.5 85.40625 \r\nL 83.5 18.40625 \r\nz\r\nM 57.421875 32.328125 \r\nQ 50.4375 36.625 44.203125 43.375 \r\nQ 37.984375 50.140625 35.40625 55.71875 \r\nQ 32.671875 49.21875 25.96875 41.375 \r\nQ 19.28125 33.546875 12.796875 29.890625 \r\nL 7.515625 34.90625 \r\nQ 17.578125 39.984375 24.578125 49.96875 \r\nQ 31.59375 59.96875 31.59375 70.21875 \r\nL 31.59375 73.6875 \r\nL 10.6875 73.6875 \r\nL 10.6875 80.328125 \r\nL 59.1875 80.328125 \r\nL 59.1875 73.6875 \r\nL 38.71875 73.6875 \r\nL 38.71875 70.21875 \r\nQ 38.71875 60.84375 45.984375 51.34375 \r\nQ 53.265625 41.84375 62.3125 37.59375 \r\nz\r\nM 25.484375 -5.71875 \r\nL 25.484375 25.09375 \r\nL 32.8125 25.09375 \r\nL 32.8125 0.6875 \r\nL 85.984375 0.6875 \r\nL 85.984375 -5.71875 \r\nz\r\n\" id=\"MalgunGothic-51204\"/>\r\n      </defs>\r\n      <g transform=\"translate(7.2 373.730257)scale(0.1 -0.1)\">\r\n       <use xlink:href=\"#MalgunGothic-51204\"/>\r\n       <use x=\"100\" xlink:href=\"#MalgunGothic-48513\"/>\r\n      </g>\r\n     </g>\r\n    </g>\r\n    <g id=\"ytick_5\">\r\n     <g id=\"line2d_25\">\r\n      <path clip-path=\"url(#p54dba288ca)\" d=\"M 34.2 344.352987 \r\nL 703.8 344.352987 \r\n\" style=\"fill:none;stroke:#b0b0b0;stroke-linecap:square;stroke-width:0.8;\"/>\r\n     </g>\r\n     <g id=\"line2d_26\">\r\n      <g>\r\n       <use style=\"stroke:#000000;stroke-width:0.8;\" x=\"34.2\" xlink:href=\"#maeba479b6c\" y=\"344.352987\"/>\r\n      </g>\r\n     </g>\r\n     <g id=\"text_13\">\r\n      <!-- 전남 -->\r\n      <g transform=\"translate(7.2 348.149081)scale(0.1 -0.1)\">\r\n       <use xlink:href=\"#MalgunGothic-51204\"/>\r\n       <use x=\"100\" xlink:href=\"#MalgunGothic-45224\"/>\r\n      </g>\r\n     </g>\r\n    </g>\r\n    <g id=\"ytick_6\">\r\n     <g id=\"line2d_27\">\r\n      <path clip-path=\"url(#p54dba288ca)\" d=\"M 34.2 318.771811 \r\nL 703.8 318.771811 \r\n\" style=\"fill:none;stroke:#b0b0b0;stroke-linecap:square;stroke-width:0.8;\"/>\r\n     </g>\r\n     <g id=\"line2d_28\">\r\n      <g>\r\n       <use style=\"stroke:#000000;stroke-width:0.8;\" x=\"34.2\" xlink:href=\"#maeba479b6c\" y=\"318.771811\"/>\r\n      </g>\r\n     </g>\r\n     <g id=\"text_14\">\r\n      <!-- 인천 -->\r\n      <defs>\r\n       <path d=\"M 77.296875 16.609375 \r\nL 77.296875 85.40625 \r\nL 84.625 85.40625 \r\nL 84.625 16.609375 \r\nz\r\nM 38.09375 33.984375 \r\nQ 27.546875 33.984375 20.453125 40.640625 \r\nQ 13.375 47.3125 13.375 57.90625 \r\nQ 13.375 68.5625 20.421875 75.171875 \r\nQ 27.484375 81.78125 38.09375 81.78125 \r\nQ 48.6875 81.78125 55.6875 75.1875 \r\nQ 62.703125 68.609375 62.703125 57.90625 \r\nQ 62.703125 47.3125 55.671875 40.640625 \r\nQ 48.640625 33.984375 38.09375 33.984375 \r\nz\r\nM 38.09375 75.296875 \r\nQ 30.375 75.296875 25.53125 70.5625 \r\nQ 20.703125 65.828125 20.703125 57.90625 \r\nQ 20.703125 50 25.515625 45.234375 \r\nQ 30.328125 40.484375 38.09375 40.484375 \r\nQ 45.84375 40.484375 50.671875 45.234375 \r\nQ 55.515625 50 55.515625 57.90625 \r\nQ 55.515625 65.828125 50.671875 70.5625 \r\nQ 45.84375 75.296875 38.09375 75.296875 \r\nz\r\nM 25.203125 -5.171875 \r\nL 25.203125 25.390625 \r\nL 32.515625 25.390625 \r\nL 32.515625 1.421875 \r\nL 87.109375 1.421875 \r\nL 87.109375 -5.171875 \r\nz\r\n\" id=\"MalgunGothic-51064\"/>\r\n       <path d=\"M 76.3125 16.5 \r\nL 76.3125 51.21875 \r\nL 55.328125 51.21875 \r\nL 55.328125 57.71875 \r\nL 76.3125 57.71875 \r\nL 76.3125 85.40625 \r\nL 83.59375 85.40625 \r\nL 83.59375 16.5 \r\nz\r\nM 58.6875 29.390625 \r\nQ 51.65625 32.671875 45.1875 38.59375 \r\nQ 38.71875 44.53125 35.890625 50 \r\nQ 32.953125 43.703125 26.34375 37.1875 \r\nQ 19.734375 30.671875 12.984375 27.296875 \r\nL 7.625 32.90625 \r\nQ 17.1875 36.234375 24.625 44.9375 \r\nQ 32.078125 53.65625 32.078125 61.1875 \r\nL 32.078125 67.921875 \r\nL 10.59375 67.921875 \r\nL 10.59375 74.421875 \r\nL 32.171875 74.421875 \r\nL 32.171875 85.296875 \r\nL 39.5 85.296875 \r\nL 39.5 74.421875 \r\nL 60.890625 74.421875 \r\nL 60.890625 67.921875 \r\nL 39.5 67.921875 \r\nL 39.5 61.28125 \r\nQ 39.5 54 46.96875 46.0625 \r\nQ 54.4375 38.140625 63.625 35.40625 \r\nz\r\nM 25.59375 -5.71875 \r\nL 25.59375 24.703125 \r\nL 33.015625 24.703125 \r\nL 33.015625 0.6875 \r\nL 86.078125 0.6875 \r\nL 86.078125 -5.71875 \r\nz\r\n\" id=\"MalgunGothic-52380\"/>\r\n      </defs>\r\n      <g transform=\"translate(7.2 322.567904)scale(0.1 -0.1)\">\r\n       <use xlink:href=\"#MalgunGothic-51064\"/>\r\n       <use x=\"100\" xlink:href=\"#MalgunGothic-52380\"/>\r\n      </g>\r\n     </g>\r\n    </g>\r\n    <g id=\"ytick_7\">\r\n     <g id=\"line2d_29\">\r\n      <path clip-path=\"url(#p54dba288ca)\" d=\"M 34.2 293.190634 \r\nL 703.8 293.190634 \r\n\" style=\"fill:none;stroke:#b0b0b0;stroke-linecap:square;stroke-width:0.8;\"/>\r\n     </g>\r\n     <g id=\"line2d_30\">\r\n      <g>\r\n       <use style=\"stroke:#000000;stroke-width:0.8;\" x=\"34.2\" xlink:href=\"#maeba479b6c\" y=\"293.190634\"/>\r\n      </g>\r\n     </g>\r\n     <g id=\"text_15\">\r\n      <!-- 울산 -->\r\n      <defs>\r\n       <path d=\"M 50 51.8125 \r\nQ 35.453125 51.8125 27.640625 56.328125 \r\nQ 19.828125 60.84375 19.828125 68.40625 \r\nQ 19.828125 75.921875 27.65625 80.46875 \r\nQ 35.5 85.015625 50 85.015625 \r\nQ 64.65625 85.015625 72.40625 80.546875 \r\nQ 80.171875 76.078125 80.171875 68.40625 \r\nQ 80.171875 60.796875 72.375 56.296875 \r\nQ 64.59375 51.8125 50 51.8125 \r\nz\r\nM 50 79.203125 \r\nQ 39.109375 79.203125 33.25 76.21875 \r\nQ 27.390625 73.25 27.390625 68.40625 \r\nQ 27.390625 63.484375 33.296875 60.5 \r\nQ 39.203125 57.515625 50 57.515625 \r\nQ 60.6875 57.515625 66.640625 60.546875 \r\nQ 72.609375 63.578125 72.609375 68.40625 \r\nQ 72.609375 73.140625 66.671875 76.171875 \r\nQ 60.75 79.203125 50 79.203125 \r\nz\r\nM 20.40625 -7.8125 \r\nL 20.40625 12.984375 \r\nL 72.3125 12.984375 \r\nL 72.3125 21.78125 \r\nL 20.40625 21.78125 \r\nL 20.40625 27.78125 \r\nL 46.296875 27.78125 \r\nL 46.296875 37.796875 \r\nL 6.296875 37.796875 \r\nL 6.296875 43.796875 \r\nL 93.703125 43.796875 \r\nL 93.703125 37.796875 \r\nL 53.71875 37.796875 \r\nL 53.71875 27.78125 \r\nL 79.5 27.78125 \r\nL 79.5 7.421875 \r\nL 27.59375 7.421875 \r\nL 27.59375 -1.8125 \r\nL 81.984375 -1.8125 \r\nL 81.984375 -7.8125 \r\nz\r\n\" id=\"MalgunGothic-50872\"/>\r\n       <path d=\"M 80.078125 49.515625 \r\nL 80.078125 16.890625 \r\nL 72.796875 16.890625 \r\nL 72.796875 85.40625 \r\nL 80.078125 85.40625 \r\nL 80.078125 56 \r\nL 94.28125 56 \r\nL 94.28125 49.515625 \r\nz\r\nM 56.203125 32.515625 \r\nQ 50.09375 35.84375 43.40625 42.671875 \r\nQ 36.71875 49.515625 34.1875 55.078125 \r\nQ 31.84375 48.828125 25.046875 41.28125 \r\nQ 18.265625 33.734375 11.71875 30.078125 \r\nL 6.390625 35.109375 \r\nQ 16.265625 39.890625 23.3125 49.578125 \r\nQ 30.375 59.28125 30.515625 69.578125 \r\nL 30.515625 81.6875 \r\nL 37.5 81.6875 \r\nL 37.5 69.578125 \r\nQ 37.5 60.015625 44.578125 50.921875 \r\nQ 51.65625 41.84375 61.078125 37.796875 \r\nz\r\nM 23.09375 -5.515625 \r\nL 23.09375 23.875 \r\nL 30.515625 23.875 \r\nL 30.515625 1.125 \r\nL 83.203125 1.125 \r\nL 83.203125 -5.515625 \r\nz\r\n\" id=\"MalgunGothic-49328\"/>\r\n      </defs>\r\n      <g transform=\"translate(7.2 296.986728)scale(0.1 -0.1)\">\r\n       <use xlink:href=\"#MalgunGothic-50872\"/>\r\n       <use x=\"100\" xlink:href=\"#MalgunGothic-49328\"/>\r\n      </g>\r\n     </g>\r\n    </g>\r\n    <g id=\"ytick_8\">\r\n     <g id=\"line2d_31\">\r\n      <path clip-path=\"url(#p54dba288ca)\" d=\"M 34.2 267.609458 \r\nL 703.8 267.609458 \r\n\" style=\"fill:none;stroke:#b0b0b0;stroke-linecap:square;stroke-width:0.8;\"/>\r\n     </g>\r\n     <g id=\"line2d_32\">\r\n      <g>\r\n       <use style=\"stroke:#000000;stroke-width:0.8;\" x=\"34.2\" xlink:href=\"#maeba479b6c\" y=\"267.609458\"/>\r\n      </g>\r\n     </g>\r\n     <g id=\"text_16\">\r\n      <!-- 세종 -->\r\n      <defs>\r\n       <path d=\"M 78.71875 -8.796875 \r\nL 78.71875 85.40625 \r\nL 85.984375 85.40625 \r\nL 85.984375 -8.796875 \r\nz\r\nM 61.625 -5.90625 \r\nL 61.625 46.484375 \r\nL 45.21875 46.484375 \r\nL 45.21875 52.984375 \r\nL 61.625 52.984375 \r\nL 61.625 83.5 \r\nL 68.796875 83.5 \r\nL 68.796875 -5.90625 \r\nz\r\nM 48.6875 13.28125 \r\nQ 36.03125 25.734375 31 42.71875 \r\nQ 29.390625 35.796875 23.890625 26.90625 \r\nQ 18.40625 18.015625 12.109375 12.015625 \r\nL 6.390625 16.609375 \r\nQ 14.703125 22.46875 21.09375 35.125 \r\nQ 27.484375 47.796875 27.484375 59.90625 \r\nL 27.484375 78.515625 \r\nL 34.71875 78.515625 \r\nL 34.71875 59.8125 \r\nQ 34.71875 48.046875 40.453125 36.375 \r\nQ 46.1875 24.703125 54.203125 18.015625 \r\nz\r\n\" id=\"MalgunGothic-49464\"/>\r\n       <path d=\"M 85.296875 51.125 \r\nQ 73.6875 52.984375 63.75 58.15625 \r\nQ 53.8125 63.328125 50.09375 68.890625 \r\nQ 46.578125 63.921875 36.765625 58.59375 \r\nQ 26.953125 53.265625 15.1875 51.21875 \r\nL 10.890625 57.078125 \r\nQ 23.09375 58.015625 33.421875 63.796875 \r\nQ 43.75 69.578125 46.09375 76.21875 \r\nL 16.015625 76.21875 \r\nL 16.015625 82.8125 \r\nL 83.984375 82.8125 \r\nL 83.984375 76.21875 \r\nL 54 76.21875 \r\nQ 56.203125 69.625 66.421875 63.90625 \r\nQ 76.65625 58.203125 89.109375 57.078125 \r\nz\r\nM 6.296875 34.421875 \r\nL 6.296875 41.015625 \r\nL 46.296875 41.015625 \r\nL 46.296875 54.78125 \r\nL 53.71875 54.78125 \r\nL 53.71875 41.015625 \r\nL 93.703125 41.015625 \r\nL 93.703125 34.421875 \r\nz\r\nM 50 -7.8125 \r\nQ 35.359375 -7.8125 27.59375 -3.125 \r\nQ 19.828125 1.5625 19.828125 9.8125 \r\nQ 19.828125 17.875 27.609375 22.53125 \r\nQ 35.40625 27.203125 50 27.203125 \r\nQ 64.59375 27.203125 72.375 22.53125 \r\nQ 80.171875 17.875 80.171875 9.8125 \r\nQ 80.171875 1.5625 72.40625 -3.125 \r\nQ 64.65625 -7.8125 50 -7.8125 \r\nz\r\nM 50 21 \r\nQ 38.765625 21 33.078125 18.046875 \r\nQ 27.390625 15.09375 27.390625 9.8125 \r\nQ 27.390625 4.4375 33.171875 1.40625 \r\nQ 38.96875 -1.609375 50 -1.609375 \r\nQ 60.984375 -1.609375 66.796875 1.40625 \r\nQ 72.609375 4.4375 72.609375 9.8125 \r\nQ 72.609375 15.09375 66.890625 18.046875 \r\nQ 61.1875 21 50 21 \r\nz\r\n\" id=\"MalgunGothic-51333\"/>\r\n      </defs>\r\n      <g transform=\"translate(7.2 271.405551)scale(0.1 -0.1)\">\r\n       <use xlink:href=\"#MalgunGothic-49464\"/>\r\n       <use x=\"100\" xlink:href=\"#MalgunGothic-51333\"/>\r\n      </g>\r\n     </g>\r\n    </g>\r\n    <g id=\"ytick_9\">\r\n     <g id=\"line2d_33\">\r\n      <path clip-path=\"url(#p54dba288ca)\" d=\"M 34.2 242.028281 \r\nL 703.8 242.028281 \r\n\" style=\"fill:none;stroke:#b0b0b0;stroke-linecap:square;stroke-width:0.8;\"/>\r\n     </g>\r\n     <g id=\"line2d_34\">\r\n      <g>\r\n       <use style=\"stroke:#000000;stroke-width:0.8;\" x=\"34.2\" xlink:href=\"#maeba479b6c\" y=\"242.028281\"/>\r\n      </g>\r\n     </g>\r\n     <g id=\"text_17\">\r\n      <!-- 서울 -->\r\n      <defs>\r\n       <path d=\"M 77.296875 -8.796875 \r\nL 77.296875 48 \r\nL 55.328125 48 \r\nL 55.328125 54.5 \r\nL 77.296875 54.5 \r\nL 77.296875 85.40625 \r\nL 84.625 85.40625 \r\nL 84.625 -8.796875 \r\nz\r\nM 58.984375 15.09375 \r\nQ 51.078125 21.140625 44.15625 30.296875 \r\nQ 37.25 39.453125 35.40625 46.09375 \r\nQ 33.15625 38.484375 26.46875 29.25 \r\nQ 19.78125 20.015625 11.921875 13.921875 \r\nL 6.296875 18.796875 \r\nQ 17.921875 26.609375 24.796875 38.734375 \r\nQ 31.6875 50.875 31.6875 63.484375 \r\nL 31.6875 78.90625 \r\nL 38.921875 78.90625 \r\nL 38.921875 63.8125 \r\nQ 38.921875 51.609375 45.734375 39.9375 \r\nQ 52.546875 28.265625 64.109375 20.796875 \r\nz\r\n\" id=\"MalgunGothic-49436\"/>\r\n      </defs>\r\n      <g transform=\"translate(7.2 245.824375)scale(0.1 -0.1)\">\r\n       <use xlink:href=\"#MalgunGothic-49436\"/>\r\n       <use x=\"100\" xlink:href=\"#MalgunGothic-50872\"/>\r\n      </g>\r\n     </g>\r\n    </g>\r\n    <g id=\"ytick_10\">\r\n     <g id=\"line2d_35\">\r\n      <path clip-path=\"url(#p54dba288ca)\" d=\"M 34.2 216.447105 \r\nL 703.8 216.447105 \r\n\" style=\"fill:none;stroke:#b0b0b0;stroke-linecap:square;stroke-width:0.8;\"/>\r\n     </g>\r\n     <g id=\"line2d_36\">\r\n      <g>\r\n       <use style=\"stroke:#000000;stroke-width:0.8;\" x=\"34.2\" xlink:href=\"#maeba479b6c\" y=\"216.447105\"/>\r\n      </g>\r\n     </g>\r\n     <g id=\"text_18\">\r\n      <!-- 부산 -->\r\n      <defs>\r\n       <path d=\"M 20.40625 44.09375 \r\nL 20.40625 82.625 \r\nL 27.59375 82.625 \r\nL 27.59375 69.1875 \r\nL 72.40625 69.1875 \r\nL 72.40625 82.625 \r\nL 79.59375 82.625 \r\nL 79.59375 44.09375 \r\nz\r\nM 72.40625 62.796875 \r\nL 27.59375 62.796875 \r\nL 27.59375 50.484375 \r\nL 72.40625 50.484375 \r\nz\r\nM 53.609375 25.296875 \r\nL 53.609375 -8.796875 \r\nL 46.296875 -8.796875 \r\nL 46.296875 25.296875 \r\nL 6.296875 25.296875 \r\nL 6.296875 31.890625 \r\nL 93.703125 31.890625 \r\nL 93.703125 25.296875 \r\nz\r\n\" id=\"MalgunGothic-48512\"/>\r\n      </defs>\r\n      <g transform=\"translate(7.2 220.243199)scale(0.1 -0.1)\">\r\n       <use xlink:href=\"#MalgunGothic-48512\"/>\r\n       <use x=\"100\" xlink:href=\"#MalgunGothic-49328\"/>\r\n      </g>\r\n     </g>\r\n    </g>\r\n    <g id=\"ytick_11\">\r\n     <g id=\"line2d_37\">\r\n      <path clip-path=\"url(#p54dba288ca)\" d=\"M 34.2 190.865928 \r\nL 703.8 190.865928 \r\n\" style=\"fill:none;stroke:#b0b0b0;stroke-linecap:square;stroke-width:0.8;\"/>\r\n     </g>\r\n     <g id=\"line2d_38\">\r\n      <g>\r\n       <use style=\"stroke:#000000;stroke-width:0.8;\" x=\"34.2\" xlink:href=\"#maeba479b6c\" y=\"190.865928\"/>\r\n      </g>\r\n     </g>\r\n     <g id=\"text_19\">\r\n      <!-- 대전 -->\r\n      <defs>\r\n       <path d=\"M 79.203125 -8.796875 \r\nL 79.203125 40.1875 \r\nL 67.09375 40.1875 \r\nL 67.09375 -5.90625 \r\nL 59.90625 -5.90625 \r\nL 59.90625 83.5 \r\nL 67.09375 83.5 \r\nL 67.09375 46.6875 \r\nL 79.203125 46.6875 \r\nL 79.203125 85.40625 \r\nL 86.53125 85.40625 \r\nL 86.53125 -8.796875 \r\nz\r\nM 52.984375 18.015625 \r\nQ 39.3125 16.609375 12.890625 16.609375 \r\nL 12.890625 77.09375 \r\nL 49.03125 77.09375 \r\nL 49.03125 70.609375 \r\nL 20.125 70.609375 \r\nL 20.125 23.09375 \r\nL 28.8125 23.09375 \r\nQ 43.609375 23.09375 52.484375 24.21875 \r\nz\r\n\" id=\"MalgunGothic-45824\"/>\r\n      </defs>\r\n      <g transform=\"translate(7.2 194.662022)scale(0.1 -0.1)\">\r\n       <use xlink:href=\"#MalgunGothic-45824\"/>\r\n       <use x=\"100\" xlink:href=\"#MalgunGothic-51204\"/>\r\n      </g>\r\n     </g>\r\n    </g>\r\n    <g id=\"ytick_12\">\r\n     <g id=\"line2d_39\">\r\n      <path clip-path=\"url(#p54dba288ca)\" d=\"M 34.2 165.284752 \r\nL 703.8 165.284752 \r\n\" style=\"fill:none;stroke:#b0b0b0;stroke-linecap:square;stroke-width:0.8;\"/>\r\n     </g>\r\n     <g id=\"line2d_40\">\r\n      <g>\r\n       <use style=\"stroke:#000000;stroke-width:0.8;\" x=\"34.2\" xlink:href=\"#maeba479b6c\" y=\"165.284752\"/>\r\n      </g>\r\n     </g>\r\n     <g id=\"text_20\">\r\n      <!-- 대구 -->\r\n      <defs>\r\n       <path d=\"M 45.515625 -8.796875 \r\nL 45.515625 34.8125 \r\nL 6.296875 34.8125 \r\nL 6.296875 41.40625 \r\nL 71.78125 41.40625 \r\nQ 72.90625 52.984375 72.90625 74.8125 \r\nL 20.515625 74.8125 \r\nL 20.515625 81.296875 \r\nL 80.171875 81.296875 \r\nQ 80.171875 57.125 78.8125 41.40625 \r\nL 93.703125 41.40625 \r\nL 93.703125 34.8125 \r\nL 52.78125 34.8125 \r\nL 52.78125 -8.796875 \r\nz\r\n\" id=\"MalgunGothic-44396\"/>\r\n      </defs>\r\n      <g transform=\"translate(7.2 169.080846)scale(0.1 -0.1)\">\r\n       <use xlink:href=\"#MalgunGothic-45824\"/>\r\n       <use x=\"100\" xlink:href=\"#MalgunGothic-44396\"/>\r\n      </g>\r\n     </g>\r\n    </g>\r\n    <g id=\"ytick_13\">\r\n     <g id=\"line2d_41\">\r\n      <path clip-path=\"url(#p54dba288ca)\" d=\"M 34.2 139.703575 \r\nL 703.8 139.703575 \r\n\" style=\"fill:none;stroke:#b0b0b0;stroke-linecap:square;stroke-width:0.8;\"/>\r\n     </g>\r\n     <g id=\"line2d_42\">\r\n      <g>\r\n       <use style=\"stroke:#000000;stroke-width:0.8;\" x=\"34.2\" xlink:href=\"#maeba479b6c\" y=\"139.703575\"/>\r\n      </g>\r\n     </g>\r\n     <g id=\"text_21\">\r\n      <!-- 광주 -->\r\n      <defs>\r\n       <path d=\"M 81.109375 50.09375 \r\nL 81.109375 28.125 \r\nL 73.78125 28.125 \r\nL 73.78125 85.40625 \r\nL 81.109375 85.40625 \r\nL 81.109375 56.59375 \r\nL 95.3125 56.59375 \r\nL 95.3125 50.09375 \r\nz\r\nM 60.5 81.296875 \r\nQ 60.5 62.703125 59.078125 49.609375 \r\nL 52 50.203125 \r\nQ 53.21875 62.15625 53.21875 74.8125 \r\nL 14.3125 74.8125 \r\nL 14.3125 81.296875 \r\nz\r\nM 66.890625 36.921875 \r\nQ 60.296875 36.375 39.078125 35.828125 \r\nQ 17.875 35.296875 6.390625 35.296875 \r\nL 5.71875 41.796875 \r\nL 28.8125 42 \r\nL 28.8125 60.984375 \r\nL 36.078125 60.984375 \r\nL 36.078125 42.1875 \r\nQ 57.859375 42.53125 66.5 43.21875 \r\nz\r\nM 50.390625 -7.515625 \r\nQ 35.40625 -7.515625 27.296875 -2.703125 \r\nQ 19.1875 2.09375 19.1875 10.015625 \r\nQ 19.1875 17.875 27.296875 22.671875 \r\nQ 35.40625 27.484375 50.390625 27.484375 \r\nQ 65.28125 27.484375 73.390625 22.703125 \r\nQ 81.5 17.921875 81.5 10.015625 \r\nQ 81.5 2.046875 73.390625 -2.734375 \r\nQ 65.28125 -7.515625 50.390625 -7.515625 \r\nz\r\nM 50.390625 21.1875 \r\nQ 38.96875 21.1875 32.984375 18.15625 \r\nQ 27 15.140625 27 10.015625 \r\nQ 27 4.890625 33.046875 1.828125 \r\nQ 39.109375 -1.21875 50.390625 -1.21875 \r\nQ 61.625 -1.21875 67.703125 1.796875 \r\nQ 73.78125 4.828125 73.78125 10.015625 \r\nQ 73.78125 15.140625 67.796875 18.15625 \r\nQ 61.8125 21.1875 50.390625 21.1875 \r\nz\r\n\" id=\"MalgunGothic-44305\"/>\r\n      </defs>\r\n      <g transform=\"translate(7.2 143.499669)scale(0.1 -0.1)\">\r\n       <use xlink:href=\"#MalgunGothic-44305\"/>\r\n       <use x=\"100\" xlink:href=\"#MalgunGothic-51452\"/>\r\n      </g>\r\n     </g>\r\n    </g>\r\n    <g id=\"ytick_14\">\r\n     <g id=\"line2d_43\">\r\n      <path clip-path=\"url(#p54dba288ca)\" d=\"M 34.2 114.122399 \r\nL 703.8 114.122399 \r\n\" style=\"fill:none;stroke:#b0b0b0;stroke-linecap:square;stroke-width:0.8;\"/>\r\n     </g>\r\n     <g id=\"line2d_44\">\r\n      <g>\r\n       <use style=\"stroke:#000000;stroke-width:0.8;\" x=\"34.2\" xlink:href=\"#maeba479b6c\" y=\"114.122399\"/>\r\n      </g>\r\n     </g>\r\n     <g id=\"text_22\">\r\n      <!-- 경북 -->\r\n      <defs>\r\n       <path d=\"M 77.296875 30.21875 \r\nL 77.296875 42 \r\nL 57.515625 42 \r\nL 57.515625 48.578125 \r\nL 77.296875 48.578125 \r\nL 77.296875 61.921875 \r\nL 58.5 61.921875 \r\nL 58.5 68.5 \r\nL 77.296875 68.5 \r\nL 77.296875 85.40625 \r\nL 84.625 85.40625 \r\nL 84.625 30.21875 \r\nz\r\nM 56.390625 80.421875 \r\nQ 55.421875 62.796875 42.84375 49.3125 \r\nQ 30.28125 35.84375 13.625 29.390625 \r\nL 8.5 35.203125 \r\nQ 22.796875 39.75 34.078125 50.265625 \r\nQ 45.359375 60.796875 47.90625 73.875 \r\nL 14.703125 73.875 \r\nL 14.703125 80.421875 \r\nz\r\nM 54.390625 -7.515625 \r\nQ 39.65625 -7.515625 31.5625 -2.234375 \r\nQ 23.484375 3.03125 23.484375 11.1875 \r\nQ 23.484375 19.34375 31.5625 24.515625 \r\nQ 39.65625 29.6875 54.390625 29.6875 \r\nQ 69.1875 29.6875 77.296875 24.515625 \r\nQ 85.40625 19.34375 85.40625 11.1875 \r\nQ 85.40625 3.03125 77.3125 -2.234375 \r\nQ 69.234375 -7.515625 54.390625 -7.515625 \r\nz\r\nM 54.390625 23.390625 \r\nQ 43.359375 23.390625 37.28125 19.921875 \r\nQ 31.203125 16.453125 31.203125 11.1875 \r\nQ 31.203125 5.859375 37.203125 2.3125 \r\nQ 43.21875 -1.21875 54.390625 -1.21875 \r\nQ 65.53125 -1.21875 71.5625 2.296875 \r\nQ 77.59375 5.8125 77.59375 11.1875 \r\nQ 77.59375 16.5 71.484375 19.9375 \r\nQ 65.375 23.390625 54.390625 23.390625 \r\nz\r\n\" id=\"MalgunGothic-44221\"/>\r\n      </defs>\r\n      <g transform=\"translate(7.2 117.918493)scale(0.1 -0.1)\">\r\n       <use xlink:href=\"#MalgunGothic-44221\"/>\r\n       <use x=\"100\" xlink:href=\"#MalgunGothic-48513\"/>\r\n      </g>\r\n     </g>\r\n    </g>\r\n    <g id=\"ytick_15\">\r\n     <g id=\"line2d_45\">\r\n      <path clip-path=\"url(#p54dba288ca)\" d=\"M 34.2 88.541222 \r\nL 703.8 88.541222 \r\n\" style=\"fill:none;stroke:#b0b0b0;stroke-linecap:square;stroke-width:0.8;\"/>\r\n     </g>\r\n     <g id=\"line2d_46\">\r\n      <g>\r\n       <use style=\"stroke:#000000;stroke-width:0.8;\" x=\"34.2\" xlink:href=\"#maeba479b6c\" y=\"88.541222\"/>\r\n      </g>\r\n     </g>\r\n     <g id=\"text_23\">\r\n      <!-- 경남 -->\r\n      <g transform=\"translate(7.2 92.337316)scale(0.1 -0.1)\">\r\n       <use xlink:href=\"#MalgunGothic-44221\"/>\r\n       <use x=\"100\" xlink:href=\"#MalgunGothic-45224\"/>\r\n      </g>\r\n     </g>\r\n    </g>\r\n    <g id=\"ytick_16\">\r\n     <g id=\"line2d_47\">\r\n      <path clip-path=\"url(#p54dba288ca)\" d=\"M 34.2 62.960046 \r\nL 703.8 62.960046 \r\n\" style=\"fill:none;stroke:#b0b0b0;stroke-linecap:square;stroke-width:0.8;\"/>\r\n     </g>\r\n     <g id=\"line2d_48\">\r\n      <g>\r\n       <use style=\"stroke:#000000;stroke-width:0.8;\" x=\"34.2\" xlink:href=\"#maeba479b6c\" y=\"62.960046\"/>\r\n      </g>\r\n     </g>\r\n     <g id=\"text_24\">\r\n      <!-- 경기 -->\r\n      <defs>\r\n       <path d=\"M 76.3125 -8.796875 \r\nL 76.3125 85.40625 \r\nL 83.59375 85.40625 \r\nL 83.59375 -8.796875 \r\nz\r\nM 57.421875 76.703125 \r\nQ 57.078125 57.125 46.1875 40.796875 \r\nQ 35.296875 24.46875 14.984375 13.1875 \r\nL 9.421875 19.09375 \r\nQ 24.359375 25.296875 35.828125 38.71875 \r\nQ 47.3125 52.15625 49.609375 70.21875 \r\nL 13.28125 70.21875 \r\nL 13.28125 76.703125 \r\nz\r\n\" id=\"MalgunGothic-44592\"/>\r\n      </defs>\r\n      <g transform=\"translate(7.2 66.75614)scale(0.1 -0.1)\">\r\n       <use xlink:href=\"#MalgunGothic-44221\"/>\r\n       <use x=\"100\" xlink:href=\"#MalgunGothic-44592\"/>\r\n      </g>\r\n     </g>\r\n    </g>\r\n    <g id=\"ytick_17\">\r\n     <g id=\"line2d_49\">\r\n      <path clip-path=\"url(#p54dba288ca)\" d=\"M 34.2 37.378869 \r\nL 703.8 37.378869 \r\n\" style=\"fill:none;stroke:#b0b0b0;stroke-linecap:square;stroke-width:0.8;\"/>\r\n     </g>\r\n     <g id=\"line2d_50\">\r\n      <g>\r\n       <use style=\"stroke:#000000;stroke-width:0.8;\" x=\"34.2\" xlink:href=\"#maeba479b6c\" y=\"37.378869\"/>\r\n      </g>\r\n     </g>\r\n     <g id=\"text_25\">\r\n      <!-- 강원 -->\r\n      <defs>\r\n       <path d=\"M 80.078125 52.6875 \r\nL 80.078125 31.390625 \r\nL 72.796875 31.390625 \r\nL 72.796875 85.40625 \r\nL 80.078125 85.40625 \r\nL 80.078125 59.515625 \r\nL 94.28125 59.515625 \r\nL 94.28125 52.6875 \r\nz\r\nM 54.890625 79.890625 \r\nQ 53.078125 60.15625 39.859375 47.484375 \r\nQ 26.65625 34.8125 12.40625 29.203125 \r\nL 7.171875 35.109375 \r\nQ 21.6875 39.703125 32.9375 50.390625 \r\nQ 44.1875 61.078125 46.296875 73.390625 \r\nL 12.984375 73.390625 \r\nL 12.984375 79.890625 \r\nz\r\nM 50.984375 -7.078125 \r\nQ 36.328125 -7.078125 28.21875 -2 \r\nQ 20.125 3.078125 20.125 11.1875 \r\nQ 20.125 19.234375 28.171875 24.3125 \r\nQ 36.234375 29.390625 50.984375 29.390625 \r\nQ 65.875 29.390625 73.921875 24.328125 \r\nQ 81.984375 19.28125 81.984375 11.1875 \r\nQ 81.984375 3.078125 73.84375 -2 \r\nQ 65.71875 -7.078125 50.984375 -7.078125 \r\nz\r\nM 50.984375 23.09375 \r\nQ 39.984375 23.09375 33.875 19.765625 \r\nQ 27.78125 16.453125 27.78125 11.1875 \r\nQ 27.78125 5.90625 33.78125 2.5625 \r\nQ 39.796875 -0.78125 50.984375 -0.78125 \r\nQ 62.203125 -0.78125 68.203125 2.5625 \r\nQ 74.21875 5.90625 74.21875 11.1875 \r\nQ 74.21875 16.453125 68.109375 19.765625 \r\nQ 62.015625 23.09375 50.984375 23.09375 \r\nz\r\n\" id=\"MalgunGothic-44053\"/>\r\n       <path d=\"M 77.78125 10.890625 \r\nL 77.78125 21 \r\nL 57.171875 21 \r\nL 57.171875 27.484375 \r\nL 77.78125 27.484375 \r\nL 77.78125 85.40625 \r\nL 85.203125 85.40625 \r\nL 85.203125 10.890625 \r\nz\r\nM 41.015625 47.796875 \r\nQ 30.71875 47.796875 24.1875 52.96875 \r\nQ 17.671875 58.15625 17.671875 65.828125 \r\nQ 17.671875 73.390625 24.140625 78.53125 \r\nQ 30.609375 83.6875 41.015625 83.6875 \r\nQ 51.375 83.6875 57.84375 78.578125 \r\nQ 64.3125 73.484375 64.3125 65.828125 \r\nQ 64.3125 58.109375 57.8125 52.953125 \r\nQ 51.3125 47.796875 41.015625 47.796875 \r\nz\r\nM 41.015625 77.484375 \r\nQ 33.796875 77.484375 29.390625 73.96875 \r\nQ 25 70.453125 25 65.828125 \r\nQ 25 61.078125 29.390625 57.53125 \r\nQ 33.796875 54 41.015625 54 \r\nQ 48.25 54 52.65625 57.53125 \r\nQ 57.078125 61.078125 57.078125 65.828125 \r\nQ 57.078125 70.453125 52.65625 73.96875 \r\nQ 48.25 77.484375 41.015625 77.484375 \r\nz\r\nM 71.1875 35.796875 \r\nQ 64.0625 35.296875 45.015625 34.515625 \r\nL 45.015625 14.203125 \r\nL 37.796875 14.203125 \r\nL 37.796875 34.1875 \r\nQ 18.890625 33.5 10.015625 33.5 \r\nL 8.984375 40.28125 \r\nQ 44.578125 40.28125 70.703125 42.09375 \r\nz\r\nM 23.578125 -6.296875 \r\nL 23.578125 21.921875 \r\nL 30.90625 21.921875 \r\nL 30.90625 0.203125 \r\nL 87.5 0.203125 \r\nL 87.5 -6.296875 \r\nz\r\n\" id=\"MalgunGothic-50896\"/>\r\n      </defs>\r\n      <g transform=\"translate(7.2 41.174963)scale(0.1 -0.1)\">\r\n       <use xlink:href=\"#MalgunGothic-44053\"/>\r\n       <use x=\"100\" xlink:href=\"#MalgunGothic-50896\"/>\r\n      </g>\r\n     </g>\r\n    </g>\r\n   </g>\r\n   <g id=\"patch_20\">\r\n    <path d=\"M 34.2 459.468281 \r\nL 34.2 24.588281 \r\n\" style=\"fill:none;stroke:#000000;stroke-linecap:square;stroke-linejoin:miter;stroke-width:0.8;\"/>\r\n   </g>\r\n   <g id=\"patch_21\">\r\n    <path d=\"M 703.8 459.468281 \r\nL 703.8 24.588281 \r\n\" style=\"fill:none;stroke:#000000;stroke-linecap:square;stroke-linejoin:miter;stroke-width:0.8;\"/>\r\n   </g>\r\n   <g id=\"patch_22\">\r\n    <path d=\"M 34.2 459.468281 \r\nL 703.8 459.468281 \r\n\" style=\"fill:none;stroke:#000000;stroke-linecap:square;stroke-linejoin:miter;stroke-width:0.8;\"/>\r\n   </g>\r\n   <g id=\"patch_23\">\r\n    <path d=\"M 34.2 24.588281 \r\nL 703.8 24.588281 \r\n\" style=\"fill:none;stroke:#000000;stroke-linecap:square;stroke-linejoin:miter;stroke-width:0.8;\"/>\r\n   </g>\r\n   <g id=\"text_26\">\r\n    <!-- 도시별 6월 확진자수 -->\r\n    <defs>\r\n     <path d=\"M 6.296875 5.8125 \r\nL 6.296875 12.3125 \r\nL 46.296875 12.3125 \r\nL 46.296875 34.078125 \r\nL 21.09375 34.078125 \r\nL 21.09375 76.515625 \r\nL 78.90625 76.515625 \r\nL 78.90625 70.015625 \r\nL 28.421875 70.015625 \r\nL 28.421875 40.625 \r\nL 80.421875 40.625 \r\nL 80.421875 34.078125 \r\nL 53.71875 34.078125 \r\nL 53.71875 12.3125 \r\nL 93.703125 12.3125 \r\nL 93.703125 5.8125 \r\nz\r\n\" id=\"MalgunGothic-46020\"/>\r\n     <path d=\"M 77.296875 -8.796875 \r\nL 77.296875 85.40625 \r\nL 84.625 85.40625 \r\nL 84.625 -8.796875 \r\nz\r\nM 58.890625 15.09375 \r\nQ 50.984375 21.140625 44.0625 30.296875 \r\nQ 37.15625 39.453125 35.296875 46.09375 \r\nQ 33.0625 38.484375 26.359375 29.25 \r\nQ 19.671875 20.015625 11.8125 13.921875 \r\nL 6.203125 18.796875 \r\nQ 17.828125 26.609375 24.703125 38.734375 \r\nQ 31.59375 50.875 31.59375 63.484375 \r\nL 31.59375 78.90625 \r\nL 38.8125 78.90625 \r\nL 38.8125 63.8125 \r\nQ 38.8125 51.609375 45.625 39.9375 \r\nQ 52.4375 28.265625 64.015625 20.796875 \r\nz\r\n\" id=\"MalgunGothic-49884\"/>\r\n     <path d=\"M 16.21875 40.28125 \r\nL 16.21875 82.625 \r\nL 23.390625 82.625 \r\nL 23.390625 67.09375 \r\nL 52.59375 67.09375 \r\nL 52.59375 82.625 \r\nL 59.8125 82.625 \r\nL 59.8125 72.90625 \r\nL 77.296875 72.90625 \r\nL 77.296875 85.40625 \r\nL 84.625 85.40625 \r\nL 84.625 35.296875 \r\nL 77.296875 35.296875 \r\nL 77.296875 48.875 \r\nL 59.8125 48.875 \r\nL 59.8125 40.28125 \r\nz\r\nM 59.8125 66.609375 \r\nL 59.8125 55.078125 \r\nL 77.296875 55.078125 \r\nL 77.296875 66.609375 \r\nz\r\nM 52.59375 60.6875 \r\nL 23.390625 60.6875 \r\nL 23.390625 46.78125 \r\nL 52.59375 46.78125 \r\nz\r\nM 27 -7.625 \r\nL 27 14.796875 \r\nL 77.390625 14.796875 \r\nL 77.390625 23.6875 \r\nL 27 23.6875 \r\nL 27 30.078125 \r\nL 84.625 30.078125 \r\nL 84.625 8.59375 \r\nL 34.28125 8.59375 \r\nL 34.28125 -1.125 \r\nL 87.203125 -1.125 \r\nL 87.203125 -7.625 \r\nz\r\n\" id=\"MalgunGothic-48324\"/>\r\n     <path id=\"MalgunGothic-32\"/>\r\n     <path d=\"M 46.578125 63.578125 \r\nQ 40.921875 66.40625 34.8125 66.40625 \r\nQ 24.859375 66.40625 19.1875 57.640625 \r\nQ 13.53125 48.875 13.578125 34.578125 \r\nL 13.8125 34.578125 \r\nQ 18.796875 44.875 30.28125 44.875 \r\nQ 39.796875 44.875 45.359375 38.71875 \r\nQ 50.921875 32.5625 50.921875 22.65625 \r\nQ 50.921875 12.453125 44.640625 5.609375 \r\nQ 38.375 -1.21875 28.515625 -1.21875 \r\nQ 17.4375 -1.21875 11.5 7.46875 \r\nQ 5.5625 16.15625 5.5625 31.546875 \r\nQ 5.5625 49.703125 13.234375 61.375 \r\nQ 20.90625 73.046875 34.71875 73.046875 \r\nQ 42.1875 73.046875 46.578125 71 \r\nz\r\nM 14.15625 23.53125 \r\nQ 14.15625 15.96875 18.203125 10.671875 \r\nQ 22.265625 5.375 28.8125 5.375 \r\nQ 35.109375 5.375 39.03125 10.078125 \r\nQ 42.96875 14.796875 42.96875 21.6875 \r\nQ 42.96875 29.5 39.203125 33.859375 \r\nQ 35.453125 38.234375 28.71875 38.234375 \r\nQ 22.5625 38.234375 18.359375 33.953125 \r\nQ 14.15625 29.6875 14.15625 23.53125 \r\nz\r\n\" id=\"MalgunGothic-54\"/>\r\n     <path d=\"M 77.875 29.5 \r\nL 77.875 33.203125 \r\nL 57.90625 33.203125 \r\nL 57.90625 39.203125 \r\nL 77.875 39.203125 \r\nL 77.875 85.40625 \r\nL 85.203125 85.40625 \r\nL 85.203125 29.5 \r\nz\r\nM 40.484375 54.890625 \r\nQ 29.59375 54.890625 23.296875 58.890625 \r\nQ 17 62.890625 17 69.921875 \r\nQ 17 76.953125 23.34375 80.921875 \r\nQ 29.6875 84.90625 40.484375 84.90625 \r\nQ 51.265625 84.90625 57.640625 80.953125 \r\nQ 64.015625 77 64.015625 69.921875 \r\nQ 64.015625 62.796875 57.6875 58.84375 \r\nQ 51.375 54.890625 40.484375 54.890625 \r\nz\r\nM 40.484375 79 \r\nQ 33.015625 79 28.65625 76.53125 \r\nQ 24.3125 74.078125 24.3125 69.921875 \r\nQ 24.3125 65.71875 28.6875 63.25 \r\nQ 33.0625 60.796875 40.484375 60.796875 \r\nQ 47.953125 60.796875 52.359375 63.234375 \r\nQ 56.78125 65.671875 56.78125 69.921875 \r\nQ 56.78125 74.078125 52.390625 76.53125 \r\nQ 48 79 40.484375 79 \r\nz\r\nM 70.703125 44.828125 \r\nQ 52.203125 43.609375 44.09375 43.5 \r\nL 44.09375 29.890625 \r\nL 36.921875 29.890625 \r\nL 36.921875 43.21875 \r\nL 10.203125 42.28125 \r\nL 9.078125 48.78125 \r\nQ 30.859375 48.78125 70.21875 50.875 \r\nz\r\nM 24.515625 -6.984375 \r\nL 24.515625 12.59375 \r\nL 78.078125 12.59375 \r\nL 78.078125 19.1875 \r\nL 24.515625 19.1875 \r\nL 24.515625 25.59375 \r\nL 85.296875 25.59375 \r\nL 85.296875 6.5 \r\nL 31.6875 6.5 \r\nL 31.6875 -0.59375 \r\nL 87.796875 -0.59375 \r\nL 87.796875 -6.984375 \r\nz\r\n\" id=\"MalgunGothic-50900\"/>\r\n     <path d=\"M 9.515625 70.015625 \r\nL 9.515625 76.421875 \r\nL 33.6875 76.421875 \r\nL 33.6875 86.1875 \r\nL 40.921875 86.1875 \r\nL 40.921875 76.421875 \r\nL 64.984375 76.421875 \r\nL 64.984375 70.015625 \r\nz\r\nM 81.5 45.40625 \r\nL 81.5 22.90625 \r\nL 74.3125 22.90625 \r\nL 74.3125 85.40625 \r\nL 81.5 85.40625 \r\nL 81.5 51.90625 \r\nL 95.609375 51.90625 \r\nL 95.609375 45.40625 \r\nz\r\nM 68.40625 26.125 \r\nQ 45.453125 24.609375 6.890625 24.609375 \r\nL 6.203125 30.90625 \r\nQ 21 30.90625 33.59375 31.203125 \r\nL 33.59375 38.71875 \r\nQ 23.96875 39.40625 18.9375 43.15625 \r\nQ 13.921875 46.921875 13.921875 52.6875 \r\nQ 13.921875 59.234375 20.109375 63.0625 \r\nQ 26.3125 66.890625 37.3125 66.890625 \r\nQ 48 66.890625 54.296875 62.9375 \r\nQ 60.59375 58.984375 60.59375 52.6875 \r\nQ 60.59375 46.828125 55.421875 43.0625 \r\nQ 50.25 39.3125 40.828125 38.71875 \r\nL 40.828125 31.296875 \r\nQ 57.421875 31.5 68.015625 32.171875 \r\nz\r\nM 37.3125 60.890625 \r\nQ 29.296875 60.890625 25.1875 58.640625 \r\nQ 21.09375 56.390625 21.09375 52.6875 \r\nQ 21.09375 48.96875 25.390625 46.71875 \r\nQ 29.6875 44.484375 37.3125 44.484375 \r\nQ 44.921875 44.484375 49.171875 46.703125 \r\nQ 53.421875 48.921875 53.421875 52.6875 \r\nQ 53.421875 56.390625 49.359375 58.640625 \r\nQ 45.3125 60.890625 37.3125 60.890625 \r\nz\r\nM 74.3125 -8.796875 \r\nL 74.3125 11.71875 \r\nL 20.796875 11.71875 \r\nL 20.796875 18.109375 \r\nL 81.5 18.109375 \r\nL 81.5 -8.796875 \r\nz\r\n\" id=\"MalgunGothic-54869\"/>\r\n     <path d=\"M 76.703125 18.40625 \r\nL 76.703125 85.40625 \r\nL 83.984375 85.40625 \r\nL 83.984375 18.40625 \r\nz\r\nM 60.296875 32.328125 \r\nQ 53.46875 36.46875 46.921875 43.296875 \r\nQ 40.375 50.140625 37.796875 55.71875 \r\nQ 35.109375 49.265625 28.21875 41.453125 \r\nQ 21.34375 33.640625 14.703125 29.890625 \r\nL 9.515625 34.90625 \r\nQ 19.78125 40.140625 26.875 50.09375 \r\nQ 33.984375 60.0625 33.984375 70.21875 \r\nL 33.984375 73.6875 \r\nL 12.59375 73.6875 \r\nL 12.59375 80.328125 \r\nL 62.203125 80.328125 \r\nL 62.203125 73.6875 \r\nL 41.109375 73.6875 \r\nL 41.109375 70.21875 \r\nQ 41.109375 60.890625 48.53125 51.40625 \r\nQ 55.953125 41.9375 65.1875 37.59375 \r\nz\r\nM 25.984375 -5.71875 \r\nL 25.984375 25.09375 \r\nL 33.296875 25.09375 \r\nL 33.296875 0.6875 \r\nL 86.53125 0.6875 \r\nL 86.53125 -5.71875 \r\nz\r\n\" id=\"MalgunGothic-51652\"/>\r\n     <path d=\"M 79.59375 40.625 \r\nL 79.59375 -8.796875 \r\nL 72.3125 -8.796875 \r\nL 72.3125 85.40625 \r\nL 79.59375 85.40625 \r\nL 79.59375 47.125 \r\nL 95.90625 47.125 \r\nL 95.90625 40.625 \r\nz\r\nM 57.421875 14.203125 \r\nQ 50.4375 19.53125 43.875 28.3125 \r\nQ 37.3125 37.109375 35.109375 44.09375 \r\nQ 33.203125 37.40625 26.75 28.265625 \r\nQ 20.3125 19.140625 12.5 12.890625 \r\nL 6.890625 17.71875 \r\nQ 17.1875 24.515625 24.234375 36.9375 \r\nQ 31.296875 49.359375 31.296875 60.796875 \r\nL 31.296875 70.703125 \r\nL 10.40625 70.703125 \r\nL 10.40625 77.203125 \r\nL 58.984375 77.203125 \r\nL 58.984375 70.703125 \r\nL 38.484375 70.703125 \r\nL 38.484375 61.28125 \r\nQ 38.484375 49.8125 45.5625 38.03125 \r\nQ 52.640625 26.265625 62.5 19.671875 \r\nz\r\n\" id=\"MalgunGothic-51088\"/>\r\n     <path d=\"M 85.796875 46.78125 \r\nQ 74.21875 48.390625 63.71875 54.65625 \r\nQ 53.21875 60.9375 50 66.796875 \r\nQ 46.484375 60.796875 36.078125 54.546875 \r\nQ 25.6875 48.296875 14.40625 46.1875 \r\nL 9.90625 52.296875 \r\nQ 24.359375 53.90625 35.328125 61.59375 \r\nQ 46.296875 69.28125 46.296875 78.328125 \r\nL 46.296875 82.421875 \r\nL 53.609375 82.421875 \r\nL 53.609375 78.328125 \r\nQ 53.609375 69.234375 64.34375 61.6875 \r\nQ 75.09375 54.15625 90.09375 52.78125 \r\nz\r\nM 53.609375 28.71875 \r\nL 53.609375 -8.796875 \r\nL 46.296875 -8.796875 \r\nL 46.296875 28.71875 \r\nL 6.296875 28.71875 \r\nL 6.296875 35.203125 \r\nL 93.703125 35.203125 \r\nL 93.703125 28.71875 \r\nz\r\n\" id=\"MalgunGothic-49688\"/>\r\n    </defs>\r\n    <g transform=\"translate(299.595703 18.588281)scale(0.15 -0.15)\">\r\n     <use xlink:href=\"#MalgunGothic-46020\"/>\r\n     <use x=\"100\" xlink:href=\"#MalgunGothic-49884\"/>\r\n     <use x=\"200\" xlink:href=\"#MalgunGothic-48324\"/>\r\n     <use x=\"300\" xlink:href=\"#MalgunGothic-32\"/>\r\n     <use x=\"335.15625\" xlink:href=\"#MalgunGothic-54\"/>\r\n     <use x=\"390.234375\" xlink:href=\"#MalgunGothic-50900\"/>\r\n     <use x=\"490.234375\" xlink:href=\"#MalgunGothic-32\"/>\r\n     <use x=\"525.390625\" xlink:href=\"#MalgunGothic-54869\"/>\r\n     <use x=\"625.390625\" xlink:href=\"#MalgunGothic-51652\"/>\r\n     <use x=\"725.390625\" xlink:href=\"#MalgunGothic-51088\"/>\r\n     <use x=\"825.390625\" xlink:href=\"#MalgunGothic-49688\"/>\r\n    </g>\r\n   </g>\r\n  </g>\r\n </g>\r\n <defs>\r\n  <clipPath id=\"p54dba288ca\">\r\n   <rect height=\"434.88\" width=\"669.6\" x=\"34.2\" y=\"24.588281\"/>\r\n  </clipPath>\r\n </defs>\r\n</svg>\r\n",
      "image/png": "[encoded data removed]"
     },
     "metadata": {
      "needs_background": "light"
     }
    }
   ],
   "source": [
    "cov_m_T['6월'].sort_index(ascending=False).plot(kind='barh', grid=True, figsize=(12,8))\n",
    "plt.title('도시별 6월 확진자수', fontsize=15)\n",
    "plt.ylabel('')\n",
    "plt.show()"
   ]
  },
  {
   "cell_type": "code",
   "execution_count": 252,
   "metadata": {},
   "outputs": [],
   "source": [
    "import folium\n",
    "import json\n",
    "import googlemaps"
   ]
  },
  {
   "cell_type": "code",
   "execution_count": 253,
   "metadata": {},
   "outputs": [],
   "source": [
    "geo_path = './02. skorea_municipalities_geo_simple.json'\n",
    "geo_data = json.load(open(geo_path, encoding='utf-8'))"
   ]
  },
  {
   "cell_type": "code",
   "execution_count": 340,
   "metadata": {},
   "outputs": [
    {
     "output_type": "execute_result",
     "data": {
      "text/plain": [
       "<folium.folium.Map at 0x17093c28a30>"
      ],
      "text/html": "<div style=\"width:100%;\"><div style=\"position:relative;width:100%;height:0;padding-bottom:60%;\"><span style=\"color:#565656\">Make this Notebook Trusted to load map: File -> Trust Notebook</span><iframe src=\"about:blank\" style=\"position:absolute;width:100%;height:100%;left:0;top:0;border:none !important;\" data-html=%3C%21DOCTYPE%20html%3E%0A%3Chead%3E%20%20%20%20%0A%20%20%20%20%3Cmeta%20http-equiv%3D%22content-type%22%20content%3D%22text/html%3B%20charset%3DUTF-8%22%20/%3E%0A%20%20%20%20%0A%20%20%20%20%20%20%20%20%3Cscript%3E%0A%20%20%20%20%20%20%20%20%20%20%20%20L_NO_TOUCH%20%3D%20false%3B%0A%20%20%20%20%20%20%20%20%20%20%20%20L_DISABLE_3D%20%3D%20false%3B%0A%20%20%20%20%20%20%20%20%3C/script%3E%0A%20%20%20%20%0A%20%20%20%20%3Cscript%20src%3D%22https%3A//cdn.jsdelivr.net/npm/leaflet%401.6.0/dist/leaflet.js%22%3E%3C/script%3E%0A%20%20%20%20%3Cscript%20src%3D%22https%3A//code.jquery.com/jquery-1.12.4.min.js%22%3E%3C/script%3E%0A%20%20%20%20%3Cscript%20src%3D%22https%3A//maxcdn.bootstrapcdn.com/bootstrap/3.2.0/js/bootstrap.min.js%22%3E%3C/script%3E%0A%20%20%20%20%3Cscript%20src%3D%22https%3A//cdnjs.cloudflare.com/ajax/libs/Leaflet.awesome-markers/2.0.2/leaflet.awesome-markers.js%22%3E%3C/script%3E%0A%20%20%20%20%3Clink%20rel%3D%22stylesheet%22%20href%3D%22https%3A//cdn.jsdelivr.net/npm/leaflet%401.6.0/dist/leaflet.css%22/%3E%0A%20%20%20%20%3Clink%20rel%3D%22stylesheet%22%20href%3D%22https%3A//maxcdn.bootstrapcdn.com/bootstrap/3.2.0/css/bootstrap.min.css%22/%3E%0A%20%20%20%20%3Clink%20rel%3D%22stylesheet%22%20href%3D%22https%3A//maxcdn.bootstrapcdn.com/bootstrap/3.2.0/css/bootstrap-theme.min.css%22/%3E%0A%20%20%20%20%3Clink%20rel%3D%22stylesheet%22%20href%3D%22https%3A//maxcdn.bootstrapcdn.com/font-awesome/4.6.3/css/font-awesome.min.css%22/%3E%0A%20%20%20%20%3Clink%20rel%3D%22stylesheet%22%20href%3D%22https%3A//cdnjs.cloudflare.com/ajax/libs/Leaflet.awesome-markers/2.0.2/leaflet.awesome-markers.css%22/%3E%0A%20%20%20%20%3Clink%20rel%3D%22stylesheet%22%20href%3D%22https%3A//rawcdn.githack.com/python-visualization/folium/master/folium/templates/leaflet.awesome.rotate.css%22/%3E%0A%20%20%20%20%3Cstyle%3Ehtml%2C%20body%20%7Bwidth%3A%20100%25%3Bheight%3A%20100%25%3Bmargin%3A%200%3Bpadding%3A%200%3B%7D%3C/style%3E%0A%20%20%20%20%3Cstyle%3E%23map%20%7Bposition%3Aabsolute%3Btop%3A0%3Bbottom%3A0%3Bright%3A0%3Bleft%3A0%3B%7D%3C/style%3E%0A%20%20%20%20%0A%20%20%20%20%20%20%20%20%20%20%20%20%3Cmeta%20name%3D%22viewport%22%20content%3D%22width%3Ddevice-width%2C%0A%20%20%20%20%20%20%20%20%20%20%20%20%20%20%20%20initial-scale%3D1.0%2C%20maximum-scale%3D1.0%2C%20user-scalable%3Dno%22%20/%3E%0A%20%20%20%20%20%20%20%20%20%20%20%20%3Cstyle%3E%0A%20%20%20%20%20%20%20%20%20%20%20%20%20%20%20%20%23map_2516fd261934432dbb4af385943a708d%20%7B%0A%20%20%20%20%20%20%20%20%20%20%20%20%20%20%20%20%20%20%20%20position%3A%20relative%3B%0A%20%20%20%20%20%20%20%20%20%20%20%20%20%20%20%20%20%20%20%20width%3A%20100.0%25%3B%0A%20%20%20%20%20%20%20%20%20%20%20%20%20%20%20%20%20%20%20%20height%3A%20100.0%25%3B%0A%20%20%20%20%20%20%20%20%20%20%20%20%20%20%20%20%20%20%20%20left%3A%200.0%25%3B%0A%20%20%20%20%20%20%20%20%20%20%20%20%20%20%20%20%20%20%20%20top%3A%200.0%25%3B%0A%20%20%20%20%20%20%20%20%20%20%20%20%20%20%20%20%7D%0A%20%20%20%20%20%20%20%20%20%20%20%20%3C/style%3E%0A%20%20%20%20%20%20%20%20%0A%20%20%20%20%3Cscript%20src%3D%22https%3A//cdnjs.cloudflare.com/ajax/libs/d3/3.5.5/d3.min.js%22%3E%3C/script%3E%0A%3C/head%3E%0A%3Cbody%3E%20%20%20%20%0A%20%20%20%20%3Ch3%20align%3D%22center%22%20style%3D%22font-size%3A20px%22%3E%3Cb%3E%EC%84%9C%EC%9A%B8%EC%8B%9C%20%EC%BD%94%EB%A1%9C%EB%82%98%20%ED%98%84%ED%99%A9%3C/b%3E%3C/h3%3E%0A%20%20%20%20%0A%20%20%20%20%20%20%20%20%20%20%20%20%3Cdiv%20class%3D%22folium-map%22%20id%3D%22map_2516fd261934432dbb4af385943a708d%22%20%3E%3C/div%3E%0A%20%20%20%20%20%20%20%20%0A%3C/body%3E%0A%3Cscript%3E%20%20%20%20%0A%20%20%20%20%0A%20%20%20%20%20%20%20%20%20%20%20%20var%20map_2516fd261934432dbb4af385943a708d%20%3D%20L.map%28%0A%20%20%20%20%20%20%20%20%20%20%20%20%20%20%20%20%22map_2516fd261934432dbb4af385943a708d%22%2C%0A%20%20%20%20%20%20%20%20%20%20%20%20%20%20%20%20%7B%0A%20%20%20%20%20%20%20%20%20%20%20%20%20%20%20%20%20%20%20%20center%3A%20%5B37.5502%2C%20126.982%5D%2C%0A%20%20%20%20%20%20%20%20%20%20%20%20%20%20%20%20%20%20%20%20crs%3A%20L.CRS.EPSG3857%2C%0A%20%20%20%20%20%20%20%20%20%20%20%20%20%20%20%20%20%20%20%20zoom%3A%2011%2C%0A%20%20%20%20%20%20%20%20%20%20%20%20%20%20%20%20%20%20%20%20zoomControl%3A%20true%2C%0A%20%20%20%20%20%20%20%20%20%20%20%20%20%20%20%20%20%20%20%20preferCanvas%3A%20false%2C%0A%20%20%20%20%20%20%20%20%20%20%20%20%20%20%20%20%7D%0A%20%20%20%20%20%20%20%20%20%20%20%20%29%3B%0A%0A%20%20%20%20%20%20%20%20%20%20%20%20%0A%0A%20%20%20%20%20%20%20%20%0A%20%20%20%20%0A%20%20%20%20%20%20%20%20%20%20%20%20var%20tile_layer_b73ab02956464be3a328112afe35c15f%20%3D%20L.tileLayer%28%0A%20%20%20%20%20%20%20%20%20%20%20%20%20%20%20%20%22https%3A//%7Bs%7D.tile.openstreetmap.org/%7Bz%7D/%7Bx%7D/%7By%7D.png%22%2C%0A%20%20%20%20%20%20%20%20%20%20%20%20%20%20%20%20%7B%22attribution%22%3A%20%22Data%20by%20%5Cu0026copy%3B%20%5Cu003ca%20href%3D%5C%22http%3A//openstreetmap.org%5C%22%5Cu003eOpenStreetMap%5Cu003c/a%5Cu003e%2C%20under%20%5Cu003ca%20href%3D%5C%22http%3A//www.openstreetmap.org/copyright%5C%22%5Cu003eODbL%5Cu003c/a%5Cu003e.%22%2C%20%22detectRetina%22%3A%20false%2C%20%22maxNativeZoom%22%3A%2018%2C%20%22maxZoom%22%3A%2018%2C%20%22minZoom%22%3A%200%2C%20%22noWrap%22%3A%20false%2C%20%22opacity%22%3A%201%2C%20%22subdomains%22%3A%20%22abc%22%2C%20%22tms%22%3A%20false%7D%0A%20%20%20%20%20%20%20%20%20%20%20%20%29.addTo%28map_2516fd261934432dbb4af385943a708d%29%3B%0A%20%20%20%20%20%20%20%20%0A%20%20%20%20%0A%20%20%20%20%20%20%20%20%20%20%20%20var%20choropleth_1444bbd095574f949582746cb3549818%20%3D%20L.featureGroup%28%0A%20%20%20%20%20%20%20%20%20%20%20%20%20%20%20%20%7B%7D%0A%20%20%20%20%20%20%20%20%20%20%20%20%29.addTo%28map_2516fd261934432dbb4af385943a708d%29%3B%0A%20%20%20%20%20%20%20%20%0A%20%20%20%20%0A%20%20%20%20%20%20%20%20function%20geo_json_3d54a8ab77ba4b0ba7135cfe344ba224_styler%28feature%29%20%7B%0A%20%20%20%20%20%20%20%20%20%20%20%20switch%28feature.id%29%20%7B%0A%20%20%20%20%20%20%20%20%20%20%20%20%20%20%20%20default%3A%0A%20%20%20%20%20%20%20%20%20%20%20%20%20%20%20%20%20%20%20%20return%20%7B%22color%22%3A%20%22black%22%2C%20%22fillColor%22%3A%20%22black%22%2C%20%22fillOpacity%22%3A%200.6%2C%20%22opacity%22%3A%201%2C%20%22weight%22%3A%201%7D%3B%0A%20%20%20%20%20%20%20%20%20%20%20%20%7D%0A%20%20%20%20%20%20%20%20%7D%0A%20%20%20%20%20%20%20%20function%20geo_json_3d54a8ab77ba4b0ba7135cfe344ba224_onEachFeature%28feature%2C%20layer%29%20%7B%0A%20%20%20%20%20%20%20%20%20%20%20%20layer.on%28%7B%0A%20%20%20%20%20%20%20%20%20%20%20%20%20%20%20%20click%3A%20function%28e%29%20%7B%0A%20%20%20%20%20%20%20%20%20%20%20%20%20%20%20%20%20%20%20%20map_2516fd261934432dbb4af385943a708d.fitBounds%28e.target.getBounds%28%29%29%3B%0A%20%20%20%20%20%20%20%20%20%20%20%20%20%20%20%20%7D%0A%20%20%20%20%20%20%20%20%20%20%20%20%7D%29%3B%0A%20%20%20%20%20%20%20%20%7D%3B%0A%20%20%20%20%20%20%20%20var%20geo_json_3d54a8ab77ba4b0ba7135cfe344ba224%20%3D%20L.geoJson%28null%2C%20%7B%0A%20%20%20%20%20%20%20%20%20%20%20%20%20%20%20%20onEachFeature%3A%20geo_json_3d54a8ab77ba4b0ba7135cfe344ba224_onEachFeature%2C%0A%20%20%20%20%20%20%20%20%20%20%20%20%0A%20%20%20%20%20%20%20%20%20%20%20%20%20%20%20%20style%3A%20geo_json_3d54a8ab77ba4b0ba7135cfe344ba224_styler%2C%0A%20%20%20%20%20%20%20%20%7D%29.addTo%28choropleth_1444bbd095574f949582746cb3549818%29%3B%0A%0A%20%20%20%20%20%20%20%20function%20geo_json_3d54a8ab77ba4b0ba7135cfe344ba224_add%20%28data%29%20%7B%0A%20%20%20%20%20%20%20%20%20%20%20%20geo_json_3d54a8ab77ba4b0ba7135cfe344ba224.addData%28data%29%3B%0A%20%20%20%20%20%20%20%20%7D%0A%20%20%20%20%20%20%20%20%20%20%20%20geo_json_3d54a8ab77ba4b0ba7135cfe344ba224_add%28%7B%22features%22%3A%20%5B%7B%22geometry%22%3A%20%7B%22coordinates%22%3A%20%5B%5B%5B127.11519584981606%2C%2037.557533180704915%5D%2C%20%5B127.16683184366129%2C%2037.57672487388627%5D%2C%20%5B127.18408792330152%2C%2037.55814280369575%5D%2C%20%5B127.16530984307447%2C%2037.54221851258693%5D%2C%20%5B127.14672806823502%2C%2037.51415680680291%5D%2C%20%5B127.12123165719615%2C%2037.52528270089%5D%2C%20%5B127.1116764203608%2C%2037.540669955324965%5D%2C%20%5B127.11519584981606%2C%2037.557533180704915%5D%5D%5D%2C%20%22type%22%3A%20%22Polygon%22%7D%2C%20%22id%22%3A%20%22%5Cuac15%5Cub3d9%5Cuad6c%22%2C%20%22properties%22%3A%20%7B%22base_year%22%3A%20%222013%22%2C%20%22code%22%3A%20%2211250%22%2C%20%22name%22%3A%20%22%5Cuac15%5Cub3d9%5Cuad6c%22%2C%20%22name_eng%22%3A%20%22Gangdong-gu%22%7D%2C%20%22type%22%3A%20%22Feature%22%7D%2C%20%7B%22geometry%22%3A%20%7B%22coordinates%22%3A%20%5B%5B%5B127.0690698130372%2C%2037.522279423505026%5D%2C%20%5B127.10087519791962%2C%2037.524841220167055%5D%2C%20%5B127.1116764203608%2C%2037.540669955324965%5D%2C%20%5B127.12123165719615%2C%2037.52528270089%5D%2C%20%5B127.14672806823502%2C%2037.51415680680291%5D%2C%20%5B127.1634944215765%2C%2037.497445406097484%5D%2C%20%5B127.14206058413274%2C%2037.47089819098501%5D%2C%20%5B127.12440571080893%2C%2037.46240445587048%5D%2C%20%5B127.11117085201238%2C%2037.485708381512445%5D%2C%20%5B127.0719146000724%2C%2037.50224013587669%5D%2C%20%5B127.0690698130372%2C%2037.522279423505026%5D%5D%5D%2C%20%22type%22%3A%20%22Polygon%22%7D%2C%20%22id%22%3A%20%22%5Cuc1a1%5Cud30c%5Cuad6c%22%2C%20%22properties%22%3A%20%7B%22base_year%22%3A%20%222013%22%2C%20%22code%22%3A%20%2211240%22%2C%20%22name%22%3A%20%22%5Cuc1a1%5Cud30c%5Cuad6c%22%2C%20%22name_eng%22%3A%20%22Songpa-gu%22%7D%2C%20%22type%22%3A%20%22Feature%22%7D%2C%20%7B%22geometry%22%3A%20%7B%22coordinates%22%3A%20%5B%5B%5B127.05867359288398%2C%2037.52629974922568%5D%2C%20%5B127.0690698130372%2C%2037.522279423505026%5D%2C%20%5B127.0719146000724%2C%2037.50224013587669%5D%2C%20%5B127.11117085201238%2C%2037.485708381512445%5D%2C%20%5B127.12440571080893%2C%2037.46240445587048%5D%2C%20%5B127.09842759318751%2C%2037.45862253857461%5D%2C%20%5B127.08640440578156%2C%2037.472697935184655%5D%2C%20%5B127.0559170481904%2C%2037.4659228914077%5D%2C%20%5B127.03621915098798%2C%2037.48175802427603%5D%2C%20%5B127.01397119667513%2C%2037.52503988289669%5D%2C%20%5B127.02302831890559%2C%2037.53231899582663%5D%2C%20%5B127.05867359288398%2C%2037.52629974922568%5D%5D%5D%2C%20%22type%22%3A%20%22Polygon%22%7D%2C%20%22id%22%3A%20%22%5Cuac15%5Cub0a8%5Cuad6c%22%2C%20%22properties%22%3A%20%7B%22base_year%22%3A%20%222013%22%2C%20%22code%22%3A%20%2211230%22%2C%20%22name%22%3A%20%22%5Cuac15%5Cub0a8%5Cuad6c%22%2C%20%22name_eng%22%3A%20%22Gangnam-gu%22%7D%2C%20%22type%22%3A%20%22Feature%22%7D%2C%20%7B%22geometry%22%3A%20%7B%22coordinates%22%3A%20%5B%5B%5B127.01397119667513%2C%2037.52503988289669%5D%2C%20%5B127.03621915098798%2C%2037.48175802427603%5D%2C%20%5B127.0559170481904%2C%2037.4659228914077%5D%2C%20%5B127.08640440578156%2C%2037.472697935184655%5D%2C%20%5B127.09842759318751%2C%2037.45862253857461%5D%2C%20%5B127.09046928565951%2C%2037.44296826114185%5D%2C%20%5B127.06778107605433%2C%2037.426197424057314%5D%2C%20%5B127.04957232987142%2C%2037.42805836845694%5D%2C%20%5B127.03881782597922%2C%2037.45382039851715%5D%2C%20%5B126.99072073195462%2C%2037.455326143310025%5D%2C%20%5B126.98367668291802%2C%2037.473856492692086%5D%2C%20%5B126.98223807916081%2C%2037.509314966770326%5D%2C%20%5B127.01397119667513%2C%2037.52503988289669%5D%5D%5D%2C%20%22type%22%3A%20%22Polygon%22%7D%2C%20%22id%22%3A%20%22%5Cuc11c%5Cucd08%5Cuad6c%22%2C%20%22properties%22%3A%20%7B%22base_year%22%3A%20%222013%22%2C%20%22code%22%3A%20%2211220%22%2C%20%22name%22%3A%20%22%5Cuc11c%5Cucd08%5Cuad6c%22%2C%20%22name_eng%22%3A%20%22Seocho-gu%22%7D%2C%20%22type%22%3A%20%22Feature%22%7D%2C%20%7B%22geometry%22%3A%20%7B%22coordinates%22%3A%20%5B%5B%5B126.98367668291802%2C%2037.473856492692086%5D%2C%20%5B126.99072073195462%2C%2037.455326143310025%5D%2C%20%5B126.96520439085143%2C%2037.438249784006246%5D%2C%20%5B126.95000001010182%2C%2037.43613451165719%5D%2C%20%5B126.93084408056525%2C%2037.447382928333994%5D%2C%20%5B126.9167728146601%2C%2037.45490566423789%5D%2C%20%5B126.90156094129895%2C%2037.47753842789901%5D%2C%20%5B126.90531975801812%2C%2037.48218087575429%5D%2C%20%5B126.94922661389508%2C%2037.49125437495649%5D%2C%20%5B126.9725891850662%2C%2037.472561363278125%5D%2C%20%5B126.98367668291802%2C%2037.473856492692086%5D%5D%5D%2C%20%22type%22%3A%20%22Polygon%22%7D%2C%20%22id%22%3A%20%22%5Cuad00%5Cuc545%5Cuad6c%22%2C%20%22properties%22%3A%20%7B%22base_year%22%3A%20%222013%22%2C%20%22code%22%3A%20%2211210%22%2C%20%22name%22%3A%20%22%5Cuad00%5Cuc545%5Cuad6c%22%2C%20%22name_eng%22%3A%20%22Gwanak-gu%22%7D%2C%20%22type%22%3A%20%22Feature%22%7D%2C%20%7B%22geometry%22%3A%20%7B%22coordinates%22%3A%20%5B%5B%5B126.98223807916081%2C%2037.509314966770326%5D%2C%20%5B126.98367668291802%2C%2037.473856492692086%5D%2C%20%5B126.9725891850662%2C%2037.472561363278125%5D%2C%20%5B126.94922661389508%2C%2037.49125437495649%5D%2C%20%5B126.90531975801812%2C%2037.48218087575429%5D%2C%20%5B126.92177893174825%2C%2037.494889877415176%5D%2C%20%5B126.92810628828279%2C%2037.51329595732015%5D%2C%20%5B126.95249990298159%2C%2037.51722500741813%5D%2C%20%5B126.98223807916081%2C%2037.509314966770326%5D%5D%5D%2C%20%22type%22%3A%20%22Polygon%22%7D%2C%20%22id%22%3A%20%22%5Cub3d9%5Cuc791%5Cuad6c%22%2C%20%22properties%22%3A%20%7B%22base_year%22%3A%20%222013%22%2C%20%22code%22%3A%20%2211200%22%2C%20%22name%22%3A%20%22%5Cub3d9%5Cuc791%5Cuad6c%22%2C%20%22name_eng%22%3A%20%22Dongjak-gu%22%7D%2C%20%22type%22%3A%20%22Feature%22%7D%2C%20%7B%22geometry%22%3A%20%7B%22coordinates%22%3A%20%5B%5B%5B126.89184663862764%2C%2037.547373974997114%5D%2C%20%5B126.94566733083212%2C%2037.526617542453366%5D%2C%20%5B126.95249990298159%2C%2037.51722500741813%5D%2C%20%5B126.92810628828279%2C%2037.51329595732015%5D%2C%20%5B126.92177893174825%2C%2037.494889877415176%5D%2C%20%5B126.90531975801812%2C%2037.48218087575429%5D%2C%20%5B126.89594776782485%2C%2037.504675281309176%5D%2C%20%5B126.88156402353862%2C%2037.513970034765684%5D%2C%20%5B126.88825757860099%2C%2037.54079733630232%5D%2C%20%5B126.89184663862764%2C%2037.547373974997114%5D%5D%5D%2C%20%22type%22%3A%20%22Polygon%22%7D%2C%20%22id%22%3A%20%22%5Cuc601%5Cub4f1%5Cud3ec%5Cuad6c%22%2C%20%22properties%22%3A%20%7B%22base_year%22%3A%20%222013%22%2C%20%22code%22%3A%20%2211190%22%2C%20%22name%22%3A%20%22%5Cuc601%5Cub4f1%5Cud3ec%5Cuad6c%22%2C%20%22name_eng%22%3A%20%22Yeongdeungpo-gu%22%7D%2C%20%22type%22%3A%20%22Feature%22%7D%2C%20%7B%22geometry%22%3A%20%7B%22coordinates%22%3A%20%5B%5B%5B126.90156094129895%2C%2037.47753842789901%5D%2C%20%5B126.9167728146601%2C%2037.45490566423789%5D%2C%20%5B126.93084408056525%2C%2037.447382928333994%5D%2C%20%5B126.9025831711697%2C%2037.434549366349124%5D%2C%20%5B126.87683271502428%2C%2037.482576591607305%5D%2C%20%5B126.90156094129895%2C%2037.47753842789901%5D%5D%5D%2C%20%22type%22%3A%20%22Polygon%22%7D%2C%20%22id%22%3A%20%22%5Cuae08%5Cucc9c%5Cuad6c%22%2C%20%22properties%22%3A%20%7B%22base_year%22%3A%20%222013%22%2C%20%22code%22%3A%20%2211180%22%2C%20%22name%22%3A%20%22%5Cuae08%5Cucc9c%5Cuad6c%22%2C%20%22name_eng%22%3A%20%22Geumcheon-gu%22%7D%2C%20%22type%22%3A%20%22Feature%22%7D%2C%20%7B%22geometry%22%3A%20%7B%22coordinates%22%3A%20%5B%5B%5B126.82688081517314%2C%2037.50548972232896%5D%2C%20%5B126.88156402353862%2C%2037.513970034765684%5D%2C%20%5B126.89594776782485%2C%2037.504675281309176%5D%2C%20%5B126.90531975801812%2C%2037.48218087575429%5D%2C%20%5B126.90156094129895%2C%2037.47753842789901%5D%2C%20%5B126.87683271502428%2C%2037.482576591607305%5D%2C%20%5B126.84762676054953%2C%2037.47146723936323%5D%2C%20%5B126.83549485076196%2C%2037.474098236975095%5D%2C%20%5B126.82264796791348%2C%2037.4878476492147%5D%2C%20%5B126.82504736331406%2C%2037.50302612640443%5D%2C%20%5B126.82688081517314%2C%2037.50548972232896%5D%5D%5D%2C%20%22type%22%3A%20%22Polygon%22%7D%2C%20%22id%22%3A%20%22%5Cuad6c%5Cub85c%5Cuad6c%22%2C%20%22properties%22%3A%20%7B%22base_year%22%3A%20%222013%22%2C%20%22code%22%3A%20%2211170%22%2C%20%22name%22%3A%20%22%5Cuad6c%5Cub85c%5Cuad6c%22%2C%20%22name_eng%22%3A%20%22Guro-gu%22%7D%2C%20%22type%22%3A%20%22Feature%22%7D%2C%20%7B%22geometry%22%3A%20%7B%22coordinates%22%3A%20%5B%5B%5B126.79575768552907%2C%2037.57881087633202%5D%2C%20%5B126.80702115023597%2C%2037.60123001013228%5D%2C%20%5B126.82251438477105%2C%2037.5880430810082%5D%2C%20%5B126.85984199399667%2C%2037.571847855292745%5D%2C%20%5B126.89184663862764%2C%2037.547373974997114%5D%2C%20%5B126.88825757860099%2C%2037.54079733630232%5D%2C%20%5B126.86637464321238%2C%2037.54859191094823%5D%2C%20%5B126.86610073476395%2C%2037.52699964144669%5D%2C%20%5B126.84257291943153%2C%2037.52373707805596%5D%2C%20%5B126.8242331426722%2C%2037.53788078753248%5D%2C%20%5B126.77324417717703%2C%2037.5459123450554%5D%2C%20%5B126.76979180579352%2C%2037.55139183008809%5D%2C%20%5B126.79575768552907%2C%2037.57881087633202%5D%5D%5D%2C%20%22type%22%3A%20%22Polygon%22%7D%2C%20%22id%22%3A%20%22%5Cuac15%5Cuc11c%5Cuad6c%22%2C%20%22properties%22%3A%20%7B%22base_year%22%3A%20%222013%22%2C%20%22code%22%3A%20%2211160%22%2C%20%22name%22%3A%20%22%5Cuac15%5Cuc11c%5Cuad6c%22%2C%20%22name_eng%22%3A%20%22Gangseo-gu%22%7D%2C%20%22type%22%3A%20%22Feature%22%7D%2C%20%7B%22geometry%22%3A%20%7B%22coordinates%22%3A%20%5B%5B%5B126.8242331426722%2C%2037.53788078753248%5D%2C%20%5B126.84257291943153%2C%2037.52373707805596%5D%2C%20%5B126.86610073476395%2C%2037.52699964144669%5D%2C%20%5B126.86637464321238%2C%2037.54859191094823%5D%2C%20%5B126.88825757860099%2C%2037.54079733630232%5D%2C%20%5B126.88156402353862%2C%2037.513970034765684%5D%2C%20%5B126.82688081517314%2C%2037.50548972232896%5D%2C%20%5B126.8242331426722%2C%2037.53788078753248%5D%5D%5D%2C%20%22type%22%3A%20%22Polygon%22%7D%2C%20%22id%22%3A%20%22%5Cuc591%5Cucc9c%5Cuad6c%22%2C%20%22properties%22%3A%20%7B%22base_year%22%3A%20%222013%22%2C%20%22code%22%3A%20%2211150%22%2C%20%22name%22%3A%20%22%5Cuc591%5Cucc9c%5Cuad6c%22%2C%20%22name_eng%22%3A%20%22Yangcheon-gu%22%7D%2C%20%22type%22%3A%20%22Feature%22%7D%2C%20%7B%22geometry%22%3A%20%7B%22coordinates%22%3A%20%5B%5B%5B126.90522065831053%2C%2037.57409700522574%5D%2C%20%5B126.93898161798973%2C%2037.552310003728124%5D%2C%20%5B126.96358226710812%2C%2037.55605635475154%5D%2C%20%5B126.96448570553055%2C%2037.548705692021635%5D%2C%20%5B126.94566733083212%2C%2037.526617542453366%5D%2C%20%5B126.89184663862764%2C%2037.547373974997114%5D%2C%20%5B126.85984199399667%2C%2037.571847855292745%5D%2C%20%5B126.88433284773288%2C%2037.588143322880526%5D%2C%20%5B126.90522065831053%2C%2037.57409700522574%5D%5D%5D%2C%20%22type%22%3A%20%22Polygon%22%7D%2C%20%22id%22%3A%20%22%5Cub9c8%5Cud3ec%5Cuad6c%22%2C%20%22properties%22%3A%20%7B%22base_year%22%3A%20%222013%22%2C%20%22code%22%3A%20%2211140%22%2C%20%22name%22%3A%20%22%5Cub9c8%5Cud3ec%5Cuad6c%22%2C%20%22name_eng%22%3A%20%22Mapo-gu%22%7D%2C%20%22type%22%3A%20%22Feature%22%7D%2C%20%7B%22geometry%22%3A%20%7B%22coordinates%22%3A%20%5B%5B%5B126.9524752030572%2C%2037.60508692737045%5D%2C%20%5B126.95565425846463%2C%2037.576080790881456%5D%2C%20%5B126.96873633279075%2C%2037.56313604690827%5D%2C%20%5B126.96358226710812%2C%2037.55605635475154%5D%2C%20%5B126.93898161798973%2C%2037.552310003728124%5D%2C%20%5B126.90522065831053%2C%2037.57409700522574%5D%2C%20%5B126.9524752030572%2C%2037.60508692737045%5D%5D%5D%2C%20%22type%22%3A%20%22Polygon%22%7D%2C%20%22id%22%3A%20%22%5Cuc11c%5Cub300%5Cubb38%5Cuad6c%22%2C%20%22properties%22%3A%20%7B%22base_year%22%3A%20%222013%22%2C%20%22code%22%3A%20%2211130%22%2C%20%22name%22%3A%20%22%5Cuc11c%5Cub300%5Cubb38%5Cuad6c%22%2C%20%22name_eng%22%3A%20%22Seodaemun-gu%22%7D%2C%20%22type%22%3A%20%22Feature%22%7D%2C%20%7B%22geometry%22%3A%20%7B%22coordinates%22%3A%20%5B%5B%5B126.9738864128702%2C%2037.62949634786888%5D%2C%20%5B126.95427017006129%2C%2037.622033431339425%5D%2C%20%5B126.9524752030572%2C%2037.60508692737045%5D%2C%20%5B126.90522065831053%2C%2037.57409700522574%5D%2C%20%5B126.88433284773288%2C%2037.588143322880526%5D%2C%20%5B126.90396681003595%2C%2037.59227403419942%5D%2C%20%5B126.90303066177668%2C%2037.609977911401344%5D%2C%20%5B126.91455481429648%2C%2037.64150050996935%5D%2C%20%5B126.956473797387%2C%2037.652480737339445%5D%2C%20%5B126.9738864128702%2C%2037.62949634786888%5D%5D%5D%2C%20%22type%22%3A%20%22Polygon%22%7D%2C%20%22id%22%3A%20%22%5Cuc740%5Cud3c9%5Cuad6c%22%2C%20%22properties%22%3A%20%7B%22base_year%22%3A%20%222013%22%2C%20%22code%22%3A%20%2211120%22%2C%20%22name%22%3A%20%22%5Cuc740%5Cud3c9%5Cuad6c%22%2C%20%22name_eng%22%3A%20%22Eunpyeong-gu%22%7D%2C%20%22type%22%3A%20%22Feature%22%7D%2C%20%7B%22geometry%22%3A%20%7B%22coordinates%22%3A%20%5B%5B%5B127.0838752703195%2C%2037.69359534202034%5D%2C%20%5B127.09706391309695%2C%2037.686383719372294%5D%2C%20%5B127.09440766298717%2C%2037.64713490473045%5D%2C%20%5B127.11326795855199%2C%2037.639622905315925%5D%2C%20%5B127.10782277688129%2C%2037.61804244241069%5D%2C%20%5B127.07351243825278%2C%2037.61283660342313%5D%2C%20%5B127.05209373568619%2C%2037.62164065487782%5D%2C%20%5B127.04358800895609%2C%2037.62848931298715%5D%2C%20%5B127.05800075220091%2C%2037.64318263878276%5D%2C%20%5B127.05288479710485%2C%2037.68423857084347%5D%2C%20%5B127.0838752703195%2C%2037.69359534202034%5D%5D%5D%2C%20%22type%22%3A%20%22Polygon%22%7D%2C%20%22id%22%3A%20%22%5Cub178%5Cuc6d0%5Cuad6c%22%2C%20%22properties%22%3A%20%7B%22base_year%22%3A%20%222013%22%2C%20%22code%22%3A%20%2211110%22%2C%20%22name%22%3A%20%22%5Cub178%5Cuc6d0%5Cuad6c%22%2C%20%22name_eng%22%3A%20%22Nowon-gu%22%7D%2C%20%22type%22%3A%20%22Feature%22%7D%2C%20%7B%22geometry%22%3A%20%7B%22coordinates%22%3A%20%5B%5B%5B127.05288479710485%2C%2037.68423857084347%5D%2C%20%5B127.05800075220091%2C%2037.64318263878276%5D%2C%20%5B127.04358800895609%2C%2037.62848931298715%5D%2C%20%5B127.01465935892466%2C%2037.64943687496812%5D%2C%20%5B127.02062116141389%2C%2037.667173575971205%5D%2C%20%5B127.01039666042071%2C%2037.681894589603594%5D%2C%20%5B127.01795099203432%2C%2037.69824412775662%5D%2C%20%5B127.05288479710485%2C%2037.68423857084347%5D%5D%5D%2C%20%22type%22%3A%20%22Polygon%22%7D%2C%20%22id%22%3A%20%22%5Cub3c4%5Cubd09%5Cuad6c%22%2C%20%22properties%22%3A%20%7B%22base_year%22%3A%20%222013%22%2C%20%22code%22%3A%20%2211100%22%2C%20%22name%22%3A%20%22%5Cub3c4%5Cubd09%5Cuad6c%22%2C%20%22name_eng%22%3A%20%22Dobong-gu%22%7D%2C%20%22type%22%3A%20%22Feature%22%7D%2C%20%7B%22geometry%22%3A%20%7B%22coordinates%22%3A%20%5B%5B%5B126.99383903424%2C%2037.676681761199085%5D%2C%20%5B127.01039666042071%2C%2037.681894589603594%5D%2C%20%5B127.02062116141389%2C%2037.667173575971205%5D%2C%20%5B127.01465935892466%2C%2037.64943687496812%5D%2C%20%5B127.04358800895609%2C%2037.62848931298715%5D%2C%20%5B127.05209373568619%2C%2037.62164065487782%5D%2C%20%5B127.03892400992301%2C%2037.609715611023816%5D%2C%20%5B127.0128154749523%2C%2037.613652243470256%5D%2C%20%5B126.98672705513869%2C%2037.63377641288196%5D%2C%20%5B126.9817452676551%2C%2037.65209769387776%5D%2C%20%5B126.99383903424%2C%2037.676681761199085%5D%5D%5D%2C%20%22type%22%3A%20%22Polygon%22%7D%2C%20%22id%22%3A%20%22%5Cuac15%5Cubd81%5Cuad6c%22%2C%20%22properties%22%3A%20%7B%22base_year%22%3A%20%222013%22%2C%20%22code%22%3A%20%2211090%22%2C%20%22name%22%3A%20%22%5Cuac15%5Cubd81%5Cuad6c%22%2C%20%22name_eng%22%3A%20%22Gangbuk-gu%22%7D%2C%20%22type%22%3A%20%22Feature%22%7D%2C%20%7B%22geometry%22%3A%20%7B%22coordinates%22%3A%20%5B%5B%5B126.977175406416%2C%2037.62859715400388%5D%2C%20%5B126.98672705513869%2C%2037.63377641288196%5D%2C%20%5B127.0128154749523%2C%2037.613652243470256%5D%2C%20%5B127.03892400992301%2C%2037.609715611023816%5D%2C%20%5B127.05209373568619%2C%2037.62164065487782%5D%2C%20%5B127.07351243825278%2C%2037.61283660342313%5D%2C%20%5B127.07382707099227%2C%2037.60401928986419%5D%2C%20%5B127.042705222094%2C%2037.59239437593391%5D%2C%20%5B127.02527254528003%2C%2037.57524616245249%5D%2C%20%5B126.99348293358314%2C%2037.588565457216156%5D%2C%20%5B126.98879865992384%2C%2037.6118927319756%5D%2C%20%5B126.977175406416%2C%2037.62859715400388%5D%5D%5D%2C%20%22type%22%3A%20%22Polygon%22%7D%2C%20%22id%22%3A%20%22%5Cuc131%5Cubd81%5Cuad6c%22%2C%20%22properties%22%3A%20%7B%22base_year%22%3A%20%222013%22%2C%20%22code%22%3A%20%2211080%22%2C%20%22name%22%3A%20%22%5Cuc131%5Cubd81%5Cuad6c%22%2C%20%22name_eng%22%3A%20%22Seongbuk-gu%22%7D%2C%20%22type%22%3A%20%22Feature%22%7D%2C%20%7B%22geometry%22%3A%20%7B%22coordinates%22%3A%20%5B%5B%5B127.07351243825278%2C%2037.61283660342313%5D%2C%20%5B127.10782277688129%2C%2037.61804244241069%5D%2C%20%5B127.1201246020114%2C%2037.60178457598188%5D%2C%20%5B127.10304174249214%2C%2037.57076342290955%5D%2C%20%5B127.08068541280403%2C%2037.56906425519017%5D%2C%20%5B127.07382707099227%2C%2037.60401928986419%5D%2C%20%5B127.07351243825278%2C%2037.61283660342313%5D%5D%5D%2C%20%22type%22%3A%20%22Polygon%22%7D%2C%20%22id%22%3A%20%22%5Cuc911%5Cub791%5Cuad6c%22%2C%20%22properties%22%3A%20%7B%22base_year%22%3A%20%222013%22%2C%20%22code%22%3A%20%2211070%22%2C%20%22name%22%3A%20%22%5Cuc911%5Cub791%5Cuad6c%22%2C%20%22name_eng%22%3A%20%22Jungnang-gu%22%7D%2C%20%22type%22%3A%20%22Feature%22%7D%2C%20%7B%22geometry%22%3A%20%7B%22coordinates%22%3A%20%5B%5B%5B127.02527254528003%2C%2037.57524616245249%5D%2C%20%5B127.042705222094%2C%2037.59239437593391%5D%2C%20%5B127.07382707099227%2C%2037.60401928986419%5D%2C%20%5B127.08068541280403%2C%2037.56906425519017%5D%2C%20%5B127.07421053024362%2C%2037.55724769712085%5D%2C%20%5B127.05005601081567%2C%2037.567577612590846%5D%2C%20%5B127.02547266349976%2C%2037.568943552237734%5D%2C%20%5B127.02527254528003%2C%2037.57524616245249%5D%5D%5D%2C%20%22type%22%3A%20%22Polygon%22%7D%2C%20%22id%22%3A%20%22%5Cub3d9%5Cub300%5Cubb38%5Cuad6c%22%2C%20%22properties%22%3A%20%7B%22base_year%22%3A%20%222013%22%2C%20%22code%22%3A%20%2211060%22%2C%20%22name%22%3A%20%22%5Cub3d9%5Cub300%5Cubb38%5Cuad6c%22%2C%20%22name_eng%22%3A%20%22Dongdaemun-gu%22%7D%2C%20%22type%22%3A%20%22Feature%22%7D%2C%20%7B%22geometry%22%3A%20%7B%22coordinates%22%3A%20%5B%5B%5B127.08068541280403%2C%2037.56906425519017%5D%2C%20%5B127.10304174249214%2C%2037.57076342290955%5D%2C%20%5B127.11519584981606%2C%2037.557533180704915%5D%2C%20%5B127.1116764203608%2C%2037.540669955324965%5D%2C%20%5B127.10087519791962%2C%2037.524841220167055%5D%2C%20%5B127.0690698130372%2C%2037.522279423505026%5D%2C%20%5B127.05867359288398%2C%2037.52629974922568%5D%2C%20%5B127.07421053024362%2C%2037.55724769712085%5D%2C%20%5B127.08068541280403%2C%2037.56906425519017%5D%5D%5D%2C%20%22type%22%3A%20%22Polygon%22%7D%2C%20%22id%22%3A%20%22%5Cuad11%5Cuc9c4%5Cuad6c%22%2C%20%22properties%22%3A%20%7B%22base_year%22%3A%20%222013%22%2C%20%22code%22%3A%20%2211050%22%2C%20%22name%22%3A%20%22%5Cuad11%5Cuc9c4%5Cuad6c%22%2C%20%22name_eng%22%3A%20%22Gwangjin-gu%22%7D%2C%20%22type%22%3A%20%22Feature%22%7D%2C%20%7B%22geometry%22%3A%20%7B%22coordinates%22%3A%20%5B%5B%5B127.02547266349976%2C%2037.568943552237734%5D%2C%20%5B127.05005601081567%2C%2037.567577612590846%5D%2C%20%5B127.07421053024362%2C%2037.55724769712085%5D%2C%20%5B127.05867359288398%2C%2037.52629974922568%5D%2C%20%5B127.02302831890559%2C%2037.53231899582663%5D%2C%20%5B127.01070894177482%2C%2037.54118048964762%5D%2C%20%5B127.02547266349976%2C%2037.568943552237734%5D%5D%5D%2C%20%22type%22%3A%20%22Polygon%22%7D%2C%20%22id%22%3A%20%22%5Cuc131%5Cub3d9%5Cuad6c%22%2C%20%22properties%22%3A%20%7B%22base_year%22%3A%20%222013%22%2C%20%22code%22%3A%20%2211040%22%2C%20%22name%22%3A%20%22%5Cuc131%5Cub3d9%5Cuad6c%22%2C%20%22name_eng%22%3A%20%22Seongdong-gu%22%7D%2C%20%22type%22%3A%20%22Feature%22%7D%2C%20%7B%22geometry%22%3A%20%7B%22coordinates%22%3A%20%5B%5B%5B127.01070894177482%2C%2037.54118048964762%5D%2C%20%5B127.02302831890559%2C%2037.53231899582663%5D%2C%20%5B127.01397119667513%2C%2037.52503988289669%5D%2C%20%5B126.98223807916081%2C%2037.509314966770326%5D%2C%20%5B126.95249990298159%2C%2037.51722500741813%5D%2C%20%5B126.94566733083212%2C%2037.526617542453366%5D%2C%20%5B126.96448570553055%2C%2037.548705692021635%5D%2C%20%5B126.98752996903328%2C%2037.55094818807139%5D%2C%20%5B127.01070894177482%2C%2037.54118048964762%5D%5D%5D%2C%20%22type%22%3A%20%22Polygon%22%7D%2C%20%22id%22%3A%20%22%5Cuc6a9%5Cuc0b0%5Cuad6c%22%2C%20%22properties%22%3A%20%7B%22base_year%22%3A%20%222013%22%2C%20%22code%22%3A%20%2211030%22%2C%20%22name%22%3A%20%22%5Cuc6a9%5Cuc0b0%5Cuad6c%22%2C%20%22name_eng%22%3A%20%22Yongsan-gu%22%7D%2C%20%22type%22%3A%20%22Feature%22%7D%2C%20%7B%22geometry%22%3A%20%7B%22coordinates%22%3A%20%5B%5B%5B127.02547266349976%2C%2037.568943552237734%5D%2C%20%5B127.01070894177482%2C%2037.54118048964762%5D%2C%20%5B126.98752996903328%2C%2037.55094818807139%5D%2C%20%5B126.96448570553055%2C%2037.548705692021635%5D%2C%20%5B126.96358226710812%2C%2037.55605635475154%5D%2C%20%5B126.96873633279075%2C%2037.56313604690827%5D%2C%20%5B127.02547266349976%2C%2037.568943552237734%5D%5D%5D%2C%20%22type%22%3A%20%22Polygon%22%7D%2C%20%22id%22%3A%20%22%5Cuc911%5Cuad6c%22%2C%20%22properties%22%3A%20%7B%22base_year%22%3A%20%222013%22%2C%20%22code%22%3A%20%2211020%22%2C%20%22name%22%3A%20%22%5Cuc911%5Cuad6c%22%2C%20%22name_eng%22%3A%20%22Jung-gu%22%7D%2C%20%22type%22%3A%20%22Feature%22%7D%2C%20%7B%22geometry%22%3A%20%7B%22coordinates%22%3A%20%5B%5B%5B126.9738864128702%2C%2037.62949634786888%5D%2C%20%5B126.977175406416%2C%2037.62859715400388%5D%2C%20%5B126.98879865992384%2C%2037.6118927319756%5D%2C%20%5B126.99348293358314%2C%2037.588565457216156%5D%2C%20%5B127.02527254528003%2C%2037.57524616245249%5D%2C%20%5B127.02547266349976%2C%2037.568943552237734%5D%2C%20%5B126.96873633279075%2C%2037.56313604690827%5D%2C%20%5B126.95565425846463%2C%2037.576080790881456%5D%2C%20%5B126.9524752030572%2C%2037.60508692737045%5D%2C%20%5B126.95427017006129%2C%2037.622033431339425%5D%2C%20%5B126.9738864128702%2C%2037.62949634786888%5D%5D%5D%2C%20%22type%22%3A%20%22Polygon%22%7D%2C%20%22id%22%3A%20%22%5Cuc885%5Cub85c%5Cuad6c%22%2C%20%22properties%22%3A%20%7B%22base_year%22%3A%20%222013%22%2C%20%22code%22%3A%20%2211010%22%2C%20%22name%22%3A%20%22%5Cuc885%5Cub85c%5Cuad6c%22%2C%20%22name_eng%22%3A%20%22Jongno-gu%22%7D%2C%20%22type%22%3A%20%22Feature%22%7D%5D%2C%20%22type%22%3A%20%22FeatureCollection%22%7D%29%3B%0A%20%20%20%20%20%20%20%20%0A%20%20%20%20%0A%20%20%20%20var%20color_map_1120b529820f4520b5774287ffec2317%20%3D%20%7B%7D%3B%0A%0A%20%20%20%20%0A%20%20%20%20color_map_1120b529820f4520b5774287ffec2317.color%20%3D%20d3.scale.threshold%28%29%0A%20%20%20%20%20%20%20%20%20%20%20%20%20%20.domain%28%5B0.0%2C%200.46092184368737477%2C%200.9218436873747495%2C%201.3827655310621243%2C%201.843687374749499%2C%202.3046092184368736%2C%202.7655310621242486%2C%203.226452905811623%2C%203.687374749498998%2C%204.148296593186373%2C%204.609218436873747%2C%205.070140280561122%2C%205.531062124248497%2C%205.991983967935872%2C%206.452905811623246%2C%206.913827655310621%2C%207.374749498997996%2C%207.83567134268537%2C%208.296593186372746%2C%208.75751503006012%2C%209.218436873747494%2C%209.67935871743487%2C%2010.140280561122244%2C%2010.60120240480962%2C%2011.062124248496994%2C%2011.52304609218437%2C%2011.983967935871744%2C%2012.444889779559118%2C%2012.905811623246493%2C%2013.366733466933868%2C%2013.827655310621243%2C%2014.288577154308618%2C%2014.749498997995993%2C%2015.210420841683367%2C%2015.67134268537074%2C%2016.132264529058116%2C%2016.593186372745492%2C%2017.054108216432866%2C%2017.51503006012024%2C%2017.975951903807616%2C%2018.43687374749499%2C%2018.897795591182366%2C%2019.35871743486974%2C%2019.819639278557116%2C%2020.28056112224449%2C%2020.741482965931862%2C%2021.20240480961924%2C%2021.663326653306612%2C%2022.12424849699399%2C%2022.585170340681362%2C%2023.04609218436874%2C%2023.507014028056112%2C%2023.96793587174349%2C%2024.428857715430862%2C%2024.889779559118235%2C%2025.350701402805612%2C%2025.811623246492985%2C%2026.272545090180362%2C%2026.733466933867735%2C%2027.194388777555112%2C%2027.655310621242485%2C%2028.11623246492986%2C%2028.577154308617235%2C%2029.03807615230461%2C%2029.498997995991985%2C%2029.95991983967936%2C%2030.420841683366735%2C%2030.881763527054108%2C%2031.34268537074148%2C%2031.803607214428858%2C%2032.26452905811623%2C%2032.725450901803605%2C%2033.186372745490985%2C%2033.64729458917836%2C%2034.10821643286573%2C%2034.569138276553105%2C%2035.03006012024048%2C%2035.49098196392786%2C%2035.95190380761523%2C%2036.412825651302605%2C%2036.87374749498998%2C%2037.33466933867736%2C%2037.79559118236473%2C%2038.256513026052104%2C%2038.71743486973948%2C%2039.17835671342685%2C%2039.63927855711423%2C%2040.100200400801604%2C%2040.56112224448898%2C%2041.02204408817635%2C%2041.482965931863724%2C%2041.943887775551104%2C%2042.40480961923848%2C%2042.86573146292585%2C%2043.326653306613224%2C%2043.787575150300604%2C%2044.24849699398798%2C%2044.70941883767535%2C%2045.170340681362724%2C%2045.6312625250501%2C%2046.09218436873748%2C%2046.55310621242485%2C%2047.014028056112224%2C%2047.4749498997996%2C%2047.93587174348698%2C%2048.39679358717435%2C%2048.857715430861724%2C%2049.3186372745491%2C%2049.77955911823647%2C%2050.24048096192385%2C%2050.701402805611224%2C%2051.1623246492986%2C%2051.62324649298597%2C%2052.08416833667334%2C%2052.545090180360724%2C%2053.0060120240481%2C%2053.46693386773547%2C%2053.92785571142284%2C%2054.388777555110224%2C%2054.8496993987976%2C%2055.31062124248497%2C%2055.77154308617234%2C%2056.23246492985972%2C%2056.6933867735471%2C%2057.15430861723447%2C%2057.61523046092184%2C%2058.07615230460922%2C%2058.53707414829659%2C%2058.99799599198397%2C%2059.45891783567134%2C%2059.91983967935872%2C%2060.38076152304609%2C%2060.84168336673347%2C%2061.30260521042084%2C%2061.763527054108216%2C%2062.22444889779559%2C%2062.68537074148296%2C%2063.14629258517034%2C%2063.607214428857716%2C%2064.06813627254509%2C%2064.52905811623246%2C%2064.98997995991984%2C%2065.45090180360721%2C%2065.91182364729458%2C%2066.37274549098197%2C%2066.83366733466934%2C%2067.29458917835672%2C%2067.75551102204409%2C%2068.21643286573146%2C%2068.67735470941884%2C%2069.13827655310621%2C%2069.59919839679358%2C%2070.06012024048096%2C%2070.52104208416834%2C%2070.98196392785572%2C%2071.44288577154309%2C%2071.90380761523046%2C%2072.36472945891784%2C%2072.82565130260521%2C%2073.28657314629258%2C%2073.74749498997996%2C%2074.20841683366733%2C%2074.66933867735472%2C%2075.13026052104209%2C%2075.59118236472946%2C%2076.05210420841684%2C%2076.51302605210421%2C%2076.97394789579158%2C%2077.43486973947896%2C%2077.89579158316633%2C%2078.3567134268537%2C%2078.81763527054109%2C%2079.27855711422846%2C%2079.73947895791584%2C%2080.20040080160321%2C%2080.66132264529058%2C%2081.12224448897796%2C%2081.58316633266533%2C%2082.0440881763527%2C%2082.50501002004007%2C%2082.96593186372745%2C%2083.42685370741484%2C%2083.88777555110221%2C%2084.34869739478958%2C%2084.80961923847696%2C%2085.27054108216433%2C%2085.7314629258517%2C%2086.19238476953907%2C%2086.65330661322645%2C%2087.11422845691382%2C%2087.57515030060121%2C%2088.03607214428858%2C%2088.49699398797596%2C%2088.95791583166333%2C%2089.4188376753507%2C%2089.87975951903807%2C%2090.34068136272545%2C%2090.80160320641282%2C%2091.2625250501002%2C%2091.72344689378758%2C%2092.18436873747495%2C%2092.64529058116233%2C%2093.1062124248497%2C%2093.56713426853707%2C%2094.02805611222445%2C%2094.48897795591182%2C%2094.9498997995992%2C%2095.41082164328657%2C%2095.87174348697395%2C%2096.33266533066133%2C%2096.7935871743487%2C%2097.25450901803607%2C%2097.71543086172345%2C%2098.17635270541082%2C%2098.6372745490982%2C%2099.09819639278557%2C%2099.55911823647294%2C%20100.02004008016031%2C%20100.4809619238477%2C%20100.94188376753507%2C%20101.40280561122245%2C%20101.86372745490982%2C%20102.3246492985972%2C%20102.78557114228457%2C%20103.24649298597194%2C%20103.70741482965931%2C%20104.16833667334669%2C%20104.62925851703407%2C%20105.09018036072145%2C%20105.55110220440882%2C%20106.0120240480962%2C%20106.47294589178357%2C%20106.93386773547094%2C%20107.39478957915831%2C%20107.85571142284569%2C%20108.31663326653306%2C%20108.77755511022045%2C%20109.23847695390782%2C%20109.6993987975952%2C%20110.16032064128257%2C%20110.62124248496994%2C%20111.08216432865731%2C%20111.54308617234469%2C%20112.00400801603206%2C%20112.46492985971943%2C%20112.92585170340682%2C%20113.3867735470942%2C%20113.84769539078157%2C%20114.30861723446894%2C%20114.76953907815631%2C%20115.23046092184369%2C%20115.69138276553106%2C%20116.15230460921843%2C%20116.6132264529058%2C%20117.07414829659318%2C%20117.53507014028057%2C%20117.99599198396794%2C%20118.45691382765531%2C%20118.91783567134269%2C%20119.37875751503006%2C%20119.83967935871743%2C%20120.3006012024048%2C%20120.76152304609218%2C%20121.22244488977955%2C%20121.68336673346694%2C%20122.14428857715431%2C%20122.60521042084169%2C%20123.06613226452906%2C%20123.52705410821643%2C%20123.9879759519038%2C%20124.44889779559118%2C%20124.90981963927855%2C%20125.37074148296593%2C%20125.83166332665331%2C%20126.29258517034069%2C%20126.75350701402806%2C%20127.21442885771543%2C%20127.6753507014028%2C%20128.13627254509018%2C%20128.59719438877755%2C%20129.05811623246493%2C%20129.5190380761523%2C%20129.97995991983967%2C%20130.44088176352705%2C%20130.90180360721442%2C%20131.3627254509018%2C%20131.82364729458916%2C%20132.28456913827657%2C%20132.74549098196394%2C%20133.2064128256513%2C%20133.6673346693387%2C%20134.12825651302606%2C%20134.58917835671343%2C%20135.0501002004008%2C%20135.51102204408818%2C%20135.97194388777555%2C%20136.43286573146293%2C%20136.8937875751503%2C%20137.35470941883767%2C%20137.81563126252505%2C%20138.27655310621242%2C%20138.7374749498998%2C%20139.19839679358716%2C%20139.65931863727454%2C%20140.1202404809619%2C%20140.5811623246493%2C%20141.0420841683367%2C%20141.50300601202406%2C%20141.96392785571143%2C%20142.4248496993988%2C%20142.88577154308618%2C%20143.34669338677355%2C%20143.80761523046093%2C%20144.2685370741483%2C%20144.72945891783567%2C%20145.19038076152304%2C%20145.65130260521042%2C%20146.1122244488978%2C%20146.57314629258516%2C%20147.03406813627254%2C%20147.4949899799599%2C%20147.95591182364728%2C%20148.41683366733466%2C%20148.87775551102203%2C%20149.33867735470943%2C%20149.7995991983968%2C%20150.26052104208418%2C%20150.72144288577155%2C%20151.18236472945893%2C%20151.6432865731463%2C%20152.10420841683367%2C%20152.56513026052104%2C%20153.02605210420842%2C%20153.4869739478958%2C%20153.94789579158316%2C%20154.40881763527054%2C%20154.8697394789579%2C%20155.33066132264528%2C%20155.79158316633266%2C%20156.25250501002003%2C%20156.7134268537074%2C%20157.17434869739478%2C%20157.63527054108218%2C%20158.09619238476955%2C%20158.55711422845692%2C%20159.0180360721443%2C%20159.47895791583167%2C%20159.93987975951904%2C%20160.40080160320642%2C%20160.8617234468938%2C%20161.32264529058116%2C%20161.78356713426854%2C%20162.2444889779559%2C%20162.70541082164328%2C%20163.16633266533066%2C%20163.62725450901803%2C%20164.0881763527054%2C%20164.54909819639278%2C%20165.01002004008015%2C%20165.47094188376752%2C%20165.9318637274549%2C%20166.3927855711423%2C%20166.85370741482967%2C%20167.31462925851704%2C%20167.77555110220442%2C%20168.2364729458918%2C%20168.69739478957916%2C%20169.15831663326654%2C%20169.6192384769539%2C%20170.08016032064128%2C%20170.54108216432866%2C%20171.00200400801603%2C%20171.4629258517034%2C%20171.92384769539078%2C%20172.38476953907815%2C%20172.84569138276552%2C%20173.3066132264529%2C%20173.76753507014027%2C%20174.22845691382764%2C%20174.68937875751504%2C%20175.15030060120242%2C%20175.6112224448898%2C%20176.07214428857716%2C%20176.53306613226454%2C%20176.9939879759519%2C%20177.45490981963928%2C%20177.91583166332666%2C%20178.37675350701403%2C%20178.8376753507014%2C%20179.29859719438878%2C%20179.75951903807615%2C%20180.22044088176352%2C%20180.6813627254509%2C%20181.14228456913827%2C%20181.60320641282564%2C%20182.06412825651302%2C%20182.5250501002004%2C%20182.98597194388776%2C%20183.44689378757516%2C%20183.90781563126254%2C%20184.3687374749499%2C%20184.82965931863728%2C%20185.29058116232466%2C%20185.75150300601203%2C%20186.2124248496994%2C%20186.67334669338678%2C%20187.13426853707415%2C%20187.59519038076152%2C%20188.0561122244489%2C%20188.51703406813627%2C%20188.97795591182364%2C%20189.43887775551102%2C%20189.8997995991984%2C%20190.36072144288576%2C%20190.82164328657313%2C%20191.2825651302605%2C%20191.7434869739479%2C%20192.20440881763528%2C%20192.66533066132266%2C%20193.12625250501003%2C%20193.5871743486974%2C%20194.04809619238478%2C%20194.50901803607215%2C%20194.96993987975952%2C%20195.4308617234469%2C%20195.89178356713427%2C%20196.35270541082164%2C%20196.81362725450902%2C%20197.2745490981964%2C%20197.73547094188376%2C%20198.19639278557113%2C%20198.6573146292585%2C%20199.11823647294588%2C%20199.57915831663325%2C%20200.04008016032063%2C%20200.50100200400803%2C%20200.9619238476954%2C%20201.42284569138278%2C%20201.88376753507015%2C%20202.34468937875752%2C%20202.8056112224449%2C%20203.26653306613227%2C%20203.72745490981964%2C%20204.18837675350701%2C%20204.6492985971944%2C%20205.11022044088176%2C%20205.57114228456913%2C%20206.0320641282565%2C%20206.49298597194388%2C%20206.95390781563125%2C%20207.41482965931863%2C%20207.875751503006%2C%20208.33667334669337%2C%20208.79759519038078%2C%20209.25851703406815%2C%20209.71943887775552%2C%20210.1803607214429%2C%20210.64128256513027%2C%20211.10220440881764%2C%20211.56312625250501%2C%20212.0240480961924%2C%20212.48496993987976%2C%20212.94589178356713%2C%20213.4068136272545%2C%20213.86773547094188%2C%20214.32865731462925%2C%20214.78957915831663%2C%20215.250501002004%2C%20215.71142284569137%2C%20216.17234468937875%2C%20216.63326653306612%2C%20217.0941883767535%2C%20217.5551102204409%2C%20218.01603206412827%2C%20218.47695390781564%2C%20218.93787575150301%2C%20219.3987975951904%2C%20219.85971943887776%2C%20220.32064128256513%2C%20220.7815631262525%2C%20221.24248496993988%2C%20221.70340681362725%2C%20222.16432865731463%2C%20222.625250501002%2C%20223.08617234468937%2C%20223.54709418837675%2C%20224.00801603206412%2C%20224.4689378757515%2C%20224.92985971943887%2C%20225.39078156312624%2C%20225.85170340681364%2C%20226.31262525050101%2C%20226.7735470941884%2C%20227.23446893787576%2C%20227.69539078156313%2C%20228.1563126252505%2C%20228.61723446893788%2C%20229.07815631262525%2C%20229.53907815631263%2C%20230.0%5D%29%0A%20%20%20%20%20%20%20%20%20%20%20%20%20%20.range%28%5B%27%23f1eef6ff%27%2C%20%27%23f1eef6ff%27%2C%20%27%23f1eef6ff%27%2C%20%27%23f1eef6ff%27%2C%20%27%23f1eef6ff%27%2C%20%27%23f1eef6ff%27%2C%20%27%23f1eef6ff%27%2C%20%27%23f1eef6ff%27%2C%20%27%23f1eef6ff%27%2C%20%27%23f1eef6ff%27%2C%20%27%23f1eef6ff%27%2C%20%27%23f1eef6ff%27%2C%20%27%23f1eef6ff%27%2C%20%27%23f1eef6ff%27%2C%20%27%23f1eef6ff%27%2C%20%27%23f1eef6ff%27%2C%20%27%23f1eef6ff%27%2C%20%27%23f1eef6ff%27%2C%20%27%23f1eef6ff%27%2C%20%27%23f1eef6ff%27%2C%20%27%23f1eef6ff%27%2C%20%27%23f1eef6ff%27%2C%20%27%23f1eef6ff%27%2C%20%27%23f1eef6ff%27%2C%20%27%23f1eef6ff%27%2C%20%27%23f1eef6ff%27%2C%20%27%23f1eef6ff%27%2C%20%27%23f1eef6ff%27%2C%20%27%23f1eef6ff%27%2C%20%27%23f1eef6ff%27%2C%20%27%23f1eef6ff%27%2C%20%27%23f1eef6ff%27%2C%20%27%23f1eef6ff%27%2C%20%27%23f1eef6ff%27%2C%20%27%23f1eef6ff%27%2C%20%27%23f1eef6ff%27%2C%20%27%23f1eef6ff%27%2C%20%27%23f1eef6ff%27%2C%20%27%23f1eef6ff%27%2C%20%27%23f1eef6ff%27%2C%20%27%23f1eef6ff%27%2C%20%27%23f1eef6ff%27%2C%20%27%23f1eef6ff%27%2C%20%27%23f1eef6ff%27%2C%20%27%23f1eef6ff%27%2C%20%27%23f1eef6ff%27%2C%20%27%23f1eef6ff%27%2C%20%27%23f1eef6ff%27%2C%20%27%23f1eef6ff%27%2C%20%27%23f1eef6ff%27%2C%20%27%23f1eef6ff%27%2C%20%27%23f1eef6ff%27%2C%20%27%23f1eef6ff%27%2C%20%27%23f1eef6ff%27%2C%20%27%23f1eef6ff%27%2C%20%27%23f1eef6ff%27%2C%20%27%23f1eef6ff%27%2C%20%27%23f1eef6ff%27%2C%20%27%23f1eef6ff%27%2C%20%27%23f1eef6ff%27%2C%20%27%23f1eef6ff%27%2C%20%27%23f1eef6ff%27%2C%20%27%23f1eef6ff%27%2C%20%27%23f1eef6ff%27%2C%20%27%23f1eef6ff%27%2C%20%27%23f1eef6ff%27%2C%20%27%23f1eef6ff%27%2C%20%27%23f1eef6ff%27%2C%20%27%23f1eef6ff%27%2C%20%27%23f1eef6ff%27%2C%20%27%23f1eef6ff%27%2C%20%27%23f1eef6ff%27%2C%20%27%23f1eef6ff%27%2C%20%27%23f1eef6ff%27%2C%20%27%23f1eef6ff%27%2C%20%27%23f1eef6ff%27%2C%20%27%23f1eef6ff%27%2C%20%27%23f1eef6ff%27%2C%20%27%23f1eef6ff%27%2C%20%27%23f1eef6ff%27%2C%20%27%23f1eef6ff%27%2C%20%27%23f1eef6ff%27%2C%20%27%23f1eef6ff%27%2C%20%27%23f1eef6ff%27%2C%20%27%23d4b9daff%27%2C%20%27%23d4b9daff%27%2C%20%27%23d4b9daff%27%2C%20%27%23d4b9daff%27%2C%20%27%23d4b9daff%27%2C%20%27%23d4b9daff%27%2C%20%27%23d4b9daff%27%2C%20%27%23d4b9daff%27%2C%20%27%23d4b9daff%27%2C%20%27%23d4b9daff%27%2C%20%27%23d4b9daff%27%2C%20%27%23d4b9daff%27%2C%20%27%23d4b9daff%27%2C%20%27%23d4b9daff%27%2C%20%27%23d4b9daff%27%2C%20%27%23d4b9daff%27%2C%20%27%23d4b9daff%27%2C%20%27%23d4b9daff%27%2C%20%27%23d4b9daff%27%2C%20%27%23d4b9daff%27%2C%20%27%23d4b9daff%27%2C%20%27%23d4b9daff%27%2C%20%27%23d4b9daff%27%2C%20%27%23d4b9daff%27%2C%20%27%23d4b9daff%27%2C%20%27%23d4b9daff%27%2C%20%27%23d4b9daff%27%2C%20%27%23d4b9daff%27%2C%20%27%23d4b9daff%27%2C%20%27%23d4b9daff%27%2C%20%27%23d4b9daff%27%2C%20%27%23d4b9daff%27%2C%20%27%23d4b9daff%27%2C%20%27%23d4b9daff%27%2C%20%27%23d4b9daff%27%2C%20%27%23d4b9daff%27%2C%20%27%23d4b9daff%27%2C%20%27%23d4b9daff%27%2C%20%27%23d4b9daff%27%2C%20%27%23d4b9daff%27%2C%20%27%23d4b9daff%27%2C%20%27%23d4b9daff%27%2C%20%27%23d4b9daff%27%2C%20%27%23d4b9daff%27%2C%20%27%23d4b9daff%27%2C%20%27%23d4b9daff%27%2C%20%27%23d4b9daff%27%2C%20%27%23d4b9daff%27%2C%20%27%23d4b9daff%27%2C%20%27%23d4b9daff%27%2C%20%27%23d4b9daff%27%2C%20%27%23d4b9daff%27%2C%20%27%23d4b9daff%27%2C%20%27%23d4b9daff%27%2C%20%27%23d4b9daff%27%2C%20%27%23d4b9daff%27%2C%20%27%23d4b9daff%27%2C%20%27%23d4b9daff%27%2C%20%27%23d4b9daff%27%2C%20%27%23d4b9daff%27%2C%20%27%23d4b9daff%27%2C%20%27%23d4b9daff%27%2C%20%27%23d4b9daff%27%2C%20%27%23d4b9daff%27%2C%20%27%23d4b9daff%27%2C%20%27%23d4b9daff%27%2C%20%27%23d4b9daff%27%2C%20%27%23d4b9daff%27%2C%20%27%23d4b9daff%27%2C%20%27%23d4b9daff%27%2C%20%27%23d4b9daff%27%2C%20%27%23d4b9daff%27%2C%20%27%23d4b9daff%27%2C%20%27%23d4b9daff%27%2C%20%27%23d4b9daff%27%2C%20%27%23d4b9daff%27%2C%20%27%23d4b9daff%27%2C%20%27%23d4b9daff%27%2C%20%27%23d4b9daff%27%2C%20%27%23d4b9daff%27%2C%20%27%23d4b9daff%27%2C%20%27%23d4b9daff%27%2C%20%27%23d4b9daff%27%2C%20%27%23c994c7ff%27%2C%20%27%23c994c7ff%27%2C%20%27%23c994c7ff%27%2C%20%27%23c994c7ff%27%2C%20%27%23c994c7ff%27%2C%20%27%23c994c7ff%27%2C%20%27%23c994c7ff%27%2C%20%27%23c994c7ff%27%2C%20%27%23c994c7ff%27%2C%20%27%23c994c7ff%27%2C%20%27%23c994c7ff%27%2C%20%27%23c994c7ff%27%2C%20%27%23c994c7ff%27%2C%20%27%23c994c7ff%27%2C%20%27%23c994c7ff%27%2C%20%27%23c994c7ff%27%2C%20%27%23c994c7ff%27%2C%20%27%23c994c7ff%27%2C%20%27%23c994c7ff%27%2C%20%27%23c994c7ff%27%2C%20%27%23c994c7ff%27%2C%20%27%23c994c7ff%27%2C%20%27%23c994c7ff%27%2C%20%27%23c994c7ff%27%2C%20%27%23c994c7ff%27%2C%20%27%23c994c7ff%27%2C%20%27%23c994c7ff%27%2C%20%27%23c994c7ff%27%2C%20%27%23c994c7ff%27%2C%20%27%23c994c7ff%27%2C%20%27%23c994c7ff%27%2C%20%27%23c994c7ff%27%2C%20%27%23c994c7ff%27%2C%20%27%23c994c7ff%27%2C%20%27%23c994c7ff%27%2C%20%27%23c994c7ff%27%2C%20%27%23c994c7ff%27%2C%20%27%23c994c7ff%27%2C%20%27%23c994c7ff%27%2C%20%27%23c994c7ff%27%2C%20%27%23c994c7ff%27%2C%20%27%23c994c7ff%27%2C%20%27%23c994c7ff%27%2C%20%27%23c994c7ff%27%2C%20%27%23c994c7ff%27%2C%20%27%23c994c7ff%27%2C%20%27%23c994c7ff%27%2C%20%27%23c994c7ff%27%2C%20%27%23c994c7ff%27%2C%20%27%23c994c7ff%27%2C%20%27%23c994c7ff%27%2C%20%27%23c994c7ff%27%2C%20%27%23c994c7ff%27%2C%20%27%23c994c7ff%27%2C%20%27%23c994c7ff%27%2C%20%27%23c994c7ff%27%2C%20%27%23c994c7ff%27%2C%20%27%23c994c7ff%27%2C%20%27%23c994c7ff%27%2C%20%27%23c994c7ff%27%2C%20%27%23c994c7ff%27%2C%20%27%23c994c7ff%27%2C%20%27%23c994c7ff%27%2C%20%27%23c994c7ff%27%2C%20%27%23c994c7ff%27%2C%20%27%23c994c7ff%27%2C%20%27%23c994c7ff%27%2C%20%27%23c994c7ff%27%2C%20%27%23c994c7ff%27%2C%20%27%23c994c7ff%27%2C%20%27%23c994c7ff%27%2C%20%27%23c994c7ff%27%2C%20%27%23c994c7ff%27%2C%20%27%23c994c7ff%27%2C%20%27%23c994c7ff%27%2C%20%27%23c994c7ff%27%2C%20%27%23c994c7ff%27%2C%20%27%23c994c7ff%27%2C%20%27%23c994c7ff%27%2C%20%27%23c994c7ff%27%2C%20%27%23c994c7ff%27%2C%20%27%23c994c7ff%27%2C%20%27%23c994c7ff%27%2C%20%27%23df65b0ff%27%2C%20%27%23df65b0ff%27%2C%20%27%23df65b0ff%27%2C%20%27%23df65b0ff%27%2C%20%27%23df65b0ff%27%2C%20%27%23df65b0ff%27%2C%20%27%23df65b0ff%27%2C%20%27%23df65b0ff%27%2C%20%27%23df65b0ff%27%2C%20%27%23df65b0ff%27%2C%20%27%23df65b0ff%27%2C%20%27%23df65b0ff%27%2C%20%27%23df65b0ff%27%2C%20%27%23df65b0ff%27%2C%20%27%23df65b0ff%27%2C%20%27%23df65b0ff%27%2C%20%27%23df65b0ff%27%2C%20%27%23df65b0ff%27%2C%20%27%23df65b0ff%27%2C%20%27%23df65b0ff%27%2C%20%27%23df65b0ff%27%2C%20%27%23df65b0ff%27%2C%20%27%23df65b0ff%27%2C%20%27%23df65b0ff%27%2C%20%27%23df65b0ff%27%2C%20%27%23df65b0ff%27%2C%20%27%23df65b0ff%27%2C%20%27%23df65b0ff%27%2C%20%27%23df65b0ff%27%2C%20%27%23df65b0ff%27%2C%20%27%23df65b0ff%27%2C%20%27%23df65b0ff%27%2C%20%27%23df65b0ff%27%2C%20%27%23df65b0ff%27%2C%20%27%23df65b0ff%27%2C%20%27%23df65b0ff%27%2C%20%27%23df65b0ff%27%2C%20%27%23df65b0ff%27%2C%20%27%23df65b0ff%27%2C%20%27%23df65b0ff%27%2C%20%27%23df65b0ff%27%2C%20%27%23df65b0ff%27%2C%20%27%23df65b0ff%27%2C%20%27%23df65b0ff%27%2C%20%27%23df65b0ff%27%2C%20%27%23df65b0ff%27%2C%20%27%23df65b0ff%27%2C%20%27%23df65b0ff%27%2C%20%27%23df65b0ff%27%2C%20%27%23df65b0ff%27%2C%20%27%23df65b0ff%27%2C%20%27%23df65b0ff%27%2C%20%27%23df65b0ff%27%2C%20%27%23df65b0ff%27%2C%20%27%23df65b0ff%27%2C%20%27%23df65b0ff%27%2C%20%27%23df65b0ff%27%2C%20%27%23df65b0ff%27%2C%20%27%23df65b0ff%27%2C%20%27%23df65b0ff%27%2C%20%27%23df65b0ff%27%2C%20%27%23df65b0ff%27%2C%20%27%23df65b0ff%27%2C%20%27%23df65b0ff%27%2C%20%27%23df65b0ff%27%2C%20%27%23df65b0ff%27%2C%20%27%23df65b0ff%27%2C%20%27%23df65b0ff%27%2C%20%27%23df65b0ff%27%2C%20%27%23df65b0ff%27%2C%20%27%23df65b0ff%27%2C%20%27%23df65b0ff%27%2C%20%27%23df65b0ff%27%2C%20%27%23df65b0ff%27%2C%20%27%23df65b0ff%27%2C%20%27%23df65b0ff%27%2C%20%27%23df65b0ff%27%2C%20%27%23df65b0ff%27%2C%20%27%23df65b0ff%27%2C%20%27%23df65b0ff%27%2C%20%27%23df65b0ff%27%2C%20%27%23df65b0ff%27%2C%20%27%23df65b0ff%27%2C%20%27%23dd1c77ff%27%2C%20%27%23dd1c77ff%27%2C%20%27%23dd1c77ff%27%2C%20%27%23dd1c77ff%27%2C%20%27%23dd1c77ff%27%2C%20%27%23dd1c77ff%27%2C%20%27%23dd1c77ff%27%2C%20%27%23dd1c77ff%27%2C%20%27%23dd1c77ff%27%2C%20%27%23dd1c77ff%27%2C%20%27%23dd1c77ff%27%2C%20%27%23dd1c77ff%27%2C%20%27%23dd1c77ff%27%2C%20%27%23dd1c77ff%27%2C%20%27%23dd1c77ff%27%2C%20%27%23dd1c77ff%27%2C%20%27%23dd1c77ff%27%2C%20%27%23dd1c77ff%27%2C%20%27%23dd1c77ff%27%2C%20%27%23dd1c77ff%27%2C%20%27%23dd1c77ff%27%2C%20%27%23dd1c77ff%27%2C%20%27%23dd1c77ff%27%2C%20%27%23dd1c77ff%27%2C%20%27%23dd1c77ff%27%2C%20%27%23dd1c77ff%27%2C%20%27%23dd1c77ff%27%2C%20%27%23dd1c77ff%27%2C%20%27%23dd1c77ff%27%2C%20%27%23dd1c77ff%27%2C%20%27%23dd1c77ff%27%2C%20%27%23dd1c77ff%27%2C%20%27%23dd1c77ff%27%2C%20%27%23dd1c77ff%27%2C%20%27%23dd1c77ff%27%2C%20%27%23dd1c77ff%27%2C%20%27%23dd1c77ff%27%2C%20%27%23dd1c77ff%27%2C%20%27%23dd1c77ff%27%2C%20%27%23dd1c77ff%27%2C%20%27%23dd1c77ff%27%2C%20%27%23dd1c77ff%27%2C%20%27%23dd1c77ff%27%2C%20%27%23dd1c77ff%27%2C%20%27%23dd1c77ff%27%2C%20%27%23dd1c77ff%27%2C%20%27%23dd1c77ff%27%2C%20%27%23dd1c77ff%27%2C%20%27%23dd1c77ff%27%2C%20%27%23dd1c77ff%27%2C%20%27%23dd1c77ff%27%2C%20%27%23dd1c77ff%27%2C%20%27%23dd1c77ff%27%2C%20%27%23dd1c77ff%27%2C%20%27%23dd1c77ff%27%2C%20%27%23dd1c77ff%27%2C%20%27%23dd1c77ff%27%2C%20%27%23dd1c77ff%27%2C%20%27%23dd1c77ff%27%2C%20%27%23dd1c77ff%27%2C%20%27%23dd1c77ff%27%2C%20%27%23dd1c77ff%27%2C%20%27%23dd1c77ff%27%2C%20%27%23dd1c77ff%27%2C%20%27%23dd1c77ff%27%2C%20%27%23dd1c77ff%27%2C%20%27%23dd1c77ff%27%2C%20%27%23dd1c77ff%27%2C%20%27%23dd1c77ff%27%2C%20%27%23dd1c77ff%27%2C%20%27%23dd1c77ff%27%2C%20%27%23dd1c77ff%27%2C%20%27%23dd1c77ff%27%2C%20%27%23dd1c77ff%27%2C%20%27%23dd1c77ff%27%2C%20%27%23dd1c77ff%27%2C%20%27%23dd1c77ff%27%2C%20%27%23dd1c77ff%27%2C%20%27%23dd1c77ff%27%2C%20%27%23dd1c77ff%27%2C%20%27%23dd1c77ff%27%2C%20%27%23dd1c77ff%27%2C%20%27%23dd1c77ff%27%2C%20%27%23980043ff%27%2C%20%27%23980043ff%27%2C%20%27%23980043ff%27%2C%20%27%23980043ff%27%2C%20%27%23980043ff%27%2C%20%27%23980043ff%27%2C%20%27%23980043ff%27%2C%20%27%23980043ff%27%2C%20%27%23980043ff%27%2C%20%27%23980043ff%27%2C%20%27%23980043ff%27%2C%20%27%23980043ff%27%2C%20%27%23980043ff%27%2C%20%27%23980043ff%27%2C%20%27%23980043ff%27%2C%20%27%23980043ff%27%2C%20%27%23980043ff%27%2C%20%27%23980043ff%27%2C%20%27%23980043ff%27%2C%20%27%23980043ff%27%2C%20%27%23980043ff%27%2C%20%27%23980043ff%27%2C%20%27%23980043ff%27%2C%20%27%23980043ff%27%2C%20%27%23980043ff%27%2C%20%27%23980043ff%27%2C%20%27%23980043ff%27%2C%20%27%23980043ff%27%2C%20%27%23980043ff%27%2C%20%27%23980043ff%27%2C%20%27%23980043ff%27%2C%20%27%23980043ff%27%2C%20%27%23980043ff%27%2C%20%27%23980043ff%27%2C%20%27%23980043ff%27%2C%20%27%23980043ff%27%2C%20%27%23980043ff%27%2C%20%27%23980043ff%27%2C%20%27%23980043ff%27%2C%20%27%23980043ff%27%2C%20%27%23980043ff%27%2C%20%27%23980043ff%27%2C%20%27%23980043ff%27%2C%20%27%23980043ff%27%2C%20%27%23980043ff%27%2C%20%27%23980043ff%27%2C%20%27%23980043ff%27%2C%20%27%23980043ff%27%2C%20%27%23980043ff%27%2C%20%27%23980043ff%27%2C%20%27%23980043ff%27%2C%20%27%23980043ff%27%2C%20%27%23980043ff%27%2C%20%27%23980043ff%27%2C%20%27%23980043ff%27%2C%20%27%23980043ff%27%2C%20%27%23980043ff%27%2C%20%27%23980043ff%27%2C%20%27%23980043ff%27%2C%20%27%23980043ff%27%2C%20%27%23980043ff%27%2C%20%27%23980043ff%27%2C%20%27%23980043ff%27%2C%20%27%23980043ff%27%2C%20%27%23980043ff%27%2C%20%27%23980043ff%27%2C%20%27%23980043ff%27%2C%20%27%23980043ff%27%2C%20%27%23980043ff%27%2C%20%27%23980043ff%27%2C%20%27%23980043ff%27%2C%20%27%23980043ff%27%2C%20%27%23980043ff%27%2C%20%27%23980043ff%27%2C%20%27%23980043ff%27%2C%20%27%23980043ff%27%2C%20%27%23980043ff%27%2C%20%27%23980043ff%27%2C%20%27%23980043ff%27%2C%20%27%23980043ff%27%2C%20%27%23980043ff%27%2C%20%27%23980043ff%27%2C%20%27%23980043ff%27%2C%20%27%23980043ff%27%5D%29%3B%0A%20%20%20%20%0A%0A%20%20%20%20color_map_1120b529820f4520b5774287ffec2317.x%20%3D%20d3.scale.linear%28%29%0A%20%20%20%20%20%20%20%20%20%20%20%20%20%20.domain%28%5B0.0%2C%20230.0%5D%29%0A%20%20%20%20%20%20%20%20%20%20%20%20%20%20.range%28%5B0%2C%20400%5D%29%3B%0A%0A%20%20%20%20color_map_1120b529820f4520b5774287ffec2317.legend%20%3D%20L.control%28%7Bposition%3A%20%27topright%27%7D%29%3B%0A%20%20%20%20color_map_1120b529820f4520b5774287ffec2317.legend.onAdd%20%3D%20function%20%28map%29%20%7Bvar%20div%20%3D%20L.DomUtil.create%28%27div%27%2C%20%27legend%27%29%3B%20return%20div%7D%3B%0A%20%20%20%20color_map_1120b529820f4520b5774287ffec2317.legend.addTo%28map_2516fd261934432dbb4af385943a708d%29%3B%0A%0A%20%20%20%20color_map_1120b529820f4520b5774287ffec2317.xAxis%20%3D%20d3.svg.axis%28%29%0A%20%20%20%20%20%20%20%20.scale%28color_map_1120b529820f4520b5774287ffec2317.x%29%0A%20%20%20%20%20%20%20%20.orient%28%22top%22%29%0A%20%20%20%20%20%20%20%20.tickSize%281%29%0A%20%20%20%20%20%20%20%20.tickValues%28%5B0.0%2C%2038.333333333333336%2C%2076.66666666666667%2C%20115.0%2C%20153.33333333333334%2C%20191.66666666666669%2C%20230.0%5D%29%3B%0A%0A%20%20%20%20color_map_1120b529820f4520b5774287ffec2317.svg%20%3D%20d3.select%28%22.legend.leaflet-control%22%29.append%28%22svg%22%29%0A%20%20%20%20%20%20%20%20.attr%28%22id%22%2C%20%27legend%27%29%0A%20%20%20%20%20%20%20%20.attr%28%22width%22%2C%20450%29%0A%20%20%20%20%20%20%20%20.attr%28%22height%22%2C%2040%29%3B%0A%0A%20%20%20%20color_map_1120b529820f4520b5774287ffec2317.g%20%3D%20color_map_1120b529820f4520b5774287ffec2317.svg.append%28%22g%22%29%0A%20%20%20%20%20%20%20%20.attr%28%22class%22%2C%20%22key%22%29%0A%20%20%20%20%20%20%20%20.attr%28%22transform%22%2C%20%22translate%2825%2C16%29%22%29%3B%0A%0A%20%20%20%20color_map_1120b529820f4520b5774287ffec2317.g.selectAll%28%22rect%22%29%0A%20%20%20%20%20%20%20%20.data%28color_map_1120b529820f4520b5774287ffec2317.color.range%28%29.map%28function%28d%2C%20i%29%20%7B%0A%20%20%20%20%20%20%20%20%20%20return%20%7B%0A%20%20%20%20%20%20%20%20%20%20%20%20x0%3A%20i%20%3F%20color_map_1120b529820f4520b5774287ffec2317.x%28color_map_1120b529820f4520b5774287ffec2317.color.domain%28%29%5Bi%20-%201%5D%29%20%3A%20color_map_1120b529820f4520b5774287ffec2317.x.range%28%29%5B0%5D%2C%0A%20%20%20%20%20%20%20%20%20%20%20%20x1%3A%20i%20%3C%20color_map_1120b529820f4520b5774287ffec2317.color.domain%28%29.length%20%3F%20color_map_1120b529820f4520b5774287ffec2317.x%28color_map_1120b529820f4520b5774287ffec2317.color.domain%28%29%5Bi%5D%29%20%3A%20color_map_1120b529820f4520b5774287ffec2317.x.range%28%29%5B1%5D%2C%0A%20%20%20%20%20%20%20%20%20%20%20%20z%3A%20d%0A%20%20%20%20%20%20%20%20%20%20%7D%3B%0A%20%20%20%20%20%20%20%20%7D%29%29%0A%20%20%20%20%20%20.enter%28%29.append%28%22rect%22%29%0A%20%20%20%20%20%20%20%20.attr%28%22height%22%2C%2010%29%0A%20%20%20%20%20%20%20%20.attr%28%22x%22%2C%20function%28d%29%20%7B%20return%20d.x0%3B%20%7D%29%0A%20%20%20%20%20%20%20%20.attr%28%22width%22%2C%20function%28d%29%20%7B%20return%20d.x1%20-%20d.x0%3B%20%7D%29%0A%20%20%20%20%20%20%20%20.style%28%22fill%22%2C%20function%28d%29%20%7B%20return%20d.z%3B%20%7D%29%3B%0A%0A%20%20%20%20color_map_1120b529820f4520b5774287ffec2317.g.call%28color_map_1120b529820f4520b5774287ffec2317.xAxis%29.append%28%22text%22%29%0A%20%20%20%20%20%20%20%20.attr%28%22class%22%2C%20%22caption%22%29%0A%20%20%20%20%20%20%20%20.attr%28%22y%22%2C%2021%29%0A%20%20%20%20%20%20%20%20.text%28%27%27%29%3B%0A%3C/script%3E onload=\"this.contentDocument.open();this.contentDocument.write(    decodeURIComponent(this.getAttribute('data-html')));this.contentDocument.close();\" allowfullscreen webkitallowfullscreen mozallowfullscreen></iframe></div></div>"
     },
     "metadata": {},
     "execution_count": 340
    }
   ],
   "source": [
    "map = folium.Map(location=[37.5502, 126.982], zoom_start=11)\n",
    "\n",
    "folium.Choropleth(geo_data = geo_data,\n",
    "               data = cov_m_T['합계'],\n",
    "               columns = [cov_m_T.index, cov_m_T['합계']],\n",
    "               fill_color = 'PuRd',\n",
    "               key_on = 'feature.id').add_to(map)\n",
    "               \n",
    "title_html = '<h3 align=\"center\" style=\"font-size:20px\"><b>서울시 코로나 현황</b></h3>'   \n",
    "map.get_root().html.add_child(folium.Element(title_html))\n",
    "map"
   ]
  },
  {
   "cell_type": "code",
   "execution_count": 332,
   "metadata": {},
   "outputs": [
    {
     "output_type": "execute_result",
     "data": {
      "text/plain": [
       "<folium.folium.Map at 0x1709683f370>"
      ],
      "text/html": "<div style=\"width:100%;\"><div style=\"position:relative;width:100%;height:0;padding-bottom:60%;\"><span style=\"color:#565656\">Make this Notebook Trusted to load map: File -> Trust Notebook</span><iframe src=\"about:blank\" style=\"position:absolute;width:100%;height:100%;left:0;top:0;border:none !important;\" data-html=%3C%21DOCTYPE%20html%3E%0A%3Chead%3E%20%20%20%20%0A%20%20%20%20%3Cmeta%20http-equiv%3D%22content-type%22%20content%3D%22text/html%3B%20charset%3DUTF-8%22%20/%3E%0A%20%20%20%20%0A%20%20%20%20%20%20%20%20%3Cscript%3E%0A%20%20%20%20%20%20%20%20%20%20%20%20L_NO_TOUCH%20%3D%20false%3B%0A%20%20%20%20%20%20%20%20%20%20%20%20L_DISABLE_3D%20%3D%20false%3B%0A%20%20%20%20%20%20%20%20%3C/script%3E%0A%20%20%20%20%0A%20%20%20%20%3Cscript%20src%3D%22https%3A//cdn.jsdelivr.net/npm/leaflet%401.6.0/dist/leaflet.js%22%3E%3C/script%3E%0A%20%20%20%20%3Cscript%20src%3D%22https%3A//code.jquery.com/jquery-1.12.4.min.js%22%3E%3C/script%3E%0A%20%20%20%20%3Cscript%20src%3D%22https%3A//maxcdn.bootstrapcdn.com/bootstrap/3.2.0/js/bootstrap.min.js%22%3E%3C/script%3E%0A%20%20%20%20%3Cscript%20src%3D%22https%3A//cdnjs.cloudflare.com/ajax/libs/Leaflet.awesome-markers/2.0.2/leaflet.awesome-markers.js%22%3E%3C/script%3E%0A%20%20%20%20%3Clink%20rel%3D%22stylesheet%22%20href%3D%22https%3A//cdn.jsdelivr.net/npm/leaflet%401.6.0/dist/leaflet.css%22/%3E%0A%20%20%20%20%3Clink%20rel%3D%22stylesheet%22%20href%3D%22https%3A//maxcdn.bootstrapcdn.com/bootstrap/3.2.0/css/bootstrap.min.css%22/%3E%0A%20%20%20%20%3Clink%20rel%3D%22stylesheet%22%20href%3D%22https%3A//maxcdn.bootstrapcdn.com/bootstrap/3.2.0/css/bootstrap-theme.min.css%22/%3E%0A%20%20%20%20%3Clink%20rel%3D%22stylesheet%22%20href%3D%22https%3A//maxcdn.bootstrapcdn.com/font-awesome/4.6.3/css/font-awesome.min.css%22/%3E%0A%20%20%20%20%3Clink%20rel%3D%22stylesheet%22%20href%3D%22https%3A//cdnjs.cloudflare.com/ajax/libs/Leaflet.awesome-markers/2.0.2/leaflet.awesome-markers.css%22/%3E%0A%20%20%20%20%3Clink%20rel%3D%22stylesheet%22%20href%3D%22https%3A//rawcdn.githack.com/python-visualization/folium/master/folium/templates/leaflet.awesome.rotate.css%22/%3E%0A%20%20%20%20%3Cstyle%3Ehtml%2C%20body%20%7Bwidth%3A%20100%25%3Bheight%3A%20100%25%3Bmargin%3A%200%3Bpadding%3A%200%3B%7D%3C/style%3E%0A%20%20%20%20%3Cstyle%3E%23map%20%7Bposition%3Aabsolute%3Btop%3A0%3Bbottom%3A0%3Bright%3A0%3Bleft%3A0%3B%7D%3C/style%3E%0A%20%20%20%20%0A%20%20%20%20%20%20%20%20%20%20%20%20%3Cmeta%20name%3D%22viewport%22%20content%3D%22width%3Ddevice-width%2C%0A%20%20%20%20%20%20%20%20%20%20%20%20%20%20%20%20initial-scale%3D1.0%2C%20maximum-scale%3D1.0%2C%20user-scalable%3Dno%22%20/%3E%0A%20%20%20%20%20%20%20%20%20%20%20%20%3Cstyle%3E%0A%20%20%20%20%20%20%20%20%20%20%20%20%20%20%20%20%23map_57af2e7c00c949d3903036fbded6b1ac%20%7B%0A%20%20%20%20%20%20%20%20%20%20%20%20%20%20%20%20%20%20%20%20position%3A%20relative%3B%0A%20%20%20%20%20%20%20%20%20%20%20%20%20%20%20%20%20%20%20%20width%3A%20100.0%25%3B%0A%20%20%20%20%20%20%20%20%20%20%20%20%20%20%20%20%20%20%20%20height%3A%20100.0%25%3B%0A%20%20%20%20%20%20%20%20%20%20%20%20%20%20%20%20%20%20%20%20left%3A%200.0%25%3B%0A%20%20%20%20%20%20%20%20%20%20%20%20%20%20%20%20%20%20%20%20top%3A%200.0%25%3B%0A%20%20%20%20%20%20%20%20%20%20%20%20%20%20%20%20%7D%0A%20%20%20%20%20%20%20%20%20%20%20%20%3C/style%3E%0A%20%20%20%20%20%20%20%20%0A%3C/head%3E%0A%3Cbody%3E%20%20%20%20%0A%20%20%20%20%0A%20%20%20%20%20%20%20%20%20%20%20%20%3Cdiv%20class%3D%22folium-map%22%20id%3D%22map_57af2e7c00c949d3903036fbded6b1ac%22%20%3E%3C/div%3E%0A%20%20%20%20%20%20%20%20%0A%3C/body%3E%0A%3Cscript%3E%20%20%20%20%0A%20%20%20%20%0A%20%20%20%20%20%20%20%20%20%20%20%20var%20map_57af2e7c00c949d3903036fbded6b1ac%20%3D%20L.map%28%0A%20%20%20%20%20%20%20%20%20%20%20%20%20%20%20%20%22map_57af2e7c00c949d3903036fbded6b1ac%22%2C%0A%20%20%20%20%20%20%20%20%20%20%20%20%20%20%20%20%7B%0A%20%20%20%20%20%20%20%20%20%20%20%20%20%20%20%20%20%20%20%20center%3A%20%5B37.5502%2C%20126.982%5D%2C%0A%20%20%20%20%20%20%20%20%20%20%20%20%20%20%20%20%20%20%20%20crs%3A%20L.CRS.EPSG3857%2C%0A%20%20%20%20%20%20%20%20%20%20%20%20%20%20%20%20%20%20%20%20zoom%3A%2011%2C%0A%20%20%20%20%20%20%20%20%20%20%20%20%20%20%20%20%20%20%20%20zoomControl%3A%20true%2C%0A%20%20%20%20%20%20%20%20%20%20%20%20%20%20%20%20%20%20%20%20preferCanvas%3A%20false%2C%0A%20%20%20%20%20%20%20%20%20%20%20%20%20%20%20%20%7D%0A%20%20%20%20%20%20%20%20%20%20%20%20%29%3B%0A%0A%20%20%20%20%20%20%20%20%20%20%20%20%0A%0A%20%20%20%20%20%20%20%20%0A%20%20%20%20%0A%20%20%20%20%20%20%20%20%20%20%20%20var%20tile_layer_30b28c60188848c38b2a0b8d4d69ac69%20%3D%20L.tileLayer%28%0A%20%20%20%20%20%20%20%20%20%20%20%20%20%20%20%20%22https%3A//%7Bs%7D.tile.openstreetmap.org/%7Bz%7D/%7Bx%7D/%7By%7D.png%22%2C%0A%20%20%20%20%20%20%20%20%20%20%20%20%20%20%20%20%7B%22attribution%22%3A%20%22Data%20by%20%5Cu0026copy%3B%20%5Cu003ca%20href%3D%5C%22http%3A//openstreetmap.org%5C%22%5Cu003eOpenStreetMap%5Cu003c/a%5Cu003e%2C%20under%20%5Cu003ca%20href%3D%5C%22http%3A//www.openstreetmap.org/copyright%5C%22%5Cu003eODbL%5Cu003c/a%5Cu003e.%22%2C%20%22detectRetina%22%3A%20false%2C%20%22maxNativeZoom%22%3A%2018%2C%20%22maxZoom%22%3A%2018%2C%20%22minZoom%22%3A%200%2C%20%22noWrap%22%3A%20false%2C%20%22opacity%22%3A%201%2C%20%22subdomains%22%3A%20%22abc%22%2C%20%22tms%22%3A%20false%7D%0A%20%20%20%20%20%20%20%20%20%20%20%20%29.addTo%28map_57af2e7c00c949d3903036fbded6b1ac%29%3B%0A%20%20%20%20%20%20%20%20%0A%20%20%20%20%0A%20%20%20%20%20%20%20%20%20%20%20%20var%20circle_marker_0b1490c592224f66a50b3104002fd4ce%20%3D%20L.circleMarker%28%0A%20%20%20%20%20%20%20%20%20%20%20%20%20%20%20%20%5B37.56682420267543%2C%20126.978652258823%5D%2C%0A%20%20%20%20%20%20%20%20%20%20%20%20%20%20%20%20%7B%22bubblingMouseEvents%22%3A%20true%2C%20%22color%22%3A%20%22%233186cc%22%2C%20%22dashArray%22%3A%20null%2C%20%22dashOffset%22%3A%20null%2C%20%22fill%22%3A%20true%2C%20%22fillColor%22%3A%20%22%233186cc%22%2C%20%22fillOpacity%22%3A%200.2%2C%20%22fillRule%22%3A%20%22evenodd%22%2C%20%22lineCap%22%3A%20%22round%22%2C%20%22lineJoin%22%3A%20%22round%22%2C%20%22opacity%22%3A%201.0%2C%20%22radius%22%3A%2057.5%2C%20%22stroke%22%3A%20true%2C%20%22weight%22%3A%203%7D%0A%20%20%20%20%20%20%20%20%20%20%20%20%29.addTo%28map_57af2e7c00c949d3903036fbded6b1ac%29%3B%0A%20%20%20%20%20%20%20%20%0A%20%20%20%20%0A%20%20%20%20%20%20%20%20%20%20%20%20circle_marker_0b1490c592224f66a50b3104002fd4ce.bindTooltip%28%0A%20%20%20%20%20%20%20%20%20%20%20%20%20%20%20%20%60%3Cdiv%3E%0A%20%20%20%20%20%20%20%20%20%20%20%20%20%20%20%20%20%20%20%20%20%EC%84%9C%EC%9A%B8%0A%20%20%20%20%20%20%20%20%20%20%20%20%20%20%20%20%20%3C/div%3E%60%2C%0A%20%20%20%20%20%20%20%20%20%20%20%20%20%20%20%20%7B%22sticky%22%3A%20true%7D%0A%20%20%20%20%20%20%20%20%20%20%20%20%29%3B%0A%20%20%20%20%20%20%20%20%0A%20%20%20%20%0A%20%20%20%20%20%20%20%20%20%20%20%20var%20circle_marker_bcf0e4ca18fc4303bd2a1e752aac2ebf%20%3D%20L.circleMarker%28%0A%20%20%20%20%20%20%20%20%20%20%20%20%20%20%20%20%5B35.17973748292069%2C%20129.07506783124393%5D%2C%0A%20%20%20%20%20%20%20%20%20%20%20%20%20%20%20%20%7B%22bubblingMouseEvents%22%3A%20true%2C%20%22color%22%3A%20%22%233186cc%22%2C%20%22dashArray%22%3A%20null%2C%20%22dashOffset%22%3A%20null%2C%20%22fill%22%3A%20true%2C%20%22fillColor%22%3A%20%22%233186cc%22%2C%20%22fillOpacity%22%3A%200.2%2C%20%22fillRule%22%3A%20%22evenodd%22%2C%20%22lineCap%22%3A%20%22round%22%2C%20%22lineJoin%22%3A%20%22round%22%2C%20%22opacity%22%3A%201.0%2C%20%22radius%22%3A%203.5%2C%20%22stroke%22%3A%20true%2C%20%22weight%22%3A%203%7D%0A%20%20%20%20%20%20%20%20%20%20%20%20%29.addTo%28map_57af2e7c00c949d3903036fbded6b1ac%29%3B%0A%20%20%20%20%20%20%20%20%0A%20%20%20%20%0A%20%20%20%20%20%20%20%20%20%20%20%20circle_marker_bcf0e4ca18fc4303bd2a1e752aac2ebf.bindTooltip%28%0A%20%20%20%20%20%20%20%20%20%20%20%20%20%20%20%20%60%3Cdiv%3E%0A%20%20%20%20%20%20%20%20%20%20%20%20%20%20%20%20%20%20%20%20%20%EB%B6%80%EC%82%B0%0A%20%20%20%20%20%20%20%20%20%20%20%20%20%20%20%20%20%3C/div%3E%60%2C%0A%20%20%20%20%20%20%20%20%20%20%20%20%20%20%20%20%7B%22sticky%22%3A%20true%7D%0A%20%20%20%20%20%20%20%20%20%20%20%20%29%3B%0A%20%20%20%20%20%20%20%20%0A%20%20%20%20%0A%20%20%20%20%20%20%20%20%20%20%20%20var%20circle_marker_83341a44f2e94e5a995576b9c26c170d%20%3D%20L.circleMarker%28%0A%20%20%20%20%20%20%20%20%20%20%20%20%20%20%20%20%5B35.8713802646523%2C%20128.601805491082%5D%2C%0A%20%20%20%20%20%20%20%20%20%20%20%20%20%20%20%20%7B%22bubblingMouseEvents%22%3A%20true%2C%20%22color%22%3A%20%22%233186cc%22%2C%20%22dashArray%22%3A%20null%2C%20%22dashOffset%22%3A%20null%2C%20%22fill%22%3A%20true%2C%20%22fillColor%22%3A%20%22%233186cc%22%2C%20%22fillOpacity%22%3A%200.2%2C%20%22fillRule%22%3A%20%22evenodd%22%2C%20%22lineCap%22%3A%20%22round%22%2C%20%22lineJoin%22%3A%20%22round%22%2C%20%22opacity%22%3A%201.0%2C%20%22radius%22%3A%2021.75%2C%20%22stroke%22%3A%20true%2C%20%22weight%22%3A%203%7D%0A%20%20%20%20%20%20%20%20%20%20%20%20%29.addTo%28map_57af2e7c00c949d3903036fbded6b1ac%29%3B%0A%20%20%20%20%20%20%20%20%0A%20%20%20%20%0A%20%20%20%20%20%20%20%20%20%20%20%20circle_marker_83341a44f2e94e5a995576b9c26c170d.bindTooltip%28%0A%20%20%20%20%20%20%20%20%20%20%20%20%20%20%20%20%60%3Cdiv%3E%0A%20%20%20%20%20%20%20%20%20%20%20%20%20%20%20%20%20%20%20%20%20%EB%8C%80%EA%B5%AC%0A%20%20%20%20%20%20%20%20%20%20%20%20%20%20%20%20%20%3C/div%3E%60%2C%0A%20%20%20%20%20%20%20%20%20%20%20%20%20%20%20%20%7B%22sticky%22%3A%20true%7D%0A%20%20%20%20%20%20%20%20%20%20%20%20%29%3B%0A%20%20%20%20%20%20%20%20%0A%20%20%20%20%0A%20%20%20%20%20%20%20%20%20%20%20%20var%20circle_marker_a94588be2af1424ca97f2104d6694361%20%3D%20L.circleMarker%28%0A%20%20%20%20%20%20%20%20%20%20%20%20%20%20%20%20%5B37.456004465652136%2C%20126.7052580700657%5D%2C%0A%20%20%20%20%20%20%20%20%20%20%20%20%20%20%20%20%7B%22bubblingMouseEvents%22%3A%20true%2C%20%22color%22%3A%20%22%233186cc%22%2C%20%22dashArray%22%3A%20null%2C%20%22dashOffset%22%3A%20null%2C%20%22fill%22%3A%20true%2C%20%22fillColor%22%3A%20%22%233186cc%22%2C%20%22fillOpacity%22%3A%200.2%2C%20%22fillRule%22%3A%20%22evenodd%22%2C%20%22lineCap%22%3A%20%22round%22%2C%20%22lineJoin%22%3A%20%22round%22%2C%20%22opacity%22%3A%201.0%2C%20%22radius%22%3A%2015.5%2C%20%22stroke%22%3A%20true%2C%20%22weight%22%3A%203%7D%0A%20%20%20%20%20%20%20%20%20%20%20%20%29.addTo%28map_57af2e7c00c949d3903036fbded6b1ac%29%3B%0A%20%20%20%20%20%20%20%20%0A%20%20%20%20%0A%20%20%20%20%20%20%20%20%20%20%20%20circle_marker_a94588be2af1424ca97f2104d6694361.bindTooltip%28%0A%20%20%20%20%20%20%20%20%20%20%20%20%20%20%20%20%60%3Cdiv%3E%0A%20%20%20%20%20%20%20%20%20%20%20%20%20%20%20%20%20%20%20%20%20%EC%9D%B8%EC%B2%9C%0A%20%20%20%20%20%20%20%20%20%20%20%20%20%20%20%20%20%3C/div%3E%60%2C%0A%20%20%20%20%20%20%20%20%20%20%20%20%20%20%20%20%7B%22sticky%22%3A%20true%7D%0A%20%20%20%20%20%20%20%20%20%20%20%20%29%3B%0A%20%20%20%20%20%20%20%20%0A%20%20%20%20%0A%20%20%20%20%20%20%20%20%20%20%20%20var%20circle_marker_ff5ea9dc4ed047bc8c535d80b6ad10f2%20%3D%20L.circleMarker%28%0A%20%20%20%20%20%20%20%20%20%20%20%20%20%20%20%20%5B36.3505388993078%2C%20127.384834846753%5D%2C%0A%20%20%20%20%20%20%20%20%20%20%20%20%20%20%20%20%7B%22bubblingMouseEvents%22%3A%20true%2C%20%22color%22%3A%20%22%233186cc%22%2C%20%22dashArray%22%3A%20null%2C%20%22dashOffset%22%3A%20null%2C%20%22fill%22%3A%20true%2C%20%22fillColor%22%3A%20%22%233186cc%22%2C%20%22fillOpacity%22%3A%200.2%2C%20%22fillRule%22%3A%20%22evenodd%22%2C%20%22lineCap%22%3A%20%22round%22%2C%20%22lineJoin%22%3A%20%22round%22%2C%20%22opacity%22%3A%201.0%2C%20%22radius%22%3A%203.5%2C%20%22stroke%22%3A%20true%2C%20%22weight%22%3A%203%7D%0A%20%20%20%20%20%20%20%20%20%20%20%20%29.addTo%28map_57af2e7c00c949d3903036fbded6b1ac%29%3B%0A%20%20%20%20%20%20%20%20%0A%20%20%20%20%0A%20%20%20%20%20%20%20%20%20%20%20%20circle_marker_ff5ea9dc4ed047bc8c535d80b6ad10f2.bindTooltip%28%0A%20%20%20%20%20%20%20%20%20%20%20%20%20%20%20%20%60%3Cdiv%3E%0A%20%20%20%20%20%20%20%20%20%20%20%20%20%20%20%20%20%20%20%20%20%EB%8C%80%EC%A0%84%0A%20%20%20%20%20%20%20%20%20%20%20%20%20%20%20%20%20%3C/div%3E%60%2C%0A%20%20%20%20%20%20%20%20%20%20%20%20%20%20%20%20%7B%22sticky%22%3A%20true%7D%0A%20%20%20%20%20%20%20%20%20%20%20%20%29%3B%0A%20%20%20%20%20%20%20%20%0A%20%20%20%20%0A%20%20%20%20%20%20%20%20%20%20%20%20var%20circle_marker_f8cdd1a711d54dc784a0b71edd00f447%20%3D%20L.circleMarker%28%0A%20%20%20%20%20%20%20%20%20%20%20%20%20%20%20%20%5B35.16010195999625%2C%20126.85162995901466%5D%2C%0A%20%20%20%20%20%20%20%20%20%20%20%20%20%20%20%20%7B%22bubblingMouseEvents%22%3A%20true%2C%20%22color%22%3A%20%22%233186cc%22%2C%20%22dashArray%22%3A%20null%2C%20%22dashOffset%22%3A%20null%2C%20%22fill%22%3A%20true%2C%20%22fillColor%22%3A%20%22%233186cc%22%2C%20%22fillOpacity%22%3A%200.2%2C%20%22fillRule%22%3A%20%22evenodd%22%2C%20%22lineCap%22%3A%20%22round%22%2C%20%22lineJoin%22%3A%20%22round%22%2C%20%22opacity%22%3A%201.0%2C%20%22radius%22%3A%205.75%2C%20%22stroke%22%3A%20true%2C%20%22weight%22%3A%203%7D%0A%20%20%20%20%20%20%20%20%20%20%20%20%29.addTo%28map_57af2e7c00c949d3903036fbded6b1ac%29%3B%0A%20%20%20%20%20%20%20%20%0A%20%20%20%20%0A%20%20%20%20%20%20%20%20%20%20%20%20circle_marker_f8cdd1a711d54dc784a0b71edd00f447.bindTooltip%28%0A%20%20%20%20%20%20%20%20%20%20%20%20%20%20%20%20%60%3Cdiv%3E%0A%20%20%20%20%20%20%20%20%20%20%20%20%20%20%20%20%20%20%20%20%20%EA%B4%91%EC%A3%BC%0A%20%20%20%20%20%20%20%20%20%20%20%20%20%20%20%20%20%3C/div%3E%60%2C%0A%20%20%20%20%20%20%20%20%20%20%20%20%20%20%20%20%7B%22sticky%22%3A%20true%7D%0A%20%20%20%20%20%20%20%20%20%20%20%20%29%3B%0A%20%20%20%20%20%20%20%20%0A%20%20%20%20%0A%20%20%20%20%20%20%20%20%20%20%20%20var%20circle_marker_dc0fb940ab4341e1954601d50bd085e5%20%3D%20L.circleMarker%28%0A%20%20%20%20%20%20%20%20%20%20%20%20%20%20%20%20%5B35.53947918549458%2C%20129.31146781568822%5D%2C%0A%20%20%20%20%20%20%20%20%20%20%20%20%20%20%20%20%7B%22bubblingMouseEvents%22%3A%20true%2C%20%22color%22%3A%20%22%233186cc%22%2C%20%22dashArray%22%3A%20null%2C%20%22dashOffset%22%3A%20null%2C%20%22fill%22%3A%20true%2C%20%22fillColor%22%3A%20%22%233186cc%22%2C%20%22fillOpacity%22%3A%200.2%2C%20%22fillRule%22%3A%20%22evenodd%22%2C%20%22lineCap%22%3A%20%22round%22%2C%20%22lineJoin%22%3A%20%22round%22%2C%20%22opacity%22%3A%201.0%2C%20%22radius%22%3A%201.5%2C%20%22stroke%22%3A%20true%2C%20%22weight%22%3A%203%7D%0A%20%20%20%20%20%20%20%20%20%20%20%20%29.addTo%28map_57af2e7c00c949d3903036fbded6b1ac%29%3B%0A%20%20%20%20%20%20%20%20%0A%20%20%20%20%0A%20%20%20%20%20%20%20%20%20%20%20%20circle_marker_dc0fb940ab4341e1954601d50bd085e5.bindTooltip%28%0A%20%20%20%20%20%20%20%20%20%20%20%20%20%20%20%20%60%3Cdiv%3E%0A%20%20%20%20%20%20%20%20%20%20%20%20%20%20%20%20%20%20%20%20%20%EC%9A%B8%EC%82%B0%0A%20%20%20%20%20%20%20%20%20%20%20%20%20%20%20%20%20%3C/div%3E%60%2C%0A%20%20%20%20%20%20%20%20%20%20%20%20%20%20%20%20%7B%22sticky%22%3A%20true%7D%0A%20%20%20%20%20%20%20%20%20%20%20%20%29%3B%0A%20%20%20%20%20%20%20%20%0A%20%20%20%20%0A%20%20%20%20%20%20%20%20%20%20%20%20var%20circle_marker_c7153d852fbe41a4b84993eab46a2232%20%3D%20L.circleMarker%28%0A%20%20%20%20%20%20%20%20%20%20%20%20%20%20%20%20%5B36.48006310909889%2C%20127.28919531800284%5D%2C%0A%20%20%20%20%20%20%20%20%20%20%20%20%20%20%20%20%7B%22bubblingMouseEvents%22%3A%20true%2C%20%22color%22%3A%20%22%233186cc%22%2C%20%22dashArray%22%3A%20null%2C%20%22dashOffset%22%3A%20null%2C%20%22fill%22%3A%20true%2C%20%22fillColor%22%3A%20%22%233186cc%22%2C%20%22fillOpacity%22%3A%200.2%2C%20%22fillRule%22%3A%20%22evenodd%22%2C%20%22lineCap%22%3A%20%22round%22%2C%20%22lineJoin%22%3A%20%22round%22%2C%20%22opacity%22%3A%201.0%2C%20%22stroke%22%3A%20true%2C%20%22weight%22%3A%203%7D%0A%20%20%20%20%20%20%20%20%20%20%20%20%29.addTo%28map_57af2e7c00c949d3903036fbded6b1ac%29%3B%0A%20%20%20%20%20%20%20%20%0A%20%20%20%20%0A%20%20%20%20%20%20%20%20%20%20%20%20circle_marker_c7153d852fbe41a4b84993eab46a2232.bindTooltip%28%0A%20%20%20%20%20%20%20%20%20%20%20%20%20%20%20%20%60%3Cdiv%3E%0A%20%20%20%20%20%20%20%20%20%20%20%20%20%20%20%20%20%20%20%20%20%EC%84%B8%EC%A2%85%0A%20%20%20%20%20%20%20%20%20%20%20%20%20%20%20%20%20%3C/div%3E%60%2C%0A%20%20%20%20%20%20%20%20%20%20%20%20%20%20%20%20%7B%22sticky%22%3A%20true%7D%0A%20%20%20%20%20%20%20%20%20%20%20%20%29%3B%0A%20%20%20%20%20%20%20%20%0A%20%20%20%20%0A%20%20%20%20%20%20%20%20%20%20%20%20var%20circle_marker_92aeed64004c4d148bcd148ee2211721%20%3D%20L.circleMarker%28%0A%20%20%20%20%20%20%20%20%20%20%20%20%20%20%20%20%5B37.2749769872529%2C%20127.00892996953%5D%2C%0A%20%20%20%20%20%20%20%20%20%20%20%20%20%20%20%20%7B%22bubblingMouseEvents%22%3A%20true%2C%20%22color%22%3A%20%22%233186cc%22%2C%20%22dashArray%22%3A%20null%2C%20%22dashOffset%22%3A%20null%2C%20%22fill%22%3A%20true%2C%20%22fillColor%22%3A%20%22%233186cc%22%2C%20%22fillOpacity%22%3A%200.2%2C%20%22fillRule%22%3A%20%22evenodd%22%2C%20%22lineCap%22%3A%20%22round%22%2C%20%22lineJoin%22%3A%20%22round%22%2C%20%22opacity%22%3A%201.0%2C%20%22radius%22%3A%2048.75%2C%20%22stroke%22%3A%20true%2C%20%22weight%22%3A%203%7D%0A%20%20%20%20%20%20%20%20%20%20%20%20%29.addTo%28map_57af2e7c00c949d3903036fbded6b1ac%29%3B%0A%20%20%20%20%20%20%20%20%0A%20%20%20%20%0A%20%20%20%20%20%20%20%20%20%20%20%20circle_marker_92aeed64004c4d148bcd148ee2211721.bindTooltip%28%0A%20%20%20%20%20%20%20%20%20%20%20%20%20%20%20%20%60%3Cdiv%3E%0A%20%20%20%20%20%20%20%20%20%20%20%20%20%20%20%20%20%20%20%20%20%EA%B2%BD%EA%B8%B0%0A%20%20%20%20%20%20%20%20%20%20%20%20%20%20%20%20%20%3C/div%3E%60%2C%0A%20%20%20%20%20%20%20%20%20%20%20%20%20%20%20%20%7B%22sticky%22%3A%20true%7D%0A%20%20%20%20%20%20%20%20%20%20%20%20%29%3B%0A%20%20%20%20%20%20%20%20%0A%20%20%20%20%0A%20%20%20%20%20%20%20%20%20%20%20%20var%20circle_marker_13c063a023564b93998f796b468da938%20%3D%20L.circleMarker%28%0A%20%20%20%20%20%20%20%20%20%20%20%20%20%20%20%20%5B37.8853257858225%2C%20127.729829010358%5D%2C%0A%20%20%20%20%20%20%20%20%20%20%20%20%20%20%20%20%7B%22bubblingMouseEvents%22%3A%20true%2C%20%22color%22%3A%20%22%233186cc%22%2C%20%22dashArray%22%3A%20null%2C%20%22dashOffset%22%3A%20null%2C%20%22fill%22%3A%20true%2C%20%22fillColor%22%3A%20%22%233186cc%22%2C%20%22fillOpacity%22%3A%200.2%2C%20%22fillRule%22%3A%20%22evenodd%22%2C%20%22lineCap%22%3A%20%22round%22%2C%20%22lineJoin%22%3A%20%22round%22%2C%20%22opacity%22%3A%201.0%2C%20%22radius%22%3A%202.25%2C%20%22stroke%22%3A%20true%2C%20%22weight%22%3A%203%7D%0A%20%20%20%20%20%20%20%20%20%20%20%20%29.addTo%28map_57af2e7c00c949d3903036fbded6b1ac%29%3B%0A%20%20%20%20%20%20%20%20%0A%20%20%20%20%0A%20%20%20%20%20%20%20%20%20%20%20%20circle_marker_13c063a023564b93998f796b468da938.bindTooltip%28%0A%20%20%20%20%20%20%20%20%20%20%20%20%20%20%20%20%60%3Cdiv%3E%0A%20%20%20%20%20%20%20%20%20%20%20%20%20%20%20%20%20%20%20%20%20%EA%B0%95%EC%9B%90%0A%20%20%20%20%20%20%20%20%20%20%20%20%20%20%20%20%20%3C/div%3E%60%2C%0A%20%20%20%20%20%20%20%20%20%20%20%20%20%20%20%20%7B%22sticky%22%3A%20true%7D%0A%20%20%20%20%20%20%20%20%20%20%20%20%29%3B%0A%20%20%20%20%20%20%20%20%0A%20%20%20%20%0A%20%20%20%20%20%20%20%20%20%20%20%20var%20circle_marker_b12d0572a30245679aa63e7d6e8118f2%20%3D%20L.circleMarker%28%0A%20%20%20%20%20%20%20%20%20%20%20%20%20%20%20%20%5B36.6353581960153%2C%20127.491457326504%5D%2C%0A%20%20%20%20%20%20%20%20%20%20%20%20%20%20%20%20%7B%22bubblingMouseEvents%22%3A%20true%2C%20%22color%22%3A%20%22%233186cc%22%2C%20%22dashArray%22%3A%20null%2C%20%22dashOffset%22%3A%20null%2C%20%22fill%22%3A%20true%2C%20%22fillColor%22%3A%20%22%233186cc%22%2C%20%22fillOpacity%22%3A%200.2%2C%20%22fillRule%22%3A%20%22evenodd%22%2C%20%22lineCap%22%3A%20%22round%22%2C%20%22lineJoin%22%3A%20%22round%22%2C%20%22opacity%22%3A%201.0%2C%20%22radius%22%3A%200.75%2C%20%22stroke%22%3A%20true%2C%20%22weight%22%3A%203%7D%0A%20%20%20%20%20%20%20%20%20%20%20%20%29.addTo%28map_57af2e7c00c949d3903036fbded6b1ac%29%3B%0A%20%20%20%20%20%20%20%20%0A%20%20%20%20%0A%20%20%20%20%20%20%20%20%20%20%20%20circle_marker_b12d0572a30245679aa63e7d6e8118f2.bindTooltip%28%0A%20%20%20%20%20%20%20%20%20%20%20%20%20%20%20%20%60%3Cdiv%3E%0A%20%20%20%20%20%20%20%20%20%20%20%20%20%20%20%20%20%20%20%20%20%EC%B6%A9%EB%B6%81%0A%20%20%20%20%20%20%20%20%20%20%20%20%20%20%20%20%20%3C/div%3E%60%2C%0A%20%20%20%20%20%20%20%20%20%20%20%20%20%20%20%20%7B%22sticky%22%3A%20true%7D%0A%20%20%20%20%20%20%20%20%20%20%20%20%29%3B%0A%20%20%20%20%20%20%20%20%0A%20%20%20%20%0A%20%20%20%20%20%20%20%20%20%20%20%20var%20circle_marker_ffd82b41cdd8483db9ec20b61e3faf92%20%3D%20L.circleMarker%28%0A%20%20%20%20%20%20%20%20%20%20%20%20%20%20%20%20%5B36.6588292533059%2C%20126.67277619382%5D%2C%0A%20%20%20%20%20%20%20%20%20%20%20%20%20%20%20%20%7B%22bubblingMouseEvents%22%3A%20true%2C%20%22color%22%3A%20%22%233186cc%22%2C%20%22dashArray%22%3A%20null%2C%20%22dashOffset%22%3A%20null%2C%20%22fill%22%3A%20true%2C%20%22fillColor%22%3A%20%22%233186cc%22%2C%20%22fillOpacity%22%3A%200.2%2C%20%22fillRule%22%3A%20%22evenodd%22%2C%20%22lineCap%22%3A%20%22round%22%2C%20%22lineJoin%22%3A%20%22round%22%2C%20%22opacity%22%3A%201.0%2C%20%22radius%22%3A%206.0%2C%20%22stroke%22%3A%20true%2C%20%22weight%22%3A%203%7D%0A%20%20%20%20%20%20%20%20%20%20%20%20%29.addTo%28map_57af2e7c00c949d3903036fbded6b1ac%29%3B%0A%20%20%20%20%20%20%20%20%0A%20%20%20%20%0A%20%20%20%20%20%20%20%20%20%20%20%20circle_marker_ffd82b41cdd8483db9ec20b61e3faf92.bindTooltip%28%0A%20%20%20%20%20%20%20%20%20%20%20%20%20%20%20%20%60%3Cdiv%3E%0A%20%20%20%20%20%20%20%20%20%20%20%20%20%20%20%20%20%20%20%20%20%EC%B6%A9%EB%82%A8%0A%20%20%20%20%20%20%20%20%20%20%20%20%20%20%20%20%20%3C/div%3E%60%2C%0A%20%20%20%20%20%20%20%20%20%20%20%20%20%20%20%20%7B%22sticky%22%3A%20true%7D%0A%20%20%20%20%20%20%20%20%20%20%20%20%29%3B%0A%20%20%20%20%20%20%20%20%0A%20%20%20%20%0A%20%20%20%20%20%20%20%20%20%20%20%20var%20circle_marker_8ba115333f3f4edb815e6bcf523f9598%20%3D%20L.circleMarker%28%0A%20%20%20%20%20%20%20%20%20%20%20%20%20%20%20%20%5B36.57599440982183%2C%20128.50580033730782%5D%2C%0A%20%20%20%20%20%20%20%20%20%20%20%20%20%20%20%20%7B%22bubblingMouseEvents%22%3A%20true%2C%20%22color%22%3A%20%22%233186cc%22%2C%20%22dashArray%22%3A%20null%2C%20%22dashOffset%22%3A%20null%2C%20%22fill%22%3A%20true%2C%20%22fillColor%22%3A%20%22%233186cc%22%2C%20%22fillOpacity%22%3A%200.2%2C%20%22fillRule%22%3A%20%22evenodd%22%2C%20%22lineCap%22%3A%20%22round%22%2C%20%22lineJoin%22%3A%20%22round%22%2C%20%22opacity%22%3A%201.0%2C%20%22radius%22%3A%205.0%2C%20%22stroke%22%3A%20true%2C%20%22weight%22%3A%203%7D%0A%20%20%20%20%20%20%20%20%20%20%20%20%29.addTo%28map_57af2e7c00c949d3903036fbded6b1ac%29%3B%0A%20%20%20%20%20%20%20%20%0A%20%20%20%20%0A%20%20%20%20%20%20%20%20%20%20%20%20circle_marker_8ba115333f3f4edb815e6bcf523f9598.bindTooltip%28%0A%20%20%20%20%20%20%20%20%20%20%20%20%20%20%20%20%60%3Cdiv%3E%0A%20%20%20%20%20%20%20%20%20%20%20%20%20%20%20%20%20%20%20%20%20%EA%B2%BD%EB%B6%81%0A%20%20%20%20%20%20%20%20%20%20%20%20%20%20%20%20%20%3C/div%3E%60%2C%0A%20%20%20%20%20%20%20%20%20%20%20%20%20%20%20%20%7B%22sticky%22%3A%20true%7D%0A%20%20%20%20%20%20%20%20%20%20%20%20%29%3B%0A%20%20%20%20%20%20%20%20%0A%20%20%20%20%0A%20%20%20%20%20%20%20%20%20%20%20%20var%20circle_marker_03b765ee6663441d8248b0ec86619e1a%20%3D%20L.circleMarker%28%0A%20%20%20%20%20%20%20%20%20%20%20%20%20%20%20%20%5B35.23770717139541%2C%20128.69192185958292%5D%2C%0A%20%20%20%20%20%20%20%20%20%20%20%20%20%20%20%20%7B%22bubblingMouseEvents%22%3A%20true%2C%20%22color%22%3A%20%22%233186cc%22%2C%20%22dashArray%22%3A%20null%2C%20%22dashOffset%22%3A%20null%2C%20%22fill%22%3A%20true%2C%20%22fillColor%22%3A%20%22%233186cc%22%2C%20%22fillOpacity%22%3A%200.2%2C%20%22fillRule%22%3A%20%22evenodd%22%2C%20%22lineCap%22%3A%20%22round%22%2C%20%22lineJoin%22%3A%20%22round%22%2C%20%22opacity%22%3A%201.0%2C%20%22radius%22%3A%202.5%2C%20%22stroke%22%3A%20true%2C%20%22weight%22%3A%203%7D%0A%20%20%20%20%20%20%20%20%20%20%20%20%29.addTo%28map_57af2e7c00c949d3903036fbded6b1ac%29%3B%0A%20%20%20%20%20%20%20%20%0A%20%20%20%20%0A%20%20%20%20%20%20%20%20%20%20%20%20circle_marker_03b765ee6663441d8248b0ec86619e1a.bindTooltip%28%0A%20%20%20%20%20%20%20%20%20%20%20%20%20%20%20%20%60%3Cdiv%3E%0A%20%20%20%20%20%20%20%20%20%20%20%20%20%20%20%20%20%20%20%20%20%EA%B2%BD%EB%82%A8%0A%20%20%20%20%20%20%20%20%20%20%20%20%20%20%20%20%20%3C/div%3E%60%2C%0A%20%20%20%20%20%20%20%20%20%20%20%20%20%20%20%20%7B%22sticky%22%3A%20true%7D%0A%20%20%20%20%20%20%20%20%20%20%20%20%29%3B%0A%20%20%20%20%20%20%20%20%0A%20%20%20%20%0A%20%20%20%20%20%20%20%20%20%20%20%20var%20circle_marker_43c72363b1dc49a5a7da2072aecde831%20%3D%20L.circleMarker%28%0A%20%20%20%20%20%20%20%20%20%20%20%20%20%20%20%20%5B35.8201963639598%2C%20127.108976712012%5D%2C%0A%20%20%20%20%20%20%20%20%20%20%20%20%20%20%20%20%7B%22bubblingMouseEvents%22%3A%20true%2C%20%22color%22%3A%20%22%233186cc%22%2C%20%22dashArray%22%3A%20null%2C%20%22dashOffset%22%3A%20null%2C%20%22fill%22%3A%20true%2C%20%22fillColor%22%3A%20%22%233186cc%22%2C%20%22fillOpacity%22%3A%200.2%2C%20%22fillRule%22%3A%20%22evenodd%22%2C%20%22lineCap%22%3A%20%22round%22%2C%20%22lineJoin%22%3A%20%22round%22%2C%20%22opacity%22%3A%201.0%2C%20%22radius%22%3A%200.25%2C%20%22stroke%22%3A%20true%2C%20%22weight%22%3A%203%7D%0A%20%20%20%20%20%20%20%20%20%20%20%20%29.addTo%28map_57af2e7c00c949d3903036fbded6b1ac%29%3B%0A%20%20%20%20%20%20%20%20%0A%20%20%20%20%0A%20%20%20%20%20%20%20%20%20%20%20%20circle_marker_43c72363b1dc49a5a7da2072aecde831.bindTooltip%28%0A%20%20%20%20%20%20%20%20%20%20%20%20%20%20%20%20%60%3Cdiv%3E%0A%20%20%20%20%20%20%20%20%20%20%20%20%20%20%20%20%20%20%20%20%20%EC%A0%84%EB%B6%81%0A%20%20%20%20%20%20%20%20%20%20%20%20%20%20%20%20%20%3C/div%3E%60%2C%0A%20%20%20%20%20%20%20%20%20%20%20%20%20%20%20%20%7B%22sticky%22%3A%20true%7D%0A%20%20%20%20%20%20%20%20%20%20%20%20%29%3B%0A%20%20%20%20%20%20%20%20%0A%20%20%20%20%0A%20%20%20%20%20%20%20%20%20%20%20%20var%20circle_marker_da68496b6cae459db4adb83c5f03116c%20%3D%20L.circleMarker%28%0A%20%20%20%20%20%20%20%20%20%20%20%20%20%20%20%20%5B34.8160821479338%2C%20126.462788333373%5D%2C%0A%20%20%20%20%20%20%20%20%20%20%20%20%20%20%20%20%7B%22bubblingMouseEvents%22%3A%20true%2C%20%22color%22%3A%20%22%233186cc%22%2C%20%22dashArray%22%3A%20null%2C%20%22dashOffset%22%3A%20null%2C%20%22fill%22%3A%20true%2C%20%22fillColor%22%3A%20%22%233186cc%22%2C%20%22fillOpacity%22%3A%200.2%2C%20%22fillRule%22%3A%20%22evenodd%22%2C%20%22lineCap%22%3A%20%22round%22%2C%20%22lineJoin%22%3A%20%22round%22%2C%20%22opacity%22%3A%201.0%2C%20%22radius%22%3A%203.25%2C%20%22stroke%22%3A%20true%2C%20%22weight%22%3A%203%7D%0A%20%20%20%20%20%20%20%20%20%20%20%20%29.addTo%28map_57af2e7c00c949d3903036fbded6b1ac%29%3B%0A%20%20%20%20%20%20%20%20%0A%20%20%20%20%0A%20%20%20%20%20%20%20%20%20%20%20%20circle_marker_da68496b6cae459db4adb83c5f03116c.bindTooltip%28%0A%20%20%20%20%20%20%20%20%20%20%20%20%20%20%20%20%60%3Cdiv%3E%0A%20%20%20%20%20%20%20%20%20%20%20%20%20%20%20%20%20%20%20%20%20%EC%A0%84%EB%82%A8%0A%20%20%20%20%20%20%20%20%20%20%20%20%20%20%20%20%20%3C/div%3E%60%2C%0A%20%20%20%20%20%20%20%20%20%20%20%20%20%20%20%20%7B%22sticky%22%3A%20true%7D%0A%20%20%20%20%20%20%20%20%20%20%20%20%29%3B%0A%20%20%20%20%20%20%20%20%0A%20%20%20%20%0A%20%20%20%20%20%20%20%20%20%20%20%20var%20circle_marker_3d6113d9c7314e10bfd4fc830e501101%20%3D%20L.circleMarker%28%0A%20%20%20%20%20%20%20%20%20%20%20%20%20%20%20%20%5B33.4995342412698%2C%20126.531171087129%5D%2C%0A%20%20%20%20%20%20%20%20%20%20%20%20%20%20%20%20%7B%22bubblingMouseEvents%22%3A%20true%2C%20%22color%22%3A%20%22%233186cc%22%2C%20%22dashArray%22%3A%20null%2C%20%22dashOffset%22%3A%20null%2C%20%22fill%22%3A%20true%2C%20%22fillColor%22%3A%20%22%233186cc%22%2C%20%22fillOpacity%22%3A%200.2%2C%20%22fillRule%22%3A%20%22evenodd%22%2C%20%22lineCap%22%3A%20%22round%22%2C%20%22lineJoin%22%3A%20%22round%22%2C%20%22opacity%22%3A%201.0%2C%20%22radius%22%3A%200.25%2C%20%22stroke%22%3A%20true%2C%20%22weight%22%3A%203%7D%0A%20%20%20%20%20%20%20%20%20%20%20%20%29.addTo%28map_57af2e7c00c949d3903036fbded6b1ac%29%3B%0A%20%20%20%20%20%20%20%20%0A%20%20%20%20%0A%20%20%20%20%20%20%20%20%20%20%20%20circle_marker_3d6113d9c7314e10bfd4fc830e501101.bindTooltip%28%0A%20%20%20%20%20%20%20%20%20%20%20%20%20%20%20%20%60%3Cdiv%3E%0A%20%20%20%20%20%20%20%20%20%20%20%20%20%20%20%20%20%20%20%20%20%EC%A0%9C%EC%A3%BC%0A%20%20%20%20%20%20%20%20%20%20%20%20%20%20%20%20%20%3C/div%3E%60%2C%0A%20%20%20%20%20%20%20%20%20%20%20%20%20%20%20%20%7B%22sticky%22%3A%20true%7D%0A%20%20%20%20%20%20%20%20%20%20%20%20%29%3B%0A%20%20%20%20%20%20%20%20%0A%3C/script%3E onload=\"this.contentDocument.open();this.contentDocument.write(    decodeURIComponent(this.getAttribute('data-html')));this.contentDocument.close();\" allowfullscreen webkitallowfullscreen mozallowfullscreen></iframe></div></div>"
     },
     "metadata": {},
     "execution_count": 332
    }
   ],
   "source": [
    "map1 = folium.Map(location=[37.5502, 126.982], zoom_start=11)\n",
    "\n",
    "for i in cov_m_T.index:\n",
    "    folium.CircleMarker(\n",
    "        location = [cov_m_T.lat[i], cov_m_T.lng[i]],\n",
    "        radius= cov_m_T.합계1[i] / 4,\n",
    "        tooltip=i,\n",
    "        color='#3186cc',\n",
    "        fill=True,\n",
    "        fill_color='#3186cc'\n",
    "    ).add_to(map1)\n",
    "\n",
    "map1"
   ]
  },
  {
   "cell_type": "code",
   "execution_count": null,
   "metadata": {},
   "outputs": [],
   "source": []
  }
 ]
}