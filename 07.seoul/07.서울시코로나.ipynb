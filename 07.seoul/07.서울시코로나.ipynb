{
 "metadata": {
  "language_info": {
   "codemirror_mode": {
    "name": "ipython",
    "version": 3
   },
   "file_extension": ".py",
   "mimetype": "text/x-python",
   "name": "python",
   "nbconvert_exporter": "python",
   "pygments_lexer": "ipython3",
   "version": "3.8.3-final"
  },
  "orig_nbformat": 2,
  "kernelspec": {
   "name": "Python 3.8.3 64-bit ('base': conda)",
   "display_name": "Python 3.8.3 64-bit ('base': conda)",
   "metadata": {
    "interpreter": {
     "hash": "c2224539028b414c7f0940cdc86eeb3c7deaf138deef25179eca5056c4d821b9"
    }
   }
  }
 },
 "nbformat": 4,
 "nbformat_minor": 2,
 "cells": [
  {
   "cell_type": "code",
   "execution_count": 1,
   "metadata": {},
   "outputs": [],
   "source": [
    "import numpy as np \n",
    "import pandas as pd \n",
    "import seaborn as sns \n",
    "import matplotlib as mpl \n",
    "import matplotlib.pyplot as plt \n",
    "%matplotlib inline\n",
    "# 한글폰트 사용\n",
    "mpl.rc('font', family='Malgun Gothic')\n",
    "mpl.rc('axes', unicode_minus=False)"
   ]
  },
  {
   "cell_type": "code",
   "execution_count": 2,
   "metadata": {},
   "outputs": [
    {
     "output_type": "execute_result",
     "data": {
      "text/plain": [
       "     연번     확진일  환자번호  국적  환자정보    지역  여행력         접촉력  조치사항   상태 이동경로  \\\n",
       "0  8966  11.30.   NaN NaN   NaN   강북구  NaN    감염경로 조사중   NaN  NaN  NaN   \n",
       "1  8965  11.30.   NaN NaN   NaN   타시도  NaN   기타 확진자 접촉   NaN  NaN  NaN   \n",
       "2  8964  11.30.   NaN NaN   NaN   타시도  NaN    감염경로 조사중   NaN  NaN  NaN   \n",
       "3  8963  11.30.   NaN NaN   NaN  영등포구  NaN  서초구 사우나 관련   NaN  NaN  NaN   \n",
       "4  8962  11.30.   NaN NaN   NaN  영등포구  NaN    감염경로 조사중   NaN  NaN  NaN   \n",
       "\n",
       "                   등록일                  수정일 노출여부  \n",
       "0  2020-12-01 15:37:10  2020-12-01 15:37:10    Y  \n",
       "1  2020-12-01 15:37:10  2020-12-01 15:37:10    Y  \n",
       "2  2020-12-01 15:37:10  2020-12-01 15:37:10    Y  \n",
       "3  2020-12-01 15:37:10  2020-12-01 15:37:10    Y  \n",
       "4  2020-12-01 15:37:10  2020-12-01 15:37:10    Y  "
      ],
      "text/html": "<div>\n<style scoped>\n    .dataframe tbody tr th:only-of-type {\n        vertical-align: middle;\n    }\n\n    .dataframe tbody tr th {\n        vertical-align: top;\n    }\n\n    .dataframe thead th {\n        text-align: right;\n    }\n</style>\n<table border=\"1\" class=\"dataframe\">\n  <thead>\n    <tr style=\"text-align: right;\">\n      <th></th>\n      <th>연번</th>\n      <th>확진일</th>\n      <th>환자번호</th>\n      <th>국적</th>\n      <th>환자정보</th>\n      <th>지역</th>\n      <th>여행력</th>\n      <th>접촉력</th>\n      <th>조치사항</th>\n      <th>상태</th>\n      <th>이동경로</th>\n      <th>등록일</th>\n      <th>수정일</th>\n      <th>노출여부</th>\n    </tr>\n  </thead>\n  <tbody>\n    <tr>\n      <th>0</th>\n      <td>8966</td>\n      <td>11.30.</td>\n      <td>NaN</td>\n      <td>NaN</td>\n      <td>NaN</td>\n      <td>강북구</td>\n      <td>NaN</td>\n      <td>감염경로 조사중</td>\n      <td>NaN</td>\n      <td>NaN</td>\n      <td>NaN</td>\n      <td>2020-12-01 15:37:10</td>\n      <td>2020-12-01 15:37:10</td>\n      <td>Y</td>\n    </tr>\n    <tr>\n      <th>1</th>\n      <td>8965</td>\n      <td>11.30.</td>\n      <td>NaN</td>\n      <td>NaN</td>\n      <td>NaN</td>\n      <td>타시도</td>\n      <td>NaN</td>\n      <td>기타 확진자 접촉</td>\n      <td>NaN</td>\n      <td>NaN</td>\n      <td>NaN</td>\n      <td>2020-12-01 15:37:10</td>\n      <td>2020-12-01 15:37:10</td>\n      <td>Y</td>\n    </tr>\n    <tr>\n      <th>2</th>\n      <td>8964</td>\n      <td>11.30.</td>\n      <td>NaN</td>\n      <td>NaN</td>\n      <td>NaN</td>\n      <td>타시도</td>\n      <td>NaN</td>\n      <td>감염경로 조사중</td>\n      <td>NaN</td>\n      <td>NaN</td>\n      <td>NaN</td>\n      <td>2020-12-01 15:37:10</td>\n      <td>2020-12-01 15:37:10</td>\n      <td>Y</td>\n    </tr>\n    <tr>\n      <th>3</th>\n      <td>8963</td>\n      <td>11.30.</td>\n      <td>NaN</td>\n      <td>NaN</td>\n      <td>NaN</td>\n      <td>영등포구</td>\n      <td>NaN</td>\n      <td>서초구 사우나 관련</td>\n      <td>NaN</td>\n      <td>NaN</td>\n      <td>NaN</td>\n      <td>2020-12-01 15:37:10</td>\n      <td>2020-12-01 15:37:10</td>\n      <td>Y</td>\n    </tr>\n    <tr>\n      <th>4</th>\n      <td>8962</td>\n      <td>11.30.</td>\n      <td>NaN</td>\n      <td>NaN</td>\n      <td>NaN</td>\n      <td>영등포구</td>\n      <td>NaN</td>\n      <td>감염경로 조사중</td>\n      <td>NaN</td>\n      <td>NaN</td>\n      <td>NaN</td>\n      <td>2020-12-01 15:37:10</td>\n      <td>2020-12-01 15:37:10</td>\n      <td>Y</td>\n    </tr>\n  </tbody>\n</table>\n</div>"
     },
     "metadata": {},
     "execution_count": 2
    }
   ],
   "source": [
    "df = pd.read_csv('./data/서울시 코로나19 확진자 현황.csv ', sep=',', encoding='euc-kr')\n",
    "df.head()"
   ]
  },
  {
   "cell_type": "code",
   "execution_count": 3,
   "metadata": {},
   "outputs": [
    {
     "output_type": "execute_result",
     "data": {
      "text/plain": [
       "      연번    확진일   지역     여행력    접촉력  상태          이동경로 노출여부\n",
       "8961   5  1.31.  성북구     NaN  #5 접촉  퇴원  이동경로 공개기간 경과    Y\n",
       "8962   4  1.30.  마포구  중국 우한시  해외 접촉  퇴원  이동경로 공개기간 경과    Y\n",
       "8963   3  1.30.  종로구     NaN  #3 접촉  퇴원  이동경로 공개기간 경과    Y\n",
       "8964   2  1.30.  중랑구  중국 우한시  해외 접촉  퇴원  이동경로 공개기간 경과    Y\n",
       "8965   1  1.24.  강서구  중국 우한시  해외 접촉  퇴원  이동경로 공개기간 경과    Y"
      ],
      "text/html": "<div>\n<style scoped>\n    .dataframe tbody tr th:only-of-type {\n        vertical-align: middle;\n    }\n\n    .dataframe tbody tr th {\n        vertical-align: top;\n    }\n\n    .dataframe thead th {\n        text-align: right;\n    }\n</style>\n<table border=\"1\" class=\"dataframe\">\n  <thead>\n    <tr style=\"text-align: right;\">\n      <th></th>\n      <th>연번</th>\n      <th>확진일</th>\n      <th>지역</th>\n      <th>여행력</th>\n      <th>접촉력</th>\n      <th>상태</th>\n      <th>이동경로</th>\n      <th>노출여부</th>\n    </tr>\n  </thead>\n  <tbody>\n    <tr>\n      <th>8961</th>\n      <td>5</td>\n      <td>1.31.</td>\n      <td>성북구</td>\n      <td>NaN</td>\n      <td>#5 접촉</td>\n      <td>퇴원</td>\n      <td>이동경로 공개기간 경과</td>\n      <td>Y</td>\n    </tr>\n    <tr>\n      <th>8962</th>\n      <td>4</td>\n      <td>1.30.</td>\n      <td>마포구</td>\n      <td>중국 우한시</td>\n      <td>해외 접촉</td>\n      <td>퇴원</td>\n      <td>이동경로 공개기간 경과</td>\n      <td>Y</td>\n    </tr>\n    <tr>\n      <th>8963</th>\n      <td>3</td>\n      <td>1.30.</td>\n      <td>종로구</td>\n      <td>NaN</td>\n      <td>#3 접촉</td>\n      <td>퇴원</td>\n      <td>이동경로 공개기간 경과</td>\n      <td>Y</td>\n    </tr>\n    <tr>\n      <th>8964</th>\n      <td>2</td>\n      <td>1.30.</td>\n      <td>중랑구</td>\n      <td>중국 우한시</td>\n      <td>해외 접촉</td>\n      <td>퇴원</td>\n      <td>이동경로 공개기간 경과</td>\n      <td>Y</td>\n    </tr>\n    <tr>\n      <th>8965</th>\n      <td>1</td>\n      <td>1.24.</td>\n      <td>강서구</td>\n      <td>중국 우한시</td>\n      <td>해외 접촉</td>\n      <td>퇴원</td>\n      <td>이동경로 공개기간 경과</td>\n      <td>Y</td>\n    </tr>\n  </tbody>\n</table>\n</div>"
     },
     "metadata": {},
     "execution_count": 3
    }
   ],
   "source": [
    "soco = df[['연번','확진일','지역','여행력','접촉력','상태','이동경로','노출여부']]\n",
    "soco.tail()"
   ]
  },
  {
   "cell_type": "code",
   "execution_count": 4,
   "metadata": {},
   "outputs": [
    {
     "output_type": "execute_result",
     "data": {
      "text/plain": [
       "     연번     확진일    지역 여행력         접촉력 상태 이동경로 노출여부\n",
       "0  8966  11.30.   강북구        감염경로 조사중            Y\n",
       "1  8965  11.30.   타시도       기타 확진자 접촉            Y\n",
       "2  8964  11.30.   타시도        감염경로 조사중            Y\n",
       "3  8963  11.30.  영등포구      서초구 사우나 관련            Y\n",
       "4  8962  11.30.  영등포구        감염경로 조사중            Y"
      ],
      "text/html": "<div>\n<style scoped>\n    .dataframe tbody tr th:only-of-type {\n        vertical-align: middle;\n    }\n\n    .dataframe tbody tr th {\n        vertical-align: top;\n    }\n\n    .dataframe thead th {\n        text-align: right;\n    }\n</style>\n<table border=\"1\" class=\"dataframe\">\n  <thead>\n    <tr style=\"text-align: right;\">\n      <th></th>\n      <th>연번</th>\n      <th>확진일</th>\n      <th>지역</th>\n      <th>여행력</th>\n      <th>접촉력</th>\n      <th>상태</th>\n      <th>이동경로</th>\n      <th>노출여부</th>\n    </tr>\n  </thead>\n  <tbody>\n    <tr>\n      <th>0</th>\n      <td>8966</td>\n      <td>11.30.</td>\n      <td>강북구</td>\n      <td></td>\n      <td>감염경로 조사중</td>\n      <td></td>\n      <td></td>\n      <td>Y</td>\n    </tr>\n    <tr>\n      <th>1</th>\n      <td>8965</td>\n      <td>11.30.</td>\n      <td>타시도</td>\n      <td></td>\n      <td>기타 확진자 접촉</td>\n      <td></td>\n      <td></td>\n      <td>Y</td>\n    </tr>\n    <tr>\n      <th>2</th>\n      <td>8964</td>\n      <td>11.30.</td>\n      <td>타시도</td>\n      <td></td>\n      <td>감염경로 조사중</td>\n      <td></td>\n      <td></td>\n      <td>Y</td>\n    </tr>\n    <tr>\n      <th>3</th>\n      <td>8963</td>\n      <td>11.30.</td>\n      <td>영등포구</td>\n      <td></td>\n      <td>서초구 사우나 관련</td>\n      <td></td>\n      <td></td>\n      <td>Y</td>\n    </tr>\n    <tr>\n      <th>4</th>\n      <td>8962</td>\n      <td>11.30.</td>\n      <td>영등포구</td>\n      <td></td>\n      <td>감염경로 조사중</td>\n      <td></td>\n      <td></td>\n      <td>Y</td>\n    </tr>\n  </tbody>\n</table>\n</div>"
     },
     "metadata": {},
     "execution_count": 4
    }
   ],
   "source": [
    "# nan값 공백으로 변경\n",
    "soco = soco.fillna(' ')\n",
    "soco.head()"
   ]
  },
  {
   "cell_type": "code",
   "execution_count": 5,
   "metadata": {},
   "outputs": [],
   "source": [
    "# soco.to_excel('./results/서울시코로나확진자.xlsx')"
   ]
  },
  {
   "cell_type": "code",
   "execution_count": 6,
   "metadata": {},
   "outputs": [],
   "source": [
    "soco['확진일'] = pd.to_datetime(soco['확진일'].map(lambda s: '2020.'+ s))"
   ]
  },
  {
   "cell_type": "code",
   "execution_count": 7,
   "metadata": {},
   "outputs": [
    {
     "output_type": "execute_result",
     "data": {
      "text/plain": [
       "     연번        확진일    지역 여행력         접촉력 상태 이동경로 노출여부\n",
       "0  8966 2020-11-30   강북구        감염경로 조사중            Y\n",
       "1  8965 2020-11-30   타시도       기타 확진자 접촉            Y\n",
       "2  8964 2020-11-30   타시도        감염경로 조사중            Y\n",
       "3  8963 2020-11-30  영등포구      서초구 사우나 관련            Y\n",
       "4  8962 2020-11-30  영등포구        감염경로 조사중            Y"
      ],
      "text/html": "<div>\n<style scoped>\n    .dataframe tbody tr th:only-of-type {\n        vertical-align: middle;\n    }\n\n    .dataframe tbody tr th {\n        vertical-align: top;\n    }\n\n    .dataframe thead th {\n        text-align: right;\n    }\n</style>\n<table border=\"1\" class=\"dataframe\">\n  <thead>\n    <tr style=\"text-align: right;\">\n      <th></th>\n      <th>연번</th>\n      <th>확진일</th>\n      <th>지역</th>\n      <th>여행력</th>\n      <th>접촉력</th>\n      <th>상태</th>\n      <th>이동경로</th>\n      <th>노출여부</th>\n    </tr>\n  </thead>\n  <tbody>\n    <tr>\n      <th>0</th>\n      <td>8966</td>\n      <td>2020-11-30</td>\n      <td>강북구</td>\n      <td></td>\n      <td>감염경로 조사중</td>\n      <td></td>\n      <td></td>\n      <td>Y</td>\n    </tr>\n    <tr>\n      <th>1</th>\n      <td>8965</td>\n      <td>2020-11-30</td>\n      <td>타시도</td>\n      <td></td>\n      <td>기타 확진자 접촉</td>\n      <td></td>\n      <td></td>\n      <td>Y</td>\n    </tr>\n    <tr>\n      <th>2</th>\n      <td>8964</td>\n      <td>2020-11-30</td>\n      <td>타시도</td>\n      <td></td>\n      <td>감염경로 조사중</td>\n      <td></td>\n      <td></td>\n      <td>Y</td>\n    </tr>\n    <tr>\n      <th>3</th>\n      <td>8963</td>\n      <td>2020-11-30</td>\n      <td>영등포구</td>\n      <td></td>\n      <td>서초구 사우나 관련</td>\n      <td></td>\n      <td></td>\n      <td>Y</td>\n    </tr>\n    <tr>\n      <th>4</th>\n      <td>8962</td>\n      <td>2020-11-30</td>\n      <td>영등포구</td>\n      <td></td>\n      <td>감염경로 조사중</td>\n      <td></td>\n      <td></td>\n      <td>Y</td>\n    </tr>\n  </tbody>\n</table>\n</div>"
     },
     "metadata": {},
     "execution_count": 7
    }
   ],
   "source": [
    "soco.head()"
   ]
  },
  {
   "cell_type": "code",
   "execution_count": 9,
   "metadata": {},
   "outputs": [
    {
     "output_type": "execute_result",
     "data": {
      "text/plain": [
       "            연번                                                         \\\n",
       "확진일 2020-01-24 2020-01-30 2020-01-31 2020-02-02 2020-02-05 2020-02-06   \n",
       "지역                                                                      \n",
       "강남구        0.0        0.0        0.0        0.0        0.0        0.0   \n",
       "강동구        0.0        0.0        0.0        0.0        0.0        0.0   \n",
       "강북구        0.0        0.0        0.0        0.0        0.0        0.0   \n",
       "강서구        1.0        0.0        0.0        0.0        0.0        0.0   \n",
       "경기도        0.0        0.0        0.0        0.0        0.0        0.0   \n",
       "\n",
       "                                                 ...                        \\\n",
       "확진일 2020-02-07 2020-02-16 2020-02-19 2020-02-20  ... 2020-11-21 2020-11-22   \n",
       "지역                                               ...                         \n",
       "강남구        0.0        0.0        0.0        1.0  ...        9.0        5.0   \n",
       "강동구        0.0        0.0        0.0        0.0  ...        6.0        4.0   \n",
       "강북구        0.0        0.0        0.0        0.0  ...        2.0        1.0   \n",
       "강서구        0.0        0.0        0.0        0.0  ...        2.0        4.0   \n",
       "경기도        0.0        0.0        0.0        0.0  ...        0.0        0.0   \n",
       "\n",
       "                                                                       \\\n",
       "확진일 2020-11-23 2020-11-24 2020-11-25 2020-11-26 2020-11-27 2020-11-28   \n",
       "지역                                                                      \n",
       "강남구       17.0       14.0       11.0        5.0        8.0        6.0   \n",
       "강동구        5.0        4.0        5.0        2.0        3.0        5.0   \n",
       "강북구        0.0        4.0        5.0        1.0        1.0        2.0   \n",
       "강서구        6.0        9.0       58.0       56.0       23.0       15.0   \n",
       "경기도        0.0        0.0        0.0        0.0        1.0        0.0   \n",
       "\n",
       "                           \n",
       "확진일 2020-11-29 2020-11-30  \n",
       "지역                         \n",
       "강남구       12.0       12.0  \n",
       "강동구        2.0        5.0  \n",
       "강북구        8.0        4.0  \n",
       "강서구       15.0       15.0  \n",
       "경기도        0.0        0.0  \n",
       "\n",
       "[5 rows x 283 columns]"
      ],
      "text/html": "<div>\n<style scoped>\n    .dataframe tbody tr th:only-of-type {\n        vertical-align: middle;\n    }\n\n    .dataframe tbody tr th {\n        vertical-align: top;\n    }\n\n    .dataframe thead tr th {\n        text-align: left;\n    }\n\n    .dataframe thead tr:last-of-type th {\n        text-align: right;\n    }\n</style>\n<table border=\"1\" class=\"dataframe\">\n  <thead>\n    <tr>\n      <th></th>\n      <th colspan=\"21\" halign=\"left\">연번</th>\n    </tr>\n    <tr>\n      <th>확진일</th>\n      <th>2020-01-24</th>\n      <th>2020-01-30</th>\n      <th>2020-01-31</th>\n      <th>2020-02-02</th>\n      <th>2020-02-05</th>\n      <th>2020-02-06</th>\n      <th>2020-02-07</th>\n      <th>2020-02-16</th>\n      <th>2020-02-19</th>\n      <th>2020-02-20</th>\n      <th>...</th>\n      <th>2020-11-21</th>\n      <th>2020-11-22</th>\n      <th>2020-11-23</th>\n      <th>2020-11-24</th>\n      <th>2020-11-25</th>\n      <th>2020-11-26</th>\n      <th>2020-11-27</th>\n      <th>2020-11-28</th>\n      <th>2020-11-29</th>\n      <th>2020-11-30</th>\n    </tr>\n    <tr>\n      <th>지역</th>\n      <th></th>\n      <th></th>\n      <th></th>\n      <th></th>\n      <th></th>\n      <th></th>\n      <th></th>\n      <th></th>\n      <th></th>\n      <th></th>\n      <th></th>\n      <th></th>\n      <th></th>\n      <th></th>\n      <th></th>\n      <th></th>\n      <th></th>\n      <th></th>\n      <th></th>\n      <th></th>\n      <th></th>\n    </tr>\n  </thead>\n  <tbody>\n    <tr>\n      <th>강남구</th>\n      <td>0.0</td>\n      <td>0.0</td>\n      <td>0.0</td>\n      <td>0.0</td>\n      <td>0.0</td>\n      <td>0.0</td>\n      <td>0.0</td>\n      <td>0.0</td>\n      <td>0.0</td>\n      <td>1.0</td>\n      <td>...</td>\n      <td>9.0</td>\n      <td>5.0</td>\n      <td>17.0</td>\n      <td>14.0</td>\n      <td>11.0</td>\n      <td>5.0</td>\n      <td>8.0</td>\n      <td>6.0</td>\n      <td>12.0</td>\n      <td>12.0</td>\n    </tr>\n    <tr>\n      <th>강동구</th>\n      <td>0.0</td>\n      <td>0.0</td>\n      <td>0.0</td>\n      <td>0.0</td>\n      <td>0.0</td>\n      <td>0.0</td>\n      <td>0.0</td>\n      <td>0.0</td>\n      <td>0.0</td>\n      <td>0.0</td>\n      <td>...</td>\n      <td>6.0</td>\n      <td>4.0</td>\n      <td>5.0</td>\n      <td>4.0</td>\n      <td>5.0</td>\n      <td>2.0</td>\n      <td>3.0</td>\n      <td>5.0</td>\n      <td>2.0</td>\n      <td>5.0</td>\n    </tr>\n    <tr>\n      <th>강북구</th>\n      <td>0.0</td>\n      <td>0.0</td>\n      <td>0.0</td>\n      <td>0.0</td>\n      <td>0.0</td>\n      <td>0.0</td>\n      <td>0.0</td>\n      <td>0.0</td>\n      <td>0.0</td>\n      <td>0.0</td>\n      <td>...</td>\n      <td>2.0</td>\n      <td>1.0</td>\n      <td>0.0</td>\n      <td>4.0</td>\n      <td>5.0</td>\n      <td>1.0</td>\n      <td>1.0</td>\n      <td>2.0</td>\n      <td>8.0</td>\n      <td>4.0</td>\n    </tr>\n    <tr>\n      <th>강서구</th>\n      <td>1.0</td>\n      <td>0.0</td>\n      <td>0.0</td>\n      <td>0.0</td>\n      <td>0.0</td>\n      <td>0.0</td>\n      <td>0.0</td>\n      <td>0.0</td>\n      <td>0.0</td>\n      <td>0.0</td>\n      <td>...</td>\n      <td>2.0</td>\n      <td>4.0</td>\n      <td>6.0</td>\n      <td>9.0</td>\n      <td>58.0</td>\n      <td>56.0</td>\n      <td>23.0</td>\n      <td>15.0</td>\n      <td>15.0</td>\n      <td>15.0</td>\n    </tr>\n    <tr>\n      <th>경기도</th>\n      <td>0.0</td>\n      <td>0.0</td>\n      <td>0.0</td>\n      <td>0.0</td>\n      <td>0.0</td>\n      <td>0.0</td>\n      <td>0.0</td>\n      <td>0.0</td>\n      <td>0.0</td>\n      <td>0.0</td>\n      <td>...</td>\n      <td>0.0</td>\n      <td>0.0</td>\n      <td>0.0</td>\n      <td>0.0</td>\n      <td>0.0</td>\n      <td>0.0</td>\n      <td>1.0</td>\n      <td>0.0</td>\n      <td>0.0</td>\n      <td>0.0</td>\n    </tr>\n  </tbody>\n</table>\n<p>5 rows × 283 columns</p>\n</div>"
     },
     "metadata": {},
     "execution_count": 9
    }
   ],
   "source": [
    "soco_pv = pd.pivot_table(soco, index=['지역'], columns=['확진일'], values=['연번'], aggfunc='count')\n",
    "soco_pv = soco_pv.fillna(0)\n",
    "soco_pv.head()"
   ]
  },
  {
   "cell_type": "markdown",
   "metadata": {},
   "source": [
    "#### 데이터 프레임에서 문자열 타입을 변경\n",
    "- 데이터 프레임에서 데이터 타입 바꾸는 두가지 방법\n",
    "- 1. astype()을 사용(ex. DataFrame.astype(int또는 float)) : 모든 열의 데이터 타입을 변경\n",
    "- 2. astype({'컬럼명': int 또는 float})  : 특정 컬럼이 데이터 타입을 변경"
   ]
  },
  {
   "cell_type": "code",
   "execution_count": 10,
   "metadata": {},
   "outputs": [
    {
     "output_type": "execute_result",
     "data": {
      "text/plain": [
       "            연번                                                         \\\n",
       "확진일 2020-01-24 2020-01-30 2020-01-31 2020-02-02 2020-02-05 2020-02-06   \n",
       "지역                                                                      \n",
       "강남구          0          0          0          0          0          0   \n",
       "강동구          0          0          0          0          0          0   \n",
       "강북구          0          0          0          0          0          0   \n",
       "강서구          1          0          0          0          0          0   \n",
       "경기도          0          0          0          0          0          0   \n",
       "\n",
       "                                                 ...                        \\\n",
       "확진일 2020-02-07 2020-02-16 2020-02-19 2020-02-20  ... 2020-11-21 2020-11-22   \n",
       "지역                                               ...                         \n",
       "강남구          0          0          0          1  ...          9          5   \n",
       "강동구          0          0          0          0  ...          6          4   \n",
       "강북구          0          0          0          0  ...          2          1   \n",
       "강서구          0          0          0          0  ...          2          4   \n",
       "경기도          0          0          0          0  ...          0          0   \n",
       "\n",
       "                                                                       \\\n",
       "확진일 2020-11-23 2020-11-24 2020-11-25 2020-11-26 2020-11-27 2020-11-28   \n",
       "지역                                                                      \n",
       "강남구         17         14         11          5          8          6   \n",
       "강동구          5          4          5          2          3          5   \n",
       "강북구          0          4          5          1          1          2   \n",
       "강서구          6          9         58         56         23         15   \n",
       "경기도          0          0          0          0          1          0   \n",
       "\n",
       "                           \n",
       "확진일 2020-11-29 2020-11-30  \n",
       "지역                         \n",
       "강남구         12         12  \n",
       "강동구          2          5  \n",
       "강북구          8          4  \n",
       "강서구         15         15  \n",
       "경기도          0          0  \n",
       "\n",
       "[5 rows x 283 columns]"
      ],
      "text/html": "<div>\n<style scoped>\n    .dataframe tbody tr th:only-of-type {\n        vertical-align: middle;\n    }\n\n    .dataframe tbody tr th {\n        vertical-align: top;\n    }\n\n    .dataframe thead tr th {\n        text-align: left;\n    }\n\n    .dataframe thead tr:last-of-type th {\n        text-align: right;\n    }\n</style>\n<table border=\"1\" class=\"dataframe\">\n  <thead>\n    <tr>\n      <th></th>\n      <th colspan=\"21\" halign=\"left\">연번</th>\n    </tr>\n    <tr>\n      <th>확진일</th>\n      <th>2020-01-24</th>\n      <th>2020-01-30</th>\n      <th>2020-01-31</th>\n      <th>2020-02-02</th>\n      <th>2020-02-05</th>\n      <th>2020-02-06</th>\n      <th>2020-02-07</th>\n      <th>2020-02-16</th>\n      <th>2020-02-19</th>\n      <th>2020-02-20</th>\n      <th>...</th>\n      <th>2020-11-21</th>\n      <th>2020-11-22</th>\n      <th>2020-11-23</th>\n      <th>2020-11-24</th>\n      <th>2020-11-25</th>\n      <th>2020-11-26</th>\n      <th>2020-11-27</th>\n      <th>2020-11-28</th>\n      <th>2020-11-29</th>\n      <th>2020-11-30</th>\n    </tr>\n    <tr>\n      <th>지역</th>\n      <th></th>\n      <th></th>\n      <th></th>\n      <th></th>\n      <th></th>\n      <th></th>\n      <th></th>\n      <th></th>\n      <th></th>\n      <th></th>\n      <th></th>\n      <th></th>\n      <th></th>\n      <th></th>\n      <th></th>\n      <th></th>\n      <th></th>\n      <th></th>\n      <th></th>\n      <th></th>\n      <th></th>\n    </tr>\n  </thead>\n  <tbody>\n    <tr>\n      <th>강남구</th>\n      <td>0</td>\n      <td>0</td>\n      <td>0</td>\n      <td>0</td>\n      <td>0</td>\n      <td>0</td>\n      <td>0</td>\n      <td>0</td>\n      <td>0</td>\n      <td>1</td>\n      <td>...</td>\n      <td>9</td>\n      <td>5</td>\n      <td>17</td>\n      <td>14</td>\n      <td>11</td>\n      <td>5</td>\n      <td>8</td>\n      <td>6</td>\n      <td>12</td>\n      <td>12</td>\n    </tr>\n    <tr>\n      <th>강동구</th>\n      <td>0</td>\n      <td>0</td>\n      <td>0</td>\n      <td>0</td>\n      <td>0</td>\n      <td>0</td>\n      <td>0</td>\n      <td>0</td>\n      <td>0</td>\n      <td>0</td>\n      <td>...</td>\n      <td>6</td>\n      <td>4</td>\n      <td>5</td>\n      <td>4</td>\n      <td>5</td>\n      <td>2</td>\n      <td>3</td>\n      <td>5</td>\n      <td>2</td>\n      <td>5</td>\n    </tr>\n    <tr>\n      <th>강북구</th>\n      <td>0</td>\n      <td>0</td>\n      <td>0</td>\n      <td>0</td>\n      <td>0</td>\n      <td>0</td>\n      <td>0</td>\n      <td>0</td>\n      <td>0</td>\n      <td>0</td>\n      <td>...</td>\n      <td>2</td>\n      <td>1</td>\n      <td>0</td>\n      <td>4</td>\n      <td>5</td>\n      <td>1</td>\n      <td>1</td>\n      <td>2</td>\n      <td>8</td>\n      <td>4</td>\n    </tr>\n    <tr>\n      <th>강서구</th>\n      <td>1</td>\n      <td>0</td>\n      <td>0</td>\n      <td>0</td>\n      <td>0</td>\n      <td>0</td>\n      <td>0</td>\n      <td>0</td>\n      <td>0</td>\n      <td>0</td>\n      <td>...</td>\n      <td>2</td>\n      <td>4</td>\n      <td>6</td>\n      <td>9</td>\n      <td>58</td>\n      <td>56</td>\n      <td>23</td>\n      <td>15</td>\n      <td>15</td>\n      <td>15</td>\n    </tr>\n    <tr>\n      <th>경기도</th>\n      <td>0</td>\n      <td>0</td>\n      <td>0</td>\n      <td>0</td>\n      <td>0</td>\n      <td>0</td>\n      <td>0</td>\n      <td>0</td>\n      <td>0</td>\n      <td>0</td>\n      <td>...</td>\n      <td>0</td>\n      <td>0</td>\n      <td>0</td>\n      <td>0</td>\n      <td>0</td>\n      <td>0</td>\n      <td>1</td>\n      <td>0</td>\n      <td>0</td>\n      <td>0</td>\n    </tr>\n  </tbody>\n</table>\n<p>5 rows × 283 columns</p>\n</div>"
     },
     "metadata": {},
     "execution_count": 10
    }
   ],
   "source": [
    "# \n",
    "soco_pv = soco_pv.astype('int')\n",
    "soco_pv.head()"
   ]
  },
  {
   "cell_type": "code",
   "execution_count": null,
   "metadata": {},
   "outputs": [],
   "source": []
  }
 ]
}