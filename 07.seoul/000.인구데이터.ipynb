{
 "metadata": {
  "language_info": {
   "codemirror_mode": {
    "name": "ipython",
    "version": 3
   },
   "file_extension": ".py",
   "mimetype": "text/x-python",
   "name": "python",
   "nbconvert_exporter": "python",
   "pygments_lexer": "ipython3",
   "version": "3.8.3-final"
  },
  "orig_nbformat": 2,
  "kernelspec": {
   "name": "Python 3.8.3 64-bit ('base': conda)",
   "display_name": "Python 3.8.3 64-bit ('base': conda)",
   "metadata": {
    "interpreter": {
     "hash": "c2224539028b414c7f0940cdc86eeb3c7deaf138deef25179eca5056c4d821b9"
    }
   }
  }
 },
 "nbformat": 4,
 "nbformat_minor": 2,
 "cells": [
  {
   "cell_type": "code",
   "execution_count": 2,
   "metadata": {},
   "outputs": [],
   "source": [
    "import numpy as np \n",
    "import pandas as pd \n",
    "import seaborn as sns \n",
    "import matplotlib as mpl \n",
    "import matplotlib.pyplot as plt \n",
    "%matplotlib inline\n",
    "# 한글폰트 사용\n",
    "mpl.rc('font', family='Malgun Gothic')\n",
    "mpl.rc('axes', unicode_minus=False)"
   ]
  },
  {
   "cell_type": "code",
   "execution_count": 3,
   "metadata": {},
   "outputs": [
    {
     "output_type": "execute_result",
     "data": {
      "text/plain": [
       "         기간  자치구         세대          계         남자         여자        계.1  \\\n",
       "0  2020.3/4   합계  4,405,833  9,953,009  4,840,912  5,112,097  9,699,232   \n",
       "1  2020.3/4  종로구     74,861    159,842     77,391     82,451    149,952   \n",
       "2  2020.3/4   중구     63,594    135,321     66,193     69,128    125,800   \n",
       "3  2020.3/4  용산구    112,451    244,953    119,074    125,879    229,786   \n",
       "4  2020.3/4  성동구    136,096    302,695    147,582    155,113    295,591   \n",
       "\n",
       "        남자.1       여자.1      계.2     남자.2     여자.2  세대당인구   65세이상고령자  \n",
       "0  4,719,170  4,980,062  253,777  121,742  132,035   2.20  1,552,356  \n",
       "1     73,024     76,928    9,890    4,367    5,523   2.00     28,396  \n",
       "2     61,526     64,274    9,521    4,667    4,854   1.98     24,265  \n",
       "3    110,604    119,182   15,167    8,470    6,697   2.04     39,995  \n",
       "4    144,444    151,147    7,104    3,138    3,966   2.17     45,372  "
      ],
      "text/html": "<div>\n<style scoped>\n    .dataframe tbody tr th:only-of-type {\n        vertical-align: middle;\n    }\n\n    .dataframe tbody tr th {\n        vertical-align: top;\n    }\n\n    .dataframe thead th {\n        text-align: right;\n    }\n</style>\n<table border=\"1\" class=\"dataframe\">\n  <thead>\n    <tr style=\"text-align: right;\">\n      <th></th>\n      <th>기간</th>\n      <th>자치구</th>\n      <th>세대</th>\n      <th>계</th>\n      <th>남자</th>\n      <th>여자</th>\n      <th>계.1</th>\n      <th>남자.1</th>\n      <th>여자.1</th>\n      <th>계.2</th>\n      <th>남자.2</th>\n      <th>여자.2</th>\n      <th>세대당인구</th>\n      <th>65세이상고령자</th>\n    </tr>\n  </thead>\n  <tbody>\n    <tr>\n      <th>0</th>\n      <td>2020.3/4</td>\n      <td>합계</td>\n      <td>4,405,833</td>\n      <td>9,953,009</td>\n      <td>4,840,912</td>\n      <td>5,112,097</td>\n      <td>9,699,232</td>\n      <td>4,719,170</td>\n      <td>4,980,062</td>\n      <td>253,777</td>\n      <td>121,742</td>\n      <td>132,035</td>\n      <td>2.20</td>\n      <td>1,552,356</td>\n    </tr>\n    <tr>\n      <th>1</th>\n      <td>2020.3/4</td>\n      <td>종로구</td>\n      <td>74,861</td>\n      <td>159,842</td>\n      <td>77,391</td>\n      <td>82,451</td>\n      <td>149,952</td>\n      <td>73,024</td>\n      <td>76,928</td>\n      <td>9,890</td>\n      <td>4,367</td>\n      <td>5,523</td>\n      <td>2.00</td>\n      <td>28,396</td>\n    </tr>\n    <tr>\n      <th>2</th>\n      <td>2020.3/4</td>\n      <td>중구</td>\n      <td>63,594</td>\n      <td>135,321</td>\n      <td>66,193</td>\n      <td>69,128</td>\n      <td>125,800</td>\n      <td>61,526</td>\n      <td>64,274</td>\n      <td>9,521</td>\n      <td>4,667</td>\n      <td>4,854</td>\n      <td>1.98</td>\n      <td>24,265</td>\n    </tr>\n    <tr>\n      <th>3</th>\n      <td>2020.3/4</td>\n      <td>용산구</td>\n      <td>112,451</td>\n      <td>244,953</td>\n      <td>119,074</td>\n      <td>125,879</td>\n      <td>229,786</td>\n      <td>110,604</td>\n      <td>119,182</td>\n      <td>15,167</td>\n      <td>8,470</td>\n      <td>6,697</td>\n      <td>2.04</td>\n      <td>39,995</td>\n    </tr>\n    <tr>\n      <th>4</th>\n      <td>2020.3/4</td>\n      <td>성동구</td>\n      <td>136,096</td>\n      <td>302,695</td>\n      <td>147,582</td>\n      <td>155,113</td>\n      <td>295,591</td>\n      <td>144,444</td>\n      <td>151,147</td>\n      <td>7,104</td>\n      <td>3,138</td>\n      <td>3,966</td>\n      <td>2.17</td>\n      <td>45,372</td>\n    </tr>\n  </tbody>\n</table>\n</div>"
     },
     "metadata": {},
     "execution_count": 3
    }
   ],
   "source": [
    "pop = pd.read_csv('./cctv/서울시 인구.tsv', sep='\\t', header=2)\n",
    "pop.head()"
   ]
  },
  {
   "cell_type": "code",
   "execution_count": 4,
   "metadata": {},
   "outputs": [
    {
     "output_type": "execute_result",
     "data": {
      "text/plain": [
       "   자치구          계        계.1      계.2   65세이상고령자\n",
       "0   합계  9,953,009  9,699,232  253,777  1,552,356\n",
       "1  종로구    159,842    149,952    9,890     28,396\n",
       "2   중구    135,321    125,800    9,521     24,265\n",
       "3  용산구    244,953    229,786   15,167     39,995\n",
       "4  성동구    302,695    295,591    7,104     45,372"
      ],
      "text/html": "<div>\n<style scoped>\n    .dataframe tbody tr th:only-of-type {\n        vertical-align: middle;\n    }\n\n    .dataframe tbody tr th {\n        vertical-align: top;\n    }\n\n    .dataframe thead th {\n        text-align: right;\n    }\n</style>\n<table border=\"1\" class=\"dataframe\">\n  <thead>\n    <tr style=\"text-align: right;\">\n      <th></th>\n      <th>자치구</th>\n      <th>계</th>\n      <th>계.1</th>\n      <th>계.2</th>\n      <th>65세이상고령자</th>\n    </tr>\n  </thead>\n  <tbody>\n    <tr>\n      <th>0</th>\n      <td>합계</td>\n      <td>9,953,009</td>\n      <td>9,699,232</td>\n      <td>253,777</td>\n      <td>1,552,356</td>\n    </tr>\n    <tr>\n      <th>1</th>\n      <td>종로구</td>\n      <td>159,842</td>\n      <td>149,952</td>\n      <td>9,890</td>\n      <td>28,396</td>\n    </tr>\n    <tr>\n      <th>2</th>\n      <td>중구</td>\n      <td>135,321</td>\n      <td>125,800</td>\n      <td>9,521</td>\n      <td>24,265</td>\n    </tr>\n    <tr>\n      <th>3</th>\n      <td>용산구</td>\n      <td>244,953</td>\n      <td>229,786</td>\n      <td>15,167</td>\n      <td>39,995</td>\n    </tr>\n    <tr>\n      <th>4</th>\n      <td>성동구</td>\n      <td>302,695</td>\n      <td>295,591</td>\n      <td>7,104</td>\n      <td>45,372</td>\n    </tr>\n  </tbody>\n</table>\n</div>"
     },
     "metadata": {},
     "execution_count": 4
    }
   ],
   "source": [
    "del pop['기간']\n",
    "del pop['세대']\n",
    "del pop['남자']\n",
    "del pop['남자.1']\n",
    "del pop['남자.2']\n",
    "del pop['여자']\n",
    "del pop['여자.1']\n",
    "del pop['여자.2']\n",
    "del pop['세대당인구']\n",
    "pop.head()"
   ]
  },
  {
   "cell_type": "code",
   "execution_count": 5,
   "metadata": {},
   "outputs": [
    {
     "output_type": "execute_result",
     "data": {
      "text/plain": [
       "    구별        인구수        내국인      외국인        고령자\n",
       "0   합계  9,953,009  9,699,232  253,777  1,552,356\n",
       "1  종로구    159,842    149,952    9,890     28,396\n",
       "2   중구    135,321    125,800    9,521     24,265\n",
       "3  용산구    244,953    229,786   15,167     39,995\n",
       "4  성동구    302,695    295,591    7,104     45,372"
      ],
      "text/html": "<div>\n<style scoped>\n    .dataframe tbody tr th:only-of-type {\n        vertical-align: middle;\n    }\n\n    .dataframe tbody tr th {\n        vertical-align: top;\n    }\n\n    .dataframe thead th {\n        text-align: right;\n    }\n</style>\n<table border=\"1\" class=\"dataframe\">\n  <thead>\n    <tr style=\"text-align: right;\">\n      <th></th>\n      <th>구별</th>\n      <th>인구수</th>\n      <th>내국인</th>\n      <th>외국인</th>\n      <th>고령자</th>\n    </tr>\n  </thead>\n  <tbody>\n    <tr>\n      <th>0</th>\n      <td>합계</td>\n      <td>9,953,009</td>\n      <td>9,699,232</td>\n      <td>253,777</td>\n      <td>1,552,356</td>\n    </tr>\n    <tr>\n      <th>1</th>\n      <td>종로구</td>\n      <td>159,842</td>\n      <td>149,952</td>\n      <td>9,890</td>\n      <td>28,396</td>\n    </tr>\n    <tr>\n      <th>2</th>\n      <td>중구</td>\n      <td>135,321</td>\n      <td>125,800</td>\n      <td>9,521</td>\n      <td>24,265</td>\n    </tr>\n    <tr>\n      <th>3</th>\n      <td>용산구</td>\n      <td>244,953</td>\n      <td>229,786</td>\n      <td>15,167</td>\n      <td>39,995</td>\n    </tr>\n    <tr>\n      <th>4</th>\n      <td>성동구</td>\n      <td>302,695</td>\n      <td>295,591</td>\n      <td>7,104</td>\n      <td>45,372</td>\n    </tr>\n  </tbody>\n</table>\n</div>"
     },
     "metadata": {},
     "execution_count": 5
    }
   ],
   "source": [
    "pop.rename({'자치구': '구별', '계': '인구수', '계.1': '내국인', '계.2': '외국인',\n",
    "            '65세이상고령자': '고령자'}, inplace=True, axis=1)\n",
    "pop.head()"
   ]
  },
  {
   "cell_type": "code",
   "execution_count": 6,
   "metadata": {},
   "outputs": [
    {
     "output_type": "execute_result",
     "data": {
      "text/plain": [
       "    구별      인구수      내국인     외국인      고령자\n",
       "0   합계  9953009  9699232  253777  1552356\n",
       "1  종로구   159842   149952    9890    28396\n",
       "2   중구   135321   125800    9521    24265\n",
       "3  용산구   244953   229786   15167    39995\n",
       "4  성동구   302695   295591    7104    45372"
      ],
      "text/html": "<div>\n<style scoped>\n    .dataframe tbody tr th:only-of-type {\n        vertical-align: middle;\n    }\n\n    .dataframe tbody tr th {\n        vertical-align: top;\n    }\n\n    .dataframe thead th {\n        text-align: right;\n    }\n</style>\n<table border=\"1\" class=\"dataframe\">\n  <thead>\n    <tr style=\"text-align: right;\">\n      <th></th>\n      <th>구별</th>\n      <th>인구수</th>\n      <th>내국인</th>\n      <th>외국인</th>\n      <th>고령자</th>\n    </tr>\n  </thead>\n  <tbody>\n    <tr>\n      <th>0</th>\n      <td>합계</td>\n      <td>9953009</td>\n      <td>9699232</td>\n      <td>253777</td>\n      <td>1552356</td>\n    </tr>\n    <tr>\n      <th>1</th>\n      <td>종로구</td>\n      <td>159842</td>\n      <td>149952</td>\n      <td>9890</td>\n      <td>28396</td>\n    </tr>\n    <tr>\n      <th>2</th>\n      <td>중구</td>\n      <td>135321</td>\n      <td>125800</td>\n      <td>9521</td>\n      <td>24265</td>\n    </tr>\n    <tr>\n      <th>3</th>\n      <td>용산구</td>\n      <td>244953</td>\n      <td>229786</td>\n      <td>15167</td>\n      <td>39995</td>\n    </tr>\n    <tr>\n      <th>4</th>\n      <td>성동구</td>\n      <td>302695</td>\n      <td>295591</td>\n      <td>7104</td>\n      <td>45372</td>\n    </tr>\n  </tbody>\n</table>\n</div>"
     },
     "metadata": {},
     "execution_count": 6
    }
   ],
   "source": [
    "pop['인구수'] = pop['인구수'].map(lambda s: int(s.replace(',','')))\n",
    "pop['내국인'] = pop['내국인'].map(lambda s: int(s.replace(',','')))\n",
    "pop['외국인'] = pop['외국인'].map(lambda s: int(s.replace(',','')))\n",
    "pop['고령자'] = pop['고령자'].map(lambda s: int(s.replace(',','')))\n",
    "pop.head()"
   ]
  },
  {
   "cell_type": "code",
   "execution_count": null,
   "metadata": {},
   "outputs": [],
   "source": []
  }
 ]
}