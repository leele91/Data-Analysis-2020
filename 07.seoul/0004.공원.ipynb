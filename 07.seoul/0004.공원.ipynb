{
 "metadata": {
  "language_info": {
   "codemirror_mode": {
    "name": "ipython",
    "version": 3
   },
   "file_extension": ".py",
   "mimetype": "text/x-python",
   "name": "python",
   "nbconvert_exporter": "python",
   "pygments_lexer": "ipython3",
   "version": "3.8.3-final"
  },
  "orig_nbformat": 2,
  "kernelspec": {
   "name": "Python 3.8.3 64-bit ('base': conda)",
   "display_name": "Python 3.8.3 64-bit ('base': conda)",
   "metadata": {
    "interpreter": {
     "hash": "c2224539028b414c7f0940cdc86eeb3c7deaf138deef25179eca5056c4d821b9"
    }
   }
  }
 },
 "nbformat": 4,
 "nbformat_minor": 2,
 "cells": [
  {
   "cell_type": "code",
   "execution_count": 1,
   "metadata": {},
   "outputs": [],
   "source": [
    "import numpy as np\n",
    "import pandas as pd\n",
    "import seaborn as sns\n",
    "import matplotlib as mpl\n",
    "import matplotlib.pyplot as plt\n",
    "%matplotlib inline\n",
    "\n",
    "## 한글 폰트 사용\n",
    "# 폰트 설정\n",
    "mpl.rc('font', family='Malgun Gothic') #family에 사용할 폰트를 넣음\n",
    "# 유니코드에서  음수 부호설정\n",
    "mpl.rc('axes', unicode_minus=False)"
   ]
  },
  {
   "cell_type": "markdown",
   "metadata": {},
   "source": [
    "## 서울시 인구 현황"
   ]
  },
  {
   "cell_type": "code",
   "execution_count": 2,
   "metadata": {},
   "outputs": [
    {
     "output_type": "execute_result",
     "data": {
      "text/plain": [
       "         기간  자치구         세대          계         남자         여자        계.1  \\\n",
       "0  2020.3/4   합계  4,405,833  9,953,009  4,840,912  5,112,097  9,699,232   \n",
       "1  2020.3/4  종로구     74,861    159,842     77,391     82,451    149,952   \n",
       "2  2020.3/4   중구     63,594    135,321     66,193     69,128    125,800   \n",
       "3  2020.3/4  용산구    112,451    244,953    119,074    125,879    229,786   \n",
       "4  2020.3/4  성동구    136,096    302,695    147,582    155,113    295,591   \n",
       "\n",
       "        남자.1       여자.1      계.2     남자.2     여자.2  세대당인구   65세이상고령자  \n",
       "0  4,719,170  4,980,062  253,777  121,742  132,035   2.20  1,552,356  \n",
       "1     73,024     76,928    9,890    4,367    5,523   2.00     28,396  \n",
       "2     61,526     64,274    9,521    4,667    4,854   1.98     24,265  \n",
       "3    110,604    119,182   15,167    8,470    6,697   2.04     39,995  \n",
       "4    144,444    151,147    7,104    3,138    3,966   2.17     45,372  "
      ],
      "text/html": "<div>\n<style scoped>\n    .dataframe tbody tr th:only-of-type {\n        vertical-align: middle;\n    }\n\n    .dataframe tbody tr th {\n        vertical-align: top;\n    }\n\n    .dataframe thead th {\n        text-align: right;\n    }\n</style>\n<table border=\"1\" class=\"dataframe\">\n  <thead>\n    <tr style=\"text-align: right;\">\n      <th></th>\n      <th>기간</th>\n      <th>자치구</th>\n      <th>세대</th>\n      <th>계</th>\n      <th>남자</th>\n      <th>여자</th>\n      <th>계.1</th>\n      <th>남자.1</th>\n      <th>여자.1</th>\n      <th>계.2</th>\n      <th>남자.2</th>\n      <th>여자.2</th>\n      <th>세대당인구</th>\n      <th>65세이상고령자</th>\n    </tr>\n  </thead>\n  <tbody>\n    <tr>\n      <th>0</th>\n      <td>2020.3/4</td>\n      <td>합계</td>\n      <td>4,405,833</td>\n      <td>9,953,009</td>\n      <td>4,840,912</td>\n      <td>5,112,097</td>\n      <td>9,699,232</td>\n      <td>4,719,170</td>\n      <td>4,980,062</td>\n      <td>253,777</td>\n      <td>121,742</td>\n      <td>132,035</td>\n      <td>2.20</td>\n      <td>1,552,356</td>\n    </tr>\n    <tr>\n      <th>1</th>\n      <td>2020.3/4</td>\n      <td>종로구</td>\n      <td>74,861</td>\n      <td>159,842</td>\n      <td>77,391</td>\n      <td>82,451</td>\n      <td>149,952</td>\n      <td>73,024</td>\n      <td>76,928</td>\n      <td>9,890</td>\n      <td>4,367</td>\n      <td>5,523</td>\n      <td>2.00</td>\n      <td>28,396</td>\n    </tr>\n    <tr>\n      <th>2</th>\n      <td>2020.3/4</td>\n      <td>중구</td>\n      <td>63,594</td>\n      <td>135,321</td>\n      <td>66,193</td>\n      <td>69,128</td>\n      <td>125,800</td>\n      <td>61,526</td>\n      <td>64,274</td>\n      <td>9,521</td>\n      <td>4,667</td>\n      <td>4,854</td>\n      <td>1.98</td>\n      <td>24,265</td>\n    </tr>\n    <tr>\n      <th>3</th>\n      <td>2020.3/4</td>\n      <td>용산구</td>\n      <td>112,451</td>\n      <td>244,953</td>\n      <td>119,074</td>\n      <td>125,879</td>\n      <td>229,786</td>\n      <td>110,604</td>\n      <td>119,182</td>\n      <td>15,167</td>\n      <td>8,470</td>\n      <td>6,697</td>\n      <td>2.04</td>\n      <td>39,995</td>\n    </tr>\n    <tr>\n      <th>4</th>\n      <td>2020.3/4</td>\n      <td>성동구</td>\n      <td>136,096</td>\n      <td>302,695</td>\n      <td>147,582</td>\n      <td>155,113</td>\n      <td>295,591</td>\n      <td>144,444</td>\n      <td>151,147</td>\n      <td>7,104</td>\n      <td>3,138</td>\n      <td>3,966</td>\n      <td>2.17</td>\n      <td>45,372</td>\n    </tr>\n  </tbody>\n</table>\n</div>"
     },
     "metadata": {},
     "execution_count": 2
    }
   ],
   "source": [
    "pop = pd.read_csv('./cctv/서울시 인구.tsv', sep='\\t', header=2)\n",
    "pop.head()"
   ]
  },
  {
   "cell_type": "code",
   "execution_count": 3,
   "metadata": {},
   "outputs": [
    {
     "output_type": "execute_result",
     "data": {
      "text/plain": [
       "   자치구          계        계.1      계.2   65세이상고령자\n",
       "0   합계  9,953,009  9,699,232  253,777  1,552,356\n",
       "1  종로구    159,842    149,952    9,890     28,396\n",
       "2   중구    135,321    125,800    9,521     24,265\n",
       "3  용산구    244,953    229,786   15,167     39,995\n",
       "4  성동구    302,695    295,591    7,104     45,372"
      ],
      "text/html": "<div>\n<style scoped>\n    .dataframe tbody tr th:only-of-type {\n        vertical-align: middle;\n    }\n\n    .dataframe tbody tr th {\n        vertical-align: top;\n    }\n\n    .dataframe thead th {\n        text-align: right;\n    }\n</style>\n<table border=\"1\" class=\"dataframe\">\n  <thead>\n    <tr style=\"text-align: right;\">\n      <th></th>\n      <th>자치구</th>\n      <th>계</th>\n      <th>계.1</th>\n      <th>계.2</th>\n      <th>65세이상고령자</th>\n    </tr>\n  </thead>\n  <tbody>\n    <tr>\n      <th>0</th>\n      <td>합계</td>\n      <td>9,953,009</td>\n      <td>9,699,232</td>\n      <td>253,777</td>\n      <td>1,552,356</td>\n    </tr>\n    <tr>\n      <th>1</th>\n      <td>종로구</td>\n      <td>159,842</td>\n      <td>149,952</td>\n      <td>9,890</td>\n      <td>28,396</td>\n    </tr>\n    <tr>\n      <th>2</th>\n      <td>중구</td>\n      <td>135,321</td>\n      <td>125,800</td>\n      <td>9,521</td>\n      <td>24,265</td>\n    </tr>\n    <tr>\n      <th>3</th>\n      <td>용산구</td>\n      <td>244,953</td>\n      <td>229,786</td>\n      <td>15,167</td>\n      <td>39,995</td>\n    </tr>\n    <tr>\n      <th>4</th>\n      <td>성동구</td>\n      <td>302,695</td>\n      <td>295,591</td>\n      <td>7,104</td>\n      <td>45,372</td>\n    </tr>\n  </tbody>\n</table>\n</div>"
     },
     "metadata": {},
     "execution_count": 3
    }
   ],
   "source": [
    "# 필요없는 컬럼 지우기\n",
    "del pop['기간']\n",
    "del pop['세대']\n",
    "del pop['남자']\n",
    "del pop['남자.1']\n",
    "del pop['남자.2']\n",
    "del pop['여자']\n",
    "del pop['여자.1']\n",
    "del pop['여자.2']\n",
    "del pop['세대당인구']\n",
    "pop.head()"
   ]
  },
  {
   "cell_type": "code",
   "execution_count": 4,
   "metadata": {},
   "outputs": [
    {
     "output_type": "execute_result",
     "data": {
      "text/plain": [
       "    구별        인구수        내국인      외국인        고령자\n",
       "0   합계  9,953,009  9,699,232  253,777  1,552,356\n",
       "1  종로구    159,842    149,952    9,890     28,396\n",
       "2   중구    135,321    125,800    9,521     24,265\n",
       "3  용산구    244,953    229,786   15,167     39,995\n",
       "4  성동구    302,695    295,591    7,104     45,372"
      ],
      "text/html": "<div>\n<style scoped>\n    .dataframe tbody tr th:only-of-type {\n        vertical-align: middle;\n    }\n\n    .dataframe tbody tr th {\n        vertical-align: top;\n    }\n\n    .dataframe thead th {\n        text-align: right;\n    }\n</style>\n<table border=\"1\" class=\"dataframe\">\n  <thead>\n    <tr style=\"text-align: right;\">\n      <th></th>\n      <th>구별</th>\n      <th>인구수</th>\n      <th>내국인</th>\n      <th>외국인</th>\n      <th>고령자</th>\n    </tr>\n  </thead>\n  <tbody>\n    <tr>\n      <th>0</th>\n      <td>합계</td>\n      <td>9,953,009</td>\n      <td>9,699,232</td>\n      <td>253,777</td>\n      <td>1,552,356</td>\n    </tr>\n    <tr>\n      <th>1</th>\n      <td>종로구</td>\n      <td>159,842</td>\n      <td>149,952</td>\n      <td>9,890</td>\n      <td>28,396</td>\n    </tr>\n    <tr>\n      <th>2</th>\n      <td>중구</td>\n      <td>135,321</td>\n      <td>125,800</td>\n      <td>9,521</td>\n      <td>24,265</td>\n    </tr>\n    <tr>\n      <th>3</th>\n      <td>용산구</td>\n      <td>244,953</td>\n      <td>229,786</td>\n      <td>15,167</td>\n      <td>39,995</td>\n    </tr>\n    <tr>\n      <th>4</th>\n      <td>성동구</td>\n      <td>302,695</td>\n      <td>295,591</td>\n      <td>7,104</td>\n      <td>45,372</td>\n    </tr>\n  </tbody>\n</table>\n</div>"
     },
     "metadata": {},
     "execution_count": 4
    }
   ],
   "source": [
    "# 서울시 인구 현황 컬럼명 수정\n",
    "pop.rename({'자치구': '구별', '계': '인구수', '계.1': '내국인', '계.2': '외국인',\n",
    "            '65세이상고령자': '고령자'}, inplace=True, axis=1)\n",
    "pop.head()"
   ]
  },
  {
   "cell_type": "code",
   "execution_count": 5,
   "metadata": {},
   "outputs": [
    {
     "output_type": "execute_result",
     "data": {
      "text/plain": [
       "    구별      인구수      내국인     외국인      고령자\n",
       "0   합계  9953009  9699232  253777  1552356\n",
       "1  종로구   159842   149952    9890    28396\n",
       "2   중구   135321   125800    9521    24265\n",
       "3  용산구   244953   229786   15167    39995\n",
       "4  성동구   302695   295591    7104    45372"
      ],
      "text/html": "<div>\n<style scoped>\n    .dataframe tbody tr th:only-of-type {\n        vertical-align: middle;\n    }\n\n    .dataframe tbody tr th {\n        vertical-align: top;\n    }\n\n    .dataframe thead th {\n        text-align: right;\n    }\n</style>\n<table border=\"1\" class=\"dataframe\">\n  <thead>\n    <tr style=\"text-align: right;\">\n      <th></th>\n      <th>구별</th>\n      <th>인구수</th>\n      <th>내국인</th>\n      <th>외국인</th>\n      <th>고령자</th>\n    </tr>\n  </thead>\n  <tbody>\n    <tr>\n      <th>0</th>\n      <td>합계</td>\n      <td>9953009</td>\n      <td>9699232</td>\n      <td>253777</td>\n      <td>1552356</td>\n    </tr>\n    <tr>\n      <th>1</th>\n      <td>종로구</td>\n      <td>159842</td>\n      <td>149952</td>\n      <td>9890</td>\n      <td>28396</td>\n    </tr>\n    <tr>\n      <th>2</th>\n      <td>중구</td>\n      <td>135321</td>\n      <td>125800</td>\n      <td>9521</td>\n      <td>24265</td>\n    </tr>\n    <tr>\n      <th>3</th>\n      <td>용산구</td>\n      <td>244953</td>\n      <td>229786</td>\n      <td>15167</td>\n      <td>39995</td>\n    </tr>\n    <tr>\n      <th>4</th>\n      <td>성동구</td>\n      <td>302695</td>\n      <td>295591</td>\n      <td>7104</td>\n      <td>45372</td>\n    </tr>\n  </tbody>\n</table>\n</div>"
     },
     "metadata": {},
     "execution_count": 5
    }
   ],
   "source": [
    "# 인구 데이터 소수점 없애기\n",
    "pop['인구수'] = pop['인구수'].map(lambda s: int(s.replace(',','')))\n",
    "pop['내국인'] = pop['내국인'].map(lambda s: int(s.replace(',','')))\n",
    "pop['외국인'] = pop['외국인'].map(lambda s: int(s.replace(',','')))\n",
    "pop['고령자'] = pop['고령자'].map(lambda s: int(s.replace(',','')))\n",
    "pop.head()"
   ]
  },
  {
   "cell_type": "code",
   "execution_count": 6,
   "metadata": {},
   "outputs": [
    {
     "output_type": "execute_result",
     "data": {
      "text/plain": [
       "    구별     인구수     내국인    외국인    고령자\n",
       "1  종로구  159842  149952   9890  28396\n",
       "2   중구  135321  125800   9521  24265\n",
       "3  용산구  244953  229786  15167  39995\n",
       "4  성동구  302695  295591   7104  45372\n",
       "5  광진구  361923  348064  13859  50047"
      ],
      "text/html": "<div>\n<style scoped>\n    .dataframe tbody tr th:only-of-type {\n        vertical-align: middle;\n    }\n\n    .dataframe tbody tr th {\n        vertical-align: top;\n    }\n\n    .dataframe thead th {\n        text-align: right;\n    }\n</style>\n<table border=\"1\" class=\"dataframe\">\n  <thead>\n    <tr style=\"text-align: right;\">\n      <th></th>\n      <th>구별</th>\n      <th>인구수</th>\n      <th>내국인</th>\n      <th>외국인</th>\n      <th>고령자</th>\n    </tr>\n  </thead>\n  <tbody>\n    <tr>\n      <th>1</th>\n      <td>종로구</td>\n      <td>159842</td>\n      <td>149952</td>\n      <td>9890</td>\n      <td>28396</td>\n    </tr>\n    <tr>\n      <th>2</th>\n      <td>중구</td>\n      <td>135321</td>\n      <td>125800</td>\n      <td>9521</td>\n      <td>24265</td>\n    </tr>\n    <tr>\n      <th>3</th>\n      <td>용산구</td>\n      <td>244953</td>\n      <td>229786</td>\n      <td>15167</td>\n      <td>39995</td>\n    </tr>\n    <tr>\n      <th>4</th>\n      <td>성동구</td>\n      <td>302695</td>\n      <td>295591</td>\n      <td>7104</td>\n      <td>45372</td>\n    </tr>\n    <tr>\n      <th>5</th>\n      <td>광진구</td>\n      <td>361923</td>\n      <td>348064</td>\n      <td>13859</td>\n      <td>50047</td>\n    </tr>\n  </tbody>\n</table>\n</div>"
     },
     "metadata": {},
     "execution_count": 6
    }
   ],
   "source": [
    "# 합계 행 없애기\n",
    "pop.drop([0], inplace= True)\n",
    "pop.head()"
   ]
  },
  {
   "cell_type": "code",
   "execution_count": 7,
   "metadata": {},
   "outputs": [
    {
     "output_type": "execute_result",
     "data": {
      "text/plain": [
       "    구별     인구수     내국인    외국인    고령자     외국인비율      고령자비율\n",
       "1  종로구  159842  149952   9890  28396  6.187360  17.765043\n",
       "2   중구  135321  125800   9521  24265  7.035863  17.931437\n",
       "3  용산구  244953  229786  15167  39995  6.191800  16.327622\n",
       "4  성동구  302695  295591   7104  45372  2.346917  14.989346\n",
       "5  광진구  361923  348064  13859  50047  3.829268  13.828079"
      ],
      "text/html": "<div>\n<style scoped>\n    .dataframe tbody tr th:only-of-type {\n        vertical-align: middle;\n    }\n\n    .dataframe tbody tr th {\n        vertical-align: top;\n    }\n\n    .dataframe thead th {\n        text-align: right;\n    }\n</style>\n<table border=\"1\" class=\"dataframe\">\n  <thead>\n    <tr style=\"text-align: right;\">\n      <th></th>\n      <th>구별</th>\n      <th>인구수</th>\n      <th>내국인</th>\n      <th>외국인</th>\n      <th>고령자</th>\n      <th>외국인비율</th>\n      <th>고령자비율</th>\n    </tr>\n  </thead>\n  <tbody>\n    <tr>\n      <th>1</th>\n      <td>종로구</td>\n      <td>159842</td>\n      <td>149952</td>\n      <td>9890</td>\n      <td>28396</td>\n      <td>6.187360</td>\n      <td>17.765043</td>\n    </tr>\n    <tr>\n      <th>2</th>\n      <td>중구</td>\n      <td>135321</td>\n      <td>125800</td>\n      <td>9521</td>\n      <td>24265</td>\n      <td>7.035863</td>\n      <td>17.931437</td>\n    </tr>\n    <tr>\n      <th>3</th>\n      <td>용산구</td>\n      <td>244953</td>\n      <td>229786</td>\n      <td>15167</td>\n      <td>39995</td>\n      <td>6.191800</td>\n      <td>16.327622</td>\n    </tr>\n    <tr>\n      <th>4</th>\n      <td>성동구</td>\n      <td>302695</td>\n      <td>295591</td>\n      <td>7104</td>\n      <td>45372</td>\n      <td>2.346917</td>\n      <td>14.989346</td>\n    </tr>\n    <tr>\n      <th>5</th>\n      <td>광진구</td>\n      <td>361923</td>\n      <td>348064</td>\n      <td>13859</td>\n      <td>50047</td>\n      <td>3.829268</td>\n      <td>13.828079</td>\n    </tr>\n  </tbody>\n</table>\n</div>"
     },
     "metadata": {},
     "execution_count": 7
    }
   ],
   "source": [
    "# 외국인 비율 & 고령자 비율 추가 \n",
    "pop['외국인비율'] = pop['외국인'] / pop['인구수'] * 100\n",
    "pop['고령자비율'] = pop['고령자'] / pop['인구수'] * 100\n",
    "pop.head()"
   ]
  },
  {
   "cell_type": "code",
   "execution_count": 8,
   "metadata": {},
   "outputs": [
    {
     "output_type": "execute_result",
     "data": {
      "text/plain": [
       "False"
      ]
     },
     "metadata": {},
     "execution_count": 8
    }
   ],
   "source": [
    "# nan값 확인\n",
    "pop.isnull().values.any()"
   ]
  },
  {
   "cell_type": "markdown",
   "metadata": {},
   "source": [
    "# 서울시 공원 데이터"
   ]
  },
  {
   "cell_type": "code",
   "execution_count": 9,
   "metadata": {},
   "outputs": [
    {
     "output_type": "execute_result",
     "data": {
      "text/plain": [
       "   공원번호       공원명                                               공원개요  \\\n",
       "0     1  남산도시자연공원  남산공원은 도심에 위치하여 서울시민에게 맑은 공기를 제공하는 자연휴식처이며 산책 꽃...   \n",
       "1     3    길동생태공원  길동생태공원은 생물의 서식처를 제공하고 종다양성을 증진시키며 자연생태계의 생물들을 ...   \n",
       "\n",
       "                                             면적        개원일  \\\n",
       "0  2896887㎡ 임 야 : 2454140㎡ 녹지대 및 기타시설 : 442747㎡  1968.9.10   \n",
       "1                                        80683㎡  1999.5.20   \n",
       "\n",
       "                                                주요시설  \\\n",
       "0  기반시설 : 광장 45950㎡ 도로 108530㎡ 산책로 6.7㎞ (북측:3.7㎞/...   \n",
       "1               탐방객안내소 야외전시대 관찰대 목재데크 조류관찰대 길동생태문화센터   \n",
       "\n",
       "                                        주요식물  \\\n",
       "0          소나무 단풍 아카시아 상수리나무 등 191종 2881870주   \n",
       "1  소나무 보리수 등 64종 31800주 산국 부들 등 138종 192800본   \n",
       "\n",
       "                                                 안내도  \\\n",
       "0  http://parks.seoul.go.kr/upload/seditorMulti/2...   \n",
       "1  http://parks.seoul.go.kr/template/common/img/p...   \n",
       "\n",
       "                                                오시는길  \\\n",
       "0  명동역(남산케이블카 와룡묘 서울애니메이션센터 방면) 도보 명동역 3번출구 → 퍼시픽...   \n",
       "1                                                NaN   \n",
       "\n",
       "                                             이용시참고사항  \\\n",
       "0  남산공원 차량통행 금지안내 2005년 5월 1일부터 남산공원에 일반승용차 택시 통행...   \n",
       "1  매주 월요일은 휴관입니다 사전예약 후 입장하실 수 있습니다. ▶ 인터넷 예약 바로가...   \n",
       "\n",
       "                                                 이미지   지역  \\\n",
       "0  http://parks.seoul.go.kr/file/info/view.do?fId...   중구   \n",
       "1  http://parks.seoul.go.kr/file/info/view.do?fId...  강동구   \n",
       "\n",
       "                           공원주소              관리부서          전화번호  X좌표(GRS80TM)  \\\n",
       "0        서울특별시 중구 삼일대로 231(예장동)    서울특별시중부푸른도시사업소  02-3783-5900    198364.107   \n",
       "1  서울특별시 강동구 천호대로 1291(길동생태공원)   동부공원녹지사업소 길동생태공원   02-489-2770    213554.120   \n",
       "\n",
       "   Y좌표(GRS80TM)  X좌표(WGS84)  Y좌표(WGS84)  \\\n",
       "0    450395.554  126.990377   37.550140   \n",
       "1    448852.675  127.154779   37.540394   \n",
       "\n",
       "                                               바로가기  \n",
       "0   http://parks.seoul.go.kr/template/sub/namsan.do  \n",
       "1  http://parks.seoul.go.kr/template/sub/gildong.do  "
      ],
      "text/html": "<div>\n<style scoped>\n    .dataframe tbody tr th:only-of-type {\n        vertical-align: middle;\n    }\n\n    .dataframe tbody tr th {\n        vertical-align: top;\n    }\n\n    .dataframe thead th {\n        text-align: right;\n    }\n</style>\n<table border=\"1\" class=\"dataframe\">\n  <thead>\n    <tr style=\"text-align: right;\">\n      <th></th>\n      <th>공원번호</th>\n      <th>공원명</th>\n      <th>공원개요</th>\n      <th>면적</th>\n      <th>개원일</th>\n      <th>주요시설</th>\n      <th>주요식물</th>\n      <th>안내도</th>\n      <th>오시는길</th>\n      <th>이용시참고사항</th>\n      <th>이미지</th>\n      <th>지역</th>\n      <th>공원주소</th>\n      <th>관리부서</th>\n      <th>전화번호</th>\n      <th>X좌표(GRS80TM)</th>\n      <th>Y좌표(GRS80TM)</th>\n      <th>X좌표(WGS84)</th>\n      <th>Y좌표(WGS84)</th>\n      <th>바로가기</th>\n    </tr>\n  </thead>\n  <tbody>\n    <tr>\n      <th>0</th>\n      <td>1</td>\n      <td>남산도시자연공원</td>\n      <td>남산공원은 도심에 위치하여 서울시민에게 맑은 공기를 제공하는 자연휴식처이며 산책 꽃...</td>\n      <td>2896887㎡ 임 야 : 2454140㎡ 녹지대 및 기타시설 : 442747㎡</td>\n      <td>1968.9.10</td>\n      <td>기반시설 : 광장 45950㎡ 도로 108530㎡ 산책로 6.7㎞ (북측:3.7㎞/...</td>\n      <td>소나무 단풍 아카시아 상수리나무 등 191종 2881870주</td>\n      <td>http://parks.seoul.go.kr/upload/seditorMulti/2...</td>\n      <td>명동역(남산케이블카 와룡묘 서울애니메이션센터 방면) 도보 명동역 3번출구 → 퍼시픽...</td>\n      <td>남산공원 차량통행 금지안내 2005년 5월 1일부터 남산공원에 일반승용차 택시 통행...</td>\n      <td>http://parks.seoul.go.kr/file/info/view.do?fId...</td>\n      <td>중구</td>\n      <td>서울특별시 중구 삼일대로 231(예장동)</td>\n      <td>서울특별시중부푸른도시사업소</td>\n      <td>02-3783-5900</td>\n      <td>198364.107</td>\n      <td>450395.554</td>\n      <td>126.990377</td>\n      <td>37.550140</td>\n      <td>http://parks.seoul.go.kr/template/sub/namsan.do</td>\n    </tr>\n    <tr>\n      <th>1</th>\n      <td>3</td>\n      <td>길동생태공원</td>\n      <td>길동생태공원은 생물의 서식처를 제공하고 종다양성을 증진시키며 자연생태계의 생물들을 ...</td>\n      <td>80683㎡</td>\n      <td>1999.5.20</td>\n      <td>탐방객안내소 야외전시대 관찰대 목재데크 조류관찰대 길동생태문화센터</td>\n      <td>소나무 보리수 등 64종 31800주 산국 부들 등 138종 192800본</td>\n      <td>http://parks.seoul.go.kr/template/common/img/p...</td>\n      <td>NaN</td>\n      <td>매주 월요일은 휴관입니다 사전예약 후 입장하실 수 있습니다. ▶ 인터넷 예약 바로가...</td>\n      <td>http://parks.seoul.go.kr/file/info/view.do?fId...</td>\n      <td>강동구</td>\n      <td>서울특별시 강동구 천호대로 1291(길동생태공원)</td>\n      <td>동부공원녹지사업소 길동생태공원</td>\n      <td>02-489-2770</td>\n      <td>213554.120</td>\n      <td>448852.675</td>\n      <td>127.154779</td>\n      <td>37.540394</td>\n      <td>http://parks.seoul.go.kr/template/sub/gildong.do</td>\n    </tr>\n  </tbody>\n</table>\n</div>"
     },
     "metadata": {},
     "execution_count": 9
    }
   ],
   "source": [
    "park = pd.read_csv('./cctv/서울시 주요 공원현황.csv', sep=',',encoding='cp949')\n",
    "park.head(2)"
   ]
  },
  {
   "cell_type": "code",
   "execution_count": 10,
   "metadata": {},
   "outputs": [
    {
     "output_type": "execute_result",
     "data": {
      "text/plain": [
       "        공원명                                            면적        개원일   지역  \\\n",
       "0  남산도시자연공원  2896887㎡ 임 야 : 2454140㎡ 녹지대 및 기타시설 : 442747㎡  1968.9.10   중구   \n",
       "1    길동생태공원                                        80683㎡  1999.5.20  강동구   \n",
       "2     서울대공원                                     9132690m²   1984.5.1  과천시   \n",
       "3       서울숲                                       480994㎡  2005.6.18  성동구   \n",
       "4     월드컵공원                                      2284085㎡   2002.5.1  마포구   \n",
       "\n",
       "                           공원주소              관리부서  X좌표(GRS80TM)  Y좌표(GRS80TM)  \\\n",
       "0        서울특별시 중구 삼일대로 231(예장동)    서울특별시중부푸른도시사업소    198364.107    450395.554   \n",
       "1  서울특별시 강동구 천호대로 1291(길동생태공원)   동부공원녹지사업소 길동생태공원    213554.120    448852.675   \n",
       "2            경기도 과천시 대공원광장로 102             전략기획실    200994.267    437163.981   \n",
       "3    서울특별시 성동구 뚝섬로 273 (성수동1가)          서울숲 관리사무소    203695.432    449290.726   \n",
       "4     서울특별시 마포구 하늘공원로 84(월드컵공원)             월드컵공원    190658.070    451598.831   \n",
       "\n",
       "   X좌표(WGS84)  Y좌표(WGS84)  \n",
       "0  126.990377   37.550140  \n",
       "1  127.154779   37.540394  \n",
       "2  127.019847   37.426449  \n",
       "3  127.041798   37.543072  \n",
       "4  126.878907   37.571805  "
      ],
      "text/html": "<div>\n<style scoped>\n    .dataframe tbody tr th:only-of-type {\n        vertical-align: middle;\n    }\n\n    .dataframe tbody tr th {\n        vertical-align: top;\n    }\n\n    .dataframe thead th {\n        text-align: right;\n    }\n</style>\n<table border=\"1\" class=\"dataframe\">\n  <thead>\n    <tr style=\"text-align: right;\">\n      <th></th>\n      <th>공원명</th>\n      <th>면적</th>\n      <th>개원일</th>\n      <th>지역</th>\n      <th>공원주소</th>\n      <th>관리부서</th>\n      <th>X좌표(GRS80TM)</th>\n      <th>Y좌표(GRS80TM)</th>\n      <th>X좌표(WGS84)</th>\n      <th>Y좌표(WGS84)</th>\n    </tr>\n  </thead>\n  <tbody>\n    <tr>\n      <th>0</th>\n      <td>남산도시자연공원</td>\n      <td>2896887㎡ 임 야 : 2454140㎡ 녹지대 및 기타시설 : 442747㎡</td>\n      <td>1968.9.10</td>\n      <td>중구</td>\n      <td>서울특별시 중구 삼일대로 231(예장동)</td>\n      <td>서울특별시중부푸른도시사업소</td>\n      <td>198364.107</td>\n      <td>450395.554</td>\n      <td>126.990377</td>\n      <td>37.550140</td>\n    </tr>\n    <tr>\n      <th>1</th>\n      <td>길동생태공원</td>\n      <td>80683㎡</td>\n      <td>1999.5.20</td>\n      <td>강동구</td>\n      <td>서울특별시 강동구 천호대로 1291(길동생태공원)</td>\n      <td>동부공원녹지사업소 길동생태공원</td>\n      <td>213554.120</td>\n      <td>448852.675</td>\n      <td>127.154779</td>\n      <td>37.540394</td>\n    </tr>\n    <tr>\n      <th>2</th>\n      <td>서울대공원</td>\n      <td>9132690m²</td>\n      <td>1984.5.1</td>\n      <td>과천시</td>\n      <td>경기도 과천시 대공원광장로 102</td>\n      <td>전략기획실</td>\n      <td>200994.267</td>\n      <td>437163.981</td>\n      <td>127.019847</td>\n      <td>37.426449</td>\n    </tr>\n    <tr>\n      <th>3</th>\n      <td>서울숲</td>\n      <td>480994㎡</td>\n      <td>2005.6.18</td>\n      <td>성동구</td>\n      <td>서울특별시 성동구 뚝섬로 273 (성수동1가)</td>\n      <td>서울숲 관리사무소</td>\n      <td>203695.432</td>\n      <td>449290.726</td>\n      <td>127.041798</td>\n      <td>37.543072</td>\n    </tr>\n    <tr>\n      <th>4</th>\n      <td>월드컵공원</td>\n      <td>2284085㎡</td>\n      <td>2002.5.1</td>\n      <td>마포구</td>\n      <td>서울특별시 마포구 하늘공원로 84(월드컵공원)</td>\n      <td>월드컵공원</td>\n      <td>190658.070</td>\n      <td>451598.831</td>\n      <td>126.878907</td>\n      <td>37.571805</td>\n    </tr>\n  </tbody>\n</table>\n</div>"
     },
     "metadata": {},
     "execution_count": 10
    }
   ],
   "source": [
    "del park['공원번호']\n",
    "del park['주요시설']\n",
    "del park['주요식물']\n",
    "del park['전화번호']\n",
    "del park['공원개요']\n",
    "del park['안내도']\n",
    "del park['오시는길']\n",
    "del park['이용시참고사항']\n",
    "del park['이미지']\n",
    "del park['바로가기']\n",
    "park.head()"
   ]
  },
  {
   "cell_type": "code",
   "execution_count": 11,
   "metadata": {},
   "outputs": [
    {
     "output_type": "execute_result",
     "data": {
      "text/plain": [
       "        공원명                                            면적        개원일   지역  \\\n",
       "0  남산도시자연공원  2896887㎡ 임 야 : 2454140㎡ 녹지대 및 기타시설 : 442747㎡  1968.9.10   중구   \n",
       "1    길동생태공원                                        80683㎡  1999.5.20  강동구   \n",
       "2     서울대공원                                     9132690m²   1984.5.1  과천시   \n",
       "3       서울숲                                       480994㎡  2005.6.18  성동구   \n",
       "4     월드컵공원                                      2284085㎡   2002.5.1  마포구   \n",
       "\n",
       "                             주소              관리부서  X좌표(GRS80TM)  Y좌표(GRS80TM)  \\\n",
       "0        서울특별시 중구 삼일대로 231(예장동)    서울특별시중부푸른도시사업소    198364.107    450395.554   \n",
       "1  서울특별시 강동구 천호대로 1291(길동생태공원)   동부공원녹지사업소 길동생태공원    213554.120    448852.675   \n",
       "2            경기도 과천시 대공원광장로 102             전략기획실    200994.267    437163.981   \n",
       "3    서울특별시 성동구 뚝섬로 273 (성수동1가)          서울숲 관리사무소    203695.432    449290.726   \n",
       "4     서울특별시 마포구 하늘공원로 84(월드컵공원)             월드컵공원    190658.070    451598.831   \n",
       "\n",
       "   X좌표(WGS84)  Y좌표(WGS84)  \n",
       "0  126.990377   37.550140  \n",
       "1  127.154779   37.540394  \n",
       "2  127.019847   37.426449  \n",
       "3  127.041798   37.543072  \n",
       "4  126.878907   37.571805  "
      ],
      "text/html": "<div>\n<style scoped>\n    .dataframe tbody tr th:only-of-type {\n        vertical-align: middle;\n    }\n\n    .dataframe tbody tr th {\n        vertical-align: top;\n    }\n\n    .dataframe thead th {\n        text-align: right;\n    }\n</style>\n<table border=\"1\" class=\"dataframe\">\n  <thead>\n    <tr style=\"text-align: right;\">\n      <th></th>\n      <th>공원명</th>\n      <th>면적</th>\n      <th>개원일</th>\n      <th>지역</th>\n      <th>주소</th>\n      <th>관리부서</th>\n      <th>X좌표(GRS80TM)</th>\n      <th>Y좌표(GRS80TM)</th>\n      <th>X좌표(WGS84)</th>\n      <th>Y좌표(WGS84)</th>\n    </tr>\n  </thead>\n  <tbody>\n    <tr>\n      <th>0</th>\n      <td>남산도시자연공원</td>\n      <td>2896887㎡ 임 야 : 2454140㎡ 녹지대 및 기타시설 : 442747㎡</td>\n      <td>1968.9.10</td>\n      <td>중구</td>\n      <td>서울특별시 중구 삼일대로 231(예장동)</td>\n      <td>서울특별시중부푸른도시사업소</td>\n      <td>198364.107</td>\n      <td>450395.554</td>\n      <td>126.990377</td>\n      <td>37.550140</td>\n    </tr>\n    <tr>\n      <th>1</th>\n      <td>길동생태공원</td>\n      <td>80683㎡</td>\n      <td>1999.5.20</td>\n      <td>강동구</td>\n      <td>서울특별시 강동구 천호대로 1291(길동생태공원)</td>\n      <td>동부공원녹지사업소 길동생태공원</td>\n      <td>213554.120</td>\n      <td>448852.675</td>\n      <td>127.154779</td>\n      <td>37.540394</td>\n    </tr>\n    <tr>\n      <th>2</th>\n      <td>서울대공원</td>\n      <td>9132690m²</td>\n      <td>1984.5.1</td>\n      <td>과천시</td>\n      <td>경기도 과천시 대공원광장로 102</td>\n      <td>전략기획실</td>\n      <td>200994.267</td>\n      <td>437163.981</td>\n      <td>127.019847</td>\n      <td>37.426449</td>\n    </tr>\n    <tr>\n      <th>3</th>\n      <td>서울숲</td>\n      <td>480994㎡</td>\n      <td>2005.6.18</td>\n      <td>성동구</td>\n      <td>서울특별시 성동구 뚝섬로 273 (성수동1가)</td>\n      <td>서울숲 관리사무소</td>\n      <td>203695.432</td>\n      <td>449290.726</td>\n      <td>127.041798</td>\n      <td>37.543072</td>\n    </tr>\n    <tr>\n      <th>4</th>\n      <td>월드컵공원</td>\n      <td>2284085㎡</td>\n      <td>2002.5.1</td>\n      <td>마포구</td>\n      <td>서울특별시 마포구 하늘공원로 84(월드컵공원)</td>\n      <td>월드컵공원</td>\n      <td>190658.070</td>\n      <td>451598.831</td>\n      <td>126.878907</td>\n      <td>37.571805</td>\n    </tr>\n  </tbody>\n</table>\n</div>"
     },
     "metadata": {},
     "execution_count": 11
    }
   ],
   "source": [
    "park.rename({'공원명': '공원명', '공원개요': '공원개요', '면적': '면적', '개원일': '개원일',\n",
    "            '주요식물': '주요식물', '지역': '지역', '공원주소':'주소', '관리부서': '관리부서','X좌표(GRS80TM)': 'X좌표(GRS80TM)',\n",
    "            'Y좌표(GRS80TM)':'Y좌표(GRS80TM)', 'X좌표(WGS84)': 'X좌표(WGS84)', 'Y좌표(WGS84)': 'Y좌표(WGS84)'}, inplace=True, axis=1)\n",
    "park.head()"
   ]
  },
  {
   "cell_type": "code",
   "execution_count": 12,
   "metadata": {},
   "outputs": [
    {
     "output_type": "execute_result",
     "data": {
      "text/plain": [
       "True"
      ]
     },
     "metadata": {},
     "execution_count": 12
    }
   ],
   "source": [
    "# nan값 확인\n",
    "park.isnull().values.any()"
   ]
  },
  {
   "cell_type": "code",
   "execution_count": 13,
   "metadata": {},
   "outputs": [
    {
     "output_type": "execute_result",
     "data": {
      "text/plain": [
       "                 공원명        면적         개원일   지역  \\\n",
       "127  용마도시자연공원(사가정공원)  109635㎡   2005.4.13   중랑구   \n",
       "128           문화비축기지   140022㎡    2017.9.1  마포구   \n",
       "129            경춘선숲길   211392㎡           0    0   \n",
       "130             율현공원   157535㎡   2016.11.1  강남구   \n",
       "131          서울로7017         0           0   중구   \n",
       "\n",
       "                                주소        관리부서   X좌표(GRS80TM)  Y좌표(GRS80TM)  \\\n",
       "127            서울특별시 중랑구 면목7동 산50   중랑구청 공원녹지과       0.000000  0.000000e+00   \n",
       "128               서울특별시 마포구 증산로 87      문화비축기지  114264.460400  3.712093e+06   \n",
       "129                노원구 공릉2동 산 82-2   중부공원녹지사업소     127.076482  3.762708e+01   \n",
       "130  서울특별시 강남구 율현동 밤고개로24길(율현동 56)   동부공원녹지사업소       0.000000  0.000000e+00   \n",
       "131                        서울로7017      서울로운영단       0.000000  0.000000e+00   \n",
       "\n",
       "     X좌표(WGS84)  Y좌표(WGS84)  \n",
       "127  127.095997   37.579762  \n",
       "128  126.893245   37.571718  \n",
       "129  127.076482   37.627077  \n",
       "130  127.115594   37.472332  \n",
       "131    0.000000    0.000000  "
      ],
      "text/html": "<div>\n<style scoped>\n    .dataframe tbody tr th:only-of-type {\n        vertical-align: middle;\n    }\n\n    .dataframe tbody tr th {\n        vertical-align: top;\n    }\n\n    .dataframe thead th {\n        text-align: right;\n    }\n</style>\n<table border=\"1\" class=\"dataframe\">\n  <thead>\n    <tr style=\"text-align: right;\">\n      <th></th>\n      <th>공원명</th>\n      <th>면적</th>\n      <th>개원일</th>\n      <th>지역</th>\n      <th>주소</th>\n      <th>관리부서</th>\n      <th>X좌표(GRS80TM)</th>\n      <th>Y좌표(GRS80TM)</th>\n      <th>X좌표(WGS84)</th>\n      <th>Y좌표(WGS84)</th>\n    </tr>\n  </thead>\n  <tbody>\n    <tr>\n      <th>127</th>\n      <td>용마도시자연공원(사가정공원)</td>\n      <td>109635㎡</td>\n      <td>2005.4.13</td>\n      <td>중랑구</td>\n      <td>서울특별시 중랑구 면목7동 산50</td>\n      <td>중랑구청 공원녹지과</td>\n      <td>0.000000</td>\n      <td>0.000000e+00</td>\n      <td>127.095997</td>\n      <td>37.579762</td>\n    </tr>\n    <tr>\n      <th>128</th>\n      <td>문화비축기지</td>\n      <td>140022㎡</td>\n      <td>2017.9.1</td>\n      <td>마포구</td>\n      <td>서울특별시 마포구 증산로 87</td>\n      <td>문화비축기지</td>\n      <td>114264.460400</td>\n      <td>3.712093e+06</td>\n      <td>126.893245</td>\n      <td>37.571718</td>\n    </tr>\n    <tr>\n      <th>129</th>\n      <td>경춘선숲길</td>\n      <td>211392㎡</td>\n      <td>0</td>\n      <td>0</td>\n      <td>노원구 공릉2동 산 82-2</td>\n      <td>중부공원녹지사업소</td>\n      <td>127.076482</td>\n      <td>3.762708e+01</td>\n      <td>127.076482</td>\n      <td>37.627077</td>\n    </tr>\n    <tr>\n      <th>130</th>\n      <td>율현공원</td>\n      <td>157535㎡</td>\n      <td>2016.11.1</td>\n      <td>강남구</td>\n      <td>서울특별시 강남구 율현동 밤고개로24길(율현동 56)</td>\n      <td>동부공원녹지사업소</td>\n      <td>0.000000</td>\n      <td>0.000000e+00</td>\n      <td>127.115594</td>\n      <td>37.472332</td>\n    </tr>\n    <tr>\n      <th>131</th>\n      <td>서울로7017</td>\n      <td>0</td>\n      <td>0</td>\n      <td>중구</td>\n      <td>서울로7017</td>\n      <td>서울로운영단</td>\n      <td>0.000000</td>\n      <td>0.000000e+00</td>\n      <td>0.000000</td>\n      <td>0.000000</td>\n    </tr>\n  </tbody>\n</table>\n</div>"
     },
     "metadata": {},
     "execution_count": 13
    }
   ],
   "source": [
    "# nen값 0으로 변경\n",
    "park.fillna(0, inplace=True)\n",
    "park.tail()"
   ]
  },
  {
   "cell_type": "code",
   "execution_count": 14,
   "metadata": {},
   "outputs": [],
   "source": [
    "import folium\n",
    "import googlemaps\n",
    "import requests\n",
    "from urllib.parse import urlparse"
   ]
  },
  {
   "cell_type": "code",
   "execution_count": 15,
   "metadata": {},
   "outputs": [],
   "source": [
    "key_fd = open('../06.reapi/googlemapskey.txt', mode='r')\n",
    "gmaps_key = key_fd.read(100)\n",
    "key_fd.close()\n",
    "gmaps = googlemaps.Client(key=gmaps_key)"
   ]
  },
  {
   "cell_type": "code",
   "execution_count": 16,
   "metadata": {},
   "outputs": [
    {
     "output_type": "execute_result",
     "data": {
      "text/plain": [
       "[{'address_components': [{'long_name': '서울로7017',\n",
       "    'short_name': '서울로7017',\n",
       "    'types': ['establishment',\n",
       "     'park',\n",
       "     'point_of_interest',\n",
       "     'tourist_attraction']},\n",
       "   {'long_name': '１８', 'short_name': '１８', 'types': ['premise']},\n",
       "   {'long_name': '퇴계로',\n",
       "    'short_name': '퇴계로',\n",
       "    'types': ['political', 'sublocality', 'sublocality_level_4']},\n",
       "   {'long_name': '회현동',\n",
       "    'short_name': '회현동',\n",
       "    'types': ['political', 'sublocality', 'sublocality_level_2']},\n",
       "   {'long_name': '중구',\n",
       "    'short_name': '중구',\n",
       "    'types': ['political', 'sublocality', 'sublocality_level_1']},\n",
       "   {'long_name': '서울특별시',\n",
       "    'short_name': '서울특별시',\n",
       "    'types': ['administrative_area_level_1', 'political']},\n",
       "   {'long_name': '대한민국',\n",
       "    'short_name': 'KR',\n",
       "    'types': ['country', 'political']},\n",
       "   {'long_name': '100-095',\n",
       "    'short_name': '100-095',\n",
       "    'types': ['postal_code']}],\n",
       "  'formatted_address': '대한민국 서울특별시 중구 회현동 퇴계로 18 서울로7017',\n",
       "  'geometry': {'location': {'lat': 37.5565067, 'lng': 126.9737554},\n",
       "   'location_type': 'ROOFTOP',\n",
       "   'viewport': {'northeast': {'lat': 37.5578556802915,\n",
       "     'lng': 126.9751043802915},\n",
       "    'southwest': {'lat': 37.5551577197085, 'lng': 126.9724064197085}}},\n",
       "  'place_id': 'ChIJw8UIcGCifDURB0MtY-xAUqM',\n",
       "  'plus_code': {'compound_code': 'HX4F+JG 대한민국 서울특별시',\n",
       "   'global_code': '8Q98HX4F+JG'},\n",
       "  'types': ['establishment',\n",
       "   'park',\n",
       "   'point_of_interest',\n",
       "   'tourist_attraction']}]"
      ]
     },
     "metadata": {},
     "execution_count": 16
    }
   ],
   "source": [
    "gmaps.geocode('서울로7017', language='ko')"
   ]
  },
  {
   "cell_type": "code",
   "execution_count": 17,
   "metadata": {},
   "outputs": [
    {
     "output_type": "execute_result",
     "data": {
      "text/plain": [
       "['서울특별시 중구 삼일대로 231(예장동)',\n",
       " '서울특별시 강동구 천호대로 1291(길동생태공원) ',\n",
       " '경기도 과천시 대공원광장로 102',\n",
       " '서울특별시 성동구 뚝섬로 273 (성수동1가) ',\n",
       " '서울특별시 마포구 하늘공원로 84(월드컵공원)',\n",
       " '서울특별시 종로구 세종로 76-2',\n",
       " '서울특별시 은평구 진관동 393',\n",
       " '서울특별시 영등포구 영등포동2가 222',\n",
       " '서울특별시 성동구 금호동1가 산1-72',\n",
       " '서울특별시 강서구 등촌동 630-14',\n",
       " '서울특별시 성동구 성수2가 3동 302-25',\n",
       " '서울특별시 강동구 명일1동 288',\n",
       " '서울특별시 영등포구 여의공원로 68 (여의도동)',\n",
       " '서울특별시 동대문구 서울시립대로2길 59(간데메공원)',\n",
       " '서울특별시 중구 을지로 227',\n",
       " '서울특별시 영등포구 신길로 275',\n",
       " '서울특별시 동작구 여의대방로20길 33(보라매공원)',\n",
       " '서울특별시 광진구 능동로 216(어린이대공원)',\n",
       " '서울특별시 강동구 올림픽로 702(천호공원)',\n",
       " '서울특별시 용산구 서빙고로 185',\n",
       " '서울특별시 서대문구 통일로251(독립공원)',\n",
       " '서울특별시 종로구 낙산길 41 (우) 03085',\n",
       " '서울특별시 서초구 매헌로 99 (양재동)',\n",
       " '서울특별시 관악구 관악로 1(관악산공원)',\n",
       " '서울특별시 용산구 효창원로 177-18',\n",
       " '서울특별시 금천구 독산4동 371?375 373일대',\n",
       " '서울특별시 성북구 북악산로 949-73(돈암동 6-1)',\n",
       " '서울특별시 구로구 오류동 산13-1',\n",
       " '서울특별시 종로구 새문안로 55(신문로2가 2-1)',\n",
       " '서울특별시 동작구 사당2동 산41-2',\n",
       " '서울특별시 양천구 신정동 산44-2일대',\n",
       " '서울특별시 구로구 고척로45길 39(고척공원)',\n",
       " '서울특별시 양천구 목동동로 363 ',\n",
       " '서울특별시 강서구 허준로5길 42',\n",
       " '서울특별시 서대문구 성산로7길 19-24(궁동공원) ',\n",
       " '서울특별시 강서구 가양동 산4-7',\n",
       " '서울특별시 동작구 사당동 산32',\n",
       " '서울특별시 강서구 방화동 산110',\n",
       " '서울특별시 동작구 여의대방로 15-45(여의대방로36길 71)',\n",
       " '서울특별시 동대문구 답십리로 209(답십리공원) ',\n",
       " '서울특별시 강남구 광평로10길 30-71(대모산공원) ',\n",
       " '서울특별시 종로구 종로 99',\n",
       " '서울특별시 양천구 신정동 162-56',\n",
       " '서울특별시 송파구 마천동 산 1-1',\n",
       " '서울특별시 강남구 도곡동 산31-1',\n",
       " '서울특별시 강남구 도산대로45길 20(도산공원)',\n",
       " '서울특별시 성북구 화랑로18가길 50',\n",
       " '서울특별시 도봉구 창동 산157',\n",
       " '서울특별시 강동구 고덕2동 229',\n",
       " '서울특별시 종로구 대학로8길 1',\n",
       " '서울특별시 영등포구 의사당대로 166 (우) 07324',\n",
       " '서울특별시 송파구 장지동 산 11번지',\n",
       " '서울특별시 강동구 상일동 135',\n",
       " '서울특별시 강서구 금낭화로 176(방화공원)',\n",
       " '서울특별시 송파구 올림픽로 44 (잠실동)',\n",
       " '서울특별시 동대문구 한천로43길 12-14(배봉산공원) ',\n",
       " '서울특별시 서대문구 홍제동 산33-98',\n",
       " '서울특별시 강서구 염창동 산24-1',\n",
       " '서울특별시 서대문구 통일로 507-22(백련공원) ',\n",
       " '서울특별시 송파구 오금로 363 오금근린공원 ',\n",
       " '서울특별시 강북구 번동 산20-1',\n",
       " '서울특별시 은평구 구산동 산61',\n",
       " '서울특별시 구로구 개봉동 산2-60',\n",
       " '서울특별시 강남구 삼성동 75',\n",
       " '서울특별시 송파구 올림픽로 424 (방이동)',\n",
       " '서울특별시 종로구 와룡공원길 192 (우) 03063',\n",
       " '서울특별시 중랑구 묵동 산46-1',\n",
       " '서울특별시 종로구 부암동 산2-6',\n",
       " '서울특별시 종로구 은평구 서대문구 성북구 강북구 도봉구 일대 경기도 의정부 양주군 고양시 일대',\n",
       " '서울특별시 마포구 양화진길 46(외국인묘지공원)',\n",
       " '서울특별시 은평구 불광동 산33-1',\n",
       " '서울특별시 노원구 한글비석로12길 51-33(불암산공원) ',\n",
       " '서울특별시 중랑구 면목동 산1-4 ',\n",
       " '서울특별시 동작구 노량진로 191',\n",
       " '서울특별시 양천구 목동 199-51',\n",
       " '서울특별시 종로구 사직로9길 5',\n",
       " '서울특별시 강서구 내발산동 산4-5',\n",
       " '서울특별시 동작구 사당동 산24-17',\n",
       " '서울특별시 종로구 북촌로 134-1 (우) 03050',\n",
       " '서울특별시 종로구 옥인동 산 3-1 ',\n",
       " '서울특별시 동작구 성대로6사길 27-6(상도공원) ',\n",
       " '서울특별시 강동구 동남로 660(일자산공원)',\n",
       " '서울특별시 도봉구 쌍문동 산80',\n",
       " '서울특별시 노원구 상계동 산3-1',\n",
       " '서울특별시 송파구 잠실로 148 (잠실동) ',\n",
       " '서울특별시 영등포구 선유로 343 (당산동 1) 선유도공원관리사무소',\n",
       " '서울특별시 중구 손기정로 101 ',\n",
       " '서울특별시 성북구 돈암동 616-1055',\n",
       " '서울특별시 강서구 화곡동 산41-6',\n",
       " '서울특별시 도봉구 마들로 916(서울창포원) ',\n",
       " '서울특별시 강북구 월계로 173',\n",
       " '서울특별시 양천구 남부순환로64길 20 (신월동)',\n",
       " '서울특별시 중랑구 송림길 160(중랑캠핑숲)/중랑구 망우동 74(청소년체험의숲)',\n",
       " '서울특별시 강북구 우이동 80번지 일대',\n",
       " '서울특별시 금천구 독산동 산118-4(금천체육공원)',\n",
       " '서울특별시 금천구 시흥대로38길 61(시흥동 937-2)',\n",
       " '서울특별시 금천구 독산동 산8 일대',\n",
       " '서울특별시 도봉구 시루봉로6길 33',\n",
       " '서울특별시 도봉구 창동 28번지',\n",
       " '서울특별시 동대문구 용두동 34-1번지 일대',\n",
       " '서울특별시 마포구 상암동 1761',\n",
       " '서울특별시 마포구 창전동 3-193번지 일대(홍익대 뒷산)',\n",
       " '서울특별시 성동구 장터1길 18',\n",
       " '서울특별시 성동구 옥수동 산1-1',\n",
       " '서울특별시 송파구 문정동 18-4',\n",
       " '서울특별시 서초구 바우뫼로12길 40 (양재동)',\n",
       " '서울특별시 종로구 세종대로 189 (우) 03172',\n",
       " '서울특별시 관악구 대학동 산63-1일대 샘말공원',\n",
       " '서울특별시 도봉구 창동 산24',\n",
       " '서울특별시 구로구 연동로 240(항동81-1) 푸른수목원관리사무소',\n",
       " '서울특별시 은평구 구파발동 갈현동 진관내동',\n",
       " '서울특별시 서초구 원지동 산 33',\n",
       " '서울특별시 강서구 개화동 산17',\n",
       " '서울특별시 광진구 광장동 370',\n",
       " '서울특별시 서초구 내곡동 산12-404',\n",
       " '서울특별시 서초구 염곡동 산25-1',\n",
       " '서울특별시 서초구 우면동 산35-1',\n",
       " '서울특별시 은평구 진관동 산55',\n",
       " '서울특별시 은평구 신사동 산80-4',\n",
       " '서울특별시 중구 통일로 1 서울역',\n",
       " '서울특별시 강남구 수서동 산10-1',\n",
       " '서울특별시 강남구 청담동 66',\n",
       " '서울특별시 강동구 둔촌동 산94',\n",
       " '서울특별시 은평구 통일로 849',\n",
       " '서울특별시 중구 망우동 산 30-7 일대',\n",
       " '서울특별시 종로구 숭인동 58',\n",
       " '서울특별시 중랑구 면목동 산19',\n",
       " '서울특별시 중랑구 면목7동 산50 ',\n",
       " '서울특별시 마포구 증산로 87',\n",
       " '노원구 공릉2동 산 82-2',\n",
       " '서울특별시 강남구 율현동 밤고개로24길(율현동 56)',\n",
       " '서울로7017']"
      ]
     },
     "metadata": {},
     "execution_count": 17
    }
   ],
   "source": [
    "#경찰서의 이름이 '수서서'와 같이 나타나 있으므로 '서울수서경찰서'와 같은 형태로 만들자\n",
    "\n",
    "station_name=[]\n",
    "\n",
    "for name in park['주소']:\n",
    "    station_name.append(str(name))\n",
    "    \n",
    "station_name"
   ]
  },
  {
   "cell_type": "code",
   "execution_count": 18,
   "metadata": {},
   "outputs": [],
   "source": [
    "from tqdm import tqdm_notebook"
   ]
  },
  {
   "cell_type": "code",
   "execution_count": 19,
   "metadata": {},
   "outputs": [
    {
     "output_type": "display_data",
     "data": {
      "text/plain": "HBox(children=(FloatProgress(value=0.0, max=132.0), HTML(value='')))",
      "application/vnd.jupyter.widget-view+json": {
       "version_major": 2,
       "version_minor": 0,
       "model_id": "0e7e08732d2b4b3fb25239377f22d48c"
      }
     },
     "metadata": {}
    },
    {
     "output_type": "stream",
     "name": "stdout",
     "text": [
      "서울특별시 중구 삼일대로 231(예장동)-->대한민국 서울특별시 중구 예장동 삼일대로 231\n",
      "서울특별시 강동구 천호대로 1291(길동생태공원) -->대한민국 서울특별시 강동구 길동 산7-3 길동생태공원\n",
      "경기도 과천시 대공원광장로 102-->대한민국 경기도 과천시 문원동 대공원광장로 102\n",
      "서울특별시 성동구 뚝섬로 273 (성수동1가) -->대한민국 서울특별시 성동구 성수동1가 뚝섬로 273\n",
      "서울특별시 마포구 하늘공원로 84(월드컵공원)-->대한민국 서울특별시 마포구 성산2동 월드컵로 243-60 월드컵공원\n",
      "서울특별시 종로구 세종로 76-2-->대한민국 서울특별시 종로구 세종로 76-2\n",
      "서울특별시 은평구 진관동 393-->대한민국 서울특별시 은평구 진관동 393\n",
      "서울특별시 영등포구 영등포동2가 222-->대한민국 서울특별시 영등포구 영등포동2가 222\n",
      "서울특별시 성동구 금호동1가 산1-72-->대한민국 서울특별시 성동구 금호동1가 72 응봉공원\n",
      "서울특별시 강서구 등촌동 630-14-->대한민국 서울특별시 강서구 등촌동 630-14\n",
      "서울특별시 성동구 성수2가 3동 302-25-->대한민국 서울특별시 성동구 성수2가3동 302-25\n",
      "서울특별시 강동구 명일1동 288-->대한민국 서울특별시 강동구 명일1동 288\n",
      "서울특별시 영등포구 여의공원로 68 (여의도동)-->대한민국 서울특별시 영등포구 여의도동 여의공원로 68\n",
      "서울특별시 동대문구 서울시립대로2길 59(간데메공원)-->대한민국 서울특별시 동대문구 답십리동 471 간데메공원\n",
      "서울특별시 중구 을지로 227-->대한민국 서울특별시 중구 을지로5가 을지로 227\n",
      "서울특별시 영등포구 신길로 275-->대한민국 서울특별시 영등포구 영등포본동 신길로 275\n",
      "서울특별시 동작구 여의대방로20길 33(보라매공원)-->대한민국 서울특별시 동작구 신대방2동 여의대방로20길 33 보라매공원\n",
      "서울특별시 광진구 능동로 216(어린이대공원)-->대한민국 서울특별시 광진구 능동 능동로 216 어린이대공원\n",
      "서울특별시 강동구 올림픽로 702(천호공원)-->대한민국 서울특별시 천호2동 서울특별시 강동구 선사로 83-66 (암사동) 광나루한강공원\n",
      "서울특별시 용산구 서빙고로 185-->대한민국 서울특별시 용산구 서빙고동 서빙고로 185\n",
      "서울특별시 서대문구 통일로251(독립공원)-->대한민국 서울특별시 서대문구 현저동 통일로 247 서대문독립공원\n",
      "서울특별시 종로구 낙산길 41 (우) 03085-->대한민국 서울특별시 종로구 이화동 낙산길 41\n",
      "서울특별시 서초구 매헌로 99 (양재동)-->대한민국 서울특별시 서초구 양재동 매헌로 99\n",
      "서울특별시 관악구 관악로 1(관악산공원)-->대한민국 서울특별시 관악구 대학동 203 관악산 호수공원\n",
      "서울특별시 용산구 효창원로 177-18-->대한민국 서울특별시 용산구 청파동2가 효창원로 177-18\n",
      "서울특별시 금천구 독산4동 371?375 373일대-->대한민국 서울특별시 금천구 독산4동 371\n",
      "서울특별시 성북구 북악산로 949-73(돈암동 6-1)-->대한민국 서울특별시 성북구 돈암동 산7-3\n",
      "서울특별시 구로구 오류동 산13-1-->대한민국 서울특별시 구로구 오류동 산13-1\n",
      "서울특별시 종로구 새문안로 55(신문로2가 2-1)-->대한민국 서울특별시 종로구 사직동 새문안로 55\n",
      "서울특별시 동작구 사당2동 산41-2-->대한민국 서울특별시 동작구 사당동 동작대로29길 52\n",
      "서울특별시 양천구 신정동 산44-2일대-->대한민국 서울특별시 양천구 신정동 산44-2\n",
      "서울특별시 구로구 고척로45길 39(고척공원)-->대한민국 서울특별시 구로구 고척동 9-14 고척근린공원\n",
      "서울특별시 양천구 목동동로 363 -->대한민국 서울특별시 양천구 목동 목동동로 363\n",
      "서울특별시 강서구 허준로5길 42-->대한민국 서울특별시 강서구 가양2동 허준로5길\n",
      "서울특별시 서대문구 성산로7길 19-24(궁동공원) -->대한민국 서울특별시 서대문구 연희동 성산로7길 19-24 궁동근린공원\n",
      "서울특별시 강서구 가양동 산4-7-->대한민국 서울특별시 강서구 가양동 산4-7\n",
      "서울특별시 동작구 사당동 산32-->대한민국 서울특별시 동작구 사당동 산32-2\n",
      "서울특별시 강서구 방화동 산110-->대한민국 서울특별시 강서구 방화동 산110\n",
      "서울특별시 동작구 여의대방로 15-45(여의대방로36길 71)-->대한민국 서울특별시 동작구 대방동 15-45\n",
      "서울특별시 동대문구 답십리로 209(답십리공원) -->대한민국 서울특별시 동대문구 답십리동 답십리공원\n",
      "서울특별시 강남구 광평로10길 30-71(대모산공원) -->대한민국 서울특별시 강남구 일원동 435 대모산도시자연공원\n",
      "서울특별시 종로구 종로 99-->대한민국 서울특별시 종로구 종로1.2.3.4가동 종로 99\n",
      "서울특별시 양천구 신정동 162-56-->대한민국 서울특별시 양천구 신정동 162-21\n",
      "서울특별시 송파구 마천동 산 1-1-->대한민국 서울특별시 송파구 마천동 산1-1\n",
      "서울특별시 강남구 도곡동 산31-1-->대한민국 서울특별시 강남구 도곡동 산31-1\n",
      "서울특별시 강남구 도산대로45길 20(도산공원)-->대한민국 서울특별시 강남구 신사동 도산대로45길 20 도산공원\n",
      "서울특별시 성북구 화랑로18가길 50-->대한민국 서울특별시 성북구 상월곡동 화랑로18가길 50\n",
      "서울특별시 도봉구 창동 산157-->대한민국 서울특별시 도봉구 창동 산157\n",
      "서울특별시 강동구 고덕2동 229-->대한민국 서울특별시 강동구 고덕2동 229\n",
      "서울특별시 종로구 대학로8길 1-->대한민국 서울특별시 종로구 이화동 대학로8길 1\n",
      "서울특별시 영등포구 의사당대로 166 (우) 07324-->대한민국 서울특별시 영등포구 여의도동 의사당대로 지하 166\n",
      "서울특별시 송파구 장지동 산 11번지-->대한민국 서울특별시 송파구 장지동 산11\n",
      "서울특별시 강동구 상일동 135-->대한민국 서울특별시 강동구 상일동 135\n",
      "서울특별시 강서구 금낭화로 176(방화공원)-->대한민국 서울특별시 강서구 방화동\n",
      "서울특별시 송파구 올림픽로 44 (잠실동)-->대한민국 서울특별시 송파구 잠실동 44\n",
      "서울특별시 동대문구 한천로43길 12-14(배봉산공원) -->대한민국 서울특별시 동대문구 전농2동 전농로16길 97 배봉산근린공원\n",
      "서울특별시 서대문구 홍제동 산33-98-->대한민국 서울특별시 서대문구 홍제동 산33-98\n",
      "서울특별시 강서구 염창동 산24-1-->대한민국 서울특별시 강서구 염창동 산24-1\n",
      "서울특별시 서대문구 통일로 507-22(백련공원) -->대한민국 서울특별시 서대문구 홍은동 통일로 507-22\n",
      "서울특별시 송파구 오금로 363 오금근린공원 -->대한민국 서울특별시 오금동 서울특별시 송파구 오금로 363 (오금동) 오금공원\n",
      "서울특별시 강북구 번동 산20-1-->대한민국 서울특별시 강북구 번동 산20-1\n",
      "서울특별시 은평구 구산동 산61-->대한민국 서울특별시 은평구 구산동 산61\n",
      "서울특별시 구로구 개봉동 산2-60-->대한민국 서울특별시 구로구 개봉동 산2-60\n",
      "서울특별시 강남구 삼성동 75-->대한민국 서울특별시 강남구 삼성동 75\n",
      "서울특별시 송파구 올림픽로 424 (방이동)-->대한민국 서울특별시 송파구 방이동 올림픽로 424 올림픽공원\n",
      "서울특별시 종로구 와룡공원길 192 (우) 03063-->대한민국 서울특별시 종로구 명륜3가동 와룡공원길 192 와룡공원\n",
      "서울특별시 중랑구 묵동 산46-1-->대한민국 서울특별시 중랑구 묵동 산46-1\n",
      "서울특별시 종로구 부암동 산2-6-->대한민국 서울특별시 종로구 부암동 산2-6\n",
      "서울특별시 종로구 은평구 서대문구 성북구 강북구 도봉구 일대 경기도 의정부 양주군 고양시 일대-->대한민국 서울특별시 도봉구 창동 749-9\n",
      "서울특별시 마포구 양화진길 46(외국인묘지공원)-->대한민국 서울특별시 마포구 합정동 양화진길 46\n",
      "서울특별시 은평구 불광동 산33-1-->대한민국 서울특별시 은평구 불광동 산33-1\n",
      "서울특별시 노원구 한글비석로12길 51-33(불암산공원) -->대한민국 남양주시 별내동 불암산\n",
      "서울특별시 중랑구 면목동 산1-4 -->대한민국 서울특별시 중랑구 면목동 산1-4\n",
      "서울특별시 동작구 노량진로 191-->대한민국 서울특별시 동작구 노량진1동 노량진로 191\n",
      "서울특별시 양천구 목동 199-51-->대한민국 서울특별시 양천구 목동 199-51\n",
      "서울특별시 종로구 사직로9길 5-->대한민국 서울특별시 종로구 사직동 사직로9길 5\n",
      "서울특별시 강서구 내발산동 산4-5-->대한민국 서울특별시 강서구 내발산동 산4-5\n",
      "서울특별시 동작구 사당동 산24-17-->대한민국 서울특별시 동작구 사당동 산24-17\n",
      "서울특별시 종로구 북촌로 134-1 (우) 03050-->대한민국 서울특별시 종로구 삼청동 북촌로 134-1\n",
      "서울특별시 종로구 옥인동 산 3-1 -->대한민국 서울특별시 종로구 옥인동 산3-1\n",
      "서울특별시 동작구 성대로6사길 27-6(상도공원) -->대한민국 서울특별시 동작구 상도동 산 75 상도근린공원\n",
      "서울특별시 강동구 동남로 660(일자산공원)-->대한민국 서울특별시 강동구 길동 일자산자연공원\n",
      "서울특별시 도봉구 쌍문동 산80-->대한민국 서울특별시 도봉구 쌍문동 산80\n",
      "서울특별시 노원구 상계동 산3-1-->대한민국 서울특별시 노원구 상계동 산3-1\n",
      "서울특별시 송파구 잠실로 148 (잠실동) -->대한민국 서울특별시 송파구 잠실3동 잠실로 148\n",
      "서울특별시 영등포구 선유로 343 (당산동 1) 선유도공원관리사무소-->대한민국 서울특별시 영등포구 당산동 1 선유도공원\n",
      "서울특별시 중구 손기정로 101 -->대한민국 서울특별시 중구 중림동 손기정로 101\n",
      "서울특별시 성북구 돈암동 616-1055-->대한민국 서울특별시 성북구 돈암동 616-651\n",
      "서울특별시 강서구 화곡동 산41-6-->대한민국 서울특별시 강서구 화곡동 산41-6\n",
      "서울특별시 도봉구 마들로 916(서울창포원) -->대한민국 서울특별시 도봉구 도봉동 4 서울창포원\n",
      "서울특별시 강북구 월계로 173-->대한민국 서울특별시 강북구 번3동 월계로 173\n",
      "서울특별시 양천구 남부순환로64길 20 (신월동)-->대한민국 서울특별시 양천구 신월동 남부순환로64길 20\n",
      "서울특별시 중랑구 송림길 160(중랑캠핑숲)/중랑구 망우동 74(청소년체험의숲)-->대한민국 서울특별시 중랑구 망우동 74\n",
      "서울특별시 강북구 우이동 80번지 일대-->대한민국 서울특별시 강북구 우이동 80\n",
      "서울특별시 금천구 독산동 산118-4(금천체육공원)-->대한민국 서울특별시 금천구 독산동 금천체육공원\n",
      "서울특별시 금천구 시흥대로38길 61(시흥동 937-2)-->대한민국 서울특별시 금천구 시흥3동 시흥대로38길 61\n",
      "서울특별시 금천구 독산동 산8 일대-->대한민국 서울특별시 금천구 독산동 산8\n",
      "서울특별시 도봉구 시루봉로6길 33-->대한민국 서울특별시 도봉구 방학동 시루봉로6길 33\n",
      "서울특별시 도봉구 창동 28번지-->대한민국 서울특별시 도봉구 창동 28\n",
      "서울특별시 동대문구 용두동 34-1번지 일대-->대한민국 서울특별시 동대문구 용두동 34-1\n",
      "서울특별시 마포구 상암동 1761-->대한민국 서울특별시 마포구 상암동\n",
      "서울특별시 마포구 창전동 3-193번지 일대(홍익대 뒷산)-->대한민국 서울특별시 마포구 상수동 와우산로 94\n",
      "서울특별시 성동구 장터1길 18-->대한민국 서울특별시 성동구 금호2.3가동 장터1길 18\n",
      "서울특별시 성동구 옥수동 산1-1-->대한민국 서울특별시 성동구 옥수동 산1-1\n",
      "서울특별시 송파구 문정동 18-4-->대한민국 서울특별시 송파구 문정동 18-4\n",
      "서울특별시 서초구 바우뫼로12길 40 (양재동)-->대한민국 서울특별시 서초구 양재동 바우뫼로12길 40\n",
      "서울특별시 종로구 세종대로 189 (우) 03172-->대한민국 서울특별시 종로구 종로1.2.3.4가동 세종대로 지하 189\n",
      "서울특별시 관악구 대학동 산63-1일대 샘말공원-->대한민국 서울특별시 관악구 신림동 신림로 샘말공원\n",
      "서울특별시 도봉구 창동 산24-->대한민국 서울특별시 도봉구 창동 산24\n",
      "서울특별시 구로구 연동로 240(항동81-1) 푸른수목원관리사무소-->대한민국 서울특별시 구로구 항동 96-4 푸른수목원\n",
      "서울특별시 은평구 구파발동 갈현동 진관내동-->대한민국 서울특별시 은평구 갈현동\n",
      "서울특별시 서초구 원지동 산 33-->대한민국 서울특별시 서초구 원지동 산33\n",
      "서울특별시 강서구 개화동 산17-->대한민국 서울특별시 강서구 방화동 산17-2\n",
      "서울특별시 광진구 광장동 370-->대한민국 서울특별시 광진구 광장동 370\n",
      "서울특별시 서초구 내곡동 산12-404-->대한민국 서울특별시 서초구 내곡동 산12-404\n",
      "서울특별시 서초구 염곡동 산25-1-->대한민국 서울특별시 서초구 염곡동 산25-1\n",
      "서울특별시 서초구 우면동 산35-1-->대한민국 서울특별시 서초구 우면동 산35-1\n",
      "서울특별시 은평구 진관동 산55-->대한민국 서울특별시 은평구 진관동 산55\n",
      "서울특별시 은평구 신사동 산80-4-->대한민국 서울특별시 은평구 신사동 산80-4\n",
      "서울특별시 중구 통일로 1 서울역-->대한민국 서울특별시 중구 봉래동2가 통일로 1\n",
      "서울특별시 강남구 수서동 산10-1-->대한민국 서울특별시 강남구 수서동 산10-1\n",
      "서울특별시 강남구 청담동 66-->대한민국 서울특별시 강남구 청담동 66\n",
      "서울특별시 강동구 둔촌동 산94-->대한민국 서울특별시 강동구 둔촌동 산94\n",
      "서울특별시 은평구 통일로 849-->대한민국 서울특별시 은평구 갈현동 통일로 지하 849\n",
      "서울특별시 중구 망우동 산 30-7 일대-->대한민국 서울특별시 중구\n",
      "서울특별시 종로구 숭인동 58-->대한민국 서울특별시 종로구 숭인동 58\n",
      "서울특별시 중랑구 면목동 산19-->대한민국 서울특별시 중랑구 면목동 산19\n",
      "서울특별시 중랑구 면목7동 산50 -->대한민국 서울특별시 중랑구 면목동 산50\n",
      "서울특별시 마포구 증산로 87-->대한민국 서울특별시 마포구 성산동 증산로 87 문화비축기지\n",
      "노원구 공릉2동 산 82-2-->대한민국 서울특별시 노원구 공릉2동 산82-2\n",
      "서울특별시 강남구 율현동 밤고개로24길(율현동 56)-->대한민국 서울특별시 강남구 율현동 밤고개로24길\n",
      "서울로7017-->대한민국 서울특별시 중구 회현동 퇴계로 18 서울로7017\n",
      "\n"
     ]
    }
   ],
   "source": [
    "# 이제 경찰서의 이름을 활용하여 주소를 받아올 수 있다.\n",
    "station_address = []\n",
    "station_lat = []\n",
    "station_lng = []\n",
    "\n",
    "for name in tqdm_notebook(station_name):\n",
    "    tmp = gmaps.geocode(name, language='ko')\n",
    "    station_address.append(tmp[0].get('formatted_address')) # 주소 추가\n",
    "\n",
    "    tmp_loc = tmp[0].get('geometry')\n",
    "\n",
    "    station_lat.append(tmp_loc['location']['lat']) # 위치의 위도 추가\n",
    "    \n",
    "    station_lng.append(tmp_loc['location']['lng']) # 위치의 경도 추가\n",
    "    \n",
    "    tmp_loc = tmp[0].get('geometry')\n",
    "    \n",
    "    print(name + '-->' + tmp[0].get('formatted_address'))"
   ]
  },
  {
   "cell_type": "code",
   "execution_count": 20,
   "metadata": {},
   "outputs": [
    {
     "output_type": "execute_result",
     "data": {
      "text/plain": [
       "['대한민국 서울특별시 중구 예장동 삼일대로 231',\n",
       " '대한민국 서울특별시 강동구 길동 산7-3 길동생태공원',\n",
       " '대한민국 경기도 과천시 문원동 대공원광장로 102',\n",
       " '대한민국 서울특별시 성동구 성수동1가 뚝섬로 273',\n",
       " '대한민국 서울특별시 마포구 성산2동 월드컵로 243-60 월드컵공원']"
      ]
     },
     "metadata": {},
     "execution_count": 20
    }
   ],
   "source": [
    "station_address[:5]"
   ]
  },
  {
   "cell_type": "code",
   "execution_count": 21,
   "metadata": {},
   "outputs": [
    {
     "output_type": "stream",
     "name": "stdout",
     "text": [
      "중구\n"
     ]
    }
   ],
   "source": [
    "gu_name=[]\n",
    "\n",
    "for name in range(len(station_address)):\n",
    "    tmp = station_address[name].split()[2]\n",
    "\n",
    "print(tmp)"
   ]
  },
  {
   "cell_type": "code",
   "execution_count": 22,
   "metadata": {},
   "outputs": [
    {
     "output_type": "execute_result",
     "data": {
      "text/plain": [
       "['중구',\n",
       " '강동구',\n",
       " '과천시',\n",
       " '성동구',\n",
       " '마포구',\n",
       " '종로구',\n",
       " '은평구',\n",
       " '영등포구',\n",
       " '성동구',\n",
       " '강서구',\n",
       " '성동구',\n",
       " '강동구',\n",
       " '영등포구',\n",
       " '동대문구',\n",
       " '중구',\n",
       " '영등포구',\n",
       " '동작구',\n",
       " '광진구',\n",
       " '천호2동',\n",
       " '용산구',\n",
       " '서대문구',\n",
       " '종로구',\n",
       " '서초구',\n",
       " '관악구',\n",
       " '용산구',\n",
       " '금천구',\n",
       " '성북구',\n",
       " '구로구',\n",
       " '종로구',\n",
       " '동작구',\n",
       " '양천구',\n",
       " '구로구',\n",
       " '양천구',\n",
       " '강서구',\n",
       " '서대문구',\n",
       " '강서구',\n",
       " '동작구',\n",
       " '강서구',\n",
       " '동작구',\n",
       " '동대문구',\n",
       " '강남구',\n",
       " '종로구',\n",
       " '양천구',\n",
       " '송파구',\n",
       " '강남구',\n",
       " '강남구',\n",
       " '성북구',\n",
       " '도봉구',\n",
       " '강동구',\n",
       " '종로구',\n",
       " '영등포구',\n",
       " '송파구',\n",
       " '강동구',\n",
       " '강서구',\n",
       " '송파구',\n",
       " '동대문구',\n",
       " '서대문구',\n",
       " '강서구',\n",
       " '서대문구',\n",
       " '오금동',\n",
       " '강북구',\n",
       " '은평구',\n",
       " '구로구',\n",
       " '강남구',\n",
       " '송파구',\n",
       " '종로구',\n",
       " '중랑구',\n",
       " '종로구',\n",
       " '도봉구',\n",
       " '마포구',\n",
       " '은평구',\n",
       " '별내동',\n",
       " '중랑구',\n",
       " '동작구',\n",
       " '양천구',\n",
       " '종로구',\n",
       " '강서구',\n",
       " '동작구',\n",
       " '종로구',\n",
       " '종로구',\n",
       " '동작구',\n",
       " '강동구',\n",
       " '도봉구',\n",
       " '노원구',\n",
       " '송파구',\n",
       " '영등포구',\n",
       " '중구',\n",
       " '성북구',\n",
       " '강서구',\n",
       " '도봉구',\n",
       " '강북구',\n",
       " '양천구',\n",
       " '중랑구',\n",
       " '강북구',\n",
       " '금천구',\n",
       " '금천구',\n",
       " '금천구',\n",
       " '도봉구',\n",
       " '도봉구',\n",
       " '동대문구',\n",
       " '마포구',\n",
       " '마포구',\n",
       " '성동구',\n",
       " '성동구',\n",
       " '송파구',\n",
       " '서초구',\n",
       " '종로구',\n",
       " '관악구',\n",
       " '도봉구',\n",
       " '구로구',\n",
       " '은평구',\n",
       " '서초구',\n",
       " '강서구',\n",
       " '광진구',\n",
       " '서초구',\n",
       " '서초구',\n",
       " '서초구',\n",
       " '은평구',\n",
       " '은평구',\n",
       " '중구',\n",
       " '강남구',\n",
       " '강남구',\n",
       " '강동구',\n",
       " '은평구',\n",
       " '중구',\n",
       " '종로구',\n",
       " '중랑구',\n",
       " '중랑구',\n",
       " '마포구',\n",
       " '노원구',\n",
       " '강남구',\n",
       " '중구']"
      ]
     },
     "metadata": {},
     "execution_count": 22
    }
   ],
   "source": [
    "# 주소를 쪼갠다음 '구'가 들어있는 단어만 뽑아내어 '구별'이라는 컬럼에 추가해준다.\n",
    "gu_name=[]\n",
    "\n",
    "for name in range(len(station_address)):\n",
    "    tmp = station_address[name].split()[2]\n",
    "    \n",
    "    gu_name.append(tmp)\n",
    "gu_name"
   ]
  },
  {
   "cell_type": "code",
   "execution_count": 23,
   "metadata": {},
   "outputs": [
    {
     "output_type": "execute_result",
     "data": {
      "text/plain": [
       "        공원명                                            면적        개원일   지역  \\\n",
       "0  남산도시자연공원  2896887㎡ 임 야 : 2454140㎡ 녹지대 및 기타시설 : 442747㎡  1968.9.10   중구   \n",
       "1    길동생태공원                                        80683㎡  1999.5.20  강동구   \n",
       "2     서울대공원                                     9132690m²   1984.5.1  과천시   \n",
       "3       서울숲                                       480994㎡  2005.6.18  성동구   \n",
       "4     월드컵공원                                      2284085㎡   2002.5.1  마포구   \n",
       "\n",
       "                             주소              관리부서  X좌표(GRS80TM)  Y좌표(GRS80TM)  \\\n",
       "0        서울특별시 중구 삼일대로 231(예장동)    서울특별시중부푸른도시사업소    198364.107    450395.554   \n",
       "1  서울특별시 강동구 천호대로 1291(길동생태공원)   동부공원녹지사업소 길동생태공원    213554.120    448852.675   \n",
       "2            경기도 과천시 대공원광장로 102             전략기획실    200994.267    437163.981   \n",
       "3    서울특별시 성동구 뚝섬로 273 (성수동1가)          서울숲 관리사무소    203695.432    449290.726   \n",
       "4     서울특별시 마포구 하늘공원로 84(월드컵공원)             월드컵공원    190658.070    451598.831   \n",
       "\n",
       "   X좌표(WGS84)  Y좌표(WGS84)   구별  \n",
       "0  126.990377   37.550140   중구  \n",
       "1  127.154779   37.540394  강동구  \n",
       "2  127.019847   37.426449  과천시  \n",
       "3  127.041798   37.543072  성동구  \n",
       "4  126.878907   37.571805  마포구  "
      ],
      "text/html": "<div>\n<style scoped>\n    .dataframe tbody tr th:only-of-type {\n        vertical-align: middle;\n    }\n\n    .dataframe tbody tr th {\n        vertical-align: top;\n    }\n\n    .dataframe thead th {\n        text-align: right;\n    }\n</style>\n<table border=\"1\" class=\"dataframe\">\n  <thead>\n    <tr style=\"text-align: right;\">\n      <th></th>\n      <th>공원명</th>\n      <th>면적</th>\n      <th>개원일</th>\n      <th>지역</th>\n      <th>주소</th>\n      <th>관리부서</th>\n      <th>X좌표(GRS80TM)</th>\n      <th>Y좌표(GRS80TM)</th>\n      <th>X좌표(WGS84)</th>\n      <th>Y좌표(WGS84)</th>\n      <th>구별</th>\n    </tr>\n  </thead>\n  <tbody>\n    <tr>\n      <th>0</th>\n      <td>남산도시자연공원</td>\n      <td>2896887㎡ 임 야 : 2454140㎡ 녹지대 및 기타시설 : 442747㎡</td>\n      <td>1968.9.10</td>\n      <td>중구</td>\n      <td>서울특별시 중구 삼일대로 231(예장동)</td>\n      <td>서울특별시중부푸른도시사업소</td>\n      <td>198364.107</td>\n      <td>450395.554</td>\n      <td>126.990377</td>\n      <td>37.550140</td>\n      <td>중구</td>\n    </tr>\n    <tr>\n      <th>1</th>\n      <td>길동생태공원</td>\n      <td>80683㎡</td>\n      <td>1999.5.20</td>\n      <td>강동구</td>\n      <td>서울특별시 강동구 천호대로 1291(길동생태공원)</td>\n      <td>동부공원녹지사업소 길동생태공원</td>\n      <td>213554.120</td>\n      <td>448852.675</td>\n      <td>127.154779</td>\n      <td>37.540394</td>\n      <td>강동구</td>\n    </tr>\n    <tr>\n      <th>2</th>\n      <td>서울대공원</td>\n      <td>9132690m²</td>\n      <td>1984.5.1</td>\n      <td>과천시</td>\n      <td>경기도 과천시 대공원광장로 102</td>\n      <td>전략기획실</td>\n      <td>200994.267</td>\n      <td>437163.981</td>\n      <td>127.019847</td>\n      <td>37.426449</td>\n      <td>과천시</td>\n    </tr>\n    <tr>\n      <th>3</th>\n      <td>서울숲</td>\n      <td>480994㎡</td>\n      <td>2005.6.18</td>\n      <td>성동구</td>\n      <td>서울특별시 성동구 뚝섬로 273 (성수동1가)</td>\n      <td>서울숲 관리사무소</td>\n      <td>203695.432</td>\n      <td>449290.726</td>\n      <td>127.041798</td>\n      <td>37.543072</td>\n      <td>성동구</td>\n    </tr>\n    <tr>\n      <th>4</th>\n      <td>월드컵공원</td>\n      <td>2284085㎡</td>\n      <td>2002.5.1</td>\n      <td>마포구</td>\n      <td>서울특별시 마포구 하늘공원로 84(월드컵공원)</td>\n      <td>월드컵공원</td>\n      <td>190658.070</td>\n      <td>451598.831</td>\n      <td>126.878907</td>\n      <td>37.571805</td>\n      <td>마포구</td>\n    </tr>\n  </tbody>\n</table>\n</div>"
     },
     "metadata": {},
     "execution_count": 23
    }
   ],
   "source": [
    "park['구별'] = gu_name\n",
    "park.head()"
   ]
  },
  {
   "cell_type": "code",
   "execution_count": 24,
   "metadata": {},
   "outputs": [
    {
     "output_type": "execute_result",
     "data": {
      "text/plain": [
       "[37.5555891, 37.5410211, 37.4362233, 37.54316439999999, 37.5639074]"
      ]
     },
     "metadata": {},
     "execution_count": 24
    }
   ],
   "source": [
    "station_lat[:5]"
   ]
  },
  {
   "cell_type": "code",
   "execution_count": 25,
   "metadata": {},
   "outputs": [
    {
     "output_type": "execute_result",
     "data": {
      "text/plain": [
       "[126.9922104, 127.1562098, 127.0140581, 127.0418547, 126.8973166]"
      ]
     },
     "metadata": {},
     "execution_count": 25
    }
   ],
   "source": [
    "#경도\n",
    "station_lng[:5]"
   ]
  },
  {
   "cell_type": "code",
   "execution_count": 26,
   "metadata": {},
   "outputs": [
    {
     "output_type": "execute_result",
     "data": {
      "text/plain": [
       "        공원명                                            면적        개원일   지역  \\\n",
       "0  남산도시자연공원  2896887㎡ 임 야 : 2454140㎡ 녹지대 및 기타시설 : 442747㎡  1968.9.10   중구   \n",
       "1    길동생태공원                                        80683㎡  1999.5.20  강동구   \n",
       "2     서울대공원                                     9132690m²   1984.5.1  과천시   \n",
       "3       서울숲                                       480994㎡  2005.6.18  성동구   \n",
       "4     월드컵공원                                      2284085㎡   2002.5.1  마포구   \n",
       "\n",
       "                             주소              관리부서  X좌표(GRS80TM)  Y좌표(GRS80TM)  \\\n",
       "0        서울특별시 중구 삼일대로 231(예장동)    서울특별시중부푸른도시사업소    198364.107    450395.554   \n",
       "1  서울특별시 강동구 천호대로 1291(길동생태공원)   동부공원녹지사업소 길동생태공원    213554.120    448852.675   \n",
       "2            경기도 과천시 대공원광장로 102             전략기획실    200994.267    437163.981   \n",
       "3    서울특별시 성동구 뚝섬로 273 (성수동1가)          서울숲 관리사무소    203695.432    449290.726   \n",
       "4     서울특별시 마포구 하늘공원로 84(월드컵공원)             월드컵공원    190658.070    451598.831   \n",
       "\n",
       "   X좌표(WGS84)  Y좌표(WGS84)   구별        lat         lng  \n",
       "0  126.990377   37.550140   중구  37.555589  126.992210  \n",
       "1  127.154779   37.540394  강동구  37.541021  127.156210  \n",
       "2  127.019847   37.426449  과천시  37.436223  127.014058  \n",
       "3  127.041798   37.543072  성동구  37.543164  127.041855  \n",
       "4  126.878907   37.571805  마포구  37.563907  126.897317  "
      ],
      "text/html": "<div>\n<style scoped>\n    .dataframe tbody tr th:only-of-type {\n        vertical-align: middle;\n    }\n\n    .dataframe tbody tr th {\n        vertical-align: top;\n    }\n\n    .dataframe thead th {\n        text-align: right;\n    }\n</style>\n<table border=\"1\" class=\"dataframe\">\n  <thead>\n    <tr style=\"text-align: right;\">\n      <th></th>\n      <th>공원명</th>\n      <th>면적</th>\n      <th>개원일</th>\n      <th>지역</th>\n      <th>주소</th>\n      <th>관리부서</th>\n      <th>X좌표(GRS80TM)</th>\n      <th>Y좌표(GRS80TM)</th>\n      <th>X좌표(WGS84)</th>\n      <th>Y좌표(WGS84)</th>\n      <th>구별</th>\n      <th>lat</th>\n      <th>lng</th>\n    </tr>\n  </thead>\n  <tbody>\n    <tr>\n      <th>0</th>\n      <td>남산도시자연공원</td>\n      <td>2896887㎡ 임 야 : 2454140㎡ 녹지대 및 기타시설 : 442747㎡</td>\n      <td>1968.9.10</td>\n      <td>중구</td>\n      <td>서울특별시 중구 삼일대로 231(예장동)</td>\n      <td>서울특별시중부푸른도시사업소</td>\n      <td>198364.107</td>\n      <td>450395.554</td>\n      <td>126.990377</td>\n      <td>37.550140</td>\n      <td>중구</td>\n      <td>37.555589</td>\n      <td>126.992210</td>\n    </tr>\n    <tr>\n      <th>1</th>\n      <td>길동생태공원</td>\n      <td>80683㎡</td>\n      <td>1999.5.20</td>\n      <td>강동구</td>\n      <td>서울특별시 강동구 천호대로 1291(길동생태공원)</td>\n      <td>동부공원녹지사업소 길동생태공원</td>\n      <td>213554.120</td>\n      <td>448852.675</td>\n      <td>127.154779</td>\n      <td>37.540394</td>\n      <td>강동구</td>\n      <td>37.541021</td>\n      <td>127.156210</td>\n    </tr>\n    <tr>\n      <th>2</th>\n      <td>서울대공원</td>\n      <td>9132690m²</td>\n      <td>1984.5.1</td>\n      <td>과천시</td>\n      <td>경기도 과천시 대공원광장로 102</td>\n      <td>전략기획실</td>\n      <td>200994.267</td>\n      <td>437163.981</td>\n      <td>127.019847</td>\n      <td>37.426449</td>\n      <td>과천시</td>\n      <td>37.436223</td>\n      <td>127.014058</td>\n    </tr>\n    <tr>\n      <th>3</th>\n      <td>서울숲</td>\n      <td>480994㎡</td>\n      <td>2005.6.18</td>\n      <td>성동구</td>\n      <td>서울특별시 성동구 뚝섬로 273 (성수동1가)</td>\n      <td>서울숲 관리사무소</td>\n      <td>203695.432</td>\n      <td>449290.726</td>\n      <td>127.041798</td>\n      <td>37.543072</td>\n      <td>성동구</td>\n      <td>37.543164</td>\n      <td>127.041855</td>\n    </tr>\n    <tr>\n      <th>4</th>\n      <td>월드컵공원</td>\n      <td>2284085㎡</td>\n      <td>2002.5.1</td>\n      <td>마포구</td>\n      <td>서울특별시 마포구 하늘공원로 84(월드컵공원)</td>\n      <td>월드컵공원</td>\n      <td>190658.070</td>\n      <td>451598.831</td>\n      <td>126.878907</td>\n      <td>37.571805</td>\n      <td>마포구</td>\n      <td>37.563907</td>\n      <td>126.897317</td>\n    </tr>\n  </tbody>\n</table>\n</div>"
     },
     "metadata": {},
     "execution_count": 26
    }
   ],
   "source": [
    "park['lat'] = station_lat\n",
    "park['lng'] = station_lng\n",
    "park.head()"
   ]
  },
  {
   "cell_type": "code",
   "execution_count": null,
   "metadata": {},
   "outputs": [],
   "source": []
  }
 ]
}