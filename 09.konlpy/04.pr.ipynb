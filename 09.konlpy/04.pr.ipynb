{
 "metadata": {
  "language_info": {
   "codemirror_mode": {
    "name": "ipython",
    "version": 3
   },
   "file_extension": ".py",
   "mimetype": "text/x-python",
   "name": "python",
   "nbconvert_exporter": "python",
   "pygments_lexer": "ipython3",
   "version": "3.8.3-final"
  },
  "orig_nbformat": 2,
  "kernelspec": {
   "name": "Python 3.8.3 64-bit ('base': conda)",
   "display_name": "Python 3.8.3 64-bit ('base': conda)",
   "metadata": {
    "interpreter": {
     "hash": "c2224539028b414c7f0940cdc86eeb3c7deaf138deef25179eca5056c4d821b9"
    }
   }
  }
 },
 "nbformat": 4,
 "nbformat_minor": 2,
 "cells": [
  {
   "cell_type": "code",
   "execution_count": 1,
   "metadata": {},
   "outputs": [],
   "source": [
    "import pandas as pd\n",
    "import numpy as np\n",
    "\n",
    "import platform\n",
    "import matplotlib.pyplot as plt \n",
    "%matplotlib inline"
   ]
  },
  {
   "cell_type": "code",
   "execution_count": 2,
   "metadata": {},
   "outputs": [],
   "source": [
    "import time\n",
    "from selenium import webdriver\n",
    "from selenium.webdriver.common.keys import Keys"
   ]
  },
  {
   "cell_type": "code",
   "execution_count": 3,
   "metadata": {},
   "outputs": [],
   "source": [
    "from urllib.parse import quote\n",
    "import math"
   ]
  },
  {
   "cell_type": "markdown",
   "metadata": {},
   "source": [
    "## 네이버 지식인 크롤링"
   ]
  },
  {
   "cell_type": "code",
   "execution_count": 50,
   "metadata": {},
   "outputs": [],
   "source": [
    "# 입력때문에 해당 코드 사용\n",
    "driver = webdriver.Chrome('./chromedriver')\n",
    "# driver.maximize_window() #아래 페이지 자동 눌름 기능을 하기위해선 해당 코드가 필요, 화면전체에만 버튼이 보이기에\n",
    "driver.get('https://search.naver.com/search.naver?sm=tab_hty.top&where=kin&query=%EC%97%AC%EC%9E%90%EC%B9%9C%EA%B5%AC%EC%84%A0%EB%AC%BC&oquery=%EC%97%AC%EC%B9%9C%EC%84%A0%EB%AC%BC&tqi=U8JrGwp0JywssKdLTbCssssst6w-355953')\n",
    "time.sleep(1)\n",
    "\n",
    "driver.find_element_by_css_selector('.question_area').click()\n",
    "time.sleep(2)\n",
    "\n",
    "region = driver.find_element_by_xpath('//*[@id=\"content\"]')\n",
    "gu_list = region.find_elements_by_tag_name('.div.c-heading__title')"
   ]
  },
  {
   "cell_type": "code",
   "execution_count": 4,
   "metadata": {},
   "outputs": [],
   "source": [
    "driver = webdriver.Chrome('./chromedriver')\n",
    "key_word = ('여자친구선물')\n",
    "unm = 1\n",
    "tmp1 = 'https://search.naver.com/search.naver?where=kin'\n",
    "htm1 = tmp1 +f'&sm=tmb_jum&ie=utf8&query={key_word}&start={unm}'\n",
    "driver.get(htm1)\n",
    "\n",
    "driver.find_element_by_css_selector('.question_area').click()\n",
    "time.sleep(2)\n",
    "\n",
    "gu_content = driver.find_element_by_xpath('//*[@id=\"content\"]')\n",
    "gu_title = driver.find_element_by_class_name('title').text"
   ]
  },
  {
   "cell_type": "code",
   "execution_count": 14,
   "metadata": {},
   "outputs": [],
   "source": [
    "driver = webdriver.Chrome('./chromedriver')\n",
    "keyword = ('여자친구선물')\n",
    "html = f'https://search.naver.com/search.naver?where=kin&sm=tab_jum&query={keyword}'\n",
    "driver.get(html)\n",
    "\n",
    "driver.find_element_by_css_selector('.question_area').click()\n",
    "time.sleep(2)\n",
    "\n",
    "gu_content = driver.find_element_by_xpath('//*[@id=\"content\"]')\n",
    "gu_title = driver.find_element_by_class_name('title').text"
   ]
  }
 ]
}