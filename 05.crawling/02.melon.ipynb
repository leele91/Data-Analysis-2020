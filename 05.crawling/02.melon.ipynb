{
 "metadata": {
  "language_info": {
   "codemirror_mode": {
    "name": "ipython",
    "version": 3
   },
   "file_extension": ".py",
   "mimetype": "text/x-python",
   "name": "python",
   "nbconvert_exporter": "python",
   "pygments_lexer": "ipython3",
   "version": "3.8.3-final"
  },
  "orig_nbformat": 2,
  "kernelspec": {
   "name": "python3",
   "display_name": "Python 3"
  }
 },
 "nbformat": 4,
 "nbformat_minor": 2,
 "cells": [
  {
   "cell_type": "code",
   "execution_count": 1,
   "metadata": {},
   "outputs": [],
   "source": [
    "from bs4 import BeautifulSoup\n",
    "import urllib.request\n",
    "import urllib.parse\n",
    "import pandas as pd"
   ]
  },
  {
   "source": [
    "# Molon 주간 Top 100구하기"
   ],
   "cell_type": "markdown",
   "metadata": {}
  },
  {
   "cell_type": "code",
   "execution_count": 2,
   "metadata": {},
   "outputs": [],
   "source": [
    "import requests\n",
    "url = 'https://www.melon.com/chart/week/index.htm'\n",
    "header = {'User-Agent': 'Mozilla/5.0 (Windows NT 6.3; Trident/7.0; rv:11.0) like Gecko'}\n",
    "req = requests.get(url, headers = header)\n",
    "html= req.text"
   ]
  },
  {
   "cell_type": "code",
   "execution_count": 3,
   "metadata": {},
   "outputs": [],
   "source": [
    "# #하나만 가져오기: 태그 객체 = select_one(CSS Selector 문자열) #CSS Selector: 태그의 계층 구조상의 위치를 설명\n",
    "soup = BeautifulSoup(html, 'html.parser')"
   ]
  },
  {
   "cell_type": "code",
   "execution_count": 4,
   "metadata": {},
   "outputs": [
    {
     "output_type": "execute_result",
     "data": {
      "text/plain": [
       "'\\r\\n\\t\\t\\t\\t\\t\\t\\t2020.11.09 ~ 2020.11.15\\r\\n\\t\\t\\t\\t\\t\\t'"
      ]
     },
     "metadata": {},
     "execution_count": 4
    }
   ],
   "source": [
    "soup.select_one('.yyyymmdd').get_text() # 안의 내용물만 안나올때 strip"
   ]
  },
  {
   "cell_type": "code",
   "execution_count": 5,
   "metadata": {},
   "outputs": [
    {
     "output_type": "execute_result",
     "data": {
      "text/plain": [
       "'2020.11.09 ~ 2020.11.15'"
      ]
     },
     "metadata": {},
     "execution_count": 5
    }
   ],
   "source": [
    "date = soup.select_one('.yyyymmdd').get_text().strip()\n",
    "date"
   ]
  },
  {
   "cell_type": "code",
   "execution_count": 6,
   "metadata": {},
   "outputs": [
    {
     "output_type": "execute_result",
     "data": {
      "text/plain": [
       "('2020.11.09', '2020.11.15')"
      ]
     },
     "metadata": {},
     "execution_count": 6
    }
   ],
   "source": [
    "start_day = date[:10]\n",
    "end_day = date[13:]\n",
    "start_day, end_day"
   ]
  },
  {
   "source": [
    "### 곡 리스트 찾기 "
   ],
   "cell_type": "markdown",
   "metadata": {}
  },
  {
   "cell_type": "code",
   "execution_count": 7,
   "metadata": {},
   "outputs": [
    {
     "output_type": "execute_result",
     "data": {
      "text/plain": [
       "100"
      ]
     },
     "metadata": {},
     "execution_count": 7
    }
   ],
   "source": [
    "service_list = soup.select_one('.service_list_song')\n",
    "tbody = service_list.find('tbody')\n",
    "trs = tbody.find_all('tr')\n",
    "len(trs)"
   ]
  },
  {
   "cell_type": "code",
   "execution_count": 27,
   "metadata": {
    "tags": [
     "outputPrepend"
    ]
   },
   "outputs": [
    {
     "output_type": "stream",
     "name": "stdout",
     "text": [
      " class=\"button_icons scrap\" onclick=\"melon.play.addPlayList('32034629');\" title=\"담기\" type=\"button\"><span class=\"none\">담기</span></button>\n</div></td>\n<td><div class=\"wrap t_center\">\n<button class=\"button_icons download\" onclick=\"melon.buy.goBuyProduct('frm', '32034629', '3C0001', '','0', '19041301');\" title=\"다운로드\" type=\"button\"><span class=\"none\">다운로드</span></button>\n</div></td>\n<td><div class=\"wrap t_center\">\n<button class=\"button_icons video\" onclick=\"melon.link.goMvDetail('19041301', '32034629','song');\" title=\"뮤직비디오\" type=\"button\"><span class=\"none\">뮤직비디오</span></button>\n</div></td>\n</tr>, <tr class=\"lst100\" data-song-no=\"32955381\" id=\"lst100\" style=\"\">\n<td><div class=\"wrap t_right\"><input class=\"input_check\" name=\"input_check\" title=\"밤하늘의 저 별처럼 곡 선택\" type=\"checkbox\" value=\"32955381\"/></div></td>\n<td><div class=\"wrap t_center\"><span class=\"rank\">95</span><span class=\"none\">위</span></div></td>\n<!-- 차트순위 추가 -->\n<td><div class=\"wrap\">\n<span class=\"rank_wrap\" title=\"4단계 하락\">\n<span class=\"bullet_icons rank_down\"><span class=\"none\">단계 하락</span></span>\n<span class=\"down\">4</span>\n</span>\n</div></td>\n<td><div class=\"wrap\">\n<a class=\"image_typeAll\" href=\"javascript:melon.link.goAlbumDetail('10496604');\" title=\"밤하늘의 저 별처럼 (브람스를 좋아하세요? OST 스페셜 트랙)\">\n<img alt=\"밤하늘의 저 별처럼 (브람스를 좋아하세요? OST 스페셜 트랙) - 페이지 이동\" height=\"60\" onerror=\"WEBPOCIMG.defaultAlbumImg(this);\" src=\"https://cdnimg.melon.co.kr/cm2/album/images/104/96/604/10496604_20200925163956_500.jpg/melon/resize/120/quality/80/optimize\" width=\"60\"/>\n<span class=\"bg_album_frame\"></span>\n</a>\n</div></td>\n<td><div class=\"wrap\">\n<a class=\"btn button_icons type03 song_info\" href=\"javascript:melon.link.goSongDetail('32955381');\" title=\"밤하늘의 저 별처럼 곡정보\"><span class=\"none\">곡정보</span></a>\n</div></td>\n<td><div class=\"wrap\">\n<div class=\"wrap_song_info\">\n<div class=\"ellipsis rank01\"><span>\n<a href=\"javascript:melon.play.playSong('19041301',32955381);\" title=\"밤하늘의 저 별처럼 재생\">밤하늘의 저 별처럼</a>\n</span></div><br/>\n<div class=\"ellipsis rank02\">\n<a href=\"javascript:melon.link.goArtistDetail('751611');\" title=\"헤이즈 (Heize) - 페이지 이동\">헤이즈 (Heize)</a>, <a href=\"javascript:melon.link.goArtistDetail('749640');\" title=\"펀치 (Punch) - 페이지 이동\">펀치 (Punch)</a><span class=\"checkEllipsis\" style=\"display:none\"><a href=\"javascript:melon.link.goArtistDetail('751611');\" title=\"헤이즈 (Heize) - 페이지 이동\">헤이즈 (Heize)</a>, <a href=\"javascript:melon.link.goArtistDetail('749640');\" title=\"펀치 (Punch) - 페이지 이동\">펀치 (Punch)</a></span>\n</div>\n<div class=\"wrap_atist\" style=\"display:none;\">\n<button class=\"button_icons etc more_down\" data-control=\"dropdown\" title=\"아티스트 더보기\" type=\"button\"><span class=\"none\">아티스트명 더보기</span></button>\n<div class=\"atist_view\" style=\"display:none;\">\n<ul>\n<li><a class=\"ellipsis\" href=\"javascript:melon.link.goArtistDetail('751611');\" title=\"헤이즈 (Heize) 페이지 이동\">헤이즈 (Heize)</a></li>\n<li><a class=\"ellipsis\" href=\"javascript:melon.link.goArtistDetail('749640');\" title=\"펀치 (Punch) 페이지 이동\">펀치 (Punch)</a></li>\n</ul>\n</div>\n</div>\n</div>\n</div></td>\n<td><div class=\"wrap\">\n<div class=\"wrap_song_info\">\n<div class=\"ellipsis rank03\">\n<a href=\"javascript:melon.link.goAlbumDetail('10496604');\" title=\"밤하늘의 저 별처럼 (브람스를 좋아하세요? OST 스페셜 트랙) - 페이지 이동\">밤하늘의 저 별처럼 (브람스를 좋아하세요? OST 스페셜 트랙)</a>\n</div>\n</div>\n</div></td>\n<td><div class=\"wrap\">\n<button class=\"button_etc like\" data-song-menuid=\"19041301\" data-song-no=\"32955381\" title=\"밤하늘의 저 별처럼 좋아요\" type=\"button\">\n<span class=\"odd_span\">좋아요</span>\n<span class=\"cnt\">\n<span class=\"none\">총건수</span>\n\t\t\t\t\t\t\t\t\t\t\t\t0\n\t\t\t\t\t\t\t\t\t\t\t</span>\n</button>\n</div></td>\n<td><div class=\"wrap t_center\">\n<button class=\"button_icons play\" onclick=\"melon.play.playSong('19041301',32955381);\" title=\"듣기\" type=\"button\"><span class=\"none\">듣기</span></button>\n</div></td>\n<td><div class=\"wrap t_center\">\n<button class=\"button_icons scrap\" onclick=\"melon.play.addPlayList('32955381');\" title=\"담기\" type=\"button\"><span class=\"none\">담기</span></button>\n</div></td>\n<td><div class=\"wrap t_center\">\n<button class=\"button_icons download\" onclick=\"melon.buy.goBuyProduct('frm', '32955381', '3C0001', '','0', '19041301');\" title=\"다운로드\" type=\"button\"><span class=\"none\">다운로드</span></button>\n</div></td>\n<td><div class=\"wrap t_center\">\n<button class=\"button_icons video\" onclick=\"melon.link.goMvDetail('19041301', '32955381','song');\" title=\"뮤직비디오\" type=\"button\"><span class=\"none\">뮤직비디오</span></button>\n</div></td>\n</tr>, <tr class=\"lst100\" data-song-no=\"32508146\" id=\"lst100\" style=\"\">\n<td><div class=\"wrap t_right\"><input class=\"input_check\" name=\"input_check\" title=\"화려하지 않은 고백 곡 선택\" type=\"checkbox\" value=\"32508146\"/></div></td>\n<td><div class=\"wrap t_center\"><span class=\"rank\">96</span><span class=\"none\">위</span></div></td>\n<!-- 차트순위 추가 -->\n<td><div class=\"wrap\">\n<span class=\"rank_wrap\" title=\"4단계 하락\">\n<span class=\"bullet_icons rank_down\"><span class=\"none\">단계 하락</span></span>\n<span class=\"down\">4</span>\n</span>\n</div></td>\n<td><div class=\"wrap\">\n<a class=\"image_typeAll\" href=\"javascript:melon.link.goAlbumDetail('10412335');\" title=\"슬기로운 의사생활 OST Part 4\">\n<img alt=\"슬기로운 의사생활 OST Part 4 - 페이지 이동\" height=\"60\" onerror=\"WEBPOCIMG.defaultAlbumImg(this);\" src=\"https://cdnimg.melon.co.kr/cm2/album/images/104/12/335/10412335_20200403104545_500.jpg/melon/resize/120/quality/80/optimize\" width=\"60\"/>\n<span class=\"bg_album_frame\"></span>\n</a>\n</div></td>\n<td><div class=\"wrap\">\n<a class=\"btn button_icons type03 song_info\" href=\"javascript:melon.link.goSongDetail('32508146');\" title=\"화려하지 않은 고백 곡정보\"><span class=\"none\">곡정보</span></a>\n</div></td>\n<td><div class=\"wrap\">\n<div class=\"wrap_song_info\">\n<div class=\"ellipsis rank01\"><span>\n<a href=\"javascript:melon.play.playSong('19041301',32508146);\" title=\"화려하지 않은 고백 재생\">화려하지 않은 고백</a>\n</span></div><br/>\n<div class=\"ellipsis rank02\">\n<a href=\"javascript:melon.link.goArtistDetail('205880');\" title=\"규현 (KYUHYUN) - 페이지 이동\">규현 (KYUHYUN)</a><span class=\"checkEllipsis\" style=\"display:none\"><a href=\"javascript:melon.link.goArtistDetail('205880');\" title=\"규현 (KYUHYUN) - 페이지 이동\">규현 (KYUHYUN)</a></span>\n</div>\n</div>\n</div></td>\n<td><div class=\"wrap\">\n<div class=\"wrap_song_info\">\n<div class=\"ellipsis rank03\">\n<a href=\"javascript:melon.link.goAlbumDetail('10412335');\" title=\"슬기로운 의사생활 OST Part 4 - 페이지 이동\">슬기로운 의사생활 OST Part 4</a>\n</div>\n</div>\n</div></td>\n<td><div class=\"wrap\">\n<button class=\"button_etc like\" data-song-menuid=\"19041301\" data-song-no=\"32508146\" title=\"화려하지 않은 고백 좋아요\" type=\"button\">\n<span class=\"odd_span\">좋아요</span>\n<span class=\"cnt\">\n<span class=\"none\">총건수</span>\n\t\t\t\t\t\t\t\t\t\t\t\t0\n\t\t\t\t\t\t\t\t\t\t\t</span>\n</button>\n</div></td>\n<td><div class=\"wrap t_center\">\n<button class=\"button_icons play\" onclick=\"melon.play.playSong('19041301',32508146);\" title=\"듣기\" type=\"button\"><span class=\"none\">듣기</span></button>\n</div></td>\n<td><div class=\"wrap t_center\">\n<button class=\"button_icons scrap\" onclick=\"melon.play.addPlayList('32508146');\" title=\"담기\" type=\"button\"><span class=\"none\">담기</span></button>\n</div></td>\n<td><div class=\"wrap t_center\">\n<button class=\"button_icons download\" onclick=\"melon.buy.goBuyProduct('frm', '32508146', '3C0001', '','0', '19041301');\" title=\"다운로드\" type=\"button\"><span class=\"none\">다운로드</span></button>\n</div></td>\n<td><div class=\"wrap t_center\">\n<button class=\"button_icons video\" onclick=\"melon.link.goMvDetail('19041301', '32508146','song');\" title=\"뮤직비디오\" type=\"button\"><span class=\"none\">뮤직비디오</span></button>\n</div></td>\n</tr>, <tr class=\"lst100\" data-song-no=\"33048557\" id=\"lst100\" style=\"\">\n<td><div class=\"wrap t_right\"><input class=\"input_check\" name=\"input_check\" title=\"MAGO 곡 선택\" type=\"checkbox\" value=\"33048557\"/></div></td>\n<td><div class=\"wrap t_center\"><span class=\"rank\">97</span><span class=\"none\">위</span></div></td>\n<!-- 차트순위 추가 -->\n<td><div class=\"wrap\">\n<span class=\"rank_wrap\" title=\"순위 진입\">\n<span class=\"bullet_icons rank_new\"><span class=\"none\">순위 진입</span></span>\n</span>\n</div></td>\n<td><div class=\"wrap\">\n<a class=\"image_typeAll\" href=\"javascript:melon.link.goAlbumDetail('10515525');\" title=\"回:Walpurgis Night\">\n<img alt=\"回:Walpurgis Night - 페이지 이동\" height=\"60\" onerror=\"WEBPOCIMG.defaultAlbumImg(this);\" src=\"https://cdnimg.melon.co.kr/cm2/album/images/105/15/525/10515525_20201109135704_500.jpg/melon/resize/120/quality/80/optimize\" width=\"60\"/>\n<span class=\"bg_album_frame\"></span>\n</a>\n</div></td>\n<td><div class=\"wrap\">\n<a class=\"btn button_icons type03 song_info\" href=\"javascript:melon.link.goSongDetail('33048557');\" title=\"MAGO 곡정보\"><span class=\"none\">곡정보</span></a>\n</div></td>\n<td><div class=\"wrap\">\n<div class=\"wrap_song_info\">\n<div class=\"ellipsis rank01\"><span>\n<a href=\"javascript:melon.play.playSong('19041301',33048557);\" title=\"MAGO 재생\">MAGO</a>\n</span></div><br/>\n<div class=\"ellipsis rank02\">\n<a href=\"javascript:melon.link.goArtistDetail('828478');\" title=\"여자친구 (GFRIEND) - 페이지 이동\">여자친구 (GFRIEND)</a><span class=\"checkEllipsis\" style=\"display:none\"><a href=\"javascript:melon.link.goArtistDetail('828478');\" title=\"여자친구 (GFRIEND) - 페이지 이동\">여자친구 (GFRIEND)</a></span>\n</div>\n</div>\n</div></td>\n<td><div class=\"wrap\">\n<div class=\"wrap_song_info\">\n<div class=\"ellipsis rank03\">\n<a href=\"javascript:melon.link.goAlbumDetail('10515525');\" title=\"回:Walpurgis Night - 페이지 이동\">回:Walpurgis Night</a>\n</div>\n</div>\n</div></td>\n<td><div class=\"wrap\">\n<button class=\"button_etc like\" data-song-menuid=\"19041301\" data-song-no=\"33048557\" title=\"MAGO 좋아요\" type=\"button\">\n<span class=\"odd_span\">좋아요</span>\n<span class=\"cnt\">\n<span class=\"none\">총건수</span>\n\t\t\t\t\t\t\t\t\t\t\t\t0\n\t\t\t\t\t\t\t\t\t\t\t</span>\n</button>\n</div></td>\n<td><div class=\"wrap t_center\">\n<button class=\"button_icons play\" onclick=\"melon.play.playSong('19041301',33048557);\" title=\"듣기\" type=\"button\"><span class=\"none\">듣기</span></button>\n</div></td>\n<td><div class=\"wrap t_center\">\n<button class=\"button_icons scrap\" onclick=\"melon.play.addPlayList('33048557');\" title=\"담기\" type=\"button\"><span class=\"none\">담기</span></button>\n</div></td>\n<td><div class=\"wrap t_center\">\n<button class=\"button_icons download\" onclick=\"melon.buy.goBuyProduct('frm', '33048557', '3C0001', '','0', '19041301');\" title=\"다운로드\" type=\"button\"><span class=\"none\">다운로드</span></button>\n</div></td>\n<td><div class=\"wrap t_center\">\n<button class=\"button_icons video\" onclick=\"melon.link.goMvDetail('19041301', '33048557','song');\" title=\"뮤직비디오\" type=\"button\"><span class=\"none\">뮤직비디오</span></button>\n</div></td>\n</tr>, <tr class=\"lst100\" data-song-no=\"33013735\" id=\"lst100\" style=\"\">\n<td><div class=\"wrap t_right\"><input class=\"input_check\" name=\"input_check\" title=\"행복하니 곡 선택\" type=\"checkbox\" value=\"33013735\"/></div></td>\n<td><div class=\"wrap t_center\"><span class=\"rank\">98</span><span class=\"none\">위</span></div></td>\n<!-- 차트순위 추가 -->\n<td><div class=\"wrap\">\n<span class=\"rank_wrap\" title=\"3단계 하락\">\n<span class=\"bullet_icons rank_down\"><span class=\"none\">단계 하락</span></span>\n<span class=\"down\">3</span>\n</span>\n</div></td>\n<td><div class=\"wrap\">\n<a class=\"image_typeAll\" href=\"javascript:melon.link.goAlbumDetail('10508232');\" title=\"추(秋)억\">\n<img alt=\"추(秋)억 - 페이지 이동\" height=\"60\" onerror=\"WEBPOCIMG.defaultAlbumImg(this);\" src=\"https://cdnimg.melon.co.kr/cm2/album/images/105/08/232/10508232_20201023165029_500.jpg/melon/resize/120/quality/80/optimize\" width=\"60\"/>\n<span class=\"bg_album_frame\"></span>\n</a>\n</div></td>\n<td><div class=\"wrap\">\n<a class=\"btn button_icons type03 song_info\" href=\"javascript:melon.link.goSongDetail('33013735');\" title=\"행복하니 곡정보\"><span class=\"none\">곡정보</span></a>\n</div></td>\n<td><div class=\"wrap\">\n<div class=\"wrap_song_info\">\n<div class=\"ellipsis rank01\"><span>\n<a href=\"javascript:melon.play.playSong('19041301',33013735);\" title=\"행복하니 재생\">행복하니</a>\n</span></div><br/>\n<div class=\"ellipsis rank02\">\n<a href=\"javascript:melon.link.goArtistDetail('858125');\" title=\"케이시 (Kassy) - 페이지 이동\">케이시 (Kassy)</a><span class=\"checkEllipsis\" style=\"display:none\"><a href=\"javascript:melon.link.goArtistDetail('858125');\" title=\"케이시 (Kassy) - 페이지 이동\">케이시 (Kassy)</a></span>\n</div>\n</div>\n</div></td>\n<td><div class=\"wrap\">\n<div class=\"wrap_song_info\">\n<div class=\"ellipsis rank03\">\n<a href=\"javascript:melon.link.goAlbumDetail('10508232');\" title=\"추(秋)억 - 페이지 이동\">추(秋)억</a>\n</div>\n</div>\n</div></td>\n<td><div class=\"wrap\">\n<button class=\"button_etc like\" data-song-menuid=\"19041301\" data-song-no=\"33013735\" title=\"행복하니 좋아요\" type=\"button\">\n<span class=\"odd_span\">좋아요</span>\n<span class=\"cnt\">\n<span class=\"none\">총건수</span>\n\t\t\t\t\t\t\t\t\t\t\t\t0\n\t\t\t\t\t\t\t\t\t\t\t</span>\n</button>\n</div></td>\n<td><div class=\"wrap t_center\">\n<button class=\"button_icons play\" onclick=\"melon.play.playSong('19041301',33013735);\" title=\"듣기\" type=\"button\"><span class=\"none\">듣기</span></button>\n</div></td>\n<td><div class=\"wrap t_center\">\n<button class=\"button_icons scrap\" onclick=\"melon.play.addPlayList('33013735');\" title=\"담기\" type=\"button\"><span class=\"none\">담기</span></button>\n</div></td>\n<td><div class=\"wrap t_center\">\n<button class=\"button_icons download\" onclick=\"melon.buy.goBuyProduct('frm', '33013735', '3C0001', '','0', '19041301');\" title=\"다운로드\" type=\"button\"><span class=\"none\">다운로드</span></button>\n</div></td>\n<td><div class=\"wrap t_center\">\n<button class=\"button_icons video\" onclick=\"melon.link.goMvDetail('19041301', '33013735','song');\" title=\"뮤직비디오\" type=\"button\"><span class=\"none\">뮤직비디오</span></button>\n</div></td>\n</tr>, <tr class=\"lst100\" data-song-no=\"33040923\" id=\"lst100\" style=\"\">\n<td><div class=\"wrap t_right\"><input class=\"input_check\" name=\"input_check\" title=\"My Love (Duet Ver.) 곡 선택\" type=\"checkbox\" value=\"33040923\"/></div></td>\n<td><div class=\"wrap t_center\"><span class=\"rank\">99</span><span class=\"none\">위</span></div></td>\n<!-- 차트순위 추가 -->\n<td><div class=\"wrap\">\n<span class=\"rank_wrap\" title=\"순위 진입\">\n<span class=\"bullet_icons rank_new\"><span class=\"none\">순위 진입</span></span>\n</span>\n</div></td>\n<td><div class=\"wrap\">\n<a class=\"image_typeAll\" href=\"javascript:melon.link.goAlbumDetail('10513908');\" title=\"이승철 35주년 기념 앨범 Special 'My Love'\">\n<img alt=\"이승철 35주년 기념 앨범 Special 'My Love' - 페이지 이동\" height=\"60\" onerror=\"WEBPOCIMG.defaultAlbumImg(this);\" src=\"https://cdnimg.melon.co.kr/cm2/album/images/105/13/908/10513908_20201105101239_500.jpg/melon/resize/120/quality/80/optimize\" width=\"60\"/>\n<span class=\"bg_album_frame\"></span>\n</a>\n</div></td>\n<td><div class=\"wrap\">\n<a class=\"btn button_icons type03 song_info\" href=\"javascript:melon.link.goSongDetail('33040923');\" title=\"My Love (Duet Ver.) 곡정보\"><span class=\"none\">곡정보</span></a>\n</div></td>\n<td><div class=\"wrap\">\n<div class=\"wrap_song_info\">\n<div class=\"ellipsis rank01\"><span>\n<a href=\"javascript:melon.play.playSong('19041301',33040923);\" title=\"My Love (Duet Ver.) 재생\">My Love (Duet Ver.)</a>\n</span></div><br/>\n<div class=\"ellipsis rank02\">\n<a href=\"javascript:melon.link.goArtistDetail('1010');\" title=\"이승철 - 페이지 이동\">이승철</a>, <a href=\"javascript:melon.link.goArtistDetail('236797');\" title=\"태연 (TAEYEON) - 페이지 이동\">태연 (TAEYEON)</a><span class=\"checkEllipsis\" style=\"display:none\"><a href=\"javascript:melon.link.goArtistDetail('1010');\" title=\"이승철 - 페이지 이동\">이승철</a>, <a href=\"javascript:melon.link.goArtistDetail('236797');\" title=\"태연 (TAEYEON) - 페이지 이동\">태연 (TAEYEON)</a></span>\n</div>\n<div class=\"wrap_atist\" style=\"display:none;\">\n<button class=\"button_icons etc more_down\" data-control=\"dropdown\" title=\"아티스트 더보기\" type=\"button\"><span class=\"none\">아티스트명 더보기</span></button>\n<div class=\"atist_view\" style=\"display:none;\">\n<ul>\n<li><a class=\"ellipsis\" href=\"javascript:melon.link.goArtistDetail('1010');\" title=\"이승철 페이지 이동\">이승철</a></li>\n<li><a class=\"ellipsis\" href=\"javascript:melon.link.goArtistDetail('236797');\" title=\"태연 (TAEYEON) 페이지 이동\">태연 (TAEYEON)</a></li>\n</ul>\n</div>\n</div>\n</div>\n</div></td>\n<td><div class=\"wrap\">\n<div class=\"wrap_song_info\">\n<div class=\"ellipsis rank03\">\n<a href=\"javascript:melon.link.goAlbumDetail('10513908');\" title=\"이승철 35주년 기념 앨범 Special 'My Love' - 페이지 이동\">이승철 35주년 기념 앨범 Special 'My Love'</a>\n</div>\n</div>\n</div></td>\n<td><div class=\"wrap\">\n<button class=\"button_etc like\" data-song-menuid=\"19041301\" data-song-no=\"33040923\" title=\"My Love (Duet Ver.) 좋아요\" type=\"button\">\n<span class=\"odd_span\">좋아요</span>\n<span class=\"cnt\">\n<span class=\"none\">총건수</span>\n\t\t\t\t\t\t\t\t\t\t\t\t0\n\t\t\t\t\t\t\t\t\t\t\t</span>\n</button>\n</div></td>\n<td><div class=\"wrap t_center\">\n<button class=\"button_icons play\" onclick=\"melon.play.playSong('19041301',33040923);\" title=\"듣기\" type=\"button\"><span class=\"none\">듣기</span></button>\n</div></td>\n<td><div class=\"wrap t_center\">\n<button class=\"button_icons scrap\" onclick=\"melon.play.addPlayList('33040923');\" title=\"담기\" type=\"button\"><span class=\"none\">담기</span></button>\n</div></td>\n<td><div class=\"wrap t_center\">\n<button class=\"button_icons download\" onclick=\"melon.buy.goBuyProduct('frm', '33040923', '3C0001', '','0', '19041301');\" title=\"다운로드\" type=\"button\"><span class=\"none\">다운로드</span></button>\n</div></td>\n<td><div class=\"wrap t_center\">\n<button class=\"button_icons video\" onclick=\"melon.link.goMvDetail('19041301', '33040923','song');\" title=\"뮤직비디오\" type=\"button\"><span class=\"none\">뮤직비디오</span></button>\n</div></td>\n</tr>, <tr class=\"lst100\" data-song-no=\"33048658\" id=\"lst100\" style=\"\">\n<td><div class=\"wrap t_right\"><input class=\"input_check\" name=\"input_check\" title=\"너의 하루 (바른연애 길잡이 X 로꼬) 곡 선택\" type=\"checkbox\" value=\"33048658\"/></div></td>\n<td><div class=\"wrap t_center\"><span class=\"rank\">100</span><span class=\"none\">위</span></div></td>\n<!-- 차트순위 추가 -->\n<td><div class=\"wrap\">\n<span class=\"rank_wrap\" title=\"순위 진입\">\n<span class=\"bullet_icons rank_new\"><span class=\"none\">순위 진입</span></span>\n</span>\n</div></td>\n<td><div class=\"wrap\">\n<a class=\"image_typeAll\" href=\"javascript:melon.link.goAlbumDetail('10515548');\" title=\"너의 하루 (바른연애 길잡이 X 로꼬)\">\n<img alt=\"너의 하루 (바른연애 길잡이 X 로꼬) - 페이지 이동\" height=\"60\" onerror=\"WEBPOCIMG.defaultAlbumImg(this);\" src=\"https://cdnimg.melon.co.kr/cm2/album/images/105/15/548/10515548_20201109141426_500.jpg/melon/resize/120/quality/80/optimize\" width=\"60\"/>\n<span class=\"bg_album_frame\"></span>\n</a>\n</div></td>\n<td><div class=\"wrap\">\n<a class=\"btn button_icons type03 song_info\" href=\"javascript:melon.link.goSongDetail('33048658');\" title=\"너의 하루 (바른연애 길잡이 X 로꼬) 곡정보\"><span class=\"none\">곡정보</span></a>\n</div></td>\n<td><div class=\"wrap\">\n<div class=\"wrap_song_info\">\n<div class=\"ellipsis rank01\"><span>\n<a href=\"javascript:melon.play.playSong('19041301',33048658);\" title=\"너의 하루 (바른연애 길잡이 X 로꼬) 재생\">너의 하루 (바른연애 길잡이 X 로꼬)</a>\n</span></div><br/>\n<div class=\"ellipsis rank02\">\n<a href=\"javascript:melon.link.goArtistDetail('688432');\" title=\"로꼬 - 페이지 이동\">로꼬</a><span class=\"checkEllipsis\" style=\"display:none\"><a href=\"javascript:melon.link.goArtistDetail('688432');\" title=\"로꼬 - 페이지 이동\">로꼬</a></span>\n</div>\n</div>\n</div></td>\n<td><div class=\"wrap\">\n<div class=\"wrap_song_info\">\n<div class=\"ellipsis rank03\">\n<a href=\"javascript:melon.link.goAlbumDetail('10515548');\" title=\"너의 하루 (바른연애 길잡이 X 로꼬) - 페이지 이동\">너의 하루 (바른연애 길잡이 X 로꼬)</a>\n</div>\n</div>\n</div></td>\n<td><div class=\"wrap\">\n<button class=\"button_etc like\" data-song-menuid=\"19041301\" data-song-no=\"33048658\" title=\"너의 하루 (바른연애 길잡이 X 로꼬) 좋아요\" type=\"button\">\n<span class=\"odd_span\">좋아요</span>\n<span class=\"cnt\">\n<span class=\"none\">총건수</span>\n\t\t\t\t\t\t\t\t\t\t\t\t0\n\t\t\t\t\t\t\t\t\t\t\t</span>\n</button>\n</div></td>\n<td><div class=\"wrap t_center\">\n<button class=\"button_icons play\" onclick=\"melon.play.playSong('19041301',33048658);\" title=\"듣기\" type=\"button\"><span class=\"none\">듣기</span></button>\n</div></td>\n<td><div class=\"wrap t_center\">\n<button class=\"button_icons scrap\" onclick=\"melon.play.addPlayList('33048658');\" title=\"담기\" type=\"button\"><span class=\"none\">담기</span></button>\n</div></td>\n<td><div class=\"wrap t_center\">\n<button class=\"button_icons download\" onclick=\"melon.buy.goBuyProduct('frm', '33048658', '3C0001', '','0', '19041301');\" title=\"다운로드\" type=\"button\"><span class=\"none\">다운로드</span></button>\n</div></td>\n<td><div class=\"wrap t_center\">\n<button class=\"button_icons video disabled\" disabled=\"disabled\" onclick=\"melon.link.goMvDetail('19041301', '33048658','song');\" title=\"뮤직비디오\" type=\"button\"><span class=\"none\">뮤직비디오</span></button>\n</div></td>\n</tr>]\n"
     ]
    }
   ],
   "source": [
    "print(trs)"
   ]
  },
  {
   "cell_type": "code",
   "execution_count": 8,
   "metadata": {},
   "outputs": [
    {
     "output_type": "execute_result",
     "data": {
      "text/plain": [
       "1"
      ]
     },
     "metadata": {},
     "execution_count": 8
    }
   ],
   "source": [
    "rank = int(trs[0].select_one('.rank').string)\n",
    "rank"
   ]
  },
  {
   "cell_type": "code",
   "execution_count": 9,
   "metadata": {},
   "outputs": [
    {
     "output_type": "stream",
     "name": "stdout",
     "text": [
      "0\n1\n-1\n-100\n"
     ]
    }
   ],
   "source": [
    "for i in [0, 1, 2, 19]:\n",
    "    entry = trs[i].select_one('.rank_wrap')\n",
    "    spans = entry.find_all('span')\n",
    "    diff = -100\n",
    "    if len(spans) == 3:\n",
    "        diff = int(spans[2].string)\n",
    "        if diff != 0:\n",
    "            sign = spans[2].attrs['class']\n",
    "            if sign[0] == 'down':\n",
    "                diff *= -1\n",
    "    print(diff)"
   ]
  },
  {
   "cell_type": "code",
   "execution_count": 10,
   "metadata": {},
   "outputs": [
    {
     "output_type": "execute_result",
     "data": {
      "text/plain": [
       "<span class=\"rank_wrap\" title=\"순위 동일\">\n",
       "<span class=\"bullet_icons rank_static\"><span class=\"none\">순위 동일</span></span>\n",
       "<span class=\"none\">0</span>\n",
       "</span>"
      ]
     },
     "metadata": {},
     "execution_count": 10
    }
   ],
   "source": [
    "trs[0].select_one('.rank_wrap')"
   ]
  },
  {
   "cell_type": "code",
   "execution_count": 11,
   "metadata": {},
   "outputs": [
    {
     "output_type": "execute_result",
     "data": {
      "text/plain": [
       "('Dynamite', '방탄소년단', 'Dynamite (DayTime Version)')"
      ]
     },
     "metadata": {},
     "execution_count": 11
    }
   ],
   "source": [
    "info = trs[0].select_one('.ellipsis.rank01')\n",
    "title= info.find('a').string\n",
    "info = trs[0].select_one('.ellipsis.rank02')\n",
    "singer = info.find('a').string\n",
    "info = trs[0].select_one('.ellipsis.rank03')\n",
    "album = info.find('a').string\n",
    "title, singer, album"
   ]
  },
  {
   "cell_type": "code",
   "execution_count": 18,
   "metadata": {},
   "outputs": [
    {
     "output_type": "stream",
     "name": "stdout",
     "text": [
      "<div class=\"ellipsis rank03\">\n<a href=\"javascript:melon.link.goAlbumDetail('10515548');\" title=\"너의 하루 (바른연애 길잡이 X 로꼬) - 페이지 이동\">너의 하루 (바른연애 길잡이 X 로꼬)</a>\n</div>\n"
     ]
    }
   ],
   "source": [
    "print(info)"
   ]
  },
  {
   "cell_type": "code",
   "execution_count": 12,
   "metadata": {},
   "outputs": [
    {
     "output_type": "execute_result",
     "data": {
      "text/plain": [
       "('Dynamite', '방탄소년단', 'Dynamite (DayTime Version)')"
      ]
     },
     "metadata": {},
     "execution_count": 12
    }
   ],
   "source": [
    "info = trs[0].select('.ellipsis')\n",
    "title = info[0].find('a').string\n",
    "singer = info[1].find('a').string\n",
    "album = info[2].find('a').string\n",
    "title, singer, album"
   ]
  },
  {
   "cell_type": "code",
   "execution_count": 22,
   "metadata": {},
   "outputs": [
    {
     "output_type": "stream",
     "name": "stdout",
     "text": [
      "[<div class=\"ellipsis rank01\"><span>\n<a href=\"javascript:melon.play.playSong('19041301',32872978);\" title=\"Dynamite 재생\">Dynamite</a>\n</span></div>, <div class=\"ellipsis rank02\">\n<a href=\"javascript:melon.link.goArtistDetail('672375');\" title=\"방탄소년단 - 페이지 이동\">방탄소년단</a><span class=\"checkEllipsis\" style=\"display:none\"><a href=\"javascript:melon.link.goArtistDetail('672375');\" title=\"방탄소년단 - 페이지 이동\">방탄소년단</a></span>\n</div>, <div class=\"ellipsis rank03\">\n<a href=\"javascript:melon.link.goAlbumDetail('10479150');\" title=\"Dynamite (DayTime Version) - 페이지 이동\">Dynamite (DayTime Version)</a>\n</div>]\n"
     ]
    }
   ],
   "source": [
    "print(info)"
   ]
  },
  {
   "source": [
    "### Data Frame 만들기"
   ],
   "cell_type": "markdown",
   "metadata": {}
  },
  {
   "cell_type": "code",
   "execution_count": 13,
   "metadata": {},
   "outputs": [],
   "source": [
    "ranks=[]; diffs =[]\n",
    "titles=[]; singers = []; albums = []\n",
    "service_list = soup.select_one('.service_list_song')\n",
    "tbody = service_list.find('tbody')\n",
    "trs = tbody.find_all('tr')"
   ]
  },
  {
   "cell_type": "code",
   "execution_count": 15,
   "metadata": {},
   "outputs": [],
   "source": [
    "for tr in trs:\n",
    "    rank = int(tr.select_one('.rank').string)\n",
    "    \n",
    "    info = tr.select_one('.ellipsis.rank01')\n",
    "    title = info.find('a').string\n",
    "    info = tr.select_one('.ellipsis.rank02')\n",
    "    singer = info.find('a').string\n",
    "    info = tr.select_one('.ellipsis.rank03')\n",
    "    album = info.find('a').string\n",
    "\n",
    "    entry = tr.select_one('.rank_wrap')\n",
    "    spans = entry.find_all('span')\n",
    "    diff = -100\n",
    "    if len(spans) == 3:\n",
    "        diff = int(spans[2].string)\n",
    "        if diff != 0:\n",
    "            sign = spans[2].attrs['class']\n",
    "            if sign[0] == 'down':\n",
    "                diff *= -1\n",
    "    \n",
    "    ranks.append(rank)\n",
    "    diffs.append(diff)\n",
    "    titles.append(title)\n",
    "    singers.append(singer)\n",
    "    albums.append(album)"
   ]
  },
  {
   "cell_type": "code",
   "execution_count": 16,
   "metadata": {},
   "outputs": [
    {
     "output_type": "stream",
     "name": "stdout",
     "text": [
      "기간: 2020.11.09~2020.11.15\n"
     ]
    },
    {
     "output_type": "execute_result",
     "data": {
      "text/plain": [
       "      diff                  title     singer                       album\n",
       "rank                                                                    \n",
       "1        0               Dynamite      방탄소년단  Dynamite (DayTime Version)\n",
       "2        1           힘든 건 사랑이 아니다        임창정                힘든 건 사랑이 아니다\n",
       "3       -1         Lovesick Girls  BLACKPINK                   THE ALBUM\n",
       "4        1  취기를 빌려 (취향저격 그녀 X 산들)         산들       취기를 빌려 (취향저격 그녀 X 산들)\n",
       "5       -1         DON'T TOUCH ME      환불원정대              DON'T TOUCH ME"
      ],
      "text/html": "<div>\n<style scoped>\n    .dataframe tbody tr th:only-of-type {\n        vertical-align: middle;\n    }\n\n    .dataframe tbody tr th {\n        vertical-align: top;\n    }\n\n    .dataframe thead th {\n        text-align: right;\n    }\n</style>\n<table border=\"1\" class=\"dataframe\">\n  <thead>\n    <tr style=\"text-align: right;\">\n      <th></th>\n      <th>diff</th>\n      <th>title</th>\n      <th>singer</th>\n      <th>album</th>\n    </tr>\n    <tr>\n      <th>rank</th>\n      <th></th>\n      <th></th>\n      <th></th>\n      <th></th>\n    </tr>\n  </thead>\n  <tbody>\n    <tr>\n      <th>1</th>\n      <td>0</td>\n      <td>Dynamite</td>\n      <td>방탄소년단</td>\n      <td>Dynamite (DayTime Version)</td>\n    </tr>\n    <tr>\n      <th>2</th>\n      <td>1</td>\n      <td>힘든 건 사랑이 아니다</td>\n      <td>임창정</td>\n      <td>힘든 건 사랑이 아니다</td>\n    </tr>\n    <tr>\n      <th>3</th>\n      <td>-1</td>\n      <td>Lovesick Girls</td>\n      <td>BLACKPINK</td>\n      <td>THE ALBUM</td>\n    </tr>\n    <tr>\n      <th>4</th>\n      <td>1</td>\n      <td>취기를 빌려 (취향저격 그녀 X 산들)</td>\n      <td>산들</td>\n      <td>취기를 빌려 (취향저격 그녀 X 산들)</td>\n    </tr>\n    <tr>\n      <th>5</th>\n      <td>-1</td>\n      <td>DON'T TOUCH ME</td>\n      <td>환불원정대</td>\n      <td>DON'T TOUCH ME</td>\n    </tr>\n  </tbody>\n</table>\n</div>"
     },
     "metadata": {},
     "execution_count": 16
    }
   ],
   "source": [
    "top100 = pd.DataFrame({\n",
    "    'rank': ranks,\n",
    "    'diff': diffs,\n",
    "    'title': titles,\n",
    "    'singer': singers,\n",
    "    'album': albums\n",
    "})\n",
    "top100 = top100.set_index('rank')\n",
    "print(f'기간: {start_day}~{end_day}')\n",
    "top100.head()"
   ]
  },
  {
   "cell_type": "code",
   "execution_count": null,
   "metadata": {},
   "outputs": [],
   "source": []
  }
 ]
}