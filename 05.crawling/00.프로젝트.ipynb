{
 "metadata": {
  "language_info": {
   "codemirror_mode": {
    "name": "ipython",
    "version": 3
   },
   "file_extension": ".py",
   "mimetype": "text/x-python",
   "name": "python",
   "nbconvert_exporter": "python",
   "pygments_lexer": "ipython3",
   "version": "3.8.3-final"
  },
  "orig_nbformat": 2,
  "kernelspec": {
   "name": "python3",
   "display_name": "Python 3"
  }
 },
 "nbformat": 4,
 "nbformat_minor": 2,
 "cells": [
  {
   "cell_type": "code",
   "execution_count": 1,
   "metadata": {},
   "outputs": [],
   "source": [
    "from bs4 import BeautifulSoup\n",
    "import urllib.request\n",
    "from urllib.parse import urljoin\n",
    "import pandas as pd"
   ]
  },
  {
   "cell_type": "code",
   "execution_count": 2,
   "metadata": {},
   "outputs": [],
   "source": [
    "import requests\n",
    "base_url = 'https://www.storyum.kr/story/contents/creation/list.do?menuNo=500010&cateSe=&genreSe=&sdate=&edate=&sortSe=ldate&sortSe2=up&pageUnit=10&listTp=&genreCodes=&cateCodes=&writStepSe=&workSe=&roleSe=&permissionSe=&yearTp=&monthTp=&searchCnd=&searchWrd=&viewType=&siteId=5&plcCmrc1st=&syearMonth=&eyearMonth=&pageIndex='\n",
    "page_url = '1'\n",
    "web_url = base_url+page_url\n",
    "with urllib.request.urlopen(web_url) as response:\n",
    "    html = response.read()\n",
    "    soup = BeautifulSoup(html, 'html.parser')"
   ]
  },
  {
   "cell_type": "code",
   "execution_count": 3,
   "metadata": {},
   "outputs": [
    {
     "output_type": "execute_result",
     "data": {
      "text/plain": [
       "[<td>2857</td>,\n",
       " <td><span class=\"eventTxtOv\" title=\"만화(웹툰),드라마,영화\">만화(웹툰)<br/>드라마 외 </span></td>,\n",
       " <td title=\"SF/판타지,역사픽션(팩션),액션/어드벤쳐\">SF/판타지<br/>역사픽션(팩션) 외</td>,\n",
       " <td class=\"subjectType tit\">\n",
       " <a href=\"/story/contents/creation/view.do?contSn=5559&amp;menuNo=500010&amp;cateSe=&amp;genreSe=&amp;sdate=&amp;edate=&amp;sortSe=ldate&amp;sortSe2=up&amp;pageUnit=10&amp;listTp=&amp;genreCodes=&amp;cateCodes=&amp;writStepSe=&amp;workSe=&amp;roleSe=&amp;permissionSe=&amp;yearTp=&amp;monthTp=&amp;searchCnd=&amp;searchWrd=&amp;viewType=&amp;siteId=5&amp;plcCmrc1st=&amp;syearMonth=&amp;eyearMonth=&amp;pageIndex=1\">\n",
       " <div class=\"\">\n",
       " <p class=\"subject\">북두의 하늘</p>\n",
       " </div>\n",
       " </a>\n",
       " </td>,\n",
       " <td>\n",
       " <span class=\"ico Member2\"><span class=\"hidden\">스토리 이용자</span></span>\n",
       " </td>,\n",
       " <td>벼리</td>,\n",
       " <td>2020-11-19</td>,\n",
       " <td>2020-11-19</td>,\n",
       " <td>0</td>,\n",
       " <td>0</td>]"
      ]
     },
     "metadata": {},
     "execution_count": 3
    }
   ],
   "source": [
    "mb_list = soup.select_one('.bdList')\n",
    "to_li = mb_list.find('table')\n",
    "movie_li = to_li.select('tr')[1:]\n",
    "movie = movie_li[0].find_all('td')\n",
    "movie"
   ]
  },
  {
   "cell_type": "code",
   "execution_count": 4,
   "metadata": {},
   "outputs": [
    {
     "output_type": "execute_result",
     "data": {
      "text/plain": [
       "'만화(웹툰)드라마 외 '"
      ]
     },
     "metadata": {},
     "execution_count": 4
    }
   ],
   "source": [
    "even = movie[1].get_text()\n",
    "even"
   ]
  },
  {
   "cell_type": "code",
   "execution_count": 5,
   "metadata": {},
   "outputs": [
    {
     "output_type": "execute_result",
     "data": {
      "text/plain": [
       "'SF/판타지역사픽션(팩션) 외'"
      ]
     },
     "metadata": {},
     "execution_count": 5
    }
   ],
   "source": [
    "genre = movie[2].get_text()\n",
    "genre"
   ]
  },
  {
   "cell_type": "code",
   "execution_count": 6,
   "metadata": {},
   "outputs": [
    {
     "output_type": "execute_result",
     "data": {
      "text/plain": [
       "'북두의 하늘'"
      ]
     },
     "metadata": {},
     "execution_count": 6
    }
   ],
   "source": [
    "title = movie[3].find('p').get_text()\n",
    "title"
   ]
  },
  {
   "cell_type": "code",
   "execution_count": 7,
   "metadata": {},
   "outputs": [
    {
     "output_type": "execute_result",
     "data": {
      "text/plain": [
       "'벼리'"
      ]
     },
     "metadata": {},
     "execution_count": 7
    }
   ],
   "source": [
    "name = movie[5].get_text()\n",
    "name"
   ]
  },
  {
   "cell_type": "code",
   "execution_count": 8,
   "metadata": {},
   "outputs": [
    {
     "output_type": "execute_result",
     "data": {
      "text/plain": [
       "'0'"
      ]
     },
     "metadata": {},
     "execution_count": 8
    }
   ],
   "source": [
    "com = movie[-1].get_text()\n",
    "com"
   ]
  },
  {
   "cell_type": "code",
   "execution_count": 9,
   "metadata": {},
   "outputs": [],
   "source": [
    "from tqdm import tqdm_notebook"
   ]
  },
  {
   "cell_type": "code",
   "execution_count": 10,
   "metadata": {},
   "outputs": [],
   "source": [
    "movie_li = to_li.select('tr')[1:]\n",
    "evens = []; genres = []; titles = []\n",
    "names = []; coms = []"
   ]
  },
  {
   "cell_type": "code",
   "execution_count": 11,
   "metadata": {},
   "outputs": [],
   "source": [
    "for page in range(10):\n",
    "    base_url = 'https://www.storyum.kr/story/contents/creation/list.do?menuNo=500010&cateSe=&genreSe=&sdate=&edate=&sortSe=ldate&sortSe2=up&pageUnit=10&listTp=&genreCodes=&cateCodes=&writStepSe=&workSe=&roleSe=&permissionSe=&yearTp=&monthTp=&searchCnd=&searchWrd=&viewType=&siteId=5&plcCmrc1st=&syearMonth=&eyearMonth=&pageIndex='\n",
    "    page_url = str(page+1)\n",
    "    web_url = base_url+page_url\n",
    "    with urllib.request.urlopen(web_url) as response:\n",
    "        html = response.read()\n",
    "        soup = BeautifulSoup(html, 'html.parser')\n",
    "        \n",
    "        mb_list = soup.select_one('.bdList')\n",
    "        to_li = mb_list.find('table')\n",
    "        movie_li = to_li.select('tr')[1:]\n",
    "\n",
    "        for mm in movie_li:\n",
    "            movie = mm.find_all('td')\n",
    "\n",
    "            even = movie[1].get_text()\n",
    "            genre = movie[2].get_text()\n",
    "            title = movie[3].find('p').get_text()\n",
    "            name = movie[5].get_text()\n",
    "            com = movie[-1].get_text()\n",
    "            # print(genre, name, com)\n",
    "\n",
    "            evens.append(even)\n",
    "            genres.append(genre)\n",
    "            titles.append(title)\n",
    "            names.append(name)\n",
    "            coms.append(com)"
   ]
  },
  {
   "cell_type": "code",
   "execution_count": 12,
   "metadata": {},
   "outputs": [
    {
     "output_type": "execute_result",
     "data": {
      "text/plain": [
       "           사업화희망분야                장르             제목    작가 조회수\n",
       "0     만화(웹툰)드라마 외   SF/판타지역사픽션(팩션) 외         북두의 하늘    벼리   0\n",
       "1   만화(웹툰)애니메이션 외       미스터리가족/성장/아동        통조림적 생애   양은실   1\n",
       "2       웹드라마드라마 외     미스터리기타(코믹 스릴러)         미지의 방역   유재영   1\n",
       "3       드라마웹드라마 외          SF/판타지코미디  천국에서 사랑을 증명하다    조이   2\n",
       "4              영화           전쟁로맨스/멜로          사랑 소설    지후   3\n",
       "..             ...               ...            ...   ...  ..\n",
       "95        출판드라마 외    역사픽션(팩션)기타(드라마)     조선의 꼽추 정원사   천영미  39\n",
       "96     만화(웹툰)영화 외            공포스릴러 외        좀비의 사생활  soku  11\n",
       "97     만화(웹툰)영화 외          스릴러미스터리 외      Algorithm  soku   8\n",
       "98             영화      기타(블랙코미디/로맨스)  나를 사랑한 토막 살인범   소나기  22\n",
       "99        영화드라마 외            스릴러추리 외      사이드(side)   김원진  18\n",
       "\n",
       "[100 rows x 5 columns]"
      ],
      "text/html": "<div>\n<style scoped>\n    .dataframe tbody tr th:only-of-type {\n        vertical-align: middle;\n    }\n\n    .dataframe tbody tr th {\n        vertical-align: top;\n    }\n\n    .dataframe thead th {\n        text-align: right;\n    }\n</style>\n<table border=\"1\" class=\"dataframe\">\n  <thead>\n    <tr style=\"text-align: right;\">\n      <th></th>\n      <th>사업화희망분야</th>\n      <th>장르</th>\n      <th>제목</th>\n      <th>작가</th>\n      <th>조회수</th>\n    </tr>\n  </thead>\n  <tbody>\n    <tr>\n      <th>0</th>\n      <td>만화(웹툰)드라마 외</td>\n      <td>SF/판타지역사픽션(팩션) 외</td>\n      <td>북두의 하늘</td>\n      <td>벼리</td>\n      <td>0</td>\n    </tr>\n    <tr>\n      <th>1</th>\n      <td>만화(웹툰)애니메이션 외</td>\n      <td>미스터리가족/성장/아동</td>\n      <td>통조림적 생애</td>\n      <td>양은실</td>\n      <td>1</td>\n    </tr>\n    <tr>\n      <th>2</th>\n      <td>웹드라마드라마 외</td>\n      <td>미스터리기타(코믹 스릴러)</td>\n      <td>미지의 방역</td>\n      <td>유재영</td>\n      <td>1</td>\n    </tr>\n    <tr>\n      <th>3</th>\n      <td>드라마웹드라마 외</td>\n      <td>SF/판타지코미디</td>\n      <td>천국에서 사랑을 증명하다</td>\n      <td>조이</td>\n      <td>2</td>\n    </tr>\n    <tr>\n      <th>4</th>\n      <td>영화</td>\n      <td>전쟁로맨스/멜로</td>\n      <td>사랑 소설</td>\n      <td>지후</td>\n      <td>3</td>\n    </tr>\n    <tr>\n      <th>...</th>\n      <td>...</td>\n      <td>...</td>\n      <td>...</td>\n      <td>...</td>\n      <td>...</td>\n    </tr>\n    <tr>\n      <th>95</th>\n      <td>출판드라마 외</td>\n      <td>역사픽션(팩션)기타(드라마)</td>\n      <td>조선의 꼽추 정원사</td>\n      <td>천영미</td>\n      <td>39</td>\n    </tr>\n    <tr>\n      <th>96</th>\n      <td>만화(웹툰)영화 외</td>\n      <td>공포스릴러 외</td>\n      <td>좀비의 사생활</td>\n      <td>soku</td>\n      <td>11</td>\n    </tr>\n    <tr>\n      <th>97</th>\n      <td>만화(웹툰)영화 외</td>\n      <td>스릴러미스터리 외</td>\n      <td>Algorithm</td>\n      <td>soku</td>\n      <td>8</td>\n    </tr>\n    <tr>\n      <th>98</th>\n      <td>영화</td>\n      <td>기타(블랙코미디/로맨스)</td>\n      <td>나를 사랑한 토막 살인범</td>\n      <td>소나기</td>\n      <td>22</td>\n    </tr>\n    <tr>\n      <th>99</th>\n      <td>영화드라마 외</td>\n      <td>스릴러추리 외</td>\n      <td>사이드(side)</td>\n      <td>김원진</td>\n      <td>18</td>\n    </tr>\n  </tbody>\n</table>\n<p>100 rows × 5 columns</p>\n</div>"
     },
     "metadata": {},
     "execution_count": 12
    }
   ],
   "source": [
    "list_movie = pd.DataFrame({\n",
    "    '사업화희망분야' : evens,\n",
    "    '장르': genres,\n",
    "    '제목': titles,\n",
    "    '작가' :names,\n",
    "    '조회수' :coms\n",
    "})\n",
    "\n",
    "list_movie"
   ]
  },
  {
   "cell_type": "code",
   "execution_count": 13,
   "metadata": {},
   "outputs": [],
   "source": [
    "list_movie.to_csv('list_movie.csv', sep=',', encoding='utf8')"
   ]
  },
  {
   "cell_type": "code",
   "execution_count": 3,
   "metadata": {},
   "outputs": [],
   "source": [
    "import seaborn as sns\n",
    "import matplotlib as mpl\n",
    "import matplotlib.pyplot as plt\n",
    "%matplotlib inline\n",
    "\n",
    "## 한글 폰트 사용\n",
    "# 폰트 설정\n",
    "mpl.rc('font', family='Malgun Gothic') #family에 사용할 폰트를 넣음\n",
    "# 유니코드에서  음수 부호설정\n",
    "mpl.rc('axes', unicode_minus=False)"
   ]
  },
  {
   "cell_type": "code",
   "execution_count": 4,
   "metadata": {},
   "outputs": [
    {
     "output_type": "execute_result",
     "data": {
      "text/plain": [
       "   Unnamed: 0           사업화희망분야                장르             제목   작가  조회수\n",
       "0           0      만화(웹툰)드라마 외   SF/판타지역사픽션(팩션) 외         북두의 하늘   벼리    0\n",
       "1           1    만화(웹툰)애니메이션 외       미스터리가족/성장/아동        통조림적 생애  양은실    1\n",
       "2           2        웹드라마드라마 외     미스터리기타(코믹 스릴러)         미지의 방역  유재영    1\n",
       "3           3        드라마웹드라마 외          SF/판타지코미디  천국에서 사랑을 증명하다   조이    2\n",
       "4           4               영화           전쟁로맨스/멜로          사랑 소설   지후    3\n",
       "5           5          드라마영화 외     역사픽션(팩션)로맨스/멜로         후궁의 반란  김미숙    1\n",
       "6           6         영화웹드라마 외          스릴러미스터리 외           죄와벌   송인유   41\n",
       "7           7          영화드라마 외              스릴러추리   궤적_범인이 남긴 자국  김민수    4\n",
       "8           8  만화(웹툰)기타(웹소설) 외             공포무협 외             파사    창    1\n",
       "9           9      드라마만화(웹툰) 외   SF/판타지역사픽션(팩션) 외       하늘은 붉은달   이지원    0"
      ],
      "text/html": "<div>\n<style scoped>\n    .dataframe tbody tr th:only-of-type {\n        vertical-align: middle;\n    }\n\n    .dataframe tbody tr th {\n        vertical-align: top;\n    }\n\n    .dataframe thead th {\n        text-align: right;\n    }\n</style>\n<table border=\"1\" class=\"dataframe\">\n  <thead>\n    <tr style=\"text-align: right;\">\n      <th></th>\n      <th>Unnamed: 0</th>\n      <th>사업화희망분야</th>\n      <th>장르</th>\n      <th>제목</th>\n      <th>작가</th>\n      <th>조회수</th>\n    </tr>\n  </thead>\n  <tbody>\n    <tr>\n      <th>0</th>\n      <td>0</td>\n      <td>만화(웹툰)드라마 외</td>\n      <td>SF/판타지역사픽션(팩션) 외</td>\n      <td>북두의 하늘</td>\n      <td>벼리</td>\n      <td>0</td>\n    </tr>\n    <tr>\n      <th>1</th>\n      <td>1</td>\n      <td>만화(웹툰)애니메이션 외</td>\n      <td>미스터리가족/성장/아동</td>\n      <td>통조림적 생애</td>\n      <td>양은실</td>\n      <td>1</td>\n    </tr>\n    <tr>\n      <th>2</th>\n      <td>2</td>\n      <td>웹드라마드라마 외</td>\n      <td>미스터리기타(코믹 스릴러)</td>\n      <td>미지의 방역</td>\n      <td>유재영</td>\n      <td>1</td>\n    </tr>\n    <tr>\n      <th>3</th>\n      <td>3</td>\n      <td>드라마웹드라마 외</td>\n      <td>SF/판타지코미디</td>\n      <td>천국에서 사랑을 증명하다</td>\n      <td>조이</td>\n      <td>2</td>\n    </tr>\n    <tr>\n      <th>4</th>\n      <td>4</td>\n      <td>영화</td>\n      <td>전쟁로맨스/멜로</td>\n      <td>사랑 소설</td>\n      <td>지후</td>\n      <td>3</td>\n    </tr>\n    <tr>\n      <th>5</th>\n      <td>5</td>\n      <td>드라마영화 외</td>\n      <td>역사픽션(팩션)로맨스/멜로</td>\n      <td>후궁의 반란</td>\n      <td>김미숙</td>\n      <td>1</td>\n    </tr>\n    <tr>\n      <th>6</th>\n      <td>6</td>\n      <td>영화웹드라마 외</td>\n      <td>스릴러미스터리 외</td>\n      <td>죄와벌</td>\n      <td>송인유</td>\n      <td>41</td>\n    </tr>\n    <tr>\n      <th>7</th>\n      <td>7</td>\n      <td>영화드라마 외</td>\n      <td>스릴러추리</td>\n      <td>궤적_범인이 남긴 자국</td>\n      <td>김민수</td>\n      <td>4</td>\n    </tr>\n    <tr>\n      <th>8</th>\n      <td>8</td>\n      <td>만화(웹툰)기타(웹소설) 외</td>\n      <td>공포무협 외</td>\n      <td>파사</td>\n      <td>창</td>\n      <td>1</td>\n    </tr>\n    <tr>\n      <th>9</th>\n      <td>9</td>\n      <td>드라마만화(웹툰) 외</td>\n      <td>SF/판타지역사픽션(팩션) 외</td>\n      <td>하늘은 붉은달</td>\n      <td>이지원</td>\n      <td>0</td>\n    </tr>\n  </tbody>\n</table>\n</div>"
     },
     "metadata": {},
     "execution_count": 4
    }
   ],
   "source": [
    "mvli = pd.read_csv('list_movie.csv')\n",
    "mvli.head(10)"
   ]
  },
  {
   "cell_type": "code",
   "execution_count": 44,
   "metadata": {},
   "outputs": [
    {
     "output_type": "execute_result",
     "data": {
      "text/plain": [
       "    Unnamed: 0        사업화희망분야             장르                            제목  \\\n",
       "51          51         드라마영화   로맨스/멜로기타(논픽션)                      또 하나의 비상   \n",
       "22          22      영화만화(웹툰)              공포                      사립 지옥고교    \n",
       "58          58       영화드라마 외         스릴러추리 외                   <페이스(face)>   \n",
       "11          11    영화만화(웹툰) 외         스릴러추리 외                      <청송의 밤>    \n",
       "12          12    영화만화(웹툰) 외         스릴러추리 외                          <택배>   \n",
       "40          40       영화드라마 외         공포스릴러 외                           구원자   \n",
       "81          81       영화드라마 외         공포스릴러 외                           시화호   \n",
       "13          13  만화(웹툰)웹드라마 외       로맨스/멜로코미디                    <야동 보는 여자>   \n",
       "10          10    만화(웹툰)영화 외         공포스릴러 외                   <목격자를 찾습니다>   \n",
       "39          39     영화애니메이션 외         스릴러미스터리  -안 개 - 엄마를 살해한 남자(-Lostmist)   \n",
       "\n",
       "          작가   조회수  \n",
       "51       김유태  2862  \n",
       "22       이태경  1956  \n",
       "58       안교찬   900  \n",
       "11       안교찬   381  \n",
       "12       안교찬   365  \n",
       "40  Director   330  \n",
       "81     우아한슬픔   278  \n",
       "13       안교찬   245  \n",
       "10       안교찬   241  \n",
       "39        -N   171  "
      ],
      "text/html": "<div>\n<style scoped>\n    .dataframe tbody tr th:only-of-type {\n        vertical-align: middle;\n    }\n\n    .dataframe tbody tr th {\n        vertical-align: top;\n    }\n\n    .dataframe thead th {\n        text-align: right;\n    }\n</style>\n<table border=\"1\" class=\"dataframe\">\n  <thead>\n    <tr style=\"text-align: right;\">\n      <th></th>\n      <th>Unnamed: 0</th>\n      <th>사업화희망분야</th>\n      <th>장르</th>\n      <th>제목</th>\n      <th>작가</th>\n      <th>조회수</th>\n    </tr>\n  </thead>\n  <tbody>\n    <tr>\n      <th>51</th>\n      <td>51</td>\n      <td>드라마영화</td>\n      <td>로맨스/멜로기타(논픽션)</td>\n      <td>또 하나의 비상</td>\n      <td>김유태</td>\n      <td>2862</td>\n    </tr>\n    <tr>\n      <th>22</th>\n      <td>22</td>\n      <td>영화만화(웹툰)</td>\n      <td>공포</td>\n      <td>사립 지옥고교</td>\n      <td>이태경</td>\n      <td>1956</td>\n    </tr>\n    <tr>\n      <th>58</th>\n      <td>58</td>\n      <td>영화드라마 외</td>\n      <td>스릴러추리 외</td>\n      <td>&lt;페이스(face)&gt;</td>\n      <td>안교찬</td>\n      <td>900</td>\n    </tr>\n    <tr>\n      <th>11</th>\n      <td>11</td>\n      <td>영화만화(웹툰) 외</td>\n      <td>스릴러추리 외</td>\n      <td>&lt;청송의 밤&gt;</td>\n      <td>안교찬</td>\n      <td>381</td>\n    </tr>\n    <tr>\n      <th>12</th>\n      <td>12</td>\n      <td>영화만화(웹툰) 외</td>\n      <td>스릴러추리 외</td>\n      <td>&lt;택배&gt;</td>\n      <td>안교찬</td>\n      <td>365</td>\n    </tr>\n    <tr>\n      <th>40</th>\n      <td>40</td>\n      <td>영화드라마 외</td>\n      <td>공포스릴러 외</td>\n      <td>구원자</td>\n      <td>Director</td>\n      <td>330</td>\n    </tr>\n    <tr>\n      <th>81</th>\n      <td>81</td>\n      <td>영화드라마 외</td>\n      <td>공포스릴러 외</td>\n      <td>시화호</td>\n      <td>우아한슬픔</td>\n      <td>278</td>\n    </tr>\n    <tr>\n      <th>13</th>\n      <td>13</td>\n      <td>만화(웹툰)웹드라마 외</td>\n      <td>로맨스/멜로코미디</td>\n      <td>&lt;야동 보는 여자&gt;</td>\n      <td>안교찬</td>\n      <td>245</td>\n    </tr>\n    <tr>\n      <th>10</th>\n      <td>10</td>\n      <td>만화(웹툰)영화 외</td>\n      <td>공포스릴러 외</td>\n      <td>&lt;목격자를 찾습니다&gt;</td>\n      <td>안교찬</td>\n      <td>241</td>\n    </tr>\n    <tr>\n      <th>39</th>\n      <td>39</td>\n      <td>영화애니메이션 외</td>\n      <td>스릴러미스터리</td>\n      <td>-안 개 - 엄마를 살해한 남자(-Lostmist)</td>\n      <td>-N</td>\n      <td>171</td>\n    </tr>\n  </tbody>\n</table>\n</div>"
     },
     "metadata": {},
     "execution_count": 44
    }
   ],
   "source": [
    "mvli1 = mvli.sort_values(by='조회수', ascending=False).head(10)\n",
    "mvli1"
   ]
  },
  {
   "cell_type": "code",
   "execution_count": 46,
   "metadata": {},
   "outputs": [
    {
     "output_type": "display_data",
     "data": {
      "text/plain": "<Figure size 432x288 with 1 Axes>",
      "image/svg+xml": "<?xml version=\"1.0\" encoding=\"utf-8\" standalone=\"no\"?>\r\n<!DOCTYPE svg PUBLIC \"-//W3C//DTD SVG 1.1//EN\"\r\n  \"http://www.w3.org/Graphics/SVG/1.1/DTD/svg11.dtd\">\r\n<!-- Created with matplotlib (https://matplotlib.org/) -->\r\n<svg height=\"251.867974pt\" version=\"1.1\" viewBox=\"0 0 369.928201 251.867974\" width=\"369.928201pt\" xmlns=\"http://www.w3.org/2000/svg\" xmlns:xlink=\"http://www.w3.org/1999/xlink\">\r\n <defs>\r\n  <style type=\"text/css\">\r\n*{stroke-linecap:butt;stroke-linejoin:round;}\r\n  </style>\r\n </defs>\r\n <g id=\"figure_1\">\r\n  <g id=\"patch_1\">\r\n   <path d=\"M 0 251.867974 \r\nL 369.928201 251.867974 \r\nL 369.928201 0 \r\nL 0 0 \r\nz\r\n\" style=\"fill:none;\"/>\r\n  </g>\r\n  <g id=\"axes_1\">\r\n   <g id=\"patch_2\">\r\n    <path d=\"M 287.392612 131.638371 \r\nC 287.392612 116.137628 283.723523 100.854773 276.686333 87.043511 \r\nC 269.649143 73.232248 259.441689 61.280856 246.901325 52.169749 \r\nC 234.36096 43.058641 219.840234 37.04396 204.530331 34.619111 \r\nC 189.220428 32.194261 173.551759 33.427413 158.809677 38.217407 \r\nL 189.163996 131.638371 \r\nL 287.392612 131.638371 \r\nz\r\n\" style=\"fill:#1f77b4;\"/>\r\n   </g>\r\n   <g id=\"patch_3\">\r\n    <path d=\"M 158.809677 38.217407 \r\nC 144.067595 43.007401 130.666548 51.219575 119.705868 62.180257 \r\nC 108.745189 73.140938 100.533018 86.541987 95.743027 101.284069 \r\nC 90.953035 116.026152 89.719886 131.694822 92.144739 147.004724 \r\nC 94.569591 162.314627 100.584275 176.835352 109.695384 189.375715 \r\nL 189.163996 131.638371 \r\nL 158.809677 38.217407 \r\nz\r\n\" style=\"fill:#ff7f0e;\"/>\r\n   </g>\r\n   <g id=\"patch_4\">\r\n    <path d=\"M 109.695384 189.375715 \r\nC 115.75403 197.714722 123.087667 205.048357 131.426676 211.107 \r\nC 139.765685 217.165642 149.006606 221.874125 158.809699 225.059341 \r\nL 189.163996 131.638371 \r\nL 109.695384 189.375715 \r\nz\r\n\" style=\"fill:#2ca02c;\"/>\r\n   </g>\r\n   <g id=\"patch_5\">\r\n    <path d=\"M 158.809699 225.059341 \r\nC 168.612792 228.244557 178.85643 229.866989 189.164012 229.866987 \r\nC 199.471593 229.866985 209.715231 228.244551 219.518323 225.059331 \r\nL 189.163996 131.638371 \r\nL 158.809699 225.059341 \r\nz\r\n\" style=\"fill:#d62728;\"/>\r\n   </g>\r\n   <g id=\"patch_6\">\r\n    <path d=\"M 219.518323 225.059331 \r\nC 229.321415 221.874112 238.562334 217.165626 246.901341 211.106981 \r\nC 255.240349 205.048335 262.573983 197.714698 268.632626 189.375689 \r\nL 189.163996 131.638371 \r\nL 219.518323 225.059331 \r\nz\r\n\" style=\"fill:#9467bd;\"/>\r\n   </g>\r\n   <g id=\"patch_7\">\r\n    <path d=\"M 268.632626 189.375689 \r\nC 274.691269 181.036679 279.399751 171.795758 282.584967 161.992665 \r\nC 285.770183 152.189572 287.392614 141.945934 287.392612 131.638352 \r\nL 189.163996 131.638371 \r\nL 268.632626 189.375689 \r\nz\r\n\" style=\"fill:#8c564b;\"/>\r\n   </g>\r\n   <g id=\"matplotlib.axis_1\"/>\r\n   <g id=\"matplotlib.axis_2\">\r\n    <g id=\"text_1\">\r\n     <!-- 장르 -->\r\n     <defs>\r\n      <path d=\"M 80.078125 52.984375 \r\nL 80.078125 31.109375 \r\nL 72.796875 31.109375 \r\nL 72.796875 85.40625 \r\nL 80.078125 85.40625 \r\nL 80.078125 59.625 \r\nL 94.28125 59.625 \r\nL 94.28125 52.984375 \r\nz\r\nM 56.296875 36.1875 \r\nQ 50.09375 39.5 43.40625 45.9375 \r\nQ 36.71875 52.390625 34.1875 57.71875 \r\nQ 31.5 51.5625 25 44.578125 \r\nQ 18.5 37.59375 11.71875 33.796875 \r\nL 6.390625 38.8125 \r\nQ 16.75 43.84375 23.625 53.078125 \r\nQ 30.515625 62.3125 30.515625 72.3125 \r\nL 30.515625 74.703125 \r\nL 9.71875 74.703125 \r\nL 9.71875 81.203125 \r\nL 58.296875 81.203125 \r\nL 58.296875 74.703125 \r\nL 37.5 74.703125 \r\nL 37.5 72.3125 \r\nQ 37.5 62.890625 44.453125 54.25 \r\nQ 51.421875 45.609375 61.078125 41.5 \r\nz\r\nM 50.984375 -8.015625 \r\nQ 36.28125 -8.015625 28.296875 -2.90625 \r\nQ 20.3125 2.203125 20.3125 10.296875 \r\nQ 20.3125 18.359375 28.3125 23.4375 \r\nQ 36.328125 28.515625 50.984375 28.515625 \r\nQ 65.671875 28.515625 73.671875 23.453125 \r\nQ 81.6875 18.40625 81.6875 10.296875 \r\nQ 81.6875 2.15625 73.703125 -2.921875 \r\nQ 65.71875 -8.015625 50.984375 -8.015625 \r\nz\r\nM 50.984375 22.3125 \r\nQ 40.046875 22.3125 34.0625 18.984375 \r\nQ 28.078125 15.671875 28.078125 10.296875 \r\nQ 28.078125 4.828125 34.078125 1.5 \r\nQ 40.09375 -1.8125 50.984375 -1.8125 \r\nQ 62.015625 -1.8125 68.015625 1.53125 \r\nQ 74.03125 4.890625 74.03125 10.296875 \r\nQ 74.03125 15.625 68.015625 18.96875 \r\nQ 62.015625 22.3125 50.984375 22.3125 \r\nz\r\n\" id=\"MalgunGothic-51109\"/>\r\n      <path d=\"M 20.21875 28.859375 \r\nL 20.21875 56.734375 \r\nL 72.609375 56.734375 \r\nL 72.609375 70.75 \r\nL 20.3125 70.75 \r\nL 20.3125 77.25 \r\nL 79.890625 77.25 \r\nL 79.890625 50.4375 \r\nL 27.484375 50.4375 \r\nL 27.484375 35.359375 \r\nL 82.625 35.359375 \r\nL 82.625 28.859375 \r\nz\r\nM 6.296875 5.71875 \r\nL 6.296875 12.203125 \r\nL 93.703125 12.203125 \r\nL 93.703125 5.71875 \r\nz\r\n\" id=\"MalgunGothic-47476\"/>\r\n     </defs>\r\n     <g transform=\"translate(14.792188 141.030625)rotate(-90)scale(0.1 -0.1)\">\r\n      <use xlink:href=\"#MalgunGothic-51109\"/>\r\n      <use x=\"100\" xlink:href=\"#MalgunGothic-47476\"/>\r\n     </g>\r\n    </g>\r\n   </g>\r\n   <g id=\"text_2\">\r\n    <!-- 스릴러추리 외 -->\r\n    <defs>\r\n     <path d=\"M 49.90625 60.890625 \r\nQ 46.390625 53.375 36.375 45.78125 \r\nQ 26.375 38.1875 14.984375 35.109375 \r\nL 10.015625 40.921875 \r\nQ 26.609375 44.390625 36.390625 54.25 \r\nQ 46.1875 64.109375 46.1875 72.796875 \r\nL 46.1875 77.78125 \r\nL 53.71875 77.78125 \r\nL 53.71875 72.796875 \r\nQ 53.71875 63.96875 63.640625 54.3125 \r\nQ 73.578125 44.671875 89.984375 41.015625 \r\nL 84.8125 35.203125 \r\nQ 73.34375 38.765625 63.40625 46.1875 \r\nQ 53.46875 53.609375 49.90625 60.890625 \r\nz\r\nM 93.703125 6.984375 \r\nL 6.296875 6.984375 \r\nL 6.296875 13.484375 \r\nL 93.703125 13.484375 \r\nz\r\n\" id=\"MalgunGothic-49828\"/>\r\n     <path d=\"M 77.390625 37.59375 \r\nL 77.390625 85.40625 \r\nL 84.71875 85.40625 \r\nL 84.71875 37.59375 \r\nz\r\nM 67.578125 44.578125 \r\nQ 60.296875 43.40625 52.1875 43.109375 \r\nQ 44.09375 42.828125 16.3125 42.828125 \r\nL 16.3125 66.5 \r\nL 51.21875 66.5 \r\nL 51.21875 76.609375 \r\nL 16.3125 76.609375 \r\nL 16.3125 82.90625 \r\nL 58.40625 82.90625 \r\nL 58.40625 60.296875 \r\nL 23.484375 60.296875 \r\nL 23.484375 49.21875 \r\nQ 46.484375 49.21875 53.90625 49.515625 \r\nQ 61.328125 49.8125 66.5 50.78125 \r\nz\r\nM 26.703125 -6.5 \r\nL 26.703125 16.609375 \r\nL 77.390625 16.609375 \r\nL 77.390625 25.875 \r\nL 26.703125 25.875 \r\nL 26.703125 32.421875 \r\nL 84.71875 32.421875 \r\nL 84.71875 10.296875 \r\nL 33.984375 10.296875 \r\nL 33.984375 0 \r\nL 87.203125 0 \r\nL 87.203125 -6.5 \r\nz\r\n\" id=\"MalgunGothic-47540\"/>\r\n     <path d=\"M 77.484375 -8.796875 \r\nL 77.484375 40.09375 \r\nL 60.40625 40.09375 \r\nL 60.40625 46.578125 \r\nL 77.484375 46.578125 \r\nL 77.484375 85.40625 \r\nL 84.8125 85.40625 \r\nL 84.8125 -8.796875 \r\nz\r\nM 14.40625 12.203125 \r\nL 14.40625 49.515625 \r\nL 48.296875 49.515625 \r\nL 48.296875 70.40625 \r\nL 14.59375 70.40625 \r\nL 14.59375 76.90625 \r\nL 55.609375 76.90625 \r\nL 55.609375 43.21875 \r\nL 21.6875 43.21875 \r\nL 21.6875 18.609375 \r\nQ 44.875 18.609375 51.53125 18.84375 \r\nQ 58.203125 19.09375 63.375 20.125 \r\nL 64.59375 14.40625 \r\nQ 52.640625 12.203125 14.40625 12.203125 \r\nz\r\n\" id=\"MalgunGothic-47084\"/>\r\n     <path d=\"M 84.90625 42.71875 \r\nQ 74.859375 44.734375 64.109375 50.421875 \r\nQ 53.375 56.109375 50 61.28125 \r\nQ 47.015625 56.25 37.171875 50.828125 \r\nQ 27.34375 45.40625 15.578125 42.578125 \r\nL 10.5 48.875 \r\nQ 23.734375 50.34375 34.34375 56.78125 \r\nQ 44.96875 63.234375 46.1875 70.703125 \r\nL 16.015625 70.703125 \r\nL 16.015625 77.203125 \r\nL 46.390625 77.203125 \r\nL 46.390625 86.921875 \r\nL 53.8125 86.921875 \r\nL 53.8125 77.203125 \r\nL 83.984375 77.203125 \r\nL 83.984375 70.703125 \r\nL 53.8125 70.703125 \r\nQ 54.9375 63.71875 65.09375 57.59375 \r\nQ 75.25 51.46875 89.59375 49.125 \r\nz\r\nM 53.609375 26.421875 \r\nL 53.609375 -8.6875 \r\nL 46.296875 -8.6875 \r\nL 46.296875 26.421875 \r\nL 6.296875 26.421875 \r\nL 6.296875 32.90625 \r\nL 93.703125 32.90625 \r\nL 93.703125 26.421875 \r\nz\r\n\" id=\"MalgunGothic-52628\"/>\r\n     <path d=\"M 76.3125 -8.796875 \r\nL 76.3125 85.40625 \r\nL 83.59375 85.40625 \r\nL 83.59375 -8.796875 \r\nz\r\nM 13.375 11.53125 \r\nL 13.375 48.875 \r\nL 49.21875 48.875 \r\nL 49.21875 70.609375 \r\nL 13.375 70.609375 \r\nL 13.375 77.09375 \r\nL 56.5 77.09375 \r\nL 56.5 42.578125 \r\nL 20.703125 42.578125 \r\nL 20.703125 18.015625 \r\nQ 56.203125 18.015625 65.578125 20.015625 \r\nL 66.40625 13.71875 \r\nQ 54.6875 11.53125 13.375 11.53125 \r\nz\r\n\" id=\"MalgunGothic-47532\"/>\r\n     <path id=\"MalgunGothic-32\"/>\r\n     <path d=\"M 77.875 -8.796875 \r\nL 77.875 85.40625 \r\nL 85.203125 85.40625 \r\nL 85.203125 -8.796875 \r\nz\r\nM 43.796875 33.296875 \r\nL 43.796875 14.5 \r\nQ 65.71875 15.046875 72.3125 15.484375 \r\nL 72.703125 9.1875 \r\nQ 45.65625 7.625 8.296875 7.625 \r\nL 7.625 14.109375 \r\nQ 23.046875 14.109375 36.375 14.40625 \r\nL 36.375 33.203125 \r\nQ 26.375 34.328125 20.484375 40.5 \r\nQ 14.59375 46.6875 14.59375 55.71875 \r\nQ 14.59375 65.625 21.890625 71.96875 \r\nQ 29.203125 78.328125 40.1875 78.328125 \r\nQ 51.078125 78.328125 58.03125 72.078125 \r\nQ 64.984375 65.828125 64.984375 55.71875 \r\nQ 64.984375 46.828125 59.296875 40.75 \r\nQ 53.609375 34.671875 43.796875 33.296875 \r\nz\r\nM 39.703125 71.921875 \r\nQ 32.03125 71.921875 27.078125 67.40625 \r\nQ 22.125 62.890625 22.125 55.71875 \r\nQ 22.125 48.640625 27.046875 44.0625 \r\nQ 31.984375 39.5 39.703125 39.5 \r\nQ 47.46875 39.5 52.484375 44.09375 \r\nQ 57.515625 48.6875 57.515625 55.71875 \r\nQ 57.515625 62.84375 52.453125 67.375 \r\nQ 47.40625 71.921875 39.703125 71.921875 \r\nz\r\n\" id=\"MalgunGothic-50808\"/>\r\n    </defs>\r\n    <g transform=\"translate(252.675057 46.836949)scale(0.1 -0.1)\">\r\n     <use xlink:href=\"#MalgunGothic-49828\"/>\r\n     <use x=\"100\" xlink:href=\"#MalgunGothic-47540\"/>\r\n     <use x=\"200\" xlink:href=\"#MalgunGothic-47084\"/>\r\n     <use x=\"300\" xlink:href=\"#MalgunGothic-52628\"/>\r\n     <use x=\"400\" xlink:href=\"#MalgunGothic-47532\"/>\r\n     <use x=\"500\" xlink:href=\"#MalgunGothic-32\"/>\r\n     <use x=\"535.15625\" xlink:href=\"#MalgunGothic-50808\"/>\r\n    </g>\r\n   </g>\r\n   <g id=\"text_3\">\r\n    <!-- 30.00% -->\r\n    <defs>\r\n     <path d=\"M 6.5 11.234375 \r\nQ 13.921875 5.375 23.09375 5.375 \r\nQ 30.609375 5.375 35.21875 9.171875 \r\nQ 39.84375 12.984375 39.84375 19.484375 \r\nQ 39.84375 33.890625 19.578125 33.890625 \r\nL 13.625 33.890625 \r\nL 13.625 40.484375 \r\nL 19.28125 40.484375 \r\nQ 37.3125 40.484375 37.3125 53.953125 \r\nQ 37.3125 66.40625 23.578125 66.40625 \r\nQ 15.96875 66.40625 9.28125 61.1875 \r\nL 9.28125 68.953125 \r\nQ 16.109375 73.046875 25.53125 73.046875 \r\nQ 34.125 73.046875 39.671875 68.3125 \r\nQ 45.21875 63.578125 45.21875 55.953125 \r\nQ 45.21875 41.84375 30.8125 37.640625 \r\nL 30.8125 37.5 \r\nQ 38.578125 36.8125 43.1875 32.078125 \r\nQ 47.796875 27.34375 47.796875 20.3125 \r\nQ 47.796875 10.5 40.6875 4.640625 \r\nQ 33.59375 -1.21875 22.65625 -1.21875 \r\nQ 12.59375 -1.21875 6.5 2.640625 \r\nz\r\n\" id=\"MalgunGothic-51\"/>\r\n     <path d=\"M 4.34375 34.46875 \r\nQ 4.34375 53.515625 10.546875 63.28125 \r\nQ 16.75 73.046875 28.421875 73.046875 \r\nQ 50.828125 73.046875 50.828125 36.234375 \r\nQ 50.828125 18.0625 44.59375 8.421875 \r\nQ 38.375 -1.21875 26.8125 -1.21875 \r\nQ 15.875 -1.21875 10.109375 8.125 \r\nQ 4.34375 17.484375 4.34375 34.46875 \r\nz\r\nM 12.25 34.859375 \r\nQ 12.25 5.375 27.640625 5.375 \r\nQ 42.921875 5.375 42.921875 35.296875 \r\nQ 42.921875 66.40625 28.03125 66.40625 \r\nQ 12.25 66.40625 12.25 34.859375 \r\nz\r\n\" id=\"MalgunGothic-48\"/>\r\n     <path d=\"M 5.5625 4.296875 \r\nQ 5.5625 6.59375 7.171875 8.171875 \r\nQ 8.796875 9.765625 10.9375 9.765625 \r\nQ 13.09375 9.765625 14.703125 8.171875 \r\nQ 16.3125 6.59375 16.3125 4.296875 \r\nQ 16.3125 2.15625 14.71875 0.515625 \r\nQ 13.140625 -1.125 10.9375 -1.125 \r\nQ 8.734375 -1.125 7.140625 0.453125 \r\nQ 5.5625 2.046875 5.5625 4.296875 \r\nz\r\n\" id=\"MalgunGothic-46\"/>\r\n     <path d=\"M 3.953125 53.8125 \r\nQ 3.953125 62.453125 8.546875 67.671875 \r\nQ 13.140625 72.90625 21.140625 72.90625 \r\nQ 28.859375 72.90625 33.046875 68.046875 \r\nQ 37.25 63.1875 37.25 54.828125 \r\nQ 37.25 46.4375 32.53125 41.140625 \r\nQ 27.828125 35.84375 20.125 35.84375 \r\nQ 12.75 35.84375 8.34375 40.75 \r\nQ 3.953125 45.65625 3.953125 53.8125 \r\nz\r\nM 10.40625 54.296875 \r\nQ 10.40625 48.296875 13.140625 44.75 \r\nQ 15.875 41.21875 20.65625 41.21875 \r\nQ 25.484375 41.21875 28.171875 44.734375 \r\nQ 30.859375 48.25 30.859375 54.59375 \r\nQ 30.859375 60.84375 28.1875 64.25 \r\nQ 25.53125 67.671875 20.84375 67.671875 \r\nQ 15.96875 67.671875 13.1875 64.03125 \r\nQ 10.40625 60.40625 10.40625 54.296875 \r\nz\r\nM 67.96875 71.875 \r\nL 21.921875 -0.53125 \r\nL 15.09375 -0.53125 \r\nL 61.078125 71.875 \r\nz\r\nM 46.6875 16.84375 \r\nQ 46.6875 25.640625 51.3125 30.890625 \r\nQ 55.953125 36.140625 63.765625 36.140625 \r\nQ 71.390625 36.140625 75.640625 31.25 \r\nQ 79.890625 26.375 79.890625 17.78125 \r\nQ 79.890625 9.375 75.140625 4.125 \r\nQ 70.40625 -1.125 62.796875 -1.125 \r\nQ 55.46875 -1.125 51.078125 3.828125 \r\nQ 46.6875 8.796875 46.6875 16.84375 \r\nz\r\nM 53.03125 17.234375 \r\nQ 53.03125 11.328125 55.78125 7.78125 \r\nQ 58.546875 4.25 63.28125 4.25 \r\nQ 68.0625 4.25 70.765625 7.828125 \r\nQ 73.484375 11.421875 73.484375 17.71875 \r\nQ 73.484375 23.96875 70.84375 27.3125 \r\nQ 68.21875 30.671875 63.53125 30.671875 \r\nQ 58.640625 30.671875 55.828125 27.046875 \r\nQ 53.03125 23.4375 53.03125 17.234375 \r\nz\r\n\" id=\"MalgunGothic-37\"/>\r\n    </defs>\r\n    <g transform=\"translate(207.514987 86.57126)scale(0.1 -0.1)\">\r\n     <use xlink:href=\"#MalgunGothic-51\"/>\r\n     <use x=\"55.078125\" xlink:href=\"#MalgunGothic-48\"/>\r\n     <use x=\"110.15625\" xlink:href=\"#MalgunGothic-46\"/>\r\n     <use x=\"132.03125\" xlink:href=\"#MalgunGothic-48\"/>\r\n     <use x=\"187.109375\" xlink:href=\"#MalgunGothic-48\"/>\r\n     <use x=\"242.1875\" xlink:href=\"#MalgunGothic-37\"/>\r\n    </g>\r\n   </g>\r\n   <g id=\"text_4\">\r\n    <!-- 공포스릴러 외 -->\r\n    <defs>\r\n     <path d=\"M 80.90625 82.515625 \r\nQ 80.90625 61.765625 79.6875 50.984375 \r\nL 72.703125 51.515625 \r\nQ 73.578125 61.8125 73.578125 75.984375 \r\nL 21.484375 75.984375 \r\nL 21.484375 82.515625 \r\nz\r\nM 6.296875 37.59375 \r\nL 6.296875 44.09375 \r\nL 43.40625 44.09375 \r\nL 43.40625 63.1875 \r\nL 50.59375 63.1875 \r\nL 50.59375 44.09375 \r\nL 93.703125 44.09375 \r\nL 93.703125 37.59375 \r\nz\r\nM 49.8125 -7.28125 \r\nQ 35.0625 -7.28125 27.125 -2.3125 \r\nQ 19.1875 2.640625 19.1875 10.796875 \r\nQ 19.1875 19 27.09375 24 \r\nQ 35.015625 29 49.8125 29 \r\nQ 64.5 29 72.40625 24 \r\nQ 80.328125 19 80.328125 10.796875 \r\nQ 80.328125 2.640625 72.390625 -2.3125 \r\nQ 64.453125 -7.28125 49.8125 -7.28125 \r\nz\r\nM 49.8125 22.796875 \r\nQ 38.875 22.796875 32.9375 19.5 \r\nQ 27 16.21875 27 10.796875 \r\nQ 27 5.375 32.90625 2.125 \r\nQ 38.8125 -1.125 49.8125 -1.125 \r\nQ 60.796875 -1.125 66.703125 2.125 \r\nQ 72.609375 5.375 72.609375 10.796875 \r\nQ 72.609375 16.21875 66.640625 19.5 \r\nQ 60.6875 22.796875 49.8125 22.796875 \r\nz\r\n\" id=\"MalgunGothic-44277\"/>\r\n     <path d=\"M 15.578125 76.515625 \r\nL 84.421875 76.515625 \r\nL 84.421875 70.125 \r\nL 15.578125 70.125 \r\nz\r\nM 70.21875 38.71875 \r\nL 85.59375 38.71875 \r\nL 85.59375 32.171875 \r\nL 53.71875 32.171875 \r\nL 53.71875 11.8125 \r\nL 93.703125 11.8125 \r\nL 93.703125 5.328125 \r\nL 6.296875 5.328125 \r\nL 6.296875 11.8125 \r\nL 46.296875 11.8125 \r\nL 46.296875 32.171875 \r\nL 14.40625 32.171875 \r\nL 14.40625 38.71875 \r\nL 29.78125 38.71875 \r\nL 28.609375 65.1875 \r\nL 35.796875 65.1875 \r\nL 37.109375 38.71875 \r\nL 62.890625 38.71875 \r\nL 64.203125 65.1875 \r\nL 71.390625 65.1875 \r\nz\r\n\" id=\"MalgunGothic-54252\"/>\r\n    </defs>\r\n    <g transform=\"translate(22.885305 100.862702)scale(0.1 -0.1)\">\r\n     <use xlink:href=\"#MalgunGothic-44277\"/>\r\n     <use x=\"100\" xlink:href=\"#MalgunGothic-54252\"/>\r\n     <use x=\"200\" xlink:href=\"#MalgunGothic-49828\"/>\r\n     <use x=\"300\" xlink:href=\"#MalgunGothic-47540\"/>\r\n     <use x=\"400\" xlink:href=\"#MalgunGothic-47084\"/>\r\n     <use x=\"500\" xlink:href=\"#MalgunGothic-32\"/>\r\n     <use x=\"535.15625\" xlink:href=\"#MalgunGothic-50808\"/>\r\n    </g>\r\n   </g>\r\n   <g id=\"text_5\">\r\n    <!-- 30.00% -->\r\n    <g transform=\"translate(116.820008 116.039852)scale(0.1 -0.1)\">\r\n     <use xlink:href=\"#MalgunGothic-51\"/>\r\n     <use x=\"55.078125\" xlink:href=\"#MalgunGothic-48\"/>\r\n     <use x=\"110.15625\" xlink:href=\"#MalgunGothic-46\"/>\r\n     <use x=\"132.03125\" xlink:href=\"#MalgunGothic-48\"/>\r\n     <use x=\"187.109375\" xlink:href=\"#MalgunGothic-48\"/>\r\n     <use x=\"242.1875\" xlink:href=\"#MalgunGothic-37\"/>\r\n    </g>\r\n   </g>\r\n   <g id=\"text_6\">\r\n    <!-- 스릴러미스터리 -->\r\n    <defs>\r\n     <path d=\"M 76.3125 -8.796875 \r\nL 76.3125 85.40625 \r\nL 83.59375 85.40625 \r\nL 83.59375 -8.796875 \r\nz\r\nM 12.796875 18.890625 \r\nL 12.796875 77.09375 \r\nL 57.625 77.09375 \r\nL 57.625 18.890625 \r\nz\r\nM 50.296875 70.703125 \r\nL 20.125 70.703125 \r\nL 20.125 25.296875 \r\nL 50.296875 25.296875 \r\nz\r\n\" id=\"MalgunGothic-48120\"/>\r\n     <path d=\"M 76.421875 -8.796875 \r\nL 76.421875 39.3125 \r\nL 57.90625 39.3125 \r\nL 57.90625 45.703125 \r\nL 76.421875 45.703125 \r\nL 76.421875 85.40625 \r\nL 83.6875 85.40625 \r\nL 83.6875 -8.796875 \r\nz\r\nM 22.21875 44 \r\nL 22.21875 20.796875 \r\nL 33.5 20.796875 \r\nQ 55.078125 20.796875 64.703125 22.015625 \r\nL 65.1875 15.71875 \r\nQ 57.71875 14.84375 49.078125 14.625 \r\nQ 40.4375 14.40625 14.890625 14.40625 \r\nL 14.890625 77.390625 \r\nL 60.015625 77.390625 \r\nL 60.015625 70.796875 \r\nL 22.21875 70.796875 \r\nL 22.21875 50.296875 \r\nL 49.703125 50.296875 \r\nL 49.703125 44 \r\nz\r\n\" id=\"MalgunGothic-53552\"/>\r\n    </defs>\r\n    <g transform=\"translate(55.652944 221.667925)scale(0.1 -0.1)\">\r\n     <use xlink:href=\"#MalgunGothic-49828\"/>\r\n     <use x=\"100\" xlink:href=\"#MalgunGothic-47540\"/>\r\n     <use x=\"200\" xlink:href=\"#MalgunGothic-47084\"/>\r\n     <use x=\"300\" xlink:href=\"#MalgunGothic-48120\"/>\r\n     <use x=\"400\" xlink:href=\"#MalgunGothic-49828\"/>\r\n     <use x=\"500\" xlink:href=\"#MalgunGothic-53552\"/>\r\n     <use x=\"600\" xlink:href=\"#MalgunGothic-47532\"/>\r\n    </g>\r\n   </g>\r\n   <g id=\"text_7\">\r\n    <!-- 10.00% -->\r\n    <defs>\r\n     <path d=\"M 34.859375 0 \r\nL 27.09375 0 \r\nL 27.09375 62.0625 \r\nQ 24.859375 59.8125 19.78125 57.203125 \r\nQ 14.703125 54.59375 10.5 53.5625 \r\nL 10.5 61.859375 \r\nQ 15.875 63.375 22.015625 66.796875 \r\nQ 28.171875 70.21875 31.734375 73.4375 \r\nL 34.859375 73.4375 \r\nz\r\n\" id=\"MalgunGothic-49\"/>\r\n    </defs>\r\n    <g transform=\"translate(138.230198 181.93361)scale(0.1 -0.1)\">\r\n     <use xlink:href=\"#MalgunGothic-49\"/>\r\n     <use x=\"55.078125\" xlink:href=\"#MalgunGothic-48\"/>\r\n     <use x=\"110.15625\" xlink:href=\"#MalgunGothic-46\"/>\r\n     <use x=\"132.03125\" xlink:href=\"#MalgunGothic-48\"/>\r\n     <use x=\"187.109375\" xlink:href=\"#MalgunGothic-48\"/>\r\n     <use x=\"242.1875\" xlink:href=\"#MalgunGothic-37\"/>\r\n    </g>\r\n   </g>\r\n   <g id=\"text_8\">\r\n    <!-- 로맨스/멜로코미디 -->\r\n    <defs>\r\n     <path d=\"M 19.484375 56.890625 \r\nL 72.796875 56.890625 \r\nL 72.796875 70.796875 \r\nL 19.671875 70.796875 \r\nL 19.671875 77.203125 \r\nL 80.078125 77.203125 \r\nL 80.078125 50.59375 \r\nL 26.90625 50.59375 \r\nL 26.90625 35.015625 \r\nL 82.8125 35.015625 \r\nL 82.8125 28.515625 \r\nL 53.71875 28.515625 \r\nL 53.71875 11.375 \r\nL 93.703125 11.375 \r\nL 93.703125 4.890625 \r\nL 6.296875 4.890625 \r\nL 6.296875 11.375 \r\nL 46.390625 11.375 \r\nL 46.390625 28.515625 \r\nL 19.484375 28.515625 \r\nz\r\n\" id=\"MalgunGothic-47196\"/>\r\n     <path d=\"M 79 18.21875 \r\nL 79 47.796875 \r\nL 68.015625 47.796875 \r\nL 68.015625 20.21875 \r\nL 60.796875 20.21875 \r\nL 60.796875 83.5 \r\nL 68.015625 83.5 \r\nL 68.015625 54.296875 \r\nL 79 54.296875 \r\nL 79 85.40625 \r\nL 86.28125 85.40625 \r\nL 86.28125 18.21875 \r\nz\r\nM 11.921875 35.296875 \r\nL 11.921875 79 \r\nL 50.59375 79 \r\nL 50.59375 35.296875 \r\nz\r\nM 43.5 72.609375 \r\nL 19 72.609375 \r\nL 19 41.703125 \r\nL 43.5 41.703125 \r\nz\r\nM 27.390625 -5.171875 \r\nL 27.390625 25.296875 \r\nL 34.71875 25.296875 \r\nL 34.71875 1.421875 \r\nL 89.109375 1.421875 \r\nL 89.109375 -5.171875 \r\nz\r\n\" id=\"MalgunGothic-47592\"/>\r\n     <path d=\"M 40.375 71.875 \r\nL 5.90625 -11.921875 \r\nL -1.3125 -11.921875 \r\nL 33.015625 71.875 \r\nz\r\n\" id=\"MalgunGothic-47\"/>\r\n     <path d=\"M 79 36.8125 \r\nL 79 85.40625 \r\nL 86.28125 85.40625 \r\nL 86.28125 36.8125 \r\nz\r\nM 12.109375 40.71875 \r\nL 12.109375 81.890625 \r\nL 50.59375 81.890625 \r\nL 50.59375 64.3125 \r\nL 62.703125 64.3125 \r\nL 62.703125 83.5 \r\nL 69.921875 83.5 \r\nL 69.921875 36.71875 \r\nL 62.703125 36.71875 \r\nL 62.703125 57.8125 \r\nL 50.59375 57.8125 \r\nL 50.59375 40.71875 \r\nz\r\nM 43.40625 75.390625 \r\nL 19.28125 75.390625 \r\nL 19.28125 47.21875 \r\nL 43.40625 47.21875 \r\nz\r\nM 27.6875 -6.59375 \r\nL 27.6875 16.109375 \r\nL 79.109375 16.109375 \r\nL 79.109375 25.203125 \r\nL 27.6875 25.203125 \r\nL 27.6875 31.6875 \r\nL 86.28125 31.6875 \r\nL 86.28125 9.8125 \r\nL 34.90625 9.8125 \r\nL 34.90625 -0.09375 \r\nL 88.8125 -0.09375 \r\nL 88.8125 -6.59375 \r\nz\r\n\" id=\"MalgunGothic-47708\"/>\r\n     <path d=\"M 78.21875 23.09375 \r\nL 71.296875 23.875 \r\nQ 72.75 36.625 72.90625 47.609375 \r\nL 14.984375 43.703125 \r\nL 13.484375 50.6875 \r\nL 72.90625 53.71875 \r\nL 73 70.015625 \r\nL 17.921875 70.015625 \r\nL 17.921875 76.421875 \r\nL 80.328125 76.421875 \r\nL 80.328125 54.390625 \r\nQ 80.328125 37.109375 78.21875 23.09375 \r\nz\r\nM 6.296875 6.5 \r\nL 6.296875 13.09375 \r\nL 41.5 13.09375 \r\nL 41.5 36.078125 \r\nL 48.78125 36.078125 \r\nL 48.78125 13.09375 \r\nL 93.703125 13.09375 \r\nL 93.703125 6.5 \r\nz\r\n\" id=\"MalgunGothic-53076\"/>\r\n     <path d=\"M 77.296875 -8.796875 \r\nL 77.296875 85.40625 \r\nL 84.625 85.40625 \r\nL 84.625 -8.796875 \r\nz\r\nM 66.40625 18.015625 \r\nQ 58.640625 17.09375 49.28125 16.84375 \r\nQ 39.9375 16.609375 15.828125 16.609375 \r\nL 15.828125 77 \r\nL 61.1875 77 \r\nL 61.1875 70.515625 \r\nL 23.09375 70.515625 \r\nL 23.09375 23.09375 \r\nQ 58.15625 23.09375 65.921875 24.3125 \r\nz\r\n\" id=\"MalgunGothic-46356\"/>\r\n    </defs>\r\n    <g transform=\"translate(189.164013 242.303911)scale(0.1 -0.1)\">\r\n     <use xlink:href=\"#MalgunGothic-47196\"/>\r\n     <use x=\"100\" xlink:href=\"#MalgunGothic-47592\"/>\r\n     <use x=\"200\" xlink:href=\"#MalgunGothic-49828\"/>\r\n     <use x=\"300\" xlink:href=\"#MalgunGothic-47\"/>\r\n     <use x=\"339.599609\" xlink:href=\"#MalgunGothic-47708\"/>\r\n     <use x=\"439.599609\" xlink:href=\"#MalgunGothic-47196\"/>\r\n     <use x=\"539.599609\" xlink:href=\"#MalgunGothic-53076\"/>\r\n     <use x=\"639.599609\" xlink:href=\"#MalgunGothic-48120\"/>\r\n     <use x=\"739.599609\" xlink:href=\"#MalgunGothic-46356\"/>\r\n    </g>\r\n   </g>\r\n   <g id=\"text_9\">\r\n    <!-- 10.00% -->\r\n    <g transform=\"translate(172.872599 193.189603)scale(0.1 -0.1)\">\r\n     <use xlink:href=\"#MalgunGothic-49\"/>\r\n     <use x=\"55.078125\" xlink:href=\"#MalgunGothic-48\"/>\r\n     <use x=\"110.15625\" xlink:href=\"#MalgunGothic-46\"/>\r\n     <use x=\"132.03125\" xlink:href=\"#MalgunGothic-48\"/>\r\n     <use x=\"187.109375\" xlink:href=\"#MalgunGothic-48\"/>\r\n     <use x=\"242.1875\" xlink:href=\"#MalgunGothic-37\"/>\r\n    </g>\r\n   </g>\r\n   <g id=\"text_10\">\r\n    <!-- 로맨스/멜로기타(논픽션) -->\r\n    <defs>\r\n     <path d=\"M 76.3125 -8.796875 \r\nL 76.3125 85.40625 \r\nL 83.59375 85.40625 \r\nL 83.59375 -8.796875 \r\nz\r\nM 57.421875 76.703125 \r\nQ 57.078125 57.125 46.1875 40.796875 \r\nQ 35.296875 24.46875 14.984375 13.1875 \r\nL 9.421875 19.09375 \r\nQ 24.359375 25.296875 35.828125 38.71875 \r\nQ 47.3125 52.15625 49.609375 70.21875 \r\nL 13.28125 70.21875 \r\nL 13.28125 76.703125 \r\nz\r\n\" id=\"MalgunGothic-44592\"/>\r\n     <path d=\"M 79.59375 42 \r\nL 79.59375 -8.796875 \r\nL 72.3125 -8.796875 \r\nL 72.3125 85.40625 \r\nL 79.59375 85.40625 \r\nL 79.59375 48.578125 \r\nL 95.515625 48.578125 \r\nL 95.515625 42 \r\nz\r\nM 20.40625 44.1875 \r\nL 20.40625 22.90625 \r\nL 24.859375 22.90625 \r\nQ 53.953125 22.90625 62.703125 24.21875 \r\nL 63.28125 17.921875 \r\nQ 55.375 17 46.140625 16.75 \r\nQ 36.921875 16.5 13.09375 16.5 \r\nL 13.09375 77.09375 \r\nL 57.078125 77.09375 \r\nL 57.078125 70.609375 \r\nL 20.40625 70.609375 \r\nL 20.40625 50.59375 \r\nL 54.59375 50.59375 \r\nL 54.59375 44.1875 \r\nz\r\n\" id=\"MalgunGothic-53440\"/>\r\n     <path d=\"M 22.46875 -16.3125 \r\nQ 6.984375 1.375 6.984375 27.390625 \r\nQ 6.984375 53.609375 22.46875 71.875 \r\nL 29.5 71.875 \r\nQ 13.71875 52.6875 13.71875 27.484375 \r\nQ 13.71875 2.390625 29.390625 -16.3125 \r\nz\r\n\" id=\"MalgunGothic-40\"/>\r\n     <path d=\"M 6.296875 29.984375 \r\nL 6.296875 36.53125 \r\nL 46.296875 36.53125 \r\nL 46.296875 50.09375 \r\nL 21.484375 50.09375 \r\nL 21.484375 82.078125 \r\nL 28.8125 82.078125 \r\nL 28.8125 56.59375 \r\nL 80.90625 56.59375 \r\nL 80.90625 50.09375 \r\nL 53.71875 50.09375 \r\nL 53.71875 36.53125 \r\nL 93.703125 36.53125 \r\nL 93.703125 29.984375 \r\nz\r\nM 21 -5.609375 \r\nL 21 21.78125 \r\nL 28.328125 21.78125 \r\nL 28.328125 0.875 \r\nL 80.8125 0.875 \r\nL 80.8125 -5.609375 \r\nz\r\n\" id=\"MalgunGothic-45436\"/>\r\n     <path d=\"M 77.390625 31.390625 \r\nL 77.390625 85.40625 \r\nL 84.71875 85.40625 \r\nL 84.71875 31.390625 \r\nz\r\nM 12.703125 74.609375 \r\nL 12.703125 81 \r\nL 66.21875 81 \r\nL 66.21875 74.609375 \r\nz\r\nM 70.609375 38.09375 \r\nQ 64.40625 36.921875 54 36.921875 \r\nL 10.203125 36.921875 \r\nL 10.203125 43.40625 \r\nL 23.78125 43.40625 \r\nL 22.796875 69.921875 \r\nL 29.890625 69.921875 \r\nL 30.90625 43.40625 \r\nL 47.609375 43.40625 \r\nL 48.484375 69.921875 \r\nL 55.609375 69.921875 \r\nL 54.59375 43.40625 \r\nQ 64.65625 43.40625 70.125 44.390625 \r\nz\r\nM 77.390625 -8.796875 \r\nL 77.390625 19.671875 \r\nL 23.296875 19.671875 \r\nL 23.296875 26.3125 \r\nL 84.71875 26.3125 \r\nL 84.71875 -8.796875 \r\nz\r\n\" id=\"MalgunGothic-54589\"/>\r\n     <path d=\"M 58.015625 47.90625 \r\nL 58.015625 54.203125 \r\nL 76.21875 54.203125 \r\nL 76.21875 64.890625 \r\nL 58.015625 64.890625 \r\nL 58.015625 71.1875 \r\nL 76.21875 71.1875 \r\nL 76.21875 85.40625 \r\nL 83.5 85.40625 \r\nL 83.5 16.609375 \r\nL 76.21875 16.609375 \r\nL 76.21875 47.90625 \r\nz\r\nM 57.421875 32.328125 \r\nQ 50.4375 36.625 44.203125 43.375 \r\nQ 37.984375 50.140625 35.40625 55.71875 \r\nQ 32.671875 49.21875 25.96875 41.375 \r\nQ 19.28125 33.546875 12.796875 29.890625 \r\nL 7.515625 34.90625 \r\nQ 17.578125 39.984375 24.578125 49.96875 \r\nQ 31.59375 59.96875 31.59375 70.21875 \r\nL 31.59375 82.328125 \r\nL 38.71875 82.328125 \r\nL 38.71875 70.21875 \r\nQ 38.71875 60.84375 45.984375 51.34375 \r\nQ 53.265625 41.84375 62.3125 37.59375 \r\nz\r\nM 25.484375 -5.71875 \r\nL 25.484375 24.21875 \r\nL 32.8125 24.21875 \r\nL 32.8125 0.6875 \r\nL 85.984375 0.6875 \r\nL 85.984375 -5.71875 \r\nz\r\n\" id=\"MalgunGothic-49496\"/>\r\n     <path d=\"M 1.265625 -16.3125 \r\nQ 16.890625 2.34375 16.890625 27.484375 \r\nQ 16.890625 52.78125 1.125 71.875 \r\nL 8.203125 71.875 \r\nQ 23.78125 53.609375 23.78125 27.390625 \r\nQ 23.78125 1.375 8.203125 -16.3125 \r\nz\r\n\" id=\"MalgunGothic-41\"/>\r\n    </defs>\r\n    <g transform=\"translate(252.675076 221.775717)scale(0.1 -0.1)\">\r\n     <use xlink:href=\"#MalgunGothic-47196\"/>\r\n     <use x=\"100\" xlink:href=\"#MalgunGothic-47592\"/>\r\n     <use x=\"200\" xlink:href=\"#MalgunGothic-49828\"/>\r\n     <use x=\"300\" xlink:href=\"#MalgunGothic-47\"/>\r\n     <use x=\"339.599609\" xlink:href=\"#MalgunGothic-47708\"/>\r\n     <use x=\"439.599609\" xlink:href=\"#MalgunGothic-47196\"/>\r\n     <use x=\"539.599609\" xlink:href=\"#MalgunGothic-44592\"/>\r\n     <use x=\"639.599609\" xlink:href=\"#MalgunGothic-53440\"/>\r\n     <use x=\"739.599609\" xlink:href=\"#MalgunGothic-40\"/>\r\n     <use x=\"770.068359\" xlink:href=\"#MalgunGothic-45436\"/>\r\n     <use x=\"870.068359\" xlink:href=\"#MalgunGothic-54589\"/>\r\n     <use x=\"970.068359\" xlink:href=\"#MalgunGothic-49496\"/>\r\n     <use x=\"1070.068359\" xlink:href=\"#MalgunGothic-41\"/>\r\n    </g>\r\n   </g>\r\n   <g id=\"text_11\">\r\n    <!-- 10.00% -->\r\n    <g transform=\"translate(207.514997 181.933599)scale(0.1 -0.1)\">\r\n     <use xlink:href=\"#MalgunGothic-49\"/>\r\n     <use x=\"55.078125\" xlink:href=\"#MalgunGothic-48\"/>\r\n     <use x=\"110.15625\" xlink:href=\"#MalgunGothic-46\"/>\r\n     <use x=\"132.03125\" xlink:href=\"#MalgunGothic-48\"/>\r\n     <use x=\"187.109375\" xlink:href=\"#MalgunGothic-48\"/>\r\n     <use x=\"242.1875\" xlink:href=\"#MalgunGothic-37\"/>\r\n    </g>\r\n   </g>\r\n   <g id=\"text_12\">\r\n    <!-- 공포 -->\r\n    <g transform=\"translate(291.927064 167.642157)scale(0.1 -0.1)\">\r\n     <use xlink:href=\"#MalgunGothic-44277\"/>\r\n     <use x=\"100\" xlink:href=\"#MalgunGothic-54252\"/>\r\n    </g>\r\n   </g>\r\n   <g id=\"text_13\">\r\n    <!-- 10.00% -->\r\n    <g transform=\"translate(228.925172 152.46501)scale(0.1 -0.1)\">\r\n     <use xlink:href=\"#MalgunGothic-49\"/>\r\n     <use x=\"55.078125\" xlink:href=\"#MalgunGothic-48\"/>\r\n     <use x=\"110.15625\" xlink:href=\"#MalgunGothic-46\"/>\r\n     <use x=\"132.03125\" xlink:href=\"#MalgunGothic-48\"/>\r\n     <use x=\"187.109375\" xlink:href=\"#MalgunGothic-48\"/>\r\n     <use x=\"242.1875\" xlink:href=\"#MalgunGothic-37\"/>\r\n    </g>\r\n   </g>\r\n   <g id=\"text_14\">\r\n    <!-- 조회수가 가장 높은 장르 -->\r\n    <defs>\r\n     <path d=\"M 53.71875 70.21875 \r\nL 53.71875 69.390625 \r\nQ 53.71875 60.984375 63.59375 51.34375 \r\nQ 73.484375 41.703125 89.984375 37.890625 \r\nL 84.8125 31.890625 \r\nQ 73.1875 35.546875 63.28125 43.03125 \r\nQ 53.375 50.53125 49.90625 57.625 \r\nQ 46.296875 50.484375 36.578125 43.109375 \r\nQ 26.859375 35.75 15.1875 31.78125 \r\nL 10.015625 37.796875 \r\nQ 26.03125 41.0625 36.109375 51.0625 \r\nQ 46.1875 61.078125 46.1875 69.390625 \r\nL 46.1875 70.21875 \r\nL 16.015625 70.21875 \r\nL 16.015625 76.703125 \r\nL 83.984375 76.703125 \r\nL 83.984375 70.21875 \r\nz\r\nM 6.296875 6.109375 \r\nL 6.296875 12.5 \r\nL 46.296875 12.5 \r\nL 46.296875 36.28125 \r\nL 53.71875 36.28125 \r\nL 53.71875 12.5 \r\nL 93.703125 12.5 \r\nL 93.703125 6.109375 \r\nz\r\n\" id=\"MalgunGothic-51312\"/>\r\n     <path d=\"M 78.078125 -8.796875 \r\nL 78.078125 85.40625 \r\nL 85.40625 85.40625 \r\nL 85.40625 -8.796875 \r\nz\r\nM 35.109375 85.203125 \r\nL 42.390625 85.203125 \r\nL 42.390625 72.90625 \r\nL 66.796875 72.90625 \r\nL 66.796875 66.40625 \r\nL 10.5 66.40625 \r\nL 10.5 72.90625 \r\nL 35.109375 72.90625 \r\nz\r\nM 42.28125 27 \r\nL 42.28125 13.484375 \r\nL 59.96875 14.0625 \r\nQ 67.828125 14.3125 70.796875 14.59375 \r\nL 71.1875 8.296875 \r\nQ 63.484375 7.671875 41.671875 7.171875 \r\nQ 19.875 6.6875 8.015625 6.6875 \r\nL 7.328125 13.09375 \r\nQ 22.078125 13.09375 35.109375 13.375 \r\nL 35.109375 27 \r\nQ 25.4375 27.875 20.203125 32.53125 \r\nQ 14.984375 37.203125 14.984375 44 \r\nQ 14.984375 51.765625 21.375 56.5625 \r\nQ 27.78125 61.375 38.8125 61.375 \r\nQ 49.75 61.375 56.078125 56.59375 \r\nQ 62.40625 51.8125 62.40625 44.578125 \r\nQ 62.40625 37.5 57.125 32.6875 \r\nQ 51.859375 27.875 42.28125 27 \r\nz\r\nM 38.8125 55.21875 \r\nQ 31.296875 55.21875 26.84375 52.0625 \r\nQ 22.40625 48.921875 22.40625 44 \r\nQ 22.40625 39.15625 26.734375 36.125 \r\nQ 31.0625 33.109375 38.8125 33.109375 \r\nQ 46.53125 33.109375 50.796875 36.15625 \r\nQ 55.078125 39.203125 55.078125 44 \r\nQ 55.078125 48.875 50.703125 52.046875 \r\nQ 46.34375 55.21875 38.8125 55.21875 \r\nz\r\n\" id=\"MalgunGothic-54924\"/>\r\n     <path d=\"M 85.796875 46.78125 \r\nQ 74.21875 48.390625 63.71875 54.65625 \r\nQ 53.21875 60.9375 50 66.796875 \r\nQ 46.484375 60.796875 36.078125 54.546875 \r\nQ 25.6875 48.296875 14.40625 46.1875 \r\nL 9.90625 52.296875 \r\nQ 24.359375 53.90625 35.328125 61.59375 \r\nQ 46.296875 69.28125 46.296875 78.328125 \r\nL 46.296875 82.421875 \r\nL 53.609375 82.421875 \r\nL 53.609375 78.328125 \r\nQ 53.609375 69.234375 64.34375 61.6875 \r\nQ 75.09375 54.15625 90.09375 52.78125 \r\nz\r\nM 53.609375 28.71875 \r\nL 53.609375 -8.796875 \r\nL 46.296875 -8.796875 \r\nL 46.296875 28.71875 \r\nL 6.296875 28.71875 \r\nL 6.296875 35.203125 \r\nL 93.703125 35.203125 \r\nL 93.703125 28.71875 \r\nz\r\n\" id=\"MalgunGothic-49688\"/>\r\n     <path d=\"M 79.59375 40.09375 \r\nL 79.59375 -8.796875 \r\nL 72.3125 -8.796875 \r\nL 72.3125 85.40625 \r\nL 79.59375 85.40625 \r\nL 79.59375 46.578125 \r\nL 96.484375 46.578125 \r\nL 96.484375 40.09375 \r\nz\r\nM 56.390625 77 \r\nQ 55.328125 36.921875 14.015625 13.484375 \r\nL 8.40625 19.390625 \r\nQ 23.1875 25.484375 34.90625 39.15625 \r\nQ 46.625 52.828125 48.578125 70.515625 \r\nL 12.40625 70.515625 \r\nL 12.40625 77 \r\nz\r\n\" id=\"MalgunGothic-44032\"/>\r\n     <path d=\"M 6.296875 35.6875 \r\nL 6.296875 42.1875 \r\nL 46.296875 42.1875 \r\nL 46.296875 54.78125 \r\nL 21.484375 54.78125 \r\nL 21.484375 83.59375 \r\nL 28.8125 83.59375 \r\nL 28.8125 61.28125 \r\nL 80.90625 61.28125 \r\nL 80.90625 54.78125 \r\nL 53.71875 54.78125 \r\nL 53.71875 42.1875 \r\nL 93.703125 42.1875 \r\nL 93.703125 35.6875 \r\nz\r\nM 17.671875 -6.203125 \r\nL 17.671875 0.203125 \r\nL 30.515625 0.203125 \r\nL 30.515625 19.828125 \r\nL 18.890625 19.828125 \r\nL 18.890625 26.21875 \r\nL 81.109375 26.21875 \r\nL 81.109375 19.828125 \r\nL 69.484375 19.828125 \r\nL 69.484375 0.203125 \r\nL 82.328125 0.203125 \r\nL 82.328125 -6.203125 \r\nz\r\nM 62.3125 19.828125 \r\nL 37.703125 19.828125 \r\nL 37.703125 0.203125 \r\nL 62.3125 0.203125 \r\nz\r\n\" id=\"MalgunGothic-45458\"/>\r\n     <path d=\"M 50 46.09375 \r\nQ 36.078125 46.09375 28.390625 51.359375 \r\nQ 20.703125 56.640625 20.703125 64.984375 \r\nQ 20.703125 73.34375 28.359375 78.5625 \r\nQ 36.03125 83.796875 50 83.796875 \r\nQ 63.96875 83.796875 71.671875 78.5625 \r\nQ 79.390625 73.34375 79.390625 64.984375 \r\nQ 79.390625 56.640625 71.625 51.359375 \r\nQ 63.875 46.09375 50 46.09375 \r\nz\r\nM 50 77.59375 \r\nQ 39.703125 77.59375 34.015625 74.171875 \r\nQ 28.328125 70.75 28.328125 64.984375 \r\nQ 28.328125 59.234375 34.015625 55.8125 \r\nQ 39.703125 52.390625 50 52.390625 \r\nQ 60.296875 52.390625 65.984375 55.8125 \r\nQ 71.6875 59.234375 71.6875 64.984375 \r\nQ 71.6875 70.75 65.984375 74.171875 \r\nQ 60.296875 77.59375 50 77.59375 \r\nz\r\nM 6.296875 29.984375 \r\nL 6.296875 36.625 \r\nL 93.703125 36.625 \r\nL 93.703125 29.984375 \r\nz\r\nM 20.90625 -5.609375 \r\nL 20.90625 20.796875 \r\nL 28.328125 20.796875 \r\nL 28.328125 0.875 \r\nL 81.296875 0.875 \r\nL 81.296875 -5.609375 \r\nz\r\n\" id=\"MalgunGothic-51008\"/>\r\n    </defs>\r\n    <g transform=\"translate(122.228125 16.310625)scale(0.12 -0.12)\">\r\n     <use xlink:href=\"#MalgunGothic-51312\"/>\r\n     <use x=\"100\" xlink:href=\"#MalgunGothic-54924\"/>\r\n     <use x=\"200\" xlink:href=\"#MalgunGothic-49688\"/>\r\n     <use x=\"300\" xlink:href=\"#MalgunGothic-44032\"/>\r\n     <use x=\"400\" xlink:href=\"#MalgunGothic-32\"/>\r\n     <use x=\"435.15625\" xlink:href=\"#MalgunGothic-44032\"/>\r\n     <use x=\"535.15625\" xlink:href=\"#MalgunGothic-51109\"/>\r\n     <use x=\"635.15625\" xlink:href=\"#MalgunGothic-32\"/>\r\n     <use x=\"670.3125\" xlink:href=\"#MalgunGothic-45458\"/>\r\n     <use x=\"770.3125\" xlink:href=\"#MalgunGothic-51008\"/>\r\n     <use x=\"870.3125\" xlink:href=\"#MalgunGothic-32\"/>\r\n     <use x=\"905.46875\" xlink:href=\"#MalgunGothic-51109\"/>\r\n     <use x=\"1005.46875\" xlink:href=\"#MalgunGothic-47476\"/>\r\n    </g>\r\n   </g>\r\n  </g>\r\n </g>\r\n</svg>\r\n",
      "image/png": "[encoded data removed]"
     },
     "metadata": {}
    }
   ],
   "source": [
    "df1 = mvli1.장르.value_counts()\n",
    "df1.plot.pie(autopct='%.2f%%')\n",
    "plt.title(\"조회수가 가장 높은 장르\")\n",
    "plt.axis('equal')\n",
    "plt.show()"
   ]
  }
 ]
}