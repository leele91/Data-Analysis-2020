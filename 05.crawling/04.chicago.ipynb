{
 "metadata": {
  "language_info": {
   "codemirror_mode": {
    "name": "ipython",
    "version": 3
   },
   "file_extension": ".py",
   "mimetype": "text/x-python",
   "name": "python",
   "nbconvert_exporter": "python",
   "pygments_lexer": "ipython3",
   "version": "3.8.3-final"
  },
  "orig_nbformat": 2,
  "kernelspec": {
   "name": "python3",
   "display_name": "Python 3"
  }
 },
 "nbformat": 4,
 "nbformat_minor": 2,
 "cells": [
  {
   "source": [
    "# 시카고 샌드위치 맛집 분석"
   ],
   "cell_type": "markdown",
   "metadata": {}
  },
  {
   "source": [
    "### 1. 시키고 샌드위치 맛집 사이트에 접근하기"
   ],
   "cell_type": "markdown",
   "metadata": {}
  },
  {
   "cell_type": "code",
   "execution_count": 1,
   "metadata": {},
   "outputs": [],
   "source": [
    "from bs4 import BeautifulSoup\n",
    "from urllib.request import urlopen"
   ]
  },
  {
   "cell_type": "code",
   "execution_count": 2,
   "metadata": {},
   "outputs": [],
   "source": [
    "url_base = 'https://www.chicagomag.com'\n",
    "url_sub = '/Chicago-Magazine/November-2012/Best-Sandwiches-Chicago/'\n",
    "url = url_base + url_sub\n",
    "\n",
    "html= urlopen(url)\n",
    "soup = BeautifulSoup(html, 'html.parser')"
   ]
  },
  {
   "cell_type": "code",
   "execution_count": 3,
   "metadata": {},
   "outputs": [
    {
     "output_type": "execute_result",
     "data": {
      "text/plain": [
       "<div class=\"sammy\" style=\"position: relative;\">\n",
       "<div class=\"sammyRank\">1</div>\n",
       "<div class=\"sammyListing\"><a href=\"/Chicago-Magazine/November-2012/Best-Sandwiches-in-Chicago-Old-Oak-Tap-BLT/\"><b>BLT</b><br>\n",
       "Old Oak Tap<br>\n",
       "<em>Read more</em> </br></br></a></div>\n",
       "</div>"
      ]
     },
     "metadata": {},
     "execution_count": 3
    }
   ],
   "source": [
    "rest_list = soup.find_all('div', 'sammy')\n",
    "rest_list[0]"
   ]
  },
  {
   "cell_type": "code",
   "execution_count": 4,
   "metadata": {},
   "outputs": [
    {
     "output_type": "execute_result",
     "data": {
      "text/plain": [
       "50"
      ]
     },
     "metadata": {},
     "execution_count": 4
    }
   ],
   "source": [
    "len(rest_list)"
   ]
  },
  {
   "source": [
    "### 2. 접근한 웹 페이지에서 원하는 데이터 추출하고 정리하기\n"
   ],
   "cell_type": "markdown",
   "metadata": {}
  },
  {
   "cell_type": "code",
   "execution_count": 5,
   "metadata": {},
   "outputs": [
    {
     "output_type": "execute_result",
     "data": {
      "text/plain": [
       "'1'"
      ]
     },
     "metadata": {},
     "execution_count": 5
    }
   ],
   "source": [
    "rank = rest_list[0].select_one('.sammyRank').string # 리스트 번호 뽑기\n",
    "rank"
   ]
  },
  {
   "cell_type": "code",
   "execution_count": 6,
   "metadata": {},
   "outputs": [
    {
     "output_type": "execute_result",
     "data": {
      "text/plain": [
       "'http://www.chicagomag.com/Chicago-Magazine/November-2012/Best-Sandwiches-in-Chicago-Lula-Cafe-Ham-and-Raclette-Panino/'"
      ]
     },
     "metadata": {},
     "execution_count": 6
    }
   ],
   "source": [
    "from urllib.parse import urljoin\n",
    "#url = rest_list[0].find('a')['href'] # <a href=\"/Chic안의 url찾기/attr없어도 됨\n",
    "#url중에서 httl이 없는 부분이 있으면 합쳐서\n",
    "url = urljoin(url_base, rest_list[10].find('a')['href'])\n",
    "url"
   ]
  },
  {
   "cell_type": "code",
   "execution_count": 7,
   "metadata": {},
   "outputs": [
    {
     "output_type": "execute_result",
     "data": {
      "text/plain": [
       "'BLT\\r\\nOld Oak Tap\\nRead more '"
      ]
     },
     "metadata": {},
     "execution_count": 7
    }
   ],
   "source": [
    "tmp = rest_list[0].find('a').get_text()\n",
    "tmp"
   ]
  },
  {
   "cell_type": "code",
   "execution_count": 8,
   "metadata": {},
   "outputs": [
    {
     "output_type": "execute_result",
     "data": {
      "text/plain": [
       "['BLT\\r', 'Old Oak Tap', 'Read more ']"
      ]
     },
     "metadata": {},
     "execution_count": 8
    }
   ],
   "source": [
    "tmp.split('\\n')"
   ]
  },
  {
   "cell_type": "code",
   "execution_count": 9,
   "metadata": {},
   "outputs": [
    {
     "output_type": "execute_result",
     "data": {
      "text/plain": [
       "('BLT', 'Old Oak Tap')"
      ]
     },
     "metadata": {},
     "execution_count": 9
    }
   ],
   "source": [
    "menu = tmp.split('\\n')[0].replace('\\r', '')\n",
    "cafe = tmp.split('\\n')[1]\n",
    "menu, cafe"
   ]
  },
  {
   "cell_type": "code",
   "execution_count": 10,
   "metadata": {},
   "outputs": [],
   "source": [
    "rank_list = []; url_list = []; menu_list = []; cafe_list=[]\n",
    "for rest in rest_list:\n",
    "    rank = int(rest.select_one('.sammyRank').string)\n",
    "    url = urljoin(url_base, rest.find('a')['href'])\n",
    "    tmp = rest.find('a').get_text().split('\\n')\n",
    "    menu = tmp[0].replace('\\r', '')\n",
    "    cafe = tmp[1]\n",
    "\n",
    "    rank_list.append(rank) \n",
    "    url_list.append(url)\n",
    "    menu_list.append(menu)\n",
    "    cafe_list.append(cafe)"
   ]
  },
  {
   "cell_type": "code",
   "execution_count": 11,
   "metadata": {},
   "outputs": [
    {
     "output_type": "execute_result",
     "data": {
      "text/plain": [
       "   Rank                    Cafe               Menu  \\\n",
       "0     1             Old Oak Tap                BLT   \n",
       "1     2               Au Cheval      Fried Bologna   \n",
       "2     3                    Xoco  Woodland Mushroom   \n",
       "3     4               Al’s Deli         Roast Beef   \n",
       "4     5  Publican Quality Meats               PB&L   \n",
       "\n",
       "                                                 URL  \n",
       "0  https://www.chicagomag.com/Chicago-Magazine/No...  \n",
       "1  https://www.chicagomag.com/Chicago-Magazine/No...  \n",
       "2  https://www.chicagomag.com/Chicago-Magazine/No...  \n",
       "3  https://www.chicagomag.com/Chicago-Magazine/No...  \n",
       "4  https://www.chicagomag.com/Chicago-Magazine/No...  "
      ],
      "text/html": "<div>\n<style scoped>\n    .dataframe tbody tr th:only-of-type {\n        vertical-align: middle;\n    }\n\n    .dataframe tbody tr th {\n        vertical-align: top;\n    }\n\n    .dataframe thead th {\n        text-align: right;\n    }\n</style>\n<table border=\"1\" class=\"dataframe\">\n  <thead>\n    <tr style=\"text-align: right;\">\n      <th></th>\n      <th>Rank</th>\n      <th>Cafe</th>\n      <th>Menu</th>\n      <th>URL</th>\n    </tr>\n  </thead>\n  <tbody>\n    <tr>\n      <th>0</th>\n      <td>1</td>\n      <td>Old Oak Tap</td>\n      <td>BLT</td>\n      <td>https://www.chicagomag.com/Chicago-Magazine/No...</td>\n    </tr>\n    <tr>\n      <th>1</th>\n      <td>2</td>\n      <td>Au Cheval</td>\n      <td>Fried Bologna</td>\n      <td>https://www.chicagomag.com/Chicago-Magazine/No...</td>\n    </tr>\n    <tr>\n      <th>2</th>\n      <td>3</td>\n      <td>Xoco</td>\n      <td>Woodland Mushroom</td>\n      <td>https://www.chicagomag.com/Chicago-Magazine/No...</td>\n    </tr>\n    <tr>\n      <th>3</th>\n      <td>4</td>\n      <td>Al’s Deli</td>\n      <td>Roast Beef</td>\n      <td>https://www.chicagomag.com/Chicago-Magazine/No...</td>\n    </tr>\n    <tr>\n      <th>4</th>\n      <td>5</td>\n      <td>Publican Quality Meats</td>\n      <td>PB&amp;L</td>\n      <td>https://www.chicagomag.com/Chicago-Magazine/No...</td>\n    </tr>\n  </tbody>\n</table>\n</div>"
     },
     "metadata": {},
     "execution_count": 11
    }
   ],
   "source": [
    "import pandas as pd\n",
    "df = pd.DataFrame({\n",
    "    'Rank': rank_list,\n",
    "    'Cafe': cafe_list,\n",
    "    'Menu': menu_list,\n",
    "    'URL': url_list\n",
    "})\n",
    "df.head()"
   ]
  },
  {
   "cell_type": "code",
   "execution_count": 12,
   "metadata": {},
   "outputs": [],
   "source": [
    "df.to_csv('chicago.csv', sep=',', encoding='utf8') #파일로 저장"
   ]
  },
  {
   "source": [
    "### 03. 다수의 웹 페이지에 자동으로 접근해서 원하는 정보 가져오기"
   ],
   "cell_type": "markdown",
   "metadata": {}
  },
  {
   "cell_type": "code",
   "execution_count": 13,
   "metadata": {},
   "outputs": [],
   "source": [
    "html = urlopen(df['URL'][0])\n",
    "soup_tmp = BeautifulSoup(html, 'html.parser')"
   ]
  },
  {
   "cell_type": "code",
   "execution_count": 14,
   "metadata": {},
   "outputs": [
    {
     "output_type": "execute_result",
     "data": {
      "text/plain": [
       "<p class=\"addy\">\n",
       "<em>$10. 2109 W. Chicago Ave., 773-772-0406, <a href=\"http://www.theoldoaktap.com/\">theoldoaktap.com</a></em></p>"
      ]
     },
     "metadata": {},
     "execution_count": 14
    }
   ],
   "source": [
    "soup_tmp.select_one('.addy')"
   ]
  },
  {
   "cell_type": "code",
   "execution_count": 15,
   "metadata": {},
   "outputs": [
    {
     "output_type": "execute_result",
     "data": {
      "text/plain": [
       "'\\n$10. 2109 W. Chicago Ave., 773-772-0406, theoldoaktap.com'"
      ]
     },
     "metadata": {},
     "execution_count": 15
    }
   ],
   "source": [
    "soup_tmp.select_one('.addy').get_text()"
   ]
  },
  {
   "cell_type": "code",
   "execution_count": 16,
   "metadata": {},
   "outputs": [
    {
     "output_type": "execute_result",
     "data": {
      "text/plain": [
       "3"
      ]
     },
     "metadata": {},
     "execution_count": 16
    }
   ],
   "source": [
    "tmp = soup_tmp.select_one('.addy').get_text().split(',')\n",
    "len(tmp)"
   ]
  },
  {
   "cell_type": "code",
   "execution_count": 17,
   "metadata": {},
   "outputs": [
    {
     "output_type": "execute_result",
     "data": {
      "text/plain": [
       "'\\n$10. 2109 W. Chicago Ave.'"
      ]
     },
     "metadata": {},
     "execution_count": 17
    }
   ],
   "source": [
    "tmp[0]"
   ]
  },
  {
   "cell_type": "code",
   "execution_count": 18,
   "metadata": {},
   "outputs": [
    {
     "output_type": "execute_result",
     "data": {
      "text/plain": [
       "'$10'"
      ]
     },
     "metadata": {},
     "execution_count": 18
    }
   ],
   "source": [
    "price = tmp[0].split()[0][:-1]\n",
    "price\n",
    "#tmp = soup_tmp.select_one('.addy').get_text().split()\n",
    "#tmp[0], tmp[-2].replace(',', ''), tmp[-1]"
   ]
  },
  {
   "cell_type": "code",
   "execution_count": 19,
   "metadata": {},
   "outputs": [],
   "source": [
    "#' '.join(tmp[1:-2]).replace(',', '') # 주소"
   ]
  },
  {
   "cell_type": "code",
   "execution_count": 20,
   "metadata": {},
   "outputs": [
    {
     "output_type": "execute_result",
     "data": {
      "text/plain": [
       "'773-772-0406'"
      ]
     },
     "metadata": {},
     "execution_count": 20
    }
   ],
   "source": [
    "tmp[1].strip() "
   ]
  },
  {
   "cell_type": "code",
   "execution_count": 21,
   "metadata": {},
   "outputs": [
    {
     "output_type": "execute_result",
     "data": {
      "text/plain": [
       "'2109 W. Chicago Ave.'"
      ]
     },
     "metadata": {},
     "execution_count": 21
    }
   ],
   "source": [
    "addr = ' '.join(tmp[0].split()[1:])\n",
    "addr"
   ]
  },
  {
   "cell_type": "code",
   "execution_count": 22,
   "metadata": {},
   "outputs": [],
   "source": [
    "# price = tmp[0][:-1]\n",
    "# price"
   ]
  },
  {
   "cell_type": "code",
   "execution_count": 23,
   "metadata": {},
   "outputs": [],
   "source": [
    "from tqdm import tqdm_notebook"
   ]
  },
  {
   "cell_type": "code",
   "execution_count": 24,
   "metadata": {},
   "outputs": [
    {
     "output_type": "display_data",
     "data": {
      "text/plain": "HBox(children=(FloatProgress(value=0.0, max=50.0), HTML(value='')))",
      "application/vnd.jupyter.widget-view+json": {
       "version_major": 2,
       "version_minor": 0,
       "model_id": "b75bc54d8ae24821bf10c41902b489c4"
      }
     },
     "metadata": {}
    },
    {
     "output_type": "stream",
     "name": "stdout",
     "text": [
      "\n"
     ]
    }
   ],
   "source": [
    "rank_list = []; url_list = []; menu_list = []; cafe_list=[]\n",
    "price_list = []; addr_list =[]; tel_list=[]; hp_list =[]\n",
    "for rest in tqdm_notebook(rest_list):\n",
    "    rank = int(rest.select_one('.sammyRank').string)\n",
    "    url = urljoin(url_base, rest.find('a')['href'])\n",
    "    tmp = rest.find('a').get_text().split('\\n')\n",
    "    menu = tmp[0].replace('\\r', '')\n",
    "    cafe = tmp[1]\n",
    "\n",
    "    rank_list.append(rank) \n",
    "    url_list.append(url)\n",
    "    menu_list.append(menu)\n",
    "    cafe_list.append(cafe)\n",
    "\n",
    "    html = urlopen(url)\n",
    "    soup_tmp = BeautifulSoup(html, 'html.parser')\n",
    "    tmp = soup_tmp.select_one('.addy').get_text().split(',')\n",
    "    price = tmp[0].split()[0][:-1]\n",
    "    price_list.append(price)\n",
    "    addr = ' '.join(tmp[0].split()[1:])\n",
    "    if len(tmp) == 1:\n",
    "        addr_list.append(addr)\n",
    "        tel_list.append(' ')\n",
    "        hp_list.append(' ')\n",
    "    elif len(tmp) ==2: # 멀티풀관련 처리\n",
    "        if addr.find('Multiple') >= 0:\n",
    "            addr_list.append(' ')\n",
    "            tel_list.append(' ')\n",
    "            hp_list.append(tmp[1])\n",
    "        else:\n",
    "            addr_list.append(addr)\n",
    "            tel_list.append(tmp[1].strip())\n",
    "            hp_list.append(' ')\n",
    "    elif len(tmp) ==3:\n",
    "        addr_list.append(addr)\n",
    "        tel_list.append(tmp[1].strip())\n",
    "        hp_list.append(tmp[2])\n",
    "    elif len(tmp) == 4:\n",
    "        addr += ', ' + tmp[1]\n",
    "        addr_list.append(addr)\n",
    "        tel_list.append(tmp[2].strip())\n",
    "        hp_list.append(tmp[3])"
   ]
  },
  {
   "cell_type": "code",
   "execution_count": 25,
   "metadata": {},
   "outputs": [
    {
     "output_type": "execute_result",
     "data": {
      "text/plain": [
       "   Rank                    Cafe               Menu  Price  \\\n",
       "0     1             Old Oak Tap                BLT    $10   \n",
       "1     2               Au Cheval      Fried Bologna     $9   \n",
       "2     3                    Xoco  Woodland Mushroom  $9.50   \n",
       "3     4               Al’s Deli         Roast Beef  $9.40   \n",
       "4     5  Publican Quality Meats               PB&L    $10   \n",
       "\n",
       "                    Address     Telephone                       Home  \n",
       "0      2109 W. Chicago Ave.  773-772-0406           theoldoaktap.com  \n",
       "1       800 W. Randolph St.  312-929-4580        aucheval.tumblr.com  \n",
       "2          445 N. Clark St.  312-334-3688            rickbayless.com  \n",
       "3  914 Noyes St.,  Evanston  847-475-9400                alsdeli.net  \n",
       "4        825 W. Fulton Mkt.  312-445-8977   publicanqualitymeats.com  "
      ],
      "text/html": "<div>\n<style scoped>\n    .dataframe tbody tr th:only-of-type {\n        vertical-align: middle;\n    }\n\n    .dataframe tbody tr th {\n        vertical-align: top;\n    }\n\n    .dataframe thead th {\n        text-align: right;\n    }\n</style>\n<table border=\"1\" class=\"dataframe\">\n  <thead>\n    <tr style=\"text-align: right;\">\n      <th></th>\n      <th>Rank</th>\n      <th>Cafe</th>\n      <th>Menu</th>\n      <th>Price</th>\n      <th>Address</th>\n      <th>Telephone</th>\n      <th>Home</th>\n    </tr>\n  </thead>\n  <tbody>\n    <tr>\n      <th>0</th>\n      <td>1</td>\n      <td>Old Oak Tap</td>\n      <td>BLT</td>\n      <td>$10</td>\n      <td>2109 W. Chicago Ave.</td>\n      <td>773-772-0406</td>\n      <td>theoldoaktap.com</td>\n    </tr>\n    <tr>\n      <th>1</th>\n      <td>2</td>\n      <td>Au Cheval</td>\n      <td>Fried Bologna</td>\n      <td>$9</td>\n      <td>800 W. Randolph St.</td>\n      <td>312-929-4580</td>\n      <td>aucheval.tumblr.com</td>\n    </tr>\n    <tr>\n      <th>2</th>\n      <td>3</td>\n      <td>Xoco</td>\n      <td>Woodland Mushroom</td>\n      <td>$9.50</td>\n      <td>445 N. Clark St.</td>\n      <td>312-334-3688</td>\n      <td>rickbayless.com</td>\n    </tr>\n    <tr>\n      <th>3</th>\n      <td>4</td>\n      <td>Al’s Deli</td>\n      <td>Roast Beef</td>\n      <td>$9.40</td>\n      <td>914 Noyes St.,  Evanston</td>\n      <td>847-475-9400</td>\n      <td>alsdeli.net</td>\n    </tr>\n    <tr>\n      <th>4</th>\n      <td>5</td>\n      <td>Publican Quality Meats</td>\n      <td>PB&amp;L</td>\n      <td>$10</td>\n      <td>825 W. Fulton Mkt.</td>\n      <td>312-445-8977</td>\n      <td>publicanqualitymeats.com</td>\n    </tr>\n  </tbody>\n</table>\n</div>"
     },
     "metadata": {},
     "execution_count": 25
    }
   ],
   "source": [
    "df2 = pd.DataFrame({\n",
    "    'Rank': rank_list,\n",
    "    'Cafe': cafe_list,\n",
    "    'Menu': menu_list,\n",
    "    'Price': price_list,\n",
    "    'Address': addr_list,\n",
    "    'Telephone': tel_list,\n",
    "    'Home':hp_list\n",
    "})\n",
    "df2.head()"
   ]
  },
  {
   "cell_type": "code",
   "execution_count": 26,
   "metadata": {},
   "outputs": [],
   "source": [
    "df2.to_csv('chicago2_03.csv', sep=',', encoding='utf8')"
   ]
  },
  {
   "source": [
    "### 구글 맵을 이용한 지도에 맛집 위치 표기하기"
   ],
   "cell_type": "markdown",
   "metadata": {}
  },
  {
   "cell_type": "code",
   "execution_count": 28,
   "metadata": {},
   "outputs": [],
   "source": [
    "import numpy as np\n",
    "import folium\n",
    "import googlemaps"
   ]
  },
  {
   "cell_type": "code",
   "execution_count": 29,
   "metadata": {},
   "outputs": [],
   "source": [
    "key_fd = open('googlemapskey.txt', mode='r')\n",
    "gmaps_key = key_fd.read(100)\n",
    "key_fd.close()"
   ]
  },
  {
   "cell_type": "code",
   "execution_count": 30,
   "metadata": {},
   "outputs": [],
   "source": [
    "gmaps = googlemaps.Client(key=gmaps_key)"
   ]
  },
  {
   "cell_type": "code",
   "execution_count": 31,
   "metadata": {},
   "outputs": [
    {
     "output_type": "display_data",
     "data": {
      "text/plain": "HBox(children=(FloatProgress(value=0.0, max=50.0), HTML(value='')))",
      "application/vnd.jupyter.widget-view+json": {
       "version_major": 2,
       "version_minor": 0,
       "model_id": "a7399b771f454f3297f02bfba78be7c4"
      }
     },
     "metadata": {}
    },
    {
     "output_type": "stream",
     "name": "stdout",
     "text": [
      "\n"
     ]
    }
   ],
   "source": [
    "lat = []\n",
    "lng = []\n",
    "\n",
    "for n in tqdm_notebook(df2.index):\n",
    "    if df2['Address'][n].find(' ') != 0:\n",
    "        target_name = df2['Address'][n]+', '+'Chicago'\n",
    "        gmaps_output = gmaps.geocode(target_name)\n",
    "        locaton_output = gmaps_output[0].get('geometry')\n",
    "        lat.append(locaton_output['location']['lat'])\n",
    "        lng.append(locaton_output['location']['lng'])\n",
    "\n",
    "    else:\n",
    "        lat.append(np.nan)\n",
    "        lng.append(np.nan)"
   ]
  },
  {
   "cell_type": "code",
   "execution_count": 32,
   "metadata": {},
   "outputs": [
    {
     "output_type": "stream",
     "name": "stdout",
     "text": [
      "[41.8956049, 41.8846582, 41.8905226, 42.0583217, 41.8866036, 41.9002501, 41.8590541, 41.9102031, 41.9097558, 41.8345302, 41.9276207, nan, 41.9384419, 41.9451044, 41.930109, 41.89129000000001, 41.8678529, 41.8852691, 41.9080539, 41.91369539999999, 41.9537106, nan, 41.9794496, 41.9541563, nan, 42.156691, nan, 41.9652987, 41.90272179999999, 41.8893683, nan, 41.9105258, 41.8896188, 41.91504990000001, 41.9218521, 41.9797099, 41.9617122, 41.89296119999999, nan, 41.9047551, 41.7913185, 42.2518352, 41.9152875, 41.8863622, 41.8758102, 41.8960738, 41.89897850000001, 41.9105832, 41.8831061, 41.9431632]\n"
     ]
    }
   ],
   "source": [
    "print(lat)"
   ]
  },
  {
   "cell_type": "code",
   "execution_count": 33,
   "metadata": {},
   "outputs": [
    {
     "output_type": "execute_result",
     "data": {
      "text/plain": [
       "   Rank                    Cafe               Menu  Price  \\\n",
       "0     1             Old Oak Tap                BLT    $10   \n",
       "1     2               Au Cheval      Fried Bologna     $9   \n",
       "2     3                    Xoco  Woodland Mushroom  $9.50   \n",
       "3     4               Al’s Deli         Roast Beef  $9.40   \n",
       "4     5  Publican Quality Meats               PB&L    $10   \n",
       "\n",
       "                    Address     Telephone                       Home  \\\n",
       "0      2109 W. Chicago Ave.  773-772-0406           theoldoaktap.com   \n",
       "1       800 W. Randolph St.  312-929-4580        aucheval.tumblr.com   \n",
       "2          445 N. Clark St.  312-334-3688            rickbayless.com   \n",
       "3  914 Noyes St.,  Evanston  847-475-9400                alsdeli.net   \n",
       "4        825 W. Fulton Mkt.  312-445-8977   publicanqualitymeats.com   \n",
       "\n",
       "   Lattitude  Longitude  \n",
       "0  41.895605 -87.679961  \n",
       "1  41.884658 -87.647667  \n",
       "2  41.890523 -87.630783  \n",
       "3  42.058322 -87.683748  \n",
       "4  41.886604 -87.648536  "
      ],
      "text/html": "<div>\n<style scoped>\n    .dataframe tbody tr th:only-of-type {\n        vertical-align: middle;\n    }\n\n    .dataframe tbody tr th {\n        vertical-align: top;\n    }\n\n    .dataframe thead th {\n        text-align: right;\n    }\n</style>\n<table border=\"1\" class=\"dataframe\">\n  <thead>\n    <tr style=\"text-align: right;\">\n      <th></th>\n      <th>Rank</th>\n      <th>Cafe</th>\n      <th>Menu</th>\n      <th>Price</th>\n      <th>Address</th>\n      <th>Telephone</th>\n      <th>Home</th>\n      <th>Lattitude</th>\n      <th>Longitude</th>\n    </tr>\n  </thead>\n  <tbody>\n    <tr>\n      <th>0</th>\n      <td>1</td>\n      <td>Old Oak Tap</td>\n      <td>BLT</td>\n      <td>$10</td>\n      <td>2109 W. Chicago Ave.</td>\n      <td>773-772-0406</td>\n      <td>theoldoaktap.com</td>\n      <td>41.895605</td>\n      <td>-87.679961</td>\n    </tr>\n    <tr>\n      <th>1</th>\n      <td>2</td>\n      <td>Au Cheval</td>\n      <td>Fried Bologna</td>\n      <td>$9</td>\n      <td>800 W. Randolph St.</td>\n      <td>312-929-4580</td>\n      <td>aucheval.tumblr.com</td>\n      <td>41.884658</td>\n      <td>-87.647667</td>\n    </tr>\n    <tr>\n      <th>2</th>\n      <td>3</td>\n      <td>Xoco</td>\n      <td>Woodland Mushroom</td>\n      <td>$9.50</td>\n      <td>445 N. Clark St.</td>\n      <td>312-334-3688</td>\n      <td>rickbayless.com</td>\n      <td>41.890523</td>\n      <td>-87.630783</td>\n    </tr>\n    <tr>\n      <th>3</th>\n      <td>4</td>\n      <td>Al’s Deli</td>\n      <td>Roast Beef</td>\n      <td>$9.40</td>\n      <td>914 Noyes St.,  Evanston</td>\n      <td>847-475-9400</td>\n      <td>alsdeli.net</td>\n      <td>42.058322</td>\n      <td>-87.683748</td>\n    </tr>\n    <tr>\n      <th>4</th>\n      <td>5</td>\n      <td>Publican Quality Meats</td>\n      <td>PB&amp;L</td>\n      <td>$10</td>\n      <td>825 W. Fulton Mkt.</td>\n      <td>312-445-8977</td>\n      <td>publicanqualitymeats.com</td>\n      <td>41.886604</td>\n      <td>-87.648536</td>\n    </tr>\n  </tbody>\n</table>\n</div>"
     },
     "metadata": {},
     "execution_count": 33
    }
   ],
   "source": [
    "df2['Lattitude'] = lat\n",
    "df2['Longitude'] = lng\n",
    "df2.head()"
   ]
  },
  {
   "cell_type": "code",
   "execution_count": 34,
   "metadata": {},
   "outputs": [
    {
     "output_type": "execute_result",
     "data": {
      "text/plain": [
       "<folium.folium.Map at 0x1fe7ea57b80>"
      ],
      "text/html": "<div style=\"width:100%;\"><div style=\"position:relative;width:100%;height:0;padding-bottom:60%;\"><span style=\"color:#565656\">Make this Notebook Trusted to load map: File -> Trust Notebook</span><iframe src=\"about:blank\" style=\"position:absolute;width:100%;height:100%;left:0;top:0;border:none !important;\" data-html=PCFET0NUWVBFIGh0bWw+CjxoZWFkPiAgICAKICAgIDxtZXRhIGh0dHAtZXF1aXY9ImNvbnRlbnQtdHlwZSIgY29udGVudD0idGV4dC9odG1sOyBjaGFyc2V0PVVURi04IiAvPgogICAgCiAgICAgICAgPHNjcmlwdD4KICAgICAgICAgICAgTF9OT19UT1VDSCA9IGZhbHNlOwogICAgICAgICAgICBMX0RJU0FCTEVfM0QgPSBmYWxzZTsKICAgICAgICA8L3NjcmlwdD4KICAgIAogICAgPHNjcmlwdCBzcmM9Imh0dHBzOi8vY2RuLmpzZGVsaXZyLm5ldC9ucG0vbGVhZmxldEAxLjYuMC9kaXN0L2xlYWZsZXQuanMiPjwvc2NyaXB0PgogICAgPHNjcmlwdCBzcmM9Imh0dHBzOi8vY29kZS5qcXVlcnkuY29tL2pxdWVyeS0xLjEyLjQubWluLmpzIj48L3NjcmlwdD4KICAgIDxzY3JpcHQgc3JjPSJodHRwczovL21heGNkbi5ib290c3RyYXBjZG4uY29tL2Jvb3RzdHJhcC8zLjIuMC9qcy9ib290c3RyYXAubWluLmpzIj48L3NjcmlwdD4KICAgIDxzY3JpcHQgc3JjPSJodHRwczovL2NkbmpzLmNsb3VkZmxhcmUuY29tL2FqYXgvbGlicy9MZWFmbGV0LmF3ZXNvbWUtbWFya2Vycy8yLjAuMi9sZWFmbGV0LmF3ZXNvbWUtbWFya2Vycy5qcyI+PC9zY3JpcHQ+CiAgICA8bGluayByZWw9InN0eWxlc2hlZXQiIGhyZWY9Imh0dHBzOi8vY2RuLmpzZGVsaXZyLm5ldC9ucG0vbGVhZmxldEAxLjYuMC9kaXN0L2xlYWZsZXQuY3NzIi8+CiAgICA8bGluayByZWw9InN0eWxlc2hlZXQiIGhyZWY9Imh0dHBzOi8vbWF4Y2RuLmJvb3RzdHJhcGNkbi5jb20vYm9vdHN0cmFwLzMuMi4wL2Nzcy9ib290c3RyYXAubWluLmNzcyIvPgogICAgPGxpbmsgcmVsPSJzdHlsZXNoZWV0IiBocmVmPSJodHRwczovL21heGNkbi5ib290c3RyYXBjZG4uY29tL2Jvb3RzdHJhcC8zLjIuMC9jc3MvYm9vdHN0cmFwLXRoZW1lLm1pbi5jc3MiLz4KICAgIDxsaW5rIHJlbD0ic3R5bGVzaGVldCIgaHJlZj0iaHR0cHM6Ly9tYXhjZG4uYm9vdHN0cmFwY2RuLmNvbS9mb250LWF3ZXNvbWUvNC42LjMvY3NzL2ZvbnQtYXdlc29tZS5taW4uY3NzIi8+CiAgICA8bGluayByZWw9InN0eWxlc2hlZXQiIGhyZWY9Imh0dHBzOi8vY2RuanMuY2xvdWRmbGFyZS5jb20vYWpheC9saWJzL0xlYWZsZXQuYXdlc29tZS1tYXJrZXJzLzIuMC4yL2xlYWZsZXQuYXdlc29tZS1tYXJrZXJzLmNzcyIvPgogICAgPGxpbmsgcmVsPSJzdHlsZXNoZWV0IiBocmVmPSJodHRwczovL3Jhd2Nkbi5naXRoYWNrLmNvbS9weXRob24tdmlzdWFsaXphdGlvbi9mb2xpdW0vbWFzdGVyL2ZvbGl1bS90ZW1wbGF0ZXMvbGVhZmxldC5hd2Vzb21lLnJvdGF0ZS5jc3MiLz4KICAgIDxzdHlsZT5odG1sLCBib2R5IHt3aWR0aDogMTAwJTtoZWlnaHQ6IDEwMCU7bWFyZ2luOiAwO3BhZGRpbmc6IDA7fTwvc3R5bGU+CiAgICA8c3R5bGU+I21hcCB7cG9zaXRpb246YWJzb2x1dGU7dG9wOjA7Ym90dG9tOjA7cmlnaHQ6MDtsZWZ0OjA7fTwvc3R5bGU+CiAgICAKICAgICAgICAgICAgPG1ldGEgbmFtZT0idmlld3BvcnQiIGNvbnRlbnQ9IndpZHRoPWRldmljZS13aWR0aCwKICAgICAgICAgICAgICAgIGluaXRpYWwtc2NhbGU9MS4wLCBtYXhpbXVtLXNjYWxlPTEuMCwgdXNlci1zY2FsYWJsZT1ubyIgLz4KICAgICAgICAgICAgPHN0eWxlPgogICAgICAgICAgICAgICAgI21hcF81NTczY2ZmNmQ1Yzg0NjkxYWYxZjFkMDlhZjRhYTY3NCB7CiAgICAgICAgICAgICAgICAgICAgcG9zaXRpb246IHJlbGF0aXZlOwogICAgICAgICAgICAgICAgICAgIHdpZHRoOiAxMDAuMCU7CiAgICAgICAgICAgICAgICAgICAgaGVpZ2h0OiAxMDAuMCU7CiAgICAgICAgICAgICAgICAgICAgbGVmdDogMC4wJTsKICAgICAgICAgICAgICAgICAgICB0b3A6IDAuMCU7CiAgICAgICAgICAgICAgICB9CiAgICAgICAgICAgIDwvc3R5bGU+CiAgICAgICAgCjwvaGVhZD4KPGJvZHk+ICAgIAogICAgCiAgICAgICAgICAgIDxkaXYgY2xhc3M9ImZvbGl1bS1tYXAiIGlkPSJtYXBfNTU3M2NmZjZkNWM4NDY5MWFmMWYxZDA5YWY0YWE2NzQiID48L2Rpdj4KICAgICAgICAKPC9ib2R5Pgo8c2NyaXB0PiAgICAKICAgIAogICAgICAgICAgICB2YXIgbWFwXzU1NzNjZmY2ZDVjODQ2OTFhZjFmMWQwOWFmNGFhNjc0ID0gTC5tYXAoCiAgICAgICAgICAgICAgICAibWFwXzU1NzNjZmY2ZDVjODQ2OTFhZjFmMWQwOWFmNGFhNjc0IiwKICAgICAgICAgICAgICAgIHsKICAgICAgICAgICAgICAgICAgICBjZW50ZXI6IFs0MS45MjQyNTA5Mzg2MzYzNywgLTg3LjY4MDk4NDk2MzYzNjMzXSwKICAgICAgICAgICAgICAgICAgICBjcnM6IEwuQ1JTLkVQU0czODU3LAogICAgICAgICAgICAgICAgICAgIHpvb206IDExLAogICAgICAgICAgICAgICAgICAgIHpvb21Db250cm9sOiB0cnVlLAogICAgICAgICAgICAgICAgICAgIHByZWZlckNhbnZhczogZmFsc2UsCiAgICAgICAgICAgICAgICB9CiAgICAgICAgICAgICk7CgogICAgICAgICAgICAKCiAgICAgICAgCiAgICAKICAgICAgICAgICAgdmFyIHRpbGVfbGF5ZXJfZTk4MDMxMjAzZTEzNDc3Njg5YmU5NDA4OTdkN2FjZjkgPSBMLnRpbGVMYXllcigKICAgICAgICAgICAgICAgICJodHRwczovL3tzfS50aWxlLm9wZW5zdHJlZXRtYXAub3JnL3t6fS97eH0ve3l9LnBuZyIsCiAgICAgICAgICAgICAgICB7ImF0dHJpYnV0aW9uIjogIkRhdGEgYnkgXHUwMDI2Y29weTsgXHUwMDNjYSBocmVmPVwiaHR0cDovL29wZW5zdHJlZXRtYXAub3JnXCJcdTAwM2VPcGVuU3RyZWV0TWFwXHUwMDNjL2FcdTAwM2UsIHVuZGVyIFx1MDAzY2EgaHJlZj1cImh0dHA6Ly93d3cub3BlbnN0cmVldG1hcC5vcmcvY29weXJpZ2h0XCJcdTAwM2VPRGJMXHUwMDNjL2FcdTAwM2UuIiwgImRldGVjdFJldGluYSI6IGZhbHNlLCAibWF4TmF0aXZlWm9vbSI6IDE4LCAibWF4Wm9vbSI6IDE4LCAibWluWm9vbSI6IDAsICJub1dyYXAiOiBmYWxzZSwgIm9wYWNpdHkiOiAxLCAic3ViZG9tYWlucyI6ICJhYmMiLCAidG1zIjogZmFsc2V9CiAgICAgICAgICAgICkuYWRkVG8obWFwXzU1NzNjZmY2ZDVjODQ2OTFhZjFmMWQwOWFmNGFhNjc0KTsKICAgICAgICAKICAgIAogICAgICAgICAgICB2YXIgbWFya2VyXzBkOTA3MmZkM2E5MzQ4OThiNjBjNDk1NzJlMGFkOTBmID0gTC5tYXJrZXIoCiAgICAgICAgICAgICAgICBbNDEuOTI0MjUwOTM4NjM2MzcsIC04Ny42ODA5ODQ5NjM2MzYzM10sCiAgICAgICAgICAgICAgICB7fQogICAgICAgICAgICApLmFkZFRvKG1hcF81NTczY2ZmNmQ1Yzg0NjkxYWYxZjFkMDlhZjRhYTY3NCk7CiAgICAgICAgCiAgICAKICAgICAgICB2YXIgcG9wdXBfYzU0ZTVkZWFkNmFmNDQ0ZWExZjNjOWJmZTRjMDkyNTQgPSBMLnBvcHVwKHsibWF4V2lkdGgiOiAiMTAwJSJ9KTsKCiAgICAgICAgCiAgICAgICAgICAgIHZhciBodG1sXzhiNzU3MTkxNmEyOTQzOWI5OGI0NzI3ZjIxZDBiYjkwID0gJChgPGRpdiBpZD0iaHRtbF84Yjc1NzE5MTZhMjk0MzliOThiNDcyN2YyMWQwYmI5MCIgc3R5bGU9IndpZHRoOiAxMDAuMCU7IGhlaWdodDogMTAwLjAlOyI+Y2VudGVyPC9kaXY+YClbMF07CiAgICAgICAgICAgIHBvcHVwX2M1NGU1ZGVhZDZhZjQ0NGVhMWYzYzliZmU0YzA5MjU0LnNldENvbnRlbnQoaHRtbF84Yjc1NzE5MTZhMjk0MzliOThiNDcyN2YyMWQwYmI5MCk7CiAgICAgICAgCgogICAgICAgIG1hcmtlcl8wZDkwNzJmZDNhOTM0ODk4YjYwYzQ5NTcyZTBhZDkwZi5iaW5kUG9wdXAocG9wdXBfYzU0ZTVkZWFkNmFmNDQ0ZWExZjNjOWJmZTRjMDkyNTQpCiAgICAgICAgOwoKICAgICAgICAKICAgIAo8L3NjcmlwdD4= onload=\"this.contentDocument.open();this.contentDocument.write(atob(this.getAttribute('data-html')));this.contentDocument.close();\" allowfullscreen webkitallowfullscreen mozallowfullscreen></iframe></div></div>"
     },
     "metadata": {},
     "execution_count": 34
    }
   ],
   "source": [
    "mapping = folium.Map(location=[df2['Lattitude'].mean(),\n",
    "                            df2['Longitude'].mean()], zoom_start=11)\n",
    "folium.Marker([df2['Lattitude'].mean(), df2['Longitude'].mean()],\n",
    "                                        popup='center').add_to(mapping)\n",
    "mapping"
   ]
  },
  {
   "cell_type": "code",
   "execution_count": 35,
   "metadata": {},
   "outputs": [
    {
     "output_type": "execute_result",
     "data": {
      "text/plain": [
       "<folium.folium.Map at 0x1fe7f0632b0>"
      ],
      "text/html": "<div style=\"width:100%;\"><div style=\"position:relative;width:100%;height:0;padding-bottom:60%;\"><span style=\"color:#565656\">Make this Notebook Trusted to load map: File -> Trust Notebook</span><iframe src=\"about:blank\" style=\"position:absolute;width:100%;height:100%;left:0;top:0;border:none !important;\" data-html=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 onload=\"this.contentDocument.open();this.contentDocument.write(atob(this.getAttribute('data-html')));this.contentDocument.close();\" allowfullscreen webkitallowfullscreen mozallowfullscreen></iframe></div></div>"
     },
     "metadata": {},
     "execution_count": 35
    }
   ],
   "source": [
    "mapping = folium.Map(location=[df2['Lattitude'].mean(),\n",
    "                                df2['Longitude'].mean()], zoom_start=11)\n",
    "for n in df2.index:\n",
    "    if df2['Address'][n] != 'Multiple':\n",
    "        folium.Marker([df2['Lattitude'].mean(), df2['Longitude'].mean()],\n",
    "                                                popup='center').add_to(mapping)\n",
    "        \n",
    "mapping"
   ]
  },
  {
   "cell_type": "code",
   "execution_count": 36,
   "metadata": {},
   "outputs": [],
   "source": [
    "df2.to_csv('chicago3.cvs', sep=',', encoding='utf8')"
   ]
  },
  {
   "cell_type": "code",
   "execution_count": null,
   "metadata": {},
   "outputs": [],
   "source": []
  }
 ]
}