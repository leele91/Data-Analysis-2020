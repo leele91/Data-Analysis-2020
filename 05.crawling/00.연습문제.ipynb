{
 "metadata": {
  "language_info": {
   "codemirror_mode": {
    "name": "ipython",
    "version": 3
   },
   "file_extension": ".py",
   "mimetype": "text/x-python",
   "name": "python",
   "nbconvert_exporter": "python",
   "pygments_lexer": "ipython3",
   "version": "3.8.3-final"
  },
  "orig_nbformat": 2,
  "kernelspec": {
   "name": "python3",
   "display_name": "Python 3"
  }
 },
 "nbformat": 4,
 "nbformat_minor": 2,
 "cells": [
  {
   "cell_type": "code",
   "execution_count": 1,
   "metadata": {},
   "outputs": [],
   "source": [
    "from bs4 import BeautifulSoup\n",
    "import urllib.request\n",
    "import urllib.parse\n",
    "import pandas as pd"
   ]
  },
  {
   "cell_type": "code",
   "execution_count": 2,
   "metadata": {},
   "outputs": [],
   "source": [
    "import requests\n",
    "url = 'https://www.hanbit.co.kr/academy/books/new_book_list.html'\n",
    "header = {'User-Agent': 'Mozilla/5.0 (Windows NT 6.3; Trident/7.0; rv:11.0) like Gecko'}\n",
    "req = requests.get(url, headers = header)\n",
    "html= req.text"
   ]
  },
  {
   "cell_type": "code",
   "execution_count": 3,
   "metadata": {},
   "outputs": [],
   "source": [
    "soup = BeautifulSoup(html, 'html.parser')"
   ]
  },
  {
   "cell_type": "code",
   "execution_count": 16,
   "metadata": {
    "tags": []
   },
   "outputs": [
    {
     "output_type": "execute_result",
     "data": {
      "text/plain": [
       "<li class=\"sub_book_list\">\n",
       "<div class=\"view_box\">\n",
       "<span class=\"view_box_block\">\n",
       "<span class=\"img_hidden_a\">\n",
       "<span class=\"pop_quick_menu\">\n",
       "<a href=\"/academy/books/book_view.html?p_code=B4797877052\"><img alt=\"상세보기\" src=\"https://www.hanbit.co.kr/images/common/icon_view_detail.png\"/></a>\n",
       "<a href=\"javascript:;\" onclick=\"addCart('B4797877052','','1','');\">\n",
       "<img alt=\"장바구니 담기\" src=\"https://www.hanbit.co.kr/images/common/icon_add_cart.png\"/>\n",
       "</a>\n",
       "</span>\n",
       "<span class=\"price\">32,000<span>원</span></span>\n",
       "<span class=\"pop_quick_bg\" onclick=\"location='/academy/books/book_view.html?p_code=B4797877052'\"></span>\n",
       "</span>\n",
       "<!-- 예약도서인 경우 -->\n",
       "<!-- ebook이 도서인 경우 -->\n",
       "<img alt=\"\" class=\"thumb\" src=\"/data/books/B4797877052_m.jpg\"/>\n",
       "</span>\n",
       "<div class=\"info\">\n",
       "<p class=\"book_tit\"><a href=\"/academy/books/book_view.html?p_code=B4797877052\">포르잔 C++ 에센셜</a></p>\n",
       "<p class=\"book_writer\">Behrouz A. Forouzan , Richard F. Gilberg </p>\n",
       "</div>\n",
       "</div>\n",
       "</li>"
      ]
     },
     "metadata": {},
     "execution_count": 16
    }
   ],
   "source": [
    "book_li = soup.select('.sub_book_list')\n",
    "book_li[0]"
   ]
  },
  {
   "cell_type": "code",
   "execution_count": 23,
   "metadata": {},
   "outputs": [
    {
     "output_type": "execute_result",
     "data": {
      "text/plain": [
       "('Behrouz A. Forouzan , Richard F. Gilberg ', '포르잔 C++ 에센셜')"
      ]
     },
     "metadata": {},
     "execution_count": 23
    }
   ],
   "source": [
    "info = book_li[0].select_one('.info')\n",
    "infolist= info.find_all('p')\n",
    "title = infolist[0].string\n",
    "writer= infolist[1].string\n",
    "writer,title"
   ]
  },
  {
   "cell_type": "code",
   "execution_count": null,
   "metadata": {},
   "outputs": [],
   "source": []
  }
 ]
}