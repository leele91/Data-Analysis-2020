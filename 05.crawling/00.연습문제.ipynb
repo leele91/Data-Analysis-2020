{
 "metadata": {
  "language_info": {
   "codemirror_mode": {
    "name": "ipython",
    "version": 3
   },
   "file_extension": ".py",
   "mimetype": "text/x-python",
   "name": "python",
   "nbconvert_exporter": "python",
   "pygments_lexer": "ipython3",
   "version": "3.8.3-final"
  },
  "orig_nbformat": 2,
  "kernelspec": {
   "name": "python3",
   "display_name": "Python 3"
  }
 },
 "nbformat": 4,
 "nbformat_minor": 2,
 "cells": [
  {
   "cell_type": "code",
   "execution_count": 44,
   "metadata": {},
   "outputs": [],
   "source": [
    "from bs4 import BeautifulSoup\n",
    "import urllib.request\n",
    "import urllib.parse\n",
    "import pandas as pd"
   ]
  },
  {
   "cell_type": "code",
   "execution_count": 2,
   "metadata": {},
   "outputs": [],
   "source": [
    "import requests\n",
    "url = 'https://www.hanbit.co.kr/academy/books/new_book_list.html'\n",
    "header = {'User-Agent': 'Mozilla/5.0 (Windows NT 6.3; Trident/7.0; rv:11.0) like Gecko'}\n",
    "req = requests.get(url, headers = header)\n",
    "html= req.text"
   ]
  },
  {
   "cell_type": "code",
   "execution_count": 3,
   "metadata": {},
   "outputs": [],
   "source": [
    "soup = BeautifulSoup(html, 'html.parser')"
   ]
  },
  {
   "cell_type": "code",
   "execution_count": 4,
   "metadata": {
    "tags": []
   },
   "outputs": [
    {
     "output_type": "execute_result",
     "data": {
      "text/plain": [
       "<li class=\"sub_book_list\">\n",
       "<div class=\"view_box\">\n",
       "<span class=\"view_box_block\">\n",
       "<span class=\"img_hidden_a\">\n",
       "<span class=\"pop_quick_menu\">\n",
       "<a href=\"/academy/books/book_view.html?p_code=B4797877052\"><img alt=\"상세보기\" src=\"https://www.hanbit.co.kr/images/common/icon_view_detail.png\"/></a>\n",
       "<a href=\"javascript:;\" onclick=\"addCart('B4797877052','','1','');\">\n",
       "<img alt=\"장바구니 담기\" src=\"https://www.hanbit.co.kr/images/common/icon_add_cart.png\"/>\n",
       "</a>\n",
       "</span>\n",
       "<span class=\"price\">32,000<span>원</span></span>\n",
       "<span class=\"pop_quick_bg\" onclick=\"location='/academy/books/book_view.html?p_code=B4797877052'\"></span>\n",
       "</span>\n",
       "<!-- 예약도서인 경우 -->\n",
       "<!-- ebook이 도서인 경우 -->\n",
       "<img alt=\"\" class=\"thumb\" src=\"/data/books/B4797877052_m.jpg\"/>\n",
       "</span>\n",
       "<div class=\"info\">\n",
       "<p class=\"book_tit\"><a href=\"/academy/books/book_view.html?p_code=B4797877052\">포르잔 C++ 에센셜</a></p>\n",
       "<p class=\"book_writer\">Behrouz A. Forouzan , Richard F. Gilberg </p>\n",
       "</div>\n",
       "</div>\n",
       "</li>"
      ]
     },
     "metadata": {},
     "execution_count": 4
    }
   ],
   "source": [
    "book_li = soup.select('.sub_book_list')\n",
    "book_li[0]"
   ]
  },
  {
   "cell_type": "code",
   "execution_count": 40,
   "metadata": {},
   "outputs": [
    {
     "output_type": "execute_result",
     "data": {
      "text/plain": [
       "('포르잔 C++ 에센셜', 'Behrouz A. Forouzan , Richard F. Gilberg ')"
      ]
     },
     "metadata": {},
     "execution_count": 40
    }
   ],
   "source": [
    "info = book_li[0].select_one('.info')\n",
    "infolist= info.find_all('p')\n",
    "title = infolist[0].string\n",
    "writer= infolist[1].string\n",
    "title,writer"
   ]
  },
  {
   "cell_type": "code",
   "execution_count": 6,
   "metadata": {},
   "outputs": [
    {
     "output_type": "execute_result",
     "data": {
      "text/plain": [
       "'32,000원'"
      ]
     },
     "metadata": {},
     "execution_count": 6
    }
   ],
   "source": [
    "info = book_li[0].select_one('.price')\n",
    "price = info.get_text()\n",
    "price"
   ]
  },
  {
   "cell_type": "code",
   "execution_count": 7,
   "metadata": {},
   "outputs": [],
   "source": [
    "book_li = soup.select('.sub_book_list')\n",
    "titles = []; writers = []\n",
    "price = []"
   ]
  },
  {
   "cell_type": "code",
   "execution_count": 46,
   "metadata": {},
   "outputs": [
    {
     "output_type": "stream",
     "name": "stdout",
     "text": [
      "포르잔 C++ 에센셜 Behrouz A. Forouzan , Richard F. Gilberg  32,000원\nIT CookBook, 액세스 2019로 배우는 데이터베이스 기초와 실습 김지연  28,000원\n포르잔 C++ 바이블 Behrouz A. Forouzan , Richard F. Gilberg  45,000원\n딥러닝을 위한 선형대수학 Gilbert Strang  38,000원\nIT CookBook, 오라클로 배우는 데이터베이스 개론과 실습(2판) 박우창 , 남송휘 , 이현룡  29,000원\n대학을 버려야 대학이 산다 조동성 외 인천대학교 가족 178명  18,000원\nIT CookBook, 따라 하면서 배우는 사물인터넷 양재삼  28,000원\nR로 하는 다변량 데이터 분석 : 이론부터 실무 활용까지 카와하시 잇코 , 이와마 노리카즈 , 스즈키 마사유키  32,000원\n창의적 공학설계(3판) 김은경  23,000원\n공학 핵심수학(2판)  : 기초부터 심화까지 핵심만 쏙쏙 함남우  23,000원\n응용이 보이는 선형대수학 : 파이썬과 함께하는 선형대수학 이론과 응용 이건명  31,000원\nIT CookBook, 초연결 사회의 데이터통신과 네트워킹 강문식  29,000원\nIT CookBook, 쉽게 배우는 MFC 윈도우 프로그래밍 김선우 , 신화선  30,000원\nIT CookBook, 인공지능 시대를 위한 컴퓨터 과학 개론 정기철  27,000원\nIT CookBook, 코틀린을 활용한 안드로이드 프로그래밍 우재남 , 유혜림  34,000원\nIT CookBook, 처음 만나는 신재생에너지 김지홍  25,000원\n프리드버그 선형대수학 스티븐 H. 프리드버그 , 아놀드 J. 인셀 , 로렌스 E. 스펜스  35,000원\nIT CookBook, CentOS 리눅스 이종원  32,000원\nMicroeconomics, 6th Edition, Asia Edition David Besanko , Ronald Braeutigam  49,000원\n누구나 파이썬 통계분석 타니아이 히로키  26,000원\n"
     ]
    }
   ],
   "source": [
    "for bli in book_li:\n",
    "    info = bli.select_one('.info')\n",
    "\n",
    "    infolist= info.find_all('p')\n",
    "    title = infolist[0].string\n",
    "    writer= infolist[1].string\n",
    "\n",
    "    info = bli.select_one('.price')\n",
    "    price = info.get_text()\n",
    "    print(title,writer,price)\n",
    "    \n",
    "    \n",
    "    titles.append(title)\n",
    "    writers.append(writer)"
   ]
  },
  {
   "cell_type": "code",
   "execution_count": null,
   "metadata": {},
   "outputs": [],
   "source": [
    "new_book = pd.DataFrame({\n",
    "    'title': titles,\n",
    "    'writer': writers\n",
    "})"
   ]
  },
  {
   "cell_type": "code",
   "execution_count": null,
   "metadata": {},
   "outputs": [],
   "source": [
    "import pandas as pd\n",
    "bbs = pd.DataFrame({\n",
    "    'bid': bids, \n",
    "    'title': titles,\n",
    "    'name': names,\n",
    "    'time': times,\n",
    "    'view_count': view_counts,\n",
    "    'reply_count': reply_counts\n",
    "    })\n",
    "bbs = bbs.set_index('bid')\n",
    "bbs"
   ]
  },
  {
   "cell_type": "code",
   "execution_count": 47,
   "metadata": {},
   "outputs": [],
   "source": [
    "from tqdm import tqdm_notebook\n",
    "import time"
   ]
  },
  {
   "cell_type": "code",
   "execution_count": 48,
   "metadata": {},
   "outputs": [],
   "source": [
    "for i in range(10):\n",
    "    time.sleep(1)"
   ]
  },
  {
   "cell_type": "code",
   "execution_count": 49,
   "metadata": {},
   "outputs": [
    {
     "output_type": "display_data",
     "data": {
      "text/plain": "HBox(children=(FloatProgress(value=0.0, max=10.0), HTML(value='')))",
      "application/vnd.jupyter.widget-view+json": {
       "version_major": 2,
       "version_minor": 0,
       "model_id": "f5e4a6b1f93745fabcbf8f781d1451a1"
      }
     },
     "metadata": {}
    },
    {
     "output_type": "stream",
     "name": "stdout",
     "text": [
      "\n"
     ]
    }
   ],
   "source": [
    "for i in tqdm_notebook(range(10)): # 돌아가는 것을 눈으로 보여줌\n",
    "    time.sleep(1)"
   ]
  },
  {
   "cell_type": "code",
   "execution_count": null,
   "metadata": {},
   "outputs": [],
   "source": []
  }
 ]
}