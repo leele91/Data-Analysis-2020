{
 "metadata": {
  "language_info": {
   "codemirror_mode": {
    "name": "ipython",
    "version": 3
   },
   "file_extension": ".py",
   "mimetype": "text/x-python",
   "name": "python",
   "nbconvert_exporter": "python",
   "pygments_lexer": "ipython3",
   "version": "3.8.3-final"
  },
  "orig_nbformat": 2,
  "kernelspec": {
   "name": "Python 3.8.3 64-bit ('base': conda)",
   "display_name": "Python 3.8.3 64-bit ('base': conda)",
   "metadata": {
    "interpreter": {
     "hash": "c2224539028b414c7f0940cdc86eeb3c7deaf138deef25179eca5056c4d821b9"
    }
   }
  }
 },
 "nbformat": 4,
 "nbformat_minor": 2,
 "cells": [
  {
   "cell_type": "code",
   "execution_count": 1,
   "metadata": {},
   "outputs": [],
   "source": [
    "import requests\n",
    "from urllib.parse import urlparse, quote\n",
    "import pandas as pd"
   ]
  },
  {
   "cell_type": "code",
   "execution_count": 2,
   "metadata": {},
   "outputs": [],
   "source": [
    "import time\n",
    "from selenium import webdriver\n",
    "from selenium.webdriver.common.keys import Keys"
   ]
  },
  {
   "cell_type": "code",
   "execution_count": 3,
   "metadata": {},
   "outputs": [],
   "source": [
    "driver = webdriver.Chrome('./chromedriver')\n",
    "driver.get('http://www.opinet.co.kr/searRgSelect.do')\n",
    "time.sleep(1)\n",
    "\n",
    "driver.find_element_by_css_selector('.ic_m1').click()\n",
    "time.sleep(2)\n",
    "\n",
    "region = driver.find_element_by_xpath('//*[@id=\"SIGUNGU_NM0\"]')\n",
    "gu_list = region.find_elements_by_tag_name('option')\n",
    "\n",
    "gu_names = [gu.get_attribute('value') for gu in gu_list]\n",
    "del gu_names[0]"
   ]
  },
  {
   "cell_type": "code",
   "execution_count": 4,
   "metadata": {},
   "outputs": [],
   "source": [
    "for gu in gu_names:\n",
    "    region = driver.find_element_by_id('SIGUNGU_NM0')\n",
    "    region.send_keys(gu)\n",
    "    time.sleep(1)\n",
    "\n",
    "    driver.find_element_by_xpath('//*[@id=\"glopopd_excel\"]/span').click()\n",
    "    time.sleep(2)"
   ]
  },
  {
   "cell_type": "code",
   "execution_count": 3,
   "metadata": {},
   "outputs": [],
   "source": [
    "import pandas as pd\n",
    "from glob import glob"
   ]
  },
  {
   "cell_type": "code",
   "execution_count": 4,
   "metadata": {},
   "outputs": [
    {
     "output_type": "execute_result",
     "data": {
      "text/plain": [
       "['./station_data02\\\\지역_위치별(주유소) (1).xls',\n",
       " './station_data02\\\\지역_위치별(주유소) (10).xls',\n",
       " './station_data02\\\\지역_위치별(주유소) (11).xls',\n",
       " './station_data02\\\\지역_위치별(주유소) (12).xls',\n",
       " './station_data02\\\\지역_위치별(주유소) (13).xls',\n",
       " './station_data02\\\\지역_위치별(주유소) (14).xls',\n",
       " './station_data02\\\\지역_위치별(주유소) (15).xls',\n",
       " './station_data02\\\\지역_위치별(주유소) (16).xls',\n",
       " './station_data02\\\\지역_위치별(주유소) (17).xls',\n",
       " './station_data02\\\\지역_위치별(주유소) (18).xls',\n",
       " './station_data02\\\\지역_위치별(주유소) (19).xls',\n",
       " './station_data02\\\\지역_위치별(주유소) (2).xls',\n",
       " './station_data02\\\\지역_위치별(주유소) (20).xls',\n",
       " './station_data02\\\\지역_위치별(주유소) (21).xls',\n",
       " './station_data02\\\\지역_위치별(주유소) (22).xls',\n",
       " './station_data02\\\\지역_위치별(주유소) (23).xls',\n",
       " './station_data02\\\\지역_위치별(주유소) (24).xls',\n",
       " './station_data02\\\\지역_위치별(주유소) (3).xls',\n",
       " './station_data02\\\\지역_위치별(주유소) (4).xls',\n",
       " './station_data02\\\\지역_위치별(주유소) (5).xls',\n",
       " './station_data02\\\\지역_위치별(주유소) (6).xls',\n",
       " './station_data02\\\\지역_위치별(주유소) (7).xls',\n",
       " './station_data02\\\\지역_위치별(주유소) (8).xls',\n",
       " './station_data02\\\\지역_위치별(주유소) (9).xls',\n",
       " './station_data02\\\\지역_위치별(주유소).xls']"
      ]
     },
     "metadata": {},
     "execution_count": 4
    }
   ],
   "source": [
    "glob('./station_data02/지역*.xls')"
   ]
  },
  {
   "cell_type": "code",
   "execution_count": 5,
   "metadata": {},
   "outputs": [],
   "source": [
    "station_files = glob('./station_data02/지역*.xls')\n",
    "tmp_raw = []\n",
    "\n",
    "for file_name in station_files:\n",
    "    tmp = pd.read_excel(file_name, header=2)\n",
    "    tmp_raw.append(tmp)\n",
    "\n",
    "station_raw = pd.concat(tmp_raw)"
   ]
  },
  {
   "cell_type": "code",
   "execution_count": 6,
   "metadata": {},
   "outputs": [
    {
     "output_type": "stream",
     "name": "stdout",
     "text": [
      "<class 'pandas.core.frame.DataFrame'>\nInt64Index: 498 entries, 0 to 39\nData columns (total 10 columns):\n #   Column  Non-Null Count  Dtype \n---  ------  --------------  ----- \n 0   지역      498 non-null    object\n 1   상호      498 non-null    object\n 2   주소      498 non-null    object\n 3   상표      498 non-null    object\n 4   전화번호    498 non-null    object\n 5   셀프여부    498 non-null    object\n 6   고급휘발유   498 non-null    object\n 7   휘발유     498 non-null    object\n 8   경유      498 non-null    object\n 9   실내등유    498 non-null    object\ndtypes: object(10)\nmemory usage: 42.8+ KB\n"
     ]
    }
   ],
   "source": [
    "station_raw.info()"
   ]
  },
  {
   "cell_type": "code",
   "execution_count": 7,
   "metadata": {},
   "outputs": [
    {
     "output_type": "execute_result",
     "data": {
      "text/plain": [
       "       지역                    상호                         주소      상표  \\\n",
       "0   서울특별시                구천면주유소      서울 강동구 구천면로 357 (암사동)  현대오일뱅크   \n",
       "1   서울특별시         지에스칼텍스㈜ 신월주유소     서울 강동구 양재대로 1323 (성내동)   GS칼텍스   \n",
       "2   서울특별시     현대오일뱅크㈜직영 고속셀프주유소           서울 강동구 천호대로 1246  현대오일뱅크   \n",
       "3   서울특별시     현대오일뱅크㈜직영 명일셀프주유소       서울 강동구 고덕로 168 (명일동)  현대오일뱅크   \n",
       "4   서울특별시               방아다리주유소       서울 강동구 동남로 811 (명일동)   SK에너지   \n",
       "5   서울특별시       대성석유(주)직영 길동주유소           서울 강동구 천호대로 1168   GS칼텍스   \n",
       "6   서울특별시        지에스칼텍스㈜ 동서울주유소     서울 강동구 천호대로 1456 (상일동)   GS칼텍스   \n",
       "7   서울특별시     현대오일뱅크㈜직영 암사셀프주유소      서울 강동구 올림픽로 749 (암사동)  현대오일뱅크   \n",
       "8   서울특별시  (주)소모에너지엔테크놀러지 성내주유소      서울 강동구 올림픽로 578 (성내동)   GS칼텍스   \n",
       "9   서울특별시       (주)퍼스트오일 코알라주유소  서울특별시 강동구  올림픽로 556 (성내동)   S-OIL   \n",
       "10  서울특별시              sk해뜨는주유소      서울 강동구  상일로 132 (강일동)   SK에너지   \n",
       "\n",
       "            전화번호 셀프여부 고급휘발유   휘발유    경유  실내등유  \n",
       "0    02-441-0536    N     -  1374  1187     -  \n",
       "1    02-475-2600    N  1585  1385  1188  1000  \n",
       "2    02-487-2030    Y  1598  1386  1188   895  \n",
       "3   02-3428-1739    Y  1625  1395  1198     -  \n",
       "4    02-442-5145    Y     -  1395  1195   975  \n",
       "5    02-474-7222    N  1598  1398  1198  1000  \n",
       "6    02-426-5372    Y     -  1398  1205     -  \n",
       "7   02-3427-2043    Y  1598  1398  1198     -  \n",
       "8    02-479-3838    Y     -  1398  1198     -  \n",
       "9    02-484-1162    Y     -  1398  1198     -  \n",
       "10   02-442-7801    Y     -  1415  1238  1000  "
      ],
      "text/html": "<div>\n<style scoped>\n    .dataframe tbody tr th:only-of-type {\n        vertical-align: middle;\n    }\n\n    .dataframe tbody tr th {\n        vertical-align: top;\n    }\n\n    .dataframe thead th {\n        text-align: right;\n    }\n</style>\n<table border=\"1\" class=\"dataframe\">\n  <thead>\n    <tr style=\"text-align: right;\">\n      <th></th>\n      <th>지역</th>\n      <th>상호</th>\n      <th>주소</th>\n      <th>상표</th>\n      <th>전화번호</th>\n      <th>셀프여부</th>\n      <th>고급휘발유</th>\n      <th>휘발유</th>\n      <th>경유</th>\n      <th>실내등유</th>\n    </tr>\n  </thead>\n  <tbody>\n    <tr>\n      <th>0</th>\n      <td>서울특별시</td>\n      <td>구천면주유소</td>\n      <td>서울 강동구 구천면로 357 (암사동)</td>\n      <td>현대오일뱅크</td>\n      <td>02-441-0536</td>\n      <td>N</td>\n      <td>-</td>\n      <td>1374</td>\n      <td>1187</td>\n      <td>-</td>\n    </tr>\n    <tr>\n      <th>1</th>\n      <td>서울특별시</td>\n      <td>지에스칼텍스㈜ 신월주유소</td>\n      <td>서울 강동구 양재대로 1323 (성내동)</td>\n      <td>GS칼텍스</td>\n      <td>02-475-2600</td>\n      <td>N</td>\n      <td>1585</td>\n      <td>1385</td>\n      <td>1188</td>\n      <td>1000</td>\n    </tr>\n    <tr>\n      <th>2</th>\n      <td>서울특별시</td>\n      <td>현대오일뱅크㈜직영 고속셀프주유소</td>\n      <td>서울 강동구 천호대로 1246</td>\n      <td>현대오일뱅크</td>\n      <td>02-487-2030</td>\n      <td>Y</td>\n      <td>1598</td>\n      <td>1386</td>\n      <td>1188</td>\n      <td>895</td>\n    </tr>\n    <tr>\n      <th>3</th>\n      <td>서울특별시</td>\n      <td>현대오일뱅크㈜직영 명일셀프주유소</td>\n      <td>서울 강동구 고덕로 168 (명일동)</td>\n      <td>현대오일뱅크</td>\n      <td>02-3428-1739</td>\n      <td>Y</td>\n      <td>1625</td>\n      <td>1395</td>\n      <td>1198</td>\n      <td>-</td>\n    </tr>\n    <tr>\n      <th>4</th>\n      <td>서울특별시</td>\n      <td>방아다리주유소</td>\n      <td>서울 강동구 동남로 811 (명일동)</td>\n      <td>SK에너지</td>\n      <td>02-442-5145</td>\n      <td>Y</td>\n      <td>-</td>\n      <td>1395</td>\n      <td>1195</td>\n      <td>975</td>\n    </tr>\n    <tr>\n      <th>5</th>\n      <td>서울특별시</td>\n      <td>대성석유(주)직영 길동주유소</td>\n      <td>서울 강동구 천호대로 1168</td>\n      <td>GS칼텍스</td>\n      <td>02-474-7222</td>\n      <td>N</td>\n      <td>1598</td>\n      <td>1398</td>\n      <td>1198</td>\n      <td>1000</td>\n    </tr>\n    <tr>\n      <th>6</th>\n      <td>서울특별시</td>\n      <td>지에스칼텍스㈜ 동서울주유소</td>\n      <td>서울 강동구 천호대로 1456 (상일동)</td>\n      <td>GS칼텍스</td>\n      <td>02-426-5372</td>\n      <td>Y</td>\n      <td>-</td>\n      <td>1398</td>\n      <td>1205</td>\n      <td>-</td>\n    </tr>\n    <tr>\n      <th>7</th>\n      <td>서울특별시</td>\n      <td>현대오일뱅크㈜직영 암사셀프주유소</td>\n      <td>서울 강동구 올림픽로 749 (암사동)</td>\n      <td>현대오일뱅크</td>\n      <td>02-3427-2043</td>\n      <td>Y</td>\n      <td>1598</td>\n      <td>1398</td>\n      <td>1198</td>\n      <td>-</td>\n    </tr>\n    <tr>\n      <th>8</th>\n      <td>서울특별시</td>\n      <td>(주)소모에너지엔테크놀러지 성내주유소</td>\n      <td>서울 강동구 올림픽로 578 (성내동)</td>\n      <td>GS칼텍스</td>\n      <td>02-479-3838</td>\n      <td>Y</td>\n      <td>-</td>\n      <td>1398</td>\n      <td>1198</td>\n      <td>-</td>\n    </tr>\n    <tr>\n      <th>9</th>\n      <td>서울특별시</td>\n      <td>(주)퍼스트오일 코알라주유소</td>\n      <td>서울특별시 강동구  올림픽로 556 (성내동)</td>\n      <td>S-OIL</td>\n      <td>02-484-1162</td>\n      <td>Y</td>\n      <td>-</td>\n      <td>1398</td>\n      <td>1198</td>\n      <td>-</td>\n    </tr>\n    <tr>\n      <th>10</th>\n      <td>서울특별시</td>\n      <td>sk해뜨는주유소</td>\n      <td>서울 강동구  상일로 132 (강일동)</td>\n      <td>SK에너지</td>\n      <td>02-442-7801</td>\n      <td>Y</td>\n      <td>-</td>\n      <td>1415</td>\n      <td>1238</td>\n      <td>1000</td>\n    </tr>\n  </tbody>\n</table>\n</div>"
     },
     "metadata": {},
     "execution_count": 7
    }
   ],
   "source": [
    "stations = station_raw[['지역','상호','주소','상표','전화번호','셀프여부','고급휘발유','휘발유','경유','실내등유']]\n",
    "stations.head(11)"
   ]
  },
  {
   "cell_type": "code",
   "execution_count": 8,
   "metadata": {},
   "outputs": [
    {
     "output_type": "execute_result",
     "data": {
      "text/plain": [
       "      지역             상호                      주소      상표          전화번호 셀프여부  \\\n",
       "0  서울특별시          현대주유소  서울 양천구 남부순환로 372 (신월동)   S-OIL  02-2608-9231    Y   \n",
       "1  서울특별시    형산석유(주)원주유소        서울 양천구 남부순환로 408  현대오일뱅크  02-2690-5837    N   \n",
       "2  서울특별시     개나리Self주유소  서울 양천구 남부순환로 442 (신월동)   SK에너지  02-2606-5189    Y   \n",
       "3  서울특별시        가로공원주유소  서울 양천구 가로공원로 165 (신월동)   SK에너지  02-2695-3423    N   \n",
       "4  서울특별시         양천구주유소    서울 양천구 국회대로 275 (목동)   알뜰주유소  02-2644-5105    Y   \n",
       "5  서울특별시  지에스칼텍스㈜ 서호주유소        서울 양천구 남부순환로 317   GS칼텍스  02-2602-5172    Y   \n",
       "\n",
       "  고급휘발유   휘발유    경유  실내등유  \n",
       "0     -  1249  1048     -  \n",
       "1     -  1249  1048  1005  \n",
       "2     -  1249  1048     -  \n",
       "3     -  1249  1048     -  \n",
       "4     -  1259  1062     -  \n",
       "5  1419  1269  1069  1015  "
      ],
      "text/html": "<div>\n<style scoped>\n    .dataframe tbody tr th:only-of-type {\n        vertical-align: middle;\n    }\n\n    .dataframe tbody tr th {\n        vertical-align: top;\n    }\n\n    .dataframe thead th {\n        text-align: right;\n    }\n</style>\n<table border=\"1\" class=\"dataframe\">\n  <thead>\n    <tr style=\"text-align: right;\">\n      <th></th>\n      <th>지역</th>\n      <th>상호</th>\n      <th>주소</th>\n      <th>상표</th>\n      <th>전화번호</th>\n      <th>셀프여부</th>\n      <th>고급휘발유</th>\n      <th>휘발유</th>\n      <th>경유</th>\n      <th>실내등유</th>\n    </tr>\n  </thead>\n  <tbody>\n    <tr>\n      <th>0</th>\n      <td>서울특별시</td>\n      <td>현대주유소</td>\n      <td>서울 양천구 남부순환로 372 (신월동)</td>\n      <td>S-OIL</td>\n      <td>02-2608-9231</td>\n      <td>Y</td>\n      <td>-</td>\n      <td>1249</td>\n      <td>1048</td>\n      <td>-</td>\n    </tr>\n    <tr>\n      <th>1</th>\n      <td>서울특별시</td>\n      <td>형산석유(주)원주유소</td>\n      <td>서울 양천구 남부순환로 408</td>\n      <td>현대오일뱅크</td>\n      <td>02-2690-5837</td>\n      <td>N</td>\n      <td>-</td>\n      <td>1249</td>\n      <td>1048</td>\n      <td>1005</td>\n    </tr>\n    <tr>\n      <th>2</th>\n      <td>서울특별시</td>\n      <td>개나리Self주유소</td>\n      <td>서울 양천구 남부순환로 442 (신월동)</td>\n      <td>SK에너지</td>\n      <td>02-2606-5189</td>\n      <td>Y</td>\n      <td>-</td>\n      <td>1249</td>\n      <td>1048</td>\n      <td>-</td>\n    </tr>\n    <tr>\n      <th>3</th>\n      <td>서울특별시</td>\n      <td>가로공원주유소</td>\n      <td>서울 양천구 가로공원로 165 (신월동)</td>\n      <td>SK에너지</td>\n      <td>02-2695-3423</td>\n      <td>N</td>\n      <td>-</td>\n      <td>1249</td>\n      <td>1048</td>\n      <td>-</td>\n    </tr>\n    <tr>\n      <th>4</th>\n      <td>서울특별시</td>\n      <td>양천구주유소</td>\n      <td>서울 양천구 국회대로 275 (목동)</td>\n      <td>알뜰주유소</td>\n      <td>02-2644-5105</td>\n      <td>Y</td>\n      <td>-</td>\n      <td>1259</td>\n      <td>1062</td>\n      <td>-</td>\n    </tr>\n    <tr>\n      <th>5</th>\n      <td>서울특별시</td>\n      <td>지에스칼텍스㈜ 서호주유소</td>\n      <td>서울 양천구 남부순환로 317</td>\n      <td>GS칼텍스</td>\n      <td>02-2602-5172</td>\n      <td>Y</td>\n      <td>1419</td>\n      <td>1269</td>\n      <td>1069</td>\n      <td>1015</td>\n    </tr>\n  </tbody>\n</table>\n</div>"
     },
     "metadata": {},
     "execution_count": 8
    }
   ],
   "source": [
    "stations1 = stations[stations['주소'].str.contains('강서구|양천구')]\n",
    "stations1.head(6)"
   ]
  },
  {
   "cell_type": "code",
   "execution_count": 9,
   "metadata": {},
   "outputs": [],
   "source": [
    "stations2=stations1"
   ]
  },
  {
   "cell_type": "code",
   "execution_count": 10,
   "metadata": {},
   "outputs": [],
   "source": [
    "stations3=stations1"
   ]
  },
  {
   "cell_type": "code",
   "execution_count": 11,
   "metadata": {},
   "outputs": [
    {
     "output_type": "execute_result",
     "data": {
      "text/plain": [
       "       지역               상호                      주소     상표           전화번호 셀프여부  \\\n",
       "28  서울특별시      코리나(주)청룡주유소    서울 강서구 양천로 576 (등촌동)  SK에너지   02-3661-1575    N   \n",
       "29  서울특별시           박물관주유소  서울 강서구 양천로53길 97 (가양동)  GS칼텍스   02-3665-5189    N   \n",
       "30  서울특별시  (주)한진 김포공항제2주유소          서울 강서구 하늘길 112  S-OIL   02-2661-8892    Y   \n",
       "31  서울특별시            참솔에너지    서울 강서구 벌말로 281 (오곡동)  S-OIL  070-8844-8282    Y   \n",
       "32  서울특별시           염창동주유소    서울 강서구 양천로 720 (염창동)  SK에너지   02-3664-4134    N   \n",
       "\n",
       "   고급휘발유   휘발유    경유  실내등유    구  \n",
       "28     -  1398  1208  1100  강서구  \n",
       "29     -  1403  1203  1083  강서구  \n",
       "30     -  1407  1213     -  강서구  \n",
       "31     -  1535  1332     -  강서구  \n",
       "32     -  1688  1468     -  강서구  "
      ],
      "text/html": "<div>\n<style scoped>\n    .dataframe tbody tr th:only-of-type {\n        vertical-align: middle;\n    }\n\n    .dataframe tbody tr th {\n        vertical-align: top;\n    }\n\n    .dataframe thead th {\n        text-align: right;\n    }\n</style>\n<table border=\"1\" class=\"dataframe\">\n  <thead>\n    <tr style=\"text-align: right;\">\n      <th></th>\n      <th>지역</th>\n      <th>상호</th>\n      <th>주소</th>\n      <th>상표</th>\n      <th>전화번호</th>\n      <th>셀프여부</th>\n      <th>고급휘발유</th>\n      <th>휘발유</th>\n      <th>경유</th>\n      <th>실내등유</th>\n      <th>구</th>\n    </tr>\n  </thead>\n  <tbody>\n    <tr>\n      <th>28</th>\n      <td>서울특별시</td>\n      <td>코리나(주)청룡주유소</td>\n      <td>서울 강서구 양천로 576 (등촌동)</td>\n      <td>SK에너지</td>\n      <td>02-3661-1575</td>\n      <td>N</td>\n      <td>-</td>\n      <td>1398</td>\n      <td>1208</td>\n      <td>1100</td>\n      <td>강서구</td>\n    </tr>\n    <tr>\n      <th>29</th>\n      <td>서울특별시</td>\n      <td>박물관주유소</td>\n      <td>서울 강서구 양천로53길 97 (가양동)</td>\n      <td>GS칼텍스</td>\n      <td>02-3665-5189</td>\n      <td>N</td>\n      <td>-</td>\n      <td>1403</td>\n      <td>1203</td>\n      <td>1083</td>\n      <td>강서구</td>\n    </tr>\n    <tr>\n      <th>30</th>\n      <td>서울특별시</td>\n      <td>(주)한진 김포공항제2주유소</td>\n      <td>서울 강서구 하늘길 112</td>\n      <td>S-OIL</td>\n      <td>02-2661-8892</td>\n      <td>Y</td>\n      <td>-</td>\n      <td>1407</td>\n      <td>1213</td>\n      <td>-</td>\n      <td>강서구</td>\n    </tr>\n    <tr>\n      <th>31</th>\n      <td>서울특별시</td>\n      <td>참솔에너지</td>\n      <td>서울 강서구 벌말로 281 (오곡동)</td>\n      <td>S-OIL</td>\n      <td>070-8844-8282</td>\n      <td>Y</td>\n      <td>-</td>\n      <td>1535</td>\n      <td>1332</td>\n      <td>-</td>\n      <td>강서구</td>\n    </tr>\n    <tr>\n      <th>32</th>\n      <td>서울특별시</td>\n      <td>염창동주유소</td>\n      <td>서울 강서구 양천로 720 (염창동)</td>\n      <td>SK에너지</td>\n      <td>02-3664-4134</td>\n      <td>N</td>\n      <td>-</td>\n      <td>1688</td>\n      <td>1468</td>\n      <td>-</td>\n      <td>강서구</td>\n    </tr>\n  </tbody>\n</table>\n</div>"
     },
     "metadata": {},
     "execution_count": 11
    }
   ],
   "source": [
    "stations2['구'] = [addr.split()[1] for addr in stations1['주소']]\n",
    "stations2.tail()"
   ]
  },
  {
   "cell_type": "code",
   "execution_count": 12,
   "metadata": {},
   "outputs": [
    {
     "output_type": "execute_result",
     "data": {
      "text/plain": [
       "       지역               상호                      주소     상표           전화번호 셀프여부  \\\n",
       "28  서울특별시      코리나(주)청룡주유소    서울 강서구 양천로 576 (등촌동)  SK에너지   02-3661-1575    N   \n",
       "29  서울특별시           박물관주유소  서울 강서구 양천로53길 97 (가양동)  GS칼텍스   02-3665-5189    N   \n",
       "30  서울특별시  (주)한진 김포공항제2주유소          서울 강서구 하늘길 112  S-OIL   02-2661-8892    Y   \n",
       "31  서울특별시            참솔에너지    서울 강서구 벌말로 281 (오곡동)  S-OIL  070-8844-8282    Y   \n",
       "32  서울특별시           염창동주유소    서울 강서구 양천로 720 (염창동)  SK에너지   02-3664-4134    N   \n",
       "\n",
       "   고급휘발유   휘발유    경유  실내등유    구  \n",
       "28     -  1398  1208  1100  강서구  \n",
       "29     -  1403  1203  1083  강서구  \n",
       "30     -  1407  1213     -  강서구  \n",
       "31     -  1535  1332     -  강서구  \n",
       "32     -  1688  1468     -  강서구  "
      ],
      "text/html": "<div>\n<style scoped>\n    .dataframe tbody tr th:only-of-type {\n        vertical-align: middle;\n    }\n\n    .dataframe tbody tr th {\n        vertical-align: top;\n    }\n\n    .dataframe thead th {\n        text-align: right;\n    }\n</style>\n<table border=\"1\" class=\"dataframe\">\n  <thead>\n    <tr style=\"text-align: right;\">\n      <th></th>\n      <th>지역</th>\n      <th>상호</th>\n      <th>주소</th>\n      <th>상표</th>\n      <th>전화번호</th>\n      <th>셀프여부</th>\n      <th>고급휘발유</th>\n      <th>휘발유</th>\n      <th>경유</th>\n      <th>실내등유</th>\n      <th>구</th>\n    </tr>\n  </thead>\n  <tbody>\n    <tr>\n      <th>28</th>\n      <td>서울특별시</td>\n      <td>코리나(주)청룡주유소</td>\n      <td>서울 강서구 양천로 576 (등촌동)</td>\n      <td>SK에너지</td>\n      <td>02-3661-1575</td>\n      <td>N</td>\n      <td>-</td>\n      <td>1398</td>\n      <td>1208</td>\n      <td>1100</td>\n      <td>강서구</td>\n    </tr>\n    <tr>\n      <th>29</th>\n      <td>서울특별시</td>\n      <td>박물관주유소</td>\n      <td>서울 강서구 양천로53길 97 (가양동)</td>\n      <td>GS칼텍스</td>\n      <td>02-3665-5189</td>\n      <td>N</td>\n      <td>-</td>\n      <td>1403</td>\n      <td>1203</td>\n      <td>1083</td>\n      <td>강서구</td>\n    </tr>\n    <tr>\n      <th>30</th>\n      <td>서울특별시</td>\n      <td>(주)한진 김포공항제2주유소</td>\n      <td>서울 강서구 하늘길 112</td>\n      <td>S-OIL</td>\n      <td>02-2661-8892</td>\n      <td>Y</td>\n      <td>-</td>\n      <td>1407</td>\n      <td>1213</td>\n      <td>-</td>\n      <td>강서구</td>\n    </tr>\n    <tr>\n      <th>31</th>\n      <td>서울특별시</td>\n      <td>참솔에너지</td>\n      <td>서울 강서구 벌말로 281 (오곡동)</td>\n      <td>S-OIL</td>\n      <td>070-8844-8282</td>\n      <td>Y</td>\n      <td>-</td>\n      <td>1535</td>\n      <td>1332</td>\n      <td>-</td>\n      <td>강서구</td>\n    </tr>\n    <tr>\n      <th>32</th>\n      <td>서울특별시</td>\n      <td>염창동주유소</td>\n      <td>서울 강서구 양천로 720 (염창동)</td>\n      <td>SK에너지</td>\n      <td>02-3664-4134</td>\n      <td>N</td>\n      <td>-</td>\n      <td>1688</td>\n      <td>1468</td>\n      <td>-</td>\n      <td>강서구</td>\n    </tr>\n  </tbody>\n</table>\n</div>"
     },
     "metadata": {},
     "execution_count": 12
    }
   ],
   "source": [
    "stations3['구'] = [addr.split()[1] for addr in stations1['주소']]\n",
    "stations3.tail()"
   ]
  },
  {
   "cell_type": "code",
   "execution_count": 13,
   "metadata": {},
   "outputs": [
    {
     "output_type": "execute_result",
     "data": {
      "text/plain": [
       "array(['양천구', '강서구'], dtype=object)"
      ]
     },
     "metadata": {},
     "execution_count": 13
    }
   ],
   "source": [
    "stations2['구'].unique() "
   ]
  },
  {
   "cell_type": "code",
   "execution_count": 14,
   "metadata": {},
   "outputs": [
    {
     "output_type": "stream",
     "name": "stdout",
     "text": [
      "<class 'pandas.core.frame.DataFrame'>\nInt64Index: 59 entries, 0 to 32\nData columns (total 11 columns):\n #   Column  Non-Null Count  Dtype \n---  ------  --------------  ----- \n 0   지역      59 non-null     object\n 1   상호      59 non-null     object\n 2   주소      59 non-null     object\n 3   상표      59 non-null     object\n 4   전화번호    59 non-null     object\n 5   셀프여부    59 non-null     object\n 6   고급휘발유   59 non-null     object\n 7   휘발유     59 non-null     object\n 8   경유      59 non-null     object\n 9   실내등유    59 non-null     object\n 10  구       59 non-null     object\ndtypes: object(11)\nmemory usage: 5.5+ KB\n"
     ]
    }
   ],
   "source": [
    "stations2 = stations2[stations2['휘발유'] != '-']\n",
    "stations2.info()"
   ]
  },
  {
   "cell_type": "code",
   "execution_count": 90,
   "metadata": {},
   "outputs": [
    {
     "output_type": "execute_result",
     "data": {
      "text/plain": [
       "      지역           상호                      주소      상표          전화번호 셀프여부  \\\n",
       "0  서울특별시        현대주유소  서울 양천구 남부순환로 372 (신월동)   S-OIL  02-2608-9231    Y   \n",
       "1  서울특별시  형산석유(주)원주유소        서울 양천구 남부순환로 408  현대오일뱅크  02-2690-5837    N   \n",
       "2  서울특별시   개나리Self주유소  서울 양천구 남부순환로 442 (신월동)   SK에너지  02-2606-5189    Y   \n",
       "3  서울특별시      가로공원주유소  서울 양천구 가로공원로 165 (신월동)   SK에너지  02-2695-3423    N   \n",
       "4  서울특별시       양천구주유소    서울 양천구 국회대로 275 (목동)   알뜰주유소  02-2644-5105    Y   \n",
       "\n",
       "  고급휘발유   휘발유    경유  실내등유    구  \n",
       "0     -  1249  1048     -  양천구  \n",
       "1     -  1249  1048  1005  양천구  \n",
       "2     -  1249  1048     -  양천구  \n",
       "3     -  1249  1048     -  양천구  \n",
       "4     -  1259  1062     -  양천구  "
      ],
      "text/html": "<div>\n<style scoped>\n    .dataframe tbody tr th:only-of-type {\n        vertical-align: middle;\n    }\n\n    .dataframe tbody tr th {\n        vertical-align: top;\n    }\n\n    .dataframe thead th {\n        text-align: right;\n    }\n</style>\n<table border=\"1\" class=\"dataframe\">\n  <thead>\n    <tr style=\"text-align: right;\">\n      <th></th>\n      <th>지역</th>\n      <th>상호</th>\n      <th>주소</th>\n      <th>상표</th>\n      <th>전화번호</th>\n      <th>셀프여부</th>\n      <th>고급휘발유</th>\n      <th>휘발유</th>\n      <th>경유</th>\n      <th>실내등유</th>\n      <th>구</th>\n    </tr>\n  </thead>\n  <tbody>\n    <tr>\n      <th>0</th>\n      <td>서울특별시</td>\n      <td>현대주유소</td>\n      <td>서울 양천구 남부순환로 372 (신월동)</td>\n      <td>S-OIL</td>\n      <td>02-2608-9231</td>\n      <td>Y</td>\n      <td>-</td>\n      <td>1249</td>\n      <td>1048</td>\n      <td>-</td>\n      <td>양천구</td>\n    </tr>\n    <tr>\n      <th>1</th>\n      <td>서울특별시</td>\n      <td>형산석유(주)원주유소</td>\n      <td>서울 양천구 남부순환로 408</td>\n      <td>현대오일뱅크</td>\n      <td>02-2690-5837</td>\n      <td>N</td>\n      <td>-</td>\n      <td>1249</td>\n      <td>1048</td>\n      <td>1005</td>\n      <td>양천구</td>\n    </tr>\n    <tr>\n      <th>2</th>\n      <td>서울특별시</td>\n      <td>개나리Self주유소</td>\n      <td>서울 양천구 남부순환로 442 (신월동)</td>\n      <td>SK에너지</td>\n      <td>02-2606-5189</td>\n      <td>Y</td>\n      <td>-</td>\n      <td>1249</td>\n      <td>1048</td>\n      <td>-</td>\n      <td>양천구</td>\n    </tr>\n    <tr>\n      <th>3</th>\n      <td>서울특별시</td>\n      <td>가로공원주유소</td>\n      <td>서울 양천구 가로공원로 165 (신월동)</td>\n      <td>SK에너지</td>\n      <td>02-2695-3423</td>\n      <td>N</td>\n      <td>-</td>\n      <td>1249</td>\n      <td>1048</td>\n      <td>-</td>\n      <td>양천구</td>\n    </tr>\n    <tr>\n      <th>4</th>\n      <td>서울특별시</td>\n      <td>양천구주유소</td>\n      <td>서울 양천구 국회대로 275 (목동)</td>\n      <td>알뜰주유소</td>\n      <td>02-2644-5105</td>\n      <td>Y</td>\n      <td>-</td>\n      <td>1259</td>\n      <td>1062</td>\n      <td>-</td>\n      <td>양천구</td>\n    </tr>\n  </tbody>\n</table>\n</div>"
     },
     "metadata": {},
     "execution_count": 90
    }
   ],
   "source": [
    "stations2.head()"
   ]
  },
  {
   "cell_type": "code",
   "execution_count": 23,
   "metadata": {},
   "outputs": [
    {
     "output_type": "stream",
     "name": "stdout",
     "text": [
      "<class 'pandas.core.frame.DataFrame'>\nInt64Index: 6 entries, 5 to 21\nData columns (total 11 columns):\n #   Column  Non-Null Count  Dtype \n---  ------  --------------  ----- \n 0   지역      6 non-null      object\n 1   상호      6 non-null      object\n 2   주소      6 non-null      object\n 3   상표      6 non-null      object\n 4   전화번호    6 non-null      object\n 5   셀프여부    6 non-null      object\n 6   고급휘발유   6 non-null      int64 \n 7   휘발유     6 non-null      object\n 8   경유      6 non-null      object\n 9   실내등유    6 non-null      object\n 10  구       6 non-null      object\ndtypes: int64(1), object(10)\nmemory usage: 576.0+ bytes\n"
     ]
    }
   ],
   "source": [
    "stations2['고급휘발유'] = pd.to_numeric(stations2['고급휘발유'])\n",
    "stations2.info()"
   ]
  },
  {
   "cell_type": "code",
   "execution_count": 16,
   "metadata": {},
   "outputs": [
    {
     "output_type": "stream",
     "name": "stdout",
     "text": [
      "<class 'pandas.core.frame.DataFrame'>\nInt64Index: 59 entries, 0 to 32\nData columns (total 11 columns):\n #   Column  Non-Null Count  Dtype \n---  ------  --------------  ----- \n 0   지역      59 non-null     object\n 1   상호      59 non-null     object\n 2   주소      59 non-null     object\n 3   상표      59 non-null     object\n 4   전화번호    59 non-null     object\n 5   셀프여부    59 non-null     object\n 6   고급휘발유   59 non-null     object\n 7   휘발유     59 non-null     int64 \n 8   경유      59 non-null     object\n 9   실내등유    59 non-null     object\n 10  구       59 non-null     object\ndtypes: int64(1), object(10)\nmemory usage: 5.5+ KB\n"
     ]
    }
   ],
   "source": [
    "stations2['휘발유'] = pd.to_numeric(stations2['휘발유'])\n",
    "stations2.info()"
   ]
  },
  {
   "cell_type": "code",
   "execution_count": 25,
   "metadata": {},
   "outputs": [
    {
     "output_type": "stream",
     "name": "stdout",
     "text": [
      "<class 'pandas.core.frame.DataFrame'>\nInt64Index: 6 entries, 5 to 21\nData columns (total 11 columns):\n #   Column  Non-Null Count  Dtype \n---  ------  --------------  ----- \n 0   지역      6 non-null      object\n 1   상호      6 non-null      object\n 2   주소      6 non-null      object\n 3   상표      6 non-null      object\n 4   전화번호    6 non-null      object\n 5   셀프여부    6 non-null      object\n 6   고급휘발유   6 non-null      int64 \n 7   휘발유     6 non-null      int64 \n 8   경유      6 non-null      int64 \n 9   실내등유    6 non-null      object\n 10  구       6 non-null      object\ndtypes: int64(3), object(8)\nmemory usage: 576.0+ bytes\n"
     ]
    }
   ],
   "source": [
    "stations2['경유'] = pd.to_numeric(stations2['경유'])\n",
    "stations2.info()"
   ]
  },
  {
   "cell_type": "code",
   "execution_count": 26,
   "metadata": {},
   "outputs": [
    {
     "output_type": "stream",
     "name": "stdout",
     "text": [
      "<class 'pandas.core.frame.DataFrame'>\nInt64Index: 6 entries, 5 to 21\nData columns (total 11 columns):\n #   Column  Non-Null Count  Dtype \n---  ------  --------------  ----- \n 0   지역      6 non-null      object\n 1   상호      6 non-null      object\n 2   주소      6 non-null      object\n 3   상표      6 non-null      object\n 4   전화번호    6 non-null      object\n 5   셀프여부    6 non-null      object\n 6   고급휘발유   6 non-null      int64 \n 7   휘발유     6 non-null      int64 \n 8   경유      6 non-null      int64 \n 9   실내등유    6 non-null      int64 \n 10  구       6 non-null      object\ndtypes: int64(4), object(7)\nmemory usage: 576.0+ bytes\n"
     ]
    }
   ],
   "source": [
    "stations2['실내등유'] = pd.to_numeric(stations2['실내등유'])\n",
    "stations2.info()"
   ]
  },
  {
   "cell_type": "code",
   "execution_count": 17,
   "metadata": {},
   "outputs": [],
   "source": [
    "import seaborn as sns\n",
    "import matplotlib as mpl\n",
    "import matplotlib.pyplot as plt\n",
    "%matplotlib inline\n",
    "\n",
    "## 한글 폰트 사용\n",
    "# 폰트 설정\n",
    "mpl.rc('font', family='Malgun Gothic') #family에 사용할 폰트를 넣음\n",
    "# 유니코드에서  음수 부호설정\n",
    "mpl.rc('axes', unicode_minus=False)"
   ]
  },
  {
   "cell_type": "code",
   "execution_count": 18,
   "metadata": {},
   "outputs": [],
   "source": [
    "import json\n",
    "import folium\n",
    "import warnings\n",
    "warnings.simplefilter(action='ignore', category=FutureWarning)"
   ]
  },
  {
   "cell_type": "code",
   "execution_count": 89,
   "metadata": {},
   "outputs": [
    {
     "output_type": "execute_result",
     "data": {
      "text/plain": [
       "      지역           상호                      주소      상표          전화번호 셀프여부  \\\n",
       "0  서울특별시        현대주유소  서울 양천구 남부순환로 372 (신월동)   S-OIL  02-2608-9231    Y   \n",
       "1  서울특별시  형산석유(주)원주유소        서울 양천구 남부순환로 408  현대오일뱅크  02-2690-5837    N   \n",
       "2  서울특별시   개나리Self주유소  서울 양천구 남부순환로 442 (신월동)   SK에너지  02-2606-5189    Y   \n",
       "3  서울특별시      가로공원주유소  서울 양천구 가로공원로 165 (신월동)   SK에너지  02-2695-3423    N   \n",
       "4  서울특별시       양천구주유소    서울 양천구 국회대로 275 (목동)   알뜰주유소  02-2644-5105    Y   \n",
       "\n",
       "  고급휘발유   휘발유    경유  실내등유    구  \n",
       "0     -  1249  1048     -  양천구  \n",
       "1     -  1249  1048  1005  양천구  \n",
       "2     -  1249  1048     -  양천구  \n",
       "3     -  1249  1048     -  양천구  \n",
       "4     -  1259  1062     -  양천구  "
      ],
      "text/html": "<div>\n<style scoped>\n    .dataframe tbody tr th:only-of-type {\n        vertical-align: middle;\n    }\n\n    .dataframe tbody tr th {\n        vertical-align: top;\n    }\n\n    .dataframe thead th {\n        text-align: right;\n    }\n</style>\n<table border=\"1\" class=\"dataframe\">\n  <thead>\n    <tr style=\"text-align: right;\">\n      <th></th>\n      <th>지역</th>\n      <th>상호</th>\n      <th>주소</th>\n      <th>상표</th>\n      <th>전화번호</th>\n      <th>셀프여부</th>\n      <th>고급휘발유</th>\n      <th>휘발유</th>\n      <th>경유</th>\n      <th>실내등유</th>\n      <th>구</th>\n    </tr>\n  </thead>\n  <tbody>\n    <tr>\n      <th>0</th>\n      <td>서울특별시</td>\n      <td>현대주유소</td>\n      <td>서울 양천구 남부순환로 372 (신월동)</td>\n      <td>S-OIL</td>\n      <td>02-2608-9231</td>\n      <td>Y</td>\n      <td>-</td>\n      <td>1249</td>\n      <td>1048</td>\n      <td>-</td>\n      <td>양천구</td>\n    </tr>\n    <tr>\n      <th>1</th>\n      <td>서울특별시</td>\n      <td>형산석유(주)원주유소</td>\n      <td>서울 양천구 남부순환로 408</td>\n      <td>현대오일뱅크</td>\n      <td>02-2690-5837</td>\n      <td>N</td>\n      <td>-</td>\n      <td>1249</td>\n      <td>1048</td>\n      <td>1005</td>\n      <td>양천구</td>\n    </tr>\n    <tr>\n      <th>2</th>\n      <td>서울특별시</td>\n      <td>개나리Self주유소</td>\n      <td>서울 양천구 남부순환로 442 (신월동)</td>\n      <td>SK에너지</td>\n      <td>02-2606-5189</td>\n      <td>Y</td>\n      <td>-</td>\n      <td>1249</td>\n      <td>1048</td>\n      <td>-</td>\n      <td>양천구</td>\n    </tr>\n    <tr>\n      <th>3</th>\n      <td>서울특별시</td>\n      <td>가로공원주유소</td>\n      <td>서울 양천구 가로공원로 165 (신월동)</td>\n      <td>SK에너지</td>\n      <td>02-2695-3423</td>\n      <td>N</td>\n      <td>-</td>\n      <td>1249</td>\n      <td>1048</td>\n      <td>-</td>\n      <td>양천구</td>\n    </tr>\n    <tr>\n      <th>4</th>\n      <td>서울특별시</td>\n      <td>양천구주유소</td>\n      <td>서울 양천구 국회대로 275 (목동)</td>\n      <td>알뜰주유소</td>\n      <td>02-2644-5105</td>\n      <td>Y</td>\n      <td>-</td>\n      <td>1259</td>\n      <td>1062</td>\n      <td>-</td>\n      <td>양천구</td>\n    </tr>\n  </tbody>\n</table>\n</div>"
     },
     "metadata": {},
     "execution_count": 89
    }
   ],
   "source": [
    "stations2.head()"
   ]
  },
  {
   "cell_type": "code",
   "execution_count": 33,
   "metadata": {},
   "outputs": [
    {
     "output_type": "execute_result",
     "data": {
      "text/plain": [
       "       지역                     상호                      주소      상표  \\\n",
       "0   서울특별시                  현대주유소  서울 양천구 남부순환로 372 (신월동)   S-OIL   \n",
       "1   서울특별시            형산석유(주)원주유소        서울 양천구 남부순환로 408  현대오일뱅크   \n",
       "2   서울특별시             개나리Self주유소  서울 양천구 남부순환로 442 (신월동)   SK에너지   \n",
       "3   서울특별시                가로공원주유소  서울 양천구 가로공원로 165 (신월동)   SK에너지   \n",
       "4   서울특별시                 양천구주유소    서울 양천구 국회대로 275 (목동)   알뜰주유소   \n",
       "5   서울특별시          지에스칼텍스㈜ 서호주유소        서울 양천구 남부순환로 317   GS칼텍스   \n",
       "6   서울특별시                  신월주유소    서울 양천구 신월로 193 (신월동)   GS칼텍스   \n",
       "7   서울특별시  현대오일뱅크(주)직영 남부순환셀프주유소  서울 양천구 남부순환로 553 (신월동)  현대오일뱅크   \n",
       "8   서울특별시        지에스이앤알 직영 서울주유소    서울 양천구 신정로 236 (신정동)   GS칼텍스   \n",
       "9   서울특별시               (주)블루에너지    서울 양천구 중앙로 226 (신정동)   SK에너지   \n",
       "10  서울특별시      현대오일뱅크㈜직영 목동셀프주유소    서울 양천구 공항대로 648 (목동)  현대오일뱅크   \n",
       "\n",
       "            전화번호 셀프여부 고급휘발유   휘발유    경유  실내등유    구  \n",
       "0   02-2608-9231    Y     -  1249  1048     -  양천구  \n",
       "1   02-2690-5837    N     -  1249  1048  1005  양천구  \n",
       "2   02-2606-5189    Y     -  1249  1048     -  양천구  \n",
       "3   02-2695-3423    N     -  1249  1048     -  양천구  \n",
       "4   02-2644-5105    Y     -  1259  1062     -  양천구  \n",
       "5   02-2602-5172    Y  1419  1269  1069  1015  양천구  \n",
       "6   02-2603-5182    Y     -  1285  1085  1100  양천구  \n",
       "7   02-2690-5001    Y     -  1299  1099     -  양천구  \n",
       "8   02-2607-9478    N     -  1299  1099     -  양천구  \n",
       "9   02-2646-6212    Y     -  1299  1099     -  양천구  \n",
       "10  02-2648-4204    Y     -  1305  1128     -  양천구  "
      ],
      "text/html": "<div>\n<style scoped>\n    .dataframe tbody tr th:only-of-type {\n        vertical-align: middle;\n    }\n\n    .dataframe tbody tr th {\n        vertical-align: top;\n    }\n\n    .dataframe thead th {\n        text-align: right;\n    }\n</style>\n<table border=\"1\" class=\"dataframe\">\n  <thead>\n    <tr style=\"text-align: right;\">\n      <th></th>\n      <th>지역</th>\n      <th>상호</th>\n      <th>주소</th>\n      <th>상표</th>\n      <th>전화번호</th>\n      <th>셀프여부</th>\n      <th>고급휘발유</th>\n      <th>휘발유</th>\n      <th>경유</th>\n      <th>실내등유</th>\n      <th>구</th>\n    </tr>\n  </thead>\n  <tbody>\n    <tr>\n      <th>0</th>\n      <td>서울특별시</td>\n      <td>현대주유소</td>\n      <td>서울 양천구 남부순환로 372 (신월동)</td>\n      <td>S-OIL</td>\n      <td>02-2608-9231</td>\n      <td>Y</td>\n      <td>-</td>\n      <td>1249</td>\n      <td>1048</td>\n      <td>-</td>\n      <td>양천구</td>\n    </tr>\n    <tr>\n      <th>1</th>\n      <td>서울특별시</td>\n      <td>형산석유(주)원주유소</td>\n      <td>서울 양천구 남부순환로 408</td>\n      <td>현대오일뱅크</td>\n      <td>02-2690-5837</td>\n      <td>N</td>\n      <td>-</td>\n      <td>1249</td>\n      <td>1048</td>\n      <td>1005</td>\n      <td>양천구</td>\n    </tr>\n    <tr>\n      <th>2</th>\n      <td>서울특별시</td>\n      <td>개나리Self주유소</td>\n      <td>서울 양천구 남부순환로 442 (신월동)</td>\n      <td>SK에너지</td>\n      <td>02-2606-5189</td>\n      <td>Y</td>\n      <td>-</td>\n      <td>1249</td>\n      <td>1048</td>\n      <td>-</td>\n      <td>양천구</td>\n    </tr>\n    <tr>\n      <th>3</th>\n      <td>서울특별시</td>\n      <td>가로공원주유소</td>\n      <td>서울 양천구 가로공원로 165 (신월동)</td>\n      <td>SK에너지</td>\n      <td>02-2695-3423</td>\n      <td>N</td>\n      <td>-</td>\n      <td>1249</td>\n      <td>1048</td>\n      <td>-</td>\n      <td>양천구</td>\n    </tr>\n    <tr>\n      <th>4</th>\n      <td>서울특별시</td>\n      <td>양천구주유소</td>\n      <td>서울 양천구 국회대로 275 (목동)</td>\n      <td>알뜰주유소</td>\n      <td>02-2644-5105</td>\n      <td>Y</td>\n      <td>-</td>\n      <td>1259</td>\n      <td>1062</td>\n      <td>-</td>\n      <td>양천구</td>\n    </tr>\n    <tr>\n      <th>5</th>\n      <td>서울특별시</td>\n      <td>지에스칼텍스㈜ 서호주유소</td>\n      <td>서울 양천구 남부순환로 317</td>\n      <td>GS칼텍스</td>\n      <td>02-2602-5172</td>\n      <td>Y</td>\n      <td>1419</td>\n      <td>1269</td>\n      <td>1069</td>\n      <td>1015</td>\n      <td>양천구</td>\n    </tr>\n    <tr>\n      <th>6</th>\n      <td>서울특별시</td>\n      <td>신월주유소</td>\n      <td>서울 양천구 신월로 193 (신월동)</td>\n      <td>GS칼텍스</td>\n      <td>02-2603-5182</td>\n      <td>Y</td>\n      <td>-</td>\n      <td>1285</td>\n      <td>1085</td>\n      <td>1100</td>\n      <td>양천구</td>\n    </tr>\n    <tr>\n      <th>7</th>\n      <td>서울특별시</td>\n      <td>현대오일뱅크(주)직영 남부순환셀프주유소</td>\n      <td>서울 양천구 남부순환로 553 (신월동)</td>\n      <td>현대오일뱅크</td>\n      <td>02-2690-5001</td>\n      <td>Y</td>\n      <td>-</td>\n      <td>1299</td>\n      <td>1099</td>\n      <td>-</td>\n      <td>양천구</td>\n    </tr>\n    <tr>\n      <th>8</th>\n      <td>서울특별시</td>\n      <td>지에스이앤알 직영 서울주유소</td>\n      <td>서울 양천구 신정로 236 (신정동)</td>\n      <td>GS칼텍스</td>\n      <td>02-2607-9478</td>\n      <td>N</td>\n      <td>-</td>\n      <td>1299</td>\n      <td>1099</td>\n      <td>-</td>\n      <td>양천구</td>\n    </tr>\n    <tr>\n      <th>9</th>\n      <td>서울특별시</td>\n      <td>(주)블루에너지</td>\n      <td>서울 양천구 중앙로 226 (신정동)</td>\n      <td>SK에너지</td>\n      <td>02-2646-6212</td>\n      <td>Y</td>\n      <td>-</td>\n      <td>1299</td>\n      <td>1099</td>\n      <td>-</td>\n      <td>양천구</td>\n    </tr>\n    <tr>\n      <th>10</th>\n      <td>서울특별시</td>\n      <td>현대오일뱅크㈜직영 목동셀프주유소</td>\n      <td>서울 양천구 공항대로 648 (목동)</td>\n      <td>현대오일뱅크</td>\n      <td>02-2648-4204</td>\n      <td>Y</td>\n      <td>-</td>\n      <td>1305</td>\n      <td>1128</td>\n      <td>-</td>\n      <td>양천구</td>\n    </tr>\n  </tbody>\n</table>\n</div>"
     },
     "metadata": {},
     "execution_count": 33
    }
   ],
   "source": [
    "stations2 = stations2.reset_index(drop=True)\n",
    "stations2.head(11)"
   ]
  },
  {
   "cell_type": "code",
   "execution_count": 32,
   "metadata": {},
   "outputs": [
    {
     "output_type": "execute_result",
     "data": {
      "text/plain": [
       "       지역           상호                        주소      상표          전화번호 셀프여부  \\\n",
       "27  서울특별시       뉴신정주유소      서울 강서구 곰달래로 207(화곡동)   알뜰주유소  02-2601-0077    N   \n",
       "26  서울특별시       화곡역주유소  서울특별시 강서구  강서로 154 (화곡동)   알뜰주유소  02-2691-5151    Y   \n",
       "0   서울특별시        현대주유소    서울 양천구 남부순환로 372 (신월동)   S-OIL  02-2608-9231    Y   \n",
       "1   서울특별시  형산석유(주)원주유소          서울 양천구 남부순환로 408  현대오일뱅크  02-2690-5837    N   \n",
       "2   서울특별시   개나리Self주유소    서울 양천구 남부순환로 442 (신월동)   SK에너지  02-2606-5189    Y   \n",
       "3   서울특별시      가로공원주유소    서울 양천구 가로공원로 165 (신월동)   SK에너지  02-2695-3423    N   \n",
       "4   서울특별시       양천구주유소      서울 양천구 국회대로 275 (목동)   알뜰주유소  02-2644-5105    Y   \n",
       "28  서울특별시        방화주유소    서울 강서구 방화동로 58-2 (방화동)   SK에너지  02-2662-0503    N   \n",
       "29  서울특별시  행촌에너지 공항주유소     서울 강서구 개화동로 420 (개화동)  현대오일뱅크  02-2665-5189    Y   \n",
       "31  서울특별시    강서오곡셀프주유소      서울 강서구 벌말로 254 (오곡동)   SK에너지  032-671-5186    Y   \n",
       "\n",
       "   고급휘발유   휘발유    경유  실내등유    구  \n",
       "27     -  1243  1043     -  강서구  \n",
       "26     -  1243  1043     -  강서구  \n",
       "0      -  1249  1048     -  양천구  \n",
       "1      -  1249  1048  1005  양천구  \n",
       "2      -  1249  1048     -  양천구  \n",
       "3      -  1249  1048     -  양천구  \n",
       "4      -  1259  1062     -  양천구  \n",
       "28     -  1263  1063   950  강서구  \n",
       "29     -  1264  1064     -  강서구  \n",
       "31     -  1265  1065     -  강서구  "
      ],
      "text/html": "<div>\n<style scoped>\n    .dataframe tbody tr th:only-of-type {\n        vertical-align: middle;\n    }\n\n    .dataframe tbody tr th {\n        vertical-align: top;\n    }\n\n    .dataframe thead th {\n        text-align: right;\n    }\n</style>\n<table border=\"1\" class=\"dataframe\">\n  <thead>\n    <tr style=\"text-align: right;\">\n      <th></th>\n      <th>지역</th>\n      <th>상호</th>\n      <th>주소</th>\n      <th>상표</th>\n      <th>전화번호</th>\n      <th>셀프여부</th>\n      <th>고급휘발유</th>\n      <th>휘발유</th>\n      <th>경유</th>\n      <th>실내등유</th>\n      <th>구</th>\n    </tr>\n  </thead>\n  <tbody>\n    <tr>\n      <th>27</th>\n      <td>서울특별시</td>\n      <td>뉴신정주유소</td>\n      <td>서울 강서구 곰달래로 207(화곡동)</td>\n      <td>알뜰주유소</td>\n      <td>02-2601-0077</td>\n      <td>N</td>\n      <td>-</td>\n      <td>1243</td>\n      <td>1043</td>\n      <td>-</td>\n      <td>강서구</td>\n    </tr>\n    <tr>\n      <th>26</th>\n      <td>서울특별시</td>\n      <td>화곡역주유소</td>\n      <td>서울특별시 강서구  강서로 154 (화곡동)</td>\n      <td>알뜰주유소</td>\n      <td>02-2691-5151</td>\n      <td>Y</td>\n      <td>-</td>\n      <td>1243</td>\n      <td>1043</td>\n      <td>-</td>\n      <td>강서구</td>\n    </tr>\n    <tr>\n      <th>0</th>\n      <td>서울특별시</td>\n      <td>현대주유소</td>\n      <td>서울 양천구 남부순환로 372 (신월동)</td>\n      <td>S-OIL</td>\n      <td>02-2608-9231</td>\n      <td>Y</td>\n      <td>-</td>\n      <td>1249</td>\n      <td>1048</td>\n      <td>-</td>\n      <td>양천구</td>\n    </tr>\n    <tr>\n      <th>1</th>\n      <td>서울특별시</td>\n      <td>형산석유(주)원주유소</td>\n      <td>서울 양천구 남부순환로 408</td>\n      <td>현대오일뱅크</td>\n      <td>02-2690-5837</td>\n      <td>N</td>\n      <td>-</td>\n      <td>1249</td>\n      <td>1048</td>\n      <td>1005</td>\n      <td>양천구</td>\n    </tr>\n    <tr>\n      <th>2</th>\n      <td>서울특별시</td>\n      <td>개나리Self주유소</td>\n      <td>서울 양천구 남부순환로 442 (신월동)</td>\n      <td>SK에너지</td>\n      <td>02-2606-5189</td>\n      <td>Y</td>\n      <td>-</td>\n      <td>1249</td>\n      <td>1048</td>\n      <td>-</td>\n      <td>양천구</td>\n    </tr>\n    <tr>\n      <th>3</th>\n      <td>서울특별시</td>\n      <td>가로공원주유소</td>\n      <td>서울 양천구 가로공원로 165 (신월동)</td>\n      <td>SK에너지</td>\n      <td>02-2695-3423</td>\n      <td>N</td>\n      <td>-</td>\n      <td>1249</td>\n      <td>1048</td>\n      <td>-</td>\n      <td>양천구</td>\n    </tr>\n    <tr>\n      <th>4</th>\n      <td>서울특별시</td>\n      <td>양천구주유소</td>\n      <td>서울 양천구 국회대로 275 (목동)</td>\n      <td>알뜰주유소</td>\n      <td>02-2644-5105</td>\n      <td>Y</td>\n      <td>-</td>\n      <td>1259</td>\n      <td>1062</td>\n      <td>-</td>\n      <td>양천구</td>\n    </tr>\n    <tr>\n      <th>28</th>\n      <td>서울특별시</td>\n      <td>방화주유소</td>\n      <td>서울 강서구 방화동로 58-2 (방화동)</td>\n      <td>SK에너지</td>\n      <td>02-2662-0503</td>\n      <td>N</td>\n      <td>-</td>\n      <td>1263</td>\n      <td>1063</td>\n      <td>950</td>\n      <td>강서구</td>\n    </tr>\n    <tr>\n      <th>29</th>\n      <td>서울특별시</td>\n      <td>행촌에너지 공항주유소</td>\n      <td>서울 강서구 개화동로 420 (개화동)</td>\n      <td>현대오일뱅크</td>\n      <td>02-2665-5189</td>\n      <td>Y</td>\n      <td>-</td>\n      <td>1264</td>\n      <td>1064</td>\n      <td>-</td>\n      <td>강서구</td>\n    </tr>\n    <tr>\n      <th>31</th>\n      <td>서울특별시</td>\n      <td>강서오곡셀프주유소</td>\n      <td>서울 강서구 벌말로 254 (오곡동)</td>\n      <td>SK에너지</td>\n      <td>032-671-5186</td>\n      <td>Y</td>\n      <td>-</td>\n      <td>1265</td>\n      <td>1065</td>\n      <td>-</td>\n      <td>강서구</td>\n    </tr>\n  </tbody>\n</table>\n</div>"
     },
     "metadata": {},
     "execution_count": 32
    }
   ],
   "source": [
    "st1 = stations2.sort_values(by='휘발유', ascending=True).head(10)\n",
    "st1"
   ]
  },
  {
   "cell_type": "code",
   "execution_count": 34,
   "metadata": {},
   "outputs": [],
   "source": [
    "key_fd = open('../06.reapi/kakaomapkey.txt', mode='r')\n",
    "kmap_key = key_fd.read(100)\n",
    "key_fd.close()"
   ]
  },
  {
   "cell_type": "code",
   "execution_count": 35,
   "metadata": {},
   "outputs": [
    {
     "output_type": "display_data",
     "data": {
      "text/plain": "HBox(children=(FloatProgress(value=0.0, max=10.0), HTML(value='')))",
      "application/vnd.jupyter.widget-view+json": {
       "version_major": 2,
       "version_minor": 0,
       "model_id": "3cb71fcc8d9b4e6f945b8531d2a38cee"
      }
     },
     "metadata": {}
    },
    {
     "output_type": "stream",
     "name": "stdout",
     "text": [
      "\n"
     ]
    },
    {
     "output_type": "execute_result",
     "data": {
      "text/plain": [
       "       지역           상호                        주소      상표          전화번호 셀프여부  \\\n",
       "27  서울특별시       뉴신정주유소      서울 강서구 곰달래로 207(화곡동)   알뜰주유소  02-2601-0077    N   \n",
       "26  서울특별시       화곡역주유소  서울특별시 강서구  강서로 154 (화곡동)   알뜰주유소  02-2691-5151    Y   \n",
       "0   서울특별시        현대주유소    서울 양천구 남부순환로 372 (신월동)   S-OIL  02-2608-9231    Y   \n",
       "1   서울특별시  형산석유(주)원주유소          서울 양천구 남부순환로 408  현대오일뱅크  02-2690-5837    N   \n",
       "2   서울특별시   개나리Self주유소    서울 양천구 남부순환로 442 (신월동)   SK에너지  02-2606-5189    Y   \n",
       "3   서울특별시      가로공원주유소    서울 양천구 가로공원로 165 (신월동)   SK에너지  02-2695-3423    N   \n",
       "4   서울특별시       양천구주유소      서울 양천구 국회대로 275 (목동)   알뜰주유소  02-2644-5105    Y   \n",
       "28  서울특별시        방화주유소    서울 강서구 방화동로 58-2 (방화동)   SK에너지  02-2662-0503    N   \n",
       "29  서울특별시  행촌에너지 공항주유소     서울 강서구 개화동로 420 (개화동)  현대오일뱅크  02-2665-5189    Y   \n",
       "31  서울특별시    강서오곡셀프주유소      서울 강서구 벌말로 254 (오곡동)   SK에너지  032-671-5186    Y   \n",
       "\n",
       "   고급휘발유   휘발유    경유  실내등유    구               lat               lng  \n",
       "27     -  1243  1043     -  강서구  37.5315624983884  126.856035365887  \n",
       "26     -  1243  1043     -  강서구  37.5407680113225    126.8414715329  \n",
       "0      -  1249  1048     -  양천구  37.5339097605129  126.829178494291  \n",
       "1      -  1249  1048  1005  양천구  37.5311594818326  126.831011469112  \n",
       "2      -  1249  1048     -  양천구  37.5282624685753  126.832956410977  \n",
       "3      -  1249  1048     -  양천구  37.5370203692233  126.834298807985  \n",
       "4      -  1259  1062     -  양천구  37.5303725461437  126.865511835584  \n",
       "28     -  1263  1063   950  강서구  37.5655628801505  126.812436402704  \n",
       "29     -  1264  1064     -  강서구  37.5743411065587  126.802289394945  \n",
       "31     -  1265  1065     -  강서구  37.5539472043373  126.768359086323  "
      ],
      "text/html": "<div>\n<style scoped>\n    .dataframe tbody tr th:only-of-type {\n        vertical-align: middle;\n    }\n\n    .dataframe tbody tr th {\n        vertical-align: top;\n    }\n\n    .dataframe thead th {\n        text-align: right;\n    }\n</style>\n<table border=\"1\" class=\"dataframe\">\n  <thead>\n    <tr style=\"text-align: right;\">\n      <th></th>\n      <th>지역</th>\n      <th>상호</th>\n      <th>주소</th>\n      <th>상표</th>\n      <th>전화번호</th>\n      <th>셀프여부</th>\n      <th>고급휘발유</th>\n      <th>휘발유</th>\n      <th>경유</th>\n      <th>실내등유</th>\n      <th>구</th>\n      <th>lat</th>\n      <th>lng</th>\n    </tr>\n  </thead>\n  <tbody>\n    <tr>\n      <th>27</th>\n      <td>서울특별시</td>\n      <td>뉴신정주유소</td>\n      <td>서울 강서구 곰달래로 207(화곡동)</td>\n      <td>알뜰주유소</td>\n      <td>02-2601-0077</td>\n      <td>N</td>\n      <td>-</td>\n      <td>1243</td>\n      <td>1043</td>\n      <td>-</td>\n      <td>강서구</td>\n      <td>37.5315624983884</td>\n      <td>126.856035365887</td>\n    </tr>\n    <tr>\n      <th>26</th>\n      <td>서울특별시</td>\n      <td>화곡역주유소</td>\n      <td>서울특별시 강서구  강서로 154 (화곡동)</td>\n      <td>알뜰주유소</td>\n      <td>02-2691-5151</td>\n      <td>Y</td>\n      <td>-</td>\n      <td>1243</td>\n      <td>1043</td>\n      <td>-</td>\n      <td>강서구</td>\n      <td>37.5407680113225</td>\n      <td>126.8414715329</td>\n    </tr>\n    <tr>\n      <th>0</th>\n      <td>서울특별시</td>\n      <td>현대주유소</td>\n      <td>서울 양천구 남부순환로 372 (신월동)</td>\n      <td>S-OIL</td>\n      <td>02-2608-9231</td>\n      <td>Y</td>\n      <td>-</td>\n      <td>1249</td>\n      <td>1048</td>\n      <td>-</td>\n      <td>양천구</td>\n      <td>37.5339097605129</td>\n      <td>126.829178494291</td>\n    </tr>\n    <tr>\n      <th>1</th>\n      <td>서울특별시</td>\n      <td>형산석유(주)원주유소</td>\n      <td>서울 양천구 남부순환로 408</td>\n      <td>현대오일뱅크</td>\n      <td>02-2690-5837</td>\n      <td>N</td>\n      <td>-</td>\n      <td>1249</td>\n      <td>1048</td>\n      <td>1005</td>\n      <td>양천구</td>\n      <td>37.5311594818326</td>\n      <td>126.831011469112</td>\n    </tr>\n    <tr>\n      <th>2</th>\n      <td>서울특별시</td>\n      <td>개나리Self주유소</td>\n      <td>서울 양천구 남부순환로 442 (신월동)</td>\n      <td>SK에너지</td>\n      <td>02-2606-5189</td>\n      <td>Y</td>\n      <td>-</td>\n      <td>1249</td>\n      <td>1048</td>\n      <td>-</td>\n      <td>양천구</td>\n      <td>37.5282624685753</td>\n      <td>126.832956410977</td>\n    </tr>\n    <tr>\n      <th>3</th>\n      <td>서울특별시</td>\n      <td>가로공원주유소</td>\n      <td>서울 양천구 가로공원로 165 (신월동)</td>\n      <td>SK에너지</td>\n      <td>02-2695-3423</td>\n      <td>N</td>\n      <td>-</td>\n      <td>1249</td>\n      <td>1048</td>\n      <td>-</td>\n      <td>양천구</td>\n      <td>37.5370203692233</td>\n      <td>126.834298807985</td>\n    </tr>\n    <tr>\n      <th>4</th>\n      <td>서울특별시</td>\n      <td>양천구주유소</td>\n      <td>서울 양천구 국회대로 275 (목동)</td>\n      <td>알뜰주유소</td>\n      <td>02-2644-5105</td>\n      <td>Y</td>\n      <td>-</td>\n      <td>1259</td>\n      <td>1062</td>\n      <td>-</td>\n      <td>양천구</td>\n      <td>37.5303725461437</td>\n      <td>126.865511835584</td>\n    </tr>\n    <tr>\n      <th>28</th>\n      <td>서울특별시</td>\n      <td>방화주유소</td>\n      <td>서울 강서구 방화동로 58-2 (방화동)</td>\n      <td>SK에너지</td>\n      <td>02-2662-0503</td>\n      <td>N</td>\n      <td>-</td>\n      <td>1263</td>\n      <td>1063</td>\n      <td>950</td>\n      <td>강서구</td>\n      <td>37.5655628801505</td>\n      <td>126.812436402704</td>\n    </tr>\n    <tr>\n      <th>29</th>\n      <td>서울특별시</td>\n      <td>행촌에너지 공항주유소</td>\n      <td>서울 강서구 개화동로 420 (개화동)</td>\n      <td>현대오일뱅크</td>\n      <td>02-2665-5189</td>\n      <td>Y</td>\n      <td>-</td>\n      <td>1264</td>\n      <td>1064</td>\n      <td>-</td>\n      <td>강서구</td>\n      <td>37.5743411065587</td>\n      <td>126.802289394945</td>\n    </tr>\n    <tr>\n      <th>31</th>\n      <td>서울특별시</td>\n      <td>강서오곡셀프주유소</td>\n      <td>서울 강서구 벌말로 254 (오곡동)</td>\n      <td>SK에너지</td>\n      <td>032-671-5186</td>\n      <td>Y</td>\n      <td>-</td>\n      <td>1265</td>\n      <td>1065</td>\n      <td>-</td>\n      <td>강서구</td>\n      <td>37.5539472043373</td>\n      <td>126.768359086323</td>\n    </tr>\n  </tbody>\n</table>\n</div>"
     },
     "metadata": {},
     "execution_count": 35
    }
   ],
   "source": [
    "from tqdm import tqdm_notebook\n",
    "\n",
    "lat = []\n",
    "lng = []\n",
    "\n",
    "for k in tqdm_notebook(st1.index):\n",
    "    try:\n",
    "        addr = '서울특별시 강서구 화곡로 302 (화곡동)'\n",
    "        url = 'https://dapi.kakao.com/v2/local/search/address.json?query=' + st1['주소'][k]\n",
    "        result = requests.get(urlparse(url).geturl(),\n",
    "                    headers={\"Authorization\": \"KakaoAK \"+ kmap_key}).json()\n",
    "\n",
    "        lat.append(result['documents'][0]['y'])\n",
    "        lng.append(result['documents'][0]['x'])\n",
    "    except:\n",
    "        lat.append(np.nan)\n",
    "        lng.append(np.nan)\n",
    "        print('Here is nan !')\n",
    "\n",
    "st1['lat'] = lat\n",
    "st1['lng'] = lng\n",
    "st1"
   ]
  },
  {
   "cell_type": "code",
   "execution_count": 88,
   "metadata": {},
   "outputs": [
    {
     "output_type": "execute_result",
     "data": {
      "text/plain": [
       "<folium.folium.Map at 0x148689b8c70>"
      ],
      "text/html": "<div style=\"width:100%;\"><div style=\"position:relative;width:100%;height:0;padding-bottom:60%;\"><span style=\"color:#565656\">Make this Notebook Trusted to load map: File -> Trust Notebook</span><iframe src=\"about:blank\" style=\"position:absolute;width:100%;height:100%;left:0;top:0;border:none !important;\" data-html=%3C%21DOCTYPE%20html%3E%0A%3Chead%3E%20%20%20%20%0A%20%20%20%20%3Cmeta%20http-equiv%3D%22content-type%22%20content%3D%22text/html%3B%20charset%3DUTF-8%22%20/%3E%0A%20%20%20%20%0A%20%20%20%20%20%20%20%20%3Cscript%3E%0A%20%20%20%20%20%20%20%20%20%20%20%20L_NO_TOUCH%20%3D%20false%3B%0A%20%20%20%20%20%20%20%20%20%20%20%20L_DISABLE_3D%20%3D%20false%3B%0A%20%20%20%20%20%20%20%20%3C/script%3E%0A%20%20%20%20%0A%20%20%20%20%3Cscript%20src%3D%22https%3A//cdn.jsdelivr.net/npm/leaflet%401.6.0/dist/leaflet.js%22%3E%3C/script%3E%0A%20%20%20%20%3Cscript%20src%3D%22https%3A//code.jquery.com/jquery-1.12.4.min.js%22%3E%3C/script%3E%0A%20%20%20%20%3Cscript%20src%3D%22https%3A//maxcdn.bootstrapcdn.com/bootstrap/3.2.0/js/bootstrap.min.js%22%3E%3C/script%3E%0A%20%20%20%20%3Cscript%20src%3D%22https%3A//cdnjs.cloudflare.com/ajax/libs/Leaflet.awesome-markers/2.0.2/leaflet.awesome-markers.js%22%3E%3C/script%3E%0A%20%20%20%20%3Clink%20rel%3D%22stylesheet%22%20href%3D%22https%3A//cdn.jsdelivr.net/npm/leaflet%401.6.0/dist/leaflet.css%22/%3E%0A%20%20%20%20%3Clink%20rel%3D%22stylesheet%22%20href%3D%22https%3A//maxcdn.bootstrapcdn.com/bootstrap/3.2.0/css/bootstrap.min.css%22/%3E%0A%20%20%20%20%3Clink%20rel%3D%22stylesheet%22%20href%3D%22https%3A//maxcdn.bootstrapcdn.com/bootstrap/3.2.0/css/bootstrap-theme.min.css%22/%3E%0A%20%20%20%20%3Clink%20rel%3D%22stylesheet%22%20href%3D%22https%3A//maxcdn.bootstrapcdn.com/font-awesome/4.6.3/css/font-awesome.min.css%22/%3E%0A%20%20%20%20%3Clink%20rel%3D%22stylesheet%22%20href%3D%22https%3A//cdnjs.cloudflare.com/ajax/libs/Leaflet.awesome-markers/2.0.2/leaflet.awesome-markers.css%22/%3E%0A%20%20%20%20%3Clink%20rel%3D%22stylesheet%22%20href%3D%22https%3A//rawcdn.githack.com/python-visualization/folium/master/folium/templates/leaflet.awesome.rotate.css%22/%3E%0A%20%20%20%20%3Cstyle%3Ehtml%2C%20body%20%7Bwidth%3A%20100%25%3Bheight%3A%20100%25%3Bmargin%3A%200%3Bpadding%3A%200%3B%7D%3C/style%3E%0A%20%20%20%20%3Cstyle%3E%23map%20%7Bposition%3Aabsolute%3Btop%3A0%3Bbottom%3A0%3Bright%3A0%3Bleft%3A0%3B%7D%3C/style%3E%0A%20%20%20%20%0A%20%20%20%20%20%20%20%20%20%20%20%20%3Cmeta%20name%3D%22viewport%22%20content%3D%22width%3Ddevice-width%2C%0A%20%20%20%20%20%20%20%20%20%20%20%20%20%20%20%20initial-scale%3D1.0%2C%20maximum-scale%3D1.0%2C%20user-scalable%3Dno%22%20/%3E%0A%20%20%20%20%20%20%20%20%20%20%20%20%3Cstyle%3E%0A%20%20%20%20%20%20%20%20%20%20%20%20%20%20%20%20%23map_51b9ac73977b4065953d2b7209d04f6e%20%7B%0A%20%20%20%20%20%20%20%20%20%20%20%20%20%20%20%20%20%20%20%20position%3A%20relative%3B%0A%20%20%20%20%20%20%20%20%20%20%20%20%20%20%20%20%20%20%20%20width%3A%20100.0%25%3B%0A%20%20%20%20%20%20%20%20%20%20%20%20%20%20%20%20%20%20%20%20height%3A%20100.0%25%3B%0A%20%20%20%20%20%20%20%20%20%20%20%20%20%20%20%20%20%20%20%20left%3A%200.0%25%3B%0A%20%20%20%20%20%20%20%20%20%20%20%20%20%20%20%20%20%20%20%20top%3A%200.0%25%3B%0A%20%20%20%20%20%20%20%20%20%20%20%20%20%20%20%20%7D%0A%20%20%20%20%20%20%20%20%20%20%20%20%3C/style%3E%0A%20%20%20%20%20%20%20%20%0A%3C/head%3E%0A%3Cbody%3E%20%20%20%20%0A%20%20%20%20%0A%20%20%20%20%20%20%20%20%20%20%20%20%3Cdiv%20class%3D%22folium-map%22%20id%3D%22map_51b9ac73977b4065953d2b7209d04f6e%22%20%3E%3C/div%3E%0A%20%20%20%20%20%20%20%20%0A%3C/body%3E%0A%3Cscript%3E%20%20%20%20%0A%20%20%20%20%0A%20%20%20%20%20%20%20%20%20%20%20%20var%20map_51b9ac73977b4065953d2b7209d04f6e%20%3D%20L.map%28%0A%20%20%20%20%20%20%20%20%20%20%20%20%20%20%20%20%22map_51b9ac73977b4065953d2b7209d04f6e%22%2C%0A%20%20%20%20%20%20%20%20%20%20%20%20%20%20%20%20%7B%0A%20%20%20%20%20%20%20%20%20%20%20%20%20%20%20%20%20%20%20%20center%3A%20%5B37.540768%2C%20126.8291784%5D%2C%0A%20%20%20%20%20%20%20%20%20%20%20%20%20%20%20%20%20%20%20%20crs%3A%20L.CRS.EPSG3857%2C%0A%20%20%20%20%20%20%20%20%20%20%20%20%20%20%20%20%20%20%20%20zoom%3A%2012.5%2C%0A%20%20%20%20%20%20%20%20%20%20%20%20%20%20%20%20%20%20%20%20zoomControl%3A%20true%2C%0A%20%20%20%20%20%20%20%20%20%20%20%20%20%20%20%20%20%20%20%20preferCanvas%3A%20false%2C%0A%20%20%20%20%20%20%20%20%20%20%20%20%20%20%20%20%7D%0A%20%20%20%20%20%20%20%20%20%20%20%20%29%3B%0A%0A%20%20%20%20%20%20%20%20%20%20%20%20%0A%0A%20%20%20%20%20%20%20%20%0A%20%20%20%20%0A%20%20%20%20%20%20%20%20%20%20%20%20var%20tile_layer_a551adf56e13432fbf6405399577a21f%20%3D%20L.tileLayer%28%0A%20%20%20%20%20%20%20%20%20%20%20%20%20%20%20%20%22https%3A//%7Bs%7D.tile.openstreetmap.org/%7Bz%7D/%7Bx%7D/%7By%7D.png%22%2C%0A%20%20%20%20%20%20%20%20%20%20%20%20%20%20%20%20%7B%22attribution%22%3A%20%22Data%20by%20%5Cu0026copy%3B%20%5Cu003ca%20href%3D%5C%22http%3A//openstreetmap.org%5C%22%5Cu003eOpenStreetMap%5Cu003c/a%5Cu003e%2C%20under%20%5Cu003ca%20href%3D%5C%22http%3A//www.openstreetmap.org/copyright%5C%22%5Cu003eODbL%5Cu003c/a%5Cu003e.%22%2C%20%22detectRetina%22%3A%20false%2C%20%22maxNativeZoom%22%3A%2018%2C%20%22maxZoom%22%3A%2018%2C%20%22minZoom%22%3A%200%2C%20%22noWrap%22%3A%20false%2C%20%22opacity%22%3A%201%2C%20%22subdomains%22%3A%20%22abc%22%2C%20%22tms%22%3A%20false%7D%0A%20%20%20%20%20%20%20%20%20%20%20%20%29.addTo%28map_51b9ac73977b4065953d2b7209d04f6e%29%3B%0A%20%20%20%20%20%20%20%20%0A%20%20%20%20%0A%20%20%20%20%20%20%20%20%20%20%20%20var%20marker_09a32df67a734bce9b14d2304ebd68e5%20%3D%20L.marker%28%0A%20%20%20%20%20%20%20%20%20%20%20%20%20%20%20%20%5B37.5315624983884%2C%20126.856035365887%5D%2C%0A%20%20%20%20%20%20%20%20%20%20%20%20%20%20%20%20%7B%7D%0A%20%20%20%20%20%20%20%20%20%20%20%20%29.addTo%28map_51b9ac73977b4065953d2b7209d04f6e%29%3B%0A%20%20%20%20%20%20%20%20%0A%20%20%20%20%0A%20%20%20%20%20%20%20%20%20%20%20%20var%20icon_e89bf7d107af40db8e1d697c5e68d7bf%20%3D%20L.AwesomeMarkers.icon%28%0A%20%20%20%20%20%20%20%20%20%20%20%20%20%20%20%20%7B%22extraClasses%22%3A%20%22fa-rotate-0%22%2C%20%22icon%22%3A%20%22info-sign%22%2C%20%22iconColor%22%3A%20%22white%22%2C%20%22markerColor%22%3A%20%22rad%22%2C%20%22prefix%22%3A%20%22glyphicon%22%7D%0A%20%20%20%20%20%20%20%20%20%20%20%20%29%3B%0A%20%20%20%20%20%20%20%20%20%20%20%20marker_09a32df67a734bce9b14d2304ebd68e5.setIcon%28icon_e89bf7d107af40db8e1d697c5e68d7bf%29%3B%0A%20%20%20%20%20%20%20%20%0A%20%20%20%20%0A%20%20%20%20%20%20%20%20var%20popup_82a651918ba24238bf470a5ae3faab2b%20%3D%20L.popup%28%7B%22maxWidth%22%3A%20%22100%25%22%7D%29%3B%0A%0A%20%20%20%20%20%20%20%20%0A%20%20%20%20%20%20%20%20%20%20%20%20var%20html_a40069cdb4144a46a5ed03fc1381cc3f%20%3D%20%24%28%60%3Cdiv%20id%3D%22html_a40069cdb4144a46a5ed03fc1381cc3f%22%20style%3D%22width%3A%20100.0%25%3B%20height%3A%20100.0%25%3B%22%3E%EC%95%8C%EB%9C%B0%EC%A3%BC%EC%9C%A0%EC%86%8C%3C/div%3E%60%29%5B0%5D%3B%0A%20%20%20%20%20%20%20%20%20%20%20%20popup_82a651918ba24238bf470a5ae3faab2b.setContent%28html_a40069cdb4144a46a5ed03fc1381cc3f%29%3B%0A%20%20%20%20%20%20%20%20%0A%0A%20%20%20%20%20%20%20%20marker_09a32df67a734bce9b14d2304ebd68e5.bindPopup%28popup_82a651918ba24238bf470a5ae3faab2b%29%0A%20%20%20%20%20%20%20%20%3B%0A%0A%20%20%20%20%20%20%20%20%0A%20%20%20%20%0A%20%20%20%20%0A%20%20%20%20%20%20%20%20%20%20%20%20marker_09a32df67a734bce9b14d2304ebd68e5.bindTooltip%28%0A%20%20%20%20%20%20%20%20%20%20%20%20%20%20%20%20%60%3Cdiv%3E%0A%20%20%20%20%20%20%20%20%20%20%20%20%20%20%20%20%20%20%20%20%20%EB%89%B4%EC%8B%A0%EC%A0%95%EC%A3%BC%EC%9C%A0%EC%86%8C%2C%20%EA%B0%80%EA%B2%A9%3A1243%0A%20%20%20%20%20%20%20%20%20%20%20%20%20%20%20%20%20%3C/div%3E%60%2C%0A%20%20%20%20%20%20%20%20%20%20%20%20%20%20%20%20%7B%22sticky%22%3A%20true%7D%0A%20%20%20%20%20%20%20%20%20%20%20%20%29%3B%0A%20%20%20%20%20%20%20%20%0A%20%20%20%20%0A%20%20%20%20%20%20%20%20%20%20%20%20var%20marker_05448377196d42beb9ab30ebf66ec2e6%20%3D%20L.marker%28%0A%20%20%20%20%20%20%20%20%20%20%20%20%20%20%20%20%5B37.5407680113225%2C%20126.8414715329%5D%2C%0A%20%20%20%20%20%20%20%20%20%20%20%20%20%20%20%20%7B%7D%0A%20%20%20%20%20%20%20%20%20%20%20%20%29.addTo%28map_51b9ac73977b4065953d2b7209d04f6e%29%3B%0A%20%20%20%20%20%20%20%20%0A%20%20%20%20%0A%20%20%20%20%20%20%20%20%20%20%20%20var%20icon_904f04445ea74332a2bf1ebe2a60faa1%20%3D%20L.AwesomeMarkers.icon%28%0A%20%20%20%20%20%20%20%20%20%20%20%20%20%20%20%20%7B%22extraClasses%22%3A%20%22fa-rotate-0%22%2C%20%22icon%22%3A%20%22info-sign%22%2C%20%22iconColor%22%3A%20%22white%22%2C%20%22markerColor%22%3A%20%22rad%22%2C%20%22prefix%22%3A%20%22glyphicon%22%7D%0A%20%20%20%20%20%20%20%20%20%20%20%20%29%3B%0A%20%20%20%20%20%20%20%20%20%20%20%20marker_05448377196d42beb9ab30ebf66ec2e6.setIcon%28icon_904f04445ea74332a2bf1ebe2a60faa1%29%3B%0A%20%20%20%20%20%20%20%20%0A%20%20%20%20%0A%20%20%20%20%20%20%20%20var%20popup_aeb1e19a146f4725a2d590e3c21e34ce%20%3D%20L.popup%28%7B%22maxWidth%22%3A%20%22100%25%22%7D%29%3B%0A%0A%20%20%20%20%20%20%20%20%0A%20%20%20%20%20%20%20%20%20%20%20%20var%20html_03e03ea8247544b99cec1a3dffffb571%20%3D%20%24%28%60%3Cdiv%20id%3D%22html_03e03ea8247544b99cec1a3dffffb571%22%20style%3D%22width%3A%20100.0%25%3B%20height%3A%20100.0%25%3B%22%3E%EC%95%8C%EB%9C%B0%EC%A3%BC%EC%9C%A0%EC%86%8C%3C/div%3E%60%29%5B0%5D%3B%0A%20%20%20%20%20%20%20%20%20%20%20%20popup_aeb1e19a146f4725a2d590e3c21e34ce.setContent%28html_03e03ea8247544b99cec1a3dffffb571%29%3B%0A%20%20%20%20%20%20%20%20%0A%0A%20%20%20%20%20%20%20%20marker_05448377196d42beb9ab30ebf66ec2e6.bindPopup%28popup_aeb1e19a146f4725a2d590e3c21e34ce%29%0A%20%20%20%20%20%20%20%20%3B%0A%0A%20%20%20%20%20%20%20%20%0A%20%20%20%20%0A%20%20%20%20%0A%20%20%20%20%20%20%20%20%20%20%20%20marker_05448377196d42beb9ab30ebf66ec2e6.bindTooltip%28%0A%20%20%20%20%20%20%20%20%20%20%20%20%20%20%20%20%60%3Cdiv%3E%0A%20%20%20%20%20%20%20%20%20%20%20%20%20%20%20%20%20%20%20%20%20%ED%99%94%EA%B3%A1%EC%97%AD%EC%A3%BC%EC%9C%A0%EC%86%8C%2C%20%EA%B0%80%EA%B2%A9%3A1243%0A%20%20%20%20%20%20%20%20%20%20%20%20%20%20%20%20%20%3C/div%3E%60%2C%0A%20%20%20%20%20%20%20%20%20%20%20%20%20%20%20%20%7B%22sticky%22%3A%20true%7D%0A%20%20%20%20%20%20%20%20%20%20%20%20%29%3B%0A%20%20%20%20%20%20%20%20%0A%20%20%20%20%0A%20%20%20%20%20%20%20%20%20%20%20%20var%20marker_d13e911118b84ffeb04f38c939ca9e0d%20%3D%20L.marker%28%0A%20%20%20%20%20%20%20%20%20%20%20%20%20%20%20%20%5B37.5339097605129%2C%20126.829178494291%5D%2C%0A%20%20%20%20%20%20%20%20%20%20%20%20%20%20%20%20%7B%7D%0A%20%20%20%20%20%20%20%20%20%20%20%20%29.addTo%28map_51b9ac73977b4065953d2b7209d04f6e%29%3B%0A%20%20%20%20%20%20%20%20%0A%20%20%20%20%0A%20%20%20%20%20%20%20%20%20%20%20%20var%20icon_37eda6b5448242a78297693e27d8306a%20%3D%20L.AwesomeMarkers.icon%28%0A%20%20%20%20%20%20%20%20%20%20%20%20%20%20%20%20%7B%22extraClasses%22%3A%20%22fa-rotate-0%22%2C%20%22icon%22%3A%20%22info-sign%22%2C%20%22iconColor%22%3A%20%22white%22%2C%20%22markerColor%22%3A%20%22blue%22%2C%20%22prefix%22%3A%20%22glyphicon%22%7D%0A%20%20%20%20%20%20%20%20%20%20%20%20%29%3B%0A%20%20%20%20%20%20%20%20%20%20%20%20marker_d13e911118b84ffeb04f38c939ca9e0d.setIcon%28icon_37eda6b5448242a78297693e27d8306a%29%3B%0A%20%20%20%20%20%20%20%20%0A%20%20%20%20%0A%20%20%20%20%20%20%20%20var%20popup_e4b2bf41558e42d4b030d8761a4eebb6%20%3D%20L.popup%28%7B%22maxWidth%22%3A%20%22100%25%22%7D%29%3B%0A%0A%20%20%20%20%20%20%20%20%0A%20%20%20%20%20%20%20%20%20%20%20%20var%20html_2e07bcfd691c40da8b6baf6954e7a1df%20%3D%20%24%28%60%3Cdiv%20id%3D%22html_2e07bcfd691c40da8b6baf6954e7a1df%22%20style%3D%22width%3A%20100.0%25%3B%20height%3A%20100.0%25%3B%22%3ES-OIL%3C/div%3E%60%29%5B0%5D%3B%0A%20%20%20%20%20%20%20%20%20%20%20%20popup_e4b2bf41558e42d4b030d8761a4eebb6.setContent%28html_2e07bcfd691c40da8b6baf6954e7a1df%29%3B%0A%20%20%20%20%20%20%20%20%0A%0A%20%20%20%20%20%20%20%20marker_d13e911118b84ffeb04f38c939ca9e0d.bindPopup%28popup_e4b2bf41558e42d4b030d8761a4eebb6%29%0A%20%20%20%20%20%20%20%20%3B%0A%0A%20%20%20%20%20%20%20%20%0A%20%20%20%20%0A%20%20%20%20%0A%20%20%20%20%20%20%20%20%20%20%20%20marker_d13e911118b84ffeb04f38c939ca9e0d.bindTooltip%28%0A%20%20%20%20%20%20%20%20%20%20%20%20%20%20%20%20%60%3Cdiv%3E%0A%20%20%20%20%20%20%20%20%20%20%20%20%20%20%20%20%20%20%20%20%20%ED%98%84%EB%8C%80%EC%A3%BC%EC%9C%A0%EC%86%8C%2C%20%EA%B0%80%EA%B2%A9%3A1249%0A%20%20%20%20%20%20%20%20%20%20%20%20%20%20%20%20%20%3C/div%3E%60%2C%0A%20%20%20%20%20%20%20%20%20%20%20%20%20%20%20%20%7B%22sticky%22%3A%20true%7D%0A%20%20%20%20%20%20%20%20%20%20%20%20%29%3B%0A%20%20%20%20%20%20%20%20%0A%20%20%20%20%0A%20%20%20%20%20%20%20%20%20%20%20%20var%20marker_59a13e46774149d08610f53d8f3f9fe4%20%3D%20L.marker%28%0A%20%20%20%20%20%20%20%20%20%20%20%20%20%20%20%20%5B37.5311594818326%2C%20126.831011469112%5D%2C%0A%20%20%20%20%20%20%20%20%20%20%20%20%20%20%20%20%7B%7D%0A%20%20%20%20%20%20%20%20%20%20%20%20%29.addTo%28map_51b9ac73977b4065953d2b7209d04f6e%29%3B%0A%20%20%20%20%20%20%20%20%0A%20%20%20%20%0A%20%20%20%20%20%20%20%20%20%20%20%20var%20icon_5b7feda577d2454ab9715ab4bdc38270%20%3D%20L.AwesomeMarkers.icon%28%0A%20%20%20%20%20%20%20%20%20%20%20%20%20%20%20%20%7B%22extraClasses%22%3A%20%22fa-rotate-0%22%2C%20%22icon%22%3A%20%22info-sign%22%2C%20%22iconColor%22%3A%20%22white%22%2C%20%22markerColor%22%3A%20%22blue%22%2C%20%22prefix%22%3A%20%22glyphicon%22%7D%0A%20%20%20%20%20%20%20%20%20%20%20%20%29%3B%0A%20%20%20%20%20%20%20%20%20%20%20%20marker_59a13e46774149d08610f53d8f3f9fe4.setIcon%28icon_5b7feda577d2454ab9715ab4bdc38270%29%3B%0A%20%20%20%20%20%20%20%20%0A%20%20%20%20%0A%20%20%20%20%20%20%20%20var%20popup_f149ab0321914a8e88d81f837454e8d3%20%3D%20L.popup%28%7B%22maxWidth%22%3A%20%22100%25%22%7D%29%3B%0A%0A%20%20%20%20%20%20%20%20%0A%20%20%20%20%20%20%20%20%20%20%20%20var%20html_f04126dbe1114f8aa5c9537687f3b7f3%20%3D%20%24%28%60%3Cdiv%20id%3D%22html_f04126dbe1114f8aa5c9537687f3b7f3%22%20style%3D%22width%3A%20100.0%25%3B%20height%3A%20100.0%25%3B%22%3E%ED%98%84%EB%8C%80%EC%98%A4%EC%9D%BC%EB%B1%85%ED%81%AC%3C/div%3E%60%29%5B0%5D%3B%0A%20%20%20%20%20%20%20%20%20%20%20%20popup_f149ab0321914a8e88d81f837454e8d3.setContent%28html_f04126dbe1114f8aa5c9537687f3b7f3%29%3B%0A%20%20%20%20%20%20%20%20%0A%0A%20%20%20%20%20%20%20%20marker_59a13e46774149d08610f53d8f3f9fe4.bindPopup%28popup_f149ab0321914a8e88d81f837454e8d3%29%0A%20%20%20%20%20%20%20%20%3B%0A%0A%20%20%20%20%20%20%20%20%0A%20%20%20%20%0A%20%20%20%20%0A%20%20%20%20%20%20%20%20%20%20%20%20marker_59a13e46774149d08610f53d8f3f9fe4.bindTooltip%28%0A%20%20%20%20%20%20%20%20%20%20%20%20%20%20%20%20%60%3Cdiv%3E%0A%20%20%20%20%20%20%20%20%20%20%20%20%20%20%20%20%20%20%20%20%20%ED%98%95%EC%82%B0%EC%84%9D%EC%9C%A0%28%EC%A3%BC%29%EC%9B%90%EC%A3%BC%EC%9C%A0%EC%86%8C%2C%20%EA%B0%80%EA%B2%A9%3A1249%0A%20%20%20%20%20%20%20%20%20%20%20%20%20%20%20%20%20%3C/div%3E%60%2C%0A%20%20%20%20%20%20%20%20%20%20%20%20%20%20%20%20%7B%22sticky%22%3A%20true%7D%0A%20%20%20%20%20%20%20%20%20%20%20%20%29%3B%0A%20%20%20%20%20%20%20%20%0A%20%20%20%20%0A%20%20%20%20%20%20%20%20%20%20%20%20var%20marker_86d52f3a4dfd4b09a47ca26fb107ae96%20%3D%20L.marker%28%0A%20%20%20%20%20%20%20%20%20%20%20%20%20%20%20%20%5B37.5282624685753%2C%20126.832956410977%5D%2C%0A%20%20%20%20%20%20%20%20%20%20%20%20%20%20%20%20%7B%7D%0A%20%20%20%20%20%20%20%20%20%20%20%20%29.addTo%28map_51b9ac73977b4065953d2b7209d04f6e%29%3B%0A%20%20%20%20%20%20%20%20%0A%20%20%20%20%0A%20%20%20%20%20%20%20%20%20%20%20%20var%20icon_44827cb642a24514b41c3c5497025aeb%20%3D%20L.AwesomeMarkers.icon%28%0A%20%20%20%20%20%20%20%20%20%20%20%20%20%20%20%20%7B%22extraClasses%22%3A%20%22fa-rotate-0%22%2C%20%22icon%22%3A%20%22info-sign%22%2C%20%22iconColor%22%3A%20%22white%22%2C%20%22markerColor%22%3A%20%22blue%22%2C%20%22prefix%22%3A%20%22glyphicon%22%7D%0A%20%20%20%20%20%20%20%20%20%20%20%20%29%3B%0A%20%20%20%20%20%20%20%20%20%20%20%20marker_86d52f3a4dfd4b09a47ca26fb107ae96.setIcon%28icon_44827cb642a24514b41c3c5497025aeb%29%3B%0A%20%20%20%20%20%20%20%20%0A%20%20%20%20%0A%20%20%20%20%20%20%20%20var%20popup_0cddf116a7e24c52987eaf16375c248a%20%3D%20L.popup%28%7B%22maxWidth%22%3A%20%22100%25%22%7D%29%3B%0A%0A%20%20%20%20%20%20%20%20%0A%20%20%20%20%20%20%20%20%20%20%20%20var%20html_ae0f304a4d21496992efd45042ac2cd5%20%3D%20%24%28%60%3Cdiv%20id%3D%22html_ae0f304a4d21496992efd45042ac2cd5%22%20style%3D%22width%3A%20100.0%25%3B%20height%3A%20100.0%25%3B%22%3ESK%EC%97%90%EB%84%88%EC%A7%80%3C/div%3E%60%29%5B0%5D%3B%0A%20%20%20%20%20%20%20%20%20%20%20%20popup_0cddf116a7e24c52987eaf16375c248a.setContent%28html_ae0f304a4d21496992efd45042ac2cd5%29%3B%0A%20%20%20%20%20%20%20%20%0A%0A%20%20%20%20%20%20%20%20marker_86d52f3a4dfd4b09a47ca26fb107ae96.bindPopup%28popup_0cddf116a7e24c52987eaf16375c248a%29%0A%20%20%20%20%20%20%20%20%3B%0A%0A%20%20%20%20%20%20%20%20%0A%20%20%20%20%0A%20%20%20%20%0A%20%20%20%20%20%20%20%20%20%20%20%20marker_86d52f3a4dfd4b09a47ca26fb107ae96.bindTooltip%28%0A%20%20%20%20%20%20%20%20%20%20%20%20%20%20%20%20%60%3Cdiv%3E%0A%20%20%20%20%20%20%20%20%20%20%20%20%20%20%20%20%20%20%20%20%20%EA%B0%9C%EB%82%98%EB%A6%ACSelf%EC%A3%BC%EC%9C%A0%EC%86%8C%2C%20%EA%B0%80%EA%B2%A9%3A1249%0A%20%20%20%20%20%20%20%20%20%20%20%20%20%20%20%20%20%3C/div%3E%60%2C%0A%20%20%20%20%20%20%20%20%20%20%20%20%20%20%20%20%7B%22sticky%22%3A%20true%7D%0A%20%20%20%20%20%20%20%20%20%20%20%20%29%3B%0A%20%20%20%20%20%20%20%20%0A%20%20%20%20%0A%20%20%20%20%20%20%20%20%20%20%20%20var%20marker_93926a5c0fe94e78a715e3332c9659a5%20%3D%20L.marker%28%0A%20%20%20%20%20%20%20%20%20%20%20%20%20%20%20%20%5B37.5370203692233%2C%20126.834298807985%5D%2C%0A%20%20%20%20%20%20%20%20%20%20%20%20%20%20%20%20%7B%7D%0A%20%20%20%20%20%20%20%20%20%20%20%20%29.addTo%28map_51b9ac73977b4065953d2b7209d04f6e%29%3B%0A%20%20%20%20%20%20%20%20%0A%20%20%20%20%0A%20%20%20%20%20%20%20%20%20%20%20%20var%20icon_c2ba0517418f459fa4d48f69dcf23549%20%3D%20L.AwesomeMarkers.icon%28%0A%20%20%20%20%20%20%20%20%20%20%20%20%20%20%20%20%7B%22extraClasses%22%3A%20%22fa-rotate-0%22%2C%20%22icon%22%3A%20%22info-sign%22%2C%20%22iconColor%22%3A%20%22white%22%2C%20%22markerColor%22%3A%20%22blue%22%2C%20%22prefix%22%3A%20%22glyphicon%22%7D%0A%20%20%20%20%20%20%20%20%20%20%20%20%29%3B%0A%20%20%20%20%20%20%20%20%20%20%20%20marker_93926a5c0fe94e78a715e3332c9659a5.setIcon%28icon_c2ba0517418f459fa4d48f69dcf23549%29%3B%0A%20%20%20%20%20%20%20%20%0A%20%20%20%20%0A%20%20%20%20%20%20%20%20var%20popup_2f629b6d56c549549fa6f456fcc790a7%20%3D%20L.popup%28%7B%22maxWidth%22%3A%20%22100%25%22%7D%29%3B%0A%0A%20%20%20%20%20%20%20%20%0A%20%20%20%20%20%20%20%20%20%20%20%20var%20html_cba5506705fd48a5a6cdf3a294851d97%20%3D%20%24%28%60%3Cdiv%20id%3D%22html_cba5506705fd48a5a6cdf3a294851d97%22%20style%3D%22width%3A%20100.0%25%3B%20height%3A%20100.0%25%3B%22%3ESK%EC%97%90%EB%84%88%EC%A7%80%3C/div%3E%60%29%5B0%5D%3B%0A%20%20%20%20%20%20%20%20%20%20%20%20popup_2f629b6d56c549549fa6f456fcc790a7.setContent%28html_cba5506705fd48a5a6cdf3a294851d97%29%3B%0A%20%20%20%20%20%20%20%20%0A%0A%20%20%20%20%20%20%20%20marker_93926a5c0fe94e78a715e3332c9659a5.bindPopup%28popup_2f629b6d56c549549fa6f456fcc790a7%29%0A%20%20%20%20%20%20%20%20%3B%0A%0A%20%20%20%20%20%20%20%20%0A%20%20%20%20%0A%20%20%20%20%0A%20%20%20%20%20%20%20%20%20%20%20%20marker_93926a5c0fe94e78a715e3332c9659a5.bindTooltip%28%0A%20%20%20%20%20%20%20%20%20%20%20%20%20%20%20%20%60%3Cdiv%3E%0A%20%20%20%20%20%20%20%20%20%20%20%20%20%20%20%20%20%20%20%20%20%EA%B0%80%EB%A1%9C%EA%B3%B5%EC%9B%90%EC%A3%BC%EC%9C%A0%EC%86%8C%2C%20%EA%B0%80%EA%B2%A9%3A1249%0A%20%20%20%20%20%20%20%20%20%20%20%20%20%20%20%20%20%3C/div%3E%60%2C%0A%20%20%20%20%20%20%20%20%20%20%20%20%20%20%20%20%7B%22sticky%22%3A%20true%7D%0A%20%20%20%20%20%20%20%20%20%20%20%20%29%3B%0A%20%20%20%20%20%20%20%20%0A%20%20%20%20%0A%20%20%20%20%20%20%20%20%20%20%20%20var%20marker_261fa77127ac450084149562709a2953%20%3D%20L.marker%28%0A%20%20%20%20%20%20%20%20%20%20%20%20%20%20%20%20%5B37.5303725461437%2C%20126.865511835584%5D%2C%0A%20%20%20%20%20%20%20%20%20%20%20%20%20%20%20%20%7B%7D%0A%20%20%20%20%20%20%20%20%20%20%20%20%29.addTo%28map_51b9ac73977b4065953d2b7209d04f6e%29%3B%0A%20%20%20%20%20%20%20%20%0A%20%20%20%20%0A%20%20%20%20%20%20%20%20%20%20%20%20var%20icon_4e511ebdd1dd4d21a89f1fdb01b4bc4a%20%3D%20L.AwesomeMarkers.icon%28%0A%20%20%20%20%20%20%20%20%20%20%20%20%20%20%20%20%7B%22extraClasses%22%3A%20%22fa-rotate-0%22%2C%20%22icon%22%3A%20%22info-sign%22%2C%20%22iconColor%22%3A%20%22white%22%2C%20%22markerColor%22%3A%20%22blue%22%2C%20%22prefix%22%3A%20%22glyphicon%22%7D%0A%20%20%20%20%20%20%20%20%20%20%20%20%29%3B%0A%20%20%20%20%20%20%20%20%20%20%20%20marker_261fa77127ac450084149562709a2953.setIcon%28icon_4e511ebdd1dd4d21a89f1fdb01b4bc4a%29%3B%0A%20%20%20%20%20%20%20%20%0A%20%20%20%20%0A%20%20%20%20%20%20%20%20var%20popup_2711ed251e5d40ef99aacb5cc494b921%20%3D%20L.popup%28%7B%22maxWidth%22%3A%20%22100%25%22%7D%29%3B%0A%0A%20%20%20%20%20%20%20%20%0A%20%20%20%20%20%20%20%20%20%20%20%20var%20html_8ace370f74804f9d9af5ce0a0c7c6966%20%3D%20%24%28%60%3Cdiv%20id%3D%22html_8ace370f74804f9d9af5ce0a0c7c6966%22%20style%3D%22width%3A%20100.0%25%3B%20height%3A%20100.0%25%3B%22%3E%EC%95%8C%EB%9C%B0%EC%A3%BC%EC%9C%A0%EC%86%8C%3C/div%3E%60%29%5B0%5D%3B%0A%20%20%20%20%20%20%20%20%20%20%20%20popup_2711ed251e5d40ef99aacb5cc494b921.setContent%28html_8ace370f74804f9d9af5ce0a0c7c6966%29%3B%0A%20%20%20%20%20%20%20%20%0A%0A%20%20%20%20%20%20%20%20marker_261fa77127ac450084149562709a2953.bindPopup%28popup_2711ed251e5d40ef99aacb5cc494b921%29%0A%20%20%20%20%20%20%20%20%3B%0A%0A%20%20%20%20%20%20%20%20%0A%20%20%20%20%0A%20%20%20%20%0A%20%20%20%20%20%20%20%20%20%20%20%20marker_261fa77127ac450084149562709a2953.bindTooltip%28%0A%20%20%20%20%20%20%20%20%20%20%20%20%20%20%20%20%60%3Cdiv%3E%0A%20%20%20%20%20%20%20%20%20%20%20%20%20%20%20%20%20%20%20%20%20%EC%96%91%EC%B2%9C%EA%B5%AC%EC%A3%BC%EC%9C%A0%EC%86%8C%2C%20%EA%B0%80%EA%B2%A9%3A1259%0A%20%20%20%20%20%20%20%20%20%20%20%20%20%20%20%20%20%3C/div%3E%60%2C%0A%20%20%20%20%20%20%20%20%20%20%20%20%20%20%20%20%7B%22sticky%22%3A%20true%7D%0A%20%20%20%20%20%20%20%20%20%20%20%20%29%3B%0A%20%20%20%20%20%20%20%20%0A%20%20%20%20%0A%20%20%20%20%20%20%20%20%20%20%20%20var%20marker_ad82271cbc48404381f9c9451fa249de%20%3D%20L.marker%28%0A%20%20%20%20%20%20%20%20%20%20%20%20%20%20%20%20%5B37.5655628801505%2C%20126.812436402704%5D%2C%0A%20%20%20%20%20%20%20%20%20%20%20%20%20%20%20%20%7B%7D%0A%20%20%20%20%20%20%20%20%20%20%20%20%29.addTo%28map_51b9ac73977b4065953d2b7209d04f6e%29%3B%0A%20%20%20%20%20%20%20%20%0A%20%20%20%20%0A%20%20%20%20%20%20%20%20%20%20%20%20var%20icon_a68eaa5abb6c42299c4046aedaa993ca%20%3D%20L.AwesomeMarkers.icon%28%0A%20%20%20%20%20%20%20%20%20%20%20%20%20%20%20%20%7B%22extraClasses%22%3A%20%22fa-rotate-0%22%2C%20%22icon%22%3A%20%22info-sign%22%2C%20%22iconColor%22%3A%20%22white%22%2C%20%22markerColor%22%3A%20%22blue%22%2C%20%22prefix%22%3A%20%22glyphicon%22%7D%0A%20%20%20%20%20%20%20%20%20%20%20%20%29%3B%0A%20%20%20%20%20%20%20%20%20%20%20%20marker_ad82271cbc48404381f9c9451fa249de.setIcon%28icon_a68eaa5abb6c42299c4046aedaa993ca%29%3B%0A%20%20%20%20%20%20%20%20%0A%20%20%20%20%0A%20%20%20%20%20%20%20%20var%20popup_fac5dfde28cb45109d553dbc2a6922b5%20%3D%20L.popup%28%7B%22maxWidth%22%3A%20%22100%25%22%7D%29%3B%0A%0A%20%20%20%20%20%20%20%20%0A%20%20%20%20%20%20%20%20%20%20%20%20var%20html_92183828c6db40ccbecce66558ae0e5a%20%3D%20%24%28%60%3Cdiv%20id%3D%22html_92183828c6db40ccbecce66558ae0e5a%22%20style%3D%22width%3A%20100.0%25%3B%20height%3A%20100.0%25%3B%22%3ESK%EC%97%90%EB%84%88%EC%A7%80%3C/div%3E%60%29%5B0%5D%3B%0A%20%20%20%20%20%20%20%20%20%20%20%20popup_fac5dfde28cb45109d553dbc2a6922b5.setContent%28html_92183828c6db40ccbecce66558ae0e5a%29%3B%0A%20%20%20%20%20%20%20%20%0A%0A%20%20%20%20%20%20%20%20marker_ad82271cbc48404381f9c9451fa249de.bindPopup%28popup_fac5dfde28cb45109d553dbc2a6922b5%29%0A%20%20%20%20%20%20%20%20%3B%0A%0A%20%20%20%20%20%20%20%20%0A%20%20%20%20%0A%20%20%20%20%0A%20%20%20%20%20%20%20%20%20%20%20%20marker_ad82271cbc48404381f9c9451fa249de.bindTooltip%28%0A%20%20%20%20%20%20%20%20%20%20%20%20%20%20%20%20%60%3Cdiv%3E%0A%20%20%20%20%20%20%20%20%20%20%20%20%20%20%20%20%20%20%20%20%20%EB%B0%A9%ED%99%94%EC%A3%BC%EC%9C%A0%EC%86%8C%2C%20%EA%B0%80%EA%B2%A9%3A1263%0A%20%20%20%20%20%20%20%20%20%20%20%20%20%20%20%20%20%3C/div%3E%60%2C%0A%20%20%20%20%20%20%20%20%20%20%20%20%20%20%20%20%7B%22sticky%22%3A%20true%7D%0A%20%20%20%20%20%20%20%20%20%20%20%20%29%3B%0A%20%20%20%20%20%20%20%20%0A%20%20%20%20%0A%20%20%20%20%20%20%20%20%20%20%20%20var%20marker_471a8a1c66be435893fe406e6576ef6a%20%3D%20L.marker%28%0A%20%20%20%20%20%20%20%20%20%20%20%20%20%20%20%20%5B37.5743411065587%2C%20126.802289394945%5D%2C%0A%20%20%20%20%20%20%20%20%20%20%20%20%20%20%20%20%7B%7D%0A%20%20%20%20%20%20%20%20%20%20%20%20%29.addTo%28map_51b9ac73977b4065953d2b7209d04f6e%29%3B%0A%20%20%20%20%20%20%20%20%0A%20%20%20%20%0A%20%20%20%20%20%20%20%20%20%20%20%20var%20icon_2116297221b04ba0aaf68c52bfcd69c0%20%3D%20L.AwesomeMarkers.icon%28%0A%20%20%20%20%20%20%20%20%20%20%20%20%20%20%20%20%7B%22extraClasses%22%3A%20%22fa-rotate-0%22%2C%20%22icon%22%3A%20%22info-sign%22%2C%20%22iconColor%22%3A%20%22white%22%2C%20%22markerColor%22%3A%20%22blue%22%2C%20%22prefix%22%3A%20%22glyphicon%22%7D%0A%20%20%20%20%20%20%20%20%20%20%20%20%29%3B%0A%20%20%20%20%20%20%20%20%20%20%20%20marker_471a8a1c66be435893fe406e6576ef6a.setIcon%28icon_2116297221b04ba0aaf68c52bfcd69c0%29%3B%0A%20%20%20%20%20%20%20%20%0A%20%20%20%20%0A%20%20%20%20%20%20%20%20var%20popup_fa2d394da9aa4bb49f325c8f00c8a006%20%3D%20L.popup%28%7B%22maxWidth%22%3A%20%22100%25%22%7D%29%3B%0A%0A%20%20%20%20%20%20%20%20%0A%20%20%20%20%20%20%20%20%20%20%20%20var%20html_a322bc0606de4c4eb7c4fba6e8f967ec%20%3D%20%24%28%60%3Cdiv%20id%3D%22html_a322bc0606de4c4eb7c4fba6e8f967ec%22%20style%3D%22width%3A%20100.0%25%3B%20height%3A%20100.0%25%3B%22%3E%ED%98%84%EB%8C%80%EC%98%A4%EC%9D%BC%EB%B1%85%ED%81%AC%3C/div%3E%60%29%5B0%5D%3B%0A%20%20%20%20%20%20%20%20%20%20%20%20popup_fa2d394da9aa4bb49f325c8f00c8a006.setContent%28html_a322bc0606de4c4eb7c4fba6e8f967ec%29%3B%0A%20%20%20%20%20%20%20%20%0A%0A%20%20%20%20%20%20%20%20marker_471a8a1c66be435893fe406e6576ef6a.bindPopup%28popup_fa2d394da9aa4bb49f325c8f00c8a006%29%0A%20%20%20%20%20%20%20%20%3B%0A%0A%20%20%20%20%20%20%20%20%0A%20%20%20%20%0A%20%20%20%20%0A%20%20%20%20%20%20%20%20%20%20%20%20marker_471a8a1c66be435893fe406e6576ef6a.bindTooltip%28%0A%20%20%20%20%20%20%20%20%20%20%20%20%20%20%20%20%60%3Cdiv%3E%0A%20%20%20%20%20%20%20%20%20%20%20%20%20%20%20%20%20%20%20%20%20%ED%96%89%EC%B4%8C%EC%97%90%EB%84%88%EC%A7%80%20%EA%B3%B5%ED%95%AD%EC%A3%BC%EC%9C%A0%EC%86%8C%2C%20%EA%B0%80%EA%B2%A9%3A1264%0A%20%20%20%20%20%20%20%20%20%20%20%20%20%20%20%20%20%3C/div%3E%60%2C%0A%20%20%20%20%20%20%20%20%20%20%20%20%20%20%20%20%7B%22sticky%22%3A%20true%7D%0A%20%20%20%20%20%20%20%20%20%20%20%20%29%3B%0A%20%20%20%20%20%20%20%20%0A%20%20%20%20%0A%20%20%20%20%20%20%20%20%20%20%20%20var%20marker_61260e3608964b73aa6c1a82abe0ebc5%20%3D%20L.marker%28%0A%20%20%20%20%20%20%20%20%20%20%20%20%20%20%20%20%5B37.5539472043373%2C%20126.768359086323%5D%2C%0A%20%20%20%20%20%20%20%20%20%20%20%20%20%20%20%20%7B%7D%0A%20%20%20%20%20%20%20%20%20%20%20%20%29.addTo%28map_51b9ac73977b4065953d2b7209d04f6e%29%3B%0A%20%20%20%20%20%20%20%20%0A%20%20%20%20%0A%20%20%20%20%20%20%20%20%20%20%20%20var%20icon_8dfa4ef774a74ab883765fdaa08aa1c4%20%3D%20L.AwesomeMarkers.icon%28%0A%20%20%20%20%20%20%20%20%20%20%20%20%20%20%20%20%7B%22extraClasses%22%3A%20%22fa-rotate-0%22%2C%20%22icon%22%3A%20%22info-sign%22%2C%20%22iconColor%22%3A%20%22white%22%2C%20%22markerColor%22%3A%20%22blue%22%2C%20%22prefix%22%3A%20%22glyphicon%22%7D%0A%20%20%20%20%20%20%20%20%20%20%20%20%29%3B%0A%20%20%20%20%20%20%20%20%20%20%20%20marker_61260e3608964b73aa6c1a82abe0ebc5.setIcon%28icon_8dfa4ef774a74ab883765fdaa08aa1c4%29%3B%0A%20%20%20%20%20%20%20%20%0A%20%20%20%20%0A%20%20%20%20%20%20%20%20var%20popup_ca5520a7ef4e429890aae83a6e84505a%20%3D%20L.popup%28%7B%22maxWidth%22%3A%20%22100%25%22%7D%29%3B%0A%0A%20%20%20%20%20%20%20%20%0A%20%20%20%20%20%20%20%20%20%20%20%20var%20html_505474c634df4bf6bb6402357a381811%20%3D%20%24%28%60%3Cdiv%20id%3D%22html_505474c634df4bf6bb6402357a381811%22%20style%3D%22width%3A%20100.0%25%3B%20height%3A%20100.0%25%3B%22%3ESK%EC%97%90%EB%84%88%EC%A7%80%3C/div%3E%60%29%5B0%5D%3B%0A%20%20%20%20%20%20%20%20%20%20%20%20popup_ca5520a7ef4e429890aae83a6e84505a.setContent%28html_505474c634df4bf6bb6402357a381811%29%3B%0A%20%20%20%20%20%20%20%20%0A%0A%20%20%20%20%20%20%20%20marker_61260e3608964b73aa6c1a82abe0ebc5.bindPopup%28popup_ca5520a7ef4e429890aae83a6e84505a%29%0A%20%20%20%20%20%20%20%20%3B%0A%0A%20%20%20%20%20%20%20%20%0A%20%20%20%20%0A%20%20%20%20%0A%20%20%20%20%20%20%20%20%20%20%20%20marker_61260e3608964b73aa6c1a82abe0ebc5.bindTooltip%28%0A%20%20%20%20%20%20%20%20%20%20%20%20%20%20%20%20%60%3Cdiv%3E%0A%20%20%20%20%20%20%20%20%20%20%20%20%20%20%20%20%20%20%20%20%20%EA%B0%95%EC%84%9C%EC%98%A4%EA%B3%A1%EC%85%80%ED%94%84%EC%A3%BC%EC%9C%A0%EC%86%8C%2C%20%EA%B0%80%EA%B2%A9%3A1265%0A%20%20%20%20%20%20%20%20%20%20%20%20%20%20%20%20%20%3C/div%3E%60%2C%0A%20%20%20%20%20%20%20%20%20%20%20%20%20%20%20%20%7B%22sticky%22%3A%20true%7D%0A%20%20%20%20%20%20%20%20%20%20%20%20%29%3B%0A%20%20%20%20%20%20%20%20%0A%3C/script%3E onload=\"this.contentDocument.open();this.contentDocument.write(    decodeURIComponent(this.getAttribute('data-html')));this.contentDocument.close();\" allowfullscreen webkitallowfullscreen mozallowfullscreen></iframe></div></div>"
     },
     "metadata": {},
     "execution_count": 88
    }
   ],
   "source": [
    "map = folium.Map(location=[37.5407680,126.8291784], zoom_start=12.5)\n",
    "\n",
    "for s in st1.index:\n",
    "    location = [st1.lat[s], st1.lng[s]]\n",
    "    popup = st1.상표[s]\n",
    "    tooltip = f'{st1.상호[s]}, 가격:{st1.휘발유[s]}'\n",
    "\n",
    "    if st1['휘발유'][s] == 1243:\n",
    "        color='rad'\n",
    "    else:\n",
    "        color='blue'\n",
    "    folium.Marker(location,popup, tooltip, icon=folium.Icon(color=color)\n",
    "    ).add_to(map)\n",
    "map"
   ]
  },
  {
   "cell_type": "code",
   "execution_count": null,
   "metadata": {},
   "outputs": [],
   "source": []
  }
 ]
}