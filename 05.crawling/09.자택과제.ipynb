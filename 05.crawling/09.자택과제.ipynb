{
 "metadata": {
  "language_info": {
   "codemirror_mode": {
    "name": "ipython",
    "version": 3
   },
   "file_extension": ".py",
   "mimetype": "text/x-python",
   "name": "python",
   "nbconvert_exporter": "python",
   "pygments_lexer": "ipython3",
   "version": "3.8.3-final"
  },
  "orig_nbformat": 2,
  "kernelspec": {
   "name": "Python 3.8.3 64-bit ('base': conda)",
   "display_name": "Python 3.8.3 64-bit ('base': conda)",
   "metadata": {
    "interpreter": {
     "hash": "c2224539028b414c7f0940cdc86eeb3c7deaf138deef25179eca5056c4d821b9"
    }
   }
  }
 },
 "nbformat": 4,
 "nbformat_minor": 2,
 "cells": [
  {
   "cell_type": "code",
   "execution_count": 1,
   "metadata": {},
   "outputs": [],
   "source": [
    "import requests\n",
    "from urllib.parse import urlparse, quote\n",
    "import pandas as pd"
   ]
  },
  {
   "cell_type": "code",
   "execution_count": 2,
   "metadata": {},
   "outputs": [],
   "source": [
    "import time\n",
    "from selenium import webdriver\n",
    "from selenium.webdriver.common.keys import Keys"
   ]
  },
  {
   "cell_type": "code",
   "execution_count": 3,
   "metadata": {},
   "outputs": [],
   "source": [
    "driver = webdriver.Chrome('./chromedriver')\n",
    "driver.get('http://www.opinet.co.kr/searRgSelect.do')\n",
    "time.sleep(1)\n",
    "\n",
    "driver.find_element_by_css_selector('.ic_m1').click()\n",
    "time.sleep(2)\n",
    "\n",
    "region = driver.find_element_by_xpath('//*[@id=\"SIGUNGU_NM0\"]')\n",
    "gu_list = region.find_elements_by_tag_name('option')\n",
    "\n",
    "gu_names = [gu.get_attribute('value') for gu in gu_list]\n",
    "del gu_names[0]"
   ]
  },
  {
   "cell_type": "code",
   "execution_count": 4,
   "metadata": {},
   "outputs": [],
   "source": [
    "for gu in gu_names:\n",
    "    region = driver.find_element_by_id('SIGUNGU_NM0')\n",
    "    region.send_keys(gu)\n",
    "    time.sleep(1)\n",
    "\n",
    "    driver.find_element_by_xpath('//*[@id=\"glopopd_excel\"]/span').click()\n",
    "    time.sleep(2)"
   ]
  },
  {
   "cell_type": "code",
   "execution_count": 3,
   "metadata": {},
   "outputs": [],
   "source": [
    "import pandas as pd\n",
    "from glob import glob"
   ]
  },
  {
   "cell_type": "code",
   "execution_count": 4,
   "metadata": {},
   "outputs": [
    {
     "output_type": "execute_result",
     "data": {
      "text/plain": [
       "['./station_data02\\\\지역_위치별(주유소) (1).xls',\n",
       " './station_data02\\\\지역_위치별(주유소) (10).xls',\n",
       " './station_data02\\\\지역_위치별(주유소) (11).xls',\n",
       " './station_data02\\\\지역_위치별(주유소) (12).xls',\n",
       " './station_data02\\\\지역_위치별(주유소) (13).xls',\n",
       " './station_data02\\\\지역_위치별(주유소) (14).xls',\n",
       " './station_data02\\\\지역_위치별(주유소) (15).xls',\n",
       " './station_data02\\\\지역_위치별(주유소) (16).xls',\n",
       " './station_data02\\\\지역_위치별(주유소) (17).xls',\n",
       " './station_data02\\\\지역_위치별(주유소) (18).xls',\n",
       " './station_data02\\\\지역_위치별(주유소) (19).xls',\n",
       " './station_data02\\\\지역_위치별(주유소) (2).xls',\n",
       " './station_data02\\\\지역_위치별(주유소) (20).xls',\n",
       " './station_data02\\\\지역_위치별(주유소) (21).xls',\n",
       " './station_data02\\\\지역_위치별(주유소) (22).xls',\n",
       " './station_data02\\\\지역_위치별(주유소) (23).xls',\n",
       " './station_data02\\\\지역_위치별(주유소) (24).xls',\n",
       " './station_data02\\\\지역_위치별(주유소) (3).xls',\n",
       " './station_data02\\\\지역_위치별(주유소) (4).xls',\n",
       " './station_data02\\\\지역_위치별(주유소) (5).xls',\n",
       " './station_data02\\\\지역_위치별(주유소) (6).xls',\n",
       " './station_data02\\\\지역_위치별(주유소) (7).xls',\n",
       " './station_data02\\\\지역_위치별(주유소) (8).xls',\n",
       " './station_data02\\\\지역_위치별(주유소) (9).xls',\n",
       " './station_data02\\\\지역_위치별(주유소).xls']"
      ]
     },
     "metadata": {},
     "execution_count": 4
    }
   ],
   "source": [
    "glob('./station_data02/지역*.xls')"
   ]
  },
  {
   "cell_type": "code",
   "execution_count": 5,
   "metadata": {},
   "outputs": [],
   "source": [
    "station_files = glob('./station_data02/지역*.xls')\n",
    "tmp_raw = []\n",
    "\n",
    "for file_name in station_files:\n",
    "    tmp = pd.read_excel(file_name, header=2)\n",
    "    tmp_raw.append(tmp)\n",
    "\n",
    "station_raw = pd.concat(tmp_raw)"
   ]
  },
  {
   "cell_type": "code",
   "execution_count": 6,
   "metadata": {},
   "outputs": [
    {
     "output_type": "stream",
     "name": "stdout",
     "text": [
      "<class 'pandas.core.frame.DataFrame'>\nInt64Index: 498 entries, 0 to 39\nData columns (total 10 columns):\n #   Column  Non-Null Count  Dtype \n---  ------  --------------  ----- \n 0   지역      498 non-null    object\n 1   상호      498 non-null    object\n 2   주소      498 non-null    object\n 3   상표      498 non-null    object\n 4   전화번호    498 non-null    object\n 5   셀프여부    498 non-null    object\n 6   고급휘발유   498 non-null    object\n 7   휘발유     498 non-null    object\n 8   경유      498 non-null    object\n 9   실내등유    498 non-null    object\ndtypes: object(10)\nmemory usage: 42.8+ KB\n"
     ]
    }
   ],
   "source": [
    "station_raw.info()"
   ]
  },
  {
   "cell_type": "code",
   "execution_count": 7,
   "metadata": {},
   "outputs": [
    {
     "output_type": "execute_result",
     "data": {
      "text/plain": [
       "       지역                    상호                         주소      상표  \\\n",
       "0   서울특별시                구천면주유소      서울 강동구 구천면로 357 (암사동)  현대오일뱅크   \n",
       "1   서울특별시         지에스칼텍스㈜ 신월주유소     서울 강동구 양재대로 1323 (성내동)   GS칼텍스   \n",
       "2   서울특별시     현대오일뱅크㈜직영 고속셀프주유소           서울 강동구 천호대로 1246  현대오일뱅크   \n",
       "3   서울특별시     현대오일뱅크㈜직영 명일셀프주유소       서울 강동구 고덕로 168 (명일동)  현대오일뱅크   \n",
       "4   서울특별시               방아다리주유소       서울 강동구 동남로 811 (명일동)   SK에너지   \n",
       "5   서울특별시       대성석유(주)직영 길동주유소           서울 강동구 천호대로 1168   GS칼텍스   \n",
       "6   서울특별시        지에스칼텍스㈜ 동서울주유소     서울 강동구 천호대로 1456 (상일동)   GS칼텍스   \n",
       "7   서울특별시     현대오일뱅크㈜직영 암사셀프주유소      서울 강동구 올림픽로 749 (암사동)  현대오일뱅크   \n",
       "8   서울특별시  (주)소모에너지엔테크놀러지 성내주유소      서울 강동구 올림픽로 578 (성내동)   GS칼텍스   \n",
       "9   서울특별시       (주)퍼스트오일 코알라주유소  서울특별시 강동구  올림픽로 556 (성내동)   S-OIL   \n",
       "10  서울특별시              sk해뜨는주유소      서울 강동구  상일로 132 (강일동)   SK에너지   \n",
       "\n",
       "            전화번호 셀프여부 고급휘발유   휘발유    경유  실내등유  \n",
       "0    02-441-0536    N     -  1374  1187     -  \n",
       "1    02-475-2600    N  1585  1385  1188  1000  \n",
       "2    02-487-2030    Y  1598  1386  1188   895  \n",
       "3   02-3428-1739    Y  1625  1395  1198     -  \n",
       "4    02-442-5145    Y     -  1395  1195   975  \n",
       "5    02-474-7222    N  1598  1398  1198  1000  \n",
       "6    02-426-5372    Y     -  1398  1205     -  \n",
       "7   02-3427-2043    Y  1598  1398  1198     -  \n",
       "8    02-479-3838    Y     -  1398  1198     -  \n",
       "9    02-484-1162    Y     -  1398  1198     -  \n",
       "10   02-442-7801    Y     -  1415  1238  1000  "
      ],
      "text/html": "<div>\n<style scoped>\n    .dataframe tbody tr th:only-of-type {\n        vertical-align: middle;\n    }\n\n    .dataframe tbody tr th {\n        vertical-align: top;\n    }\n\n    .dataframe thead th {\n        text-align: right;\n    }\n</style>\n<table border=\"1\" class=\"dataframe\">\n  <thead>\n    <tr style=\"text-align: right;\">\n      <th></th>\n      <th>지역</th>\n      <th>상호</th>\n      <th>주소</th>\n      <th>상표</th>\n      <th>전화번호</th>\n      <th>셀프여부</th>\n      <th>고급휘발유</th>\n      <th>휘발유</th>\n      <th>경유</th>\n      <th>실내등유</th>\n    </tr>\n  </thead>\n  <tbody>\n    <tr>\n      <th>0</th>\n      <td>서울특별시</td>\n      <td>구천면주유소</td>\n      <td>서울 강동구 구천면로 357 (암사동)</td>\n      <td>현대오일뱅크</td>\n      <td>02-441-0536</td>\n      <td>N</td>\n      <td>-</td>\n      <td>1374</td>\n      <td>1187</td>\n      <td>-</td>\n    </tr>\n    <tr>\n      <th>1</th>\n      <td>서울특별시</td>\n      <td>지에스칼텍스㈜ 신월주유소</td>\n      <td>서울 강동구 양재대로 1323 (성내동)</td>\n      <td>GS칼텍스</td>\n      <td>02-475-2600</td>\n      <td>N</td>\n      <td>1585</td>\n      <td>1385</td>\n      <td>1188</td>\n      <td>1000</td>\n    </tr>\n    <tr>\n      <th>2</th>\n      <td>서울특별시</td>\n      <td>현대오일뱅크㈜직영 고속셀프주유소</td>\n      <td>서울 강동구 천호대로 1246</td>\n      <td>현대오일뱅크</td>\n      <td>02-487-2030</td>\n      <td>Y</td>\n      <td>1598</td>\n      <td>1386</td>\n      <td>1188</td>\n      <td>895</td>\n    </tr>\n    <tr>\n      <th>3</th>\n      <td>서울특별시</td>\n      <td>현대오일뱅크㈜직영 명일셀프주유소</td>\n      <td>서울 강동구 고덕로 168 (명일동)</td>\n      <td>현대오일뱅크</td>\n      <td>02-3428-1739</td>\n      <td>Y</td>\n      <td>1625</td>\n      <td>1395</td>\n      <td>1198</td>\n      <td>-</td>\n    </tr>\n    <tr>\n      <th>4</th>\n      <td>서울특별시</td>\n      <td>방아다리주유소</td>\n      <td>서울 강동구 동남로 811 (명일동)</td>\n      <td>SK에너지</td>\n      <td>02-442-5145</td>\n      <td>Y</td>\n      <td>-</td>\n      <td>1395</td>\n      <td>1195</td>\n      <td>975</td>\n    </tr>\n    <tr>\n      <th>5</th>\n      <td>서울특별시</td>\n      <td>대성석유(주)직영 길동주유소</td>\n      <td>서울 강동구 천호대로 1168</td>\n      <td>GS칼텍스</td>\n      <td>02-474-7222</td>\n      <td>N</td>\n      <td>1598</td>\n      <td>1398</td>\n      <td>1198</td>\n      <td>1000</td>\n    </tr>\n    <tr>\n      <th>6</th>\n      <td>서울특별시</td>\n      <td>지에스칼텍스㈜ 동서울주유소</td>\n      <td>서울 강동구 천호대로 1456 (상일동)</td>\n      <td>GS칼텍스</td>\n      <td>02-426-5372</td>\n      <td>Y</td>\n      <td>-</td>\n      <td>1398</td>\n      <td>1205</td>\n      <td>-</td>\n    </tr>\n    <tr>\n      <th>7</th>\n      <td>서울특별시</td>\n      <td>현대오일뱅크㈜직영 암사셀프주유소</td>\n      <td>서울 강동구 올림픽로 749 (암사동)</td>\n      <td>현대오일뱅크</td>\n      <td>02-3427-2043</td>\n      <td>Y</td>\n      <td>1598</td>\n      <td>1398</td>\n      <td>1198</td>\n      <td>-</td>\n    </tr>\n    <tr>\n      <th>8</th>\n      <td>서울특별시</td>\n      <td>(주)소모에너지엔테크놀러지 성내주유소</td>\n      <td>서울 강동구 올림픽로 578 (성내동)</td>\n      <td>GS칼텍스</td>\n      <td>02-479-3838</td>\n      <td>Y</td>\n      <td>-</td>\n      <td>1398</td>\n      <td>1198</td>\n      <td>-</td>\n    </tr>\n    <tr>\n      <th>9</th>\n      <td>서울특별시</td>\n      <td>(주)퍼스트오일 코알라주유소</td>\n      <td>서울특별시 강동구  올림픽로 556 (성내동)</td>\n      <td>S-OIL</td>\n      <td>02-484-1162</td>\n      <td>Y</td>\n      <td>-</td>\n      <td>1398</td>\n      <td>1198</td>\n      <td>-</td>\n    </tr>\n    <tr>\n      <th>10</th>\n      <td>서울특별시</td>\n      <td>sk해뜨는주유소</td>\n      <td>서울 강동구  상일로 132 (강일동)</td>\n      <td>SK에너지</td>\n      <td>02-442-7801</td>\n      <td>Y</td>\n      <td>-</td>\n      <td>1415</td>\n      <td>1238</td>\n      <td>1000</td>\n    </tr>\n  </tbody>\n</table>\n</div>"
     },
     "metadata": {},
     "execution_count": 7
    }
   ],
   "source": [
    "stations = station_raw[['지역','상호','주소','상표','전화번호','셀프여부','고급휘발유','휘발유','경유','실내등유']]\n",
    "stations.head(11)"
   ]
  },
  {
   "cell_type": "code",
   "execution_count": 8,
   "metadata": {},
   "outputs": [
    {
     "output_type": "execute_result",
     "data": {
      "text/plain": [
       "      지역             상호                      주소      상표          전화번호 셀프여부  \\\n",
       "0  서울특별시          현대주유소  서울 양천구 남부순환로 372 (신월동)   S-OIL  02-2608-9231    Y   \n",
       "1  서울특별시    형산석유(주)원주유소        서울 양천구 남부순환로 408  현대오일뱅크  02-2690-5837    N   \n",
       "2  서울특별시     개나리Self주유소  서울 양천구 남부순환로 442 (신월동)   SK에너지  02-2606-5189    Y   \n",
       "3  서울특별시        가로공원주유소  서울 양천구 가로공원로 165 (신월동)   SK에너지  02-2695-3423    N   \n",
       "4  서울특별시         양천구주유소    서울 양천구 국회대로 275 (목동)   알뜰주유소  02-2644-5105    Y   \n",
       "5  서울특별시  지에스칼텍스㈜ 서호주유소        서울 양천구 남부순환로 317   GS칼텍스  02-2602-5172    Y   \n",
       "\n",
       "  고급휘발유   휘발유    경유  실내등유  \n",
       "0     -  1249  1048     -  \n",
       "1     -  1249  1048  1005  \n",
       "2     -  1249  1048     -  \n",
       "3     -  1249  1048     -  \n",
       "4     -  1259  1062     -  \n",
       "5  1419  1269  1069  1015  "
      ],
      "text/html": "<div>\n<style scoped>\n    .dataframe tbody tr th:only-of-type {\n        vertical-align: middle;\n    }\n\n    .dataframe tbody tr th {\n        vertical-align: top;\n    }\n\n    .dataframe thead th {\n        text-align: right;\n    }\n</style>\n<table border=\"1\" class=\"dataframe\">\n  <thead>\n    <tr style=\"text-align: right;\">\n      <th></th>\n      <th>지역</th>\n      <th>상호</th>\n      <th>주소</th>\n      <th>상표</th>\n      <th>전화번호</th>\n      <th>셀프여부</th>\n      <th>고급휘발유</th>\n      <th>휘발유</th>\n      <th>경유</th>\n      <th>실내등유</th>\n    </tr>\n  </thead>\n  <tbody>\n    <tr>\n      <th>0</th>\n      <td>서울특별시</td>\n      <td>현대주유소</td>\n      <td>서울 양천구 남부순환로 372 (신월동)</td>\n      <td>S-OIL</td>\n      <td>02-2608-9231</td>\n      <td>Y</td>\n      <td>-</td>\n      <td>1249</td>\n      <td>1048</td>\n      <td>-</td>\n    </tr>\n    <tr>\n      <th>1</th>\n      <td>서울특별시</td>\n      <td>형산석유(주)원주유소</td>\n      <td>서울 양천구 남부순환로 408</td>\n      <td>현대오일뱅크</td>\n      <td>02-2690-5837</td>\n      <td>N</td>\n      <td>-</td>\n      <td>1249</td>\n      <td>1048</td>\n      <td>1005</td>\n    </tr>\n    <tr>\n      <th>2</th>\n      <td>서울특별시</td>\n      <td>개나리Self주유소</td>\n      <td>서울 양천구 남부순환로 442 (신월동)</td>\n      <td>SK에너지</td>\n      <td>02-2606-5189</td>\n      <td>Y</td>\n      <td>-</td>\n      <td>1249</td>\n      <td>1048</td>\n      <td>-</td>\n    </tr>\n    <tr>\n      <th>3</th>\n      <td>서울특별시</td>\n      <td>가로공원주유소</td>\n      <td>서울 양천구 가로공원로 165 (신월동)</td>\n      <td>SK에너지</td>\n      <td>02-2695-3423</td>\n      <td>N</td>\n      <td>-</td>\n      <td>1249</td>\n      <td>1048</td>\n      <td>-</td>\n    </tr>\n    <tr>\n      <th>4</th>\n      <td>서울특별시</td>\n      <td>양천구주유소</td>\n      <td>서울 양천구 국회대로 275 (목동)</td>\n      <td>알뜰주유소</td>\n      <td>02-2644-5105</td>\n      <td>Y</td>\n      <td>-</td>\n      <td>1259</td>\n      <td>1062</td>\n      <td>-</td>\n    </tr>\n    <tr>\n      <th>5</th>\n      <td>서울특별시</td>\n      <td>지에스칼텍스㈜ 서호주유소</td>\n      <td>서울 양천구 남부순환로 317</td>\n      <td>GS칼텍스</td>\n      <td>02-2602-5172</td>\n      <td>Y</td>\n      <td>1419</td>\n      <td>1269</td>\n      <td>1069</td>\n      <td>1015</td>\n    </tr>\n  </tbody>\n</table>\n</div>"
     },
     "metadata": {},
     "execution_count": 8
    }
   ],
   "source": [
    "stations1 = stations[stations['주소'].str.contains('강서구|양천구')]\n",
    "stations1.head(6)"
   ]
  },
  {
   "cell_type": "code",
   "execution_count": 9,
   "metadata": {},
   "outputs": [],
   "source": [
    "stations2=stations1"
   ]
  },
  {
   "cell_type": "code",
   "execution_count": 10,
   "metadata": {},
   "outputs": [],
   "source": [
    "stations3=stations1"
   ]
  },
  {
   "cell_type": "code",
   "execution_count": 11,
   "metadata": {},
   "outputs": [
    {
     "output_type": "execute_result",
     "data": {
      "text/plain": [
       "       지역               상호                      주소     상표           전화번호 셀프여부  \\\n",
       "28  서울특별시      코리나(주)청룡주유소    서울 강서구 양천로 576 (등촌동)  SK에너지   02-3661-1575    N   \n",
       "29  서울특별시           박물관주유소  서울 강서구 양천로53길 97 (가양동)  GS칼텍스   02-3665-5189    N   \n",
       "30  서울특별시  (주)한진 김포공항제2주유소          서울 강서구 하늘길 112  S-OIL   02-2661-8892    Y   \n",
       "31  서울특별시            참솔에너지    서울 강서구 벌말로 281 (오곡동)  S-OIL  070-8844-8282    Y   \n",
       "32  서울특별시           염창동주유소    서울 강서구 양천로 720 (염창동)  SK에너지   02-3664-4134    N   \n",
       "\n",
       "   고급휘발유   휘발유    경유  실내등유    구  \n",
       "28     -  1398  1208  1100  강서구  \n",
       "29     -  1403  1203  1083  강서구  \n",
       "30     -  1407  1213     -  강서구  \n",
       "31     -  1535  1332     -  강서구  \n",
       "32     -  1688  1468     -  강서구  "
      ],
      "text/html": "<div>\n<style scoped>\n    .dataframe tbody tr th:only-of-type {\n        vertical-align: middle;\n    }\n\n    .dataframe tbody tr th {\n        vertical-align: top;\n    }\n\n    .dataframe thead th {\n        text-align: right;\n    }\n</style>\n<table border=\"1\" class=\"dataframe\">\n  <thead>\n    <tr style=\"text-align: right;\">\n      <th></th>\n      <th>지역</th>\n      <th>상호</th>\n      <th>주소</th>\n      <th>상표</th>\n      <th>전화번호</th>\n      <th>셀프여부</th>\n      <th>고급휘발유</th>\n      <th>휘발유</th>\n      <th>경유</th>\n      <th>실내등유</th>\n      <th>구</th>\n    </tr>\n  </thead>\n  <tbody>\n    <tr>\n      <th>28</th>\n      <td>서울특별시</td>\n      <td>코리나(주)청룡주유소</td>\n      <td>서울 강서구 양천로 576 (등촌동)</td>\n      <td>SK에너지</td>\n      <td>02-3661-1575</td>\n      <td>N</td>\n      <td>-</td>\n      <td>1398</td>\n      <td>1208</td>\n      <td>1100</td>\n      <td>강서구</td>\n    </tr>\n    <tr>\n      <th>29</th>\n      <td>서울특별시</td>\n      <td>박물관주유소</td>\n      <td>서울 강서구 양천로53길 97 (가양동)</td>\n      <td>GS칼텍스</td>\n      <td>02-3665-5189</td>\n      <td>N</td>\n      <td>-</td>\n      <td>1403</td>\n      <td>1203</td>\n      <td>1083</td>\n      <td>강서구</td>\n    </tr>\n    <tr>\n      <th>30</th>\n      <td>서울특별시</td>\n      <td>(주)한진 김포공항제2주유소</td>\n      <td>서울 강서구 하늘길 112</td>\n      <td>S-OIL</td>\n      <td>02-2661-8892</td>\n      <td>Y</td>\n      <td>-</td>\n      <td>1407</td>\n      <td>1213</td>\n      <td>-</td>\n      <td>강서구</td>\n    </tr>\n    <tr>\n      <th>31</th>\n      <td>서울특별시</td>\n      <td>참솔에너지</td>\n      <td>서울 강서구 벌말로 281 (오곡동)</td>\n      <td>S-OIL</td>\n      <td>070-8844-8282</td>\n      <td>Y</td>\n      <td>-</td>\n      <td>1535</td>\n      <td>1332</td>\n      <td>-</td>\n      <td>강서구</td>\n    </tr>\n    <tr>\n      <th>32</th>\n      <td>서울특별시</td>\n      <td>염창동주유소</td>\n      <td>서울 강서구 양천로 720 (염창동)</td>\n      <td>SK에너지</td>\n      <td>02-3664-4134</td>\n      <td>N</td>\n      <td>-</td>\n      <td>1688</td>\n      <td>1468</td>\n      <td>-</td>\n      <td>강서구</td>\n    </tr>\n  </tbody>\n</table>\n</div>"
     },
     "metadata": {},
     "execution_count": 11
    }
   ],
   "source": [
    "stations2['구'] = [addr.split()[1] for addr in stations1['주소']]\n",
    "stations2.tail()"
   ]
  },
  {
   "cell_type": "code",
   "execution_count": 12,
   "metadata": {},
   "outputs": [
    {
     "output_type": "execute_result",
     "data": {
      "text/plain": [
       "       지역               상호                      주소     상표           전화번호 셀프여부  \\\n",
       "28  서울특별시      코리나(주)청룡주유소    서울 강서구 양천로 576 (등촌동)  SK에너지   02-3661-1575    N   \n",
       "29  서울특별시           박물관주유소  서울 강서구 양천로53길 97 (가양동)  GS칼텍스   02-3665-5189    N   \n",
       "30  서울특별시  (주)한진 김포공항제2주유소          서울 강서구 하늘길 112  S-OIL   02-2661-8892    Y   \n",
       "31  서울특별시            참솔에너지    서울 강서구 벌말로 281 (오곡동)  S-OIL  070-8844-8282    Y   \n",
       "32  서울특별시           염창동주유소    서울 강서구 양천로 720 (염창동)  SK에너지   02-3664-4134    N   \n",
       "\n",
       "   고급휘발유   휘발유    경유  실내등유    구  \n",
       "28     -  1398  1208  1100  강서구  \n",
       "29     -  1403  1203  1083  강서구  \n",
       "30     -  1407  1213     -  강서구  \n",
       "31     -  1535  1332     -  강서구  \n",
       "32     -  1688  1468     -  강서구  "
      ],
      "text/html": "<div>\n<style scoped>\n    .dataframe tbody tr th:only-of-type {\n        vertical-align: middle;\n    }\n\n    .dataframe tbody tr th {\n        vertical-align: top;\n    }\n\n    .dataframe thead th {\n        text-align: right;\n    }\n</style>\n<table border=\"1\" class=\"dataframe\">\n  <thead>\n    <tr style=\"text-align: right;\">\n      <th></th>\n      <th>지역</th>\n      <th>상호</th>\n      <th>주소</th>\n      <th>상표</th>\n      <th>전화번호</th>\n      <th>셀프여부</th>\n      <th>고급휘발유</th>\n      <th>휘발유</th>\n      <th>경유</th>\n      <th>실내등유</th>\n      <th>구</th>\n    </tr>\n  </thead>\n  <tbody>\n    <tr>\n      <th>28</th>\n      <td>서울특별시</td>\n      <td>코리나(주)청룡주유소</td>\n      <td>서울 강서구 양천로 576 (등촌동)</td>\n      <td>SK에너지</td>\n      <td>02-3661-1575</td>\n      <td>N</td>\n      <td>-</td>\n      <td>1398</td>\n      <td>1208</td>\n      <td>1100</td>\n      <td>강서구</td>\n    </tr>\n    <tr>\n      <th>29</th>\n      <td>서울특별시</td>\n      <td>박물관주유소</td>\n      <td>서울 강서구 양천로53길 97 (가양동)</td>\n      <td>GS칼텍스</td>\n      <td>02-3665-5189</td>\n      <td>N</td>\n      <td>-</td>\n      <td>1403</td>\n      <td>1203</td>\n      <td>1083</td>\n      <td>강서구</td>\n    </tr>\n    <tr>\n      <th>30</th>\n      <td>서울특별시</td>\n      <td>(주)한진 김포공항제2주유소</td>\n      <td>서울 강서구 하늘길 112</td>\n      <td>S-OIL</td>\n      <td>02-2661-8892</td>\n      <td>Y</td>\n      <td>-</td>\n      <td>1407</td>\n      <td>1213</td>\n      <td>-</td>\n      <td>강서구</td>\n    </tr>\n    <tr>\n      <th>31</th>\n      <td>서울특별시</td>\n      <td>참솔에너지</td>\n      <td>서울 강서구 벌말로 281 (오곡동)</td>\n      <td>S-OIL</td>\n      <td>070-8844-8282</td>\n      <td>Y</td>\n      <td>-</td>\n      <td>1535</td>\n      <td>1332</td>\n      <td>-</td>\n      <td>강서구</td>\n    </tr>\n    <tr>\n      <th>32</th>\n      <td>서울특별시</td>\n      <td>염창동주유소</td>\n      <td>서울 강서구 양천로 720 (염창동)</td>\n      <td>SK에너지</td>\n      <td>02-3664-4134</td>\n      <td>N</td>\n      <td>-</td>\n      <td>1688</td>\n      <td>1468</td>\n      <td>-</td>\n      <td>강서구</td>\n    </tr>\n  </tbody>\n</table>\n</div>"
     },
     "metadata": {},
     "execution_count": 12
    }
   ],
   "source": [
    "stations3['구'] = [addr.split()[1] for addr in stations1['주소']]\n",
    "stations3.tail()"
   ]
  },
  {
   "cell_type": "code",
   "execution_count": 13,
   "metadata": {},
   "outputs": [
    {
     "output_type": "execute_result",
     "data": {
      "text/plain": [
       "array(['양천구', '강서구'], dtype=object)"
      ]
     },
     "metadata": {},
     "execution_count": 13
    }
   ],
   "source": [
    "stations2['구'].unique() "
   ]
  },
  {
   "cell_type": "code",
   "execution_count": 14,
   "metadata": {},
   "outputs": [
    {
     "output_type": "stream",
     "name": "stdout",
     "text": [
      "<class 'pandas.core.frame.DataFrame'>\nInt64Index: 59 entries, 0 to 32\nData columns (total 11 columns):\n #   Column  Non-Null Count  Dtype \n---  ------  --------------  ----- \n 0   지역      59 non-null     object\n 1   상호      59 non-null     object\n 2   주소      59 non-null     object\n 3   상표      59 non-null     object\n 4   전화번호    59 non-null     object\n 5   셀프여부    59 non-null     object\n 6   고급휘발유   59 non-null     object\n 7   휘발유     59 non-null     object\n 8   경유      59 non-null     object\n 9   실내등유    59 non-null     object\n 10  구       59 non-null     object\ndtypes: object(11)\nmemory usage: 5.5+ KB\n"
     ]
    }
   ],
   "source": [
    "stations2 = stations2[stations2['휘발유'] != '-']\n",
    "stations2.info()"
   ]
  },
  {
   "cell_type": "code",
   "execution_count": 15,
   "metadata": {},
   "outputs": [
    {
     "output_type": "execute_result",
     "data": {
      "text/plain": [
       "       지역                     상호                        주소      상표  \\\n",
       "0   서울특별시                  현대주유소    서울 양천구 남부순환로 372 (신월동)   S-OIL   \n",
       "1   서울특별시            형산석유(주)원주유소          서울 양천구 남부순환로 408  현대오일뱅크   \n",
       "2   서울특별시             개나리Self주유소    서울 양천구 남부순환로 442 (신월동)   SK에너지   \n",
       "3   서울특별시                가로공원주유소    서울 양천구 가로공원로 165 (신월동)   SK에너지   \n",
       "4   서울특별시                 양천구주유소      서울 양천구 국회대로 275 (목동)   알뜰주유소   \n",
       "5   서울특별시          지에스칼텍스㈜ 서호주유소          서울 양천구 남부순환로 317   GS칼텍스   \n",
       "6   서울특별시                  신월주유소      서울 양천구 신월로 193 (신월동)   GS칼텍스   \n",
       "7   서울특별시  현대오일뱅크(주)직영 남부순환셀프주유소    서울 양천구 남부순환로 553 (신월동)  현대오일뱅크   \n",
       "8   서울특별시        지에스이앤알 직영 서울주유소      서울 양천구 신정로 236 (신정동)   GS칼텍스   \n",
       "9   서울특별시               (주)블루에너지      서울 양천구 중앙로 226 (신정동)   SK에너지   \n",
       "10  서울특별시      현대오일뱅크㈜직영 목동셀프주유소      서울 양천구 공항대로 648 (목동)  현대오일뱅크   \n",
       "11  서울특별시          지에스칼텍스㈜ 건지주유소     서울 양천구 안양천로 1171 (목동)   GS칼텍스   \n",
       "12  서울특별시                  목동주유소     서울 양천구 목동중앙로 125 (목동)   SK에너지   \n",
       "13  서울특별시        현대오일뱅크(주) 양천주유소     서울 양천구 안양천로 1179 (목동)  현대오일뱅크   \n",
       "14  서울특별시                 신정동주유소     서울 양천구 안양천로 663 (신정동)  현대오일뱅크   \n",
       "15  서울특별시         (주)삼표에너지 목동주유소      서울 양천구 목동서로 129 (목동)   GS칼텍스   \n",
       "16  서울특별시    현대오일뱅크(주)직영 양천셀프주유소             서울 양천구 목동로 17  현대오일뱅크   \n",
       "17  서울특별시             (주)서부트럭터미날      서울 양천구 신정로 167 (신정동)  현대오일뱅크   \n",
       "18  서울특별시              대농self주유소      서울 양천구 중앙로 331 (신월동)   SK에너지   \n",
       "19  서울특별시   현대오일뱅크(주)직영 신목동셀프주유소         서울 양천구 목동동로10길 13  현대오일뱅크   \n",
       "20  서울특별시         SK에너지(주) 경인주유소     서울 양천구 국회대로 170 (신정동)   SK에너지   \n",
       "21  서울특별시            SK에너지(주) 신평      서울 양천구 목동남로 62 (신정동)   SK에너지   \n",
       "22  서울특별시                  양정주유소     서울 양천구 국회대로 158 (신정동)  현대오일뱅크   \n",
       "23  서울특별시                  신양주유소             서울 양천구 지양로 67   SK에너지   \n",
       "24  서울특별시       현대오일뱅크㈜직영 코리아주유소            서울 양천구 신목로7길 1  현대오일뱅크   \n",
       "25  서울특별시                  평화주유소     서울 양천구 안양천로 657 (신정동)   SK에너지   \n",
       "0   서울특별시                 화곡역주유소  서울특별시 강서구  강서로 154 (화곡동)   알뜰주유소   \n",
       "1   서울특별시                 뉴신정주유소      서울 강서구 곰달래로 207(화곡동)   알뜰주유소   \n",
       "2   서울특별시                  방화주유소    서울 강서구 방화동로 58-2 (방화동)   SK에너지   \n",
       "3   서울특별시            행촌에너지 공항주유소     서울 강서구 개화동로 420 (개화동)  현대오일뱅크   \n",
       "4   서울특별시                  유턴주유소           서울 강서구 남부순환로 57   알뜰주유소   \n",
       "5   서울특별시              강서오곡셀프주유소      서울 강서구 벌말로 254 (오곡동)   SK에너지   \n",
       "6   서울특별시                  목화주유소     서울 강서구 국회대로 251 (화곡동)   SK에너지   \n",
       "7   서울특별시        지에스칼텍스㈜ 경인고속주유소     서울 강서구 국회대로 225 (화곡동)   GS칼텍스   \n",
       "8   서울특별시                 스카이주유소     서울 강서구 개화동로 457 (방화동)   S-OIL   \n",
       "9   서울특별시                하이웨이주유소   서울특별시 강서구 공항대로 432(화곡동)   S-OIL   \n",
       "10  서울특별시    현대오일뱅크㈜직영 강서제일셀프주유소      서울 강서구 화곡로 273 (화곡동)  현대오일뱅크   \n",
       "11  서울특별시    KH에너지(주)직영 KH외발산주유소            서울 강서구 방화대로 30   SK에너지   \n",
       "12  서울특별시                  개화주유소             서울 강서구 양천로 57   SK에너지   \n",
       "13  서울특별시                 신화곡주유소            서울 강서구 국회대로 71   S-OIL   \n",
       "14  서울특별시           현대오일뱅크 등촌주유소      서울 강서구 등촌로 189 (등촌동)  현대오일뱅크   \n",
       "15  서울특별시          (주)한진 김포공항주유소            서울 강서구 하늘길 259   S-OIL   \n",
       "16  서울특별시                화곡현대주유소      서울 강서구 강서로 151 (화곡동)   SK에너지   \n",
       "17  서울특별시                  강서열린점      서울 강서구 등촌로 213 (등촌동)   GS칼텍스   \n",
       "18  서울특별시      현대오일뱅크㈜직영 에어포트주유소     서울 강서구 개화동로 519 (방화동)  현대오일뱅크   \n",
       "19  서울특별시          현대오일뱅크 양화교주유소     서울 강서구 공항대로 653 (염창동)  현대오일뱅크   \n",
       "20  서울특별시                 우장산주유소     서울 강서구 강서로 292 (내발산동)   SK에너지   \n",
       "21  서울특별시         대성석유(주)직영관문주유소           서울 강서구 공항대로 314   GS칼텍스   \n",
       "22  서울특별시         대성석유(주)방화대성주유소            서울 강서구 양천로 176   GS칼텍스   \n",
       "23  서울특별시        대성석유(주) 마곡대성주유소            서울 강서구 강서로 457   GS칼텍스   \n",
       "24  서울특별시                  대성주유소      서울 강서구 강서로 472 (등촌동)   GS칼텍스   \n",
       "25  서울특별시       KH에너지(주)직영 가양주유소      서울 강서구 강서로 498 (가양동)   SK에너지   \n",
       "26  서울특별시                세원제1주유소      서울 강서구 양천로 311 (가양동)   SK에너지   \n",
       "27  서울특별시        현대오일뱅크(주) 가양주유소     서울 강서구  양천로 391 (가양동)  현대오일뱅크   \n",
       "28  서울특별시            코리나(주)청룡주유소      서울 강서구 양천로 576 (등촌동)   SK에너지   \n",
       "29  서울특별시                 박물관주유소    서울 강서구 양천로53길 97 (가양동)   GS칼텍스   \n",
       "30  서울특별시        (주)한진 김포공항제2주유소            서울 강서구 하늘길 112   S-OIL   \n",
       "31  서울특별시                  참솔에너지      서울 강서구 벌말로 281 (오곡동)   S-OIL   \n",
       "32  서울특별시                 염창동주유소      서울 강서구 양천로 720 (염창동)   SK에너지   \n",
       "\n",
       "             전화번호 셀프여부 고급휘발유   휘발유    경유  실내등유    구  \n",
       "0    02-2608-9231    Y     -  1249  1048     -  양천구  \n",
       "1    02-2690-5837    N     -  1249  1048  1005  양천구  \n",
       "2    02-2606-5189    Y     -  1249  1048     -  양천구  \n",
       "3    02-2695-3423    N     -  1249  1048     -  양천구  \n",
       "4    02-2644-5105    Y     -  1259  1062     -  양천구  \n",
       "5    02-2602-5172    Y  1419  1269  1069  1015  양천구  \n",
       "6    02-2603-5182    Y     -  1285  1085  1100  양천구  \n",
       "7    02-2690-5001    Y     -  1299  1099     -  양천구  \n",
       "8    02-2607-9478    N     -  1299  1099     -  양천구  \n",
       "9    02-2646-6212    Y     -  1299  1099     -  양천구  \n",
       "10   02-2648-4204    Y     -  1305  1128     -  양천구  \n",
       "11   02-2644-5108    Y  1495  1308  1118  1030  양천구  \n",
       "12   02-2645-5104    Y     -  1318  1128     -  양천구  \n",
       "13   02-2653-5189    N  1589  1318  1128     -  양천구  \n",
       "14   02-2651-5189    Y     -  1318  1128     -  양천구  \n",
       "15   02-2654-5153    N  1518  1318  1128     -  양천구  \n",
       "16   02-2644-5185    Y  1559  1329  1129     -  양천구  \n",
       "17   02-2614-0047    N     -  1339  1149  1100  양천구  \n",
       "18   02-2694-4966    Y     -  1348  1148     -  양천구  \n",
       "19   02-2642-5188    Y  1599  1349  1149     -  양천구  \n",
       "20   02-2693-4994    Y     -  1359  1159     -  양천구  \n",
       "21   02-2654-5145    N  1524  1359  1159   948  양천구  \n",
       "22   02-2691-5185    N     -  1375  1178     -  양천구  \n",
       "23   02-2608-3312    N     -  1419  1229  1169  양천구  \n",
       "24   02-2646-6121    N  1769  1599  1399     -  양천구  \n",
       "25   02-2647-2122    N  1847  1647  1396     -  양천구  \n",
       "0    02-2691-5151    Y     -  1243  1043     -  강서구  \n",
       "1    02-2601-0077    N     -  1243  1043     -  강서구  \n",
       "2    02-2662-0503    N     -  1263  1063   950  강서구  \n",
       "3    02-2665-5189    Y     -  1264  1064     -  강서구  \n",
       "4    02-2665-5047    Y     -  1265  1065   895  강서구  \n",
       "5    032-671-5186    Y     -  1265  1065     -  강서구  \n",
       "6    02-2654-4564    Y     -  1266  1072     -  강서구  \n",
       "7    02-2608-5151    Y  1416  1266  1072  1100  강서구  \n",
       "8    02-2663-5146    Y  1467  1269  1069     -  강서구  \n",
       "9    02-2605-4000    Y  1457  1287  1127     -  강서구  \n",
       "10   02-2695-4544    Y     -  1289  1147     -  강서구  \n",
       "11   032-677-9497    Y  1689  1289  1089     -  강서구  \n",
       "12   02-2661-5555    Y     -  1297  1097     -  강서구  \n",
       "13   02-2611-3161    Y     -  1315  1115     -  강서구  \n",
       "14   02-2647-5700    N     -  1317  1127     -  강서구  \n",
       "15   02-2662-0422    Y     -  1319  1128  1020  강서구  \n",
       "16   02-2607-1942    Y  1455  1326  1126     -  강서구  \n",
       "17   02-2647-9091    N     -  1327  1127  1250  강서구  \n",
       "18   02-2664-1900    N     -  1339  1129     -  강서구  \n",
       "19   02-3665-2004    N  1539  1339  1169  1000  강서구  \n",
       "20   02-3664-7163    N     -  1358  1187  1000  강서구  \n",
       "21   02-3665-2051    N  1599  1358  1187  1000  강서구  \n",
       "22   02-3663-7781    Y  1599  1365  1175     -  강서구  \n",
       "23   02-3664-7781    Y  1599  1365  1185     -  강서구  \n",
       "24   02-3661-6102    N     -  1385  1195     -  강서구  \n",
       "25   02-3664-6051    N  1689  1385  1195     -  강서구  \n",
       "26   02-3663-5151    Y     -  1389  1189     -  강서구  \n",
       "27   02-3661-9470    N  1599  1389  1189     -  강서구  \n",
       "28   02-3661-1575    N     -  1398  1208  1100  강서구  \n",
       "29   02-3665-5189    N     -  1403  1203  1083  강서구  \n",
       "30   02-2661-8892    Y     -  1407  1213     -  강서구  \n",
       "31  070-8844-8282    Y     -  1535  1332     -  강서구  \n",
       "32   02-3664-4134    N     -  1688  1468     -  강서구  "
      ],
      "text/html": "<div>\n<style scoped>\n    .dataframe tbody tr th:only-of-type {\n        vertical-align: middle;\n    }\n\n    .dataframe tbody tr th {\n        vertical-align: top;\n    }\n\n    .dataframe thead th {\n        text-align: right;\n    }\n</style>\n<table border=\"1\" class=\"dataframe\">\n  <thead>\n    <tr style=\"text-align: right;\">\n      <th></th>\n      <th>지역</th>\n      <th>상호</th>\n      <th>주소</th>\n      <th>상표</th>\n      <th>전화번호</th>\n      <th>셀프여부</th>\n      <th>고급휘발유</th>\n      <th>휘발유</th>\n      <th>경유</th>\n      <th>실내등유</th>\n      <th>구</th>\n    </tr>\n  </thead>\n  <tbody>\n    <tr>\n      <th>0</th>\n      <td>서울특별시</td>\n      <td>현대주유소</td>\n      <td>서울 양천구 남부순환로 372 (신월동)</td>\n      <td>S-OIL</td>\n      <td>02-2608-9231</td>\n      <td>Y</td>\n      <td>-</td>\n      <td>1249</td>\n      <td>1048</td>\n      <td>-</td>\n      <td>양천구</td>\n    </tr>\n    <tr>\n      <th>1</th>\n      <td>서울특별시</td>\n      <td>형산석유(주)원주유소</td>\n      <td>서울 양천구 남부순환로 408</td>\n      <td>현대오일뱅크</td>\n      <td>02-2690-5837</td>\n      <td>N</td>\n      <td>-</td>\n      <td>1249</td>\n      <td>1048</td>\n      <td>1005</td>\n      <td>양천구</td>\n    </tr>\n    <tr>\n      <th>2</th>\n      <td>서울특별시</td>\n      <td>개나리Self주유소</td>\n      <td>서울 양천구 남부순환로 442 (신월동)</td>\n      <td>SK에너지</td>\n      <td>02-2606-5189</td>\n      <td>Y</td>\n      <td>-</td>\n      <td>1249</td>\n      <td>1048</td>\n      <td>-</td>\n      <td>양천구</td>\n    </tr>\n    <tr>\n      <th>3</th>\n      <td>서울특별시</td>\n      <td>가로공원주유소</td>\n      <td>서울 양천구 가로공원로 165 (신월동)</td>\n      <td>SK에너지</td>\n      <td>02-2695-3423</td>\n      <td>N</td>\n      <td>-</td>\n      <td>1249</td>\n      <td>1048</td>\n      <td>-</td>\n      <td>양천구</td>\n    </tr>\n    <tr>\n      <th>4</th>\n      <td>서울특별시</td>\n      <td>양천구주유소</td>\n      <td>서울 양천구 국회대로 275 (목동)</td>\n      <td>알뜰주유소</td>\n      <td>02-2644-5105</td>\n      <td>Y</td>\n      <td>-</td>\n      <td>1259</td>\n      <td>1062</td>\n      <td>-</td>\n      <td>양천구</td>\n    </tr>\n    <tr>\n      <th>5</th>\n      <td>서울특별시</td>\n      <td>지에스칼텍스㈜ 서호주유소</td>\n      <td>서울 양천구 남부순환로 317</td>\n      <td>GS칼텍스</td>\n      <td>02-2602-5172</td>\n      <td>Y</td>\n      <td>1419</td>\n      <td>1269</td>\n      <td>1069</td>\n      <td>1015</td>\n      <td>양천구</td>\n    </tr>\n    <tr>\n      <th>6</th>\n      <td>서울특별시</td>\n      <td>신월주유소</td>\n      <td>서울 양천구 신월로 193 (신월동)</td>\n      <td>GS칼텍스</td>\n      <td>02-2603-5182</td>\n      <td>Y</td>\n      <td>-</td>\n      <td>1285</td>\n      <td>1085</td>\n      <td>1100</td>\n      <td>양천구</td>\n    </tr>\n    <tr>\n      <th>7</th>\n      <td>서울특별시</td>\n      <td>현대오일뱅크(주)직영 남부순환셀프주유소</td>\n      <td>서울 양천구 남부순환로 553 (신월동)</td>\n      <td>현대오일뱅크</td>\n      <td>02-2690-5001</td>\n      <td>Y</td>\n      <td>-</td>\n      <td>1299</td>\n      <td>1099</td>\n      <td>-</td>\n      <td>양천구</td>\n    </tr>\n    <tr>\n      <th>8</th>\n      <td>서울특별시</td>\n      <td>지에스이앤알 직영 서울주유소</td>\n      <td>서울 양천구 신정로 236 (신정동)</td>\n      <td>GS칼텍스</td>\n      <td>02-2607-9478</td>\n      <td>N</td>\n      <td>-</td>\n      <td>1299</td>\n      <td>1099</td>\n      <td>-</td>\n      <td>양천구</td>\n    </tr>\n    <tr>\n      <th>9</th>\n      <td>서울특별시</td>\n      <td>(주)블루에너지</td>\n      <td>서울 양천구 중앙로 226 (신정동)</td>\n      <td>SK에너지</td>\n      <td>02-2646-6212</td>\n      <td>Y</td>\n      <td>-</td>\n      <td>1299</td>\n      <td>1099</td>\n      <td>-</td>\n      <td>양천구</td>\n    </tr>\n    <tr>\n      <th>10</th>\n      <td>서울특별시</td>\n      <td>현대오일뱅크㈜직영 목동셀프주유소</td>\n      <td>서울 양천구 공항대로 648 (목동)</td>\n      <td>현대오일뱅크</td>\n      <td>02-2648-4204</td>\n      <td>Y</td>\n      <td>-</td>\n      <td>1305</td>\n      <td>1128</td>\n      <td>-</td>\n      <td>양천구</td>\n    </tr>\n    <tr>\n      <th>11</th>\n      <td>서울특별시</td>\n      <td>지에스칼텍스㈜ 건지주유소</td>\n      <td>서울 양천구 안양천로 1171 (목동)</td>\n      <td>GS칼텍스</td>\n      <td>02-2644-5108</td>\n      <td>Y</td>\n      <td>1495</td>\n      <td>1308</td>\n      <td>1118</td>\n      <td>1030</td>\n      <td>양천구</td>\n    </tr>\n    <tr>\n      <th>12</th>\n      <td>서울특별시</td>\n      <td>목동주유소</td>\n      <td>서울 양천구 목동중앙로 125 (목동)</td>\n      <td>SK에너지</td>\n      <td>02-2645-5104</td>\n      <td>Y</td>\n      <td>-</td>\n      <td>1318</td>\n      <td>1128</td>\n      <td>-</td>\n      <td>양천구</td>\n    </tr>\n    <tr>\n      <th>13</th>\n      <td>서울특별시</td>\n      <td>현대오일뱅크(주) 양천주유소</td>\n      <td>서울 양천구 안양천로 1179 (목동)</td>\n      <td>현대오일뱅크</td>\n      <td>02-2653-5189</td>\n      <td>N</td>\n      <td>1589</td>\n      <td>1318</td>\n      <td>1128</td>\n      <td>-</td>\n      <td>양천구</td>\n    </tr>\n    <tr>\n      <th>14</th>\n      <td>서울특별시</td>\n      <td>신정동주유소</td>\n      <td>서울 양천구 안양천로 663 (신정동)</td>\n      <td>현대오일뱅크</td>\n      <td>02-2651-5189</td>\n      <td>Y</td>\n      <td>-</td>\n      <td>1318</td>\n      <td>1128</td>\n      <td>-</td>\n      <td>양천구</td>\n    </tr>\n    <tr>\n      <th>15</th>\n      <td>서울특별시</td>\n      <td>(주)삼표에너지 목동주유소</td>\n      <td>서울 양천구 목동서로 129 (목동)</td>\n      <td>GS칼텍스</td>\n      <td>02-2654-5153</td>\n      <td>N</td>\n      <td>1518</td>\n      <td>1318</td>\n      <td>1128</td>\n      <td>-</td>\n      <td>양천구</td>\n    </tr>\n    <tr>\n      <th>16</th>\n      <td>서울특별시</td>\n      <td>현대오일뱅크(주)직영 양천셀프주유소</td>\n      <td>서울 양천구 목동로 17</td>\n      <td>현대오일뱅크</td>\n      <td>02-2644-5185</td>\n      <td>Y</td>\n      <td>1559</td>\n      <td>1329</td>\n      <td>1129</td>\n      <td>-</td>\n      <td>양천구</td>\n    </tr>\n    <tr>\n      <th>17</th>\n      <td>서울특별시</td>\n      <td>(주)서부트럭터미날</td>\n      <td>서울 양천구 신정로 167 (신정동)</td>\n      <td>현대오일뱅크</td>\n      <td>02-2614-0047</td>\n      <td>N</td>\n      <td>-</td>\n      <td>1339</td>\n      <td>1149</td>\n      <td>1100</td>\n      <td>양천구</td>\n    </tr>\n    <tr>\n      <th>18</th>\n      <td>서울특별시</td>\n      <td>대농self주유소</td>\n      <td>서울 양천구 중앙로 331 (신월동)</td>\n      <td>SK에너지</td>\n      <td>02-2694-4966</td>\n      <td>Y</td>\n      <td>-</td>\n      <td>1348</td>\n      <td>1148</td>\n      <td>-</td>\n      <td>양천구</td>\n    </tr>\n    <tr>\n      <th>19</th>\n      <td>서울특별시</td>\n      <td>현대오일뱅크(주)직영 신목동셀프주유소</td>\n      <td>서울 양천구 목동동로10길 13</td>\n      <td>현대오일뱅크</td>\n      <td>02-2642-5188</td>\n      <td>Y</td>\n      <td>1599</td>\n      <td>1349</td>\n      <td>1149</td>\n      <td>-</td>\n      <td>양천구</td>\n    </tr>\n    <tr>\n      <th>20</th>\n      <td>서울특별시</td>\n      <td>SK에너지(주) 경인주유소</td>\n      <td>서울 양천구 국회대로 170 (신정동)</td>\n      <td>SK에너지</td>\n      <td>02-2693-4994</td>\n      <td>Y</td>\n      <td>-</td>\n      <td>1359</td>\n      <td>1159</td>\n      <td>-</td>\n      <td>양천구</td>\n    </tr>\n    <tr>\n      <th>21</th>\n      <td>서울특별시</td>\n      <td>SK에너지(주) 신평</td>\n      <td>서울 양천구 목동남로 62 (신정동)</td>\n      <td>SK에너지</td>\n      <td>02-2654-5145</td>\n      <td>N</td>\n      <td>1524</td>\n      <td>1359</td>\n      <td>1159</td>\n      <td>948</td>\n      <td>양천구</td>\n    </tr>\n    <tr>\n      <th>22</th>\n      <td>서울특별시</td>\n      <td>양정주유소</td>\n      <td>서울 양천구 국회대로 158 (신정동)</td>\n      <td>현대오일뱅크</td>\n      <td>02-2691-5185</td>\n      <td>N</td>\n      <td>-</td>\n      <td>1375</td>\n      <td>1178</td>\n      <td>-</td>\n      <td>양천구</td>\n    </tr>\n    <tr>\n      <th>23</th>\n      <td>서울특별시</td>\n      <td>신양주유소</td>\n      <td>서울 양천구 지양로 67</td>\n      <td>SK에너지</td>\n      <td>02-2608-3312</td>\n      <td>N</td>\n      <td>-</td>\n      <td>1419</td>\n      <td>1229</td>\n      <td>1169</td>\n      <td>양천구</td>\n    </tr>\n    <tr>\n      <th>24</th>\n      <td>서울특별시</td>\n      <td>현대오일뱅크㈜직영 코리아주유소</td>\n      <td>서울 양천구 신목로7길 1</td>\n      <td>현대오일뱅크</td>\n      <td>02-2646-6121</td>\n      <td>N</td>\n      <td>1769</td>\n      <td>1599</td>\n      <td>1399</td>\n      <td>-</td>\n      <td>양천구</td>\n    </tr>\n    <tr>\n      <th>25</th>\n      <td>서울특별시</td>\n      <td>평화주유소</td>\n      <td>서울 양천구 안양천로 657 (신정동)</td>\n      <td>SK에너지</td>\n      <td>02-2647-2122</td>\n      <td>N</td>\n      <td>1847</td>\n      <td>1647</td>\n      <td>1396</td>\n      <td>-</td>\n      <td>양천구</td>\n    </tr>\n    <tr>\n      <th>0</th>\n      <td>서울특별시</td>\n      <td>화곡역주유소</td>\n      <td>서울특별시 강서구  강서로 154 (화곡동)</td>\n      <td>알뜰주유소</td>\n      <td>02-2691-5151</td>\n      <td>Y</td>\n      <td>-</td>\n      <td>1243</td>\n      <td>1043</td>\n      <td>-</td>\n      <td>강서구</td>\n    </tr>\n    <tr>\n      <th>1</th>\n      <td>서울특별시</td>\n      <td>뉴신정주유소</td>\n      <td>서울 강서구 곰달래로 207(화곡동)</td>\n      <td>알뜰주유소</td>\n      <td>02-2601-0077</td>\n      <td>N</td>\n      <td>-</td>\n      <td>1243</td>\n      <td>1043</td>\n      <td>-</td>\n      <td>강서구</td>\n    </tr>\n    <tr>\n      <th>2</th>\n      <td>서울특별시</td>\n      <td>방화주유소</td>\n      <td>서울 강서구 방화동로 58-2 (방화동)</td>\n      <td>SK에너지</td>\n      <td>02-2662-0503</td>\n      <td>N</td>\n      <td>-</td>\n      <td>1263</td>\n      <td>1063</td>\n      <td>950</td>\n      <td>강서구</td>\n    </tr>\n    <tr>\n      <th>3</th>\n      <td>서울특별시</td>\n      <td>행촌에너지 공항주유소</td>\n      <td>서울 강서구 개화동로 420 (개화동)</td>\n      <td>현대오일뱅크</td>\n      <td>02-2665-5189</td>\n      <td>Y</td>\n      <td>-</td>\n      <td>1264</td>\n      <td>1064</td>\n      <td>-</td>\n      <td>강서구</td>\n    </tr>\n    <tr>\n      <th>4</th>\n      <td>서울특별시</td>\n      <td>유턴주유소</td>\n      <td>서울 강서구 남부순환로 57</td>\n      <td>알뜰주유소</td>\n      <td>02-2665-5047</td>\n      <td>Y</td>\n      <td>-</td>\n      <td>1265</td>\n      <td>1065</td>\n      <td>895</td>\n      <td>강서구</td>\n    </tr>\n    <tr>\n      <th>5</th>\n      <td>서울특별시</td>\n      <td>강서오곡셀프주유소</td>\n      <td>서울 강서구 벌말로 254 (오곡동)</td>\n      <td>SK에너지</td>\n      <td>032-671-5186</td>\n      <td>Y</td>\n      <td>-</td>\n      <td>1265</td>\n      <td>1065</td>\n      <td>-</td>\n      <td>강서구</td>\n    </tr>\n    <tr>\n      <th>6</th>\n      <td>서울특별시</td>\n      <td>목화주유소</td>\n      <td>서울 강서구 국회대로 251 (화곡동)</td>\n      <td>SK에너지</td>\n      <td>02-2654-4564</td>\n      <td>Y</td>\n      <td>-</td>\n      <td>1266</td>\n      <td>1072</td>\n      <td>-</td>\n      <td>강서구</td>\n    </tr>\n    <tr>\n      <th>7</th>\n      <td>서울특별시</td>\n      <td>지에스칼텍스㈜ 경인고속주유소</td>\n      <td>서울 강서구 국회대로 225 (화곡동)</td>\n      <td>GS칼텍스</td>\n      <td>02-2608-5151</td>\n      <td>Y</td>\n      <td>1416</td>\n      <td>1266</td>\n      <td>1072</td>\n      <td>1100</td>\n      <td>강서구</td>\n    </tr>\n    <tr>\n      <th>8</th>\n      <td>서울특별시</td>\n      <td>스카이주유소</td>\n      <td>서울 강서구 개화동로 457 (방화동)</td>\n      <td>S-OIL</td>\n      <td>02-2663-5146</td>\n      <td>Y</td>\n      <td>1467</td>\n      <td>1269</td>\n      <td>1069</td>\n      <td>-</td>\n      <td>강서구</td>\n    </tr>\n    <tr>\n      <th>9</th>\n      <td>서울특별시</td>\n      <td>하이웨이주유소</td>\n      <td>서울특별시 강서구 공항대로 432(화곡동)</td>\n      <td>S-OIL</td>\n      <td>02-2605-4000</td>\n      <td>Y</td>\n      <td>1457</td>\n      <td>1287</td>\n      <td>1127</td>\n      <td>-</td>\n      <td>강서구</td>\n    </tr>\n    <tr>\n      <th>10</th>\n      <td>서울특별시</td>\n      <td>현대오일뱅크㈜직영 강서제일셀프주유소</td>\n      <td>서울 강서구 화곡로 273 (화곡동)</td>\n      <td>현대오일뱅크</td>\n      <td>02-2695-4544</td>\n      <td>Y</td>\n      <td>-</td>\n      <td>1289</td>\n      <td>1147</td>\n      <td>-</td>\n      <td>강서구</td>\n    </tr>\n    <tr>\n      <th>11</th>\n      <td>서울특별시</td>\n      <td>KH에너지(주)직영 KH외발산주유소</td>\n      <td>서울 강서구 방화대로 30</td>\n      <td>SK에너지</td>\n      <td>032-677-9497</td>\n      <td>Y</td>\n      <td>1689</td>\n      <td>1289</td>\n      <td>1089</td>\n      <td>-</td>\n      <td>강서구</td>\n    </tr>\n    <tr>\n      <th>12</th>\n      <td>서울특별시</td>\n      <td>개화주유소</td>\n      <td>서울 강서구 양천로 57</td>\n      <td>SK에너지</td>\n      <td>02-2661-5555</td>\n      <td>Y</td>\n      <td>-</td>\n      <td>1297</td>\n      <td>1097</td>\n      <td>-</td>\n      <td>강서구</td>\n    </tr>\n    <tr>\n      <th>13</th>\n      <td>서울특별시</td>\n      <td>신화곡주유소</td>\n      <td>서울 강서구 국회대로 71</td>\n      <td>S-OIL</td>\n      <td>02-2611-3161</td>\n      <td>Y</td>\n      <td>-</td>\n      <td>1315</td>\n      <td>1115</td>\n      <td>-</td>\n      <td>강서구</td>\n    </tr>\n    <tr>\n      <th>14</th>\n      <td>서울특별시</td>\n      <td>현대오일뱅크 등촌주유소</td>\n      <td>서울 강서구 등촌로 189 (등촌동)</td>\n      <td>현대오일뱅크</td>\n      <td>02-2647-5700</td>\n      <td>N</td>\n      <td>-</td>\n      <td>1317</td>\n      <td>1127</td>\n      <td>-</td>\n      <td>강서구</td>\n    </tr>\n    <tr>\n      <th>15</th>\n      <td>서울특별시</td>\n      <td>(주)한진 김포공항주유소</td>\n      <td>서울 강서구 하늘길 259</td>\n      <td>S-OIL</td>\n      <td>02-2662-0422</td>\n      <td>Y</td>\n      <td>-</td>\n      <td>1319</td>\n      <td>1128</td>\n      <td>1020</td>\n      <td>강서구</td>\n    </tr>\n    <tr>\n      <th>16</th>\n      <td>서울특별시</td>\n      <td>화곡현대주유소</td>\n      <td>서울 강서구 강서로 151 (화곡동)</td>\n      <td>SK에너지</td>\n      <td>02-2607-1942</td>\n      <td>Y</td>\n      <td>1455</td>\n      <td>1326</td>\n      <td>1126</td>\n      <td>-</td>\n      <td>강서구</td>\n    </tr>\n    <tr>\n      <th>17</th>\n      <td>서울특별시</td>\n      <td>강서열린점</td>\n      <td>서울 강서구 등촌로 213 (등촌동)</td>\n      <td>GS칼텍스</td>\n      <td>02-2647-9091</td>\n      <td>N</td>\n      <td>-</td>\n      <td>1327</td>\n      <td>1127</td>\n      <td>1250</td>\n      <td>강서구</td>\n    </tr>\n    <tr>\n      <th>18</th>\n      <td>서울특별시</td>\n      <td>현대오일뱅크㈜직영 에어포트주유소</td>\n      <td>서울 강서구 개화동로 519 (방화동)</td>\n      <td>현대오일뱅크</td>\n      <td>02-2664-1900</td>\n      <td>N</td>\n      <td>-</td>\n      <td>1339</td>\n      <td>1129</td>\n      <td>-</td>\n      <td>강서구</td>\n    </tr>\n    <tr>\n      <th>19</th>\n      <td>서울특별시</td>\n      <td>현대오일뱅크 양화교주유소</td>\n      <td>서울 강서구 공항대로 653 (염창동)</td>\n      <td>현대오일뱅크</td>\n      <td>02-3665-2004</td>\n      <td>N</td>\n      <td>1539</td>\n      <td>1339</td>\n      <td>1169</td>\n      <td>1000</td>\n      <td>강서구</td>\n    </tr>\n    <tr>\n      <th>20</th>\n      <td>서울특별시</td>\n      <td>우장산주유소</td>\n      <td>서울 강서구 강서로 292 (내발산동)</td>\n      <td>SK에너지</td>\n      <td>02-3664-7163</td>\n      <td>N</td>\n      <td>-</td>\n      <td>1358</td>\n      <td>1187</td>\n      <td>1000</td>\n      <td>강서구</td>\n    </tr>\n    <tr>\n      <th>21</th>\n      <td>서울특별시</td>\n      <td>대성석유(주)직영관문주유소</td>\n      <td>서울 강서구 공항대로 314</td>\n      <td>GS칼텍스</td>\n      <td>02-3665-2051</td>\n      <td>N</td>\n      <td>1599</td>\n      <td>1358</td>\n      <td>1187</td>\n      <td>1000</td>\n      <td>강서구</td>\n    </tr>\n    <tr>\n      <th>22</th>\n      <td>서울특별시</td>\n      <td>대성석유(주)방화대성주유소</td>\n      <td>서울 강서구 양천로 176</td>\n      <td>GS칼텍스</td>\n      <td>02-3663-7781</td>\n      <td>Y</td>\n      <td>1599</td>\n      <td>1365</td>\n      <td>1175</td>\n      <td>-</td>\n      <td>강서구</td>\n    </tr>\n    <tr>\n      <th>23</th>\n      <td>서울특별시</td>\n      <td>대성석유(주) 마곡대성주유소</td>\n      <td>서울 강서구 강서로 457</td>\n      <td>GS칼텍스</td>\n      <td>02-3664-7781</td>\n      <td>Y</td>\n      <td>1599</td>\n      <td>1365</td>\n      <td>1185</td>\n      <td>-</td>\n      <td>강서구</td>\n    </tr>\n    <tr>\n      <th>24</th>\n      <td>서울특별시</td>\n      <td>대성주유소</td>\n      <td>서울 강서구 강서로 472 (등촌동)</td>\n      <td>GS칼텍스</td>\n      <td>02-3661-6102</td>\n      <td>N</td>\n      <td>-</td>\n      <td>1385</td>\n      <td>1195</td>\n      <td>-</td>\n      <td>강서구</td>\n    </tr>\n    <tr>\n      <th>25</th>\n      <td>서울특별시</td>\n      <td>KH에너지(주)직영 가양주유소</td>\n      <td>서울 강서구 강서로 498 (가양동)</td>\n      <td>SK에너지</td>\n      <td>02-3664-6051</td>\n      <td>N</td>\n      <td>1689</td>\n      <td>1385</td>\n      <td>1195</td>\n      <td>-</td>\n      <td>강서구</td>\n    </tr>\n    <tr>\n      <th>26</th>\n      <td>서울특별시</td>\n      <td>세원제1주유소</td>\n      <td>서울 강서구 양천로 311 (가양동)</td>\n      <td>SK에너지</td>\n      <td>02-3663-5151</td>\n      <td>Y</td>\n      <td>-</td>\n      <td>1389</td>\n      <td>1189</td>\n      <td>-</td>\n      <td>강서구</td>\n    </tr>\n    <tr>\n      <th>27</th>\n      <td>서울특별시</td>\n      <td>현대오일뱅크(주) 가양주유소</td>\n      <td>서울 강서구  양천로 391 (가양동)</td>\n      <td>현대오일뱅크</td>\n      <td>02-3661-9470</td>\n      <td>N</td>\n      <td>1599</td>\n      <td>1389</td>\n      <td>1189</td>\n      <td>-</td>\n      <td>강서구</td>\n    </tr>\n    <tr>\n      <th>28</th>\n      <td>서울특별시</td>\n      <td>코리나(주)청룡주유소</td>\n      <td>서울 강서구 양천로 576 (등촌동)</td>\n      <td>SK에너지</td>\n      <td>02-3661-1575</td>\n      <td>N</td>\n      <td>-</td>\n      <td>1398</td>\n      <td>1208</td>\n      <td>1100</td>\n      <td>강서구</td>\n    </tr>\n    <tr>\n      <th>29</th>\n      <td>서울특별시</td>\n      <td>박물관주유소</td>\n      <td>서울 강서구 양천로53길 97 (가양동)</td>\n      <td>GS칼텍스</td>\n      <td>02-3665-5189</td>\n      <td>N</td>\n      <td>-</td>\n      <td>1403</td>\n      <td>1203</td>\n      <td>1083</td>\n      <td>강서구</td>\n    </tr>\n    <tr>\n      <th>30</th>\n      <td>서울특별시</td>\n      <td>(주)한진 김포공항제2주유소</td>\n      <td>서울 강서구 하늘길 112</td>\n      <td>S-OIL</td>\n      <td>02-2661-8892</td>\n      <td>Y</td>\n      <td>-</td>\n      <td>1407</td>\n      <td>1213</td>\n      <td>-</td>\n      <td>강서구</td>\n    </tr>\n    <tr>\n      <th>31</th>\n      <td>서울특별시</td>\n      <td>참솔에너지</td>\n      <td>서울 강서구 벌말로 281 (오곡동)</td>\n      <td>S-OIL</td>\n      <td>070-8844-8282</td>\n      <td>Y</td>\n      <td>-</td>\n      <td>1535</td>\n      <td>1332</td>\n      <td>-</td>\n      <td>강서구</td>\n    </tr>\n    <tr>\n      <th>32</th>\n      <td>서울특별시</td>\n      <td>염창동주유소</td>\n      <td>서울 강서구 양천로 720 (염창동)</td>\n      <td>SK에너지</td>\n      <td>02-3664-4134</td>\n      <td>N</td>\n      <td>-</td>\n      <td>1688</td>\n      <td>1468</td>\n      <td>-</td>\n      <td>강서구</td>\n    </tr>\n  </tbody>\n</table>\n</div>"
     },
     "metadata": {},
     "execution_count": 15
    }
   ],
   "source": [
    "stations2"
   ]
  },
  {
   "cell_type": "code",
   "execution_count": 23,
   "metadata": {},
   "outputs": [
    {
     "output_type": "stream",
     "name": "stdout",
     "text": [
      "<class 'pandas.core.frame.DataFrame'>\nInt64Index: 6 entries, 5 to 21\nData columns (total 11 columns):\n #   Column  Non-Null Count  Dtype \n---  ------  --------------  ----- \n 0   지역      6 non-null      object\n 1   상호      6 non-null      object\n 2   주소      6 non-null      object\n 3   상표      6 non-null      object\n 4   전화번호    6 non-null      object\n 5   셀프여부    6 non-null      object\n 6   고급휘발유   6 non-null      int64 \n 7   휘발유     6 non-null      object\n 8   경유      6 non-null      object\n 9   실내등유    6 non-null      object\n 10  구       6 non-null      object\ndtypes: int64(1), object(10)\nmemory usage: 576.0+ bytes\n"
     ]
    }
   ],
   "source": [
    "stations2['고급휘발유'] = pd.to_numeric(stations2['고급휘발유'])\n",
    "stations2.info()"
   ]
  },
  {
   "cell_type": "code",
   "execution_count": 16,
   "metadata": {},
   "outputs": [
    {
     "output_type": "stream",
     "name": "stdout",
     "text": [
      "<class 'pandas.core.frame.DataFrame'>\nInt64Index: 59 entries, 0 to 32\nData columns (total 11 columns):\n #   Column  Non-Null Count  Dtype \n---  ------  --------------  ----- \n 0   지역      59 non-null     object\n 1   상호      59 non-null     object\n 2   주소      59 non-null     object\n 3   상표      59 non-null     object\n 4   전화번호    59 non-null     object\n 5   셀프여부    59 non-null     object\n 6   고급휘발유   59 non-null     object\n 7   휘발유     59 non-null     int64 \n 8   경유      59 non-null     object\n 9   실내등유    59 non-null     object\n 10  구       59 non-null     object\ndtypes: int64(1), object(10)\nmemory usage: 5.5+ KB\n"
     ]
    }
   ],
   "source": [
    "stations2['휘발유'] = pd.to_numeric(stations2['휘발유'])\n",
    "stations2.info()"
   ]
  },
  {
   "cell_type": "code",
   "execution_count": 25,
   "metadata": {},
   "outputs": [
    {
     "output_type": "stream",
     "name": "stdout",
     "text": [
      "<class 'pandas.core.frame.DataFrame'>\nInt64Index: 6 entries, 5 to 21\nData columns (total 11 columns):\n #   Column  Non-Null Count  Dtype \n---  ------  --------------  ----- \n 0   지역      6 non-null      object\n 1   상호      6 non-null      object\n 2   주소      6 non-null      object\n 3   상표      6 non-null      object\n 4   전화번호    6 non-null      object\n 5   셀프여부    6 non-null      object\n 6   고급휘발유   6 non-null      int64 \n 7   휘발유     6 non-null      int64 \n 8   경유      6 non-null      int64 \n 9   실내등유    6 non-null      object\n 10  구       6 non-null      object\ndtypes: int64(3), object(8)\nmemory usage: 576.0+ bytes\n"
     ]
    }
   ],
   "source": [
    "stations2['경유'] = pd.to_numeric(stations2['경유'])\n",
    "stations2.info()"
   ]
  },
  {
   "cell_type": "code",
   "execution_count": 26,
   "metadata": {},
   "outputs": [
    {
     "output_type": "stream",
     "name": "stdout",
     "text": [
      "<class 'pandas.core.frame.DataFrame'>\nInt64Index: 6 entries, 5 to 21\nData columns (total 11 columns):\n #   Column  Non-Null Count  Dtype \n---  ------  --------------  ----- \n 0   지역      6 non-null      object\n 1   상호      6 non-null      object\n 2   주소      6 non-null      object\n 3   상표      6 non-null      object\n 4   전화번호    6 non-null      object\n 5   셀프여부    6 non-null      object\n 6   고급휘발유   6 non-null      int64 \n 7   휘발유     6 non-null      int64 \n 8   경유      6 non-null      int64 \n 9   실내등유    6 non-null      int64 \n 10  구       6 non-null      object\ndtypes: int64(4), object(7)\nmemory usage: 576.0+ bytes\n"
     ]
    }
   ],
   "source": [
    "stations2['실내등유'] = pd.to_numeric(stations2['실내등유'])\n",
    "stations2.info()"
   ]
  },
  {
   "cell_type": "code",
   "execution_count": 17,
   "metadata": {},
   "outputs": [],
   "source": [
    "import seaborn as sns\n",
    "import matplotlib as mpl\n",
    "import matplotlib.pyplot as plt\n",
    "%matplotlib inline\n",
    "\n",
    "## 한글 폰트 사용\n",
    "# 폰트 설정\n",
    "mpl.rc('font', family='Malgun Gothic') #family에 사용할 폰트를 넣음\n",
    "# 유니코드에서  음수 부호설정\n",
    "mpl.rc('axes', unicode_minus=False)"
   ]
  },
  {
   "cell_type": "code",
   "execution_count": 18,
   "metadata": {},
   "outputs": [],
   "source": [
    "import json\n",
    "import folium\n",
    "import warnings\n",
    "warnings.simplefilter(action='ignore', category=FutureWarning)"
   ]
  },
  {
   "cell_type": "code",
   "execution_count": 19,
   "metadata": {},
   "outputs": [
    {
     "output_type": "execute_result",
     "data": {
      "text/plain": [
       "       지역                     상호                        주소      상표  \\\n",
       "0   서울특별시                  현대주유소    서울 양천구 남부순환로 372 (신월동)   S-OIL   \n",
       "1   서울특별시            형산석유(주)원주유소          서울 양천구 남부순환로 408  현대오일뱅크   \n",
       "2   서울특별시             개나리Self주유소    서울 양천구 남부순환로 442 (신월동)   SK에너지   \n",
       "3   서울특별시                가로공원주유소    서울 양천구 가로공원로 165 (신월동)   SK에너지   \n",
       "4   서울특별시                 양천구주유소      서울 양천구 국회대로 275 (목동)   알뜰주유소   \n",
       "5   서울특별시          지에스칼텍스㈜ 서호주유소          서울 양천구 남부순환로 317   GS칼텍스   \n",
       "6   서울특별시                  신월주유소      서울 양천구 신월로 193 (신월동)   GS칼텍스   \n",
       "7   서울특별시  현대오일뱅크(주)직영 남부순환셀프주유소    서울 양천구 남부순환로 553 (신월동)  현대오일뱅크   \n",
       "8   서울특별시        지에스이앤알 직영 서울주유소      서울 양천구 신정로 236 (신정동)   GS칼텍스   \n",
       "9   서울특별시               (주)블루에너지      서울 양천구 중앙로 226 (신정동)   SK에너지   \n",
       "10  서울특별시      현대오일뱅크㈜직영 목동셀프주유소      서울 양천구 공항대로 648 (목동)  현대오일뱅크   \n",
       "11  서울특별시          지에스칼텍스㈜ 건지주유소     서울 양천구 안양천로 1171 (목동)   GS칼텍스   \n",
       "12  서울특별시                  목동주유소     서울 양천구 목동중앙로 125 (목동)   SK에너지   \n",
       "13  서울특별시        현대오일뱅크(주) 양천주유소     서울 양천구 안양천로 1179 (목동)  현대오일뱅크   \n",
       "14  서울특별시                 신정동주유소     서울 양천구 안양천로 663 (신정동)  현대오일뱅크   \n",
       "15  서울특별시         (주)삼표에너지 목동주유소      서울 양천구 목동서로 129 (목동)   GS칼텍스   \n",
       "16  서울특별시    현대오일뱅크(주)직영 양천셀프주유소             서울 양천구 목동로 17  현대오일뱅크   \n",
       "17  서울특별시             (주)서부트럭터미날      서울 양천구 신정로 167 (신정동)  현대오일뱅크   \n",
       "18  서울특별시              대농self주유소      서울 양천구 중앙로 331 (신월동)   SK에너지   \n",
       "19  서울특별시   현대오일뱅크(주)직영 신목동셀프주유소         서울 양천구 목동동로10길 13  현대오일뱅크   \n",
       "20  서울특별시         SK에너지(주) 경인주유소     서울 양천구 국회대로 170 (신정동)   SK에너지   \n",
       "21  서울특별시            SK에너지(주) 신평      서울 양천구 목동남로 62 (신정동)   SK에너지   \n",
       "22  서울특별시                  양정주유소     서울 양천구 국회대로 158 (신정동)  현대오일뱅크   \n",
       "23  서울특별시                  신양주유소             서울 양천구 지양로 67   SK에너지   \n",
       "24  서울특별시       현대오일뱅크㈜직영 코리아주유소            서울 양천구 신목로7길 1  현대오일뱅크   \n",
       "25  서울특별시                  평화주유소     서울 양천구 안양천로 657 (신정동)   SK에너지   \n",
       "0   서울특별시                 화곡역주유소  서울특별시 강서구  강서로 154 (화곡동)   알뜰주유소   \n",
       "1   서울특별시                 뉴신정주유소      서울 강서구 곰달래로 207(화곡동)   알뜰주유소   \n",
       "2   서울특별시                  방화주유소    서울 강서구 방화동로 58-2 (방화동)   SK에너지   \n",
       "3   서울특별시            행촌에너지 공항주유소     서울 강서구 개화동로 420 (개화동)  현대오일뱅크   \n",
       "4   서울특별시                  유턴주유소           서울 강서구 남부순환로 57   알뜰주유소   \n",
       "5   서울특별시              강서오곡셀프주유소      서울 강서구 벌말로 254 (오곡동)   SK에너지   \n",
       "6   서울특별시                  목화주유소     서울 강서구 국회대로 251 (화곡동)   SK에너지   \n",
       "7   서울특별시        지에스칼텍스㈜ 경인고속주유소     서울 강서구 국회대로 225 (화곡동)   GS칼텍스   \n",
       "8   서울특별시                 스카이주유소     서울 강서구 개화동로 457 (방화동)   S-OIL   \n",
       "9   서울특별시                하이웨이주유소   서울특별시 강서구 공항대로 432(화곡동)   S-OIL   \n",
       "10  서울특별시    현대오일뱅크㈜직영 강서제일셀프주유소      서울 강서구 화곡로 273 (화곡동)  현대오일뱅크   \n",
       "11  서울특별시    KH에너지(주)직영 KH외발산주유소            서울 강서구 방화대로 30   SK에너지   \n",
       "12  서울특별시                  개화주유소             서울 강서구 양천로 57   SK에너지   \n",
       "13  서울특별시                 신화곡주유소            서울 강서구 국회대로 71   S-OIL   \n",
       "14  서울특별시           현대오일뱅크 등촌주유소      서울 강서구 등촌로 189 (등촌동)  현대오일뱅크   \n",
       "15  서울특별시          (주)한진 김포공항주유소            서울 강서구 하늘길 259   S-OIL   \n",
       "16  서울특별시                화곡현대주유소      서울 강서구 강서로 151 (화곡동)   SK에너지   \n",
       "17  서울특별시                  강서열린점      서울 강서구 등촌로 213 (등촌동)   GS칼텍스   \n",
       "18  서울특별시      현대오일뱅크㈜직영 에어포트주유소     서울 강서구 개화동로 519 (방화동)  현대오일뱅크   \n",
       "19  서울특별시          현대오일뱅크 양화교주유소     서울 강서구 공항대로 653 (염창동)  현대오일뱅크   \n",
       "20  서울특별시                 우장산주유소     서울 강서구 강서로 292 (내발산동)   SK에너지   \n",
       "21  서울특별시         대성석유(주)직영관문주유소           서울 강서구 공항대로 314   GS칼텍스   \n",
       "22  서울특별시         대성석유(주)방화대성주유소            서울 강서구 양천로 176   GS칼텍스   \n",
       "23  서울특별시        대성석유(주) 마곡대성주유소            서울 강서구 강서로 457   GS칼텍스   \n",
       "24  서울특별시                  대성주유소      서울 강서구 강서로 472 (등촌동)   GS칼텍스   \n",
       "25  서울특별시       KH에너지(주)직영 가양주유소      서울 강서구 강서로 498 (가양동)   SK에너지   \n",
       "26  서울특별시                세원제1주유소      서울 강서구 양천로 311 (가양동)   SK에너지   \n",
       "27  서울특별시        현대오일뱅크(주) 가양주유소     서울 강서구  양천로 391 (가양동)  현대오일뱅크   \n",
       "28  서울특별시            코리나(주)청룡주유소      서울 강서구 양천로 576 (등촌동)   SK에너지   \n",
       "29  서울특별시                 박물관주유소    서울 강서구 양천로53길 97 (가양동)   GS칼텍스   \n",
       "30  서울특별시        (주)한진 김포공항제2주유소            서울 강서구 하늘길 112   S-OIL   \n",
       "31  서울특별시                  참솔에너지      서울 강서구 벌말로 281 (오곡동)   S-OIL   \n",
       "32  서울특별시                 염창동주유소      서울 강서구 양천로 720 (염창동)   SK에너지   \n",
       "\n",
       "             전화번호 셀프여부 고급휘발유   휘발유    경유  실내등유    구  \n",
       "0    02-2608-9231    Y     -  1249  1048     -  양천구  \n",
       "1    02-2690-5837    N     -  1249  1048  1005  양천구  \n",
       "2    02-2606-5189    Y     -  1249  1048     -  양천구  \n",
       "3    02-2695-3423    N     -  1249  1048     -  양천구  \n",
       "4    02-2644-5105    Y     -  1259  1062     -  양천구  \n",
       "5    02-2602-5172    Y  1419  1269  1069  1015  양천구  \n",
       "6    02-2603-5182    Y     -  1285  1085  1100  양천구  \n",
       "7    02-2690-5001    Y     -  1299  1099     -  양천구  \n",
       "8    02-2607-9478    N     -  1299  1099     -  양천구  \n",
       "9    02-2646-6212    Y     -  1299  1099     -  양천구  \n",
       "10   02-2648-4204    Y     -  1305  1128     -  양천구  \n",
       "11   02-2644-5108    Y  1495  1308  1118  1030  양천구  \n",
       "12   02-2645-5104    Y     -  1318  1128     -  양천구  \n",
       "13   02-2653-5189    N  1589  1318  1128     -  양천구  \n",
       "14   02-2651-5189    Y     -  1318  1128     -  양천구  \n",
       "15   02-2654-5153    N  1518  1318  1128     -  양천구  \n",
       "16   02-2644-5185    Y  1559  1329  1129     -  양천구  \n",
       "17   02-2614-0047    N     -  1339  1149  1100  양천구  \n",
       "18   02-2694-4966    Y     -  1348  1148     -  양천구  \n",
       "19   02-2642-5188    Y  1599  1349  1149     -  양천구  \n",
       "20   02-2693-4994    Y     -  1359  1159     -  양천구  \n",
       "21   02-2654-5145    N  1524  1359  1159   948  양천구  \n",
       "22   02-2691-5185    N     -  1375  1178     -  양천구  \n",
       "23   02-2608-3312    N     -  1419  1229  1169  양천구  \n",
       "24   02-2646-6121    N  1769  1599  1399     -  양천구  \n",
       "25   02-2647-2122    N  1847  1647  1396     -  양천구  \n",
       "0    02-2691-5151    Y     -  1243  1043     -  강서구  \n",
       "1    02-2601-0077    N     -  1243  1043     -  강서구  \n",
       "2    02-2662-0503    N     -  1263  1063   950  강서구  \n",
       "3    02-2665-5189    Y     -  1264  1064     -  강서구  \n",
       "4    02-2665-5047    Y     -  1265  1065   895  강서구  \n",
       "5    032-671-5186    Y     -  1265  1065     -  강서구  \n",
       "6    02-2654-4564    Y     -  1266  1072     -  강서구  \n",
       "7    02-2608-5151    Y  1416  1266  1072  1100  강서구  \n",
       "8    02-2663-5146    Y  1467  1269  1069     -  강서구  \n",
       "9    02-2605-4000    Y  1457  1287  1127     -  강서구  \n",
       "10   02-2695-4544    Y     -  1289  1147     -  강서구  \n",
       "11   032-677-9497    Y  1689  1289  1089     -  강서구  \n",
       "12   02-2661-5555    Y     -  1297  1097     -  강서구  \n",
       "13   02-2611-3161    Y     -  1315  1115     -  강서구  \n",
       "14   02-2647-5700    N     -  1317  1127     -  강서구  \n",
       "15   02-2662-0422    Y     -  1319  1128  1020  강서구  \n",
       "16   02-2607-1942    Y  1455  1326  1126     -  강서구  \n",
       "17   02-2647-9091    N     -  1327  1127  1250  강서구  \n",
       "18   02-2664-1900    N     -  1339  1129     -  강서구  \n",
       "19   02-3665-2004    N  1539  1339  1169  1000  강서구  \n",
       "20   02-3664-7163    N     -  1358  1187  1000  강서구  \n",
       "21   02-3665-2051    N  1599  1358  1187  1000  강서구  \n",
       "22   02-3663-7781    Y  1599  1365  1175     -  강서구  \n",
       "23   02-3664-7781    Y  1599  1365  1185     -  강서구  \n",
       "24   02-3661-6102    N     -  1385  1195     -  강서구  \n",
       "25   02-3664-6051    N  1689  1385  1195     -  강서구  \n",
       "26   02-3663-5151    Y     -  1389  1189     -  강서구  \n",
       "27   02-3661-9470    N  1599  1389  1189     -  강서구  \n",
       "28   02-3661-1575    N     -  1398  1208  1100  강서구  \n",
       "29   02-3665-5189    N     -  1403  1203  1083  강서구  \n",
       "30   02-2661-8892    Y     -  1407  1213     -  강서구  \n",
       "31  070-8844-8282    Y     -  1535  1332     -  강서구  \n",
       "32   02-3664-4134    N     -  1688  1468     -  강서구  "
      ],
      "text/html": "<div>\n<style scoped>\n    .dataframe tbody tr th:only-of-type {\n        vertical-align: middle;\n    }\n\n    .dataframe tbody tr th {\n        vertical-align: top;\n    }\n\n    .dataframe thead th {\n        text-align: right;\n    }\n</style>\n<table border=\"1\" class=\"dataframe\">\n  <thead>\n    <tr style=\"text-align: right;\">\n      <th></th>\n      <th>지역</th>\n      <th>상호</th>\n      <th>주소</th>\n      <th>상표</th>\n      <th>전화번호</th>\n      <th>셀프여부</th>\n      <th>고급휘발유</th>\n      <th>휘발유</th>\n      <th>경유</th>\n      <th>실내등유</th>\n      <th>구</th>\n    </tr>\n  </thead>\n  <tbody>\n    <tr>\n      <th>0</th>\n      <td>서울특별시</td>\n      <td>현대주유소</td>\n      <td>서울 양천구 남부순환로 372 (신월동)</td>\n      <td>S-OIL</td>\n      <td>02-2608-9231</td>\n      <td>Y</td>\n      <td>-</td>\n      <td>1249</td>\n      <td>1048</td>\n      <td>-</td>\n      <td>양천구</td>\n    </tr>\n    <tr>\n      <th>1</th>\n      <td>서울특별시</td>\n      <td>형산석유(주)원주유소</td>\n      <td>서울 양천구 남부순환로 408</td>\n      <td>현대오일뱅크</td>\n      <td>02-2690-5837</td>\n      <td>N</td>\n      <td>-</td>\n      <td>1249</td>\n      <td>1048</td>\n      <td>1005</td>\n      <td>양천구</td>\n    </tr>\n    <tr>\n      <th>2</th>\n      <td>서울특별시</td>\n      <td>개나리Self주유소</td>\n      <td>서울 양천구 남부순환로 442 (신월동)</td>\n      <td>SK에너지</td>\n      <td>02-2606-5189</td>\n      <td>Y</td>\n      <td>-</td>\n      <td>1249</td>\n      <td>1048</td>\n      <td>-</td>\n      <td>양천구</td>\n    </tr>\n    <tr>\n      <th>3</th>\n      <td>서울특별시</td>\n      <td>가로공원주유소</td>\n      <td>서울 양천구 가로공원로 165 (신월동)</td>\n      <td>SK에너지</td>\n      <td>02-2695-3423</td>\n      <td>N</td>\n      <td>-</td>\n      <td>1249</td>\n      <td>1048</td>\n      <td>-</td>\n      <td>양천구</td>\n    </tr>\n    <tr>\n      <th>4</th>\n      <td>서울특별시</td>\n      <td>양천구주유소</td>\n      <td>서울 양천구 국회대로 275 (목동)</td>\n      <td>알뜰주유소</td>\n      <td>02-2644-5105</td>\n      <td>Y</td>\n      <td>-</td>\n      <td>1259</td>\n      <td>1062</td>\n      <td>-</td>\n      <td>양천구</td>\n    </tr>\n    <tr>\n      <th>5</th>\n      <td>서울특별시</td>\n      <td>지에스칼텍스㈜ 서호주유소</td>\n      <td>서울 양천구 남부순환로 317</td>\n      <td>GS칼텍스</td>\n      <td>02-2602-5172</td>\n      <td>Y</td>\n      <td>1419</td>\n      <td>1269</td>\n      <td>1069</td>\n      <td>1015</td>\n      <td>양천구</td>\n    </tr>\n    <tr>\n      <th>6</th>\n      <td>서울특별시</td>\n      <td>신월주유소</td>\n      <td>서울 양천구 신월로 193 (신월동)</td>\n      <td>GS칼텍스</td>\n      <td>02-2603-5182</td>\n      <td>Y</td>\n      <td>-</td>\n      <td>1285</td>\n      <td>1085</td>\n      <td>1100</td>\n      <td>양천구</td>\n    </tr>\n    <tr>\n      <th>7</th>\n      <td>서울특별시</td>\n      <td>현대오일뱅크(주)직영 남부순환셀프주유소</td>\n      <td>서울 양천구 남부순환로 553 (신월동)</td>\n      <td>현대오일뱅크</td>\n      <td>02-2690-5001</td>\n      <td>Y</td>\n      <td>-</td>\n      <td>1299</td>\n      <td>1099</td>\n      <td>-</td>\n      <td>양천구</td>\n    </tr>\n    <tr>\n      <th>8</th>\n      <td>서울특별시</td>\n      <td>지에스이앤알 직영 서울주유소</td>\n      <td>서울 양천구 신정로 236 (신정동)</td>\n      <td>GS칼텍스</td>\n      <td>02-2607-9478</td>\n      <td>N</td>\n      <td>-</td>\n      <td>1299</td>\n      <td>1099</td>\n      <td>-</td>\n      <td>양천구</td>\n    </tr>\n    <tr>\n      <th>9</th>\n      <td>서울특별시</td>\n      <td>(주)블루에너지</td>\n      <td>서울 양천구 중앙로 226 (신정동)</td>\n      <td>SK에너지</td>\n      <td>02-2646-6212</td>\n      <td>Y</td>\n      <td>-</td>\n      <td>1299</td>\n      <td>1099</td>\n      <td>-</td>\n      <td>양천구</td>\n    </tr>\n    <tr>\n      <th>10</th>\n      <td>서울특별시</td>\n      <td>현대오일뱅크㈜직영 목동셀프주유소</td>\n      <td>서울 양천구 공항대로 648 (목동)</td>\n      <td>현대오일뱅크</td>\n      <td>02-2648-4204</td>\n      <td>Y</td>\n      <td>-</td>\n      <td>1305</td>\n      <td>1128</td>\n      <td>-</td>\n      <td>양천구</td>\n    </tr>\n    <tr>\n      <th>11</th>\n      <td>서울특별시</td>\n      <td>지에스칼텍스㈜ 건지주유소</td>\n      <td>서울 양천구 안양천로 1171 (목동)</td>\n      <td>GS칼텍스</td>\n      <td>02-2644-5108</td>\n      <td>Y</td>\n      <td>1495</td>\n      <td>1308</td>\n      <td>1118</td>\n      <td>1030</td>\n      <td>양천구</td>\n    </tr>\n    <tr>\n      <th>12</th>\n      <td>서울특별시</td>\n      <td>목동주유소</td>\n      <td>서울 양천구 목동중앙로 125 (목동)</td>\n      <td>SK에너지</td>\n      <td>02-2645-5104</td>\n      <td>Y</td>\n      <td>-</td>\n      <td>1318</td>\n      <td>1128</td>\n      <td>-</td>\n      <td>양천구</td>\n    </tr>\n    <tr>\n      <th>13</th>\n      <td>서울특별시</td>\n      <td>현대오일뱅크(주) 양천주유소</td>\n      <td>서울 양천구 안양천로 1179 (목동)</td>\n      <td>현대오일뱅크</td>\n      <td>02-2653-5189</td>\n      <td>N</td>\n      <td>1589</td>\n      <td>1318</td>\n      <td>1128</td>\n      <td>-</td>\n      <td>양천구</td>\n    </tr>\n    <tr>\n      <th>14</th>\n      <td>서울특별시</td>\n      <td>신정동주유소</td>\n      <td>서울 양천구 안양천로 663 (신정동)</td>\n      <td>현대오일뱅크</td>\n      <td>02-2651-5189</td>\n      <td>Y</td>\n      <td>-</td>\n      <td>1318</td>\n      <td>1128</td>\n      <td>-</td>\n      <td>양천구</td>\n    </tr>\n    <tr>\n      <th>15</th>\n      <td>서울특별시</td>\n      <td>(주)삼표에너지 목동주유소</td>\n      <td>서울 양천구 목동서로 129 (목동)</td>\n      <td>GS칼텍스</td>\n      <td>02-2654-5153</td>\n      <td>N</td>\n      <td>1518</td>\n      <td>1318</td>\n      <td>1128</td>\n      <td>-</td>\n      <td>양천구</td>\n    </tr>\n    <tr>\n      <th>16</th>\n      <td>서울특별시</td>\n      <td>현대오일뱅크(주)직영 양천셀프주유소</td>\n      <td>서울 양천구 목동로 17</td>\n      <td>현대오일뱅크</td>\n      <td>02-2644-5185</td>\n      <td>Y</td>\n      <td>1559</td>\n      <td>1329</td>\n      <td>1129</td>\n      <td>-</td>\n      <td>양천구</td>\n    </tr>\n    <tr>\n      <th>17</th>\n      <td>서울특별시</td>\n      <td>(주)서부트럭터미날</td>\n      <td>서울 양천구 신정로 167 (신정동)</td>\n      <td>현대오일뱅크</td>\n      <td>02-2614-0047</td>\n      <td>N</td>\n      <td>-</td>\n      <td>1339</td>\n      <td>1149</td>\n      <td>1100</td>\n      <td>양천구</td>\n    </tr>\n    <tr>\n      <th>18</th>\n      <td>서울특별시</td>\n      <td>대농self주유소</td>\n      <td>서울 양천구 중앙로 331 (신월동)</td>\n      <td>SK에너지</td>\n      <td>02-2694-4966</td>\n      <td>Y</td>\n      <td>-</td>\n      <td>1348</td>\n      <td>1148</td>\n      <td>-</td>\n      <td>양천구</td>\n    </tr>\n    <tr>\n      <th>19</th>\n      <td>서울특별시</td>\n      <td>현대오일뱅크(주)직영 신목동셀프주유소</td>\n      <td>서울 양천구 목동동로10길 13</td>\n      <td>현대오일뱅크</td>\n      <td>02-2642-5188</td>\n      <td>Y</td>\n      <td>1599</td>\n      <td>1349</td>\n      <td>1149</td>\n      <td>-</td>\n      <td>양천구</td>\n    </tr>\n    <tr>\n      <th>20</th>\n      <td>서울특별시</td>\n      <td>SK에너지(주) 경인주유소</td>\n      <td>서울 양천구 국회대로 170 (신정동)</td>\n      <td>SK에너지</td>\n      <td>02-2693-4994</td>\n      <td>Y</td>\n      <td>-</td>\n      <td>1359</td>\n      <td>1159</td>\n      <td>-</td>\n      <td>양천구</td>\n    </tr>\n    <tr>\n      <th>21</th>\n      <td>서울특별시</td>\n      <td>SK에너지(주) 신평</td>\n      <td>서울 양천구 목동남로 62 (신정동)</td>\n      <td>SK에너지</td>\n      <td>02-2654-5145</td>\n      <td>N</td>\n      <td>1524</td>\n      <td>1359</td>\n      <td>1159</td>\n      <td>948</td>\n      <td>양천구</td>\n    </tr>\n    <tr>\n      <th>22</th>\n      <td>서울특별시</td>\n      <td>양정주유소</td>\n      <td>서울 양천구 국회대로 158 (신정동)</td>\n      <td>현대오일뱅크</td>\n      <td>02-2691-5185</td>\n      <td>N</td>\n      <td>-</td>\n      <td>1375</td>\n      <td>1178</td>\n      <td>-</td>\n      <td>양천구</td>\n    </tr>\n    <tr>\n      <th>23</th>\n      <td>서울특별시</td>\n      <td>신양주유소</td>\n      <td>서울 양천구 지양로 67</td>\n      <td>SK에너지</td>\n      <td>02-2608-3312</td>\n      <td>N</td>\n      <td>-</td>\n      <td>1419</td>\n      <td>1229</td>\n      <td>1169</td>\n      <td>양천구</td>\n    </tr>\n    <tr>\n      <th>24</th>\n      <td>서울특별시</td>\n      <td>현대오일뱅크㈜직영 코리아주유소</td>\n      <td>서울 양천구 신목로7길 1</td>\n      <td>현대오일뱅크</td>\n      <td>02-2646-6121</td>\n      <td>N</td>\n      <td>1769</td>\n      <td>1599</td>\n      <td>1399</td>\n      <td>-</td>\n      <td>양천구</td>\n    </tr>\n    <tr>\n      <th>25</th>\n      <td>서울특별시</td>\n      <td>평화주유소</td>\n      <td>서울 양천구 안양천로 657 (신정동)</td>\n      <td>SK에너지</td>\n      <td>02-2647-2122</td>\n      <td>N</td>\n      <td>1847</td>\n      <td>1647</td>\n      <td>1396</td>\n      <td>-</td>\n      <td>양천구</td>\n    </tr>\n    <tr>\n      <th>0</th>\n      <td>서울특별시</td>\n      <td>화곡역주유소</td>\n      <td>서울특별시 강서구  강서로 154 (화곡동)</td>\n      <td>알뜰주유소</td>\n      <td>02-2691-5151</td>\n      <td>Y</td>\n      <td>-</td>\n      <td>1243</td>\n      <td>1043</td>\n      <td>-</td>\n      <td>강서구</td>\n    </tr>\n    <tr>\n      <th>1</th>\n      <td>서울특별시</td>\n      <td>뉴신정주유소</td>\n      <td>서울 강서구 곰달래로 207(화곡동)</td>\n      <td>알뜰주유소</td>\n      <td>02-2601-0077</td>\n      <td>N</td>\n      <td>-</td>\n      <td>1243</td>\n      <td>1043</td>\n      <td>-</td>\n      <td>강서구</td>\n    </tr>\n    <tr>\n      <th>2</th>\n      <td>서울특별시</td>\n      <td>방화주유소</td>\n      <td>서울 강서구 방화동로 58-2 (방화동)</td>\n      <td>SK에너지</td>\n      <td>02-2662-0503</td>\n      <td>N</td>\n      <td>-</td>\n      <td>1263</td>\n      <td>1063</td>\n      <td>950</td>\n      <td>강서구</td>\n    </tr>\n    <tr>\n      <th>3</th>\n      <td>서울특별시</td>\n      <td>행촌에너지 공항주유소</td>\n      <td>서울 강서구 개화동로 420 (개화동)</td>\n      <td>현대오일뱅크</td>\n      <td>02-2665-5189</td>\n      <td>Y</td>\n      <td>-</td>\n      <td>1264</td>\n      <td>1064</td>\n      <td>-</td>\n      <td>강서구</td>\n    </tr>\n    <tr>\n      <th>4</th>\n      <td>서울특별시</td>\n      <td>유턴주유소</td>\n      <td>서울 강서구 남부순환로 57</td>\n      <td>알뜰주유소</td>\n      <td>02-2665-5047</td>\n      <td>Y</td>\n      <td>-</td>\n      <td>1265</td>\n      <td>1065</td>\n      <td>895</td>\n      <td>강서구</td>\n    </tr>\n    <tr>\n      <th>5</th>\n      <td>서울특별시</td>\n      <td>강서오곡셀프주유소</td>\n      <td>서울 강서구 벌말로 254 (오곡동)</td>\n      <td>SK에너지</td>\n      <td>032-671-5186</td>\n      <td>Y</td>\n      <td>-</td>\n      <td>1265</td>\n      <td>1065</td>\n      <td>-</td>\n      <td>강서구</td>\n    </tr>\n    <tr>\n      <th>6</th>\n      <td>서울특별시</td>\n      <td>목화주유소</td>\n      <td>서울 강서구 국회대로 251 (화곡동)</td>\n      <td>SK에너지</td>\n      <td>02-2654-4564</td>\n      <td>Y</td>\n      <td>-</td>\n      <td>1266</td>\n      <td>1072</td>\n      <td>-</td>\n      <td>강서구</td>\n    </tr>\n    <tr>\n      <th>7</th>\n      <td>서울특별시</td>\n      <td>지에스칼텍스㈜ 경인고속주유소</td>\n      <td>서울 강서구 국회대로 225 (화곡동)</td>\n      <td>GS칼텍스</td>\n      <td>02-2608-5151</td>\n      <td>Y</td>\n      <td>1416</td>\n      <td>1266</td>\n      <td>1072</td>\n      <td>1100</td>\n      <td>강서구</td>\n    </tr>\n    <tr>\n      <th>8</th>\n      <td>서울특별시</td>\n      <td>스카이주유소</td>\n      <td>서울 강서구 개화동로 457 (방화동)</td>\n      <td>S-OIL</td>\n      <td>02-2663-5146</td>\n      <td>Y</td>\n      <td>1467</td>\n      <td>1269</td>\n      <td>1069</td>\n      <td>-</td>\n      <td>강서구</td>\n    </tr>\n    <tr>\n      <th>9</th>\n      <td>서울특별시</td>\n      <td>하이웨이주유소</td>\n      <td>서울특별시 강서구 공항대로 432(화곡동)</td>\n      <td>S-OIL</td>\n      <td>02-2605-4000</td>\n      <td>Y</td>\n      <td>1457</td>\n      <td>1287</td>\n      <td>1127</td>\n      <td>-</td>\n      <td>강서구</td>\n    </tr>\n    <tr>\n      <th>10</th>\n      <td>서울특별시</td>\n      <td>현대오일뱅크㈜직영 강서제일셀프주유소</td>\n      <td>서울 강서구 화곡로 273 (화곡동)</td>\n      <td>현대오일뱅크</td>\n      <td>02-2695-4544</td>\n      <td>Y</td>\n      <td>-</td>\n      <td>1289</td>\n      <td>1147</td>\n      <td>-</td>\n      <td>강서구</td>\n    </tr>\n    <tr>\n      <th>11</th>\n      <td>서울특별시</td>\n      <td>KH에너지(주)직영 KH외발산주유소</td>\n      <td>서울 강서구 방화대로 30</td>\n      <td>SK에너지</td>\n      <td>032-677-9497</td>\n      <td>Y</td>\n      <td>1689</td>\n      <td>1289</td>\n      <td>1089</td>\n      <td>-</td>\n      <td>강서구</td>\n    </tr>\n    <tr>\n      <th>12</th>\n      <td>서울특별시</td>\n      <td>개화주유소</td>\n      <td>서울 강서구 양천로 57</td>\n      <td>SK에너지</td>\n      <td>02-2661-5555</td>\n      <td>Y</td>\n      <td>-</td>\n      <td>1297</td>\n      <td>1097</td>\n      <td>-</td>\n      <td>강서구</td>\n    </tr>\n    <tr>\n      <th>13</th>\n      <td>서울특별시</td>\n      <td>신화곡주유소</td>\n      <td>서울 강서구 국회대로 71</td>\n      <td>S-OIL</td>\n      <td>02-2611-3161</td>\n      <td>Y</td>\n      <td>-</td>\n      <td>1315</td>\n      <td>1115</td>\n      <td>-</td>\n      <td>강서구</td>\n    </tr>\n    <tr>\n      <th>14</th>\n      <td>서울특별시</td>\n      <td>현대오일뱅크 등촌주유소</td>\n      <td>서울 강서구 등촌로 189 (등촌동)</td>\n      <td>현대오일뱅크</td>\n      <td>02-2647-5700</td>\n      <td>N</td>\n      <td>-</td>\n      <td>1317</td>\n      <td>1127</td>\n      <td>-</td>\n      <td>강서구</td>\n    </tr>\n    <tr>\n      <th>15</th>\n      <td>서울특별시</td>\n      <td>(주)한진 김포공항주유소</td>\n      <td>서울 강서구 하늘길 259</td>\n      <td>S-OIL</td>\n      <td>02-2662-0422</td>\n      <td>Y</td>\n      <td>-</td>\n      <td>1319</td>\n      <td>1128</td>\n      <td>1020</td>\n      <td>강서구</td>\n    </tr>\n    <tr>\n      <th>16</th>\n      <td>서울특별시</td>\n      <td>화곡현대주유소</td>\n      <td>서울 강서구 강서로 151 (화곡동)</td>\n      <td>SK에너지</td>\n      <td>02-2607-1942</td>\n      <td>Y</td>\n      <td>1455</td>\n      <td>1326</td>\n      <td>1126</td>\n      <td>-</td>\n      <td>강서구</td>\n    </tr>\n    <tr>\n      <th>17</th>\n      <td>서울특별시</td>\n      <td>강서열린점</td>\n      <td>서울 강서구 등촌로 213 (등촌동)</td>\n      <td>GS칼텍스</td>\n      <td>02-2647-9091</td>\n      <td>N</td>\n      <td>-</td>\n      <td>1327</td>\n      <td>1127</td>\n      <td>1250</td>\n      <td>강서구</td>\n    </tr>\n    <tr>\n      <th>18</th>\n      <td>서울특별시</td>\n      <td>현대오일뱅크㈜직영 에어포트주유소</td>\n      <td>서울 강서구 개화동로 519 (방화동)</td>\n      <td>현대오일뱅크</td>\n      <td>02-2664-1900</td>\n      <td>N</td>\n      <td>-</td>\n      <td>1339</td>\n      <td>1129</td>\n      <td>-</td>\n      <td>강서구</td>\n    </tr>\n    <tr>\n      <th>19</th>\n      <td>서울특별시</td>\n      <td>현대오일뱅크 양화교주유소</td>\n      <td>서울 강서구 공항대로 653 (염창동)</td>\n      <td>현대오일뱅크</td>\n      <td>02-3665-2004</td>\n      <td>N</td>\n      <td>1539</td>\n      <td>1339</td>\n      <td>1169</td>\n      <td>1000</td>\n      <td>강서구</td>\n    </tr>\n    <tr>\n      <th>20</th>\n      <td>서울특별시</td>\n      <td>우장산주유소</td>\n      <td>서울 강서구 강서로 292 (내발산동)</td>\n      <td>SK에너지</td>\n      <td>02-3664-7163</td>\n      <td>N</td>\n      <td>-</td>\n      <td>1358</td>\n      <td>1187</td>\n      <td>1000</td>\n      <td>강서구</td>\n    </tr>\n    <tr>\n      <th>21</th>\n      <td>서울특별시</td>\n      <td>대성석유(주)직영관문주유소</td>\n      <td>서울 강서구 공항대로 314</td>\n      <td>GS칼텍스</td>\n      <td>02-3665-2051</td>\n      <td>N</td>\n      <td>1599</td>\n      <td>1358</td>\n      <td>1187</td>\n      <td>1000</td>\n      <td>강서구</td>\n    </tr>\n    <tr>\n      <th>22</th>\n      <td>서울특별시</td>\n      <td>대성석유(주)방화대성주유소</td>\n      <td>서울 강서구 양천로 176</td>\n      <td>GS칼텍스</td>\n      <td>02-3663-7781</td>\n      <td>Y</td>\n      <td>1599</td>\n      <td>1365</td>\n      <td>1175</td>\n      <td>-</td>\n      <td>강서구</td>\n    </tr>\n    <tr>\n      <th>23</th>\n      <td>서울특별시</td>\n      <td>대성석유(주) 마곡대성주유소</td>\n      <td>서울 강서구 강서로 457</td>\n      <td>GS칼텍스</td>\n      <td>02-3664-7781</td>\n      <td>Y</td>\n      <td>1599</td>\n      <td>1365</td>\n      <td>1185</td>\n      <td>-</td>\n      <td>강서구</td>\n    </tr>\n    <tr>\n      <th>24</th>\n      <td>서울특별시</td>\n      <td>대성주유소</td>\n      <td>서울 강서구 강서로 472 (등촌동)</td>\n      <td>GS칼텍스</td>\n      <td>02-3661-6102</td>\n      <td>N</td>\n      <td>-</td>\n      <td>1385</td>\n      <td>1195</td>\n      <td>-</td>\n      <td>강서구</td>\n    </tr>\n    <tr>\n      <th>25</th>\n      <td>서울특별시</td>\n      <td>KH에너지(주)직영 가양주유소</td>\n      <td>서울 강서구 강서로 498 (가양동)</td>\n      <td>SK에너지</td>\n      <td>02-3664-6051</td>\n      <td>N</td>\n      <td>1689</td>\n      <td>1385</td>\n      <td>1195</td>\n      <td>-</td>\n      <td>강서구</td>\n    </tr>\n    <tr>\n      <th>26</th>\n      <td>서울특별시</td>\n      <td>세원제1주유소</td>\n      <td>서울 강서구 양천로 311 (가양동)</td>\n      <td>SK에너지</td>\n      <td>02-3663-5151</td>\n      <td>Y</td>\n      <td>-</td>\n      <td>1389</td>\n      <td>1189</td>\n      <td>-</td>\n      <td>강서구</td>\n    </tr>\n    <tr>\n      <th>27</th>\n      <td>서울특별시</td>\n      <td>현대오일뱅크(주) 가양주유소</td>\n      <td>서울 강서구  양천로 391 (가양동)</td>\n      <td>현대오일뱅크</td>\n      <td>02-3661-9470</td>\n      <td>N</td>\n      <td>1599</td>\n      <td>1389</td>\n      <td>1189</td>\n      <td>-</td>\n      <td>강서구</td>\n    </tr>\n    <tr>\n      <th>28</th>\n      <td>서울특별시</td>\n      <td>코리나(주)청룡주유소</td>\n      <td>서울 강서구 양천로 576 (등촌동)</td>\n      <td>SK에너지</td>\n      <td>02-3661-1575</td>\n      <td>N</td>\n      <td>-</td>\n      <td>1398</td>\n      <td>1208</td>\n      <td>1100</td>\n      <td>강서구</td>\n    </tr>\n    <tr>\n      <th>29</th>\n      <td>서울특별시</td>\n      <td>박물관주유소</td>\n      <td>서울 강서구 양천로53길 97 (가양동)</td>\n      <td>GS칼텍스</td>\n      <td>02-3665-5189</td>\n      <td>N</td>\n      <td>-</td>\n      <td>1403</td>\n      <td>1203</td>\n      <td>1083</td>\n      <td>강서구</td>\n    </tr>\n    <tr>\n      <th>30</th>\n      <td>서울특별시</td>\n      <td>(주)한진 김포공항제2주유소</td>\n      <td>서울 강서구 하늘길 112</td>\n      <td>S-OIL</td>\n      <td>02-2661-8892</td>\n      <td>Y</td>\n      <td>-</td>\n      <td>1407</td>\n      <td>1213</td>\n      <td>-</td>\n      <td>강서구</td>\n    </tr>\n    <tr>\n      <th>31</th>\n      <td>서울특별시</td>\n      <td>참솔에너지</td>\n      <td>서울 강서구 벌말로 281 (오곡동)</td>\n      <td>S-OIL</td>\n      <td>070-8844-8282</td>\n      <td>Y</td>\n      <td>-</td>\n      <td>1535</td>\n      <td>1332</td>\n      <td>-</td>\n      <td>강서구</td>\n    </tr>\n    <tr>\n      <th>32</th>\n      <td>서울특별시</td>\n      <td>염창동주유소</td>\n      <td>서울 강서구 양천로 720 (염창동)</td>\n      <td>SK에너지</td>\n      <td>02-3664-4134</td>\n      <td>N</td>\n      <td>-</td>\n      <td>1688</td>\n      <td>1468</td>\n      <td>-</td>\n      <td>강서구</td>\n    </tr>\n  </tbody>\n</table>\n</div>"
     },
     "metadata": {},
     "execution_count": 19
    }
   ],
   "source": [
    "stations2"
   ]
  },
  {
   "cell_type": "code",
   "execution_count": 33,
   "metadata": {},
   "outputs": [
    {
     "output_type": "execute_result",
     "data": {
      "text/plain": [
       "       지역                     상호                      주소      상표  \\\n",
       "0   서울특별시                  현대주유소  서울 양천구 남부순환로 372 (신월동)   S-OIL   \n",
       "1   서울특별시            형산석유(주)원주유소        서울 양천구 남부순환로 408  현대오일뱅크   \n",
       "2   서울특별시             개나리Self주유소  서울 양천구 남부순환로 442 (신월동)   SK에너지   \n",
       "3   서울특별시                가로공원주유소  서울 양천구 가로공원로 165 (신월동)   SK에너지   \n",
       "4   서울특별시                 양천구주유소    서울 양천구 국회대로 275 (목동)   알뜰주유소   \n",
       "5   서울특별시          지에스칼텍스㈜ 서호주유소        서울 양천구 남부순환로 317   GS칼텍스   \n",
       "6   서울특별시                  신월주유소    서울 양천구 신월로 193 (신월동)   GS칼텍스   \n",
       "7   서울특별시  현대오일뱅크(주)직영 남부순환셀프주유소  서울 양천구 남부순환로 553 (신월동)  현대오일뱅크   \n",
       "8   서울특별시        지에스이앤알 직영 서울주유소    서울 양천구 신정로 236 (신정동)   GS칼텍스   \n",
       "9   서울특별시               (주)블루에너지    서울 양천구 중앙로 226 (신정동)   SK에너지   \n",
       "10  서울특별시      현대오일뱅크㈜직영 목동셀프주유소    서울 양천구 공항대로 648 (목동)  현대오일뱅크   \n",
       "\n",
       "            전화번호 셀프여부 고급휘발유   휘발유    경유  실내등유    구  \n",
       "0   02-2608-9231    Y     -  1249  1048     -  양천구  \n",
       "1   02-2690-5837    N     -  1249  1048  1005  양천구  \n",
       "2   02-2606-5189    Y     -  1249  1048     -  양천구  \n",
       "3   02-2695-3423    N     -  1249  1048     -  양천구  \n",
       "4   02-2644-5105    Y     -  1259  1062     -  양천구  \n",
       "5   02-2602-5172    Y  1419  1269  1069  1015  양천구  \n",
       "6   02-2603-5182    Y     -  1285  1085  1100  양천구  \n",
       "7   02-2690-5001    Y     -  1299  1099     -  양천구  \n",
       "8   02-2607-9478    N     -  1299  1099     -  양천구  \n",
       "9   02-2646-6212    Y     -  1299  1099     -  양천구  \n",
       "10  02-2648-4204    Y     -  1305  1128     -  양천구  "
      ],
      "text/html": "<div>\n<style scoped>\n    .dataframe tbody tr th:only-of-type {\n        vertical-align: middle;\n    }\n\n    .dataframe tbody tr th {\n        vertical-align: top;\n    }\n\n    .dataframe thead th {\n        text-align: right;\n    }\n</style>\n<table border=\"1\" class=\"dataframe\">\n  <thead>\n    <tr style=\"text-align: right;\">\n      <th></th>\n      <th>지역</th>\n      <th>상호</th>\n      <th>주소</th>\n      <th>상표</th>\n      <th>전화번호</th>\n      <th>셀프여부</th>\n      <th>고급휘발유</th>\n      <th>휘발유</th>\n      <th>경유</th>\n      <th>실내등유</th>\n      <th>구</th>\n    </tr>\n  </thead>\n  <tbody>\n    <tr>\n      <th>0</th>\n      <td>서울특별시</td>\n      <td>현대주유소</td>\n      <td>서울 양천구 남부순환로 372 (신월동)</td>\n      <td>S-OIL</td>\n      <td>02-2608-9231</td>\n      <td>Y</td>\n      <td>-</td>\n      <td>1249</td>\n      <td>1048</td>\n      <td>-</td>\n      <td>양천구</td>\n    </tr>\n    <tr>\n      <th>1</th>\n      <td>서울특별시</td>\n      <td>형산석유(주)원주유소</td>\n      <td>서울 양천구 남부순환로 408</td>\n      <td>현대오일뱅크</td>\n      <td>02-2690-5837</td>\n      <td>N</td>\n      <td>-</td>\n      <td>1249</td>\n      <td>1048</td>\n      <td>1005</td>\n      <td>양천구</td>\n    </tr>\n    <tr>\n      <th>2</th>\n      <td>서울특별시</td>\n      <td>개나리Self주유소</td>\n      <td>서울 양천구 남부순환로 442 (신월동)</td>\n      <td>SK에너지</td>\n      <td>02-2606-5189</td>\n      <td>Y</td>\n      <td>-</td>\n      <td>1249</td>\n      <td>1048</td>\n      <td>-</td>\n      <td>양천구</td>\n    </tr>\n    <tr>\n      <th>3</th>\n      <td>서울특별시</td>\n      <td>가로공원주유소</td>\n      <td>서울 양천구 가로공원로 165 (신월동)</td>\n      <td>SK에너지</td>\n      <td>02-2695-3423</td>\n      <td>N</td>\n      <td>-</td>\n      <td>1249</td>\n      <td>1048</td>\n      <td>-</td>\n      <td>양천구</td>\n    </tr>\n    <tr>\n      <th>4</th>\n      <td>서울특별시</td>\n      <td>양천구주유소</td>\n      <td>서울 양천구 국회대로 275 (목동)</td>\n      <td>알뜰주유소</td>\n      <td>02-2644-5105</td>\n      <td>Y</td>\n      <td>-</td>\n      <td>1259</td>\n      <td>1062</td>\n      <td>-</td>\n      <td>양천구</td>\n    </tr>\n    <tr>\n      <th>5</th>\n      <td>서울특별시</td>\n      <td>지에스칼텍스㈜ 서호주유소</td>\n      <td>서울 양천구 남부순환로 317</td>\n      <td>GS칼텍스</td>\n      <td>02-2602-5172</td>\n      <td>Y</td>\n      <td>1419</td>\n      <td>1269</td>\n      <td>1069</td>\n      <td>1015</td>\n      <td>양천구</td>\n    </tr>\n    <tr>\n      <th>6</th>\n      <td>서울특별시</td>\n      <td>신월주유소</td>\n      <td>서울 양천구 신월로 193 (신월동)</td>\n      <td>GS칼텍스</td>\n      <td>02-2603-5182</td>\n      <td>Y</td>\n      <td>-</td>\n      <td>1285</td>\n      <td>1085</td>\n      <td>1100</td>\n      <td>양천구</td>\n    </tr>\n    <tr>\n      <th>7</th>\n      <td>서울특별시</td>\n      <td>현대오일뱅크(주)직영 남부순환셀프주유소</td>\n      <td>서울 양천구 남부순환로 553 (신월동)</td>\n      <td>현대오일뱅크</td>\n      <td>02-2690-5001</td>\n      <td>Y</td>\n      <td>-</td>\n      <td>1299</td>\n      <td>1099</td>\n      <td>-</td>\n      <td>양천구</td>\n    </tr>\n    <tr>\n      <th>8</th>\n      <td>서울특별시</td>\n      <td>지에스이앤알 직영 서울주유소</td>\n      <td>서울 양천구 신정로 236 (신정동)</td>\n      <td>GS칼텍스</td>\n      <td>02-2607-9478</td>\n      <td>N</td>\n      <td>-</td>\n      <td>1299</td>\n      <td>1099</td>\n      <td>-</td>\n      <td>양천구</td>\n    </tr>\n    <tr>\n      <th>9</th>\n      <td>서울특별시</td>\n      <td>(주)블루에너지</td>\n      <td>서울 양천구 중앙로 226 (신정동)</td>\n      <td>SK에너지</td>\n      <td>02-2646-6212</td>\n      <td>Y</td>\n      <td>-</td>\n      <td>1299</td>\n      <td>1099</td>\n      <td>-</td>\n      <td>양천구</td>\n    </tr>\n    <tr>\n      <th>10</th>\n      <td>서울특별시</td>\n      <td>현대오일뱅크㈜직영 목동셀프주유소</td>\n      <td>서울 양천구 공항대로 648 (목동)</td>\n      <td>현대오일뱅크</td>\n      <td>02-2648-4204</td>\n      <td>Y</td>\n      <td>-</td>\n      <td>1305</td>\n      <td>1128</td>\n      <td>-</td>\n      <td>양천구</td>\n    </tr>\n  </tbody>\n</table>\n</div>"
     },
     "metadata": {},
     "execution_count": 33
    }
   ],
   "source": [
    "stations2 = stations2.reset_index(drop=True)\n",
    "stations2.head(11)"
   ]
  },
  {
   "cell_type": "code",
   "execution_count": 32,
   "metadata": {},
   "outputs": [
    {
     "output_type": "execute_result",
     "data": {
      "text/plain": [
       "       지역           상호                        주소      상표          전화번호 셀프여부  \\\n",
       "27  서울특별시       뉴신정주유소      서울 강서구 곰달래로 207(화곡동)   알뜰주유소  02-2601-0077    N   \n",
       "26  서울특별시       화곡역주유소  서울특별시 강서구  강서로 154 (화곡동)   알뜰주유소  02-2691-5151    Y   \n",
       "0   서울특별시        현대주유소    서울 양천구 남부순환로 372 (신월동)   S-OIL  02-2608-9231    Y   \n",
       "1   서울특별시  형산석유(주)원주유소          서울 양천구 남부순환로 408  현대오일뱅크  02-2690-5837    N   \n",
       "2   서울특별시   개나리Self주유소    서울 양천구 남부순환로 442 (신월동)   SK에너지  02-2606-5189    Y   \n",
       "3   서울특별시      가로공원주유소    서울 양천구 가로공원로 165 (신월동)   SK에너지  02-2695-3423    N   \n",
       "4   서울특별시       양천구주유소      서울 양천구 국회대로 275 (목동)   알뜰주유소  02-2644-5105    Y   \n",
       "28  서울특별시        방화주유소    서울 강서구 방화동로 58-2 (방화동)   SK에너지  02-2662-0503    N   \n",
       "29  서울특별시  행촌에너지 공항주유소     서울 강서구 개화동로 420 (개화동)  현대오일뱅크  02-2665-5189    Y   \n",
       "31  서울특별시    강서오곡셀프주유소      서울 강서구 벌말로 254 (오곡동)   SK에너지  032-671-5186    Y   \n",
       "\n",
       "   고급휘발유   휘발유    경유  실내등유    구  \n",
       "27     -  1243  1043     -  강서구  \n",
       "26     -  1243  1043     -  강서구  \n",
       "0      -  1249  1048     -  양천구  \n",
       "1      -  1249  1048  1005  양천구  \n",
       "2      -  1249  1048     -  양천구  \n",
       "3      -  1249  1048     -  양천구  \n",
       "4      -  1259  1062     -  양천구  \n",
       "28     -  1263  1063   950  강서구  \n",
       "29     -  1264  1064     -  강서구  \n",
       "31     -  1265  1065     -  강서구  "
      ],
      "text/html": "<div>\n<style scoped>\n    .dataframe tbody tr th:only-of-type {\n        vertical-align: middle;\n    }\n\n    .dataframe tbody tr th {\n        vertical-align: top;\n    }\n\n    .dataframe thead th {\n        text-align: right;\n    }\n</style>\n<table border=\"1\" class=\"dataframe\">\n  <thead>\n    <tr style=\"text-align: right;\">\n      <th></th>\n      <th>지역</th>\n      <th>상호</th>\n      <th>주소</th>\n      <th>상표</th>\n      <th>전화번호</th>\n      <th>셀프여부</th>\n      <th>고급휘발유</th>\n      <th>휘발유</th>\n      <th>경유</th>\n      <th>실내등유</th>\n      <th>구</th>\n    </tr>\n  </thead>\n  <tbody>\n    <tr>\n      <th>27</th>\n      <td>서울특별시</td>\n      <td>뉴신정주유소</td>\n      <td>서울 강서구 곰달래로 207(화곡동)</td>\n      <td>알뜰주유소</td>\n      <td>02-2601-0077</td>\n      <td>N</td>\n      <td>-</td>\n      <td>1243</td>\n      <td>1043</td>\n      <td>-</td>\n      <td>강서구</td>\n    </tr>\n    <tr>\n      <th>26</th>\n      <td>서울특별시</td>\n      <td>화곡역주유소</td>\n      <td>서울특별시 강서구  강서로 154 (화곡동)</td>\n      <td>알뜰주유소</td>\n      <td>02-2691-5151</td>\n      <td>Y</td>\n      <td>-</td>\n      <td>1243</td>\n      <td>1043</td>\n      <td>-</td>\n      <td>강서구</td>\n    </tr>\n    <tr>\n      <th>0</th>\n      <td>서울특별시</td>\n      <td>현대주유소</td>\n      <td>서울 양천구 남부순환로 372 (신월동)</td>\n      <td>S-OIL</td>\n      <td>02-2608-9231</td>\n      <td>Y</td>\n      <td>-</td>\n      <td>1249</td>\n      <td>1048</td>\n      <td>-</td>\n      <td>양천구</td>\n    </tr>\n    <tr>\n      <th>1</th>\n      <td>서울특별시</td>\n      <td>형산석유(주)원주유소</td>\n      <td>서울 양천구 남부순환로 408</td>\n      <td>현대오일뱅크</td>\n      <td>02-2690-5837</td>\n      <td>N</td>\n      <td>-</td>\n      <td>1249</td>\n      <td>1048</td>\n      <td>1005</td>\n      <td>양천구</td>\n    </tr>\n    <tr>\n      <th>2</th>\n      <td>서울특별시</td>\n      <td>개나리Self주유소</td>\n      <td>서울 양천구 남부순환로 442 (신월동)</td>\n      <td>SK에너지</td>\n      <td>02-2606-5189</td>\n      <td>Y</td>\n      <td>-</td>\n      <td>1249</td>\n      <td>1048</td>\n      <td>-</td>\n      <td>양천구</td>\n    </tr>\n    <tr>\n      <th>3</th>\n      <td>서울특별시</td>\n      <td>가로공원주유소</td>\n      <td>서울 양천구 가로공원로 165 (신월동)</td>\n      <td>SK에너지</td>\n      <td>02-2695-3423</td>\n      <td>N</td>\n      <td>-</td>\n      <td>1249</td>\n      <td>1048</td>\n      <td>-</td>\n      <td>양천구</td>\n    </tr>\n    <tr>\n      <th>4</th>\n      <td>서울특별시</td>\n      <td>양천구주유소</td>\n      <td>서울 양천구 국회대로 275 (목동)</td>\n      <td>알뜰주유소</td>\n      <td>02-2644-5105</td>\n      <td>Y</td>\n      <td>-</td>\n      <td>1259</td>\n      <td>1062</td>\n      <td>-</td>\n      <td>양천구</td>\n    </tr>\n    <tr>\n      <th>28</th>\n      <td>서울특별시</td>\n      <td>방화주유소</td>\n      <td>서울 강서구 방화동로 58-2 (방화동)</td>\n      <td>SK에너지</td>\n      <td>02-2662-0503</td>\n      <td>N</td>\n      <td>-</td>\n      <td>1263</td>\n      <td>1063</td>\n      <td>950</td>\n      <td>강서구</td>\n    </tr>\n    <tr>\n      <th>29</th>\n      <td>서울특별시</td>\n      <td>행촌에너지 공항주유소</td>\n      <td>서울 강서구 개화동로 420 (개화동)</td>\n      <td>현대오일뱅크</td>\n      <td>02-2665-5189</td>\n      <td>Y</td>\n      <td>-</td>\n      <td>1264</td>\n      <td>1064</td>\n      <td>-</td>\n      <td>강서구</td>\n    </tr>\n    <tr>\n      <th>31</th>\n      <td>서울특별시</td>\n      <td>강서오곡셀프주유소</td>\n      <td>서울 강서구 벌말로 254 (오곡동)</td>\n      <td>SK에너지</td>\n      <td>032-671-5186</td>\n      <td>Y</td>\n      <td>-</td>\n      <td>1265</td>\n      <td>1065</td>\n      <td>-</td>\n      <td>강서구</td>\n    </tr>\n  </tbody>\n</table>\n</div>"
     },
     "metadata": {},
     "execution_count": 32
    }
   ],
   "source": [
    "st1 = stations2.sort_values(by='휘발유', ascending=True).head(10)\n",
    "st1"
   ]
  },
  {
   "cell_type": "code",
   "execution_count": 34,
   "metadata": {},
   "outputs": [],
   "source": [
    "key_fd = open('../06.reapi/kakaomapkey.txt', mode='r')\n",
    "kmap_key = key_fd.read(100)\n",
    "key_fd.close()"
   ]
  },
  {
   "cell_type": "code",
   "execution_count": 35,
   "metadata": {},
   "outputs": [
    {
     "output_type": "display_data",
     "data": {
      "text/plain": "HBox(children=(FloatProgress(value=0.0, max=10.0), HTML(value='')))",
      "application/vnd.jupyter.widget-view+json": {
       "version_major": 2,
       "version_minor": 0,
       "model_id": "3cb71fcc8d9b4e6f945b8531d2a38cee"
      }
     },
     "metadata": {}
    },
    {
     "output_type": "stream",
     "name": "stdout",
     "text": [
      "\n"
     ]
    },
    {
     "output_type": "execute_result",
     "data": {
      "text/plain": [
       "       지역           상호                        주소      상표          전화번호 셀프여부  \\\n",
       "27  서울특별시       뉴신정주유소      서울 강서구 곰달래로 207(화곡동)   알뜰주유소  02-2601-0077    N   \n",
       "26  서울특별시       화곡역주유소  서울특별시 강서구  강서로 154 (화곡동)   알뜰주유소  02-2691-5151    Y   \n",
       "0   서울특별시        현대주유소    서울 양천구 남부순환로 372 (신월동)   S-OIL  02-2608-9231    Y   \n",
       "1   서울특별시  형산석유(주)원주유소          서울 양천구 남부순환로 408  현대오일뱅크  02-2690-5837    N   \n",
       "2   서울특별시   개나리Self주유소    서울 양천구 남부순환로 442 (신월동)   SK에너지  02-2606-5189    Y   \n",
       "3   서울특별시      가로공원주유소    서울 양천구 가로공원로 165 (신월동)   SK에너지  02-2695-3423    N   \n",
       "4   서울특별시       양천구주유소      서울 양천구 국회대로 275 (목동)   알뜰주유소  02-2644-5105    Y   \n",
       "28  서울특별시        방화주유소    서울 강서구 방화동로 58-2 (방화동)   SK에너지  02-2662-0503    N   \n",
       "29  서울특별시  행촌에너지 공항주유소     서울 강서구 개화동로 420 (개화동)  현대오일뱅크  02-2665-5189    Y   \n",
       "31  서울특별시    강서오곡셀프주유소      서울 강서구 벌말로 254 (오곡동)   SK에너지  032-671-5186    Y   \n",
       "\n",
       "   고급휘발유   휘발유    경유  실내등유    구               lat               lng  \n",
       "27     -  1243  1043     -  강서구  37.5315624983884  126.856035365887  \n",
       "26     -  1243  1043     -  강서구  37.5407680113225    126.8414715329  \n",
       "0      -  1249  1048     -  양천구  37.5339097605129  126.829178494291  \n",
       "1      -  1249  1048  1005  양천구  37.5311594818326  126.831011469112  \n",
       "2      -  1249  1048     -  양천구  37.5282624685753  126.832956410977  \n",
       "3      -  1249  1048     -  양천구  37.5370203692233  126.834298807985  \n",
       "4      -  1259  1062     -  양천구  37.5303725461437  126.865511835584  \n",
       "28     -  1263  1063   950  강서구  37.5655628801505  126.812436402704  \n",
       "29     -  1264  1064     -  강서구  37.5743411065587  126.802289394945  \n",
       "31     -  1265  1065     -  강서구  37.5539472043373  126.768359086323  "
      ],
      "text/html": "<div>\n<style scoped>\n    .dataframe tbody tr th:only-of-type {\n        vertical-align: middle;\n    }\n\n    .dataframe tbody tr th {\n        vertical-align: top;\n    }\n\n    .dataframe thead th {\n        text-align: right;\n    }\n</style>\n<table border=\"1\" class=\"dataframe\">\n  <thead>\n    <tr style=\"text-align: right;\">\n      <th></th>\n      <th>지역</th>\n      <th>상호</th>\n      <th>주소</th>\n      <th>상표</th>\n      <th>전화번호</th>\n      <th>셀프여부</th>\n      <th>고급휘발유</th>\n      <th>휘발유</th>\n      <th>경유</th>\n      <th>실내등유</th>\n      <th>구</th>\n      <th>lat</th>\n      <th>lng</th>\n    </tr>\n  </thead>\n  <tbody>\n    <tr>\n      <th>27</th>\n      <td>서울특별시</td>\n      <td>뉴신정주유소</td>\n      <td>서울 강서구 곰달래로 207(화곡동)</td>\n      <td>알뜰주유소</td>\n      <td>02-2601-0077</td>\n      <td>N</td>\n      <td>-</td>\n      <td>1243</td>\n      <td>1043</td>\n      <td>-</td>\n      <td>강서구</td>\n      <td>37.5315624983884</td>\n      <td>126.856035365887</td>\n    </tr>\n    <tr>\n      <th>26</th>\n      <td>서울특별시</td>\n      <td>화곡역주유소</td>\n      <td>서울특별시 강서구  강서로 154 (화곡동)</td>\n      <td>알뜰주유소</td>\n      <td>02-2691-5151</td>\n      <td>Y</td>\n      <td>-</td>\n      <td>1243</td>\n      <td>1043</td>\n      <td>-</td>\n      <td>강서구</td>\n      <td>37.5407680113225</td>\n      <td>126.8414715329</td>\n    </tr>\n    <tr>\n      <th>0</th>\n      <td>서울특별시</td>\n      <td>현대주유소</td>\n      <td>서울 양천구 남부순환로 372 (신월동)</td>\n      <td>S-OIL</td>\n      <td>02-2608-9231</td>\n      <td>Y</td>\n      <td>-</td>\n      <td>1249</td>\n      <td>1048</td>\n      <td>-</td>\n      <td>양천구</td>\n      <td>37.5339097605129</td>\n      <td>126.829178494291</td>\n    </tr>\n    <tr>\n      <th>1</th>\n      <td>서울특별시</td>\n      <td>형산석유(주)원주유소</td>\n      <td>서울 양천구 남부순환로 408</td>\n      <td>현대오일뱅크</td>\n      <td>02-2690-5837</td>\n      <td>N</td>\n      <td>-</td>\n      <td>1249</td>\n      <td>1048</td>\n      <td>1005</td>\n      <td>양천구</td>\n      <td>37.5311594818326</td>\n      <td>126.831011469112</td>\n    </tr>\n    <tr>\n      <th>2</th>\n      <td>서울특별시</td>\n      <td>개나리Self주유소</td>\n      <td>서울 양천구 남부순환로 442 (신월동)</td>\n      <td>SK에너지</td>\n      <td>02-2606-5189</td>\n      <td>Y</td>\n      <td>-</td>\n      <td>1249</td>\n      <td>1048</td>\n      <td>-</td>\n      <td>양천구</td>\n      <td>37.5282624685753</td>\n      <td>126.832956410977</td>\n    </tr>\n    <tr>\n      <th>3</th>\n      <td>서울특별시</td>\n      <td>가로공원주유소</td>\n      <td>서울 양천구 가로공원로 165 (신월동)</td>\n      <td>SK에너지</td>\n      <td>02-2695-3423</td>\n      <td>N</td>\n      <td>-</td>\n      <td>1249</td>\n      <td>1048</td>\n      <td>-</td>\n      <td>양천구</td>\n      <td>37.5370203692233</td>\n      <td>126.834298807985</td>\n    </tr>\n    <tr>\n      <th>4</th>\n      <td>서울특별시</td>\n      <td>양천구주유소</td>\n      <td>서울 양천구 국회대로 275 (목동)</td>\n      <td>알뜰주유소</td>\n      <td>02-2644-5105</td>\n      <td>Y</td>\n      <td>-</td>\n      <td>1259</td>\n      <td>1062</td>\n      <td>-</td>\n      <td>양천구</td>\n      <td>37.5303725461437</td>\n      <td>126.865511835584</td>\n    </tr>\n    <tr>\n      <th>28</th>\n      <td>서울특별시</td>\n      <td>방화주유소</td>\n      <td>서울 강서구 방화동로 58-2 (방화동)</td>\n      <td>SK에너지</td>\n      <td>02-2662-0503</td>\n      <td>N</td>\n      <td>-</td>\n      <td>1263</td>\n      <td>1063</td>\n      <td>950</td>\n      <td>강서구</td>\n      <td>37.5655628801505</td>\n      <td>126.812436402704</td>\n    </tr>\n    <tr>\n      <th>29</th>\n      <td>서울특별시</td>\n      <td>행촌에너지 공항주유소</td>\n      <td>서울 강서구 개화동로 420 (개화동)</td>\n      <td>현대오일뱅크</td>\n      <td>02-2665-5189</td>\n      <td>Y</td>\n      <td>-</td>\n      <td>1264</td>\n      <td>1064</td>\n      <td>-</td>\n      <td>강서구</td>\n      <td>37.5743411065587</td>\n      <td>126.802289394945</td>\n    </tr>\n    <tr>\n      <th>31</th>\n      <td>서울특별시</td>\n      <td>강서오곡셀프주유소</td>\n      <td>서울 강서구 벌말로 254 (오곡동)</td>\n      <td>SK에너지</td>\n      <td>032-671-5186</td>\n      <td>Y</td>\n      <td>-</td>\n      <td>1265</td>\n      <td>1065</td>\n      <td>-</td>\n      <td>강서구</td>\n      <td>37.5539472043373</td>\n      <td>126.768359086323</td>\n    </tr>\n  </tbody>\n</table>\n</div>"
     },
     "metadata": {},
     "execution_count": 35
    }
   ],
   "source": [
    "from tqdm import tqdm_notebook\n",
    "\n",
    "lat = []\n",
    "lng = []\n",
    "\n",
    "for k in tqdm_notebook(st1.index):\n",
    "    try:\n",
    "        addr = '서울특별시 강서구 화곡로 302 (화곡동)'\n",
    "        url = 'https://dapi.kakao.com/v2/local/search/address.json?query=' + st1['주소'][k]\n",
    "        result = requests.get(urlparse(url).geturl(),\n",
    "                    headers={\"Authorization\": \"KakaoAK \"+ kmap_key}).json()\n",
    "\n",
    "        lat.append(result['documents'][0]['y'])\n",
    "        lng.append(result['documents'][0]['x'])\n",
    "    except:\n",
    "        lat.append(np.nan)\n",
    "        lng.append(np.nan)\n",
    "        print('Here is nan !')\n",
    "\n",
    "st1['lat'] = lat\n",
    "st1['lng'] = lng\n",
    "st1"
   ]
  },
  {
   "cell_type": "code",
   "execution_count": 84,
   "metadata": {},
   "outputs": [
    {
     "output_type": "execute_result",
     "data": {
      "text/plain": [
       "<folium.folium.Map at 0x14868b6f1f0>"
      ],
      "text/html": "<div style=\"width:100%;\"><div style=\"position:relative;width:100%;height:0;padding-bottom:60%;\"><span style=\"color:#565656\">Make this Notebook Trusted to load map: File -> Trust Notebook</span><iframe src=\"about:blank\" style=\"position:absolute;width:100%;height:100%;left:0;top:0;border:none !important;\" data-html=%3C%21DOCTYPE%20html%3E%0A%3Chead%3E%20%20%20%20%0A%20%20%20%20%3Cmeta%20http-equiv%3D%22content-type%22%20content%3D%22text/html%3B%20charset%3DUTF-8%22%20/%3E%0A%20%20%20%20%0A%20%20%20%20%20%20%20%20%3Cscript%3E%0A%20%20%20%20%20%20%20%20%20%20%20%20L_NO_TOUCH%20%3D%20false%3B%0A%20%20%20%20%20%20%20%20%20%20%20%20L_DISABLE_3D%20%3D%20false%3B%0A%20%20%20%20%20%20%20%20%3C/script%3E%0A%20%20%20%20%0A%20%20%20%20%3Cscript%20src%3D%22https%3A//cdn.jsdelivr.net/npm/leaflet%401.6.0/dist/leaflet.js%22%3E%3C/script%3E%0A%20%20%20%20%3Cscript%20src%3D%22https%3A//code.jquery.com/jquery-1.12.4.min.js%22%3E%3C/script%3E%0A%20%20%20%20%3Cscript%20src%3D%22https%3A//maxcdn.bootstrapcdn.com/bootstrap/3.2.0/js/bootstrap.min.js%22%3E%3C/script%3E%0A%20%20%20%20%3Cscript%20src%3D%22https%3A//cdnjs.cloudflare.com/ajax/libs/Leaflet.awesome-markers/2.0.2/leaflet.awesome-markers.js%22%3E%3C/script%3E%0A%20%20%20%20%3Clink%20rel%3D%22stylesheet%22%20href%3D%22https%3A//cdn.jsdelivr.net/npm/leaflet%401.6.0/dist/leaflet.css%22/%3E%0A%20%20%20%20%3Clink%20rel%3D%22stylesheet%22%20href%3D%22https%3A//maxcdn.bootstrapcdn.com/bootstrap/3.2.0/css/bootstrap.min.css%22/%3E%0A%20%20%20%20%3Clink%20rel%3D%22stylesheet%22%20href%3D%22https%3A//maxcdn.bootstrapcdn.com/bootstrap/3.2.0/css/bootstrap-theme.min.css%22/%3E%0A%20%20%20%20%3Clink%20rel%3D%22stylesheet%22%20href%3D%22https%3A//maxcdn.bootstrapcdn.com/font-awesome/4.6.3/css/font-awesome.min.css%22/%3E%0A%20%20%20%20%3Clink%20rel%3D%22stylesheet%22%20href%3D%22https%3A//cdnjs.cloudflare.com/ajax/libs/Leaflet.awesome-markers/2.0.2/leaflet.awesome-markers.css%22/%3E%0A%20%20%20%20%3Clink%20rel%3D%22stylesheet%22%20href%3D%22https%3A//rawcdn.githack.com/python-visualization/folium/master/folium/templates/leaflet.awesome.rotate.css%22/%3E%0A%20%20%20%20%3Cstyle%3Ehtml%2C%20body%20%7Bwidth%3A%20100%25%3Bheight%3A%20100%25%3Bmargin%3A%200%3Bpadding%3A%200%3B%7D%3C/style%3E%0A%20%20%20%20%3Cstyle%3E%23map%20%7Bposition%3Aabsolute%3Btop%3A0%3Bbottom%3A0%3Bright%3A0%3Bleft%3A0%3B%7D%3C/style%3E%0A%20%20%20%20%0A%20%20%20%20%20%20%20%20%20%20%20%20%3Cmeta%20name%3D%22viewport%22%20content%3D%22width%3Ddevice-width%2C%0A%20%20%20%20%20%20%20%20%20%20%20%20%20%20%20%20initial-scale%3D1.0%2C%20maximum-scale%3D1.0%2C%20user-scalable%3Dno%22%20/%3E%0A%20%20%20%20%20%20%20%20%20%20%20%20%3Cstyle%3E%0A%20%20%20%20%20%20%20%20%20%20%20%20%20%20%20%20%23map_575dbebd506148a5bae98217a9239401%20%7B%0A%20%20%20%20%20%20%20%20%20%20%20%20%20%20%20%20%20%20%20%20position%3A%20relative%3B%0A%20%20%20%20%20%20%20%20%20%20%20%20%20%20%20%20%20%20%20%20width%3A%20100.0%25%3B%0A%20%20%20%20%20%20%20%20%20%20%20%20%20%20%20%20%20%20%20%20height%3A%20100.0%25%3B%0A%20%20%20%20%20%20%20%20%20%20%20%20%20%20%20%20%20%20%20%20left%3A%200.0%25%3B%0A%20%20%20%20%20%20%20%20%20%20%20%20%20%20%20%20%20%20%20%20top%3A%200.0%25%3B%0A%20%20%20%20%20%20%20%20%20%20%20%20%20%20%20%20%7D%0A%20%20%20%20%20%20%20%20%20%20%20%20%3C/style%3E%0A%20%20%20%20%20%20%20%20%0A%3C/head%3E%0A%3Cbody%3E%20%20%20%20%0A%20%20%20%20%0A%20%20%20%20%20%20%20%20%20%20%20%20%3Cdiv%20class%3D%22folium-map%22%20id%3D%22map_575dbebd506148a5bae98217a9239401%22%20%3E%3C/div%3E%0A%20%20%20%20%20%20%20%20%0A%3C/body%3E%0A%3Cscript%3E%20%20%20%20%0A%20%20%20%20%0A%20%20%20%20%20%20%20%20%20%20%20%20var%20map_575dbebd506148a5bae98217a9239401%20%3D%20L.map%28%0A%20%20%20%20%20%20%20%20%20%20%20%20%20%20%20%20%22map_575dbebd506148a5bae98217a9239401%22%2C%0A%20%20%20%20%20%20%20%20%20%20%20%20%20%20%20%20%7B%0A%20%20%20%20%20%20%20%20%20%20%20%20%20%20%20%20%20%20%20%20center%3A%20%5B37.540768%2C%20126.8291784%5D%2C%0A%20%20%20%20%20%20%20%20%20%20%20%20%20%20%20%20%20%20%20%20crs%3A%20L.CRS.EPSG3857%2C%0A%20%20%20%20%20%20%20%20%20%20%20%20%20%20%20%20%20%20%20%20zoom%3A%2010.5%2C%0A%20%20%20%20%20%20%20%20%20%20%20%20%20%20%20%20%20%20%20%20zoomControl%3A%20true%2C%0A%20%20%20%20%20%20%20%20%20%20%20%20%20%20%20%20%20%20%20%20preferCanvas%3A%20false%2C%0A%20%20%20%20%20%20%20%20%20%20%20%20%20%20%20%20%7D%0A%20%20%20%20%20%20%20%20%20%20%20%20%29%3B%0A%0A%20%20%20%20%20%20%20%20%20%20%20%20%0A%0A%20%20%20%20%20%20%20%20%0A%20%20%20%20%0A%20%20%20%20%20%20%20%20%20%20%20%20var%20tile_layer_d60adb7b18704f089fa66b8e60188f1e%20%3D%20L.tileLayer%28%0A%20%20%20%20%20%20%20%20%20%20%20%20%20%20%20%20%22https%3A//%7Bs%7D.tile.openstreetmap.org/%7Bz%7D/%7Bx%7D/%7By%7D.png%22%2C%0A%20%20%20%20%20%20%20%20%20%20%20%20%20%20%20%20%7B%22attribution%22%3A%20%22Data%20by%20%5Cu0026copy%3B%20%5Cu003ca%20href%3D%5C%22http%3A//openstreetmap.org%5C%22%5Cu003eOpenStreetMap%5Cu003c/a%5Cu003e%2C%20under%20%5Cu003ca%20href%3D%5C%22http%3A//www.openstreetmap.org/copyright%5C%22%5Cu003eODbL%5Cu003c/a%5Cu003e.%22%2C%20%22detectRetina%22%3A%20false%2C%20%22maxNativeZoom%22%3A%2018%2C%20%22maxZoom%22%3A%2018%2C%20%22minZoom%22%3A%200%2C%20%22noWrap%22%3A%20false%2C%20%22opacity%22%3A%201%2C%20%22subdomains%22%3A%20%22abc%22%2C%20%22tms%22%3A%20false%7D%0A%20%20%20%20%20%20%20%20%20%20%20%20%29.addTo%28map_575dbebd506148a5bae98217a9239401%29%3B%0A%20%20%20%20%20%20%20%20%0A%20%20%20%20%0A%20%20%20%20%20%20%20%20%20%20%20%20var%20marker_ac8fb72ef97c43c98ef7336112ea4ec1%20%3D%20L.marker%28%0A%20%20%20%20%20%20%20%20%20%20%20%20%20%20%20%20%5B37.5315624983884%2C%20126.856035365887%5D%2C%0A%20%20%20%20%20%20%20%20%20%20%20%20%20%20%20%20%7B%7D%0A%20%20%20%20%20%20%20%20%20%20%20%20%29.addTo%28map_575dbebd506148a5bae98217a9239401%29%3B%0A%20%20%20%20%20%20%20%20%0A%20%20%20%20%0A%20%20%20%20%20%20%20%20%20%20%20%20var%20icon_fd290663d53f482c9eb5387d34561647%20%3D%20L.AwesomeMarkers.icon%28%0A%20%20%20%20%20%20%20%20%20%20%20%20%20%20%20%20%7B%22extraClasses%22%3A%20%22fa-rotate-0%22%2C%20%22icon%22%3A%20%22info-sign%22%2C%20%22iconColor%22%3A%20%22white%22%2C%20%22markerColor%22%3A%20%22rad%22%2C%20%22prefix%22%3A%20%22glyphicon%22%7D%0A%20%20%20%20%20%20%20%20%20%20%20%20%29%3B%0A%20%20%20%20%20%20%20%20%20%20%20%20marker_ac8fb72ef97c43c98ef7336112ea4ec1.setIcon%28icon_fd290663d53f482c9eb5387d34561647%29%3B%0A%20%20%20%20%20%20%20%20%0A%20%20%20%20%0A%20%20%20%20%20%20%20%20var%20popup_89c24072a8294ff0804f83e5cae25d1e%20%3D%20L.popup%28%7B%22maxWidth%22%3A%20%22100%25%22%7D%29%3B%0A%0A%20%20%20%20%20%20%20%20%0A%20%20%20%20%20%20%20%20%20%20%20%20var%20html_6a559a9b9ce2402e9e9654e968e96c43%20%3D%20%24%28%60%3Cdiv%20id%3D%22html_6a559a9b9ce2402e9e9654e968e96c43%22%20style%3D%22width%3A%20100.0%25%3B%20height%3A%20100.0%25%3B%22%3E%EC%95%8C%EB%9C%B0%EC%A3%BC%EC%9C%A0%EC%86%8C%3C/div%3E%60%29%5B0%5D%3B%0A%20%20%20%20%20%20%20%20%20%20%20%20popup_89c24072a8294ff0804f83e5cae25d1e.setContent%28html_6a559a9b9ce2402e9e9654e968e96c43%29%3B%0A%20%20%20%20%20%20%20%20%0A%0A%20%20%20%20%20%20%20%20marker_ac8fb72ef97c43c98ef7336112ea4ec1.bindPopup%28popup_89c24072a8294ff0804f83e5cae25d1e%29%0A%20%20%20%20%20%20%20%20%3B%0A%0A%20%20%20%20%20%20%20%20%0A%20%20%20%20%0A%20%20%20%20%0A%20%20%20%20%20%20%20%20%20%20%20%20marker_ac8fb72ef97c43c98ef7336112ea4ec1.bindTooltip%28%0A%20%20%20%20%20%20%20%20%20%20%20%20%20%20%20%20%60%3Cdiv%3E%0A%20%20%20%20%20%20%20%20%20%20%20%20%20%20%20%20%20%20%20%20%20%EB%89%B4%EC%8B%A0%EC%A0%95%EC%A3%BC%EC%9C%A0%EC%86%8C%2C%20%EA%B0%80%EA%B2%A9%3A1243%0A%20%20%20%20%20%20%20%20%20%20%20%20%20%20%20%20%20%3C/div%3E%60%2C%0A%20%20%20%20%20%20%20%20%20%20%20%20%20%20%20%20%7B%22sticky%22%3A%20true%7D%0A%20%20%20%20%20%20%20%20%20%20%20%20%29%3B%0A%20%20%20%20%20%20%20%20%0A%20%20%20%20%0A%20%20%20%20%20%20%20%20%20%20%20%20var%20marker_297c923fb547414aa5fdb74057a28df4%20%3D%20L.marker%28%0A%20%20%20%20%20%20%20%20%20%20%20%20%20%20%20%20%5B37.5407680113225%2C%20126.8414715329%5D%2C%0A%20%20%20%20%20%20%20%20%20%20%20%20%20%20%20%20%7B%7D%0A%20%20%20%20%20%20%20%20%20%20%20%20%29.addTo%28map_575dbebd506148a5bae98217a9239401%29%3B%0A%20%20%20%20%20%20%20%20%0A%20%20%20%20%0A%20%20%20%20%20%20%20%20%20%20%20%20var%20icon_dde1250efde34d33bb491c8bf3bfe082%20%3D%20L.AwesomeMarkers.icon%28%0A%20%20%20%20%20%20%20%20%20%20%20%20%20%20%20%20%7B%22extraClasses%22%3A%20%22fa-rotate-0%22%2C%20%22icon%22%3A%20%22info-sign%22%2C%20%22iconColor%22%3A%20%22white%22%2C%20%22markerColor%22%3A%20%22rad%22%2C%20%22prefix%22%3A%20%22glyphicon%22%7D%0A%20%20%20%20%20%20%20%20%20%20%20%20%29%3B%0A%20%20%20%20%20%20%20%20%20%20%20%20marker_297c923fb547414aa5fdb74057a28df4.setIcon%28icon_dde1250efde34d33bb491c8bf3bfe082%29%3B%0A%20%20%20%20%20%20%20%20%0A%20%20%20%20%0A%20%20%20%20%20%20%20%20var%20popup_752721a2bc814b8881d8e2096af1e3dd%20%3D%20L.popup%28%7B%22maxWidth%22%3A%20%22100%25%22%7D%29%3B%0A%0A%20%20%20%20%20%20%20%20%0A%20%20%20%20%20%20%20%20%20%20%20%20var%20html_537746fc67dd4b64b789747f2fab63ee%20%3D%20%24%28%60%3Cdiv%20id%3D%22html_537746fc67dd4b64b789747f2fab63ee%22%20style%3D%22width%3A%20100.0%25%3B%20height%3A%20100.0%25%3B%22%3E%EC%95%8C%EB%9C%B0%EC%A3%BC%EC%9C%A0%EC%86%8C%3C/div%3E%60%29%5B0%5D%3B%0A%20%20%20%20%20%20%20%20%20%20%20%20popup_752721a2bc814b8881d8e2096af1e3dd.setContent%28html_537746fc67dd4b64b789747f2fab63ee%29%3B%0A%20%20%20%20%20%20%20%20%0A%0A%20%20%20%20%20%20%20%20marker_297c923fb547414aa5fdb74057a28df4.bindPopup%28popup_752721a2bc814b8881d8e2096af1e3dd%29%0A%20%20%20%20%20%20%20%20%3B%0A%0A%20%20%20%20%20%20%20%20%0A%20%20%20%20%0A%20%20%20%20%0A%20%20%20%20%20%20%20%20%20%20%20%20marker_297c923fb547414aa5fdb74057a28df4.bindTooltip%28%0A%20%20%20%20%20%20%20%20%20%20%20%20%20%20%20%20%60%3Cdiv%3E%0A%20%20%20%20%20%20%20%20%20%20%20%20%20%20%20%20%20%20%20%20%20%ED%99%94%EA%B3%A1%EC%97%AD%EC%A3%BC%EC%9C%A0%EC%86%8C%2C%20%EA%B0%80%EA%B2%A9%3A1243%0A%20%20%20%20%20%20%20%20%20%20%20%20%20%20%20%20%20%3C/div%3E%60%2C%0A%20%20%20%20%20%20%20%20%20%20%20%20%20%20%20%20%7B%22sticky%22%3A%20true%7D%0A%20%20%20%20%20%20%20%20%20%20%20%20%29%3B%0A%20%20%20%20%20%20%20%20%0A%20%20%20%20%0A%20%20%20%20%20%20%20%20%20%20%20%20var%20marker_4d86624b79cd4b40b012a76914a3aabf%20%3D%20L.marker%28%0A%20%20%20%20%20%20%20%20%20%20%20%20%20%20%20%20%5B37.5339097605129%2C%20126.829178494291%5D%2C%0A%20%20%20%20%20%20%20%20%20%20%20%20%20%20%20%20%7B%7D%0A%20%20%20%20%20%20%20%20%20%20%20%20%29.addTo%28map_575dbebd506148a5bae98217a9239401%29%3B%0A%20%20%20%20%20%20%20%20%0A%20%20%20%20%0A%20%20%20%20%20%20%20%20%20%20%20%20var%20icon_c0349e18423a42b68157e0f1d0371e56%20%3D%20L.AwesomeMarkers.icon%28%0A%20%20%20%20%20%20%20%20%20%20%20%20%20%20%20%20%7B%22extraClasses%22%3A%20%22fa-rotate-0%22%2C%20%22icon%22%3A%20%22info-sign%22%2C%20%22iconColor%22%3A%20%22white%22%2C%20%22markerColor%22%3A%20%22blue%22%2C%20%22prefix%22%3A%20%22glyphicon%22%7D%0A%20%20%20%20%20%20%20%20%20%20%20%20%29%3B%0A%20%20%20%20%20%20%20%20%20%20%20%20marker_4d86624b79cd4b40b012a76914a3aabf.setIcon%28icon_c0349e18423a42b68157e0f1d0371e56%29%3B%0A%20%20%20%20%20%20%20%20%0A%20%20%20%20%0A%20%20%20%20%20%20%20%20var%20popup_c64bd1078b154f8bb4149dde4faf1d99%20%3D%20L.popup%28%7B%22maxWidth%22%3A%20%22100%25%22%7D%29%3B%0A%0A%20%20%20%20%20%20%20%20%0A%20%20%20%20%20%20%20%20%20%20%20%20var%20html_1b1a7b59696644cdb24a0d8db3bb1f29%20%3D%20%24%28%60%3Cdiv%20id%3D%22html_1b1a7b59696644cdb24a0d8db3bb1f29%22%20style%3D%22width%3A%20100.0%25%3B%20height%3A%20100.0%25%3B%22%3ES-OIL%3C/div%3E%60%29%5B0%5D%3B%0A%20%20%20%20%20%20%20%20%20%20%20%20popup_c64bd1078b154f8bb4149dde4faf1d99.setContent%28html_1b1a7b59696644cdb24a0d8db3bb1f29%29%3B%0A%20%20%20%20%20%20%20%20%0A%0A%20%20%20%20%20%20%20%20marker_4d86624b79cd4b40b012a76914a3aabf.bindPopup%28popup_c64bd1078b154f8bb4149dde4faf1d99%29%0A%20%20%20%20%20%20%20%20%3B%0A%0A%20%20%20%20%20%20%20%20%0A%20%20%20%20%0A%20%20%20%20%0A%20%20%20%20%20%20%20%20%20%20%20%20marker_4d86624b79cd4b40b012a76914a3aabf.bindTooltip%28%0A%20%20%20%20%20%20%20%20%20%20%20%20%20%20%20%20%60%3Cdiv%3E%0A%20%20%20%20%20%20%20%20%20%20%20%20%20%20%20%20%20%20%20%20%20%ED%98%84%EB%8C%80%EC%A3%BC%EC%9C%A0%EC%86%8C%2C%20%EA%B0%80%EA%B2%A9%3A1249%0A%20%20%20%20%20%20%20%20%20%20%20%20%20%20%20%20%20%3C/div%3E%60%2C%0A%20%20%20%20%20%20%20%20%20%20%20%20%20%20%20%20%7B%22sticky%22%3A%20true%7D%0A%20%20%20%20%20%20%20%20%20%20%20%20%29%3B%0A%20%20%20%20%20%20%20%20%0A%20%20%20%20%0A%20%20%20%20%20%20%20%20%20%20%20%20var%20marker_5be520e927a34165bd963e634f051e24%20%3D%20L.marker%28%0A%20%20%20%20%20%20%20%20%20%20%20%20%20%20%20%20%5B37.5311594818326%2C%20126.831011469112%5D%2C%0A%20%20%20%20%20%20%20%20%20%20%20%20%20%20%20%20%7B%7D%0A%20%20%20%20%20%20%20%20%20%20%20%20%29.addTo%28map_575dbebd506148a5bae98217a9239401%29%3B%0A%20%20%20%20%20%20%20%20%0A%20%20%20%20%0A%20%20%20%20%20%20%20%20%20%20%20%20var%20icon_ad2d2f39efcd412eb9f392d5c8df3525%20%3D%20L.AwesomeMarkers.icon%28%0A%20%20%20%20%20%20%20%20%20%20%20%20%20%20%20%20%7B%22extraClasses%22%3A%20%22fa-rotate-0%22%2C%20%22icon%22%3A%20%22info-sign%22%2C%20%22iconColor%22%3A%20%22white%22%2C%20%22markerColor%22%3A%20%22blue%22%2C%20%22prefix%22%3A%20%22glyphicon%22%7D%0A%20%20%20%20%20%20%20%20%20%20%20%20%29%3B%0A%20%20%20%20%20%20%20%20%20%20%20%20marker_5be520e927a34165bd963e634f051e24.setIcon%28icon_ad2d2f39efcd412eb9f392d5c8df3525%29%3B%0A%20%20%20%20%20%20%20%20%0A%20%20%20%20%0A%20%20%20%20%20%20%20%20var%20popup_cf94474506684092adb87d173e20704d%20%3D%20L.popup%28%7B%22maxWidth%22%3A%20%22100%25%22%7D%29%3B%0A%0A%20%20%20%20%20%20%20%20%0A%20%20%20%20%20%20%20%20%20%20%20%20var%20html_6cef4dff46da45f7b7d45a4f0c51f75f%20%3D%20%24%28%60%3Cdiv%20id%3D%22html_6cef4dff46da45f7b7d45a4f0c51f75f%22%20style%3D%22width%3A%20100.0%25%3B%20height%3A%20100.0%25%3B%22%3E%ED%98%84%EB%8C%80%EC%98%A4%EC%9D%BC%EB%B1%85%ED%81%AC%3C/div%3E%60%29%5B0%5D%3B%0A%20%20%20%20%20%20%20%20%20%20%20%20popup_cf94474506684092adb87d173e20704d.setContent%28html_6cef4dff46da45f7b7d45a4f0c51f75f%29%3B%0A%20%20%20%20%20%20%20%20%0A%0A%20%20%20%20%20%20%20%20marker_5be520e927a34165bd963e634f051e24.bindPopup%28popup_cf94474506684092adb87d173e20704d%29%0A%20%20%20%20%20%20%20%20%3B%0A%0A%20%20%20%20%20%20%20%20%0A%20%20%20%20%0A%20%20%20%20%0A%20%20%20%20%20%20%20%20%20%20%20%20marker_5be520e927a34165bd963e634f051e24.bindTooltip%28%0A%20%20%20%20%20%20%20%20%20%20%20%20%20%20%20%20%60%3Cdiv%3E%0A%20%20%20%20%20%20%20%20%20%20%20%20%20%20%20%20%20%20%20%20%20%ED%98%95%EC%82%B0%EC%84%9D%EC%9C%A0%28%EC%A3%BC%29%EC%9B%90%EC%A3%BC%EC%9C%A0%EC%86%8C%2C%20%EA%B0%80%EA%B2%A9%3A1249%0A%20%20%20%20%20%20%20%20%20%20%20%20%20%20%20%20%20%3C/div%3E%60%2C%0A%20%20%20%20%20%20%20%20%20%20%20%20%20%20%20%20%7B%22sticky%22%3A%20true%7D%0A%20%20%20%20%20%20%20%20%20%20%20%20%29%3B%0A%20%20%20%20%20%20%20%20%0A%20%20%20%20%0A%20%20%20%20%20%20%20%20%20%20%20%20var%20marker_e5fd358b1e1641a197bdf90feced0390%20%3D%20L.marker%28%0A%20%20%20%20%20%20%20%20%20%20%20%20%20%20%20%20%5B37.5282624685753%2C%20126.832956410977%5D%2C%0A%20%20%20%20%20%20%20%20%20%20%20%20%20%20%20%20%7B%7D%0A%20%20%20%20%20%20%20%20%20%20%20%20%29.addTo%28map_575dbebd506148a5bae98217a9239401%29%3B%0A%20%20%20%20%20%20%20%20%0A%20%20%20%20%0A%20%20%20%20%20%20%20%20%20%20%20%20var%20icon_00f3c3999ffd4c6f9d4783bcbeb472f8%20%3D%20L.AwesomeMarkers.icon%28%0A%20%20%20%20%20%20%20%20%20%20%20%20%20%20%20%20%7B%22extraClasses%22%3A%20%22fa-rotate-0%22%2C%20%22icon%22%3A%20%22info-sign%22%2C%20%22iconColor%22%3A%20%22white%22%2C%20%22markerColor%22%3A%20%22blue%22%2C%20%22prefix%22%3A%20%22glyphicon%22%7D%0A%20%20%20%20%20%20%20%20%20%20%20%20%29%3B%0A%20%20%20%20%20%20%20%20%20%20%20%20marker_e5fd358b1e1641a197bdf90feced0390.setIcon%28icon_00f3c3999ffd4c6f9d4783bcbeb472f8%29%3B%0A%20%20%20%20%20%20%20%20%0A%20%20%20%20%0A%20%20%20%20%20%20%20%20var%20popup_ec1095b052de4f6f8013c1d2d371bd0f%20%3D%20L.popup%28%7B%22maxWidth%22%3A%20%22100%25%22%7D%29%3B%0A%0A%20%20%20%20%20%20%20%20%0A%20%20%20%20%20%20%20%20%20%20%20%20var%20html_1fc56ad8aff04d5397d3e02a0c0c7fc9%20%3D%20%24%28%60%3Cdiv%20id%3D%22html_1fc56ad8aff04d5397d3e02a0c0c7fc9%22%20style%3D%22width%3A%20100.0%25%3B%20height%3A%20100.0%25%3B%22%3ESK%EC%97%90%EB%84%88%EC%A7%80%3C/div%3E%60%29%5B0%5D%3B%0A%20%20%20%20%20%20%20%20%20%20%20%20popup_ec1095b052de4f6f8013c1d2d371bd0f.setContent%28html_1fc56ad8aff04d5397d3e02a0c0c7fc9%29%3B%0A%20%20%20%20%20%20%20%20%0A%0A%20%20%20%20%20%20%20%20marker_e5fd358b1e1641a197bdf90feced0390.bindPopup%28popup_ec1095b052de4f6f8013c1d2d371bd0f%29%0A%20%20%20%20%20%20%20%20%3B%0A%0A%20%20%20%20%20%20%20%20%0A%20%20%20%20%0A%20%20%20%20%0A%20%20%20%20%20%20%20%20%20%20%20%20marker_e5fd358b1e1641a197bdf90feced0390.bindTooltip%28%0A%20%20%20%20%20%20%20%20%20%20%20%20%20%20%20%20%60%3Cdiv%3E%0A%20%20%20%20%20%20%20%20%20%20%20%20%20%20%20%20%20%20%20%20%20%EA%B0%9C%EB%82%98%EB%A6%ACSelf%EC%A3%BC%EC%9C%A0%EC%86%8C%2C%20%EA%B0%80%EA%B2%A9%3A1249%0A%20%20%20%20%20%20%20%20%20%20%20%20%20%20%20%20%20%3C/div%3E%60%2C%0A%20%20%20%20%20%20%20%20%20%20%20%20%20%20%20%20%7B%22sticky%22%3A%20true%7D%0A%20%20%20%20%20%20%20%20%20%20%20%20%29%3B%0A%20%20%20%20%20%20%20%20%0A%20%20%20%20%0A%20%20%20%20%20%20%20%20%20%20%20%20var%20marker_777adf3312d04fbabe9a23a34f1b439d%20%3D%20L.marker%28%0A%20%20%20%20%20%20%20%20%20%20%20%20%20%20%20%20%5B37.5370203692233%2C%20126.834298807985%5D%2C%0A%20%20%20%20%20%20%20%20%20%20%20%20%20%20%20%20%7B%7D%0A%20%20%20%20%20%20%20%20%20%20%20%20%29.addTo%28map_575dbebd506148a5bae98217a9239401%29%3B%0A%20%20%20%20%20%20%20%20%0A%20%20%20%20%0A%20%20%20%20%20%20%20%20%20%20%20%20var%20icon_5491c16421ac451798b7a54c6bf84f2b%20%3D%20L.AwesomeMarkers.icon%28%0A%20%20%20%20%20%20%20%20%20%20%20%20%20%20%20%20%7B%22extraClasses%22%3A%20%22fa-rotate-0%22%2C%20%22icon%22%3A%20%22info-sign%22%2C%20%22iconColor%22%3A%20%22white%22%2C%20%22markerColor%22%3A%20%22blue%22%2C%20%22prefix%22%3A%20%22glyphicon%22%7D%0A%20%20%20%20%20%20%20%20%20%20%20%20%29%3B%0A%20%20%20%20%20%20%20%20%20%20%20%20marker_777adf3312d04fbabe9a23a34f1b439d.setIcon%28icon_5491c16421ac451798b7a54c6bf84f2b%29%3B%0A%20%20%20%20%20%20%20%20%0A%20%20%20%20%0A%20%20%20%20%20%20%20%20var%20popup_955e959576004f96a8d5d3ea580c1b0e%20%3D%20L.popup%28%7B%22maxWidth%22%3A%20%22100%25%22%7D%29%3B%0A%0A%20%20%20%20%20%20%20%20%0A%20%20%20%20%20%20%20%20%20%20%20%20var%20html_bec99d4d0f434b36a8eebe65a933d291%20%3D%20%24%28%60%3Cdiv%20id%3D%22html_bec99d4d0f434b36a8eebe65a933d291%22%20style%3D%22width%3A%20100.0%25%3B%20height%3A%20100.0%25%3B%22%3ESK%EC%97%90%EB%84%88%EC%A7%80%3C/div%3E%60%29%5B0%5D%3B%0A%20%20%20%20%20%20%20%20%20%20%20%20popup_955e959576004f96a8d5d3ea580c1b0e.setContent%28html_bec99d4d0f434b36a8eebe65a933d291%29%3B%0A%20%20%20%20%20%20%20%20%0A%0A%20%20%20%20%20%20%20%20marker_777adf3312d04fbabe9a23a34f1b439d.bindPopup%28popup_955e959576004f96a8d5d3ea580c1b0e%29%0A%20%20%20%20%20%20%20%20%3B%0A%0A%20%20%20%20%20%20%20%20%0A%20%20%20%20%0A%20%20%20%20%0A%20%20%20%20%20%20%20%20%20%20%20%20marker_777adf3312d04fbabe9a23a34f1b439d.bindTooltip%28%0A%20%20%20%20%20%20%20%20%20%20%20%20%20%20%20%20%60%3Cdiv%3E%0A%20%20%20%20%20%20%20%20%20%20%20%20%20%20%20%20%20%20%20%20%20%EA%B0%80%EB%A1%9C%EA%B3%B5%EC%9B%90%EC%A3%BC%EC%9C%A0%EC%86%8C%2C%20%EA%B0%80%EA%B2%A9%3A1249%0A%20%20%20%20%20%20%20%20%20%20%20%20%20%20%20%20%20%3C/div%3E%60%2C%0A%20%20%20%20%20%20%20%20%20%20%20%20%20%20%20%20%7B%22sticky%22%3A%20true%7D%0A%20%20%20%20%20%20%20%20%20%20%20%20%29%3B%0A%20%20%20%20%20%20%20%20%0A%20%20%20%20%0A%20%20%20%20%20%20%20%20%20%20%20%20var%20marker_b5512fdd64954848ba8308c3ea806130%20%3D%20L.marker%28%0A%20%20%20%20%20%20%20%20%20%20%20%20%20%20%20%20%5B37.5303725461437%2C%20126.865511835584%5D%2C%0A%20%20%20%20%20%20%20%20%20%20%20%20%20%20%20%20%7B%7D%0A%20%20%20%20%20%20%20%20%20%20%20%20%29.addTo%28map_575dbebd506148a5bae98217a9239401%29%3B%0A%20%20%20%20%20%20%20%20%0A%20%20%20%20%0A%20%20%20%20%20%20%20%20%20%20%20%20var%20icon_768727280664411cb3ebb72996be5c9f%20%3D%20L.AwesomeMarkers.icon%28%0A%20%20%20%20%20%20%20%20%20%20%20%20%20%20%20%20%7B%22extraClasses%22%3A%20%22fa-rotate-0%22%2C%20%22icon%22%3A%20%22info-sign%22%2C%20%22iconColor%22%3A%20%22white%22%2C%20%22markerColor%22%3A%20%22blue%22%2C%20%22prefix%22%3A%20%22glyphicon%22%7D%0A%20%20%20%20%20%20%20%20%20%20%20%20%29%3B%0A%20%20%20%20%20%20%20%20%20%20%20%20marker_b5512fdd64954848ba8308c3ea806130.setIcon%28icon_768727280664411cb3ebb72996be5c9f%29%3B%0A%20%20%20%20%20%20%20%20%0A%20%20%20%20%0A%20%20%20%20%20%20%20%20var%20popup_0780bcff8aa1460daba0639ebb30ab4e%20%3D%20L.popup%28%7B%22maxWidth%22%3A%20%22100%25%22%7D%29%3B%0A%0A%20%20%20%20%20%20%20%20%0A%20%20%20%20%20%20%20%20%20%20%20%20var%20html_4d842ac307844fde9834e0e864a509d2%20%3D%20%24%28%60%3Cdiv%20id%3D%22html_4d842ac307844fde9834e0e864a509d2%22%20style%3D%22width%3A%20100.0%25%3B%20height%3A%20100.0%25%3B%22%3E%EC%95%8C%EB%9C%B0%EC%A3%BC%EC%9C%A0%EC%86%8C%3C/div%3E%60%29%5B0%5D%3B%0A%20%20%20%20%20%20%20%20%20%20%20%20popup_0780bcff8aa1460daba0639ebb30ab4e.setContent%28html_4d842ac307844fde9834e0e864a509d2%29%3B%0A%20%20%20%20%20%20%20%20%0A%0A%20%20%20%20%20%20%20%20marker_b5512fdd64954848ba8308c3ea806130.bindPopup%28popup_0780bcff8aa1460daba0639ebb30ab4e%29%0A%20%20%20%20%20%20%20%20%3B%0A%0A%20%20%20%20%20%20%20%20%0A%20%20%20%20%0A%20%20%20%20%0A%20%20%20%20%20%20%20%20%20%20%20%20marker_b5512fdd64954848ba8308c3ea806130.bindTooltip%28%0A%20%20%20%20%20%20%20%20%20%20%20%20%20%20%20%20%60%3Cdiv%3E%0A%20%20%20%20%20%20%20%20%20%20%20%20%20%20%20%20%20%20%20%20%20%EC%96%91%EC%B2%9C%EA%B5%AC%EC%A3%BC%EC%9C%A0%EC%86%8C%2C%20%EA%B0%80%EA%B2%A9%3A1259%0A%20%20%20%20%20%20%20%20%20%20%20%20%20%20%20%20%20%3C/div%3E%60%2C%0A%20%20%20%20%20%20%20%20%20%20%20%20%20%20%20%20%7B%22sticky%22%3A%20true%7D%0A%20%20%20%20%20%20%20%20%20%20%20%20%29%3B%0A%20%20%20%20%20%20%20%20%0A%20%20%20%20%0A%20%20%20%20%20%20%20%20%20%20%20%20var%20marker_7c8c9f0ae06c421494aaabdf3247ec2a%20%3D%20L.marker%28%0A%20%20%20%20%20%20%20%20%20%20%20%20%20%20%20%20%5B37.5655628801505%2C%20126.812436402704%5D%2C%0A%20%20%20%20%20%20%20%20%20%20%20%20%20%20%20%20%7B%7D%0A%20%20%20%20%20%20%20%20%20%20%20%20%29.addTo%28map_575dbebd506148a5bae98217a9239401%29%3B%0A%20%20%20%20%20%20%20%20%0A%20%20%20%20%0A%20%20%20%20%20%20%20%20%20%20%20%20var%20icon_288d8a7b26454ceaa5dd51bc2bc967b0%20%3D%20L.AwesomeMarkers.icon%28%0A%20%20%20%20%20%20%20%20%20%20%20%20%20%20%20%20%7B%22extraClasses%22%3A%20%22fa-rotate-0%22%2C%20%22icon%22%3A%20%22info-sign%22%2C%20%22iconColor%22%3A%20%22white%22%2C%20%22markerColor%22%3A%20%22blue%22%2C%20%22prefix%22%3A%20%22glyphicon%22%7D%0A%20%20%20%20%20%20%20%20%20%20%20%20%29%3B%0A%20%20%20%20%20%20%20%20%20%20%20%20marker_7c8c9f0ae06c421494aaabdf3247ec2a.setIcon%28icon_288d8a7b26454ceaa5dd51bc2bc967b0%29%3B%0A%20%20%20%20%20%20%20%20%0A%20%20%20%20%0A%20%20%20%20%20%20%20%20var%20popup_a95361d1a5db4585a1ae396a2912d22d%20%3D%20L.popup%28%7B%22maxWidth%22%3A%20%22100%25%22%7D%29%3B%0A%0A%20%20%20%20%20%20%20%20%0A%20%20%20%20%20%20%20%20%20%20%20%20var%20html_259d5707d98c4528898dc4538c3f0daa%20%3D%20%24%28%60%3Cdiv%20id%3D%22html_259d5707d98c4528898dc4538c3f0daa%22%20style%3D%22width%3A%20100.0%25%3B%20height%3A%20100.0%25%3B%22%3ESK%EC%97%90%EB%84%88%EC%A7%80%3C/div%3E%60%29%5B0%5D%3B%0A%20%20%20%20%20%20%20%20%20%20%20%20popup_a95361d1a5db4585a1ae396a2912d22d.setContent%28html_259d5707d98c4528898dc4538c3f0daa%29%3B%0A%20%20%20%20%20%20%20%20%0A%0A%20%20%20%20%20%20%20%20marker_7c8c9f0ae06c421494aaabdf3247ec2a.bindPopup%28popup_a95361d1a5db4585a1ae396a2912d22d%29%0A%20%20%20%20%20%20%20%20%3B%0A%0A%20%20%20%20%20%20%20%20%0A%20%20%20%20%0A%20%20%20%20%0A%20%20%20%20%20%20%20%20%20%20%20%20marker_7c8c9f0ae06c421494aaabdf3247ec2a.bindTooltip%28%0A%20%20%20%20%20%20%20%20%20%20%20%20%20%20%20%20%60%3Cdiv%3E%0A%20%20%20%20%20%20%20%20%20%20%20%20%20%20%20%20%20%20%20%20%20%EB%B0%A9%ED%99%94%EC%A3%BC%EC%9C%A0%EC%86%8C%2C%20%EA%B0%80%EA%B2%A9%3A1263%0A%20%20%20%20%20%20%20%20%20%20%20%20%20%20%20%20%20%3C/div%3E%60%2C%0A%20%20%20%20%20%20%20%20%20%20%20%20%20%20%20%20%7B%22sticky%22%3A%20true%7D%0A%20%20%20%20%20%20%20%20%20%20%20%20%29%3B%0A%20%20%20%20%20%20%20%20%0A%20%20%20%20%0A%20%20%20%20%20%20%20%20%20%20%20%20var%20marker_72a13ea7826b4e47b93ea4b8f65ddc36%20%3D%20L.marker%28%0A%20%20%20%20%20%20%20%20%20%20%20%20%20%20%20%20%5B37.5743411065587%2C%20126.802289394945%5D%2C%0A%20%20%20%20%20%20%20%20%20%20%20%20%20%20%20%20%7B%7D%0A%20%20%20%20%20%20%20%20%20%20%20%20%29.addTo%28map_575dbebd506148a5bae98217a9239401%29%3B%0A%20%20%20%20%20%20%20%20%0A%20%20%20%20%0A%20%20%20%20%20%20%20%20%20%20%20%20var%20icon_eb6233dfd931497795e4c44b99b2681c%20%3D%20L.AwesomeMarkers.icon%28%0A%20%20%20%20%20%20%20%20%20%20%20%20%20%20%20%20%7B%22extraClasses%22%3A%20%22fa-rotate-0%22%2C%20%22icon%22%3A%20%22info-sign%22%2C%20%22iconColor%22%3A%20%22white%22%2C%20%22markerColor%22%3A%20%22blue%22%2C%20%22prefix%22%3A%20%22glyphicon%22%7D%0A%20%20%20%20%20%20%20%20%20%20%20%20%29%3B%0A%20%20%20%20%20%20%20%20%20%20%20%20marker_72a13ea7826b4e47b93ea4b8f65ddc36.setIcon%28icon_eb6233dfd931497795e4c44b99b2681c%29%3B%0A%20%20%20%20%20%20%20%20%0A%20%20%20%20%0A%20%20%20%20%20%20%20%20var%20popup_033cf584f5d94245af6105ec2d108ee1%20%3D%20L.popup%28%7B%22maxWidth%22%3A%20%22100%25%22%7D%29%3B%0A%0A%20%20%20%20%20%20%20%20%0A%20%20%20%20%20%20%20%20%20%20%20%20var%20html_5123d04df8ac4e9fb1971bc6bd82e624%20%3D%20%24%28%60%3Cdiv%20id%3D%22html_5123d04df8ac4e9fb1971bc6bd82e624%22%20style%3D%22width%3A%20100.0%25%3B%20height%3A%20100.0%25%3B%22%3E%ED%98%84%EB%8C%80%EC%98%A4%EC%9D%BC%EB%B1%85%ED%81%AC%3C/div%3E%60%29%5B0%5D%3B%0A%20%20%20%20%20%20%20%20%20%20%20%20popup_033cf584f5d94245af6105ec2d108ee1.setContent%28html_5123d04df8ac4e9fb1971bc6bd82e624%29%3B%0A%20%20%20%20%20%20%20%20%0A%0A%20%20%20%20%20%20%20%20marker_72a13ea7826b4e47b93ea4b8f65ddc36.bindPopup%28popup_033cf584f5d94245af6105ec2d108ee1%29%0A%20%20%20%20%20%20%20%20%3B%0A%0A%20%20%20%20%20%20%20%20%0A%20%20%20%20%0A%20%20%20%20%0A%20%20%20%20%20%20%20%20%20%20%20%20marker_72a13ea7826b4e47b93ea4b8f65ddc36.bindTooltip%28%0A%20%20%20%20%20%20%20%20%20%20%20%20%20%20%20%20%60%3Cdiv%3E%0A%20%20%20%20%20%20%20%20%20%20%20%20%20%20%20%20%20%20%20%20%20%ED%96%89%EC%B4%8C%EC%97%90%EB%84%88%EC%A7%80%20%EA%B3%B5%ED%95%AD%EC%A3%BC%EC%9C%A0%EC%86%8C%2C%20%EA%B0%80%EA%B2%A9%3A1264%0A%20%20%20%20%20%20%20%20%20%20%20%20%20%20%20%20%20%3C/div%3E%60%2C%0A%20%20%20%20%20%20%20%20%20%20%20%20%20%20%20%20%7B%22sticky%22%3A%20true%7D%0A%20%20%20%20%20%20%20%20%20%20%20%20%29%3B%0A%20%20%20%20%20%20%20%20%0A%20%20%20%20%0A%20%20%20%20%20%20%20%20%20%20%20%20var%20marker_ebd529fbba9749f2ab52db0da0c5cc94%20%3D%20L.marker%28%0A%20%20%20%20%20%20%20%20%20%20%20%20%20%20%20%20%5B37.5539472043373%2C%20126.768359086323%5D%2C%0A%20%20%20%20%20%20%20%20%20%20%20%20%20%20%20%20%7B%7D%0A%20%20%20%20%20%20%20%20%20%20%20%20%29.addTo%28map_575dbebd506148a5bae98217a9239401%29%3B%0A%20%20%20%20%20%20%20%20%0A%20%20%20%20%0A%20%20%20%20%20%20%20%20%20%20%20%20var%20icon_44cf85b9687942d1a3fbfc84355fcee8%20%3D%20L.AwesomeMarkers.icon%28%0A%20%20%20%20%20%20%20%20%20%20%20%20%20%20%20%20%7B%22extraClasses%22%3A%20%22fa-rotate-0%22%2C%20%22icon%22%3A%20%22info-sign%22%2C%20%22iconColor%22%3A%20%22white%22%2C%20%22markerColor%22%3A%20%22blue%22%2C%20%22prefix%22%3A%20%22glyphicon%22%7D%0A%20%20%20%20%20%20%20%20%20%20%20%20%29%3B%0A%20%20%20%20%20%20%20%20%20%20%20%20marker_ebd529fbba9749f2ab52db0da0c5cc94.setIcon%28icon_44cf85b9687942d1a3fbfc84355fcee8%29%3B%0A%20%20%20%20%20%20%20%20%0A%20%20%20%20%0A%20%20%20%20%20%20%20%20var%20popup_88c1b6dfde0341e4ae47a3bb09521a10%20%3D%20L.popup%28%7B%22maxWidth%22%3A%20%22100%25%22%7D%29%3B%0A%0A%20%20%20%20%20%20%20%20%0A%20%20%20%20%20%20%20%20%20%20%20%20var%20html_6381953f05ae4f8db051455a77367f8a%20%3D%20%24%28%60%3Cdiv%20id%3D%22html_6381953f05ae4f8db051455a77367f8a%22%20style%3D%22width%3A%20100.0%25%3B%20height%3A%20100.0%25%3B%22%3ESK%EC%97%90%EB%84%88%EC%A7%80%3C/div%3E%60%29%5B0%5D%3B%0A%20%20%20%20%20%20%20%20%20%20%20%20popup_88c1b6dfde0341e4ae47a3bb09521a10.setContent%28html_6381953f05ae4f8db051455a77367f8a%29%3B%0A%20%20%20%20%20%20%20%20%0A%0A%20%20%20%20%20%20%20%20marker_ebd529fbba9749f2ab52db0da0c5cc94.bindPopup%28popup_88c1b6dfde0341e4ae47a3bb09521a10%29%0A%20%20%20%20%20%20%20%20%3B%0A%0A%20%20%20%20%20%20%20%20%0A%20%20%20%20%0A%20%20%20%20%0A%20%20%20%20%20%20%20%20%20%20%20%20marker_ebd529fbba9749f2ab52db0da0c5cc94.bindTooltip%28%0A%20%20%20%20%20%20%20%20%20%20%20%20%20%20%20%20%60%3Cdiv%3E%0A%20%20%20%20%20%20%20%20%20%20%20%20%20%20%20%20%20%20%20%20%20%EA%B0%95%EC%84%9C%EC%98%A4%EA%B3%A1%EC%85%80%ED%94%84%EC%A3%BC%EC%9C%A0%EC%86%8C%2C%20%EA%B0%80%EA%B2%A9%3A1265%0A%20%20%20%20%20%20%20%20%20%20%20%20%20%20%20%20%20%3C/div%3E%60%2C%0A%20%20%20%20%20%20%20%20%20%20%20%20%20%20%20%20%7B%22sticky%22%3A%20true%7D%0A%20%20%20%20%20%20%20%20%20%20%20%20%29%3B%0A%20%20%20%20%20%20%20%20%0A%3C/script%3E onload=\"this.contentDocument.open();this.contentDocument.write(    decodeURIComponent(this.getAttribute('data-html')));this.contentDocument.close();\" allowfullscreen webkitallowfullscreen mozallowfullscreen></iframe></div></div>"
     },
     "metadata": {},
     "execution_count": 84
    }
   ],
   "source": [
    "map = folium.Map(location=[37.5407680,126.8291784], zoom_start=10.5)\n",
    "\n",
    "for s in st1.index:\n",
    "    location = [st1.lat[s], st1.lng[s]]\n",
    "    popup = st1.상표[s]\n",
    "    tooltip = f'{st1.상호[s]}, 가격:{st1.휘발유[s]}'\n",
    "\n",
    "    if st1['휘발유'][s] == 1243:\n",
    "        color='rad'\n",
    "    else:\n",
    "        color='blue'\n",
    "    folium.Marker(location,popup, tooltip, icon=folium.Icon(color=color)\n",
    "    ).add_to(map)\n",
    "map"
   ]
  },
  {
   "cell_type": "code",
   "execution_count": null,
   "metadata": {},
   "outputs": [],
   "source": []
  }
 ]
}